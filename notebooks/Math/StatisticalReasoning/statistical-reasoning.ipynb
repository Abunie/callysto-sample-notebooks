{
 "cells": [
  {
   "cell_type": "markdown",
   "metadata": {},
   "source": [
    "<img src=\"../../images/Callysto_Notebook-Banner_Top_06.06.18.jpg\"/>"
   ]
  },
  {
   "cell_type": "code",
   "execution_count": null,
   "metadata": {},
   "outputs": [],
   "source": [
    "import numpy as np\n",
    "import pandas as pd\n",
    "from scipy import stats\n",
    "from IPython.display import HTML\n",
    "\n",
    "import plotly.offline as py\n",
    "import plotly.tools as tls\n",
    "import plotly.figure_factory as ff\n",
    "from plotly import graph_objs as go\n",
    "\n",
    "import matplotlib.pylab as plt\n",
    "from matplotlib.backends.backend_agg import FigureCanvasAgg as FigureCanvas\n",
    "\n",
    "import ipywidgets as widgets\n",
    "from IPython.display import display, Math, Latex, clear_output\n",
    "\n",
    "\n",
    "# These options allow plots to display.\n",
    "py.init_notebook_mode(connected=True)\n",
    "fig = plt.Figure()\n",
    "ax = fig.gca()\n",
    "canvas = FigureCanvas(fig)\n",
    "\n",
    "hide_me = ''\n",
    "HTML('''<script>\n",
    "code_show=true; \n",
    "function code_toggle() {\n",
    "  if (code_show) {\n",
    "    $('div.input').each(function(id) {\n",
    "      el = $(this).find('.cm-variable:first');\n",
    "      if (id == 0 || el.text() == 'hide_me') {\n",
    "        $(this).hide();\n",
    "      }\n",
    "    });\n",
    "    $('div.output_prompt').css('opacity', 0);\n",
    "  } else {\n",
    "    $('div.input').each(function(id) {\n",
    "      $(this).show();\n",
    "    });\n",
    "    $('div.output_prompt').css('opacity', 1);\n",
    "  }\n",
    "  code_show = !code_show\n",
    "} \n",
    "$( document ).ready(code_toggle);\n",
    "</script>\n",
    "<form action=\"javascript:code_toggle()\"><input style=\"opacity:0\" type=\"submit\" value=\"Click here to toggle on/off the raw code.\"></form>''')"
   ]
  },
  {
   "cell_type": "markdown",
   "metadata": {},
   "source": [
    "# Introduction\n",
    "\n",
    "Jerry Sokoloski is a Canadian actor and former basketball player. At 7'4\" (2.24 m) he is also Canada's tallest man! \n",
    "\n",
    "https://en.wikipedia.org/wiki/Jerry_Sokoloski"
   ]
  },
  {
   "cell_type": "markdown",
   "metadata": {},
   "source": [
    "![jerry](images/jerry.jpg)\n",
    "*Jerry Sokoloski walking down the street in Toronto. Photo credit: STAN BEHAL/Toronto Sun.*"
   ]
  },
  {
   "cell_type": "markdown",
   "metadata": {},
   "source": [
    "Ok, so 7'4\" seems really tall, right? What if we want to find out how Jerry - ahem - *measures up* to the rest of the Canadian population of adult men? For that task, we're going to need some more information."
   ]
  },
  {
   "cell_type": "markdown",
   "metadata": {},
   "source": [
    "# Background\n",
    "\n",
    "We can find out just how out*stand*ing Jerry is by comparing his height to thousands of other men's heights. We'll use Python to load in some data made available by the 2016 Center for Disease Control (CDC) National Health Interview Survey."
   ]
  },
  {
   "cell_type": "code",
   "execution_count": null,
   "metadata": {},
   "outputs": [],
   "source": [
    "# Load in the data.\n",
    "data = pd.read_csv('data/samadult.csv')\n",
    "\n",
    "# We only want men's heights, so we'll remove the women's heights.\n",
    "data = data[data.SEX != 2]\n",
    "\n",
    "# We'll only use the variable called 'AHEIGHT' (adult height).\n",
    "data = data.AHEIGHT\n",
    "\n",
    "# This dataset uses the codes 96, 97, 98, and 99 for missing entries.\n",
    "# We'll remove any missing height data.\n",
    "data = data[data < 96]\n",
    "\n",
    "print('Height data loaded with ' + str(data.index[-1]) + ' entries.')"
   ]
  },
  {
   "cell_type": "markdown",
   "metadata": {},
   "source": [
    "As you may have guessed from the Python output, we are going to compare Jerry's height to 33027 other men. The heights of these men were collected in the United States, but since the average height of Americans can be expected to be the same as the average height of Canadians, we will not worry about this.\n",
    "\n",
    "Now we'll make a **histogram** of the men's height data. This is done by a process called *binning*. To *bin* the men's heights, we just count up every height within a predetermined interval. For example, we count up every height that is between 60-62 inches (remember, these are American measurements!). After this, count every height between 62-64 inches, and so on."
   ]
  },
  {
   "cell_type": "code",
   "execution_count": null,
   "metadata": {},
   "outputs": [],
   "source": [
    "hist_data = [data]\n",
    "group_labels = [\"Men's Height\"]\n",
    "\n",
    "# Change y-label scaling.\n",
    "\n",
    "fig = ff.create_distplot(hist_data, group_labels, show_rug=False, bin_size=1)\n",
    "py.iplot(fig)"
   ]
  },
  {
   "cell_type": "markdown",
   "metadata": {},
   "source": [
    "The shape of this histogram may not seem very special, but it is! When a histogram has a large bump in the middle and smaller values at either end, we say that the data are **normally** distributed. When a dataset is **normally** distributed, we can do all kinds of analysis on it."
   ]
  },
  {
   "cell_type": "markdown",
   "metadata": {},
   "source": [
    "Let's leave this example for a few minutes to explore a bit more about normal distributions."
   ]
  },
  {
   "cell_type": "markdown",
   "metadata": {},
   "source": [
    "## Normal Distributions\n",
    "\n",
    "You've probably heard the term 'bell curve' at some point. This is *the* normal distribution! It's an ideal model for any normally distributed dataset. \n",
    "\n",
    "Using the NumPy random module, let's generate a normal distribution by looking at the histogram of 5000 randomly generated numbers."
   ]
  },
  {
   "cell_type": "code",
   "execution_count": null,
   "metadata": {},
   "outputs": [],
   "source": [
    "norm = np.random.randn(5000)\n",
    "\n",
    "hist_norm = [norm]\n",
    "labels = ['Normal data']\n",
    "\n",
    "fig = ff.create_distplot(hist_norm, labels, show_rug=False, bin_size=.25)\n",
    "py.iplot(fig)"
   ]
  },
  {
   "cell_type": "markdown",
   "metadata": {},
   "source": [
    "### The Mean of a Distribution\n",
    "\n",
    "Notice the big bump in the middle of the distribution. This is telling us that most of the values are close in value to 0. We call 0 the **mean** of this distribution.\n",
    "\n",
    "The mean of a normally distributed dataset is usually the middle value. It's the average of all of the values in the dataset. Usually, we use $\\bar{x}$ as a symbol for the mean.\n",
    "\n",
    "### *Exercise*\n",
    "\n",
    "What do you think the mean is for the above normally distributed dataset?\n",
    "\n",
    "### The Median and the Mode of a Distribution\n",
    "\n",
    "There are two others numbers that can help us describe the distribution of a dataset. The first is the **median**, which is easy to find. The median is just the **middle** number of a dataset. That is, if you order all the heights from smallest to largest, the median is the value that is found in the middle of the dataset. \n",
    "\n",
    "Now we'll find the mean, median, and mode of the male height dataset using Python."
   ]
  },
  {
   "cell_type": "code",
   "execution_count": null,
   "metadata": {},
   "outputs": [],
   "source": [
    "mean = np.mean(data)\n",
    "median = np.median(data)\n",
    "mode = stats.mode(data, axis = None)\n",
    "\n",
    "print('Mean: ' + str(mean) + '\\nMedian: ' + str(median) + '\\nMode: ' + str(mode))"
   ]
  },
  {
   "cell_type": "markdown",
   "metadata": {},
   "source": [
    "So the mean and median are very close in value. The median and the mode have the same value, 70. The Python output from when we called the ``stats.mode()`` function says that the mode is 70, and the value of 70 occurs 2037 times in our dataset. So, the most frequently occurring height in our dataset is 70\", or 5'10\"."
   ]
  },
  {
   "cell_type": "markdown",
   "metadata": {},
   "source": [
    "<img src=\"../../images/Callysto_Notebook-Banners_Bottom_06.06.18.jpg\"/>"
   ]
  }
 ],
 "metadata": {
  "kernelspec": {
   "display_name": "Python 3",
   "language": "python",
   "name": "python3"
  },
  "language_info": {
   "codemirror_mode": {
    "name": "ipython",
    "version": 3
   },
   "file_extension": ".py",
   "mimetype": "text/x-python",
   "name": "python",
   "nbconvert_exporter": "python",
   "pygments_lexer": "ipython3",
   "version": "3.6.5"
  }
 },
 "nbformat": 4,
 "nbformat_minor": 2
}
