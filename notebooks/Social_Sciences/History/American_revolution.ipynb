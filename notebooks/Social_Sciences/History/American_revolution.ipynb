{
 "cells": [
  {
   "cell_type": "markdown",
   "metadata": {
    "collapsed": true
   },
   "source": [
    "### American revolution \n",
    "\n",
    "<img src=\"images/13_colonies.jpg\" width=\"400px\" align=\"right\"/>\n",
    "The American Revolution (1775-83) is also known as the American Revolutionary War and the U.S. War of Independence.\n",
    "\n",
    "Independance means not beeing under the control of others and beeing able to make one's own decisions. On July 4, 1776,  the Thirteen Colonies declared that they were no longer part of Britain. The British disagreed. A war between Britain and the Thirteen Coloniws began as a result of this disagreement. This war was known as the American Revolution or the War of Independence. (From \"Our Land and People\", Patricia Shields-Ramsay, Douglas Ramsay)\n",
    "\n"
   ]
  },
  {
   "cell_type": "markdown",
   "metadata": {},
   "source": [
    "#### Displaying battles on the map\n",
    "\n",
    "Loading python libraries:\n"
   ]
  },
  {
   "cell_type": "code",
   "execution_count": null,
   "metadata": {},
   "outputs": [],
   "source": [
    "import pandas as pd\n",
    "import matplotlib.pyplot as plt\n",
    "import numpy as np\n",
    "from numpy import nan as Nan\n",
    "from plotly.offline import init_notebook_mode, iplot\n",
    "import plotly.graph_objs as go"
   ]
  },
  {
   "cell_type": "markdown",
   "metadata": {},
   "source": [
    "Let's download dataset  and examine it:"
   ]
  },
  {
   "cell_type": "code",
   "execution_count": null,
   "metadata": {},
   "outputs": [],
   "source": [
    "url = 'https://data.opendatasoft.com/explore/dataset/list-of-american-revolutionary-war-battles@public-us/download/?format=csv&timezone=America/Denver&use_labels_for_header=true'\n",
    "revolution_data  = pd.read_csv(url,sep=';',error_bad_lines=False)\n",
    "revolution_data.head()"
   ]
  },
  {
   "cell_type": "markdown",
   "metadata": {},
   "source": [
    "We will drop the rows where battle name or battle location are unknown and split battle location column into longitude/latitude."
   ]
  },
  {
   "cell_type": "code",
   "execution_count": null,
   "metadata": {},
   "outputs": [],
   "source": [
    "revolution_data = revolution_data.dropna(subset=['Battle location'])\n",
    "revolution_data = revolution_data.dropna(subset=['Battle'])\n",
    "revolution_data['lat'] = revolution_data['Battle location'].str.split(', ', expand = True)[0]\n",
    "revolution_data['lon'] = revolution_data['Battle location'].str.split(', ', expand = True)[1]\n",
    "revolution_data.head()"
   ]
  },
  {
   "cell_type": "markdown",
   "metadata": {},
   "source": [
    "Displaying battles on the map:"
   ]
  },
  {
   "cell_type": "code",
   "execution_count": null,
   "metadata": {},
   "outputs": [],
   "source": [
    "init_notebook_mode(connected=True)\n",
    "\n",
    "revolution_data['text'] = revolution_data['Battle'] + '<br>' + revolution_data['article'] \n",
    "\n",
    "data = dict(\n",
    "        type = 'scattergeo',\n",
    "        mode = 'markers',\n",
    "        text = revolution_data['text']\n",
    "        )\n",
    "\n",
    "data_B = data.copy()\n",
    "data_B['lon'] = revolution_data[revolution_data['Victory'] == 'British victory' ]['lon']\n",
    "data_B['lat'] = revolution_data[revolution_data['Victory'] == 'British victory' ]['lat']\n",
    "data_B['marker'] = dict(size = 8, opacity = 0.8,reversescale = True, autocolorscale = False,symbol = 'square',\n",
    "                        line = dict(width=1,color='black'),\n",
    "                        color = 'red')\n",
    "data_B['name'] = 'British victory'\n",
    "\n",
    "data_P = data.copy()\n",
    "data_P['lon'] = revolution_data[revolution_data['Victory'] == 'Patriot victory' ]['lon']\n",
    "data_P['lat'] = revolution_data[revolution_data['Victory'] == 'Patriot victory' ]['lat']\n",
    "data_P['marker'] = dict(size = 8, opacity = 0.8,reversescale = True, autocolorscale = False,symbol = 'triangle-up',\n",
    "                        line = dict(width=1,color='black'),\n",
    "                        color = 'blue')\n",
    "data_P['name'] = 'Patriot victory'\n",
    "\n",
    "data_na = data.copy()\n",
    "data_na['lon'] = revolution_data[revolution_data['Victory'].isnull() ]['lon']\n",
    "data_na['lat'] = revolution_data[revolution_data['Victory'].isnull()]['lat']\n",
    "data_na['marker'] = dict(size = 8, opacity = 0.8,reversescale = True, autocolorscale = False,symbol = 'diamond',\n",
    "                        line = dict(width=1,color='black'),\n",
    "                        color = 'green')\n",
    "data_na['name'] = 'N/A'\n",
    "\n",
    "layout = dict(\n",
    "        title = ' American Revolution (1775-83) battles',\n",
    "        geo = dict(\n",
    "            scope = 'north america',\n",
    "            showland = True,\n",
    "            landcolor = \"rgb(250, 250, 250)\",\n",
    "            subunitcolor = \"rgb(217, 217, 217)\",\n",
    "            countrycolor = \"rgb(217, 217, 217)\",\n",
    "            countrywidth = 0.5,\n",
    "            subunitwidth = 0.5\n",
    "        ),\n",
    "    )\n",
    "fig = dict( data=[data_B, data_P, data_na], layout=layout )\n",
    "iplot( fig )\n"
   ]
  },
  {
   "cell_type": "code",
   "execution_count": null,
   "metadata": {},
   "outputs": [],
   "source": []
  }
 ],
 "metadata": {
  "kernelspec": {
   "display_name": "Python 3",
   "language": "python",
   "name": "python3"
  },
  "language_info": {
   "codemirror_mode": {
    "name": "ipython",
    "version": 3
   },
   "file_extension": ".py",
   "mimetype": "text/x-python",
   "name": "python",
   "nbconvert_exporter": "python",
   "pygments_lexer": "ipython3",
   "version": "3.6.4"
  }
 },
 "nbformat": 4,
 "nbformat_minor": 2
}
