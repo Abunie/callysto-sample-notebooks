{
 "cells": [
  {
   "cell_type": "markdown",
   "metadata": {},
   "source": [
    "![Map](Callysto_Notebook-Banner_Top_06.06.18.jpg)"
   ]
  },
  {
   "cell_type": "code",
   "execution_count": 93,
   "metadata": {},
   "outputs": [
    {
     "data": {
      "text/html": [
       "<h1> Introduction</h2>\n",
       "<p><iframe src=\"https://giphy.com/embed/OJw4CDbtu0jde\" width=\"500\" height=\"202\" align=\"left\" frameBorder=\"0\" ></iframe>\n",
       "</p>\n",
       "The Titanic's wreck was one of the most memorable stories that has been retold for years since it sank.The ship became a symbol of a world that society had taken for granted, but which  later proved to be shockingly fragile and temporary, not only    to the ship’s survivors, but to the western world as a whole     (Anon, 2018)\n",
       "The wreck now sleeps in darkness, a puzzlement of corroded steel strewn across a thousand acres of the North Atlantic sea-bed. Fungi feed on it. (Nationalgeographic.com, 2018).          Researchers have found a lot of dataset from the Titanic's       wreck which is very good for datascience, which is the reason    why we would be exploring \n",
       "this data to find out what type of people survived in this notebook.\n",
       "</p> "
      ],
      "text/plain": [
       "<IPython.core.display.HTML object>"
      ]
     },
     "metadata": {},
     "output_type": "display_data"
    }
   ],
   "source": [
    "%%html\n",
    "<h1> Introduction</h2>\n",
    "<p><iframe src=\"https://giphy.com/embed/OJw4CDbtu0jde\" width=\"500\" height=\"202\" align=\"left\" frameBorder=\"0\" ></iframe>\n",
    "</p>\n",
    "The Titanic's wreck was one of the most memorable stories that has been retold for years since it sank.The ship became a symbol of a world that society had taken for granted, but which  later proved to be shockingly fragile and temporary, not only    to the ship’s survivors, but to the western world as a whole     (Anon, 2018)\n",
    "The wreck now sleeps in darkness, a puzzlement of corroded steel strewn across a thousand acres of the North Atlantic sea-bed. Fungi feed on it. (Nationalgeographic.com, 2018).          Researchers have found a lot of dataset from the Titanic's       wreck which is very good for datascience, which is the reason    why we would be exploring \n",
    "this data to find out what type of people survived in this notebook.\n",
    "</p> "
   ]
  },
  {
   "cell_type": "markdown",
   "metadata": {},
   "source": [
    "###### This Notebook consists of Three Sections :\n",
    "I. <a href = \"#overview\"> The Overview </a> <br>\n",
    "II. <a href = \"#passengers\"> The Passengers </a> <br>\n",
    "III. <a href =\"#disaster\"> The Disaster </a> <br>\n"
   ]
  },
  {
   "cell_type": "code",
   "execution_count": 94,
   "metadata": {},
   "outputs": [
    {
     "data": {
      "text/html": [
       "<script>\n",
       "code_show=true; \n",
       "function code_toggle() {\n",
       " if (code_show){\n",
       " $('div.input').show();\n",
       " } else {\n",
       " $('div.input').hide();\n",
       " }\n",
       " code_show = !code_show\n",
       "} \n",
       "$( document ).ready(code_toggle);\n",
       "</script>\n",
       "<form action=\"javascript:code_toggle()\"><input type=\"submit\" value=\"Click here to hide or show code .\"></form>"
      ],
      "text/plain": [
       "<IPython.core.display.HTML object>"
      ]
     },
     "execution_count": 94,
     "metadata": {},
     "output_type": "execute_result"
    }
   ],
   "source": [
    "from IPython.display import HTML\n",
    "\n",
    "HTML('''<script>\n",
    "code_show=true; \n",
    "function code_toggle() {\n",
    " if (code_show){\n",
    " $('div.input').show();\n",
    " } else {\n",
    " $('div.input').hide();\n",
    " }\n",
    " code_show = !code_show\n",
    "} \n",
    "$( document ).ready(code_toggle);\n",
    "</script>\n",
    "<form action=\"javascript:code_toggle()\"><input type=\"submit\" value=\"Click here to hide or show code .\"></form>''')"
   ]
  },
  {
   "cell_type": "code",
   "execution_count": 95,
   "metadata": {},
   "outputs": [],
   "source": [
    "import plotly.graph_objs as go\n",
    "import pandas\n",
    "import plotly.offline as py\n",
    "from plotly.offline import init_notebook_mode, iplot\n",
    "import plotly.tools as tls\n",
    "from matplotlib.backends.backend_agg import FigureCanvasAgg as FigureCanvas\n",
    "from IPython.display import HTML\n",
    "import random\n",
    "%matplotlib inline\n",
    "import matplotlib as mpl\n",
    "import numpy as np\n",
    "import matplotlib.pyplot as plt \n",
    "import IPython\n",
    "from IPython import display \n",
    "from ipywidgets import widgets\n",
    "from ipywidgets import interactive\n",
    "import warnings"
   ]
  },
  {
   "cell_type": "code",
   "execution_count": 96,
   "metadata": {},
   "outputs": [],
   "source": [
    "from IPython.display import display \n",
    "from ipywidgets import widgets\n",
    "import hashlib\n",
    "\n",
    "# Check the answer given by the student.\n",
    "def check_answer(x):\n",
    "   temp = -10000\n",
    "   try:\n",
    "       temp = hashlib.md5(str.encode(str(text.value))).hexdigest()\n",
    "      \n",
    "       \n",
    "       \n",
    "    \n",
    "   except:\n",
    "       print(\"Not a number.\")\n",
    "   if(temp == answer and temp != -10000):\n",
    "       print(\"Correct!\")\n",
    "   else:\n",
    "       print(\"Incorrect. Run this cell again and try again!\")"
   ]
  },
  {
   "cell_type": "markdown",
   "metadata": {},
   "source": [
    "<h1><a name=\"overview\" style=\"text-decoration: none; color: black;\">The Overview</a></h1>\n",
    "In meeting the outcomes presented in the senior high school English language arts program of studies, students must satisfy the minimum requirements for text study indicated in the chart on page 10 of the <a href=\"https://education.alberta.ca/media/160418/ela-pos-10-12.pdf\">English Language Arts Program of Studies Pdf</a> . A good book to use for the ELA 10-1 Book-length Nonfiction is <a href=\"https://www.readanybook.com/online/565478\">A Night to Remember </a>  by Lord, Walter.\n",
    "- <a href = \"#ship\"> The Ship</a> <br>\n",
    "- <a href = \"#navigation\"> The Navigation </a> <br>\n",
    "- <a href =\"#timeline\"> The Timeline of Construction </a> <br>\n"
   ]
  },
  {
   "cell_type": "markdown",
   "metadata": {},
   "source": [
    "<h2><a name=\"ship\" style=\"text-decoration: none; color: black;\">The Ship</a></h2>"
   ]
  },
  {
   "cell_type": "markdown",
   "metadata": {},
   "source": [
    "#### So What Exactly Is the Titanic ?\n",
    "RMS Titanic was a British passenger liner that sank in the North Atlantic Ocean in the early hours of 15 April 1912, after colliding with an iceberg during its maiden voyage from Southampton to New York City. (En.wikipedia.org, 2018)"
   ]
  },
  {
   "cell_type": "code",
   "execution_count": 97,
   "metadata": {},
   "outputs": [
    {
     "data": {
      "text/html": [
       "<h2>RMS TITANIC - SPECIFICATIONS</h2>\n",
       "<p> <img src=\"img/RMS_Titanic_3.jpg\" alt=\"Titanic Picturw\" width=\"400\" height=\"400\" align=\"left\"> <pre>\n",
       "<b>  Length:</b> 882 feet, 8 inches/268 meters\n",
       "<b>  Gross tonnage:</b> 46,328 tons\n",
       "<b>  Net tonnage:</b> 24,900 tons\n",
       "<b>  Total capacity:</b> 3547 passengers and crew, fully loaded\n",
       "<b>  Decks:</b> 9 in total (counting the orlop deck) the boat deck, A,B,C,D,E,F,G    and below G boiler rooms.\n",
       "<b>  Beam:</b> 92.5 feet/28 meters\n",
       "<b>  Height:</b> 60.5 feet waterline to Boat Deck, 175 feet keel to top of funnels.\n",
       "<b>  Depth:</b> 59.5 feet\n",
       "<b>  Draft:</b> about 34 feet\n",
       "<b>  Engines:</b> 2 reciprocating 4 cylinder, triple expansion, direct - acting,in   -verted engines: 30,000hp 77 rpm. 1 low pressure\n",
       "<b>  Parsons turbine:</b> 16,000hp 165rpm\n",
       "<b>  Propellers:</b> 3 ; Center turbine: 17 feet ; Left/Right wings: 23 feet 6       inches\n",
       "<b>  Boilers:</b> 29 (24 double ended boilers and 5 single ended boilers)    \n",
       "<b>  Furnaces:</b> 159 providing a total heating surface of 144,142 sq. feet \n",
       "<b>  Steam pressure:</b> 215 P.S.I.\n",
       "<b>  Watertight compartments:</b> 16, extending up to F deck\n",
       "<b>  Personal floatation devices:</b> 3560 life jackets and 49 life buoys\n",
       "<b>  Fuel requirement:</b> 825 tons of coal per day\n",
       "<b>  Water consumption:</b> 14,000 gallons of fresh water per day\n",
       "<b>  Top Speed:</b> 23 knots\n",
       "<b>  Rivets used in the hull:</b>  3 million (En.wikipedia.org, 2018)\n",
       "</pre>.</p>"
      ],
      "text/plain": [
       "<IPython.core.display.HTML object>"
      ]
     },
     "metadata": {},
     "output_type": "display_data"
    }
   ],
   "source": [
    "%%html\n",
    "<h2>RMS TITANIC - SPECIFICATIONS</h2>\n",
    "<p> <img src=\"img/RMS_Titanic_3.jpg\" alt=\"Titanic Picturw\" width=\"400\" height=\"400\" align=\"left\"> <pre>\n",
    "<b>  Length:</b> 882 feet, 8 inches/268 meters\n",
    "<b>  Gross tonnage:</b> 46,328 tons\n",
    "<b>  Net tonnage:</b> 24,900 tons\n",
    "<b>  Total capacity:</b> 3547 passengers and crew, fully loaded\n",
    "<b>  Decks:</b> 9 in total (counting the orlop deck) the boat deck, A,B,C,D,E,F,G    and below G boiler rooms.\n",
    "<b>  Beam:</b> 92.5 feet/28 meters\n",
    "<b>  Height:</b> 60.5 feet waterline to Boat Deck, 175 feet keel to top of funnels.\n",
    "<b>  Depth:</b> 59.5 feet\n",
    "<b>  Draft:</b> about 34 feet\n",
    "<b>  Engines:</b> 2 reciprocating 4 cylinder, triple expansion, direct - acting,in   -verted engines: 30,000hp 77 rpm. 1 low pressure\n",
    "<b>  Parsons turbine:</b> 16,000hp 165rpm\n",
    "<b>  Propellers:</b> 3 ; Center turbine: 17 feet ; Left/Right wings: 23 feet 6       inches\n",
    "<b>  Boilers:</b> 29 (24 double ended boilers and 5 single ended boilers)    \n",
    "<b>  Furnaces:</b> 159 providing a total heating surface of 144,142 sq. feet \n",
    "<b>  Steam pressure:</b> 215 P.S.I.\n",
    "<b>  Watertight compartments:</b> 16, extending up to F deck\n",
    "<b>  Personal floatation devices:</b> 3560 life jackets and 49 life buoys\n",
    "<b>  Fuel requirement:</b> 825 tons of coal per day\n",
    "<b>  Water consumption:</b> 14,000 gallons of fresh water per day\n",
    "<b>  Top Speed:</b> 23 knots\n",
    "<b>  Rivets used in the hull:</b>  3 million (En.wikipedia.org, 2018)\n",
    "</pre>.</p>\n"
   ]
  },
  {
   "cell_type": "markdown",
   "metadata": {},
   "source": [
    "### Questions"
   ]
  },
  {
   "cell_type": "markdown",
   "metadata": {},
   "source": [
    "###### How fast was the Titanic's top speed in Kilometer per hour ? 1 knot is equal to 1.852 kilometers per hours. Give answer in 3 sig digs."
   ]
  },
  {
   "cell_type": "code",
   "execution_count": 98,
   "metadata": {},
   "outputs": [
    {
     "data": {
      "application/vnd.jupyter.widget-view+json": {
       "model_id": "3142e6d102ee459da5c41f42f582e80c",
       "version_major": 2,
       "version_minor": 0
      },
      "text/plain": [
       "Text(value='')"
      ]
     },
     "metadata": {},
     "output_type": "display_data"
    }
   ],
   "source": [
    "# Encrypted answer.\n",
    "answer = 'f1bd90bb175304e3224ee44608e16ba2'\n",
    "\n",
    "# Create answer box.\n",
    "text = widgets.Text()\n",
    "display(text)\n",
    "text.on_submit(check_answer)\n"
   ]
  },
  {
   "cell_type": "markdown",
   "metadata": {},
   "source": [
    "###### How much longer were the right and left wings propellers than the center turbine ? Give your answer in this format , 3 feet 5 inches."
   ]
  },
  {
   "cell_type": "code",
   "execution_count": 99,
   "metadata": {},
   "outputs": [
    {
     "data": {
      "application/vnd.jupyter.widget-view+json": {
       "model_id": "84c3767b14b440b9be96fa9ead3556c6",
       "version_major": 2,
       "version_minor": 0
      },
      "text/plain": [
       "Text(value='')"
      ]
     },
     "metadata": {},
     "output_type": "display_data"
    }
   ],
   "source": [
    "# Encrypted answer.\n",
    "answer = 'd74c69372049e397291f91973a6f3217'\n",
    "\n",
    "# Create answer box.\n",
    "text = widgets.Text()\n",
    "display(text)\n",
    "text.on_submit(check_answer)\n"
   ]
  },
  {
   "cell_type": "markdown",
   "metadata": {},
   "source": [
    "###### How many days ago was the did the Titanic sink ? You could check the date and time by clicking on the button below."
   ]
  },
  {
   "cell_type": "code",
   "execution_count": 100,
   "metadata": {},
   "outputs": [
    {
     "data": {
      "text/html": [
       "<html>\n",
       "<body>\n",
       "\n",
       "\n",
       "<button type=\"button\"\n",
       "onclick=\"document.getElementById('demo').innerHTML = Date()\">\n",
       "Click me to display Date and Time.</button>\n",
       "\n",
       "<p id=\"demo\"></p>\n",
       "\n",
       "</body>\n",
       "</html> "
      ],
      "text/plain": [
       "<IPython.core.display.HTML object>"
      ]
     },
     "metadata": {},
     "output_type": "display_data"
    }
   ],
   "source": [
    "%%html\n",
    "<html>\n",
    "<body>\n",
    "\n",
    "\n",
    "<button type=\"button\"\n",
    "onclick=\"document.getElementById('demo').innerHTML = Date()\">\n",
    "Click me to display Date and Time.</button>\n",
    "\n",
    "<p id=\"demo\"></p>\n",
    "\n",
    "</body>\n",
    "</html> \n"
   ]
  },
  {
   "cell_type": "code",
   "execution_count": 101,
   "metadata": {},
   "outputs": [],
   "source": [
    "import datetime\n",
    "now = datetime.datetime.now()\n",
    "d = str(now)\n",
    "datetoday = d[:-16]\n"
   ]
  },
  {
   "cell_type": "code",
   "execution_count": 102,
   "metadata": {},
   "outputs": [],
   "source": [
    "from datetime import datetime\n",
    "\n",
    "\n",
    "date_format = \"%Y-%m-%d\"\n",
    "datethen = '1912-04-15'\n",
    "\n",
    "a = datetime.strptime(datetoday, date_format)\n",
    "b = datetime.strptime(datethen, date_format)\n",
    "delta = a - b"
   ]
  },
  {
   "cell_type": "code",
   "execution_count": 103,
   "metadata": {},
   "outputs": [
    {
     "data": {
      "application/vnd.jupyter.widget-view+json": {
       "model_id": "413356cc93f943b7ac84cda69e7540ba",
       "version_major": 2,
       "version_minor": 0
      },
      "text/plain": [
       "Text(value='')"
      ]
     },
     "metadata": {},
     "output_type": "display_data"
    }
   ],
   "source": [
    "answer = delta.days\n",
    "\n",
    "from IPython.display import display \n",
    "from ipywidgets import widgets\n",
    "\n",
    "def f(x):\n",
    "   temp = -10000\n",
    "   \n",
    "   print(text.value)\n",
    "   try:\n",
    "       temp = float(text.value)\n",
    "   except:\n",
    "       print(\"Not a number\")\n",
    "   \n",
    "   if(temp == answer):\n",
    "        print(\" Your right!! The Titanic sank {} days ago, in the North Atlantic Ocean in the early hours of 15 April 1912.\".format(answer))\n",
    "   else:\n",
    "       print(\"Whoops! Try again!\")\n",
    "\n",
    "text = widgets.Text()\n",
    "display(text)\n",
    "\n",
    "text.on_submit(f)"
   ]
  },
  {
   "cell_type": "code",
   "execution_count": 104,
   "metadata": {},
   "outputs": [
    {
     "data": {
      "text/html": [
       "<iframe src=\"answers1.html\" style=\"border: none;\" width=\"1000px\" height=\"200px\"></iframe>"
      ],
      "text/plain": [
       "<IPython.core.display.HTML object>"
      ]
     },
     "metadata": {},
     "output_type": "display_data"
    }
   ],
   "source": [
    "%%html\n",
    "<iframe src=\"answers1.html\" style=\"border: none;\" width=\"1000px\" height=\"200px\"></iframe>"
   ]
  },
  {
   "cell_type": "markdown",
   "metadata": {},
   "source": [
    "<h2><a name=\"navigation\" style=\"text-decoration: none; color: black;\">The Navigation</a></h2>"
   ]
  },
  {
   "cell_type": "markdown",
   "metadata": {},
   "source": [
    "### Where did the Titanic leave from?\n",
    "Although Titanic initially sailed from Belfast (where she was built) to Southampton, her maiden voyage is considered to have begun in Southampton. (+ et al., 2018)There were an estimated 2,224 passengers and crew aboard, and more than 1,500 died, making it one of the deadliest commercial peacetime maritime disasters in modern history. RMS Titanic was the largest ship afloat at the time it entered service and was the second of three Olympic-class ocean liners operated by the White Star Line. It was built by the Harland and Wolff shipyard in Belfast. Thomas Andrews, her architect, died in the disaster.(En.wikipedia.org, 2018)"
   ]
  },
  {
   "cell_type": "markdown",
   "metadata": {},
   "source": [
    "## Where was Titanic going?\n",
    "The Titanic was on her maiden voyage, a return trip from Britain to America. The outward route was to be Southampton, England – Cherbourg, France – Queenstown, Ireland – New York, USA. The return route was going to be New York – Plymouth, England – Cherbourg – Southampton. (+ et al., 2018)On 14 April, four days into the crossing and about 375 miles (600 km) south of Newfoundland, she hit an iceberg at 11:40 p.m. ship's time. The collision caused the hull plates to buckle inwards along her starboard (right) side and opened five of her sixteen watertight compartments to the sea; she could only survive four flooding.Meanwhile, passengers and some crew members were evacuated in lifeboats, many of which were launched only partially loaded. A disproportionate number of men were left aboard because of a \"women and children first\" protocol for loading lifeboats.[6] At 2:20 a.m., she broke apart and foundered with well over one thousand people still aboard. Just under two hours after Titanic sank, the Cunard liner RMS Carpathia arrived and brought aboard an estimated 705 survivors. (En.wikipedia.org, 2018)\n",
    "\n",
    "### Activity\n",
    "Interact with the map below (Take measurements, zoom in to see more details of the marked locations below) and answer the questions below.\n"
   ]
  },
  {
   "cell_type": "code",
   "execution_count": 105,
   "metadata": {
    "scrolled": false
   },
   "outputs": [
    {
     "data": {
      "application/vnd.jupyter.widget-view+json": {
       "model_id": "61ae8ab20e924393922aa2746ad28e54",
       "version_major": 2,
       "version_minor": 0
      },
      "text/plain": [
       "Map(basemap={'url': 'https://{s}.tile.openstreetmap.org/{z}/{x}/{y}.png', 'max_zoom': 19, 'attribution': 'Map …"
      ]
     },
     "metadata": {},
     "output_type": "display_data"
    }
   ],
   "source": [
    "from ipyleaflet import Map\n",
    "from ipyleaflet import Marker\n",
    "from ipyleaflet import VideoOverlay\n",
    "from ipyleaflet import ImageOverlay\n",
    "from ipyleaflet import basemaps, basemap_to_tiles, DrawControl\n",
    "from ipyleaflet import MeasureControl\n",
    "from ipyleaflet import Popup\n",
    "from ipywidgets import HTML\n",
    "from ipyleaflet import Rectangle,Polygon\n",
    "center = (41.415198, -73.951416)\n",
    "\n",
    "m = Map(center=center, zoom=3)\n",
    "\n",
    "newyork = Marker(location=[40.623448, -74.065485], draggable = False , title=\"Click to Find Out \")\n",
    "m.add_layer(newyork);\n",
    "queenstown = Marker(location=[51.924193, -8.295340], draggable = False , title=\"Click to Find Out\")\n",
    "m.add_layer(queenstown);\n",
    "southampton = Marker(location=[50.894465, -1.406356], draggable = False , title=\"Click to Find out\")\n",
    "m.add_layer(southampton);\n",
    "cherbourg = Marker(location=[49.635239, -1.622302], draggable = False , title=\"Click to Find Out\")\n",
    "m.add_layer(cherbourg);\n",
    "wreckedship = Marker(location=[41.726931,-49.948253], draggable = False , title=\"Click to Find Out\")\n",
    "m.add_layer(wreckedship);\n",
    "\n",
    "\n",
    "polygon = Polygon(\n",
    "    locations=[(50.894465, -1.406356), (49.635239, -1.622302)],\n",
    "    color=\"green\",\n",
    "    fill_color=\"green\",\n",
    "    opacity = 0.9\n",
    ")\n",
    "m.add_layer(polygon);\n",
    "polygon1 = Polygon(\n",
    "    locations=[(49.625003, -6.773955), (49.635239, -1.622302)],\n",
    "    color=\"green\",\n",
    "    fill_color=\"green\",\n",
    "    opacity = 0.9\n",
    ")\n",
    "m.add_layer(polygon1);\n",
    "polygon2 = Polygon(\n",
    "    locations=[(49.625003, -6.773955), (51.924193, -8.295340)],\n",
    "    color=\"green\",\n",
    "    fill_color=\"green\",\n",
    "    opacity = 0.9\n",
    ")\n",
    "m.add_layer(polygon2);\n",
    "polygon3 = Polygon(\n",
    "    locations=[(41.726931,-49.948253), (51.924193, -8.295340)],\n",
    "    color=\"green\",\n",
    "    fill_color=\"green\",\n",
    "    opacity = 0.9\n",
    ")\n",
    "m.add_layer(polygon3);\n",
    "polygon3 = Polygon(\n",
    "    locations=[(41.726931,-49.948253), (40.623448, -74.065485)],\n",
    "    color=\"green\",\n",
    "    fill_color=\"green\",\n",
    "    opacity = 0.3\n",
    ")\n",
    "m.add_layer(polygon3);\n",
    "'''\n",
    "video2 = ImageOverlay(\n",
    "    url=\"https://media1.giphy.com/media/OJw4CDbtu0jde/giphy.gif\",\n",
    "    bounds=((40, -60), (50, -25))\n",
    ")\n",
    "'''\n",
    "video2 = ImageOverlay(\n",
    "    url=\"https://upload.wikimedia.org/wikipedia/commons/4/48/Sinking_of_the_RMS_Titanic_animation.gif\",\n",
    "    bounds=((40, -60), (50, -25))\n",
    ")\n",
    "\n",
    "\n",
    "message1 = HTML()\n",
    "message1.value = \"New York, USA : The Titanic's final destination  \"\n",
    "newyork.popup = message1\n",
    "message2 = HTML()\n",
    "message2.value = \"The wreck of the ship was found in two pieces, the bow and the stern, by Ballard in 1985, who released the precise coordinates of the wreck:  41.726931° N and -49.948253° W. The wreck was found at a depth of 12,000 feet (Matei.org, 2018). The vessel sank with a loss of about 1,500 lives at a point about 400 miles (640 km) south of Newfoundland. \"\n",
    "wreckedship.popup = message2\n",
    "message3 = HTML()\n",
    "message3.value = \"Cherbourg , France\"\n",
    "cherbourg.popup = message3\n",
    "message4 = HTML()\n",
    "message4.value = \"Southampton, UK\"\n",
    "southampton.popup = message4\n",
    "message5 = HTML()\n",
    "message5.value = \"Queenstown (now called Cobh)\"\n",
    "queenstown.popup = message5\n",
    "\n",
    " \n",
    "draw_control = DrawControl()\n",
    "draw_control.polyline =  {\n",
    "    \"shapeOptions\": {\n",
    "        \"color\": \"#6bc2e5\",\n",
    "        \"weight\": 8,\n",
    "        \"opacity\": 1.0\n",
    "    }\n",
    "}\n",
    "\n",
    "draw_control.circle = {\n",
    "    \"shapeOptions\": {\n",
    "        \"fillColor\": \"#efed69\",\n",
    "        \"color\": \"#efed69\",\n",
    "        \"fillOpacity\": 1.0\n",
    "    }\n",
    "}\n",
    "\n",
    "measure = MeasureControl(\n",
    "    position='bottomleft',\n",
    "    active_color = 'orange',\n",
    "    primary_length_unit = 'kilometers'\n",
    ")\n",
    "m.add_control(measure)\n",
    "\n",
    "measure.completed_color = 'red'\n",
    "\n",
    "measure.add_length_unit('yards', 1.09361, 4)\n",
    "measure.secondary_length_unit = 'yards'\n",
    "\n",
    "measure.add_area_unit('sqyards', 1.19599, 4)\n",
    "measure.secondary_area_unit = 'sqyards'\n",
    "\n",
    "\n",
    "\n",
    "\n",
    "m.add_control(draw_control)\n",
    "\n",
    "\n",
    "m.add_layer(video2);\n",
    "\n",
    "m\n"
   ]
  },
  {
   "cell_type": "markdown",
   "metadata": {},
   "source": [
    "### Questions"
   ]
  },
  {
   "cell_type": "code",
   "execution_count": 106,
   "metadata": {},
   "outputs": [
    {
     "data": {
      "text/html": [
       "<html>\n",
       "<body>\n",
       "\n",
       "<h6> What is the distance from  Queenstown  to the where the wrecked ship rests ? </h6>\n",
       "<pre>\n",
       "a) About 3330 Kilometers\n",
       "b) About 3000 Kilometers\n",
       "c) About 5550 Kilometers\n",
       "</pre>\n",
       "<em>Note:Type A, B or C in capital letters.</em>\n",
       "\n",
       "</body>\n",
       "</html>"
      ],
      "text/plain": [
       "<IPython.core.display.HTML object>"
      ]
     },
     "metadata": {},
     "output_type": "display_data"
    }
   ],
   "source": [
    "%%html\n",
    "<html>\n",
    "<body>\n",
    "\n",
    "<h6> What is the distance from  Queenstown  to the where the wrecked ship rests ? </h6>\n",
    "<pre>\n",
    "a) About 3330 Kilometers\n",
    "b) About 3000 Kilometers\n",
    "c) About 5550 Kilometers\n",
    "</pre>\n",
    "<em>Note:Type A, B or C in capital letters.</em>\n",
    "\n",
    "</body>\n",
    "</html>\n"
   ]
  },
  {
   "cell_type": "code",
   "execution_count": 107,
   "metadata": {},
   "outputs": [
    {
     "data": {
      "application/vnd.jupyter.widget-view+json": {
       "model_id": "ab1aa3d081a143ffac94e8330bc856bf",
       "version_major": 2,
       "version_minor": 0
      },
      "text/plain": [
       "Text(value='')"
      ]
     },
     "metadata": {},
     "output_type": "display_data"
    }
   ],
   "source": [
    "# Encrypted answer.\n",
    "answer = '7fc56270e7a70fa81a5935b72eacbe29'\n",
    "\n",
    "# Create answer box.\n",
    "text = widgets.Text()\n",
    "display(text)\n",
    "text.on_submit(check_answer)"
   ]
  },
  {
   "cell_type": "code",
   "execution_count": 108,
   "metadata": {
    "scrolled": true
   },
   "outputs": [
    {
     "data": {
      "text/html": [
       "<html>\n",
       "<body>\n",
       "\n",
       "<h6>What is the distance from  New York to the where the wrecked ship rests ? </h6>\n",
       "<pre>\n",
       "a) About 2000 Kilometers\n",
       "b) About 3000 Kilometers\n",
       "c) About 4000 Kilometers\n",
       "\n",
       "</pre>\n",
       "<em>Note:Type A, B or C in capital letters.</em>\n",
       "\n",
       "</body>\n",
       "</html>"
      ],
      "text/plain": [
       "<IPython.core.display.HTML object>"
      ]
     },
     "metadata": {},
     "output_type": "display_data"
    }
   ],
   "source": [
    "%%html\n",
    "<html>\n",
    "<body>\n",
    "\n",
    "<h6>What is the distance from  New York to the where the wrecked ship rests ? </h6>\n",
    "<pre>\n",
    "a) About 2000 Kilometers\n",
    "b) About 3000 Kilometers\n",
    "c) About 4000 Kilometers\n",
    "\n",
    "</pre>\n",
    "<em>Note:Type A, B or C in capital letters.</em>\n",
    "\n",
    "</body>\n",
    "</html>"
   ]
  },
  {
   "cell_type": "code",
   "execution_count": 109,
   "metadata": {},
   "outputs": [
    {
     "data": {
      "application/vnd.jupyter.widget-view+json": {
       "model_id": "0c97998e15f74bc8b1976ca21ed97104",
       "version_major": 2,
       "version_minor": 0
      },
      "text/plain": [
       "Text(value='')"
      ]
     },
     "metadata": {},
     "output_type": "display_data"
    }
   ],
   "source": [
    "# Encrypted answer.\n",
    "answer = '7fc56270e7a70fa81a5935b72eacbe29'\n",
    "\n",
    "# Create answer box.\n",
    "text = widgets.Text()\n",
    "display(text)\n",
    "text.on_submit(check_answer)"
   ]
  },
  {
   "cell_type": "code",
   "execution_count": 110,
   "metadata": {},
   "outputs": [
    {
     "data": {
      "text/html": [
       "<html>\n",
       "<body>\n",
       "\n",
       "<h6>What is the distance from  Queenstowns  to New York ? </h6>\n",
       "<pre>\n",
       "a) About 3000 Kilometers\n",
       "b) About 5000 Kilometers\n",
       "c) About 7000 Kilometers\n",
       "\n",
       "</pre>\n",
       "<em>Note:Type A, B or C in capital letters.</em>\n",
       "\n",
       "</body>\n",
       "</html>"
      ],
      "text/plain": [
       "<IPython.core.display.HTML object>"
      ]
     },
     "metadata": {},
     "output_type": "display_data"
    }
   ],
   "source": [
    "%%html\n",
    "<html>\n",
    "<body>\n",
    "\n",
    "<h6>What is the distance from  Queenstowns  to New York ? </h6>\n",
    "<pre>\n",
    "a) About 3000 Kilometers\n",
    "b) About 5000 Kilometers\n",
    "c) About 7000 Kilometers\n",
    "\n",
    "</pre>\n",
    "<em>Note:Type A, B or C in capital letters.</em>\n",
    "\n",
    "</body>\n",
    "</html>"
   ]
  },
  {
   "cell_type": "code",
   "execution_count": 111,
   "metadata": {
    "scrolled": true
   },
   "outputs": [
    {
     "data": {
      "application/vnd.jupyter.widget-view+json": {
       "model_id": "21a89d5c1d664998b61f83defe0e4f31",
       "version_major": 2,
       "version_minor": 0
      },
      "text/plain": [
       "Text(value='')"
      ]
     },
     "metadata": {},
     "output_type": "display_data"
    }
   ],
   "source": [
    "# Encrypted answer.\n",
    "answer = '9d5ed678fe57bcca610140957afab571'\n",
    "\n",
    "# Create answer box.\n",
    "text = widgets.Text()\n",
    "display(text)\n",
    "text.on_submit(check_answer)"
   ]
  },
  {
   "cell_type": "markdown",
   "metadata": {},
   "source": [
    "###### Who was the Architect of the Titanic ?"
   ]
  },
  {
   "cell_type": "code",
   "execution_count": 112,
   "metadata": {},
   "outputs": [
    {
     "data": {
      "application/vnd.jupyter.widget-view+json": {
       "model_id": "3a0afd0fa6e94d5da1bc9d14d6158abd",
       "version_major": 2,
       "version_minor": 0
      },
      "text/plain": [
       "Text(value='')"
      ]
     },
     "metadata": {},
     "output_type": "display_data"
    }
   ],
   "source": [
    "# Encrypted answer.\n",
    "answer = '7afca514b8cc25f4e5a3d51c48bebe82'\n",
    "\n",
    "# Create answer box.\n",
    "text = widgets.Text()\n",
    "display(text)\n",
    "text.on_submit(check_answer)\n"
   ]
  },
  {
   "cell_type": "markdown",
   "metadata": {},
   "source": [
    "###### What was supposed to be the return route for the Titanic ? Use ' to ' instead of ' - ' ."
   ]
  },
  {
   "cell_type": "code",
   "execution_count": 113,
   "metadata": {},
   "outputs": [
    {
     "data": {
      "application/vnd.jupyter.widget-view+json": {
       "model_id": "7357390431684a10aa69d64a9125fec0",
       "version_major": 2,
       "version_minor": 0
      },
      "text/plain": [
       "Text(value='')"
      ]
     },
     "metadata": {},
     "output_type": "display_data"
    }
   ],
   "source": [
    "# Encrypted answer.\n",
    "answer = 'd3ad1c7b9c51675b864aeba5f0db82f1'\n",
    "\n",
    "# Create answer box.\n",
    "text = widgets.Text()\n",
    "display(text)\n",
    "text.on_submit(check_answer)\n"
   ]
  },
  {
   "cell_type": "markdown",
   "metadata": {},
   "source": [
    "###### What time did the Titanic hit the iceberg ?"
   ]
  },
  {
   "cell_type": "code",
   "execution_count": 114,
   "metadata": {},
   "outputs": [
    {
     "data": {
      "application/vnd.jupyter.widget-view+json": {
       "model_id": "79cd71aedb18499086549a4b043be713",
       "version_major": 2,
       "version_minor": 0
      },
      "text/plain": [
       "Text(value='')"
      ]
     },
     "metadata": {},
     "output_type": "display_data"
    }
   ],
   "source": [
    "# Encrypted answer.\n",
    "answer = '0f199394398d64c83c6a1fe894c4ca01'\n",
    "\n",
    "# Create answer box.\n",
    "text = widgets.Text()\n",
    "display(text)\n",
    "text.on_submit(check_answer)\n"
   ]
  },
  {
   "cell_type": "markdown",
   "metadata": {},
   "source": [
    "###### What time did she brake apart and foundered with well over one thousand people still aboard ?"
   ]
  },
  {
   "cell_type": "code",
   "execution_count": 115,
   "metadata": {},
   "outputs": [
    {
     "data": {
      "application/vnd.jupyter.widget-view+json": {
       "model_id": "a892e21d6462471c89fe9840b1f872c7",
       "version_major": 2,
       "version_minor": 0
      },
      "text/plain": [
       "Text(value='')"
      ]
     },
     "metadata": {},
     "output_type": "display_data"
    }
   ],
   "source": [
    "# Encrypted answer.\n",
    "answer = '3ffbfa9c79b45590ce15bfaef4c4e3cd'\n",
    "\n",
    "# Create answer box.\n",
    "text = widgets.Text()\n",
    "display(text)\n",
    "text.on_submit(check_answer)\n"
   ]
  },
  {
   "cell_type": "code",
   "execution_count": 116,
   "metadata": {},
   "outputs": [
    {
     "data": {
      "text/html": [
       "<iframe src=\"answers2.html\" style=\"border: none;\" width=\"1000px\" height=\"200px\"></iframe>"
      ],
      "text/plain": [
       "<IPython.core.display.HTML object>"
      ]
     },
     "metadata": {},
     "output_type": "display_data"
    }
   ],
   "source": [
    "%%html\n",
    "<iframe src=\"answers2.html\" style=\"border: none;\" width=\"1000px\" height=\"200px\"></iframe>"
   ]
  },
  {
   "cell_type": "markdown",
   "metadata": {},
   "source": [
    "### Interesting Video of the Titanic in it`s resting place\n",
    "The wreck of the ship was found in two pieces, the bow and the stern, by Ballard in 1985, who released the precise coordinates of the wreck: 41.726931° N and -49.948253° W. The wreck was found at a depth of 12,000 feet (Matei.org, 2018). The vessel sank with a loss of about 1,500 lives at a point about 400 miles (640 km) south of Newfoundland. Below there is a an interesting  video of the Titanic resting in its resting place today."
   ]
  },
  {
   "cell_type": "code",
   "execution_count": 117,
   "metadata": {},
   "outputs": [
    {
     "data": {
      "text/html": [
       "<iframe width=\"1000\" height=\"500\" src=\"https://www.youtube.com/embed/6Z7REEnwKOQ\" frameborder=\"0\" allow=\"autoplay; encrypted-media\" allowfullscreen></iframe>"
      ],
      "text/plain": [
       "<IPython.core.display.HTML object>"
      ]
     },
     "metadata": {},
     "output_type": "display_data"
    }
   ],
   "source": [
    "%%html\n",
    "<iframe width=\"1000\" height=\"500\" src=\"https://www.youtube.com/embed/6Z7REEnwKOQ\" frameborder=\"0\" allow=\"autoplay; encrypted-media\" allowfullscreen></iframe>"
   ]
  },
  {
   "cell_type": "markdown",
   "metadata": {},
   "source": [
    "<h2><a name=\"timeline\" style=\"text-decoration: none; color: black;\">The Timeline of Construction</a></h2>\n",
    "###### In order to understand the origins and progression of the Titanic , we will look at the Timeline of the Titanic from 1791 when the Company that produced the Titanic was founded. Your task is to go over the information from this website https://discovernorthernireland.com/things-to-do/attractions/titanic/titanic-a-timeline/ . "
   ]
  },
  {
   "cell_type": "markdown",
   "metadata": {},
   "source": [
    "#### Building the Titanic\n",
    "The Royal Mail Steamer Titanic was the product of intense competition among rival shipping lines in the first half of the 20th century. In particular, the White Star Line found itself in a battle for steamship primacy with Cunard, a venerable British firm with two standout ships that ranked among the most sophisticated and luxurious of their time.(HISTORY.com, 2018)\n",
    "######  How many years where used to build the Titanic? Just give the numerical value e.g 10."
   ]
  },
  {
   "cell_type": "code",
   "execution_count": 118,
   "metadata": {},
   "outputs": [
    {
     "data": {
      "application/vnd.jupyter.widget-view+json": {
       "model_id": "377a26f76eb244d48407d674dcbc5260",
       "version_major": 2,
       "version_minor": 0
      },
      "text/plain": [
       "Text(value='')"
      ]
     },
     "metadata": {},
     "output_type": "display_data"
    }
   ],
   "source": [
    "# Encrypted answer.\n",
    "answer = '4c56ff4ce4aaf9573aa5dff913df997a'\n",
    "\n",
    "# Create answer box.\n",
    "text = widgets.Text()\n",
    "display(text)\n",
    "text.on_submit(check_answer)\n",
    "\n",
    "import csv\n",
    "years=set()\n",
    "with open('timeline.csv') as csvfile:\n",
    "    for row in csv.DictReader(csvfile):\n",
    "        years.add(row[\"YEAR\"])\n",
    "recent = int(max(years))\n",
    "old = int(min(years))\n",
    "####This can also be used as the answer\n",
    "years = recent - old \n"
   ]
  },
  {
   "cell_type": "markdown",
   "metadata": {},
   "source": [
    "###### The Olympic was another popular ship that was known as Titanic's sister during that period because it was also big and fancy what year was The Olympic launched ? How many years after this was the Titanic launched."
   ]
  },
  {
   "cell_type": "code",
   "execution_count": 119,
   "metadata": {
    "scrolled": true
   },
   "outputs": [
    {
     "name": "stdout",
     "output_type": "stream",
     "text": [
      "When was the Olympic launched ?  Enter just the numbers\n"
     ]
    },
    {
     "data": {
      "application/vnd.jupyter.widget-view+json": {
       "model_id": "2a6568e09b7b402a8d4403ebeb667e20",
       "version_major": 2,
       "version_minor": 0
      },
      "text/plain": [
       "Text(value='')"
      ]
     },
     "metadata": {},
     "output_type": "display_data"
    }
   ],
   "source": [
    "with open('timeline.csv') as csvfile:\n",
    "    for row in csv.DictReader(csvfile):\n",
    "        event = row[\"EVENT\"]\n",
    "        if(event ==\"The Olympic is successfully launched.\"):\n",
    "            yearolympic = row[\"YEAR\"]\n",
    "        elif(event.startswith('Titanic was launched')):\n",
    "            yeartitanic = row[\"YEAR\"]\n",
    "        else:\n",
    "            pass\n",
    "answer1 = int(yearolympic)\n",
    "answer2 = int(yeartitanic) - int(yearolympic)\n",
    "\n",
    "                   \n",
    "\n",
    "# Encrypted answer.\n",
    "answer = 'ab7314887865c4265e896c6e209d1cd6'\n",
    "print(\"When was the Olympic launched ?  Enter just the numbers\")\n",
    "# Create answer box.\n",
    "text = widgets.Text()\n",
    "display(text)\n",
    "text.on_submit(check_answer)"
   ]
  },
  {
   "cell_type": "code",
   "execution_count": 120,
   "metadata": {},
   "outputs": [
    {
     "name": "stdout",
     "output_type": "stream",
     "text": [
      "How many year(s) after this was the titanic launched ? Enter just the number\n"
     ]
    },
    {
     "data": {
      "application/vnd.jupyter.widget-view+json": {
       "model_id": "72e903b3cb184df586e2023d3505cf25",
       "version_major": 2,
       "version_minor": 0
      },
      "text/plain": [
       "Text(value='')"
      ]
     },
     "metadata": {},
     "output_type": "display_data"
    }
   ],
   "source": [
    "answer = 'c4ca4238a0b923820dcc509a6f75849b'\n",
    "print(\"How many year(s) after this was the titanic launched ? Enter just the number\")\n",
    "# Create answer box.\n",
    "text = widgets.Text()\n",
    "display(text)\n",
    "text.on_submit(check_answer)\n"
   ]
  },
  {
   "cell_type": "markdown",
   "metadata": {},
   "source": [
    "###### From the website  we can see that The Titanic was made in Belfast , however , it was moved to  Southampton where the actual trip started from. How many days did the Titanic spend at Southampton ?"
   ]
  },
  {
   "cell_type": "code",
   "execution_count": 121,
   "metadata": {},
   "outputs": [
    {
     "data": {
      "application/vnd.jupyter.widget-view+json": {
       "model_id": "8da954f3bb1b4b9f8a2f86689dac0730",
       "version_major": 2,
       "version_minor": 0
      },
      "text/plain": [
       "Text(value='')"
      ]
     },
     "metadata": {},
     "output_type": "display_data"
    }
   ],
   "source": [
    "from datetime import datetime\n",
    "date_format = \"%m/%d/%Y\"\n",
    "months = {'Jan': 1, 'Feb': 2, 'Mar':3,'Apr':4,'May':5,'June':6,'July':7,'Aug':8,'Sept':9,'Oct':10,'Nov':11, 'Dec':12}\n",
    "with open('timeline.csv') as csvfile:\n",
    "    for row in csv.DictReader(csvfile):\n",
    "        event = row[\"EVENT\"]\n",
    "        if(event.startswith('Titanic arrived at Southampton')):\n",
    "            yeardepart = row[\"YEAR\"]\n",
    "            datedepart = row[\"DAY\"]\n",
    "            daydepart = datedepart[:-6] \n",
    "            monthdepart = datedepart[-3:]\n",
    "        elif(event.startswith('Titanic departed Southampton')):\n",
    "            yeararrive = row[\"YEAR\"]\n",
    "            datearrive = row[\"DAY\"]\n",
    "            dayarrive = datearrive[:-6] \n",
    "            montharrive = datearrive[-3:]\n",
    "        else:\n",
    "            pass\n",
    "date1 = str(months[montharrive]) + \"/\" + dayarrive + \"/\" + yeararrive\n",
    "date2 = str(months[monthdepart]) + \"/\" + daydepart + \"/\" + yeardepart\n",
    "a = datetime.strptime(date1, date_format)\n",
    "b = datetime.strptime(date2, date_format)\n",
    "delta = a - b\n",
    "answer = '6c8d0e16edfde6c6edde867e602b8131'\n",
    "\n",
    "# Create answer box.\n",
    "text = widgets.Text()\n",
    "display(text)\n",
    "text.on_submit(check_answer)"
   ]
  },
  {
   "cell_type": "code",
   "execution_count": 122,
   "metadata": {},
   "outputs": [
    {
     "data": {
      "text/html": [
       "<iframe src=\"answers3.html\" style=\"border: none;\" width=\"1000px\" height=\"200px\"></iframe>"
      ],
      "text/plain": [
       "<IPython.core.display.HTML object>"
      ]
     },
     "metadata": {},
     "output_type": "display_data"
    }
   ],
   "source": [
    "%%html\n",
    "<iframe src=\"answers3.html\" style=\"border: none;\" width=\"1000px\" height=\"200px\"></iframe>"
   ]
  },
  {
   "cell_type": "markdown",
   "metadata": {},
   "source": [
    "##### \"Unsinkable\" Titanic's Fatal Flaws (Etracted from https://www.history.com/topics/titanic)\n",
    "According to some hypotheses, Titanic was doomed from the start by a design that many lauded as state-of-the-art. The Olympic-class ships featured a double bottom and 15 watertight bulkhead compartments equipped with electric watertight doors that could be operated individually or simultaneously by a switch on the bridge.\n",
    "\n",
    "It was these watertight bulkheads that inspired Shipbuilder magazine, in a special issue devoted to the Olympic liners, to deem them “practically unsinkable.”\n",
    "\n",
    "But the watertight compartment design contained a flaw that was a critical factor in Titanic’s sinking: While the individual bulkheads were indeed watertight, the walls separating the bulkheads extended only a few feet above the water line, so water could pour from one compartment into another, especially if the ship began to list or pitch forward.\n",
    "\n",
    "The second critical safety lapse that contributed to the loss of so many lives was the number of lifeboats carried on Titanic. A mere 16 boats, plus four Engelhardt “collapsibles,” could accommodate just 1,178 people. Titanic could carry up to 2,435 passengers, and a crew of approximately 900 brought her capacity to more than 3,300 people.\n",
    "\n",
    "As a result, even if the lifeboats were loaded to full capacity during an emergency evacuation, there were available seats for only one-third of those on board. While unthinkably inadequate by today’s standards, Titanic’s supply of lifeboats actually exceeded the British Board of Trade’s requirements."
   ]
  },
  {
   "cell_type": "markdown",
   "metadata": {},
   "source": [
    "<h1><a name=\"passengers\" style=\"text-decoration: none; color: black;\">The Passengers</a></h1>\n",
    "- <a href = \"#who\">Who Were They ? </a> <br>\n",
    "- <a href = \"#embarked\"> Where Did They Embark ? </a> <br>\n",
    "- <a href =\"#from\"> Where Were They From ? </a> <br>\n"
   ]
  },
  {
   "cell_type": "markdown",
   "metadata": {},
   "source": [
    "<h2><a name=\"who\" style=\"text-decoration: none; color: black;\">Who Were They?</a></h2>"
   ]
  },
  {
   "cell_type": "markdown",
   "metadata": {},
   "source": [
    "The graph graph below represents all the passengers that boarded the Titanic.The colour red represents the people that died and the colour blue represents those that survived.\n",
    "You can click on the different on the top right hand corner to see what class had the most red dots."
   ]
  },
  {
   "cell_type": "code",
   "execution_count": 123,
   "metadata": {
    "scrolled": true
   },
   "outputs": [
    {
     "data": {
      "text/html": [
       "\n",
       "\n",
       "<iframe src=\"first.html\"  width=\"900px\" height=\"600px\"></iframe>\n",
       "\n"
      ],
      "text/plain": [
       "<IPython.core.display.HTML object>"
      ]
     },
     "metadata": {},
     "output_type": "display_data"
    }
   ],
   "source": [
    "%%html\n",
    "\n",
    "\n",
    "<iframe src=\"first.html\"  width=\"900px\" height=\"600px\"></iframe>\n",
    "\n",
    "\n"
   ]
  },
  {
   "cell_type": "markdown",
   "metadata": {},
   "source": [
    "Below there is a Random Passenger Information Generator. Click on the button below to learn new things about random passengers on Deck and their different experiences. "
   ]
  },
  {
   "cell_type": "code",
   "execution_count": 124,
   "metadata": {
    "scrolled": true
   },
   "outputs": [
    {
     "data": {
      "text/html": [
       "<iframe src=\"quote.html\" style=\"border: none;\" width=\"1000px\" height=\"200px\"></iframe>"
      ],
      "text/plain": [
       "<IPython.core.display.HTML object>"
      ]
     },
     "metadata": {},
     "output_type": "display_data"
    }
   ],
   "source": [
    "%%html\n",
    "<iframe src=\"quote.html\" style=\"border: none;\" width=\"1000px\" height=\"200px\"></iframe>"
   ]
  },
  {
   "cell_type": "markdown",
   "metadata": {},
   "source": [
    "<h2><a name=\"embarked\" style=\"text-decoration: none; color: black;\">Where Did They Embark?</a></h2>\n",
    "Titanic created quite a stir when it departed for its maiden voyage from Southampton, England, on April 10, 1912. After stops in Cherbourg, France, and Queenstown (now known as Cobh), Ireland, the ship set sail for New York with 2,240 passengers and crew—or “souls,” the expression then used in the shipping industry, usually in connection with a sinking—on board."
   ]
  },
  {
   "cell_type": "code",
   "execution_count": 125,
   "metadata": {},
   "outputs": [],
   "source": [
    "with open('titaniclist4.csv') as csvfile:\n",
    "    totalS, totalQ, totalC = 0,0,0 \n",
    "   \n",
    "    for row in csv.DictReader(csvfile):\n",
    "        if row[\"embarked\"] == \"S\":\n",
    "            totalS += 1\n",
    "             \n",
    "        elif row[\"embarked\"] ==\"Q\":\n",
    "            totalQ += 1\n",
    "             \n",
    "        elif row[\"embarked\"] ==\"C\":\n",
    "            totalC += 1\n",
    "              \n",
    "        else:\n",
    "            pass\n",
    "\n",
    "    \n",
    "\n",
    "\n",
    "\n",
    "\n"
   ]
  },
  {
   "cell_type": "code",
   "execution_count": 126,
   "metadata": {},
   "outputs": [],
   "source": [
    "with open('titaniclist4.csv') as csvfile:\n",
    "    survivedS,survivedQ,survivedC = 0,0,0\n",
    "    for row in csv.DictReader(csvfile):\n",
    "        if row[\"embarked\"] == \"S\" and row[\"survived\"] == \"1\":\n",
    "            survivedS +=1\n",
    "             \n",
    "        elif row[\"embarked\"] ==\"Q\" and row[\"survived\"] == \"1\":\n",
    "            survivedQ += 1\n",
    "             \n",
    "        elif row[\"embarked\"] ==\"C\" and row[\"survived\"] == \"1\":\n",
    "            survivedC += 1 \n",
    "        else:\n",
    "            pass\n"
   ]
  },
  {
   "cell_type": "markdown",
   "metadata": {},
   "source": [
    "Click on any of the ports below to view the rate of survival at each port."
   ]
  },
  {
   "cell_type": "code",
   "execution_count": 127,
   "metadata": {},
   "outputs": [
    {
     "data": {
      "text/html": [
       "<iframe src=\"Southampton.html\" style=\"border: none;\" width=\"1000px\" height=\"200px\"></iframe>"
      ],
      "text/plain": [
       "<IPython.core.display.HTML object>"
      ]
     },
     "metadata": {},
     "output_type": "display_data"
    }
   ],
   "source": [
    "%%html\n",
    "<iframe src=\"Southampton.html\" style=\"border: none;\" width=\"1000px\" height=\"200px\"></iframe>"
   ]
  },
  {
   "cell_type": "code",
   "execution_count": 128,
   "metadata": {},
   "outputs": [
    {
     "data": {
      "text/html": [
       "<script>requirejs.config({paths: { 'plotly': ['https://cdn.plot.ly/plotly-latest.min']},});if(!window.Plotly) {{require(['plotly'],function(plotly) {window.Plotly=plotly;});}}</script>"
      ],
      "text/vnd.plotly.v1+html": [
       "<script>requirejs.config({paths: { 'plotly': ['https://cdn.plot.ly/plotly-latest.min']},});if(!window.Plotly) {{require(['plotly'],function(plotly) {window.Plotly=plotly;});}}</script>"
      ]
     },
     "metadata": {},
     "output_type": "display_data"
    }
   ],
   "source": [
    "py.init_notebook_mode(connected=True)\n",
    "\n",
    "labels = ['Survived','Died']\n",
    "values = [survivedC,totalC-survivedC]\n",
    "domains = [\n",
    "\n",
    "         {'x': [0.33, 1.0], 'y': [0.33, 1.0]}\n",
    "        ]\n",
    "traces = []\n",
    "for domain in domains:\n",
    "        trace = go.Pie(labels = labels,\n",
    "                       values = values,\n",
    "                       domain = domain,\n",
    "                       hoverinfo = 'label+percent+name')\n",
    "traces.append(trace)\n",
    "layout = go.Layout(height = 550,\n",
    "                    width = 550,\n",
    "                    autosize = False,\n",
    "                    title = 'Rate of Survival of People who embarked from Cherbourg')\n",
    "fig = go.Figure(data = traces, layout = layout)\n"
   ]
  },
  {
   "cell_type": "markdown",
   "metadata": {},
   "source": [
    "### Questions"
   ]
  },
  {
   "cell_type": "code",
   "execution_count": 129,
   "metadata": {},
   "outputs": [
    {
     "data": {
      "text/html": [
       "<html>\n",
       "<body>\n",
       "\n",
       "<h6>Although it does not seem like the port the passengers embarked affected their survival. What port seemed to have to most survival rate  ? </h6>\n",
       "<pre>\n",
       "a) Chebourg\n",
       "b) Queenstown\n",
       "c) Southampton\n",
       "\n",
       "</pre>\n",
       "<em>Note: Note:Type A, B or C in capital letters.</em>\n",
       "</html>"
      ],
      "text/plain": [
       "<IPython.core.display.HTML object>"
      ]
     },
     "metadata": {},
     "output_type": "display_data"
    }
   ],
   "source": [
    "%%html\n",
    "<html>\n",
    "<body>\n",
    "\n",
    "<h6>Although it does not seem like the port the passengers embarked affected their survival. What port seemed to have to most survival rate  ? </h6>\n",
    "<pre>\n",
    "a) Chebourg\n",
    "b) Queenstown\n",
    "c) Southampton\n",
    "\n",
    "</pre>\n",
    "<em>Note: Note:Type A, B or C in capital letters.</em>\n",
    "</html>\n"
   ]
  },
  {
   "cell_type": "code",
   "execution_count": 130,
   "metadata": {},
   "outputs": [
    {
     "data": {
      "application/vnd.jupyter.widget-view+json": {
       "model_id": "80c0c5eb59ad4b539eaa673cc4ef6bc7",
       "version_major": 2,
       "version_minor": 0
      },
      "text/plain": [
       "Text(value='')"
      ]
     },
     "metadata": {},
     "output_type": "display_data"
    }
   ],
   "source": [
    "# Encrypted answer.\n",
    "answer = '7fc56270e7a70fa81a5935b72eacbe29'\n",
    "# Create answer box.\n",
    "text = widgets.Text()\n",
    "display(text)\n",
    "text.on_submit(check_answer)"
   ]
  },
  {
   "cell_type": "code",
   "execution_count": 131,
   "metadata": {},
   "outputs": [
    {
     "data": {
      "text/html": [
       "<iframe src=\"answers4.html\" style=\"border: none;\" width=\"1000px\" height=\"200px\"></iframe>"
      ],
      "text/plain": [
       "<IPython.core.display.HTML object>"
      ]
     },
     "metadata": {},
     "output_type": "display_data"
    }
   ],
   "source": [
    "%%html\n",
    "<iframe src=\"answers4.html\" style=\"border: none;\" width=\"1000px\" height=\"200px\"></iframe>"
   ]
  },
  {
   "cell_type": "markdown",
   "metadata": {},
   "source": [
    "<h2><a name=\"from\" style=\"text-decoration: none; color: black;\">Where Were They From ?</a></h2>\n",
    "The Titanic's Passengers were from different places in the world and All had different home destinations.Below there is a graph that shows all the passengers on the titanic with and all thier home destinations . The blue dots represent all the people that survived while the red dots represent the people that died. Big clusters of poeple are represented as one dot and youll have to zoom into the graph to see the number of poeple located at these places."
   ]
  },
  {
   "cell_type": "code",
   "execution_count": 132,
   "metadata": {},
   "outputs": [],
   "source": [
    "def drawdied(x,y,died,m):\n",
    "    for i in range(died):\n",
    "        markers= list()\n",
    "        marker = CircleMarker(location=(x, y),radius = 1,color = \"red\",fill_color = \"red\",)\n",
    "        x += 0.001\n",
    "        y -= 0.001\n",
    "        '''\n",
    "        message = HTML()\n",
    "        message.value = diedlist[i]\n",
    "        marker.popup = message\n",
    "        \n",
    "        '''\n",
    "       \n",
    "        m.add_layer(marker)\n",
    "def drawsurvived(x,y,sur,m):\n",
    "    for i in range(sur):\n",
    "        marker1 = CircleMarker(location=(x, y),radius = 1,color = \"blue\",fill_color = \"blue\")\n",
    "        x += 0.001\n",
    "        y += 0.001\n",
    "        '''\n",
    "        message = HTML()\n",
    "        message.value = surlist[i]\n",
    "        marker1.popup = message\n",
    "        m.add_layer(marker1)\n",
    "        '''\n",
    "        m.add_layer(marker1)\n",
    "    "
   ]
  },
  {
   "cell_type": "code",
   "execution_count": 185,
   "metadata": {},
   "outputs": [
    {
     "data": {
      "application/vnd.jupyter.widget-view+json": {
       "model_id": "39f2a4528b7640e8becc9b9bf5e606e9",
       "version_major": 2,
       "version_minor": 0
      },
      "text/plain": [
       "Map(basemap={'url': 'https://{s}.tile.openstreetmap.org/{z}/{x}/{y}.png', 'max_zoom': 19, 'attribution': 'Map …"
      ]
     },
     "metadata": {},
     "output_type": "display_data"
    }
   ],
   "source": [
    "from ipyleaflet import Map\n",
    "from ipyleaflet import Marker\n",
    "from ipyleaflet import VideoOverlay\n",
    "from ipyleaflet import ImageOverlay\n",
    "from ipyleaflet import basemaps, basemap_to_tiles, DrawControl\n",
    "from ipyleaflet import MeasureControl\n",
    "from ipyleaflet import Popup\n",
    "from ipywidgets import HTML\n",
    "from ipyleaflet import Rectangle,Polygon\n",
    "from ipyleaflet import  Circle, CircleMarker\n",
    "\n",
    "center = (20, 0)\n",
    "m = Map(center=center, zoom=2)\n",
    "\n",
    "######################################  Missouri #########################################################\n",
    "st = CircleMarker(location=(38.6270, -90.199402 ),radius = 4,color = \"maroon\",fill_color = \"maroon\")\n",
    "message1 = HTML()\n",
    "message1.value = \" Missouri : 100 % survival rate \"\n",
    "st.popup = message1\n",
    "m.add_layer(st)\n",
    "\n",
    "########################################################## MONTREAL############################################\n",
    "montreal = CircleMarker(location=(45.677767, -73.511990 ),radius = 4,color = \"yellow\",fill_color = \"yellow\")\n",
    "message2 = HTML()\n",
    "message2.value = \" MONTREAL: 42 % survival rate\"\n",
    "montreal.popup = message2\n",
    "m.add_layer(montreal)\n",
    "##########################################################  New York ############################################\n",
    "newyork = CircleMarker(location=(40.692985, -73.920674 ),radius = 4,color = \"green\",fill_color = \"green\")\n",
    "message3 = HTML()\n",
    "message3.value = \" New York:59% survival rate \"\n",
    "newyork.popup = message3\n",
    "m.add_layer(newyork)\n",
    "##########################################################  New Jersey ############################################\n",
    "newjersey = CircleMarker(location=(39.747967, -74.650276),radius = 4,color = \"pink\",fill_color = \"pink\")\n",
    "message4 = HTML()\n",
    "message4.value = \" New Jersey:41 % survival rate \"\n",
    "newjersey.popup = message4\n",
    "m.add_layer(newjersey)\n",
    "##########################################################  ALBERTA ############################################\n",
    "alberta = CircleMarker(location=(53.541735, -113.498347),radius = 4,color = \"red\",fill_color = \"red\")\n",
    "message5 = HTML()\n",
    "message5.value = \" Alberta: 41 % survival rate\"\n",
    "alberta.popup = message5\n",
    "m.add_layer(alberta)\n",
    "########################################################## California ############################################\n",
    "california = CircleMarker(location=(38.584541, -121.490303),radius = 4,color = \"orange\",fill_color = \"orange\")\n",
    "message6 = HTML()\n",
    "message6.value = \" California: 69 % survival rate\"\n",
    "california.popup = message6\n",
    "m.add_layer(california)\n",
    "########################################################## Massachusetts ############################################\n",
    "massachusetts = CircleMarker(location=(42.365160, -71.288695),radius = 4,color = \"#BC8F8F\",fill_color = \"#BC8F8F\")\n",
    "message7 = HTML()\n",
    "message7.value = \" Massachusetts: 29 % survival rate\"\n",
    "massachusetts.popup = message7\n",
    "m.add_layer(massachusetts)\n",
    "########################################################## Manitoba ############################################\n",
    "manitoba = CircleMarker(location=(42.365160, -71.288695),radius = 4,color = \"#BC8F8F\",fill_color = \"#BC8F8F\")\n",
    "message8 = HTML()\n",
    "message8.value = \" Manitoba: 40 % survival rate\"\n",
    "manitoba.popup = message8\n",
    "m.add_layer(manitoba)\n",
    "########################################################## Connecticut ############################################\n",
    "connecticut = CircleMarker(location=(41.558925, -72.646959),radius = 4,color = \"#DDA0DD\",fill_color = \"#DDA0DD\")\n",
    "message9 = HTML()\n",
    "message9.value = \" Connecticut: 66.7 % survival rate\"\n",
    "connecticut.popup = message9\n",
    "m.add_layer(connecticut)\n",
    "########################################################## Illinois ############################################\n",
    "illinois = CircleMarker(location=(40.225428, -89.541227),radius = 4,color = \"#FA8072\",fill_color = \"#FA8072\")\n",
    "message10 = HTML()\n",
    "message10.value = \" Illinois: 30 % survival rate\"\n",
    "illinois.popup = message10\n",
    "m.add_layer(illinois)\n",
    "########################################################## Indiana ############################################\n",
    "indiana = CircleMarker(location=(39.787167, -86.180484),radius = 4,color = \"purple\",fill_color = \"purple\")\n",
    "message10 = HTML()\n",
    "message10.value = \" Indiana: 66.7% survival rate\"\n",
    "indiana.popup = message10\n",
    "m.add_layer(indiana)\n",
    "########################################################## Vermont ############################################\n",
    "vermont= CircleMarker(location=(44.102792, -72.838563),radius = 4,color = \"#808000\",fill_color = \"#808000\")\n",
    "message10 = HTML()\n",
    "message10.value = \" Vermont: 50% survival rate\"\n",
    "vermont.popup = message10\n",
    "m.add_layer(vermont)\n",
    "########################################################## Oregon ############################################\n",
    "oregon= CircleMarker(location=(44.041579, -121.295707),radius = 4,color = \"#FF1493\",fill_color = \"#FF1493\")\n",
    "message10 = HTML()\n",
    "message10.value = \" Oregon: 57.1% survival rate\"\n",
    "oregon.popup = message10\n",
    "m.add_layer(oregon)\n",
    "########################################################## England ############################################\n",
    "england= CircleMarker(location=(52.486681, -1.058725),radius = 4,color = \"#483D8B\",fill_color = \"#483D8B\")\n",
    "message10 = HTML()\n",
    "message10.value = \"England: 38.7% survival rate\"\n",
    "england.popup = message10\n",
    "m.add_layer(england)\n",
    "########################################################## Cuba ############################################\n",
    "cuba= CircleMarker(location=(21.679800, -78.436886),radius = 4,color = \"#D2B48C\",fill_color = \"#D2B48C\")\n",
    "message10 = HTML()\n",
    "message10.value = \"Cuba: 80% survival rate\"\n",
    "cuba.popup = message10\n",
    "m.add_layer(cuba)\n",
    "########################################################## France ############################################\n",
    "france= CircleMarker(location=(46.388785, 2.468069),radius = 4,color = \"#A0522D\",fill_color = \"#A0522D\")\n",
    "message10 = HTML()\n",
    "message10.value = \"France: 83.3%  survival rate\"\n",
    "france.popup = message10\n",
    "m.add_layer(france)\n",
    "########################################################## Rhode Island ############################################\n",
    "ri= CircleMarker(location=(41.677105, -71.596965),radius = 4,color = \"#C71585\",fill_color = \"#C71585\")\n",
    "message10 = HTML()\n",
    "message10.value = \"Rhode Island: 33.3% survival rate\"\n",
    "ri.popup = message10\n",
    "m.add_layer(ri)\n",
    "########################################################## Ontario ############################################\n",
    "ontario= CircleMarker(location=(48.665099, -82.994353),radius = 4,color = \"#DAA520\",fill_color = \"#DAA520\")\n",
    "message10 = HTML()\n",
    "message10.value = \"Ontario: 14% survival rate\"\n",
    "ontario.popup = message10\n",
    "m.add_layer(ontario)\n",
    "########################################################## Washington DC ############################################\n",
    "dc= CircleMarker(location=(38.918626, -77.009094),radius = 4,color = \"#808080\",fill_color = \"#808080\")\n",
    "message10 = HTML()\n",
    "message10.value = \"Washington DC: 75% survival rate\"\n",
    "dc.popup = message10\n",
    "m.add_layer(dc)\n",
    "########################################################## Washington  ############################################\n",
    "w= CircleMarker(location=(47.969239, -120.620238),radius = 4,color = \"#7FFF00\",fill_color = \"#7FFF00\")\n",
    "message10 = HTML()\n",
    "message10.value = \"Washington: 28% survival rate\"\n",
    "w.popup = message10\n",
    "m.add_layer(w)\n",
    "########################################################## Belfast  ############################################\n",
    "belfast= CircleMarker(location=(54.599175, -5.930761),radius = 4,color = \"#D2691E\",fill_color = \"#D2691E\")\n",
    "message10 = HTML()\n",
    "message10.value = \"Belfast: 0% suvival rate\"\n",
    "belfast.popup = message10\n",
    "m.add_layer(belfast)\n",
    "########################################################## Spain ############################################\n",
    "spain= CircleMarker(location=(40.362979, -3.750356),radius = 4,color = \"#DC143C\",fill_color = \"#DC143C\")\n",
    "message10 = HTML()\n",
    "message10.value = \"Spain:66.7% survival rate\"\n",
    "spain.popup = message10\n",
    "m.add_layer(spain)\n",
    "########################################################## Netherlands ############################################\n",
    "n= CircleMarker(location=(52.191722, 5.112678),radius = 4,color = \"#B8860B\",fill_color = \"#B8860B\")\n",
    "message10 = HTML()\n",
    "message10.value = \"Netherlands:0% survival rate\"\n",
    "n.popup = message10\n",
    "m.add_layer(n)\n",
    "########################################################## Pennsylvania ############################################\n",
    "p= CircleMarker(location=(40.789117, -77.761176),radius = 4,color = \"#2F4F4F\",fill_color = \"#2F4F4F\")\n",
    "message10 = HTML()\n",
    "message10.value = \"Pennsylvania: 59% survival rate\"\n",
    "p.popup = message10\n",
    "m.add_layer(p)\n",
    "########################################################## Pennsylvania ############################################\n",
    "bc= CircleMarker(location=(54.627725, -124.568355),radius = 4,color = \"#8FBC8F\",fill_color = \"#8FBC8F\")\n",
    "message10 = HTML()\n",
    "message10.value = \"British Columbia: 25% survival rate\"\n",
    "bc.popup = message10\n",
    "m.add_layer(bc)\n",
    "##########################################################  Minnesota ############################################\n",
    "mn= CircleMarker(location=(45.927599, -94.665856),radius = 4,color = \"#9932CC\",fill_color = \"#9932CC\")\n",
    "message10 = HTML()\n",
    "message10.value = \"Minnesota: 31% survival rate\"\n",
    "mn.popup = message10\n",
    "m.add_layer(mn)\n",
    "##########################################################  West Virginia ############################################\n",
    "wv= CircleMarker(location=(38.581632, -80.755796),radius = 4,color = \"#00FFFF\",fill_color = \"#00FFFF\")\n",
    "message10 = HTML()\n",
    "message10.value = \"West Virginia: 50% survival rate\"\n",
    "wv.popup = message10\n",
    "m.add_layer(wv)\n",
    "##########################################################  Surrey ############################################\n",
    "surrey= CircleMarker(location=(49.119632, -122.785257),radius = 4,color = \"#E9967A\",fill_color = \"#E9967A\")\n",
    "message10 = HTML()\n",
    "message10.value = \"Surrey: 33.3% survival rate\"\n",
    "surrey.popup = message10\n",
    "m.add_layer(surrey)\n",
    "##########################################################  Switzerland ############################################\n",
    "sw= CircleMarker(location=(46.828864, 7.738546),radius = 4,color = \"#FF00FF\",fill_color = \"#FF00FF\")\n",
    "message10 = HTML()\n",
    "message10.value = \"Switzerland: 71.4% survival rate\"\n",
    "sw.popup = message10\n",
    "m.add_layer(sw)\n",
    "########################################################## Hampshire, England ############################################\n",
    "hants= CircleMarker(location=(51.021035, -1.250070),radius = 4,color = \"#008B8B\",fill_color = \"#008B8B\")\n",
    "message10 = HTML()\n",
    "message10.value = \"Hampshire, England: 33.3% survival rate\"\n",
    "hants.popup = message10\n",
    "m.add_layer(hants)\n",
    "########################################################## Greece ############################################\n",
    "greece= CircleMarker(location=(51.021035, -1.250070),radius = 4,color = \"#5F9EA0\",fill_color = \"#5F9EA0\")\n",
    "message10 = HTML()\n",
    "message10.value = \"Greece: 0% survival rate\"\n",
    "greece.popup = message10\n",
    "m.add_layer(greece)\n",
    "########################################################## Portugal ############################################\n",
    "portugal= CircleMarker(location=(38.925291, -8.327157),radius = 4,color = \"#DEB887\",fill_color = \"#DEB887\")\n",
    "message10 = HTML()\n",
    "message10.value = \"Portugal:0% survival rate \"\n",
    "portugal.popup = message10\n",
    "m.add_layer(portugal)\n",
    "########################################################## Portugal ############################################\n",
    "portugal= CircleMarker(location=(38.925291, -8.327157),radius = 4,color = \"#DEB887\",fill_color = \"#DEB887\")\n",
    "message10 = HTML()\n",
    "message10.value = \"Portugal: 0% survival rate \"\n",
    "portugal.popup = message10\n",
    "m.add_layer(portugal)\n",
    "##########################################################Nova Scotia  ############################################\n",
    "ns= CircleMarker(location=(44.987931, -63.583234),radius = 4,color = \"#8A2BE2\",fill_color = \"#8A2BE2\")\n",
    "message10 = HTML()\n",
    "message10.value = \"Nova Scotia: 50% survival rate \"\n",
    "ns.popup = message10\n",
    "m.add_layer(ns)\n",
    "########################################################## South Dakota  ############################################\n",
    "sd= CircleMarker(location=(44.575473, -100.194686),radius = 4,color = \"#5F9EA0\",fill_color = \"#5F9EA0\")\n",
    "message10 = HTML()\n",
    "message10.value = \"South Dakota: 66.7% survival rate \"\n",
    "sd.popup = message10\n",
    "m.add_layer(sd)\n",
    "########################################################## Argentina  ############################################\n",
    "ar= CircleMarker(location=(-35.133382, -67.073879),radius = 4,color = \"#8A2BE2\",fill_color = \"#8A2BE2\")\n",
    "message10 = HTML()\n",
    "message10.value = \"Argentina: 0% survival rate \"\n",
    "ar.popup = message10\n",
    "m.add_layer(ar)\n",
    "########################################################## Ohio  ############################################\n",
    "oh= CircleMarker(location=(40.201095, -82.902685),radius = 4,color = \"#4B0082\",fill_color = \"#4B0082\")\n",
    "message10 = HTML()\n",
    "message10.value = \"Ohio:62.5% survival rate \"\n",
    "oh.popup = message10\n",
    "m.add_layer(oh)\n",
    "########################################################## Idaho ############################################\n",
    "idaho= CircleMarker(location=(44.786096, -114.612954),radius = 4,color = \"#20B2AA\",fill_color = \"#20B2AA\")\n",
    "message10 = HTML()\n",
    "message10.value = \"Idaho:62.5% survival rate \"\n",
    "idaho.popup = message10\n",
    "m.add_layer(idaho)\n",
    "########################################################## Provo, UT ############################################\n",
    "ut= CircleMarker(location=(40.246309, -111.642001),radius = 4,color = \"#B0C4DE\",fill_color = \"#B0C4DE\")\n",
    "message10 = HTML()\n",
    "message10.value = \"Provo, UT : 0% survival rate \"\n",
    "ut.popup = message10\n",
    "m.add_layer(ut)\n",
    "########################################################## Montevideo, Uruguay ############################################\n",
    "urugany= CircleMarker(location=(-34.800722, -56.186325),radius = 4,color = \"#CD853F\",fill_color = \"#CD853F\")\n",
    "message10 = HTML()\n",
    "message10.value = \"Montevideo, Uruguay: 0% survival rate \"\n",
    "urugany.popup = message10\n",
    "m.add_layer(urugany)\n",
    "########################################################## Hessle, Yorks ############################################\n",
    "yorks= CircleMarker(location=(53.724076, -0.434918),radius = 4,color = \"#DB7093\",fill_color = \"#DB7093\")\n",
    "message10 = HTML()\n",
    "message10.value = \"Hessle, Yorks: 100% survival rate \"\n",
    "yorks.popup = message10\n",
    "m.add_layer(yorks)\n",
    "########################################################## Little Onn Hall, Staffs ############################################\n",
    "staffs= CircleMarker(location=(52.741770, -2.241277),radius = 4,color = \"#FF6347\",fill_color = \"#FF6347\")\n",
    "message10 = HTML()\n",
    "message10.value = \"Little Onn Hall, Staffs:50% survival rate \"\n",
    "staffs.popup = message10\n",
    "m.add_layer(staffs)\n",
    "\n",
    "\n",
    "measure = MeasureControl(\n",
    "    position='bottomleft',\n",
    "    active_color = 'orange',\n",
    "    primary_length_unit = 'kilometers'\n",
    ")\n",
    "m.add_control(measure)\n",
    "\n",
    "measure.completed_color = 'red'\n",
    "\n",
    "measure.add_length_unit('yards', 1.09361, 4)\n",
    "measure.secondary_length_unit = 'yards'\n",
    "\n",
    "measure.add_area_unit('sqyards', 1.19599, 4)\n",
    "measure.secondary_area_unit = 'sqyards'\n",
    "m"
   ]
  },
  {
   "cell_type": "markdown",
   "metadata": {},
   "source": [
    "### Questions"
   ]
  },
  {
   "cell_type": "code",
   "execution_count": 134,
   "metadata": {
    "scrolled": true
   },
   "outputs": [
    {
     "data": {
      "text/html": [
       "<html>\n",
       "<body>\n",
       "\n",
       "<h6>Where was majority of the passengers home destination ? </h6>\n",
       "<pre>\n",
       "a) New York\n",
       "b) England\n",
       "c) Argentina\n",
       "</pre>\n",
       "<em>Note:Type A, B or C in capital letters.</em>\n",
       "</body>\n",
       "</html>"
      ],
      "text/plain": [
       "<IPython.core.display.HTML object>"
      ]
     },
     "metadata": {},
     "output_type": "display_data"
    }
   ],
   "source": [
    "%%html\n",
    "<html>\n",
    "<body>\n",
    "\n",
    "<h6>Where was majority of the passengers home destination ? </h6>\n",
    "<pre>\n",
    "a) New York\n",
    "b) England\n",
    "c) Argentina\n",
    "</pre>\n",
    "<em>Note:Type A, B or C in capital letters.</em>\n",
    "</body>\n",
    "</html>"
   ]
  },
  {
   "cell_type": "code",
   "execution_count": 135,
   "metadata": {},
   "outputs": [
    {
     "data": {
      "application/vnd.jupyter.widget-view+json": {
       "model_id": "57bc01d04c0042c394f47e2f9824d450",
       "version_major": 2,
       "version_minor": 0
      },
      "text/plain": [
       "Text(value='')"
      ]
     },
     "metadata": {},
     "output_type": "display_data"
    }
   ],
   "source": [
    "# Encrypted answer.\n",
    "answer = '7fc56270e7a70fa81a5935b72eacbe29'\n",
    "\n",
    "# Create answer box.\n",
    "text = widgets.Text()\n",
    "display(text)\n",
    "text.on_submit(check_answer)"
   ]
  },
  {
   "cell_type": "code",
   "execution_count": 136,
   "metadata": {},
   "outputs": [
    {
     "data": {
      "text/html": [
       "<html>\n",
       "<body>\n",
       "\n",
       "<h6>None of the passengers for South America survived. True/False ?</h6><em>Note:Just type either 'True' or 'False'</em>\n",
       "\n",
       "\n",
       "</body>\n",
       "</html>"
      ],
      "text/plain": [
       "<IPython.core.display.HTML object>"
      ]
     },
     "metadata": {},
     "output_type": "display_data"
    }
   ],
   "source": [
    "%%html\n",
    "<html>\n",
    "<body>\n",
    "\n",
    "<h6>None of the passengers for South America survived. True/False ?</h6><em>Note:Just type either 'True' or 'False'</em>\n",
    "\n",
    "\n",
    "</body>\n",
    "</html>"
   ]
  },
  {
   "cell_type": "code",
   "execution_count": 137,
   "metadata": {},
   "outputs": [
    {
     "data": {
      "application/vnd.jupyter.widget-view+json": {
       "model_id": "39b6404aa9044e3a87f00dc6e56f47d6",
       "version_major": 2,
       "version_minor": 0
      },
      "text/plain": [
       "Text(value='')"
      ]
     },
     "metadata": {},
     "output_type": "display_data"
    }
   ],
   "source": [
    "# Encrypted answer.\n",
    "answer = 'f827cf462f62848df37c5e1e94a4da74'\n",
    "\n",
    "# Create answer box.\n",
    "text = widgets.Text()\n",
    "display(text)\n",
    "text.on_submit(check_answer)"
   ]
  },
  {
   "cell_type": "code",
   "execution_count": 138,
   "metadata": {},
   "outputs": [
    {
     "data": {
      "text/html": [
       "<iframe src=\"answers5.html\" style=\"border: none;\" width=\"1000px\" height=\"200px\"></iframe>"
      ],
      "text/plain": [
       "<IPython.core.display.HTML object>"
      ]
     },
     "metadata": {},
     "output_type": "display_data"
    }
   ],
   "source": [
    "%%html\n",
    "<iframe src=\"answers5.html\" style=\"border: none;\" width=\"1000px\" height=\"200px\"></iframe>"
   ]
  },
  {
   "cell_type": "markdown",
   "metadata": {},
   "source": [
    "<h1><a name=\"disaster\" style=\"text-decoration: none; color: black;\">The Disaster</a></h1>\n",
    "- <a href = \"#strikes\"> Disaster strikes the Titanic  </a> <br>\n",
    "- <a href = \"#lifeboats\"> Lifeboats </a> <br>\n",
    "- <a href =\"#survived\"> Who Survived ? </a> <br>\n",
    "- <a href =\"#inter\"> Intersectionality </a> <br>\n"
   ]
  },
  {
   "cell_type": "markdown",
   "metadata": {},
   "source": [
    "<h3><a name=\"strikes\" style=\"text-decoration: none; color: black;\">Disaster strikes the Titanic (Extracted from https://www.history.com/topics/titanic )</a></h3>\n",
    "\n",
    "On April 14, after four days of uneventful sailing, Titanic received sporadic reports of ice from other ships, but she was sailing on calm seas under a moonless, clear sky.\n",
    "\n",
    "At about 11:30 p.m., a lookout saw an iceberg coming out of a slight haze dead ahead, then rang the warning bell and telephoned the bridge. The engines were quickly reversed and the ship was turned sharply—instead of making direct impact, Titanic seemed to graze along the side of the berg, sprinkling ice fragments on the forward deck.\n",
    "\n",
    "Sensing no collision, the lookouts were relieved. They had no idea that the iceberg had a jagged underwater spur, which slashed a 300-foot gash in the hull below the ship’s waterline.\n",
    "\n",
    "By the time the captain toured the damaged area with Harland and Wolff’s Thomas Andrews, five compartments were already filling with seawater, and the bow of the doomed ship was alarmingly pitched downward, allowing seawater to pour from one bulkhead into the neighboring compartment.\n",
    "\n",
    "Andrews did a quick calculation and estimated that Titanic might remain afloat for an hour and a half, perhaps slightly more. At that point the captain, who had already instructed his wireless operator to call for help, ordered the lifeboats to be loaded."
   ]
  },
  {
   "cell_type": "markdown",
   "metadata": {},
   "source": [
    "<h3><a name=\"lifeboats\" style=\"text-decoration: none; color: black;\">Life Boats (Extracted from https://www.history.com/topics/titanic )</a></h3>\n",
    "A little more than an hour after contact with the iceberg, a largely disorganized and haphazard evacuation began with the lowering of the first lifeboat. The craft was designed to hold 65 people; it left with only 28 aboard.\n",
    "\n",
    "Tragically, this was to be the norm: During the confusion and chaos during the precious hours before Titanic plunged into the sea, nearly every lifeboat would be launched woefully under-filled, some with only a handful of passengers.\n",
    "\n",
    "In compliance with the law of the sea, women and children boarded the boats first; only when there were no women or children nearby were men permitted to board. Yet many of the victims were in fact women and children, the result of disorderly procedures that failed to get them to the boats in the first place.\n",
    "\n",
    "Exceeding Andrews’ prediction, Titanic stubbornly stayed afloat for close to three hours. Those hours witnessed acts of craven cowardice and extraordinary bravery.\n",
    "\n",
    "Hundreds of human dramas unfolded between the order to load the lifeboats and the ship’s final plunge: Men saw off wives and children, families were separated in the confusion and selfless individuals gave up their spots to remain with loved ones or allow a more vulnerable passenger to escape."
   ]
  },
  {
   "cell_type": "markdown",
   "metadata": {},
   "source": [
    "##### Let's take a look at all the boats one by one and see what kind of poeple were carried on the earlier boats. Pick a lifeboat and run the cell below to see details of the passengers."
   ]
  },
  {
   "cell_type": "code",
   "execution_count": 139,
   "metadata": {},
   "outputs": [
    {
     "data": {
      "application/vnd.jupyter.widget-view+json": {
       "model_id": "6a8430c3a09641358ff5bb7e71220211",
       "version_major": 2,
       "version_minor": 0
      },
      "text/plain": [
       "SelectMultiple(description='Lifeboats', index=(0,), options=('Lifeboat 1', 'Lifeboat 2', 'Lifeboat 3', 'Lifebo…"
      ]
     },
     "metadata": {},
     "output_type": "display_data"
    }
   ],
   "source": [
    "lifeboats = widgets.SelectMultiple(\n",
    "    options=['Lifeboat 1', 'Lifeboat 2', 'Lifeboat 3','Lifeboat 4','Lifeboat 5','Lifeboat 6','Lifeboat 7','Lifeboat 8','Lifeboat 9','Lifeboat 10','Lifeboat 11','Lifeboat 12','Lifeboat 13','Lifeboat 14','Lifeboat 15','Lifeboat 16','Lifeboat A','Lifeboat B','Lifeboat C','Lifeboat D'],\n",
    "    value= ['Lifeboat 1'],\n",
    "    #rows=10,\n",
    "    description='Lifeboats',\n",
    "    disabled=False\n",
    ")\n",
    "\n",
    "lifeboats\n"
   ]
  },
  {
   "cell_type": "code",
   "execution_count": 140,
   "metadata": {},
   "outputs": [
    {
     "name": "stdout",
     "output_type": "stream",
     "text": [
      "Lifeboat 1 was launched 1:10 a.m.\n"
     ]
    },
    {
     "data": {
      "text/html": [
       "<div>\n",
       "<style scoped>\n",
       "    .dataframe tbody tr th:only-of-type {\n",
       "        vertical-align: middle;\n",
       "    }\n",
       "\n",
       "    .dataframe tbody tr th {\n",
       "        vertical-align: top;\n",
       "    }\n",
       "\n",
       "    .dataframe thead th {\n",
       "        text-align: right;\n",
       "    }\n",
       "</style>\n",
       "<table border=\"1\" class=\"dataframe\">\n",
       "  <thead>\n",
       "    <tr style=\"text-align: right;\">\n",
       "      <th></th>\n",
       "      <th>Name</th>\n",
       "      <th>Sex</th>\n",
       "      <th>Class</th>\n",
       "      <th>Ticket Fare</th>\n",
       "      <th>Embarked</th>\n",
       "      <th>Home Destination</th>\n",
       "    </tr>\n",
       "  </thead>\n",
       "  <tbody>\n",
       "    <tr>\n",
       "      <th>0</th>\n",
       "      <td>Duff Gordon, Lady. (Lucille Christiana Sutherl...</td>\n",
       "      <td>female</td>\n",
       "      <td>1</td>\n",
       "      <td>39.6000</td>\n",
       "      <td>C</td>\n",
       "      <td>London / Paris</td>\n",
       "    </tr>\n",
       "    <tr>\n",
       "      <th>1</th>\n",
       "      <td>Duff Gordon, Sir. Cosmo Edmund (\"Mr Morgan\")</td>\n",
       "      <td>male</td>\n",
       "      <td>1</td>\n",
       "      <td>56.9292</td>\n",
       "      <td>C</td>\n",
       "      <td>London / Paris</td>\n",
       "    </tr>\n",
       "    <tr>\n",
       "      <th>2</th>\n",
       "      <td>Francatelli, Miss. Laura Mabel</td>\n",
       "      <td>female</td>\n",
       "      <td>1</td>\n",
       "      <td>56.9292</td>\n",
       "      <td>C</td>\n",
       "      <td>NaN</td>\n",
       "    </tr>\n",
       "    <tr>\n",
       "      <th>3</th>\n",
       "      <td>Salomon, Mr. Abraham L</td>\n",
       "      <td>male</td>\n",
       "      <td>1</td>\n",
       "      <td>26.0000</td>\n",
       "      <td>S</td>\n",
       "      <td>New York, NY</td>\n",
       "    </tr>\n",
       "    <tr>\n",
       "      <th>4</th>\n",
       "      <td>Stengel, Mr. Charles Emil Henry</td>\n",
       "      <td>male</td>\n",
       "      <td>1</td>\n",
       "      <td>55.4417</td>\n",
       "      <td>C</td>\n",
       "      <td>Newark, NJ</td>\n",
       "    </tr>\n",
       "  </tbody>\n",
       "</table>\n",
       "</div>"
      ],
      "text/plain": [
       "                                                Name     Sex  Class  \\\n",
       "0  Duff Gordon, Lady. (Lucille Christiana Sutherl...  female      1   \n",
       "1       Duff Gordon, Sir. Cosmo Edmund (\"Mr Morgan\")    male      1   \n",
       "2                     Francatelli, Miss. Laura Mabel  female      1   \n",
       "3                             Salomon, Mr. Abraham L    male      1   \n",
       "4                    Stengel, Mr. Charles Emil Henry    male      1   \n",
       "\n",
       "   Ticket Fare Embarked Home Destination  \n",
       "0      39.6000        C   London / Paris  \n",
       "1      56.9292        C   London / Paris  \n",
       "2      56.9292        C              NaN  \n",
       "3      26.0000        S     New York, NY  \n",
       "4      55.4417        C       Newark, NJ  "
      ]
     },
     "execution_count": 140,
     "metadata": {},
     "output_type": "execute_result"
    }
   ],
   "source": [
    "import csv\n",
    "launched=list()\n",
    "with open('launched.csv') as csvfile:\n",
    "    for row in csv.DictReader(csvfile):\n",
    "        launched.append(row[\"time\"])\n",
    "        \n",
    "\n",
    "if lifeboats.value== ('Lifeboat 1',):\n",
    "    df= pandas.read_csv(\"boat1.csv\")\n",
    "    print(\"Lifeboat 1 was {}\".format(launched[0]))\n",
    "elif lifeboats.value== ('Lifeboat 2',):\n",
    "    df=pandas.read_csv(\"boat2.csv\")\n",
    "    print(\"Lifeboat 2 was {}\".format(launched[1]))\n",
    "elif lifeboats.value== ('Lifeboat 3',):\n",
    "    df=pandas.read_csv(\"boat3.csv\")\n",
    "    print(\"Lifeboat 3 was {}\".format(launched[2]))\n",
    "elif lifeboats.value== ('Lifeboat 4',):\n",
    "    df=pandas.read_csv(\"boat4.csv\")\n",
    "    print(\"Lifeboat 4 was {}\".format(launched[3]))\n",
    "elif lifeboats.value== ('Lifeboat 5',):\n",
    "    df=pandas.read_csv(\"boat5.csv\") \n",
    "    print(\"Lifeboat 5 was {}\".format(launched[4]))\n",
    "elif lifeboats.value== ('Lifeboat 6',):\n",
    "    df=pandas.read_csv(\"boat6.csv\")\n",
    "    print(\"Lifeboat 6 was {}\".format(launched[5]))\n",
    "elif lifeboats.value== ('Lifeboat 7',):\n",
    "    df=pandas.read_csv(\"boat7.csv\")\n",
    "    print(\"Lifeboat 7 was {}\".format(launched[6]))\n",
    "elif lifeboats.value== ('Lifeboat 8',):\n",
    "    df=pandas.read_csv(\"boat8.csv\")\n",
    "    print(\"Lifeboat 8 was {}\".format(launched[7]))\n",
    "elif lifeboats.value== ('Lifeboat 9',):\n",
    "    df=pandas.read_csv(\"boat9.csv\")\n",
    "    print(\"Lifeboat 9 was {}\".format(launched[8]))\n",
    "elif lifeboats.value== ('Lifeboat 10',):\n",
    "    df=pandas.read_csv(\"boat10.csv\") \n",
    "    print(\"Lifeboat 10 was {}\".format(launched[9]))\n",
    "elif lifeboats.value== ('Lifeboat 11',):\n",
    "    df=pandas.read_csv(\"boat11.csv\")\n",
    "    print(\"Lifeboat 11 was {}\".format(launched[10]))\n",
    "elif lifeboats.value== ('Lifeboat 12',):\n",
    "    df=pandas.read_csv(\"boat12.csv\")\n",
    "    print(\"Lifeboat 12 was {}\".format(launched[11]))\n",
    "elif lifeboats.value== ('Lifeboat 13',):\n",
    "    df=pandas.read_csv(\"boat13.csv\")\n",
    "    print(\"Lifeboat 13 was {}\".format(launched[12]))\n",
    "elif lifeboats.value==('Lifeboat 14',):\n",
    "    df=pandas.read_csv(\"boat14.csv\")\n",
    "    print(\"Lifeboat 14 was {}\".format(launched[13]))\n",
    "elif lifeboats.value== ('Lifeboat 15',):\n",
    "    df=pandas.read_csv(\"boat15.csv\")\n",
    "    print(\"Lifeboat 15 was {}\".format(launched[14]))\n",
    "elif lifeboats.value== ('Lifeboat 16',):\n",
    "    df=pandas.read_csv(\"boat16.csv\")\n",
    "    print(\"Lifeboat 16 was {}\".format(launched[15]))\n",
    "elif lifeboats.value== ('Lifeboat A',):\n",
    "    df=pandas.read_csv(\"boatA.csv\")\n",
    "    print(\"Lifeboat A was the {}\".format(launched[16]))\n",
    "elif lifeboats.value== ('Lifeboat B',):\n",
    "    df=pandas.read_csv(\"boatB.csv\")\n",
    "    print(\"Lifeboat B was the {}\".format(launched[17]))\n",
    "elif lifeboats.value== ('Lifeboat C',):\n",
    "    df=pandas.read_csv(\"boatC.csv\")\n",
    "    print(\"Lifeboat C was {}\".format(launched[18]))\n",
    "elif lifeboats.value== ('Lifeboat D',):\n",
    "    df=pandas.read_csv(\"boatD.csv\")\n",
    "    print(\"Lifeboat D was {}\".format(launched[19]))\n",
    "else:\n",
    "    pass\n",
    "df         "
   ]
  },
  {
   "cell_type": "markdown",
   "metadata": {},
   "source": [
    "<h3><a name=\"survived\" style=\"text-decoration: none; color: black;\">Who survived ?</a></h3>"
   ]
  },
  {
   "cell_type": "markdown",
   "metadata": {},
   "source": [
    "#### Class and Sex\n",
    "It was noted that passengers traveling first class on Titanic were roughly 44 percent more likely to survive than other passengers. Let us Explore the survival rate from of each class"
   ]
  },
  {
   "cell_type": "code",
   "execution_count": 141,
   "metadata": {},
   "outputs": [
    {
     "data": {
      "image/png": "[encoded data removed]",
      "text/plain": [
       "<Figure size 432x288 with 1 Axes>"
      ]
     },
     "metadata": {},
     "output_type": "display_data"
    }
   ],
   "source": [
    "import numpy as np\n",
    "import matplotlib.pyplot as plt\n",
    "import csv\n",
    "FCwomen ,SCwomen, TCwomen = 0,0,0\n",
    "FCmen ,SCmen, TCmen = 0,0,0\n",
    "survivedFCwomen ,survivedSCwomen, survivedTCwomen = 0,0,0\n",
    "survivedFCmen ,survivedSCmen, survivedTCmen = 0,0,0\n",
    "with open('titaniclist4.csv') as csvfile: \n",
    "    for row in csv.DictReader(csvfile):\n",
    "        if row[\"pclass\"] == \"1\" and row[\"sex\"] == \"female\":\n",
    "            FCwomen += 1\n",
    "            if row[\"survived\"] == \"1\":\n",
    "                survivedFCwomen += 1\n",
    "        elif row[\"pclass\"] ==\"2\" and row[\"sex\"] == \"female\":\n",
    "            SCwomen += 1\n",
    "            if row[\"survived\"] == \"1\":\n",
    "                survivedSCwomen += 1\n",
    "        elif row[\"pclass\"] ==\"3\" and row[\"sex\"] == \"female\":\n",
    "            TCwomen += 1\n",
    "            if row[\"survived\"] == \"1\":\n",
    "                survivedTCwomen += 1\n",
    "        elif row[\"pclass\"] ==\"1\" and row[\"sex\"] == \"male\":\n",
    "            FCmen += 1\n",
    "            if row[\"survived\"] == \"1\":\n",
    "                survivedFCmen += 1 \n",
    "        elif row[\"pclass\"] ==\"2\" and row[\"sex\"] == \"male\":\n",
    "            SCmen += 1\n",
    "            if row[\"survived\"] == \"1\":\n",
    "                survivedSCmen += 1\n",
    "        elif row[\"pclass\"] ==\"3\" and row[\"sex\"] == \"male\":\n",
    "            TCmen += 1\n",
    "            if row[\"survived\"] == \"1\":\n",
    "                survivedTCmen += 1\n",
    "        else:\n",
    "            pass\n",
    "perFCmen = (survivedFCmen/FCmen)*100\n",
    "perSCmen = (survivedSCmen/SCmen)*100\n",
    "perTCmen = (survivedTCmen/TCmen)*100\n",
    "perFCwomen = (survivedFCwomen/FCwomen)*100\n",
    "perSCwomen = (survivedSCwomen/SCwomen)*100\n",
    "perTCwomen = (survivedTCwomen/TCwomen)*100\n",
    "\n",
    "N = 3\n",
    "men_percentage = (perFCmen, perSCmen, perTCmen)\n",
    "men_std = (2, 3, 4)\n",
    "women_percentage = (perFCwomen,perSCwomen,perTCwomen)\n",
    "women_std = (3, 5, 2)\n",
    "ind = np.arange(N)  # the x locations for the groups\n",
    "width = 0.35       # the width of the bars\n",
    "\n",
    "fig, ax = plt.subplots()\n",
    "rects1 = ax.bar(ind, men_percentage, width, color='b', yerr=men_std)\n",
    "\n",
    "\n",
    "rects2 = ax.bar(ind + width, women_percentage, width, color='r', yerr=women_std)\n",
    "\n",
    "# add some text for labels, title and axes ticks\n",
    "ax.set_ylabel('Percentage Survival')\n",
    "ax.set_title('Percentage Survival by Class and Sex')\n",
    "ax.set_xticks(ind + width / 2)\n",
    "ax.set_xticklabels(('1st Class', '2nd Class', '3rd Class'))\n",
    "\n",
    "ax.legend((rects1[0], rects2[0]), ('Men', 'Women'))\n",
    "\n",
    "\n",
    "def autolabel(rects):\n",
    "    \"\"\"\n",
    "    Attach a text label above each bar displaying its height\n",
    "    \"\"\"\n",
    "    for rect in rects:\n",
    "        height = rect.get_height()\n",
    "        ax.text(rect.get_x() + rect.get_width()/2., 1.05*height,\n",
    "                '%d' % int(height),\n",
    "                ha='center', va='bottom')\n",
    "\n",
    "autolabel(rects1)\n",
    "autolabel(rects2)\n",
    "\n",
    "plt.show()"
   ]
  },
  {
   "cell_type": "markdown",
   "metadata": {},
   "source": [
    "###### From the chart above we could also notice that women had a better chance of survival than men"
   ]
  },
  {
   "cell_type": "markdown",
   "metadata": {},
   "source": [
    "#### Age\n",
    "Age was another factor that determined the fate of the passengers on the Titanic. Move the slider to see the age range that survived the titanic the most."
   ]
  },
  {
   "cell_type": "code",
   "execution_count": 142,
   "metadata": {},
   "outputs": [],
   "source": [
    "import matplotlib.pyplot as plt\n",
    "def update_range(maxage, minage):\n",
    "    if (minage>maxage):\n",
    "        print(\"Minimum age cannot be greater maximum age.\");\n",
    "    else:\n",
    "        import csv\n",
    "        sizes = list()\n",
    "        with open('titaniclist4.csv') as csvfile:\n",
    "            totalpeople = 0\n",
    "            survivedpeople =0\n",
    "            first,second,third = 0,0,0\n",
    "            firstw,secondw,thirdw = 0,0,0\n",
    "            firstm,secondm,thirdm = 0,0,0\n",
    "            for row in csv.DictReader(csvfile):\n",
    "                if (row[\"age\"] != \"\"):\n",
    "                    if (int(row[\"age\"])<= maxage and int(row[\"age\"])>= minage ):\n",
    "                        totalpeople += 1\n",
    "                        if(row[\"survived\"] == \"1\"):\n",
    "                            survivedpeople += 1\n",
    "                            if(row[\"pclass\"]==\"1\"):\n",
    "                                first += 1\n",
    "                                if(row[\"sex\"]==\"female\"):\n",
    "                                    firstw += 1\n",
    "                                else:\n",
    "                                    firstm += 1\n",
    "                            elif(row[\"pclass\"]==\"2\"):\n",
    "                                second += 1\n",
    "                                if(row[\"sex\"]==\"female\"):\n",
    "                                    secondw += 1\n",
    "                                else:\n",
    "                                    secondm += 1\n",
    "\n",
    "                            else:\n",
    "                                third += 1\n",
    "                                if(row[\"sex\"]==\"female\"):\n",
    "                                    thirdw += 1\n",
    "                                else:\n",
    "                                    thirdm += 1\n",
    "\n",
    "\n",
    "            percentagesurvival = (survivedpeople/totalpeople) * 100\n",
    "            prob = survivedpeople/totalpeople\n",
    "            died = totalpeople - survivedpeople\n",
    "            print(\"The percentage of survival in this age range is {}%\".format(round(percentagesurvival)))\n",
    "            # Pie chart, where the slices will be ordered and plotted counter-clockwise:\n",
    "            labels = 'Died', 'Survived 1st Class Men','Survived 1st Class Women', 'Survived 2nd Class Men' , 'Survived 2nd Class Women' ,'Survived 3rd Class Men','Survived 3rd Class Women'\n",
    "            sizes.append(died)\n",
    "            sizes.append(firstm)\n",
    "            sizes.append(firstw)\n",
    "            sizes.append(secondm)\n",
    "            sizes.append(secondw)\n",
    "            sizes.append(thirdm)\n",
    "            sizes.append(thirdw)\n",
    "            explode = (0.2, 0.1,0.1,0.1,0.1,0.1,0.1)  # only \"explode\" the 2nd slice (i.e. 'Hogs')\n",
    "\n",
    "            fig1, ax1 = plt.subplots()\n",
    "            ax1.pie(sizes, explode=explode, labels=labels, autopct='%1.1f%%',\n",
    "                    shadow=True, startangle=90, colors=['#B22222','#DAA520','#FFD700','#9370DB','#BA55D3','#2E8B57','#9ACD32'])\n",
    "            ax1.axis('equal')  # Equal aspect ratio ensures that pie is drawn as a circle.\n",
    "\n",
    "            plt.show()\n",
    "\n",
    "   \n"
   ]
  },
  {
   "cell_type": "code",
   "execution_count": 143,
   "metadata": {},
   "outputs": [
    {
     "data": {
      "application/vnd.jupyter.widget-view+json": {
       "model_id": "6df07c2b47a2444280505742fb82ba22",
       "version_major": 2,
       "version_minor": 0
      },
      "text/plain": [
       "interactive(children=(FloatSlider(value=20.0, description='Max:', max=80.0), FloatSlider(value=0.0, descriptio…"
      ]
     },
     "metadata": {},
     "output_type": "display_data"
    }
   ],
   "source": [
    "maxage = widgets.FloatSlider(min=0, max=80, value=20, description='Max:')\n",
    "minage = widgets.FloatSlider(min=0, max=70, value=0, description='Min:')   \n",
    "widgets.interactive(update_range, maxage=maxage, minage=minage)\n"
   ]
  },
  {
   "cell_type": "markdown",
   "metadata": {},
   "source": [
    "### Questions"
   ]
  },
  {
   "cell_type": "markdown",
   "metadata": {},
   "source": [
    "###### Did age play a major role in determining the rate of survival in the shipwreck ? Yes or No ?"
   ]
  },
  {
   "cell_type": "code",
   "execution_count": 144,
   "metadata": {},
   "outputs": [
    {
     "data": {
      "application/vnd.jupyter.widget-view+json": {
       "model_id": "e3ae1d47ec7c4b6c953bea54ed574e2e",
       "version_major": 2,
       "version_minor": 0
      },
      "text/plain": [
       "Text(value='')"
      ]
     },
     "metadata": {},
     "output_type": "display_data"
    }
   ],
   "source": [
    "# Encrypted answer.\n",
    "answer = 'bafd7322c6e97d25b6299b5d6fe8920b'\n",
    "\n",
    "# Create answer box.\n",
    "text = widgets.Text()\n",
    "display(text)\n",
    "text.on_submit(check_answer)\n"
   ]
  },
  {
   "cell_type": "code",
   "execution_count": 145,
   "metadata": {},
   "outputs": [
    {
     "data": {
      "text/html": [
       "<html>\n",
       "<body>\n",
       "\n",
       "<h6>What age group had the greatest percentage survival rate ? </h6>\n",
       "<pre>\n",
       "a) The young ones (0 - 5 years)\n",
       "b) The children (5 - 17 years) \n",
       "c) The adults (18 - 45 years)\n",
       "d) The old folks(45 -80 years)\n",
       "</pre>\n",
       "<em>Note: Type  A, B, C or D in capital letters.</em>\n",
       "\n",
       "</body>\n",
       "</html>"
      ],
      "text/plain": [
       "<IPython.core.display.HTML object>"
      ]
     },
     "metadata": {},
     "output_type": "display_data"
    }
   ],
   "source": [
    "%%html\n",
    "<html>\n",
    "<body>\n",
    "\n",
    "<h6>What age group had the greatest percentage survival rate ? </h6>\n",
    "<pre>\n",
    "a) The young ones (0 - 5 years)\n",
    "b) The children (5 - 17 years) \n",
    "c) The adults (18 - 45 years)\n",
    "d) The old folks(45 -80 years)\n",
    "</pre>\n",
    "<em>Note: Type  A, B, C or D in capital letters.</em>\n",
    "\n",
    "</body>\n",
    "</html>\n"
   ]
  },
  {
   "cell_type": "code",
   "execution_count": 146,
   "metadata": {},
   "outputs": [
    {
     "data": {
      "application/vnd.jupyter.widget-view+json": {
       "model_id": "bb4f86b2440f44e6aa066ebad67c8621",
       "version_major": 2,
       "version_minor": 0
      },
      "text/plain": [
       "Text(value='')"
      ]
     },
     "metadata": {},
     "output_type": "display_data"
    }
   ],
   "source": [
    "# Encrypted answer.\n",
    "answer = '7fc56270e7a70fa81a5935b72eacbe29'\n",
    "\n",
    "# Create answer box.\n",
    "text = widgets.Text()\n",
    "display(text)\n",
    "text.on_submit(check_answer)"
   ]
  },
  {
   "cell_type": "code",
   "execution_count": 147,
   "metadata": {},
   "outputs": [
    {
     "data": {
      "text/html": [
       "<iframe src=\"answers6.html\" style=\"border: none;\" width=\"1000px\" height=\"200px\"></iframe>"
      ],
      "text/plain": [
       "<IPython.core.display.HTML object>"
      ]
     },
     "metadata": {},
     "output_type": "display_data"
    }
   ],
   "source": [
    "%%html\n",
    "<iframe src=\"answers6.html\" style=\"border: none;\" width=\"1000px\" height=\"200px\"></iframe>"
   ]
  },
  {
   "cell_type": "markdown",
   "metadata": {},
   "source": [
    "##### Family Members\n",
    "People with fewer family members also seemed to have survived a little bit more than those with a lot of family members. "
   ]
  },
  {
   "cell_type": "code",
   "execution_count": 148,
   "metadata": {},
   "outputs": [],
   "source": [
    "def family(n):\n",
    "    import numpy as np\n",
    "    import matplotlib.pyplot as plt\n",
    "    from matplotlib.ticker import MaxNLocator\n",
    "    from collections import namedtuple\n",
    "    if n==6 or n==7:\n",
    "        print(\"There were no familys members with 6 or 7 members\")\n",
    "    else:\n",
    "        import csv\n",
    "        with open('titaniclist4.csv') as csvfile:\n",
    "            died = 0\n",
    "            survived =0\n",
    "            for row in csv.DictReader(csvfile):\n",
    "                if row[\"sibsp\"] != \"\":\n",
    "                    if int(row[\"sibsp\"]) == n and row[\"survived\"]==\"1\":\n",
    "                        survived += 1\n",
    "                    elif int(row[\"sibsp\"]) == n and row[\"survived\"]==\"0\":\n",
    "                        died += 1\n",
    "                    else:\n",
    "                        pass\n",
    "            tot= survived+died\n",
    "            per=survived/tot\n",
    "\n",
    "\n",
    "\n",
    "\n",
    "\n",
    "        n_groups = 1\n",
    "\n",
    "\n",
    "        std_men = 1\n",
    "\n",
    "        std_women = 1\n",
    "\n",
    "        fig, ax = plt.subplots()\n",
    "\n",
    "        index = np.arange(n_groups)\n",
    "        bar_width = 0.35\n",
    "\n",
    "        opacity = 0.4\n",
    "        error_config = {'ecolor': '0.3'}\n",
    "\n",
    "        rects1 = ax.bar(index, died, bar_width,\n",
    "                        alpha=opacity, color='b',\n",
    "                        yerr=std_men, error_kw=error_config,\n",
    "                        label='Died')\n",
    "\n",
    "        rects2 = ax.bar(index + bar_width, survived, bar_width,\n",
    "                        alpha=opacity, color='r',\n",
    "                        yerr=std_women, error_kw=error_config,\n",
    "                        label='Survived')\n",
    "\n",
    "        ax.set_xlabel('Number of family members')\n",
    "        ax.set_ylabel('Survival')\n",
    "        ax.set_title('Survival By number of family members')\n",
    "        ax.set_xticks(index + bar_width / 2)\n",
    "        ax.set_xticklabels(\"Fare\")\n",
    "        ax.legend()\n",
    "\n",
    "        fig.tight_layout()\n",
    "        plt.show()\n"
   ]
  },
  {
   "cell_type": "code",
   "execution_count": 149,
   "metadata": {},
   "outputs": [
    {
     "data": {
      "application/vnd.jupyter.widget-view+json": {
       "model_id": "77372cb0b70c421394c6409e82f22098",
       "version_major": 2,
       "version_minor": 0
      },
      "text/plain": [
       "interactive(children=(IntSlider(value=1, description='Family members', max=8), Output()), _dom_classes=('widge…"
      ]
     },
     "metadata": {},
     "output_type": "display_data"
    }
   ],
   "source": [
    "n = widgets.IntSlider(min=0, max=8, value=1, description='Family members')   \n",
    "widgets.interactive(family, n=n)"
   ]
  },
  {
   "cell_type": "markdown",
   "metadata": {},
   "source": [
    "### Questions "
   ]
  },
  {
   "cell_type": "code",
   "execution_count": 150,
   "metadata": {
    "scrolled": true
   },
   "outputs": [
    {
     "data": {
      "text/html": [
       "<html>\n",
       "<body>\n",
       "\n",
       "<h6>Having more family members __________________ one's chance of survival on the Titanic. </h6>\n",
       "<pre>\n",
       "a) increased\n",
       "b) reduced\n",
       "c) had no effect\n",
       "</pre>\n",
       "<em>Note: Type A, B or C in capital letters.</em>\n",
       "</body>\n",
       "</html>"
      ],
      "text/plain": [
       "<IPython.core.display.HTML object>"
      ]
     },
     "metadata": {},
     "output_type": "display_data"
    }
   ],
   "source": [
    "%%html\n",
    "<html>\n",
    "<body>\n",
    "\n",
    "<h6>Having more family members __________________ one's chance of survival on the Titanic. </h6>\n",
    "<pre>\n",
    "a) increased\n",
    "b) reduced\n",
    "c) had no effect\n",
    "</pre>\n",
    "<em>Note: Type A, B or C in capital letters.</em>\n",
    "</body>\n",
    "</html>"
   ]
  },
  {
   "cell_type": "code",
   "execution_count": 151,
   "metadata": {},
   "outputs": [
    {
     "data": {
      "application/vnd.jupyter.widget-view+json": {
       "model_id": "d7bcde6f26f14262bd7d9648d28fd6c5",
       "version_major": 2,
       "version_minor": 0
      },
      "text/plain": [
       "Text(value='')"
      ]
     },
     "metadata": {},
     "output_type": "display_data"
    }
   ],
   "source": [
    "# Encrypted answer.\n",
    "answer = '7fc56270e7a70fa81a5935b72eacbe29'\n",
    "\n",
    "# Create answer box.\n",
    "text = widgets.Text()\n",
    "display(text)\n",
    "text.on_submit(check_answer)"
   ]
  },
  {
   "cell_type": "code",
   "execution_count": 152,
   "metadata": {},
   "outputs": [
    {
     "data": {
      "text/html": [
       "<html>\n",
       "<body>\n",
       "\n",
       "<h6>What group seemed to have the most survival rate? </h6>\n",
       "<pre>\n",
       "a) people with 0 family members\n",
       "b) people with 1 family member\n",
       "c) people with 2 family members\n",
       "d) people with 3 family members\n",
       "e) people with 8 family members\n",
       "</pre>\n",
       "<em>Note: Type A, B, C, D or E in capital letters.</em>\n",
       "\n",
       "</body>\n",
       "</html>"
      ],
      "text/plain": [
       "<IPython.core.display.HTML object>"
      ]
     },
     "metadata": {},
     "output_type": "display_data"
    }
   ],
   "source": [
    "%%html\n",
    "<html>\n",
    "<body>\n",
    "\n",
    "<h6>What group seemed to have the most survival rate? </h6>\n",
    "<pre>\n",
    "a) people with 0 family members\n",
    "b) people with 1 family member\n",
    "c) people with 2 family members\n",
    "d) people with 3 family members\n",
    "e) people with 8 family members\n",
    "</pre>\n",
    "<em>Note: Type A, B, C, D or E in capital letters.</em>\n",
    "\n",
    "</body>\n",
    "</html>"
   ]
  },
  {
   "cell_type": "code",
   "execution_count": 153,
   "metadata": {},
   "outputs": [
    {
     "data": {
      "application/vnd.jupyter.widget-view+json": {
       "model_id": "79f7b24a75c54bdf89cecbd4d727b8bf",
       "version_major": 2,
       "version_minor": 0
      },
      "text/plain": [
       "Text(value='')"
      ]
     },
     "metadata": {},
     "output_type": "display_data"
    }
   ],
   "source": [
    "# Encrypted answer.\n",
    "answer = '9d5ed678fe57bcca610140957afab571'\n",
    "\n",
    "# Create answer box.\n",
    "text = widgets.Text()\n",
    "display(text)\n",
    "text.on_submit(check_answer)"
   ]
  },
  {
   "cell_type": "code",
   "execution_count": 154,
   "metadata": {},
   "outputs": [
    {
     "data": {
      "text/html": [
       "<html>\n",
       "<body>\n",
       "<h6>What group seemed to have the lowest survival rate? </h6>\n",
       "<pre>\n",
       "a) people with 0 family members\n",
       "b) people with 1 family member\n",
       "c) people with 2 family members\n",
       "d) people with 3 family members\n",
       "e) people with 8 family members\n",
       "</pre>\n",
       "<em>Note: Type A, B, C, D or E in capital letters.</em>\n",
       "</body>\n",
       "</html>"
      ],
      "text/plain": [
       "<IPython.core.display.HTML object>"
      ]
     },
     "metadata": {},
     "output_type": "display_data"
    }
   ],
   "source": [
    "%%html\n",
    "<html>\n",
    "<body>\n",
    "<h6>What group seemed to have the lowest survival rate? </h6>\n",
    "<pre>\n",
    "a) people with 0 family members\n",
    "b) people with 1 family member\n",
    "c) people with 2 family members\n",
    "d) people with 3 family members\n",
    "e) people with 8 family members\n",
    "</pre>\n",
    "<em>Note: Type A, B, C, D or E in capital letters.</em>\n",
    "</body>\n",
    "</html>"
   ]
  },
  {
   "cell_type": "code",
   "execution_count": 155,
   "metadata": {},
   "outputs": [
    {
     "data": {
      "application/vnd.jupyter.widget-view+json": {
       "model_id": "e3ee50cbb272432e8078c1167c1d5dee",
       "version_major": 2,
       "version_minor": 0
      },
      "text/plain": [
       "Text(value='')"
      ]
     },
     "metadata": {},
     "output_type": "display_data"
    }
   ],
   "source": [
    "# Encrypted answer.\n",
    "answer = '3a3ea00cfc35332cedf6e5e9a32e94da'\n",
    "\n",
    "# Create answer box.\n",
    "text = widgets.Text()\n",
    "display(text)\n",
    "text.on_submit(check_answer)"
   ]
  },
  {
   "cell_type": "code",
   "execution_count": 156,
   "metadata": {
    "scrolled": true
   },
   "outputs": [
    {
     "data": {
      "text/html": [
       "<html>\n",
       "<body>\n",
       "<h6>There were no poeple on board with__________________? </h6>\n",
       "<pre>\n",
       "a) 5 family members\n",
       "b) 6 family member\n",
       "c) 7 family members\n",
       "d) (b) and (c) \n",
       "e) None of the above\n",
       "</pre>\n",
       "<em>Note: Type A, B, C, D or E in capital letters.</em>\n",
       "</body>\n",
       "</html>"
      ],
      "text/plain": [
       "<IPython.core.display.HTML object>"
      ]
     },
     "metadata": {},
     "output_type": "display_data"
    }
   ],
   "source": [
    "%%html\n",
    "<html>\n",
    "<body>\n",
    "<h6>There were no poeple on board with__________________? </h6>\n",
    "<pre>\n",
    "a) 5 family members\n",
    "b) 6 family member\n",
    "c) 7 family members\n",
    "d) (b) and (c) \n",
    "e) None of the above\n",
    "</pre>\n",
    "<em>Note: Type A, B, C, D or E in capital letters.</em>\n",
    "</body>\n",
    "</html>"
   ]
  },
  {
   "cell_type": "code",
   "execution_count": 157,
   "metadata": {},
   "outputs": [
    {
     "data": {
      "application/vnd.jupyter.widget-view+json": {
       "model_id": "52f2c279db114b90b4c50f43a2c4d7be",
       "version_major": 2,
       "version_minor": 0
      },
      "text/plain": [
       "Text(value='')"
      ]
     },
     "metadata": {},
     "output_type": "display_data"
    }
   ],
   "source": [
    "# Encrypted answer.\n",
    "answer = 'f623e75af30e62bbd73d6df5b50bb7b5'\n",
    "\n",
    "# Create answer box.\n",
    "text = widgets.Text()\n",
    "display(text)\n",
    "text.on_submit(check_answer)"
   ]
  },
  {
   "cell_type": "code",
   "execution_count": 158,
   "metadata": {},
   "outputs": [
    {
     "data": {
      "text/html": [
       "<iframe src=\"answers7.html\" style=\"border: none;\" width=\"1000px\" height=\"200px\"></iframe>"
      ],
      "text/plain": [
       "<IPython.core.display.HTML object>"
      ]
     },
     "metadata": {},
     "output_type": "display_data"
    }
   ],
   "source": [
    "%%html\n",
    "<iframe src=\"answers7.html\" style=\"border: none;\" width=\"1000px\" height=\"200px\"></iframe>"
   ]
  },
  {
   "cell_type": "markdown",
   "metadata": {},
   "source": [
    "#### Ticket Prices\n",
    "How did the passengers ticket prices affect their survival?"
   ]
  },
  {
   "cell_type": "code",
   "execution_count": 159,
   "metadata": {},
   "outputs": [],
   "source": [
    "def ticket(minprice, maxprice):\n",
    "    import numpy as np\n",
    "    import matplotlib.pyplot as plt\n",
    "    from matplotlib.ticker import MaxNLocator\n",
    "    from collections import namedtuple\n",
    "    if (minprice>maxprice):\n",
    "        print(\"Minimum Fare ticket price cannot be more than Maximum Fare ticket price\")\n",
    "    else:\n",
    "        import csv\n",
    "        with open('titaniclist.csv') as csvfile:\n",
    "            died = 0\n",
    "            survived =0\n",
    "            for row in csv.DictReader(csvfile):\n",
    "                if row[\"Fare\"] != \"\":\n",
    "                    if float(row[\"Fare\"]) <= maxprice and float(row[\"Fare\"]) >= minprice and row[\"Survived\"]==\"1\":\n",
    "                        survived += 1\n",
    "                    elif float(row[\"Fare\"]) <= maxprice and float(row[\"Fare\"]) >= minprice and row[\"Survived\"]==\"0\":\n",
    "                        died += 1\n",
    "                    else:\n",
    "                        pass\n",
    "        tot= survived+died\n",
    "        per=survived/tot\n",
    "        \n",
    "\n",
    "\n",
    "\n",
    "        n_groups = 1\n",
    "\n",
    "\n",
    "        std_men = 1\n",
    "\n",
    "        std_women = 1\n",
    "\n",
    "        fig, ax = plt.subplots()\n",
    "\n",
    "        index = np.arange(n_groups)\n",
    "        bar_width = 0.35\n",
    "\n",
    "        opacity = 0.4\n",
    "        error_config = {'ecolor': '0.3'}\n",
    "\n",
    "        rects1 = ax.bar(index, died, bar_width,\n",
    "                        alpha=opacity, color='g',\n",
    "                        yerr=std_men, error_kw=error_config,\n",
    "                        label='Died')\n",
    "\n",
    "        rects2 = ax.bar(index + bar_width, survived, bar_width,\n",
    "                        alpha=opacity, color='y',\n",
    "                        yerr=std_women, error_kw=error_config,\n",
    "                        label='Survived')\n",
    "\n",
    "        ax.set_xlabel('Fare')\n",
    "        ax.set_ylabel('Survival')\n",
    "        ax.set_title('Survival By Ticket Fares')\n",
    "        ax.set_xticks(index + bar_width / 2)\n",
    "        ax.set_xticklabels(\"Fare\")\n",
    "        ax.legend()\n",
    "\n",
    "        fig.tight_layout()\n",
    "        plt.show()\n"
   ]
  },
  {
   "cell_type": "code",
   "execution_count": 160,
   "metadata": {},
   "outputs": [
    {
     "data": {
      "application/vnd.jupyter.widget-view+json": {
       "model_id": "5228e1adba8343b6837d6837c1cbd763",
       "version_major": 2,
       "version_minor": 0
      },
      "text/plain": [
       "interactive(children=(FloatSlider(value=7.25, description='Min Fares', max=512.0), FloatSlider(value=7.25, des…"
      ]
     },
     "metadata": {},
     "output_type": "display_data"
    }
   ],
   "source": [
    "minprice = widgets.FloatSlider(min=0, max=512, value=7.25, description='Min Fares')\n",
    "maxprice = widgets.FloatSlider(min=7.25, max=600, value=7.25, description='Max Fares')\n",
    "widgets.interactive(ticket, minprice = minprice, maxprice = maxprice)"
   ]
  },
  {
   "cell_type": "code",
   "execution_count": 161,
   "metadata": {},
   "outputs": [
    {
     "data": {
      "text/html": [
       "<html>\n",
       "<body>\n",
       "<h6>Everyone whose ticket was higher than __________________ survived. </h6>\n",
       "<pre>\n",
       "a) 263\n",
       "b) 195\n",
       "c) 213\n",
       "d) All of the above\n",
       "e) None of the above\n",
       "</pre>\n",
       "<em>Note: Type A, B, C, D or E in capital letters.</em>\n",
       "\n",
       "</body>\n",
       "</html>"
      ],
      "text/plain": [
       "<IPython.core.display.HTML object>"
      ]
     },
     "metadata": {},
     "output_type": "display_data"
    }
   ],
   "source": [
    "%%html\n",
    "<html>\n",
    "<body>\n",
    "<h6>Everyone whose ticket was higher than __________________ survived. </h6>\n",
    "<pre>\n",
    "a) 263\n",
    "b) 195\n",
    "c) 213\n",
    "d) All of the above\n",
    "e) None of the above\n",
    "</pre>\n",
    "<em>Note: Type A, B, C, D or E in capital letters.</em>\n",
    "\n",
    "</body>\n",
    "</html>"
   ]
  },
  {
   "cell_type": "code",
   "execution_count": 162,
   "metadata": {},
   "outputs": [
    {
     "data": {
      "application/vnd.jupyter.widget-view+json": {
       "model_id": "21bfee01a8a24bf9a28b54f961510102",
       "version_major": 2,
       "version_minor": 0
      },
      "text/plain": [
       "Text(value='')"
      ]
     },
     "metadata": {},
     "output_type": "display_data"
    }
   ],
   "source": [
    "# Encrypted answer.\n",
    "answer = 'f623e75af30e62bbd73d6df5b50bb7b5'\n",
    "\n",
    "# Create answer box.\n",
    "text = widgets.Text()\n",
    "display(text)\n",
    "text.on_submit(check_answer)"
   ]
  },
  {
   "cell_type": "code",
   "execution_count": 163,
   "metadata": {},
   "outputs": [
    {
     "data": {
      "text/html": [
       "<html>\n",
       "<body>\n",
       "<h6>If you were to be on the Titanic what price range should your tickets to have about 50% chance of survival ? (don't try to calculate exactly 50%) </h6>\n",
       "<pre>\n",
       "a) 212.97 - 318.55\n",
       "b) 43.90 - 117.39\n",
       "c) 22.20 - 90.75\n",
       "d) 7.25 -  78.95\n",
       "e) None of the above\n",
       "</pre>\n",
       "<em>Note: Type A, B, C, D or E in capital letters.</em>\n",
       "\n",
       "</body>\n",
       "</html>"
      ],
      "text/plain": [
       "<IPython.core.display.HTML object>"
      ]
     },
     "metadata": {},
     "output_type": "display_data"
    }
   ],
   "source": [
    "%%html\n",
    "<html>\n",
    "<body>\n",
    "<h6>If you were to be on the Titanic what price range should your tickets to have about 50% chance of survival ? (don't try to calculate exactly 50%) </h6>\n",
    "<pre>\n",
    "a) 212.97 - 318.55\n",
    "b) 43.90 - 117.39\n",
    "c) 22.20 - 90.75\n",
    "d) 7.25 -  78.95\n",
    "e) None of the above\n",
    "</pre>\n",
    "<em>Note: Type A, B, C, D or E in capital letters.</em>\n",
    "\n",
    "</body>\n",
    "</html>"
   ]
  },
  {
   "cell_type": "code",
   "execution_count": 164,
   "metadata": {},
   "outputs": [
    {
     "data": {
      "application/vnd.jupyter.widget-view+json": {
       "model_id": "1f4fa7c33e8f4eafb12e45d24ab240cd",
       "version_major": 2,
       "version_minor": 0
      },
      "text/plain": [
       "Text(value='')"
      ]
     },
     "metadata": {},
     "output_type": "display_data"
    }
   ],
   "source": [
    "# Encrypted answer.\n",
    "answer = '9d5ed678fe57bcca610140957afab571'\n",
    "\n",
    "# Create answer box.\n",
    "text = widgets.Text()\n",
    "display(text)\n",
    "text.on_submit(check_answer)"
   ]
  },
  {
   "cell_type": "code",
   "execution_count": 165,
   "metadata": {},
   "outputs": [
    {
     "data": {
      "text/html": [
       "<iframe src=\"answers8.html\" style=\"border: none;\" width=\"1000px\" height=\"200px\"></iframe>"
      ],
      "text/plain": [
       "<IPython.core.display.HTML object>"
      ]
     },
     "metadata": {},
     "output_type": "display_data"
    }
   ],
   "source": [
    "%%html\n",
    "<iframe src=\"answers8.html\" style=\"border: none;\" width=\"1000px\" height=\"200px\"></iframe>"
   ]
  },
  {
   "cell_type": "markdown",
   "metadata": {},
   "source": [
    "#### Crew Members\n",
    "Most of the crew members lost their lives. Titanic was under the command of Capt. Edward Smith, who also went down with the ship. Not even a single member of the titanic's band or postal clerks survived the reck. The chance of survival as a crew member was even lower than that of the third class citizens. Below there are two graphs showing the ratio of the rate of survival of the crew mwmbers to the passengers."
   ]
  },
  {
   "cell_type": "code",
   "execution_count": 166,
   "metadata": {},
   "outputs": [],
   "source": [
    "import csv\n",
    "with open('Passengersandclasses.csv') as csvfile:\n",
    "    savedcrew = 0\n",
    "    for row in csv.DictReader(csvfile):\n",
    "        for i in row[\"VICTUALLING CREW\"] :\n",
    "            if(i==\"*\"):\n",
    "                savedcrew += 1\n",
    "        for i in row[\"DECK CREW\"] :\n",
    "            if(i==\"*\"):\n",
    "                savedcrew += 1\n",
    "        for i in row[\"TITANIC BAND\"] :\n",
    "            if(i==\"*\"):\n",
    "                savedcrew += 1\n",
    "        for i in row[\"POSTAL CLERKS\"] :\n",
    "            if(i==\"*\"):\n",
    "                savedcrew += 1\n",
    "        for i in row[\"ENGINEERING CREW\"] :\n",
    "            if(i==\"*\"):\n",
    "                savedcrew += 1\n",
    "lostcrew = 885-savedcrew        \n",
    "    "
   ]
  },
  {
   "cell_type": "code",
   "execution_count": 167,
   "metadata": {},
   "outputs": [],
   "source": [
    "with open('Passengersandclasses.csv') as csvfile:\n",
    "    savedpass = 0\n",
    "    for row in csv.DictReader(csvfile):\n",
    "        for i in row[\"FC\"] :\n",
    "            if(i==\"*\"):\n",
    "                savedpass += 1\n",
    "        for i in row[\"SC\"] :\n",
    "            if(i==\"*\"):\n",
    "                savedpass += 1\n",
    "        for i in row[\"TC\"] :\n",
    "            if(i==\"*\"):\n",
    "                savedpass += 1\n",
    "        for i in row[\"TC(non-british)\"] :\n",
    "            if(i==\"*\"):\n",
    "                savedpass += 1\n",
    "        for i in row[\"TC(Cherbourg)\"] :\n",
    "            if(i==\"*\"):\n",
    "                savedpass += 1\n",
    "        for i in row[\"TC(Queenstown)\"] :\n",
    "            if(i==\"*\"):\n",
    "                savedpass += 1\n",
    "lostpass =1343 - savedpass        "
   ]
  },
  {
   "cell_type": "code",
   "execution_count": 182,
   "metadata": {},
   "outputs": [
    {
     "data": {
      "image/png": "[encoded data removed]",
      "text/plain": [
       "<Figure size 432x288 with 2 Axes>"
      ]
     },
     "metadata": {},
     "output_type": "display_data"
    }
   ],
   "source": [
    "import numpy as np\n",
    "import matplotlib.pyplot as plt\n",
    "fig = plt.figure()\n",
    "ax1 = fig.add_axes([0, 0, .5, .5], aspect=1)\n",
    "ax2 = fig.add_axes([1, .0, .5, .5], aspect=1)\n",
    "t = ['Survived Passengers','Survived Crew Members']\n",
    "\n",
    "data =  [savedpass,savedcrew]\n",
    "words =['Survived Passengers','Survived Crew Members']\n",
    "data2 =  [lostpass,lostcrew]\n",
    "words2 =['Lost Passengers','Lost Crew Members']\n",
    "\n",
    "\n",
    "\n",
    "def func(pct, allvals):\n",
    "    absolute = int(pct/100.*np.sum(allvals))\n",
    "    return \"{:.1f}%\\n\".format(pct, absolute)\n",
    "\n",
    "wedges,texts, autotexts = ax1.pie(data, autopct=lambda pct: func(pct, data),\n",
    "                                   textprops=dict(color=\"w\"))\n",
    "wedges,texts, autotexts = ax2.pie(data2, autopct=lambda pct: func(pct, data2),\n",
    "                                  textprops=dict(color=\"w\"))\n",
    "\n",
    "ax1.legend(wedges, ingredients,\n",
    "          title=\"\",\n",
    "          loc=\"center left\",\n",
    "          bbox_to_anchor=(1, 0, 0.5, 1))\n",
    "ax2.legend(wedges, ingredients2,\n",
    "          title=\"\",\n",
    "          loc=\"center left\",\n",
    "          bbox_to_anchor=(1, 0, 0.5, 1))\n",
    "\n",
    "plt.setp(autotexts, size=8, weight=\"bold\")\n",
    "\n",
    "ax1.set_title(\"Graph of Ratio of Survived Crew Members to Survived Passengers\")\n",
    "ax2.set_title(\"Graph of Ratio of Lost Crew Members to Lost Passengers\")\n",
    "plt.show()"
   ]
  },
  {
   "cell_type": "markdown",
   "metadata": {},
   "source": [
    "Does it seem like some specific crew members survived more than the others ? Let's find out."
   ]
  },
  {
   "cell_type": "code",
   "execution_count": 169,
   "metadata": {},
   "outputs": [
    {
     "data": {
      "image/png": "[encoded data removed]",
      "text/plain": [
       "<Figure size 432x288 with 1 Axes>"
      ]
     },
     "metadata": {},
     "output_type": "display_data"
    }
   ],
   "source": [
    "import numpy as np\n",
    "import matplotlib.pyplot as plt\n",
    "from matplotlib.ticker import MaxNLocator\n",
    "from collections import namedtuple\n",
    "import csv\n",
    "vc,dc,bc,pc,ec = 0,0,0,0,0\n",
    "svc,sdc,sbc,spc,sec = 0,0,0,0,0\n",
    "with open('Passengersandclasses.csv') as csvfile:\n",
    "    for row in csv.DictReader(csvfile):\n",
    "        if row[\"VICTUALLING CREW\"] != \" \":\n",
    "            vc += 1\n",
    "        if row[\"DECK CREW\"] != \" \":\n",
    "            dc += 1\n",
    "        if row[\"TITANIC BAND\"] != \" \":\n",
    "            bc += 1\n",
    "        if row[\"POSTAL CLERKS\"] != \" \":\n",
    "            pc += 1\n",
    "        if row[\"ENGINEERING CREW\"] != \" \":\n",
    "            ec += 1\n",
    "        for i in row[\"VICTUALLING CREW\"] :\n",
    "            if(i==\"*\"):\n",
    "                svc += 1\n",
    "        for i in row[\"DECK CREW\"] :\n",
    "            if(i==\"*\"):\n",
    "                sdc += 1\n",
    "        for i in row[\"TITANIC BAND\"] :\n",
    "            if(i==\"*\"):\n",
    "                sbc += 1\n",
    "        for i in row[\"POSTAL CLERKS\"] :\n",
    "            if(i==\"*\"):\n",
    "                spc += 1 \n",
    "        for i in row[\"ENGINEERING CREW\"] :\n",
    "            if(i==\"*\"):\n",
    "                sec += 1 \n",
    "\n",
    "dvc= vc - svc \n",
    "dbc= bc - sbc \n",
    "ddc= dc - sdc \n",
    "dpc= pc - spc \n",
    "dec= ec - sec \n",
    "\n",
    "n_groups = 5\n",
    "\n",
    "died = (dvc, dbc, dpc, ddc, dec)\n",
    "std_men = (2, 3, 4, 1, 2)\n",
    "\n",
    "survived = (svc, sbc, spc, sdc, sec)\n",
    "std_women = (3, 5, 2, 3, 3)\n",
    "\n",
    "fig, ax = plt.subplots()\n",
    "\n",
    "index = np.arange(n_groups)\n",
    "bar_width = 0.35\n",
    "\n",
    "opacity = 0.4\n",
    "error_config = {'ecolor': '0.3'}\n",
    "\n",
    "rects1 = ax.bar(index, died, bar_width,\n",
    "                alpha=opacity, color='b',\n",
    "                yerr=std_men, error_kw=error_config,\n",
    "                label='Died')\n",
    "\n",
    "rects2 = ax.bar(index + bar_width, survived, bar_width,\n",
    "                alpha=opacity, color='g',\n",
    "                yerr=std_women, error_kw=error_config,\n",
    "                label='Survived')\n",
    "\n",
    "ax.set_xlabel('Crews')\n",
    "ax.set_ylabel('Survival')\n",
    "ax.set_title('Survival by Crew Type')\n",
    "ax.set_xticks(index + bar_width / 2)\n",
    "ax.set_xticklabels(('Victualling', 'Band', 'Postal', 'Deck', 'Engineering'))\n",
    "ax.legend()\n",
    "\n",
    "fig.tight_layout()\n",
    "plt.show()\n"
   ]
  },
  {
   "cell_type": "markdown",
   "metadata": {},
   "source": [
    "### Questions "
   ]
  },
  {
   "cell_type": "markdown",
   "metadata": {},
   "source": [
    "###### Who was the captian of the ship ? "
   ]
  },
  {
   "cell_type": "code",
   "execution_count": 170,
   "metadata": {},
   "outputs": [
    {
     "data": {
      "application/vnd.jupyter.widget-view+json": {
       "model_id": "8f57d438ad87463da1ad707256eb521d",
       "version_major": 2,
       "version_minor": 0
      },
      "text/plain": [
       "Text(value='')"
      ]
     },
     "metadata": {},
     "output_type": "display_data"
    }
   ],
   "source": [
    "# Encrypted answer.\n",
    "answer = '4352d982c435c34f1147f2f3190cca0a'\n",
    "\n",
    "# Create answer box.\n",
    "text = widgets.Text()\n",
    "display(text)\n",
    "text.on_submit(check_answer)\n"
   ]
  },
  {
   "cell_type": "code",
   "execution_count": 171,
   "metadata": {
    "scrolled": true
   },
   "outputs": [
    {
     "data": {
      "text/html": [
       "<html>\n",
       "<body>\n",
       "<h6>Nobody from the __________________ survived. </h6>\n",
       "<pre>\n",
       "a) Victualling Crew\n",
       "b) Titanic Band and Postal Clerks\n",
       "c) Deck Crew\n",
       "d) Engineering \n",
       "e) All of the above\n",
       "</pre>\n",
       "<em>Note: Type A, B, C, D or E in capital letters.</em>\n",
       "\n",
       "</body>\n",
       "</html>"
      ],
      "text/plain": [
       "<IPython.core.display.HTML object>"
      ]
     },
     "metadata": {},
     "output_type": "display_data"
    }
   ],
   "source": [
    "%%html\n",
    "<html>\n",
    "<body>\n",
    "<h6>Nobody from the __________________ survived. </h6>\n",
    "<pre>\n",
    "a) Victualling Crew\n",
    "b) Titanic Band and Postal Clerks\n",
    "c) Deck Crew\n",
    "d) Engineering \n",
    "e) All of the above\n",
    "</pre>\n",
    "<em>Note: Type A, B, C, D or E in capital letters.</em>\n",
    "\n",
    "</body>\n",
    "</html>"
   ]
  },
  {
   "cell_type": "code",
   "execution_count": 172,
   "metadata": {},
   "outputs": [
    {
     "data": {
      "application/vnd.jupyter.widget-view+json": {
       "model_id": "e1ae44cc403a416096f01e00713a21b9",
       "version_major": 2,
       "version_minor": 0
      },
      "text/plain": [
       "Text(value='')"
      ]
     },
     "metadata": {},
     "output_type": "display_data"
    }
   ],
   "source": [
    "# Encrypted answer.\n",
    "answer = '9d5ed678fe57bcca610140957afab571'\n",
    "\n",
    "# Create answer box.\n",
    "text = widgets.Text()\n",
    "display(text)\n",
    "text.on_submit(check_answer)"
   ]
  },
  {
   "cell_type": "code",
   "execution_count": 173,
   "metadata": {},
   "outputs": [
    {
     "data": {
      "text/html": [
       "<iframe src=\"answers9.html\" style=\"border: none;\" width=\"1000px\" height=\"200px\"></iframe>"
      ],
      "text/plain": [
       "<IPython.core.display.HTML object>"
      ]
     },
     "metadata": {},
     "output_type": "display_data"
    }
   ],
   "source": [
    "%%html\n",
    "<iframe src=\"answers9.html\" style=\"border: none;\" width=\"1000px\" height=\"200px\"></iframe>\n"
   ]
  },
  {
   "cell_type": "markdown",
   "metadata": {},
   "source": [
    "<h1><a name=\"inter\" style=\"text-decoration: none; color: black;\">Intersectionalilty</a></h1>"
   ]
  },
  {
   "cell_type": "markdown",
   "metadata": {},
   "source": [
    "<h3><a name=\"deter\" style=\"text-decoration: none; color: black;\">Determine Your Fate</a></h3>\n",
    "We have been able to judge the passengers and crew members of the titanic and we have seen what group of people survived. If you were on this ship do you think you would survive ? You could determine your fate by answering the following questions.\n",
    "<em>Remember this was determined only by the percentage of survival of these types of poeple in those days and doesnt neccessarily mean that you have such a low/high chance of survival if you get on a ship today."
   ]
  },
  {
   "cell_type": "markdown",
   "metadata": {},
   "source": [
    "###### 1.What class do you think you might fall into?\n",
    "Jim Sadur in his website stated that these were the cost of the one- way tickets then and now .Which of these prices would you usaully pay when going on a one-way trip. Choose your class based on this.\n",
    "First Class (parlor suite)  £870 / $4,350     (83,200 dollars today)\n",
    "\n",
    "First Class (berth)   £30/$150    (2975 dollars today)\n",
    "\n",
    "Second Class £12/$60     (1200 dollars today)\n",
    "\n",
    "Third Class £3 to £8/$40   (298 dollars to 793 dollars today)\""
   ]
  },
  {
   "cell_type": "code",
   "execution_count": 174,
   "metadata": {},
   "outputs": [
    {
     "data": {
      "application/vnd.jupyter.widget-view+json": {
       "model_id": "ef2b786948ce4df69ab1946a57ac46ac",
       "version_major": 2,
       "version_minor": 0
      },
      "text/plain": [
       "Text(value='', description='Class:', placeholder='Type 1, 2, 3, or Crew')"
      ]
     },
     "metadata": {},
     "output_type": "display_data"
    }
   ],
   "source": [
    "passclass=widgets.Text(\n",
    "    value='',\n",
    "    placeholder='Type 1, 2, 3, or Crew',\n",
    "    description='Class:',\n",
    "    disabled=False\n",
    ")\n",
    "\n",
    "passclass"
   ]
  },
  {
   "cell_type": "markdown",
   "metadata": {},
   "source": [
    "###### 2. What is your sex ?"
   ]
  },
  {
   "cell_type": "code",
   "execution_count": 175,
   "metadata": {},
   "outputs": [
    {
     "data": {
      "application/vnd.jupyter.widget-view+json": {
       "model_id": "8e76e4e25d57461b9b0fddab89a19d06",
       "version_major": 2,
       "version_minor": 0
      },
      "text/plain": [
       "RadioButtons(description='Sex:', options=('Male', 'Female'), value='Male')"
      ]
     },
     "metadata": {},
     "output_type": "display_data"
    }
   ],
   "source": [
    "sex = widgets.RadioButtons(\n",
    "    options=['Male', 'Female'],\n",
    "    value='Male',\n",
    "    description='Sex:',\n",
    "    disabled=False\n",
    ")\n",
    "\n",
    "sex"
   ]
  },
  {
   "cell_type": "markdown",
   "metadata": {},
   "source": [
    "###### 3. What age range do you fit into ?"
   ]
  },
  {
   "cell_type": "code",
   "execution_count": 176,
   "metadata": {},
   "outputs": [
    {
     "data": {
      "application/vnd.jupyter.widget-view+json": {
       "model_id": "bd91c98f41a242a382722dfbcc8c1d0e",
       "version_major": 2,
       "version_minor": 0
      },
      "text/plain": [
       "IntSlider(value=30, description='Age:', max=80)"
      ]
     },
     "metadata": {},
     "output_type": "display_data"
    }
   ],
   "source": [
    "age = widgets.IntSlider(min=0, max=80, value=30, description='Age:')\n",
    "age"
   ]
  },
  {
   "cell_type": "markdown",
   "metadata": {},
   "source": [
    "###### 4. Which Port would you have liked to embark ? What country would you usually prefer passing through when travelling ?"
   ]
  },
  {
   "cell_type": "code",
   "execution_count": 177,
   "metadata": {},
   "outputs": [
    {
     "data": {
      "application/vnd.jupyter.widget-view+json": {
       "model_id": "7c0694fd82a346c5bd355522d36c02dd",
       "version_major": 2,
       "version_minor": 0
      },
      "text/plain": [
       "RadioButtons(description='Embarked:', options=('Southampton', 'Cherbourg', 'Queenstown'), value='Southampton')"
      ]
     },
     "metadata": {},
     "output_type": "display_data"
    }
   ],
   "source": [
    "embarked = widgets.RadioButtons(\n",
    "    options=['Southampton', 'Cherbourg', 'Queenstown'],\n",
    "    value='Southampton',\n",
    "    description='Embarked:',\n",
    "    disabled=False\n",
    ")\n",
    "embarked"
   ]
  },
  {
   "cell_type": "markdown",
   "metadata": {},
   "source": [
    "###### 5. How many family members would you travel with ?"
   ]
  },
  {
   "cell_type": "code",
   "execution_count": 178,
   "metadata": {},
   "outputs": [
    {
     "data": {
      "application/vnd.jupyter.widget-view+json": {
       "model_id": "2534beddab4a4520840e3166b3902d63",
       "version_major": 2,
       "version_minor": 0
      },
      "text/plain": [
       "IntSlider(value=1, description='Family:', max=8)"
      ]
     },
     "metadata": {},
     "output_type": "display_data"
    }
   ],
   "source": [
    "family = widgets.IntSlider(min=0, max=8, value=1, description='Family:')\n",
    "family"
   ]
  },
  {
   "cell_type": "markdown",
   "metadata": {},
   "source": [
    "###### 6. What ticket fare would you pay ?"
   ]
  },
  {
   "cell_type": "code",
   "execution_count": 179,
   "metadata": {},
   "outputs": [
    {
     "data": {
      "application/vnd.jupyter.widget-view+json": {
       "model_id": "5b0cab2d5ded447aadfc47dce76e51cc",
       "version_major": 2,
       "version_minor": 0
      },
      "text/plain": [
       "IntSlider(value=7, description='Fare:', max=600)"
      ]
     },
     "metadata": {},
     "output_type": "display_data"
    }
   ],
   "source": [
    "fare = widgets.IntSlider(min=0, max=600, value=7, description='Fare:')\n",
    "fare"
   ]
  },
  {
   "cell_type": "markdown",
   "metadata": {},
   "source": [
    "###### Are you done ? Run the cell below and click done to see your results."
   ]
  },
  {
   "cell_type": "code",
   "execution_count": 180,
   "metadata": {},
   "outputs": [
    {
     "data": {
      "application/vnd.jupyter.widget-view+json": {
       "model_id": "df2abee450ba4d6fbd05893cd6a84514",
       "version_major": 2,
       "version_minor": 0
      },
      "text/plain": [
       "Output()"
      ]
     },
     "metadata": {},
     "output_type": "display_data"
    },
    {
     "data": {
      "application/vnd.jupyter.widget-view+json": {
       "model_id": "19596785a8834771a6888b0dbcbf3a7a",
       "version_major": 2,
       "version_minor": 0
      },
      "text/plain": [
       "Button(description='Done', style=ButtonStyle())"
      ]
     },
     "metadata": {},
     "output_type": "display_data"
    }
   ],
   "source": [
    "def clickDone(b):\n",
    "    p1 = 0\n",
    "    with out:\n",
    "        if sex.value== \"Male\":\n",
    "            p1= 19.1\n",
    "        else:\n",
    "            p1=72.7\n",
    "        if embarked.value == \"Cherbourg\":\n",
    "            p2 = 44.4\n",
    "        elif embarked.value == \"Queenstown\":\n",
    "            p2 = 35.8\n",
    "        else:\n",
    "            p2= 33.3\n",
    "        if passclass.value == \"1\":\n",
    "            p3 = 61.9\n",
    "        elif passclass.value == \"2\":\n",
    "            p3 = 42.9\n",
    "        elif passclass.value == \"3\":\n",
    "            p3 = 25.5 \n",
    "        elif passclass.value == \"Crew\":\n",
    "            p3 = 24.0\n",
    "        else:\n",
    "            print(\"You did not Type anything for class so we would assume you are a crew member\")\n",
    "            p3 = 24.0\n",
    "        if int(age.value) <= 10:\n",
    "            p4 = 58.1\n",
    "        elif int(age.value) <= 20:\n",
    "            p4 = 39.3\n",
    "        elif int(age.value) <= 30:\n",
    "            p4 =37.0\n",
    "        elif int(age.value) <= 40:\n",
    "            p4 = 42.2\n",
    "        elif int(age.value) <= 50:\n",
    "            p4 = 40.3\n",
    "        elif int(age.value) <= 60:\n",
    "            p4 = 47.62\n",
    "        elif int(age.value) <= 70:\n",
    "            p4 = 22.22\n",
    "        else:\n",
    "            p4 = 40.0\n",
    "        if int(family.value) == 0:\n",
    "            p5 = 34.6\n",
    "        elif int(family.value) == 1:\n",
    "            p5 = 51.09\n",
    "        elif int(family.value) == 2:\n",
    "            p5 =45.2\n",
    "        elif int(family.value) == 3:\n",
    "            p5 = 30.0\n",
    "        elif int(family.value) == 4:\n",
    "            p5 = 13.6\n",
    "        else:\n",
    "            p5 = 0\n",
    "        if int(fare.value) <= 25:\n",
    "            p6 = 28.1\n",
    "        elif int(fare.value) <= 50 :\n",
    "            p6 = 41.9\n",
    "        elif int(fare.value) <= 100:\n",
    "            p6 =  64.81\n",
    "        elif int(fare.value) <= 200 :\n",
    "            p6 = 75.75\n",
    "        elif int(fare.value) <= 400:\n",
    "            p6 = 64.0\n",
    "        else:\n",
    "            p6 = 100\n",
    "        \n",
    "            \n",
    "    p = (p1+p2+p3+p4+p5+p6)/6\n",
    "    \n",
    "    print(\"Your percentage of survival is {}%\".format(round(p)))        \n",
    "        \n",
    "\n",
    "           \n",
    "out=widgets.Output()\n",
    "buttonDone=widgets.Button(description='Done')\n",
    "buttonDone.on_click(clickDone)\n",
    "display(out)\n",
    "display(buttonDone)"
   ]
  },
  {
   "cell_type": "markdown",
   "metadata": {},
   "source": [
    "### Summary\n",
    "In this notebook we revieved the story of the Titanic focusing more on the rate of survival of each of the passengers. We noticed that some specific groups of people for example first class women had a lot more chance of survival than other groups such as third class men. Age was another factor that affected the survival of individuals although it did not play a very vital role such as class and sex . However, it seemed that poeple above 50 years of age barely survived. The ticket fare was another factor that was considered it seemed that some third class passengers had more expensive tickets than some second class passengers, however thier ticket fare wasn't very helpful for them. It was also noted that some groups of people did not survive at all such as the Titanic band and the postal Clerks. Poeple who had only one family member on board were more likely to survive than people with two or more family members and surprisingly even people without any family members on board.  "
   ]
  },
  {
   "cell_type": "markdown",
   "metadata": {},
   "source": [
    "### References\n",
    "Matei.org. (2018). Titanic Wreck Exact Location on Google Earth Map of North Atlantic (KMZ). [online] Available at: http://matei.org/ithink/2012/01/09/titanic-wreck-location-on-north-atlantic-google-earth-map-in-kmz-format/ [Accessed 11 Jul. 2018].\n",
    "\n",
    "HISTORY.com. (2018). Titanic | Sinking and Survivors | HISTORY.com. [online] Available at: https://www.history.com/topics/titanic [Accessed 12 Jul. 2018].\n",
    "\n",
    "\n",
    "En.wikipedia.org. (2018). RMS Titanic. [online] Available at: https://en.wikipedia.org/wiki/RMS_Titanic [Accessed 13 Jul. 2018]\n",
    "\n",
    "\n",
    "Ipyleaflet.readthedocs.io. (2018). Image overlay and Video overlay — ipyleaflet documentation. [online] Available at: https://ipyleaflet.readthedocs.io/en/latest/api_reference/image_video_overlay.html [Accessed 13 Jul. 2018].\n",
    "\n",
    "Keyflux.com. (2018). R.M.S. Titanic Facts & Figures Page. [online] Available at: http://www.keyflux.com/titanic/facts.htm [Accessed 13 Jul. 2018].\n",
    "\n",
    "Anon. (2018). Quora - A place to share knowledge and better understand the world.. [online] Available at: https://www.quora.com [Accessed 27 Jul. 2018].\n",
    " \n",
    "Nationalgeographic.com. (2018). Unseen Titanic. [online] Available at: https://www.nationalgeographic.com/magazine/2012/04/titanic-shipwreck-revealed-complete-mosaic-images-b/ [Accessed 27 Jul. 2018].\n",
    " "
   ]
  },
  {
   "cell_type": "markdown",
   "metadata": {},
   "source": [
    "![Map](Callysto_Notebook-Banners_Bottom_06.06.18.jpg)"
   ]
  },
  {
   "cell_type": "code",
   "execution_count": null,
   "metadata": {},
   "outputs": [],
   "source": []
  }
 ],
 "metadata": {
  "kernelspec": {
   "display_name": "Python 3",
   "language": "python",
   "name": "python3"
  },
  "language_info": {
   "codemirror_mode": {
    "name": "ipython",
    "version": 3
   },
   "file_extension": ".py",
   "mimetype": "text/x-python",
   "name": "python",
   "nbconvert_exporter": "python",
   "pygments_lexer": "ipython3",
   "version": "3.6.5"
  }
 },
 "nbformat": 4,
 "nbformat_minor": 2
}
