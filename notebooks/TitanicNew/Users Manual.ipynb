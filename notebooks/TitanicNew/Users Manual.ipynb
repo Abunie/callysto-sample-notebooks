{
 "cells": [
  {
   "cell_type": "markdown",
   "metadata": {},
   "source": [
    "# Titanic User's Manual"
   ]
  },
  {
   "cell_type": "markdown",
   "metadata": {},
   "source": [
    "Hello there, welcome to the users manual for the Titanic Jupyter notebook. In this notebook I am just going to be guiding you through the steps need to take for using the while notebook so that you understand the backend. Carefully follow all of the instructions here before while launching your notebook. You could also use this a help guide if your notebbok isn't functioning as expected. Good luck!"
   ]
  },
  {
   "cell_type": "code",
   "execution_count": 20,
   "metadata": {},
   "outputs": [
    {
     "data": {
      "text/html": [
       "<h3>Introduction</h3>\n",
       "<p> <img src=\"img/Titaniccoder.jpg\" alt=\"Titanic Coder\" width=\"200\" height=\"200\" align=\"left\"> \n",
       "<pre>\n",
       "<h5>  Hello there!! Welcome to the users manual for the Titanic Jupyter notebook!!<h5>\n",
       "</pre>\n",
       "<pre> In this notebook I am just going to be guiding you through the steps need to take for using the\n",
       " while notebook so that you understand the backend. Carefully follow all of the instructions here \n",
       " before while launching your notebook. You could also use this a help guide if your notebook \n",
       " isn't functioning as expected. Good luck!</p>\n",
       "</pre>\n",
       "</p>"
      ],
      "text/plain": [
       "<IPython.core.display.HTML object>"
      ]
     },
     "metadata": {},
     "output_type": "display_data"
    }
   ],
   "source": [
    "%%html\n",
    "<h3>Introduction</h3>\n",
    "<p> <img src=\"img/Titaniccoder.jpg\" alt=\"Titanic Coder\" width=\"200\" height=\"200\" align=\"left\"> \n",
    "<pre>\n",
    "<h5>  Hello there!! Welcome to the users manual for the Titanic Jupyter notebook!!<h5>\n",
    "</pre>\n",
    "<pre> In this notebook I am just going to be guiding you through the steps need to take for using the\n",
    " while notebook so that you understand the backend. Carefully follow all of the instructions here \n",
    " before while launching your notebook. You could also use this a help guide if your notebook \n",
    " isn't functioning as expected. Good luck!</p>\n",
    "</pre>\n",
    "</p>\n"
   ]
  },
  {
   "cell_type": "markdown",
   "metadata": {},
   "source": [
    "### Setup "
   ]
  },
  {
   "cell_type": "markdown",
   "metadata": {},
   "source": [
    "1. First step we would be taking would be downloading Anaconda on our computer. Anacoda can be installed on : <a href = \"https://conda.io/docs/user-guide/install/linux.html\">Linux </a>, <a href = \"https://conda.io/docs/user-guide/install/macos.html\">Macs </a> or \n",
    "<a href =\"https://conda.io/docs/user-guide/install/windows.html\"> Windows </a> <br>\n",
    "\n",
    "2. When are done downloading Anaconda, open the terminal and run the following code one after another.\n",
    "   - pip3 install --upgrade pip (This ensures that you have the latest pip version installed)\n",
    "   - pip3 install jupyter ( This command installs the jupyter notebook)\n",
    "   - pip install ipyleaflet ( This installs the ipyleaflet library which we would be using for the maps )\n",
    "   - pip install pandas-msgpack -U ( To install the panda library)\n",
    "   \n",
    "3. The next step will be jupyter notebook on the Anaconda terminal this should open the home page for all your jupyter notebooks.\n",
    "4. Look for the Titanic Notebook Copy 1 and before doing anything else run all the cells by going to Option Cell on the top of the page click on it and pick the option Run all.\n",
    "5. Now you can get started on using the notebook."
   ]
  },
  {
   "cell_type": "markdown",
   "metadata": {},
   "source": [
    "### Interface"
   ]
  },
  {
   "cell_type": "markdown",
   "metadata": {},
   "source": [
    "The Titanic notebook created by a mixture of Markdown and code.\n",
    "###### Markdown \n",
    "To make changes to the markdown or view the markdown all you need to do is to double click the cell with the markdown and this allows you to make changes to it. After you have made your changes you could just run the cell again."
   ]
  },
  {
   "cell_type": "markdown",
   "metadata": {},
   "source": [
    "###### Code \n",
    "At the top of the notebook there should be a button like the one below . Clicking on the button would either hide or show the backend code depending on which option is possible when the button is clicked. You could view the code and make changes if neccessary."
   ]
  },
  {
   "cell_type": "code",
   "execution_count": 21,
   "metadata": {},
   "outputs": [
    {
     "data": {
      "text/html": [
       "<script>\n",
       "code_show=true; \n",
       "function code_toggle() {\n",
       " if (code_show){\n",
       " $('div.input').show();\n",
       " } else {\n",
       " $('div.input').hide();\n",
       " }\n",
       " code_show = !code_show\n",
       "} \n",
       "$( document ).ready(code_toggle);\n",
       "</script>\n",
       "<form action=\"javascript:code_toggle()\"><input type=\"submit\" value=\"Click here to hide or show code .\"></form>"
      ],
      "text/plain": [
       "<IPython.core.display.HTML object>"
      ]
     },
     "execution_count": 21,
     "metadata": {},
     "output_type": "execute_result"
    }
   ],
   "source": [
    "from IPython.display import HTML\n",
    "\n",
    "HTML('''<script>\n",
    "code_show=true; \n",
    "function code_toggle() {\n",
    " if (code_show){\n",
    " $('div.input').show();\n",
    " } else {\n",
    " $('div.input').hide();\n",
    " }\n",
    " code_show = !code_show\n",
    "} \n",
    "$( document ).ready(code_toggle);\n",
    "</script>\n",
    "<form action=\"javascript:code_toggle()\"><input type=\"submit\" value=\"Click here to hide or show code .\"></form>''')"
   ]
  },
  {
   "cell_type": "markdown",
   "metadata": {},
   "source": [
    "## FAQ\n",
    "Here is a list of frequently asked questions on problems faced while using the Titanic notebook and their solutions. Please feel free to add more questions to the list.\n",
    "\n",
    "--------------------------------------------------------------------------------------------------------------------------------\n",
    "Q : Where do I find the code for the part that shows answers ?<br>\n",
    "A : You could find the code in the answer#.html and show#.html files.<em> Note that the # just means a number.</em>\n",
    "\n",
    "--------------------------------------------------------------------------------------------------------------------------------\n",
    "Q : Why doesn't the lifeboat table change when I change the lifeboat in the lifeboat section ?<br>\n",
    "A : It should,you just have to run the cell with the table again each time you change the life boat number.\n",
    "\n",
    "--------------------------------------------------------------------------------------------------------------------------------\n",
    "Q : Where can I find the code for the random passenger stories generator?<br>\n",
    "A : quotes.html and javaquotes.js were the files used to make the random passenger stories generator\n",
    "\n",
    "--------------------------------------------------------------------------------------------------------------------------------\n",
    "Q : Where can I find the code for the random passenger stories generator?<br>\n",
    "A : quotes.html and javaquotes.js were the files used to make the random passenger stories generator\n",
    "\n",
    "--------------------------------------------------------------------------------------------------------------------------------\n",
    "\n"
   ]
  },
  {
   "cell_type": "code",
   "execution_count": null,
   "metadata": {},
   "outputs": [],
   "source": []
  }
 ],
 "metadata": {
  "kernelspec": {
   "display_name": "Python 3",
   "language": "python",
   "name": "python3"
  },
  "language_info": {
   "codemirror_mode": {
    "name": "ipython",
    "version": 3
   },
   "file_extension": ".py",
   "mimetype": "text/x-python",
   "name": "python",
   "nbconvert_exporter": "python",
   "pygments_lexer": "ipython3",
   "version": "3.6.5"
  }
 },
 "nbformat": 4,
 "nbformat_minor": 2
}
