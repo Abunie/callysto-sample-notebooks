{
 "cells": [
  {
   "cell_type": "markdown",
   "metadata": {},
   "source": [
    "# Basics of Python\n",
    "\n",
    "In this notebook, we're going to go over some of the very basics of Python for interested parties. Note that this section is completely optional, and we can create content which doesn't require writing anything in Python. Certainly, if you want to introduce Python in the classroom or if a student changes anything, it might be useful to go over the basics."
   ]
  },
  {
   "cell_type": "code",
   "execution_count": null,
   "metadata": {},
   "outputs": [],
   "source": [
    "# Anything in a code cell after a pound sign is a comment! \n",
    "# You can type anything here and it will not be excecuted \n",
    "\n",
    "# You can define variables with an equals sign\n",
    "\n",
    "my_variable = 10 # You cannot put spaces in variable names. \n",
    "other_variable = \"some text\" # variables need not be numbers!\n",
    "\n",
    "# Print will output our variables below the cell\n",
    "print(my_variable, other_variable)"
   ]
  },
  {
   "cell_type": "code",
   "execution_count": null,
   "metadata": {},
   "outputs": [],
   "source": [
    "# Variables are also shared between cells, and print other things too!\n",
    "print(my_variable, other_variable, \"We can print text directly in quotes\")"
   ]
  },
  {
   "cell_type": "code",
   "execution_count": null,
   "metadata": {},
   "outputs": [],
   "source": [
    "# You can also do mathematical operations in python\n",
    "\n",
    "x = 10.5\n",
    "y = 3.14159\n",
    "\n",
    "multiply = x * y\n",
    "add = x + y\n",
    "subtract = x - y\n",
    "divide = x/y\n",
    "\n",
    "print(add, subtract, multiply, divide)\n"
   ]
  },
  {
   "cell_type": "markdown",
   "metadata": {},
   "source": [
    "## Loops in Python"
   ]
  },
  {
   "cell_type": "code",
   "execution_count": null,
   "metadata": {},
   "outputs": [],
   "source": [
    "# You can also write loops with for\n",
    "\n",
    "for i in range(10): \n",
    "    print(i)\n",
    "    "
   ]
  },
  {
   "cell_type": "markdown",
   "metadata": {},
   "source": [
    " Let's take a moment to digest the loop syntax we saw above\n",
    " \n",
    " ```python\n",
    "  \n",
    "We have defined our *iterator* and called it i. This will take values \n",
    "based on the range function that follows it\n",
    "    ^\n",
    "    |\n",
    "for i in range(10): <- note the colon\n",
    "    print(i) <- note how this line is indented relative to \"for\"\n",
    "    \n",
    "```\n",
    "\n",
    "To start our loop, we have typed `for i in range(10):`. What this is saying is \"Do something for values of `i` that are in values defined by `range(10)`. In this case, `range` creates 10 values by starting and zero and counting to 9. Which is what we saw printed above. Also note how there is a colon after `range` and the print statement is _indented_ relative to `for`. This is because anything that takes place within a specific control structure such as a loop in Python needs to be indented consistently. "
   ]
  },
  {
   "cell_type": "markdown",
   "metadata": {},
   "source": [
    "## If and else statements\n",
    "\n",
    "Let's build on our previous example and introduce `if` statements"
   ]
  },
  {
   "cell_type": "code",
   "execution_count": null,
   "metadata": {},
   "outputs": [],
   "source": [
    "for i in range(10):\n",
    "    if i == 3:\n",
    "        print(i == 3, i, \"is three\")\n",
    "    else:\n",
    "        print(i == 3, i, \"Is not three\")"
   ]
  },
  {
   "cell_type": "markdown",
   "metadata": {},
   "source": [
    "Notice how again, our `if` and `else` statement are indented relative to `for`, and the print statements inside of our `if` statements are indented even further.\n",
    "\n",
    "What the lines of code does above is that inside the `if` statement, it checks if the value of `i` is equal to three with double equals signs `==`. Should that condition be `True`, we enter the lines of code indented relative to `if`. We then print `i==3` which is `True`, as well as `i` and a string. \n",
    "\n",
    "If `i` is _not_ equal to three, we enter the `else` clause, which the code returns to in the case that our `if` statement is `False`, which we can see in the output of the code above. "
   ]
  },
  {
   "cell_type": "markdown",
   "metadata": {},
   "source": [
    "## Python Functions\n",
    "\n",
    "You can also define functions in Python which can help speed up writing the code that performs more complicated calculations. This is done using the `def` method in Python which can be thought of to mean \"define\". A simple function is defined below. "
   ]
  },
  {
   "cell_type": "code",
   "execution_count": null,
   "metadata": {},
   "outputs": [],
   "source": [
    "def simple_function(x):\n",
    "    # a double asterix in pyton is an exponent\n",
    "    return x**2\n",
    "\n",
    "simple_function(10)"
   ]
  },
  {
   "cell_type": "markdown",
   "metadata": {},
   "source": [
    "In the line above, we're defining a function with `def`, and in this case we chose to give it a name of `simple_function`. We also then specified which variable it should take as input inside of the parenthesis, and we _decided_ to call this variable `x` inside the function. We then called the function with its name, and a value for it to use for `x`. We can use functions in combination with other things like loops, which we have shown below. "
   ]
  },
  {
   "cell_type": "code",
   "execution_count": null,
   "metadata": {},
   "outputs": [],
   "source": [
    "for i in range(5):\n",
    "    new_variable = simple_function(i)\n",
    "    print(new_variable, \"Look what we can do!\")"
   ]
  },
  {
   "cell_type": "markdown",
   "metadata": {},
   "source": [
    "Notice how in the loop above, we decided to define a new variable based on the output of our function. We also used our loop iterator `i` as the input to our function to calculate those squares for each value from 0 to 4. \n",
    "\n",
    "## Graphing\n",
    "We can also graph our function using Python with the following code "
   ]
  },
  {
   "cell_type": "code",
   "execution_count": null,
   "metadata": {},
   "outputs": [],
   "source": [
    "# this library contains some mathematical functions to use\n",
    "import numpy as np\n",
    "# this is the plotting library\n",
    "import matplotlib.pyplot as plt \n",
    "# this is a \"magic\" command which tells jupyter to display our graphs in the notebook\n",
    "%matplotlib inline\n",
    "\n",
    "\n",
    "# Here we generate points to plot our function at.\n",
    "# The first number is the minimum, the second is the maximum, and the third is how many points to generate\n",
    "\n",
    "values_to_plot = np.linspace(-10,10,100) # this creates a list of 100 points from [-10,10]\n",
    "\n",
    "# this is how we create a graph. Notice how we're using 'plt' as it is the library we imported\n",
    "# which contains the plot functions\n",
    "plt.plot(values_to_plot, simple_function(values_to_plot))\n",
    "# add some axes labels\n",
    "plt.xlabel(\"X values\") \n",
    "plt.ylabel(\"Y values\")\n",
    "# we can use latex in plots as well!\n",
    "plt.title(\"$f(x) = x^2$\") \n",
    "\n",
    "plt.show()"
   ]
  }
 ],
 "metadata": {
  "kernelspec": {
   "display_name": "Python 3",
   "language": "python",
   "name": "python3"
  },
  "language_info": {
   "codemirror_mode": {
    "name": "ipython",
    "version": 3
   },
   "file_extension": ".py",
   "mimetype": "text/x-python",
   "name": "python",
   "nbconvert_exporter": "python",
   "pygments_lexer": "ipython3",
   "version": "3.6.5"
  }
 },
 "nbformat": 4,
 "nbformat_minor": 2
}
