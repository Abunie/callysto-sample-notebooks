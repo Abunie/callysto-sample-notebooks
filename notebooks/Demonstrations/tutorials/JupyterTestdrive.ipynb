{
 "cells": [
  {
   "cell_type": "markdown",
   "metadata": {},
   "source": [
    "# Jupyter Test Drive\n",
    "In this notebook we'll be walking through some activities so you can familiarize yourself with using a Jupyter notebook for typesetting with markdown. This can be useful for if you want to modify an existing notebook, or even to help your students use Jupyter for typesetting answers to any activities they do using Callysto. \n",
    "## The Basics\n",
    "The first step you may want do do is actually creating a new cell for typesetting. In order to do that, while you have this cell selected, from the top menu click the plus (+) sign by the save button. "
   ]
  },
  {
   "cell_type": "markdown",
   "metadata": {},
   "source": [
    "Once you have created the new cell, you will get a blank `Code` cell underneath the cell above (provided it was the one selected). In order to change that cell into one that you can use for typesetting, select it, and from the top menu select `Code` $\\rightarrow$ `Markdown`. This changes that cell type into a markdown cell, and it can now be used for typesetting!\n",
    "\n",
    "\n",
    "The next step will be learning how to delete cells. Select the cell above that you just converted to a markdown cell. In order to remove this cell from your Jupyter notebook, from the top menu click `Edit` $\\rightarrow$ `Delete Cells`. If you accidentally deleted an incorrect cell, you can always bring it back by clicking `Edit` $\\rightarrow$ `Undo Delete Cells`. "
   ]
  },
  {
   "cell_type": "markdown",
   "metadata": {},
   "source": [
    "## Creating Titles\n",
    "\n",
    "Creating large bold title text in a Jupyter notebook with markdown is very simple! All you need to do is on a new line, type the pound sign and then a space. After the space, simply add your title. It's that simple. By adding additional pound signs, you will create different title levels. The cell below is unformatted markdown text demonstrating this. "
   ]
  },
  {
   "cell_type": "raw",
   "metadata": {},
   "source": [
    "# I am a level one title\n",
    "## I am a level two title\n",
    "### I am a level three title\n",
    "#### I am a level four title\n",
    "##### I am a level five title\n",
    "###### I am a level six title \n",
    "####### I would be a level seven title if such a thing existed\n",
    "\n",
    "If the # isn't the first line, it does not get rendered as a title. "
   ]
  },
  {
   "cell_type": "markdown",
   "metadata": {},
   "source": [
    "To see how those titles look when they're rendered in the Jupyter notebook, select the cell above, and from the top menu select `Raw NBConvert` $\\rightarrow$ `Markdown` then type `Ctrl + Enter` to render the cell. Feel free to create a new cell and play with those, or simply modify the one above directly. "
   ]
  },
  {
   "cell_type": "markdown",
   "metadata": {},
   "source": [
    "## Creating Itemized Lists\n",
    "Creating lists in markdown in a Jupyter notebook is also fairly straight forward! To do so you simply need to start a new line and begin counting. The markdown syntax is shown in the code below. Again, to see how it renders, select the cell below then from the top menu select `Raw NBConvert` $\\rightarrow$ `Markdown` then type `Ctrl + Enter`. "
   ]
  },
  {
   "cell_type": "raw",
   "metadata": {},
   "source": [
    "1. This is the first item of a list\n",
    "1. This is the second\n",
    "50. Notice how the numbers we use don't matter once it's rendered\n",
    "    1. By pressing the `Tab` key we can add sub items\n",
    "    45. The numbers don't matter here either\n",
    "        - We can add many sub-lists\n",
    "            - But at some point it starts to get redundant\n",
    "                - But I guess that's okay sometimes\n",
    "                    - Although, nested lists like this are generally a sign your list should be reorganized\n",
    "                        - Notice how the color changes of the text before we render the markdown to help you\n",
    "                        know where in the list you're nested (if cell is set to markdown)\n",
    "        - We can also go back a few levels of nesting by lining the text up with the line above\n",
    "2346. By going back to the original line, we leave our nested lists\n",
    "23236235672456. The numbers really don't matter.\n",
    "* In fact, you can give up on numbers at any time.\n",
    "- It still counts for you\n",
    "1. Even if you start counting again\n",
    "    \n",
    "\n",
    "- We also don't need to have numbers if we don't want to!\n",
    "    * We have plenty of options\n",
    "-Notice how if we don't put a space between the dash and the first term it doesn't become a new item in the list!\n",
    "\n"
   ]
  },
  {
   "cell_type": "markdown",
   "metadata": {},
   "source": [
    "In the cell above, try fixing the last line so that the last item in the list becomes properly formatted once it's rendered. Feel free to modify the lists above, or create your own. \n",
    "\n",
    "## Links\n",
    "You can add hyper links to webpages anywhere you'd like right in the text. The syntax is as follows\n",
    "```markdown\n",
    "[text you want to display](link to a file or url page)\n",
    "```\n",
    "Change the cell below to markdown and see where the link takes you!"
   ]
  },
  {
   "cell_type": "raw",
   "metadata": {},
   "source": [
    "[this is the text that becomes the hyperlink](https://media.giphy.com/media/Vs44a88Dvbnkk/giphy.gif)"
   ]
  },
  {
   "cell_type": "markdown",
   "metadata": {},
   "source": [
    "## Images/gifs\n",
    "Images and gifs can be emebedded in a markdown cell easily using a syntax near identical to links by simply adding an explaination point before the link. For example\n",
    "```markdown\n",
    "![type anything here, it really doesn't matter, it's more for your reference](link in parenthesis)\n",
    "```\n",
    "would display an image/gif. It can either be a url link to an image, or one you have saved on the hub. Change the cell below to markdown to see it in action, or even embed your own images in this notebook. "
   ]
  },
  {
   "cell_type": "raw",
   "metadata": {},
   "source": [
    "![type type type](https://media.giphy.com/media/gVoBC0SuaHStq/giphy.gif)"
   ]
  },
  {
   "cell_type": "markdown",
   "metadata": {},
   "source": [
    "# Block Quotes\n",
    "Block quotes are a way to indent text/images with a grey bar in order to distinguish them from the main text. It is quite simlly done by adding a `>` at the beginning of a line. Change the cell below to markdown to see some examples"
   ]
  },
  {
   "cell_type": "raw",
   "metadata": {},
   "source": [
    "> This is an example of a block quote. You can type forever and the whole text will be indented. You could literally type forever and it would render as a block quote, but I don't recommend it because that would be a huge waste of everyone's time. \n",
    "\n",
    "You can also use block quotes to easily format images with captions! \n",
    "\n",
    "> ![this image will be in block quotes](https://media.giphy.com/media/fs6rnt1K0YyVWRXNwY/giphy.gif)\n",
    ">\n",
    "> Now we can include a caption for images. This is nice because the image is now distinguishable from the main text. This makes it easy to include images without necessarily interrupting any narrative you've created. Notice how I have included a blank `>` under the image. That is simply so the spacing of this text looks nice underneath. Try removing it and see what happens\n",
    "\n",
    "\n"
   ]
  },
  {
   "cell_type": "markdown",
   "metadata": {},
   "source": [
    "## Mathematical Typesetting With Latex\n",
    "\n",
    "This will serve as a breif introduction, as mathematical typesetting with latex could be a few notebooks on its own. However, most of these commands are easy to find if you need to do something special. However, the basics are as follows:\n",
    "\n",
    "1. To put a variable in-line, surround it in dollar signs like so: `$variable$`.\n",
    "1. To typeset an equation, surround it (on a new line) in double dollar signs: `$$equation$$`\n",
    "1. you could also use this syntax\n",
    "   ```latex\n",
    "    \\begin{equation}\n",
    "       equation\n",
    "   \\end{equation}\n",
    "    ```\n",
    "1. Special symbols start with a backslash (`\\`). For example, the greek letter $\\alpha$ would be called like this `$\\alpha$`. \n",
    "\n",
    "1. Fractions can be typeset with `\\frac{numerator}{denominator}`\n",
    "1. Square roots are `\\sqrt{stuff inside square root}`\n",
    "\n",
    "Change the cell below to markdown to see some of these in action.\n"
   ]
  },
  {
   "cell_type": "raw",
   "metadata": {},
   "source": [
    "If you want to type inline variables it's as easy as $x$. If you want special symbols in line, simply call it by it's name, such as $\\alpha$, $\\gamma$, $\\epsilon$, $\\Delta$, $\\nabla$ and so on. [here](http://tug.ctan.org/info/symbols/comprehensive/symbols-a4.pdf) is a link to a comprehensive symbol list, and the command you have to call to render it. Of course, sometimes a Google search is faster. \n",
    "\n",
    "You can start equations easily\n",
    "$$ c  = \\sqrt{a^2 + b^2}$$\n",
    "notice how in the above, the variables appearing under the square root are surrounded by curly brackets, and powers are done with carrots.\n",
    "\n",
    "You can also type equations like this\n",
    "\\begin{equation}\n",
    "a = \\frac{x^3 +\\Gamma}{\\int e^{-x^2} dx}\n",
    "\\end{equation}\n",
    "\n",
    "Notice here how the numerator of the fraction appears in curly braces, and the denominator appears in separate curly braces. Notice how to find a capital gamma, we simply wrote the first letter as a capital. Also notice how in the exponent, this time we included curly brackets. This is because without them only the first character will become a super script. \n",
    "\n",
    "\\begin{equation}\n",
    "a = x^-10\n",
    "\\end{equation}\n",
    "\n",
    "Doesn't render how you want it do, but \n",
    "\\begin{equation}\n",
    "a = x^{-10}\n",
    "\\end{equation}\n",
    "does once you include the curly braces.\n",
    "\n",
    "You can also include vectors on variables\n",
    "\\begin{equation}\n",
    "\\vec{F} = m \\vec{a}\n",
    "\\end{equation}"
   ]
  },
  {
   "cell_type": "markdown",
   "metadata": {},
   "source": [
    "### Latex Common Errors\n",
    "\n",
    "You'll need to convert the cells below to markdown in order to see how these common mistakes render, and their solutions. \n",
    "\n",
    "##### Exponents need to be wrapped in curly braces if they're more than one character long."
   ]
  },
  {
   "cell_type": "raw",
   "metadata": {},
   "source": [
    "\\begin{equation}\n",
    "a = x^-10\n",
    "\\end{equation}\n",
    "\n",
    "Doesn't render how you want it do, but \n",
    "\\begin{equation}\n",
    "a = x^{-10}\n",
    "\\end{equation}\n",
    "does once you include the curly braces.\n"
   ]
  },
  {
   "cell_type": "markdown",
   "metadata": {},
   "source": [
    "##### The same is true for subscripts"
   ]
  },
  {
   "cell_type": "raw",
   "metadata": {},
   "source": [
    "\\begin{equation}\n",
    "a = x_10\n",
    "\\end{equation}\n",
    "\n",
    "Doesn't render how you want it do, but \n",
    "\\begin{equation}\n",
    "a = x_{10}\n",
    "\\end{equation}\n",
    "does once you include the curly braces.\n",
    "\n"
   ]
  },
  {
   "cell_type": "markdown",
   "metadata": {},
   "source": [
    "##### Spaces in equations are ignored"
   ]
  },
  {
   "cell_type": "raw",
   "metadata": {},
   "source": [
    "$$\n",
    "If you use words as a varable, they become hard to read = x_a^2\n",
    "$$\n",
    "\n",
    "If you need to include words in your equations, you can do so with `\\text{}`\n",
    "$$\n",
    "\\text{Now we can read this easily once we've rendered the math} = x_a^2\n",
    "$$"
   ]
  },
  {
   "cell_type": "markdown",
   "metadata": {},
   "source": [
    "##### You cannot include percent signs without a little extra work"
   ]
  },
  {
   "cell_type": "raw",
   "metadata": {},
   "source": [
    "$$\n",
    "100 % That's because a percent sign is a comment in latex!\n",
    "$$\n",
    "To escape the comment, simply add a backslash\n",
    "$$ 100 \\% $$"
   ]
  },
  {
   "cell_type": "markdown",
   "metadata": {},
   "source": [
    "Latex is very extensive for mathematical typesetting, and we can't cover it all here. However, it's fairly intuitive and with a little practice significantly faster than using the equation editors in other tools. Feel free to try creating your own equations now. "
   ]
  },
  {
   "cell_type": "markdown",
   "metadata": {},
   "source": [
    "## Tables\n",
    "\n",
    "We can also create tables of data in Markdown. However, it's not the most convenient and for large tables I would recommend using online tools such as [here](https://jakebathman.github.io/Markdown-Table-Generator/) where you can copy-paste excel tables or csv files. This will then output the proper syntax to properly render those tables. However, for smaller tables, it's quite easy to simply type out your own. See the cell below."
   ]
  },
  {
   "cell_type": "raw",
   "metadata": {},
   "source": [
    "| This is the first column name| Second Column| Third|\n",
    "|---|---|-------------|\n",
    "|Notice how nothing is lined up when we type it | But that it looks nice when rendered| how convenient!|\n",
    "|shorter lines are good too| numbers?| 343453|\n",
    "|symbols| `yes`| $\\int e^{-x^2} dx$ |\n",
    "|also notice that the number of dashes in the second line don't matter | it just needs to be at least three| the rest are really only for you to make pre-rendering look nice |"
   ]
  },
  {
   "cell_type": "markdown",
   "metadata": {},
   "source": [
    "The basic table syntax is as follows:\n",
    "```markdown\n",
    "|initialize| your| column| names|\n",
    "|----------|-----|-------|------| <- this line sets up the headers, need at least three `---` each line\n",
    "|     data | data| data  | data | <- any kind of text data can be put in a table. Feel free to mix too!\n",
    "| numbers  | text| text  | data   <- you don't need to include the right-most pipe if you don't want to\n",
    "```\n",
    "\n",
    "essentially the syntax can be thought of as how you would try to write a table directly using symbols on your keyboard. Play with the table in the cell above, or create a new cell and try making your own! You could put one in this cell as well and put a table here. Simply double click anywhere on this cell to open edit mode."
   ]
  },
  {
   "cell_type": "markdown",
   "metadata": {},
   "source": [
    "---\n",
    "# Basics of Python\n",
    "\n",
    "In this second half of the notebook, we're going to go over some of the very basics of Python for interested parties. Note that this section is completely optional, and we can create content which doesn't require writing anything in Python. Certainly, if you want to introduce Python in the classroom or if a student changes anything, it might be useful to go over the basics."
   ]
  },
  {
   "cell_type": "code",
   "execution_count": null,
   "metadata": {},
   "outputs": [],
   "source": [
    "# Anything in a code cel after a pound sign is a comment! \n",
    "# You can type anything here and it will not be excecuted \n",
    "\n",
    "# You can define variables with an equals sign\n",
    "\n",
    "my_variable = 10 # You cannot put spaces in variable names. \n",
    "other_variable = \"some text\" # variables need not be numbers!\n",
    "\n",
    "# Print will output our variables below the cell\n",
    "print(my_variable, other_variable)"
   ]
  },
  {
   "cell_type": "code",
   "execution_count": null,
   "metadata": {},
   "outputs": [],
   "source": [
    "# Variables are also shared between cells, and print other things too!\n",
    "print(my_variable, other_variable, \"We can print text directly in quotes\")"
   ]
  },
  {
   "cell_type": "code",
   "execution_count": null,
   "metadata": {},
   "outputs": [],
   "source": [
    "# You can also do mathematical operations in python\n",
    "\n",
    "x = 10.5\n",
    "y = 3.14159\n",
    "\n",
    "multiply = x * y\n",
    "add = x + y\n",
    "subtract = x - y\n",
    "divide = x/y\n",
    "\n",
    "print(add, subtract, multiply, divide)\n"
   ]
  },
  {
   "cell_type": "markdown",
   "metadata": {},
   "source": [
    "## Loops in Python"
   ]
  },
  {
   "cell_type": "code",
   "execution_count": null,
   "metadata": {},
   "outputs": [],
   "source": [
    "# You can also write loops with for\n",
    "\n",
    "for i in range(10): \n",
    "    print(i)\n",
    "    "
   ]
  },
  {
   "cell_type": "markdown",
   "metadata": {},
   "source": [
    " Let's take a moment to digest the loop syntax we saw above\n",
    " \n",
    " ```python\n",
    "  \n",
    "We have defined our *iterator* and called it i. This will take values \n",
    "based on the range function that follows it\n",
    "    ^\n",
    "    |\n",
    "for i in range(10): <- note the colon\n",
    "    print(i) <- note how this line is indented relative to \"for\"\n",
    "    \n",
    "```\n",
    "\n",
    "To start our loop, we have typed `for i in range(10):`. What this is saying is \"Do something for values of `i` that are in values defined by `range(10)`. In this case, `range` creates 10 values by starting and zero and counting to 9. Which is what we saw printed above. Also note how there is a colon after `range` and the print statement is _indented_ relative to `for`. This is because anything that takes place within a specific control structure such as a loop in Python needs to be indented consistently. \n",
    "\n",
    "## If and else statements\n",
    "\n",
    "Let's build on our previous example and introduce `if` statements"
   ]
  },
  {
   "cell_type": "code",
   "execution_count": null,
   "metadata": {},
   "outputs": [],
   "source": [
    "for i in range(10):\n",
    "    if i == 3:\n",
    "        print(i == 3, i, \"is three\")\n",
    "    else:\n",
    "        print(i == 3, i, \"Is not three\")"
   ]
  },
  {
   "cell_type": "markdown",
   "metadata": {},
   "source": [
    "Notice how again, our `if` and `else` statement are indented relative to `for`, and the print statements inside of our `if` statements are indented even further.\n",
    "\n",
    "What the lines of code does above is that inside the `if` statement, it checks if the value of `i` is equal to three with double equals signs `==`. Should that condition be `True`, we enter the lines of code indented relative to `if`. We then print `i==3` which is `True`, as well as `i` and a string. \n",
    "\n",
    "If `i` is _not_ equal to three, we enter the `else` clause, which the code returns to in the case that our `if` statement is `False`, which we can see in the output of the code above. \n",
    "\n",
    "## Python Functions\n",
    "\n",
    "You can also define functions in Python which can help speed up writing the code that performs more complicated calculations. This is done using the `def` method in Python which can be thought of to mean \"define\". A simple function is defined below. "
   ]
  },
  {
   "cell_type": "code",
   "execution_count": null,
   "metadata": {},
   "outputs": [],
   "source": [
    "def simple_function(x):\n",
    "    # a double asterix in pyton is an exponent\n",
    "    return x**2\n",
    "\n",
    "simple_function(10)"
   ]
  },
  {
   "cell_type": "markdown",
   "metadata": {},
   "source": [
    "In the line above, we're defining a function with `def`, and in this case we chose to give it a name of `simple_function`. We also then specified which variable it should take as input inside of the parenthesis, and we _decided_ to call this variable `x` inside the function. We then called the function with it's name, and a value for it to use for `x`. We can use functions in combination with other things like loops, which we have shown below. "
   ]
  },
  {
   "cell_type": "code",
   "execution_count": null,
   "metadata": {},
   "outputs": [],
   "source": [
    "for i in range(5):\n",
    "    new_variable = simple_function(i)\n",
    "    print(new_variable, \"Look what we can do!\")"
   ]
  },
  {
   "cell_type": "markdown",
   "metadata": {},
   "source": [
    "Notice how in the loop above, we decided to define a new variable based on the output of our function. We also used our loop iterator `i` as the input to our function to calculate those squares for each value from 0 to 4. \n",
    "\n",
    "## Graphing\n",
    "We can also graph our function using Python with the following code "
   ]
  },
  {
   "cell_type": "code",
   "execution_count": null,
   "metadata": {},
   "outputs": [],
   "source": [
    "# this library contains some mathematical functions to use\n",
    "import numpy as np\n",
    "# this is the plotting library\n",
    "import matplotlib.pyplot as plt \n",
    "# this is a \"magic\" command which tells jupyter to display our graphs in the notebook\n",
    "%matplotlib inline\n",
    "\n",
    "\n",
    "# Here we generate points to plot our function at.\n",
    "# The first number is the minimum, the second is the maximum, and the third is how many points to generate\n",
    "\n",
    "values_to_plot = np.linspace(-10,10,100) # this creates a list of 100 points from [-10,10]\n",
    "\n",
    "# this is how we create a graph. Notice how we're using 'plt' as it is the library we imported\n",
    "# which contains the plot functions\n",
    "plt.plot(values_to_plot, simple_function(values_to_plot))\n",
    "# add some axes labels\n",
    "plt.xlabel(\"X values\") \n",
    "plt.ylabel(\"Y values\")\n",
    "# we can use latex in plots as well!\n",
    "plt.title(\"$f(x) = x^2$\") \n",
    "\n",
    "plt.show()"
   ]
  },
  {
   "cell_type": "code",
   "execution_count": null,
   "metadata": {},
   "outputs": [],
   "source": []
  }
 ],
 "metadata": {
  "kernelspec": {
   "display_name": "Python 3",
   "language": "python",
   "name": "python3"
  },
  "language_info": {
   "codemirror_mode": {
    "name": "ipython",
    "version": 3
   },
   "file_extension": ".py",
   "mimetype": "text/x-python",
   "name": "python",
   "nbconvert_exporter": "python",
   "pygments_lexer": "ipython3",
   "version": "3.6.4"
  }
 },
 "nbformat": 4,
 "nbformat_minor": 2
}
