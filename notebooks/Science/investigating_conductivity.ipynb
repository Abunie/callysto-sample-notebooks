{
 "cells": [
  {
   "cell_type": "code",
   "execution_count": null,
   "metadata": {},
   "outputs": [],
   "source": [
    "%%html\n",
    "\n",
    "<script>\n",
    "  function code_toggle() {\n",
    "    if (code_shown){\n",
    "      $('div.input').hide('500');\n",
    "      $('#toggleButton').val('Show Code')\n",
    "    } else {\n",
    "      $('div.input').show('500');\n",
    "      $('#toggleButton').val('Hide Code')\n",
    "    }\n",
    "    code_shown = !code_shown\n",
    "  }\n",
    "\n",
    "  $( document ).ready(function(){\n",
    "    code_shown=false;\n",
    "    $('div.input').hide()\n",
    "  });\n",
    "</script>\n",
    "\n",
    "<form action=\"javascript:code_toggle()\"><input type=\"submit\" id=\"toggleButton\" value=\"Show Code\"></form>"
   ]
  },
  {
   "cell_type": "markdown",
   "metadata": {
    "hide_input": true
   },
   "source": [
    "<img src=\"images/conductivity.jpg\" width=\"500px\" />\n",
    "\n",
    "# Investigating Conductivity\n",
    "\n",
    "Based on Activity D-3 from _Science in Action 9_, Addison Wesley, pg. 299.  "
   ]
  },
  {
   "cell_type": "markdown",
   "metadata": {},
   "source": [
    "## The Question  \n",
    "How does the conductivity of different solutions compare?"
   ]
  },
  {
   "cell_type": "markdown",
   "metadata": {},
   "source": [
    "## The Hypothesis\n",
    "Reword the question to form a hypothesis."
   ]
  },
  {
   "cell_type": "markdown",
   "metadata": {},
   "source": []
  },
  {
   "cell_type": "markdown",
   "metadata": {},
   "source": [
    "## Materials & Equipment\n",
    "• 100-mL graduated cylinder  \n",
    "• 250-mL beaker  \n",
    "• distilled water  \n",
    "• conductivity tester  \n",
    "• tap water  \n",
    "• salt water  \n",
    "• vinegar  \n",
    "• copper(II) sulfate solution  \n",
    "• other solutions provided by your teacher"
   ]
  },
  {
   "cell_type": "markdown",
   "metadata": {},
   "source": [
    "## Procedure\n",
    "1 Put 50 mL of distilled water into a 250-mL beaker.  \n",
    "2 Place the metal tips of your conductivity tester in the distilled water.  \n",
    "3 Record the conductivity reading of the distilled water in the table below. If your conductivity tester is a light bulb, describe the brightness of the bulb.  \n",
    "4 Repeat steps 2–4 with 50-mL samples of tap water, salt water, vinegar, copper(II) sulfate solution, and any other solution you wish to test. After each conductivity measurement, empty the beaker and rinse it with distilled water. Also wipe off the tips of the conductivity tester. Make sure that you insert them to the same depth in each solution.  \n",
    "5 When you have finished testing the solutions, follow your teacher’s instructions for disposing of them."
   ]
  },
  {
   "cell_type": "code",
   "execution_count": null,
   "metadata": {
    "hide_input": true,
    "scrolled": true
   },
   "outputs": [],
   "source": [
    "import pandas as pd\n",
    "import numpy as np\n",
    "import qgrid\n",
    "df = pd.DataFrame(index=pd.Series(['Distilled Water', 'Tap Water', 'Salt Water', 'Vinegar', 'Copper Sulfate']), columns=pd.Series(['Reading 1', 'Reading 2','Notes']))\n",
    "df_widget = qgrid.QgridWidget(df =df, show_toolbar=True)\n",
    "df_widget"
   ]
  },
  {
   "cell_type": "code",
   "execution_count": null,
   "metadata": {},
   "outputs": [],
   "source": [
    "from IPython.display import Javascript, display\n",
    "from ipywidgets import widgets\n",
    "\n",
    "def run_all(ev):\n",
    "    display(Javascript('IPython.notebook.execute_cell_range(IPython.notebook.get_selected_index()+1,IPython.notebook.get_selected_index()+2)'))\n",
    "\n",
    "button = widgets.Button(description=\"Click to save data\")\n",
    "button.on_click(run_all)\n",
    "display(button)\n"
   ]
  },
  {
   "cell_type": "code",
   "execution_count": null,
   "metadata": {},
   "outputs": [],
   "source": [
    "output_data = df_widget.get_changed_df()"
   ]
  },
  {
   "cell_type": "markdown",
   "metadata": {},
   "source": [
    "## Analyzing and Interpreting\n",
    "6 Were there differences in conductivity among the solutions you tested? How could you tell?  \n",
    "7 Account for the differences in conductivity among the solutions by explaining what is happening in the solutions.  \n"
   ]
  },
  {
   "cell_type": "markdown",
   "metadata": {},
   "source": []
  },
  {
   "cell_type": "markdown",
   "metadata": {},
   "source": [
    "## Forming Conclusions\n",
    "8 Write a summary of your results that answers the question: How does the\n",
    "conductivity of different solutions compare?"
   ]
  },
  {
   "cell_type": "markdown",
   "metadata": {},
   "source": []
  },
  {
   "cell_type": "markdown",
   "metadata": {},
   "source": [
    "## Applying and Connecting\n",
    "Solution conductivity is a powerful tool for studying the environment. Electrical\n",
    "conductivity (EC) increases with the number of ions dissolved in water. This means that\n",
    "conductivity readings can be used as indicators of water quality and the composition of\n",
    "the surrounding soil. Higher EC values in water can be natural because of minerals\n",
    "dissolved in the water; for example, in lakes that have limestone basins. But higher EC\n",
    "levels can also signal the presence of pollutants in a watershed because pollutants are a\n",
    "source of additional ions. An example is the use of salt on roads as a safety measure to\n",
    "remove ice. Unfortunately when the snow and ice melt, large amounts of salty run-off\n",
    "water enter lakes and streams and can be harmful to aquatic organisms. EC readings can\n",
    "be used to monitor the concentration of salt and other pollutants in the water.\n",
    "\n",
    "The table below shows you readings from Epcor water treatment plants in Edmonton over the last week. Specifically, from the Rossdale region supplying downtown Edmonton and the ELS region, covering the Northwest, West, and Southwest. "
   ]
  },
  {
   "cell_type": "code",
   "execution_count": null,
   "metadata": {
    "scrolled": false
   },
   "outputs": [],
   "source": [
    "url_ELS = \"https://apps.epcor.ca/DAilyWaterQuality/Default.aspx?zone=ELS\"\n",
    "url_RD = \"https://apps.epcor.ca/DAilyWaterQuality/Default.aspx?zone=Rossdale\"\n",
    "table_RD = pd.read_html(url_RD, header=0)\n",
    "table_ELS = pd.read_html(url_ELS, header=0)\n",
    "qgrid.QgridWidget(df = table_RD[0])"
   ]
  },
  {
   "cell_type": "markdown",
   "metadata": {},
   "source": [
    "We've taken the data from the water treatment plants and graphed the conductivity in the graph below, along with the readings from your experiment. How do your values compare? What does this say about the water leaving the water treatment plants? "
   ]
  },
  {
   "cell_type": "code",
   "execution_count": null,
   "metadata": {},
   "outputs": [],
   "source": [
    "button = widgets.Button(description=\"Update the plot\")\n",
    "button.on_click(run_all)\n",
    "display(button)"
   ]
  },
  {
   "cell_type": "code",
   "execution_count": null,
   "metadata": {
    "scrolled": false
   },
   "outputs": [],
   "source": [
    "import matplotlib.pyplot as plt\n",
    "from matplotlib.colors import Normalize\n",
    "import matplotlib.cm as cm\n",
    "\n",
    "cmap = cm.Set1\n",
    "\n",
    "norm=Normalize(vmin=0, vmax=len(output_data.index)+1)\n",
    "\n",
    "for i in range(len(output_data.index)): \n",
    "    sample_mean=np.mean([float(output_data.iloc[i,0]),float(output_data.iloc[i,1])])\n",
    "    plt.axhline(y=sample_mean, c=cmap(norm(i)), ls='dashed', label='Average of ' + output_data.index[i], lw='3')\n",
    "    \n",
    "\n",
    "\n",
    "plt.plot(table_RD[0].iloc[6, 1:8], 'bo-', label='Rossdale readings')\n",
    "#plt.plot(pd.DataFrame(table_RD[0].iloc[6, 1:8].apply(pd.to_numeric)))\n",
    "plt.xlabel('Day of Measurement')\n",
    "plt.ylabel('Conductivity (yS/cm)')\n",
    "plt.title('Conductivity in treated waste water over the last week')\n",
    "plt.legend(bbox_to_anchor=(1.05, 1), loc=2)\n",
    "plt.show()"
   ]
  },
  {
   "cell_type": "markdown",
   "metadata": {},
   "source": [
    "## Extending\n",
    "Design and conduct an experiment to investigate the relationship between the amount of a\n",
    "dissolved solute (such as salt) and electrical conductivity."
   ]
  },
  {
   "cell_type": "markdown",
   "metadata": {},
   "source": []
  }
 ],
 "metadata": {
  "kernelspec": {
   "display_name": "Python 3",
   "language": "python",
   "name": "python3"
  },
  "language_info": {
   "codemirror_mode": {
    "name": "ipython",
    "version": 3
   },
   "file_extension": ".py",
   "mimetype": "text/x-python",
   "name": "python",
   "nbconvert_exporter": "python",
   "pygments_lexer": "ipython3",
   "version": "3.6.4"
  }
 },
 "nbformat": 4,
 "nbformat_minor": 2
}
