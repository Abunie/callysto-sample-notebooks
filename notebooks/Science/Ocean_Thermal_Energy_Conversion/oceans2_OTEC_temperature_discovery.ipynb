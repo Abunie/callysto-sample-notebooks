{
 "cells": [
  {
   "cell_type": "code",
   "execution_count": 4,
   "metadata": {},
   "outputs": [],
   "source": [
    "!pip install onc --user --quiet"
   ]
  },
  {
   "cell_type": "code",
   "execution_count": 5,
   "metadata": {},
   "outputs": [],
   "source": [
    "import datetime\n",
    "import functools\n",
    "import itertools\n",
    "import urllib3\n",
    "import asyncio\n",
    "import nbvis.magics\n",
    "\n",
    "from math import sqrt\n",
    "from heapq import nlargest\n",
    "from nbvis.objects import D3, Visualize\n",
    "from concurrent.futures import ThreadPoolExecutor, ProcessPoolExecutor\n",
    "from IPython.display import Javascript\n",
    "from json import dumps\n",
    "from onc.onc import ONC\n",
    "\n",
    "urllib3.disable_warnings(urllib3.exceptions.InsecureRequestWarning)"
   ]
  },
  {
   "cell_type": "markdown",
   "metadata": {},
   "source": [
    "<h1 align=\"center\">$\\text{Oceans} \\  \\mathbb{2.0}$</h1>\n",
    "\n",
    "<h3 align=\"center\">Exploring Ocean Thermal Energy Conversion through Device Discovery</h3>"
   ]
  },
  {
   "cell_type": "markdown",
   "metadata": {},
   "source": [
    "---"
   ]
  },
  {
   "cell_type": "markdown",
   "metadata": {},
   "source": [
    "## Introduction"
   ]
  },
  {
   "cell_type": "markdown",
   "metadata": {},
   "source": [
    "**Ocean thermal energy conversion** (OTEC) is a renewable energy resource that utilizes temperature differences to generate energy. Deeper, _cooler_ ocean waters function as a heat sink, also known as a <span style=\"color:blue\">cold</span> reservoir, with respect to shallower, _warmer_ surface waters, i.e. a <span style=\"color:red\">hot</span> reservoir. If the temperature difference\n",
    "\n",
    "$$\\Delta T = T_{hot} - T_{cold}$$\n",
    "\n",
    "between these reservoirs is substantial, the resulting flow of heat does mechanical work. Such a system is known as a **heat engine**."
   ]
  },
  {
   "cell_type": "markdown",
   "metadata": {},
   "source": [
    "Pelc and Fujita (2002) estimate that 10 trillion watts of power, approximately equal to the current global energy demand, could be provided by OTEC without affecting the thermal structure of the ocean. <sup>[0](#fn0)</sup>"
   ]
  },
  {
   "cell_type": "markdown",
   "metadata": {},
   "source": [
    "We will leverage the **Oceans 2.0** application programming interface (API) made available by Ocean Networks Canada (ONC) to seek candidate sites for this technology. To do so, we will gather temperature and location data from numerous sensors along the North American coastline, and quantify hypothetically the maximal efficiency of a heat engine assembled  between any two of these locations."
   ]
  },
  {
   "cell_type": "markdown",
   "metadata": {},
   "source": [
    "---"
   ]
  },
  {
   "cell_type": "markdown",
   "metadata": {},
   "source": [
    "## Background"
   ]
  },
  {
   "cell_type": "markdown",
   "metadata": {},
   "source": [
    "#### Quantifying Efficiency"
   ]
  },
  {
   "cell_type": "markdown",
   "metadata": {},
   "source": [
    "How efficient is the conversion of thermal energy to mechanical work?\n",
    "\n",
    "That is, given the heat _input_ $Q_{heat}$ and mechanical _output_ $W$, what is the efficiency $\\displaystyle\\eta = {W\\over Q_{heat}}$?"
   ]
  },
  {
   "cell_type": "markdown",
   "metadata": {},
   "source": [
    "To quantify this, we consider the **Carnot heat engine**, an ideal and theoretical thermodynamic system. Its corresponding thermodynamic cycle, the **Carnot cycle**, places an upper limit on the efficiency of any classical heat engine. It turns out, by Carnot's theorem, that any heat engine between two reservoirs is less efficient than the Carnot heat engine. This is a result of the second law of thermodynamics. <sup>[1](#fn1)</sup>"
   ]
  },
  {
   "cell_type": "markdown",
   "metadata": {},
   "source": [
    "Given two reservoir temperatures $T_{hot}$ and $T_{cold}$, using the Kelvin scale, we may compute this maximal efficiency\n",
    "\n",
    "$$\\eta_{Carnot} = 1 - {T_{cold} \\over T_{hot}}.$$"
   ]
  },
  {
   "cell_type": "markdown",
   "metadata": {},
   "source": [
    "Let us define a function for computing $\\eta_{Carnot}$."
   ]
  },
  {
   "cell_type": "code",
   "execution_count": 6,
   "metadata": {},
   "outputs": [],
   "source": [
    "def max_efficiency(T_cold, T_hot): return 1 - T_cold / T_hot;"
   ]
  },
  {
   "cell_type": "markdown",
   "metadata": {},
   "source": [
    "Let us also define a function for converting temperatures from the Celsius scale to the Kelvin scale. "
   ]
  },
  {
   "cell_type": "code",
   "execution_count": 7,
   "metadata": {},
   "outputs": [],
   "source": [
    "def celsius_to_kelvin(T): return T + 273.15;"
   ]
  },
  {
   "cell_type": "markdown",
   "metadata": {},
   "source": [
    "We can now, for example, compute the maximal efficiency of a heat engine assembled between a <span style=\"color:red\">hot</span> reservoir of boiling water, and a <span style=\"color:blue\">cold</span> reservoir of ice."
   ]
  },
  {
   "cell_type": "code",
   "execution_count": 8,
   "metadata": {},
   "outputs": [
    {
     "name": "stdout",
     "output_type": "stream",
     "text": [
      "26.80 %\n"
     ]
    }
   ],
   "source": [
    "print('%.2f' % round(max_efficiency(T_cold=celsius_to_kelvin(0), T_hot=celsius_to_kelvin(100)) * 100, 2), '%')"
   ]
  },
  {
   "cell_type": "markdown",
   "metadata": {},
   "source": [
    "#### Querying Oceans 2.0"
   ]
  },
  {
   "cell_type": "markdown",
   "metadata": {},
   "source": [
    "Oceans 2.0 is an online data management system courtesy of ONC, offering \"ocean analytics that assist researchers, communities, industry, and policy-makers in making evidence-based decisions in Canada and globally.\" <sup>[2](#fn2)</sup> Accessing the Oceans 2.0 API is programmatic and available through a Python client library. The data is served three ways: <sup>[3](#fn3)</sup>\n",
    "\n",
    "* **Discovery**:  we can find and filter device codes by some criteria.\n",
    "* **Data Delivery**: once we have a device code, we can request data.\n",
    "* **Interoperability**: we may want to share with or integrate other data sources."
   ]
  },
  {
   "cell_type": "markdown",
   "metadata": {},
   "source": [
    "We create an instance of `ONC()` class. This class wraps the methods we will use to gather data. It also requires an access token, which we load from a separate file."
   ]
  },
  {
   "cell_type": "code",
   "execution_count": 9,
   "metadata": {},
   "outputs": [],
   "source": [
    "onc = ONC(token=open('oceans2_api_token.txt', 'r').read())"
   ]
  },
  {
   "cell_type": "markdown",
   "metadata": {},
   "source": [
    "Our search for candidate OTEC sites relies on temperature data. Oceans 2.0 considers this \"scalar data,\" which is available through a class method `getDirectScalar()`. This method expects, at the least, a `locationCode` and a `deviceCategoryCode`. Two other class methods, `getDeviceCategories()` and `getLocations()`, will yield these codes. <sup>[4](#fn4)</sup>"
   ]
  },
  {
   "cell_type": "markdown",
   "metadata": {},
   "source": [
    "#### Finding Properties"
   ]
  },
  {
   "cell_type": "markdown",
   "metadata": {},
   "source": [
    "There may also be more than one way to observe temperature. We use `getProperties()` to see which phenomena are quantified, and produce a list of unique property codes via `set()` which include the substring `'temperature'`."
   ]
  },
  {
   "cell_type": "code",
   "execution_count": 10,
   "metadata": {},
   "outputs": [
    {
     "data": {
      "text/plain": [
       "['srslicebalancebuoytemperature',\n",
       " 'windchilltemperature',\n",
       " 'internaltemperature',\n",
       " 'sedimenttemperature',\n",
       " 'differentialtemperature',\n",
       " 'seawatertemperature',\n",
       " 'ventfluidtemperature',\n",
       " 'seaicetemperature',\n",
       " 'wetbulbtemperature',\n",
       " 'airtemperature',\n",
       " 'sedimentsurfacetemperature']"
      ]
     },
     "execution_count": 10,
     "metadata": {},
     "output_type": "execute_result"
    }
   ],
   "source": [
    "properties = onc.getProperties(filters={})\n",
    "propertyCodes = list(set(p['propertyCode'] for p in properties)) \n",
    "[p for p in propertyCodes if 'temperature' in p]"
   ]
  },
  {
   "cell_type": "markdown",
   "metadata": {},
   "source": [
    "#### Finding Device Categories"
   ]
  },
  {
   "cell_type": "markdown",
   "metadata": {},
   "source": [
    "We focus on the property code `'seawatertemperature'`."
   ]
  },
  {
   "cell_type": "code",
   "execution_count": 11,
   "metadata": {},
   "outputs": [],
   "source": [
    "propertyCode = 'seawatertemperature'\n",
    "unitOfMeasure = 'C'"
   ]
  },
  {
   "cell_type": "markdown",
   "metadata": {},
   "source": [
    "Let us gather the device category codes first via `getDeviceCategories()`, filtering by this property code."
   ]
  },
  {
   "cell_type": "code",
   "execution_count": 12,
   "metadata": {},
   "outputs": [],
   "source": [
    "categories = onc.getDeviceCategories(filters={'propertyCode': propertyCode})"
   ]
  },
  {
   "cell_type": "markdown",
   "metadata": {},
   "source": [
    "Each element of `categories` has a `deviceCategoryCode` attribute. These are what we are after."
   ]
  },
  {
   "cell_type": "code",
   "execution_count": 13,
   "metadata": {},
   "outputs": [
    {
     "data": {
      "text/plain": [
       "['ADCP1200KHZ',\n",
       " 'ADCP150KHZ',\n",
       " 'ADCP1MHZ',\n",
       " 'ADCP2MHZ',\n",
       " 'ADCP300KHZ',\n",
       " 'ADCP400KHZ',\n",
       " 'ADCP55KHZ',\n",
       " 'ADCP600KHZ',\n",
       " 'ADCP75KHZ',\n",
       " 'BBES',\n",
       " 'BPR',\n",
       " 'CO2SENSOR',\n",
       " 'CORK',\n",
       " 'CTD',\n",
       " 'CURRENTMETER',\n",
       " 'DEPTH_TEMP',\n",
       " 'DIVE_COMPUTER',\n",
       " 'ECHOSOUNDERBIOA',\n",
       " 'GTD',\n",
       " 'ICEPROFILER',\n",
       " 'MBPROFILESONAR',\n",
       " 'METHSENSOR',\n",
       " 'NODE',\n",
       " 'OXYSENSOR',\n",
       " 'PHSENSOR',\n",
       " 'PRES',\n",
       " 'PYRANOMETER',\n",
       " 'PYRGEOMETER',\n",
       " 'TARRAY',\n",
       " 'TEMPSENSOR',\n",
       " 'TILTMTR',\n",
       " 'TSG',\n",
       " 'WETLABS_WQM']"
      ]
     },
     "execution_count": 13,
     "metadata": {},
     "output_type": "execute_result"
    }
   ],
   "source": [
    "categoryCodes = [c['deviceCategoryCode'] for c in categories]\n",
    "categoryCodes"
   ]
  },
  {
   "cell_type": "markdown",
   "metadata": {},
   "source": [
    "#### Finding Locations"
   ]
  },
  {
   "cell_type": "markdown",
   "metadata": {},
   "source": [
    "What remains is to determine where these devices are. The class method `getLocations()` can filter by device category code. So that we are convinced that these are the right locations, we also filter by the same property code."
   ]
  },
  {
   "cell_type": "markdown",
   "metadata": {},
   "source": [
    "Later we will get the locations of every device from every category that measures temperature. For now, we focus on the category code `'CTD'`. These are instruments that measure conductivity, temperature and depth."
   ]
  },
  {
   "cell_type": "code",
   "execution_count": 14,
   "metadata": {},
   "outputs": [],
   "source": [
    "categoryCode = 'CTD'\n",
    "locations = onc.getLocations(filters = {\n",
    "    'propertyCode': propertyCode,\n",
    "    'deviceCategoryCode': categoryCode\n",
    "})"
   ]
  },
  {
   "cell_type": "markdown",
   "metadata": {},
   "source": [
    "As with the device categories, each element of `locations` has a `locationCode` attribute. We slice the first five for a preview."
   ]
  },
  {
   "cell_type": "code",
   "execution_count": 15,
   "metadata": {},
   "outputs": [
    {
     "data": {
      "text/plain": [
       "['AS04', 'BACAX', 'BACCH', 'BACHY', 'BACME']"
      ]
     },
     "execution_count": 15,
     "metadata": {},
     "output_type": "execute_result"
    }
   ],
   "source": [
    "locationCodes = [l['locationCode'] for l in locations]\n",
    "locationCodes[:5]"
   ]
  },
  {
   "cell_type": "markdown",
   "metadata": {},
   "source": [
    "#### Getting Scalar Data"
   ]
  },
  {
   "cell_type": "markdown",
   "metadata": {},
   "source": [
    "At last, we have what we need to request a data product from Oceans 2.0."
   ]
  },
  {
   "cell_type": "markdown",
   "metadata": {},
   "source": [
    "Let us focus on the first location code, `'AS04'`."
   ]
  },
  {
   "cell_type": "code",
   "execution_count": 16,
   "metadata": {},
   "outputs": [
    {
     "data": {
      "text/plain": [
       "'AS04'"
      ]
     },
     "execution_count": 16,
     "metadata": {},
     "output_type": "execute_result"
    }
   ],
   "source": [
    "firstLocationCode = locationCodes[0]\n",
    "firstLocationCode"
   ]
  },
  {
   "cell_type": "markdown",
   "metadata": {},
   "source": [
    "Let us also expect data no more than a day old, so that we query devices which are still deployed. We get the current time minus one day."
   ]
  },
  {
   "cell_type": "code",
   "execution_count": 17,
   "metadata": {},
   "outputs": [
    {
     "data": {
      "text/plain": [
       "'2018-06-27T22:16:13.511Z'"
      ]
     },
     "execution_count": 17,
     "metadata": {},
     "output_type": "execute_result"
    }
   ],
   "source": [
    "timeShift = datetime.timedelta(days=-1)\n",
    "dateFrom = (datetime.datetime.now() + timeShift).isoformat('T')[:-3] + 'Z'\n",
    "dateFrom"
   ]
  },
  {
   "cell_type": "markdown",
   "metadata": {},
   "source": [
    "Now we call to the class method `getDirectScalar()`, passing our sought after location and device category codes as arguments. Specifying `'metadata'` to be `'full'` requests the latitude and longitude of the location. The `rowLimit` restricts our request for data to at most five points in time."
   ]
  },
  {
   "cell_type": "code",
   "execution_count": 18,
   "metadata": {},
   "outputs": [
    {
     "data": {
      "text/plain": [
       "{'metadata': {'boundingBox': {'maxDepth': 120.0,\n",
       "   'maxLat': 48.300767,\n",
       "   'maxLon': -123.390117,\n",
       "   'minDepth': 120.0,\n",
       "   'minLat': 48.300767,\n",
       "   'minLon': -123.390117},\n",
       "  'depth': 120.0,\n",
       "  'deviceCategoryCode': 'CTD',\n",
       "  'lat': 48.300767,\n",
       "  'locationName': 'AS04 Mooring',\n",
       "  'lon': -123.390117},\n",
       " 'next': None,\n",
       " 'queryUrl': 'https://data.oceannetworks.ca/api/scalardata?locationCode=AS04&metadata=full&deviceCategoryCode=CTD&dateFrom=2018-06-27T22%3A16%3A13.511Z&rowLimit=5&method=getByLocation&token=0b8544ec-977b-404a-a0b3-8e99216aeed6',\n",
       " 'sensorData': None}"
      ]
     },
     "execution_count": 18,
     "metadata": {},
     "output_type": "execute_result"
    }
   ],
   "source": [
    "scalarData = onc.getDirectScalar(filters = {\n",
    "    'locationCode': firstLocationCode,\n",
    "    'metadata': 'full',\n",
    "    'deviceCategoryCode': categoryCode,\n",
    "    'dateFrom': dateFrom,\n",
    "    'rowLimit': 5\n",
    "})\n",
    "scalarData"
   ]
  },
  {
   "cell_type": "markdown",
   "metadata": {},
   "source": [
    "We check if there is sensor data, and if the latitude and longitude metadata was delivered.\n",
    "\n",
    "If these exist, we look for a sensor with degrees Celsius as its unit of measure, and get its most recent data point. If not, we try other codes until we find one with data."
   ]
  },
  {
   "cell_type": "code",
   "execution_count": 19,
   "metadata": {},
   "outputs": [
    {
     "name": "stdout",
     "output_type": "stream",
     "text": [
      "BACME / 2018-06-27T22:16:14.187Z / 3.794 C\n"
     ]
    }
   ],
   "source": [
    "sensorData = scalarData['sensorData']\n",
    "boundingBox = scalarData['metadata']['boundingBox']\n",
    "if sensorData is not None and not any(v is None for v in list(boundingBox.values())):\n",
    "    for s in sensorData:\n",
    "        if s['unitOfMeasure'] == unitOfMeasure:\n",
    "            sampleTime = s['data']['sampleTimes'][-1]\n",
    "            value = s['data']['values'][-1]\n",
    "            print(locationCode, '/', sampleTime, '/' , value, unitOfMeasure)\n",
    "else:\n",
    "    for locationCode in locationCodes:\n",
    "        scalarData = onc.getDirectScalar(filters = {\n",
    "            'locationCode': locationCode,\n",
    "            'metadata': 'full',\n",
    "            'deviceCategoryCode': categoryCode,\n",
    "            'dateFrom': dateFrom,\n",
    "            'rowLimit': 5\n",
    "        })\n",
    "        sensorData = scalarData['sensorData']\n",
    "        boundingBox = scalarData['metadata']['boundingBox']\n",
    "        if sensorData is not None and not any(v is None for v in list(boundingBox.values())):\n",
    "            for s in sensorData:\n",
    "                if s['unitOfMeasure'] == unitOfMeasure:\n",
    "                    sampleTime = s['data']['sampleTimes'][-1]\n",
    "                    value = s['data']['values'][-1]\n",
    "                    print(locationCode, '/', sampleTime, '/' , value, unitOfMeasure)\n",
    "            break;"
   ]
  },
  {
   "cell_type": "markdown",
   "metadata": {},
   "source": [
    "We may also gather the sensors' geographic coordinates, as well as its depth (in metres)."
   ]
  },
  {
   "cell_type": "code",
   "execution_count": 20,
   "metadata": {},
   "outputs": [
    {
     "name": "stdout",
     "output_type": "stream",
     "text": [
      "48.314913 / -126.058465 / 896.0\n"
     ]
    }
   ],
   "source": [
    "lat = (boundingBox['maxLat'] + boundingBox['minLat'])/2\n",
    "lon = (boundingBox['maxLon'] + boundingBox['minLon'])/2\n",
    "depth = (boundingBox['maxDepth'] + boundingBox['minDepth'])/2\n",
    "print(lat, '/', lon, '/', depth)"
   ]
  },
  {
   "cell_type": "markdown",
   "metadata": {},
   "source": [
    "---"
   ]
  },
  {
   "cell_type": "markdown",
   "metadata": {},
   "source": [
    "## Demonstration"
   ]
  },
  {
   "cell_type": "markdown",
   "metadata": {},
   "source": [
    "At this point we have isolated the temperature and location data of a single sensor. To determine candidate sites for OTEC, we should gather this data from many sensors from many locations."
   ]
  },
  {
   "cell_type": "markdown",
   "metadata": {},
   "source": [
    "Here we set up a list of coroutines to asynchronously request this data from every device category code we found before. These requests are made simultaneously, i.e. _in parallel_, as the result of one does not affect another. We gather the same data from each location, and pass these locations to D3.js for visualization. "
   ]
  },
  {
   "cell_type": "code",
   "execution_count": 21,
   "metadata": {},
   "outputs": [],
   "source": [
    "import asyncio\n",
    "import concurrent.futures\n",
    "import requests\n",
    "import aiohttp\n",
    "\n",
    "LOOP = asyncio.new_event_loop()\n",
    "concurrent.futures.ThreadPoolExecutor().submit(LOOP.run_forever);"
   ]
  },
  {
   "cell_type": "code",
   "execution_count": 22,
   "metadata": {},
   "outputs": [],
   "source": [
    "def getLocationsFromCategory(categoryCode, propertyCode):\n",
    "    c = categoryCode; p = propertyCode\n",
    "    locations = onc.getLocations(filters={\n",
    "        'deviceCategoryCode': c,\n",
    "        'propertyCode': p\n",
    "    })\n",
    "    locationCodes = list(map(lambda l: l['locationCode'], locations))\n",
    "    return [(c, l) for l in locationCodes];"
   ]
  },
  {
   "cell_type": "code",
   "execution_count": 23,
   "metadata": {},
   "outputs": [],
   "source": [
    "async def runInParallel(func, iterative, *args):\n",
    "    with concurrent.futures.ThreadPoolExecutor(max_workers=len(iterative)) as executor:\n",
    "        futures = [\n",
    "            LOOP.run_in_executor(executor, func, *i, *args)\n",
    "                if isinstance(i, tuple)\n",
    "                else LOOP.run_in_executor(executor, func, i, *args)\n",
    "                    for i in iterative\n",
    "        ]\n",
    "        return await asyncio.gather(*futures)\n",
    "\n",
    "result = asyncio.run_coroutine_threadsafe(runInParallel(getLocationsFromCategory, categoryCodes, propertyCode), LOOP).result()\n",
    "categoryLocationId = [item for sublist in result for item in sublist]"
   ]
  },
  {
   "cell_type": "code",
   "execution_count": 24,
   "metadata": {},
   "outputs": [],
   "source": [
    "def getPropertyData(data, propertyCode, unitOfMeasure):\n",
    "    if data != []:\n",
    "        sensorData = data['sensorData']\n",
    "        for i in sensorData:\n",
    "            if i['unitOfMeasure'] == unitOfMeasure:\n",
    "                val = i['data']['values'][0]\n",
    "                time = i['data']['sampleTimes'][0]\n",
    "                unit = i['unitOfMeasure']\n",
    "                return time, val, unit;\n",
    "    else: return [];\n",
    "\n",
    "def getCoordinates(data):\n",
    "    lat, lon, depth = None, None, None\n",
    "    if data != []:\n",
    "        try:\n",
    "            boundingBox = data['metadata']['boundingBox']\n",
    "            lat = (boundingBox['maxLat'] + boundingBox['minLat'])/2\n",
    "            lon = (boundingBox['maxLon'] + boundingBox['minLon'])/2\n",
    "            depth = (boundingBox['maxDepth'] + boundingBox['minDepth'])/2\n",
    "        except TypeError: pass\n",
    "    return lat, lon, depth;\n",
    "\n",
    "def getDataFromLocation(categoryCode, locationCode, dateFrom):\n",
    "    data = onc.getDirectScalar(filters = {\n",
    "        'locationCode': locationCode,\n",
    "        'metadata': 'full',\n",
    "        'deviceCategoryCode': categoryCode,\n",
    "        'dateFrom': dateFrom,\n",
    "        'rowLimit': 1\n",
    "    })\n",
    "    if data['sensorData'] is not None:\n",
    "        temperature = getPropertyData(data, propertyCode, unitOfMeasure)\n",
    "        if temperature is not None:\n",
    "            coordinates = getCoordinates(data)\n",
    "            if None not in coordinates:\n",
    "                datum = {\n",
    "                    \"categoryCode\": categoryCode,\n",
    "                    \"locationCode\": locationCode,\n",
    "                    \"temperature\": temperature[1],\n",
    "                    \"depth\": coordinates[2],\n",
    "                    \"latitude\": coordinates[1],\n",
    "                    \"longitude\": coordinates[0]\n",
    "                }\n",
    "                # data.push(%s); updateCircles();\" % datum)\n",
    "                display(Javascript(\"console.log(%s);\" % datum))\n",
    "                return datum\n",
    "    else:\n",
    "        display(Javascript(\"console.log('No sensor data from %s at %s');\" % (categoryCode, locationCode)))\n",
    "        # print('No sensor data from', categoryCode, 'at', locationCode, '...')"
   ]
  },
  {
   "cell_type": "code",
   "execution_count": 25,
   "metadata": {},
   "outputs": [
    {
     "name": "stdout",
     "output_type": "stream",
     "text": [
      "Code added to D3 visualization stack!\n"
     ]
    }
   ],
   "source": [
    "%%d3 --reset\n",
    "window.data = [];\n",
    "var svg = d3.select(\"svg\");\n",
    "\n",
    "svg.selectAll(\"*\").remove();\n",
    "var width = +svg.node().getBoundingClientRect().width;\n",
    "var height = +svg.attr(\"height\");\n",
    "\n",
    "const projection = d3.geoMercator();\n",
    "const initialScale = projection.scale();\n",
    "projection\n",
    "    .scale(850)\n",
    "    .rotate([100, -60, 0])\n",
    "    .translate([width/2, height/2]);\n",
    "\n",
    "const geoPath = d3.geoPath().projection(projection);\n",
    "const path = svg.append('path').attr('stroke', 'gray');\n",
    "const circlePath =  d3.geoPath().projection(projection);\n",
    "\n",
    "var graticule = d3.geoGraticule()\n",
    "\n",
    "svg.append(\"path\")\n",
    "    .datum(graticule)\n",
    "    .attr(\"class\", \"graticule\")\n",
    "    .style(\"fill\", \"none\")\n",
    "    .style(\"stroke\", \"#777\")\n",
    "    .style(\"stroke-width\", \"0.5px\")\n",
    "    .style(\"stroke-opacity\", \"0.5\")\n",
    "    .attr(\"d\", geoPath);\n",
    "\n",
    "let moving = false;\n",
    "\n",
    "var geojson = [\n",
    "    \"https://unpkg.com/world-atlas@1/world/110m.json\",\n",
    "    \"https://unpkg.com/world-atlas@1/world/50m.json\"\n",
    "];\n",
    "\n",
    "window.updateCircles = () => {\n",
    "    svg.append(\"g\")\n",
    "               .selectAll(\"path\")\n",
    "               .data(data)\n",
    "               .enter().append(\"path\")\n",
    "               .attr(\"fill\", \"red\")\n",
    "               .attr(\"d\", d => geoPath(d3.geoCircle()\n",
    "                                         .center([d.latitude, d.longitude])\n",
    "                                         .radius(2e-1/d3.zoomTransform(svg.node()).k)()))\n",
    "}\n",
    "\n",
    "Promise.all(geojson.map(url => d3.json(url)))\n",
    "    .then(function([world110m, world50m]) {\n",
    "\n",
    "        const countries110m = topojson\n",
    "            .feature(world110m, world110m.objects.countries);\n",
    "        const countries50m = topojson\n",
    "            .feature(world50m, world50m.objects.countries);\n",
    "        const render = () => {\n",
    "            svg.selectAll(\"path\").attr(\"d\", geoPath)\n",
    "\n",
    "            updateCircles();\n",
    "\n",
    "            // render low/high resolution boundaries when moving/stopped\n",
    "            path.attr('d', geoPath(moving ? countries110m : countries50m));\n",
    "        };\n",
    "        render();\n",
    "\n",
    "        let rotate0, coords0;\n",
    "        const coords = () => projection.rotate(rotate0)\n",
    "            .invert([d3.event.x, d3.event.y]);\n",
    "\n",
    "        svg\n",
    "            .call(d3.drag()\n",
    "                .on('start', () => {\n",
    "                    rotate0 = projection.rotate();\n",
    "                    coords0 = coords();\n",
    "                    moving = true;\n",
    "                })\n",
    "                .on('drag', () => {\n",
    "                    const coords1 = coords();\n",
    "                    projection.rotate([\n",
    "                                  rotate0[0] + coords1[0] - coords0[0],\n",
    "                                  rotate0[1] + coords1[1] - coords0[1],\n",
    "                    ])\n",
    "                    render();\n",
    "                })\n",
    "                .on('end', () => {\n",
    "                  moving = false;\n",
    "                  render();\n",
    "                })\n",
    "              )\n",
    "\n",
    "          d3.geoZoom()\n",
    "            .projection(projection)\n",
    "            .northUp(true)\n",
    "            .onMove(render)\n",
    "          (svg.node());\n",
    "    })\n",
    "    .catch(e => { console.log(e); }); "
   ]
  },
  {
   "cell_type": "code",
   "execution_count": 39,
   "metadata": {},
   "outputs": [
    {
     "name": "stdout",
     "output_type": "stream",
     "text": [
      "D3 object \"geography\" is a duplicate ... replacing ...\n"
     ]
    },
    {
     "ename": "NameError",
     "evalue": "name 'Vis' is not defined",
     "output_type": "error",
     "traceback": [
      "\u001b[0;31m---------------------------------------------------------------------------\u001b[0m",
      "\u001b[0;31mNameError\u001b[0m                                 Traceback (most recent call last)",
      "\u001b[0;32m<ipython-input-39-6a2a3b751e84>\u001b[0m in \u001b[0;36m<module>\u001b[0;34m()\u001b[0m\n\u001b[1;32m      1\u001b[0m \u001b[0mgeography\u001b[0m \u001b[0;34m=\u001b[0m \u001b[0mD3\u001b[0m\u001b[0;34m(\u001b[0m\u001b[0;34m\"geography\"\u001b[0m\u001b[0;34m)\u001b[0m\u001b[0;34m.\u001b[0m\u001b[0msvg\u001b[0m\u001b[0;34m(\u001b[0m\u001b[0mheight\u001b[0m\u001b[0;34m=\u001b[0m\u001b[0;36m600\u001b[0m\u001b[0;34m)\u001b[0m\u001b[0;34m\u001b[0m\u001b[0m\n\u001b[1;32m      2\u001b[0m \u001b[0mgeography\u001b[0m\u001b[0;34m.\u001b[0m\u001b[0mrequire\u001b[0m\u001b[0;34m(\u001b[0m\u001b[0;34m\"d3-geo-projection\"\u001b[0m\u001b[0;34m,\u001b[0m \u001b[0;34m\"d3-geo-zoom\"\u001b[0m\u001b[0;34m)\u001b[0m\u001b[0;34m\u001b[0m\u001b[0m\n\u001b[0;32m----> 3\u001b[0;31m \u001b[0mVis\u001b[0m\u001b[0;34m(\u001b[0m\u001b[0mgeography\u001b[0m\u001b[0;34m)\u001b[0m\u001b[0;34m;\u001b[0m\u001b[0;34m\u001b[0m\u001b[0m\n\u001b[0m\u001b[1;32m      4\u001b[0m \u001b[0;34m\u001b[0m\u001b[0m\n\u001b[1;32m      5\u001b[0m \u001b[0mdata\u001b[0m \u001b[0;34m=\u001b[0m \u001b[0masyncio\u001b[0m\u001b[0;34m.\u001b[0m\u001b[0mrun_coroutine_threadsafe\u001b[0m\u001b[0;34m(\u001b[0m\u001b[0mrunInParallel\u001b[0m\u001b[0;34m(\u001b[0m\u001b[0mgetDataFromLocation\u001b[0m\u001b[0;34m,\u001b[0m \u001b[0mcategoryLocationId\u001b[0m\u001b[0;34m,\u001b[0m \u001b[0mdateFrom\u001b[0m\u001b[0;34m)\u001b[0m\u001b[0;34m,\u001b[0m \u001b[0mLOOP\u001b[0m\u001b[0;34m)\u001b[0m\u001b[0;34m.\u001b[0m\u001b[0mresult\u001b[0m\u001b[0;34m(\u001b[0m\u001b[0;34m)\u001b[0m\u001b[0;34m;\u001b[0m\u001b[0;34m\u001b[0m\u001b[0m\n",
      "\u001b[0;31mNameError\u001b[0m: name 'Vis' is not defined"
     ]
    }
   ],
   "source": [
    "geography = D3(\"geography\").svg(height=600)\n",
    "geography.require(\"d3-geo-projection\", \"d3-geo-zoom\")\n",
    "Vis(geography);\n",
    "\n",
    "data = asyncio.run_coroutine_threadsafe(runInParallel(getDataFromLocation, categoryLocationId, dateFrom), LOOP).result();"
   ]
  },
  {
   "cell_type": "markdown",
   "metadata": {},
   "source": [
    "---"
   ]
  },
  {
   "cell_type": "markdown",
   "metadata": {},
   "source": [
    "## Optimization"
   ]
  },
  {
   "cell_type": "markdown",
   "metadata": {},
   "source": [
    "Initially we set out to find candidate sites for OTEC. In our demonstration above, we patiently recover `data`, which contains the temperature and location data for every sensor that Oceans 2.0 could deliver."
   ]
  },
  {
   "cell_type": "code",
   "execution_count": 27,
   "metadata": {},
   "outputs": [
    {
     "data": {
      "text/plain": [
       "[{'categoryCode': 'ADCP1200KHZ',\n",
       "  'locationCode': 'CBYIP',\n",
       "  'temperature': -0.5,\n",
       "  'depth': 9.0,\n",
       "  'latitude': -105.06403,\n",
       "  'longitude': 69.1129},\n",
       " {'categoryCode': 'ADCP150KHZ',\n",
       "  'locationCode': 'BACME',\n",
       "  'temperature': 3.79,\n",
       "  'depth': 895.0,\n",
       "  'latitude': -126.058533,\n",
       "  'longitude': 48.314901},\n",
       " None,\n",
       " {'categoryCode': 'ADCP150KHZ',\n",
       "  'locationCode': 'SCVIP',\n",
       "  'temperature': 8.97,\n",
       "  'depth': 298.0,\n",
       "  'latitude': -123.425809,\n",
       "  'longitude': 49.040683},\n",
       " {'categoryCode': 'ADCP150KHZ',\n",
       "  'locationCode': 'SEVIP',\n",
       "  'temperature': 9.540000000000001,\n",
       "  'depth': 166.0,\n",
       "  'latitude': -123.316579,\n",
       "  'longitude': 49.042586}]"
      ]
     },
     "execution_count": 27,
     "metadata": {},
     "output_type": "execute_result"
    }
   ],
   "source": [
    "data[:5]"
   ]
  },
  {
   "cell_type": "markdown",
   "metadata": {},
   "source": [
    "With this we may compute the ideal locations for <span style=\"color:blue\">cold</span> and <span style=\"color:red\">hot</span> reservoirs to maximize the effiency of a Carnot heat engine."
   ]
  },
  {
   "cell_type": "markdown",
   "metadata": {},
   "source": [
    "As we see on the map, some locations are simply too far apart for OTEC. We should only consider locations that are near one another."
   ]
  },
  {
   "cell_type": "markdown",
   "metadata": {},
   "source": [
    "To constrain our results, we create a function, `nearby(latitudeDifference, longitudeDifference, depthDifference)`, to check if the Euclidean distance between any two locations is less than 2 kilometres. We also check that the distance is greater than zero, to avoid a physical impossibility. As an approximation, we suppose that a degree of latitude or longitude is at most 112 kilometres. <sup>[5](#fn5)</sup> "
   ]
  },
  {
   "cell_type": "code",
   "execution_count": 28,
   "metadata": {},
   "outputs": [],
   "source": [
    "def nearby(latitudeDifference, longitudeDifference, depthDifference):\n",
    "    distance = sqrt(latitudeDifference*latitudeDifference + longitudeDifference*longitudeDifference + depthDifference*depthDifference)\n",
    "    if 0 < distance < 2:\n",
    "        return True;\n",
    "    return False;"
   ]
  },
  {
   "cell_type": "markdown",
   "metadata": {},
   "source": [
    "We generate a list of all possible pairs of sensors, and slice the first two for a preview."
   ]
  },
  {
   "cell_type": "code",
   "execution_count": 29,
   "metadata": {},
   "outputs": [
    {
     "data": {
      "text/plain": [
       "[({'categoryCode': 'ADCP1200KHZ',\n",
       "   'locationCode': 'CBYIP',\n",
       "   'temperature': -0.5,\n",
       "   'depth': 9.0,\n",
       "   'latitude': -105.06403,\n",
       "   'longitude': 69.1129},\n",
       "  {'categoryCode': 'ADCP150KHZ',\n",
       "   'locationCode': 'BACME',\n",
       "   'temperature': 3.79,\n",
       "   'depth': 895.0,\n",
       "   'latitude': -126.058533,\n",
       "   'longitude': 48.314901}),\n",
       " ({'categoryCode': 'ADCP1200KHZ',\n",
       "   'locationCode': 'CBYIP',\n",
       "   'temperature': -0.5,\n",
       "   'depth': 9.0,\n",
       "   'latitude': -105.06403,\n",
       "   'longitude': 69.1129},\n",
       "  None)]"
      ]
     },
     "execution_count": 29,
     "metadata": {},
     "output_type": "execute_result"
    }
   ],
   "source": [
    "sensorPairs = list(itertools.combinations(data, 2))\n",
    "sensorPairs[:2]"
   ]
  },
  {
   "cell_type": "markdown",
   "metadata": {},
   "source": [
    "Next we filter `sensorPairs`, overlooking sensors that are mutually more than 2 kilometres apart."
   ]
  },
  {
   "cell_type": "code",
   "execution_count": 30,
   "metadata": {},
   "outputs": [
    {
     "data": {
      "text/plain": [
       "[({'categoryCode': 'ADCP150KHZ',\n",
       "   'locationCode': 'BACME',\n",
       "   'temperature': 3.79,\n",
       "   'depth': 895.0,\n",
       "   'latitude': -126.058533,\n",
       "   'longitude': 48.314901},\n",
       "  {'categoryCode': 'ADCP2MHZ',\n",
       "   'locationCode': 'BACME',\n",
       "   'temperature': 3.95,\n",
       "   'depth': 893.0,\n",
       "   'latitude': -126.058587,\n",
       "   'longitude': 48.31494}),\n",
       " ({'categoryCode': 'ADCP150KHZ',\n",
       "   'locationCode': 'BACME',\n",
       "   'temperature': 3.79,\n",
       "   'depth': 895.0,\n",
       "   'latitude': -126.058533,\n",
       "   'longitude': 48.314901},\n",
       "  {'categoryCode': 'CTD',\n",
       "   'locationCode': 'BACME',\n",
       "   'temperature': 3.7937,\n",
       "   'depth': 896.0,\n",
       "   'latitude': -126.058465,\n",
       "   'longitude': 48.314913})]"
      ]
     },
     "execution_count": 30,
     "metadata": {},
     "output_type": "execute_result"
    }
   ],
   "source": [
    "closeSensorPairs = []\n",
    "for pair in sensorPairs:\n",
    "    try:\n",
    "        latitudeDifference = (pair[0]['latitude'] - pair[1]['latitude']) * 112\n",
    "        longitudeDifference = (pair[0]['longitude'] - pair[1]['longitude']) * 112\n",
    "        depthDifference = (pair[0]['depth'] - pair[1]['depth']) / 1000\n",
    "    \n",
    "        if nearby(latitudeDifference, longitudeDifference, depthDifference):\n",
    "            closeSensorPairs += [pair]\n",
    "    except TypeError: pass\n",
    "closeSensorPairs[:2]"
   ]
  },
  {
   "cell_type": "markdown",
   "metadata": {},
   "source": [
    "From `closeSensorPairs`, we generate a list of all possible pairs of locations, as well as a list of all possible pairs of temperatures $\\left(T_{cold}, T_{hot}\\right)$, with every temperature represented using the Kelvin scale.\n",
    "\n",
    "We `zip` these lists to preserve the pairing of locations with temperatures. Naturally, the <span style=\"color:blue\">cold</span> reservoir will be one of two locations with a lower temperature, so we ignore elements where $T_{cold}$ is greater than $T_{hot}$."
   ]
  },
  {
   "cell_type": "markdown",
   "metadata": {},
   "source": [
    "In theory, OTEC provides as much energy with a 20 degree temperature difference as a hydroelectric plant with 34 metre head, given the same volume of water flow. <sup>[6](#fn6)</sup>"
   ]
  },
  {
   "cell_type": "markdown",
   "metadata": {},
   "source": [
    "It is unreasonable to expect such a temperature difference $\\Delta T = T_{hot} - T_{cold}$ between nearby locations, namely this from the equator. In the event that there is no two locations with a temperature difference greater than 20 degrees, we check again for elements with a temperature difference of 19 degrees, then 18 degrees, and so forth, until we find a suitable location."
   ]
  },
  {
   "cell_type": "code",
   "execution_count": 35,
   "metadata": {},
   "outputs": [
    {
     "data": {
      "text/plain": [
       "[(('RCNW5', 'ROPOS.S1'), (275.21, 287.979)),\n",
       " (('RCNW1', 'ROPOS.S1'), (275.04159999999996, 287.979)),\n",
       " (('RCNW4', 'ROPOS.S1'), (275.09029999999996, 287.979))]"
      ]
     },
     "execution_count": 35,
     "metadata": {},
     "output_type": "execute_result"
    }
   ],
   "source": [
    "temperatureDifference = 20\n",
    "locationPairs = [(c[0]['locationCode'], c[1]['locationCode']) for c in closeSensorPairs]\n",
    "temperaturePairs = [(celsius_to_kelvin(c[0]['temperature']), celsius_to_kelvin(c[1]['temperature'])) for c in closeSensorPairs]\n",
    "locationTemperaturePairs = [pair for pair in list(zip(locationPairs, temperaturePairs)) if pair[1][0] < pair[1][1] and not abs(pair[1][1] - pair[1][0]) < temperatureDifference]\n",
    "while locationTemperaturePairs == [] :\n",
    "    temperatureDifference -= 1\n",
    "    locationTemperaturePairs = [pair for pair in list(zip(locationPairs, temperaturePairs)) if pair[1][0] < pair[1][1] and not abs(pair[1][1] - pair[1][0]) < temperatureDifference]\n",
    "locationTemperaturePairs"
   ]
  },
  {
   "cell_type": "markdown",
   "metadata": {},
   "source": [
    "These pairs of temperatures are readily unpacked and passed to our function, `max_efficiency(T_cold, T_hot)`, that we defined at the onset. We isolate the temperature pair that maximizes the efficiency of a Carnot heat engine. So that we may determine the locations of its heat reservoirs, we get the indices of `locationTemperaturePairs` where the greatest efficiency values are attained."
   ]
  },
  {
   "cell_type": "code",
   "execution_count": 36,
   "metadata": {},
   "outputs": [
    {
     "data": {
      "text/plain": [
       "[('4.49 %', 1), ('4.48 %', 2), ('4.43 %', 0)]"
      ]
     },
     "execution_count": 36,
     "metadata": {},
     "output_type": "execute_result"
    }
   ],
   "source": [
    "efficiencies = [round(max_efficiency(*pair[1]) * 100, 2) for pair in locationTemperaturePairs] \n",
    "indices = [efficiencies.index(efficiency) for efficiency in nlargest(3, efficiencies)]\n",
    "list(zip(['%.2f ' % efficiencies[i] + '%' for i in indices], indices))"
   ]
  },
  {
   "cell_type": "markdown",
   "metadata": {},
   "source": [
    "Finally, we may isolate the candidate sites for OTEC."
   ]
  },
  {
   "cell_type": "code",
   "execution_count": 37,
   "metadata": {},
   "outputs": [
    {
     "data": {
      "text/plain": [
       "[('RCNW1', 'ROPOS.S1'), ('RCNW4', 'ROPOS.S1'), ('RCNW5', 'ROPOS.S1')]"
      ]
     },
     "execution_count": 37,
     "metadata": {},
     "output_type": "execute_result"
    }
   ],
   "source": [
    "candidateSites = [locationTemperaturePairs[i][0] for i in indices]\n",
    "candidateSites"
   ]
  },
  {
   "cell_type": "markdown",
   "metadata": {},
   "source": [
    "We use `getLocations()` once more with each location code to name these locations and determine their depths."
   ]
  },
  {
   "cell_type": "code",
   "execution_count": 38,
   "metadata": {},
   "outputs": [
    {
     "name": "stdout",
     "output_type": "stream",
     "text": [
      "RCNW1 / NW-005 mab / 2140.0  to  ROPOS.S1 / CTD Primary / 2143.76\n",
      "RCNW4 / NW-200 mab / 1943.0  to  ROPOS.S1 / CTD Primary / 2143.76\n",
      "RCNW5 / NW-250 mab / 1893.0  to  ROPOS.S1 / CTD Primary / 2143.76\n"
     ]
    }
   ],
   "source": [
    "for sites in candidateSites:\n",
    "    coldReservoir = onc.getLocations(filters = { 'locationCode': sites[0] })[0]\n",
    "    hotReservoir = onc.getLocations(filters = { 'locationCode': sites[1] })[0]\n",
    "    coldReservoirInfo = coldReservoir['locationCode'] + ' / ' + coldReservoir['locationName'] + ' / ' + str(coldReservoir['depth'])\n",
    "    hotReservoirInfo = hotReservoir['locationCode'] + ' / ' + hotReservoir['locationName'] + ' / ' + str(hotReservoir['depth'])\n",
    "    print(coldReservoirInfo, ' to ', hotReservoirInfo)"
   ]
  },
  {
   "cell_type": "markdown",
   "metadata": {},
   "source": [
    "These are candidate sites for OTEC!"
   ]
  },
  {
   "cell_type": "markdown",
   "metadata": {},
   "source": [
    "---"
   ]
  },
  {
   "cell_type": "markdown",
   "metadata": {},
   "source": [
    "## Conclusion"
   ]
  },
  {
   "cell_type": "markdown",
   "metadata": {},
   "source": [
    "We set out to find optimal development sites along Canadian coastlines for Ocean Thermal Energy Conversion, a hypothetical and renewable energy resource that, acting as heat engine, utilizes temperature differences to generate energy. We simplified our exploration by considering the Carnot heat engine, a theoretical physical model, to place an upper bound on the efficiency of OTEC developed between two sites."
   ]
  },
  {
   "cell_type": "markdown",
   "metadata": {},
   "source": [
    "The use of the Oceans 2.0 API, courtesy of Ocean Networks Canada, allowed us to find all temperature sensors catalogued by ONC. With this temperature data, we narrowed our search to _nearby_ candidate sites with the greatest temperature difference, and computed the maximal efficiency $\\eta_{Carnot}$ of OTEC at each site."
   ]
  },
  {
   "cell_type": "markdown",
   "metadata": {},
   "source": [
    "---"
   ]
  },
  {
   "cell_type": "markdown",
   "metadata": {},
   "source": [
    "#### References"
   ]
  },
  {
   "cell_type": "markdown",
   "metadata": {},
   "source": [
    "<a name=\"fn0\">0</a> : https://centerforoceansolutions.org/sites/default/files/publications/Pelc%20and%20Fujita%202002.pdf\n",
    "\n",
    "<a name=\"fn1\">1</a> : https://en.wikipedia.org/wiki/Carnot%27s_theorem_(thermodynamics)\n",
    "\n",
    "<a name=\"fn2\">2</a> : https://www.oceannetworks.ca\n",
    "\n",
    "<a name=\"fn3\">3</a> : https://wiki.oceannetworks.ca/display/O2A/API+Reference\n",
    "\n",
    "<a name=\"fn4\">4</a> : https://wiki.oceannetworks.ca/display/O2A/Python+Client+Library\n",
    "\n",
    "<a name=\"fn5\">5</a> : https://gis.stackexchange.com/a/142327\n",
    "\n",
    "<a name=\"fn6\">6</a> : https://en.wikipedia.org/wiki/Ocean_thermal_energy_conversion#Thermodynamics"
   ]
  },
  {
   "cell_type": "markdown",
   "metadata": {},
   "source": [
    "---"
   ]
  }
 ],
 "metadata": {
  "kernelspec": {
   "display_name": "Python 3",
   "language": "python",
   "name": "python3"
  },
  "language_info": {
   "codemirror_mode": {
    "name": "ipython",
    "version": 3
   },
   "file_extension": ".py",
   "mimetype": "text/x-python",
   "name": "python",
   "nbconvert_exporter": "python",
   "pygments_lexer": "ipython3",
   "version": "3.6.5"
  }
 },
 "nbformat": 4,
 "nbformat_minor": 2
}
