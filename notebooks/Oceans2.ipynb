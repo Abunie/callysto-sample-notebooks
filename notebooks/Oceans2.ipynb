{
 "cells": [
  {
   "cell_type": "markdown",
   "metadata": {},
   "source": [
    "## Visualizing Oceans 2.0"
   ]
  },
  {
   "cell_type": "markdown",
   "metadata": {},
   "source": [
    "---"
   ]
  },
  {
   "cell_type": "markdown",
   "metadata": {},
   "source": [
    "For motivation, from [Ocean Networks Canada](http://www.oceannetworks.ca):\n",
    "\n",
    ">\"Long-term, continuous scientific data from the ocean environment are gathered by Ocean Networks Canada and made available through **Oceans 2.0**—a powerful online data management system. Oceans 2.0, combined with high-performance computing, allows ONC to provide ocean analytics that assist researchers, communities, industry, and policy-makers in making evidence-based decisions in Canada and globally.\""
   ]
  },
  {
   "cell_type": "markdown",
   "metadata": {},
   "source": [
    "---"
   ]
  },
  {
   "cell_type": "markdown",
   "metadata": {},
   "source": [
    "Let's make a request to $\\text{Oceans} \\ 2.0$."
   ]
  },
  {
   "cell_type": "code",
   "execution_count": 1,
   "metadata": {
    "collapsed": true
   },
   "outputs": [],
   "source": [
    "import requests"
   ]
  },
  {
   "cell_type": "code",
   "execution_count": 2,
   "metadata": {
    "collapsed": true
   },
   "outputs": [],
   "source": [
    "url = 'https://data.oceannetworks.ca/api/locations'\n",
    "parameters = {\n",
    "    'method':'get', # we want to \"get\" data\n",
    "    'token':'f740427d-d987-43a4-b339-ea8451195bdb' # we need an access token to make requests\n",
    "}"
   ]
  },
  {
   "cell_type": "code",
   "execution_count": 3,
   "metadata": {
    "collapsed": true
   },
   "outputs": [],
   "source": [
    "response = requests.get(url, params=parameters)"
   ]
  },
  {
   "cell_type": "markdown",
   "metadata": {},
   "source": [
    "We may check that the `response` is well-received."
   ]
  },
  {
   "cell_type": "code",
   "execution_count": 4,
   "metadata": {},
   "outputs": [
    {
     "data": {
      "text/plain": [
       "True"
      ]
     },
     "execution_count": 4,
     "metadata": {},
     "output_type": "execute_result"
    }
   ],
   "source": [
    "response.ok"
   ]
  },
  {
   "cell_type": "code",
   "execution_count": 5,
   "metadata": {},
   "outputs": [
    {
     "data": {
      "text/plain": [
       "200"
      ]
     },
     "execution_count": 5,
     "metadata": {},
     "output_type": "execute_result"
    }
   ],
   "source": [
    "response.status_code "
   ]
  },
  {
   "cell_type": "markdown",
   "metadata": {},
   "source": [
    "$\\uparrow$ We should also be reluctant to move on if this status code is anything _but_ $200$."
   ]
  },
  {
   "cell_type": "markdown",
   "metadata": {},
   "source": [
    "---"
   ]
  },
  {
   "cell_type": "markdown",
   "metadata": {},
   "source": [
    "The data we receive has a [$\\text{JSON}$](https://www.json.org/) format, so let's import a module for that too."
   ]
  },
  {
   "cell_type": "code",
   "execution_count": 6,
   "metadata": {
    "collapsed": true
   },
   "outputs": [],
   "source": [
    "import json"
   ]
  },
  {
   "cell_type": "markdown",
   "metadata": {},
   "source": [
    "Extracting locations ... `json.loads` should give us a `list`."
   ]
  },
  {
   "cell_type": "code",
   "execution_count": 7,
   "metadata": {},
   "outputs": [
    {
     "data": {
      "text/plain": [
       "list"
      ]
     },
     "execution_count": 7,
     "metadata": {},
     "output_type": "execute_result"
    }
   ],
   "source": [
    "locations = str(response.content, 'utf-8')\n",
    "type(json.loads(locations)) # just checking ..."
   ]
  },
  {
   "cell_type": "markdown",
   "metadata": {},
   "source": [
    "We may [slice](https://en.wikipedia.org/wiki/Array_slicing) the first $2$ elements of `locations` for a preview."
   ]
  },
  {
   "cell_type": "code",
   "execution_count": 8,
   "metadata": {},
   "outputs": [
    {
     "data": {
      "text/plain": [
       "[{'bbox': None,\n",
       "  'dataSearchURL': 'http://data.oceannetworks.ca/DataSearch?location=ALBH',\n",
       "  'deployments': 2,\n",
       "  'depth': None,\n",
       "  'description': 'Description:Albert Head (Metchosen) is one of the Earthquake Early Warning sites. It has a latitude of 48.3897 and a longitude of -123.4875 with an elevation of approximately 49 metres. ',\n",
       "  'hasDeviceData': 'true',\n",
       "  'hasPropertyData': 'false',\n",
       "  'lat': None,\n",
       "  'locationCode': 'ALBH',\n",
       "  'locationName': 'Albert Head',\n",
       "  'lon': None},\n",
       " {'bbox': {'maxDepth': -0.066956,\n",
       "   'maxLat': 48.584709,\n",
       "   'maxLon': -123.517527,\n",
       "   'minDepth': -0.066956,\n",
       "   'minLat': 48.584709,\n",
       "   'minLon': -123.517527},\n",
       "  'dataSearchURL': 'http://data.oceannetworks.ca/DataSearch?location=ARG',\n",
       "  'deployments': 6,\n",
       "  'depth': -0.066956,\n",
       "  'description': 'Platform: Remotely Operated Vehicle operated by Ocean Exploration Trust. It is a support vehicle to Hercules.  ',\n",
       "  'hasDeviceData': 'true',\n",
       "  'hasPropertyData': 'false',\n",
       "  'lat': 48.584709,\n",
       "  'locationCode': 'ARG',\n",
       "  'locationName': 'Argus',\n",
       "  'lon': -123.517527}]"
      ]
     },
     "execution_count": 8,
     "metadata": {},
     "output_type": "execute_result"
    }
   ],
   "source": [
    "json.loads(locations)[:2]"
   ]
  },
  {
   "cell_type": "markdown",
   "metadata": {},
   "source": [
    "---"
   ]
  },
  {
   "cell_type": "markdown",
   "metadata": {},
   "source": [
    "So that we may handle our newfound `data`, let's drop this into a `DataFrame` via [`pandas`](https://pandas.pydata.org/)."
   ]
  },
  {
   "cell_type": "code",
   "execution_count": 9,
   "metadata": {
    "collapsed": true
   },
   "outputs": [],
   "source": [
    "import pandas"
   ]
  },
  {
   "cell_type": "code",
   "execution_count": 10,
   "metadata": {},
   "outputs": [
    {
     "data": {
      "text/plain": [
       "pandas.core.frame.DataFrame"
      ]
     },
     "execution_count": 10,
     "metadata": {},
     "output_type": "execute_result"
    }
   ],
   "source": [
    "data = pandas.read_json(locations)\n",
    "type(data) # another check ..."
   ]
  },
  {
   "cell_type": "code",
   "execution_count": 11,
   "metadata": {},
   "outputs": [
    {
     "data": {
      "text/html": [
       "<div>\n",
       "<style>\n",
       "    .dataframe thead tr:only-child th {\n",
       "        text-align: right;\n",
       "    }\n",
       "\n",
       "    .dataframe thead th {\n",
       "        text-align: left;\n",
       "    }\n",
       "\n",
       "    .dataframe tbody tr th {\n",
       "        vertical-align: top;\n",
       "    }\n",
       "</style>\n",
       "<table border=\"1\" class=\"dataframe\">\n",
       "  <thead>\n",
       "    <tr style=\"text-align: right;\">\n",
       "      <th></th>\n",
       "      <th>bbox</th>\n",
       "      <th>dataSearchURL</th>\n",
       "      <th>deployments</th>\n",
       "      <th>depth</th>\n",
       "      <th>description</th>\n",
       "      <th>hasDeviceData</th>\n",
       "      <th>hasPropertyData</th>\n",
       "      <th>lat</th>\n",
       "      <th>locationCode</th>\n",
       "      <th>locationName</th>\n",
       "      <th>lon</th>\n",
       "    </tr>\n",
       "  </thead>\n",
       "  <tbody>\n",
       "    <tr>\n",
       "      <th>0</th>\n",
       "      <td>None</td>\n",
       "      <td>http://data.oceannetworks.ca/DataSearch?locati...</td>\n",
       "      <td>2</td>\n",
       "      <td>NaN</td>\n",
       "      <td>Description:Albert Head (Metchosen) is one of ...</td>\n",
       "      <td>true</td>\n",
       "      <td>false</td>\n",
       "      <td>NaN</td>\n",
       "      <td>ALBH</td>\n",
       "      <td>Albert Head</td>\n",
       "      <td>NaN</td>\n",
       "    </tr>\n",
       "    <tr>\n",
       "      <th>1</th>\n",
       "      <td>{'maxDepth': -0.066956, 'maxLat': 48.584709, '...</td>\n",
       "      <td>http://data.oceannetworks.ca/DataSearch?locati...</td>\n",
       "      <td>6</td>\n",
       "      <td>-0.066956</td>\n",
       "      <td>Platform: Remotely Operated Vehicle operated b...</td>\n",
       "      <td>true</td>\n",
       "      <td>false</td>\n",
       "      <td>48.584709</td>\n",
       "      <td>ARG</td>\n",
       "      <td>Argus</td>\n",
       "      <td>-123.517527</td>\n",
       "    </tr>\n",
       "    <tr>\n",
       "      <th>2</th>\n",
       "      <td>{'maxDepth': 115.0, 'maxLat': 48.300967, 'maxL...</td>\n",
       "      <td>http://data.oceannetworks.ca/DataSearch?locati...</td>\n",
       "      <td>27</td>\n",
       "      <td>112.555556</td>\n",
       "      <td>Depth: 121 m Latitude:48.300556 Longitude: -12...</td>\n",
       "      <td>true</td>\n",
       "      <td>false</td>\n",
       "      <td>48.300638</td>\n",
       "      <td>AS04</td>\n",
       "      <td>AS04 Mooring</td>\n",
       "      <td>-123.391084</td>\n",
       "    </tr>\n",
       "  </tbody>\n",
       "</table>\n",
       "</div>"
      ],
      "text/plain": [
       "                                                bbox  \\\n",
       "0                                               None   \n",
       "1  {'maxDepth': -0.066956, 'maxLat': 48.584709, '...   \n",
       "2  {'maxDepth': 115.0, 'maxLat': 48.300967, 'maxL...   \n",
       "\n",
       "                                       dataSearchURL  deployments       depth  \\\n",
       "0  http://data.oceannetworks.ca/DataSearch?locati...            2         NaN   \n",
       "1  http://data.oceannetworks.ca/DataSearch?locati...            6   -0.066956   \n",
       "2  http://data.oceannetworks.ca/DataSearch?locati...           27  112.555556   \n",
       "\n",
       "                                         description hasDeviceData  \\\n",
       "0  Description:Albert Head (Metchosen) is one of ...          true   \n",
       "1  Platform: Remotely Operated Vehicle operated b...          true   \n",
       "2  Depth: 121 m Latitude:48.300556 Longitude: -12...          true   \n",
       "\n",
       "  hasPropertyData        lat locationCode  locationName         lon  \n",
       "0           false        NaN         ALBH   Albert Head         NaN  \n",
       "1           false  48.584709          ARG         Argus -123.517527  \n",
       "2           false  48.300638         AS04  AS04 Mooring -123.391084  "
      ]
     },
     "execution_count": 11,
     "metadata": {},
     "output_type": "execute_result"
    }
   ],
   "source": [
    "data[:3] # a slice of 3 elements"
   ]
  },
  {
   "cell_type": "markdown",
   "metadata": {},
   "source": [
    "There's quite a bit of information here."
   ]
  },
  {
   "cell_type": "code",
   "execution_count": 12,
   "metadata": {},
   "outputs": [
    {
     "data": {
      "text/plain": [
       "389"
      ]
     },
     "execution_count": 12,
     "metadata": {},
     "output_type": "execute_result"
    }
   ],
   "source": [
    "len(data) # the \"length\" of the DataFrame"
   ]
  },
  {
   "cell_type": "code",
   "execution_count": 13,
   "metadata": {},
   "outputs": [
    {
     "data": {
      "text/plain": [
       "array(['bbox', 'dataSearchURL', 'deployments', 'depth', 'description',\n",
       "       'hasDeviceData', 'hasPropertyData', 'lat', 'locationCode',\n",
       "       'locationName', 'lon'], dtype=object)"
      ]
     },
     "execution_count": 13,
     "metadata": {},
     "output_type": "execute_result"
    }
   ],
   "source": [
    "data.columns.values"
   ]
  },
  {
   "cell_type": "markdown",
   "metadata": {},
   "source": [
    "For now, let's just see where our `data` is coming from."
   ]
  },
  {
   "cell_type": "code",
   "execution_count": 14,
   "metadata": {},
   "outputs": [
    {
     "data": {
      "text/plain": [
       "0          NaN\n",
       "1    48.584709\n",
       "2    48.300638\n",
       "Name: lat, dtype: float64"
      ]
     },
     "execution_count": 14,
     "metadata": {},
     "output_type": "execute_result"
    }
   ],
   "source": [
    "latitudes = data['lat']\n",
    "latitudes[:3]"
   ]
  },
  {
   "cell_type": "code",
   "execution_count": 15,
   "metadata": {},
   "outputs": [
    {
     "data": {
      "text/plain": [
       "0           NaN\n",
       "1   -123.517527\n",
       "2   -123.391084\n",
       "Name: lon, dtype: float64"
      ]
     },
     "execution_count": 15,
     "metadata": {},
     "output_type": "execute_result"
    }
   ],
   "source": [
    "longitudes = data['lon']\n",
    "longitudes[:3]"
   ]
  },
  {
   "cell_type": "markdown",
   "metadata": {},
   "source": [
    "It seems that some locations don't have a registered latitude nor longitude.\n",
    "\n",
    "For _now_, we exclude these and zip `latitudes` with `longitudes`."
   ]
  },
  {
   "cell_type": "code",
   "execution_count": 16,
   "metadata": {},
   "outputs": [
    {
     "data": {
      "text/plain": [
       "[(48.584708999999997, -123.517527),\n",
       " (48.300637999999999, -123.39108400000001),\n",
       " (48.316685, -126.050355),\n",
       " (48.309823000000002, -126.06212499999999)]"
      ]
     },
     "execution_count": 16,
     "metadata": {},
     "output_type": "execute_result"
    }
   ],
   "source": [
    "# a quick way to catch NaNs in DataFrames: check if one equals itself\n",
    "coordinates = list(zip(\n",
    "    [l for l in latitudes if l == l],\n",
    "    [l for l in longitudes if l == l]\n",
    "))\n",
    "coordinates[:4] # one more slice of 4 elements"
   ]
  },
  {
   "cell_type": "markdown",
   "metadata": {},
   "source": [
    "---"
   ]
  },
  {
   "cell_type": "markdown",
   "metadata": {},
   "source": [
    "Here $\\mathbf{D3}.js$ will give us a better view."
   ]
  },
  {
   "cell_type": "code",
   "execution_count": 17,
   "metadata": {},
   "outputs": [
    {
     "data": {
      "application/javascript": [
       "require.config({ paths: { d3: \"//d3js.org/d3.v4.min\" } }); // \"import\" D3\n",
       "require([\"d3\"], function(d3) { window.d3 = d3; });"
      ],
      "text/plain": [
       "<IPython.core.display.Javascript object>"
      ]
     },
     "metadata": {},
     "output_type": "display_data"
    }
   ],
   "source": [
    "%%javascript\n",
    "require.config({ paths: { d3: \"//d3js.org/d3.v4.min\" } }); // \"import\" D3\n",
    "require([\"d3\"], function(d3) { window.d3 = d3; });"
   ]
  },
  {
   "cell_type": "code",
   "execution_count": 18,
   "metadata": {
    "collapsed": true
   },
   "outputs": [],
   "source": [
    "width = 960; height = 300 # set SVG parameters, Python-side\n",
    "svg = '<svg width = \"%s\" height = \"%s\"></svg>' % (width, height)"
   ]
  },
  {
   "cell_type": "code",
   "execution_count": 19,
   "metadata": {},
   "outputs": [
    {
     "data": {
      "text/html": [
       "<svg width = \"960\" height = \"300\"></svg>"
      ],
      "text/plain": [
       "<IPython.core.display.HTML object>"
      ]
     },
     "execution_count": 19,
     "metadata": {},
     "output_type": "execute_result"
    }
   ],
   "source": [
    "from IPython.display import HTML, Javascript; HTML(svg)"
   ]
  },
  {
   "cell_type": "markdown",
   "metadata": {},
   "source": [
    "A [Mercator projection](https://en.wikipedia.org/wiki/Mercator_projection) will do.\n",
    "\n",
    "We need to pass the `coordinates` to $\\text{JavaScript}$."
   ]
  },
  {
   "cell_type": "code",
   "execution_count": 20,
   "metadata": {},
   "outputs": [
    {
     "data": {
      "application/javascript": [
       "window.coordinates = {\"coordinates\": [[48.584709, -123.517527], [48.300638, -123.391084], [48.316685, -126.050355], [48.309823, -126.062125], [48.310365, -126.06225], [48.355749, -125.898655], [48.312069, -126.065689], [48.312109, -126.066271], [48.311675, -126.065182], [48.3149, -126.058262], [48.314654, -126.058199], [48.315057, -126.058796], [48.426993, -126.174618], [48.426393, -126.174394], [48.426393, -126.174394], [48.427352, -126.174128], [48.427349, -126.174127], [48.427382, -126.174155], [48.427349, -126.174127], [48.427349, -126.174127], [48.311836, -126.065563], [48.31185, -126.065607], [48.311747, -126.065278], [48.31185, -126.065607], [48.311743, -126.065378], [48.31175, -126.065178], [48.835333, -125.13514], [50.544283, -126.842642], [48.760382, -123.076307], [45.367205, -64.408957], [45.369396, -64.404684], [45.371222, -64.40308], [49.917311, -129.209552], [48.696806, -53.04069], [69.117115, -105.04964], [69.113228, -105.062978], [69.113026, -105.064091], [69.113117, -105.064083], [69.113008, -105.064057], [69.113008, -105.064057], [69.113008, -105.064057], [69.107556, -105.059678], [69.114541, -105.058515], [69.114024, -105.059389], [69.114077, -105.059283], [48.6488, -123.446], [48.6488, -123.446], [48.6491, -123.446], [48.6488, -123.446], [47.803145, -127.607863], [47.906259, -127.620651], [47.951543, -127.57699], [47.830658, -127.88686], [48.699862, -126.872283], [48.699937, -126.872152], [48.699407, -126.872425], [48.699407, -126.872425], [48.6739, -126.842456], [48.669926, -126.846504], [50.020749, -125.235349], [50.020767, -125.235361], [50.020767, -125.235367], [50.020767, -125.235361], [50.020767, -125.235367], [50.020746, -125.235346], [50.020746, -125.235346], [50.020867, -125.235367], [50.02531, -125.219561], [47.651757, -127.781963], [47.562365, -127.607693], [47.767259, -128.073193], [0.0, 0.0], [69.002342, -105.763998], [28.95254, -88.19438], [49.085095, -123.330155], [50.7486, -130.8949], [54.258739, -130.431146], [54.258714, -130.431197], [54.258714, -130.431197], [54.258714, -130.431197], [54.258667, -130.431208], [54.258762, -130.431187], [54.258714, -130.431197], [54.258714, -130.431197], [54.258714, -130.431197], [54.258714, -130.431197], [54.263317, -130.42495], [68.955595, -105.68655], [69.012141, -105.832404], [67.555697, -64.031935], [49.042645, -123.31744], [49.042645, -123.31744], [49.042645, -123.31744], [49.042645, -123.31744], [49.042614, -123.317787], [49.043035, -123.317639], [49.043035, -123.317639], [49.043035, -123.317639], [49.043035, -123.317639], [49.0433, -123.317616], [47.959831, -129.124348], [48.653593, -123.452612], [49.08083, -123.339136], [49.080834, -123.339133], [49.080834, -123.339133], [48.813799, -125.280874], [48.813775, -125.280805], [48.813786, -125.280911], [48.808292, -125.2815], [48.808292, -125.2815], [48.808292, -125.2815], [48.808292, -125.2815], [71.519867, -96.5771], [48.761955, -123.315794], [43.859963, -58.91193], [51.71195, -128.235917], [49.228869, -123.880465], [49.228869, -123.880465], [49.228869, -123.880465], [50.64, -128.135], [52.820633, -129.84575], [48.584562, -123.518618], [48.584562, -123.518618], [47.758333, -54.075], [47.758333, -54.075], [47.758333, -54.075], [49.216063, -123.205482], [48.650593, -123.48633], [48.651389, -123.4635], [48.650478, -123.486073], [48.6491, -123.446], [48.427825, -126.174489], [48.427825, -126.174489], [48.427825, -126.174489], [48.427825, -126.174489], [48.427825, -126.174489], [48.427825, -126.174489], [48.357233, -124.215212], [48.508221, -124.750095], [68.267732, -101.583367], [48.653571, -123.452626], [47.948375, -129.098463], [47.949292, -129.098344], [47.9493, -129.098323], [47.9493, -129.098323], [47.94927, -129.098401], [47.9493, -129.098387], [47.949295, -129.098327], [47.923836, -129.108471], [53.974656, -128.657035], [53.974663, -128.657038], [53.974666, -128.657024], [53.974666, -128.657024], [53.974663, -128.657038], [53.974666, -128.657024], [53.974666, -128.657024], [53.973217, -128.651417], [48.6488, -123.446], [49.080654, -123.339456], [49.080637, -123.339545], [49.080637, -123.339545], [49.080637, -123.339545], [49.080637, -123.339545], [49.080603, -123.339463], [49.080983, -123.340412], [49.08097, -123.340547], [49.08097, -123.340547], [49.08097, -123.340547], [49.08097, -123.340547], [49.080981, -123.340402], [49.080811, -123.340619], [49.080814, -123.340604], [49.080814, -123.340604], [49.080814, -123.340604], [49.08088, -123.340652], [49.08088, -123.340652], [48.401146, -123.408838], [48.6531, -123.5521], [48.6531, -123.5521], [46.98, -54.685], [46.98, -54.685], [46.98, -54.685], [48.242383, -123.976153], [53.6413, -129.2996], [51.5887, -144.2517], [51.5901, -144.2303], [50.6026, -143.8148], [50.6988, -143.7966], [47.762622, -127.758616], [47.763642, -127.75873], [47.763317, -127.758703], [47.763135, -127.758548], [47.763135, -127.758548], [47.762723, -127.758807], [47.762723, -127.758807], [48.670587, -126.848087], [48.671031, -126.84816000000001], [48.671371, -126.847514], [48.670884, -126.84717], [48.670537, -126.848767], [48.670887, -126.848543], [48.427407, -126.174669], [47.973593, -129.082001], [0.368552, -0.935197], [48.6488, -123.446], [48.648681, -123.446181], [48.648681, -123.446181], [48.648681, -123.446181], [48.648681, -123.446181], [48.648681, -123.446181], [48.648681, -123.446181], [48.648681, -123.446181], [48.648681, -123.446181], [48.648681, -123.446181], [74.660046, -91.309537], [48.6495, -123.475783], [48.650927, -123.486726], [24.55442, -81.8102], [48.649017, -123.472527], [48.6492, -123.47575], [48.650765, -123.486431], [47.563333, -59.1], [48.650535, -123.48612], [48.651362, -123.486305], [48.650936, -123.487271], [48.650936, -123.487265], [48.650917, -123.487403], [48.650959, -123.487159], [48.65099, -123.487384], [48.650917, -123.487597], [48.650905, -123.48749], [48.651133, -123.486081], [48.650853, -123.48715], [48.651398, -123.487198], [48.650242, -123.48599], [54.318708, -130.320968], [50.02531, -125.219561], [72.9392, -96.15575], [73.66295, -96.336767], [49.2183, -124.8083], [49.2183, -124.8083], [49.25624, -124.86116], [50.42855, -127.4865], [48.54427, -124.4131], [48.651293, -123.486351], [48.651288, -123.486326], [48.651281, -123.486172], [48.651251, -123.486123], [48.651282, -123.486289], [48.651282, -123.486334], [48.651313, -123.486422], [68.768652, -102.741018], [50.13246, -125.3308], [47.973622, -129.082292], [47.973622, -129.082292], [47.973622, -129.082292], [47.973622, -129.082292], [47.973623, -129.082292], [47.974748, -129.087538], [47.974748, -129.087538], [47.974748, -129.087538], [47.974748, -129.087538], [47.974748, -129.087538], [47.933147, -129.098795], [47.933395, -129.098893], [47.933395, -129.098893], [47.933395, -129.098893], [47.933395, -129.098893], [47.933395, -129.098893], [47.933395, -129.098893], [47.935512, -129.106723], [47.935512, -129.106723], [47.935512, -129.106723], [47.935512, -129.106723], [47.319042, -54.122493], [47.319042, -54.122493], [47.319042, -54.122493], [54.234367, -130.3335], [48.477064, -125.956816], [48.477064, -125.956816], [48.477064, -125.956816], [48.477064, -125.956816], [48.477064, -125.956816], [48.477064, -125.956816], [48.477064, -125.956816], [48.669967, -126.847427], [48.65062, -123.486292], [48.65062, -123.486292], [48.65062, -123.486292], [48.415464, -123.390123], [48.415464, -123.390123], [48.415464, -123.390123], [48.220452, -123.690225], [48.220452, -123.690225], [48.220452, -123.690225], [48.6509, -123.486712], [47.672659, -122.326381], [49.040078, -123.426507], [49.039748, -123.426017], [49.040151, -123.425451], [49.040151, -123.425451], [49.040263, -123.425415], [49.039829, -123.426044], [49.085844, -123.327802], [49.086187, -123.32738], [49.0842, -123.329164], [49.084219, -123.329142], [49.085679, -123.329713], [49.042643, -123.31782], [49.04261, -123.31696], [28.95247, -88.19487], [49.042387, -123.317202], [49.042685, -123.316833], [49.042406, -123.317199], [49.042685, -123.316833], [49.042685, -123.316833], [49.042685, -123.316833], [54.262015, -130.426227], [49.029883, -123.319177], [49.041258, -123.42572], [49.042684, -123.317503], [49.036352, -123.272172], [49.042422, -123.317143], [48.688475, -123.500435], [4840.6306, -12330.4861], [49.12, -123.3], [49.302139, -123.254406], [49.92685, -126.651167], [49.073466, -125.76668599999999], [49.186283, -123.885616], [49.186283, -123.885616], [49.186283, -123.885616], [48.907231, -123.252489], [48.907231, -123.252489], [48.907231, -123.252489], [48.92456, -125.54194], [49.085009, -123.329995], [49.085014, -123.329973], [49.085006, -123.32978], [49.085006, -123.32978], [49.084984, -123.329678], [49.085013, -123.330107], [49.084999, -123.33008], [49.085013, -123.330107], [49.085001, -123.330019], [49.330067, -123.264433], [49.01805, -123.17188], [54.26255, -130.425417], [48.654217, -123.452043], [48.873717, -123.291017], [48.761955, -123.315794], [50.032883, -127.373566], [50.03285, -127.374467], [50.03285, -127.374467], [49.21587, -123.20538], [48.649167, -123.47575], [48.649167, -123.47575], [48.651475, -123.464319], [48.651475, -123.464319], [54.234633, -130.334683], [69.149495, -105.92488], [49.016058, -123.167833], [50.213334, -126.601905], [48.622283, -123.498883], [48.622283, -123.498883], [48.622283, -123.498883], [48.622283, -123.498883], [48.622283, -123.498883], [48.622283, -123.498883], [48.622283, -123.498883], [48.622283, -123.498883], [49.592, -126.617], [49.989683, -126.850617], [49.989683, -126.850617], [49.989683, -126.850617], [48.345729, -126.158209]]}"
      ],
      "text/plain": [
       "<IPython.core.display.Javascript object>"
      ]
     },
     "execution_count": 20,
     "metadata": {},
     "output_type": "execute_result"
    }
   ],
   "source": [
    "# we cheat with a global declaration\n",
    "Javascript(\"window.coordinates = %s\" % json.dumps({'coordinates': coordinates}))"
   ]
  },
  {
   "cell_type": "markdown",
   "metadata": {},
   "source": [
    "Here's the visualization code, applying one of $\\text{Jupyter's}$ [_magics_](http://ipython.readthedocs.io/en/stable/interactive/magics.html)."
   ]
  },
  {
   "cell_type": "code",
   "execution_count": 21,
   "metadata": {},
   "outputs": [
    {
     "data": {
      "application/javascript": [
       "var svg = d3.select(\"svg\"),\n",
       "    width = +svg.attr(\"width\"),\n",
       "    height = +svg.attr(\"height\");\n",
       "    \n",
       "var projection = d3.geoMercator(), // Mercator projection\n",
       "    path = d3.geoPath()\n",
       "        .projection(projection);\n",
       "\n",
       "var url = (\"https://gist.githubusercontent.com/ericeasthope/d4e52335899a37f825b10053ba8801dc\" +\n",
       "           \"/raw/ac330f677a117cc12ed63a56fee283cb0a5d6667/north-america.geojson\");\n",
       "d3.json(url, function(err, geojson) {\n",
       "    svg.append(\"path\")\n",
       "       .attr(\"d\", path(geojson));\n",
       "    svg.selectAll(\"circle\")\n",
       "           .data(coordinates.coordinates).enter()\n",
       "       .append(\"circle\")\n",
       "\t   .attr(\"cx\", d => projection(d.reverse())[0])\n",
       "       .attr(\"cy\", d => projection(d)[1])\n",
       "\t   .attr(\"r\", \"2px\")\n",
       "       .attr(\"fill\", \"red\");\n",
       "})"
      ],
      "text/plain": [
       "<IPython.core.display.Javascript object>"
      ]
     },
     "metadata": {},
     "output_type": "display_data"
    }
   ],
   "source": [
    "%%javascript\n",
    "var svg = d3.select(\"svg\"),\n",
    "    width = +svg.attr(\"width\"),\n",
    "    height = +svg.attr(\"height\");\n",
    "    \n",
    "var projection = d3.geoMercator(), // Mercator projection\n",
    "    path = d3.geoPath()\n",
    "        .projection(projection);\n",
    "\n",
    "var url = (\"https://gist.githubusercontent.com/ericeasthope/d4e52335899a37f825b10053ba8801dc\" +\n",
    "           \"/raw/ac330f677a117cc12ed63a56fee283cb0a5d6667/north-america.geojson\");\n",
    "d3.json(url, function(err, geojson) {\n",
    "    svg.append(\"path\")\n",
    "       .attr(\"d\", path(geojson));\n",
    "    svg.selectAll(\"circle\")\n",
    "           .data(coordinates.coordinates).enter()\n",
    "       .append(\"circle\")\n",
    "\t   .attr(\"cx\", d => projection(d.reverse())[0])\n",
    "       .attr(\"cy\", d => projection(d)[1])\n",
    "\t   .attr(\"r\", \"2px\")\n",
    "       .attr(\"fill\", \"red\");\n",
    "})"
   ]
  },
  {
   "cell_type": "markdown",
   "metadata": {},
   "source": [
    "$\\uparrow\\uparrow$ Look above! The <font color=\"red\">red</font> dots are the locations within our `data`."
   ]
  },
  {
   "cell_type": "markdown",
   "metadata": {},
   "source": [
    "---"
   ]
  },
  {
   "cell_type": "markdown",
   "metadata": {},
   "source": [
    "* _Assembled by Eric Easthope_\n",
    "\n",
    "* I humbly and _**heavily**_ borrow bits of [$\\mathbf{D3}$](https://d3js.org/) from [bl.ocks](https://bl.ocks.org/) and [Stack Overflow](https://stackoverflow.com/)."
   ]
  },
  {
   "cell_type": "markdown",
   "metadata": {},
   "source": [
    "---"
   ]
  }
 ],
 "metadata": {
  "kernelspec": {
   "display_name": "Python 3",
   "language": "python",
   "name": "python3"
  },
  "language_info": {
   "codemirror_mode": {
    "name": "ipython",
    "version": 3
   },
   "file_extension": ".py",
   "mimetype": "text/x-python",
   "name": "python",
   "nbconvert_exporter": "python",
   "pygments_lexer": "ipython3",
   "version": "3.6.1"
  }
 },
 "nbformat": 4,
 "nbformat_minor": 2
}
