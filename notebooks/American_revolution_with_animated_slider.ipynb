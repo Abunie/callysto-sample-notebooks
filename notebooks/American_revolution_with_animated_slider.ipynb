{
 "cells": [
  {
   "cell_type": "code",
   "execution_count": 1,
   "metadata": {},
   "outputs": [
    {
     "data": {
      "text/html": [
       "\n",
       "<script>\n",
       "  function code_toggle() {\n",
       "    if (code_shown){\n",
       "      $('div.input').hide('500');\n",
       "      $('#toggleButton').val('Show Code')\n",
       "    } else {\n",
       "      $('div.input').show('500');\n",
       "      $('#toggleButton').val('Hide Code')\n",
       "    }\n",
       "    code_shown = !code_shown\n",
       "  }\n",
       "  \n",
       "  $( document ).ready(function(){\n",
       "    code_shown=false;\n",
       "    $('div.input').hide()\n",
       "  });\n",
       "</script>\n",
       "<form action=\"javascript:code_toggle()\"><input type=\"submit\" id=\"toggleButton\" value=\"Show Code\"></form>"
      ],
      "text/plain": [
       "<IPython.core.display.HTML object>"
      ]
     },
     "metadata": {},
     "output_type": "display_data"
    }
   ],
   "source": [
    "%%html\n",
    "\n",
    "<script>\n",
    "  function code_toggle() {\n",
    "    if (code_shown){\n",
    "      $('div.input').hide('500');\n",
    "      $('#toggleButton').val('Show Code')\n",
    "    } else {\n",
    "      $('div.input').show('500');\n",
    "      $('#toggleButton').val('Hide Code')\n",
    "    }\n",
    "    code_shown = !code_shown\n",
    "  }\n",
    "  \n",
    "  $( document ).ready(function(){\n",
    "    code_shown=false;\n",
    "    $('div.input').hide()\n",
    "  });\n",
    "</script>\n",
    "<form action=\"javascript:code_toggle()\"><input type=\"submit\" id=\"toggleButton\" value=\"Show Code\"></form>"
   ]
  },
  {
   "cell_type": "markdown",
   "metadata": {
    "collapsed": true
   },
   "source": [
    "### American revolution \n",
    "\n",
    "<img src=\"images/13_colonies.jpg\" width=\"400px\" align=\"right\"/>\n",
    "The American Revolution (1775-83) is also known as the American Revolutionary War and the U.S. War of Independence.\n",
    "\n",
    "Independance means not beeing under the control of others and beeing able to make one's own decisions. On July 4, 1776,  the Thirteen Colonies declared that they were no longer part of Britain. The British disagreed. A war between Britain and the Thirteen Coloniws began as a result of this disagreement. This war was known as the American Revolution or the War of Independence. (From \"Our Land and People\", Patricia Shields-Ramsay, Douglas Ramsay)\n",
    "\n"
   ]
  },
  {
   "cell_type": "markdown",
   "metadata": {},
   "source": [
    "#### Displaying battles on the map\n",
    "\n",
    "Step1. Loading python libraries.\n"
   ]
  },
  {
   "cell_type": "code",
   "execution_count": 37,
   "metadata": {
    "collapsed": true
   },
   "outputs": [],
   "source": [
    "import pandas as pd\n",
    "import matplotlib.pyplot as plt\n",
    "import numpy as np\n",
    "from numpy import nan as Nan\n",
    "from plotly.offline import init_notebook_mode, iplot\n",
    "import plotly.graph_objs as go\n",
    "import plotly.plotly as py\n",
    "import time"
   ]
  },
  {
   "cell_type": "markdown",
   "metadata": {},
   "source": [
    "Step2. Downloading dataset  and examining it."
   ]
  },
  {
   "cell_type": "code",
   "execution_count": 38,
   "metadata": {},
   "outputs": [
    {
     "data": {
      "text/html": [
       "<div>\n",
       "<style>\n",
       "    .dataframe thead tr:only-child th {\n",
       "        text-align: right;\n",
       "    }\n",
       "\n",
       "    .dataframe thead th {\n",
       "        text-align: left;\n",
       "    }\n",
       "\n",
       "    .dataframe tbody tr th {\n",
       "        vertical-align: top;\n",
       "    }\n",
       "</style>\n",
       "<table border=\"1\" class=\"dataframe\">\n",
       "  <thead>\n",
       "    <tr style=\"text-align: right;\">\n",
       "      <th></th>\n",
       "      <th>Battle</th>\n",
       "      <th>article</th>\n",
       "      <th>Date</th>\n",
       "      <th>State</th>\n",
       "      <th>Outcome</th>\n",
       "      <th>Start Date</th>\n",
       "      <th>Victory</th>\n",
       "      <th>Battle location</th>\n",
       "    </tr>\n",
       "  </thead>\n",
       "  <tbody>\n",
       "    <tr>\n",
       "      <th>0</th>\n",
       "      <td>Battles of Lexington and Concord</td>\n",
       "      <td>https://en.wikipedia.org/wiki/Battles_of_Lexin...</td>\n",
       "      <td>April 19, 1775</td>\n",
       "      <td>Massachusetts</td>\n",
       "      <td>Patriot victory: British forces raiding Concor...</td>\n",
       "      <td>1775-04-19</td>\n",
       "      <td>Patriot victory</td>\n",
       "      <td>42.4496388889, -71.2308333333</td>\n",
       "    </tr>\n",
       "    <tr>\n",
       "      <th>1</th>\n",
       "      <td>First Siege of Fort Henry</td>\n",
       "      <td>https://en.wikipedia.org/wiki/Siege_of_Fort_He...</td>\n",
       "      <td>NaN</td>\n",
       "      <td>Virginia</td>\n",
       "      <td>Patriot victory</td>\n",
       "      <td>NaN</td>\n",
       "      <td>Patriot victory</td>\n",
       "      <td>40.0638888889, -80.725</td>\n",
       "    </tr>\n",
       "    <tr>\n",
       "      <th>2</th>\n",
       "      <td>Battle of Freeman's Farm</td>\n",
       "      <td>https://en.wikipedia.org/wiki/Battles_of_Saratoga</td>\n",
       "      <td>September 19, 1777</td>\n",
       "      <td>New York</td>\n",
       "      <td>British tactical victory: First of the two Bat...</td>\n",
       "      <td>1777-09-19</td>\n",
       "      <td>NaN</td>\n",
       "      <td>42.9988888889, -73.6375</td>\n",
       "    </tr>\n",
       "    <tr>\n",
       "      <th>3</th>\n",
       "      <td>Siege of Augusta</td>\n",
       "      <td>https://en.wikipedia.org/wiki/Siege_of_Augusta</td>\n",
       "      <td>NaN</td>\n",
       "      <td>Georgia</td>\n",
       "      <td>Patriot victory</td>\n",
       "      <td>NaN</td>\n",
       "      <td>Patriot victory</td>\n",
       "      <td>33.4666666667, -81.9666666667</td>\n",
       "    </tr>\n",
       "    <tr>\n",
       "      <th>4</th>\n",
       "      <td>Battle of Videau's Bridge</td>\n",
       "      <td>https://en.wikipedia.org/wiki/Battle_of_Videau...</td>\n",
       "      <td>January 2, 1782</td>\n",
       "      <td>South Carolina</td>\n",
       "      <td>British victory</td>\n",
       "      <td>1782-01-02</td>\n",
       "      <td>British victory</td>\n",
       "      <td>NaN</td>\n",
       "    </tr>\n",
       "  </tbody>\n",
       "</table>\n",
       "</div>"
      ],
      "text/plain": [
       "                             Battle  \\\n",
       "0  Battles of Lexington and Concord   \n",
       "1         First Siege of Fort Henry   \n",
       "2          Battle of Freeman's Farm   \n",
       "3                  Siege of Augusta   \n",
       "4         Battle of Videau's Bridge   \n",
       "\n",
       "                                             article                Date  \\\n",
       "0  https://en.wikipedia.org/wiki/Battles_of_Lexin...      April 19, 1775   \n",
       "1  https://en.wikipedia.org/wiki/Siege_of_Fort_He...                 NaN   \n",
       "2  https://en.wikipedia.org/wiki/Battles_of_Saratoga  September 19, 1777   \n",
       "3     https://en.wikipedia.org/wiki/Siege_of_Augusta                 NaN   \n",
       "4  https://en.wikipedia.org/wiki/Battle_of_Videau...     January 2, 1782   \n",
       "\n",
       "            State                                            Outcome  \\\n",
       "0   Massachusetts  Patriot victory: British forces raiding Concor...   \n",
       "1        Virginia                                    Patriot victory   \n",
       "2        New York  British tactical victory: First of the two Bat...   \n",
       "3         Georgia                                    Patriot victory   \n",
       "4  South Carolina                                    British victory   \n",
       "\n",
       "   Start Date          Victory                Battle location  \n",
       "0  1775-04-19  Patriot victory  42.4496388889, -71.2308333333  \n",
       "1         NaN  Patriot victory         40.0638888889, -80.725  \n",
       "2  1777-09-19              NaN        42.9988888889, -73.6375  \n",
       "3         NaN  Patriot victory  33.4666666667, -81.9666666667  \n",
       "4  1782-01-02  British victory                            NaN  "
      ]
     },
     "execution_count": 38,
     "metadata": {},
     "output_type": "execute_result"
    }
   ],
   "source": [
    "url = 'https://data.opendatasoft.com/explore/dataset/list-of-american-revolutionary-war-battles@public-us/download/?format=csv&timezone=America/Denver&use_labels_for_header=true'\n",
    "revolution_data  = pd.read_csv(url,sep=';',error_bad_lines=False)\n",
    "revolution_data.head()"
   ]
  },
  {
   "cell_type": "markdown",
   "metadata": {},
   "source": [
    "Step3. To display battles on the map we neeed longitude and latitude - splitting \"Battle location\" column into two: \"lon\" and \"lat\".\n",
    "To use a timeline slider we neeed a year  - createing  \"Year\" column based on first 4 characters of the \"Start Date\" column.\n",
    "In adition cleaning some empty values from the dataset(based on  \"Battle location\" and \"Start Date\" columns).\n",
    "Examining dataset again."
   ]
  },
  {
   "cell_type": "code",
   "execution_count": 41,
   "metadata": {},
   "outputs": [
    {
     "data": {
      "text/html": [
       "<div>\n",
       "<style>\n",
       "    .dataframe thead tr:only-child th {\n",
       "        text-align: right;\n",
       "    }\n",
       "\n",
       "    .dataframe thead th {\n",
       "        text-align: left;\n",
       "    }\n",
       "\n",
       "    .dataframe tbody tr th {\n",
       "        vertical-align: top;\n",
       "    }\n",
       "</style>\n",
       "<table border=\"1\" class=\"dataframe\">\n",
       "  <thead>\n",
       "    <tr style=\"text-align: right;\">\n",
       "      <th></th>\n",
       "      <th>Battle</th>\n",
       "      <th>article</th>\n",
       "      <th>Date</th>\n",
       "      <th>State</th>\n",
       "      <th>Outcome</th>\n",
       "      <th>Start Date</th>\n",
       "      <th>Victory</th>\n",
       "      <th>Battle location</th>\n",
       "      <th>lat</th>\n",
       "      <th>lon</th>\n",
       "      <th>Year</th>\n",
       "    </tr>\n",
       "  </thead>\n",
       "  <tbody>\n",
       "    <tr>\n",
       "      <th>0</th>\n",
       "      <td>Battles of Lexington and Concord</td>\n",
       "      <td>https://en.wikipedia.org/wiki/Battles_of_Lexin...</td>\n",
       "      <td>April 19, 1775</td>\n",
       "      <td>Massachusetts</td>\n",
       "      <td>Patriot victory: British forces raiding Concor...</td>\n",
       "      <td>1775-04-19</td>\n",
       "      <td>Patriot victory</td>\n",
       "      <td>42.4496388889, -71.2308333333</td>\n",
       "      <td>42.4496388889</td>\n",
       "      <td>-71.2308333333</td>\n",
       "      <td>1775</td>\n",
       "    </tr>\n",
       "    <tr>\n",
       "      <th>2</th>\n",
       "      <td>Battle of Freeman's Farm</td>\n",
       "      <td>https://en.wikipedia.org/wiki/Battles_of_Saratoga</td>\n",
       "      <td>September 19, 1777</td>\n",
       "      <td>New York</td>\n",
       "      <td>British tactical victory: First of the two Bat...</td>\n",
       "      <td>1777-09-19</td>\n",
       "      <td>Unknown</td>\n",
       "      <td>42.9988888889, -73.6375</td>\n",
       "      <td>42.9988888889</td>\n",
       "      <td>-73.6375</td>\n",
       "      <td>1777</td>\n",
       "    </tr>\n",
       "    <tr>\n",
       "      <th>5</th>\n",
       "      <td>Mount Hope Bay raids</td>\n",
       "      <td>https://en.wikipedia.org/wiki/Mount_Hope_Bay_r...</td>\n",
       "      <td>May 25-30, 1778</td>\n",
       "      <td>Rhode Island</td>\n",
       "      <td>British victory</td>\n",
       "      <td>1778-05-25</td>\n",
       "      <td>British victory</td>\n",
       "      <td>41.694, -71.216</td>\n",
       "      <td>41.694</td>\n",
       "      <td>-71.216</td>\n",
       "      <td>1778</td>\n",
       "    </tr>\n",
       "    <tr>\n",
       "      <th>6</th>\n",
       "      <td>Capture of Savannah</td>\n",
       "      <td>https://en.wikipedia.org/wiki/Capture_of_Savannah</td>\n",
       "      <td>December 29, 1778</td>\n",
       "      <td>Georgia</td>\n",
       "      <td>British victory</td>\n",
       "      <td>1778-12-29</td>\n",
       "      <td>British victory</td>\n",
       "      <td>32.0508333333, -81.1038888889</td>\n",
       "      <td>32.0508333333</td>\n",
       "      <td>-81.1038888889</td>\n",
       "      <td>1778</td>\n",
       "    </tr>\n",
       "    <tr>\n",
       "      <th>7</th>\n",
       "      <td>Grand Assault on Gibraltar</td>\n",
       "      <td>https://en.wikipedia.org/wiki/Great_Siege_of_G...</td>\n",
       "      <td>September 13, 1782</td>\n",
       "      <td>Gibraltar</td>\n",
       "      <td>British victory</td>\n",
       "      <td>1782-09-13</td>\n",
       "      <td>British victory</td>\n",
       "      <td>36.1397, -5.3551</td>\n",
       "      <td>36.1397</td>\n",
       "      <td>-5.3551</td>\n",
       "      <td>1782</td>\n",
       "    </tr>\n",
       "  </tbody>\n",
       "</table>\n",
       "</div>"
      ],
      "text/plain": [
       "                             Battle  \\\n",
       "0  Battles of Lexington and Concord   \n",
       "2          Battle of Freeman's Farm   \n",
       "5              Mount Hope Bay raids   \n",
       "6               Capture of Savannah   \n",
       "7        Grand Assault on Gibraltar   \n",
       "\n",
       "                                             article                Date  \\\n",
       "0  https://en.wikipedia.org/wiki/Battles_of_Lexin...      April 19, 1775   \n",
       "2  https://en.wikipedia.org/wiki/Battles_of_Saratoga  September 19, 1777   \n",
       "5  https://en.wikipedia.org/wiki/Mount_Hope_Bay_r...     May 25-30, 1778   \n",
       "6  https://en.wikipedia.org/wiki/Capture_of_Savannah   December 29, 1778   \n",
       "7  https://en.wikipedia.org/wiki/Great_Siege_of_G...  September 13, 1782   \n",
       "\n",
       "           State                                            Outcome  \\\n",
       "0  Massachusetts  Patriot victory: British forces raiding Concor...   \n",
       "2       New York  British tactical victory: First of the two Bat...   \n",
       "5   Rhode Island                                    British victory   \n",
       "6        Georgia                                    British victory   \n",
       "7      Gibraltar                                    British victory   \n",
       "\n",
       "   Start Date          Victory                Battle location            lat  \\\n",
       "0  1775-04-19  Patriot victory  42.4496388889, -71.2308333333  42.4496388889   \n",
       "2  1777-09-19          Unknown        42.9988888889, -73.6375  42.9988888889   \n",
       "5  1778-05-25  British victory                41.694, -71.216         41.694   \n",
       "6  1778-12-29  British victory  32.0508333333, -81.1038888889  32.0508333333   \n",
       "7  1782-09-13  British victory               36.1397, -5.3551        36.1397   \n",
       "\n",
       "              lon  Year  \n",
       "0  -71.2308333333  1775  \n",
       "2        -73.6375  1777  \n",
       "5         -71.216  1778  \n",
       "6  -81.1038888889  1778  \n",
       "7         -5.3551  1782  "
      ]
     },
     "execution_count": 41,
     "metadata": {},
     "output_type": "execute_result"
    }
   ],
   "source": [
    "revolution_data = revolution_data.dropna(subset=['Battle location'])\n",
    "revolution_data = revolution_data.dropna(subset=['Start Date'])\n",
    "revolution_data['lat'] = revolution_data['Battle location'].str.split(', ', expand = True)[0]\n",
    "revolution_data['lon'] = revolution_data['Battle location'].str.split(', ', expand = True)[1]\n",
    "revolution_data['Year'] = revolution_data['Start Date'].str[:4]\n",
    "#fempty row to make legend working\n",
    "revolution_data.loc[revolution_data.shape[0]]=[' ',' ',' ',' ',' ',' ','Patriot victory',' ','0','0','1783']\n",
    "revolution_data.head()\n"
   ]
  },
  {
   "cell_type": "markdown",
   "metadata": {},
   "source": [
    "Step4.Displaying battles on the map based on the start date and victory."
   ]
  },
  {
   "cell_type": "code",
   "execution_count": 42,
   "metadata": {},
   "outputs": [
    {
     "data": {
      "text/html": [
       "<script>requirejs.config({paths: { 'plotly': ['https://cdn.plot.ly/plotly-latest.min']},});if(!window.Plotly) {{require(['plotly'],function(plotly) {window.Plotly=plotly;});}}</script>"
      ],
      "text/vnd.plotly.v1+html": [
       "<script>requirejs.config({paths: { 'plotly': ['https://cdn.plot.ly/plotly-latest.min']},});if(!window.Plotly) {{require(['plotly'],function(plotly) {window.Plotly=plotly;});}}</script>"
      ]
     },
     "metadata": {},
     "output_type": "display_data"
    },
    {
     "name": "stdout",
     "output_type": "stream",
     "text": [
      "['Patriot victory', 'Unknown', 'British victory']\n"
     ]
    },
    {
     "data": {
      "application/vnd.plotly.v1+json": {
       "data": [
        {
         "lat": [],
         "legendgroup": "group1",
         "lon": [],
         "marker": {
          "color": "rgb(171, 0, 250)",
          "size": 8
         },
         "mode": "markers",
         "name": "Patriot victory",
         "text": [],
         "type": "scattergeo"
        },
        {
         "lat": [],
         "legendgroup": "group1",
         "lon": [],
         "marker": {
          "color": "rgb(150, 99, 0)",
          "size": 8
         },
         "mode": "markers",
         "name": "Unknown",
         "text": [],
         "type": "scattergeo"
        },
        {
         "lat": [],
         "legendgroup": "group1",
         "lon": [],
         "marker": {
          "color": "rgb(99, 110, 250)",
          "size": 8
         },
         "mode": "markers",
         "name": "British victory",
         "text": [],
         "type": "scattergeo"
        }
       ],
       "frames": [
        {
         "data": [
          {
           "lat": [
            "42.4496388889",
            "43.8413888889",
            "42.6064222222",
            "36.7197222222",
            "45.3166666667",
            "34.1469444444",
            "42.3632361111",
            "42.3818805556"
           ],
           "legendgroup": "group",
           "lon": [
            "-71.2308333333",
            "-73.3880555556",
            "-70.6637194444",
            "-76.2386111111",
            "-73.2666666667",
            "-82.0244444444",
            "-71.0578527778",
            "-71.0320194444"
           ],
           "marker": {
            "color": "rgb(171, 0, 250)",
            "size": 8
           },
           "mode": "markers",
           "name": "Patriot victory",
           "text": [
            "Battles of Lexington and Concord",
            "Capture of Fort Ticonderoga",
            "Battle of Gloucester",
            "Battle of Great Bridge",
            "Siege of Fort St. Jean",
            "Siege of Savage's Old Fields",
            "Siege of Boston",
            "Battle of Chelsea Creek"
           ],
           "type": "scattergeo"
          },
          {
           "lat": [
            "44.71405",
            "43.6547222222",
            "37.2708333333"
           ],
           "legendgroup": "group",
           "lon": [
            "-67.4608611111",
            "-70.2536111111",
            "-76.7069444444"
           ],
           "marker": {
            "color": "rgb(150, 99, 0)",
            "size": 8
           },
           "mode": "markers",
           "name": "Unknown",
           "text": [
            "Battle of Machias",
            "Burning of Falmouth",
            "Gunpowder Incident"
           ],
           "type": "scattergeo"
          },
          {
           "lat": [
            "42.3763611111",
            "36.8269444444",
            "46.8151"
           ],
           "legendgroup": "group",
           "lon": [
            "-71.0607777778",
            "-76.1602777778",
            "-71.2023055556"
           ],
           "marker": {
            "color": "rgb(99, 110, 250)",
            "size": 8
           },
           "mode": "markers",
           "name": "British victory",
           "text": [
            "Battle of Bunker Hill",
            "Battle of Kemp's Landing",
            "Battle of Quebec"
           ],
           "type": "scattergeo"
          }
         ],
         "name": "1775"
        },
        {
         "data": [
          {
           "lat": [
            "38.9583333333",
            "40.218",
            "46.92",
            "32.759373",
            "34.45965",
            "34.4575",
            "40.809",
            "40.4311111111"
           ],
           "legendgroup": "group",
           "lon": [
            "-74.8416666667",
            "-74.755",
            "-70.6294",
            "-79.857748",
            "-82.118268",
            "-78.1097222222",
            "-73.956",
            "-74.8608333333"
           ],
           "marker": {
            "color": "rgb(171, 0, 250)",
            "size": 8
           },
           "mode": "markers",
           "name": "Patriot victory",
           "text": [
            "Battle of Turtle Gut Inlet",
            "Battle of Trenton",
            "Battle of Saint-Pierre",
            "Battle of Sullivan's Island",
            "Battle of Lindley's Fort",
            "Battle of Moore's Creek Bridge",
            "Battle of Harlem Heights",
            "Ambush of Geary"
           ],
           "type": "scattergeo"
          },
          {
           "lat": [
            "36.91",
            "25.06"
           ],
           "legendgroup": "group",
           "lon": [
            "-76.2069444444",
            "-77.345"
           ],
           "marker": {
            "color": "rgb(150, 99, 0)",
            "size": 8
           },
           "mode": "markers",
           "name": "Unknown",
           "text": [
            "Burning of Norfolk",
            "Battle of Nassau"
           ],
           "type": "scattergeo"
          },
          {
           "lat": [
            "44.6105111111",
            "32.0812666667",
            "45.30993",
            "40.853",
            "40.8502777778",
            "46.35",
            "41.04",
            "34.4575",
            "40.934888",
            "45.8655083333",
            "39.995",
            "40.7363305556"
           ],
           "legendgroup": "group",
           "lon": [
            "-73.4303861111",
            "-81.0857972222",
            "-74.035336",
            "-73.938",
            "-73.9630555556",
            "-72.55",
            "-73.7786111111",
            "-78.1097222222",
            "-71.018829",
            "-64.2907916667",
            "-74.7869444444",
            "-73.9746388889"
           ],
           "marker": {
            "color": "rgb(99, 110, 250)",
            "size": 8
           },
           "mode": "markers",
           "name": "British victory",
           "text": [
            "Battle of Valcour Island",
            "Battle of the Rice Boats",
            "Battle of The Cedars",
            "Battle of Fort Washington",
            "Battle of Fort Lee",
            "Battle of Trois-RiviÃ¨res",
            "Battle of White Plains",
            "Battle of Long Island",
            "Battle of Block Island",
            "Battle of Fort Cumberland",
            "Battle of Iron Works Hill",
            "Landing at Kip's Bay"
           ],
           "type": "scattergeo"
          }
         ],
         "name": "1776"
        },
        {
         "data": [
          {
           "lat": [
            "40.126",
            "40.5388888889",
            "40.2216666667",
            "40.523",
            "43.2105555556",
            "39.871371",
            "39.87206",
            "40.3277777778",
            "40.9966666667",
            "42.9386111111",
            "42.9988888889"
           ],
           "legendgroup": "group",
           "lon": [
            "-75.212",
            "-74.5933333333",
            "-74.7561111111",
            "-74.357",
            "-75.45525",
            "-75.18941",
            "-75.18871",
            "-74.6733333333",
            "-72.2922222222",
            "-73.3044444444",
            "-73.6375"
           ],
           "marker": {
            "color": "rgb(171, 0, 250)",
            "size": 8
           },
           "mode": "markers",
           "name": "Patriot victory",
           "text": [
            "Battle of White Marsh",
            "Battle of Millstone",
            "Second Battle of Trenton",
            "Battle of Punk Hill",
            "Siege of Fort Stanwix",
            "Battle of Red Bank",
            "Battle of Gloucester",
            "Battle of Princeton",
            "Meigs Raid",
            "Battle of Bennington",
            "Battle of Bemis Heights"
           ],
           "type": "scattergeo"
          },
          {
           "lat": [
            "42.9988888889",
            "40.045341"
           ],
           "legendgroup": "group",
           "lon": [
            "-73.6375",
            "-75.573084"
           ],
           "marker": {
            "color": "rgb(150, 99, 0)",
            "size": 8
           },
           "mode": "markers",
           "name": "Unknown",
           "text": [
            "Battle of Freeman's Farm",
            "Battle of the Clouds"
           ],
           "type": "scattergeo"
          },
          {
           "lat": [
            "41.3052777778",
            "44.71405",
            "40.5762805556",
            "43.1766666667",
            "43.8413888889",
            "40.07128",
            "43.7",
            "41.3228638889",
            "39.8719444444",
            "40.0238",
            "30.50565",
            "40.5589",
            "43.4261194444",
            "39.639722",
            "40.0297222222",
            "40.75",
            "40.9458333333"
           ],
           "legendgroup": "group",
           "lon": [
            "-73.5013888889",
            "-67.4608611111",
            "-74.1448388889",
            "-75.37",
            "-73.3880555556",
            "-75.309935",
            "-73.1333333333",
            "-73.9897222222",
            "-75.59",
            "-75.1597",
            "-81.79164",
            "-74.5278",
            "-73.4805111111",
            "-75.726667",
            "-75.5183333333",
            "-74.332",
            "-73.1113888889"
           ],
           "marker": {
            "color": "rgb(99, 110, 250)",
            "size": 8
           },
           "mode": "markers",
           "name": "British victory",
           "text": [
            "Battle of Ridgefield",
            "Second Battle of Machias",
            "Battle of Staten Island",
            "Battle of Oriskany",
            "Siege of Fort Ticonderoga",
            "Battle of Matson's Ford",
            "Battle of Hubbardton",
            "Battle of Forts Clinton and Montgomery",
            "Battle of Brandywine",
            "Battle of Germantown",
            "Battle of Thomas Creek",
            "Battle of Bound Brook",
            "Battle of Fort Ann",
            "Battle of Cooch's Bridge",
            "Battle of Paoli",
            "Battle of Short Hills",
            "Battle of Setauket"
           ],
           "type": "scattergeo"
          }
         ],
         "name": "1777"
        },
        {
         "data": [
          {
           "lat": [
            "37.9083333333",
            "54.7241666667"
           ],
           "legendgroup": "group",
           "lon": [
            "-84.2719444444",
            "-5.45"
           ],
           "marker": {
            "color": "rgb(171, 0, 250)",
            "size": 8
           },
           "mode": "markers",
           "name": "Patriot victory",
           "text": [
            "Siege of Boonesborough",
            "North Channel Naval Duel"
           ],
           "type": "scattergeo"
          },
          {
           "lat": [
            "40.2588888889",
            "42.6791666667",
            "41.25",
            "15.4166666667",
            "42.8088888889",
            "40.08416"
           ],
           "legendgroup": "group",
           "lon": [
            "-74.2752777778",
            "-74.4855555556",
            "-75.905",
            "-61.3333333333",
            "-74.7372222222",
            "-75.25076"
           ],
           "marker": {
            "color": "rgb(150, 99, 0)",
            "size": 8
           },
           "mode": "markers",
           "name": "Unknown",
           "text": [
            "Battle of Monmouth",
            "Battle of Cobleskill",
            "Wyoming Massacre",
            "Invasion of Dominica",
            "Cherry Valley Massacre",
            "Battle of Barren Hill"
           ],
           "type": "scattergeo"
          },
          {
           "lat": [
            "41.694",
            "32.0508333333",
            "40.171",
            "39.5446",
            "41.596",
            "39.548485",
            "41.012896",
            "48.56025",
            "13.8833333333",
            "39.549"
           ],
           "legendgroup": "group",
           "lon": [
            "-71.216",
            "-81.1038888889",
            "-75.109",
            "-74.4614",
            "-71.263",
            "-75.414366",
            "-74.008144",
            "-7.38281388889",
            "-60.9666666667",
            "-74.375"
           ],
           "marker": {
            "color": "rgb(99, 110, 250)",
            "size": 8
           },
           "mode": "markers",
           "name": "British victory",
           "text": [
            "Mount Hope Bay raids",
            "Capture of Savannah",
            "Battle of Crooked Billet",
            "Battle of Chestnut Neck",
            "Battle of Newport",
            "Battle of Quinton's Bridge",
            "Baylor Massacre",
            "First Battle of Ushant",
            "Capture of St. Lucia",
            "Little Egg Harbor massacre"
           ],
           "type": "scattergeo"
          }
         ],
         "name": "1778"
        },
        {
         "data": [
          {
           "lat": [
            "33.690796",
            "42.045278",
            "40.70757",
            "41.241",
            "38.6783333333",
            "54.1625",
            "32.5002777778",
            "30.1888888889"
           ],
           "legendgroup": "group",
           "lon": [
            "-82.884563",
            "-76.733333",
            "-74.03961",
            "-73.974",
            "-87.5161111111",
            "-0.119444444444",
            "-80.7436111111",
            "-90.1013888889"
           ],
           "marker": {
            "color": "rgb(171, 0, 250)",
            "size": 8
           },
           "mode": "markers",
           "name": "Patriot victory",
           "text": [
            "Battle of Kettle Creek",
            "Battle of Newtown",
            "Battle of Paulus Hook",
            "Battle of Stony Point",
            "Siege of Fort Vincennes",
            "Battle of Flamborough Head",
            "Battle of Beaufort",
            "Battle of Lake Pontchartrain"
           ],
           "type": "scattergeo"
          },
          {
           "lat": [
            "30.3236111111",
            "30.45",
            "13.25",
            "41.4888888889",
            "12.05",
            "12.05",
            "42.717064"
           ],
           "legendgroup": "group",
           "lon": [
            "-91.1369444444",
            "-91.1333",
            "-61.2",
            "-74.9708333333",
            "-61.75",
            "-61.75",
            "-77.727602"
           ],
           "marker": {
            "color": "rgb(150, 99, 0)",
            "size": 8
           },
           "mode": "markers",
           "name": "Unknown",
           "text": [
            "Capture of Fort Bute",
            "Battle of Baton Rouge",
            "Capture of Saint Vincent",
            "Battle of Minisink",
            "Capture of Grenada",
            "Battle of Grenada",
            "Boyd and Parker ambush"
           ],
           "type": "scattergeo"
          },
          {
           "lat": [
            "32.811631",
            "38.05",
            "32.7570361111",
            "14.5833333333"
           ],
           "legendgroup": "group",
           "lon": [
            "-81.482829",
            "-76.1833333333",
            "-80.1339333333",
            "-61.15"
           ],
           "marker": {
            "color": "rgb(99, 110, 250)",
            "size": 8
           },
           "mode": "markers",
           "name": "British victory",
           "text": [
            "Battle of Brier Creek",
            "Chesapeake raid",
            "Battle of Stono Ferry",
            "First Battle of Martinique"
           ],
           "type": "scattergeo"
          }
         ],
         "name": "1779"
        },
        {
         "data": [
          {
           "lat": [
            "34.8652277778",
            "34.5950638889",
            "34.5935444444",
            "34.6793",
            "40.70912",
            "42.9994444444",
            "35.11935",
            "34.5656666667",
            "35.4784",
            "33.6166666667",
            "40.9644444444",
            "34.4533333333",
            "35.1543722222",
            "34.86084"
           ],
           "legendgroup": "group",
           "lon": [
            "-81.1756194444",
            "-81.4196361111",
            "-81.8524777778",
            "-81.8124",
            "-74.2997",
            "-74.7083333333",
            "-81.39359",
            "-80.6617916667",
            "-81.2591",
            "-79.4333333333",
            "-73.0438888889",
            "-81.2725",
            "-80.084925",
            "-80.76265"
           ],
           "marker": {
            "color": "rgb(171, 0, 250)",
            "size": 8
           },
           "mode": "markers",
           "name": "Patriot victory",
           "text": [
            "Huck's Defeat",
            "Battle of Fishdam Ford",
            "Battle of Musgrove Mill",
            "Battle of Blackstock's Farm",
            "Battle of Springfield",
            "Battle of Klock's Field",
            "Battle of Kings Mountain",
            "Battle of Hanging Rock",
            "Battle of Ramsour's Mill",
            "Battle of Black Mingo",
            "Battle of Fort St. George",
            "Battle of Mobley's Meeting House",
            "Battle of Colson's Mill",
            "Battle of Wahab's Plantation"
           ],
           "type": "scattergeo"
          },
          {
           "lat": [
            "38.6242777778",
            "34.5398638889",
            "35.8336111111",
            "40.789",
            "30.6861194444"
           ],
           "legendgroup": "group",
           "lon": [
            "-90.1892222222",
            "-80.8759416667",
            "-13.2333333333",
            "-74.0",
            "-88.0415055556"
           ],
           "marker": {
            "color": "rgb(150, 99, 0)",
            "size": 8
           },
           "mode": "markers",
           "name": "Unknown",
           "text": [
            "Battle of St. Louis",
            "Battle of Rocky Mount",
            "Action of 9 August 1780",
            "Battle of Bull's Ferry",
            "Battle of Fort Charlotte"
           ],
           "type": "scattergeo"
          },
          {
           "lat": [
            "40.6951",
            "33.1966666667",
            "34.7419527778",
            "34.3645527778",
            "34.635",
            "43.0",
            "33.3047083333",
            "35.2269444444",
            "36.8180555556",
            "41.1216666667"
           ],
           "legendgroup": "group",
           "lon": [
            "-74.2734",
            "-80.0066666667",
            "-80.6257916667",
            "-80.6139",
            "-80.9058333333",
            "-20.25",
            "-79.6750833333",
            "-80.8433333333",
            "-8.56361111111",
            "-73.7769444444"
           ],
           "marker": {
            "color": "rgb(99, 110, 250)",
            "size": 8
           },
           "mode": "markers",
           "name": "British victory",
           "text": [
            "Battle of Connecticut Farms",
            "Battle of Monck's Corner",
            "Battle of Waxhaws",
            "Battle of Camden",
            "Battle of Fishing Creek",
            "Action of 8 January 1780",
            "Battle of Lenud's Ferry",
            "Battle of Charlotte",
            "Battle of Cape St. Vincent",
            "Battle of Young's House"
           ],
           "type": "scattergeo"
          }
         ],
         "name": "1780"
        },
        {
         "data": [
          {
           "lat": [
            "33.53896",
            "36.04",
            "40.9125",
            "43.0072222222",
            "35.889711",
            "35.1368333333"
           ],
           "legendgroup": "group",
           "lon": [
            "-80.43783",
            "-79.4",
            "-73.3008333333",
            "-74.3722222222",
            "-79.347188",
            "-81.816"
           ],
           "marker": {
            "color": "rgb(171, 0, 250)",
            "size": 8
           },
           "mode": "markers",
           "name": "Patriot victory",
           "text": [
            "Siege of Fort Watson",
            "Battle of Haw River",
            "Battle of Fort Slongo",
            "Battle of Johnstown",
            "Battle of Lindley's Mill",
            "Battle of Cowpens"
           ],
           "type": "scattergeo"
          },
          {
           "lat": [
            "30.66405",
            "14.6",
            "38.1823388889",
            "14.9072972222",
            "36.9675",
            "39.0586111111"
           ],
           "legendgroup": "group",
           "lon": [
            "-88.002075",
            "-61.25",
            "-85.4870222222",
            "-23.5049055556",
            "-75.5391666667",
            "-84.9063888889"
           ],
           "marker": {
            "color": "rgb(150, 99, 0)",
            "size": 8
           },
           "mode": "markers",
           "name": "Unknown",
           "text": [
            "Battle of Mobile",
            "Battle of Fort Royal",
            "Long Run Massacre",
            "Battle of Porto Praya",
            "Battle of the Chesapeake",
            "Lochry's Defeat"
           ],
           "type": "scattergeo"
          },
          {
           "lat": [
            "41.3566666667",
            "36.132",
            "34.2744444444",
            "54.724",
            "17.4833333333",
            "36.08",
            "35.4283",
            "37.23438",
            "33.40728",
            "37.319479",
            "37.15",
            "49.18238"
           ],
           "legendgroup": "group",
           "lon": [
            "-72.0819444444",
            "-79.844",
            "-80.6072222222",
            "2.769",
            "-62.9833333333",
            "-79.79",
            "-80.9519",
            "-77.3939",
            "-80.29875",
            "-76.798139",
            "-75.152",
            "-2.10749"
           ],
           "marker": {
            "color": "rgb(99, 110, 250)",
            "size": 8
           },
           "mode": "markers",
           "name": "British victory",
           "text": [
            "Battle of Groton Heights",
            "Battle of Guilford Court House",
            "Battle of Hobkirk's Hill",
            "Battle of Dogger Bank",
            "Capture of Sint Eustatius",
            "Battle of Wetzell's Mill",
            "Battle of Cowan's Ford",
            "Battle of Blandford",
            "Battle of Eutaw Springs",
            "Battle of Spencer's Ordinary",
            "Battle of Cape Henry",
            "Battle of Jersey"
           ],
           "type": "scattergeo"
          }
         ],
         "name": "1781"
        },
        {
         "data": [
          {
           "lat": [
            "35.9257",
            "58.7971583333",
            "38.0758666667",
            "39.0831694444",
            "40.0638888889",
            "44.3833333333"
           ],
           "legendgroup": "group",
           "lon": [
            "-5.9109",
            "-94.2134277778",
            "-84.4152916667",
            "-74.9665805556",
            "-80.725",
            "-64.3166666667"
           ],
           "marker": {
            "color": "rgb(171, 0, 250)",
            "size": 8
           },
           "mode": "markers",
           "name": "Patriot victory",
           "text": [
            "Battle of Cape Spartel",
            "Hudson Bay Expedition",
            "Siege of Bryan Station",
            "Battle of Delaware Bay",
            "Siege of Fort Henry",
            "Raid on Lunenburg"
           ],
           "type": "scattergeo"
          },
          {
           "lat": [
            "40.3541666667",
            "16.75",
            "25.0599555556",
            "16.3834305556",
            "8.25498333333",
            "12.5233972222",
            "38.4284078333"
           ],
           "legendgroup": "group",
           "lon": [
            "-81.435",
            "-62.2",
            "-77.3450166667",
            "-86.4178333333",
            "81.5130611111",
            "80.17685",
            "-83.9946472222"
           ],
           "marker": {
            "color": "rgb(150, 99, 0)",
            "size": 8
           },
           "mode": "markers",
           "name": "Unknown",
           "text": [
            "Gnadenhutten massacre",
            "Capture of Montserrat",
            "Capture of the Bahamas",
            "Battle of RoatÃ¡n",
            "Battle of Providien",
            "Battle of Sadras",
            "Battle of Blue Licks"
           ],
           "type": "scattergeo"
          },
          {
           "lat": [
            "36.1397",
            "19.1833333333",
            "18.5",
            "8.54910833333",
            "10.778",
            "17.15",
            "44.3",
            "32.5825",
            "33.2",
            "35.8666666667"
           ],
           "legendgroup": "group",
           "lon": [
            "-5.3551",
            "-69.3166666667",
            "-68.0",
            "81.2377166667",
            "79.8661416667",
            "-62.5833333333",
            "-63.4",
            "-80.5733333333",
            "-79.95",
            "-5.96666666667"
           ],
           "marker": {
            "color": "rgb(99, 110, 250)",
            "size": 8
           },
           "mode": "markers",
           "name": "British victory",
           "text": [
            "Grand Assault on Gibraltar",
            "Action of 18 October 1782",
            "Battle of the Mona Passage",
            "Capture of Trincomalee",
            "Battle of Negapatam",
            "Battle of Saint Kitts",
            "Naval battle off Halifax",
            "Battle of the Combahee River",
            "Battle of Wambaw",
            "Action of 16 March 1782"
           ],
           "type": "scattergeo"
          }
         ],
         "name": "1782"
        },
        {
         "data": [
          {
           "lat": [
            "0"
           ],
           "legendgroup": "group",
           "lon": [
            "0"
           ],
           "marker": {
            "color": "rgb(171, 0, 250)",
            "size": 8
           },
           "mode": "markers",
           "name": "Patriot victory",
           "text": [
            " "
           ],
           "type": "scattergeo"
          },
          {
           "lat": [
            "21.6666666667",
            "34.021",
            "11.75"
           ],
           "legendgroup": "group",
           "lon": [
            "-72.4583333333",
            "-91.349",
            "79.75"
           ],
           "marker": {
            "color": "rgb(150, 99, 0)",
            "size": 8
           },
           "mode": "markers",
           "name": "Unknown",
           "text": [
            "Capture of the Turks and Caicos Islands",
            "Battle of Arkansas Post",
            "Battle of Cuddalore"
           ],
           "type": "scattergeo"
          },
          {
           "lat": [
            "37.0902388889",
            "25.0666666667"
           ],
           "legendgroup": "group",
           "lon": [
            "-76.1572277778",
            "-77.3333333333"
           ],
           "marker": {
            "color": "rgb(99, 110, 250)",
            "size": 8
           },
           "mode": "markers",
           "name": "British victory",
           "text": [
            "Action of 22 January 1783",
            "Capture of the Bahamas"
           ],
           "type": "scattergeo"
          }
         ],
         "name": "1783"
        }
       ],
       "layout": {
        "geo": {
         "countrycolor": "rgb(255, 255, 255)",
         "lakecolor": "rgb(255, 255, 255)",
         "landcolor": "rgb(212, 212, 212)",
         "lataxis": {
          "dtick": 5,
          "gridwidth": 0.5,
          "range": [
           20,
           60
          ],
          "showgrid": true
         },
         "lonaxis": {
          "dtick": 5,
          "gridwidth": 0.5,
          "range": [
           -140,
           -55
          ],
          "showgrid": true
         },
         "projection": {
          "rotation": {
           "lon": -100
          },
          "type": "conic conformal"
         },
         "resolution": 50,
         "scope": "north america",
         "showcountries": true,
         "showlakes": true,
         "showland": true,
         "showsubunits": true,
         "subunitcolor": "rgb(255, 255, 255)"
        },
        "sliders": [
         {
          "active": 0,
          "currentvalue": {
           "font": {
            "size": 20
           },
           "prefix": "Year:",
           "visible": true,
           "xanchor": "right"
          },
          "len": 0.9,
          "pad": {
           "b": 10,
           "t": 50
          },
          "steps": [
           {
            "args": [
             [
              "1775"
             ],
             {
              "frame": {
               "duration": 300,
               "redraw": false
              },
              "mode": "immediate",
              "transition": {
               "duration": 300
              }
             }
            ],
            "label": "1775",
            "method": "animate"
           },
           {
            "args": [
             [
              "1776"
             ],
             {
              "frame": {
               "duration": 300,
               "redraw": false
              },
              "mode": "immediate",
              "transition": {
               "duration": 300
              }
             }
            ],
            "label": "1776",
            "method": "animate"
           },
           {
            "args": [
             [
              "1777"
             ],
             {
              "frame": {
               "duration": 300,
               "redraw": false
              },
              "mode": "immediate",
              "transition": {
               "duration": 300
              }
             }
            ],
            "label": "1777",
            "method": "animate"
           },
           {
            "args": [
             [
              "1778"
             ],
             {
              "frame": {
               "duration": 300,
               "redraw": false
              },
              "mode": "immediate",
              "transition": {
               "duration": 300
              }
             }
            ],
            "label": "1778",
            "method": "animate"
           },
           {
            "args": [
             [
              "1779"
             ],
             {
              "frame": {
               "duration": 300,
               "redraw": false
              },
              "mode": "immediate",
              "transition": {
               "duration": 300
              }
             }
            ],
            "label": "1779",
            "method": "animate"
           },
           {
            "args": [
             [
              "1780"
             ],
             {
              "frame": {
               "duration": 300,
               "redraw": false
              },
              "mode": "immediate",
              "transition": {
               "duration": 300
              }
             }
            ],
            "label": "1780",
            "method": "animate"
           },
           {
            "args": [
             [
              "1781"
             ],
             {
              "frame": {
               "duration": 300,
               "redraw": false
              },
              "mode": "immediate",
              "transition": {
               "duration": 300
              }
             }
            ],
            "label": "1781",
            "method": "animate"
           },
           {
            "args": [
             [
              "1782"
             ],
             {
              "frame": {
               "duration": 300,
               "redraw": false
              },
              "mode": "immediate",
              "transition": {
               "duration": 300
              }
             }
            ],
            "label": "1782",
            "method": "animate"
           },
           {
            "args": [
             [
              "1783"
             ],
             {
              "frame": {
               "duration": 300,
               "redraw": false
              },
              "mode": "immediate",
              "transition": {
               "duration": 300
              }
             }
            ],
            "label": "1783",
            "method": "animate"
           }
          ],
          "transition": {
           "duration": 300,
           "easing": "cubic-in-out"
          },
          "x": 0.1,
          "xanchor": "left",
          "y": 0,
          "yanchor": "top"
         }
        ],
        "title": " American Revolution (1775-83) battles",
        "updatemenus": [
         {
          "buttons": [
           {
            "args": [
             null,
             {
              "frame": {
               "duration": 500,
               "redraw": false
              },
              "fromcurrent": true,
              "transition": {
               "duration": 300,
               "easing": "quadratic-in-out"
              }
             }
            ],
            "label": "Play",
            "method": "animate"
           },
           {
            "args": [
             [
              null
             ],
             {
              "frame": {
               "duration": 0,
               "redraw": false
              },
              "mode": "immediate",
              "transition": {
               "duration": 0
              }
             }
            ],
            "label": "Pause",
            "method": "animate"
           }
          ],
          "direction": "left",
          "pad": {
           "r": 10,
           "t": 87
          },
          "showactive": false,
          "type": "buttons",
          "x": 0.1,
          "xanchor": "right",
          "y": 0,
          "yanchor": "top"
         }
        ]
       }
      },
      "text/html": [
       "<div id=\"dcba4b38-5842-4a89-891e-0448b346b1a8\" style=\"height: 525px; width: 100%;\" class=\"plotly-graph-div\"></div><script type=\"text/javascript\">require([\"plotly\"], function(Plotly) { window.PLOTLYENV=window.PLOTLYENV || {};window.PLOTLYENV.BASE_URL=\"https://plot.ly\";\n",
       "        Plotly.plot(\n",
       "            'dcba4b38-5842-4a89-891e-0448b346b1a8',\n",
       "            [{\"type\": \"scattergeo\", \"lon\": [], \"lat\": [], \"mode\": \"markers\", \"text\": [], \"marker\": {\"size\": 8, \"color\": \"rgb(171, 0, 250)\"}, \"name\": \"Patriot victory\", \"legendgroup\": \"group1\"}, {\"type\": \"scattergeo\", \"lon\": [], \"lat\": [], \"mode\": \"markers\", \"text\": [], \"marker\": {\"size\": 8, \"color\": \"rgb(150, 99, 0)\"}, \"name\": \"Unknown\", \"legendgroup\": \"group1\"}, {\"type\": \"scattergeo\", \"lon\": [], \"lat\": [], \"mode\": \"markers\", \"text\": [], \"marker\": {\"size\": 8, \"color\": \"rgb(99, 110, 250)\"}, \"name\": \"British victory\", \"legendgroup\": \"group1\"}],\n",
       "            {\"sliders\": [{\"active\": 0, \"yanchor\": \"top\", \"xanchor\": \"left\", \"currentvalue\": {\"font\": {\"size\": 20}, \"prefix\": \"Year:\", \"visible\": true, \"xanchor\": \"right\"}, \"transition\": {\"duration\": 300, \"easing\": \"cubic-in-out\"}, \"pad\": {\"b\": 10, \"t\": 50}, \"len\": 0.9, \"x\": 0.1, \"y\": 0, \"steps\": [{\"args\": [[\"1775\"], {\"frame\": {\"duration\": 300, \"redraw\": false}, \"mode\": \"immediate\", \"transition\": {\"duration\": 300}}], \"label\": \"1775\", \"method\": \"animate\"}, {\"args\": [[\"1776\"], {\"frame\": {\"duration\": 300, \"redraw\": false}, \"mode\": \"immediate\", \"transition\": {\"duration\": 300}}], \"label\": \"1776\", \"method\": \"animate\"}, {\"args\": [[\"1777\"], {\"frame\": {\"duration\": 300, \"redraw\": false}, \"mode\": \"immediate\", \"transition\": {\"duration\": 300}}], \"label\": \"1777\", \"method\": \"animate\"}, {\"args\": [[\"1778\"], {\"frame\": {\"duration\": 300, \"redraw\": false}, \"mode\": \"immediate\", \"transition\": {\"duration\": 300}}], \"label\": \"1778\", \"method\": \"animate\"}, {\"args\": [[\"1779\"], {\"frame\": {\"duration\": 300, \"redraw\": false}, \"mode\": \"immediate\", \"transition\": {\"duration\": 300}}], \"label\": \"1779\", \"method\": \"animate\"}, {\"args\": [[\"1780\"], {\"frame\": {\"duration\": 300, \"redraw\": false}, \"mode\": \"immediate\", \"transition\": {\"duration\": 300}}], \"label\": \"1780\", \"method\": \"animate\"}, {\"args\": [[\"1781\"], {\"frame\": {\"duration\": 300, \"redraw\": false}, \"mode\": \"immediate\", \"transition\": {\"duration\": 300}}], \"label\": \"1781\", \"method\": \"animate\"}, {\"args\": [[\"1782\"], {\"frame\": {\"duration\": 300, \"redraw\": false}, \"mode\": \"immediate\", \"transition\": {\"duration\": 300}}], \"label\": \"1782\", \"method\": \"animate\"}, {\"args\": [[\"1783\"], {\"frame\": {\"duration\": 300, \"redraw\": false}, \"mode\": \"immediate\", \"transition\": {\"duration\": 300}}], \"label\": \"1783\", \"method\": \"animate\"}]}], \"updatemenus\": [{\"buttons\": [{\"args\": [null, {\"frame\": {\"duration\": 500, \"redraw\": false}, \"fromcurrent\": true, \"transition\": {\"duration\": 300, \"easing\": \"quadratic-in-out\"}}], \"label\": \"Play\", \"method\": \"animate\"}, {\"args\": [[null], {\"frame\": {\"duration\": 0, \"redraw\": false}, \"mode\": \"immediate\", \"transition\": {\"duration\": 0}}], \"label\": \"Pause\", \"method\": \"animate\"}], \"direction\": \"left\", \"pad\": {\"r\": 10, \"t\": 87}, \"showactive\": false, \"type\": \"buttons\", \"x\": 0.1, \"xanchor\": \"right\", \"y\": 0, \"yanchor\": \"top\"}], \"title\": \" American Revolution (1775-83) battles\", \"geo\": {\"scope\": \"north america\", \"showland\": true, \"landcolor\": \"rgb(212, 212, 212)\", \"subunitcolor\": \"rgb(255, 255, 255)\", \"countrycolor\": \"rgb(255, 255, 255)\", \"showlakes\": true, \"lakecolor\": \"rgb(255, 255, 255)\", \"showsubunits\": true, \"showcountries\": true, \"resolution\": 50, \"projection\": {\"type\": \"conic conformal\", \"rotation\": {\"lon\": -100}}, \"lonaxis\": {\"showgrid\": true, \"gridwidth\": 0.5, \"range\": [-140.0, -55.0], \"dtick\": 5}, \"lataxis\": {\"showgrid\": true, \"gridwidth\": 0.5, \"range\": [20.0, 60.0], \"dtick\": 5}}},\n",
       "            {\"showLink\": true, \"linkText\": \"Export to plot.ly\"}\n",
       "        ).then(function () {return Plotly.addFrames('dcba4b38-5842-4a89-891e-0448b346b1a8',[{\"data\": [{\"type\": \"scattergeo\", \"lon\": [\"-71.2308333333\", \"-73.3880555556\", \"-70.6637194444\", \"-76.2386111111\", \"-73.2666666667\", \"-82.0244444444\", \"-71.0578527778\", \"-71.0320194444\"], \"lat\": [\"42.4496388889\", \"43.8413888889\", \"42.6064222222\", \"36.7197222222\", \"45.3166666667\", \"34.1469444444\", \"42.3632361111\", \"42.3818805556\"], \"mode\": \"markers\", \"text\": [\"Battles of Lexington and Concord\", \"Capture of Fort Ticonderoga\", \"Battle of Gloucester\", \"Battle of Great Bridge\", \"Siege of Fort St. Jean\", \"Siege of Savage's Old Fields\", \"Siege of Boston\", \"Battle of Chelsea Creek\"], \"marker\": {\"size\": 8, \"color\": \"rgb(171, 0, 250)\"}, \"name\": \"Patriot victory\", \"legendgroup\": \"group\"}, {\"type\": \"scattergeo\", \"lon\": [\"-67.4608611111\", \"-70.2536111111\", \"-76.7069444444\"], \"lat\": [\"44.71405\", \"43.6547222222\", \"37.2708333333\"], \"mode\": \"markers\", \"text\": [\"Battle of Machias\", \"Burning of Falmouth\", \"Gunpowder Incident\"], \"marker\": {\"size\": 8, \"color\": \"rgb(150, 99, 0)\"}, \"name\": \"Unknown\", \"legendgroup\": \"group\"}, {\"type\": \"scattergeo\", \"lon\": [\"-71.0607777778\", \"-76.1602777778\", \"-71.2023055556\"], \"lat\": [\"42.3763611111\", \"36.8269444444\", \"46.8151\"], \"mode\": \"markers\", \"text\": [\"Battle of Bunker Hill\", \"Battle of Kemp's Landing\", \"Battle of Quebec\"], \"marker\": {\"size\": 8, \"color\": \"rgb(99, 110, 250)\"}, \"name\": \"British victory\", \"legendgroup\": \"group\"}], \"name\": \"1775\"}, {\"data\": [{\"type\": \"scattergeo\", \"lon\": [\"-74.8416666667\", \"-74.755\", \"-70.6294\", \"-79.857748\", \"-82.118268\", \"-78.1097222222\", \"-73.956\", \"-74.8608333333\"], \"lat\": [\"38.9583333333\", \"40.218\", \"46.92\", \"32.759373\", \"34.45965\", \"34.4575\", \"40.809\", \"40.4311111111\"], \"mode\": \"markers\", \"text\": [\"Battle of Turtle Gut Inlet\", \"Battle of Trenton\", \"Battle of Saint-Pierre\", \"Battle of Sullivan's Island\", \"Battle of Lindley's Fort\", \"Battle of Moore's Creek Bridge\", \"Battle of Harlem Heights\", \"Ambush of Geary\"], \"marker\": {\"size\": 8, \"color\": \"rgb(171, 0, 250)\"}, \"name\": \"Patriot victory\", \"legendgroup\": \"group\"}, {\"type\": \"scattergeo\", \"lon\": [\"-76.2069444444\", \"-77.345\"], \"lat\": [\"36.91\", \"25.06\"], \"mode\": \"markers\", \"text\": [\"Burning of Norfolk\", \"Battle of Nassau\"], \"marker\": {\"size\": 8, \"color\": \"rgb(150, 99, 0)\"}, \"name\": \"Unknown\", \"legendgroup\": \"group\"}, {\"type\": \"scattergeo\", \"lon\": [\"-73.4303861111\", \"-81.0857972222\", \"-74.035336\", \"-73.938\", \"-73.9630555556\", \"-72.55\", \"-73.7786111111\", \"-78.1097222222\", \"-71.018829\", \"-64.2907916667\", \"-74.7869444444\", \"-73.9746388889\"], \"lat\": [\"44.6105111111\", \"32.0812666667\", \"45.30993\", \"40.853\", \"40.8502777778\", \"46.35\", \"41.04\", \"34.4575\", \"40.934888\", \"45.8655083333\", \"39.995\", \"40.7363305556\"], \"mode\": \"markers\", \"text\": [\"Battle of Valcour Island\", \"Battle of the Rice Boats\", \"Battle of The Cedars\", \"Battle of Fort Washington\", \"Battle of Fort Lee\", \"Battle of Trois-Rivi\\u00c3\\u00a8res\", \"Battle of White Plains\", \"Battle of Long Island\", \"Battle of Block Island\", \"Battle of Fort Cumberland\", \"Battle of Iron Works Hill\", \"Landing at Kip's Bay\"], \"marker\": {\"size\": 8, \"color\": \"rgb(99, 110, 250)\"}, \"name\": \"British victory\", \"legendgroup\": \"group\"}], \"name\": \"1776\"}, {\"data\": [{\"type\": \"scattergeo\", \"lon\": [\"-75.212\", \"-74.5933333333\", \"-74.7561111111\", \"-74.357\", \"-75.45525\", \"-75.18941\", \"-75.18871\", \"-74.6733333333\", \"-72.2922222222\", \"-73.3044444444\", \"-73.6375\"], \"lat\": [\"40.126\", \"40.5388888889\", \"40.2216666667\", \"40.523\", \"43.2105555556\", \"39.871371\", \"39.87206\", \"40.3277777778\", \"40.9966666667\", \"42.9386111111\", \"42.9988888889\"], \"mode\": \"markers\", \"text\": [\"Battle of White Marsh\", \"Battle of Millstone\", \"Second Battle of Trenton\", \"Battle of Punk Hill\", \"Siege of Fort Stanwix\", \"Battle of Red Bank\", \"Battle of Gloucester\", \"Battle of Princeton\", \"Meigs Raid\", \"Battle of Bennington\", \"Battle of Bemis Heights\"], \"marker\": {\"size\": 8, \"color\": \"rgb(171, 0, 250)\"}, \"name\": \"Patriot victory\", \"legendgroup\": \"group\"}, {\"type\": \"scattergeo\", \"lon\": [\"-73.6375\", \"-75.573084\"], \"lat\": [\"42.9988888889\", \"40.045341\"], \"mode\": \"markers\", \"text\": [\"Battle of Freeman's Farm\", \"Battle of the Clouds\"], \"marker\": {\"size\": 8, \"color\": \"rgb(150, 99, 0)\"}, \"name\": \"Unknown\", \"legendgroup\": \"group\"}, {\"type\": \"scattergeo\", \"lon\": [\"-73.5013888889\", \"-67.4608611111\", \"-74.1448388889\", \"-75.37\", \"-73.3880555556\", \"-75.309935\", \"-73.1333333333\", \"-73.9897222222\", \"-75.59\", \"-75.1597\", \"-81.79164\", \"-74.5278\", \"-73.4805111111\", \"-75.726667\", \"-75.5183333333\", \"-74.332\", \"-73.1113888889\"], \"lat\": [\"41.3052777778\", \"44.71405\", \"40.5762805556\", \"43.1766666667\", \"43.8413888889\", \"40.07128\", \"43.7\", \"41.3228638889\", \"39.8719444444\", \"40.0238\", \"30.50565\", \"40.5589\", \"43.4261194444\", \"39.639722\", \"40.0297222222\", \"40.75\", \"40.9458333333\"], \"mode\": \"markers\", \"text\": [\"Battle of Ridgefield\", \"Second Battle of Machias\", \"Battle of Staten Island\", \"Battle of Oriskany\", \"Siege of Fort Ticonderoga\", \"Battle of Matson's Ford\", \"Battle of Hubbardton\", \"Battle of Forts Clinton and Montgomery\", \"Battle of Brandywine\", \"Battle of Germantown\", \"Battle of Thomas Creek\", \"Battle of Bound Brook\", \"Battle of Fort Ann\", \"Battle of Cooch's Bridge\", \"Battle of Paoli\", \"Battle of Short Hills\", \"Battle of Setauket\"], \"marker\": {\"size\": 8, \"color\": \"rgb(99, 110, 250)\"}, \"name\": \"British victory\", \"legendgroup\": \"group\"}], \"name\": \"1777\"}, {\"data\": [{\"type\": \"scattergeo\", \"lon\": [\"-84.2719444444\", \"-5.45\"], \"lat\": [\"37.9083333333\", \"54.7241666667\"], \"mode\": \"markers\", \"text\": [\"Siege of Boonesborough\", \"North Channel Naval Duel\"], \"marker\": {\"size\": 8, \"color\": \"rgb(171, 0, 250)\"}, \"name\": \"Patriot victory\", \"legendgroup\": \"group\"}, {\"type\": \"scattergeo\", \"lon\": [\"-74.2752777778\", \"-74.4855555556\", \"-75.905\", \"-61.3333333333\", \"-74.7372222222\", \"-75.25076\"], \"lat\": [\"40.2588888889\", \"42.6791666667\", \"41.25\", \"15.4166666667\", \"42.8088888889\", \"40.08416\"], \"mode\": \"markers\", \"text\": [\"Battle of Monmouth\", \"Battle of Cobleskill\", \"Wyoming Massacre\", \"Invasion of Dominica\", \"Cherry Valley Massacre\", \"Battle of Barren Hill\"], \"marker\": {\"size\": 8, \"color\": \"rgb(150, 99, 0)\"}, \"name\": \"Unknown\", \"legendgroup\": \"group\"}, {\"type\": \"scattergeo\", \"lon\": [\"-71.216\", \"-81.1038888889\", \"-75.109\", \"-74.4614\", \"-71.263\", \"-75.414366\", \"-74.008144\", \"-7.38281388889\", \"-60.9666666667\", \"-74.375\"], \"lat\": [\"41.694\", \"32.0508333333\", \"40.171\", \"39.5446\", \"41.596\", \"39.548485\", \"41.012896\", \"48.56025\", \"13.8833333333\", \"39.549\"], \"mode\": \"markers\", \"text\": [\"Mount Hope Bay raids\", \"Capture of Savannah\", \"Battle of Crooked Billet\", \"Battle of Chestnut Neck\", \"Battle of Newport\", \"Battle of Quinton's Bridge\", \"Baylor Massacre\", \"First Battle of Ushant\", \"Capture of St. Lucia\", \"Little Egg Harbor massacre\"], \"marker\": {\"size\": 8, \"color\": \"rgb(99, 110, 250)\"}, \"name\": \"British victory\", \"legendgroup\": \"group\"}], \"name\": \"1778\"}, {\"data\": [{\"type\": \"scattergeo\", \"lon\": [\"-82.884563\", \"-76.733333\", \"-74.03961\", \"-73.974\", \"-87.5161111111\", \"-0.119444444444\", \"-80.7436111111\", \"-90.1013888889\"], \"lat\": [\"33.690796\", \"42.045278\", \"40.70757\", \"41.241\", \"38.6783333333\", \"54.1625\", \"32.5002777778\", \"30.1888888889\"], \"mode\": \"markers\", \"text\": [\"Battle of Kettle Creek\", \"Battle of Newtown\", \"Battle of Paulus Hook\", \"Battle of Stony Point\", \"Siege of Fort Vincennes\", \"Battle of Flamborough Head\", \"Battle of Beaufort\", \"Battle of Lake Pontchartrain\"], \"marker\": {\"size\": 8, \"color\": \"rgb(171, 0, 250)\"}, \"name\": \"Patriot victory\", \"legendgroup\": \"group\"}, {\"type\": \"scattergeo\", \"lon\": [\"-91.1369444444\", \"-91.1333\", \"-61.2\", \"-74.9708333333\", \"-61.75\", \"-61.75\", \"-77.727602\"], \"lat\": [\"30.3236111111\", \"30.45\", \"13.25\", \"41.4888888889\", \"12.05\", \"12.05\", \"42.717064\"], \"mode\": \"markers\", \"text\": [\"Capture of Fort Bute\", \"Battle of Baton Rouge\", \"Capture of Saint Vincent\", \"Battle of Minisink\", \"Capture of Grenada\", \"Battle of Grenada\", \"Boyd and Parker ambush\"], \"marker\": {\"size\": 8, \"color\": \"rgb(150, 99, 0)\"}, \"name\": \"Unknown\", \"legendgroup\": \"group\"}, {\"type\": \"scattergeo\", \"lon\": [\"-81.482829\", \"-76.1833333333\", \"-80.1339333333\", \"-61.15\"], \"lat\": [\"32.811631\", \"38.05\", \"32.7570361111\", \"14.5833333333\"], \"mode\": \"markers\", \"text\": [\"Battle of Brier Creek\", \"Chesapeake raid\", \"Battle of Stono Ferry\", \"First Battle of Martinique\"], \"marker\": {\"size\": 8, \"color\": \"rgb(99, 110, 250)\"}, \"name\": \"British victory\", \"legendgroup\": \"group\"}], \"name\": \"1779\"}, {\"data\": [{\"type\": \"scattergeo\", \"lon\": [\"-81.1756194444\", \"-81.4196361111\", \"-81.8524777778\", \"-81.8124\", \"-74.2997\", \"-74.7083333333\", \"-81.39359\", \"-80.6617916667\", \"-81.2591\", \"-79.4333333333\", \"-73.0438888889\", \"-81.2725\", \"-80.084925\", \"-80.76265\"], \"lat\": [\"34.8652277778\", \"34.5950638889\", \"34.5935444444\", \"34.6793\", \"40.70912\", \"42.9994444444\", \"35.11935\", \"34.5656666667\", \"35.4784\", \"33.6166666667\", \"40.9644444444\", \"34.4533333333\", \"35.1543722222\", \"34.86084\"], \"mode\": \"markers\", \"text\": [\"Huck's Defeat\", \"Battle of Fishdam Ford\", \"Battle of Musgrove Mill\", \"Battle of Blackstock's Farm\", \"Battle of Springfield\", \"Battle of Klock's Field\", \"Battle of Kings Mountain\", \"Battle of Hanging Rock\", \"Battle of Ramsour's Mill\", \"Battle of Black Mingo\", \"Battle of Fort St. George\", \"Battle of Mobley's Meeting House\", \"Battle of Colson's Mill\", \"Battle of Wahab's Plantation\"], \"marker\": {\"size\": 8, \"color\": \"rgb(171, 0, 250)\"}, \"name\": \"Patriot victory\", \"legendgroup\": \"group\"}, {\"type\": \"scattergeo\", \"lon\": [\"-90.1892222222\", \"-80.8759416667\", \"-13.2333333333\", \"-74.0\", \"-88.0415055556\"], \"lat\": [\"38.6242777778\", \"34.5398638889\", \"35.8336111111\", \"40.789\", \"30.6861194444\"], \"mode\": \"markers\", \"text\": [\"Battle of St. Louis\", \"Battle of Rocky Mount\", \"Action of 9 August 1780\", \"Battle of Bull's Ferry\", \"Battle of Fort Charlotte\"], \"marker\": {\"size\": 8, \"color\": \"rgb(150, 99, 0)\"}, \"name\": \"Unknown\", \"legendgroup\": \"group\"}, {\"type\": \"scattergeo\", \"lon\": [\"-74.2734\", \"-80.0066666667\", \"-80.6257916667\", \"-80.6139\", \"-80.9058333333\", \"-20.25\", \"-79.6750833333\", \"-80.8433333333\", \"-8.56361111111\", \"-73.7769444444\"], \"lat\": [\"40.6951\", \"33.1966666667\", \"34.7419527778\", \"34.3645527778\", \"34.635\", \"43.0\", \"33.3047083333\", \"35.2269444444\", \"36.8180555556\", \"41.1216666667\"], \"mode\": \"markers\", \"text\": [\"Battle of Connecticut Farms\", \"Battle of Monck's Corner\", \"Battle of Waxhaws\", \"Battle of Camden\", \"Battle of Fishing Creek\", \"Action of 8 January 1780\", \"Battle of Lenud's Ferry\", \"Battle of Charlotte\", \"Battle of Cape St. Vincent\", \"Battle of Young's House\"], \"marker\": {\"size\": 8, \"color\": \"rgb(99, 110, 250)\"}, \"name\": \"British victory\", \"legendgroup\": \"group\"}], \"name\": \"1780\"}, {\"data\": [{\"type\": \"scattergeo\", \"lon\": [\"-80.43783\", \"-79.4\", \"-73.3008333333\", \"-74.3722222222\", \"-79.347188\", \"-81.816\"], \"lat\": [\"33.53896\", \"36.04\", \"40.9125\", \"43.0072222222\", \"35.889711\", \"35.1368333333\"], \"mode\": \"markers\", \"text\": [\"Siege of Fort Watson\", \"Battle of Haw River\", \"Battle of Fort Slongo\", \"Battle of Johnstown\", \"Battle of Lindley's Mill\", \"Battle of Cowpens\"], \"marker\": {\"size\": 8, \"color\": \"rgb(171, 0, 250)\"}, \"name\": \"Patriot victory\", \"legendgroup\": \"group\"}, {\"type\": \"scattergeo\", \"lon\": [\"-88.002075\", \"-61.25\", \"-85.4870222222\", \"-23.5049055556\", \"-75.5391666667\", \"-84.9063888889\"], \"lat\": [\"30.66405\", \"14.6\", \"38.1823388889\", \"14.9072972222\", \"36.9675\", \"39.0586111111\"], \"mode\": \"markers\", \"text\": [\"Battle of Mobile\", \"Battle of Fort Royal\", \"Long Run Massacre\", \"Battle of Porto Praya\", \"Battle of the Chesapeake\", \"Lochry's Defeat\"], \"marker\": {\"size\": 8, \"color\": \"rgb(150, 99, 0)\"}, \"name\": \"Unknown\", \"legendgroup\": \"group\"}, {\"type\": \"scattergeo\", \"lon\": [\"-72.0819444444\", \"-79.844\", \"-80.6072222222\", \"2.769\", \"-62.9833333333\", \"-79.79\", \"-80.9519\", \"-77.3939\", \"-80.29875\", \"-76.798139\", \"-75.152\", \"-2.10749\"], \"lat\": [\"41.3566666667\", \"36.132\", \"34.2744444444\", \"54.724\", \"17.4833333333\", \"36.08\", \"35.4283\", \"37.23438\", \"33.40728\", \"37.319479\", \"37.15\", \"49.18238\"], \"mode\": \"markers\", \"text\": [\"Battle of Groton Heights\", \"Battle of Guilford Court House\", \"Battle of Hobkirk's Hill\", \"Battle of Dogger Bank\", \"Capture of Sint Eustatius\", \"Battle of Wetzell's Mill\", \"Battle of Cowan's Ford\", \"Battle of Blandford\", \"Battle of Eutaw Springs\", \"Battle of Spencer's Ordinary\", \"Battle of Cape Henry\", \"Battle of Jersey\"], \"marker\": {\"size\": 8, \"color\": \"rgb(99, 110, 250)\"}, \"name\": \"British victory\", \"legendgroup\": \"group\"}], \"name\": \"1781\"}, {\"data\": [{\"type\": \"scattergeo\", \"lon\": [\"-5.9109\", \"-94.2134277778\", \"-84.4152916667\", \"-74.9665805556\", \"-80.725\", \"-64.3166666667\"], \"lat\": [\"35.9257\", \"58.7971583333\", \"38.0758666667\", \"39.0831694444\", \"40.0638888889\", \"44.3833333333\"], \"mode\": \"markers\", \"text\": [\"Battle of Cape Spartel\", \"Hudson Bay Expedition\", \"Siege of Bryan Station\", \"Battle of Delaware Bay\", \"Siege of Fort Henry\", \"Raid on Lunenburg\"], \"marker\": {\"size\": 8, \"color\": \"rgb(171, 0, 250)\"}, \"name\": \"Patriot victory\", \"legendgroup\": \"group\"}, {\"type\": \"scattergeo\", \"lon\": [\"-81.435\", \"-62.2\", \"-77.3450166667\", \"-86.4178333333\", \"81.5130611111\", \"80.17685\", \"-83.9946472222\"], \"lat\": [\"40.3541666667\", \"16.75\", \"25.0599555556\", \"16.3834305556\", \"8.25498333333\", \"12.5233972222\", \"38.4284078333\"], \"mode\": \"markers\", \"text\": [\"Gnadenhutten massacre\", \"Capture of Montserrat\", \"Capture of the Bahamas\", \"Battle of Roat\\u00c3\\u00a1n\", \"Battle of Providien\", \"Battle of Sadras\", \"Battle of Blue Licks\"], \"marker\": {\"size\": 8, \"color\": \"rgb(150, 99, 0)\"}, \"name\": \"Unknown\", \"legendgroup\": \"group\"}, {\"type\": \"scattergeo\", \"lon\": [\"-5.3551\", \"-69.3166666667\", \"-68.0\", \"81.2377166667\", \"79.8661416667\", \"-62.5833333333\", \"-63.4\", \"-80.5733333333\", \"-79.95\", \"-5.96666666667\"], \"lat\": [\"36.1397\", \"19.1833333333\", \"18.5\", \"8.54910833333\", \"10.778\", \"17.15\", \"44.3\", \"32.5825\", \"33.2\", \"35.8666666667\"], \"mode\": \"markers\", \"text\": [\"Grand Assault on Gibraltar\", \"Action of 18 October 1782\", \"Battle of the Mona Passage\", \"Capture of Trincomalee\", \"Battle of Negapatam\", \"Battle of Saint Kitts\", \"Naval battle off Halifax\", \"Battle of the Combahee River\", \"Battle of Wambaw\", \"Action of 16 March 1782\"], \"marker\": {\"size\": 8, \"color\": \"rgb(99, 110, 250)\"}, \"name\": \"British victory\", \"legendgroup\": \"group\"}], \"name\": \"1782\"}, {\"data\": [{\"type\": \"scattergeo\", \"lon\": [\"0\"], \"lat\": [\"0\"], \"mode\": \"markers\", \"text\": [\" \"], \"marker\": {\"size\": 8, \"color\": \"rgb(171, 0, 250)\"}, \"name\": \"Patriot victory\", \"legendgroup\": \"group\"}, {\"type\": \"scattergeo\", \"lon\": [\"-72.4583333333\", \"-91.349\", \"79.75\"], \"lat\": [\"21.6666666667\", \"34.021\", \"11.75\"], \"mode\": \"markers\", \"text\": [\"Capture of the Turks and Caicos Islands\", \"Battle of Arkansas Post\", \"Battle of Cuddalore\"], \"marker\": {\"size\": 8, \"color\": \"rgb(150, 99, 0)\"}, \"name\": \"Unknown\", \"legendgroup\": \"group\"}, {\"type\": \"scattergeo\", \"lon\": [\"-76.1572277778\", \"-77.3333333333\"], \"lat\": [\"37.0902388889\", \"25.0666666667\"], \"mode\": \"markers\", \"text\": [\"Action of 22 January 1783\", \"Capture of the Bahamas\"], \"marker\": {\"size\": 8, \"color\": \"rgb(99, 110, 250)\"}, \"name\": \"British victory\", \"legendgroup\": \"group\"}], \"name\": \"1783\"}]);}).then(function(){Plotly.animate('dcba4b38-5842-4a89-891e-0448b346b1a8');})\n",
       "        });</script>"
      ],
      "text/vnd.plotly.v1+html": [
       "<div id=\"dcba4b38-5842-4a89-891e-0448b346b1a8\" style=\"height: 525px; width: 100%;\" class=\"plotly-graph-div\"></div><script type=\"text/javascript\">require([\"plotly\"], function(Plotly) { window.PLOTLYENV=window.PLOTLYENV || {};window.PLOTLYENV.BASE_URL=\"https://plot.ly\";\n",
       "        Plotly.plot(\n",
       "            'dcba4b38-5842-4a89-891e-0448b346b1a8',\n",
       "            [{\"type\": \"scattergeo\", \"lon\": [], \"lat\": [], \"mode\": \"markers\", \"text\": [], \"marker\": {\"size\": 8, \"color\": \"rgb(171, 0, 250)\"}, \"name\": \"Patriot victory\", \"legendgroup\": \"group1\"}, {\"type\": \"scattergeo\", \"lon\": [], \"lat\": [], \"mode\": \"markers\", \"text\": [], \"marker\": {\"size\": 8, \"color\": \"rgb(150, 99, 0)\"}, \"name\": \"Unknown\", \"legendgroup\": \"group1\"}, {\"type\": \"scattergeo\", \"lon\": [], \"lat\": [], \"mode\": \"markers\", \"text\": [], \"marker\": {\"size\": 8, \"color\": \"rgb(99, 110, 250)\"}, \"name\": \"British victory\", \"legendgroup\": \"group1\"}],\n",
       "            {\"sliders\": [{\"active\": 0, \"yanchor\": \"top\", \"xanchor\": \"left\", \"currentvalue\": {\"font\": {\"size\": 20}, \"prefix\": \"Year:\", \"visible\": true, \"xanchor\": \"right\"}, \"transition\": {\"duration\": 300, \"easing\": \"cubic-in-out\"}, \"pad\": {\"b\": 10, \"t\": 50}, \"len\": 0.9, \"x\": 0.1, \"y\": 0, \"steps\": [{\"args\": [[\"1775\"], {\"frame\": {\"duration\": 300, \"redraw\": false}, \"mode\": \"immediate\", \"transition\": {\"duration\": 300}}], \"label\": \"1775\", \"method\": \"animate\"}, {\"args\": [[\"1776\"], {\"frame\": {\"duration\": 300, \"redraw\": false}, \"mode\": \"immediate\", \"transition\": {\"duration\": 300}}], \"label\": \"1776\", \"method\": \"animate\"}, {\"args\": [[\"1777\"], {\"frame\": {\"duration\": 300, \"redraw\": false}, \"mode\": \"immediate\", \"transition\": {\"duration\": 300}}], \"label\": \"1777\", \"method\": \"animate\"}, {\"args\": [[\"1778\"], {\"frame\": {\"duration\": 300, \"redraw\": false}, \"mode\": \"immediate\", \"transition\": {\"duration\": 300}}], \"label\": \"1778\", \"method\": \"animate\"}, {\"args\": [[\"1779\"], {\"frame\": {\"duration\": 300, \"redraw\": false}, \"mode\": \"immediate\", \"transition\": {\"duration\": 300}}], \"label\": \"1779\", \"method\": \"animate\"}, {\"args\": [[\"1780\"], {\"frame\": {\"duration\": 300, \"redraw\": false}, \"mode\": \"immediate\", \"transition\": {\"duration\": 300}}], \"label\": \"1780\", \"method\": \"animate\"}, {\"args\": [[\"1781\"], {\"frame\": {\"duration\": 300, \"redraw\": false}, \"mode\": \"immediate\", \"transition\": {\"duration\": 300}}], \"label\": \"1781\", \"method\": \"animate\"}, {\"args\": [[\"1782\"], {\"frame\": {\"duration\": 300, \"redraw\": false}, \"mode\": \"immediate\", \"transition\": {\"duration\": 300}}], \"label\": \"1782\", \"method\": \"animate\"}, {\"args\": [[\"1783\"], {\"frame\": {\"duration\": 300, \"redraw\": false}, \"mode\": \"immediate\", \"transition\": {\"duration\": 300}}], \"label\": \"1783\", \"method\": \"animate\"}]}], \"updatemenus\": [{\"buttons\": [{\"args\": [null, {\"frame\": {\"duration\": 500, \"redraw\": false}, \"fromcurrent\": true, \"transition\": {\"duration\": 300, \"easing\": \"quadratic-in-out\"}}], \"label\": \"Play\", \"method\": \"animate\"}, {\"args\": [[null], {\"frame\": {\"duration\": 0, \"redraw\": false}, \"mode\": \"immediate\", \"transition\": {\"duration\": 0}}], \"label\": \"Pause\", \"method\": \"animate\"}], \"direction\": \"left\", \"pad\": {\"r\": 10, \"t\": 87}, \"showactive\": false, \"type\": \"buttons\", \"x\": 0.1, \"xanchor\": \"right\", \"y\": 0, \"yanchor\": \"top\"}], \"title\": \" American Revolution (1775-83) battles\", \"geo\": {\"scope\": \"north america\", \"showland\": true, \"landcolor\": \"rgb(212, 212, 212)\", \"subunitcolor\": \"rgb(255, 255, 255)\", \"countrycolor\": \"rgb(255, 255, 255)\", \"showlakes\": true, \"lakecolor\": \"rgb(255, 255, 255)\", \"showsubunits\": true, \"showcountries\": true, \"resolution\": 50, \"projection\": {\"type\": \"conic conformal\", \"rotation\": {\"lon\": -100}}, \"lonaxis\": {\"showgrid\": true, \"gridwidth\": 0.5, \"range\": [-140.0, -55.0], \"dtick\": 5}, \"lataxis\": {\"showgrid\": true, \"gridwidth\": 0.5, \"range\": [20.0, 60.0], \"dtick\": 5}}},\n",
       "            {\"showLink\": true, \"linkText\": \"Export to plot.ly\"}\n",
       "        ).then(function () {return Plotly.addFrames('dcba4b38-5842-4a89-891e-0448b346b1a8',[{\"data\": [{\"type\": \"scattergeo\", \"lon\": [\"-71.2308333333\", \"-73.3880555556\", \"-70.6637194444\", \"-76.2386111111\", \"-73.2666666667\", \"-82.0244444444\", \"-71.0578527778\", \"-71.0320194444\"], \"lat\": [\"42.4496388889\", \"43.8413888889\", \"42.6064222222\", \"36.7197222222\", \"45.3166666667\", \"34.1469444444\", \"42.3632361111\", \"42.3818805556\"], \"mode\": \"markers\", \"text\": [\"Battles of Lexington and Concord\", \"Capture of Fort Ticonderoga\", \"Battle of Gloucester\", \"Battle of Great Bridge\", \"Siege of Fort St. Jean\", \"Siege of Savage's Old Fields\", \"Siege of Boston\", \"Battle of Chelsea Creek\"], \"marker\": {\"size\": 8, \"color\": \"rgb(171, 0, 250)\"}, \"name\": \"Patriot victory\", \"legendgroup\": \"group\"}, {\"type\": \"scattergeo\", \"lon\": [\"-67.4608611111\", \"-70.2536111111\", \"-76.7069444444\"], \"lat\": [\"44.71405\", \"43.6547222222\", \"37.2708333333\"], \"mode\": \"markers\", \"text\": [\"Battle of Machias\", \"Burning of Falmouth\", \"Gunpowder Incident\"], \"marker\": {\"size\": 8, \"color\": \"rgb(150, 99, 0)\"}, \"name\": \"Unknown\", \"legendgroup\": \"group\"}, {\"type\": \"scattergeo\", \"lon\": [\"-71.0607777778\", \"-76.1602777778\", \"-71.2023055556\"], \"lat\": [\"42.3763611111\", \"36.8269444444\", \"46.8151\"], \"mode\": \"markers\", \"text\": [\"Battle of Bunker Hill\", \"Battle of Kemp's Landing\", \"Battle of Quebec\"], \"marker\": {\"size\": 8, \"color\": \"rgb(99, 110, 250)\"}, \"name\": \"British victory\", \"legendgroup\": \"group\"}], \"name\": \"1775\"}, {\"data\": [{\"type\": \"scattergeo\", \"lon\": [\"-74.8416666667\", \"-74.755\", \"-70.6294\", \"-79.857748\", \"-82.118268\", \"-78.1097222222\", \"-73.956\", \"-74.8608333333\"], \"lat\": [\"38.9583333333\", \"40.218\", \"46.92\", \"32.759373\", \"34.45965\", \"34.4575\", \"40.809\", \"40.4311111111\"], \"mode\": \"markers\", \"text\": [\"Battle of Turtle Gut Inlet\", \"Battle of Trenton\", \"Battle of Saint-Pierre\", \"Battle of Sullivan's Island\", \"Battle of Lindley's Fort\", \"Battle of Moore's Creek Bridge\", \"Battle of Harlem Heights\", \"Ambush of Geary\"], \"marker\": {\"size\": 8, \"color\": \"rgb(171, 0, 250)\"}, \"name\": \"Patriot victory\", \"legendgroup\": \"group\"}, {\"type\": \"scattergeo\", \"lon\": [\"-76.2069444444\", \"-77.345\"], \"lat\": [\"36.91\", \"25.06\"], \"mode\": \"markers\", \"text\": [\"Burning of Norfolk\", \"Battle of Nassau\"], \"marker\": {\"size\": 8, \"color\": \"rgb(150, 99, 0)\"}, \"name\": \"Unknown\", \"legendgroup\": \"group\"}, {\"type\": \"scattergeo\", \"lon\": [\"-73.4303861111\", \"-81.0857972222\", \"-74.035336\", \"-73.938\", \"-73.9630555556\", \"-72.55\", \"-73.7786111111\", \"-78.1097222222\", \"-71.018829\", \"-64.2907916667\", \"-74.7869444444\", \"-73.9746388889\"], \"lat\": [\"44.6105111111\", \"32.0812666667\", \"45.30993\", \"40.853\", \"40.8502777778\", \"46.35\", \"41.04\", \"34.4575\", \"40.934888\", \"45.8655083333\", \"39.995\", \"40.7363305556\"], \"mode\": \"markers\", \"text\": [\"Battle of Valcour Island\", \"Battle of the Rice Boats\", \"Battle of The Cedars\", \"Battle of Fort Washington\", \"Battle of Fort Lee\", \"Battle of Trois-Rivi\\u00c3\\u00a8res\", \"Battle of White Plains\", \"Battle of Long Island\", \"Battle of Block Island\", \"Battle of Fort Cumberland\", \"Battle of Iron Works Hill\", \"Landing at Kip's Bay\"], \"marker\": {\"size\": 8, \"color\": \"rgb(99, 110, 250)\"}, \"name\": \"British victory\", \"legendgroup\": \"group\"}], \"name\": \"1776\"}, {\"data\": [{\"type\": \"scattergeo\", \"lon\": [\"-75.212\", \"-74.5933333333\", \"-74.7561111111\", \"-74.357\", \"-75.45525\", \"-75.18941\", \"-75.18871\", \"-74.6733333333\", \"-72.2922222222\", \"-73.3044444444\", \"-73.6375\"], \"lat\": [\"40.126\", \"40.5388888889\", \"40.2216666667\", \"40.523\", \"43.2105555556\", \"39.871371\", \"39.87206\", \"40.3277777778\", \"40.9966666667\", \"42.9386111111\", \"42.9988888889\"], \"mode\": \"markers\", \"text\": [\"Battle of White Marsh\", \"Battle of Millstone\", \"Second Battle of Trenton\", \"Battle of Punk Hill\", \"Siege of Fort Stanwix\", \"Battle of Red Bank\", \"Battle of Gloucester\", \"Battle of Princeton\", \"Meigs Raid\", \"Battle of Bennington\", \"Battle of Bemis Heights\"], \"marker\": {\"size\": 8, \"color\": \"rgb(171, 0, 250)\"}, \"name\": \"Patriot victory\", \"legendgroup\": \"group\"}, {\"type\": \"scattergeo\", \"lon\": [\"-73.6375\", \"-75.573084\"], \"lat\": [\"42.9988888889\", \"40.045341\"], \"mode\": \"markers\", \"text\": [\"Battle of Freeman's Farm\", \"Battle of the Clouds\"], \"marker\": {\"size\": 8, \"color\": \"rgb(150, 99, 0)\"}, \"name\": \"Unknown\", \"legendgroup\": \"group\"}, {\"type\": \"scattergeo\", \"lon\": [\"-73.5013888889\", \"-67.4608611111\", \"-74.1448388889\", \"-75.37\", \"-73.3880555556\", \"-75.309935\", \"-73.1333333333\", \"-73.9897222222\", \"-75.59\", \"-75.1597\", \"-81.79164\", \"-74.5278\", \"-73.4805111111\", \"-75.726667\", \"-75.5183333333\", \"-74.332\", \"-73.1113888889\"], \"lat\": [\"41.3052777778\", \"44.71405\", \"40.5762805556\", \"43.1766666667\", \"43.8413888889\", \"40.07128\", \"43.7\", \"41.3228638889\", \"39.8719444444\", \"40.0238\", \"30.50565\", \"40.5589\", \"43.4261194444\", \"39.639722\", \"40.0297222222\", \"40.75\", \"40.9458333333\"], \"mode\": \"markers\", \"text\": [\"Battle of Ridgefield\", \"Second Battle of Machias\", \"Battle of Staten Island\", \"Battle of Oriskany\", \"Siege of Fort Ticonderoga\", \"Battle of Matson's Ford\", \"Battle of Hubbardton\", \"Battle of Forts Clinton and Montgomery\", \"Battle of Brandywine\", \"Battle of Germantown\", \"Battle of Thomas Creek\", \"Battle of Bound Brook\", \"Battle of Fort Ann\", \"Battle of Cooch's Bridge\", \"Battle of Paoli\", \"Battle of Short Hills\", \"Battle of Setauket\"], \"marker\": {\"size\": 8, \"color\": \"rgb(99, 110, 250)\"}, \"name\": \"British victory\", \"legendgroup\": \"group\"}], \"name\": \"1777\"}, {\"data\": [{\"type\": \"scattergeo\", \"lon\": [\"-84.2719444444\", \"-5.45\"], \"lat\": [\"37.9083333333\", \"54.7241666667\"], \"mode\": \"markers\", \"text\": [\"Siege of Boonesborough\", \"North Channel Naval Duel\"], \"marker\": {\"size\": 8, \"color\": \"rgb(171, 0, 250)\"}, \"name\": \"Patriot victory\", \"legendgroup\": \"group\"}, {\"type\": \"scattergeo\", \"lon\": [\"-74.2752777778\", \"-74.4855555556\", \"-75.905\", \"-61.3333333333\", \"-74.7372222222\", \"-75.25076\"], \"lat\": [\"40.2588888889\", \"42.6791666667\", \"41.25\", \"15.4166666667\", \"42.8088888889\", \"40.08416\"], \"mode\": \"markers\", \"text\": [\"Battle of Monmouth\", \"Battle of Cobleskill\", \"Wyoming Massacre\", \"Invasion of Dominica\", \"Cherry Valley Massacre\", \"Battle of Barren Hill\"], \"marker\": {\"size\": 8, \"color\": \"rgb(150, 99, 0)\"}, \"name\": \"Unknown\", \"legendgroup\": \"group\"}, {\"type\": \"scattergeo\", \"lon\": [\"-71.216\", \"-81.1038888889\", \"-75.109\", \"-74.4614\", \"-71.263\", \"-75.414366\", \"-74.008144\", \"-7.38281388889\", \"-60.9666666667\", \"-74.375\"], \"lat\": [\"41.694\", \"32.0508333333\", \"40.171\", \"39.5446\", \"41.596\", \"39.548485\", \"41.012896\", \"48.56025\", \"13.8833333333\", \"39.549\"], \"mode\": \"markers\", \"text\": [\"Mount Hope Bay raids\", \"Capture of Savannah\", \"Battle of Crooked Billet\", \"Battle of Chestnut Neck\", \"Battle of Newport\", \"Battle of Quinton's Bridge\", \"Baylor Massacre\", \"First Battle of Ushant\", \"Capture of St. Lucia\", \"Little Egg Harbor massacre\"], \"marker\": {\"size\": 8, \"color\": \"rgb(99, 110, 250)\"}, \"name\": \"British victory\", \"legendgroup\": \"group\"}], \"name\": \"1778\"}, {\"data\": [{\"type\": \"scattergeo\", \"lon\": [\"-82.884563\", \"-76.733333\", \"-74.03961\", \"-73.974\", \"-87.5161111111\", \"-0.119444444444\", \"-80.7436111111\", \"-90.1013888889\"], \"lat\": [\"33.690796\", \"42.045278\", \"40.70757\", \"41.241\", \"38.6783333333\", \"54.1625\", \"32.5002777778\", \"30.1888888889\"], \"mode\": \"markers\", \"text\": [\"Battle of Kettle Creek\", \"Battle of Newtown\", \"Battle of Paulus Hook\", \"Battle of Stony Point\", \"Siege of Fort Vincennes\", \"Battle of Flamborough Head\", \"Battle of Beaufort\", \"Battle of Lake Pontchartrain\"], \"marker\": {\"size\": 8, \"color\": \"rgb(171, 0, 250)\"}, \"name\": \"Patriot victory\", \"legendgroup\": \"group\"}, {\"type\": \"scattergeo\", \"lon\": [\"-91.1369444444\", \"-91.1333\", \"-61.2\", \"-74.9708333333\", \"-61.75\", \"-61.75\", \"-77.727602\"], \"lat\": [\"30.3236111111\", \"30.45\", \"13.25\", \"41.4888888889\", \"12.05\", \"12.05\", \"42.717064\"], \"mode\": \"markers\", \"text\": [\"Capture of Fort Bute\", \"Battle of Baton Rouge\", \"Capture of Saint Vincent\", \"Battle of Minisink\", \"Capture of Grenada\", \"Battle of Grenada\", \"Boyd and Parker ambush\"], \"marker\": {\"size\": 8, \"color\": \"rgb(150, 99, 0)\"}, \"name\": \"Unknown\", \"legendgroup\": \"group\"}, {\"type\": \"scattergeo\", \"lon\": [\"-81.482829\", \"-76.1833333333\", \"-80.1339333333\", \"-61.15\"], \"lat\": [\"32.811631\", \"38.05\", \"32.7570361111\", \"14.5833333333\"], \"mode\": \"markers\", \"text\": [\"Battle of Brier Creek\", \"Chesapeake raid\", \"Battle of Stono Ferry\", \"First Battle of Martinique\"], \"marker\": {\"size\": 8, \"color\": \"rgb(99, 110, 250)\"}, \"name\": \"British victory\", \"legendgroup\": \"group\"}], \"name\": \"1779\"}, {\"data\": [{\"type\": \"scattergeo\", \"lon\": [\"-81.1756194444\", \"-81.4196361111\", \"-81.8524777778\", \"-81.8124\", \"-74.2997\", \"-74.7083333333\", \"-81.39359\", \"-80.6617916667\", \"-81.2591\", \"-79.4333333333\", \"-73.0438888889\", \"-81.2725\", \"-80.084925\", \"-80.76265\"], \"lat\": [\"34.8652277778\", \"34.5950638889\", \"34.5935444444\", \"34.6793\", \"40.70912\", \"42.9994444444\", \"35.11935\", \"34.5656666667\", \"35.4784\", \"33.6166666667\", \"40.9644444444\", \"34.4533333333\", \"35.1543722222\", \"34.86084\"], \"mode\": \"markers\", \"text\": [\"Huck's Defeat\", \"Battle of Fishdam Ford\", \"Battle of Musgrove Mill\", \"Battle of Blackstock's Farm\", \"Battle of Springfield\", \"Battle of Klock's Field\", \"Battle of Kings Mountain\", \"Battle of Hanging Rock\", \"Battle of Ramsour's Mill\", \"Battle of Black Mingo\", \"Battle of Fort St. George\", \"Battle of Mobley's Meeting House\", \"Battle of Colson's Mill\", \"Battle of Wahab's Plantation\"], \"marker\": {\"size\": 8, \"color\": \"rgb(171, 0, 250)\"}, \"name\": \"Patriot victory\", \"legendgroup\": \"group\"}, {\"type\": \"scattergeo\", \"lon\": [\"-90.1892222222\", \"-80.8759416667\", \"-13.2333333333\", \"-74.0\", \"-88.0415055556\"], \"lat\": [\"38.6242777778\", \"34.5398638889\", \"35.8336111111\", \"40.789\", \"30.6861194444\"], \"mode\": \"markers\", \"text\": [\"Battle of St. Louis\", \"Battle of Rocky Mount\", \"Action of 9 August 1780\", \"Battle of Bull's Ferry\", \"Battle of Fort Charlotte\"], \"marker\": {\"size\": 8, \"color\": \"rgb(150, 99, 0)\"}, \"name\": \"Unknown\", \"legendgroup\": \"group\"}, {\"type\": \"scattergeo\", \"lon\": [\"-74.2734\", \"-80.0066666667\", \"-80.6257916667\", \"-80.6139\", \"-80.9058333333\", \"-20.25\", \"-79.6750833333\", \"-80.8433333333\", \"-8.56361111111\", \"-73.7769444444\"], \"lat\": [\"40.6951\", \"33.1966666667\", \"34.7419527778\", \"34.3645527778\", \"34.635\", \"43.0\", \"33.3047083333\", \"35.2269444444\", \"36.8180555556\", \"41.1216666667\"], \"mode\": \"markers\", \"text\": [\"Battle of Connecticut Farms\", \"Battle of Monck's Corner\", \"Battle of Waxhaws\", \"Battle of Camden\", \"Battle of Fishing Creek\", \"Action of 8 January 1780\", \"Battle of Lenud's Ferry\", \"Battle of Charlotte\", \"Battle of Cape St. Vincent\", \"Battle of Young's House\"], \"marker\": {\"size\": 8, \"color\": \"rgb(99, 110, 250)\"}, \"name\": \"British victory\", \"legendgroup\": \"group\"}], \"name\": \"1780\"}, {\"data\": [{\"type\": \"scattergeo\", \"lon\": [\"-80.43783\", \"-79.4\", \"-73.3008333333\", \"-74.3722222222\", \"-79.347188\", \"-81.816\"], \"lat\": [\"33.53896\", \"36.04\", \"40.9125\", \"43.0072222222\", \"35.889711\", \"35.1368333333\"], \"mode\": \"markers\", \"text\": [\"Siege of Fort Watson\", \"Battle of Haw River\", \"Battle of Fort Slongo\", \"Battle of Johnstown\", \"Battle of Lindley's Mill\", \"Battle of Cowpens\"], \"marker\": {\"size\": 8, \"color\": \"rgb(171, 0, 250)\"}, \"name\": \"Patriot victory\", \"legendgroup\": \"group\"}, {\"type\": \"scattergeo\", \"lon\": [\"-88.002075\", \"-61.25\", \"-85.4870222222\", \"-23.5049055556\", \"-75.5391666667\", \"-84.9063888889\"], \"lat\": [\"30.66405\", \"14.6\", \"38.1823388889\", \"14.9072972222\", \"36.9675\", \"39.0586111111\"], \"mode\": \"markers\", \"text\": [\"Battle of Mobile\", \"Battle of Fort Royal\", \"Long Run Massacre\", \"Battle of Porto Praya\", \"Battle of the Chesapeake\", \"Lochry's Defeat\"], \"marker\": {\"size\": 8, \"color\": \"rgb(150, 99, 0)\"}, \"name\": \"Unknown\", \"legendgroup\": \"group\"}, {\"type\": \"scattergeo\", \"lon\": [\"-72.0819444444\", \"-79.844\", \"-80.6072222222\", \"2.769\", \"-62.9833333333\", \"-79.79\", \"-80.9519\", \"-77.3939\", \"-80.29875\", \"-76.798139\", \"-75.152\", \"-2.10749\"], \"lat\": [\"41.3566666667\", \"36.132\", \"34.2744444444\", \"54.724\", \"17.4833333333\", \"36.08\", \"35.4283\", \"37.23438\", \"33.40728\", \"37.319479\", \"37.15\", \"49.18238\"], \"mode\": \"markers\", \"text\": [\"Battle of Groton Heights\", \"Battle of Guilford Court House\", \"Battle of Hobkirk's Hill\", \"Battle of Dogger Bank\", \"Capture of Sint Eustatius\", \"Battle of Wetzell's Mill\", \"Battle of Cowan's Ford\", \"Battle of Blandford\", \"Battle of Eutaw Springs\", \"Battle of Spencer's Ordinary\", \"Battle of Cape Henry\", \"Battle of Jersey\"], \"marker\": {\"size\": 8, \"color\": \"rgb(99, 110, 250)\"}, \"name\": \"British victory\", \"legendgroup\": \"group\"}], \"name\": \"1781\"}, {\"data\": [{\"type\": \"scattergeo\", \"lon\": [\"-5.9109\", \"-94.2134277778\", \"-84.4152916667\", \"-74.9665805556\", \"-80.725\", \"-64.3166666667\"], \"lat\": [\"35.9257\", \"58.7971583333\", \"38.0758666667\", \"39.0831694444\", \"40.0638888889\", \"44.3833333333\"], \"mode\": \"markers\", \"text\": [\"Battle of Cape Spartel\", \"Hudson Bay Expedition\", \"Siege of Bryan Station\", \"Battle of Delaware Bay\", \"Siege of Fort Henry\", \"Raid on Lunenburg\"], \"marker\": {\"size\": 8, \"color\": \"rgb(171, 0, 250)\"}, \"name\": \"Patriot victory\", \"legendgroup\": \"group\"}, {\"type\": \"scattergeo\", \"lon\": [\"-81.435\", \"-62.2\", \"-77.3450166667\", \"-86.4178333333\", \"81.5130611111\", \"80.17685\", \"-83.9946472222\"], \"lat\": [\"40.3541666667\", \"16.75\", \"25.0599555556\", \"16.3834305556\", \"8.25498333333\", \"12.5233972222\", \"38.4284078333\"], \"mode\": \"markers\", \"text\": [\"Gnadenhutten massacre\", \"Capture of Montserrat\", \"Capture of the Bahamas\", \"Battle of Roat\\u00c3\\u00a1n\", \"Battle of Providien\", \"Battle of Sadras\", \"Battle of Blue Licks\"], \"marker\": {\"size\": 8, \"color\": \"rgb(150, 99, 0)\"}, \"name\": \"Unknown\", \"legendgroup\": \"group\"}, {\"type\": \"scattergeo\", \"lon\": [\"-5.3551\", \"-69.3166666667\", \"-68.0\", \"81.2377166667\", \"79.8661416667\", \"-62.5833333333\", \"-63.4\", \"-80.5733333333\", \"-79.95\", \"-5.96666666667\"], \"lat\": [\"36.1397\", \"19.1833333333\", \"18.5\", \"8.54910833333\", \"10.778\", \"17.15\", \"44.3\", \"32.5825\", \"33.2\", \"35.8666666667\"], \"mode\": \"markers\", \"text\": [\"Grand Assault on Gibraltar\", \"Action of 18 October 1782\", \"Battle of the Mona Passage\", \"Capture of Trincomalee\", \"Battle of Negapatam\", \"Battle of Saint Kitts\", \"Naval battle off Halifax\", \"Battle of the Combahee River\", \"Battle of Wambaw\", \"Action of 16 March 1782\"], \"marker\": {\"size\": 8, \"color\": \"rgb(99, 110, 250)\"}, \"name\": \"British victory\", \"legendgroup\": \"group\"}], \"name\": \"1782\"}, {\"data\": [{\"type\": \"scattergeo\", \"lon\": [\"0\"], \"lat\": [\"0\"], \"mode\": \"markers\", \"text\": [\" \"], \"marker\": {\"size\": 8, \"color\": \"rgb(171, 0, 250)\"}, \"name\": \"Patriot victory\", \"legendgroup\": \"group\"}, {\"type\": \"scattergeo\", \"lon\": [\"-72.4583333333\", \"-91.349\", \"79.75\"], \"lat\": [\"21.6666666667\", \"34.021\", \"11.75\"], \"mode\": \"markers\", \"text\": [\"Capture of the Turks and Caicos Islands\", \"Battle of Arkansas Post\", \"Battle of Cuddalore\"], \"marker\": {\"size\": 8, \"color\": \"rgb(150, 99, 0)\"}, \"name\": \"Unknown\", \"legendgroup\": \"group\"}, {\"type\": \"scattergeo\", \"lon\": [\"-76.1572277778\", \"-77.3333333333\"], \"lat\": [\"37.0902388889\", \"25.0666666667\"], \"mode\": \"markers\", \"text\": [\"Action of 22 January 1783\", \"Capture of the Bahamas\"], \"marker\": {\"size\": 8, \"color\": \"rgb(99, 110, 250)\"}, \"name\": \"British victory\", \"legendgroup\": \"group\"}], \"name\": \"1783\"}]);}).then(function(){Plotly.animate('dcba4b38-5842-4a89-891e-0448b346b1a8');})\n",
       "        });</script>"
      ]
     },
     "metadata": {},
     "output_type": "display_data"
    }
   ],
   "source": [
    "init_notebook_mode(connected=True)\n",
    "\n",
    "years_from_col = set(revolution_data['Year'])\n",
    "years_ints = sorted(list(years_from_col))\n",
    "years = [str(year) for year in years_ints]\n",
    "years.remove('2026')\n",
    "#print(years)\n",
    "revolution_data['Victory'] = revolution_data['Victory'].replace(np.nan, 'Unknown', regex=True)\n",
    "victories = []\n",
    "for victory in revolution_data['Victory']:\n",
    "    if victory not in victories: \n",
    "        victories.append(victory)       \n",
    "#print(victories)\n",
    "\n",
    "figure = {\n",
    "    'data': [],\n",
    "    'layout': {},\n",
    "    'frames': []\n",
    "}\n",
    "\n",
    "figure['layout']['sliders'] = {\n",
    "    'args': [\n",
    "        'transition', {\n",
    "            'duration': 400,\n",
    "            'easing': 'cubic-in-out'\n",
    "        }\n",
    "    ],\n",
    "    'initialValue': '1774',\n",
    "    'plotlycommand': 'animate',\n",
    "    'values': years,\n",
    "    'visible': True\n",
    "}\n",
    "\n",
    "custom_colors = {\n",
    "    'Patriot victory': 'rgb(171, 0, 250)',\n",
    "    'Unknown': 'rgb(150, 99, 0)',\n",
    "    'British victory': 'rgb(99, 110, 250)',\n",
    "}\n",
    "\n",
    "figure['layout']['updatemenus'] = [\n",
    "    {\n",
    "        'buttons': [\n",
    "            {\n",
    "                'args': [None, {'frame': {'duration': 500, 'redraw': False},\n",
    "                         'fromcurrent': True, 'transition': {'duration': 300, 'easing': 'quadratic-in-out'}}],\n",
    "                'label': 'Play',\n",
    "                'method': 'animate'\n",
    "            },\n",
    "            {\n",
    "                'args': [[None], {'frame': {'duration': 0, 'redraw': False}, 'mode': 'immediate',\n",
    "                'transition': {'duration': 0}}],\n",
    "                'label': 'Pause',\n",
    "                'method': 'animate'\n",
    "            }\n",
    "        ],\n",
    "        'direction': 'left',\n",
    "        'pad': {'r': 10, 't': 87},\n",
    "        'showactive': False,\n",
    "        'type': 'buttons',\n",
    "        'x': 0.1,\n",
    "        'xanchor': 'right',\n",
    "        'y': 0,\n",
    "        'yanchor': 'top'\n",
    "    }\n",
    "]\n",
    "\n",
    "sliders_dict = {\n",
    "    'active': 0,\n",
    "    'yanchor': 'top',\n",
    "    'xanchor': 'left',\n",
    "    'currentvalue': {\n",
    "        'font': {'size': 20},\n",
    "        'prefix': 'Year:',\n",
    "        'visible': True,\n",
    "        'xanchor': 'right'\n",
    "    },\n",
    "    'transition': {'duration': 300, 'easing': 'cubic-in-out'},\n",
    "    'pad': {'b': 10, 't': 50},\n",
    "    'len': 0.9,\n",
    "    'x': 0.1,\n",
    "    'y': 0,\n",
    "    'steps': []\n",
    "}\n",
    "figure['layout']['title'] = ' American Revolution (1775-83) battles'\n",
    "figure['layout']['geo']  =  dict(\n",
    "        scope = 'north america',\n",
    "        showland = True,\n",
    "        landcolor = \"rgb(212, 212, 212)\",\n",
    "        subunitcolor = \"rgb(255, 255, 255)\",\n",
    "        countrycolor = \"rgb(255, 255, 255)\",\n",
    "        showlakes = True,\n",
    "        lakecolor = \"rgb(255, 255, 255)\",\n",
    "        showsubunits = True,\n",
    "        showcountries = True,\n",
    "        resolution = 50,\n",
    "        projection = dict(\n",
    "            type = 'conic conformal',\n",
    "            rotation = dict(\n",
    "                lon = -100\n",
    "            )\n",
    "        ),\n",
    "        lonaxis = dict(\n",
    "            showgrid = True,\n",
    "            gridwidth = 0.5,\n",
    "            range= [ -140.0, -55.0 ],\n",
    "            dtick = 5\n",
    "        ),\n",
    "        lataxis = dict (\n",
    "            showgrid = True,\n",
    "            gridwidth = 0.5,\n",
    "            range= [ 20.0, 60.0 ],\n",
    "            dtick = 5\n",
    "        )\n",
    ")\n",
    " \n",
    "\n",
    "year = 1774\n",
    "for victory in victories:\n",
    "    dataset_by_year = revolution_data[revolution_data['Year'] == year]\n",
    "    dataset_by_year_and_vict = dataset_by_year[dataset_by_year['Victory'] == victory]\n",
    "\n",
    "    data_dict = {\n",
    "        'type': 'scattergeo',\n",
    "        'lon': list(dataset_by_year_and_vict['lon']),\n",
    "        'lat': list(dataset_by_year_and_vict['lat']),\n",
    "        'mode': 'markers',\n",
    "        'text': list(dataset_by_year_and_vict['Battle']),\n",
    "        'marker': {\n",
    "            'size': 8, \n",
    "            'color': custom_colors[victory]\n",
    "        },\n",
    "        'name': victory,\n",
    "        'legendgroup' : 'group1'\n",
    "    }\n",
    "    figure['data'].append(data_dict)\n",
    "    \n",
    "\n",
    "for year in years:\n",
    "    frame = {'data': [], 'name': str(year)}\n",
    "    for victory in victories:\n",
    "        dataset_by_year = revolution_data[revolution_data['Year'] == year]\n",
    "        dataset_by_year_and_vict = dataset_by_year[dataset_by_year['Victory'] == victory]\n",
    "\n",
    "        data_dict = {\n",
    "            'type': 'scattergeo',\n",
    "            'lon': list(dataset_by_year_and_vict['lon']),\n",
    "            'lat': list(dataset_by_year_and_vict['lat']),\n",
    "            'mode': 'markers',\n",
    "            'text': list(dataset_by_year_and_vict['Battle']),\n",
    "            'marker': {\n",
    "                'size': 8, \n",
    "                'color': custom_colors[victory]\n",
    "            },\n",
    "            'name': victory,\n",
    "            'legendgroup' : 'group'\n",
    "        }\n",
    "        frame['data'].append(data_dict)\n",
    "\n",
    "    figure['frames'].append(frame)\n",
    "    slider_step = {'args': [\n",
    "        [year],\n",
    "        {'frame': {'duration': 300, 'redraw': False},\n",
    "         'mode': 'immediate',\n",
    "       'transition': {'duration': 300}}\n",
    "     ],\n",
    "     'label': year,\n",
    "     'method': 'animate'}\n",
    "    sliders_dict['steps'].append(slider_step)\n",
    "\n",
    "    \n",
    "figure['layout']['sliders'] = [sliders_dict]\n",
    "iplot(figure, validate=False)"
   ]
  },
  {
   "cell_type": "code",
   "execution_count": null,
   "metadata": {
    "collapsed": true
   },
   "outputs": [],
   "source": []
  }
 ],
 "metadata": {
  "kernelspec": {
   "display_name": "Python 3",
   "language": "python",
   "name": "python3"
  },
  "language_info": {
   "codemirror_mode": {
    "name": "ipython",
    "version": 3
   },
   "file_extension": ".py",
   "mimetype": "text/x-python",
   "name": "python",
   "nbconvert_exporter": "python",
   "pygments_lexer": "ipython3",
   "version": "3.6.3"
  }
 },
 "nbformat": 4,
 "nbformat_minor": 2
}
