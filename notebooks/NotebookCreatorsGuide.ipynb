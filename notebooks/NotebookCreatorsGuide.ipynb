{
 "cells": [
  {
   "cell_type": "code",
   "execution_count": null,
   "metadata": {},
   "outputs": [],
   "source": []
  },
  {
   "cell_type": "markdown",
   "metadata": {},
   "source": [
    "# Notebook Template Guide\n",
    "\n",
    "## Things to keep in mind while you're developing content\n",
    "   Every time you create a notebook for the Callysto project, it is of the utmost importance that you keep your target audience in mind. As each notebook may be aimed at a different grade/experience level, you will need to be consciously aware of that during the notebook creation process. If your notebook is meant to teach content from the fifth grade, then tailor your introductions in such a way that someone in the fifth grade can understand. Unfortunately that is not an easy task, but it is of vial importance not to \"Principal Skinner\" your notebooks:"
   ]
  },
  {
   "cell_type": "code",
   "execution_count": 1,
   "metadata": {},
   "outputs": [
    {
     "data": {
      "image/jpeg": "[encoded data removed]",
      "text/html": [
       "\n",
       "        <iframe\n",
       "            width=\"400\"\n",
       "            height=\"300\"\n",
       "            src=\"https://www.youtube.com/embed/HMqZ2PPOLik\"\n",
       "            frameborder=\"0\"\n",
       "            allowfullscreen\n",
       "        ></iframe>\n",
       "        "
      ],
      "text/plain": [
       "<IPython.lib.display.YouTubeVideo at 0x111b88be0>"
      ]
     },
     "execution_count": 1,
     "metadata": {},
     "output_type": "execute_result"
    }
   ],
   "source": [
    "from IPython.lib.display import YouTubeVideo\n",
    "YouTubeVideo('HMqZ2PPOLik')"
   ]
  },
  {
   "cell_type": "markdown",
   "metadata": {},
   "source": [
    "   As a Callysto creator, you're undoubtedly so far removed from the K-12 experience that unlike Principal Skinner: You are out of touch. Say these words out loud \"I am out of touch\". You need to keep this in mind that for every notebook you create, and adapt your writing/teaching style accordingly. Continuously ask yourself \"Would someone who knows absolutely nothing about anything contained within this topic understand the explanation I've given?\". Almost certainly, in regards to the first draft of your notebook the answer to that question will be no. Something that is now second nature to you from years of experience around either the subject matter and Python (or both), is likely to be completely foreign to a K-12 student who has never seen a line of code before. It is imperative that you are clear and explicit in your explanations - but also in a way that your audience can understand. \n",
    "   \n",
    "   ### Example... Example\n",
    "   \n",
    "   Suppose you're creating a notebook describing finding common denominators of numbers to someone in the third grade. A very bad way to describe that to someone in third grade would be:\n",
    "   > Common denominators typically of interest in many algebraic and integer functions, where integer functions $f$ have the following property\n",
    "   \\begin{equation}\n",
    "   f:  I \\rightarrow \\mathbb{Z}\n",
    "   \\end{equation}\n",
    "   Without losing generality one can state that...\n",
    "\n",
    "while a discussion at that level is acceptable at the post secondary and academic level, that sentence and notation will mean exactly nothing to someone in the third grade. At the third grade level, a more suitable way to describe common denominators may read something more like this:\n",
    "> Two fractions that have the same number on the bottom of the fraction  have a \"common denominator\" -- which means the number on the bottom of each fraction is the same. For example the fractions\n",
    "\\begin{equation}\n",
    "\\frac{10}{8} \\; \\text{ and } \\; \\frac{5}{8}\n",
    "\\end{equation}\n",
    "both have a common denominator of 8. Common denominators....\n",
    "\n",
    "\n",
    "\n",
    "Certainly, the above is an absolutely absurd example. No one would write that for a notebook meant for the third grade. However keep that example in mind for when you're writing any codes. Maybe during your discussion of common denominators, you introduce the idea of a greatest common denominator between two numbers. You might be tempted show how to find greatest common denominators using Python. Maybe you want to write a nice general function to find the greatest common denominator between two numbers, and suppose you come to the following solution:"
   ]
  },
  {
   "cell_type": "code",
   "execution_count": 2,
   "metadata": {},
   "outputs": [
    {
     "name": "stdout",
     "output_type": "stream",
     "text": [
      "1234\n"
     ]
    }
   ],
   "source": [
    "def GCD(a, b):\n",
    "    if isinstance(a, float) or isinstance(b,float):\n",
    "        print(\"Those numbers are not integers!\")\n",
    "        return None\n",
    "    \n",
    "    while b:\n",
    "        a, b = b, a % b\n",
    "    return a\n",
    "\n",
    "print(GCD(2345234523345173467867946*123412341234123412341234,12341234123412341234))"
   ]
  },
  {
   "cell_type": "markdown",
   "metadata": {},
   "source": [
    "Where for anyone with experience, that's a pretty easy code to understand. Run through a loop until `a mod b` is zero and you've the greatest common denominator.  And it works every time! There's even error handling! Over all that's a pretty versatile function, and a neat little piece of code. Not to mention we can give the students that function, and ask them to find the greatest common denominator between two numbers and write the resulting functions! \n",
    "\n",
    "But now imagine you have never seen Python before. You don't know what `def` means, you have no clue what `while` does. What is `isinstance`? What's a `float`? `if`? Why is it spaced all funny? A percent sign? All bets are off. While that is a handy function to someone with experience, much like with the math example, it's basically hieroglyphics to your audience. Even if this function was heavily commented, it would still be very unapproachable for someone in third grade. How would you you go about constructing a python example that would find greatest common divisors in Python to someone in third grade?\n",
    "\n",
    "Trick question. There isn't a great way to implement this particular example for a third grade audience. A better example might be to also introduce the idea of equivalent fractions, and ask them to find if two fractions are equivalent like so"
   ]
  },
  {
   "cell_type": "code",
   "execution_count": 3,
   "metadata": {},
   "outputs": [
    {
     "data": {
      "text/plain": [
       "True"
      ]
     },
     "execution_count": 3,
     "metadata": {},
     "output_type": "execute_result"
    }
   ],
   "source": [
    "# If you change the numbers of each fraction you can ask Python if those\n",
    "# numbers are equivalent fractions! If you press Ctrl and Enter on your \n",
    "# keyboard at the same time, the computer will run the code at the bottom\n",
    "# of this cell \n",
    "\n",
    "# If two fractions are equivalent fractions, the word \"True\" will be\n",
    "# printed under this cell, and if they're not, the word \"False\" will be printed.\n",
    "# Can you find three pairs of equivalent fractions? It might help to write them \n",
    "# down first!\n",
    "\n",
    "10/5 == 124/62"
   ]
  },
  {
   "cell_type": "markdown",
   "metadata": {},
   "source": [
    "Where that's certainly a less interesting snippet of code, it's a lot more approachable and intuitive if someone has no experience with Python, and for someone in the very early stages of elementary/middle school. \n",
    "\n",
    "With all that said: if you can create an intuitive and interesting interactive widget/visualization that requires some more \"advanced\" coding, you are absolutely free to do that. A lot of the time more interactive widgets and functionality will make explaining wht you hope to teach many times easier. In this case take advantage of the ability to hide blocks of code and only give the student access to the widget itself. \n",
    "\n",
    "### Conclusion/Take Away\n",
    "\n",
    "When you're creating notebooks for the Callysto project, you need to be hyper aware of the skill set of your audience. There will definitely be occasions where you can get more involved in the code and the explanations in cases like high school content. Even so, a lot of the people this content will be used by will have little to no experience with Python or even the subject you're trying to teach. Unfortunately that means you'll likely have to change how you typically develop content from how you normally would. Below we've summarized a few flexible guidelines for you to keep in mind while developing content\n",
    "\n",
    "1. **Keep it simple**. \n",
    "2. Depending on what you're hoping to/asked to create, you may need to write more complicated code. That's probably fine. Depending on the audience either hide it behind an interactive widget, or break it down into digestible and interactive (even if it's just running it) chunks. \n",
    "3. A simple example is almost always superior to a complicated one. Work your way up to the complicated examples.\n",
    "4. Explain with words more than you explain with code.\n",
    "5. Comment your code.\n",
    "6. Comment your code some more. \n",
    "7. If all you want is an interactive widget and not to use the code itself as a teaching tool, hide the code block from the student.\n",
    "\n",
    "In summary, be conscious of who the audience of your content will be, and don't be a Principal Skinner. \n",
    "\n",
    "\n",
    "\n",
    "## Pre-requisite notebooks?\n",
    "Do we have/need a list of pre-requisites/tell people to check for them?\n",
    "\n",
    "## Notebook Format\n",
    "\n",
    "In order to maintain a consistent format across notebooks, subjects, and authors there are some formatting and structure requirements in place, outlined below. \n",
    "\n",
    "### Lecture/Lesson-like Formats\n",
    "\n",
    "\n",
    "Your notebook is likely intended to _teach_ something new. As this is the case, your notebook should contain the following points and follow this basic structure. You're free to add subsections relevant to these primary sections where applicable, however it is important that every notebook contains these five elements. \n",
    "\n",
    "1. Introduction\n",
    " * What are you going to teach and why. \n",
    " * This section may contain background elements and subsections. \n",
    "2. Background \n",
    " * Explain the subject matter you're going to be teaching\n",
    " * This section may contain examples and subsections. \n",
    "3. Example(s) \n",
    " * Demonstrate what you've taught with analytic results, interactive widgets, animations, graphs and Python/R codes.  \n",
    " * This may also contain multiple subsections\n",
    "4. Questions\n",
    " * Ask questions to test understanding of the material you've covered and keep the student engaged.\n",
    " * Questions may be spread throughout the document.\n",
    "5. Conclusion \n",
    " * Restate important points and summarize your lesson - what did you teach and why. \n",
    "\n",
    "Where the details behind these sections are explained below.\n",
    "\n",
    "However, the basic format of the notebooks can be described as \"Describe what you're going to teach in this notebook and why, provide further details of what you said you would teach, demonstrate what you have taught, and state those facts again.\" \n",
    "\n",
    "### Introductions \n",
    "All notebooks for the Callysto project will require an introduction. In this section you will outline and motivate the content of your notebook so there is no ambiguity in regards to the content of your notebook. This is arguably the most important section of any notebook. This is the first section any student/teacher is going to read, and if your introduction is vague/bad, then the content you create is never going to get used. Below are some examples of both a bad and a good introduction\n",
    "\n",
    "##### Bad Introduction\n",
    "> In this notebook we go over how to use Python to plot functions.\n",
    "\n",
    "This introduction is bad for a lot of reasons. Most prominently is _how_ are you going to use Python functions and _why_ is it important to learn that? As a general rule, if those two questions remain unanswered, the introduction needs some work.\n",
    "\n",
    "##### Better Introduction\n",
    "\n",
    "> In this notebook we will outline the use of Python's `matplotlib` libraries in order to create graphs of both data and functions. As creating graphs easily and flexibly is required for almost any serious analysis or study, it's important to understand how to use `matplotlib`. First we will outline some basic functionality of the `matplotlib` library in order to create some basic scatter plots of open source data. Once we're more comfortable with the use of `matplotlib` we will then introduce Python functions and how they can be used to plot mathematical functions using `matplotlib`. Finally, we will combine the two ideas and show you how to plot a scatter plot of data, as well as overlay a theoretical curve on that graph in order to test our model. Once you've worked your way through this notebook, you should be able to apply what you've learned to different data sets and functions.\n",
    "\n",
    "This introduction is far superior to the last one. Not only have we introduced _what_ we're doing we've also introduced _why_ we're doing it, as well as given an overview of the topic we're going to cover. Your introduction should essentially act to both motivate the contents of the notebook, and act as a guide of what the notebook is going to cover.\n",
    "\n",
    "##### A Brief Note on \"Eye Catching\"\n",
    "\n",
    "From conversations with K-12 teachers is that it may be useful to have an \"eye catching\" graphic in the first few lines in order to draw in your K-12 crowd. This is pretty flexible and can range from either a widget that you're going to go over how to build, to relevant YouTube videos or gifs. For example\n",
    "\n",
    "> ## Introduction\n",
    "The rise of cryogenic technologies have been largely popularized by the work of one Philip J. Fry:\n",
    "![alt text](https://media.giphy.com/media/ny8F1nqXDKrAY/giphy.gif) \n",
    "Where his groundbreaking work demonstrated the use of cryogenic freezing as a method of paradox-free unidirectional time travel... \n",
    "\n",
    "may suffice as the first two sentences of an introduction. In this case, the \"Eye Catching\" graphic does **not** replace your introduction, it is simply **in addition**, or supplementary, to your introduction.\n",
    "\n",
    "\n",
    "\n",
    "\n",
    "### Background and Examples\n",
    "\n",
    "In principle a lot of the back ground can be included in the introduction, however sometimes it may be easier to write as its own section inter-weaved with various examples. With the flexibility that a Jupyter notebook provides it becomes very easy to \"teach by example\". Not only that, but we can make those examples interactive. The game you have to play in these sections is to not only explain the subject matter, but to also come up with some level of interactivity or visualization that will supplement the lesson. Your goal as a Callysto creator will be to demonstrate the subject matter you wish to teach by using interactive examples. See the examples below\n",
    "\n",
    "##### Bad Example\n",
    "If this was a crusty old textbook on introductory statistics, we might have an explanation and example something like this\n",
    "\n",
    "\n",
    "> A coin toss has a fifty percent probability to return either heads or tails. However, this does not necessarily  translate into returning an equal number of heads and tails during experiment! For example, see th results of the Table below where in we flipped a coin some dozens of times\n",
    "\n",
    "> | Number of Trials   |      Head Count      |  Tail Count |\n",
    "|----------|:-------------:|------:|\n",
    "| 10 |  3 | 7 |\n",
    "| 100 |    58   |   42 |\n",
    "|100000 |50203 |    49797 |\n",
    "\n",
    "> Peculiar! Notice how we don't get exactly a 50/50 split? Do these results agree with what you'd expect? Let's introduce some equations that will help explain why...\n",
    "\n",
    "\n",
    "\n",
    "Now to be fair that started strong. It talked about the intuitive probability behind a coin toss, as well as the idea of statistical fluctuation. However, it then demonstrates that with a boring and perhaps confusing table. With Jupyter notebooks, we have the flexibility to create something more interactive such as below\n",
    "\n",
    "##### Better Example\n",
    "\n",
    "> A coin toss has a fifty percent probability to return either heads or tails. However, if we were to flip a coin 100 times would we expect an equal number of heads and tails? Try it out! Click \"Toss those coins\" on the widget below in order to simulate some coin tosses"
   ]
  },
  {
   "cell_type": "code",
   "execution_count": 8,
   "metadata": {},
   "outputs": [
    {
     "data": {
      "text/html": [
       "<script>\n",
       "code_show=true; \n",
       "function code_toggle() {\n",
       "    if (code_show){\n",
       "        $('div.cell.code_cell.rendered.selected div.input').hide();\n",
       "    } else {\n",
       "        $('div.cell.code_cell.rendered.selected div.input').show();\n",
       "    }\n",
       "    code_show = !code_show\n",
       "} \n",
       "$( document ).ready(code_toggle);\n",
       "</script>\n",
       "To show/hide this cell's raw code input, click <a href=\"javascript:code_toggle()\">here</a>."
      ],
      "text/plain": [
       "<IPython.core.display.HTML object>"
      ]
     },
     "metadata": {},
     "output_type": "display_data"
    }
   ],
   "source": [
    "# If you can see this code please run it in order to hide this. \n",
    "# I mean you can keep it if you want, but it kind of distracts from the point.\n",
    "\n",
    "# I note that once we have a directory structure we're happy with, this will likely get\n",
    "# replaced with an import statement. But for now, it gets a nice cell to confuse everyone.\n",
    "\n",
    "from IPython.display import HTML\n",
    "from IPython.display import display\n",
    "\n",
    "# Taken from https://stackoverflow.com/questions/31517194/how-to-hide-one-specific-cell-input-or-output-in-ipython-notebook\n",
    "tag = HTML('''<script>\n",
    "code_show=true; \n",
    "function code_toggle() {\n",
    "    if (code_show){\n",
    "        $('div.cell.code_cell.rendered.selected div.input').hide();\n",
    "    } else {\n",
    "        $('div.cell.code_cell.rendered.selected div.input').show();\n",
    "    }\n",
    "    code_show = !code_show\n",
    "} \n",
    "$( document ).ready(code_toggle);\n",
    "</script>\n",
    "To show/hide this cell's raw code input, click <a href=\"javascript:code_toggle()\">here</a>.''')\n",
    "display(tag)\n",
    "\n",
    "import random\n",
    "%matplotlib inline\n",
    "import matplotlib as mpl\n",
    "import numpy as np\n",
    "import matplotlib.pyplot as plt \n",
    "import IPython\n",
    "from IPython import display \n",
    "from ipywidgets import widgets\n",
    "from ipywidgets import interactive\n",
    "        \n",
    "# Create buttons and widgets \n",
    "start_button = widgets.Button(description = \"Toss those coins\")\n",
    "\n",
    "flips = widgets.IntSlider(value = 100, min=10, max = 100000, description=\"Trials\")\n",
    "prob = widgets.FloatSlider(value = 0.5, min = 0.0, max = 1.0, description = \"Head Probability\")\n",
    "step = widgets.FloatSlider(value = 5, min = 5, max = 100000, description = \"Plot step\")\n",
    "                              \n",
    "# define a coin tossing function\n",
    "\n",
    "def CoinToss(flips, prob_heads):\n",
    "    # initialize plot\n",
    "    fig = plt.gcf()\n",
    "    fig.show()\n",
    "    fig.canvas.draw()\n",
    "    plt.style.use('ggplot')\n",
    "    \n",
    "    head_count = 0\n",
    "    tail_count = 0\n",
    "    run = 0\n",
    "    \n",
    "    # Don't want to animate every flip because it would take too long\n",
    "    # this way we only have to animate 100 frames, which is nice. \n",
    "    plot_step = 0.05 * flips\n",
    "   \n",
    "    for i in range(flips):\n",
    "        # Thhese five lines are identical to the \n",
    "        # snippet shown earlier, except now we're counting instead. \n",
    "        r = random.uniform(0,1)\n",
    "        if r > prob_heads:\n",
    "            tail_count += 1\n",
    "        else:\n",
    "            head_count += 1\n",
    "            \n",
    "        run += 1  \n",
    "        # Don't want to plot every frame because it would be\n",
    "        # way too slow. \"buffer\" it by only plotting so many \n",
    "        # and the last one \n",
    "        if run >= plot_step or i == flips-1:  \n",
    "            \n",
    "            # This is just for plotting, no actual coin flipping\n",
    "            # is done in this section. \n",
    "            plt.gca().cla() \n",
    "        \n",
    "            plt.ylim([0, flips*max(prob_heads, 1-prob_heads) + flips/4])\n",
    "            plt.ylabel(\"Count\")\n",
    "            plt.xticks(np.array([1,2]),[\"Heads\", \"Tails\"])\n",
    "            plt.bar([1,2],[head_count, tail_count],align='center')\n",
    "            plt.title(' '.join([\"Trial Number: \", str(i+1)]))\n",
    "            \n",
    "            # Put counts and percentages above the plot as its animated\n",
    "            plt.text(1-.2, head_count + .01*head_count, \n",
    "                     str(head_count)+ \" (\" + str(round(head_count/flips*100,2)) + \" %)\",\n",
    "                      fontweight='bold')\n",
    "            \n",
    "            plt.text(2-.2, tail_count + .01*tail_count, \n",
    "                     str(tail_count)+ \" (\" + str(round(tail_count/flips*100,2)) + \" %)\",\n",
    "                      fontweight='bold')\n",
    "            # This helps us get ready for the creation of the new frame\n",
    "            display.clear_output(wait=True)\n",
    "            display.display(plt.gcf()) \n",
    "            # reset counter for if we want to plot or not\n",
    "            run = 0\n",
    "\n",
    "\n",
    "    display.clear_output(wait=True)\n",
    "\n",
    "# If we do it this way we don't have to deal with \n",
    "# the widget refreshing everytime someone adjusts a slider \n",
    "def PlotCase(b):\n",
    "    CoinToss(flips.value, prob.value)\n",
    "    IPython.display.display(flips,prob, start_button)\n",
    "\n",
    "\n",
    "\n",
    "start_button.on_click(PlotCase)\n",
    "\n",
    "\n",
    "# This is because I didn't want to initialize a blank plot. \n",
    "# Please ignore bad coding practice. \n",
    "import warnings\n",
    "warnings.filterwarnings('ignore')"
   ]
  },
  {
   "cell_type": "code",
   "execution_count": 9,
   "metadata": {},
   "outputs": [
    {
     "data": {
      "application/vnd.jupyter.widget-view+json": {
       "model_id": "5515c0e4f8a840c2b18bb500a17e6b90",
       "version_major": 2,
       "version_minor": 0
      },
      "text/html": [
       "<p>Failed to display Jupyter Widget of type <code>IntSlider</code>.</p>\n",
       "<p>\n",
       "  If you're reading this message in the Jupyter Notebook or JupyterLab Notebook, it may mean\n",
       "  that the widgets JavaScript is still loading. If this message persists, it\n",
       "  likely means that the widgets JavaScript library is either not installed or\n",
       "  not enabled. See the <a href=\"https://ipywidgets.readthedocs.io/en/stable/user_install.html\">Jupyter\n",
       "  Widgets Documentation</a> for setup instructions.\n",
       "</p>\n",
       "<p>\n",
       "  If you're reading this message in another frontend (for example, a static\n",
       "  rendering on GitHub or <a href=\"https://nbviewer.jupyter.org/\">NBViewer</a>),\n",
       "  it may mean that your frontend doesn't currently support widgets.\n",
       "</p>\n"
      ],
      "text/plain": [
       "IntSlider(value=10, description='Trials', max=100000, min=10)"
      ]
     },
     "metadata": {},
     "output_type": "display_data"
    },
    {
     "data": {
      "application/vnd.jupyter.widget-view+json": {
       "model_id": "0dda21e363534cbd9ae579ba5597c238",
       "version_major": 2,
       "version_minor": 0
      },
      "text/html": [
       "<p>Failed to display Jupyter Widget of type <code>FloatSlider</code>.</p>\n",
       "<p>\n",
       "  If you're reading this message in the Jupyter Notebook or JupyterLab Notebook, it may mean\n",
       "  that the widgets JavaScript is still loading. If this message persists, it\n",
       "  likely means that the widgets JavaScript library is either not installed or\n",
       "  not enabled. See the <a href=\"https://ipywidgets.readthedocs.io/en/stable/user_install.html\">Jupyter\n",
       "  Widgets Documentation</a> for setup instructions.\n",
       "</p>\n",
       "<p>\n",
       "  If you're reading this message in another frontend (for example, a static\n",
       "  rendering on GitHub or <a href=\"https://nbviewer.jupyter.org/\">NBViewer</a>),\n",
       "  it may mean that your frontend doesn't currently support widgets.\n",
       "</p>\n"
      ],
      "text/plain": [
       "FloatSlider(value=0.5, description='Head Probability', max=1.0)"
      ]
     },
     "metadata": {},
     "output_type": "display_data"
    },
    {
     "data": {
      "application/vnd.jupyter.widget-view+json": {
       "model_id": "73f0082c4f814a1a83a1b3937f60a9cd",
       "version_major": 2,
       "version_minor": 0
      },
      "text/html": [
       "<p>Failed to display Jupyter Widget of type <code>Button</code>.</p>\n",
       "<p>\n",
       "  If you're reading this message in the Jupyter Notebook or JupyterLab Notebook, it may mean\n",
       "  that the widgets JavaScript is still loading. If this message persists, it\n",
       "  likely means that the widgets JavaScript library is either not installed or\n",
       "  not enabled. See the <a href=\"https://ipywidgets.readthedocs.io/en/stable/user_install.html\">Jupyter\n",
       "  Widgets Documentation</a> for setup instructions.\n",
       "</p>\n",
       "<p>\n",
       "  If you're reading this message in another frontend (for example, a static\n",
       "  rendering on GitHub or <a href=\"https://nbviewer.jupyter.org/\">NBViewer</a>),\n",
       "  it may mean that your frontend doesn't currently support widgets.\n",
       "</p>\n"
      ],
      "text/plain": [
       "Button(description='Toss those coins', style=ButtonStyle())"
      ]
     },
     "metadata": {},
     "output_type": "display_data"
    },
    {
     "data": {
      "image/png": "[encoded data removed]",
      "text/plain": [
       "<matplotlib.figure.Figure at 0x113b77be0>"
      ]
     },
     "metadata": {},
     "output_type": "display_data"
    }
   ],
   "source": [
    "IPython.display.display(flips, prob, start_button)"
   ]
  },
  {
   "cell_type": "markdown",
   "metadata": {},
   "source": [
    "> Now try adjusting the \"Head Prob...\" slider for biased coins! Do the results agree with what you'd expect? Let's introduce some equations that will help explain why... \n",
    "\n",
    "Notice how now we have something interactive such that the student is free to run as many trials as they like in order to help understand the process. Not to mention that as we've run away from the table format, we were also free to introduce the idea of biased coins. \n",
    "\n",
    "Essentially the name of the game is interactivity and demonstrations. If there's a way for you to explain/visualize your content in an interactive way, it is strongly encouraged that you do that. Of course the code for the interactivity may get complicated. That's okay. Feel free to to take advantage of the ability to hide blocks of code for the interactive widgets if that code went \"out of scope\" of what you're hoping to teach. However, it is important that you comment those codes well in case a teacher/student is curious about the underlying structure of those widgets. \n",
    "\n",
    "\n",
    "Regardless, within the Jupyter notebooks you create you need to explain the background/provide examples and interactivity that will help you teach the subject matter to the students. And if that wasn't challenging enough, you have to find a way to communicate that in a way that is understandable to your K-12 audience. \n",
    "\n",
    "\n",
    "\n"
   ]
  },
  {
   "cell_type": "markdown",
   "metadata": {},
   "source": [
    "### Questions\n",
    "\n",
    "By asking questions about the lesson you're teaching throughout the notebook you will keep the students engaged and thinking about the content you have created. This will also help with the adoption of your content in the classroom as it will have more of a textbook/assignment feel. As an added bonus, the questions you're asking is a great way to test the quality of your explanations and content. Does the answer to the question you've asked not naturally develop form your explanations and examples? If not, you might consider refining your explanations such that no one can read one of your questions and react with complete bewilderment. As well, these questions can be open-ended and need not always be quantitative. Using this document as an example, some examples of bad and good questions are as follows\n",
    "\n",
    "##### Bad Question \n",
    "> Why is whoever wrote this notebook so adamant about showing us good and bad examples? Why don't they just get on with it?\n",
    "\n",
    "This is a bad question because no where in the document have we discussed why I'm showing you so many examples, I've just been doing it. In this case, you the student, have no context or prior knowledge of this question, making it unfair and difficult to answer. \n",
    "\n",
    "##### Better Question \n",
    "> Does this notebook try to use both interactivity and examples as a teaching tool? Where was it successful and where was it not?\n",
    "\n",
    "This is a better question as the notebook itself has provided you with the tools to answer this question yourself. Actually it would be great to get feedback on this question in order to improve this template.\n",
    "\n",
    "\n",
    "\n",
    "\n",
    "### Conclusions\n",
    "No notebook is complete without a conclusion. In this section you will summarize what you taught in the notebook, and how it might be useful in the future. This section not only helps \"end\" the notebook in a way that reiterates important points to the student, but it also acts as a sanity check for you to make sure you covered everything you wanted to. For example, back to our `matplotlib` introduction example, a bad conclusion would be \n",
    "\n",
    "##### Bad Conclusion\n",
    "> This notebook showed you how to use `matplotlib`.\n",
    "\n",
    "First and foremost, a conclusion is not a sentence. This conclusion tells you nothing. What is the takeaway from a notebook has tried to teach? Why is it useful? \n",
    "\n",
    "##### Better Conclusion\n",
    "> This notebook has demonstrated some of the basics of the `matplotlib` library and Python functions in order to create graphs of both data and functions. We covered the basic syntax of `matpotlib` in order to create scatter plots, as well as how to use Python functions in order to visualize the trace of mathematical functions. This introduction will help you create your own graphics for other research projects, and should help you be prepared for more complicated visualizations in the future such as three dimensional plots and animations. \n",
    "\n",
    "This is a lot better. Not only does it tell you what we learned in our theoretical notebook (notice how it parrots the introduction), it also tells you how this notebook will be useful in the future. A conclusion like this not only wraps up the lesson, it also lays out potential future learning objectives. \n",
    "\n",
    "\n",
    "\n",
    "### Conclusion \n",
    "\n",
    "In conclusion the basic outline of a notebook for Callysto is as follows\n",
    "\n",
    "1. Introduction and Background\n",
    " * Describe what your notebook discusses and give some background information. \n",
    " * Be sure to include an \"Eye Catching\" graphic in the beginning of the notebook. \n",
    "2. Examples \n",
    " * Teach the content you mentioned in your introduction. Use interactive widgets and animations to help \"teach by example\". Where applicable also use Python/R examples. \n",
    "3. Include questions throughout/in its own section in order to engage the student/make it easier for a teacher to use your notebook. \n",
    "4. Conclusion\n",
    "* Reiterate important learning objectives that you covered and explain where this knowledge is helpful. \n",
    "\n",
    "There is quite a lot of freedom surrounding these points/how you end up organizing things that will certainly depend notebook to notebook. However, these four main points are required to be covered in every notebook. Any notebook that does not contain these elements will be considered incomplete. "
   ]
  }
 ],
 "metadata": {
  "kernelspec": {
   "display_name": "Python 3",
   "language": "python",
   "name": "python3"
  },
  "language_info": {
   "codemirror_mode": {
    "name": "ipython",
    "version": 3
   },
   "file_extension": ".py",
   "mimetype": "text/x-python",
   "name": "python",
   "nbconvert_exporter": "python",
   "pygments_lexer": "ipython3",
   "version": "3.6.4"
  }
 },
 "nbformat": 4,
 "nbformat_minor": 2
}
