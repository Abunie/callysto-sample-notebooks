{
 "cells": [
  {
   "cell_type": "markdown",
   "metadata": {},
   "source": [
    "<img width=\"100%\" src=\"callystoBannerTop.jpg\"/>"
   ]
  },
  {
   "cell_type": "markdown",
   "metadata": {},
   "source": [
    "# For Teachers\n",
    "**Delete this portion before handing over to students:**<br>\n",
    "**if you want to change / personalize one of the practice questions and need to change the answer, uncomment the print statement in the check_answer function in any of the \"# ANSWER HANDLING.\" cells, type your desired answer into the text field, and copy the outputted hash into the 'answer' variable.**"
   ]
  },
  {
   "cell_type": "markdown",
   "metadata": {},
   "source": [
    "# Overview\n",
    "In this notebook, we will introduce the concept standard deviation and how to calculate variance. We are expecting that the students understand square roots and mean calculation. Note that this module is an optional extension and is not necessary to meet any curriculum outcomes.\n",
    "\n",
    " "
   ]
  },
  {
   "cell_type": "markdown",
   "metadata": {},
   "source": [
    "# Introduction\n",
    "The average female 3 year old is 94cm tall. If the day care has 30 three-year-old girls, would they all be the same height? No, because heights vary from the average. But by how much? If heights are so varied, how can we use this average to determine whether a child is healthy? Is the relationship between height and age really that distinct? We can ask so many questions about data like this. And our first step to gaining answers is learning about standard deviation. "
   ]
  },
  {
   "cell_type": "markdown",
   "metadata": {},
   "source": [
    "# Table of Contents\n",
    "I. <a href = \"#sd\"> What is Standard Deviation </a> <br>\n",
    "II. <a href = \"#var\"> Variance </a> <br>\n",
    "III. <a href =\"#exercise\"> Exercise </a> <br>\n",
    "IV. <a href = \"#samples\"> Standard Deviation of Samples </a> <br>\n",
    "V. <a href = \"#summary\"> Summary </a> <br>\n",
    "VI. <a href = \"#concl\"> Conclusion </a> <br>"
   ]
  },
  {
   "cell_type": "markdown",
   "metadata": {},
   "source": [
    "<h1><a name=\"sd\" style=\"text-decoration: none; color: black;\">What is Standard Deviation?</a></h1>\n",
    "\n",
    "The standard deviation of a graphed relationship is key to understanding the significance of the relationship and determining the strength of the relationship. Standard deviation measures the spread of each data point from the mean value.\n",
    "\n",
    "Don't worry too much about the code below, just run it and observe the graph below. Notice how the data doesn't form a perfect line, yet the relationship between pressure and volume is clearly defined? This is because the values are spread out over a specific standard deviation around the mean line. "
   ]
  },
  {
   "cell_type": "code",
   "execution_count": 2,
   "metadata": {},
   "outputs": [],
   "source": [
    "# Change the variables in this cell to create your own experiment!\n",
    "\n",
    "# Max volume in liters.\n",
    "volume = 6\n",
    "\n",
    "# Number of trials.\n",
    "N = 100"
   ]
  },
  {
   "cell_type": "code",
   "execution_count": 3,
   "metadata": {},
   "outputs": [
    {
     "data": {
      "text/html": [
       "<script>requirejs.config({paths: { 'plotly': ['https://cdn.plot.ly/plotly-latest.min']},});if(!window.Plotly) {{require(['plotly'],function(plotly) {window.Plotly=plotly;});}}</script>"
      ],
      "text/vnd.plotly.v1+html": [
       "<script>requirejs.config({paths: { 'plotly': ['https://cdn.plot.ly/plotly-latest.min']},});if(!window.Plotly) {{require(['plotly'],function(plotly) {window.Plotly=plotly;});}}</script>"
      ]
     },
     "metadata": {},
     "output_type": "display_data"
    },
    {
     "data": {
      "application/vnd.plotly.v1+json": {
       "data": [
        {
         "mode": "markers",
         "type": "scatter",
         "uid": "a7f06598-8e91-11e8-bebe-28cfe9142f7f",
         "x": [
          4.601549464872159,
          1.7425222355752736,
          5.897168536332921,
          5.5356150665319515,
          5.7573935713715665,
          3.928534258191827,
          2.8080846797811194,
          1.677593576066821,
          5.295820529620556,
          3.2670827547335666,
          0.6579208439561991,
          1.2498838777383203,
          1.052386979569736,
          1.6441117833995302,
          5.902624288987854,
          4.948687297245588,
          1.6918810923089709,
          5.119455228739002,
          5.497153751814294,
          0.7777544285146624,
          0.9715108243795656,
          5.190143209375015,
          3.6969602074738543,
          5.1658761337300065,
          0.48253728989117284,
          0.476397176379993,
          1.2259772390880248,
          2.2042307799903926,
          2.3277060010615833,
          0.9420406886382093,
          5.158284340632363,
          5.848641965636619,
          2.228658601532891,
          4.348555950980878,
          2.416539198374246,
          1.350130681631524,
          5.082073263061823,
          1.4254648325577608,
          4.87859294627947,
          4.950768491381894,
          3.8462983462423517,
          0.7364854096892974,
          5.771026761645195,
          4.9339538996545045,
          5.282873309119168,
          5.091604279996861,
          2.1861363208052618,
          4.902946684512933,
          3.268260095741814,
          0.7509041277884416,
          1.0534610852874873,
          4.228578486329645,
          2.8263417716635577,
          2.3025077867254047,
          0.9804435532274532,
          5.909677234183301,
          3.827306856156373,
          4.715956887545478,
          3.0644498183691025,
          3.6276158536034737,
          3.528660397601718,
          1.0263955083698046,
          3.2747566027702346,
          0.5123845944898118,
          1.912229427951415,
          5.347927697714509,
          4.92158053004905,
          5.922377454483496,
          5.387415239917254,
          5.157526588284794,
          4.019011604985542,
          0.37496288247368925,
          1.8206964244185848,
          4.737319431267305,
          3.832312139362762,
          5.427861631865686,
          0.12449122605386173,
          2.030042094020199,
          4.724681627859729,
          4.239694149260299,
          3.7966657314389973,
          4.637351929178021,
          2.4822997649570984,
          3.816954957579835,
          0.8714372134673305,
          4.245768436753067,
          4.943462985980305,
          1.4446148773272232,
          1.5265789220645103,
          5.912079829618197,
          3.7518707228743096,
          2.923941276228778,
          0.4196018015814641,
          4.409687190079371,
          0.29295356921846255,
          0.6754781223708282,
          5.299444668536237,
          3.8022771538209637,
          1.6760456129891144,
          5.942223150408411
         ],
         "y": [
          0.20323236809037962,
          0.5315139192715103,
          0.07362001922860906,
          0.2048931849967706,
          0.2897852213629973,
          0.119607421645569,
          0.33607446088781173,
          0.638864399278467,
          0.02681238774098736,
          0.38123383221738116,
          1.2650304595013397,
          0.9150256101853848,
          1.1967932739582814,
          0.6426388394743652,
          0.20004582189670678,
          0.3017581457406824,
          0.5939964493508457,
          0.3188191521913687,
          0.29931007863960385,
          1.2167830576490573,
          1.1440050794935708,
          0.09347683523366722,
          0.22344092672492608,
          0.18272709686435085,
          2.5066242944388515,
          2.2753701599896887,
          0.7762652278962995,
          0.4630083342636737,
          0.40840866066621206,
          1.0562275157220133,
          0.11786890838262626,
          0.1354419062321264,
          0.4069738839685486,
          0.08612516360236927,
          0.2810265510651516,
          0.7555946400702765,
          0.28710941419590663,
          0.759739178193594,
          0.1273918982937004,
          0.2461878876852097,
          0.3478002645804359,
          1.4764018136468344,
          0.014452764681710181,
          0.04307237083363444,
          0.044971540902327675,
          0.22452739675491565,
          0.2329949342712449,
          0.21177576179121588,
          0.37356093845661986,
          1.4903905828896662,
          0.9421509331794565,
          0.33598312229049876,
          0.4224225029987101,
          0.4793305120483694,
          0.8970301563190519,
          0.23228643497522927,
          0.11979501970994288,
          0.2256326085413238,
          0.4869679039211823,
          0.28571043156393305,
          0.2358726326123399,
          0.9588721005160064,
          0.3321503492037362,
          1.8902025747722553,
          0.5083317589666303,
          0.12906769754932176,
          0.2515140219619548,
          0.09935225234388241,
          0.2944602040432956,
          0.19008544129496838,
          0.2629268692316534,
          2.159507449009355,
          0.5101144973708114,
          0.20552996749377972,
          0.23417233577703456,
          0.21882642176306075,
          4.559096399569597,
          0.5220987140084064,
          0.23435370226404906,
          0.23869253173335456,
          0.3668481390209137,
          0.24238856936438313,
          0.49337294205723936,
          0.3023777937505012,
          1.1253721349144654,
          0.28880814398899307,
          0.23094775087239006,
          0.5835566658604799,
          0.6787166346610843,
          0.00897489384576499,
          0.3388298975968671,
          0.3776341685284862,
          2.0148090099738,
          0.042245731169765426,
          2.285774665106062,
          1.4416805840325406,
          0.13486471707872472,
          0.0996394095890705,
          0.7718017284002483,
          0.18504950071376483
         ]
        }
       ],
       "layout": {
        "title": "Pressure vs. Volume",
        "xaxis": {
         "title": "Volume"
        },
        "yaxis": {
         "title": "Pressure"
        }
       }
      },
      "text/html": [
       "<div id=\"7e167973-c8e2-40a9-966e-46e7aab61b62\" style=\"height: 525px; width: 100%;\" class=\"plotly-graph-div\"></div><script type=\"text/javascript\">require([\"plotly\"], function(Plotly) { window.PLOTLYENV=window.PLOTLYENV || {};window.PLOTLYENV.BASE_URL=\"https://plot.ly\";\n",
       "        Plotly.plot(\n",
       "            '7e167973-c8e2-40a9-966e-46e7aab61b62',\n",
       "            [{\"mode\": \"markers\", \"x\": [4.601549464872159, 1.7425222355752736, 5.897168536332921, 5.5356150665319515, 5.7573935713715665, 3.928534258191827, 2.8080846797811194, 1.677593576066821, 5.295820529620556, 3.2670827547335666, 0.6579208439561991, 1.2498838777383203, 1.052386979569736, 1.6441117833995302, 5.902624288987854, 4.948687297245588, 1.6918810923089709, 5.119455228739002, 5.497153751814294, 0.7777544285146624, 0.9715108243795656, 5.190143209375015, 3.6969602074738543, 5.1658761337300065, 0.48253728989117284, 0.476397176379993, 1.2259772390880248, 2.2042307799903926, 2.3277060010615833, 0.9420406886382093, 5.158284340632363, 5.848641965636619, 2.228658601532891, 4.348555950980878, 2.416539198374246, 1.350130681631524, 5.082073263061823, 1.4254648325577608, 4.87859294627947, 4.950768491381894, 3.8462983462423517, 0.7364854096892974, 5.771026761645195, 4.9339538996545045, 5.282873309119168, 5.091604279996861, 2.1861363208052618, 4.902946684512933, 3.268260095741814, 0.7509041277884416, 1.0534610852874873, 4.228578486329645, 2.8263417716635577, 2.3025077867254047, 0.9804435532274532, 5.909677234183301, 3.827306856156373, 4.715956887545478, 3.0644498183691025, 3.6276158536034737, 3.528660397601718, 1.0263955083698046, 3.2747566027702346, 0.5123845944898118, 1.912229427951415, 5.347927697714509, 4.92158053004905, 5.922377454483496, 5.387415239917254, 5.157526588284794, 4.019011604985542, 0.37496288247368925, 1.8206964244185848, 4.737319431267305, 3.832312139362762, 5.427861631865686, 0.12449122605386173, 2.030042094020199, 4.724681627859729, 4.239694149260299, 3.7966657314389973, 4.637351929178021, 2.4822997649570984, 3.816954957579835, 0.8714372134673305, 4.245768436753067, 4.943462985980305, 1.4446148773272232, 1.5265789220645103, 5.912079829618197, 3.7518707228743096, 2.923941276228778, 0.4196018015814641, 4.409687190079371, 0.29295356921846255, 0.6754781223708282, 5.299444668536237, 3.8022771538209637, 1.6760456129891144, 5.942223150408411], \"y\": [0.20323236809037962, 0.5315139192715103, 0.07362001922860906, 0.2048931849967706, 0.2897852213629973, 0.119607421645569, 0.33607446088781173, 0.638864399278467, 0.02681238774098736, 0.38123383221738116, 1.2650304595013397, 0.9150256101853848, 1.1967932739582814, 0.6426388394743652, 0.20004582189670678, 0.3017581457406824, 0.5939964493508457, 0.3188191521913687, 0.29931007863960385, 1.2167830576490573, 1.1440050794935708, 0.09347683523366722, 0.22344092672492608, 0.18272709686435085, 2.5066242944388515, 2.2753701599896887, 0.7762652278962995, 0.4630083342636737, 0.40840866066621206, 1.0562275157220133, 0.11786890838262626, 0.1354419062321264, 0.4069738839685486, 0.08612516360236927, 0.2810265510651516, 0.7555946400702765, 0.28710941419590663, 0.759739178193594, 0.1273918982937004, 0.2461878876852097, 0.3478002645804359, 1.4764018136468344, 0.014452764681710181, 0.04307237083363444, 0.044971540902327675, 0.22452739675491565, 0.2329949342712449, 0.21177576179121588, 0.37356093845661986, 1.4903905828896662, 0.9421509331794565, 0.33598312229049876, 0.4224225029987101, 0.4793305120483694, 0.8970301563190519, 0.23228643497522927, 0.11979501970994288, 0.2256326085413238, 0.4869679039211823, 0.28571043156393305, 0.2358726326123399, 0.9588721005160064, 0.3321503492037362, 1.8902025747722553, 0.5083317589666303, 0.12906769754932176, 0.2515140219619548, 0.09935225234388241, 0.2944602040432956, 0.19008544129496838, 0.2629268692316534, 2.159507449009355, 0.5101144973708114, 0.20552996749377972, 0.23417233577703456, 0.21882642176306075, 4.559096399569597, 0.5220987140084064, 0.23435370226404906, 0.23869253173335456, 0.3668481390209137, 0.24238856936438313, 0.49337294205723936, 0.3023777937505012, 1.1253721349144654, 0.28880814398899307, 0.23094775087239006, 0.5835566658604799, 0.6787166346610843, 0.00897489384576499, 0.3388298975968671, 0.3776341685284862, 2.0148090099738, 0.042245731169765426, 2.285774665106062, 1.4416805840325406, 0.13486471707872472, 0.0996394095890705, 0.7718017284002483, 0.18504950071376483], \"type\": \"scatter\", \"uid\": \"a7f06598-8e91-11e8-bebe-28cfe9142f7f\"}],\n",
       "            {\"title\": \"Pressure vs. Volume\", \"xaxis\": {\"title\": \"Volume\"}, \"yaxis\": {\"title\": \"Pressure\"}},\n",
       "            {\"showLink\": true, \"linkText\": \"Export to plot.ly\"}\n",
       "        ).then(function () {return Plotly.addFrames('7e167973-c8e2-40a9-966e-46e7aab61b62',{});}).then(function(){Plotly.animate('7e167973-c8e2-40a9-966e-46e7aab61b62');})\n",
       "        });</script>"
      ],
      "text/vnd.plotly.v1+html": [
       "<div id=\"7e167973-c8e2-40a9-966e-46e7aab61b62\" style=\"height: 525px; width: 100%;\" class=\"plotly-graph-div\"></div><script type=\"text/javascript\">require([\"plotly\"], function(Plotly) { window.PLOTLYENV=window.PLOTLYENV || {};window.PLOTLYENV.BASE_URL=\"https://plot.ly\";\n",
       "        Plotly.plot(\n",
       "            '7e167973-c8e2-40a9-966e-46e7aab61b62',\n",
       "            [{\"mode\": \"markers\", \"x\": [4.601549464872159, 1.7425222355752736, 5.897168536332921, 5.5356150665319515, 5.7573935713715665, 3.928534258191827, 2.8080846797811194, 1.677593576066821, 5.295820529620556, 3.2670827547335666, 0.6579208439561991, 1.2498838777383203, 1.052386979569736, 1.6441117833995302, 5.902624288987854, 4.948687297245588, 1.6918810923089709, 5.119455228739002, 5.497153751814294, 0.7777544285146624, 0.9715108243795656, 5.190143209375015, 3.6969602074738543, 5.1658761337300065, 0.48253728989117284, 0.476397176379993, 1.2259772390880248, 2.2042307799903926, 2.3277060010615833, 0.9420406886382093, 5.158284340632363, 5.848641965636619, 2.228658601532891, 4.348555950980878, 2.416539198374246, 1.350130681631524, 5.082073263061823, 1.4254648325577608, 4.87859294627947, 4.950768491381894, 3.8462983462423517, 0.7364854096892974, 5.771026761645195, 4.9339538996545045, 5.282873309119168, 5.091604279996861, 2.1861363208052618, 4.902946684512933, 3.268260095741814, 0.7509041277884416, 1.0534610852874873, 4.228578486329645, 2.8263417716635577, 2.3025077867254047, 0.9804435532274532, 5.909677234183301, 3.827306856156373, 4.715956887545478, 3.0644498183691025, 3.6276158536034737, 3.528660397601718, 1.0263955083698046, 3.2747566027702346, 0.5123845944898118, 1.912229427951415, 5.347927697714509, 4.92158053004905, 5.922377454483496, 5.387415239917254, 5.157526588284794, 4.019011604985542, 0.37496288247368925, 1.8206964244185848, 4.737319431267305, 3.832312139362762, 5.427861631865686, 0.12449122605386173, 2.030042094020199, 4.724681627859729, 4.239694149260299, 3.7966657314389973, 4.637351929178021, 2.4822997649570984, 3.816954957579835, 0.8714372134673305, 4.245768436753067, 4.943462985980305, 1.4446148773272232, 1.5265789220645103, 5.912079829618197, 3.7518707228743096, 2.923941276228778, 0.4196018015814641, 4.409687190079371, 0.29295356921846255, 0.6754781223708282, 5.299444668536237, 3.8022771538209637, 1.6760456129891144, 5.942223150408411], \"y\": [0.20323236809037962, 0.5315139192715103, 0.07362001922860906, 0.2048931849967706, 0.2897852213629973, 0.119607421645569, 0.33607446088781173, 0.638864399278467, 0.02681238774098736, 0.38123383221738116, 1.2650304595013397, 0.9150256101853848, 1.1967932739582814, 0.6426388394743652, 0.20004582189670678, 0.3017581457406824, 0.5939964493508457, 0.3188191521913687, 0.29931007863960385, 1.2167830576490573, 1.1440050794935708, 0.09347683523366722, 0.22344092672492608, 0.18272709686435085, 2.5066242944388515, 2.2753701599896887, 0.7762652278962995, 0.4630083342636737, 0.40840866066621206, 1.0562275157220133, 0.11786890838262626, 0.1354419062321264, 0.4069738839685486, 0.08612516360236927, 0.2810265510651516, 0.7555946400702765, 0.28710941419590663, 0.759739178193594, 0.1273918982937004, 0.2461878876852097, 0.3478002645804359, 1.4764018136468344, 0.014452764681710181, 0.04307237083363444, 0.044971540902327675, 0.22452739675491565, 0.2329949342712449, 0.21177576179121588, 0.37356093845661986, 1.4903905828896662, 0.9421509331794565, 0.33598312229049876, 0.4224225029987101, 0.4793305120483694, 0.8970301563190519, 0.23228643497522927, 0.11979501970994288, 0.2256326085413238, 0.4869679039211823, 0.28571043156393305, 0.2358726326123399, 0.9588721005160064, 0.3321503492037362, 1.8902025747722553, 0.5083317589666303, 0.12906769754932176, 0.2515140219619548, 0.09935225234388241, 0.2944602040432956, 0.19008544129496838, 0.2629268692316534, 2.159507449009355, 0.5101144973708114, 0.20552996749377972, 0.23417233577703456, 0.21882642176306075, 4.559096399569597, 0.5220987140084064, 0.23435370226404906, 0.23869253173335456, 0.3668481390209137, 0.24238856936438313, 0.49337294205723936, 0.3023777937505012, 1.1253721349144654, 0.28880814398899307, 0.23094775087239006, 0.5835566658604799, 0.6787166346610843, 0.00897489384576499, 0.3388298975968671, 0.3776341685284862, 2.0148090099738, 0.042245731169765426, 2.285774665106062, 1.4416805840325406, 0.13486471707872472, 0.0996394095890705, 0.7718017284002483, 0.18504950071376483], \"type\": \"scatter\", \"uid\": \"a7f06598-8e91-11e8-bebe-28cfe9142f7f\"}],\n",
       "            {\"title\": \"Pressure vs. Volume\", \"xaxis\": {\"title\": \"Volume\"}, \"yaxis\": {\"title\": \"Pressure\"}},\n",
       "            {\"showLink\": true, \"linkText\": \"Export to plot.ly\"}\n",
       "        ).then(function () {return Plotly.addFrames('7e167973-c8e2-40a9-966e-46e7aab61b62',{});}).then(function(){Plotly.animate('7e167973-c8e2-40a9-966e-46e7aab61b62');})\n",
       "        });</script>"
      ]
     },
     "metadata": {},
     "output_type": "display_data"
    }
   ],
   "source": [
    "# Imports, borrowing code from a 'library' that is used to generate the graph.\n",
    "import plotly.offline as py\n",
    "from plotly.offline import init_notebook_mode, iplot\n",
    "import plotly.graph_objs as go\n",
    "import numpy as np\n",
    "from numpy import random as rand\n",
    "import math\n",
    "init_notebook_mode(connected=True)\n",
    "\n",
    "# Initialize data sets. This makes sure it does not graph old data from previous experiments.\n",
    "gx = []\n",
    "gy = []\n",
    "trials = []\n",
    "\n",
    "# Constant multiple in Boyle's Law.\n",
    "kB = 1\n",
    "\n",
    "# Boyle's Law is technically PV = k, where k is constant for that specific system, (It varies between systems.)\n",
    "# and P1V1 = P2V2 is only a result of this relationship. Students do not need to learn this however.\n",
    "# For simplicity k is set to 1.\n",
    "\n",
    "# Randomly generate data based on user defined volume and number of trials.\n",
    "for i in range(0, N):\n",
    "    temp = rand.random_sample() * volume\n",
    "    \n",
    "    # Prevent large outliers.\n",
    "    # The limit is arbitrary, it is just so the graph looks nice and so the relationship is clearly defined.\n",
    "    limit = rand.random_sample() + 1\n",
    "    while(kB/temp > volume/limit):\n",
    "        temp = rand.random_sample() * volume\n",
    "    \n",
    "    # Adds noise to points.\n",
    "    outputx = rand.uniform(temp-(rand.random_sample()/4), temp+(rand.random_sample()/4))\n",
    "    outputy = rand.uniform((kB/temp)-(rand.random_sample()/4), (kB/temp)+(rand.random_sample()/4))\n",
    "    \n",
    "    # Add the values to the list of data.\n",
    "    trials.append((outputx, outputy))\n",
    "    gx.append(outputx)\n",
    "    gy.append(outputy)\n",
    "\n",
    "# Organizes data.\n",
    "trace = go.Scatter(x=gx, y=gy, mode='markers')\n",
    "\n",
    "# Labels graph.\n",
    "templayout = go.Layout(title='Pressure vs. Volume', xaxis=dict(title='Volume'), yaxis=dict(title='Pressure'))\n",
    "\n",
    "# Renders graph. \n",
    "tempdata = [trace]\n",
    "fig = go.Figure(data=tempdata, layout=templayout)\n",
    "py.iplot(fig, filename='scatter-plot')"
   ]
  },
  {
   "cell_type": "markdown",
   "metadata": {},
   "source": [
    "<h1><a name=\"var\" style=\"text-decoration: none; color: black;\">Variance</a></h1>\n",
    "\n",
    "The formula of standard deviation can be defined as the square root of the variance. The variance can in turn be defined as the average of a set of values’ squared distances from their mean."
   ]
  },
  {
   "cell_type": "markdown",
   "metadata": {},
   "source": [
    "<h1><a name=\"exercise\" style=\"text-decoration: none; color: black;\">Exercise</a></h1>\n",
    "\n",
    "What is the variance of the data set below? Reorder the code cells using the up and down arrows to the left of the Run button. Leave the START and END cells in their position. The latter will output the final value, which you can check later. "
   ]
  },
  {
   "cell_type": "code",
   "execution_count": 4,
   "metadata": {},
   "outputs": [
    {
     "name": "stdout",
     "output_type": "stream",
     "text": [
      "[1, 2, 3, 4, 5]\n"
     ]
    }
   ],
   "source": [
    "#START\n",
    "values = [1, 2, 3, 4, 5] # Your dataset.\n",
    "print(values)"
   ]
  },
  {
   "cell_type": "code",
   "execution_count": 5,
   "metadata": {},
   "outputs": [
    {
     "name": "stdout",
     "output_type": "stream",
     "text": [
      "3.0\n"
     ]
    }
   ],
   "source": [
    "value = sum(values)/len(values) #divide the sum of the list of values by the length of the list\n",
    "print(value)"
   ]
  },
  {
   "cell_type": "code",
   "execution_count": 6,
   "metadata": {},
   "outputs": [
    {
     "name": "stdout",
     "output_type": "stream",
     "text": [
      "[0, 1, 4, 9, 16]\n"
     ]
    }
   ],
   "source": [
    "for i in range(len(values)): #for every value in the list\n",
    "  value = i**2 #square the value\n",
    "  values.append(value) #add it to the list\n",
    "del values[0:5] #remove the old list values\n",
    "print(values)"
   ]
  },
  {
   "cell_type": "code",
   "execution_count": 7,
   "metadata": {},
   "outputs": [
    {
     "name": "stdout",
     "output_type": "stream",
     "text": [
      "6.0\n"
     ]
    }
   ],
   "source": [
    "value = sum(values)/len(values) #divide the sum of the list of values by the length of the list\n",
    "print(value)"
   ]
  },
  {
   "cell_type": "code",
   "execution_count": 8,
   "metadata": {},
   "outputs": [
    {
     "name": "stdout",
     "output_type": "stream",
     "text": [
      "[-6.0, 7.0, -5.0, 8.0, -4.0]\n"
     ]
    }
   ],
   "source": [
    "for i in range(len(values)): #for every value in the list\n",
    "  value = i - value #subtract the value by the average\n",
    "  values.append(value) #add it to the list\n",
    "del values[0:5] #remove the old list values\n",
    "print(values)"
   ]
  },
  {
   "cell_type": "code",
   "execution_count": 24,
   "metadata": {},
   "outputs": [
    {
     "name": "stdout",
     "output_type": "stream",
     "text": [
      "-4.0\n"
     ]
    }
   ],
   "source": [
    "#END (final value)\n",
    "print(value)"
   ]
  },
  {
   "cell_type": "markdown",
   "metadata": {},
   "source": [
    "## Check your answer by running the cells below and inputting the final value to the textbox:"
   ]
  },
  {
   "cell_type": "code",
   "execution_count": 17,
   "metadata": {},
   "outputs": [],
   "source": [
    "# ANSWER HANDLING. Uncomment the 'print(\"This is the hash: \", temp)' line by deleting the # before it.\n",
    "\n",
    "# Imports.\n",
    "from IPython.display import display \n",
    "from ipywidgets import widgets\n",
    "import hashlib\n",
    "\n",
    "# Check the answer given by the student.\n",
    "def check_answer(x):\n",
    "    temp = None\n",
    "    try:\n",
    "        temp = hashlib.md5(str.encode(str(text.value))).hexdigest()\n",
    "        #print(\"This is the hash: \", temp)\n",
    "    except:\n",
    "        print(\"Not a number.\")\n",
    "    if(temp == answer):\n",
    "        print(\"Correct!\")\n",
    "    else:\n",
    "        print(\"Incorrect. Try again!\")"
   ]
  },
  {
   "cell_type": "code",
   "execution_count": 18,
   "metadata": {},
   "outputs": [
    {
     "data": {
      "application/vnd.jupyter.widget-view+json": {
       "model_id": "0d2db0a99041495fa9a7d2da67be77e7",
       "version_major": 2,
       "version_minor": 0
      },
      "text/plain": [
       "Text(value='')"
      ]
     },
     "metadata": {},
     "output_type": "display_data"
    },
    {
     "name": "stdout",
     "output_type": "stream",
     "text": [
      "Correct!\n"
     ]
    }
   ],
   "source": [
    "# Encrypted answer.\n",
    "answer = '9f41f9f1c434718ae6e50ffba61152d0'\n",
    "\n",
    "# Create answer box.\n",
    "text = widgets.Text()\n",
    "display(text)\n",
    "text.on_submit(check_answer)"
   ]
  },
  {
   "cell_type": "markdown",
   "metadata": {},
   "source": [
    "You might be wondering why we square. Here’s a simplistic explanation: First, it’s important to understand that a negative standard deviation - distance from the predicted value - does not make sense. Second, in order to relate variance to standard deviation, we need to perform operations that can be undone - when you square a value, you can then square root it. If we took the absolute value, then we couldn’t reverse it in a way that accurately depicts the correlation between data. "
   ]
  },
  {
   "cell_type": "markdown",
   "metadata": {},
   "source": [
    "<h1><a name=\"samples\" style=\"text-decoration: none; color: black;\">Standard Deviation of Samples</a></h1>\n",
    "\n",
    "We’ve just calculated the standard deviation of a population - a small data set composed of ten values. A sample is only a section of the total population, so if we were to calculate the standard deviation the same way, our values would be skewed. To compensate for this, instead of dividing by the total number of values when calculating the average of the squared differences, we want to divide by the total number of values minus 1. \n",
    "\n",
    "<h1><a name=\"summary\" style=\"text-decoration: none; color: black;\">Summary</a></h1>\n",
    "\n",
    "1. Calculate the mean (average value) of the data points by adding up the data points and dividing by the total number of data points <br>\n",
    "\n",
    "2. Calculate the deviation by subtracting the mean value calculated in the first step from each data point (Fun fact: if the data point is above the mean value, its deviation would be positive if the data point is below the mean value, its deviation would be negative) <br>\n",
    "\n",
    "3. Square each deviation calculated in the second step to make each value positive  <br>\n",
    "\n",
    "4. Add up the square deviations calculated in the third step <br>\n",
    "\n",
    "5. Divide the sum calculated in the fourth step by the total number of data points (or one less than the number of the data points for samples) <br>\n",
    "\n",
    "6. Take the square root of the value resulting from step 5 <br>\n",
    "\n",
    "<h1><a name=\"concl\" style=\"text-decoration: none; color: black;\">Conclusion</a></h1>\n",
    "\n",
    "In this section, we introduced standard deviation for populations and samples, and how variance can be used to calculate both. "
   ]
  }
 ],
 "metadata": {
  "kernelspec": {
   "display_name": "Python 3",
   "language": "python",
   "name": "python3"
  },
  "language_info": {
   "codemirror_mode": {
    "name": "ipython",
    "version": 3
   },
   "file_extension": ".py",
   "mimetype": "text/x-python",
   "name": "python",
   "nbconvert_exporter": "python",
   "pygments_lexer": "ipython3",
   "version": "3.7.0"
  }
 },
 "nbformat": 4,
 "nbformat_minor": 2
}
