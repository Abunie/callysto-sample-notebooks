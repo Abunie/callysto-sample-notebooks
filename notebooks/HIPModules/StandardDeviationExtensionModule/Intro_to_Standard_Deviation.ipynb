{
 "cells": [
  {
   "cell_type": "markdown",
   "metadata": {},
   "source": [
    "<img width=\"100%\" src=\"callystoBannerTop.jpg\"/>"
   ]
  },
  {
   "cell_type": "markdown",
   "metadata": {},
   "source": [
    "# For Teachers\n",
    "**Delete this portion before handing over to students:**<br>\n",
    "**if you want to change / personalize one of the practice questions and need to change the answer, uncomment the print statement in the check_answer function in any of the \"# ANSWER HANDLING.\" cells, type your desired answer into the text field, and copy the outputted hash into the 'answer' variable.**"
   ]
  },
  {
   "cell_type": "markdown",
   "metadata": {},
   "source": [
    "# Overview\n",
    "In this notebook, we will introduce the concept standard deviation and how to calculate variance. We are expecting that the students understand square roots and mean calculation. Note that this module is an optional extension and is not necessary to meet any curriculum outcomes.\n",
    "\n",
    " "
   ]
  },
  {
   "cell_type": "markdown",
   "metadata": {},
   "source": [
    "# Introduction\n",
    "The average female 3 year old is 94cm tall. If the day care has 30 three-year-old girls, would they all be the same height? No, because heights vary from the average. But by how much? If heights are so varied, how can we use this average to determine whether a child is healthy? Is the relationship between height and age really that distinct? We can ask so many questions about data like this. And our first step to gaining answers is learning about standard deviation. "
   ]
  },
  {
   "cell_type": "markdown",
   "metadata": {},
   "source": [
    "# Table of Contents\n",
    "I. <a href = \"#sd\"> What is Standard Deviation </a> <br>\n",
    "II. <a href = \"#var\"> Variance </a> <br>\n",
    "III. <a href =\"#exercise\"> Exercise </a> <br>\n",
    "IV. <a href = \"#samples\"> Standard Deviation of Samples </a> <br>\n",
    "V. <a href = \"#summary\"> Summary </a> <br>\n",
    "VI. <a href = \"#concl\"> Conclusion </a> <br>"
   ]
  },
  {
   "cell_type": "markdown",
   "metadata": {},
   "source": [
    "<h1><a name=\"sd\" style=\"text-decoration: none; color: black;\">What is Standard Deviation?</a></h1>\n",
    "\n",
    "The standard deviation of a graphed relationship is key to understanding the significance of the relationship and determining the strength of the relationship. Standard deviation measures the spread of each data point from the mean value.\n",
    "\n",
    "Don't worry too much about the code below, if you can pick out what certain lines do that's great, but if not, just run it and observe the graph below. Notice how the data doesn't form a perfect line, yet the relationship between age and height is clearly defined? This is because the values are spread out over a specific standard deviation around the mean line. "
   ]
  },
  {
   "cell_type": "code",
   "execution_count": 12,
   "metadata": {},
   "outputs": [
    {
     "data": {
      "text/html": [
       "<script>requirejs.config({paths: { 'plotly': ['https://cdn.plot.ly/plotly-latest.min']},});if(!window.Plotly) {{require(['plotly'],function(plotly) {window.Plotly=plotly;});}}</script>"
      ],
      "text/vnd.plotly.v1+html": [
       "<script>requirejs.config({paths: { 'plotly': ['https://cdn.plot.ly/plotly-latest.min']},});if(!window.Plotly) {{require(['plotly'],function(plotly) {window.Plotly=plotly;});}}</script>"
      ]
     },
     "metadata": {},
     "output_type": "display_data"
    },
    {
     "data": {
      "application/vnd.plotly.v1+json": {
       "data": [
        {
         "mode": "markers",
         "name": "Age vs. Height",
         "type": "scatter",
         "uid": "ce51c2c8-959d-11e8-abe9-28cfe9142f7f",
         "x": [
          3.0063419682027255,
          3.0590426723034145,
          3.123052201878207,
          3.1233286359723462,
          3.1286008964270238,
          3.1358509276810302,
          3.1487745033961643,
          3.1804097400519016,
          3.199124363317643,
          3.202806650377117,
          3.211933948972891,
          3.277539839905796,
          3.3137592407251626,
          3.4222080887776256,
          3.4238028245791967,
          3.4568587103268276,
          3.4819974504951547,
          3.4839438517893555,
          3.5290609550672736,
          3.5583324233424047,
          3.5671817949244784,
          3.5743054391330364,
          3.5949510889804497,
          3.619433105819155,
          3.6370624513341374,
          3.774191078791638,
          3.825146914971545,
          3.8341893226037693,
          3.8759506225705023,
          3.8786950443433224
         ],
         "y": [
          93.29679284238624,
          93.34403389300074,
          93.50867235281333,
          93.54530560422234,
          93.55797111841835,
          93.63164426371726,
          93.6466227736524,
          93.69292098219,
          93.73523484931987,
          93.85370613616244,
          93.88190176328827,
          93.88474313937945,
          93.912120999293,
          93.96843018631712,
          93.98176353192798,
          93.99265339554334,
          94.00854174680029,
          94.10096837737872,
          94.12319730992597,
          94.12817310977023,
          94.18725583365661,
          94.20453886370998,
          94.26021292452091,
          94.32100442752595,
          94.33092650254392,
          94.39800600300326,
          94.42930088244196,
          94.50924065080872,
          94.54868635631058,
          94.66747546410383
         ]
        }
       ],
       "layout": {}
      },
      "text/html": [
       "<div id=\"912b836d-76a9-4fe5-8900-0bca986f2961\" style=\"height: 525px; width: 100%;\" class=\"plotly-graph-div\"></div><script type=\"text/javascript\">require([\"plotly\"], function(Plotly) { window.PLOTLYENV=window.PLOTLYENV || {};window.PLOTLYENV.BASE_URL=\"https://plot.ly\";Plotly.newPlot(\"912b836d-76a9-4fe5-8900-0bca986f2961\", [{\"mode\": \"markers\", \"name\": \"Age vs. Height\", \"x\": [3.0063419682027255, 3.0590426723034145, 3.123052201878207, 3.1233286359723462, 3.1286008964270238, 3.1358509276810302, 3.1487745033961643, 3.1804097400519016, 3.199124363317643, 3.202806650377117, 3.211933948972891, 3.277539839905796, 3.3137592407251626, 3.4222080887776256, 3.4238028245791967, 3.4568587103268276, 3.4819974504951547, 3.4839438517893555, 3.5290609550672736, 3.5583324233424047, 3.5671817949244784, 3.5743054391330364, 3.5949510889804497, 3.619433105819155, 3.6370624513341374, 3.774191078791638, 3.825146914971545, 3.8341893226037693, 3.8759506225705023, 3.8786950443433224], \"y\": [93.29679284238624, 93.34403389300074, 93.50867235281333, 93.54530560422234, 93.55797111841835, 93.63164426371726, 93.6466227736524, 93.69292098219, 93.73523484931987, 93.85370613616244, 93.88190176328827, 93.88474313937945, 93.912120999293, 93.96843018631712, 93.98176353192798, 93.99265339554334, 94.00854174680029, 94.10096837737872, 94.12319730992597, 94.12817310977023, 94.18725583365661, 94.20453886370998, 94.26021292452091, 94.32100442752595, 94.33092650254392, 94.39800600300326, 94.42930088244196, 94.50924065080872, 94.54868635631058, 94.66747546410383], \"type\": \"scatter\", \"uid\": \"ce5cbd36-959d-11e8-abe9-28cfe9142f7f\"}], {}, {\"showLink\": true, \"linkText\": \"Export to plot.ly\"})});</script>"
      ],
      "text/vnd.plotly.v1+html": [
       "<div id=\"912b836d-76a9-4fe5-8900-0bca986f2961\" style=\"height: 525px; width: 100%;\" class=\"plotly-graph-div\"></div><script type=\"text/javascript\">require([\"plotly\"], function(Plotly) { window.PLOTLYENV=window.PLOTLYENV || {};window.PLOTLYENV.BASE_URL=\"https://plot.ly\";Plotly.newPlot(\"912b836d-76a9-4fe5-8900-0bca986f2961\", [{\"mode\": \"markers\", \"name\": \"Age vs. Height\", \"x\": [3.0063419682027255, 3.0590426723034145, 3.123052201878207, 3.1233286359723462, 3.1286008964270238, 3.1358509276810302, 3.1487745033961643, 3.1804097400519016, 3.199124363317643, 3.202806650377117, 3.211933948972891, 3.277539839905796, 3.3137592407251626, 3.4222080887776256, 3.4238028245791967, 3.4568587103268276, 3.4819974504951547, 3.4839438517893555, 3.5290609550672736, 3.5583324233424047, 3.5671817949244784, 3.5743054391330364, 3.5949510889804497, 3.619433105819155, 3.6370624513341374, 3.774191078791638, 3.825146914971545, 3.8341893226037693, 3.8759506225705023, 3.8786950443433224], \"y\": [93.29679284238624, 93.34403389300074, 93.50867235281333, 93.54530560422234, 93.55797111841835, 93.63164426371726, 93.6466227736524, 93.69292098219, 93.73523484931987, 93.85370613616244, 93.88190176328827, 93.88474313937945, 93.912120999293, 93.96843018631712, 93.98176353192798, 93.99265339554334, 94.00854174680029, 94.10096837737872, 94.12319730992597, 94.12817310977023, 94.18725583365661, 94.20453886370998, 94.26021292452091, 94.32100442752595, 94.33092650254392, 94.39800600300326, 94.42930088244196, 94.50924065080872, 94.54868635631058, 94.66747546410383], \"type\": \"scatter\", \"uid\": \"ce5cbd36-959d-11e8-abe9-28cfe9142f7f\"}], {}, {\"showLink\": true, \"linkText\": \"Export to plot.ly\"})});</script>"
      ]
     },
     "metadata": {},
     "output_type": "display_data"
    }
   ],
   "source": [
    "# Imports, borrowing code from a 'library' that is used to generate the graph.\n",
    "import plotly.offline as py\n",
    "from plotly.offline import init_notebook_mode, iplot\n",
    "import plotly.graph_objs as go\n",
    "import numpy as np\n",
    "from numpy import random as rand\n",
    "import math\n",
    "init_notebook_mode(connected=True)\n",
    "\n",
    "# Initializes data sets.\n",
    "ages = []\n",
    "heights = []\n",
    "\n",
    "# Generates data set.\n",
    "for i in range(30):\n",
    "    ages.append(rand.uniform(3.0, 3.9))\n",
    "    heights.append(rand.uniform(94-rand.random_sample(), 94+rand.random_sample()))\n",
    "\n",
    "# Sorts data set from least to greatest.\n",
    "ages.sort()\n",
    "heights.sort()\n",
    "\n",
    "# Generates graph.\n",
    "trace = go.Scatter(\n",
    "    x = ages,\n",
    "    y = heights,\n",
    "    mode = 'markers', \n",
    "    name = \"Age vs. Height\"\n",
    ")\n",
    "\n",
    "data = [trace]\n",
    "py.iplot(data, filename='scatter-mode')"
   ]
  },
  {
   "cell_type": "markdown",
   "metadata": {},
   "source": [
    "<h1><a name=\"var\" style=\"text-decoration: none; color: black;\">Variance</a></h1>\n",
    "\n",
    "The formula of standard deviation can be defined as the square root of the variance. The variance can in turn be defined as the average of a set of values’ squared distances from their mean."
   ]
  },
  {
   "cell_type": "markdown",
   "metadata": {},
   "source": [
    "<h1><a name=\"exercise\" style=\"text-decoration: none; color: black;\">Exercise</a></h1>\n",
    "\n",
    "What is the variance of the data set below? Reorder the code cells using the up and down arrows to the left of the Run button. Leave the START and END cells in their position. The latter will output the final value, which you can check later. "
   ]
  },
  {
   "cell_type": "code",
   "execution_count": 4,
   "metadata": {},
   "outputs": [
    {
     "name": "stdout",
     "output_type": "stream",
     "text": [
      "[1, 2, 3, 4, 5]\n"
     ]
    }
   ],
   "source": [
    "#START\n",
    "values = [1, 2, 3, 4, 5] # Your dataset.\n",
    "print(values)"
   ]
  },
  {
   "cell_type": "code",
   "execution_count": 5,
   "metadata": {},
   "outputs": [
    {
     "name": "stdout",
     "output_type": "stream",
     "text": [
      "3.0\n"
     ]
    }
   ],
   "source": [
    "value = sum(values)/len(values) #divide the sum of the list of values by the length of the list\n",
    "print(value)"
   ]
  },
  {
   "cell_type": "code",
   "execution_count": 6,
   "metadata": {},
   "outputs": [
    {
     "name": "stdout",
     "output_type": "stream",
     "text": [
      "[0, 1, 4, 9, 16]\n"
     ]
    }
   ],
   "source": [
    "for i in range(len(values)): #for every value in the list\n",
    "  value = i**2 #square the value\n",
    "  values.append(value) #add it to the list\n",
    "del values[0:5] #remove the old list values\n",
    "print(values)"
   ]
  },
  {
   "cell_type": "code",
   "execution_count": 7,
   "metadata": {},
   "outputs": [
    {
     "name": "stdout",
     "output_type": "stream",
     "text": [
      "6.0\n"
     ]
    }
   ],
   "source": [
    "value = sum(values)/len(values) #divide the sum of the list of values by the length of the list\n",
    "print(value)"
   ]
  },
  {
   "cell_type": "code",
   "execution_count": 8,
   "metadata": {},
   "outputs": [
    {
     "name": "stdout",
     "output_type": "stream",
     "text": [
      "[-6.0, 7.0, -5.0, 8.0, -4.0]\n"
     ]
    }
   ],
   "source": [
    "for i in range(len(values)): #for every value in the list\n",
    "  value = i - value #subtract the value by the average\n",
    "  values.append(value) #add it to the list\n",
    "del values[0:5] #remove the old list values\n",
    "print(values)"
   ]
  },
  {
   "cell_type": "code",
   "execution_count": 24,
   "metadata": {},
   "outputs": [
    {
     "name": "stdout",
     "output_type": "stream",
     "text": [
      "-4.0\n"
     ]
    }
   ],
   "source": [
    "#END (final value)\n",
    "print(value)"
   ]
  },
  {
   "cell_type": "markdown",
   "metadata": {},
   "source": [
    "## Check your answer by running the cells below and inputting the final value to the textbox:\n",
    "Again, you don't have to do anything in the code cells, just run them :)"
   ]
  },
  {
   "cell_type": "code",
   "execution_count": 16,
   "metadata": {},
   "outputs": [],
   "source": [
    "# ANSWER HANDLING. Uncomment the 'print(\"This is the hash: \", temp)' line by deleting the # before it.\n",
    "\n",
    "# Imports.\n",
    "from IPython.display import display \n",
    "from ipywidgets import widgets\n",
    "import hashlib\n",
    "\n",
    "# Check the answer given by the student.\n",
    "def check_answer(x):\n",
    "    temp = None\n",
    "    try:\n",
    "        temp = hashlib.md5(str.encode(str(text.value))).hexdigest()\n",
    "        #print(\"This is the hash: \", temp)\n",
    "    except:\n",
    "        print(\"Not a number.\")\n",
    "    if(temp == answer):\n",
    "        print(\"Correct!\")\n",
    "    else:\n",
    "        print(\"Incorrect. Try again!\")"
   ]
  },
  {
   "cell_type": "code",
   "execution_count": 17,
   "metadata": {},
   "outputs": [
    {
     "data": {
      "application/vnd.jupyter.widget-view+json": {
       "model_id": "da71d2a2005f4a939afa1c2b97bd323e",
       "version_major": 2,
       "version_minor": 0
      },
      "text/plain": [
       "Text(value='')"
      ]
     },
     "metadata": {},
     "output_type": "display_data"
    }
   ],
   "source": [
    "# Encrypted answer.\n",
    "answer = '9f41f9f1c434718ae6e50ffba61152d0'\n",
    "\n",
    "# Create answer box.\n",
    "text = widgets.Text()\n",
    "display(text)\n",
    "text.on_submit(check_answer)"
   ]
  },
  {
   "cell_type": "markdown",
   "metadata": {},
   "source": [
    "You might be wondering why we square. Here’s a simplistic explanation: First, it’s important to understand that a negative standard deviation - distance from the predicted value - does not make sense. Second, in order to relate variance to standard deviation, we need to perform operations that can be undone - when you square a value, you can then square root it. If we took the absolute value, then we couldn’t reverse it in a way that accurately depicts the correlation between data. "
   ]
  },
  {
   "cell_type": "markdown",
   "metadata": {},
   "source": [
    "<h1><a name=\"samples\" style=\"text-decoration: none; color: black;\">Standard Deviation of Samples</a></h1>\n",
    "\n",
    "We’ve just calculated the standard deviation of a population - a small data set composed of ten values. A sample is only a section of the total population, so if we were to calculate the standard deviation the same way, our values would be skewed. To compensate for this, instead of dividing by the total number of values when calculating the average of the squared differences, we want to divide by the total number of values minus 1. \n",
    "\n",
    "<h1><a name=\"summary\" style=\"text-decoration: none; color: black;\">Summary</a></h1>\n",
    "\n",
    "1. Calculate the mean (average value) of the data points by adding up the data points and dividing by the total number of data points <br>\n",
    "\n",
    "2. Calculate the deviation by subtracting the mean value calculated in the first step from each data point <br> _(Fun fact: if the data point is above the mean value, its deviation would be positive if the data point is below the mean value, its deviation would be negative)_ <br>\n",
    "\n",
    "3. Square each deviation calculated in the second step to make each value positive  <br>\n",
    "\n",
    "4. Add up the square deviations calculated in the third step <br>\n",
    "\n",
    "5. Divide the sum calculated in the fourth step by the total number of data points (or one less than the number of the data points for samples) <br>\n",
    "\n",
    "6. Take the square root of the value resulting from step 5 <br>\n",
    "\n",
    "<h1><a name=\"concl\" style=\"text-decoration: none; color: black;\">Conclusion</a></h1>\n",
    "\n",
    "In this section, we introduced standard deviation for populations and samples, and how variance can be used to calculate both. "
   ]
  },
  {
   "cell_type": "markdown",
   "metadata": {},
   "source": [
    "<img width=\"100%\" src=\"callystoBannerBottom.jpg\"/>"
   ]
  }
 ],
 "metadata": {
  "kernelspec": {
   "display_name": "Python 3",
   "language": "python",
   "name": "python3"
  },
  "language_info": {
   "codemirror_mode": {
    "name": "ipython",
    "version": 3
   },
   "file_extension": ".py",
   "mimetype": "text/x-python",
   "name": "python",
   "nbconvert_exporter": "python",
   "pygments_lexer": "ipython3",
   "version": "3.7.0"
  }
 },
 "nbformat": 4,
 "nbformat_minor": 2
}
