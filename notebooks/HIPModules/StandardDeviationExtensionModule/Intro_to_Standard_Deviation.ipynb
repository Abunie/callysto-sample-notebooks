{
 "cells": [
  {
   "cell_type": "markdown",
   "metadata": {},
   "source": [
    "<img width=\"100%\" src=\"callystoBannerTop.jpg\"/>"
   ]
  },
  {
   "cell_type": "markdown",
   "metadata": {},
   "source": [
    "# For Teachers\n",
    "**Delete this portion before handing over to students:**<br>\n",
    "**if you want to change / personalize one of the practice questions and need to change the answer, uncomment the print statement in the check_answer function in any of the \"# ANSWER HANDLING.\" cells, type your desired answer into the text field, and copy the outputted hash into the 'answer' variable.**"
   ]
  },
  {
   "cell_type": "markdown",
   "metadata": {},
   "source": [
    "# Overview\n",
    "In this notebook, we will introduce the concept standard deviation and how to calculate variance. We are expecting that the students understand square roots and mean calculation. Note that this module is an optional extension and is not necessary to meet any curriculum outcomes.\n",
    "\n",
    "**Note:** Do not be intimidated by the code! You do not have to touch or edit most of it, and all you have to do is run the code. There are is an exercise where you are asked to order the code cells in the correct order for calculations, but they are clearly labeled and relatively simple. If you make a change to the code and it stops working, those changes can be reversed by re-downloading the original notebook. "
   ]
  },
  {
   "cell_type": "markdown",
   "metadata": {},
   "source": [
    "# Introduction\n",
    "The average female 3 year old is 94cm tall. If the day care has 30 three-year-old girls, would they all be the same height? No, because heights vary from the average. But by how much? If heights are so varied, how can we use this average to determine whether a child is healthy? Is the relationship between height and age really that distinct? We can ask so many questions about data like this. And our first step to gaining answers is learning about standard deviation. "
   ]
  },
  {
   "cell_type": "markdown",
   "metadata": {},
   "source": [
    "# Table of Contents\n",
    "I. <a href = \"#sd\"> What is Standard Deviation </a> <br>\n",
    "II. <a href = \"#var\"> Variance </a> <br>\n",
    "III. <a href =\"#exercise\"> Exercise </a> <br>\n",
    "IV. <a href = \"#samples\"> Standard Deviation of Samples </a> <br>\n",
    "V. <a href = \"#summary\"> Summary </a> <br>\n",
    "VI. <a href = \"#concl\"> Conclusion </a> <br>"
   ]
  },
  {
   "cell_type": "markdown",
   "metadata": {},
   "source": [
    "<h1><a name=\"sd\" style=\"text-decoration: none; color: black;\">What is Standard Deviation?</a></h1>\n",
    "\n",
    "The standard deviation of a graphed relationship is key to understanding the significance of the relationship and determining the strength of the relationship. Standard deviation measures the spread of each data point from the mean value.\n",
    "\n",
    "Don't worry too much about the code below, if you can pick out what certain lines do that's great, but if not, just run it and observe the graph below. Notice how the data doesn't form a perfect line, yet the relationship between age and height is clearly defined? This is because the values are spread out over a specific standard deviation around the mean line. "
   ]
  },
  {
   "cell_type": "code",
   "execution_count": 18,
   "metadata": {},
   "outputs": [
    {
     "data": {
      "text/html": [
       "<script>requirejs.config({paths: { 'plotly': ['https://cdn.plot.ly/plotly-latest.min']},});if(!window.Plotly) {{require(['plotly'],function(plotly) {window.Plotly=plotly;});}}</script>"
      ],
      "text/vnd.plotly.v1+html": [
       "<script>requirejs.config({paths: { 'plotly': ['https://cdn.plot.ly/plotly-latest.min']},});if(!window.Plotly) {{require(['plotly'],function(plotly) {window.Plotly=plotly;});}}</script>"
      ]
     },
     "metadata": {},
     "output_type": "display_data"
    },
    {
     "data": {
      "application/vnd.plotly.v1+json": {
       "data": [
        {
         "mode": "markers",
         "name": "Age vs. Height",
         "type": "scatter",
         "uid": "f645bc82-95c3-11e8-abe9-28cfe9142f7f",
         "x": [
          3.004374550883968,
          3.0212244411258418,
          3.03968574647141,
          3.074397059297547,
          3.0798588135642433,
          3.0911737845197704,
          3.1019952966229494,
          3.116633494892434,
          3.12452559928131,
          3.1328853852513863,
          3.137150926560312,
          3.205755414737693,
          3.2519315731267824,
          3.283724751529591,
          3.360585745692114,
          3.3745491901020284,
          3.402377902309939,
          3.4112490750336755,
          3.4180153990233366,
          3.423258400875432,
          3.5371141720802317,
          3.548515362798367,
          3.6495868698710674,
          3.671078379224741,
          3.675164082282798,
          3.683872778385269,
          3.6955320524503814,
          3.719048745895243,
          3.819264212520935,
          3.890010398918709
         ],
         "y": [
          93.30294341266679,
          93.40529026781643,
          93.49200813645223,
          93.56735468924377,
          93.59411737193231,
          93.62604154229096,
          93.65187314435141,
          93.65305194933273,
          93.72832788380035,
          93.74580853802175,
          93.76493277655464,
          93.77200948056085,
          93.77526610151277,
          93.83977697332551,
          93.87039720699454,
          93.88059493978012,
          93.928364244564,
          93.98236128371254,
          93.98648276457847,
          94.00318051037969,
          94.05700470489636,
          94.08779975988148,
          94.10798543217307,
          94.12035237245755,
          94.23769342690647,
          94.24013526609875,
          94.28103568943435,
          94.53256730584768,
          94.68933587565924,
          94.72118282158901
         ]
        }
       ],
       "layout": {}
      },
      "text/html": [
       "<div id=\"8f890ec2-0a8a-4e6a-95b3-8c382455f6a5\" style=\"height: 525px; width: 100%;\" class=\"plotly-graph-div\"></div><script type=\"text/javascript\">require([\"plotly\"], function(Plotly) { window.PLOTLYENV=window.PLOTLYENV || {};window.PLOTLYENV.BASE_URL=\"https://plot.ly\";Plotly.newPlot(\"8f890ec2-0a8a-4e6a-95b3-8c382455f6a5\", [{\"mode\": \"markers\", \"name\": \"Age vs. Height\", \"x\": [3.004374550883968, 3.0212244411258418, 3.03968574647141, 3.074397059297547, 3.0798588135642433, 3.0911737845197704, 3.1019952966229494, 3.116633494892434, 3.12452559928131, 3.1328853852513863, 3.137150926560312, 3.205755414737693, 3.2519315731267824, 3.283724751529591, 3.360585745692114, 3.3745491901020284, 3.402377902309939, 3.4112490750336755, 3.4180153990233366, 3.423258400875432, 3.5371141720802317, 3.548515362798367, 3.6495868698710674, 3.671078379224741, 3.675164082282798, 3.683872778385269, 3.6955320524503814, 3.719048745895243, 3.819264212520935, 3.890010398918709], \"y\": [93.30294341266679, 93.40529026781643, 93.49200813645223, 93.56735468924377, 93.59411737193231, 93.62604154229096, 93.65187314435141, 93.65305194933273, 93.72832788380035, 93.74580853802175, 93.76493277655464, 93.77200948056085, 93.77526610151277, 93.83977697332551, 93.87039720699454, 93.88059493978012, 93.928364244564, 93.98236128371254, 93.98648276457847, 94.00318051037969, 94.05700470489636, 94.08779975988148, 94.10798543217307, 94.12035237245755, 94.23769342690647, 94.24013526609875, 94.28103568943435, 94.53256730584768, 94.68933587565924, 94.72118282158901], \"type\": \"scatter\", \"uid\": \"f65180bc-95c3-11e8-abe9-28cfe9142f7f\"}], {}, {\"showLink\": true, \"linkText\": \"Export to plot.ly\"})});</script>"
      ],
      "text/vnd.plotly.v1+html": [
       "<div id=\"8f890ec2-0a8a-4e6a-95b3-8c382455f6a5\" style=\"height: 525px; width: 100%;\" class=\"plotly-graph-div\"></div><script type=\"text/javascript\">require([\"plotly\"], function(Plotly) { window.PLOTLYENV=window.PLOTLYENV || {};window.PLOTLYENV.BASE_URL=\"https://plot.ly\";Plotly.newPlot(\"8f890ec2-0a8a-4e6a-95b3-8c382455f6a5\", [{\"mode\": \"markers\", \"name\": \"Age vs. Height\", \"x\": [3.004374550883968, 3.0212244411258418, 3.03968574647141, 3.074397059297547, 3.0798588135642433, 3.0911737845197704, 3.1019952966229494, 3.116633494892434, 3.12452559928131, 3.1328853852513863, 3.137150926560312, 3.205755414737693, 3.2519315731267824, 3.283724751529591, 3.360585745692114, 3.3745491901020284, 3.402377902309939, 3.4112490750336755, 3.4180153990233366, 3.423258400875432, 3.5371141720802317, 3.548515362798367, 3.6495868698710674, 3.671078379224741, 3.675164082282798, 3.683872778385269, 3.6955320524503814, 3.719048745895243, 3.819264212520935, 3.890010398918709], \"y\": [93.30294341266679, 93.40529026781643, 93.49200813645223, 93.56735468924377, 93.59411737193231, 93.62604154229096, 93.65187314435141, 93.65305194933273, 93.72832788380035, 93.74580853802175, 93.76493277655464, 93.77200948056085, 93.77526610151277, 93.83977697332551, 93.87039720699454, 93.88059493978012, 93.928364244564, 93.98236128371254, 93.98648276457847, 94.00318051037969, 94.05700470489636, 94.08779975988148, 94.10798543217307, 94.12035237245755, 94.23769342690647, 94.24013526609875, 94.28103568943435, 94.53256730584768, 94.68933587565924, 94.72118282158901], \"type\": \"scatter\", \"uid\": \"f65180bc-95c3-11e8-abe9-28cfe9142f7f\"}], {}, {\"showLink\": true, \"linkText\": \"Export to plot.ly\"})});</script>"
      ]
     },
     "metadata": {},
     "output_type": "display_data"
    }
   ],
   "source": [
    "# Imports, borrowing code from a 'library' that is used to generate the graph.\n",
    "import plotly.offline as py\n",
    "from plotly.offline import init_notebook_mode, iplot\n",
    "import plotly.graph_objs as go\n",
    "import numpy as np\n",
    "from numpy import random as rand\n",
    "import math\n",
    "init_notebook_mode(connected=True)\n",
    "\n",
    "# Initializes data sets.\n",
    "ages = []\n",
    "heights = []\n",
    "\n",
    "# Generates data set.\n",
    "for i in range(30):\n",
    "    ages.append(rand.uniform(3.0, 3.9))\n",
    "    heights.append(rand.uniform(94-rand.random_sample(), 94+rand.random_sample()))\n",
    "\n",
    "# Sorts data set from least to greatest.\n",
    "ages.sort()\n",
    "heights.sort()\n",
    "\n",
    "# Generates graph.\n",
    "trace = go.Scatter(\n",
    "    x = ages,\n",
    "    y = heights,\n",
    "    mode = 'markers', \n",
    "    name = \"Age vs. Height\"\n",
    ")\n",
    "\n",
    "data = [trace]\n",
    "py.iplot(data, filename='scatter-mode')"
   ]
  },
  {
   "cell_type": "markdown",
   "metadata": {},
   "source": [
    "<h1><a name=\"var\" style=\"text-decoration: none; color: black;\">Variance</a></h1>\n",
    "\n",
    "The formula of standard deviation can be defined as the square root of the variance. The variance can in turn be defined as the average of a set of values’ squared distances from their mean."
   ]
  },
  {
   "cell_type": "markdown",
   "metadata": {},
   "source": [
    "<h1><a name=\"exercise\" style=\"text-decoration: none; color: black;\">Exercise</a></h1>\n",
    "\n",
    "What is the variance of the data set below? Reorder the code cells using the up and down arrows to the left of the Run button. Leave the START and END cells in their position. The latter will output the final value, which you can check later. "
   ]
  },
  {
   "cell_type": "code",
   "execution_count": 1,
   "metadata": {},
   "outputs": [
    {
     "name": "stdout",
     "output_type": "stream",
     "text": [
      "[1, 2, 3, 4, 5]\n"
     ]
    }
   ],
   "source": [
    "#START\n",
    "values = [1, 2, 3, 4, 5] # Your dataset.\n",
    "print(values)"
   ]
  },
  {
   "cell_type": "code",
   "execution_count": 2,
   "metadata": {},
   "outputs": [
    {
     "name": "stdout",
     "output_type": "stream",
     "text": [
      "3.0\n"
     ]
    }
   ],
   "source": [
    "value = sum(values)/len(values) # Divide the sum of the list of values by the length of the list.\n",
    "print(value)"
   ]
  },
  {
   "cell_type": "code",
   "execution_count": 3,
   "metadata": {},
   "outputs": [
    {
     "name": "stdout",
     "output_type": "stream",
     "text": [
      "[0, 1, 4, 9, 16]\n"
     ]
    }
   ],
   "source": [
    "for i in range(len(values)): # For every value in the list...\n",
    "  value = i**2 # Square the value.\n",
    "  values.append(value) # Add it to the list.\n",
    "del values[0:5] # Remove the old list values.\n",
    "print(values)"
   ]
  },
  {
   "cell_type": "code",
   "execution_count": 4,
   "metadata": {},
   "outputs": [
    {
     "name": "stdout",
     "output_type": "stream",
     "text": [
      "6.0\n"
     ]
    }
   ],
   "source": [
    "value = sum(values)/len(values) # Divide the sum of the list of values by the length of the list.\n",
    "print(value)"
   ]
  },
  {
   "cell_type": "code",
   "execution_count": 5,
   "metadata": {},
   "outputs": [
    {
     "name": "stdout",
     "output_type": "stream",
     "text": [
      "[-6.0, 7.0, -5.0, 8.0, -4.0]\n"
     ]
    }
   ],
   "source": [
    "for i in range(len(values)): # For every value in the list.\n",
    "  value = i - value # Subtract the value by the average.\n",
    "  values.append(value) # Add it to the list.\n",
    "del values[0:5] # Remove the old list values.\n",
    "print(values)"
   ]
  },
  {
   "cell_type": "code",
   "execution_count": 6,
   "metadata": {},
   "outputs": [
    {
     "name": "stdout",
     "output_type": "stream",
     "text": [
      "-4.0\n"
     ]
    }
   ],
   "source": [
    "#END (final value)\n",
    "print(value)"
   ]
  },
  {
   "cell_type": "markdown",
   "metadata": {},
   "source": [
    "## Check your answer by running the cells below and inputting the final value to the textbox:\n",
    "Again, you don't have to do anything in the code cells, just run them :)"
   ]
  },
  {
   "cell_type": "code",
   "execution_count": 16,
   "metadata": {},
   "outputs": [],
   "source": [
    "# ANSWER HANDLING. Uncomment the 'print(\"This is the hash: \", temp)' line by deleting the # before it.\n",
    "\n",
    "# Imports.\n",
    "from IPython.display import display \n",
    "from ipywidgets import widgets\n",
    "import hashlib\n",
    "\n",
    "# Check the answer given by the student.\n",
    "def check_answer(x):\n",
    "    temp = None\n",
    "    try:\n",
    "        temp = hashlib.md5(str.encode(str(text.value))).hexdigest()\n",
    "        #print(\"This is the hash: \", temp)\n",
    "    except:\n",
    "        print(\"Not a number.\")\n",
    "    if(temp == answer):\n",
    "        print(\"Correct!\")\n",
    "    else:\n",
    "        print(\"Incorrect. Try again!\")"
   ]
  },
  {
   "cell_type": "code",
   "execution_count": 17,
   "metadata": {},
   "outputs": [
    {
     "data": {
      "application/vnd.jupyter.widget-view+json": {
       "model_id": "da71d2a2005f4a939afa1c2b97bd323e",
       "version_major": 2,
       "version_minor": 0
      },
      "text/plain": [
       "Text(value='')"
      ]
     },
     "metadata": {},
     "output_type": "display_data"
    }
   ],
   "source": [
    "# Encrypted answer.\n",
    "answer = '9f41f9f1c434718ae6e50ffba61152d0'\n",
    "\n",
    "# Create answer box.\n",
    "text = widgets.Text()\n",
    "display(text)\n",
    "text.on_submit(check_answer)"
   ]
  },
  {
   "cell_type": "markdown",
   "metadata": {},
   "source": [
    "You might be wondering why we square. Here’s a simplistic explanation: First, it’s important to understand that a negative standard deviation - distance from the predicted value - does not make sense. Second, in order to relate variance to standard deviation, we need to perform operations that can be undone - when you square a value, you can then square root it. If we took the absolute value, then we couldn’t reverse it in a way that accurately depicts the correlation between data. "
   ]
  },
  {
   "cell_type": "markdown",
   "metadata": {},
   "source": [
    "<h1><a name=\"samples\" style=\"text-decoration: none; color: black;\">Standard Deviation of Samples</a></h1>\n",
    "\n",
    "We’ve just calculated the standard deviation of a population - a small data set composed of ten values. A sample is only a section of the total population, so if we were to calculate the standard deviation the same way, our values would be skewed. To compensate for this, instead of dividing by the total number of values when calculating the average of the squared differences, we want to divide by the total number of values minus 1. \n",
    "\n",
    "<h1><a name=\"summary\" style=\"text-decoration: none; color: black;\">Summary</a></h1>\n",
    "\n",
    "1. Calculate the mean (average value) of the data points by adding up the data points and dividing by the total number of data points <br>\n",
    "\n",
    "2. Calculate the deviation by subtracting the mean value calculated in the first step from each data point <br> _(Fun fact: if the data point is above the mean value, its deviation would be positive if the data point is below the mean value, its deviation would be negative)_ <br>\n",
    "\n",
    "3. Square each deviation calculated in the second step to make each value positive  <br>\n",
    "\n",
    "4. Add up the square deviations calculated in the third step <br>\n",
    "\n",
    "5. Divide the sum calculated in the fourth step by the total number of data points (or one less than the number of the data points for samples) <br>\n",
    "\n",
    "6. Take the square root of the value resulting from step 5 <br>\n",
    "\n",
    "<h1><a name=\"concl\" style=\"text-decoration: none; color: black;\">Conclusion</a></h1>\n",
    "\n",
    "In this section, we introduced standard deviation for populations and samples, and how variance can be used to calculate both. "
   ]
  },
  {
   "cell_type": "markdown",
   "metadata": {},
   "source": [
    "<img width=\"100%\" src=\"callystoBannerBottom.jpg\"/>"
   ]
  }
 ],
 "metadata": {
  "kernelspec": {
   "display_name": "Python 3",
   "language": "python",
   "name": "python3"
  },
  "language_info": {
   "codemirror_mode": {
    "name": "ipython",
    "version": 3
   },
   "file_extension": ".py",
   "mimetype": "text/x-python",
   "name": "python",
   "nbconvert_exporter": "python",
   "pygments_lexer": "ipython3",
   "version": "3.7.0"
  }
 },
 "nbformat": 4,
 "nbformat_minor": 2
}
