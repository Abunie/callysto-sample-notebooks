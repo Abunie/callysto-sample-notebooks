{
 "cells": [
  {
   "cell_type": "markdown",
   "metadata": {},
   "source": [
    "<img width=\"100%\" src=\"callystoBannerTop.jpg\"/>"
   ]
  },
  {
   "cell_type": "markdown",
   "metadata": {},
   "source": [
    "# For Teachers\n",
    "**Delete this portion before handing over to students:**<br>\n",
    "**if you want to change / personalize one of the practice questions and need to change the answer, uncomment the print statement in the check_answer function in any of the \"# ANSWER HANDLING.\" cells, type your desired answer into the text field, and copy the outputted hash into the 'answer' variable.**"
   ]
  },
  {
   "cell_type": "markdown",
   "metadata": {},
   "source": [
    "# Overview\n",
    "In this notebook, we will introduce the concept standard deviation and how to calculate variance. We are expecting that the students understand square roots and mean calculation. Note that this module is an optional extension and is not necessary to meet any curriculum outcomes.\n",
    "\n",
    " "
   ]
  },
  {
   "cell_type": "markdown",
   "metadata": {},
   "source": [
    "# Introduction\n",
    "The average female 3 year old is 94cm tall. If the day care has 30 three-year-old girls, would they all be the same height? No, because heights vary from the average. But by how much? If heights are so varied, how can we use this average to determine whether a child is healthy? Is the relationship between height and age really that distinct? We can ask so many questions about data like this. And our first step to gaining answers is learning about standard deviation. "
   ]
  },
  {
   "cell_type": "markdown",
   "metadata": {},
   "source": [
    "# Table of Contents\n",
    "I. <a href = \"#sd\"> What is Standard Deviation </a> <br>\n",
    "II. <a href = \"#var\"> Variance </a> <br>\n",
    "III. <a href =\"#exercise\"> Exercise </a> <br>\n",
    "IV. <a href = \"#samples\"> Standard Deviation of Samples </a> <br>\n",
    "V. <a href = \"#summary\"> Summary </a> <br>\n",
    "VI. <a href = \"#concl\"> Conclusion </a> <br>"
   ]
  },
  {
   "cell_type": "markdown",
   "metadata": {},
   "source": [
    "<h1><a name=\"sd\" style=\"text-decoration: none; color: black;\">What is Standard Deviation?</a></h1>\n",
    "\n",
    "The standard deviation of a graphed relationship is key to understanding the significance of the relationship and determining the strength of the relationship. Standard deviation measures the spread of each data point from the mean value.\n",
    "\n",
    "Don't worry too much about the code below, just run it and observe the graph below. Notice how the data doesn't form a perfect line, yet the relationship between pressure and volume is clearly defined? This is because the values are spread out over a specific standard deviation around the mean line. "
   ]
  },
  {
   "cell_type": "code",
   "execution_count": 5,
   "metadata": {},
   "outputs": [],
   "source": [
    "# Change the variables in this cell to create your own experiment!\n",
    "\n",
    "# Max volume in liters.\n",
    "volume = 6\n",
    "\n",
    "# Number of trials.\n",
    "N = 100"
   ]
  },
  {
   "cell_type": "code",
   "execution_count": 6,
   "metadata": {},
   "outputs": [
    {
     "data": {
      "text/html": [
       "<script>requirejs.config({paths: { 'plotly': ['https://cdn.plot.ly/plotly-latest.min']},});if(!window.Plotly) {{require(['plotly'],function(plotly) {window.Plotly=plotly;});}}</script>"
      ],
      "text/vnd.plotly.v1+html": [
       "<script>requirejs.config({paths: { 'plotly': ['https://cdn.plot.ly/plotly-latest.min']},});if(!window.Plotly) {{require(['plotly'],function(plotly) {window.Plotly=plotly;});}}</script>"
      ]
     },
     "metadata": {},
     "output_type": "display_data"
    },
    {
     "data": {
      "application/vnd.plotly.v1+json": {
       "data": [
        {
         "mode": "markers",
         "type": "scatter",
         "uid": "13525af4-8b85-11e8-925c-28cfe9142f7f",
         "x": [
          2.133539508325249,
          5.26786380519534,
          4.5903772850421705,
          1.1985717015883677,
          1.9513998325762412,
          3.719971579487768,
          2.7555761082576318,
          1.7064605733085865,
          1.83098462782135,
          1.9034329969545571,
          5.113859129483511,
          1.5054653510180356,
          4.430568510059608,
          5.774594484154287,
          3.4983857529238938,
          5.207834073250224,
          4.001452534935712,
          4.663047774827896,
          5.361703821203541,
          5.43868544398772,
          2.7133076271421235,
          3.463552972856177,
          0.2526588346413704,
          1.7568271878548372,
          2.9476603706854694,
          2.9784983321454463,
          2.1136869605528315,
          1.4421777304376797,
          2.5666395016482944,
          4.565662103679202,
          3.0041652801148624,
          2.297693189632078,
          2.0704350208483335,
          5.252325843706693,
          4.201058751550443,
          4.803604269257996,
          0.6923065714187578,
          5.305246119433596,
          2.7362633524199182,
          3.0278796348620833,
          3.390568563138401,
          4.279916402991772,
          0.8348921200936111,
          3.226141269614136,
          5.749657107528952,
          4.496975416924384,
          3.955517763029587,
          5.607155776146411,
          4.703549215953238,
          3.0875273380103505,
          4.338404054606073,
          4.564935927750173,
          5.90464569931058,
          5.343851992891296,
          4.948095188999907,
          5.461002315637641,
          4.3029326657069875,
          1.025888841148146,
          4.056741565587138,
          3.78029674789277,
          0.7160117090835099,
          4.422733916163123,
          4.133675392189461,
          1.1527509767652602,
          5.950791476664379,
          4.064279355540386,
          2.2681536502707202,
          1.203864297477419,
          5.365180182782316,
          3.3906061913283074,
          4.014691537770851,
          2.3022941773728918,
          5.659961706752218,
          4.716029812152164,
          0.7950682736452361,
          5.253958352666239,
          2.8692808168669512,
          4.69936154286808,
          2.4984493385772093,
          3.6845561972524514,
          4.155987627130198,
          5.960982774920128,
          5.167569330893946,
          3.611761301261971,
          2.7848339000669142,
          2.1956823033410107,
          4.431006277302206,
          1.6212697122461481,
          1.3352756160525798,
          5.3754084286395765,
          0.26165079504564265,
          4.681697181292522,
          5.619775127743492,
          5.69461519073834,
          4.630200888166947,
          2.0799129007178485,
          4.083026257527038,
          4.5619042992533885,
          2.634572502682449,
          4.160384583603694
         ],
         "y": [
          0.46677958128602043,
          0.13634630311737123,
          0.28228332921664345,
          0.9172252480435011,
          0.6189143081415005,
          0.10996445739325048,
          0.43500634318963516,
          0.7589435949486192,
          0.5524861406365005,
          0.47830197592089363,
          0.18633368824133656,
          0.6482367266896182,
          0.20778820064099066,
          -0.047419077775643574,
          0.26005929109888704,
          0.3202867998285003,
          0.34851029636785535,
          0.08809779539279627,
          0.13279787140629978,
          0.14455617524803036,
          0.3810891951438746,
          0.4134303837156901,
          2.721196156455207,
          0.681263784755574,
          0.40508461207626056,
          0.3680640369848999,
          0.6631269387303629,
          0.7358458893215124,
          0.3886635090075641,
          0.27785879866326824,
          0.32417073256154155,
          0.46279648021649555,
          0.41361235766612775,
          0.30398480080833246,
          0.15138806517691203,
          0.27974945075857216,
          1.5170124054497869,
          0.2222677543897742,
          0.40106218570033225,
          0.29218934396184254,
          0.33182897246935816,
          0.2074877034112976,
          1.4158162728400538,
          0.23396972614456912,
          0.3087084685748236,
          0.3197174788362146,
          0.25079441839920946,
          0.3035843173192726,
          0.26790162927208616,
          0.3093258335642102,
          0.38811073735448554,
          0.330974801684001,
          0.1273461102730929,
          -0.045862897489219165,
          0.18712501402510678,
          0.2351889475821755,
          0.26992378180317933,
          1.2010005374347155,
          0.3009917103407359,
          0.2859494516102824,
          1.7809036854014284,
          0.3612142286914534,
          0.16541294676183887,
          0.6866097543263211,
          0.11970066640901136,
          0.2612249588554692,
          0.4600615006424096,
          0.9159596791277944,
          0.13020103319977006,
          0.2896450072650537,
          0.35516675162912403,
          0.4312462044634813,
          0.14715431410895496,
          0.24057858891518755,
          1.5016465181160088,
          0.21607297095455247,
          0.3940462622377772,
          0.15424841896368363,
          0.43692814619713427,
          0.2347376646867021,
          0.3330645802202391,
          0.12828520678041083,
          0.21751322775651993,
          0.38287062754764595,
          0.362848989811154,
          0.3946870489032873,
          0.22038887846261807,
          0.7212490722224885,
          0.8269571895811416,
          0.21818828323815218,
          3.729508682107107,
          0.1442516153736458,
          0.23373857648621246,
          0.27785714969201936,
          0.265202923630185,
          0.48810795799565265,
          0.160706689588229,
          0.07107099293153918,
          0.4115890181234364,
          0.2411652126625125
         ]
        }
       ],
       "layout": {
        "title": "Pressure vs. Volume",
        "xaxis": {
         "title": "Volume"
        },
        "yaxis": {
         "title": "Pressure"
        }
       }
      },
      "text/html": [
       "<div id=\"ccb878d9-f660-433c-bcf8-ae09740b42fa\" style=\"height: 525px; width: 100%;\" class=\"plotly-graph-div\"></div><script type=\"text/javascript\">require([\"plotly\"], function(Plotly) { window.PLOTLYENV=window.PLOTLYENV || {};window.PLOTLYENV.BASE_URL=\"https://plot.ly\";\n",
       "        Plotly.plot(\n",
       "            'ccb878d9-f660-433c-bcf8-ae09740b42fa',\n",
       "            [{\"mode\": \"markers\", \"x\": [2.133539508325249, 5.26786380519534, 4.5903772850421705, 1.1985717015883677, 1.9513998325762412, 3.719971579487768, 2.7555761082576318, 1.7064605733085865, 1.83098462782135, 1.9034329969545571, 5.113859129483511, 1.5054653510180356, 4.430568510059608, 5.774594484154287, 3.4983857529238938, 5.207834073250224, 4.001452534935712, 4.663047774827896, 5.361703821203541, 5.43868544398772, 2.7133076271421235, 3.463552972856177, 0.2526588346413704, 1.7568271878548372, 2.9476603706854694, 2.9784983321454463, 2.1136869605528315, 1.4421777304376797, 2.5666395016482944, 4.565662103679202, 3.0041652801148624, 2.297693189632078, 2.0704350208483335, 5.252325843706693, 4.201058751550443, 4.803604269257996, 0.6923065714187578, 5.305246119433596, 2.7362633524199182, 3.0278796348620833, 3.390568563138401, 4.279916402991772, 0.8348921200936111, 3.226141269614136, 5.749657107528952, 4.496975416924384, 3.955517763029587, 5.607155776146411, 4.703549215953238, 3.0875273380103505, 4.338404054606073, 4.564935927750173, 5.90464569931058, 5.343851992891296, 4.948095188999907, 5.461002315637641, 4.3029326657069875, 1.025888841148146, 4.056741565587138, 3.78029674789277, 0.7160117090835099, 4.422733916163123, 4.133675392189461, 1.1527509767652602, 5.950791476664379, 4.064279355540386, 2.2681536502707202, 1.203864297477419, 5.365180182782316, 3.3906061913283074, 4.014691537770851, 2.3022941773728918, 5.659961706752218, 4.716029812152164, 0.7950682736452361, 5.253958352666239, 2.8692808168669512, 4.69936154286808, 2.4984493385772093, 3.6845561972524514, 4.155987627130198, 5.960982774920128, 5.167569330893946, 3.611761301261971, 2.7848339000669142, 2.1956823033410107, 4.431006277302206, 1.6212697122461481, 1.3352756160525798, 5.3754084286395765, 0.26165079504564265, 4.681697181292522, 5.619775127743492, 5.69461519073834, 4.630200888166947, 2.0799129007178485, 4.083026257527038, 4.5619042992533885, 2.634572502682449, 4.160384583603694], \"y\": [0.46677958128602043, 0.13634630311737123, 0.28228332921664345, 0.9172252480435011, 0.6189143081415005, 0.10996445739325048, 0.43500634318963516, 0.7589435949486192, 0.5524861406365005, 0.47830197592089363, 0.18633368824133656, 0.6482367266896182, 0.20778820064099066, -0.047419077775643574, 0.26005929109888704, 0.3202867998285003, 0.34851029636785535, 0.08809779539279627, 0.13279787140629978, 0.14455617524803036, 0.3810891951438746, 0.4134303837156901, 2.721196156455207, 0.681263784755574, 0.40508461207626056, 0.3680640369848999, 0.6631269387303629, 0.7358458893215124, 0.3886635090075641, 0.27785879866326824, 0.32417073256154155, 0.46279648021649555, 0.41361235766612775, 0.30398480080833246, 0.15138806517691203, 0.27974945075857216, 1.5170124054497869, 0.2222677543897742, 0.40106218570033225, 0.29218934396184254, 0.33182897246935816, 0.2074877034112976, 1.4158162728400538, 0.23396972614456912, 0.3087084685748236, 0.3197174788362146, 0.25079441839920946, 0.3035843173192726, 0.26790162927208616, 0.3093258335642102, 0.38811073735448554, 0.330974801684001, 0.1273461102730929, -0.045862897489219165, 0.18712501402510678, 0.2351889475821755, 0.26992378180317933, 1.2010005374347155, 0.3009917103407359, 0.2859494516102824, 1.7809036854014284, 0.3612142286914534, 0.16541294676183887, 0.6866097543263211, 0.11970066640901136, 0.2612249588554692, 0.4600615006424096, 0.9159596791277944, 0.13020103319977006, 0.2896450072650537, 0.35516675162912403, 0.4312462044634813, 0.14715431410895496, 0.24057858891518755, 1.5016465181160088, 0.21607297095455247, 0.3940462622377772, 0.15424841896368363, 0.43692814619713427, 0.2347376646867021, 0.3330645802202391, 0.12828520678041083, 0.21751322775651993, 0.38287062754764595, 0.362848989811154, 0.3946870489032873, 0.22038887846261807, 0.7212490722224885, 0.8269571895811416, 0.21818828323815218, 3.729508682107107, 0.1442516153736458, 0.23373857648621246, 0.27785714969201936, 0.265202923630185, 0.48810795799565265, 0.160706689588229, 0.07107099293153918, 0.4115890181234364, 0.2411652126625125], \"type\": \"scatter\", \"uid\": \"13525af4-8b85-11e8-925c-28cfe9142f7f\"}],\n",
       "            {\"title\": \"Pressure vs. Volume\", \"xaxis\": {\"title\": \"Volume\"}, \"yaxis\": {\"title\": \"Pressure\"}},\n",
       "            {\"showLink\": true, \"linkText\": \"Export to plot.ly\"}\n",
       "        ).then(function () {return Plotly.addFrames('ccb878d9-f660-433c-bcf8-ae09740b42fa',{});}).then(function(){Plotly.animate('ccb878d9-f660-433c-bcf8-ae09740b42fa');})\n",
       "        });</script>"
      ],
      "text/vnd.plotly.v1+html": [
       "<div id=\"ccb878d9-f660-433c-bcf8-ae09740b42fa\" style=\"height: 525px; width: 100%;\" class=\"plotly-graph-div\"></div><script type=\"text/javascript\">require([\"plotly\"], function(Plotly) { window.PLOTLYENV=window.PLOTLYENV || {};window.PLOTLYENV.BASE_URL=\"https://plot.ly\";\n",
       "        Plotly.plot(\n",
       "            'ccb878d9-f660-433c-bcf8-ae09740b42fa',\n",
       "            [{\"mode\": \"markers\", \"x\": [2.133539508325249, 5.26786380519534, 4.5903772850421705, 1.1985717015883677, 1.9513998325762412, 3.719971579487768, 2.7555761082576318, 1.7064605733085865, 1.83098462782135, 1.9034329969545571, 5.113859129483511, 1.5054653510180356, 4.430568510059608, 5.774594484154287, 3.4983857529238938, 5.207834073250224, 4.001452534935712, 4.663047774827896, 5.361703821203541, 5.43868544398772, 2.7133076271421235, 3.463552972856177, 0.2526588346413704, 1.7568271878548372, 2.9476603706854694, 2.9784983321454463, 2.1136869605528315, 1.4421777304376797, 2.5666395016482944, 4.565662103679202, 3.0041652801148624, 2.297693189632078, 2.0704350208483335, 5.252325843706693, 4.201058751550443, 4.803604269257996, 0.6923065714187578, 5.305246119433596, 2.7362633524199182, 3.0278796348620833, 3.390568563138401, 4.279916402991772, 0.8348921200936111, 3.226141269614136, 5.749657107528952, 4.496975416924384, 3.955517763029587, 5.607155776146411, 4.703549215953238, 3.0875273380103505, 4.338404054606073, 4.564935927750173, 5.90464569931058, 5.343851992891296, 4.948095188999907, 5.461002315637641, 4.3029326657069875, 1.025888841148146, 4.056741565587138, 3.78029674789277, 0.7160117090835099, 4.422733916163123, 4.133675392189461, 1.1527509767652602, 5.950791476664379, 4.064279355540386, 2.2681536502707202, 1.203864297477419, 5.365180182782316, 3.3906061913283074, 4.014691537770851, 2.3022941773728918, 5.659961706752218, 4.716029812152164, 0.7950682736452361, 5.253958352666239, 2.8692808168669512, 4.69936154286808, 2.4984493385772093, 3.6845561972524514, 4.155987627130198, 5.960982774920128, 5.167569330893946, 3.611761301261971, 2.7848339000669142, 2.1956823033410107, 4.431006277302206, 1.6212697122461481, 1.3352756160525798, 5.3754084286395765, 0.26165079504564265, 4.681697181292522, 5.619775127743492, 5.69461519073834, 4.630200888166947, 2.0799129007178485, 4.083026257527038, 4.5619042992533885, 2.634572502682449, 4.160384583603694], \"y\": [0.46677958128602043, 0.13634630311737123, 0.28228332921664345, 0.9172252480435011, 0.6189143081415005, 0.10996445739325048, 0.43500634318963516, 0.7589435949486192, 0.5524861406365005, 0.47830197592089363, 0.18633368824133656, 0.6482367266896182, 0.20778820064099066, -0.047419077775643574, 0.26005929109888704, 0.3202867998285003, 0.34851029636785535, 0.08809779539279627, 0.13279787140629978, 0.14455617524803036, 0.3810891951438746, 0.4134303837156901, 2.721196156455207, 0.681263784755574, 0.40508461207626056, 0.3680640369848999, 0.6631269387303629, 0.7358458893215124, 0.3886635090075641, 0.27785879866326824, 0.32417073256154155, 0.46279648021649555, 0.41361235766612775, 0.30398480080833246, 0.15138806517691203, 0.27974945075857216, 1.5170124054497869, 0.2222677543897742, 0.40106218570033225, 0.29218934396184254, 0.33182897246935816, 0.2074877034112976, 1.4158162728400538, 0.23396972614456912, 0.3087084685748236, 0.3197174788362146, 0.25079441839920946, 0.3035843173192726, 0.26790162927208616, 0.3093258335642102, 0.38811073735448554, 0.330974801684001, 0.1273461102730929, -0.045862897489219165, 0.18712501402510678, 0.2351889475821755, 0.26992378180317933, 1.2010005374347155, 0.3009917103407359, 0.2859494516102824, 1.7809036854014284, 0.3612142286914534, 0.16541294676183887, 0.6866097543263211, 0.11970066640901136, 0.2612249588554692, 0.4600615006424096, 0.9159596791277944, 0.13020103319977006, 0.2896450072650537, 0.35516675162912403, 0.4312462044634813, 0.14715431410895496, 0.24057858891518755, 1.5016465181160088, 0.21607297095455247, 0.3940462622377772, 0.15424841896368363, 0.43692814619713427, 0.2347376646867021, 0.3330645802202391, 0.12828520678041083, 0.21751322775651993, 0.38287062754764595, 0.362848989811154, 0.3946870489032873, 0.22038887846261807, 0.7212490722224885, 0.8269571895811416, 0.21818828323815218, 3.729508682107107, 0.1442516153736458, 0.23373857648621246, 0.27785714969201936, 0.265202923630185, 0.48810795799565265, 0.160706689588229, 0.07107099293153918, 0.4115890181234364, 0.2411652126625125], \"type\": \"scatter\", \"uid\": \"13525af4-8b85-11e8-925c-28cfe9142f7f\"}],\n",
       "            {\"title\": \"Pressure vs. Volume\", \"xaxis\": {\"title\": \"Volume\"}, \"yaxis\": {\"title\": \"Pressure\"}},\n",
       "            {\"showLink\": true, \"linkText\": \"Export to plot.ly\"}\n",
       "        ).then(function () {return Plotly.addFrames('ccb878d9-f660-433c-bcf8-ae09740b42fa',{});}).then(function(){Plotly.animate('ccb878d9-f660-433c-bcf8-ae09740b42fa');})\n",
       "        });</script>"
      ]
     },
     "metadata": {},
     "output_type": "display_data"
    }
   ],
   "source": [
    "# Imports, borrowing code from a 'library' that is used to generate the graph.\n",
    "import plotly.offline as py\n",
    "from plotly.offline import init_notebook_mode, iplot\n",
    "import plotly.graph_objs as go\n",
    "import numpy as np\n",
    "from numpy import random as rand\n",
    "import math\n",
    "init_notebook_mode(connected=True)\n",
    "\n",
    "# Initialize data sets. This makes sure it does not graph old data from previous experiments.\n",
    "gx = []\n",
    "gy = []\n",
    "trials = []\n",
    "\n",
    "# Constant multiple in Boyle's Law.\n",
    "kB = 1\n",
    "\n",
    "# Boyle's Law is technically PV = k, where k is constant for that specific system, (It varies between systems.)\n",
    "# and P1V1 = P2V2 is only a result of this relationship. Students do not need to learn this however.\n",
    "# For simplicity k is set to 1.\n",
    "\n",
    "# Randomly generate data based on user defined volume and number of trials.\n",
    "for i in range(0, N):\n",
    "    temp = rand.random_sample() * volume\n",
    "    \n",
    "    # Prevent large outliers.\n",
    "    # The limit is arbitrary, it is just so the graph looks nice and so the relationship is clearly defined.\n",
    "    limit = rand.random_sample() + 1\n",
    "    while(kB/temp > volume/limit):\n",
    "        temp = rand.random_sample() * volume\n",
    "    \n",
    "    # Adds noise to points.\n",
    "    outputx = rand.uniform(temp-(rand.random_sample()/4), temp+(rand.random_sample()/4))\n",
    "    outputy = rand.uniform((kB/temp)-(rand.random_sample()/4), (kB/temp)+(rand.random_sample()/4))\n",
    "    \n",
    "    # Add the values to the list of data.\n",
    "    trials.append((outputx, outputy))\n",
    "    gx.append(outputx)\n",
    "    gy.append(outputy)\n",
    "\n",
    "# Organizes data.\n",
    "trace = go.Scatter(x=gx, y=gy, mode='markers')\n",
    "\n",
    "# Labels graph.\n",
    "templayout = go.Layout(title='Pressure vs. Volume', xaxis=dict(title='Volume'), yaxis=dict(title='Pressure'))\n",
    "\n",
    "# Renders graph. \n",
    "tempdata = [trace]\n",
    "fig = go.Figure(data=tempdata, layout=templayout)\n",
    "py.iplot(fig, filename='scatter-plot')"
   ]
  },
  {
   "cell_type": "markdown",
   "metadata": {},
   "source": [
    "<h1><a name=\"var\" style=\"text-decoration: none; color: black;\">Variance</a></h1>\n",
    "\n",
    "The formula of standard deviation can be defined as the square root of the variance. The variance can in turn be defined as the average of a set of values’ squared distances from their mean."
   ]
  },
  {
   "cell_type": "markdown",
   "metadata": {},
   "source": [
    "<h1><a name=\"exercise\" style=\"text-decoration: none; color: black;\">Exercise</a></h1>\n",
    "\n",
    "What is the variance of the data set below? Reorder the code cells using the up and down arrows to the left of the Run button. Leave the START and END cells in their position. The latter will output the final value, which you can check later. "
   ]
  },
  {
   "cell_type": "code",
   "execution_count": 19,
   "metadata": {},
   "outputs": [
    {
     "name": "stdout",
     "output_type": "stream",
     "text": [
      "[1, 2, 3, 4, 5]\n"
     ]
    }
   ],
   "source": [
    "#START\n",
    "values = [1, 2, 3, 4, 5] # Your dataset.\n",
    "print(values)"
   ]
  },
  {
   "cell_type": "code",
   "execution_count": 20,
   "metadata": {},
   "outputs": [
    {
     "name": "stdout",
     "output_type": "stream",
     "text": [
      "3.0\n"
     ]
    }
   ],
   "source": [
    "value = sum(values)/len(values) #divide the sum of the list of values by the length of the list\n",
    "print(value)"
   ]
  },
  {
   "cell_type": "code",
   "execution_count": 21,
   "metadata": {},
   "outputs": [
    {
     "name": "stdout",
     "output_type": "stream",
     "text": [
      "[0, 1, 4, 9, 16]\n"
     ]
    }
   ],
   "source": [
    "for i in range(len(values)): #for every value in the list\n",
    "  value = i**2 #square the value\n",
    "  values.append(value) #add it to the list\n",
    "del values[0:5] #remove the old list values\n",
    "print(values)"
   ]
  },
  {
   "cell_type": "code",
   "execution_count": 22,
   "metadata": {},
   "outputs": [
    {
     "name": "stdout",
     "output_type": "stream",
     "text": [
      "6.0\n"
     ]
    }
   ],
   "source": [
    "value = sum(values)/len(values) #divide the sum of the list of values by the length of the list\n",
    "print(value)"
   ]
  },
  {
   "cell_type": "code",
   "execution_count": 23,
   "metadata": {},
   "outputs": [
    {
     "name": "stdout",
     "output_type": "stream",
     "text": [
      "[-6.0, 7.0, -5.0, 8.0, -4.0]\n"
     ]
    }
   ],
   "source": [
    "for i in range(len(values)): #for every value in the list\n",
    "  value = i - value #subtract the value by the average\n",
    "  values.append(value) #add it to the list\n",
    "del values[0:5] #remove the old list values\n",
    "print(values)"
   ]
  },
  {
   "cell_type": "code",
   "execution_count": 24,
   "metadata": {},
   "outputs": [
    {
     "name": "stdout",
     "output_type": "stream",
     "text": [
      "-4.0\n"
     ]
    }
   ],
   "source": [
    "#END (final value)\n",
    "print(value)"
   ]
  },
  {
   "cell_type": "markdown",
   "metadata": {},
   "source": [
    "## Check your answer by running the cells below and inputting the final value to the textbox:"
   ]
  },
  {
   "cell_type": "code",
   "execution_count": 17,
   "metadata": {},
   "outputs": [],
   "source": [
    "# ANSWER HANDLING. Uncomment the 'print(\"This is the hash: \", temp)' line by deleting the # before it.\n",
    "\n",
    "# Imports.\n",
    "from IPython.display import display \n",
    "from ipywidgets import widgets\n",
    "import hashlib\n",
    "\n",
    "# Check the answer given by the student.\n",
    "def check_answer(x):\n",
    "    temp = None\n",
    "    try:\n",
    "        temp = hashlib.md5(str.encode(str(text.value))).hexdigest()\n",
    "        #print(\"This is the hash: \", temp)\n",
    "    except:\n",
    "        print(\"Not a number.\")\n",
    "    if(temp == answer):\n",
    "        print(\"Correct!\")\n",
    "    else:\n",
    "        print(\"Incorrect. Try again!\")"
   ]
  },
  {
   "cell_type": "code",
   "execution_count": 18,
   "metadata": {},
   "outputs": [
    {
     "data": {
      "application/vnd.jupyter.widget-view+json": {
       "model_id": "0d2db0a99041495fa9a7d2da67be77e7",
       "version_major": 2,
       "version_minor": 0
      },
      "text/plain": [
       "Text(value='')"
      ]
     },
     "metadata": {},
     "output_type": "display_data"
    },
    {
     "name": "stdout",
     "output_type": "stream",
     "text": [
      "Correct!\n"
     ]
    }
   ],
   "source": [
    "# Encrypted answer.\n",
    "answer = '9f41f9f1c434718ae6e50ffba61152d0'\n",
    "\n",
    "# Create answer box.\n",
    "text = widgets.Text()\n",
    "display(text)\n",
    "text.on_submit(check_answer)"
   ]
  },
  {
   "cell_type": "markdown",
   "metadata": {},
   "source": [
    "You might be wondering why we square. Here’s a simplistic explanation: First, it’s important to understand that a negative standard deviation - distance from the predicted value - does not make sense. Second, in order to relate variance to standard deviation, we need to perform operations that can be undone - when you square a value, you can then square root it. If we took the absolute value, then we couldn’t reverse it in a way that accurately depicts the correlation between data. "
   ]
  },
  {
   "cell_type": "markdown",
   "metadata": {},
   "source": [
    "<h1><a name=\"samples\" style=\"text-decoration: none; color: black;\">Standard Deviation of Samples</a></h1>\n",
    "\n",
    "We’ve just calculated the standard deviation of a population - a small data set composed of ten values. A sample is only a section of the total population, so if we were to calculate the standard deviation the same way, our values would be skewed. To compensate for this, instead of dividing by the total number of values when calculating the average of the squared differences, we want to divide by the total number of values minus 1. \n",
    "\n",
    "<h1><a name=\"summary\" style=\"text-decoration: none; color: black;\">Summary</a></h1>\n",
    "\n",
    "1. Calculate the mean (average value) of the data points by adding up the data points and dividing by the total number of data points <br>\n",
    "\n",
    "2. Calculate the deviation by subtracting the mean value calculated in the first step from each data point (Fun fact: if the data point is above the mean value, its deviation would be positive if the data point is below the mean value, its deviation would be negative) <br>\n",
    "\n",
    "3. Square each deviation calculated in the second step to make each value positive  <br>\n",
    "\n",
    "4. Add up the square deviations calculated in the third step <br>\n",
    "\n",
    "5. Divide the sum calculated in the fourth step by the total number of data points (or one less than the number of the data points for samples) <br>\n",
    "\n",
    "6. Take the square root of the value resulting from step 5 <br>\n",
    "\n",
    "<h1><a name=\"concl\" style=\"text-decoration: none; color: black;\">Conclusion</a></h1>\n",
    "\n",
    "In this section, we introduced standard deviation for populations and samples, and how variance can be used to calculate both. "
   ]
  }
 ],
 "metadata": {
  "kernelspec": {
   "display_name": "Python 3",
   "language": "python",
   "name": "python3"
  },
  "language_info": {
   "codemirror_mode": {
    "name": "ipython",
    "version": 3
   },
   "file_extension": ".py",
   "mimetype": "text/x-python",
   "name": "python",
   "nbconvert_exporter": "python",
   "pygments_lexer": "ipython3",
   "version": "3.6.5"
  }
 },
 "nbformat": 4,
 "nbformat_minor": 2
}
