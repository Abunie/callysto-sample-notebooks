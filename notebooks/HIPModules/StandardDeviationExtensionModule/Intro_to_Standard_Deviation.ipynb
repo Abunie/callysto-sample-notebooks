{
 "cells": [
  {
   "cell_type": "markdown",
   "metadata": {},
   "source": [
    "<img width=\"100%\" src=\"callystoBannerTop.jpg\"/>"
   ]
  },
  {
   "cell_type": "markdown",
   "metadata": {},
   "source": [
    "To run all the code cells now click `Cell` in the menu above and click `Run All`.\n",
    "\n",
    "# For Teachers\n",
    "**Delete this portion before handing over to students:**<br>\n",
    "**if you want to change / personalize one of the practice questions and need to change the answer, uncomment the print statement in the check_answer function in any of the \"# ANSWER HANDLING.\" cells, type your desired answer into the text field, and copy the outputted hash into the 'answer' variable.**"
   ]
  },
  {
   "cell_type": "markdown",
   "metadata": {},
   "source": [
    "# Overview\n",
    "In this notebook, we will introduce the concept standard deviation and how to calculate variance. We are expecting that the students understand square roots and mean calculation. Note that this module is an optional extension and is not necessary to meet any curriculum outcomes.\n",
    "\n",
    "**Note:** Do not be intimidated by the code! You do not have to touch or edit most of it, and all you have to do is run the code. There are is an exercise where you are asked to order the code cells in the correct order for calculations, but they are clearly labeled and relatively simple. If you make a change to the code and it stops working, those changes can be reversed by re-downloading the original notebook. "
   ]
  },
  {
   "cell_type": "markdown",
   "metadata": {},
   "source": [
    "# Introduction\n",
    "The average female 3 year old is 94cm tall. If the day care has 30 three-year-old girls, would they all be the same height? No, because heights vary from the average. But by how much? If heights are so varied, how can we use this average to determine whether a child is healthy? Is the relationship between height and age really that distinct? We can ask so many questions about data like this. And our first step to gaining answers is learning about standard deviation. "
   ]
  },
  {
   "cell_type": "markdown",
   "metadata": {},
   "source": [
    "# Table of Contents\n",
    "I. <a href = \"#sd\"> What is Standard Deviation </a> <br>\n",
    "II. <a href = \"#var\"> Variance </a> <br>\n",
    "III. <a href =\"#exercise\"> Exercise </a> <br>\n",
    "IV. <a href = \"#samples\"> Standard Deviation of Samples </a> <br>\n",
    "V. <a href = \"#summary\"> Summary </a> <br>\n",
    "VI. <a href = \"#concl\"> Conclusion </a> <br>"
   ]
  },
  {
   "cell_type": "markdown",
   "metadata": {},
   "source": [
    "<h1><a name=\"sd\" style=\"text-decoration: none; color: black;\">What is Standard Deviation?</a></h1>\n",
    "\n",
    "The standard deviation of a graphed relationship is key to understanding the significance of the relationship and determining the strength of the relationship. Standard deviation measures the spread of each data point from the mean value.\n",
    "\n",
    "Don't worry too much about the code below, if you can pick out what certain lines do that's great, but if not, just run it and observe the graph below. Notice how the data doesn't form a perfect line, yet the relationship between age and height is clearly defined? This is because the values are spread out over a specific standard deviation around the mean line. "
   ]
  },
  {
   "cell_type": "code",
   "execution_count": 1,
   "metadata": {},
   "outputs": [
    {
     "data": {
      "text/html": [
       "<script>requirejs.config({paths: { 'plotly': ['https://cdn.plot.ly/plotly-latest.min']},});if(!window.Plotly) {{require(['plotly'],function(plotly) {window.Plotly=plotly;});}}</script>"
      ],
      "text/vnd.plotly.v1+html": [
       "<script>requirejs.config({paths: { 'plotly': ['https://cdn.plot.ly/plotly-latest.min']},});if(!window.Plotly) {{require(['plotly'],function(plotly) {window.Plotly=plotly;});}}</script>"
      ]
     },
     "metadata": {},
     "output_type": "display_data"
    },
    {
     "data": {
      "application/vnd.plotly.v1+json": {
       "data": [
        {
         "mode": "markers",
         "name": "Age vs. Height",
         "type": "scatter",
         "uid": "fc8e6e78-9c07-11e8-baea-28cfe9142f7f",
         "x": [
          3.0231699768425613,
          3.0240411671359464,
          3.0705770950123568,
          3.089936033942595,
          3.1395347912587126,
          3.1565445051946024,
          3.167854526985679,
          3.2870018205146807,
          3.3115462829407245,
          3.315155127532308,
          3.3206266349303903,
          3.35294901257723,
          3.352961061354934,
          3.353473400202478,
          3.3611967988757687,
          3.512869380572236,
          3.643374420691737,
          3.6475074207646374,
          3.663386570609344,
          3.6697045404297213,
          3.6969182174637334,
          3.728620902502101,
          3.773778381951972,
          3.7742986251436657,
          3.775175404481271,
          3.7958241292409154,
          3.8024910112995487,
          3.820857773370863,
          3.897823634260064,
          3.898415440091376
         ],
         "y": [
          93.25762649229834,
          93.32205700733832,
          93.36285249300714,
          93.46765965489331,
          93.54152520047182,
          93.63108404891169,
          93.65022375016619,
          93.66325169185528,
          93.7460273883913,
          93.75136748713346,
          93.79050236758879,
          93.81415874902765,
          93.85461588169284,
          93.87793698130523,
          93.89913720809707,
          93.92120284959982,
          93.94194283803701,
          93.976495839433,
          93.97946693980678,
          94.00439663558915,
          94.06232906813189,
          94.07841179874802,
          94.08325507834384,
          94.10653329460337,
          94.33992419021094,
          94.35181424499972,
          94.35192171296922,
          94.40072926263466,
          94.48184495732681,
          94.56811314831546
         ]
        }
       ],
       "layout": {}
      },
      "text/html": [
       "<div id=\"a5866003-7c8b-461c-81f1-1b4059c15657\" style=\"height: 525px; width: 100%;\" class=\"plotly-graph-div\"></div><script type=\"text/javascript\">require([\"plotly\"], function(Plotly) { window.PLOTLYENV=window.PLOTLYENV || {};window.PLOTLYENV.BASE_URL=\"https://plot.ly\";Plotly.newPlot(\"a5866003-7c8b-461c-81f1-1b4059c15657\", [{\"mode\": \"markers\", \"name\": \"Age vs. Height\", \"x\": [3.0231699768425613, 3.0240411671359464, 3.0705770950123568, 3.089936033942595, 3.1395347912587126, 3.1565445051946024, 3.167854526985679, 3.2870018205146807, 3.3115462829407245, 3.315155127532308, 3.3206266349303903, 3.35294901257723, 3.352961061354934, 3.353473400202478, 3.3611967988757687, 3.512869380572236, 3.643374420691737, 3.6475074207646374, 3.663386570609344, 3.6697045404297213, 3.6969182174637334, 3.728620902502101, 3.773778381951972, 3.7742986251436657, 3.775175404481271, 3.7958241292409154, 3.8024910112995487, 3.820857773370863, 3.897823634260064, 3.898415440091376], \"y\": [93.25762649229834, 93.32205700733832, 93.36285249300714, 93.46765965489331, 93.54152520047182, 93.63108404891169, 93.65022375016619, 93.66325169185528, 93.7460273883913, 93.75136748713346, 93.79050236758879, 93.81415874902765, 93.85461588169284, 93.87793698130523, 93.89913720809707, 93.92120284959982, 93.94194283803701, 93.976495839433, 93.97946693980678, 94.00439663558915, 94.06232906813189, 94.07841179874802, 94.08325507834384, 94.10653329460337, 94.33992419021094, 94.35181424499972, 94.35192171296922, 94.40072926263466, 94.48184495732681, 94.56811314831546], \"type\": \"scatter\", \"uid\": \"fcbe1d94-9c07-11e8-baea-28cfe9142f7f\"}], {}, {\"showLink\": true, \"linkText\": \"Export to plot.ly\"})});</script>"
      ],
      "text/vnd.plotly.v1+html": [
       "<div id=\"a5866003-7c8b-461c-81f1-1b4059c15657\" style=\"height: 525px; width: 100%;\" class=\"plotly-graph-div\"></div><script type=\"text/javascript\">require([\"plotly\"], function(Plotly) { window.PLOTLYENV=window.PLOTLYENV || {};window.PLOTLYENV.BASE_URL=\"https://plot.ly\";Plotly.newPlot(\"a5866003-7c8b-461c-81f1-1b4059c15657\", [{\"mode\": \"markers\", \"name\": \"Age vs. Height\", \"x\": [3.0231699768425613, 3.0240411671359464, 3.0705770950123568, 3.089936033942595, 3.1395347912587126, 3.1565445051946024, 3.167854526985679, 3.2870018205146807, 3.3115462829407245, 3.315155127532308, 3.3206266349303903, 3.35294901257723, 3.352961061354934, 3.353473400202478, 3.3611967988757687, 3.512869380572236, 3.643374420691737, 3.6475074207646374, 3.663386570609344, 3.6697045404297213, 3.6969182174637334, 3.728620902502101, 3.773778381951972, 3.7742986251436657, 3.775175404481271, 3.7958241292409154, 3.8024910112995487, 3.820857773370863, 3.897823634260064, 3.898415440091376], \"y\": [93.25762649229834, 93.32205700733832, 93.36285249300714, 93.46765965489331, 93.54152520047182, 93.63108404891169, 93.65022375016619, 93.66325169185528, 93.7460273883913, 93.75136748713346, 93.79050236758879, 93.81415874902765, 93.85461588169284, 93.87793698130523, 93.89913720809707, 93.92120284959982, 93.94194283803701, 93.976495839433, 93.97946693980678, 94.00439663558915, 94.06232906813189, 94.07841179874802, 94.08325507834384, 94.10653329460337, 94.33992419021094, 94.35181424499972, 94.35192171296922, 94.40072926263466, 94.48184495732681, 94.56811314831546], \"type\": \"scatter\", \"uid\": \"fcbe1d94-9c07-11e8-baea-28cfe9142f7f\"}], {}, {\"showLink\": true, \"linkText\": \"Export to plot.ly\"})});</script>"
      ]
     },
     "metadata": {},
     "output_type": "display_data"
    }
   ],
   "source": [
    "import scatter as sc\n",
    "sc.graph()"
   ]
  },
  {
   "cell_type": "markdown",
   "metadata": {},
   "source": [
    "<h1><a name=\"var\" style=\"text-decoration: none; color: black;\">Variance</a></h1>\n",
    "\n",
    "The formula of standard deviation can be defined as the square root of the variance. The variance can in turn be defined as the average of a set of values’ squared distances from their mean."
   ]
  },
  {
   "cell_type": "markdown",
   "metadata": {},
   "source": [
    "<h1><a name=\"exercise\" style=\"text-decoration: none; color: black;\">Exercise</a></h1>\n",
    "\n",
    "What is the variance of the data set below? Reorder the code cells using the up and down arrows to the left of the Run button. Leave the START and END cells in their position. The latter will output the final value, which you can check later. "
   ]
  },
  {
   "cell_type": "code",
   "execution_count": 3,
   "metadata": {},
   "outputs": [
    {
     "name": "stdout",
     "output_type": "stream",
     "text": [
      "[1, 2, 3, 4, 5]\n"
     ]
    }
   ],
   "source": [
    "#START\n",
    "values = [1, 2, 3, 4, 5] # Your dataset.\n",
    "print(values)"
   ]
  },
  {
   "cell_type": "code",
   "execution_count": 4,
   "metadata": {},
   "outputs": [
    {
     "name": "stdout",
     "output_type": "stream",
     "text": [
      "3.0\n"
     ]
    }
   ],
   "source": [
    "value = sum(values)/len(values) # Divide the sum of the list of values by the length of the list.\n",
    "print(value)"
   ]
  },
  {
   "cell_type": "code",
   "execution_count": 5,
   "metadata": {},
   "outputs": [
    {
     "name": "stdout",
     "output_type": "stream",
     "text": [
      "[0, 1, 4, 9, 16]\n"
     ]
    }
   ],
   "source": [
    "for i in range(len(values)): # For every value in the list...\n",
    "  value = i**2 # Square the value.\n",
    "  values.append(value) # Add it to the list.\n",
    "del values[0:5] # Remove the old list values.\n",
    "print(values)"
   ]
  },
  {
   "cell_type": "code",
   "execution_count": 6,
   "metadata": {},
   "outputs": [
    {
     "name": "stdout",
     "output_type": "stream",
     "text": [
      "6.0\n"
     ]
    }
   ],
   "source": [
    "value = sum(values)/len(values) # Divide the sum of the list of values by the length of the list.\n",
    "print(value)"
   ]
  },
  {
   "cell_type": "code",
   "execution_count": 7,
   "metadata": {},
   "outputs": [
    {
     "name": "stdout",
     "output_type": "stream",
     "text": [
      "[-6.0, 7.0, -5.0, 8.0, -4.0]\n"
     ]
    }
   ],
   "source": [
    "for i in range(len(values)): # For every value in the list.\n",
    "  value = i - value # Subtract the value by the average.\n",
    "  values.append(value) # Add it to the list.\n",
    "del values[0:5] # Remove the old list values.\n",
    "print(values)"
   ]
  },
  {
   "cell_type": "code",
   "execution_count": 8,
   "metadata": {},
   "outputs": [
    {
     "name": "stdout",
     "output_type": "stream",
     "text": [
      "-4.0\n"
     ]
    }
   ],
   "source": [
    "#END (final value)\n",
    "print(value)"
   ]
  },
  {
   "cell_type": "markdown",
   "metadata": {},
   "source": [
    "## Check your answer by running the cells below and inputting the final value to the textbox:\n",
    "Again, you don't have to do anything in the code cells, just run them :)"
   ]
  },
  {
   "cell_type": "code",
   "execution_count": 9,
   "metadata": {},
   "outputs": [],
   "source": [
    "# ANSWER HANDLING. Uncomment the 'print(\"This is the hash: \", temp)' line by deleting the # before it.\n",
    "\n",
    "# Imports.\n",
    "from IPython.display import display \n",
    "from ipywidgets import widgets\n",
    "import hashlib\n",
    "\n",
    "# Check the answer given by the student.\n",
    "def check_answer(x):\n",
    "    temp = None\n",
    "    try:\n",
    "        temp = hashlib.md5(str.encode(str(text.value))).hexdigest()\n",
    "        #print(\"This is the hash: \", temp)\n",
    "    except:\n",
    "        print(\"Not a number.\")\n",
    "    if(temp == answer):\n",
    "        print(\"Correct!\")\n",
    "    else:\n",
    "        print(\"Incorrect. Try again!\")"
   ]
  },
  {
   "cell_type": "code",
   "execution_count": 10,
   "metadata": {},
   "outputs": [
    {
     "data": {
      "application/vnd.jupyter.widget-view+json": {
       "model_id": "870abe654714449eb8244e7621981a53",
       "version_major": 2,
       "version_minor": 0
      },
      "text/plain": [
       "Text(value='')"
      ]
     },
     "metadata": {},
     "output_type": "display_data"
    }
   ],
   "source": [
    "# Encrypted answer.\n",
    "answer = '9f41f9f1c434718ae6e50ffba61152d0'\n",
    "\n",
    "# Create answer box.\n",
    "text = widgets.Text()\n",
    "display(text)\n",
    "text.on_submit(check_answer)"
   ]
  },
  {
   "cell_type": "markdown",
   "metadata": {},
   "source": [
    "You might be wondering why we square. Here’s a simplistic explanation: First, it’s important to understand that a negative standard deviation - distance from the predicted value - does not make sense. Second, in order to relate variance to standard deviation, we need to perform operations that can be undone - when you square a value, you can then square root it. If we took the absolute value, then we couldn’t reverse it in a way that accurately depicts the correlation between data. "
   ]
  },
  {
   "cell_type": "markdown",
   "metadata": {},
   "source": [
    "<h1><a name=\"samples\" style=\"text-decoration: none; color: black;\">Standard Deviation of Samples</a></h1>\n",
    "\n",
    "We’ve just calculated the standard deviation of a population - a small data set composed of ten values. A sample is only a section of the total population, so if we were to calculate the standard deviation the same way, our values would be skewed. To compensate for this, instead of dividing by the total number of values when calculating the average of the squared differences, we want to divide by the total number of values minus 1. \n",
    "\n",
    "<h1><a name=\"summary\" style=\"text-decoration: none; color: black;\">Summary</a></h1>\n",
    "\n",
    "1. Calculate the mean (average value) of the data points by adding up the data points and dividing by the total number of data points <br>\n",
    "\n",
    "2. Calculate the deviation by subtracting the mean value calculated in the first step from each data point <br> _(Fun fact: if the data point is above the mean value, its deviation would be positive if the data point is below the mean value, its deviation would be negative)_ <br>\n",
    "\n",
    "3. Square each deviation calculated in the second step to make each value positive  <br>\n",
    "\n",
    "4. Add up the square deviations calculated in the third step <br>\n",
    "\n",
    "5. Divide the sum calculated in the fourth step by the total number of data points (or one less than the number of the data points for samples) <br>\n",
    "\n",
    "6. Take the square root of the value resulting from step 5 <br>\n",
    "\n",
    "<h1><a name=\"concl\" style=\"text-decoration: none; color: black;\">Conclusion</a></h1>\n",
    "\n",
    "In this section, we introduced standard deviation for populations and samples, and how variance can be used to calculate both. "
   ]
  },
  {
   "cell_type": "markdown",
   "metadata": {},
   "source": [
    "<img width=\"100%\" src=\"callystoBannerBottom.jpg\"/>"
   ]
  }
 ],
 "metadata": {
  "kernelspec": {
   "display_name": "Python 3",
   "language": "python",
   "name": "python3"
  },
  "language_info": {
   "codemirror_mode": {
    "name": "ipython",
    "version": 3
   },
   "file_extension": ".py",
   "mimetype": "text/x-python",
   "name": "python",
   "nbconvert_exporter": "python",
   "pygments_lexer": "ipython3",
   "version": "3.7.0"
  }
 },
 "nbformat": 4,
 "nbformat_minor": 2
}
