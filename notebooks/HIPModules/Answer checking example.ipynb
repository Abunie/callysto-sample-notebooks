{
 "cells": [
  {
   "cell_type": "code",
   "execution_count": 12,
   "metadata": {},
   "outputs": [],
   "source": [
    "answer = 10\n",
    "\n",
    "#THIS IS HARDCODED JUST FOR THIS EXAMPLE"
   ]
  },
  {
   "cell_type": "code",
   "execution_count": 19,
   "metadata": {},
   "outputs": [
    {
     "data": {
      "application/vnd.jupyter.widget-view+json": {
       "model_id": "45a1ea838794422baf10f3598c9f5021",
       "version_major": 2,
       "version_minor": 0
      },
      "text/plain": [
       "Text(value='')"
      ]
     },
     "metadata": {},
     "output_type": "display_data"
    },
    {
     "name": "stdout",
     "output_type": "stream",
     "text": [
      "sd\n",
      "Not a num\n",
      "4\n",
      "10\n",
      "Yay!\n"
     ]
    }
   ],
   "source": [
    "from IPython.display import display \n",
    "from ipywidgets import widgets\n",
    "\n",
    "def f(x):\n",
    "    temp = -10000\n",
    "    \n",
    "    print(text.value)\n",
    "    try:\n",
    "        temp = int(text.value)\n",
    "    except:\n",
    "        print(\"Not a num\")\n",
    "    \n",
    "    if(temp == answer):\n",
    "        print(\"Yay!\")\n",
    "\n",
    "text = widgets.Text()\n",
    "display(text)\n",
    "\n",
    "text.on_submit(f)"
   ]
  },
  {
   "cell_type": "code",
   "execution_count": null,
   "metadata": {},
   "outputs": [],
   "source": []
  },
  {
   "cell_type": "code",
   "execution_count": null,
   "metadata": {},
   "outputs": [],
   "source": []
  }
 ],
 "metadata": {
  "kernelspec": {
   "display_name": "Python 3",
   "language": "python",
   "name": "python3"
  },
  "language_info": {
   "codemirror_mode": {
    "name": "ipython",
    "version": 3
   },
   "file_extension": ".py",
   "mimetype": "text/x-python",
   "name": "python",
   "nbconvert_exporter": "python",
   "pygments_lexer": "ipython3",
   "version": "3.6.5"
  }
 },
 "nbformat": 4,
 "nbformat_minor": 2
}
