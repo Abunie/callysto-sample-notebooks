{
 "cells": [
  {
   "cell_type": "code",
   "execution_count": 1,
   "metadata": {},
   "outputs": [],
   "source": [
    "answer = 5\n",
    "\n",
    "#THIS IS HARDCODED JUST FOR THIS EXAMPLE"
   ]
  },
  {
   "cell_type": "code",
   "execution_count": 2,
   "metadata": {},
   "outputs": [
    {
     "data": {
      "application/vnd.jupyter.widget-view+json": {
       "model_id": "8d8a016ea60f43b4bfe52efaf7426337",
       "version_major": 2,
       "version_minor": 0
      },
      "text/plain": [
       "Text(value='')"
      ]
     },
     "metadata": {},
     "output_type": "display_data"
    }
   ],
   "source": [
    "from IPython.display import display \n",
    "from ipywidgets import widgets\n",
    "\n",
    "def f(x):\n",
    "    temp = -10000\n",
    "    \n",
    "    print(text.value)\n",
    "    try:\n",
    "        temp = int(text.value)\n",
    "    except:\n",
    "        print(\"Not a num\")\n",
    "    \n",
    "    if(temp == answer):\n",
    "        print(\"Yay!\")\n",
    "    else:\n",
    "        print(\"Whoops! Try again!\")\n",
    "\n",
    "text = widgets.Text()\n",
    "display(text)\n",
    "\n",
    "text.on_submit(f)"
   ]
  },
  {
   "cell_type": "code",
   "execution_count": null,
   "metadata": {},
   "outputs": [],
   "source": []
  },
  {
   "cell_type": "code",
   "execution_count": null,
   "metadata": {},
   "outputs": [],
   "source": []
  }
 ],
 "metadata": {
  "kernelspec": {
   "display_name": "Python 3",
   "language": "python",
   "name": "python3"
  },
  "language_info": {
   "codemirror_mode": {
    "name": "ipython",
    "version": 3
   },
   "file_extension": ".py",
   "mimetype": "text/x-python",
   "name": "python",
   "nbconvert_exporter": "python",
   "pygments_lexer": "ipython3",
   "version": "3.7.0"
  }
 },
 "nbformat": 4,
 "nbformat_minor": 2
}
