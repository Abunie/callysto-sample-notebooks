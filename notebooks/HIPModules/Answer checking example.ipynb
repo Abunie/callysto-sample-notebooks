{
 "cells": [
  {
   "cell_type": "code",
   "execution_count": 40,
   "metadata": {},
   "outputs": [
    {
     "name": "stdout",
     "output_type": "stream",
     "text": [
      "4e44f1ac85cd60e3caa56bfd4afb675e\n"
     ]
    }
   ],
   "source": [
    "import hashlib\n",
    "answer = 'e4da3b7fbbce2345d7772b0674a318d5'\n",
    "\n",
    "temp = str(answer)\n",
    "\n",
    "print(hashlib.md5(str.encode(str(temp))).hexdigest())\n",
    "#THIS IS HARDCODED JUST FOR THIS EXAMPLE"
   ]
  },
  {
   "cell_type": "code",
   "execution_count": 38,
   "metadata": {},
   "outputs": [
    {
     "data": {
      "application/vnd.jupyter.widget-view+json": {
       "model_id": "58e10677aa074bab8c40f3e9a5d02d1b",
       "version_major": 2,
       "version_minor": 0
      },
      "text/plain": [
       "Text(value='')"
      ]
     },
     "metadata": {},
     "output_type": "display_data"
    },
    {
     "name": "stdout",
     "output_type": "stream",
     "text": [
      "2334\n",
      "Whoops! Try again!\n",
      "5\n",
      "Yay!\n"
     ]
    }
   ],
   "source": [
    "from IPython.display import display \n",
    "from ipywidgets import widgets\n",
    "\n",
    "def f(x):\n",
    "    temp = -10000\n",
    "    \n",
    "    print(text.value)\n",
    "    try:\n",
    "        temp = hashlib.md5(str.encode(str(text.value))).hexdigest()\n",
    "    except:\n",
    "        print(\"Not a num\")\n",
    "    \n",
    "    if(temp == answer and temp != -10000):\n",
    "        print(\"Yay!\")\n",
    "    else:\n",
    "        print(\"Whoops! Try again!\")\n",
    "\n",
    "text = widgets.Text()\n",
    "display(text)\n",
    "\n",
    "text.on_submit(f)"
   ]
  },
  {
   "cell_type": "code",
   "execution_count": null,
   "metadata": {},
   "outputs": [],
   "source": []
  },
  {
   "cell_type": "code",
   "execution_count": null,
   "metadata": {},
   "outputs": [],
   "source": []
  }
 ],
 "metadata": {
  "kernelspec": {
   "display_name": "Python 3",
   "language": "python",
   "name": "python3"
  },
  "language_info": {
   "codemirror_mode": {
    "name": "ipython",
    "version": 3
   },
   "file_extension": ".py",
   "mimetype": "text/x-python",
   "name": "python",
   "nbconvert_exporter": "python",
   "pygments_lexer": "ipython3",
   "version": "3.6.5"
  }
 },
 "nbformat": 4,
 "nbformat_minor": 2
}
