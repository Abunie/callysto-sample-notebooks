{
 "cells": [
  {
   "cell_type": "markdown",
   "metadata": {},
   "source": [
    "1. Assume the temperature and the number of gas molecules stay constant within the adult’s lung. Initially, the capacity of the lung is 3.4 liters, and the pressure in the adult’s lung is 15 mmHg. When the lung is expanded to the maximum capacity (average maximum capacity of adult's lung is 6.0 liters), use Boyle’s Law to determine the new pressure in mmHg within the adult’s lung.\n"
   ]
  },
  {
   "cell_type": "markdown",
   "metadata": {},
   "source": [
    "First, since we know that temperature is constant and that the system (Person's lungs) is issolated, we know that Boyle's Law can be applied to solve this question. The key to understanding this question is understanding the inverse relationship between pressure and volume. When pressure goes up, we should always expect volume to go down, and vice versa. Keeping that in mind, it is a simple plug-into-formula type question. In addition, we do not need to change the units of pressure/volume for Boyle's Law if the units are consistent between each side. If the question say asked for the pressure in kPa, we would first need to calculate it in mmHg and then convert the units.\n",
    "\n",
    "Lets start with the basic equation:\n",
    "\n",
    "$\n",
    "P_1V_1 = P_2V_2\n",
    "$\n",
    "\n",
    "We know the values of $P_1$, $V_1$, and $V_2$. They are respectively:\n",
    "\n",
    "$P_1 = 15mmHg$\n",
    "\n",
    "$V_1 = 3.4L$\n",
    "\n",
    "$V_2 = 6L$\n",
    "\n",
    "Lets rearrange the formula to issolate $P_2$, the quantity that we are looking for, on one side:\n",
    "\n",
    "$\n",
    "P_2 = \\frac{P_1V_1}{V_2}\n",
    "$\n",
    "\n",
    "Substitute in our values:\n",
    "\n",
    "$\n",
    "P_2 = \\frac{(15mmHg)(3.4L)}{(6L)}\n",
    "$\n",
    "\n",
    "And solve for the final answer of:\n",
    "\n",
    "$P_2 = 8.5mmHg$\n",
    "\n",
    "Remember to round to the nearest significant figure, in this case 2, for the answer tester to interpret your answer correctly."
   ]
  },
  {
   "cell_type": "markdown",
   "metadata": {},
   "source": [
    "$\n",
    "\\frac{meme}{dream}\n",
    "$"
   ]
  },
  {
   "cell_type": "code",
   "execution_count": null,
   "metadata": {},
   "outputs": [],
   "source": []
  }
 ],
 "metadata": {
  "kernelspec": {
   "display_name": "Python 3",
   "language": "python",
   "name": "python3"
  },
  "language_info": {
   "codemirror_mode": {
    "name": "ipython",
    "version": 3
   },
   "file_extension": ".py",
   "mimetype": "text/x-python",
   "name": "python",
   "nbconvert_exporter": "python",
   "pygments_lexer": "ipython3",
   "version": "3.6.5"
  }
 },
 "nbformat": 4,
 "nbformat_minor": 2
}
