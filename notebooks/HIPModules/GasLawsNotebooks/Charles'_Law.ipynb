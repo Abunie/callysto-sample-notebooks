{
 "cells": [
  {
   "cell_type": "markdown",
   "metadata": {},
   "source": [
    "# Charles' Law\n",
    "The temperature of the nitrogen gas in airbags is originally extremely high so that the volume of the airbag is expands quickly due to the directly proportional relationship between the temperature and the volume of the gas. When the airbag is later exposed to the cooler outside air, the temperature of the nitrogen gas gradually changes which causes the volume of the airbag to slowly decrease in size, creating a softer cushion for the impact. This relationship, where pressure is constant, was developed in 1787 by Jacques Charles. It can be expressed by the equation below:\n",
    "\n",
    "$$\n",
    "\\huge\n",
    "\\frac{V_1}{T_1} = \\frac{V_2}{T_2}\n",
    "$$\n",
    "\n",
    "# Optional Reading - Pressure does change, but returns to its original value\n",
    "Using the kinetic molecular theory to explain the Charles' Law, imagine that the pressure and the chemical amount of gas are held constant using a piston. When the temperature of the gas molecules increases, the gas molecules will move at a higher speed because temperature and the average kinetic energy of the gas molecules have a direct relationship. As a result, gas molecules will collide with each other and with walls of the container more frequently which exerts a greater force on the wall of container. Because the external pressure on the container is held constant, but the gas pressure inside the container are increased, the piston of the container is pushed up to increase the volume of the container."
   ]
  },
  {
   "cell_type": "markdown",
   "metadata": {},
   "source": [
    "# Experiment\n",
    "Let's say we want to drive a car into a wall but save our crash test dummy with a standard airbag that has an average volume of 70L when inflated. We will run a few simulations to find out what average temperature we need the nitrogen gas to be at to inflate the airbag to the desired volume. "
   ]
  },
  {
   "cell_type": "code",
   "execution_count": 3,
   "metadata": {},
   "outputs": [],
   "source": [
    "# Imports, borrowing code from a 'library' that is used to generate the graph.\n",
    "import plotly.offline as py\n",
    "from plotly.offline import init_notebook_mode, iplot\n",
    "import plotly.graph_objs as go\n",
    "import numpy as np\n",
    "import random\n",
    "from numpy import random as rand"
   ]
  },
  {
   "cell_type": "code",
   "execution_count": 4,
   "metadata": {},
   "outputs": [],
   "source": [
    "# STEP 1.\n",
    "# Set these values ONCE at the beginning of your experiment.\n",
    "\n",
    "# Average volume in litres.\n",
    "ave_volume = 10\n",
    "\n",
    "# Initialize data sets. This makes sure it does not graph old data from previous experiments.\n",
    "volumes = []\n",
    "temps = []\n",
    "trials = []\n",
    "tests = []"
   ]
  },
  {
   "cell_type": "code",
   "execution_count": 5,
   "metadata": {},
   "outputs": [],
   "source": [
    "for i in range(10):\n",
    "    # STEP 2.\n",
    "    # Run this cell to generate values to populate your table, then run the graph-generating cell.\n",
    "    yielded = random.uniform((ave_volume-(rand.random_sample()*10)), (ave_volume+rand.random_sample()*10))\n",
    "\n",
    "    # Rounds value to 2 decimal places before adding it to the list of data.\n",
    "    volume = round(yielded, 2)\n",
    "    volumes.append(volume)\n",
    "\n",
    "    # Constant multiple in Charles' Law.\n",
    "    kC = 0.56\n",
    "\n",
    "    # Charles' Law is technically V/T = k, where k is constant for that specific system, (It varies between systems.)\n",
    "    # and V1/T1 V2/T2 is only a result of this relationship. Students do not need to learn this however.\n",
    "    # k is just arbitrarily set.\n",
    "\n",
    "    # Adds value to list of data. \n",
    "    temp = kC*volume\n",
    "    \n",
    "    temps.append(temp)\n",
    "    \n",
    "    tests.append((volume, temp))\n",
    "\n",
    "    # Labels trials according to how many values are in the list of data\n",
    "    if len(volumes) > len(trials):\n",
    "        trials.append('Trial ' + str(len(volumes)))"
   ]
  },
  {
   "cell_type": "code",
   "execution_count": 6,
   "metadata": {},
   "outputs": [
    {
     "data": {
      "text/html": [
       "<script>requirejs.config({paths: { 'plotly': ['https://cdn.plot.ly/plotly-latest.min']},});if(!window.Plotly) {{require(['plotly'],function(plotly) {window.Plotly=plotly;});}}</script>"
      ],
      "text/vnd.plotly.v1+html": [
       "<script>requirejs.config({paths: { 'plotly': ['https://cdn.plot.ly/plotly-latest.min']},});if(!window.Plotly) {{require(['plotly'],function(plotly) {window.Plotly=plotly;});}}</script>"
      ]
     },
     "metadata": {},
     "output_type": "display_data"
    },
    {
     "data": {
      "application/vnd.plotly.v1+json": {
       "data": [
        {
         "name": "Volume",
         "type": "bar",
         "uid": "f6fa3fde-8927-11e8-a269-28cfe9142f7f",
         "x": [
          "Trial 1",
          "Trial 2",
          "Trial 3",
          "Trial 4",
          "Trial 5",
          "Trial 6",
          "Trial 7",
          "Trial 8",
          "Trial 9",
          "Trial 10"
         ],
         "y": [
          9.27,
          7.82,
          12.83,
          4.27,
          6.67,
          12.81,
          10.13,
          11.01,
          10.92,
          16.18
         ]
        },
        {
         "name": "Temperature",
         "type": "bar",
         "uid": "f6fa4538-8927-11e8-a269-28cfe9142f7f",
         "x": [
          "Trial 1",
          "Trial 2",
          "Trial 3",
          "Trial 4",
          "Trial 5",
          "Trial 6",
          "Trial 7",
          "Trial 8",
          "Trial 9",
          "Trial 10"
         ],
         "y": [
          5.1912,
          4.379200000000001,
          7.184800000000001,
          2.3912,
          3.7352000000000003,
          7.173600000000001,
          5.672800000000001,
          6.1656,
          6.115200000000001,
          9.0608
         ]
        }
       ],
       "layout": {
        "barmode": "group"
       }
      },
      "text/html": [
       "<div id=\"1023afd7-5b7e-40b6-9b94-e3b9558cd51f\" style=\"height: 525px; width: 100%;\" class=\"plotly-graph-div\"></div><script type=\"text/javascript\">require([\"plotly\"], function(Plotly) { window.PLOTLYENV=window.PLOTLYENV || {};window.PLOTLYENV.BASE_URL=\"https://plot.ly\";\n",
       "        Plotly.plot(\n",
       "            '1023afd7-5b7e-40b6-9b94-e3b9558cd51f',\n",
       "            [{\"name\": \"Volume\", \"x\": [\"Trial 1\", \"Trial 2\", \"Trial 3\", \"Trial 4\", \"Trial 5\", \"Trial 6\", \"Trial 7\", \"Trial 8\", \"Trial 9\", \"Trial 10\"], \"y\": [9.27, 7.82, 12.83, 4.27, 6.67, 12.81, 10.13, 11.01, 10.92, 16.18], \"type\": \"bar\", \"uid\": \"f6fa3fde-8927-11e8-a269-28cfe9142f7f\"}, {\"name\": \"Temperature\", \"x\": [\"Trial 1\", \"Trial 2\", \"Trial 3\", \"Trial 4\", \"Trial 5\", \"Trial 6\", \"Trial 7\", \"Trial 8\", \"Trial 9\", \"Trial 10\"], \"y\": [5.1912, 4.379200000000001, 7.184800000000001, 2.3912, 3.7352000000000003, 7.173600000000001, 5.672800000000001, 6.1656, 6.115200000000001, 9.0608], \"type\": \"bar\", \"uid\": \"f6fa4538-8927-11e8-a269-28cfe9142f7f\"}],\n",
       "            {\"barmode\": \"group\"},\n",
       "            {\"showLink\": true, \"linkText\": \"Export to plot.ly\"}\n",
       "        ).then(function () {return Plotly.addFrames('1023afd7-5b7e-40b6-9b94-e3b9558cd51f',{});}).then(function(){Plotly.animate('1023afd7-5b7e-40b6-9b94-e3b9558cd51f');})\n",
       "        });</script>"
      ],
      "text/vnd.plotly.v1+html": [
       "<div id=\"1023afd7-5b7e-40b6-9b94-e3b9558cd51f\" style=\"height: 525px; width: 100%;\" class=\"plotly-graph-div\"></div><script type=\"text/javascript\">require([\"plotly\"], function(Plotly) { window.PLOTLYENV=window.PLOTLYENV || {};window.PLOTLYENV.BASE_URL=\"https://plot.ly\";\n",
       "        Plotly.plot(\n",
       "            '1023afd7-5b7e-40b6-9b94-e3b9558cd51f',\n",
       "            [{\"name\": \"Volume\", \"x\": [\"Trial 1\", \"Trial 2\", \"Trial 3\", \"Trial 4\", \"Trial 5\", \"Trial 6\", \"Trial 7\", \"Trial 8\", \"Trial 9\", \"Trial 10\"], \"y\": [9.27, 7.82, 12.83, 4.27, 6.67, 12.81, 10.13, 11.01, 10.92, 16.18], \"type\": \"bar\", \"uid\": \"f6fa3fde-8927-11e8-a269-28cfe9142f7f\"}, {\"name\": \"Temperature\", \"x\": [\"Trial 1\", \"Trial 2\", \"Trial 3\", \"Trial 4\", \"Trial 5\", \"Trial 6\", \"Trial 7\", \"Trial 8\", \"Trial 9\", \"Trial 10\"], \"y\": [5.1912, 4.379200000000001, 7.184800000000001, 2.3912, 3.7352000000000003, 7.173600000000001, 5.672800000000001, 6.1656, 6.115200000000001, 9.0608], \"type\": \"bar\", \"uid\": \"f6fa4538-8927-11e8-a269-28cfe9142f7f\"}],\n",
       "            {\"barmode\": \"group\"},\n",
       "            {\"showLink\": true, \"linkText\": \"Export to plot.ly\"}\n",
       "        ).then(function () {return Plotly.addFrames('1023afd7-5b7e-40b6-9b94-e3b9558cd51f',{});}).then(function(){Plotly.animate('1023afd7-5b7e-40b6-9b94-e3b9558cd51f');})\n",
       "        });</script>"
      ]
     },
     "metadata": {},
     "output_type": "display_data"
    }
   ],
   "source": [
    "# STEP 3.\n",
    "# Graph-generating cell - run after generating each new data pair.\n",
    "init_notebook_mode(connected=True)\n",
    "\n",
    "# Generates volume bars.\n",
    "trace1 = go.Bar(\n",
    "    x=trials,\n",
    "    y=volumes,\n",
    "    name='Volume'\n",
    ")\n",
    "\n",
    "# Generates temperature bars.\n",
    "trace2 = go.Bar(\n",
    "    x=trials,\n",
    "    y=temps,\n",
    "    name='Temperature'\n",
    ")\n",
    "\n",
    "# Gives graph grouped-bars layout.\n",
    "data = [trace1, trace2]\n",
    "layout = go.Layout(\n",
    "    barmode='group'\n",
    ")\n",
    "\n",
    "# Renders graph.\n",
    "fig = go.Figure(data=data, layout=layout)\n",
    "py.iplot(fig, filename='grouped-bar')\n",
    "\n",
    "# Run step 2 then step 3 repeatedly until satisfied with your table of values"
   ]
  },
  {
   "cell_type": "code",
   "execution_count": 7,
   "metadata": {},
   "outputs": [
    {
     "data": {
      "text/html": [
       "<style  type=\"text/css\" >\n",
       "</style>  \n",
       "<table id=\"T_f7250f3e_8927_11e8_a269_28cfe9142f7f\" > \n",
       "<thead>    <tr> \n",
       "        <th class=\"blank level0\" ></th> \n",
       "        <th class=\"col_heading level0 col0\" >Volume</th> \n",
       "        <th class=\"col_heading level0 col1\" >Temperature</th> \n",
       "    </tr></thead> \n",
       "<tbody>    <tr> \n",
       "        <th id=\"T_f7250f3e_8927_11e8_a269_28cfe9142f7flevel0_row0\" class=\"row_heading level0 row0\" >0</th> \n",
       "        <td id=\"T_f7250f3e_8927_11e8_a269_28cfe9142f7frow0_col0\" class=\"data row0 col0\" >9.27</td> \n",
       "        <td id=\"T_f7250f3e_8927_11e8_a269_28cfe9142f7frow0_col1\" class=\"data row0 col1\" >5.1912</td> \n",
       "    </tr>    <tr> \n",
       "        <th id=\"T_f7250f3e_8927_11e8_a269_28cfe9142f7flevel0_row1\" class=\"row_heading level0 row1\" >1</th> \n",
       "        <td id=\"T_f7250f3e_8927_11e8_a269_28cfe9142f7frow1_col0\" class=\"data row1 col0\" >7.82</td> \n",
       "        <td id=\"T_f7250f3e_8927_11e8_a269_28cfe9142f7frow1_col1\" class=\"data row1 col1\" >4.3792</td> \n",
       "    </tr>    <tr> \n",
       "        <th id=\"T_f7250f3e_8927_11e8_a269_28cfe9142f7flevel0_row2\" class=\"row_heading level0 row2\" >2</th> \n",
       "        <td id=\"T_f7250f3e_8927_11e8_a269_28cfe9142f7frow2_col0\" class=\"data row2 col0\" >12.83</td> \n",
       "        <td id=\"T_f7250f3e_8927_11e8_a269_28cfe9142f7frow2_col1\" class=\"data row2 col1\" >7.1848</td> \n",
       "    </tr>    <tr> \n",
       "        <th id=\"T_f7250f3e_8927_11e8_a269_28cfe9142f7flevel0_row3\" class=\"row_heading level0 row3\" >3</th> \n",
       "        <td id=\"T_f7250f3e_8927_11e8_a269_28cfe9142f7frow3_col0\" class=\"data row3 col0\" >nan</td> \n",
       "        <td id=\"T_f7250f3e_8927_11e8_a269_28cfe9142f7frow3_col1\" class=\"data row3 col1\" >2.3912</td> \n",
       "    </tr>    <tr> \n",
       "        <th id=\"T_f7250f3e_8927_11e8_a269_28cfe9142f7flevel0_row4\" class=\"row_heading level0 row4\" >4</th> \n",
       "        <td id=\"T_f7250f3e_8927_11e8_a269_28cfe9142f7frow4_col0\" class=\"data row4 col0\" >6.67</td> \n",
       "        <td id=\"T_f7250f3e_8927_11e8_a269_28cfe9142f7frow4_col1\" class=\"data row4 col1\" >3.7352</td> \n",
       "    </tr>    <tr> \n",
       "        <th id=\"T_f7250f3e_8927_11e8_a269_28cfe9142f7flevel0_row5\" class=\"row_heading level0 row5\" >5</th> \n",
       "        <td id=\"T_f7250f3e_8927_11e8_a269_28cfe9142f7frow5_col0\" class=\"data row5 col0\" >12.81</td> \n",
       "        <td id=\"T_f7250f3e_8927_11e8_a269_28cfe9142f7frow5_col1\" class=\"data row5 col1\" >7.1736</td> \n",
       "    </tr>    <tr> \n",
       "        <th id=\"T_f7250f3e_8927_11e8_a269_28cfe9142f7flevel0_row6\" class=\"row_heading level0 row6\" >6</th> \n",
       "        <td id=\"T_f7250f3e_8927_11e8_a269_28cfe9142f7frow6_col0\" class=\"data row6 col0\" >10.13</td> \n",
       "        <td id=\"T_f7250f3e_8927_11e8_a269_28cfe9142f7frow6_col1\" class=\"data row6 col1\" >5.6728</td> \n",
       "    </tr>    <tr> \n",
       "        <th id=\"T_f7250f3e_8927_11e8_a269_28cfe9142f7flevel0_row7\" class=\"row_heading level0 row7\" >7</th> \n",
       "        <td id=\"T_f7250f3e_8927_11e8_a269_28cfe9142f7frow7_col0\" class=\"data row7 col0\" >11.01</td> \n",
       "        <td id=\"T_f7250f3e_8927_11e8_a269_28cfe9142f7frow7_col1\" class=\"data row7 col1\" >6.1656</td> \n",
       "    </tr>    <tr> \n",
       "        <th id=\"T_f7250f3e_8927_11e8_a269_28cfe9142f7flevel0_row8\" class=\"row_heading level0 row8\" >8</th> \n",
       "        <td id=\"T_f7250f3e_8927_11e8_a269_28cfe9142f7frow8_col0\" class=\"data row8 col0\" >10.92</td> \n",
       "        <td id=\"T_f7250f3e_8927_11e8_a269_28cfe9142f7frow8_col1\" class=\"data row8 col1\" >6.1152</td> \n",
       "    </tr>    <tr> \n",
       "        <th id=\"T_f7250f3e_8927_11e8_a269_28cfe9142f7flevel0_row9\" class=\"row_heading level0 row9\" >9</th> \n",
       "        <td id=\"T_f7250f3e_8927_11e8_a269_28cfe9142f7frow9_col0\" class=\"data row9 col0\" >16.18</td> \n",
       "        <td id=\"T_f7250f3e_8927_11e8_a269_28cfe9142f7frow9_col1\" class=\"data row9 col1\" >9.0608</td> \n",
       "    </tr></tbody> \n",
       "</table> "
      ],
      "text/plain": [
       "<pandas.io.formats.style.Styler at 0x11288b438>"
      ]
     },
     "execution_count": 7,
     "metadata": {},
     "output_type": "execute_result"
    }
   ],
   "source": [
    "import pandas as pd\n",
    "\n",
    "labels = ['Volume', 'Temperature']\n",
    "trials.sort()\n",
    "df = pd.DataFrame.from_records(tests, columns=labels)\n",
    "\n",
    "df.iloc[3, 0] = np.nan\n",
    "df.iloc[6, 1] = np.nan\n",
    "df.iloc[8, 0] = np.nan\n",
    "\n",
    "df.head\n",
    "df.style"
   ]
  },
  {
   "cell_type": "markdown",
   "metadata": {},
   "source": [
    "# Lab Question\n",
    "1. In an actual experiment, there is sometimes some element of error, which can prevent us from yielding the correct (or any) values. Assuming the experiment took place at room temperature (25 degrees C), using any of the other complete data pairs, predict the values of 'nan'."
   ]
  },
  {
   "cell_type": "markdown",
   "metadata": {},
   "source": [
    "# Conclusion\n",
    "In this section, we discussed the directly proportional relationship between volume and temperature. This is expressed as Charles' Law, which has its basis in kinetic molecular theory."
   ]
  }
 ],
 "metadata": {
  "kernelspec": {
   "display_name": "Python 3",
   "language": "python",
   "name": "python3"
  },
  "language_info": {
   "codemirror_mode": {
    "name": "ipython",
    "version": 3
   },
   "file_extension": ".py",
   "mimetype": "text/x-python",
   "name": "python",
   "nbconvert_exporter": "python",
   "pygments_lexer": "ipython3",
   "version": "3.7.0"
  }
 },
 "nbformat": 4,
 "nbformat_minor": 2
}
