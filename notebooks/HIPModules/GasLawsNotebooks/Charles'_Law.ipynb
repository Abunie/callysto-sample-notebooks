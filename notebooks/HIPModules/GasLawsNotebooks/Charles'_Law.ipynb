{
 "cells": [
  {
   "cell_type": "markdown",
   "metadata": {},
   "source": [
    "# Charles' Law\n",
    "The temperature of the nitrogen gas in airbags is originally extremely high so that the volume of the airbag is expands quickly due to the directly proportional relationship between the temperature and the volume of the gas. When the airbag is later exposed to the cooler outside air, the temperature of the nitrogen gas gradually changes which causes the volume of the airbag to slowly decrease in size, creating a softer cushion for the impact. This relationship, where pressure is constant, was developed in 1787 by Jacques Charles. It can be expressed by the equation below:\n",
    "\n",
    "$$\n",
    "\\huge\n",
    "\\frac{V_1}{T_1} = \\frac{V_2}{T_2}\n",
    "$$\n",
    "\n",
    "# Optional Reading - Pressure does change, but returns to its original value\n",
    "Using the kinetic molecular theory to explain the Charles' Law, imagine that the pressure and the chemical amount of gas are held constant using a piston. When the temperature of the gas molecules increases, the gas molecules will move at a higher speed because temperature and the average kinetic energy of the gas molecules have a direct relationship. As a result, gas molecules will collide with each other and with walls of the container more frequently which exerts a greater force on the wall of container. Because the external pressure on the container is held constant, but the gas pressure inside the container are increased, the piston of the container is pushed up to increase the volume of the container."
   ]
  },
  {
   "cell_type": "markdown",
   "metadata": {},
   "source": [
    "# Experiment\n",
    "Let's say we want to drive a car into a wall but save our crash test dummy with a standard airbag that has an average volume of 70L when inflated. We will run a few simulations to find out what average temperature we need the nitrogen gas to be at to inflate the airbag to the desired volume. "
   ]
  },
  {
   "cell_type": "code",
   "execution_count": 35,
   "metadata": {},
   "outputs": [],
   "source": [
    "# Imports, borrowing code from a 'library' that is used to generate the graph.\n",
    "import plotly.offline as py\n",
    "from plotly.offline import init_notebook_mode, iplot\n",
    "import plotly.graph_objs as go\n",
    "import numpy as np\n",
    "import random\n",
    "from numpy import random as rand"
   ]
  },
  {
   "cell_type": "code",
   "execution_count": 36,
   "metadata": {},
   "outputs": [],
   "source": [
    "# STEP 1.\n",
    "# Set these values ONCE at the beginning of your experiment.\n",
    "\n",
    "# Average volume in litres.\n",
    "ave_volume = 10\n",
    "\n",
    "# Initialize data sets. This makes sure it does not graph old data from previous experiments.\n",
    "volumes = []\n",
    "temps = []\n",
    "trials = []\n",
    "tests = []"
   ]
  },
  {
   "cell_type": "code",
   "execution_count": 37,
   "metadata": {},
   "outputs": [],
   "source": [
    "for i in range(10):\n",
    "    # STEP 2.\n",
    "    # Run this cell to generate values to populate your table, then run the graph-generating cell.\n",
    "    yielded = random.uniform((ave_volume-(rand.random_sample()*10)), (ave_volume+rand.random_sample()*10))\n",
    "\n",
    "    # Rounds value to 2 decimal places before adding it to the list of data.\n",
    "    volume = round(yielded, 2)\n",
    "    volumes.append(volume)\n",
    "\n",
    "    # Constant multiple in Charles' Law.\n",
    "    kC = 0.56\n",
    "\n",
    "    # Charles' Law is technically V/T = k, where k is constant for that specific system, (It varies between systems.)\n",
    "    # and V1/T1 V2/T2 is only a result of this relationship. Students do not need to learn this however.\n",
    "    # k is just arbitrarily set.\n",
    "\n",
    "    # Adds value to list of data. \n",
    "    temp = kC*volume\n",
    "    \n",
    "    temps.append(temp)\n",
    "    \n",
    "    tests.append((volume, temp))\n",
    "\n",
    "    # Labels trials according to how many values are in the list of data\n",
    "    if len(volumes) > len(trials):\n",
    "        trials.append('Trial ' + str(len(volumes)))"
   ]
  },
  {
   "cell_type": "code",
   "execution_count": 38,
   "metadata": {},
   "outputs": [
    {
     "data": {
      "text/html": [
       "<script>requirejs.config({paths: { 'plotly': ['https://cdn.plot.ly/plotly-latest.min']},});if(!window.Plotly) {{require(['plotly'],function(plotly) {window.Plotly=plotly;});}}</script>"
      ],
      "text/vnd.plotly.v1+html": [
       "<script>requirejs.config({paths: { 'plotly': ['https://cdn.plot.ly/plotly-latest.min']},});if(!window.Plotly) {{require(['plotly'],function(plotly) {window.Plotly=plotly;});}}</script>"
      ]
     },
     "metadata": {},
     "output_type": "display_data"
    },
    {
     "data": {
      "application/vnd.plotly.v1+json": {
       "data": [
        {
         "name": "Volume",
         "type": "bar",
         "uid": "a4bc5d68-86d1-11e8-9fd8-28cfe9142f7f",
         "x": [
          "Trial 1",
          "Trial 2",
          "Trial 3",
          "Trial 4",
          "Trial 5",
          "Trial 6",
          "Trial 7",
          "Trial 8",
          "Trial 9",
          "Trial 10"
         ],
         "y": [
          8.47,
          14.34,
          13.34,
          10.87,
          14.9,
          9.79,
          4.53,
          10.62,
          8.84,
          11.68
         ]
        },
        {
         "name": "Temperature",
         "type": "bar",
         "uid": "a4bc60c4-86d1-11e8-9fd8-28cfe9142f7f",
         "x": [
          "Trial 1",
          "Trial 2",
          "Trial 3",
          "Trial 4",
          "Trial 5",
          "Trial 6",
          "Trial 7",
          "Trial 8",
          "Trial 9",
          "Trial 10"
         ],
         "y": [
          4.743200000000001,
          8.0304,
          7.470400000000001,
          6.0872,
          8.344000000000001,
          5.4824,
          2.5368000000000004,
          5.9472000000000005,
          4.9504,
          6.540800000000001
         ]
        }
       ],
       "layout": {
        "barmode": "group"
       }
      },
      "text/html": [
       "<div id=\"df15ca4e-806c-46f5-9224-5a8c6b04eec9\" style=\"height: 525px; width: 100%;\" class=\"plotly-graph-div\"></div><script type=\"text/javascript\">require([\"plotly\"], function(Plotly) { window.PLOTLYENV=window.PLOTLYENV || {};window.PLOTLYENV.BASE_URL=\"https://plot.ly\";\n",
       "        Plotly.plot(\n",
       "            'df15ca4e-806c-46f5-9224-5a8c6b04eec9',\n",
       "            [{\"name\": \"Volume\", \"x\": [\"Trial 1\", \"Trial 2\", \"Trial 3\", \"Trial 4\", \"Trial 5\", \"Trial 6\", \"Trial 7\", \"Trial 8\", \"Trial 9\", \"Trial 10\"], \"y\": [8.47, 14.34, 13.34, 10.87, 14.9, 9.79, 4.53, 10.62, 8.84, 11.68], \"type\": \"bar\", \"uid\": \"a4bc5d68-86d1-11e8-9fd8-28cfe9142f7f\"}, {\"name\": \"Temperature\", \"x\": [\"Trial 1\", \"Trial 2\", \"Trial 3\", \"Trial 4\", \"Trial 5\", \"Trial 6\", \"Trial 7\", \"Trial 8\", \"Trial 9\", \"Trial 10\"], \"y\": [4.743200000000001, 8.0304, 7.470400000000001, 6.0872, 8.344000000000001, 5.4824, 2.5368000000000004, 5.9472000000000005, 4.9504, 6.540800000000001], \"type\": \"bar\", \"uid\": \"a4bc60c4-86d1-11e8-9fd8-28cfe9142f7f\"}],\n",
       "            {\"barmode\": \"group\"},\n",
       "            {\"showLink\": true, \"linkText\": \"Export to plot.ly\"}\n",
       "        ).then(function () {return Plotly.addFrames('df15ca4e-806c-46f5-9224-5a8c6b04eec9',{});}).then(function(){Plotly.animate('df15ca4e-806c-46f5-9224-5a8c6b04eec9');})\n",
       "        });</script>"
      ],
      "text/vnd.plotly.v1+html": [
       "<div id=\"df15ca4e-806c-46f5-9224-5a8c6b04eec9\" style=\"height: 525px; width: 100%;\" class=\"plotly-graph-div\"></div><script type=\"text/javascript\">require([\"plotly\"], function(Plotly) { window.PLOTLYENV=window.PLOTLYENV || {};window.PLOTLYENV.BASE_URL=\"https://plot.ly\";\n",
       "        Plotly.plot(\n",
       "            'df15ca4e-806c-46f5-9224-5a8c6b04eec9',\n",
       "            [{\"name\": \"Volume\", \"x\": [\"Trial 1\", \"Trial 2\", \"Trial 3\", \"Trial 4\", \"Trial 5\", \"Trial 6\", \"Trial 7\", \"Trial 8\", \"Trial 9\", \"Trial 10\"], \"y\": [8.47, 14.34, 13.34, 10.87, 14.9, 9.79, 4.53, 10.62, 8.84, 11.68], \"type\": \"bar\", \"uid\": \"a4bc5d68-86d1-11e8-9fd8-28cfe9142f7f\"}, {\"name\": \"Temperature\", \"x\": [\"Trial 1\", \"Trial 2\", \"Trial 3\", \"Trial 4\", \"Trial 5\", \"Trial 6\", \"Trial 7\", \"Trial 8\", \"Trial 9\", \"Trial 10\"], \"y\": [4.743200000000001, 8.0304, 7.470400000000001, 6.0872, 8.344000000000001, 5.4824, 2.5368000000000004, 5.9472000000000005, 4.9504, 6.540800000000001], \"type\": \"bar\", \"uid\": \"a4bc60c4-86d1-11e8-9fd8-28cfe9142f7f\"}],\n",
       "            {\"barmode\": \"group\"},\n",
       "            {\"showLink\": true, \"linkText\": \"Export to plot.ly\"}\n",
       "        ).then(function () {return Plotly.addFrames('df15ca4e-806c-46f5-9224-5a8c6b04eec9',{});}).then(function(){Plotly.animate('df15ca4e-806c-46f5-9224-5a8c6b04eec9');})\n",
       "        });</script>"
      ]
     },
     "metadata": {},
     "output_type": "display_data"
    }
   ],
   "source": [
    "# STEP 3.\n",
    "# Graph-generating cell - run after generating each new data pair.\n",
    "init_notebook_mode(connected=True)\n",
    "\n",
    "# Generates volume bars.\n",
    "trace1 = go.Bar(\n",
    "    x=trials,\n",
    "    y=volumes,\n",
    "    name='Volume'\n",
    ")\n",
    "\n",
    "# Generates temperature bars.\n",
    "trace2 = go.Bar(\n",
    "    x=trials,\n",
    "    y=temps,\n",
    "    name='Temperature'\n",
    ")\n",
    "\n",
    "# Gives graph grouped-bars layout.\n",
    "data = [trace1, trace2]\n",
    "layout = go.Layout(\n",
    "    barmode='group'\n",
    ")\n",
    "\n",
    "# Renders graph.\n",
    "fig = go.Figure(data=data, layout=layout)\n",
    "py.iplot(fig, filename='grouped-bar')\n",
    "\n",
    "# Run step 2 then step 3 repeatedly until satisfied with your table of values"
   ]
  },
  {
   "cell_type": "code",
   "execution_count": 39,
   "metadata": {},
   "outputs": [
    {
     "data": {
      "text/html": [
       "<style  type=\"text/css\" >\n",
       "</style>  \n",
       "<table id=\"T_a50cb77c_86d1_11e8_9fd8_28cfe9142f7f\" > \n",
       "<thead>    <tr> \n",
       "        <th class=\"blank level0\" ></th> \n",
       "        <th class=\"col_heading level0 col0\" >Volume</th> \n",
       "        <th class=\"col_heading level0 col1\" >Temperature</th> \n",
       "    </tr></thead> \n",
       "<tbody>    <tr> \n",
       "        <th id=\"T_a50cb77c_86d1_11e8_9fd8_28cfe9142f7flevel0_row0\" class=\"row_heading level0 row0\" >0</th> \n",
       "        <td id=\"T_a50cb77c_86d1_11e8_9fd8_28cfe9142f7frow0_col0\" class=\"data row0 col0\" >8.47</td> \n",
       "        <td id=\"T_a50cb77c_86d1_11e8_9fd8_28cfe9142f7frow0_col1\" class=\"data row0 col1\" >4.7432</td> \n",
       "    </tr>    <tr> \n",
       "        <th id=\"T_a50cb77c_86d1_11e8_9fd8_28cfe9142f7flevel0_row1\" class=\"row_heading level0 row1\" >1</th> \n",
       "        <td id=\"T_a50cb77c_86d1_11e8_9fd8_28cfe9142f7frow1_col0\" class=\"data row1 col0\" >14.34</td> \n",
       "        <td id=\"T_a50cb77c_86d1_11e8_9fd8_28cfe9142f7frow1_col1\" class=\"data row1 col1\" >8.0304</td> \n",
       "    </tr>    <tr> \n",
       "        <th id=\"T_a50cb77c_86d1_11e8_9fd8_28cfe9142f7flevel0_row2\" class=\"row_heading level0 row2\" >2</th> \n",
       "        <td id=\"T_a50cb77c_86d1_11e8_9fd8_28cfe9142f7frow2_col0\" class=\"data row2 col0\" >13.34</td> \n",
       "        <td id=\"T_a50cb77c_86d1_11e8_9fd8_28cfe9142f7frow2_col1\" class=\"data row2 col1\" >7.4704</td> \n",
       "    </tr>    <tr> \n",
       "        <th id=\"T_a50cb77c_86d1_11e8_9fd8_28cfe9142f7flevel0_row3\" class=\"row_heading level0 row3\" >3</th> \n",
       "        <td id=\"T_a50cb77c_86d1_11e8_9fd8_28cfe9142f7frow3_col0\" class=\"data row3 col0\" >10.87</td> \n",
       "        <td id=\"T_a50cb77c_86d1_11e8_9fd8_28cfe9142f7frow3_col1\" class=\"data row3 col1\" >6.0872</td> \n",
       "    </tr>    <tr> \n",
       "        <th id=\"T_a50cb77c_86d1_11e8_9fd8_28cfe9142f7flevel0_row4\" class=\"row_heading level0 row4\" >4</th> \n",
       "        <td id=\"T_a50cb77c_86d1_11e8_9fd8_28cfe9142f7frow4_col0\" class=\"data row4 col0\" >14.9</td> \n",
       "        <td id=\"T_a50cb77c_86d1_11e8_9fd8_28cfe9142f7frow4_col1\" class=\"data row4 col1\" >8.344</td> \n",
       "    </tr>    <tr> \n",
       "        <th id=\"T_a50cb77c_86d1_11e8_9fd8_28cfe9142f7flevel0_row5\" class=\"row_heading level0 row5\" >5</th> \n",
       "        <td id=\"T_a50cb77c_86d1_11e8_9fd8_28cfe9142f7frow5_col0\" class=\"data row5 col0\" >9.79</td> \n",
       "        <td id=\"T_a50cb77c_86d1_11e8_9fd8_28cfe9142f7frow5_col1\" class=\"data row5 col1\" >5.4824</td> \n",
       "    </tr>    <tr> \n",
       "        <th id=\"T_a50cb77c_86d1_11e8_9fd8_28cfe9142f7flevel0_row6\" class=\"row_heading level0 row6\" >6</th> \n",
       "        <td id=\"T_a50cb77c_86d1_11e8_9fd8_28cfe9142f7frow6_col0\" class=\"data row6 col0\" >4.53</td> \n",
       "        <td id=\"T_a50cb77c_86d1_11e8_9fd8_28cfe9142f7frow6_col1\" class=\"data row6 col1\" >2.5368</td> \n",
       "    </tr>    <tr> \n",
       "        <th id=\"T_a50cb77c_86d1_11e8_9fd8_28cfe9142f7flevel0_row7\" class=\"row_heading level0 row7\" >7</th> \n",
       "        <td id=\"T_a50cb77c_86d1_11e8_9fd8_28cfe9142f7frow7_col0\" class=\"data row7 col0\" >10.62</td> \n",
       "        <td id=\"T_a50cb77c_86d1_11e8_9fd8_28cfe9142f7frow7_col1\" class=\"data row7 col1\" >5.9472</td> \n",
       "    </tr>    <tr> \n",
       "        <th id=\"T_a50cb77c_86d1_11e8_9fd8_28cfe9142f7flevel0_row8\" class=\"row_heading level0 row8\" >8</th> \n",
       "        <td id=\"T_a50cb77c_86d1_11e8_9fd8_28cfe9142f7frow8_col0\" class=\"data row8 col0\" >8.84</td> \n",
       "        <td id=\"T_a50cb77c_86d1_11e8_9fd8_28cfe9142f7frow8_col1\" class=\"data row8 col1\" >4.9504</td> \n",
       "    </tr>    <tr> \n",
       "        <th id=\"T_a50cb77c_86d1_11e8_9fd8_28cfe9142f7flevel0_row9\" class=\"row_heading level0 row9\" >9</th> \n",
       "        <td id=\"T_a50cb77c_86d1_11e8_9fd8_28cfe9142f7frow9_col0\" class=\"data row9 col0\" >11.68</td> \n",
       "        <td id=\"T_a50cb77c_86d1_11e8_9fd8_28cfe9142f7frow9_col1\" class=\"data row9 col1\" >6.5408</td> \n",
       "    </tr></tbody> \n",
       "</table> "
      ],
      "text/plain": [
       "<pandas.io.formats.style.Styler at 0x106b39f28>"
      ]
     },
     "execution_count": 39,
     "metadata": {},
     "output_type": "execute_result"
    }
   ],
   "source": [
    "import pandas as pd\n",
    "\n",
    "labels = ['Volume', 'Temperature']\n",
    "trials.sort()\n",
    "df = pd.DataFrame.from_records(tests, columns=labels)\n",
    "df.head\n",
    "df.style"
   ]
  },
  {
   "cell_type": "markdown",
   "metadata": {},
   "source": [
    "# Conclusion\n",
    "In this section, we discussed the directly proportional relationship between volume and temperature. This is expressed as Charles' Law, which has its basis in kinetic molecular theory."
   ]
  }
 ],
 "metadata": {
  "kernelspec": {
   "display_name": "Python 3",
   "language": "python",
   "name": "python3"
  },
  "language_info": {
   "codemirror_mode": {
    "name": "ipython",
    "version": 3
   },
   "file_extension": ".py",
   "mimetype": "text/x-python",
   "name": "python",
   "nbconvert_exporter": "python",
   "pygments_lexer": "ipython3",
   "version": "3.7.0"
  }
 },
 "nbformat": 4,
 "nbformat_minor": 2
}
