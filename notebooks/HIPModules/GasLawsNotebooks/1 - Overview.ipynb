{
 "cells": [
  {
   "cell_type": "markdown",
   "metadata": {},
   "source": [
    "<img width=\"100%\" src=\"GasLawsImages/callystoBannerTop.jpg\"/>"
   ]
  },
  {
   "cell_type": "markdown",
   "metadata": {},
   "source": [
    "_Special thanks to Mitchel Chartrand with the Centre for Learning@HOME for providing feedback as a high school instructor._"
   ]
  },
  {
   "cell_type": "markdown",
   "metadata": {},
   "source": [
    "# For Teachers\n",
    "**Delete this portion before handing over to students:**<br>\n",
    "**if you want to change / personalize one of the practice questions and need to change the answer, uncomment the print statement in the check_answer function in any of the \"# ANSWER HANDLING.\" cells, type your desired answer into the text field, and copy the outputted hash into the 'answer' variable.**\n",
    "\n",
    "[comment]: # (This curriculum objective is from before the curriculum remake. It may still be an objective after though.)\n",
    "**Alberta Curriculum Objective: Illustrate how Boyle's and Charles's laws, individually and combined, are related to the ideal gas law (PV = nRT).**\n",
    "http://www.learnalberta.ca/ProgramOfStudy.aspx?lang=en&ProgramId=525479#707983"
   ]
  },
  {
   "cell_type": "markdown",
   "metadata": {},
   "source": [
    "# Overview\n",
    "\n",
    "In this notebook we will be working with Boyle's Law, Charles' Law, and Gay-Lussac's Law to build up to introducing the combined gas law. Note that though we do not cover the ideal gas law, this set of notebooks are not suppose to completely cover the curriculum objective, only add on to and solidify what is taught in class.\n",
    "\n",
    "We are expecting that the students understand Celsius to Kelvin conversions, converting between pressure units, and Kinetic Molecular Theory (Ideal gas assumptions). If they have already been introduced to these laws, this notebook will simply provide review and extra practice.\n",
    "\n",
    "## Learning Objectives\n",
    "\n",
    "- Develop an understanding of the inverse relationship between pressure and volume where temperature is constant\n",
    "- Develop an understanding of the direct relationship between volume and temperature where pressure is constant\n",
    "- Develop an understanding of the direct relationship between pressure and temperature where volume is constant\n",
    "- Develop an understanding of the relationships between pressure, volume, and temperature where the amount of gas is constant\n",
    "- Perform calculations to find specific properties under certain conditions based on the various laws surrounding gases"
   ]
  },
  {
   "cell_type": "markdown",
   "metadata": {},
   "source": [
    "\n",
    "# Introduction\n",
    "<img src=\"GasLawsImages/engine.png\" style=\"width:300px; float:left\"> Gases surround and shape the world around us all the time. From the air we breath to pneumatic gas-powered pistons that run our machinery, it is important to understand the properties of any given gas so we can better utilize it for our benefit. In a closed container, the pressure, temperature and volume dictate much of how a given gas behaves and understanding how these three properties relate to each other is fundamental to moving forward with our pursuit of understanding gas. Three laws were developed over time to correlate two of these properties at a time and assumes the third remains constant. These laws can in turn be integrated into the Combined Gas Law, which relates all three properties, assuming the amount of gas is constant.\n",
    "\n",
    "**Note:** Do not be intimidated by the code! You do not have to touch or edit most of it, and all you have to do is run the code. There are some segments where you have the option to edit the code, but they are clearly labeled and relatively simple. But feel free to look through the code in the src folder, and try to figure out what makes it work. If you make a change to the code and it stops working, those changes can be reversed by re-downloading the original notebook. "
   ]
  },
  {
   "cell_type": "markdown",
   "metadata": {},
   "source": [
    "# Table of Contents\n",
    "1. [Boyle's Law](2 - Boyle's_Law.ipynb)\n",
    "    \n",
    "    - About 25 minutes to complete\n",
    "    - Simulated experiment\n",
    "    - Practice questions\n",
    "\n",
    "\n",
    "2. [Charles' Law](3 - Charles'_Law.ipynb)\n",
    "    \n",
    "    - About 25 minutes to complete\n",
    "    - Simulated experiment\n",
    "    - Practice questions\n",
    "    \n",
    "    \n",
    "3. [Gay-Lussac's Law](4 - Gay-Lussac's_Law.ipynb)\n",
    "    \n",
    "    - About 25 minutes to complete\n",
    "    - Simulated experiment\n",
    "    - Practice questions\n",
    "    \n",
    "    \n",
    "4. [Combined Gas Law](5 - Combined_Gas_Law.ipynb)\n",
    "    \n",
    "    - About 15 minutes to complete\n",
    "    - Simulated experiment\n",
    "    - Practice questions\n",
    "<br><br>\n",
    "5. [Answer Key](6 - Answer_Key.ipynb)"
   ]
  },
  {
   "cell_type": "markdown",
   "metadata": {},
   "source": [
    "# Reference\n",
    "Jenkins, F. (2007). Chemistry. 1st ed. Toronto, ON: Thomson Nelson\n",
    "## Image\n",
    "http://intro.chem.okstate.edu/HTML/SEFIMG/SEXP806.gif"
   ]
  },
  {
   "cell_type": "markdown",
   "metadata": {},
   "source": [
    "<img width=\"100%\" src=\"GasLawsImages/callystoBannerBottom.jpg\"/>"
   ]
  }
 ],
 "metadata": {
  "kernelspec": {
   "display_name": "Python 3",
   "language": "python",
   "name": "python3"
  },
  "language_info": {
   "codemirror_mode": {
    "name": "ipython",
    "version": 3
   },
   "file_extension": ".py",
   "mimetype": "text/x-python",
   "name": "python",
   "nbconvert_exporter": "python",
   "pygments_lexer": "ipython3",
   "version": "3.7.0"
  }
 },
 "nbformat": 4,
 "nbformat_minor": 2
}
