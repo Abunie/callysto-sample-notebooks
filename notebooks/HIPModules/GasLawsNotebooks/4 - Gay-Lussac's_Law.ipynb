{
 "cells": [
  {
   "cell_type": "markdown",
   "metadata": {},
   "source": [
    "<img width=\"100%\" src=\"GasLawsImages/callystoBannerTop.jpg\"/>"
   ]
  },
  {
   "cell_type": "markdown",
   "metadata": {},
   "source": [
    "# Introduction\n",
    "When a cannon fires, you would see a plume of smoke as the gunpowder burns and the cannonball whizzes out. The increase in temperature caused an increase in the pressure, which forced the ball out of the cannon. This is made possible through Gay-Lussac's Law."
   ]
  },
  {
   "cell_type": "markdown",
   "metadata": {},
   "source": [
    "# Table of Contents\n",
    "I. <a href=\"#lussac\">Gay-Lussac's Law</a><br>\n",
    "II. <a href=\"#experiment\">Experiment</a><br>\n",
    "III. <a href=\"#lab\">Lab Activity</a><br>\n",
    "IV. <a href=\"#practice\">Practice Questions</a><br>\n",
    "V. <a href=\"#conclusion\">Conclusion</a><br>"
   ]
  },
  {
   "cell_type": "markdown",
   "metadata": {},
   "source": [
    "<h1><a name=\"lussac\" style=\"text-decoration: none; color: black;\">Gay-Lussac's Law</a></h1>\n",
    "\n",
    "<img src=\"GasLawsImages/gay_lussacs.png\" style=\"width:200px; float:left; padding-right:10px\"> In technical terms, we first assume a system where volume and the amount of gas particles are constant. A system where volume is constant can be called an isochoric system. When temperature increases, the average speed of the particles increases. This leads to more collisions with the exterior walls of the system, which will increase the average force applied by the gas on the walls of its container. This process is possible without degredation because the collisions are elastic. As a result, the pressure will go up. We should expect for pressure and temperature to have a direct relationship, which we see with Gay-Lussac's Law, developed by Joseph Louis Gay-Lussac in 1809. It can be expressed by the equation below:\n",
    "\n",
    "$$\n",
    "\\huge\n",
    "\\frac{P_1}{T_1} = \\frac{P_2}{T_2}\n",
    "$$"
   ]
  },
  {
   "cell_type": "code",
   "execution_count": 1,
   "metadata": {},
   "outputs": [
    {
     "data": {
      "text/html": [
       "\n",
       "        <iframe\n",
       "            width=\"400\"\n",
       "            height=\"300\"\n",
       "            src=\"https://www.youtube.com/embed/JsoE4F2Pb20\"\n",
       "            frameborder=\"0\"\n",
       "            allowfullscreen\n",
       "        ></iframe>\n",
       "        "
      ],
      "text/plain": [
       "<IPython.lib.display.YouTubeVideo at 0x111cf8f98>"
      ]
     },
     "metadata": {},
     "output_type": "display_data"
    }
   ],
   "source": [
    "# Here is a youtube video that demonstrates Gay-Lussac's Law.\n",
    "# Run this code segment to bring the video into this Callysto notebook.\n",
    "\n",
    "from IPython.lib.display import YouTubeVideo\n",
    "display(YouTubeVideo('JsoE4F2Pb20'))"
   ]
  },
  {
   "cell_type": "markdown",
   "metadata": {},
   "source": [
    "<h1><a name=\"experiment\" style=\"text-decoration: none; color: black;\">Experiment</a></h1>\n",
    "\n",
    "A twelve pound cannonball from the Civil War era could be shot with just a pound of gunpowder. However, it could only go 600 yards. The more gunpowder was burned, the higher the temperature, causing the pressure to increase and allowing the cannonball to travel farther. Run the code and click the simulation below to see!"
   ]
  },
  {
   "cell_type": "code",
   "execution_count": 2,
   "metadata": {},
   "outputs": [
    {
     "data": {
      "text/html": [
       "<iframe src=\"src/cannonball.html\" width=\"1000px\" height=\"400px\"></iframe>"
      ],
      "text/plain": [
       "<IPython.core.display.HTML object>"
      ]
     },
     "metadata": {},
     "output_type": "display_data"
    }
   ],
   "source": [
    "%%html\n",
    "<iframe src=\"src/cannonball.html\" width=\"1000px\" height=\"400px\"></iframe>"
   ]
  },
  {
   "cell_type": "markdown",
   "metadata": {},
   "source": [
    "<h1><a name=\"lab\" style=\"text-decoration: none; color: black;\">Lab Activity</a></h1>\n",
    "\n",
    "Let's say one pound of gunpowder burns at 427.222 degrees C and launches a cannonball using a pressure of 344737.86 kPa. If we said that double the pounds means double the temperature, we can calculate the new pressure of our subsequent trials.  "
   ]
  },
  {
   "cell_type": "markdown",
   "metadata": {},
   "source": [
    "<h1><a name=\"practice\" style=\"text-decoration: none; color: black;\">Practice Questions</a></h1>\n",
    "\n",
    "There are three questions below that test Gay-Lussac's Law. There is a code segment that you can run after each question to check your answer. Before you do so though, run the code segment below this text. Each of the answers are encrypted, and this code decrypts it in order to test if it is correct. To be extra clear, the long string of characters and numbers such as `845e85fa64a2d6037055beba19fe0bd8` that you will see is not the answer, it is the encrypted answer. Run the code segments after each question to have the text field for your answer to appear. Furthermore, round to the nearest significant figure, and do not input units. If you are struggling, please check the [Answer Key notebook](Answer_Key.ipynb) for full solutions. "
   ]
  },
  {
   "cell_type": "code",
   "execution_count": 3,
   "metadata": {},
   "outputs": [],
   "source": [
    "# ANSWER HANDLING. Uncomment the 'print(\"This is the hash: \", temp)' line by deleting the # before it.\n",
    "\n",
    "# Imports.\n",
    "from IPython.display import display \n",
    "from ipywidgets import widgets\n",
    "import hashlib\n",
    "\n",
    "# Check the answer given by the student.\n",
    "def check_answer(x):\n",
    "    temp = None\n",
    "    try:\n",
    "        temp = hashlib.md5(str.encode(str(text.value))).hexdigest()\n",
    "#         print(\"This is the hash: \", temp)\n",
    "    except:\n",
    "        print(\"Not a number.\")\n",
    "    if(temp == answer):\n",
    "        print(\"Correct!\")\n",
    "    else:\n",
    "        print(\"Incorrect. Try again!\")"
   ]
  },
  {
   "cell_type": "markdown",
   "metadata": {},
   "source": [
    "1. Gas is sealed in a riggid container at 200mmHg at 15$^{\\circ}$C. The pressure is then increased to 560mmHg, what is the resulting temperature, in Celsius?"
   ]
  },
  {
   "cell_type": "code",
   "execution_count": 4,
   "metadata": {},
   "outputs": [
    {
     "data": {
      "application/vnd.jupyter.widget-view+json": {
       "model_id": "89acf88d48f1457d98864d06cd582843",
       "version_major": 2,
       "version_minor": 0
      },
      "text/plain": [
       "Text(value='')"
      ]
     },
     "metadata": {},
     "output_type": "display_data"
    }
   ],
   "source": [
    "# Encrypted answer.\n",
    "answer = 'c399862d3b9d6b76c8436e924a68c45b'\n",
    "\n",
    "# Create answer box.\n",
    "text = widgets.Text()\n",
    "display(text)\n",
    "text.on_submit(check_answer)"
   ]
  },
  {
   "cell_type": "markdown",
   "metadata": {},
   "source": [
    "2. A cylinder container has a constant fixed volume at a temperature of 30.0$^{\\circ}$C and a pressure of 101 kPa. As the pressure on the container is increased to 200 kPa, what is the new temperature in Celsius?"
   ]
  },
  {
   "cell_type": "code",
   "execution_count": 5,
   "metadata": {},
   "outputs": [
    {
     "data": {
      "application/vnd.jupyter.widget-view+json": {
       "model_id": "dec2c616c5184221abd6df0eee1050dc",
       "version_major": 2,
       "version_minor": 0
      },
      "text/plain": [
       "Text(value='')"
      ]
     },
     "metadata": {},
     "output_type": "display_data"
    }
   ],
   "source": [
    "# Encrypted answer.\n",
    "answer = 'b83aac23b9528732c23cc7352950e880'\n",
    "\n",
    "# Create answer box.\n",
    "text = widgets.Text()\n",
    "display(text)\n",
    "text.on_submit(check_answer)"
   ]
  },
  {
   "cell_type": "markdown",
   "metadata": {},
   "source": [
    "3. If a cannon needs 351867.04 kPa to shoot out a cannonball, and the cannon initially exerts a pressure of 1000.00kPa on the cannonball at a temperature of 20.0000 Celsius. How much would the temperature need to be increased in Celsius in order for the cannonball to be shot? Assume volume and number of gas molecules is constant inside the cannon. Round to 6 significant digits."
   ]
  },
  {
   "cell_type": "markdown",
   "metadata": {},
   "source": [
    "<img width=\"200px\" src=\"GasLawsImages/cannon.jpg\"/>"
   ]
  },
  {
   "cell_type": "code",
   "execution_count": 6,
   "metadata": {},
   "outputs": [
    {
     "data": {
      "application/vnd.jupyter.widget-view+json": {
       "model_id": "64454d6d52744987a0e9efad2e677b18",
       "version_major": 2,
       "version_minor": 0
      },
      "text/plain": [
       "Text(value='')"
      ]
     },
     "metadata": {},
     "output_type": "display_data"
    }
   ],
   "source": [
    "# Encrypted answer.\n",
    "answer = 'cea6e0b18604bc926d0fba9701e40359'\n",
    "\n",
    "# Create answer box.\n",
    "text = widgets.Text()\n",
    "display(text)\n",
    "text.on_submit(check_answer)"
   ]
  },
  {
   "cell_type": "markdown",
   "metadata": {},
   "source": [
    "<h1><a name=\"conclusion\" style=\"text-decoration: none; color: black;\">Conclusion</a></h1>\n",
    "\n",
    "In this section, we discussed the directly proportional relationship between pressure and temperature. This is expressed as Gay-Lussac's Law, which has its basis in kinetic molecular theory."
   ]
  },
  {
   "cell_type": "markdown",
   "metadata": {},
   "source": [
    "<img width=\"100%\" src=\"GasLawsImages/callystoBannerBottom.jpg\"/>"
   ]
  }
 ],
 "metadata": {
  "kernelspec": {
   "display_name": "Python 3",
   "language": "python",
   "name": "python3"
  },
  "language_info": {
   "codemirror_mode": {
    "name": "ipython",
    "version": 3
   },
   "file_extension": ".py",
   "mimetype": "text/x-python",
   "name": "python",
   "nbconvert_exporter": "python",
   "pygments_lexer": "ipython3",
   "version": "3.7.0"
  }
 },
 "nbformat": 4,
 "nbformat_minor": 2
}
