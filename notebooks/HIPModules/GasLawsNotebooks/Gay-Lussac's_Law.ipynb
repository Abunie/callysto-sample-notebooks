{
 "cells": [
  {
   "cell_type": "markdown",
   "metadata": {},
   "source": [
    "# Gay-Lussac's Law\n",
    "If you watched a gun fire, you would see a plume of smoke as the gunpowder burns and the bullet whizzes out. The increase in temperature caused an increase in the pressure, which forced the bullet out of the barrel. \n",
    "\n",
    "In technical terms, the average kinetic energy of the molecule is referred to as the temperature, and the density of the particles is referred to as the pressure. The relationship between the two variables at a constant volume is a direct relationship was defined by Joseph Louis Gay-Lussac in 1809. It can be expressed by the equation below:\n",
    "\n",
    "$$\n",
    "\\huge\n",
    "\\frac{P_1}{T_1} = \\frac{P_2}{T_2}\n",
    "$$\n",
    "\n",
    "Using the kinetic molecular theory to explain the Gay-Lussac's Law, the volume and the chemical amount of gas are held constant. When the temperature of the gas molecules are increased, the gas molecules will move at a higher speed because temperature and the average kinetic energy of the gas molecules have a direct relationship. As a result, gas molecules will collide with each other and with the wall of the container more frequently which exerts a greater force on the wall of container which increases the pressure of the gas. "
   ]
  },
  {
   "cell_type": "markdown",
   "metadata": {},
   "source": [
    "# Experiment\n",
    "The chamber pressure in a gun is roughly 344737.86 kPa at least. We can predict the approximate temperature the gunpowder would need to burn at because the two are directly proportional."
   ]
  },
  {
   "cell_type": "code",
   "execution_count": 12,
   "metadata": {},
   "outputs": [
    {
     "data": {
      "application/vnd.jupyter.widget-view+json": {
       "model_id": "cab11b1f3a744ef097dd95f1a87ddaca",
       "version_major": 2,
       "version_minor": 0
      },
      "text/plain": [
       "interactive(children=(Output(),), _dom_classes=('widget-interact',))"
      ]
     },
     "metadata": {},
     "output_type": "display_data"
    }
   ],
   "source": [
    "# Imports, borrowing code from a 'library' that is used to generate the graph.\n",
    "import ipywidgets as widgets\n",
    "import plotly.offline as py\n",
    "from plotly.offline import init_notebook_mode, iplot\n",
    "import plotly.graph_objs as go\n",
    "import numpy as np\n",
    "import random\n",
    "from numpy import random as rand\n",
    "    \n",
    "def bar():\n",
    "    # STEP 1. \n",
    "    # Set these values ONCE at the beginning of your experiment.\n",
    "\n",
    "    # Average pressure in kPa.\n",
    "    ave_pressure = 344737.86\n",
    "\n",
    "    # Initialize data sets. This makes sure it does not graph old data from previous experiments.\n",
    "    trials = []\n",
    "    \n",
    "    pressures = []\n",
    "    temps = []\n",
    "    \n",
    "    # STEP 2.\n",
    "\n",
    "    # Run this cell to generate values to populate your table, then run the table-generating cell.\n",
    "    yielded = random.uniform((ave_pressure-(rand.random_sample()*10)), (ave_pressure-(rand.random_sample()*10)))\n",
    "\n",
    "    pressure = round(yielded, 2)\n",
    "\n",
    "    # Constant multiple in Gay-Lussac's Law.\n",
    "    kGL = 2\n",
    "\n",
    "    # Gay-Lussac's Law is technically P/T = k, where k is constant for that specific system, (It varies between systems.)\n",
    "    # and P1/T1=P1/T1 is only a result of this relationship. Students do not need to learn this however.\n",
    "    # For simplicity and to create a difference between values, k is set to 2.\n",
    "    \n",
    "    pressures.append(pressure)\n",
    "    temps.append(kGL*pressure)\n",
    "    #trials.append((pressure, kGL*pressure))\n",
    "    \n",
    "    # STEP 3.\n",
    "    # Graph-generating cell - run after generating each new data pair.\n",
    "    init_notebook_mode(connected=True)\n",
    "\n",
    "    # Generates volume bars.\n",
    "    trace1 = go.Bar(\n",
    "        x=trials,\n",
    "        y=pressures,\n",
    "        name='Volume'\n",
    "    )\n",
    "\n",
    "    # Generates temperature bars.\n",
    "    trace2 = go.Bar(\n",
    "        x=trials,\n",
    "        y=temps,\n",
    "        name='Temperature'\n",
    "    )\n",
    "\n",
    "    # Gives graph grouped-bars layout.\n",
    "    data = [trace1, trace2]\n",
    "    layout = go.Layout(\n",
    "        barmode='group'\n",
    "    )\n",
    "\n",
    "    # Renders graph.\n",
    "    fig = go.Figure(data=data, layout=layout)\n",
    "    py.iplot(fig, filename='grouped-bar')\n",
    "\n",
    "    # Run step 2 then step 3 repeatedly until satisfied with your table of values\n",
    "\n",
    "pressure = widgets.FloatSlider(min=0, max=400000, value=344737.86, description=\"Pressure\")\n",
    "temp = widgets.FloatSlider(min=0, max=700000, value=689464.05, description=\"Temperature\")\n",
    "widgets.interactive(bar, pressure=pressure, temp=temp)"
   ]
  },
  {
   "cell_type": "code",
   "execution_count": null,
   "metadata": {},
   "outputs": [],
   "source": []
  }
 ],
 "metadata": {
  "kernelspec": {
   "display_name": "Python 3",
   "language": "python",
   "name": "python3"
  },
  "language_info": {
   "codemirror_mode": {
    "name": "ipython",
    "version": 3
   },
   "file_extension": ".py",
   "mimetype": "text/x-python",
   "name": "python",
   "nbconvert_exporter": "python",
   "pygments_lexer": "ipython3",
   "version": "3.7.0"
  }
 },
 "nbformat": 4,
 "nbformat_minor": 2
}
