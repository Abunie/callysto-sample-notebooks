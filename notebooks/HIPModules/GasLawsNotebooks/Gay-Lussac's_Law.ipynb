{
 "cells": [
  {
   "cell_type": "markdown",
   "metadata": {},
   "source": [
    "# Table of Contents\n",
    "I. Gay-Lussac's Law <br>\n",
    "II. Experiment <br>\n",
    "III. Lab Activity <br>\n",
    "IV. Practice Questions <br>\n",
    "V. Conclusion <br>"
   ]
  },
  {
   "cell_type": "markdown",
   "metadata": {},
   "source": [
    "# Gay-Lussac's Law\n",
    "If you watched a gun fire, you would see a plume of smoke as the gunpowder burns and the bullet whizzes out. The increase in temperature caused an increase in the pressure, which forced the bullet out of the barrel. \n",
    "\n",
    "In technical terms, the average kinetic energy of the molecule is referred to as the temperature, and the density of the particles is referred to as the pressure. The relationship between the two variables at a constant volume is a direct relationship was defined by Joseph Louis Gay-Lussac in 1809. It can be expressed by the equation below:\n",
    "\n",
    "$$\n",
    "\\huge\n",
    "\\frac{P_1}{T_1} = \\frac{P_2}{T_2}\n",
    "$$\n",
    "\n",
    "Using the kinetic molecular theory to explain the Gay-Lussac's Law, the volume and the chemical amount of gas are held constant. When the temperature of the gas molecules are increased, the gas molecules will move at a higher speed because temperature and the average kinetic energy of the gas molecules have a direct relationship. As a result, gas molecules will collide with each other and with the wall of the container more frequently which exerts a greater force on the wall of container which increases the pressure of the gas. "
   ]
  },
  {
   "cell_type": "markdown",
   "metadata": {},
   "source": [
    "# Experiment\n",
    "The chamber pressure in a gun is roughly 344737.86 kPa at least. We can predict the approximate temperature the gunpowder would need to burn at because the two are directly proportional."
   ]
  },
  {
   "cell_type": "code",
   "execution_count": 3,
   "metadata": {},
   "outputs": [
    {
     "data": {
      "application/vnd.jupyter.widget-view+json": {
       "model_id": "9248d9ac54d8482eb296e611b59e0118",
       "version_major": 2,
       "version_minor": 0
      },
      "text/plain": [
       "interactive(children=(FloatSlider(value=344737.86, description='Pressure', max=400000.0), FloatSlider(value=68…"
      ]
     },
     "metadata": {},
     "output_type": "display_data"
    }
   ],
   "source": [
    "# Imports, borrowing code from a 'library' that is used to generate the graph.\n",
    "import ipywidgets as widgets\n",
    "import plotly.offline as py\n",
    "from plotly.offline import init_notebook_mode, iplot\n",
    "import plotly.graph_objs as go\n",
    "import numpy as np\n",
    "import random\n",
    "import matplotlib as plt\n",
    "from numpy import random as rand\n",
    "    \n",
    "def bar(pressure, temp):\n",
    "    # STEP 1. \n",
    "    # Set these values ONCE at the beginning of your experiment.\n",
    "    \n",
    "    # STEP 3.\n",
    "    # Graph-generating cell - run after generating each new data pair.\n",
    "    init_notebook_mode(connected=True)\n",
    "\n",
    "    \n",
    "    #print(pressures)\n",
    "    # Generates volume bars.\n",
    "    trace1 = go.Bar(\n",
    "        x=[\"Pressure\"],\n",
    "        y=[pressure]\n",
    "    )\n",
    "    \n",
    "    trace2 = go.Bar(\n",
    "        x=[\"Temperature\"],\n",
    "        y=[temp]\n",
    "    )\n",
    "    \n",
    "    data = [trace1, trace2]\n",
    "\n",
    "    py.iplot(data, filename='grouped-bar')\n",
    "\n",
    "    # Run step 2 then step 3 repeatedly until satisfied with your table of values\n",
    "\n",
    "p = 344737.86\n",
    "pressure = widgets.FloatSlider(min=0, max=400000, value=p, description=\"Pressure\")\n",
    "t = pressure.value*2\n",
    "temp = widgets.FloatSlider(min=0, max=700000, value=t, description=\"Temperature\")\n",
    "widgets.interactive(bar, pressure=pressure, temp=temp)"
   ]
  },
  {
   "cell_type": "markdown",
   "metadata": {},
   "source": [
    "# Lab Activity\n",
    "In an actual experiment, there is sometimes some element of error, which can prevent us from yielding the correct (or any) values. Assuming the experiment took place at room temperature (25 degrees C), using any of the other complete data pairs, predict the values of 'nan'."
   ]
  },
  {
   "cell_type": "markdown",
   "metadata": {},
   "source": [
    "# Practice Questions"
   ]
  },
  {
   "cell_type": "markdown",
   "metadata": {},
   "source": [
    "# Conclusion\n",
    "In this section, we discussed the directly proportional relationship between pressure and temperature. This is expressed as Gay-Lussac's Law, which has its basis in kinetic molecular theory."
   ]
  }
 ],
 "metadata": {
  "kernelspec": {
   "display_name": "Python 3",
   "language": "python",
   "name": "python3"
  },
  "language_info": {
   "codemirror_mode": {
    "name": "ipython",
    "version": 3
   },
   "file_extension": ".py",
   "mimetype": "text/x-python",
   "name": "python",
   "nbconvert_exporter": "python",
   "pygments_lexer": "ipython3",
   "version": "3.7.0"
  }
 },
 "nbformat": 4,
 "nbformat_minor": 2
}
