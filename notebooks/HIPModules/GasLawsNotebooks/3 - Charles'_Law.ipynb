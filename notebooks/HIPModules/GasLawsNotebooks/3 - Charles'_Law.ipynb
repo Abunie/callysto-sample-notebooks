{
 "cells": [
  {
   "cell_type": "markdown",
   "metadata": {},
   "source": [
    "<img width=\"100%\" src=\"GasLawsImages/callystoBannerTop.jpg\"/>"
   ]
  },
  {
   "cell_type": "markdown",
   "metadata": {},
   "source": [
    "# Introduction\n",
    "The temperature of the nitrogen gas in airbags is originally extremely hot so that the volume of the airbag is expands quickly. When the airbag is later exposed to the cooler outside air, the temperature of the nitrogen gas gradually changes which causes the volume of the airbag to slowly decrease in size, creating a softer cushion for the impact. This is Charles' Law at work. "
   ]
  },
  {
   "cell_type": "markdown",
   "metadata": {},
   "source": [
    "# Table of Contents\n",
    "I. <a href=\"#charles\">Charles' Law</a><br>\n",
    "II. <a href=\"#experiment\">Experiment</a><br>\n",
    "III. <a href=\"#lab\">Lab Activity</a><br>\n",
    "IV. <a href=\"#practice\">Practice Questions</a><br>\n",
    "V. <a href=\"#conclusion\">Conclusion</a><br>"
   ]
  },
  {
   "cell_type": "markdown",
   "metadata": {},
   "source": [
    "<h1><a name=\"charles\" style=\"text-decoration: none; color: black;\">Charles' Law</a></h1>\n",
    "\n",
    "<img src=\"GasLawsImages/jacques_charles.jpg\" style=\"width:200px; float:right; padding-left:10px\"> The directly proportional relationship between volume and temperature, where pressure is constant, was developed in 1787 by Jacques Charles. It can be expressed by the equation below:\n",
    "\n",
    "$$\n",
    "\\huge\n",
    "\\frac{V_1}{T_1} = \\frac{V_2}{T_2}\n",
    "$$\n",
    "\n",
    "Imagine that the pressure and the chemical amount of gas are held constant using a piston. When the temperature of the gas molecules increases, the gas molecules will move at a higher speed because temperature and the average kinetic energy of the gas molecules have a direct relationship. As a result, gas molecules will collide with each other and with walls of the container more frequently which exerts a greater force on the wall of container. Because the external pressure on the container is held constant, but the gas pressure inside the container are increased, the piston of the container is pushed up to increase the volume of the container. This type of system can also be called an isobaric system."
   ]
  },
  {
   "cell_type": "code",
   "execution_count": 1,
   "metadata": {},
   "outputs": [
    {
     "data": {
      "text/html": [
       "\n",
       "        <iframe\n",
       "            width=\"400\"\n",
       "            height=\"300\"\n",
       "            src=\"https://www.youtube.com/embed/HxSPdmvqstQ\"\n",
       "            frameborder=\"0\"\n",
       "            allowfullscreen\n",
       "        ></iframe>\n",
       "        "
      ],
      "text/plain": [
       "<IPython.lib.display.YouTubeVideo at 0x10257df98>"
      ]
     },
     "metadata": {},
     "output_type": "display_data"
    }
   ],
   "source": [
    "# Here is a youtube video that is about Charles' Law.\n",
    "# Run this code segment to bring the video into this Callysto notebook.\n",
    "\n",
    "from IPython.lib.display import YouTubeVideo\n",
    "display(YouTubeVideo('HxSPdmvqstQ'))"
   ]
  },
  {
   "cell_type": "markdown",
   "metadata": {},
   "source": [
    "It is important to understand that Charles' Law deals with a specific type of system of gas, one where pressure is constant. If in your studies you see a question where pressure is constant and temperature or volume is being manipulated, you need to use Charles' Law."
   ]
  },
  {
   "cell_type": "markdown",
   "metadata": {},
   "source": [
    "<h1><a name=\"experiment\" style=\"text-decoration: none; color: black;\">Experiment</a></h1>\n",
    "\n",
    "Let's say we want to drive a car into a wall but save our crash test dummy with a standard airbag that has an average volume of 70L when inflated. We will run a few simulations to find out what average temperature we need the nitrogen gas to be at to inflate the airbag to the desired volume. "
   ]
  },
  {
   "cell_type": "code",
   "execution_count": 1,
   "metadata": {},
   "outputs": [
    {
     "data": {
      "text/html": [
       "<script>requirejs.config({paths: { 'plotly': ['https://cdn.plot.ly/plotly-latest.min']},});if(!window.Plotly) {{require(['plotly'],function(plotly) {window.Plotly=plotly;});}}</script>"
      ],
      "text/vnd.plotly.v1+html": [
       "<script>requirejs.config({paths: { 'plotly': ['https://cdn.plot.ly/plotly-latest.min']},});if(!window.Plotly) {{require(['plotly'],function(plotly) {window.Plotly=plotly;});}}</script>"
      ]
     },
     "metadata": {},
     "output_type": "display_data"
    },
    {
     "data": {
      "application/vnd.plotly.v1+json": {
       "data": [
        {
         "name": "Volume",
         "type": "bar",
         "uid": "3da298de-94fc-11e8-ba98-28cfe9142f7f",
         "x": [
          "Trial 1",
          "Trial 2",
          "Trial 3",
          "Trial 4",
          "Trial 5",
          "Trial 6",
          "Trial 7",
          "Trial 8",
          "Trial 9",
          "Trial 10"
         ],
         "y": [
          15.52,
          12.21,
          10.68,
          9.09,
          6.59,
          13.22,
          11.74,
          9.73,
          12.53,
          10.83
         ]
        },
        {
         "name": "Temperature",
         "type": "bar",
         "uid": "3da29eb0-94fc-11e8-ba98-28cfe9142f7f",
         "x": [
          "Trial 1",
          "Trial 2",
          "Trial 3",
          "Trial 4",
          "Trial 5",
          "Trial 6",
          "Trial 7",
          "Trial 8",
          "Trial 9",
          "Trial 10"
         ],
         "y": [
          8.6912,
          6.837600000000001,
          5.9808,
          5.090400000000001,
          3.6904000000000003,
          7.403200000000001,
          6.574400000000001,
          5.448800000000001,
          7.0168,
          6.064800000000001
         ]
        }
       ],
       "layout": {
        "barmode": "group",
        "title": "Volume vs. Temperature"
       }
      },
      "text/html": [
       "<div id=\"66b0af2a-c708-40f6-9401-69961346ecdf\" style=\"height: 525px; width: 100%;\" class=\"plotly-graph-div\"></div><script type=\"text/javascript\">require([\"plotly\"], function(Plotly) { window.PLOTLYENV=window.PLOTLYENV || {};window.PLOTLYENV.BASE_URL=\"https://plot.ly\";\n",
       "        Plotly.plot(\n",
       "            '66b0af2a-c708-40f6-9401-69961346ecdf',\n",
       "            [{\"name\": \"Volume\", \"x\": [\"Trial 1\", \"Trial 2\", \"Trial 3\", \"Trial 4\", \"Trial 5\", \"Trial 6\", \"Trial 7\", \"Trial 8\", \"Trial 9\", \"Trial 10\"], \"y\": [15.52, 12.21, 10.68, 9.09, 6.59, 13.22, 11.74, 9.73, 12.53, 10.83], \"type\": \"bar\", \"uid\": \"3da298de-94fc-11e8-ba98-28cfe9142f7f\"}, {\"name\": \"Temperature\", \"x\": [\"Trial 1\", \"Trial 2\", \"Trial 3\", \"Trial 4\", \"Trial 5\", \"Trial 6\", \"Trial 7\", \"Trial 8\", \"Trial 9\", \"Trial 10\"], \"y\": [8.6912, 6.837600000000001, 5.9808, 5.090400000000001, 3.6904000000000003, 7.403200000000001, 6.574400000000001, 5.448800000000001, 7.0168, 6.064800000000001], \"type\": \"bar\", \"uid\": \"3da29eb0-94fc-11e8-ba98-28cfe9142f7f\"}],\n",
       "            {\"barmode\": \"group\", \"title\": \"Volume vs. Temperature\"},\n",
       "            {\"showLink\": true, \"linkText\": \"Export to plot.ly\"}\n",
       "        ).then(function () {return Plotly.addFrames('66b0af2a-c708-40f6-9401-69961346ecdf',{});}).then(function(){Plotly.animate('66b0af2a-c708-40f6-9401-69961346ecdf');})\n",
       "        });</script>"
      ],
      "text/vnd.plotly.v1+html": [
       "<div id=\"66b0af2a-c708-40f6-9401-69961346ecdf\" style=\"height: 525px; width: 100%;\" class=\"plotly-graph-div\"></div><script type=\"text/javascript\">require([\"plotly\"], function(Plotly) { window.PLOTLYENV=window.PLOTLYENV || {};window.PLOTLYENV.BASE_URL=\"https://plot.ly\";\n",
       "        Plotly.plot(\n",
       "            '66b0af2a-c708-40f6-9401-69961346ecdf',\n",
       "            [{\"name\": \"Volume\", \"x\": [\"Trial 1\", \"Trial 2\", \"Trial 3\", \"Trial 4\", \"Trial 5\", \"Trial 6\", \"Trial 7\", \"Trial 8\", \"Trial 9\", \"Trial 10\"], \"y\": [15.52, 12.21, 10.68, 9.09, 6.59, 13.22, 11.74, 9.73, 12.53, 10.83], \"type\": \"bar\", \"uid\": \"3da298de-94fc-11e8-ba98-28cfe9142f7f\"}, {\"name\": \"Temperature\", \"x\": [\"Trial 1\", \"Trial 2\", \"Trial 3\", \"Trial 4\", \"Trial 5\", \"Trial 6\", \"Trial 7\", \"Trial 8\", \"Trial 9\", \"Trial 10\"], \"y\": [8.6912, 6.837600000000001, 5.9808, 5.090400000000001, 3.6904000000000003, 7.403200000000001, 6.574400000000001, 5.448800000000001, 7.0168, 6.064800000000001], \"type\": \"bar\", \"uid\": \"3da29eb0-94fc-11e8-ba98-28cfe9142f7f\"}],\n",
       "            {\"barmode\": \"group\", \"title\": \"Volume vs. Temperature\"},\n",
       "            {\"showLink\": true, \"linkText\": \"Export to plot.ly\"}\n",
       "        ).then(function () {return Plotly.addFrames('66b0af2a-c708-40f6-9401-69961346ecdf',{});}).then(function(){Plotly.animate('66b0af2a-c708-40f6-9401-69961346ecdf');})\n",
       "        });</script>"
      ]
     },
     "metadata": {},
     "output_type": "display_data"
    }
   ],
   "source": [
    "# Change the variables in this cell to create your own experiment!\n",
    "\n",
    "# Average volume in litres.\n",
    "ave_volume = 10\n",
    "\n",
    "# Number of trials.\n",
    "N = 10\n",
    "\n",
    "import src.charles as cy\n",
    "tests = cy.graph(N, ave_volume)"
   ]
  },
  {
   "cell_type": "code",
   "execution_count": 2,
   "metadata": {},
   "outputs": [
    {
     "data": {
      "text/html": [
       "<style  type=\"text/css\" >\n",
       "</style>  \n",
       "<table id=\"T_3f1a4f72_94fc_11e8_ba98_28cfe9142f7f\" > \n",
       "<thead>    <tr> \n",
       "        <th class=\"blank level0\" ></th> \n",
       "        <th class=\"col_heading level0 col0\" >Volume</th> \n",
       "        <th class=\"col_heading level0 col1\" >Pressure</th> \n",
       "    </tr></thead> \n",
       "<tbody>    <tr> \n",
       "        <th id=\"T_3f1a4f72_94fc_11e8_ba98_28cfe9142f7flevel0_row0\" class=\"row_heading level0 row0\" >0</th> \n",
       "        <td id=\"T_3f1a4f72_94fc_11e8_ba98_28cfe9142f7frow0_col0\" class=\"data row0 col0\" >6.59</td> \n",
       "        <td id=\"T_3f1a4f72_94fc_11e8_ba98_28cfe9142f7frow0_col1\" class=\"data row0 col1\" >3.6904</td> \n",
       "    </tr>    <tr> \n",
       "        <th id=\"T_3f1a4f72_94fc_11e8_ba98_28cfe9142f7flevel0_row1\" class=\"row_heading level0 row1\" >1</th> \n",
       "        <td id=\"T_3f1a4f72_94fc_11e8_ba98_28cfe9142f7frow1_col0\" class=\"data row1 col0\" >9.09</td> \n",
       "        <td id=\"T_3f1a4f72_94fc_11e8_ba98_28cfe9142f7frow1_col1\" class=\"data row1 col1\" >5.0904</td> \n",
       "    </tr>    <tr> \n",
       "        <th id=\"T_3f1a4f72_94fc_11e8_ba98_28cfe9142f7flevel0_row2\" class=\"row_heading level0 row2\" >2</th> \n",
       "        <td id=\"T_3f1a4f72_94fc_11e8_ba98_28cfe9142f7frow2_col0\" class=\"data row2 col0\" >9.73</td> \n",
       "        <td id=\"T_3f1a4f72_94fc_11e8_ba98_28cfe9142f7frow2_col1\" class=\"data row2 col1\" >5.4488</td> \n",
       "    </tr>    <tr> \n",
       "        <th id=\"T_3f1a4f72_94fc_11e8_ba98_28cfe9142f7flevel0_row3\" class=\"row_heading level0 row3\" >3</th> \n",
       "        <td id=\"T_3f1a4f72_94fc_11e8_ba98_28cfe9142f7frow3_col0\" class=\"data row3 col0\" >nan</td> \n",
       "        <td id=\"T_3f1a4f72_94fc_11e8_ba98_28cfe9142f7frow3_col1\" class=\"data row3 col1\" >5.9808</td> \n",
       "    </tr>    <tr> \n",
       "        <th id=\"T_3f1a4f72_94fc_11e8_ba98_28cfe9142f7flevel0_row4\" class=\"row_heading level0 row4\" >4</th> \n",
       "        <td id=\"T_3f1a4f72_94fc_11e8_ba98_28cfe9142f7frow4_col0\" class=\"data row4 col0\" >10.83</td> \n",
       "        <td id=\"T_3f1a4f72_94fc_11e8_ba98_28cfe9142f7frow4_col1\" class=\"data row4 col1\" >6.0648</td> \n",
       "    </tr>    <tr> \n",
       "        <th id=\"T_3f1a4f72_94fc_11e8_ba98_28cfe9142f7flevel0_row5\" class=\"row_heading level0 row5\" >5</th> \n",
       "        <td id=\"T_3f1a4f72_94fc_11e8_ba98_28cfe9142f7frow5_col0\" class=\"data row5 col0\" >11.74</td> \n",
       "        <td id=\"T_3f1a4f72_94fc_11e8_ba98_28cfe9142f7frow5_col1\" class=\"data row5 col1\" >6.5744</td> \n",
       "    </tr>    <tr> \n",
       "        <th id=\"T_3f1a4f72_94fc_11e8_ba98_28cfe9142f7flevel0_row6\" class=\"row_heading level0 row6\" >6</th> \n",
       "        <td id=\"T_3f1a4f72_94fc_11e8_ba98_28cfe9142f7frow6_col0\" class=\"data row6 col0\" >12.21</td> \n",
       "        <td id=\"T_3f1a4f72_94fc_11e8_ba98_28cfe9142f7frow6_col1\" class=\"data row6 col1\" >nan</td> \n",
       "    </tr>    <tr> \n",
       "        <th id=\"T_3f1a4f72_94fc_11e8_ba98_28cfe9142f7flevel0_row7\" class=\"row_heading level0 row7\" >7</th> \n",
       "        <td id=\"T_3f1a4f72_94fc_11e8_ba98_28cfe9142f7frow7_col0\" class=\"data row7 col0\" >12.53</td> \n",
       "        <td id=\"T_3f1a4f72_94fc_11e8_ba98_28cfe9142f7frow7_col1\" class=\"data row7 col1\" >7.0168</td> \n",
       "    </tr>    <tr> \n",
       "        <th id=\"T_3f1a4f72_94fc_11e8_ba98_28cfe9142f7flevel0_row8\" class=\"row_heading level0 row8\" >8</th> \n",
       "        <td id=\"T_3f1a4f72_94fc_11e8_ba98_28cfe9142f7frow8_col0\" class=\"data row8 col0\" >nan</td> \n",
       "        <td id=\"T_3f1a4f72_94fc_11e8_ba98_28cfe9142f7frow8_col1\" class=\"data row8 col1\" >7.4032</td> \n",
       "    </tr>    <tr> \n",
       "        <th id=\"T_3f1a4f72_94fc_11e8_ba98_28cfe9142f7flevel0_row9\" class=\"row_heading level0 row9\" >9</th> \n",
       "        <td id=\"T_3f1a4f72_94fc_11e8_ba98_28cfe9142f7frow9_col0\" class=\"data row9 col0\" >15.52</td> \n",
       "        <td id=\"T_3f1a4f72_94fc_11e8_ba98_28cfe9142f7frow9_col1\" class=\"data row9 col1\" >8.6912</td> \n",
       "    </tr></tbody> \n",
       "</table> "
      ],
      "text/plain": [
       "<pandas.io.formats.style.Styler at 0x10ea0a198>"
      ]
     },
     "execution_count": 2,
     "metadata": {},
     "output_type": "execute_result"
    }
   ],
   "source": [
    "# Import table code.\n",
    "import pandas as pd\n",
    "import numpy as np\n",
    "\n",
    "# Initialize the table.\n",
    "labels = ['Volume', 'Pressure']\n",
    "tests.sort()\n",
    "df = pd.DataFrame.from_records(tests, columns=labels)\n",
    "df.iloc[3, 0] = np.nan\n",
    "df.iloc[6, 1] = np.nan\n",
    "df.iloc[8, 0] = np.nan\n",
    "df.head\n",
    "df.style"
   ]
  },
  {
   "cell_type": "markdown",
   "metadata": {},
   "source": [
    "<h1><a name=\"lab\" style=\"text-decoration: none; color: black;\">Lab Activity</a></h1>\n",
    "\n",
    "In an actual experiment, there is sometimes some element of error, which can prevent us from yielding the correct (or any) values. Assuming the experiment took place at room temperature (25 degrees C), using any of the other complete data pairs, predict the values of `nan`."
   ]
  },
  {
   "cell_type": "markdown",
   "metadata": {},
   "source": [
    "<h1><a name=\"practice\" style=\"text-decoration: none; color: black;\">Practice Questions</a></h1>\n",
    "\n",
    "There are three questions below that test Charles' Law. There is a code segment that you can run after each question to check your answer. Before you do so though, run the code segment below this text. Each of the answers are encrypted, and this code decrypts it in order to test if it is correct. To be extra clear, the long string of characters and numbers such as `845e85fa64a2d6037055beba19fe0bd8` that you will see is not the answer, it is the encrypted answer. Run the code segments after each question to have the text field for your answer to appear. Furthermore, round to the nearest significant figure, and do not input units. If you are struggling, please check the [Answer Key notebook](Answer_Key.ipynb) for full solutions. "
   ]
  },
  {
   "cell_type": "code",
   "execution_count": null,
   "metadata": {},
   "outputs": [],
   "source": [
    "# ANSWER HANDLING. Uncomment the 'print(\"This is the hash: \", temp)' line by deleting the # before it.\n",
    "\n",
    "# Imports.\n",
    "from IPython.display import display \n",
    "from ipywidgets import widgets\n",
    "import hashlib\n",
    "\n",
    "# Check the answer given by the student.\n",
    "def check_answer(x):\n",
    "    temp = None\n",
    "    try:\n",
    "        temp = hashlib.md5(str.encode(str(text.value))).hexdigest()\n",
    "#         print(\"This is the hash: \", temp)\n",
    "    except:\n",
    "        print(\"Not a number.\")\n",
    "    if(temp == answer):\n",
    "        print(\"Correct!\")\n",
    "    else:\n",
    "        print(\"Incorrect. Try again!\")"
   ]
  },
  {
   "cell_type": "markdown",
   "metadata": {},
   "source": [
    "1. A specific amount of gas molecules is sealed within a container with a movable piston. The initial volume of the gas within the cylinder is 3.0L at 10$^{\\circ}$C. What will be the final volume of the gas container in liters when the temperature is raised up to 30$^{\\circ}$C?  "
   ]
  },
  {
   "cell_type": "code",
   "execution_count": null,
   "metadata": {},
   "outputs": [],
   "source": [
    "# Encrypted answer.\n",
    "answer = 'acff46b161a3b7d6ed01ba79a032acc9'\n",
    "\n",
    "# Create answer box.\n",
    "text = widgets.Text()\n",
    "display(text)\n",
    "text.on_submit(check_answer)"
   ]
  },
  {
   "cell_type": "markdown",
   "metadata": {},
   "source": [
    "2. For a hot air balloon that contains helium gas, it initially contains 1000$m^{3}$ of air at a temperature of 20.00$^{\\circ}$C. As a fire burns at the bottom of the balloon, the balloon begins to expand with hot air. What is the minimum temperature in Celsius of the gas inside the ballon needed for the hot air balloon to increase to 17000 $m^{3}$ in volume? Assume pressure and the number of air molecules inside the balloon to stay constant. \n",
    "<img src=\"GasLawsImages/airBalloons.jpg\" style=\"width:200px;\"/>"
   ]
  },
  {
   "cell_type": "code",
   "execution_count": null,
   "metadata": {},
   "outputs": [],
   "source": [
    "# Encrypted answer.\n",
    "answer = 'a78e17c964d3593d89cde3fb678f6a14'\n",
    "\n",
    "# Create answer box.\n",
    "text = widgets.Text()\n",
    "display(text)\n",
    "text.on_submit(check_answer)"
   ]
  },
  {
   "cell_type": "markdown",
   "metadata": {},
   "source": [
    "3. John initially inflates a float pool to contain 3.2L of air when it is 20$^{\\circ}$C outside, and closes it tightly. Later in the day it warms up by 14$^{\\circ}$C, and John notices that the float pool expanded. What is the new volume of the float pool, assuming pressure has remained constant?"
   ]
  },
  {
   "cell_type": "code",
   "execution_count": null,
   "metadata": {},
   "outputs": [],
   "source": [
    "# Encrypted answer.\n",
    "answer = '31053ad0506e935470ca21b43cae98cf'\n",
    "\n",
    "# Create answer box.\n",
    "text = widgets.Text()\n",
    "display(text)\n",
    "text.on_submit(check_answer)"
   ]
  },
  {
   "cell_type": "markdown",
   "metadata": {},
   "source": [
    "<h1><a name=\"conclusion\" style=\"text-decoration: none; color: black;\">Conclusion</a></h1>\n",
    "\n",
    "In this section, we discussed the directly proportional relationship between volume and temperature. This is expressed as Charles' Law, which has its basis in kinetic molecular theory."
   ]
  },
  {
   "cell_type": "markdown",
   "metadata": {},
   "source": [
    "<img width=\"100%\" src=\"GasLawsImages/callystoBannerBottom.jpg\"/>"
   ]
  }
 ],
 "metadata": {
  "kernelspec": {
   "display_name": "Python 3",
   "language": "python",
   "name": "python3"
  },
  "language_info": {
   "codemirror_mode": {
    "name": "ipython",
    "version": 3
   },
   "file_extension": ".py",
   "mimetype": "text/x-python",
   "name": "python",
   "nbconvert_exporter": "python",
   "pygments_lexer": "ipython3",
   "version": "3.7.0"
  }
 },
 "nbformat": 4,
 "nbformat_minor": 2
}
