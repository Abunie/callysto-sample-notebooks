{
 "cells": [
  {
   "cell_type": "markdown",
   "metadata": {},
   "source": [
    "<img width=\"100%\" src=\"GasLawsImages/callystoBannerTop.jpg\"/>"
   ]
  },
  {
   "cell_type": "markdown",
   "metadata": {},
   "source": [
    "# Introduction\n",
    "This notebook is dedicated to providing answers to all of the 12 questions from the previous notebooks. If you have not done them yet, please do them first! The answer key is divided into 4 sections with one for each law, so if you wish you can check your answers without accidentally seeing the answers for the other questions."
   ]
  },
  {
   "cell_type": "markdown",
   "metadata": {},
   "source": [
    "# Table of Contents\n",
    "I. <a href=\"#boyle\">Boyle's Law Questions</a><br>\n",
    "II. <a href=\"#charles\">Charles' Law Questions</a><br>\n",
    "III. <a href=\"#lussac\">Gay-Lussac's Law Questions</a><br>\n",
    "IV. <a href=\"#combined\">Combined Gas Law Questions</a><br>"
   ]
  },
  {
   "cell_type": "markdown",
   "metadata": {},
   "source": [
    "<h1><a name=\"boyle\" style=\"text-decoration: none; color: black;\">Boyle's Law Questions</a></h1>\n",
    "\n",
    "1. Since we know that temperature is constant and that the system (Person's lungs) is isolated, we know that Boyle's Law can be applied to solve this question. When pressure goes up, we should always expect volume to go down, and vice versa because they have an inverse relationship. We don't need to change the units of pressure/volume for Boyle's Law as long as we keep the units consistent on each side."
   ]
  },
  {
   "cell_type": "markdown",
   "metadata": {},
   "source": [
    "$\\large P_1V_1 = P_2V_2$\n",
    "\n",
    "$\\large 15mmHg \\cdot 3.4L = P_2 \\cdot 6L$\n",
    "\n",
    "$\\large P_2 = \\frac{15mmHg\\hspace{1mm}\\cdot\\hspace{1mm}3.4L}{6L}$\n",
    "\n",
    "$\\large P_2 = 8.50mmHg = 8.5 mmHg$"
   ]
  },
  {
   "cell_type": "markdown",
   "metadata": {},
   "source": [
    "2. Since we know that the temperature and the system (balloon is sealed tightly) is isolated, we know that Boyle's Law can be applied to solve this question. As the balloon raises up to a higher altitude, the atmospheric pressure decreases, we should expect the volume of the gas would go up due to their inverse relationship. We need to change the units of pressure and the units of volume for Boyle's Law first so that the units are consistant on each side."
   ]
  },
  {
   "cell_type": "markdown",
   "metadata": {},
   "source": [
    "Make sure to convert to the correct units!\n",
    "\n",
    "$\\large P_1= 1atm = 101.325kPa$<br> \n",
    "$\\large V_1= 90mL = 0.09L$\n",
    "\n",
    "$\\large P_1V_1 = P_2V_2$\n",
    "\n",
    "$\\large 101.325kPa \\cdot 0.09L = 50kPa \\cdot V_2$\n",
    "\n",
    "$\\large V_2 = \\frac{101.325kPa\\hspace{1mm}\\cdot\\hspace{1mm}0.09L}{50kPa}$\n",
    "\n",
    "$\\large V_2 = 0.18239L = 0.18L$"
   ]
  },
  {
   "cell_type": "markdown",
   "metadata": {},
   "source": [
    "3. Since we know that the temperature and the number of gas molecules stay constant within the pump, we know that Boyle's Law can be applied to solve this question. As the volume decreases to half of its original size, we should expect that the pressure of the gas would go up due to their inverse relationship. As this question is theoretical, we do not have to worry about units and instead focus on how exactly the values change."
   ]
  },
  {
   "cell_type": "markdown",
   "metadata": {},
   "source": [
    "There are two main methods of solving this type of question.<br>\n",
    "First, we could substitute in values or substitute in variables. Use whichever method you find easiest.\n",
    "\n",
    "### Method 1\n",
    "\n",
    "First, lets arbitrarily assign values to our initial pressure and volume.\n",
    "\n",
    "$\\large P_1 = 10kPa$<br>\n",
    "$\\large V_1 = 8L$\n",
    "\n",
    "Remember, the initial numbers you choose can be anything, as long as you remain working with them for the rest of the question. From here we can also determine $V_2$ as we know it must be exactly half of $V_1$, which in this case $V_2 = 4L$.\n",
    "\n",
    "$\\large P_1V_1 = P_2V_2$\n",
    "\n",
    "$\\large 10kPa \\cdot 8L = P_2 \\cdot 4L$\n",
    "\n",
    "$\\large P_2 = \\frac{10kPa\\hspace{1mm}\\cdot\\hspace{1mm}8L}{4L}$\n",
    "\n",
    "$\\large P_2 = 20kPa$\n",
    "\n",
    "We can see that the pressure has increased by a factor of 2, which is our answer.\n"
   ]
  },
  {
   "cell_type": "markdown",
   "metadata": {},
   "source": [
    "### Method 2\n",
    "\n",
    "First, lets suppose the following:\n",
    "\n",
    "$\\large P_1 = y$<br>\n",
    "$\\large V_1 = x$\n",
    "\n",
    "This is actually 100% acceptable. We do not know what $P_1$ or $V_1$ are, nor do we care. We just want to see how they relate to each other. In addition, because we know that $V_2$ is exactly half of $V_1$, we can equate the two and get $V_2 = \\frac{1}{2}x$. From there, we can solve for $P_2$\n",
    "\n",
    "$\\large P_1V_1 = P_2V_2$\n",
    "\n",
    "$\\large y \\cdot x = P_2 \\cdot \\frac{1}{2}x$\n",
    "\n",
    "$\\large P_2 = \\frac{2\\hspace{1mm}\\cdot\\hspace{1mm}y\\hspace{1mm}\\cdot\\hspace{1mm}x}{x}$\n",
    "\n",
    "$\\large P_2 = 2y$\n",
    "\n",
    "We can again see that the pressure has increased by a factor of 2, which is our answer."
   ]
  },
  {
   "cell_type": "markdown",
   "metadata": {},
   "source": [
    "## This is the end of the Boyle's Law questions. Do not continue if you have yet to finish the remaining practice questions.\n",
    "<br><br><br><br><br>"
   ]
  },
  {
   "cell_type": "markdown",
   "metadata": {},
   "source": [
    "<h1><a name=\"charles\" style=\"text-decoration: none; color: black;\">Charles' Law Questions</a></h1>\n",
    "\n",
    "1. Since we know that the pressure of the gas molecules and the amount of the gas molecules stay constant within the container, we know that Charles' Law can be applied to solve this question. As the temperature increases, we should expect that the volume of the gas molecules would also go up due to their direct relationship. In addition, we always need to convert from Celsius to Kelvin when dealing with temperature."
   ]
  },
  {
   "cell_type": "markdown",
   "metadata": {},
   "source": [
    "$\\large T_1= 10^{\\circ}C = 283.15^{\\circ}K$<br>\n",
    "$\\large T_2= 30^{\\circ}C = 303.15^{\\circ}K$\n",
    "\n",
    "$\\large \\frac{V_1}{T_1} = \\frac{V_2}{T_2}$\n",
    "\n",
    "$\\large \\frac{3L}{283.15^{\\circ}K} = \\frac{V_2}{303.15^{\\circ}K}$\n",
    "\n",
    "$\\large V_2 = \\frac{3L\\hspace{1mm}\\cdot\\hspace{1mm}303.15^{\\circ}K}{283.15^{\\circ}K}$\n",
    "\n",
    "$\\large V_2 = 3.1894L = 3.2L$"
   ]
  },
  {
   "cell_type": "markdown",
   "metadata": {},
   "source": [
    "2. Since we know that the pressure of the gas molecules and the amount of the gas molecules stay constant within the container, we know that Charles' Law can be applied to solve this question. As the volume increases, we should always expect that the temperature of the gas molecules would also go up. Furthermore, we need to convert from Celsius to Kelvin."
   ]
  },
  {
   "cell_type": "markdown",
   "metadata": {},
   "source": [
    "$\\large T_1 = 20^{\\circ}C = 293.15K$\n",
    "\n",
    "$\\large \\frac{V_1}{T_1} = \\frac{V_2}{T_2}$\n",
    "\n",
    "$\\large \\frac{1000m^{3}}{293.15^{\\circ}K} = \\frac{17000 m^{3}}{T_2}$\n",
    "\n",
    "$\\large T_2 = \\frac{293.15^{\\circ}K\\hspace{1mm}\\cdot\\hspace{1mm}17000 m^{3}}{1000 m^{3}}$\n",
    "\n",
    "$\\large T_2 = 4983.55^{\\circ}K = 4710.4^{\\circ}C = 4710^{\\circ}C$"
   ]
  },
  {
   "cell_type": "markdown",
   "metadata": {},
   "source": [
    "3. Since we know that the pressure of the gas molecules and the amount of the gas molecules stay constant within the float pool, we know that Charles' Law can be applied to solve this question. As the temperature increases, we should expect that the volume of the gas molecules would also go up. Furthermore, we need to convert from Celsius to Kelvin."
   ]
  },
  {
   "cell_type": "markdown",
   "metadata": {},
   "source": [
    "$\\large T_1 = 20^{\\circ}C = 293.15^{\\circ}K$<br>\n",
    "$\\large T_2 = 34^{\\circ}C = 307.15^{\\circ}K $\n",
    "\n",
    "$\\large \\frac{V_1}{T_1} = \\frac{V_2}{T_2}$\n",
    "\n",
    "$\\large \\frac{3.2L}{293.15^{\\circ}K} = \\frac{V_2}{307.15^{\\circ}K}$\n",
    "\n",
    "$\\large V_2 = \\frac{307.15^{\\circ}K\\hspace{1mm}\\cdot\\hspace{1mm}3.2L}{293.15^{\\circ}K}$\n",
    "\n",
    "$\\large V_2 = 3.3528L = 3.4L$"
   ]
  },
  {
   "cell_type": "markdown",
   "metadata": {},
   "source": [
    "## This is the end of the Charles' Law questions. Do not continue if you have yet to finish the remaining practice questions.\n",
    "<br><br><br><br><br>"
   ]
  },
  {
   "cell_type": "markdown",
   "metadata": {},
   "source": [
    "<h1><a name=\"lussac\" style=\"text-decoration: none; color: black;\">Gay-Lussac's Law Questions</a></h1>\n",
    "\n",
    "1. Since we know that the pressure of the gas molecules and the amount of the gas molecules stay constant within the container, we know that Gay-Lussac's Law can be applied to solve this question. When we increase the pressure, we should expect the temperature to increase because of their direct relationship. In addition, we need to convert from Celsius to Kelvin."
   ]
  },
  {
   "cell_type": "markdown",
   "metadata": {},
   "source": [
    "$\\large T_1= 15^{\\circ}C = 288.15^{\\circ}K$\n",
    "\n",
    "$\\large \\frac{P_1}{T_1} = \\frac{P_2}{T_2}$\n",
    "\n",
    "$\\large \\frac{200mmHg}{288.15^{\\circ}K} = \\frac{560mmHg}{T_2}$\n",
    "\n",
    "$\\large T_2 = \\frac{307.15^{\\circ}K\\hspace{1mm}\\cdot\\hspace{1mm}288.15}{293.15^{\\circ}K}$\n",
    "\n",
    "$\\large T_2= 806.82^{\\circ}K = 533.67^{\\circ}C = 534^{\\circ}C$"
   ]
  },
  {
   "cell_type": "markdown",
   "metadata": {},
   "source": [
    "2. Since we know that the pressure of the gas molecules and the amount of the gas molecules stay constant within the container, we know that Gay-Lussac's Law can be applied to solve this question. As the temperature increases, we should expect that the volume of the gas molecules would also go up. In addition, we need to convert from Celsius to Kelvin."
   ]
  },
  {
   "cell_type": "markdown",
   "metadata": {},
   "source": [
    "$\\large T_1= 30^{\\circ}C= 303.15^{\\circ}K$\n",
    "\n",
    "$\\large \\frac{P_1}{T_1} = \\frac{P_2}{T_2}$\n",
    "\n",
    "$\\large \\frac{101kPa}{303.15^{\\circ}K} = \\frac{200kPa}{T_2}$\n",
    "\n",
    "$\\large T_2 = \\frac{303.15^{\\circ}K\\hspace{1mm}\\cdot\\hspace{1mm}200kPa}{101kPa}$\n",
    "\n",
    "$\\large T_2= 600.29703^{\\circ}K = 327.147^{\\circ}C = 327^{\\circ}C$"
   ]
  },
  {
   "cell_type": "markdown",
   "metadata": {},
   "source": [
    "3. Since volume and number of molecules is constant within the cannon, we can apply Gay-Lussac's Law to solve this question. Temperature and pressure have a direct relationship, and it makes sense for the pressure to go up when the temperature goes up. Make sure to convert temperature to Kelvin, and the answer is the difference between final and initial temperatures."
   ]
  },
  {
   "cell_type": "markdown",
   "metadata": {},
   "source": [
    "$\\large T_1= 20^{\\circ}C = 293.15^{\\circ}K$\n",
    "\n",
    "$\\large \\frac{P_1}{T_1} = \\frac{P_2}{T_2}$\n",
    "\n",
    "$\\large \\frac{1000kPa}{293.15^{\\circ}K} = \\frac{351867.04kPa}{T_2}$\n",
    "\n",
    "$\\large T_2 = \\frac{293.15^{\\circ}K\\hspace{1mm}\\cdot\\hspace{1mm}351867.04kPa}{1000kPa}$\n",
    "\n",
    "$\\large T_2 = 103149.823^{\\circ}K = 102876.673^{\\circ}C$\n",
    "\n",
    "$\\large T_{change} = T_2 - T_1 = 102876.673^{\\circ}C - 20^{\\circ}C = 102856.673^{\\circ}C = 102857^{\\circ}C$"
   ]
  },
  {
   "cell_type": "markdown",
   "metadata": {},
   "source": [
    "## This is the end of the Gay-Lussac's Law questions. Do not continue if you have yet to finish the remaining practice questions.\n",
    "<br><br><br><br><br>"
   ]
  },
  {
   "cell_type": "markdown",
   "metadata": {},
   "source": [
    "<h1><a name=\"combined\" style=\"text-decoration: none; color: black;\">Combined Gas Law Questions</a></h1>\n",
    "\n",
    "1. Since we know that pressure is inversely proportional to volume while temperature is directly proportional, we can infer that since the pressure decreased, the volume will first increase before decreasing with the lower temperature. Keep in mind that temperature is in Kelvins!"
   ]
  },
  {
   "cell_type": "markdown",
   "metadata": {},
   "source": [
    "### First calculate the theoretical volume.\n",
    "\n",
    "$\\large \\frac{P_1\\hspace{1mm}\\cdot\\hspace{1mm}V_1}{T_1} = \\frac{P_2\\hspace{1mm}\\cdot\\hspace{1mm}V_2}{T_2}$\n",
    "\n",
    "$\\large \\frac{101kPa\\hspace{1mm}\\cdot\\hspace{1mm}10L}{298.15^{\\circ}K} = \\frac{15kPa\\hspace{1mm}\\cdot\\hspace{1mm}V_2}{263.15^{\\circ}K}$\n",
    "\n",
    "$\\large V_2 = \\frac{101kPa\\hspace{1mm}\\cdot\\hspace{1mm}10L\\hspace{1mm}\\cdot\\hspace{1mm}263.15^{\\circ}K}{298.15^{\\circ}K\\hspace{1mm}\\cdot\\hspace{1mm}15kPa}$\n",
    "\n",
    "$\\large V_2 = 59.42903$\n",
    "\n",
    "### Then calculate the experimental error.\n",
    "\n",
    "$\\large experimental\\hspace{2mm}error = \\frac{|theoretical\\hspace{2mm}value - experimental\\hspace{2mm}value|}{experimental\\hspace{2mm}value} \\cdot 100\\%$\n",
    "\n",
    "$\\large experimental\\hspace{2mm}error = \\frac{|59.42903L - 60L|}{60L} \\cdot 100\\%$\n",
    "\n",
    "$\\large experimental\\hspace{2mm}error = 0.96\\%$\n"
   ]
  },
  {
   "cell_type": "markdown",
   "metadata": {},
   "source": [
    "2. Since we know that pressure is inversely proportional to volume while temperature is directly proportional, we can infer that since the pressure decreased, the volume will first increase before decreasing with the lower temperature. Keep in mind that temperature is in Kelvins!"
   ]
  },
  {
   "cell_type": "markdown",
   "metadata": {},
   "source": [
    "$\\large \\frac{P_1\\hspace{1mm}\\cdot\\hspace{1mm}V_1}{T_1} = \\frac{P_2\\hspace{1mm}\\cdot\\hspace{1mm}V_2}{T_2}$\n",
    "\n",
    "$\\large \\frac{30kPa\\hspace{1mm}\\cdot\\hspace{1mm}5.0L}{243.15^{\\circ}K} = \\frac{100kPa\\hspace{1mm}\\cdot\\hspace{1mm}V_2}{298.15^{\\circ}K}$\n",
    "\n",
    "$\\large V_2 = \\frac{30kPa\\hspace{1mm}\\cdot\\hspace{1mm}5.0L\\hspace{1mm}\\cdot\\hspace{1mm}298.15^{\\circ}K}{243.15^{\\circ}K\\hspace{1mm}\\cdot\\hspace{1mm}100kPa}$\n",
    "\n",
    "$\\large V_2 = 1.8L$"
   ]
  },
  {
   "cell_type": "markdown",
   "metadata": {},
   "source": [
    "3. Since we know that volume is inversely proportional to pressure, while temperature is directly proportional, we can infer that since the volume decreased, the pressure will first increase, before decreasing with the lower temperature. Keep in mind that temperature is in Kelvins!"
   ]
  },
  {
   "cell_type": "markdown",
   "metadata": {},
   "source": [
    "$\\large \\frac{P_1\\hspace{1mm}\\cdot\\hspace{1mm}V_1}{T_1} = \\frac{P_2\\hspace{1mm}\\cdot\\hspace{1mm}V_2}{T_2}$\n",
    "\n",
    "$\\large \\frac{1.00atm\\hspace{1mm}\\cdot\\hspace{1mm}20.0L}{293.15^{\\circ}K} = \\frac{P_2\\hspace{1mm}\\cdot\\hspace{1mm}10.0L}{278.15^{\\circ}K}$\n",
    "\n",
    "$\\large P_2 = \\frac{1.00atm\\hspace{1mm}\\cdot\\hspace{1mm}20.0L\\hspace{1mm}\\cdot\\hspace{1mm}278.15^{\\circ}K}{293.15^{\\circ}K\\hspace{1mm}\\cdot\\hspace{1mm}10.0kPa}$\n",
    "\n",
    "$\\large P_2 = 1.90atm$"
   ]
  },
  {
   "cell_type": "markdown",
   "metadata": {},
   "source": [
    "<img width=\"100%\" src=\"GasLawsImages/callystoBannerBottom.jpg\"/>"
   ]
  }
 ],
 "metadata": {
  "kernelspec": {
   "display_name": "Python 3",
   "language": "python",
   "name": "python3"
  },
  "language_info": {
   "codemirror_mode": {
    "name": "ipython",
    "version": 3
   },
   "file_extension": ".py",
   "mimetype": "text/x-python",
   "name": "python",
   "nbconvert_exporter": "python",
   "pygments_lexer": "ipython3",
   "version": "3.6.5"
  }
 },
 "nbformat": 4,
 "nbformat_minor": 2
}
