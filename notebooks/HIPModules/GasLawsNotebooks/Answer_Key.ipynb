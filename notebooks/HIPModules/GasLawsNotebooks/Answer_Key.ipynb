{
 "cells": [
  {
   "cell_type": "markdown",
   "metadata": {},
   "source": [
    "# Boyle's Law Questions\n",
    "1. Since we know that temperature is constant and that the system (Person's lungs) is isolated, we know that Boyle's Law can be applied to solve this question. When pressure goes up, we should always expect volume to go down, and vice versa because they have an inverse relationship. We don't need to change the units of pressure/volume for Boyle's Law as long as we keep the units consistent on each side."
   ]
  },
  {
   "cell_type": "markdown",
   "metadata": {},
   "source": [
    "$P_1V_1 = P_2V_2$\n",
    "\n",
    "$\n",
    "15mmHg \\cdot 3.4L = P_2 \\cdot 6L\n",
    "$\n",
    "\n",
    "$\n",
    "\\large\n",
    "P_2 = \\frac{15mmHg\\hspace{1mm}\\cdot\\hspace{1mm}3.4L}{6L}\n",
    "$\n",
    "\n",
    "$P_2 = 8.5 mmHg$"
   ]
  },
  {
   "cell_type": "markdown",
   "metadata": {},
   "source": [
    "2. Since we know that the temperature and the system (balloon is sealed tightly) is isolated, we know that Boyle's law can be applied to solve this question. As the balloon raises up to a higher altitude, the atmospheric pressure decreases, we should expect the volume of the gas would go up due to their inverse relationship. We need to change the units of pressure and the units of volume for Boyle's Law first so that the units are consistant on each side."
   ]
  },
  {
   "cell_type": "markdown",
   "metadata": {},
   "source": [
    "$P_1= 1atm = 101.325kPa$  \n",
    "$V_1= 90mL = 0.09L$\n",
    "\n",
    "\n",
    "$P_2= 50kPa$              \n",
    "$V_2= ?$\n",
    "\n",
    "$P_1V_1 = P_2V_2$\n",
    "\n",
    "$\n",
    "101.325kPa \\cdot 0.09L = 50kPa \\cdot V_2\n",
    "$\n",
    "\n",
    "$\n",
    "\\large\n",
    "V_2 = \\frac{101.325kPa\\hspace{1mm}\\cdot\\hspace{1mm}0.09L}{50kPa}\n",
    "$\n",
    "\n",
    "$V_2 = 0.18L$"
   ]
  },
  {
   "cell_type": "markdown",
   "metadata": {},
   "source": [
    "3. Since we know that the temperature and the number of gas molecules stay constant within the pump, we know that Boyle's law can be applied to solve this question. As the volume decreases to half of its original size, we should expect that the pressure of the gas would go up due to their inverse relationship. We do not need to change units because this question is theoretical not numerical."
   ]
  },
  {
   "cell_type": "markdown",
   "metadata": {},
   "source": [
    "METHOD 1: SUBSTITUTE NUMERICAL VALUES FOR THE UNKNOWNS\n",
    "\n",
    "\n",
    "\n",
    "\n",
    "\n",
    "suppose V_1= 4L and P_1= 5kPa\n",
    "\n",
    "\n",
    "\n",
    "therefore V_2= 2L because the volume is decreased to half of its original size\n",
    "\n",
    "$P_1V_1 = P_2V_2$\n",
    "\n",
    "\n",
    "\n",
    "$\n",
    "5kPa \\cdot 4L = P_2 \\cdot 2L\n",
    "$\n",
    "\n",
    "$\n",
    "\\large\n",
    "P_2 = \\frac{5kPa\\hspace{1mm}\\cdot\\hspace{1mm}4L}{2L}\n",
    "$\n",
    "\n",
    "$P_2 = 10kPa$\n",
    "\n",
    "as a result, the pressure has increased by a factor of two in order for the volume of the pump to be half of its original size\n"
   ]
  },
  {
   "cell_type": "markdown",
   "metadata": {},
   "source": [
    "METHOD 2: set up variables for the unknowns\n",
    "\n",
    "\n",
    "\n",
    "\n",
    "\n",
    "\n",
    "suppose V_1= x and P_1= y\n",
    "\n",
    "\n",
    "\n",
    "therefore V_2= 0.5x because the volume is decreased to half of its original size\n",
    "\n",
    "$P_1V_1 = P_2V_2$\n",
    "\n",
    "\n",
    "\n",
    "$\n",
    "y \\cdot x = P_2 \\cdot 0.5x\n",
    "$\n",
    "\n",
    "$\n",
    "\\large\n",
    "P_2 = \\frac{y\\hspace{1mm}\\cdot\\hspace{1mm}x}{0.5x}\n",
    "$\n",
    "\n",
    "$P_2 = 2y$\n",
    "\n",
    "as a result, the pressure has increased by a factor of two in order for the volume of the pump to be half of its original size\n"
   ]
  },
  {
   "cell_type": "markdown",
   "metadata": {},
   "source": [
    "# Charle's Law Questions"
   ]
  },
  {
   "cell_type": "markdown",
   "metadata": {},
   "source": []
  },
  {
   "cell_type": "markdown",
   "metadata": {},
   "source": []
  }
 ],
 "metadata": {
  "kernelspec": {
   "display_name": "Python 3",
   "language": "python",
   "name": "python3"
  },
  "language_info": {
   "codemirror_mode": {
    "name": "ipython",
    "version": 3
   },
   "file_extension": ".py",
   "mimetype": "text/x-python",
   "name": "python",
   "nbconvert_exporter": "python",
   "pygments_lexer": "ipython3",
   "version": "3.6.5"
  }
 },
 "nbformat": 4,
 "nbformat_minor": 2
}
