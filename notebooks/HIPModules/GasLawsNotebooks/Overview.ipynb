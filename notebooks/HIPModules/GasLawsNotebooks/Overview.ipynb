{
 "cells": [
  {
   "cell_type": "markdown",
   "metadata": {},
   "source": [
    "# Overview\n",
    "[comment]: # (This curriculum objective is from before the curriculum remake. It may still be an objective after though.)\n",
    "**Alberta Curriculum Objective: Illustrate how Boyle's and Charles's laws, individually and combined, are related to the ideal gas law (PV = nRT ).**\n",
    "http://www.learnalberta.ca/ProgramOfStudy.aspx?lang=en&ProgramId=525479#707983\n",
    "\n",
    "**TEACHERS - delete this portion before handing over to students: if you want to change / personalize one of the practice questions and need to change the answer, uncomment the print statement in the check_answer function in any of the \"# ANSWER HANDLING.\" cells, type your desired answer into the text field, and copy the outputted hash into the 'answer' variable.**\n",
    "\n",
    "In this notebook we will be working with Boyle's Law, Charles' Law, and Gay-Lussac's Law to build up to introducing the combined gas law, with an optional statistics extension.\n",
    "\n",
    "We are expecting that the students understand Celsius to Kelvin conversions, converting between pressure units, calculating experimental error, and Kinetic Molecular Theory (ideal gas assumptions). If they have already been introduced to these laws, this notebook will simply provide review and extra practice.\n",
    "\n",
    "# Introduction\n",
    "Gases surround and shape the world around us all the time. From the air we breath to pneumatic gas-powered pistons that run our machinery, it is important to understand the properties of any given gas so we can better utilize it for our benefit. In a closed container, the pressure, temperature and volume dictate much of how a given gas behaves and understanding how these three properties relate to each other is fundamental to moving forward with our pursuit of understanding gas. Three laws were developed over time to correlate two of these properties at a time and assumes the third remains constant. These laws can in turn be integrated into the Combined Gas Law, which relates all three properties, assuming the amount of gas is constant."
   ]
  },
  {
   "cell_type": "markdown",
   "metadata": {},
   "source": [
    "# Table of Contents"
   ]
  },
  {
   "cell_type": "markdown",
   "metadata": {},
   "source": [
    "1. <a href=\"Boyle's_Law.ipynb\">Boyles Law</a> <br>\n",
    "    a. Simulated Experiment <br>\n",
    "    b. Practice Questions <br>\n",
    "2. <a href=\"Charles'_Law.ipynb\">Charles' Law</a> <br>\n",
    "    a. Simulated Experiment <br>\n",
    "    b. Practice Questions <br>\n",
    "3. <a href=\"Gay-Lussac's_Law.ipynb\">Gay-Lussac's Law</a><br>\n",
    "    a. Simulated Experiment <br>\n",
    "    b. Practice Questions <br>\n",
    "4. <a href=\"Combined_Gas_Law.ipynb\">Combined Gas Law</a><br>\n",
    "    a. Simulated Experiment <br>\n",
    "    b. Practice Questions <br>"
   ]
  },
  {
   "cell_type": "code",
   "execution_count": null,
   "metadata": {},
   "outputs": [],
   "source": []
  }
 ],
 "metadata": {
  "kernelspec": {
   "display_name": "Python 3",
   "language": "python",
   "name": "python3"
  },
  "language_info": {
   "codemirror_mode": {
    "name": "ipython",
    "version": 3
   },
   "file_extension": ".py",
   "mimetype": "text/x-python",
   "name": "python",
   "nbconvert_exporter": "python",
   "pygments_lexer": "ipython3",
   "version": "3.7.0"
  }
 },
 "nbformat": 4,
 "nbformat_minor": 2
}
