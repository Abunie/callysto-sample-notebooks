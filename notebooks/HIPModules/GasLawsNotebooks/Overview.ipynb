{
 "cells": [
  {
   "cell_type": "markdown",
   "metadata": {},
   "source": [
    "<img width=\"100%\" src=\"GasLawsImages/callystoBannerTop.jpg\"/>"
   ]
  },
  {
   "cell_type": "markdown",
   "metadata": {},
   "source": [
    "# For Teachers\n",
    "**Delete this portion before handing over to students:**<br>\n",
    "**if you want to change / personalize one of the practice questions and need to change the answer, uncomment the print statement in the check_answer function in any of the \"# ANSWER HANDLING.\" cells, type your desired answer into the text field, and copy the outputted hash into the 'answer' variable.**"
   ]
  },
  {
   "cell_type": "markdown",
   "metadata": {},
   "source": [
    "# Overview\n",
    "[comment]: # (This curriculum objective is from before the curriculum remake. It may still be an objective after though.)\n",
    "**Alberta Curriculum Objective: Illustrate how Boyle's and Charles's laws, individually and combined, are related to the ideal gas law (PV = nRT).**\n",
    "http://www.learnalberta.ca/ProgramOfStudy.aspx?lang=en&ProgramId=525479#707983\n",
    "\n",
    "In this notebook we will be working with Boyle's Law, Charles' Law, and Gay-Lussac's Law to build up to introducing the combined gas law. Note that though we do not cover the ideal gas law, this set of notebooks are not suppose to completely cover the curriculum objective, only add on to and solidify what is taught in class.\n",
    "\n",
    "We are expecting that the students understand Celsius to Kelvin conversions, converting between pressure units, and Kinetic Molecular Theory (ideal gas assumptions). If they have already been introduced to these laws, this notebook will simply provide review and extra practice."
   ]
  },
  {
   "cell_type": "markdown",
   "metadata": {},
   "source": [
    "\n",
    "# Introduction\n",
    "Gases surround and shape the world around us all the time. From the air we breath to pneumatic gas-powered pistons that run our machinery, it is important to understand the properties of any given gas so we can better utilize it for our benefit. In a closed container, the pressure, temperature and volume dictate much of how a given gas behaves and understanding how these three properties relate to each other is fundamental to moving forward with our pursuit of understanding gas. Three laws were developed over time to correlate two of these properties at a time and assumes the third remains constant. These laws can in turn be integrated into the Combined Gas Law, which relates all three properties, assuming the amount of gas is constant."
   ]
  },
  {
   "cell_type": "markdown",
   "metadata": {},
   "source": [
    "# Table of Contents\n",
    "1. [Boyle's Law](Boyle's_Law.ipynb)\n",
    "    \n",
    "    - About 25 minutes to complete\n",
    "    - Simulated experiment\n",
    "    - Practice questions\n",
    "\n",
    "\n",
    "2. [Charles' Law](Charles'_Law.ipynb)\n",
    "    \n",
    "    - About 25 minutes to complete\n",
    "    - Simulated experiment\n",
    "    - Practice questions\n",
    "    \n",
    "    \n",
    "3. [Gay-Lussac's Law](Gay-Lussac's_Law.ipynb)\n",
    "    \n",
    "    - About 25 minutes to complete\n",
    "    - Simulated experiment\n",
    "    - Practice questions\n",
    "    \n",
    "    \n",
    "4. [Combined Gas Law](Combined_Gas_Law.ipynb)\n",
    "    \n",
    "    - About 15 minutes to complete\n",
    "    - Simulated experiment\n",
    "    - Practice questions"
   ]
  },
  {
   "cell_type": "markdown",
   "metadata": {},
   "source": [
    "<img width=\"100%\" src=\"GasLawsImages/callystoBannerBottom.jpg\"/>"
   ]
  }
 ],
 "metadata": {
  "kernelspec": {
   "display_name": "Python 3",
   "language": "python",
   "name": "python3"
  },
  "language_info": {
   "codemirror_mode": {
    "name": "ipython",
    "version": 3
   },
   "file_extension": ".py",
   "mimetype": "text/x-python",
   "name": "python",
   "nbconvert_exporter": "python",
   "pygments_lexer": "ipython3",
   "version": "3.7.0"
  }
 },
 "nbformat": 4,
 "nbformat_minor": 2
}
