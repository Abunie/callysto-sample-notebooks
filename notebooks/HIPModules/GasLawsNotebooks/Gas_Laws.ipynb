{
 "cells": [
  {
   "cell_type": "markdown",
   "metadata": {},
   "source": [
    "<img src=\"../images/Callysto_Notebook-Banner_Top_06.06.18.jpg\"/>"
   ]
  },
  {
   "cell_type": "markdown",
   "metadata": {},
   "source": [
    "# Pre-requisites / Background\n",
    "\n",
    "[comment]: # (This curriculum objective is from before the curriculum remake. It may still be an objective after though.)\n",
    "**Alberta Curriculum Objective: Illustrate how Boyle's and Charles's laws, individually and combined, are related to the ideal gas law (PV = nRT ).**\n",
    "http://www.learnalberta.ca/ProgramOfStudy.aspx?lang=en&ProgramId=525479#707983\n",
    "\n",
    "**TEACHERS - delete this portion before handing over to students: if you want to change / personalize one of the practice questions and need to change the answer, uncomment the print statement in the check_answer function in any of the \"# ANSWER HANDLING.\" cells, type your desired answer into the text field, and copy the outputted hash into the 'answer' variable.**\n",
    "\n",
    "In this notebook we will be working with Boyle's Law, Charles' Law, and Gay-Lussac's Law to build up to introducing the combined gas law, with an optional statistics extension.\n",
    "\n",
    "We are expecting that the students understand Celsius to Kelvin conversions, converting between pressure units, calculating experimental error, and Kinetic Molecular Theory (ideal gas assumptions). If they have already been introduced to these laws, this notebook will simply provide review and extra practice."
   ]
  },
  {
   "cell_type": "markdown",
   "metadata": {},
   "source": [
    "# Introduction\n",
    "Gases surround and shape the world around us all the time. From the air we breath to pneumatic gas-powered pistons that run our machinery, it is important to understand the properties of any given gas so we can better utilize it for our benefit. In a closed container, the pressure, temperature and volume dictate much of how a given gas behaves and understanding how these three properties relate to each other is fundamental to moving forward with our pursuit of understanding gas. Three laws were developed over time to correlate two of these properties at a time and assumes the third remains constant. These laws can in turn be integrated into the Combined Gas Law, which relates all three properties, assuming the amount of gas is constant."
   ]
  },
  {
   "cell_type": "markdown",
   "metadata": {},
   "source": [
    "# The Gas Laws\n",
    "## Boyle's Law\n",
    "How does the air pressure in your lungs and the volume of your lungs relate to help you breathe? When you breath out, you first greatly decrease the volume of your lungs. This increases the pressure exerted both on and by the air in your lungs, forcing the air out. When you breathe in, you first increase the volume of your lungs, and create an area of low air pressure in your lungs. Air from your environment then rushes into your lungs in an effort to re-establish equilibrium, and then the process repeats.\n",
    "\n",
    "The pressure and volume of a gas, assuming constant temperature, have a inverse relationship, and without this we would be unable to breathe. Through experimentation, in 1662 Robert Boyle was able to derive this relationship. Boyle's Law is as follows:\n",
    "\n",
    "$$\n",
    "\\huge\n",
    "PV = k\n",
    "$$\n",
    "\n",
    "Where P is the pressure in the system, V is the volume, and k is a system-specific constant. You do not need to learn about k in Chemistry 20.\n",
    "\n",
    "If you recall back to kinetic molecular theory, the space the *isolated* gas particles occupy is considered the volume of the gas, and the pressure is the collective force the gas particles exert on the walls of its container. If the external pressure is increased, the volume available for the gas molecules is decreased. As a result, the gas molecules become closer together and will collide with each other and with the wall of the container more frequently. As the number of collisions increases, the average force exerted by the gas molecules is increased.\n",
    "\n",
    "For the purposes of Chemistry 20 is better to understand Boyle's Law as the following equation:\n",
    "\n",
    "$$\n",
    "\\huge\n",
    "P_1V_1 = P_2V_2\n",
    "$$\n",
    "\n",
    "This equation shows how changing pressure or volume impacts the other quantity when there is a change in the system. The P/V with the one subscript are the initial pressure and volume, and the P/V with two as a subscript are the quantities after the change. Use this equation for questions relating to Boyle's Law - the equation with k is not tested in the Chemistry 20 curriculum."
   ]
  },
  {
   "cell_type": "code",
   "execution_count": 105,
   "metadata": {},
   "outputs": [
    {
     "data": {
      "text/html": [
       "\n",
       "        <iframe\n",
       "            width=\"400\"\n",
       "            height=\"300\"\n",
       "            src=\"https://www.youtube.com/embed/27yqJ9vJ5kQ\"\n",
       "            frameborder=\"0\"\n",
       "            allowfullscreen\n",
       "        ></iframe>\n",
       "        "
      ],
      "text/plain": [
       "<IPython.lib.display.YouTubeVideo at 0x10d733fd0>"
      ]
     },
     "metadata": {},
     "output_type": "display_data"
    },
    {
     "name": "stdout",
     "output_type": "stream",
     "text": [
      "Hidden code segment block.\n"
     ]
    },
    {
     "data": {
      "text/html": [
       "<script>\n",
       "code_show=true; \n",
       "function code_toggle() {\n",
       "  if (code_show) {\n",
       "    $('div.input').each(function(id) {\n",
       "      el = $(this).find('.cm-variable:first');\n",
       "      if (id == 0 || el.text() == 'hide_me') {\n",
       "        $(this).hide();\n",
       "      }\n",
       "    });\n",
       "    $('div.output_prompt').css('opacity', 0);\n",
       "  } else {\n",
       "    $('div.input').each(function(id) {\n",
       "      $(this).show();\n",
       "    });\n",
       "    $('div.output_prompt').css('opacity', 1);\n",
       "  }\n",
       "  code_show = !code_show\n",
       "} \n",
       "$( document ).ready(code_toggle);\n",
       "</script>\n",
       "<form action=\"javascript:code_toggle()\"><input style=\"opacity:0\" type=\"submit\" value=\"Click here to toggle on/off the raw code.\"></form>"
      ],
      "text/plain": [
       "<IPython.core.display.HTML object>"
      ]
     },
     "execution_count": 105,
     "metadata": {},
     "output_type": "execute_result"
    }
   ],
   "source": [
    "# Here is a youtube video that is about Boyle's Law.\n",
    "# Run this code segment to bring the video into this Callysto notebook.\n",
    "\n",
    "from IPython.lib.display import YouTubeVideo\n",
    "display(YouTubeVideo('27yqJ9vJ5kQ'))"
   ]
  },
  {
   "cell_type": "markdown",
   "metadata": {},
   "source": [
    "It is important to understand that Boyle's Law is a special case for a gas system where temperature is constant. If in your studies you see a question where pressure or volume are being manipulated and temperature is either explicitly or implicitly stated to be constant, this question is addressing and testing Boyle's Law."
   ]
  },
  {
   "cell_type": "markdown",
   "metadata": {},
   "source": [
    "# Experiment\n",
    "Let's say we want to find the pressure in an adult male test subject's lungs when they are expanded to maximum capacity. The average lung capacity of an adult human male is 6L. We will test random lung capacities for N trials, and see how Boyle's Law shapes the relationship between pressure and volume."
   ]
  },
  {
   "cell_type": "code",
   "execution_count": 23,
   "metadata": {},
   "outputs": [],
   "source": [
    "# Change the variables in this cell to create your own experiment!\n",
    "\n",
    "# Max volume in liters.\n",
    "volume = 6\n",
    "\n",
    "# Number of trials.\n",
    "N = 100"
   ]
  },
  {
   "cell_type": "code",
   "execution_count": 24,
   "metadata": {
    "scrolled": false
   },
   "outputs": [
    {
     "data": {
      "text/html": [
       "<script>requirejs.config({paths: { 'plotly': ['https://cdn.plot.ly/plotly-latest.min']},});if(!window.Plotly) {{require(['plotly'],function(plotly) {window.Plotly=plotly;});}}</script>"
      ],
      "text/vnd.plotly.v1+html": [
       "<script>requirejs.config({paths: { 'plotly': ['https://cdn.plot.ly/plotly-latest.min']},});if(!window.Plotly) {{require(['plotly'],function(plotly) {window.Plotly=plotly;});}}</script>"
      ]
     },
     "metadata": {},
     "output_type": "display_data"
    },
    {
     "data": {
      "application/vnd.plotly.v1+json": {
       "data": [
        {
         "mode": "markers",
         "type": "scatter",
         "uid": "424f81d4-86b6-11e8-85c2-28cfe9142f7f",
         "x": [
          0.4708073192379453,
          3.586631776412141,
          5.827342570150991,
          2.188955557371526,
          3.1761283978242285,
          3.5264179732156298,
          4.338378833726227,
          1.765324999840065,
          5.606085064624245,
          0.6201167844694263,
          0.5904631504903476,
          5.489634468249497,
          2.6092879266395874,
          2.785358188109376,
          5.078364829172065,
          1.586252620756177,
          1.6982656431681942,
          1.58908403318287,
          2.797041488228574,
          2.1469080393308357,
          3.317212164884948,
          5.148225679501863,
          5.987378613788764,
          1.3318781891396025,
          0.8539073345592513,
          0.5647881404773472,
          0.32703740285971694,
          2.3660690100443498,
          4.264480765341932,
          2.96055001690023,
          2.4674486090669925,
          3.550430012072872,
          3.0705508392323373,
          3.510869511409709,
          1.8222495662765597,
          1.986986740198252,
          3.0001496007994732,
          5.135990768033831,
          1.0612244576836651,
          1.5451749947518776,
          3.994147657843564,
          2.1610889920927963,
          2.5707319260486536,
          4.978642304190907,
          3.341404607229754,
          1.4288383534711968,
          3.15958799720104,
          5.800937178005744,
          4.8426630618622255,
          5.400083632002923,
          1.6887822053560348,
          4.312894448953886,
          3.643254506681454,
          4.114310746998171,
          5.046478334235078,
          2.311303758939185,
          4.973404625518122,
          3.644817511365723,
          3.285743579761984,
          2.790963198972374,
          2.270922444262912,
          4.066381635451495,
          5.786825896804374,
          1.6721380435481987,
          2.314466471988365,
          2.0790965693817838,
          4.266868161706077,
          2.27889561783842,
          3.531322716195515,
          0.30588434631097533,
          3.11345674280756,
          0.6759743775926284,
          1.2618798472619863,
          2.9371241210227623,
          2.196393861465698,
          5.897519876717953,
          4.133322619009709,
          5.165717113326063,
          2.9121146748339797,
          3.2444343957689576,
          6.181113442568802,
          3.1839818119326977,
          3.9006843079206126,
          0.2045267831323082,
          4.3965974898514775,
          4.376054838192736,
          2.017090994163784,
          2.327444476139601,
          1.6009550294356985,
          5.397139471150314,
          2.89076068019121,
          1.3423120933698627,
          0.9984863031753897,
          5.2899818146799795,
          0.7977172953961033,
          3.2915292973311745,
          5.5088093756938346,
          4.119274561836653,
          1.8998806689005465,
          2.423491464564648
         ],
         "y": [
          1.661700059758965,
          0.3567518428181643,
          -0.0006710201648647274,
          0.3684478469762443,
          0.4340575569435258,
          0.08576061135159205,
          0.21048179584602944,
          0.5675618283311932,
          0.37369182440346355,
          1.6201262211551288,
          1.9915896442123942,
          0.11234017380975378,
          0.44160789378441856,
          0.3033373506144283,
          0.24989820735328647,
          0.6804186312311484,
          0.6195036798641984,
          0.6484118549271076,
          0.2528932579046187,
          0.5562152032211269,
          0.2084020924908425,
          0.2180788134150722,
          0.18961500319884692,
          0.9304961947528053,
          1.2451130499964118,
          2.0484122192683003,
          4.398544965389575,
          0.39975470780327604,
          0.3590622045375974,
          0.5147087520163218,
          0.6207400317865404,
          0.12551123121580182,
          0.24599893285413688,
          0.20966878412948672,
          0.5912879310273157,
          0.48708852558057214,
          0.25338991635249863,
          0.31795857332836824,
          0.7724139354284615,
          0.7760383213160532,
          0.39930189452180603,
          0.5796127095354927,
          0.4198939736343324,
          0.12097184991651075,
          0.510554661926612,
          0.4081649794126006,
          0.6307462837655555,
          0.14632222316367696,
          0.24392406139909364,
          0.1729494096634173,
          0.5435022041975827,
          0.22658335342361194,
          0.3342344836179617,
          0.45520651755707664,
          0.2545997393121755,
          0.2820687734861572,
          0.03979958910912905,
          0.45206205248509057,
          0.28252857478191096,
          0.5459497230656035,
          0.3141429117700669,
          0.27649566922401747,
          0.00022554044392980588,
          0.5396861448522208,
          0.5617062540269412,
          0.2559721513987393,
          -0.02525200011782299,
          0.7293107945060412,
          0.4006571510397774,
          3.3945721127905846,
          0.48725253514851713,
          1.7179231965818065,
          1.0301294883420287,
          0.4819589238737825,
          0.3620475021874707,
          0.0821007030285246,
          0.04759372884324234,
          0.06357932030462081,
          0.531212307566463,
          0.16934404607103157,
          0.08898792654120785,
          0.43485567657982976,
          0.24739126689003055,
          2.7255862023689597,
          0.3738884712296303,
          0.2052181207385223,
          0.45986210017299056,
          0.5253213113832845,
          0.7244819626593676,
          0.19199175768793653,
          0.43123464018331165,
          0.6922377833446355,
          1.0532941835349412,
          -0.010165314647647666,
          1.6814574546162357,
          0.26592026245301376,
          0.15792072746831373,
          0.19762404855637,
          0.5597159901648017,
          0.43388925715200777
         ]
        }
       ],
       "layout": {
        "title": "Pressure vs. Volume",
        "xaxis": {
         "title": "Volume"
        },
        "yaxis": {
         "title": "Pressure"
        }
       }
      },
      "text/html": [
       "<div id=\"d414d830-0a6b-47d5-b6c5-7243abb6cba6\" style=\"height: 525px; width: 100%;\" class=\"plotly-graph-div\"></div><script type=\"text/javascript\">require([\"plotly\"], function(Plotly) { window.PLOTLYENV=window.PLOTLYENV || {};window.PLOTLYENV.BASE_URL=\"https://plot.ly\";\n",
       "        Plotly.plot(\n",
       "            'd414d830-0a6b-47d5-b6c5-7243abb6cba6',\n",
       "            [{\"mode\": \"markers\", \"x\": [0.4708073192379453, 3.586631776412141, 5.827342570150991, 2.188955557371526, 3.1761283978242285, 3.5264179732156298, 4.338378833726227, 1.765324999840065, 5.606085064624245, 0.6201167844694263, 0.5904631504903476, 5.489634468249497, 2.6092879266395874, 2.785358188109376, 5.078364829172065, 1.586252620756177, 1.6982656431681942, 1.58908403318287, 2.797041488228574, 2.1469080393308357, 3.317212164884948, 5.148225679501863, 5.987378613788764, 1.3318781891396025, 0.8539073345592513, 0.5647881404773472, 0.32703740285971694, 2.3660690100443498, 4.264480765341932, 2.96055001690023, 2.4674486090669925, 3.550430012072872, 3.0705508392323373, 3.510869511409709, 1.8222495662765597, 1.986986740198252, 3.0001496007994732, 5.135990768033831, 1.0612244576836651, 1.5451749947518776, 3.994147657843564, 2.1610889920927963, 2.5707319260486536, 4.978642304190907, 3.341404607229754, 1.4288383534711968, 3.15958799720104, 5.800937178005744, 4.8426630618622255, 5.400083632002923, 1.6887822053560348, 4.312894448953886, 3.643254506681454, 4.114310746998171, 5.046478334235078, 2.311303758939185, 4.973404625518122, 3.644817511365723, 3.285743579761984, 2.790963198972374, 2.270922444262912, 4.066381635451495, 5.786825896804374, 1.6721380435481987, 2.314466471988365, 2.0790965693817838, 4.266868161706077, 2.27889561783842, 3.531322716195515, 0.30588434631097533, 3.11345674280756, 0.6759743775926284, 1.2618798472619863, 2.9371241210227623, 2.196393861465698, 5.897519876717953, 4.133322619009709, 5.165717113326063, 2.9121146748339797, 3.2444343957689576, 6.181113442568802, 3.1839818119326977, 3.9006843079206126, 0.2045267831323082, 4.3965974898514775, 4.376054838192736, 2.017090994163784, 2.327444476139601, 1.6009550294356985, 5.397139471150314, 2.89076068019121, 1.3423120933698627, 0.9984863031753897, 5.2899818146799795, 0.7977172953961033, 3.2915292973311745, 5.5088093756938346, 4.119274561836653, 1.8998806689005465, 2.423491464564648], \"y\": [1.661700059758965, 0.3567518428181643, -0.0006710201648647274, 0.3684478469762443, 0.4340575569435258, 0.08576061135159205, 0.21048179584602944, 0.5675618283311932, 0.37369182440346355, 1.6201262211551288, 1.9915896442123942, 0.11234017380975378, 0.44160789378441856, 0.3033373506144283, 0.24989820735328647, 0.6804186312311484, 0.6195036798641984, 0.6484118549271076, 0.2528932579046187, 0.5562152032211269, 0.2084020924908425, 0.2180788134150722, 0.18961500319884692, 0.9304961947528053, 1.2451130499964118, 2.0484122192683003, 4.398544965389575, 0.39975470780327604, 0.3590622045375974, 0.5147087520163218, 0.6207400317865404, 0.12551123121580182, 0.24599893285413688, 0.20966878412948672, 0.5912879310273157, 0.48708852558057214, 0.25338991635249863, 0.31795857332836824, 0.7724139354284615, 0.7760383213160532, 0.39930189452180603, 0.5796127095354927, 0.4198939736343324, 0.12097184991651075, 0.510554661926612, 0.4081649794126006, 0.6307462837655555, 0.14632222316367696, 0.24392406139909364, 0.1729494096634173, 0.5435022041975827, 0.22658335342361194, 0.3342344836179617, 0.45520651755707664, 0.2545997393121755, 0.2820687734861572, 0.03979958910912905, 0.45206205248509057, 0.28252857478191096, 0.5459497230656035, 0.3141429117700669, 0.27649566922401747, 0.00022554044392980588, 0.5396861448522208, 0.5617062540269412, 0.2559721513987393, -0.02525200011782299, 0.7293107945060412, 0.4006571510397774, 3.3945721127905846, 0.48725253514851713, 1.7179231965818065, 1.0301294883420287, 0.4819589238737825, 0.3620475021874707, 0.0821007030285246, 0.04759372884324234, 0.06357932030462081, 0.531212307566463, 0.16934404607103157, 0.08898792654120785, 0.43485567657982976, 0.24739126689003055, 2.7255862023689597, 0.3738884712296303, 0.2052181207385223, 0.45986210017299056, 0.5253213113832845, 0.7244819626593676, 0.19199175768793653, 0.43123464018331165, 0.6922377833446355, 1.0532941835349412, -0.010165314647647666, 1.6814574546162357, 0.26592026245301376, 0.15792072746831373, 0.19762404855637, 0.5597159901648017, 0.43388925715200777], \"type\": \"scatter\", \"uid\": \"424f81d4-86b6-11e8-85c2-28cfe9142f7f\"}],\n",
       "            {\"title\": \"Pressure vs. Volume\", \"xaxis\": {\"title\": \"Volume\"}, \"yaxis\": {\"title\": \"Pressure\"}},\n",
       "            {\"showLink\": true, \"linkText\": \"Export to plot.ly\"}\n",
       "        ).then(function () {return Plotly.addFrames('d414d830-0a6b-47d5-b6c5-7243abb6cba6',{});}).then(function(){Plotly.animate('d414d830-0a6b-47d5-b6c5-7243abb6cba6');})\n",
       "        });</script>"
      ],
      "text/vnd.plotly.v1+html": [
       "<div id=\"d414d830-0a6b-47d5-b6c5-7243abb6cba6\" style=\"height: 525px; width: 100%;\" class=\"plotly-graph-div\"></div><script type=\"text/javascript\">require([\"plotly\"], function(Plotly) { window.PLOTLYENV=window.PLOTLYENV || {};window.PLOTLYENV.BASE_URL=\"https://plot.ly\";\n",
       "        Plotly.plot(\n",
       "            'd414d830-0a6b-47d5-b6c5-7243abb6cba6',\n",
       "            [{\"mode\": \"markers\", \"x\": [0.4708073192379453, 3.586631776412141, 5.827342570150991, 2.188955557371526, 3.1761283978242285, 3.5264179732156298, 4.338378833726227, 1.765324999840065, 5.606085064624245, 0.6201167844694263, 0.5904631504903476, 5.489634468249497, 2.6092879266395874, 2.785358188109376, 5.078364829172065, 1.586252620756177, 1.6982656431681942, 1.58908403318287, 2.797041488228574, 2.1469080393308357, 3.317212164884948, 5.148225679501863, 5.987378613788764, 1.3318781891396025, 0.8539073345592513, 0.5647881404773472, 0.32703740285971694, 2.3660690100443498, 4.264480765341932, 2.96055001690023, 2.4674486090669925, 3.550430012072872, 3.0705508392323373, 3.510869511409709, 1.8222495662765597, 1.986986740198252, 3.0001496007994732, 5.135990768033831, 1.0612244576836651, 1.5451749947518776, 3.994147657843564, 2.1610889920927963, 2.5707319260486536, 4.978642304190907, 3.341404607229754, 1.4288383534711968, 3.15958799720104, 5.800937178005744, 4.8426630618622255, 5.400083632002923, 1.6887822053560348, 4.312894448953886, 3.643254506681454, 4.114310746998171, 5.046478334235078, 2.311303758939185, 4.973404625518122, 3.644817511365723, 3.285743579761984, 2.790963198972374, 2.270922444262912, 4.066381635451495, 5.786825896804374, 1.6721380435481987, 2.314466471988365, 2.0790965693817838, 4.266868161706077, 2.27889561783842, 3.531322716195515, 0.30588434631097533, 3.11345674280756, 0.6759743775926284, 1.2618798472619863, 2.9371241210227623, 2.196393861465698, 5.897519876717953, 4.133322619009709, 5.165717113326063, 2.9121146748339797, 3.2444343957689576, 6.181113442568802, 3.1839818119326977, 3.9006843079206126, 0.2045267831323082, 4.3965974898514775, 4.376054838192736, 2.017090994163784, 2.327444476139601, 1.6009550294356985, 5.397139471150314, 2.89076068019121, 1.3423120933698627, 0.9984863031753897, 5.2899818146799795, 0.7977172953961033, 3.2915292973311745, 5.5088093756938346, 4.119274561836653, 1.8998806689005465, 2.423491464564648], \"y\": [1.661700059758965, 0.3567518428181643, -0.0006710201648647274, 0.3684478469762443, 0.4340575569435258, 0.08576061135159205, 0.21048179584602944, 0.5675618283311932, 0.37369182440346355, 1.6201262211551288, 1.9915896442123942, 0.11234017380975378, 0.44160789378441856, 0.3033373506144283, 0.24989820735328647, 0.6804186312311484, 0.6195036798641984, 0.6484118549271076, 0.2528932579046187, 0.5562152032211269, 0.2084020924908425, 0.2180788134150722, 0.18961500319884692, 0.9304961947528053, 1.2451130499964118, 2.0484122192683003, 4.398544965389575, 0.39975470780327604, 0.3590622045375974, 0.5147087520163218, 0.6207400317865404, 0.12551123121580182, 0.24599893285413688, 0.20966878412948672, 0.5912879310273157, 0.48708852558057214, 0.25338991635249863, 0.31795857332836824, 0.7724139354284615, 0.7760383213160532, 0.39930189452180603, 0.5796127095354927, 0.4198939736343324, 0.12097184991651075, 0.510554661926612, 0.4081649794126006, 0.6307462837655555, 0.14632222316367696, 0.24392406139909364, 0.1729494096634173, 0.5435022041975827, 0.22658335342361194, 0.3342344836179617, 0.45520651755707664, 0.2545997393121755, 0.2820687734861572, 0.03979958910912905, 0.45206205248509057, 0.28252857478191096, 0.5459497230656035, 0.3141429117700669, 0.27649566922401747, 0.00022554044392980588, 0.5396861448522208, 0.5617062540269412, 0.2559721513987393, -0.02525200011782299, 0.7293107945060412, 0.4006571510397774, 3.3945721127905846, 0.48725253514851713, 1.7179231965818065, 1.0301294883420287, 0.4819589238737825, 0.3620475021874707, 0.0821007030285246, 0.04759372884324234, 0.06357932030462081, 0.531212307566463, 0.16934404607103157, 0.08898792654120785, 0.43485567657982976, 0.24739126689003055, 2.7255862023689597, 0.3738884712296303, 0.2052181207385223, 0.45986210017299056, 0.5253213113832845, 0.7244819626593676, 0.19199175768793653, 0.43123464018331165, 0.6922377833446355, 1.0532941835349412, -0.010165314647647666, 1.6814574546162357, 0.26592026245301376, 0.15792072746831373, 0.19762404855637, 0.5597159901648017, 0.43388925715200777], \"type\": \"scatter\", \"uid\": \"424f81d4-86b6-11e8-85c2-28cfe9142f7f\"}],\n",
       "            {\"title\": \"Pressure vs. Volume\", \"xaxis\": {\"title\": \"Volume\"}, \"yaxis\": {\"title\": \"Pressure\"}},\n",
       "            {\"showLink\": true, \"linkText\": \"Export to plot.ly\"}\n",
       "        ).then(function () {return Plotly.addFrames('d414d830-0a6b-47d5-b6c5-7243abb6cba6',{});}).then(function(){Plotly.animate('d414d830-0a6b-47d5-b6c5-7243abb6cba6');})\n",
       "        });</script>"
      ]
     },
     "metadata": {},
     "output_type": "display_data"
    }
   ],
   "source": [
    "# Imports, borrowing code from a 'library' that is used to generate the graph.\n",
    "import plotly.offline as py\n",
    "from plotly.offline import init_notebook_mode, iplot\n",
    "import plotly.graph_objs as go\n",
    "import numpy as np\n",
    "from numpy import random as rand\n",
    "import math\n",
    "init_notebook_mode(connected=True)\n",
    "\n",
    "# Initialize data sets. This makes sure it does not graph old data from previous experiments.\n",
    "gx = []\n",
    "gy = []\n",
    "\n",
    "# Constant multiple in Boyle's Law.\n",
    "kB = 1\n",
    "\n",
    "# Boyle's Law is technically PV = k, where k is constant for that specific system, (It varies between systems.)\n",
    "# and P1V1 = P2V2 is only a result of this relationship. Students do not need to learn this however.\n",
    "# For simplicity k is set to 1.\n",
    "\n",
    "# Randomly generate data based on user defined volume and number of trials.\n",
    "for i in range(0, N):\n",
    "    temp = rand.random_sample() * volume\n",
    "    \n",
    "    # Prevent large outliers.\n",
    "    # The limit is arbitrary, it is just so the graph looks nice and so the relationship is clearly defined.\n",
    "    limit = rand.random_sample() + 1\n",
    "    while(kB/temp > volume/limit):\n",
    "        temp = rand.random_sample() * volume\n",
    "    \n",
    "    # Adds standard deviation to points (For more info see Intro to Standard Deviation).\n",
    "    outputx = rand.uniform(temp-(rand.random_sample()/3), temp+(rand.random_sample()/3))\n",
    "    outputy = rand.uniform((kB/temp)-(rand.random_sample()/3), (kB/temp)+(rand.random_sample()/3))\n",
    "    \n",
    "    # Add the values to the list of data.\n",
    "    gx.append(outputx)\n",
    "    gy.append(outputy)\n",
    "\n",
    "# Organizes data.\n",
    "trace = go.Scatter(x=gx, y=gy, mode='markers')\n",
    "\n",
    "# Labels graph.\n",
    "templayout = go.Layout(title='Pressure vs. Volume', xaxis=dict(title='Volume'), yaxis=dict(title='Pressure'))\n",
    "\n",
    "# Renders graph. \n",
    "tempdata = [trace]\n",
    "fig = go.Figure(data=tempdata, layout=templayout)\n",
    "py.iplot(fig, filename='scatter-plot')"
   ]
  },
  {
   "cell_type": "markdown",
   "metadata": {},
   "source": [
    "# Questions\n",
    "There are three questions below that test Boyle's Law. There is a code segment that you can run after each question to check your answer. Before you do so though, run the code segment below this text. Each of the answers are encrypted, and this code decrypts it in order to test if it is correct. To be extra clear, the long string of characters and numbers such as `845e85fa64a2d6037055beba19fe0bd8` that you will see is not the answer, it is the encrypted answer. Furthermore, round to the nearest significant figure."
   ]
  },
  {
   "cell_type": "code",
   "execution_count": 21,
   "metadata": {},
   "outputs": [],
   "source": [
    "# ANSWER HANDLING.\n",
    "\n",
    "# Imports.\n",
    "from IPython.display import display \n",
    "from ipywidgets import widgets\n",
    "import hashlib\n",
    "\n",
    "# Check the answer given by the student.\n",
    "def check_answer(x):\n",
    "    temp = None\n",
    "    try:\n",
    "        temp = hashlib.md5(str.encode(str(text.value))).hexdigest()\n",
    "        #print(\"This is the hash: \", temp)\n",
    "    except:\n",
    "        print(\"Not a number.\")\n",
    "    if(temp == answer):\n",
    "        print(\"Correct!\")\n",
    "    else:\n",
    "        print(\"Incorrect. Try again!\")"
   ]
  },
  {
   "cell_type": "markdown",
   "metadata": {},
   "source": [
    "1. Assume the temperature and the number of gas molecules stay constant within the adult’s lung. Initially, the capacity of the lung is 3.4 liters, and the pressure in the adult’s lung is 15 mmHg. When the lung is expanded to the maximum capacity (average maximum capacity of adult's lung is 6 liters), use Boyle’s Law to determine the new pressure in mmHg within the adult’s lung. "
   ]
  },
  {
   "cell_type": "code",
   "execution_count": 22,
   "metadata": {},
   "outputs": [
    {
     "data": {
      "application/vnd.jupyter.widget-view+json": {
       "model_id": "e8cb94ec07114b51ac3b4f67d3d64750",
       "version_major": 2,
       "version_minor": 0
      },
      "text/plain": [
       "Text(value='')"
      ]
     },
     "metadata": {},
     "output_type": "display_data"
    },
    {
     "name": "stdout",
     "output_type": "stream",
     "text": [
      "Incorrect. Try again!\n",
      "Correct!\n"
     ]
    }
   ],
   "source": [
    "# Encrypted answer.\n",
    "answer = '845e85fa64a2d6037055beba19fe0bd8'\n",
    "\n",
    "# Create answer box.\n",
    "text = widgets.Text()\n",
    "display(text)\n",
    "text.on_submit(check_answer)"
   ]
  },
  {
   "cell_type": "markdown",
   "metadata": {},
   "source": [
    "2. Assume the temperature and the number of gas molecules stay constant within the balloon. A small gas container has 90 milliliters of nitrogen which in pumped into a balloon with a pressure of 1.0 atm. The balloon is sealed tightly, and it is released and raised to a higher altitude where the atmospheric pressure is 50 kPa. Find the final volume of the balloon in liters as it raises up to the mountain. "
   ]
  },
  {
   "cell_type": "code",
   "execution_count": 7,
   "metadata": {},
   "outputs": [
    {
     "data": {
      "application/vnd.jupyter.widget-view+json": {
       "model_id": "b29903cc8e3a4b43b299cfed85593bb6",
       "version_major": 2,
       "version_minor": 0
      },
      "text/plain": [
       "Text(value='')"
      ]
     },
     "metadata": {},
     "output_type": "display_data"
    }
   ],
   "source": [
    "# Encrypted answer.\n",
    "answer = 'c6e10b90290ed2ee26046b9976bf9f02'\n",
    "\n",
    "# Create answer box.\n",
    "text = widgets.Text()\n",
    "display(text)\n",
    "text.on_submit(check_answer)"
   ]
  },
  {
   "cell_type": "markdown",
   "metadata": {},
   "source": [
    "3. Assume the temperature and the number of gas molecules stay constant within a flexible plastic pump. With the pump closed, by what factor does pressure need to change in order for the volume of the pump to be half of its original size? "
   ]
  },
  {
   "cell_type": "code",
   "execution_count": 8,
   "metadata": {},
   "outputs": [
    {
     "data": {
      "application/vnd.jupyter.widget-view+json": {
       "model_id": "25f75d42fa244fd2b5f2bb305e7d461d",
       "version_major": 2,
       "version_minor": 0
      },
      "text/plain": [
       "Text(value='')"
      ]
     },
     "metadata": {},
     "output_type": "display_data"
    }
   ],
   "source": [
    "# Encrypted answer.\n",
    "answer = 'c81e728d9d4c2f636f067f89cc14862c'\n",
    "\n",
    "# Create answer box.\n",
    "text = widgets.Text()\n",
    "display(text)\n",
    "text.on_submit(check_answer)"
   ]
  },
  {
   "cell_type": "markdown",
   "metadata": {},
   "source": [
    "# Charles' Law\n",
    "The temperature of the nitrogen gas in airbags is originally extremely high so that the volume of the airbag is expands quickly due to the directly proportional relationship between the temperature and the volume of the gas. When the airbag is later exposed to the cooler outside air, the temperature of the nitrogen gas gradually changes which causes the volume of the airbag to slowly decrease in size, creating a softer cushion for the impact. This relationship, where pressure is constant, was developed in 1787 by Jacques Charles. It can be expressed by the equation below:\n",
    "\n",
    "$$\n",
    "\\huge\n",
    "\\frac{V_1}{T_1} = \\frac{V_2}{T_2}\n",
    "$$\n",
    "\n",
    "# Optional Reading - Pressure does change, but returns to its original value\n",
    "Using the kinetic molecular theory to explain the Charles' Law, imagine that the pressure and the chemical amount of gas are held constant using a piston. When the temperature of the gas molecules increases, the gas molecules will move at a higher speed because temperature and the average kinetic energy of the gas molecules have a direct relationship. As a result, gas molecules will collide with each other and with walls of the container more frequently which exerts a greater force on the wall of container. Because the external pressure on the container is held constant, but the gas pressure inside the container are increased, the piston of the container is pushed up to increase the volume of the container."
   ]
  },
  {
   "cell_type": "markdown",
   "metadata": {},
   "source": [
    "# Experiment\n",
    "Let's say we want to drive a car into a wall but save our crash test dummy with a standard airbag that has an average volume of 70L when inflated. We will run a few simulations to find out what average temperature we need the nitrogen gas to be at to inflate the airbag to the desired volume. "
   ]
  },
  {
   "cell_type": "code",
   "execution_count": 7,
   "metadata": {},
   "outputs": [],
   "source": [
    "# Imports, borrowing code from a 'library' that is used to generate the graph.\n",
    "import plotly.offline as py\n",
    "from plotly.offline import init_notebook_mode, iplot\n",
    "import plotly.graph_objs as go\n",
    "import numpy as np\n",
    "import random"
   ]
  },
  {
   "cell_type": "code",
   "execution_count": 8,
   "metadata": {},
   "outputs": [],
   "source": [
    "# STEP 1.\n",
    "# Set these values ONCE at the beginning of your experiment.\n",
    "\n",
    "# Average volume in litres.\n",
    "ave_volume = 10\n",
    "\n",
    "# Initialize data sets. This makes sure it does not graph old data from previous experiments.\n",
    "volumes = []\n",
    "temps = []\n",
    "trials = []"
   ]
  },
  {
   "cell_type": "code",
   "execution_count": 11,
   "metadata": {},
   "outputs": [],
   "source": [
    "# STEP 2.\n",
    "# Run this cell to generate values to populate your table, then run the graph-generating cell.\n",
    "yielded = random.uniform((ave_volume-(rand.random_sample()*10)), (ave_volume+rand.random_sample()*10))\n",
    "\n",
    "# Rounds value to 2 decimal places before adding it to the list of data.\n",
    "volume = round(yielded, 2)\n",
    "volumes.append(volume)\n",
    "\n",
    "# Constant multiple in Charles' Law.\n",
    "kC = 0.56\n",
    "\n",
    "# Charles' Law is technically V/T = k, where k is constant for that specific system, (It varies between systems.)\n",
    "# and V1/T1 V2/T2 is only a result of this relationship. Students do not need to learn this however.\n",
    "# k is just arbitrarily set.\n",
    "\n",
    "# Adds value to list of data. \n",
    "temps.append(kC*volume)\n",
    "\n",
    "# Labels trials according to how many values are in the list of data\n",
    "if len(volumes) > len(trials):\n",
    "    trials.append('Trial ' + str(len(volumes)))"
   ]
  },
  {
   "cell_type": "code",
   "execution_count": 12,
   "metadata": {},
   "outputs": [
    {
     "data": {
      "text/html": [
       "<script>requirejs.config({paths: { 'plotly': ['https://cdn.plot.ly/plotly-latest.min']},});if(!window.Plotly) {{require(['plotly'],function(plotly) {window.Plotly=plotly;});}}</script>"
      ],
      "text/vnd.plotly.v1+html": [
       "<script>requirejs.config({paths: { 'plotly': ['https://cdn.plot.ly/plotly-latest.min']},});if(!window.Plotly) {{require(['plotly'],function(plotly) {window.Plotly=plotly;});}}</script>"
      ]
     },
     "metadata": {},
     "output_type": "display_data"
    },
    {
     "data": {
      "application/vnd.plotly.v1+json": {
       "data": [
        {
         "name": "Volume",
         "type": "bar",
         "uid": "17bb9d84-86b3-11e8-85c2-28cfe9142f7f",
         "x": [
          "Trial 1",
          "Trial 2"
         ],
         "y": [
          17.19,
          7.96
         ]
        },
        {
         "name": "Temperature",
         "type": "bar",
         "uid": "17bba0cc-86b3-11e8-85c2-28cfe9142f7f",
         "x": [
          "Trial 1",
          "Trial 2"
         ],
         "y": [
          9.626400000000002,
          4.4576
         ]
        }
       ],
       "layout": {
        "barmode": "group"
       }
      },
      "text/html": [
       "<div id=\"0a934f60-f037-4d02-b846-035e45c039ae\" style=\"height: 525px; width: 100%;\" class=\"plotly-graph-div\"></div><script type=\"text/javascript\">require([\"plotly\"], function(Plotly) { window.PLOTLYENV=window.PLOTLYENV || {};window.PLOTLYENV.BASE_URL=\"https://plot.ly\";\n",
       "        Plotly.plot(\n",
       "            '0a934f60-f037-4d02-b846-035e45c039ae',\n",
       "            [{\"name\": \"Volume\", \"x\": [\"Trial 1\", \"Trial 2\"], \"y\": [17.19, 7.96], \"type\": \"bar\", \"uid\": \"17bb9d84-86b3-11e8-85c2-28cfe9142f7f\"}, {\"name\": \"Temperature\", \"x\": [\"Trial 1\", \"Trial 2\"], \"y\": [9.626400000000002, 4.4576], \"type\": \"bar\", \"uid\": \"17bba0cc-86b3-11e8-85c2-28cfe9142f7f\"}],\n",
       "            {\"barmode\": \"group\"},\n",
       "            {\"showLink\": true, \"linkText\": \"Export to plot.ly\"}\n",
       "        ).then(function () {return Plotly.addFrames('0a934f60-f037-4d02-b846-035e45c039ae',{});}).then(function(){Plotly.animate('0a934f60-f037-4d02-b846-035e45c039ae');})\n",
       "        });</script>"
      ],
      "text/vnd.plotly.v1+html": [
       "<div id=\"0a934f60-f037-4d02-b846-035e45c039ae\" style=\"height: 525px; width: 100%;\" class=\"plotly-graph-div\"></div><script type=\"text/javascript\">require([\"plotly\"], function(Plotly) { window.PLOTLYENV=window.PLOTLYENV || {};window.PLOTLYENV.BASE_URL=\"https://plot.ly\";\n",
       "        Plotly.plot(\n",
       "            '0a934f60-f037-4d02-b846-035e45c039ae',\n",
       "            [{\"name\": \"Volume\", \"x\": [\"Trial 1\", \"Trial 2\"], \"y\": [17.19, 7.96], \"type\": \"bar\", \"uid\": \"17bb9d84-86b3-11e8-85c2-28cfe9142f7f\"}, {\"name\": \"Temperature\", \"x\": [\"Trial 1\", \"Trial 2\"], \"y\": [9.626400000000002, 4.4576], \"type\": \"bar\", \"uid\": \"17bba0cc-86b3-11e8-85c2-28cfe9142f7f\"}],\n",
       "            {\"barmode\": \"group\"},\n",
       "            {\"showLink\": true, \"linkText\": \"Export to plot.ly\"}\n",
       "        ).then(function () {return Plotly.addFrames('0a934f60-f037-4d02-b846-035e45c039ae',{});}).then(function(){Plotly.animate('0a934f60-f037-4d02-b846-035e45c039ae');})\n",
       "        });</script>"
      ]
     },
     "metadata": {},
     "output_type": "display_data"
    }
   ],
   "source": [
    "# STEP 3.\n",
    "# Graph-generating cell - run after generating each new data pair.\n",
    "init_notebook_mode(connected=True)\n",
    "\n",
    "# Generates volume bars.\n",
    "trace1 = go.Bar(\n",
    "    x=trials,\n",
    "    y=volumes,\n",
    "    name='Volume'\n",
    ")\n",
    "\n",
    "# Generates temperature bars.\n",
    "trace2 = go.Bar(\n",
    "    x=trials,\n",
    "    y=temps,\n",
    "    name='Temperature'\n",
    ")\n",
    "\n",
    "# Gives graph grouped-bars layout.\n",
    "data = [trace1, trace2]\n",
    "layout = go.Layout(\n",
    "    barmode='group'\n",
    ")\n",
    "\n",
    "# Renders graph.\n",
    "fig = go.Figure(data=data, layout=layout)\n",
    "py.iplot(fig, filename='grouped-bar')\n",
    "\n",
    "# Run step 2 then step 3 repeatedly until satisfied with your table of values"
   ]
  },
  {
   "cell_type": "markdown",
   "metadata": {},
   "source": [
    "# Questions\n",
    "There are three questions below that test Boyle's Law. There is a code segment that you can run after each question to check your answer. Before you do so though, run the code segment below this text. Each of the answers are encrypted, and this code decrypts it in order to test if it is correct. To be extra clear, the long string of characters and numbers such as `845e85fa64a2d6037055beba19fe0bd8` that you will see is not the answer, it is the encrypted answer. Furthermore, round to the nearest significant figure."
   ]
  },
  {
   "cell_type": "code",
   "execution_count": 114,
   "metadata": {},
   "outputs": [],
   "source": [
    "# ANSWER HANDLING.\n",
    "\n",
    "# Imports.\n",
    "from IPython.display import display \n",
    "from ipywidgets import widgets\n",
    "import hashlib\n",
    "\n",
    "# Check the answer given by the student.\n",
    "def check_answer(x):\n",
    "    temp = None\n",
    "    try:\n",
    "        temp = hashlib.md5(str.encode(str(text.value))).hexdigest()\n",
    "        #print(\"This is the hash: \", temp)\n",
    "    except:\n",
    "        print(\"Not a number.\")\n",
    "    if(temp == answer):\n",
    "        print(\"Correct!\")\n",
    "    else:\n",
    "        print(\"Incorrect. Try again!\")"
   ]
  },
  {
   "cell_type": "markdown",
   "metadata": {},
   "source": [
    "1. A specific amount of gas molecules is sealed within a container with a movable piston. The initial volume of the gas within the cylinder is 3.0 liters at 10 degrees C. What will be the final volume of the gas container in liters when the temperature is raised up to 30 degrees C?  "
   ]
  },
  {
   "cell_type": "code",
   "execution_count": 115,
   "metadata": {},
   "outputs": [
    {
     "data": {
      "application/vnd.jupyter.widget-view+json": {
       "model_id": "a50faea406c440eca4d45efba2343cc5",
       "version_major": 2,
       "version_minor": 0
      },
      "text/plain": [
       "Text(value='')"
      ]
     },
     "metadata": {},
     "output_type": "display_data"
    }
   ],
   "source": [
    "# Encrypted answer.\n",
    "answer = 'acff46b161a3b7d6ed01ba79a032acc9'\n",
    "\n",
    "# Create answer box.\n",
    "text = widgets.Text()\n",
    "display(text)\n",
    "text.on_submit(check_answer)"
   ]
  },
  {
   "cell_type": "markdown",
   "metadata": {},
   "source": [
    "2. For a hot balloon that contains helium gas, it initially contains 1000$m^{3}$ at a temperature of 20.00 degrees C. As fire is burning at the bottom of the balloon, what is the minimum temperature in Celsius needed for the hot balloon in order for the volume to increase to 17000 $m^{3}$?\n"
   ]
  },
  {
   "cell_type": "code",
   "execution_count": 15,
   "metadata": {},
   "outputs": [
    {
     "data": {
      "application/vnd.jupyter.widget-view+json": {
       "model_id": "efbea048fb1c403f961ae7caa2cf0a18",
       "version_major": 2,
       "version_minor": 0
      },
      "text/plain": [
       "Text(value='')"
      ]
     },
     "metadata": {},
     "output_type": "display_data"
    }
   ],
   "source": [
    "# Encrypted answer.\n",
    "answer = 'a78e17c964d3593d89cde3fb678f6a14'\n",
    "\n",
    "# Create answer box.\n",
    "text = widgets.Text()\n",
    "display(text)\n",
    "text.on_submit(check_answer)"
   ]
  },
  {
   "cell_type": "markdown",
   "metadata": {},
   "source": [
    "3. When a float pool contains gas at 20 degrees C, and it is heated up an additional 14 degrees C, what is the new volume in liters if it contained 3.2 liters of gas originally?"
   ]
  },
  {
   "cell_type": "code",
   "execution_count": 16,
   "metadata": {},
   "outputs": [
    {
     "data": {
      "application/vnd.jupyter.widget-view+json": {
       "model_id": "c22d005b448e4ad38511b524ff0cf05b",
       "version_major": 2,
       "version_minor": 0
      },
      "text/plain": [
       "Text(value='')"
      ]
     },
     "metadata": {},
     "output_type": "display_data"
    }
   ],
   "source": [
    "# Encrypted answer.\n",
    "answer = '31053ad0506e935470ca21b43cae98cf'\n",
    "\n",
    "# Create answer box.\n",
    "text = widgets.Text()\n",
    "display(text)\n",
    "text.on_submit(check_answer)"
   ]
  },
  {
   "cell_type": "markdown",
   "metadata": {},
   "source": [
    "# Gay-Lussac's Law\n",
    "If you watched a gun fire, you would see a plume of smoke as the gunpowder burns and the bullet whizzes out. The increase in temperature caused an increase in the pressure, which forced the bullet out of the barrel. \n",
    "\n",
    "In technical terms, the average kinetic energy of the molecule is referred to as the temperature, and the density of the particles is referred to as the pressure. The relationship between the two variables at a constant volume is a direct relationship was defined by Joseph Louis Gay-Lussac in 1809. It can be expressed by the equation below:\n",
    "\n",
    "$$\n",
    "\\huge\n",
    "\\frac{P_1}{T_1} = \\frac{P_2}{T_2}\n",
    "$$\n",
    "\n",
    "Using the kinetic molecular theory to explain the Gay-Lussac's Law, the volume and the chemical amount of gas are held constant. When the temperature of the gas molecules are increased, the gas molecules will move at a higher speed because temperature and the average kinetic energy of the gas molecules have a direct relationship. As a result, gas molecules will collide with each other and with the wall of the container more frequently which exerts a greater force on the wall of container which increases the pressure of the gas. "
   ]
  },
  {
   "cell_type": "markdown",
   "metadata": {},
   "source": [
    "# Experiment\n",
    "The chamber pressure in a gun is roughly 344737.86 kPa at least. We can predict the approximate temperature the gunpowder would need to burn at because the two are directly proportional."
   ]
  },
  {
   "cell_type": "code",
   "execution_count": 13,
   "metadata": {},
   "outputs": [],
   "source": [
    "# Imports, borrowing code from a 'library' that is used to generate the table.\n",
    "import pandas as pd\n",
    "import matplotlib as mpl\n",
    "import numpy as np\n",
    "import random"
   ]
  },
  {
   "cell_type": "code",
   "execution_count": 14,
   "metadata": {},
   "outputs": [],
   "source": [
    "# STEP 1. \n",
    "# Set these values ONCE at the beginning of your experiment.\n",
    "\n",
    "# Average pressure in kPa.\n",
    "ave_pressure = 100\n",
    "\n",
    "# Initialize data sets. This makes sure it does not graph old data from previous experiments.\n",
    "trials = []"
   ]
  },
  {
   "cell_type": "code",
   "execution_count": 19,
   "metadata": {},
   "outputs": [],
   "source": [
    "# STEP 2.\n",
    "\n",
    "# Run this cell to generate values to populate your table, then run the table-generating cell.\n",
    "yielded = random.uniform((ave_pressure-(rand.random_sample()*10)), (ave_pressure-(rand.random_sample()*10)))\n",
    "\n",
    "pressure = round(yielded, 2)\n",
    "\n",
    "# Constant multiple in Gay-Lussac's Law.\n",
    "kGL = 2\n",
    "\n",
    "# Gay-Lussac's Law is technically P/T = k, where k is constant for that specific system, (It varies between systems.)\n",
    "# and P1/T1=P1/T1 is only a result of this relationship. Students do not need to learn this however.\n",
    "# For simplicity and to create a difference between values, k is set to 2.\n",
    "\n",
    "trials.append((pressure, kGL*pressure))"
   ]
  },
  {
   "cell_type": "code",
   "execution_count": 20,
   "metadata": {},
   "outputs": [
    {
     "data": {
      "text/html": [
       "<style  type=\"text/css\" >\n",
       "</style>  \n",
       "<table id=\"T_590b638c_86b3_11e8_85c2_28cfe9142f7f\" > \n",
       "<thead>    <tr> \n",
       "        <th class=\"blank level0\" ></th> \n",
       "        <th class=\"col_heading level0 col0\" >Pressure</th> \n",
       "        <th class=\"col_heading level0 col1\" >Temperature</th> \n",
       "    </tr></thead> \n",
       "<tbody>    <tr> \n",
       "        <th id=\"T_590b638c_86b3_11e8_85c2_28cfe9142f7flevel0_row0\" class=\"row_heading level0 row0\" >0</th> \n",
       "        <td id=\"T_590b638c_86b3_11e8_85c2_28cfe9142f7frow0_col0\" class=\"data row0 col0\" >92.81</td> \n",
       "        <td id=\"T_590b638c_86b3_11e8_85c2_28cfe9142f7frow0_col1\" class=\"data row0 col1\" >185.62</td> \n",
       "    </tr>    <tr> \n",
       "        <th id=\"T_590b638c_86b3_11e8_85c2_28cfe9142f7flevel0_row1\" class=\"row_heading level0 row1\" >1</th> \n",
       "        <td id=\"T_590b638c_86b3_11e8_85c2_28cfe9142f7frow1_col0\" class=\"data row1 col0\" >95.31</td> \n",
       "        <td id=\"T_590b638c_86b3_11e8_85c2_28cfe9142f7frow1_col1\" class=\"data row1 col1\" >190.62</td> \n",
       "    </tr>    <tr> \n",
       "        <th id=\"T_590b638c_86b3_11e8_85c2_28cfe9142f7flevel0_row2\" class=\"row_heading level0 row2\" >2</th> \n",
       "        <td id=\"T_590b638c_86b3_11e8_85c2_28cfe9142f7frow2_col0\" class=\"data row2 col0\" >95.8</td> \n",
       "        <td id=\"T_590b638c_86b3_11e8_85c2_28cfe9142f7frow2_col1\" class=\"data row2 col1\" >191.6</td> \n",
       "    </tr></tbody> \n",
       "</table> "
      ],
      "text/plain": [
       "<pandas.io.formats.style.Styler at 0x1148d35c0>"
      ]
     },
     "execution_count": 20,
     "metadata": {},
     "output_type": "execute_result"
    }
   ],
   "source": [
    "# STEP 3.\n",
    "# Table-generating cell - run after generating each new data pair.\n",
    "labels = ['Pressure', 'Temperature']\n",
    "trials.sort()\n",
    "df = pd.DataFrame.from_records(trials, columns=labels)\n",
    "df.head\n",
    "df.style\n",
    "# Run step 2 then step 3 repeatedly until satisfied with your table of values"
   ]
  },
  {
   "cell_type": "markdown",
   "metadata": {},
   "source": [
    "# Questions\n",
    "There are three questions below that test Boyle's Law. There is a code segment that you can run after each question to check your answer. Before you do so though, run the code segment below this text. Each of the answers are encrypted, and this code decrypts it in order to test if it is correct. To be extra clear, the long string of characters and numbers such as `845e85fa64a2d6037055beba19fe0bd8` that you will see is not the answer, it is the encrypted answer. Furthermore, round to the nearest significant figure."
   ]
  },
  {
   "cell_type": "code",
   "execution_count": 116,
   "metadata": {},
   "outputs": [],
   "source": [
    "# ANSWER HANDLING.\n",
    "\n",
    "# Imports.\n",
    "from IPython.display import display \n",
    "from ipywidgets import widgets\n",
    "import hashlib\n",
    "\n",
    "# Check the answer given by the student.\n",
    "def check_answer(x):\n",
    "    temp = None\n",
    "    try:\n",
    "        temp = hashlib.md5(str.encode(str(text.value))).hexdigest()\n",
    "        #print(\"This is the hash: \", temp)\n",
    "    except:\n",
    "        print(\"Not a number.\")\n",
    "    if(temp == answer):\n",
    "        print(\"Correct!\")\n",
    "    else:\n",
    "        print(\"Incorrect. Try again!\")"
   ]
  },
  {
   "cell_type": "markdown",
   "metadata": {},
   "source": [
    "1. The gas particles are in a sealed container at 200 mmHg under the 15.0 degrees C room temperature. When the pressure on the gas particles is increased to 560 mmHg, what is the new temperature of the gas molecules in Celsius?"
   ]
  },
  {
   "cell_type": "code",
   "execution_count": 22,
   "metadata": {},
   "outputs": [
    {
     "data": {
      "application/vnd.jupyter.widget-view+json": {
       "model_id": "726ddeccbd7942e39f62d14caeea5b74",
       "version_major": 2,
       "version_minor": 0
      },
      "text/plain": [
       "Text(value='')"
      ]
     },
     "metadata": {},
     "output_type": "display_data"
    }
   ],
   "source": [
    "# Encrypted answer.\n",
    "answer = 'c399862d3b9d6b76c8436e924a68c45b'\n",
    "\n",
    "# Create answer box.\n",
    "text = widgets.Text()\n",
    "display(text)\n",
    "text.on_submit(check_answer)"
   ]
  },
  {
   "cell_type": "markdown",
   "metadata": {},
   "source": [
    "2. A cylinder container has a constant fixed volume at a temperature of 30.0 degrees C and a pressure of 101 kPa. As the pressure on the container is increased to 200 kPa, how much percentage of the temperature are increased?\n"
   ]
  },
  {
   "cell_type": "code",
   "execution_count": 23,
   "metadata": {},
   "outputs": [
    {
     "data": {
      "application/vnd.jupyter.widget-view+json": {
       "model_id": "447c973ede9f4f619b334d1002e97033",
       "version_major": 2,
       "version_minor": 0
      },
      "text/plain": [
       "Text(value='')"
      ]
     },
     "metadata": {},
     "output_type": "display_data"
    }
   ],
   "source": [
    "# Encrypted answer.\n",
    "answer = '4fac9ba115140ac4f1c22da82aa0bc7f'\n",
    "\n",
    "# Create answer box.\n",
    "text = widgets.Text()\n",
    "display(text)\n",
    "text.on_submit(check_answer)"
   ]
  },
  {
   "cell_type": "markdown",
   "metadata": {},
   "source": [
    "3. If a gun needs 351867.04 kPa to shoot out a bullet, and the gun initially exerts a pressure of 1000.00kPa on the bullet at a temperature of 20.0000 Celsius. How much would the temperature need to be increased in Celsius in order for the bullet to be shot? "
   ]
  },
  {
   "cell_type": "code",
   "execution_count": 24,
   "metadata": {},
   "outputs": [
    {
     "data": {
      "application/vnd.jupyter.widget-view+json": {
       "model_id": "f2e30550124040babeda2e40991a440b",
       "version_major": 2,
       "version_minor": 0
      },
      "text/plain": [
       "Text(value='')"
      ]
     },
     "metadata": {},
     "output_type": "display_data"
    }
   ],
   "source": [
    "# Encrypted answer.\n",
    "answer = 'cea6e0b18604bc926d0fba9701e40359'\n",
    "\n",
    "# Create answer box.\n",
    "text = widgets.Text()\n",
    "display(text)\n",
    "text.on_submit(check_answer)"
   ]
  },
  {
   "cell_type": "markdown",
   "metadata": {},
   "source": [
    "# Combined Gas Law\n",
    "The Combined Gas Law takes Boyle’s, Gay-Lussac’s, and Charles’ Laws into one equation where the amount of gas is constant. The inverse relationship between pressure and volume is maintained as well as the directly proportional relationship between pressure and temperature, and volume and temperature. It can be expressed by the equation below:\n",
    "\n",
    "$$\n",
    "\\huge\n",
    "\\frac{P_1V_1}{T_1} = \\frac{P_2V_2}{T_2}\n",
    "$$"
   ]
  },
  {
   "cell_type": "markdown",
   "metadata": {},
   "source": [
    "# Questions\n",
    "There are three questions below that test Boyle's Law. There is a code segment that you can run after each question to check your answer. Before you do so though, run the code segment below this text. Each of the answers are encrypted, and this code decrypts it in order to test if it is correct. To be extra clear, the long string of characters and numbers such as `845e85fa64a2d6037055beba19fe0bd8` that you will see is not the answer, it is the encrypted answer. Furthermore, round to the nearest significant figure."
   ]
  },
  {
   "cell_type": "code",
   "execution_count": 117,
   "metadata": {},
   "outputs": [],
   "source": [
    "# Imports.\n",
    "from IPython.display import display \n",
    "from ipywidgets import widgets\n",
    "import hashlib\n",
    "\n",
    "# Check the answer given by the student.\n",
    "def check_answer(x):\n",
    "    temp = None\n",
    "    try:\n",
    "        temp = hashlib.md5(str.encode(str(text.value))).hexdigest()\n",
    "    except:\n",
    "        print(\"Not a number.\")\n",
    "    if(temp == answer):\n",
    "        print(\"Correct!\")\n",
    "    else:\n",
    "        print(\"Incorrect. Try again!\")"
   ]
  },
  {
   "cell_type": "markdown",
   "metadata": {},
   "source": [
    "1. A balloon that contains 10L of helium gas at an atmospheric pressure of 101 kPa and at a temperature of 25 degrees C is released to rise into the upper atmosphere where the temperature is -10 degrees C and the atmospheric air pressure is 15 kPa. During the experiment, the measured volume of the balloon after it rises to a higher altitude is 60 L. Assume gas cannot escape and calculate the experimental error as a percentage."
   ]
  },
  {
   "cell_type": "code",
   "execution_count": 26,
   "metadata": {},
   "outputs": [
    {
     "data": {
      "application/vnd.jupyter.widget-view+json": {
       "model_id": "aa7c9d59458e4d0a99032afa9515553a",
       "version_major": 2,
       "version_minor": 0
      },
      "text/plain": [
       "Text(value='')"
      ]
     },
     "metadata": {},
     "output_type": "display_data"
    }
   ],
   "source": [
    "# Encrypted answer.\n",
    "answer = 'e93bb0ef149f78aeae0eab58c5a28758'\n",
    "\n",
    "# Create answer box.\n",
    "text = widgets.Text()\n",
    "display(text)\n",
    "text.on_submit(check_answer)"
   ]
  },
  {
   "cell_type": "markdown",
   "metadata": {},
   "source": [
    "2. A balloon that contains hydrogen gas has 5.0 liters when it is measured on a mountain where the air atmospheric pressure is only 30 kPa, and the temperature is only -30 degrees C. What is the new volume of the balloon if the balloon occupies at SATP? (SATP conditions: 25 degrees C and 100 kPa)"
   ]
  },
  {
   "cell_type": "code",
   "execution_count": 27,
   "metadata": {},
   "outputs": [
    {
     "data": {
      "application/vnd.jupyter.widget-view+json": {
       "model_id": "7d11590a58af4bc0979c058e75cbb27f",
       "version_major": 2,
       "version_minor": 0
      },
      "text/plain": [
       "Text(value='')"
      ]
     },
     "metadata": {},
     "output_type": "display_data"
    }
   ],
   "source": [
    "# Encrypted answer.\n",
    "answer = 'f932bed2d12442d21507b51d22b88dd7'\n",
    "\n",
    "# Create answer box.\n",
    "text = widgets.Text()\n",
    "display(text)\n",
    "text.on_submit(check_answer)"
   ]
  },
  {
   "cell_type": "markdown",
   "metadata": {},
   "source": [
    "3. A gas is measured to have a volume of 20.0 liters at a temperature of 20.0 degrees C and at an atmospheric pressure of 1.00 atm. As the gas is raised up to a higher air pressure, what is the new air pressure in atm if the final volume measured is 10.0 liters and the temperature is 5.00 degrees C."
   ]
  },
  {
   "cell_type": "code",
   "execution_count": 28,
   "metadata": {},
   "outputs": [
    {
     "data": {
      "application/vnd.jupyter.widget-view+json": {
       "model_id": "370ffa02dd5e4b03a85e9d0d1a130241",
       "version_major": 2,
       "version_minor": 0
      },
      "text/plain": [
       "Text(value='')"
      ]
     },
     "metadata": {},
     "output_type": "display_data"
    }
   ],
   "source": [
    "# Encrypted answer.\n",
    "answer = 'c3cce38563b9d2b2ac15c5b15ffc8c05'\n",
    "\n",
    "# Create answer box.\n",
    "text = widgets.Text()\n",
    "display(text)\n",
    "text.on_submit(check_answer)"
   ]
  },
  {
   "cell_type": "markdown",
   "metadata": {},
   "source": [
    "# Summary\n",
    "When performing these equations, it is important to ask yourself the questions below:\n",
    "1. Which of the quantities do you know?\n",
    "2. What quantity is constant? (Pressure, volume, or temperature?)\n",
    "3. Are the values in correct units?\n",
    "4. Is the question asking for the values in certain units or for the magnitude by which a value needs to be increased or decreased?\n",
    "5. After doing the algebra, does the unit analysis make sense? (Do the right units cancel out and leave you with the right units for your answer?)\n",
    "\n",
    "# Conclusion\n",
    "In this section, we introduced the different relationships between pressure, volume, and temperature, and the three different laws associated with them. These are Boyle's Law for pressure and volume where temperature is constant, Charles' Law for volume and temperature where pressure is constant, and Gay-Lussac's Law for pressure and temperature where volume is constant. Finally, we brought all three laws together into the combined gas law. "
   ]
  },
  {
   "cell_type": "code",
   "execution_count": null,
   "metadata": {},
   "outputs": [],
   "source": []
  }
 ],
 "metadata": {
  "kernelspec": {
   "display_name": "Python 3",
   "language": "python",
   "name": "python3"
  },
  "language_info": {
   "codemirror_mode": {
    "name": "ipython",
    "version": 3
   },
   "file_extension": ".py",
   "mimetype": "text/x-python",
   "name": "python",
   "nbconvert_exporter": "python",
   "pygments_lexer": "ipython3",
   "version": "3.7.0"
  }
 },
 "nbformat": 4,
 "nbformat_minor": 2
}
