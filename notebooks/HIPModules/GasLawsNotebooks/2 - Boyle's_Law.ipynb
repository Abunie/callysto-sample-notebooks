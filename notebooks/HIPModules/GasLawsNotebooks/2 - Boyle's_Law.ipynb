{
 "cells": [
  {
   "cell_type": "markdown",
   "metadata": {},
   "source": [
    "<img width=\"100%\" src=\"GasLawsImages/callystoBannerTop.jpg\"/>"
   ]
  },
  {
   "cell_type": "markdown",
   "metadata": {},
   "source": [
    "# Introduction\n",
    "How does the air pressure in your lungs and the volume of your lungs relate to help you breathe? When you breath out, you first greatly decrease the volume of your lungs. This increases the pressure exerted both on and by the air in your lungs, forcing the air out. When you breathe in, you first increase the volume of your lungs, and create an area of low air pressure in your lungs. Air from your environment then rushes into your lungs in an effort to re-establish equilibrium, and then the process repeats. This cycle is dependent on Boyle's Law."
   ]
  },
  {
   "cell_type": "markdown",
   "metadata": {},
   "source": [
    "# Table of Contents\n",
    "I. <a href=\"#boyle\">Boyle's Law</a><br>\n",
    "II. <a href=\"#experiment\">Experiment</a><br>\n",
    "III. <a href=\"#lab\">Lab Activity</a><br>\n",
    "IV. <a href=\"#practice\">Practice Questions</a><br>\n",
    "V. <a href=\"#conclusion\">Conclusion</a><br>"
   ]
  },
  {
   "cell_type": "markdown",
   "metadata": {},
   "source": [
    "<h1><a name=\"boyle\" style=\"text-decoration: none; color: black;\">Boyle's Law</a></h1>\n",
    "\n",
    "The pressure and volume of a gas, assuming constant temperature, have a inverse relationship, and without this we would be unable to breathe. Through experimentation, in 1662 Robert Boyle was able to derive this relationship. Boyle's Law is as follows:\n",
    "\n",
    "$$\n",
    "\\huge\n",
    "PV = k\n",
    "$$\n",
    "\n",
    "Where P is the pressure in the system, V is the volume, and k is a system-specific constant. You do not need to learn about k in Chemistry 20.\n",
    "\n",
    "If you recall back to Kinetic Molecular Theory, the space the *isolated* gas particles occupy is considered the volume of the gas, and the pressure is the collective force the gas particles exert on the walls of its container. If the external pressure is increased, the volume available for the gas molecules is decreased. As a result, the gas molecules become closer together and will collide with each other and with the wall of the container more frequently. As the number of collisions increases, the average force exerted by the gas molecules is increased.\n",
    "\n",
    "For the purposes of Chemistry 20 is better to understand Boyle's Law as the following equation:\n",
    "\n",
    "$$\n",
    "\\huge\n",
    "P_1V_1 = P_2V_2\n",
    "$$\n",
    "\n",
    "This equation shows how changing pressure or volume impacts the other quantity when there is a change in the system. The P/V with the one subscript are the initial pressure and volume, and the P/V with two as a subscript are the quantities after the change. Use this equation for questions relating to Boyle's Law - the equation with k is not tested in the Chemistry 20 curriculum."
   ]
  },
  {
   "cell_type": "code",
   "execution_count": 1,
   "metadata": {},
   "outputs": [
    {
     "data": {
      "text/html": [
       "\n",
       "        <iframe\n",
       "            width=\"400\"\n",
       "            height=\"300\"\n",
       "            src=\"https://www.youtube.com/embed/27yqJ9vJ5kQ\"\n",
       "            frameborder=\"0\"\n",
       "            allowfullscreen\n",
       "        ></iframe>\n",
       "        "
      ],
      "text/plain": [
       "<IPython.lib.display.YouTubeVideo at 0x108216f60>"
      ]
     },
     "metadata": {},
     "output_type": "display_data"
    }
   ],
   "source": [
    "# Here is a youtube video that is about Boyle's Law.\n",
    "# Run this code segment to bring the video into this Callysto notebook.\n",
    "\n",
    "from IPython.lib.display import YouTubeVideo\n",
    "display(YouTubeVideo('27yqJ9vJ5kQ'))"
   ]
  },
  {
   "cell_type": "markdown",
   "metadata": {},
   "source": [
    "It is important to understand that Boyle's Law is a special case for a gas system where temperature is constant. This is also called an isothermic system. If in your studies you see a question where pressure or volume are being manipulated and temperature is either explicitly or implicitly stated to be constant, this question is addressing and testing Boyle's Law."
   ]
  },
  {
   "cell_type": "markdown",
   "metadata": {},
   "source": [
    "<h1><a name=\"experiment\" style=\"text-decoration: none; color: black;\">Experiment</a></h1>\n",
    "\n",
    "Let's say we want to find the pressure in an adult male test subject's lungs when they are expanded to maximum capacity. The average lung capacity of an adult human male is 6L. We will test random lung capacities for N trials, and see how Boyle's Law shapes the relationship between pressure and volume. There is a graph of the trials and a table of the simulated data.\n",
    "\n",
    "Do not worry if the code is intimidating, all you need to understand and manipulate is the values of the `volume` and `N` variable (Be careful not to change their names!) and to run the code segments. If you make changes to `volume` or `N`, you need to rerun all the code segments to update the values. You can also simulate an entirely new experiment by rerunning all of the code."
   ]
  },
  {
   "cell_type": "code",
   "execution_count": 33,
   "metadata": {},
   "outputs": [
    {
     "data": {
      "text/html": [
       "<script>requirejs.config({paths: { 'plotly': ['https://cdn.plot.ly/plotly-latest.min']},});if(!window.Plotly) {{require(['plotly'],function(plotly) {window.Plotly=plotly;});}}</script>"
      ],
      "text/vnd.plotly.v1+html": [
       "<script>requirejs.config({paths: { 'plotly': ['https://cdn.plot.ly/plotly-latest.min']},});if(!window.Plotly) {{require(['plotly'],function(plotly) {window.Plotly=plotly;});}}</script>"
      ]
     },
     "metadata": {},
     "output_type": "display_data"
    },
    {
     "data": {
      "application/vnd.plotly.v1+json": {
       "data": [
        {
         "mode": "markers",
         "type": "scatter",
         "uid": "80b20558-94dc-11e8-88b0-28cfe9142f7f",
         "x": [
          53.539006917549024,
          17.999355025876902,
          95.04443885740992,
          55.81523684290599,
          32.74413529344617,
          66.49475967208747,
          24.134200921458824,
          88.74945246493326,
          58.992264241272835,
          93.69085368340357
         ],
         "y": [
          0.04317550448730878,
          0.06982715030524739,
          -0.05544435083351018,
          -0.12364738249416864,
          -0.031319834698469745,
          -0.0323338456950614,
          0.16778975853619593,
          -0.02752165220517544,
          0.0036688176955509692,
          -0.08778138225045841
         ]
        }
       ],
       "layout": {
        "title": "Pressure vs. Volume",
        "xaxis": {
         "title": "Volume"
        },
        "yaxis": {
         "title": "Pressure"
        }
       }
      },
      "text/html": [
       "<div id=\"65f26c61-74d1-4297-90c9-ffb51e23f3e6\" style=\"height: 525px; width: 100%;\" class=\"plotly-graph-div\"></div><script type=\"text/javascript\">require([\"plotly\"], function(Plotly) { window.PLOTLYENV=window.PLOTLYENV || {};window.PLOTLYENV.BASE_URL=\"https://plot.ly\";\n",
       "        Plotly.plot(\n",
       "            '65f26c61-74d1-4297-90c9-ffb51e23f3e6',\n",
       "            [{\"mode\": \"markers\", \"x\": [53.539006917549024, 17.999355025876902, 95.04443885740992, 55.81523684290599, 32.74413529344617, 66.49475967208747, 24.134200921458824, 88.74945246493326, 58.992264241272835, 93.69085368340357], \"y\": [0.04317550448730878, 0.06982715030524739, -0.05544435083351018, -0.12364738249416864, -0.031319834698469745, -0.0323338456950614, 0.16778975853619593, -0.02752165220517544, 0.0036688176955509692, -0.08778138225045841], \"type\": \"scatter\", \"uid\": \"80b20558-94dc-11e8-88b0-28cfe9142f7f\"}],\n",
       "            {\"title\": \"Pressure vs. Volume\", \"xaxis\": {\"title\": \"Volume\"}, \"yaxis\": {\"title\": \"Pressure\"}},\n",
       "            {\"showLink\": true, \"linkText\": \"Export to plot.ly\"}\n",
       "        ).then(function () {return Plotly.addFrames('65f26c61-74d1-4297-90c9-ffb51e23f3e6',{});}).then(function(){Plotly.animate('65f26c61-74d1-4297-90c9-ffb51e23f3e6');})\n",
       "        });</script>"
      ],
      "text/vnd.plotly.v1+html": [
       "<div id=\"65f26c61-74d1-4297-90c9-ffb51e23f3e6\" style=\"height: 525px; width: 100%;\" class=\"plotly-graph-div\"></div><script type=\"text/javascript\">require([\"plotly\"], function(Plotly) { window.PLOTLYENV=window.PLOTLYENV || {};window.PLOTLYENV.BASE_URL=\"https://plot.ly\";\n",
       "        Plotly.plot(\n",
       "            '65f26c61-74d1-4297-90c9-ffb51e23f3e6',\n",
       "            [{\"mode\": \"markers\", \"x\": [53.539006917549024, 17.999355025876902, 95.04443885740992, 55.81523684290599, 32.74413529344617, 66.49475967208747, 24.134200921458824, 88.74945246493326, 58.992264241272835, 93.69085368340357], \"y\": [0.04317550448730878, 0.06982715030524739, -0.05544435083351018, -0.12364738249416864, -0.031319834698469745, -0.0323338456950614, 0.16778975853619593, -0.02752165220517544, 0.0036688176955509692, -0.08778138225045841], \"type\": \"scatter\", \"uid\": \"80b20558-94dc-11e8-88b0-28cfe9142f7f\"}],\n",
       "            {\"title\": \"Pressure vs. Volume\", \"xaxis\": {\"title\": \"Volume\"}, \"yaxis\": {\"title\": \"Pressure\"}},\n",
       "            {\"showLink\": true, \"linkText\": \"Export to plot.ly\"}\n",
       "        ).then(function () {return Plotly.addFrames('65f26c61-74d1-4297-90c9-ffb51e23f3e6',{});}).then(function(){Plotly.animate('65f26c61-74d1-4297-90c9-ffb51e23f3e6');})\n",
       "        });</script>"
      ]
     },
     "metadata": {},
     "output_type": "display_data"
    }
   ],
   "source": [
    "# Change the variables in this cell to create your own experiment!\n",
    "\n",
    "# Max volume in liters.\n",
    "volume = 100\n",
    "\n",
    "# Number of trials.\n",
    "N = 10\n",
    "\n",
    "import boyles as by\n",
    "by.graph(N, volume)"
   ]
  },
  {
   "cell_type": "code",
   "execution_count": 37,
   "metadata": {
    "scrolled": true
   },
   "outputs": [
    {
     "data": {
      "text/html": [
       "<script>requirejs.config({paths: { 'plotly': ['https://cdn.plot.ly/plotly-latest.min']},});if(!window.Plotly) {{require(['plotly'],function(plotly) {window.Plotly=plotly;});}}</script>"
      ],
      "text/vnd.plotly.v1+html": [
       "<script>requirejs.config({paths: { 'plotly': ['https://cdn.plot.ly/plotly-latest.min']},});if(!window.Plotly) {{require(['plotly'],function(plotly) {window.Plotly=plotly;});}}</script>"
      ]
     },
     "metadata": {},
     "output_type": "display_data"
    },
    {
     "data": {
      "text/html": [
       "<style  type=\"text/css\" >\n",
       "</style>  \n",
       "<table id=\"T_896b9baa_94dc_11e8_88b0_28cfe9142f7f\" > \n",
       "<thead>    <tr> \n",
       "        <th class=\"blank level0\" ></th> \n",
       "        <th class=\"col_heading level0 col0\" >Volume</th> \n",
       "        <th class=\"col_heading level0 col1\" >Pressure</th> \n",
       "    </tr></thead> \n",
       "<tbody>    <tr> \n",
       "        <th id=\"T_896b9baa_94dc_11e8_88b0_28cfe9142f7flevel0_row0\" class=\"row_heading level0 row0\" >0</th> \n",
       "        <td id=\"T_896b9baa_94dc_11e8_88b0_28cfe9142f7frow0_col0\" class=\"data row0 col0\" >0.446813</td> \n",
       "        <td id=\"T_896b9baa_94dc_11e8_88b0_28cfe9142f7frow0_col1\" class=\"data row0 col1\" >nan</td> \n",
       "    </tr>    <tr> \n",
       "        <th id=\"T_896b9baa_94dc_11e8_88b0_28cfe9142f7flevel0_row1\" class=\"row_heading level0 row1\" >1</th> \n",
       "        <td id=\"T_896b9baa_94dc_11e8_88b0_28cfe9142f7frow1_col0\" class=\"data row1 col0\" >1.11936</td> \n",
       "        <td id=\"T_896b9baa_94dc_11e8_88b0_28cfe9142f7frow1_col1\" class=\"data row1 col1\" >0.936314</td> \n",
       "    </tr>    <tr> \n",
       "        <th id=\"T_896b9baa_94dc_11e8_88b0_28cfe9142f7flevel0_row2\" class=\"row_heading level0 row2\" >2</th> \n",
       "        <td id=\"T_896b9baa_94dc_11e8_88b0_28cfe9142f7frow2_col0\" class=\"data row2 col0\" >1.55239</td> \n",
       "        <td id=\"T_896b9baa_94dc_11e8_88b0_28cfe9142f7frow2_col1\" class=\"data row2 col1\" >0.381012</td> \n",
       "    </tr>    <tr> \n",
       "        <th id=\"T_896b9baa_94dc_11e8_88b0_28cfe9142f7flevel0_row3\" class=\"row_heading level0 row3\" >3</th> \n",
       "        <td id=\"T_896b9baa_94dc_11e8_88b0_28cfe9142f7frow3_col0\" class=\"data row3 col0\" >2.63116</td> \n",
       "        <td id=\"T_896b9baa_94dc_11e8_88b0_28cfe9142f7frow3_col1\" class=\"data row3 col1\" >0.360594</td> \n",
       "    </tr>    <tr> \n",
       "        <th id=\"T_896b9baa_94dc_11e8_88b0_28cfe9142f7flevel0_row4\" class=\"row_heading level0 row4\" >4</th> \n",
       "        <td id=\"T_896b9baa_94dc_11e8_88b0_28cfe9142f7frow4_col0\" class=\"data row4 col0\" >3.00951</td> \n",
       "        <td id=\"T_896b9baa_94dc_11e8_88b0_28cfe9142f7frow4_col1\" class=\"data row4 col1\" >0.351078</td> \n",
       "    </tr>    <tr> \n",
       "        <th id=\"T_896b9baa_94dc_11e8_88b0_28cfe9142f7flevel0_row5\" class=\"row_heading level0 row5\" >5</th> \n",
       "        <td id=\"T_896b9baa_94dc_11e8_88b0_28cfe9142f7frow5_col0\" class=\"data row5 col0\" >nan</td> \n",
       "        <td id=\"T_896b9baa_94dc_11e8_88b0_28cfe9142f7frow5_col1\" class=\"data row5 col1\" >0.178382</td> \n",
       "    </tr>    <tr> \n",
       "        <th id=\"T_896b9baa_94dc_11e8_88b0_28cfe9142f7flevel0_row6\" class=\"row_heading level0 row6\" >6</th> \n",
       "        <td id=\"T_896b9baa_94dc_11e8_88b0_28cfe9142f7frow6_col0\" class=\"data row6 col0\" >4.20823</td> \n",
       "        <td id=\"T_896b9baa_94dc_11e8_88b0_28cfe9142f7frow6_col1\" class=\"data row6 col1\" >0.268662</td> \n",
       "    </tr>    <tr> \n",
       "        <th id=\"T_896b9baa_94dc_11e8_88b0_28cfe9142f7flevel0_row7\" class=\"row_heading level0 row7\" >7</th> \n",
       "        <td id=\"T_896b9baa_94dc_11e8_88b0_28cfe9142f7frow7_col0\" class=\"data row7 col0\" >4.38796</td> \n",
       "        <td id=\"T_896b9baa_94dc_11e8_88b0_28cfe9142f7frow7_col1\" class=\"data row7 col1\" >0.290887</td> \n",
       "    </tr>    <tr> \n",
       "        <th id=\"T_896b9baa_94dc_11e8_88b0_28cfe9142f7flevel0_row8\" class=\"row_heading level0 row8\" >8</th> \n",
       "        <td id=\"T_896b9baa_94dc_11e8_88b0_28cfe9142f7frow8_col0\" class=\"data row8 col0\" >4.57847</td> \n",
       "        <td id=\"T_896b9baa_94dc_11e8_88b0_28cfe9142f7frow8_col1\" class=\"data row8 col1\" >0.147607</td> \n",
       "    </tr>    <tr> \n",
       "        <th id=\"T_896b9baa_94dc_11e8_88b0_28cfe9142f7flevel0_row9\" class=\"row_heading level0 row9\" >9</th> \n",
       "        <td id=\"T_896b9baa_94dc_11e8_88b0_28cfe9142f7frow9_col0\" class=\"data row9 col0\" >4.88734</td> \n",
       "        <td id=\"T_896b9baa_94dc_11e8_88b0_28cfe9142f7frow9_col1\" class=\"data row9 col1\" >0.353557</td> \n",
       "    </tr>    <tr> \n",
       "        <th id=\"T_896b9baa_94dc_11e8_88b0_28cfe9142f7flevel0_row10\" class=\"row_heading level0 row10\" >10</th> \n",
       "        <td id=\"T_896b9baa_94dc_11e8_88b0_28cfe9142f7frow10_col0\" class=\"data row10 col0\" >5.65271</td> \n",
       "        <td id=\"T_896b9baa_94dc_11e8_88b0_28cfe9142f7frow10_col1\" class=\"data row10 col1\" >nan</td> \n",
       "    </tr></tbody> \n",
       "</table> "
      ],
      "text/plain": [
       "<pandas.io.formats.style.Styler at 0x1155b8a90>"
      ]
     },
     "execution_count": 37,
     "metadata": {},
     "output_type": "execute_result"
    }
   ],
   "source": [
    "# Import table code.\n",
    "import pandas as pd\n",
    "from boyles import genData\n",
    "import numpy as np\n",
    "\n",
    "# Initialize the table.\n",
    "labels = ['Volume', 'Pressure']\n",
    "data = genData()\n",
    "data.sort()\n",
    "df = pd.DataFrame.from_records(data, columns=labels)\n",
    "df.iloc[0, 1] = np.nan\n",
    "df.iloc[5, 0] = np.nan\n",
    "df.iloc[10, 1] = np.nan\n",
    "df.head\n",
    "df.style"
   ]
  },
  {
   "cell_type": "markdown",
   "metadata": {},
   "source": [
    "<h1><a name=\"lab\" style=\"text-decoration: none; color: black;\">Lab Activity</a></h1>\n",
    "\n",
    "In an actual experiment, there is sometimes some element of error, which can prevent us from yielding the correct (or any) values. Assuming the experiment took place at room temperature (25 degrees C), using any of the other complete data pairs, predict the values of `nan` in the table above."
   ]
  },
  {
   "cell_type": "markdown",
   "metadata": {},
   "source": [
    "<h1><a name=\"practice\" style=\"text-decoration: none; color: black;\">Practice Questions</a></h1>\n",
    "\n",
    "There are three questions below that test Boyle's Law. There is a code segment that you can run after each question to check your answer. Before you do so though, run the code segment below this text. Each of the answers are encrypted, and this code decrypts it in order to test if it is correct. To be extra clear, the long string of characters and numbers such as `845e85fa64a2d6037055beba19fe0bd8` that you will see is not the answer, it is the encrypted answer. Run the code segments after each question to have the text field for your answer to appear. Furthermore, round to the nearest significant figure, and do not input units. If you are struggling, please check the [Answer Key notebook](Answer_Key.ipynb) for full solutions. "
   ]
  },
  {
   "cell_type": "code",
   "execution_count": 5,
   "metadata": {},
   "outputs": [],
   "source": [
    "# ANSWER HANDLING. Uncomment the 'print(\"This is the hash: \", temp)' line by deleting the # before it.\n",
    "\n",
    "# Imports.\n",
    "from IPython.display import display \n",
    "from ipywidgets import widgets\n",
    "import hashlib\n",
    "\n",
    "# Check the answer given by the student.\n",
    "def check_answer(x):\n",
    "    temp = None\n",
    "    try:\n",
    "        temp = hashlib.md5(str.encode(str(text.value))).hexdigest()\n",
    "#         print(\"This is the hash: \", temp)\n",
    "    except:\n",
    "        print(\"Not a number.\")\n",
    "    if(temp == answer):\n",
    "        print(\"Correct!\")\n",
    "    else:\n",
    "        print(\"Incorrect. Try again!\")"
   ]
  },
  {
   "cell_type": "markdown",
   "metadata": {},
   "source": [
    "1. Assume the temperature and the number of gas molecules stay constant within an adult’s lungs. Initially, the capacity of the lung is 3.4 liters, and the pressure in the adult’s lung is 15 mmHg. Determine when the lung is expanded to the maximum capacity the new pressure in mmHg within the adult’s lung. (Average maximum capacity of adult's lung is 6.0 liters.) "
   ]
  },
  {
   "cell_type": "markdown",
   "metadata": {},
   "source": [
    "<img width = \"200px\" src=\"GasLawsImages/lungs.png\"/>"
   ]
  },
  {
   "cell_type": "code",
   "execution_count": 6,
   "metadata": {},
   "outputs": [
    {
     "data": {
      "application/vnd.jupyter.widget-view+json": {
       "model_id": "bd527770727047f184c8e1a86fe9ce15",
       "version_major": 2,
       "version_minor": 0
      },
      "text/plain": [
       "Text(value='')"
      ]
     },
     "metadata": {},
     "output_type": "display_data"
    },
    {
     "name": "stdout",
     "output_type": "stream",
     "text": [
      "Incorrect. Try again!\n",
      "Correct!\n"
     ]
    }
   ],
   "source": [
    "# Encrypted answer.\n",
    "answer = '845e85fa64a2d6037055beba19fe0bd8'\n",
    "\n",
    "# Create answer box.\n",
    "text = widgets.Text()\n",
    "display(text)\n",
    "text.on_submit(check_answer)"
   ]
  },
  {
   "cell_type": "markdown",
   "metadata": {},
   "source": [
    "2. Assume the temperature and the number of gas molecules stay constant within the balloon for the following question. A small gas container has 90 milliliters of nitrogen and it is pumped into a balloon, which gives the balloon a pressure of 1.0 atm. The balloon is sealed tightly, and it is raised to a higher altitude where the atmospheric pressure is 50 kPa. Find the final volume of the balloon in liters at this height. "
   ]
  },
  {
   "cell_type": "code",
   "execution_count": 7,
   "metadata": {},
   "outputs": [
    {
     "data": {
      "application/vnd.jupyter.widget-view+json": {
       "model_id": "9b99604730184e3c82afc70a89de3cc2",
       "version_major": 2,
       "version_minor": 0
      },
      "text/plain": [
       "Text(value='')"
      ]
     },
     "metadata": {},
     "output_type": "display_data"
    }
   ],
   "source": [
    "# Encrypted answer.\n",
    "answer = 'c6e10b90290ed2ee26046b9976bf9f02'\n",
    "\n",
    "# Create answer box.\n",
    "text = widgets.Text()\n",
    "display(text)\n",
    "text.on_submit(check_answer)"
   ]
  },
  {
   "cell_type": "markdown",
   "metadata": {},
   "source": [
    "3. Assume the temperature and the number of gas molecules stay constant within a flexible plastic pump. With the pump closed, by what factor does pressure need to change in order for the volume of the pump to be half of its original size? Answer to 1 significant digit."
   ]
  },
  {
   "cell_type": "code",
   "execution_count": 10,
   "metadata": {},
   "outputs": [
    {
     "data": {
      "application/vnd.jupyter.widget-view+json": {
       "model_id": "1721789d5d90443198570e971fbb16e6",
       "version_major": 2,
       "version_minor": 0
      },
      "text/plain": [
       "Text(value='')"
      ]
     },
     "metadata": {},
     "output_type": "display_data"
    },
    {
     "name": "stdout",
     "output_type": "stream",
     "text": [
      "Correct!\n"
     ]
    }
   ],
   "source": [
    "# Encrypted answer.\n",
    "answer = 'c81e728d9d4c2f636f067f89cc14862c'\n",
    "\n",
    "# Create answer box.\n",
    "text = widgets.Text()\n",
    "display(text)\n",
    "text.on_submit(check_answer)"
   ]
  },
  {
   "cell_type": "markdown",
   "metadata": {},
   "source": [
    "<h1><a name=\"conclusion\" style=\"text-decoration: none; color: black;\">Conclusion</a></h1>\n",
    "\n",
    "In this section, we discussed the inversely proportional relationship between pressure and volume. This is expressed as Boyle's Law, which has its basis in kinetic molecular theory."
   ]
  },
  {
   "cell_type": "markdown",
   "metadata": {},
   "source": [
    "<img width=\"100%\" src=\"GasLawsImages/callystoBannerBottom.jpg\"/>"
   ]
  }
 ],
 "metadata": {
  "kernelspec": {
   "display_name": "Python 3",
   "language": "python",
   "name": "python3"
  },
  "language_info": {
   "codemirror_mode": {
    "name": "ipython",
    "version": 3
   },
   "file_extension": ".py",
   "mimetype": "text/x-python",
   "name": "python",
   "nbconvert_exporter": "python",
   "pygments_lexer": "ipython3",
   "version": "3.7.0"
  }
 },
 "nbformat": 4,
 "nbformat_minor": 2
}
