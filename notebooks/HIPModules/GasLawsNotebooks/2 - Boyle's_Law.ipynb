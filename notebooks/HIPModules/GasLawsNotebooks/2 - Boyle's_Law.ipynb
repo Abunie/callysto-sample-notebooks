{
 "cells": [
  {
   "cell_type": "markdown",
   "metadata": {},
   "source": [
    "<img width=\"100%\" src=\"GasLawsImages/callystoBannerTop.jpg\"/>"
   ]
  },
  {
   "cell_type": "markdown",
   "metadata": {},
   "source": [
    "# Introduction\n",
    "How does the air pressure in your lungs and the volume of your lungs relate to help you breathe? When you breath out, you first greatly decrease the volume of your lungs. This increases the pressure exerted both on and by the air in your lungs, forcing the air out. When you breathe in, you first increase the volume of your lungs, and create an area of low air pressure in your lungs. Air from your environment then rushes into your lungs in an effort to re-establish equilibrium, and then the process repeats. This cycle is dependent on Boyle's Law."
   ]
  },
  {
   "cell_type": "markdown",
   "metadata": {},
   "source": [
    "# Table of Contents\n",
    "I. <a href=\"#boyle\">Boyle's Law</a><br>\n",
    "II. <a href=\"#experiment\">Experiment</a><br>\n",
    "III. <a href=\"#lab\">Lab Activity</a><br>\n",
    "IV. <a href=\"#practice\">Practice Questions</a><br>\n",
    "V. <a href=\"#conclusion\">Conclusion</a><br>"
   ]
  },
  {
   "cell_type": "markdown",
   "metadata": {},
   "source": [
    "<h1><a name=\"boyle\" style=\"text-decoration: none; color: black;\">Boyle's Law</a></h1>\n",
    "\n",
    "The pressure and volume of a gas, assuming constant temperature, have a inverse relationship, and without this we would be unable to breathe. Through experimentation, in 1662 Robert Boyle was able to derive this relationship. Boyle's Law is as follows:\n",
    "\n",
    "$$\n",
    "\\huge\n",
    "PV = k\n",
    "$$\n",
    "\n",
    "Where P is the pressure in the system, V is the volume, and k is a system-specific constant. You do not need to learn about k in Chemistry 20.\n",
    "\n",
    "If you recall back to Kinetic Molecular Theory, the space the *isolated* gas particles occupy is considered the volume of the gas, and the pressure is the collective force the gas particles exert on the walls of its container. If the external pressure is increased, the volume available for the gas molecules is decreased. As a result, the gas molecules become closer together and will collide with each other and with the wall of the container more frequently. As the number of collisions increases, the average force exerted by the gas molecules is increased.\n",
    "\n",
    "For the purposes of Chemistry 20 is better to understand Boyle's Law as the following equation:\n",
    "\n",
    "$$\n",
    "\\huge\n",
    "P_1V_1 = P_2V_2\n",
    "$$\n",
    "\n",
    "This equation shows how changing pressure or volume impacts the other quantity when there is a change in the system. The P/V with the one subscript are the initial pressure and volume, and the P/V with two as a subscript are the quantities after the change. Use this equation for questions relating to Boyle's Law - the equation with k is not tested in the Chemistry 20 curriculum."
   ]
  },
  {
   "cell_type": "code",
   "execution_count": 1,
   "metadata": {},
   "outputs": [
    {
     "data": {
      "text/html": [
       "\n",
       "        <iframe\n",
       "            width=\"400\"\n",
       "            height=\"300\"\n",
       "            src=\"https://www.youtube.com/embed/27yqJ9vJ5kQ\"\n",
       "            frameborder=\"0\"\n",
       "            allowfullscreen\n",
       "        ></iframe>\n",
       "        "
      ],
      "text/plain": [
       "<IPython.lib.display.YouTubeVideo at 0x108216f60>"
      ]
     },
     "metadata": {},
     "output_type": "display_data"
    }
   ],
   "source": [
    "# Here is a youtube video that is about Boyle's Law.\n",
    "# Run this code segment to bring the video into this Callysto notebook.\n",
    "\n",
    "from IPython.lib.display import YouTubeVideo\n",
    "display(YouTubeVideo('27yqJ9vJ5kQ'))"
   ]
  },
  {
   "cell_type": "markdown",
   "metadata": {},
   "source": [
    "It is important to understand that Boyle's Law is a special case for a gas system where temperature is constant. This is also called an isothermic system. If in your studies you see a question where pressure or volume are being manipulated and temperature is either explicitly or implicitly stated to be constant, this question is addressing and testing Boyle's Law."
   ]
  },
  {
   "cell_type": "markdown",
   "metadata": {},
   "source": [
    "<h1><a name=\"experiment\" style=\"text-decoration: none; color: black;\">Experiment</a></h1>\n",
    "\n",
    "Let's say we want to find the pressure in an adult male test subject's lungs when they are expanded to maximum capacity. The average lung capacity of an adult human male is 6L. We will test random lung capacities for N trials, and see how Boyle's Law shapes the relationship between pressure and volume. There is a graph of the trials and a table of the simulated data.\n",
    "\n",
    "Do not worry if the code is intimidating, all you need to understand and manipulate is the values of the `volume` and `N` variable (Be careful not to change their names!) and to run the code segments. If you make changes to `volume` or `N`, you need to rerun all the code segments to update the values. You can also simulate an entirely new experiment by rerunning all of the code."
   ]
  },
  {
   "cell_type": "code",
   "execution_count": 17,
   "metadata": {},
   "outputs": [],
   "source": [
    "# Change the variables in this cell to create your own experiment!\n",
    "\n",
    "# Max volume in liters.\n",
    "volume = 6\n",
    "\n",
    "# Number of trials.\n",
    "N = 10000"
   ]
  },
  {
   "cell_type": "code",
   "execution_count": 13,
   "metadata": {},
   "outputs": [
    {
     "data": {
      "text/html": [
       "<script>requirejs.config({paths: { 'plotly': ['https://cdn.plot.ly/plotly-latest.min']},});if(!window.Plotly) {{require(['plotly'],function(plotly) {window.Plotly=plotly;});}}</script>"
      ],
      "text/vnd.plotly.v1+html": [
       "<script>requirejs.config({paths: { 'plotly': ['https://cdn.plot.ly/plotly-latest.min']},});if(!window.Plotly) {{require(['plotly'],function(plotly) {window.Plotly=plotly;});}}</script>"
      ]
     },
     "metadata": {},
     "output_type": "display_data"
    },
    {
     "data": {
      "text/plain": [
       "'file:///Users/ultra-user/Documents/callysto-sample-notebooks/notebooks/HIPModules/GasLawsNotebooks/scatter-plot.html'"
      ]
     },
     "execution_count": 13,
     "metadata": {},
     "output_type": "execute_result"
    }
   ],
   "source": [
    "# Imports, borrowing code from a 'library' that is used to generate the graph.\n",
    "import plotly.offline as py\n",
    "from plotly.offline import init_notebook_mode, iplot\n",
    "import plotly.graph_objs as go\n",
    "import numpy as np\n",
    "from numpy import random as rand\n",
    "import math\n",
    "init_notebook_mode(connected=True)\n",
    "\n",
    "# Initialize data sets. This makes sure it does not graph old data from previous experiments.\n",
    "gx = []\n",
    "gy = []\n",
    "trials = []\n",
    "\n",
    "# Constant multiple in Boyle's Law.\n",
    "kB = 1\n",
    "\n",
    "# Boyle's Law is technically PV = k, where k is constant for that specific system, (It varies between systems.)\n",
    "# and P1V1 = P2V2 is only a result of this relationship. Students do not need to learn this however.\n",
    "# For simplicity k is set to 1.\n",
    "\n",
    "# Randomly generate data based on user defined volume and number of trials.\n",
    "for i in range(0, N):\n",
    "    temp = rand.random_sample() * volume\n",
    "    \n",
    "    # Prevent large outliers.\n",
    "    # The limit is arbitrary, it is just so the graph looks nice and so the relationship is clearly defined.\n",
    "    limit = rand.random_sample() + 1\n",
    "    while(kB/temp > volume/limit):\n",
    "        temp = rand.random_sample() * volume\n",
    "    \n",
    "    # Adds noise to points.\n",
    "    outputx = rand.uniform(temp-(rand.random_sample()/4), temp+(rand.random_sample()/4))\n",
    "    outputy = rand.uniform((kB/temp)-(rand.random_sample()/4), (kB/temp)+(rand.random_sample()/4))\n",
    "    \n",
    "    # Add the values to the list of data.\n",
    "    trials.append((outputx, outputy))\n",
    "    gx.append(outputx)\n",
    "    gy.append(outputy)\n",
    "\n",
    "# Organizes data.\n",
    "trace = go.Scatter(x=gx, y=gy, mode='markers')\n",
    "\n",
    "# Labels graph.\n",
    "templayout = go.Layout(title='Pressure vs. Volume', xaxis=dict(title='Volume'), yaxis=dict(title='Pressure'))\n",
    "\n",
    "# Renders graph. \n",
    "tempdata = [trace]\n",
    "fig = go.Figure(data=tempdata, layout=templayout)\n",
    "py.plot(fig, filename='scatter-plot.html')"
   ]
  },
  {
   "cell_type": "code",
   "execution_count": 18,
   "metadata": {},
   "outputs": [
    {
     "data": {
      "text/html": [
       "<iframe src=\"scatter-plot.html\" width=\"100%\" height=\"500px\"></iframe>"
      ],
      "text/plain": [
       "<IPython.core.display.HTML object>"
      ]
     },
     "metadata": {},
     "output_type": "display_data"
    }
   ],
   "source": [
    "%%html\n",
    "<iframe src=\"scatter-plot.html\" width=\"100%\" height=\"500px\"></iframe>"
   ]
  },
  {
   "cell_type": "code",
   "execution_count": 4,
   "metadata": {
    "scrolled": true
   },
   "outputs": [
    {
     "data": {
      "text/html": [
       "<style  type=\"text/css\" >\n",
       "</style>  \n",
       "<table id=\"T_090d79a0_9438_11e8_ad9f_28cfe9142f7f\" > \n",
       "<thead>    <tr> \n",
       "        <th class=\"blank level0\" ></th> \n",
       "        <th class=\"col_heading level0 col0\" >Volume</th> \n",
       "        <th class=\"col_heading level0 col1\" >Pressure</th> \n",
       "    </tr></thead> \n",
       "<tbody>    <tr> \n",
       "        <th id=\"T_090d79a0_9438_11e8_ad9f_28cfe9142f7flevel0_row0\" class=\"row_heading level0 row0\" >0</th> \n",
       "        <td id=\"T_090d79a0_9438_11e8_ad9f_28cfe9142f7frow0_col0\" class=\"data row0 col0\" >0.0893835</td> \n",
       "        <td id=\"T_090d79a0_9438_11e8_ad9f_28cfe9142f7frow0_col1\" class=\"data row0 col1\" >nan</td> \n",
       "    </tr>    <tr> \n",
       "        <th id=\"T_090d79a0_9438_11e8_ad9f_28cfe9142f7flevel0_row1\" class=\"row_heading level0 row1\" >1</th> \n",
       "        <td id=\"T_090d79a0_9438_11e8_ad9f_28cfe9142f7frow1_col0\" class=\"data row1 col0\" >0.160511</td> \n",
       "        <td id=\"T_090d79a0_9438_11e8_ad9f_28cfe9142f7frow1_col1\" class=\"data row1 col1\" >3.31711</td> \n",
       "    </tr>    <tr> \n",
       "        <th id=\"T_090d79a0_9438_11e8_ad9f_28cfe9142f7flevel0_row2\" class=\"row_heading level0 row2\" >2</th> \n",
       "        <td id=\"T_090d79a0_9438_11e8_ad9f_28cfe9142f7frow2_col0\" class=\"data row2 col0\" >0.298747</td> \n",
       "        <td id=\"T_090d79a0_9438_11e8_ad9f_28cfe9142f7frow2_col1\" class=\"data row2 col1\" >3.0267</td> \n",
       "    </tr>    <tr> \n",
       "        <th id=\"T_090d79a0_9438_11e8_ad9f_28cfe9142f7flevel0_row3\" class=\"row_heading level0 row3\" >3</th> \n",
       "        <td id=\"T_090d79a0_9438_11e8_ad9f_28cfe9142f7frow3_col0\" class=\"data row3 col0\" >0.373172</td> \n",
       "        <td id=\"T_090d79a0_9438_11e8_ad9f_28cfe9142f7frow3_col1\" class=\"data row3 col1\" >2.773</td> \n",
       "    </tr>    <tr> \n",
       "        <th id=\"T_090d79a0_9438_11e8_ad9f_28cfe9142f7flevel0_row4\" class=\"row_heading level0 row4\" >4</th> \n",
       "        <td id=\"T_090d79a0_9438_11e8_ad9f_28cfe9142f7frow4_col0\" class=\"data row4 col0\" >0.668852</td> \n",
       "        <td id=\"T_090d79a0_9438_11e8_ad9f_28cfe9142f7frow4_col1\" class=\"data row4 col1\" >1.4534</td> \n",
       "    </tr>    <tr> \n",
       "        <th id=\"T_090d79a0_9438_11e8_ad9f_28cfe9142f7flevel0_row5\" class=\"row_heading level0 row5\" >5</th> \n",
       "        <td id=\"T_090d79a0_9438_11e8_ad9f_28cfe9142f7frow5_col0\" class=\"data row5 col0\" >nan</td> \n",
       "        <td id=\"T_090d79a0_9438_11e8_ad9f_28cfe9142f7frow5_col1\" class=\"data row5 col1\" >1.31964</td> \n",
       "    </tr>    <tr> \n",
       "        <th id=\"T_090d79a0_9438_11e8_ad9f_28cfe9142f7flevel0_row6\" class=\"row_heading level0 row6\" >6</th> \n",
       "        <td id=\"T_090d79a0_9438_11e8_ad9f_28cfe9142f7frow6_col0\" class=\"data row6 col0\" >0.8396</td> \n",
       "        <td id=\"T_090d79a0_9438_11e8_ad9f_28cfe9142f7frow6_col1\" class=\"data row6 col1\" >1.24561</td> \n",
       "    </tr>    <tr> \n",
       "        <th id=\"T_090d79a0_9438_11e8_ad9f_28cfe9142f7flevel0_row7\" class=\"row_heading level0 row7\" >7</th> \n",
       "        <td id=\"T_090d79a0_9438_11e8_ad9f_28cfe9142f7frow7_col0\" class=\"data row7 col0\" >0.923352</td> \n",
       "        <td id=\"T_090d79a0_9438_11e8_ad9f_28cfe9142f7frow7_col1\" class=\"data row7 col1\" >1.21867</td> \n",
       "    </tr>    <tr> \n",
       "        <th id=\"T_090d79a0_9438_11e8_ad9f_28cfe9142f7flevel0_row8\" class=\"row_heading level0 row8\" >8</th> \n",
       "        <td id=\"T_090d79a0_9438_11e8_ad9f_28cfe9142f7frow8_col0\" class=\"data row8 col0\" >0.980616</td> \n",
       "        <td id=\"T_090d79a0_9438_11e8_ad9f_28cfe9142f7frow8_col1\" class=\"data row8 col1\" >1.12285</td> \n",
       "    </tr>    <tr> \n",
       "        <th id=\"T_090d79a0_9438_11e8_ad9f_28cfe9142f7flevel0_row9\" class=\"row_heading level0 row9\" >9</th> \n",
       "        <td id=\"T_090d79a0_9438_11e8_ad9f_28cfe9142f7frow9_col0\" class=\"data row9 col0\" >1.0911</td> \n",
       "        <td id=\"T_090d79a0_9438_11e8_ad9f_28cfe9142f7frow9_col1\" class=\"data row9 col1\" >0.969684</td> \n",
       "    </tr>    <tr> \n",
       "        <th id=\"T_090d79a0_9438_11e8_ad9f_28cfe9142f7flevel0_row10\" class=\"row_heading level0 row10\" >10</th> \n",
       "        <td id=\"T_090d79a0_9438_11e8_ad9f_28cfe9142f7frow10_col0\" class=\"data row10 col0\" >1.13243</td> \n",
       "        <td id=\"T_090d79a0_9438_11e8_ad9f_28cfe9142f7frow10_col1\" class=\"data row10 col1\" >nan</td> \n",
       "    </tr>    <tr> \n",
       "        <th id=\"T_090d79a0_9438_11e8_ad9f_28cfe9142f7flevel0_row11\" class=\"row_heading level0 row11\" >11</th> \n",
       "        <td id=\"T_090d79a0_9438_11e8_ad9f_28cfe9142f7frow11_col0\" class=\"data row11 col0\" >1.14583</td> \n",
       "        <td id=\"T_090d79a0_9438_11e8_ad9f_28cfe9142f7frow11_col1\" class=\"data row11 col1\" >0.926556</td> \n",
       "    </tr>    <tr> \n",
       "        <th id=\"T_090d79a0_9438_11e8_ad9f_28cfe9142f7flevel0_row12\" class=\"row_heading level0 row12\" >12</th> \n",
       "        <td id=\"T_090d79a0_9438_11e8_ad9f_28cfe9142f7frow12_col0\" class=\"data row12 col0\" >1.18755</td> \n",
       "        <td id=\"T_090d79a0_9438_11e8_ad9f_28cfe9142f7frow12_col1\" class=\"data row12 col1\" >1.03569</td> \n",
       "    </tr>    <tr> \n",
       "        <th id=\"T_090d79a0_9438_11e8_ad9f_28cfe9142f7flevel0_row13\" class=\"row_heading level0 row13\" >13</th> \n",
       "        <td id=\"T_090d79a0_9438_11e8_ad9f_28cfe9142f7frow13_col0\" class=\"data row13 col0\" >1.35167</td> \n",
       "        <td id=\"T_090d79a0_9438_11e8_ad9f_28cfe9142f7frow13_col1\" class=\"data row13 col1\" >0.681128</td> \n",
       "    </tr>    <tr> \n",
       "        <th id=\"T_090d79a0_9438_11e8_ad9f_28cfe9142f7flevel0_row14\" class=\"row_heading level0 row14\" >14</th> \n",
       "        <td id=\"T_090d79a0_9438_11e8_ad9f_28cfe9142f7frow14_col0\" class=\"data row14 col0\" >1.36924</td> \n",
       "        <td id=\"T_090d79a0_9438_11e8_ad9f_28cfe9142f7frow14_col1\" class=\"data row14 col1\" >0.555794</td> \n",
       "    </tr>    <tr> \n",
       "        <th id=\"T_090d79a0_9438_11e8_ad9f_28cfe9142f7flevel0_row15\" class=\"row_heading level0 row15\" >15</th> \n",
       "        <td id=\"T_090d79a0_9438_11e8_ad9f_28cfe9142f7frow15_col0\" class=\"data row15 col0\" >1.47659</td> \n",
       "        <td id=\"T_090d79a0_9438_11e8_ad9f_28cfe9142f7frow15_col1\" class=\"data row15 col1\" >0.794162</td> \n",
       "    </tr>    <tr> \n",
       "        <th id=\"T_090d79a0_9438_11e8_ad9f_28cfe9142f7flevel0_row16\" class=\"row_heading level0 row16\" >16</th> \n",
       "        <td id=\"T_090d79a0_9438_11e8_ad9f_28cfe9142f7frow16_col0\" class=\"data row16 col0\" >1.47887</td> \n",
       "        <td id=\"T_090d79a0_9438_11e8_ad9f_28cfe9142f7frow16_col1\" class=\"data row16 col1\" >0.696611</td> \n",
       "    </tr>    <tr> \n",
       "        <th id=\"T_090d79a0_9438_11e8_ad9f_28cfe9142f7flevel0_row17\" class=\"row_heading level0 row17\" >17</th> \n",
       "        <td id=\"T_090d79a0_9438_11e8_ad9f_28cfe9142f7frow17_col0\" class=\"data row17 col0\" >1.51248</td> \n",
       "        <td id=\"T_090d79a0_9438_11e8_ad9f_28cfe9142f7frow17_col1\" class=\"data row17 col1\" >0.564993</td> \n",
       "    </tr>    <tr> \n",
       "        <th id=\"T_090d79a0_9438_11e8_ad9f_28cfe9142f7flevel0_row18\" class=\"row_heading level0 row18\" >18</th> \n",
       "        <td id=\"T_090d79a0_9438_11e8_ad9f_28cfe9142f7frow18_col0\" class=\"data row18 col0\" >1.54871</td> \n",
       "        <td id=\"T_090d79a0_9438_11e8_ad9f_28cfe9142f7frow18_col1\" class=\"data row18 col1\" >0.641867</td> \n",
       "    </tr>    <tr> \n",
       "        <th id=\"T_090d79a0_9438_11e8_ad9f_28cfe9142f7flevel0_row19\" class=\"row_heading level0 row19\" >19</th> \n",
       "        <td id=\"T_090d79a0_9438_11e8_ad9f_28cfe9142f7frow19_col0\" class=\"data row19 col0\" >1.86162</td> \n",
       "        <td id=\"T_090d79a0_9438_11e8_ad9f_28cfe9142f7frow19_col1\" class=\"data row19 col1\" >0.486863</td> \n",
       "    </tr>    <tr> \n",
       "        <th id=\"T_090d79a0_9438_11e8_ad9f_28cfe9142f7flevel0_row20\" class=\"row_heading level0 row20\" >20</th> \n",
       "        <td id=\"T_090d79a0_9438_11e8_ad9f_28cfe9142f7frow20_col0\" class=\"data row20 col0\" >1.95551</td> \n",
       "        <td id=\"T_090d79a0_9438_11e8_ad9f_28cfe9142f7frow20_col1\" class=\"data row20 col1\" >0.475997</td> \n",
       "    </tr>    <tr> \n",
       "        <th id=\"T_090d79a0_9438_11e8_ad9f_28cfe9142f7flevel0_row21\" class=\"row_heading level0 row21\" >21</th> \n",
       "        <td id=\"T_090d79a0_9438_11e8_ad9f_28cfe9142f7frow21_col0\" class=\"data row21 col0\" >2.02036</td> \n",
       "        <td id=\"T_090d79a0_9438_11e8_ad9f_28cfe9142f7frow21_col1\" class=\"data row21 col1\" >0.682409</td> \n",
       "    </tr>    <tr> \n",
       "        <th id=\"T_090d79a0_9438_11e8_ad9f_28cfe9142f7flevel0_row22\" class=\"row_heading level0 row22\" >22</th> \n",
       "        <td id=\"T_090d79a0_9438_11e8_ad9f_28cfe9142f7frow22_col0\" class=\"data row22 col0\" >2.07518</td> \n",
       "        <td id=\"T_090d79a0_9438_11e8_ad9f_28cfe9142f7frow22_col1\" class=\"data row22 col1\" >0.43321</td> \n",
       "    </tr>    <tr> \n",
       "        <th id=\"T_090d79a0_9438_11e8_ad9f_28cfe9142f7flevel0_row23\" class=\"row_heading level0 row23\" >23</th> \n",
       "        <td id=\"T_090d79a0_9438_11e8_ad9f_28cfe9142f7frow23_col0\" class=\"data row23 col0\" >2.18545</td> \n",
       "        <td id=\"T_090d79a0_9438_11e8_ad9f_28cfe9142f7frow23_col1\" class=\"data row23 col1\" >0.564202</td> \n",
       "    </tr>    <tr> \n",
       "        <th id=\"T_090d79a0_9438_11e8_ad9f_28cfe9142f7flevel0_row24\" class=\"row_heading level0 row24\" >24</th> \n",
       "        <td id=\"T_090d79a0_9438_11e8_ad9f_28cfe9142f7frow24_col0\" class=\"data row24 col0\" >2.20008</td> \n",
       "        <td id=\"T_090d79a0_9438_11e8_ad9f_28cfe9142f7frow24_col1\" class=\"data row24 col1\" >0.483253</td> \n",
       "    </tr>    <tr> \n",
       "        <th id=\"T_090d79a0_9438_11e8_ad9f_28cfe9142f7flevel0_row25\" class=\"row_heading level0 row25\" >25</th> \n",
       "        <td id=\"T_090d79a0_9438_11e8_ad9f_28cfe9142f7frow25_col0\" class=\"data row25 col0\" >2.20883</td> \n",
       "        <td id=\"T_090d79a0_9438_11e8_ad9f_28cfe9142f7frow25_col1\" class=\"data row25 col1\" >0.354221</td> \n",
       "    </tr>    <tr> \n",
       "        <th id=\"T_090d79a0_9438_11e8_ad9f_28cfe9142f7flevel0_row26\" class=\"row_heading level0 row26\" >26</th> \n",
       "        <td id=\"T_090d79a0_9438_11e8_ad9f_28cfe9142f7frow26_col0\" class=\"data row26 col0\" >2.28111</td> \n",
       "        <td id=\"T_090d79a0_9438_11e8_ad9f_28cfe9142f7frow26_col1\" class=\"data row26 col1\" >0.464278</td> \n",
       "    </tr>    <tr> \n",
       "        <th id=\"T_090d79a0_9438_11e8_ad9f_28cfe9142f7flevel0_row27\" class=\"row_heading level0 row27\" >27</th> \n",
       "        <td id=\"T_090d79a0_9438_11e8_ad9f_28cfe9142f7frow27_col0\" class=\"data row27 col0\" >2.44675</td> \n",
       "        <td id=\"T_090d79a0_9438_11e8_ad9f_28cfe9142f7frow27_col1\" class=\"data row27 col1\" >0.485444</td> \n",
       "    </tr>    <tr> \n",
       "        <th id=\"T_090d79a0_9438_11e8_ad9f_28cfe9142f7flevel0_row28\" class=\"row_heading level0 row28\" >28</th> \n",
       "        <td id=\"T_090d79a0_9438_11e8_ad9f_28cfe9142f7frow28_col0\" class=\"data row28 col0\" >2.54242</td> \n",
       "        <td id=\"T_090d79a0_9438_11e8_ad9f_28cfe9142f7frow28_col1\" class=\"data row28 col1\" >0.372759</td> \n",
       "    </tr>    <tr> \n",
       "        <th id=\"T_090d79a0_9438_11e8_ad9f_28cfe9142f7flevel0_row29\" class=\"row_heading level0 row29\" >29</th> \n",
       "        <td id=\"T_090d79a0_9438_11e8_ad9f_28cfe9142f7frow29_col0\" class=\"data row29 col0\" >2.58446</td> \n",
       "        <td id=\"T_090d79a0_9438_11e8_ad9f_28cfe9142f7frow29_col1\" class=\"data row29 col1\" >0.300281</td> \n",
       "    </tr>    <tr> \n",
       "        <th id=\"T_090d79a0_9438_11e8_ad9f_28cfe9142f7flevel0_row30\" class=\"row_heading level0 row30\" >30</th> \n",
       "        <td id=\"T_090d79a0_9438_11e8_ad9f_28cfe9142f7frow30_col0\" class=\"data row30 col0\" >2.58511</td> \n",
       "        <td id=\"T_090d79a0_9438_11e8_ad9f_28cfe9142f7frow30_col1\" class=\"data row30 col1\" >0.467771</td> \n",
       "    </tr>    <tr> \n",
       "        <th id=\"T_090d79a0_9438_11e8_ad9f_28cfe9142f7flevel0_row31\" class=\"row_heading level0 row31\" >31</th> \n",
       "        <td id=\"T_090d79a0_9438_11e8_ad9f_28cfe9142f7frow31_col0\" class=\"data row31 col0\" >2.66378</td> \n",
       "        <td id=\"T_090d79a0_9438_11e8_ad9f_28cfe9142f7frow31_col1\" class=\"data row31 col1\" >0.495418</td> \n",
       "    </tr>    <tr> \n",
       "        <th id=\"T_090d79a0_9438_11e8_ad9f_28cfe9142f7flevel0_row32\" class=\"row_heading level0 row32\" >32</th> \n",
       "        <td id=\"T_090d79a0_9438_11e8_ad9f_28cfe9142f7frow32_col0\" class=\"data row32 col0\" >2.74055</td> \n",
       "        <td id=\"T_090d79a0_9438_11e8_ad9f_28cfe9142f7frow32_col1\" class=\"data row32 col1\" >0.390106</td> \n",
       "    </tr>    <tr> \n",
       "        <th id=\"T_090d79a0_9438_11e8_ad9f_28cfe9142f7flevel0_row33\" class=\"row_heading level0 row33\" >33</th> \n",
       "        <td id=\"T_090d79a0_9438_11e8_ad9f_28cfe9142f7frow33_col0\" class=\"data row33 col0\" >2.74681</td> \n",
       "        <td id=\"T_090d79a0_9438_11e8_ad9f_28cfe9142f7frow33_col1\" class=\"data row33 col1\" >0.388332</td> \n",
       "    </tr>    <tr> \n",
       "        <th id=\"T_090d79a0_9438_11e8_ad9f_28cfe9142f7flevel0_row34\" class=\"row_heading level0 row34\" >34</th> \n",
       "        <td id=\"T_090d79a0_9438_11e8_ad9f_28cfe9142f7frow34_col0\" class=\"data row34 col0\" >2.7936</td> \n",
       "        <td id=\"T_090d79a0_9438_11e8_ad9f_28cfe9142f7frow34_col1\" class=\"data row34 col1\" >0.218713</td> \n",
       "    </tr>    <tr> \n",
       "        <th id=\"T_090d79a0_9438_11e8_ad9f_28cfe9142f7flevel0_row35\" class=\"row_heading level0 row35\" >35</th> \n",
       "        <td id=\"T_090d79a0_9438_11e8_ad9f_28cfe9142f7frow35_col0\" class=\"data row35 col0\" >2.84938</td> \n",
       "        <td id=\"T_090d79a0_9438_11e8_ad9f_28cfe9142f7frow35_col1\" class=\"data row35 col1\" >0.293006</td> \n",
       "    </tr>    <tr> \n",
       "        <th id=\"T_090d79a0_9438_11e8_ad9f_28cfe9142f7flevel0_row36\" class=\"row_heading level0 row36\" >36</th> \n",
       "        <td id=\"T_090d79a0_9438_11e8_ad9f_28cfe9142f7frow36_col0\" class=\"data row36 col0\" >2.85131</td> \n",
       "        <td id=\"T_090d79a0_9438_11e8_ad9f_28cfe9142f7frow36_col1\" class=\"data row36 col1\" >0.424278</td> \n",
       "    </tr>    <tr> \n",
       "        <th id=\"T_090d79a0_9438_11e8_ad9f_28cfe9142f7flevel0_row37\" class=\"row_heading level0 row37\" >37</th> \n",
       "        <td id=\"T_090d79a0_9438_11e8_ad9f_28cfe9142f7frow37_col0\" class=\"data row37 col0\" >2.87715</td> \n",
       "        <td id=\"T_090d79a0_9438_11e8_ad9f_28cfe9142f7frow37_col1\" class=\"data row37 col1\" >0.268491</td> \n",
       "    </tr>    <tr> \n",
       "        <th id=\"T_090d79a0_9438_11e8_ad9f_28cfe9142f7flevel0_row38\" class=\"row_heading level0 row38\" >38</th> \n",
       "        <td id=\"T_090d79a0_9438_11e8_ad9f_28cfe9142f7frow38_col0\" class=\"data row38 col0\" >2.91402</td> \n",
       "        <td id=\"T_090d79a0_9438_11e8_ad9f_28cfe9142f7frow38_col1\" class=\"data row38 col1\" >0.440627</td> \n",
       "    </tr>    <tr> \n",
       "        <th id=\"T_090d79a0_9438_11e8_ad9f_28cfe9142f7flevel0_row39\" class=\"row_heading level0 row39\" >39</th> \n",
       "        <td id=\"T_090d79a0_9438_11e8_ad9f_28cfe9142f7frow39_col0\" class=\"data row39 col0\" >2.92874</td> \n",
       "        <td id=\"T_090d79a0_9438_11e8_ad9f_28cfe9142f7frow39_col1\" class=\"data row39 col1\" >0.386469</td> \n",
       "    </tr>    <tr> \n",
       "        <th id=\"T_090d79a0_9438_11e8_ad9f_28cfe9142f7flevel0_row40\" class=\"row_heading level0 row40\" >40</th> \n",
       "        <td id=\"T_090d79a0_9438_11e8_ad9f_28cfe9142f7frow40_col0\" class=\"data row40 col0\" >2.9359</td> \n",
       "        <td id=\"T_090d79a0_9438_11e8_ad9f_28cfe9142f7frow40_col1\" class=\"data row40 col1\" >0.316454</td> \n",
       "    </tr>    <tr> \n",
       "        <th id=\"T_090d79a0_9438_11e8_ad9f_28cfe9142f7flevel0_row41\" class=\"row_heading level0 row41\" >41</th> \n",
       "        <td id=\"T_090d79a0_9438_11e8_ad9f_28cfe9142f7frow41_col0\" class=\"data row41 col0\" >3.0903</td> \n",
       "        <td id=\"T_090d79a0_9438_11e8_ad9f_28cfe9142f7frow41_col1\" class=\"data row41 col1\" >0.353553</td> \n",
       "    </tr>    <tr> \n",
       "        <th id=\"T_090d79a0_9438_11e8_ad9f_28cfe9142f7flevel0_row42\" class=\"row_heading level0 row42\" >42</th> \n",
       "        <td id=\"T_090d79a0_9438_11e8_ad9f_28cfe9142f7frow42_col0\" class=\"data row42 col0\" >3.23641</td> \n",
       "        <td id=\"T_090d79a0_9438_11e8_ad9f_28cfe9142f7frow42_col1\" class=\"data row42 col1\" >0.228362</td> \n",
       "    </tr>    <tr> \n",
       "        <th id=\"T_090d79a0_9438_11e8_ad9f_28cfe9142f7flevel0_row43\" class=\"row_heading level0 row43\" >43</th> \n",
       "        <td id=\"T_090d79a0_9438_11e8_ad9f_28cfe9142f7frow43_col0\" class=\"data row43 col0\" >3.26371</td> \n",
       "        <td id=\"T_090d79a0_9438_11e8_ad9f_28cfe9142f7frow43_col1\" class=\"data row43 col1\" >0.286563</td> \n",
       "    </tr>    <tr> \n",
       "        <th id=\"T_090d79a0_9438_11e8_ad9f_28cfe9142f7flevel0_row44\" class=\"row_heading level0 row44\" >44</th> \n",
       "        <td id=\"T_090d79a0_9438_11e8_ad9f_28cfe9142f7frow44_col0\" class=\"data row44 col0\" >3.26662</td> \n",
       "        <td id=\"T_090d79a0_9438_11e8_ad9f_28cfe9142f7frow44_col1\" class=\"data row44 col1\" >0.258553</td> \n",
       "    </tr>    <tr> \n",
       "        <th id=\"T_090d79a0_9438_11e8_ad9f_28cfe9142f7flevel0_row45\" class=\"row_heading level0 row45\" >45</th> \n",
       "        <td id=\"T_090d79a0_9438_11e8_ad9f_28cfe9142f7frow45_col0\" class=\"data row45 col0\" >3.41424</td> \n",
       "        <td id=\"T_090d79a0_9438_11e8_ad9f_28cfe9142f7frow45_col1\" class=\"data row45 col1\" >0.223684</td> \n",
       "    </tr>    <tr> \n",
       "        <th id=\"T_090d79a0_9438_11e8_ad9f_28cfe9142f7flevel0_row46\" class=\"row_heading level0 row46\" >46</th> \n",
       "        <td id=\"T_090d79a0_9438_11e8_ad9f_28cfe9142f7frow46_col0\" class=\"data row46 col0\" >3.4165</td> \n",
       "        <td id=\"T_090d79a0_9438_11e8_ad9f_28cfe9142f7frow46_col1\" class=\"data row46 col1\" >0.344884</td> \n",
       "    </tr>    <tr> \n",
       "        <th id=\"T_090d79a0_9438_11e8_ad9f_28cfe9142f7flevel0_row47\" class=\"row_heading level0 row47\" >47</th> \n",
       "        <td id=\"T_090d79a0_9438_11e8_ad9f_28cfe9142f7frow47_col0\" class=\"data row47 col0\" >3.47278</td> \n",
       "        <td id=\"T_090d79a0_9438_11e8_ad9f_28cfe9142f7frow47_col1\" class=\"data row47 col1\" >0.295927</td> \n",
       "    </tr>    <tr> \n",
       "        <th id=\"T_090d79a0_9438_11e8_ad9f_28cfe9142f7flevel0_row48\" class=\"row_heading level0 row48\" >48</th> \n",
       "        <td id=\"T_090d79a0_9438_11e8_ad9f_28cfe9142f7frow48_col0\" class=\"data row48 col0\" >3.53812</td> \n",
       "        <td id=\"T_090d79a0_9438_11e8_ad9f_28cfe9142f7frow48_col1\" class=\"data row48 col1\" >0.304465</td> \n",
       "    </tr>    <tr> \n",
       "        <th id=\"T_090d79a0_9438_11e8_ad9f_28cfe9142f7flevel0_row49\" class=\"row_heading level0 row49\" >49</th> \n",
       "        <td id=\"T_090d79a0_9438_11e8_ad9f_28cfe9142f7frow49_col0\" class=\"data row49 col0\" >3.5575</td> \n",
       "        <td id=\"T_090d79a0_9438_11e8_ad9f_28cfe9142f7frow49_col1\" class=\"data row49 col1\" >0.229456</td> \n",
       "    </tr>    <tr> \n",
       "        <th id=\"T_090d79a0_9438_11e8_ad9f_28cfe9142f7flevel0_row50\" class=\"row_heading level0 row50\" >50</th> \n",
       "        <td id=\"T_090d79a0_9438_11e8_ad9f_28cfe9142f7frow50_col0\" class=\"data row50 col0\" >3.76857</td> \n",
       "        <td id=\"T_090d79a0_9438_11e8_ad9f_28cfe9142f7frow50_col1\" class=\"data row50 col1\" >0.279126</td> \n",
       "    </tr>    <tr> \n",
       "        <th id=\"T_090d79a0_9438_11e8_ad9f_28cfe9142f7flevel0_row51\" class=\"row_heading level0 row51\" >51</th> \n",
       "        <td id=\"T_090d79a0_9438_11e8_ad9f_28cfe9142f7frow51_col0\" class=\"data row51 col0\" >3.91005</td> \n",
       "        <td id=\"T_090d79a0_9438_11e8_ad9f_28cfe9142f7frow51_col1\" class=\"data row51 col1\" >0.310598</td> \n",
       "    </tr>    <tr> \n",
       "        <th id=\"T_090d79a0_9438_11e8_ad9f_28cfe9142f7flevel0_row52\" class=\"row_heading level0 row52\" >52</th> \n",
       "        <td id=\"T_090d79a0_9438_11e8_ad9f_28cfe9142f7frow52_col0\" class=\"data row52 col0\" >3.92172</td> \n",
       "        <td id=\"T_090d79a0_9438_11e8_ad9f_28cfe9142f7frow52_col1\" class=\"data row52 col1\" >0.40689</td> \n",
       "    </tr>    <tr> \n",
       "        <th id=\"T_090d79a0_9438_11e8_ad9f_28cfe9142f7flevel0_row53\" class=\"row_heading level0 row53\" >53</th> \n",
       "        <td id=\"T_090d79a0_9438_11e8_ad9f_28cfe9142f7frow53_col0\" class=\"data row53 col0\" >3.97792</td> \n",
       "        <td id=\"T_090d79a0_9438_11e8_ad9f_28cfe9142f7frow53_col1\" class=\"data row53 col1\" >0.44075</td> \n",
       "    </tr>    <tr> \n",
       "        <th id=\"T_090d79a0_9438_11e8_ad9f_28cfe9142f7flevel0_row54\" class=\"row_heading level0 row54\" >54</th> \n",
       "        <td id=\"T_090d79a0_9438_11e8_ad9f_28cfe9142f7frow54_col0\" class=\"data row54 col0\" >4.00128</td> \n",
       "        <td id=\"T_090d79a0_9438_11e8_ad9f_28cfe9142f7frow54_col1\" class=\"data row54 col1\" >0.241991</td> \n",
       "    </tr>    <tr> \n",
       "        <th id=\"T_090d79a0_9438_11e8_ad9f_28cfe9142f7flevel0_row55\" class=\"row_heading level0 row55\" >55</th> \n",
       "        <td id=\"T_090d79a0_9438_11e8_ad9f_28cfe9142f7frow55_col0\" class=\"data row55 col0\" >4.08509</td> \n",
       "        <td id=\"T_090d79a0_9438_11e8_ad9f_28cfe9142f7frow55_col1\" class=\"data row55 col1\" >0.183988</td> \n",
       "    </tr>    <tr> \n",
       "        <th id=\"T_090d79a0_9438_11e8_ad9f_28cfe9142f7flevel0_row56\" class=\"row_heading level0 row56\" >56</th> \n",
       "        <td id=\"T_090d79a0_9438_11e8_ad9f_28cfe9142f7frow56_col0\" class=\"data row56 col0\" >4.21006</td> \n",
       "        <td id=\"T_090d79a0_9438_11e8_ad9f_28cfe9142f7frow56_col1\" class=\"data row56 col1\" >0.222835</td> \n",
       "    </tr>    <tr> \n",
       "        <th id=\"T_090d79a0_9438_11e8_ad9f_28cfe9142f7flevel0_row57\" class=\"row_heading level0 row57\" >57</th> \n",
       "        <td id=\"T_090d79a0_9438_11e8_ad9f_28cfe9142f7frow57_col0\" class=\"data row57 col0\" >4.21612</td> \n",
       "        <td id=\"T_090d79a0_9438_11e8_ad9f_28cfe9142f7frow57_col1\" class=\"data row57 col1\" >0.228635</td> \n",
       "    </tr>    <tr> \n",
       "        <th id=\"T_090d79a0_9438_11e8_ad9f_28cfe9142f7flevel0_row58\" class=\"row_heading level0 row58\" >58</th> \n",
       "        <td id=\"T_090d79a0_9438_11e8_ad9f_28cfe9142f7frow58_col0\" class=\"data row58 col0\" >4.28009</td> \n",
       "        <td id=\"T_090d79a0_9438_11e8_ad9f_28cfe9142f7frow58_col1\" class=\"data row58 col1\" >0.289405</td> \n",
       "    </tr>    <tr> \n",
       "        <th id=\"T_090d79a0_9438_11e8_ad9f_28cfe9142f7flevel0_row59\" class=\"row_heading level0 row59\" >59</th> \n",
       "        <td id=\"T_090d79a0_9438_11e8_ad9f_28cfe9142f7frow59_col0\" class=\"data row59 col0\" >4.30323</td> \n",
       "        <td id=\"T_090d79a0_9438_11e8_ad9f_28cfe9142f7frow59_col1\" class=\"data row59 col1\" >0.183036</td> \n",
       "    </tr>    <tr> \n",
       "        <th id=\"T_090d79a0_9438_11e8_ad9f_28cfe9142f7flevel0_row60\" class=\"row_heading level0 row60\" >60</th> \n",
       "        <td id=\"T_090d79a0_9438_11e8_ad9f_28cfe9142f7frow60_col0\" class=\"data row60 col0\" >4.35006</td> \n",
       "        <td id=\"T_090d79a0_9438_11e8_ad9f_28cfe9142f7frow60_col1\" class=\"data row60 col1\" >0.238432</td> \n",
       "    </tr>    <tr> \n",
       "        <th id=\"T_090d79a0_9438_11e8_ad9f_28cfe9142f7flevel0_row61\" class=\"row_heading level0 row61\" >61</th> \n",
       "        <td id=\"T_090d79a0_9438_11e8_ad9f_28cfe9142f7frow61_col0\" class=\"data row61 col0\" >4.35211</td> \n",
       "        <td id=\"T_090d79a0_9438_11e8_ad9f_28cfe9142f7frow61_col1\" class=\"data row61 col1\" >0.328407</td> \n",
       "    </tr>    <tr> \n",
       "        <th id=\"T_090d79a0_9438_11e8_ad9f_28cfe9142f7flevel0_row62\" class=\"row_heading level0 row62\" >62</th> \n",
       "        <td id=\"T_090d79a0_9438_11e8_ad9f_28cfe9142f7frow62_col0\" class=\"data row62 col0\" >4.41603</td> \n",
       "        <td id=\"T_090d79a0_9438_11e8_ad9f_28cfe9142f7frow62_col1\" class=\"data row62 col1\" >0.1011</td> \n",
       "    </tr>    <tr> \n",
       "        <th id=\"T_090d79a0_9438_11e8_ad9f_28cfe9142f7flevel0_row63\" class=\"row_heading level0 row63\" >63</th> \n",
       "        <td id=\"T_090d79a0_9438_11e8_ad9f_28cfe9142f7frow63_col0\" class=\"data row63 col0\" >4.55542</td> \n",
       "        <td id=\"T_090d79a0_9438_11e8_ad9f_28cfe9142f7frow63_col1\" class=\"data row63 col1\" >0.22918</td> \n",
       "    </tr>    <tr> \n",
       "        <th id=\"T_090d79a0_9438_11e8_ad9f_28cfe9142f7flevel0_row64\" class=\"row_heading level0 row64\" >64</th> \n",
       "        <td id=\"T_090d79a0_9438_11e8_ad9f_28cfe9142f7frow64_col0\" class=\"data row64 col0\" >4.56322</td> \n",
       "        <td id=\"T_090d79a0_9438_11e8_ad9f_28cfe9142f7frow64_col1\" class=\"data row64 col1\" >0.268884</td> \n",
       "    </tr>    <tr> \n",
       "        <th id=\"T_090d79a0_9438_11e8_ad9f_28cfe9142f7flevel0_row65\" class=\"row_heading level0 row65\" >65</th> \n",
       "        <td id=\"T_090d79a0_9438_11e8_ad9f_28cfe9142f7frow65_col0\" class=\"data row65 col0\" >4.70587</td> \n",
       "        <td id=\"T_090d79a0_9438_11e8_ad9f_28cfe9142f7frow65_col1\" class=\"data row65 col1\" >0.0491828</td> \n",
       "    </tr>    <tr> \n",
       "        <th id=\"T_090d79a0_9438_11e8_ad9f_28cfe9142f7flevel0_row66\" class=\"row_heading level0 row66\" >66</th> \n",
       "        <td id=\"T_090d79a0_9438_11e8_ad9f_28cfe9142f7frow66_col0\" class=\"data row66 col0\" >4.82146</td> \n",
       "        <td id=\"T_090d79a0_9438_11e8_ad9f_28cfe9142f7frow66_col1\" class=\"data row66 col1\" >0.254724</td> \n",
       "    </tr>    <tr> \n",
       "        <th id=\"T_090d79a0_9438_11e8_ad9f_28cfe9142f7flevel0_row67\" class=\"row_heading level0 row67\" >67</th> \n",
       "        <td id=\"T_090d79a0_9438_11e8_ad9f_28cfe9142f7frow67_col0\" class=\"data row67 col0\" >4.8282</td> \n",
       "        <td id=\"T_090d79a0_9438_11e8_ad9f_28cfe9142f7frow67_col1\" class=\"data row67 col1\" >0.35588</td> \n",
       "    </tr>    <tr> \n",
       "        <th id=\"T_090d79a0_9438_11e8_ad9f_28cfe9142f7flevel0_row68\" class=\"row_heading level0 row68\" >68</th> \n",
       "        <td id=\"T_090d79a0_9438_11e8_ad9f_28cfe9142f7frow68_col0\" class=\"data row68 col0\" >4.88334</td> \n",
       "        <td id=\"T_090d79a0_9438_11e8_ad9f_28cfe9142f7frow68_col1\" class=\"data row68 col1\" >0.347316</td> \n",
       "    </tr>    <tr> \n",
       "        <th id=\"T_090d79a0_9438_11e8_ad9f_28cfe9142f7flevel0_row69\" class=\"row_heading level0 row69\" >69</th> \n",
       "        <td id=\"T_090d79a0_9438_11e8_ad9f_28cfe9142f7frow69_col0\" class=\"data row69 col0\" >4.88979</td> \n",
       "        <td id=\"T_090d79a0_9438_11e8_ad9f_28cfe9142f7frow69_col1\" class=\"data row69 col1\" >0.142128</td> \n",
       "    </tr>    <tr> \n",
       "        <th id=\"T_090d79a0_9438_11e8_ad9f_28cfe9142f7flevel0_row70\" class=\"row_heading level0 row70\" >70</th> \n",
       "        <td id=\"T_090d79a0_9438_11e8_ad9f_28cfe9142f7frow70_col0\" class=\"data row70 col0\" >4.91015</td> \n",
       "        <td id=\"T_090d79a0_9438_11e8_ad9f_28cfe9142f7frow70_col1\" class=\"data row70 col1\" >0.195525</td> \n",
       "    </tr>    <tr> \n",
       "        <th id=\"T_090d79a0_9438_11e8_ad9f_28cfe9142f7flevel0_row71\" class=\"row_heading level0 row71\" >71</th> \n",
       "        <td id=\"T_090d79a0_9438_11e8_ad9f_28cfe9142f7frow71_col0\" class=\"data row71 col0\" >4.99</td> \n",
       "        <td id=\"T_090d79a0_9438_11e8_ad9f_28cfe9142f7frow71_col1\" class=\"data row71 col1\" >0.281386</td> \n",
       "    </tr>    <tr> \n",
       "        <th id=\"T_090d79a0_9438_11e8_ad9f_28cfe9142f7flevel0_row72\" class=\"row_heading level0 row72\" >72</th> \n",
       "        <td id=\"T_090d79a0_9438_11e8_ad9f_28cfe9142f7frow72_col0\" class=\"data row72 col0\" >5.05412</td> \n",
       "        <td id=\"T_090d79a0_9438_11e8_ad9f_28cfe9142f7frow72_col1\" class=\"data row72 col1\" >0.100736</td> \n",
       "    </tr>    <tr> \n",
       "        <th id=\"T_090d79a0_9438_11e8_ad9f_28cfe9142f7flevel0_row73\" class=\"row_heading level0 row73\" >73</th> \n",
       "        <td id=\"T_090d79a0_9438_11e8_ad9f_28cfe9142f7frow73_col0\" class=\"data row73 col0\" >5.09442</td> \n",
       "        <td id=\"T_090d79a0_9438_11e8_ad9f_28cfe9142f7frow73_col1\" class=\"data row73 col1\" >0.0499052</td> \n",
       "    </tr>    <tr> \n",
       "        <th id=\"T_090d79a0_9438_11e8_ad9f_28cfe9142f7flevel0_row74\" class=\"row_heading level0 row74\" >74</th> \n",
       "        <td id=\"T_090d79a0_9438_11e8_ad9f_28cfe9142f7frow74_col0\" class=\"data row74 col0\" >5.11777</td> \n",
       "        <td id=\"T_090d79a0_9438_11e8_ad9f_28cfe9142f7frow74_col1\" class=\"data row74 col1\" >0.40365</td> \n",
       "    </tr>    <tr> \n",
       "        <th id=\"T_090d79a0_9438_11e8_ad9f_28cfe9142f7flevel0_row75\" class=\"row_heading level0 row75\" >75</th> \n",
       "        <td id=\"T_090d79a0_9438_11e8_ad9f_28cfe9142f7frow75_col0\" class=\"data row75 col0\" >5.18412</td> \n",
       "        <td id=\"T_090d79a0_9438_11e8_ad9f_28cfe9142f7frow75_col1\" class=\"data row75 col1\" >0.155798</td> \n",
       "    </tr>    <tr> \n",
       "        <th id=\"T_090d79a0_9438_11e8_ad9f_28cfe9142f7flevel0_row76\" class=\"row_heading level0 row76\" >76</th> \n",
       "        <td id=\"T_090d79a0_9438_11e8_ad9f_28cfe9142f7frow76_col0\" class=\"data row76 col0\" >5.19095</td> \n",
       "        <td id=\"T_090d79a0_9438_11e8_ad9f_28cfe9142f7frow76_col1\" class=\"data row76 col1\" >0.387902</td> \n",
       "    </tr>    <tr> \n",
       "        <th id=\"T_090d79a0_9438_11e8_ad9f_28cfe9142f7flevel0_row77\" class=\"row_heading level0 row77\" >77</th> \n",
       "        <td id=\"T_090d79a0_9438_11e8_ad9f_28cfe9142f7frow77_col0\" class=\"data row77 col0\" >5.21136</td> \n",
       "        <td id=\"T_090d79a0_9438_11e8_ad9f_28cfe9142f7frow77_col1\" class=\"data row77 col1\" >0.392479</td> \n",
       "    </tr>    <tr> \n",
       "        <th id=\"T_090d79a0_9438_11e8_ad9f_28cfe9142f7flevel0_row78\" class=\"row_heading level0 row78\" >78</th> \n",
       "        <td id=\"T_090d79a0_9438_11e8_ad9f_28cfe9142f7frow78_col0\" class=\"data row78 col0\" >5.21632</td> \n",
       "        <td id=\"T_090d79a0_9438_11e8_ad9f_28cfe9142f7frow78_col1\" class=\"data row78 col1\" >0.367105</td> \n",
       "    </tr>    <tr> \n",
       "        <th id=\"T_090d79a0_9438_11e8_ad9f_28cfe9142f7flevel0_row79\" class=\"row_heading level0 row79\" >79</th> \n",
       "        <td id=\"T_090d79a0_9438_11e8_ad9f_28cfe9142f7frow79_col0\" class=\"data row79 col0\" >5.26493</td> \n",
       "        <td id=\"T_090d79a0_9438_11e8_ad9f_28cfe9142f7frow79_col1\" class=\"data row79 col1\" >0.0871179</td> \n",
       "    </tr>    <tr> \n",
       "        <th id=\"T_090d79a0_9438_11e8_ad9f_28cfe9142f7flevel0_row80\" class=\"row_heading level0 row80\" >80</th> \n",
       "        <td id=\"T_090d79a0_9438_11e8_ad9f_28cfe9142f7frow80_col0\" class=\"data row80 col0\" >5.26794</td> \n",
       "        <td id=\"T_090d79a0_9438_11e8_ad9f_28cfe9142f7frow80_col1\" class=\"data row80 col1\" >0.107813</td> \n",
       "    </tr>    <tr> \n",
       "        <th id=\"T_090d79a0_9438_11e8_ad9f_28cfe9142f7flevel0_row81\" class=\"row_heading level0 row81\" >81</th> \n",
       "        <td id=\"T_090d79a0_9438_11e8_ad9f_28cfe9142f7frow81_col0\" class=\"data row81 col0\" >5.39937</td> \n",
       "        <td id=\"T_090d79a0_9438_11e8_ad9f_28cfe9142f7frow81_col1\" class=\"data row81 col1\" >0.176909</td> \n",
       "    </tr>    <tr> \n",
       "        <th id=\"T_090d79a0_9438_11e8_ad9f_28cfe9142f7flevel0_row82\" class=\"row_heading level0 row82\" >82</th> \n",
       "        <td id=\"T_090d79a0_9438_11e8_ad9f_28cfe9142f7frow82_col0\" class=\"data row82 col0\" >5.45669</td> \n",
       "        <td id=\"T_090d79a0_9438_11e8_ad9f_28cfe9142f7frow82_col1\" class=\"data row82 col1\" >0.241984</td> \n",
       "    </tr>    <tr> \n",
       "        <th id=\"T_090d79a0_9438_11e8_ad9f_28cfe9142f7flevel0_row83\" class=\"row_heading level0 row83\" >83</th> \n",
       "        <td id=\"T_090d79a0_9438_11e8_ad9f_28cfe9142f7frow83_col0\" class=\"data row83 col0\" >5.46857</td> \n",
       "        <td id=\"T_090d79a0_9438_11e8_ad9f_28cfe9142f7frow83_col1\" class=\"data row83 col1\" >0.0296351</td> \n",
       "    </tr>    <tr> \n",
       "        <th id=\"T_090d79a0_9438_11e8_ad9f_28cfe9142f7flevel0_row84\" class=\"row_heading level0 row84\" >84</th> \n",
       "        <td id=\"T_090d79a0_9438_11e8_ad9f_28cfe9142f7frow84_col0\" class=\"data row84 col0\" >5.4897</td> \n",
       "        <td id=\"T_090d79a0_9438_11e8_ad9f_28cfe9142f7frow84_col1\" class=\"data row84 col1\" >0.100447</td> \n",
       "    </tr>    <tr> \n",
       "        <th id=\"T_090d79a0_9438_11e8_ad9f_28cfe9142f7flevel0_row85\" class=\"row_heading level0 row85\" >85</th> \n",
       "        <td id=\"T_090d79a0_9438_11e8_ad9f_28cfe9142f7frow85_col0\" class=\"data row85 col0\" >5.55509</td> \n",
       "        <td id=\"T_090d79a0_9438_11e8_ad9f_28cfe9142f7frow85_col1\" class=\"data row85 col1\" >0.216052</td> \n",
       "    </tr>    <tr> \n",
       "        <th id=\"T_090d79a0_9438_11e8_ad9f_28cfe9142f7flevel0_row86\" class=\"row_heading level0 row86\" >86</th> \n",
       "        <td id=\"T_090d79a0_9438_11e8_ad9f_28cfe9142f7frow86_col0\" class=\"data row86 col0\" >5.58809</td> \n",
       "        <td id=\"T_090d79a0_9438_11e8_ad9f_28cfe9142f7frow86_col1\" class=\"data row86 col1\" >0.155985</td> \n",
       "    </tr>    <tr> \n",
       "        <th id=\"T_090d79a0_9438_11e8_ad9f_28cfe9142f7flevel0_row87\" class=\"row_heading level0 row87\" >87</th> \n",
       "        <td id=\"T_090d79a0_9438_11e8_ad9f_28cfe9142f7frow87_col0\" class=\"data row87 col0\" >5.61349</td> \n",
       "        <td id=\"T_090d79a0_9438_11e8_ad9f_28cfe9142f7frow87_col1\" class=\"data row87 col1\" >-0.0443625</td> \n",
       "    </tr>    <tr> \n",
       "        <th id=\"T_090d79a0_9438_11e8_ad9f_28cfe9142f7flevel0_row88\" class=\"row_heading level0 row88\" >88</th> \n",
       "        <td id=\"T_090d79a0_9438_11e8_ad9f_28cfe9142f7frow88_col0\" class=\"data row88 col0\" >5.64798</td> \n",
       "        <td id=\"T_090d79a0_9438_11e8_ad9f_28cfe9142f7frow88_col1\" class=\"data row88 col1\" >0.169085</td> \n",
       "    </tr>    <tr> \n",
       "        <th id=\"T_090d79a0_9438_11e8_ad9f_28cfe9142f7flevel0_row89\" class=\"row_heading level0 row89\" >89</th> \n",
       "        <td id=\"T_090d79a0_9438_11e8_ad9f_28cfe9142f7frow89_col0\" class=\"data row89 col0\" >5.65521</td> \n",
       "        <td id=\"T_090d79a0_9438_11e8_ad9f_28cfe9142f7frow89_col1\" class=\"data row89 col1\" >0.141284</td> \n",
       "    </tr>    <tr> \n",
       "        <th id=\"T_090d79a0_9438_11e8_ad9f_28cfe9142f7flevel0_row90\" class=\"row_heading level0 row90\" >90</th> \n",
       "        <td id=\"T_090d79a0_9438_11e8_ad9f_28cfe9142f7frow90_col0\" class=\"data row90 col0\" >5.65536</td> \n",
       "        <td id=\"T_090d79a0_9438_11e8_ad9f_28cfe9142f7frow90_col1\" class=\"data row90 col1\" >0.157996</td> \n",
       "    </tr>    <tr> \n",
       "        <th id=\"T_090d79a0_9438_11e8_ad9f_28cfe9142f7flevel0_row91\" class=\"row_heading level0 row91\" >91</th> \n",
       "        <td id=\"T_090d79a0_9438_11e8_ad9f_28cfe9142f7frow91_col0\" class=\"data row91 col0\" >5.67637</td> \n",
       "        <td id=\"T_090d79a0_9438_11e8_ad9f_28cfe9142f7frow91_col1\" class=\"data row91 col1\" >0.062097</td> \n",
       "    </tr>    <tr> \n",
       "        <th id=\"T_090d79a0_9438_11e8_ad9f_28cfe9142f7flevel0_row92\" class=\"row_heading level0 row92\" >92</th> \n",
       "        <td id=\"T_090d79a0_9438_11e8_ad9f_28cfe9142f7frow92_col0\" class=\"data row92 col0\" >5.7585</td> \n",
       "        <td id=\"T_090d79a0_9438_11e8_ad9f_28cfe9142f7frow92_col1\" class=\"data row92 col1\" >0.201894</td> \n",
       "    </tr>    <tr> \n",
       "        <th id=\"T_090d79a0_9438_11e8_ad9f_28cfe9142f7flevel0_row93\" class=\"row_heading level0 row93\" >93</th> \n",
       "        <td id=\"T_090d79a0_9438_11e8_ad9f_28cfe9142f7frow93_col0\" class=\"data row93 col0\" >5.80769</td> \n",
       "        <td id=\"T_090d79a0_9438_11e8_ad9f_28cfe9142f7frow93_col1\" class=\"data row93 col1\" >-0.028804</td> \n",
       "    </tr>    <tr> \n",
       "        <th id=\"T_090d79a0_9438_11e8_ad9f_28cfe9142f7flevel0_row94\" class=\"row_heading level0 row94\" >94</th> \n",
       "        <td id=\"T_090d79a0_9438_11e8_ad9f_28cfe9142f7frow94_col0\" class=\"data row94 col0\" >5.87789</td> \n",
       "        <td id=\"T_090d79a0_9438_11e8_ad9f_28cfe9142f7frow94_col1\" class=\"data row94 col1\" >0.117835</td> \n",
       "    </tr>    <tr> \n",
       "        <th id=\"T_090d79a0_9438_11e8_ad9f_28cfe9142f7flevel0_row95\" class=\"row_heading level0 row95\" >95</th> \n",
       "        <td id=\"T_090d79a0_9438_11e8_ad9f_28cfe9142f7frow95_col0\" class=\"data row95 col0\" >5.90599</td> \n",
       "        <td id=\"T_090d79a0_9438_11e8_ad9f_28cfe9142f7frow95_col1\" class=\"data row95 col1\" >0.163896</td> \n",
       "    </tr>    <tr> \n",
       "        <th id=\"T_090d79a0_9438_11e8_ad9f_28cfe9142f7flevel0_row96\" class=\"row_heading level0 row96\" >96</th> \n",
       "        <td id=\"T_090d79a0_9438_11e8_ad9f_28cfe9142f7frow96_col0\" class=\"data row96 col0\" >5.90775</td> \n",
       "        <td id=\"T_090d79a0_9438_11e8_ad9f_28cfe9142f7frow96_col1\" class=\"data row96 col1\" >0.154984</td> \n",
       "    </tr>    <tr> \n",
       "        <th id=\"T_090d79a0_9438_11e8_ad9f_28cfe9142f7flevel0_row97\" class=\"row_heading level0 row97\" >97</th> \n",
       "        <td id=\"T_090d79a0_9438_11e8_ad9f_28cfe9142f7frow97_col0\" class=\"data row97 col0\" >5.91453</td> \n",
       "        <td id=\"T_090d79a0_9438_11e8_ad9f_28cfe9142f7frow97_col1\" class=\"data row97 col1\" >0.0539692</td> \n",
       "    </tr>    <tr> \n",
       "        <th id=\"T_090d79a0_9438_11e8_ad9f_28cfe9142f7flevel0_row98\" class=\"row_heading level0 row98\" >98</th> \n",
       "        <td id=\"T_090d79a0_9438_11e8_ad9f_28cfe9142f7frow98_col0\" class=\"data row98 col0\" >5.98264</td> \n",
       "        <td id=\"T_090d79a0_9438_11e8_ad9f_28cfe9142f7frow98_col1\" class=\"data row98 col1\" >0.0732427</td> \n",
       "    </tr>    <tr> \n",
       "        <th id=\"T_090d79a0_9438_11e8_ad9f_28cfe9142f7flevel0_row99\" class=\"row_heading level0 row99\" >99</th> \n",
       "        <td id=\"T_090d79a0_9438_11e8_ad9f_28cfe9142f7frow99_col0\" class=\"data row99 col0\" >6.05527</td> \n",
       "        <td id=\"T_090d79a0_9438_11e8_ad9f_28cfe9142f7frow99_col1\" class=\"data row99 col1\" >0.139328</td> \n",
       "    </tr></tbody> \n",
       "</table> "
      ],
      "text/plain": [
       "<pandas.io.formats.style.Styler at 0x1083776d8>"
      ]
     },
     "execution_count": 4,
     "metadata": {},
     "output_type": "execute_result"
    }
   ],
   "source": [
    "# Import table code.\n",
    "import pandas as pd\n",
    "\n",
    "# Initialize the table.\n",
    "labels = ['Volume', 'Pressure']\n",
    "trials.sort()\n",
    "df = pd.DataFrame.from_records(trials, columns=labels)\n",
    "df.iloc[0, 1] = np.nan\n",
    "df.iloc[5, 0] = np.nan\n",
    "df.iloc[10, 1] = np.nan\n",
    "df.head\n",
    "df.style"
   ]
  },
  {
   "cell_type": "markdown",
   "metadata": {},
   "source": [
    "<h1><a name=\"lab\" style=\"text-decoration: none; color: black;\">Lab Activity</a></h1>\n",
    "\n",
    "In an actual experiment, there is sometimes some element of error, which can prevent us from yielding the correct (or any) values. Assuming the experiment took place at room temperature (25 degrees C), using any of the other complete data pairs, predict the values of `nan` in the table above."
   ]
  },
  {
   "cell_type": "markdown",
   "metadata": {},
   "source": [
    "<h1><a name=\"practice\" style=\"text-decoration: none; color: black;\">Practice Questions</a></h1>\n",
    "\n",
    "There are three questions below that test Boyle's Law. There is a code segment that you can run after each question to check your answer. Before you do so though, run the code segment below this text. Each of the answers are encrypted, and this code decrypts it in order to test if it is correct. To be extra clear, the long string of characters and numbers such as `845e85fa64a2d6037055beba19fe0bd8` that you will see is not the answer, it is the encrypted answer. Run the code segments after each question to have the text field for your answer to appear. Furthermore, round to the nearest significant figure, and do not input units. If you are struggling, please check the [Answer Key notebook](Answer_Key.ipynb) for full solutions. "
   ]
  },
  {
   "cell_type": "code",
   "execution_count": 5,
   "metadata": {},
   "outputs": [],
   "source": [
    "# ANSWER HANDLING. Uncomment the 'print(\"This is the hash: \", temp)' line by deleting the # before it.\n",
    "\n",
    "# Imports.\n",
    "from IPython.display import display \n",
    "from ipywidgets import widgets\n",
    "import hashlib\n",
    "\n",
    "# Check the answer given by the student.\n",
    "def check_answer(x):\n",
    "    temp = None\n",
    "    try:\n",
    "        temp = hashlib.md5(str.encode(str(text.value))).hexdigest()\n",
    "#         print(\"This is the hash: \", temp)\n",
    "    except:\n",
    "        print(\"Not a number.\")\n",
    "    if(temp == answer):\n",
    "        print(\"Correct!\")\n",
    "    else:\n",
    "        print(\"Incorrect. Try again!\")"
   ]
  },
  {
   "cell_type": "markdown",
   "metadata": {},
   "source": [
    "1. Assume the temperature and the number of gas molecules stay constant within an adult’s lungs. Initially, the capacity of the lung is 3.4 liters, and the pressure in the adult’s lung is 15 mmHg. Determine when the lung is expanded to the maximum capacity the new pressure in mmHg within the adult’s lung. (Average maximum capacity of adult's lung is 6.0 liters.) "
   ]
  },
  {
   "cell_type": "markdown",
   "metadata": {},
   "source": [
    "<img width = \"200px\" src=\"GasLawsImages/lungs.png\"/>"
   ]
  },
  {
   "cell_type": "code",
   "execution_count": 6,
   "metadata": {},
   "outputs": [
    {
     "data": {
      "application/vnd.jupyter.widget-view+json": {
       "model_id": "bd527770727047f184c8e1a86fe9ce15",
       "version_major": 2,
       "version_minor": 0
      },
      "text/plain": [
       "Text(value='')"
      ]
     },
     "metadata": {},
     "output_type": "display_data"
    },
    {
     "name": "stdout",
     "output_type": "stream",
     "text": [
      "Incorrect. Try again!\n",
      "Correct!\n"
     ]
    }
   ],
   "source": [
    "# Encrypted answer.\n",
    "answer = '845e85fa64a2d6037055beba19fe0bd8'\n",
    "\n",
    "# Create answer box.\n",
    "text = widgets.Text()\n",
    "display(text)\n",
    "text.on_submit(check_answer)"
   ]
  },
  {
   "cell_type": "markdown",
   "metadata": {},
   "source": [
    "2. Assume the temperature and the number of gas molecules stay constant within the balloon for the following question. A small gas container has 90 milliliters of nitrogen and it is pumped into a balloon, which gives the balloon a pressure of 1.0 atm. The balloon is sealed tightly, and it is raised to a higher altitude where the atmospheric pressure is 50 kPa. Find the final volume of the balloon in liters at this height. "
   ]
  },
  {
   "cell_type": "code",
   "execution_count": 7,
   "metadata": {},
   "outputs": [
    {
     "data": {
      "application/vnd.jupyter.widget-view+json": {
       "model_id": "9b99604730184e3c82afc70a89de3cc2",
       "version_major": 2,
       "version_minor": 0
      },
      "text/plain": [
       "Text(value='')"
      ]
     },
     "metadata": {},
     "output_type": "display_data"
    }
   ],
   "source": [
    "# Encrypted answer.\n",
    "answer = 'c6e10b90290ed2ee26046b9976bf9f02'\n",
    "\n",
    "# Create answer box.\n",
    "text = widgets.Text()\n",
    "display(text)\n",
    "text.on_submit(check_answer)"
   ]
  },
  {
   "cell_type": "markdown",
   "metadata": {},
   "source": [
    "3. Assume the temperature and the number of gas molecules stay constant within a flexible plastic pump. With the pump closed, by what factor does pressure need to change in order for the volume of the pump to be half of its original size? Answer to 1 significant digit."
   ]
  },
  {
   "cell_type": "code",
   "execution_count": 10,
   "metadata": {},
   "outputs": [
    {
     "data": {
      "application/vnd.jupyter.widget-view+json": {
       "model_id": "1721789d5d90443198570e971fbb16e6",
       "version_major": 2,
       "version_minor": 0
      },
      "text/plain": [
       "Text(value='')"
      ]
     },
     "metadata": {},
     "output_type": "display_data"
    },
    {
     "name": "stdout",
     "output_type": "stream",
     "text": [
      "Correct!\n"
     ]
    }
   ],
   "source": [
    "# Encrypted answer.\n",
    "answer = 'c81e728d9d4c2f636f067f89cc14862c'\n",
    "\n",
    "# Create answer box.\n",
    "text = widgets.Text()\n",
    "display(text)\n",
    "text.on_submit(check_answer)"
   ]
  },
  {
   "cell_type": "markdown",
   "metadata": {},
   "source": [
    "<h1><a name=\"conclusion\" style=\"text-decoration: none; color: black;\">Conclusion</a></h1>\n",
    "\n",
    "In this section, we discussed the inversely proportional relationship between pressure and volume. This is expressed as Boyle's Law, which has its basis in kinetic molecular theory."
   ]
  },
  {
   "cell_type": "markdown",
   "metadata": {},
   "source": [
    "<img width=\"100%\" src=\"GasLawsImages/callystoBannerBottom.jpg\"/>"
   ]
  }
 ],
 "metadata": {
  "kernelspec": {
   "display_name": "Python 3",
   "language": "python",
   "name": "python3"
  },
  "language_info": {
   "codemirror_mode": {
    "name": "ipython",
    "version": 3
   },
   "file_extension": ".py",
   "mimetype": "text/x-python",
   "name": "python",
   "nbconvert_exporter": "python",
   "pygments_lexer": "ipython3",
   "version": "3.7.0"
  }
 },
 "nbformat": 4,
 "nbformat_minor": 2
}
