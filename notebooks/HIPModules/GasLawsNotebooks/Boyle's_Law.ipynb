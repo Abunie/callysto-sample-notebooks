{
 "cells": [
  {
   "cell_type": "markdown",
   "metadata": {},
   "source": [
    "# Table of Contents\n",
    "1. Boyle's Law\n"
   ]
  },
  {
   "cell_type": "markdown",
   "metadata": {},
   "source": [
    "# Boyle's Law\n",
    "How does the air pressure in your lungs and the volume of your lungs relate to help you breathe? When you breath out, you first greatly decrease the volume of your lungs. This increases the pressure exerted both on and by the air in your lungs, forcing the air out. When you breathe in, you first increase the volume of your lungs, and create an area of low air pressure in your lungs. Air from your environment then rushes into your lungs in an effort to re-establish equilibrium, and then the process repeats.\n",
    "\n",
    "The pressure and volume of a gas, assuming constant temperature, have a inverse relationship, and without this we would be unable to breathe. Through experimentation, in 1662 Robert Boyle was able to derive this relationship. Boyle's Law is as follows:\n",
    "\n",
    "$$\n",
    "\\huge\n",
    "PV = k\n",
    "$$\n",
    "\n",
    "Where P is the pressure in the system, V is the volume, and k is a system-specific constant. You do not need to learn about k in Chemistry 20.\n",
    "\n",
    "If you recall back to kinetic molecular theory, the space the *isolated* gas particles occupy is considered the volume of the gas, and the pressure is the collective force the gas particles exert on the walls of its container. If the external pressure is increased, the volume available for the gas molecules is decreased. As a result, the gas molecules become closer together and will collide with each other and with the wall of the container more frequently. As the number of collisions increases, the average force exerted by the gas molecules is increased.\n",
    "\n",
    "For the purposes of Chemistry 20 is better to understand Boyle's Law as the following equation:\n",
    "\n",
    "$$\n",
    "\\huge\n",
    "P_1V_1 = P_2V_2\n",
    "$$\n",
    "\n",
    "This equation shows how changing pressure or volume impacts the other quantity when there is a change in the system. The P/V with the one subscript are the initial pressure and volume, and the P/V with two as a subscript are the quantities after the change. Use this equation for questions relating to Boyle's Law - the equation with k is not tested in the Chemistry 20 curriculum."
   ]
  },
  {
   "cell_type": "code",
   "execution_count": 1,
   "metadata": {},
   "outputs": [
    {
     "data": {
      "text/html": [
       "\n",
       "        <iframe\n",
       "            width=\"400\"\n",
       "            height=\"300\"\n",
       "            src=\"https://www.youtube.com/embed/27yqJ9vJ5kQ\"\n",
       "            frameborder=\"0\"\n",
       "            allowfullscreen\n",
       "        ></iframe>\n",
       "        "
      ],
      "text/plain": [
       "<IPython.lib.display.YouTubeVideo at 0x10b87cf28>"
      ]
     },
     "metadata": {},
     "output_type": "display_data"
    }
   ],
   "source": [
    "# Here is a youtube video that is about Boyle's Law.\n",
    "# Run this code segment to bring the video into this Callysto notebook.\n",
    "\n",
    "from IPython.lib.display import YouTubeVideo\n",
    "display(YouTubeVideo('27yqJ9vJ5kQ'))"
   ]
  },
  {
   "cell_type": "markdown",
   "metadata": {},
   "source": [
    "It is important to understand that Boyle's Law is a special case for a gas system where temperature is constant. If in your studies you see a question where pressure or volume are being manipulated and temperature is either explicitly or implicitly stated to be constant, this question is addressing and testing Boyle's Law."
   ]
  },
  {
   "cell_type": "markdown",
   "metadata": {},
   "source": [
    "# Experiment\n",
    "Let's say we want to find the pressure in an adult male test subject's lungs when they are expanded to maximum capacity. The average lung capacity of an adult human male is 6.0L. We will test random lung capacities for N trials, and see how Boyle's Law shapes the relationship between pressure and volume."
   ]
  },
  {
   "cell_type": "code",
   "execution_count": null,
   "metadata": {},
   "outputs": [],
   "source": [
    "# Change the variables in this cell to create your own experiment!\n",
    "\n",
    "# Max volume in liters.\n",
    "volume = 6\n",
    "\n",
    "# Number of trials.\n",
    "N = 100"
   ]
  },
  {
   "cell_type": "code",
   "execution_count": null,
   "metadata": {},
   "outputs": [],
   "source": [
    "# Imports, borrowing code from a 'library' that is used to generate the graph.\n",
    "import plotly.offline as py\n",
    "from plotly.offline import init_notebook_mode, iplot\n",
    "import plotly.graph_objs as go\n",
    "import numpy as np\n",
    "from numpy import random as rand\n",
    "import math\n",
    "init_notebook_mode(connected=True)\n",
    "\n",
    "# Initialize data sets. This makes sure it does not graph old data from previous experiments.\n",
    "gx = []\n",
    "gy = []\n",
    "trials = []\n",
    "\n",
    "# Constant multiple in Boyle's Law.\n",
    "kB = 1\n",
    "\n",
    "# Boyle's Law is technically PV = k, where k is constant for that specific system, (It varies between systems.)\n",
    "# and P1V1 = P2V2 is only a result of this relationship. Students do not need to learn this however.\n",
    "# For simplicity k is set to 1.\n",
    "\n",
    "# Randomly generate data based on user defined volume and number of trials.\n",
    "for i in range(0, N):\n",
    "    temp = rand.random_sample() * volume\n",
    "    \n",
    "    # Prevent large outliers.\n",
    "    # The limit is arbitrary, it is just so the graph looks nice and so the relationship is clearly defined.\n",
    "    limit = rand.random_sample() + 1\n",
    "    while(kB/temp > volume/limit):\n",
    "        temp = rand.random_sample() * volume\n",
    "    \n",
    "    # Adds standard deviation to points (For more info see Intro to Standard Deviation).\n",
    "    outputx = rand.uniform(temp-(rand.random_sample()/3), temp+(rand.random_sample()/3))\n",
    "    outputy = rand.uniform((kB/temp)-(rand.random_sample()/3), (kB/temp)+(rand.random_sample()/3))\n",
    "    \n",
    "    # Add the values to the list of data.\n",
    "    trials.append((outputx, outputy))\n",
    "    gx.append(outputx)\n",
    "    gy.append(outputy)\n",
    "\n",
    "# Organizes data.\n",
    "trace = go.Scatter(x=gx, y=gy, mode='markers')\n",
    "\n",
    "# Labels graph.\n",
    "templayout = go.Layout(title='Pressure vs. Volume', xaxis=dict(title='Volume'), yaxis=dict(title='Pressure'))\n",
    "\n",
    "# Renders graph. \n",
    "tempdata = [trace]\n",
    "fig = go.Figure(data=tempdata, layout=templayout)\n",
    "py.iplot(fig, filename='scatter-plot')"
   ]
  },
  {
   "cell_type": "code",
   "execution_count": null,
   "metadata": {},
   "outputs": [],
   "source": [
    "import pandas as pd\n",
    "\n",
    "labels = ['Volume', 'Pressure']\n",
    "trials.sort()\n",
    "df = pd.DataFrame.from_records(trials, columns=labels)\n",
    "\n",
    "df.iloc[0, 1] = np.nan\n",
    "df.iloc[5, 0] = np.nan\n",
    "df.iloc[10, 1] = np.nan\n",
    "\n",
    "df.head\n",
    "df.style"
   ]
  },
  {
   "cell_type": "markdown",
   "metadata": {},
   "source": [
    "# Lab Question\n",
    "1. In an actual experiment, there is sometimes some element of error, which can prevent us from yielding the correct (or any) values. Assuming the experiment took place at room temperature (25 degrees C), using any of the other complete data pairs, predict the values of 'nan'."
   ]
  },
  {
   "cell_type": "markdown",
   "metadata": {},
   "source": [
    "# Questions\n",
    "There are three questions below that test Boyle's Law. There is a code segment that you can run after each question to check your answer. Before you do so though, run the code segment below this text. Each of the answers are encrypted, and this code decrypts it in order to test if it is correct. To be extra clear, the long string of characters and numbers such as `845e85fa64a2d6037055beba19fe0bd8` that you will see is not the answer, it is the encrypted answer. Furthermore, round to the nearest significant figure."
   ]
  },
  {
   "cell_type": "code",
   "execution_count": 14,
   "metadata": {},
   "outputs": [],
   "source": [
    "# ANSWER HANDLING.\n",
    "\n",
    "# Imports.\n",
    "from IPython.display import display \n",
    "from ipywidgets import widgets\n",
    "import hashlib\n",
    "\n",
    "# Check the answer given by the student.\n",
    "def check_answer(x):\n",
    "    temp = None\n",
    "    try:\n",
    "        temp = hashlib.md5(str.encode(str(text.value))).hexdigest()\n",
    "        #print(\"This is the hash: \", temp)\n",
    "    except:\n",
    "        print(\"Not a number.\")\n",
    "    if(temp == answer):\n",
    "        print(\"Correct!\")\n",
    "    else:\n",
    "        print(\"Incorrect. Try again!\")"
   ]
  },
  {
   "cell_type": "markdown",
   "metadata": {},
   "source": [
    "1. Assume the temperature and the number of gas molecules stay constant within the adult’s lung. Initially, the capacity of the lung is 3.4 liters, and the pressure in the adult’s lung is 15 mmHg. When the lung is expanded to the maximum capacity (average maximum capacity of adult's lung is 6 liters), use Boyle’s Law to determine the new pressure in mmHg within the adult’s lung. "
   ]
  },
  {
   "cell_type": "code",
   "execution_count": 15,
   "metadata": {},
   "outputs": [
    {
     "data": {
      "application/vnd.jupyter.widget-view+json": {
       "model_id": "0bda4fde743f4203a81504533d3a0a59",
       "version_major": 2,
       "version_minor": 0
      },
      "text/plain": [
       "Text(value='')"
      ]
     },
     "metadata": {},
     "output_type": "display_data"
    }
   ],
   "source": [
    "# Encrypted answer.\n",
    "answer = '845e85fa64a2d6037055beba19fe0bd8'\n",
    "\n",
    "# Create answer box.\n",
    "text = widgets.Text()\n",
    "display(text)\n",
    "text.on_submit(check_answer)"
   ]
  },
  {
   "cell_type": "markdown",
   "metadata": {},
   "source": [
    "# Conclusion\n",
    "In this section, we discussed the inversely proportional relationship between pressure and volume. This is expressed as Boyle's Law, which has its basis in kinetic molecular theory."
   ]
  }
 ],
 "metadata": {
  "kernelspec": {
   "display_name": "Python 3",
   "language": "python",
   "name": "python3"
  },
  "language_info": {
   "codemirror_mode": {
    "name": "ipython",
    "version": 3
   },
   "file_extension": ".py",
   "mimetype": "text/x-python",
   "name": "python",
   "nbconvert_exporter": "python",
   "pygments_lexer": "ipython3",
   "version": "3.6.5"
  }
 },
 "nbformat": 4,
 "nbformat_minor": 2
}
