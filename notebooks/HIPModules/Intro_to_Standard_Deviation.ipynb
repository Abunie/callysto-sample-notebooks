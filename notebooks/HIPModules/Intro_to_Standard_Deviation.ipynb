{
 "cells": [
  {
   "cell_type": "markdown",
   "metadata": {},
   "source": [
    "# Background / Pre-requisites\n",
    "Assumes student understands square roots and mean calculation."
   ]
  },
  {
   "cell_type": "markdown",
   "metadata": {},
   "source": [
    "# Introduction\n",
    "The standard deviation of a graphed relationship is key to understanding the significance of the relationship and to determine the strength of the relationship. \n",
    "standard deviation measures the spread of each data point from the mean value."
   ]
  },
  {
   "cell_type": "markdown",
   "metadata": {},
   "source": [
    "# Standard Deviation Overview\n"
   ]
  },
  {
   "cell_type": "code",
   "execution_count": 10,
   "metadata": {},
   "outputs": [],
   "source": [
    "# Change the variables in this cell to create your own experiment!\n",
    "\n",
    "# Max volume in liters.\n",
    "height = 175.6\n",
    "\n",
    "# Number of trials.\n",
    "N = 100"
   ]
  },
  {
   "cell_type": "code",
   "execution_count": 16,
   "metadata": {},
   "outputs": [
    {
     "data": {
      "text/html": [
       "<script>requirejs.config({paths: { 'plotly': ['https://cdn.plot.ly/plotly-latest.min']},});if(!window.Plotly) {{require(['plotly'],function(plotly) {window.Plotly=plotly;});}}</script>"
      ],
      "text/vnd.plotly.v1+html": [
       "<script>requirejs.config({paths: { 'plotly': ['https://cdn.plot.ly/plotly-latest.min']},});if(!window.Plotly) {{require(['plotly'],function(plotly) {window.Plotly=plotly;});}}</script>"
      ]
     },
     "metadata": {},
     "output_type": "display_data"
    },
    {
     "data": {
      "application/vnd.plotly.v1+json": {
       "data": [
        {
         "mode": "markers",
         "type": "scatter",
         "uid": "3e3445d2-860a-11e8-8c2a-28cfe9142f7f",
         "x": [
          148.13326287312313,
          164.23686567824248,
          36.87771750165109,
          53.682091178094254,
          111.64407622993319,
          115.27282283015533,
          96.03002699729339,
          159.63586664171797,
          61.63338966726211,
          76.19708795309886,
          173.38464172461659,
          130.30812953457232,
          134.7532046090613,
          37.58900322897326,
          101.93422471938437,
          148.52642753346584,
          119.04392611571691,
          17.87873775795117,
          157.65151393227876,
          13.036731416750124,
          107.69776991541244,
          89.30127705228857,
          24.67014416512575,
          55.53389413945159,
          96.47245231136827,
          126.87041366038858,
          34.95868981417651,
          13.65696737369806,
          128.48007129303963,
          9.233624595270195,
          29.79134843800583,
          13.946378045464005,
          50.859566027359314,
          35.19880382506621,
          116.80909009153962,
          33.22894233916265,
          47.914477907296835,
          107.51365728238883,
          44.001306365825386,
          27.82599178318953,
          128.3953336989819,
          69.52617692777024,
          172.22494536152513,
          143.1177931415782,
          101.7562513023993,
          173.74421691402293,
          128.34803549207274,
          65.23747454891136,
          147.08881902316898,
          15.488588245367376,
          9.725285971603872,
          24.62691221052458,
          139.400215036873,
          148.02853128586733,
          139.88148446200142,
          120.62693149161103,
          143.20372387476985,
          163.47040408367056,
          60.29382765909307,
          150.2625714609615,
          71.47948907348866,
          70.32390117229397,
          75.80853612911227,
          122.12607254122493,
          135.7586087782053,
          115.6655496447743,
          55.91027008287317,
          70.92589303411583,
          79.47556792246152,
          88.96285763126933,
          34.59780871262872,
          158.43013521379285,
          77.49688238048351,
          144.9790789737951,
          25.093638204923007,
          2.907934321192762,
          107.50196484175247,
          101.316843472573,
          123.80552843311719,
          56.864788367209705,
          168.06407485200143,
          22.127844627621588,
          38.15447118702499,
          133.73637685591135,
          28.36129362917815,
          96.43660259736505,
          43.87727785750602,
          38.21313438117708,
          28.220712523148705,
          24.671021956891142,
          64.64115094155025,
          75.12894016684406,
          25.0599983392922,
          165.97822222882613,
          73.96571293871908,
          169.47458506744343,
          60.41903642843695,
          31.068472483215384,
          28.956924389264103,
          130.75674555348732
         ],
         "y": [
          0.7997906637886558,
          103.25450860679898,
          8.092546027548718,
          1.7065822762831218,
          46.34232815922009,
          25.227368269557672,
          38.101744504321694,
          98.4499367112279,
          6.268946443007131,
          37.879514787740916,
          113.23578359452983,
          2.256023735618342,
          28.053383566355492,
          9.817704605983195,
          26.64945044996024,
          51.669236823754886,
          37.116606351379446,
          8.944582133711597,
          64.74513517340263,
          11.716288939014985,
          20.406778378866292,
          8.469833668814957,
          3.512425817246175,
          17.34837902036233,
          63.4640853415273,
          118.43058430443152,
          9.664503291810348,
          4.825058670724765,
          98.61575313048772,
          2.563380060666433,
          15.08421761563781,
          12.165067131236592,
          15.597514264729895,
          7.735342256058118,
          4.838726248723361,
          0.7597543512283167,
          26.60274726212877,
          32.83267570440127,
          33.676340769918255,
          26.144282053743883,
          126.44215520827659,
          58.76035163741374,
          33.63680839389855,
          139.42875433415028,
          5.6803722776342624,
          6.441593587233683,
          73.86978404286188,
          53.3488877979989,
          77.21274362412633,
          13.953836601802406,
          4.205655171243465,
          18.308962068545057,
          73.76762675111522,
          8.585423284687892,
          14.213307760042383,
          72.48385754839563,
          74.59485553700137,
          61.31162584895496,
          32.1488147406927,
          75.19018990501466,
          39.50141584444043,
          52.46661115251699,
          54.621512825609145,
          9.224462189242871,
          5.8275075658961555,
          100.52319521690342,
          4.580204201300631,
          62.37982740318847,
          62.24686768354215,
          13.374100611450828,
          21.069986487348682,
          129.90397911048885,
          33.286315248888,
          5.050632928076794,
          10.158173384441563,
          1.8048835566657586,
          18.734446264217254,
          71.38681481938067,
          92.08791202079783,
          1.5988087802254825,
          102.467467120711,
          1.0640441565343899,
          29.16113675869797,
          116.72267357265551,
          15.75723593103509,
          8.384303639215176,
          6.85592961338989,
          21.91672119842051,
          16.862081939584805,
          4.189951935168981,
          10.023044592213836,
          60.694029853882185,
          3.693196531233948,
          54.82746950752278,
          15.689397444208957,
          53.014420793671206,
          29.469032786270056,
          17.412329780524914,
          28.714255479647477,
          24.841378928003593
         ]
        }
       ],
       "layout": {
        "title": "Pressure vs. Volume",
        "xaxis": {
         "title": "Volume"
        },
        "yaxis": {
         "title": "Pressure"
        }
       }
      },
      "text/html": [
       "<div id=\"c58909f6-bfd5-4354-b576-71bf543e15ac\" style=\"height: 525px; width: 100%;\" class=\"plotly-graph-div\"></div><script type=\"text/javascript\">require([\"plotly\"], function(Plotly) { window.PLOTLYENV=window.PLOTLYENV || {};window.PLOTLYENV.BASE_URL=\"https://plot.ly\";\n",
       "        Plotly.plot(\n",
       "            'c58909f6-bfd5-4354-b576-71bf543e15ac',\n",
       "            [{\"mode\": \"markers\", \"x\": [148.13326287312313, 164.23686567824248, 36.87771750165109, 53.682091178094254, 111.64407622993319, 115.27282283015533, 96.03002699729339, 159.63586664171797, 61.63338966726211, 76.19708795309886, 173.38464172461659, 130.30812953457232, 134.7532046090613, 37.58900322897326, 101.93422471938437, 148.52642753346584, 119.04392611571691, 17.87873775795117, 157.65151393227876, 13.036731416750124, 107.69776991541244, 89.30127705228857, 24.67014416512575, 55.53389413945159, 96.47245231136827, 126.87041366038858, 34.95868981417651, 13.65696737369806, 128.48007129303963, 9.233624595270195, 29.79134843800583, 13.946378045464005, 50.859566027359314, 35.19880382506621, 116.80909009153962, 33.22894233916265, 47.914477907296835, 107.51365728238883, 44.001306365825386, 27.82599178318953, 128.3953336989819, 69.52617692777024, 172.22494536152513, 143.1177931415782, 101.7562513023993, 173.74421691402293, 128.34803549207274, 65.23747454891136, 147.08881902316898, 15.488588245367376, 9.725285971603872, 24.62691221052458, 139.400215036873, 148.02853128586733, 139.88148446200142, 120.62693149161103, 143.20372387476985, 163.47040408367056, 60.29382765909307, 150.2625714609615, 71.47948907348866, 70.32390117229397, 75.80853612911227, 122.12607254122493, 135.7586087782053, 115.6655496447743, 55.91027008287317, 70.92589303411583, 79.47556792246152, 88.96285763126933, 34.59780871262872, 158.43013521379285, 77.49688238048351, 144.9790789737951, 25.093638204923007, 2.907934321192762, 107.50196484175247, 101.316843472573, 123.80552843311719, 56.864788367209705, 168.06407485200143, 22.127844627621588, 38.15447118702499, 133.73637685591135, 28.36129362917815, 96.43660259736505, 43.87727785750602, 38.21313438117708, 28.220712523148705, 24.671021956891142, 64.64115094155025, 75.12894016684406, 25.0599983392922, 165.97822222882613, 73.96571293871908, 169.47458506744343, 60.41903642843695, 31.068472483215384, 28.956924389264103, 130.75674555348732], \"y\": [0.7997906637886558, 103.25450860679898, 8.092546027548718, 1.7065822762831218, 46.34232815922009, 25.227368269557672, 38.101744504321694, 98.4499367112279, 6.268946443007131, 37.879514787740916, 113.23578359452983, 2.256023735618342, 28.053383566355492, 9.817704605983195, 26.64945044996024, 51.669236823754886, 37.116606351379446, 8.944582133711597, 64.74513517340263, 11.716288939014985, 20.406778378866292, 8.469833668814957, 3.512425817246175, 17.34837902036233, 63.4640853415273, 118.43058430443152, 9.664503291810348, 4.825058670724765, 98.61575313048772, 2.563380060666433, 15.08421761563781, 12.165067131236592, 15.597514264729895, 7.735342256058118, 4.838726248723361, 0.7597543512283167, 26.60274726212877, 32.83267570440127, 33.676340769918255, 26.144282053743883, 126.44215520827659, 58.76035163741374, 33.63680839389855, 139.42875433415028, 5.6803722776342624, 6.441593587233683, 73.86978404286188, 53.3488877979989, 77.21274362412633, 13.953836601802406, 4.205655171243465, 18.308962068545057, 73.76762675111522, 8.585423284687892, 14.213307760042383, 72.48385754839563, 74.59485553700137, 61.31162584895496, 32.1488147406927, 75.19018990501466, 39.50141584444043, 52.46661115251699, 54.621512825609145, 9.224462189242871, 5.8275075658961555, 100.52319521690342, 4.580204201300631, 62.37982740318847, 62.24686768354215, 13.374100611450828, 21.069986487348682, 129.90397911048885, 33.286315248888, 5.050632928076794, 10.158173384441563, 1.8048835566657586, 18.734446264217254, 71.38681481938067, 92.08791202079783, 1.5988087802254825, 102.467467120711, 1.0640441565343899, 29.16113675869797, 116.72267357265551, 15.75723593103509, 8.384303639215176, 6.85592961338989, 21.91672119842051, 16.862081939584805, 4.189951935168981, 10.023044592213836, 60.694029853882185, 3.693196531233948, 54.82746950752278, 15.689397444208957, 53.014420793671206, 29.469032786270056, 17.412329780524914, 28.714255479647477, 24.841378928003593], \"type\": \"scatter\", \"uid\": \"3e3445d2-860a-11e8-8c2a-28cfe9142f7f\"}],\n",
       "            {\"title\": \"Pressure vs. Volume\", \"xaxis\": {\"title\": \"Volume\"}, \"yaxis\": {\"title\": \"Pressure\"}},\n",
       "            {\"showLink\": true, \"linkText\": \"Export to plot.ly\"}\n",
       "        ).then(function () {return Plotly.addFrames('c58909f6-bfd5-4354-b576-71bf543e15ac',{});}).then(function(){Plotly.animate('c58909f6-bfd5-4354-b576-71bf543e15ac');})\n",
       "        });</script>"
      ],
      "text/vnd.plotly.v1+html": [
       "<div id=\"c58909f6-bfd5-4354-b576-71bf543e15ac\" style=\"height: 525px; width: 100%;\" class=\"plotly-graph-div\"></div><script type=\"text/javascript\">require([\"plotly\"], function(Plotly) { window.PLOTLYENV=window.PLOTLYENV || {};window.PLOTLYENV.BASE_URL=\"https://plot.ly\";\n",
       "        Plotly.plot(\n",
       "            'c58909f6-bfd5-4354-b576-71bf543e15ac',\n",
       "            [{\"mode\": \"markers\", \"x\": [148.13326287312313, 164.23686567824248, 36.87771750165109, 53.682091178094254, 111.64407622993319, 115.27282283015533, 96.03002699729339, 159.63586664171797, 61.63338966726211, 76.19708795309886, 173.38464172461659, 130.30812953457232, 134.7532046090613, 37.58900322897326, 101.93422471938437, 148.52642753346584, 119.04392611571691, 17.87873775795117, 157.65151393227876, 13.036731416750124, 107.69776991541244, 89.30127705228857, 24.67014416512575, 55.53389413945159, 96.47245231136827, 126.87041366038858, 34.95868981417651, 13.65696737369806, 128.48007129303963, 9.233624595270195, 29.79134843800583, 13.946378045464005, 50.859566027359314, 35.19880382506621, 116.80909009153962, 33.22894233916265, 47.914477907296835, 107.51365728238883, 44.001306365825386, 27.82599178318953, 128.3953336989819, 69.52617692777024, 172.22494536152513, 143.1177931415782, 101.7562513023993, 173.74421691402293, 128.34803549207274, 65.23747454891136, 147.08881902316898, 15.488588245367376, 9.725285971603872, 24.62691221052458, 139.400215036873, 148.02853128586733, 139.88148446200142, 120.62693149161103, 143.20372387476985, 163.47040408367056, 60.29382765909307, 150.2625714609615, 71.47948907348866, 70.32390117229397, 75.80853612911227, 122.12607254122493, 135.7586087782053, 115.6655496447743, 55.91027008287317, 70.92589303411583, 79.47556792246152, 88.96285763126933, 34.59780871262872, 158.43013521379285, 77.49688238048351, 144.9790789737951, 25.093638204923007, 2.907934321192762, 107.50196484175247, 101.316843472573, 123.80552843311719, 56.864788367209705, 168.06407485200143, 22.127844627621588, 38.15447118702499, 133.73637685591135, 28.36129362917815, 96.43660259736505, 43.87727785750602, 38.21313438117708, 28.220712523148705, 24.671021956891142, 64.64115094155025, 75.12894016684406, 25.0599983392922, 165.97822222882613, 73.96571293871908, 169.47458506744343, 60.41903642843695, 31.068472483215384, 28.956924389264103, 130.75674555348732], \"y\": [0.7997906637886558, 103.25450860679898, 8.092546027548718, 1.7065822762831218, 46.34232815922009, 25.227368269557672, 38.101744504321694, 98.4499367112279, 6.268946443007131, 37.879514787740916, 113.23578359452983, 2.256023735618342, 28.053383566355492, 9.817704605983195, 26.64945044996024, 51.669236823754886, 37.116606351379446, 8.944582133711597, 64.74513517340263, 11.716288939014985, 20.406778378866292, 8.469833668814957, 3.512425817246175, 17.34837902036233, 63.4640853415273, 118.43058430443152, 9.664503291810348, 4.825058670724765, 98.61575313048772, 2.563380060666433, 15.08421761563781, 12.165067131236592, 15.597514264729895, 7.735342256058118, 4.838726248723361, 0.7597543512283167, 26.60274726212877, 32.83267570440127, 33.676340769918255, 26.144282053743883, 126.44215520827659, 58.76035163741374, 33.63680839389855, 139.42875433415028, 5.6803722776342624, 6.441593587233683, 73.86978404286188, 53.3488877979989, 77.21274362412633, 13.953836601802406, 4.205655171243465, 18.308962068545057, 73.76762675111522, 8.585423284687892, 14.213307760042383, 72.48385754839563, 74.59485553700137, 61.31162584895496, 32.1488147406927, 75.19018990501466, 39.50141584444043, 52.46661115251699, 54.621512825609145, 9.224462189242871, 5.8275075658961555, 100.52319521690342, 4.580204201300631, 62.37982740318847, 62.24686768354215, 13.374100611450828, 21.069986487348682, 129.90397911048885, 33.286315248888, 5.050632928076794, 10.158173384441563, 1.8048835566657586, 18.734446264217254, 71.38681481938067, 92.08791202079783, 1.5988087802254825, 102.467467120711, 1.0640441565343899, 29.16113675869797, 116.72267357265551, 15.75723593103509, 8.384303639215176, 6.85592961338989, 21.91672119842051, 16.862081939584805, 4.189951935168981, 10.023044592213836, 60.694029853882185, 3.693196531233948, 54.82746950752278, 15.689397444208957, 53.014420793671206, 29.469032786270056, 17.412329780524914, 28.714255479647477, 24.841378928003593], \"type\": \"scatter\", \"uid\": \"3e3445d2-860a-11e8-8c2a-28cfe9142f7f\"}],\n",
       "            {\"title\": \"Pressure vs. Volume\", \"xaxis\": {\"title\": \"Volume\"}, \"yaxis\": {\"title\": \"Pressure\"}},\n",
       "            {\"showLink\": true, \"linkText\": \"Export to plot.ly\"}\n",
       "        ).then(function () {return Plotly.addFrames('c58909f6-bfd5-4354-b576-71bf543e15ac',{});}).then(function(){Plotly.animate('c58909f6-bfd5-4354-b576-71bf543e15ac');})\n",
       "        });</script>"
      ]
     },
     "metadata": {},
     "output_type": "display_data"
    }
   ],
   "source": [
    "# Imports, borrowing code from a 'library' that is used to generate the graph.\n",
    "import plotly.offline as py\n",
    "from plotly.offline import init_notebook_mode, iplot\n",
    "import plotly.graph_objs as go\n",
    "import numpy as np\n",
    "from numpy import random as rand\n",
    "import math\n",
    "init_notebook_mode(connected=True)\n",
    "\n",
    "# Initialize data sets. This makes sure it does not graph old data from previous experiments.\n",
    "gx = []\n",
    "gy = []\n",
    "\n",
    "# Constant multiple in Boyle's Law.\n",
    "kB = 1\n",
    "\n",
    "# Boyle's Law is technically PV = k, where k is constant for that specific system, (It varies between systems.)\n",
    "# and P1V1 = P2V2 is only a result of this relationship. Students do not need to learn this however.\n",
    "# For simplicity k is set to 1.\n",
    "\n",
    "# Randomly generate data based on user defined volume and number of trials.\n",
    "for i in range(0, N):\n",
    "    temp = rand.random_sample() * height\n",
    "    \n",
    "    # Prevent large outliers.\n",
    "    # The limit is arbitrary, it is just so the graph looks nice and so the relationship is clearly defined.\n",
    "    limit = rand.random_sample() + 1\n",
    "    while(kB/temp > volume/limit):\n",
    "        temp = rand.random_sample() * height\n",
    "    \n",
    "    # Adds standard deviation to points (For more info see Intro to Standard Deviation).\n",
    "    outputx = rand.uniform(temp-(rand.random_sample()/3), temp+(rand.random_sample()/3))\n",
    "    outputy = rand.uniform((temp)-(rand.random_sample()/3), (kB/temp)+(rand.random_sample()/3))\n",
    "    \n",
    "    # Add the values to the list of data.\n",
    "    gx.append(outputx)\n",
    "    gy.append(outputy)\n",
    "\n",
    "# Organizes data.\n",
    "trace = go.Scatter(x=gx, y=gy, mode='markers')\n",
    "\n",
    "# Labels graph.\n",
    "templayout = go.Layout(title='Pressure vs. Volume', xaxis=dict(title='Volume'), yaxis=dict(title='Pressure'))\n",
    "\n",
    "# Renders graph. \n",
    "tempdata = [trace]\n",
    "fig = go.Figure(data=tempdata, layout=templayout)\n",
    "py.iplot(fig, filename='scatter-plot')"
   ]
  },
  {
   "cell_type": "markdown",
   "metadata": {},
   "source": [
    "# Variance\n",
    "The formula of standard deviation can be defined as the square root of the variance. The variance can in turn be defined as the average of a set of values’ squared distances from their mean."
   ]
  },
  {
   "cell_type": "markdown",
   "metadata": {},
   "source": [
    "# Exercise\n",
    "What is the variance of the data set below? Reorder the code cells using the up and down arrows left of the Run button. If you get the order wrong, you will get an error. Close the notebook and shut it down before trying again."
   ]
  },
  {
   "cell_type": "code",
   "execution_count": 1,
   "metadata": {},
   "outputs": [
    {
     "name": "stdout",
     "output_type": "stream",
     "text": [
      "[1, 2, 3, 4, 5]\n"
     ]
    }
   ],
   "source": [
    "#START\n",
    "values = [1, 2, 3, 4, 5]\n",
    "print(values)"
   ]
  },
  {
   "cell_type": "code",
   "execution_count": 2,
   "metadata": {},
   "outputs": [
    {
     "name": "stdout",
     "output_type": "stream",
     "text": [
      "3.0\n"
     ]
    }
   ],
   "source": [
    "value = sum(values)/len(values) #divide the sum of the list of values by the length of the list\n",
    "print(value)"
   ]
  },
  {
   "cell_type": "code",
   "execution_count": 3,
   "metadata": {},
   "outputs": [
    {
     "name": "stdout",
     "output_type": "stream",
     "text": [
      "[0, 1, 4, 9, 16]\n"
     ]
    }
   ],
   "source": [
    "for i in range(len(values)): #for every value in the list\n",
    "  value = i**2 #square the value\n",
    "  values.append(value) #add it to the list\n",
    "del values[0:5] #remove the old list values\n",
    "print(values)"
   ]
  },
  {
   "cell_type": "code",
   "execution_count": 4,
   "metadata": {},
   "outputs": [
    {
     "name": "stdout",
     "output_type": "stream",
     "text": [
      "6.0\n"
     ]
    }
   ],
   "source": [
    "value = sum(values)/len(values) #divide the sum of the list of values by the length of the list\n",
    "print(value)"
   ]
  },
  {
   "cell_type": "code",
   "execution_count": 5,
   "metadata": {},
   "outputs": [
    {
     "name": "stdout",
     "output_type": "stream",
     "text": [
      "[-6.0, 7.0, -5.0, 8.0, -4.0]\n"
     ]
    }
   ],
   "source": [
    "for i in range(len(values)): #for every value in the list\n",
    "  value = i - value #subtract the value by the average\n",
    "  values.append(value) #add it to the list\n",
    "del values[0:5] #remove the old list values\n",
    "print(values)"
   ]
  },
  {
   "cell_type": "code",
   "execution_count": 6,
   "metadata": {},
   "outputs": [
    {
     "name": "stdout",
     "output_type": "stream",
     "text": [
      "-4.0\n"
     ]
    }
   ],
   "source": [
    "#END (answer)\n",
    "print(value)"
   ]
  },
  {
   "cell_type": "code",
   "execution_count": 7,
   "metadata": {},
   "outputs": [
    {
     "data": {
      "application/vnd.jupyter.widget-view+json": {
       "model_id": "a7656fe24065413b941f34750b6f4bc9",
       "version_major": 2,
       "version_minor": 0
      },
      "text/plain": [
       "Text(value='')"
      ]
     },
     "metadata": {},
     "output_type": "display_data"
    }
   ],
   "source": [
    "answer = 6.0\n",
    "\n",
    "from IPython.display import display \n",
    "from ipywidgets import widgets\n",
    "\n",
    "def f(x):\n",
    "    temp = -10000\n",
    "    \n",
    "    print(text.value)\n",
    "    try:\n",
    "        temp = float(text.value)\n",
    "    except:\n",
    "        print(\"Not a num\")\n",
    "    \n",
    "    if(temp == answer):\n",
    "        print(\"Yay!\")\n",
    "    else:\n",
    "        print(\"Whoops! Try again!\")\n",
    "\n",
    "text = widgets.Text()\n",
    "display(text)\n",
    "\n",
    "text.on_submit(f)"
   ]
  },
  {
   "cell_type": "markdown",
   "metadata": {},
   "source": [
    "You might be wondering why we square. Here’s a simplistic explanation: First, it’s important to understand that a negative standard deviation - distance from the predicted value - does not make sense. Second, in order to relate variance to standard deviation, we need to perform operations that can be undone - when you square a value, you can then square root it. If we took the absolute value, then we couldn’t reverse it in a way that accurately depicts the correlation between data. "
   ]
  },
  {
   "cell_type": "markdown",
   "metadata": {},
   "source": [
    "# Standard Deviation of Samples\n",
    "We’ve just calculated the standard deviation of a population - a small data set composed of ten values. A sample is only a section of the total population, so if we were to calculate the standard deviation the same way, our values would be skewed. To compensate for this, instead of dividing by the total number of values when calculating the average of the squared differences, we want to divide by the total number of values minus 1. \n",
    "\n",
    "step 1: calculate the mean (average value) of the data points \n",
    "        by adding up the data points and dividing by the total number of the data point \n",
    "step 2: subtracted the mean value calculated in the first step from each data point which is the deviation\n",
    "step 3: square each deviation calculated in the second step to make each value positive \n",
    "        (in the second step, if the data point is above the mean value, its deviation would be positive \n",
    "                             if the data point is below the mean value, its deviation would be negative)\n",
    "step 4: add up the square deviations that are calculated in the thrid step \n",
    "step 5: divide the sum calculated in the fourth step by one less of the number of the data point \n",
    "step 6: take the square root of the value resulted from step 5"
   ]
  },
  {
   "cell_type": "markdown",
   "metadata": {},
   "source": [
    "# CONCLUSION\n",
    "In this section, we introduced standard deviation for populations and samples, and how variance can be used to calculate both. "
   ]
  }
 ],
 "metadata": {
  "kernelspec": {
   "display_name": "Python 3",
   "language": "python",
   "name": "python3"
  },
  "language_info": {
   "codemirror_mode": {
    "name": "ipython",
    "version": 3
   },
   "file_extension": ".py",
   "mimetype": "text/x-python",
   "name": "python",
   "nbconvert_exporter": "python",
   "pygments_lexer": "ipython3",
   "version": "3.7.0"
  }
 },
 "nbformat": 4,
 "nbformat_minor": 2
}
