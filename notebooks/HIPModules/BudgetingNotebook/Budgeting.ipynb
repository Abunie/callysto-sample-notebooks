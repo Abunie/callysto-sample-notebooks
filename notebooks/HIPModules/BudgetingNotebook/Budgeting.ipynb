{
 "cells": [
  {
   "cell_type": "markdown",
   "metadata": {},
   "source": [
    "<img src=\"src/callystoBannerTop.jpg\"/>"
   ]
  },
  {
   "cell_type": "markdown",
   "metadata": {},
   "source": [
    "# Overview\n",
    "\n",
    "[comment]: # (This curriculum objective is from before the curriculum remake. It may still be an objective after though.)\n",
    "\n",
    "**Learning Objective:**<br>\n",
    "Examine ways to adapt financial plans and spending in response to both planned and unexpected changes in life.\n",
    "https://education.alberta.ca/media/160199/calm.pdf\n",
    "\n",
    "In this notebook we will introduce and work with budgeting for the CALM 20 course. We will discuss the basics and move on to different schools of thought for budgeting and some example situations. There will be a game where the student will try to budget for an imaginary household and prepare for unexpected expenses among other things as the household goes through life. Afterwards we will further dig into the nuances of budgeting, and there will be a section for some questions to test the students understanding of the material. In addition, there will be a summary of what was covered at the end.\n",
    "\n",
    "Contents: \n",
    "\n",
    "- This notebook should take about 30 minutes to complete.\n",
    "- It goes through building a budget and things to consider when doing so.\n",
    "- There is a simulation to help reinforce concepts covered in this notebook."
   ]
  },
  {
   "cell_type": "markdown",
   "metadata": {},
   "source": [
    "# Table of Contents\n",
    "\n",
    "1. <a href=\"#intro\">Introduction</a>\n",
    "2. <a href=\"#before\">Before You Begin to Budget</a>\n",
    "3. <a href=\"#process\">The Budgeting Process</a>"
   ]
  },
  {
   "cell_type": "markdown",
   "metadata": {},
   "source": [
    "<h1><a name=\"intro\" style=\"text-decoration: none; color: black;\">Introduction</a></h1>\n",
    "\n",
    "How does prepare for large financial decisions, or garuntee their income will cover all of their living expenses for a long period of time? No doubt the individual should carefully spend their money, but they mainly are able to achieve this through budgeting. Budgeting is simply the process of creating a plan of how you are going to spend your money in the future. This does not mean you can not get nice things for yourself anymore, it just means doing so responsibly. It may not be the most interesting subject to a lot of people, but budgeting is an essential life skill in our world today."
   ]
  },
  {
   "cell_type": "markdown",
   "metadata": {},
   "source": [
    "<img width=\"50%\" src=\"src/money.jpg\"/>"
   ]
  },
  {
   "cell_type": "markdown",
   "metadata": {},
   "source": [
    "<h1><a name=\"before\" style=\"text-decoration: none; color: black;\">Before You Begin to Budget</a></h1>\n",
    "\n",
    "Before you begin to budget, it is important to set some goals for budgeting. Are you trying to pay for school? A down payment on a house? Or maybe a vacation, or new TV. What is the goal for your budget?\n",
    "\n",
    "In addition, you should also consider:\n",
    "\n",
    "- What is important to you?\n",
    "- What are you willing to sacrifice to meet your goal? What aren't you willing to sacrifice?\n",
    "- What will it take to live the way you want?\n",
    "- Is your goal realistic?\n",
    "\n",
    "**Do not worry about explicitly answering these questions.**\n",
    "\n",
    "Just think about them and keep them in the back of your mind. You can also change your mind on any of your answers whenever you want. A budget is just a plan and it wont be strictly enforced as it is up to you to stick to it. Maybe your feelings change down the line and for example you realize you can't stop eating out as it is too important to you, and thats ok.\n",
    "\n",
    "Also remember that things rarely go according to the budget. You could get sick, layed off, or some other event could drastically change your budget. However, this is why having savings is so important and to some degree you can take into account unexpected expenses into your budget."
   ]
  },
  {
   "cell_type": "markdown",
   "metadata": {},
   "source": [
    "<img width=\"30%\" src=\"src/piggybank.jpg\"/>"
   ]
  },
  {
   "cell_type": "markdown",
   "metadata": {},
   "source": [
    "<h1><a name=\"process\" style=\"text-decoration: none; color: black;\">The Budgeting Process</a></h1>\n",
    "\n",
    "Budgeting follows the following process:\n",
    "\n",
    "1. Set a goal for yourself.\n",
    "    - Either a long term or a short term goal, there just needs to be some purpose to the budgeting.\n",
    "2. Gather data.\n",
    "    - This means tracking all of your expenses and sources of income.\n",
    "3. Forecast future needs.\n",
    "    - Consider fixed expenses such as rent and consider more variable expenses such as food, gas, and clothing.\n",
    "4. Implement your budget.\n",
    "    - Start organizing your finances and begin putting your plan into effect.\n",
    "5. Control your spending.\n",
    "    - Be careful not to splurge when you go shopping for example and only spend the money you set aside for it.\n",
    "6. Evaluate your performance.\n",
    "    - How well were you able to adhear to your budget? Was it a good budget, or was it unrealistic? Were there factors you didn't consider when you initially drafted your budget?"
   ]
  },
  {
   "cell_type": "markdown",
   "metadata": {},
   "source": [
    "# Setting a Goal\n",
    "\n",
    "We discussed this a bit earlier but something we didn't touch on is the difference between long term and short term goals. If it is a long term goal, make sure you set short term mile stones. If for example your ultimate goal is to save \\$15000 for a down payment on a house in 5 years, make sure you save \\$3000 every year, and about \\$250 a month. For a short term goal you should still set milestones, just to a lesser extent. In short, ask yourself these questions:\n",
    "\n",
    "* What is the time frame of my goal?\n",
    "* Is it realisticly achieveable in that time frame?\n",
    "* How will I measure my progress towards achieving my goal?\n",
    "\n",
    "Below is a video that elaborates on one way to go about setting your goal."
   ]
  },
  {
   "cell_type": "code",
   "execution_count": 3,
   "metadata": {},
   "outputs": [
    {
     "data": {
      "text/html": [
       "\n",
       "        <iframe\n",
       "            width=\"400\"\n",
       "            height=\"300\"\n",
       "            src=\"https://www.youtube.com/embed/1-SvuFIQjK8\"\n",
       "            frameborder=\"0\"\n",
       "            allowfullscreen\n",
       "        ></iframe>\n",
       "        "
      ],
      "text/plain": [
       "<IPython.lib.display.YouTubeVideo at 0x1083cf8d0>"
      ]
     },
     "metadata": {},
     "output_type": "display_data"
    }
   ],
   "source": [
    "from IPython.lib.display import YouTubeVideo\n",
    "display(YouTubeVideo('1-SvuFIQjK8'))"
   ]
  },
  {
   "cell_type": "markdown",
   "metadata": {},
   "source": [
    "# Gathering Data\n",
    "\n",
    "Before actually creating your budget, it is important to gather some data to know what income and expenditures you are working with. A good way to do this is to have a notepad around with you and jot down everytime you buy something or earn money. After a while, ideally a month, this will give you a good idea how much money you are spending and how much you are earning. You may be surprised by what you see! Maybe you spend way more than you thought you did on eating out or clothes, but that is ok. Knowledge is power, and now that you know how much you spend on various expenditures you can begin to control your spending."
   ]
  },
  {
   "cell_type": "markdown",
   "metadata": {},
   "source": [
    "# Forecast Future Needs\n",
    "\n",
    "The next step"
   ]
  },
  {
   "cell_type": "markdown",
   "metadata": {},
   "source": [
    "## Control Your Spending\n",
    "\n",
    "use cash always"
   ]
  },
  {
   "cell_type": "markdown",
   "metadata": {},
   "source": [
    "## Evaluate Your Performance"
   ]
  },
  {
   "cell_type": "markdown",
   "metadata": {},
   "source": [
    "# Building the Budget\n",
    "\n",
    "When building a budget, there are a number of schools of thought when it comes to how to distribute one's income and expenses. A common way to build a budget is to set a percentage of one's income dedicated to every given expense. For example, this may be a decent budget if you're single and living on your own: "
   ]
  },
  {
   "cell_type": "code",
   "execution_count": 2,
   "metadata": {},
   "outputs": [
    {
     "data": {
      "text/html": [
       "<script>requirejs.config({paths: { 'plotly': ['https://cdn.plot.ly/plotly-latest.min']},});if(!window.Plotly) {{require(['plotly'],function(plotly) {window.Plotly=plotly;});}}</script>"
      ],
      "text/vnd.plotly.v1+html": [
       "<script>requirejs.config({paths: { 'plotly': ['https://cdn.plot.ly/plotly-latest.min']},});if(!window.Plotly) {{require(['plotly'],function(plotly) {window.Plotly=plotly;});}}</script>"
      ]
     },
     "metadata": {},
     "output_type": "display_data"
    },
    {
     "data": {
      "application/vnd.plotly.v1+json": {
       "data": [
        {
         "labels": [
          "Rent and Utilities",
          "Food",
          "Savings",
          "Spending Money",
          "Other (Clothing, Gym Membership, etc)"
         ],
         "type": "pie",
         "uid": "d16e0288-94fc-11e8-8699-28cfe9142f7f",
         "values": [
          35,
          15,
          20,
          15,
          15
         ]
        }
       ],
       "layout": {
        "title": "Example Budget in Percentages"
       }
      },
      "text/html": [
       "<div id=\"22248697-7e8a-400d-940e-ff1b5f7bffec\" style=\"height: 525px; width: 100%;\" class=\"plotly-graph-div\"></div><script type=\"text/javascript\">require([\"plotly\"], function(Plotly) { window.PLOTLYENV=window.PLOTLYENV || {};window.PLOTLYENV.BASE_URL=\"https://plot.ly\";\n",
       "        Plotly.plot(\n",
       "            '22248697-7e8a-400d-940e-ff1b5f7bffec',\n",
       "            [{\"labels\": [\"Rent and Utilities\", \"Food\", \"Savings\", \"Spending Money\", \"Other (Clothing, Gym Membership, etc)\"], \"values\": [35, 15, 20, 15, 15], \"type\": \"pie\", \"uid\": \"d16e0288-94fc-11e8-8699-28cfe9142f7f\"}],\n",
       "            {\"title\": \"Example Budget in Percentages\"},\n",
       "            {\"showLink\": true, \"linkText\": \"Export to plot.ly\"}\n",
       "        ).then(function () {return Plotly.addFrames('22248697-7e8a-400d-940e-ff1b5f7bffec',{});}).then(function(){Plotly.animate('22248697-7e8a-400d-940e-ff1b5f7bffec');})\n",
       "        });</script>"
      ],
      "text/vnd.plotly.v1+html": [
       "<div id=\"22248697-7e8a-400d-940e-ff1b5f7bffec\" style=\"height: 525px; width: 100%;\" class=\"plotly-graph-div\"></div><script type=\"text/javascript\">require([\"plotly\"], function(Plotly) { window.PLOTLYENV=window.PLOTLYENV || {};window.PLOTLYENV.BASE_URL=\"https://plot.ly\";\n",
       "        Plotly.plot(\n",
       "            '22248697-7e8a-400d-940e-ff1b5f7bffec',\n",
       "            [{\"labels\": [\"Rent and Utilities\", \"Food\", \"Savings\", \"Spending Money\", \"Other (Clothing, Gym Membership, etc)\"], \"values\": [35, 15, 20, 15, 15], \"type\": \"pie\", \"uid\": \"d16e0288-94fc-11e8-8699-28cfe9142f7f\"}],\n",
       "            {\"title\": \"Example Budget in Percentages\"},\n",
       "            {\"showLink\": true, \"linkText\": \"Export to plot.ly\"}\n",
       "        ).then(function () {return Plotly.addFrames('22248697-7e8a-400d-940e-ff1b5f7bffec',{});}).then(function(){Plotly.animate('22248697-7e8a-400d-940e-ff1b5f7bffec');})\n",
       "        });</script>"
      ]
     },
     "metadata": {},
     "output_type": "display_data"
    }
   ],
   "source": [
    "# Run this code to display the graph.\n",
    "\n",
    "import src.chart as sc\n",
    "sc.pie()"
   ]
  },
  {
   "cell_type": "markdown",
   "metadata": {},
   "source": [
    "It is important to understand that though this is an example of a percentage distribution, your budget would be tuned to your needs and circumstances. It may also have more components. Another way you could divide up your income is by alloting a fixed dollar amount for each expense."
   ]
  },
  {
   "cell_type": "code",
   "execution_count": 1,
   "metadata": {},
   "outputs": [
    {
     "data": {
      "text/html": [
       "<script>requirejs.config({paths: { 'plotly': ['https://cdn.plot.ly/plotly-latest.min']},});if(!window.Plotly) {{require(['plotly'],function(plotly) {window.Plotly=plotly;});}}</script>"
      ],
      "text/vnd.plotly.v1+html": [
       "<script>requirejs.config({paths: { 'plotly': ['https://cdn.plot.ly/plotly-latest.min']},});if(!window.Plotly) {{require(['plotly'],function(plotly) {window.Plotly=plotly;});}}</script>"
      ]
     },
     "metadata": {},
     "output_type": "display_data"
    },
    {
     "data": {
      "application/vnd.plotly.v1+json": {
       "data": [
        {
         "type": "bar",
         "uid": "cd94550e-94fc-11e8-8699-28cfe9142f7f",
         "x": [
          "Rent and Utilities",
          "Food",
          "Savings",
          "Spending Money",
          "Other"
         ],
         "y": [
          2000,
          250,
          400,
          200,
          350
         ]
        }
       ],
       "layout": {
        "title": "Budget Assuming $3200 in Total Income"
       }
      },
      "text/html": [
       "<div id=\"e998d98f-6291-42fe-8245-8c752272bc4a\" style=\"height: 525px; width: 100%;\" class=\"plotly-graph-div\"></div><script type=\"text/javascript\">require([\"plotly\"], function(Plotly) { window.PLOTLYENV=window.PLOTLYENV || {};window.PLOTLYENV.BASE_URL=\"https://plot.ly\";\n",
       "        Plotly.plot(\n",
       "            'e998d98f-6291-42fe-8245-8c752272bc4a',\n",
       "            [{\"x\": [\"Rent and Utilities\", \"Food\", \"Savings\", \"Spending Money\", \"Other\"], \"y\": [2000, 250, 400, 200, 350], \"type\": \"bar\", \"uid\": \"cd94550e-94fc-11e8-8699-28cfe9142f7f\"}],\n",
       "            {\"title\": \"Budget Assuming $3200 in Total Income\"},\n",
       "            {\"showLink\": true, \"linkText\": \"Export to plot.ly\"}\n",
       "        ).then(function () {return Plotly.addFrames('e998d98f-6291-42fe-8245-8c752272bc4a',{});}).then(function(){Plotly.animate('e998d98f-6291-42fe-8245-8c752272bc4a');})\n",
       "        });</script>"
      ],
      "text/vnd.plotly.v1+html": [
       "<div id=\"e998d98f-6291-42fe-8245-8c752272bc4a\" style=\"height: 525px; width: 100%;\" class=\"plotly-graph-div\"></div><script type=\"text/javascript\">require([\"plotly\"], function(Plotly) { window.PLOTLYENV=window.PLOTLYENV || {};window.PLOTLYENV.BASE_URL=\"https://plot.ly\";\n",
       "        Plotly.plot(\n",
       "            'e998d98f-6291-42fe-8245-8c752272bc4a',\n",
       "            [{\"x\": [\"Rent and Utilities\", \"Food\", \"Savings\", \"Spending Money\", \"Other\"], \"y\": [2000, 250, 400, 200, 350], \"type\": \"bar\", \"uid\": \"cd94550e-94fc-11e8-8699-28cfe9142f7f\"}],\n",
       "            {\"title\": \"Budget Assuming $3200 in Total Income\"},\n",
       "            {\"showLink\": true, \"linkText\": \"Export to plot.ly\"}\n",
       "        ).then(function () {return Plotly.addFrames('e998d98f-6291-42fe-8245-8c752272bc4a',{});}).then(function(){Plotly.animate('e998d98f-6291-42fe-8245-8c752272bc4a');})\n",
       "        });</script>"
      ]
     },
     "metadata": {},
     "output_type": "display_data"
    }
   ],
   "source": [
    "# Run this code to display the graph.\n",
    "\n",
    "import src.chart as sc\n",
    "sc.bar()"
   ]
  },
  {
   "cell_type": "markdown",
   "metadata": {},
   "source": [
    "Reference\n",
    "\n",
    "https://www.lehigh.edu/~sgb2/L3%20Budgeting.pdf\n",
    "\n",
    "https://www.practicalmoneyskills.ca/personalfinance/savingspending/budgeting/\n",
    "\n"
   ]
  },
  {
   "cell_type": "markdown",
   "metadata": {},
   "source": [
    "<img width=\"100%\" src=\"src/callystoBannerBottom.jpg\"/>"
   ]
  }
 ],
 "metadata": {
  "kernelspec": {
   "display_name": "Python 3",
   "language": "python",
   "name": "python3"
  },
  "language_info": {
   "codemirror_mode": {
    "name": "ipython",
    "version": 3
   },
   "file_extension": ".py",
   "mimetype": "text/x-python",
   "name": "python",
   "nbconvert_exporter": "python",
   "pygments_lexer": "ipython3",
   "version": "3.6.5"
  }
 },
 "nbformat": 4,
 "nbformat_minor": 2
}
