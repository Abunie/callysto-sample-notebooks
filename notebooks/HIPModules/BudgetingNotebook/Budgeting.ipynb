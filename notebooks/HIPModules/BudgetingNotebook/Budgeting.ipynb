{
 "cells": [
  {
   "cell_type": "markdown",
   "metadata": {},
   "source": [
    "<img src=\"callystoBannerTop.jpg\"/>"
   ]
  },
  {
   "cell_type": "markdown",
   "metadata": {},
   "source": [
    "# Overview\n",
    "\n",
    "[comment]: # (This curriculum objective is from before the curriculum remake. It may still be an objective after though.)\n",
    "\n",
    "**Learning Objective:**<br>\n",
    "Examine ways to adapt financial plans and spending in response to both planned and unexpected changes in life.\n",
    "https://education.alberta.ca/media/160199/calm.pdf\n",
    "\n",
    "In this notebook we will introduce and work with budgeting for the CALM 20 course. We will discuss the basics and move on to different schools of thought for budgeting and some example situations. There will be a game where the student will try to budget for an imaginary household and prepare for unexpected expenses among other things as the household goes through life. Afterwards we will further dig into the nuances of budgeting, and there will be a section for some questions to test the students understanding of the material. In addition, there will be a summary of what was covered at the end."
   ]
  },
  {
   "cell_type": "markdown",
   "metadata": {},
   "source": [
    "# Table of Contents\n",
    "\n",
    "1. <a href=\"\">Introduction</a>\n",
    "2. <a href=\"\">NotIntroduction</a>"
   ]
  },
  {
   "cell_type": "markdown",
   "metadata": {},
   "source": [
    "# Introduction\n",
    "\n",
    "organizing "
   ]
  },
  {
   "cell_type": "code",
   "execution_count": null,
   "metadata": {},
   "outputs": [],
   "source": [
    "budgetting simulation story thing"
   ]
  },
  {
   "cell_type": "code",
   "execution_count": null,
   "metadata": {},
   "outputs": [],
   "source": [
    "callysto logo"
   ]
  }
 ],
 "metadata": {
  "kernelspec": {
   "display_name": "Python 3",
   "language": "python",
   "name": "python3"
  },
  "language_info": {
   "codemirror_mode": {
    "name": "ipython",
    "version": 3
   },
   "file_extension": ".py",
   "mimetype": "text/x-python",
   "name": "python",
   "nbconvert_exporter": "python",
   "pygments_lexer": "ipython3",
   "version": "3.6.5"
  }
 },
 "nbformat": 4,
 "nbformat_minor": 2
}
