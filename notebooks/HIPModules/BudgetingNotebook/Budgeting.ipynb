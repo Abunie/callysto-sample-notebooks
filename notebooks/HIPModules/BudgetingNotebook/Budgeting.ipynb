{
 "cells": [
  {
   "cell_type": "markdown",
   "metadata": {},
   "source": [
    "<img src=\"src/callystoBannerTop.jpg\"/>"
   ]
  },
  {
   "cell_type": "markdown",
   "metadata": {},
   "source": [
    "# Overview\n",
    "\n",
    "[comment]: # (This curriculum objective is from before the curriculum remake. It may still be an objective after though.)\n",
    "\n",
    "**Curriculum Objective:**<br>\n",
    "Examine ways to adapt financial plans and spending in response to both planned and unexpected changes in life.\n",
    "https://education.alberta.ca/media/160199/calm.pdf\n",
    "\n",
    "**Learning Objective:**<br>\n",
    "Students will be able to take away the basics of budgeting.\n",
    "\n",
    "In this notebook we will introduce and work with budgeting for the CALM 20 course. We will discuss the basics of prioritizing and move on to different schools of thought for budgeting and some example situations. Afterwards we will further dig into the nuances of budgeting, and there will be a section for some questions to test the students understanding of the material. In addition, there will be a summary of what was covered at the end.\n",
    "\n",
    "Notebook overview: \n",
    "\n",
    "- This notebook should take about 30 minutes to complete.\n",
    "- It goes through building a budget and things to consider when doing so.\n",
    "- There some basic code for graphing data."
   ]
  },
  {
   "cell_type": "markdown",
   "metadata": {},
   "source": [
    "# Table of Contents\n",
    "\n",
    "1. <a href=\"#intro\">Introduction</a>\n",
    "2. <a href=\"#before\">Before You Begin to Budget</a>\n",
    "3. <a href=\"#process\">The Budgeting Process</a><br>\n",
    "    - <a href=\"#goal\">Setting a Goal</a>\n",
    "    - <a href=\"#data\">Gathering Data</a>\n",
    "    - <a href=\"#needs\">Forecasting Future Needs</a>\n",
    "    - <a href=\"#build\">Build the Budget</a>\n",
    "    - <a href=\"#evaluate\">Evaluating Your Performance</a>\n",
    "\n",
    "\n",
    "4. <a href=\"#graph\">Graphing Your Budget</a>\n",
    "5. <a href=\"#conclusion\">Conclusion</a>\n",
    "6. <a href=\"#references\">References</a>"
   ]
  },
  {
   "cell_type": "markdown",
   "metadata": {},
   "source": [
    "<h1><a name=\"intro\" style=\"text-decoration: none; color: black;\">Introduction</a></h1>\n",
    "\n",
    "How does one prepare for large financial decisions, or guaruntee one's income will cover all of their living expenses for an extended period of time? No doubt the individual should carefully spend their money, but one would have the best chance of achieving their goals if they made and followed a budget. Budgeting is simply the process of creating a plan of how you are going to spend your money in the future. This does not mean you can not get nice things for yourself anymore, it just means that you would do so responsibly. Budgeting is an essential life skill in our world today."
   ]
  },
  {
   "cell_type": "markdown",
   "metadata": {},
   "source": [
    "<img width=\"50%\" src=\"src/money.jpg\"/>"
   ]
  },
  {
   "cell_type": "markdown",
   "metadata": {},
   "source": [
    "<h1><a name=\"before\" style=\"text-decoration: none; color: black;\">Before You Begin to Budget</a></h1>\n",
    "\n",
    "Before you begin to budget, it is important to set some goals for budgeting. Are you trying to pay for school? A down payment on a house? Or maybe a vacation, or new TV. What is the goal for your budget? It is important to have a tangible goal so your planning has a direction, and so you can track your progress.\n",
    "\n",
    "In addition, you should also consider:\n",
    "\n",
    "- What is important to you?\n",
    "- What are you willing to sacrifice to meet your goal? What aren't you willing to sacrifice?\n",
    "- What will it take to live the way you want?\n",
    "- Is your goal realistic?\n",
    "\n",
    "**Do not worry about explicitly answering these questions.**\n",
    "\n",
    "Just think about them and keep them in the back of your mind. You can also change your mind on any of your answers whenever you want. A budget is just a plan and it wont be strictly enforced as it is up to you to stick to it. Maybe your feelings change down the line and for example you realize you can't stop eating out as it is too important to you, and thats ok.\n",
    "\n",
    "Also remember that things rarely go according to the budget. You could get sick, layed off, or some other event could drastically change your budget. However, this is why having savings to fall back on is so important."
   ]
  },
  {
   "cell_type": "markdown",
   "metadata": {},
   "source": [
    "<img width=\"30%\" src=\"src/piggybank.jpg\"/>"
   ]
  },
  {
   "cell_type": "markdown",
   "metadata": {},
   "source": [
    "<h1><a name=\"process\" style=\"text-decoration: none; color: black;\">The Budgeting Process</a></h1>\n",
    "\n",
    "Budgeting follows the following process:\n",
    "\n",
    "1. Set a goal for yourself.   \n",
    "    \n",
    "    * Either a long term or a short term goal, there just needs to be some purpose to the budgeting.\n",
    "    \n",
    "    \n",
    "2. Gather data.\n",
    "\n",
    "    * This means tracking all of your expenses and sources of income for a bit to learn more about your situation.\n",
    "\n",
    "\n",
    "3. Forecast future needs.\n",
    "\n",
    "    * Consider fixed expenses such as rent and consider more variable expenses such as food, gas, and clothing.\n",
    "\n",
    "\n",
    "4. Implement your budget.\n",
    "\n",
    "    * Start organizing your finances and begin putting your plan into effect.\n",
    "\n",
    "\n",
    "5. Evaluate your performance.\n",
    "\n",
    "    * How well were you able to adhear to your budget? Was it a good budget, or was it unrealistic? Were there factors you didn't consider when you initially drafted your budget?"
   ]
  },
  {
   "cell_type": "markdown",
   "metadata": {},
   "source": [
    "<h1><a name=\"goal\" style=\"text-decoration: none; color: black;\">Setting a Goal</a></h1>\n",
    "\n",
    "We discussed this a bit earlier but something we didn't touch on is the difference between long term and short term goals. If it is a long term goal, make sure you set short term mile stones. If for example your ultimate goal is to save \\$15000 for a down payment on a house in 5 years, make sure you save \\$3000 every year, and about \\$250 a month. For a short term goal you should still set milestones, just to a lesser extent. In short, ask yourself these questions:\n",
    "\n",
    "* What is the time frame of my goal?\n",
    "* Is it realisticly achieveable in that time frame?\n",
    "* How will I measure my progress towards achieving my goal?\n",
    "\n",
    "Below is a video that elaborates on one way to go about setting your goal."
   ]
  },
  {
   "cell_type": "code",
   "execution_count": 1,
   "metadata": {},
   "outputs": [
    {
     "data": {
      "image/jpeg": "[encoded data removed]",
      "text/html": [
       "\n",
       "        <iframe\n",
       "            width=\"400\"\n",
       "            height=\"300\"\n",
       "            src=\"https://www.youtube.com/embed/1-SvuFIQjK8\"\n",
       "            frameborder=\"0\"\n",
       "            allowfullscreen\n",
       "        ></iframe>\n",
       "        "
      ],
      "text/plain": [
       "<IPython.lib.display.YouTubeVideo at 0x7fe304199710>"
      ]
     },
     "metadata": {},
     "output_type": "display_data"
    }
   ],
   "source": [
    "from IPython.lib.display import YouTubeVideo\n",
    "display(YouTubeVideo('1-SvuFIQjK8'))"
   ]
  },
  {
   "cell_type": "markdown",
   "metadata": {},
   "source": [
    "<h1><a name=\"data\" style=\"text-decoration: none; color: black;\">Gathering Data</a></h1>\n",
    "\n",
    "Before actually creating your budget, it is important to gather some data to know what income and expenditures you are working with. A good way to do this is to have a notepad around with you and jot down everytime you buy something or earn money. After a while, ideally a month, this will give you a good idea how much money you are spending and how much you are earning. You may be surprised by what you see! Maybe you spend way more than you thought you did on eating out or clothes, but that is ok. Knowledge is power, and now that you know how much you spend on various expenditures you can begin to control your spending.\n",
    "\n",
    "There is a lot of options when it comes to how you should gather data. You could use an online service, make a spreadsheet, take physical notes or on a device, the list goes on. If you don't know what you should use, just default to using pen and paper to make a list."
   ]
  },
  {
   "cell_type": "markdown",
   "metadata": {},
   "source": [
    "<img src=\"src/notebook.svg\" width=\"30%\"/>"
   ]
  },
  {
   "cell_type": "markdown",
   "metadata": {},
   "source": [
    "<h1><a name=\"needs\" style=\"text-decoration: none; color: black;\">Forecasting Future Needs</a></h1>\n",
    "\n",
    "The next step is to start predicting your future expenses. Based on the data you collected, you can start organizing your expenses into two categories: fixed expenses, and variable expenses. Fixed expenses are expenses that you know exactly how much it will cost in the coming month, say for example rent. A variable expense is one where its cost varies from month to month. For example food fits into this category. You could have a sale one month and reduce your total expenditure, or if a certain food item is out of stock you may have to pay more for an equivalent. Take into account the expected range for the variable expenses and prepare for the most expensive senario with important ones. (Such as food.)\n",
    "\n",
    "In addition, don't discount spending money! Budgeting helps save money, but it is not worth it to totally deprive yourself of doing the things that you enjoy. However you may realize you need to spend less.\n",
    "\n",
    "Furthermore, expect to have unexpected expenses. Accidents, property damage, theft, impromptu trips, etc. are all possibilites that you should consider."
   ]
  },
  {
   "cell_type": "markdown",
   "metadata": {},
   "source": [
    "<h1><a name=\"build\" style=\"text-decoration: none; color: black;\">Building Your Budget</a></h1>\n",
    "\n",
    "When building a budget, there are a number of schools of thought when it comes to how to distribute one's income and expenses. A common way to build a budget is to set a percentage of one's income dedicated to every given expense. For example, this may be a decent budget if you're single and living on your own: "
   ]
  },
  {
   "cell_type": "code",
   "execution_count": 2,
   "metadata": {
    "scrolled": false
   },
   "outputs": [
    {
     "data": {
      "text/html": [
       "<script>requirejs.config({paths: { 'plotly': ['https://cdn.plot.ly/plotly-latest.min']},});if(!window.Plotly) {{require(['plotly'],function(plotly) {window.Plotly=plotly;});}}</script>"
      ],
      "text/vnd.plotly.v1+html": [
       "<script>requirejs.config({paths: { 'plotly': ['https://cdn.plot.ly/plotly-latest.min']},});if(!window.Plotly) {{require(['plotly'],function(plotly) {window.Plotly=plotly;});}}</script>"
      ]
     },
     "metadata": {},
     "output_type": "display_data"
    },
    {
     "data": {
      "application/vnd.plotly.v1+json": {
       "data": [
        {
         "labels": [
          "Rent and Utilities",
          "Food",
          "Savings",
          "Spending Money",
          "Other (Clothing, Gym Membership, etc)"
         ],
         "type": "pie",
         "values": [
          35,
          15,
          20,
          15,
          15
         ]
        }
       ],
       "layout": {
        "title": "Example Budget in Percentages"
       }
      },
      "text/html": [
       "<div id=\"5f98a3a8-3f2a-4433-9b5e-e89a197f4af0\" style=\"height: 525px; width: 100%;\" class=\"plotly-graph-div\"></div><script type=\"text/javascript\">require([\"plotly\"], function(Plotly) { window.PLOTLYENV=window.PLOTLYENV || {};window.PLOTLYENV.BASE_URL=\"https://plot.ly\";Plotly.newPlot(\"5f98a3a8-3f2a-4433-9b5e-e89a197f4af0\", [{\"type\": \"pie\", \"labels\": [\"Rent and Utilities\", \"Food\", \"Savings\", \"Spending Money\", \"Other (Clothing, Gym Membership, etc)\"], \"values\": [35, 15, 20, 15, 15]}], {\"title\": \"Example Budget in Percentages\"}, {\"showLink\": true, \"linkText\": \"Export to plot.ly\"})});</script>"
      ],
      "text/vnd.plotly.v1+html": [
       "<div id=\"5f98a3a8-3f2a-4433-9b5e-e89a197f4af0\" style=\"height: 525px; width: 100%;\" class=\"plotly-graph-div\"></div><script type=\"text/javascript\">require([\"plotly\"], function(Plotly) { window.PLOTLYENV=window.PLOTLYENV || {};window.PLOTLYENV.BASE_URL=\"https://plot.ly\";Plotly.newPlot(\"5f98a3a8-3f2a-4433-9b5e-e89a197f4af0\", [{\"type\": \"pie\", \"labels\": [\"Rent and Utilities\", \"Food\", \"Savings\", \"Spending Money\", \"Other (Clothing, Gym Membership, etc)\"], \"values\": [35, 15, 20, 15, 15]}], {\"title\": \"Example Budget in Percentages\"}, {\"showLink\": true, \"linkText\": \"Export to plot.ly\"})});</script>"
      ]
     },
     "metadata": {},
     "output_type": "display_data"
    }
   ],
   "source": [
    "# Run this code to display the graph.\n",
    "\n",
    "# If you are interested in seeing how the code works, open chart.py in the src folder.\n",
    "# Be careful of making changes! Any changes may break the code. Of course, you can always undo changes.\n",
    "import src.chart as sc\n",
    "sc.pie()"
   ]
  },
  {
   "cell_type": "markdown",
   "metadata": {},
   "source": [
    "It is important to understand that though this is an example of a percentage distribution, your budget would be tuned to your needs and circumstances. It may also have more components. Another way you could divide up your income is by alloting a fixed dollar amount for each expense."
   ]
  },
  {
   "cell_type": "code",
   "execution_count": 5,
   "metadata": {},
   "outputs": [
    {
     "data": {
      "text/html": [
       "<script>requirejs.config({paths: { 'plotly': ['https://cdn.plot.ly/plotly-latest.min']},});if(!window.Plotly) {{require(['plotly'],function(plotly) {window.Plotly=plotly;});}}</script>"
      ],
      "text/vnd.plotly.v1+html": [
       "<script>requirejs.config({paths: { 'plotly': ['https://cdn.plot.ly/plotly-latest.min']},});if(!window.Plotly) {{require(['plotly'],function(plotly) {window.Plotly=plotly;});}}</script>"
      ]
     },
     "metadata": {},
     "output_type": "display_data"
    },
    {
     "data": {
      "application/vnd.plotly.v1+json": {
       "data": [
        {
         "type": "bar",
         "x": [
          "Rent and Utilities",
          "Food",
          "Savings",
          "Spending Money",
          "Other"
         ],
         "y": [
          2000,
          250,
          400,
          200,
          350
         ]
        }
       ],
       "layout": {
        "title": "Budget Assuming $3200 in Total Income"
       }
      },
      "text/html": [
       "<div id=\"8d1ffa3d-a9ef-41ed-b1bb-0403549ff14f\" style=\"height: 525px; width: 100%;\" class=\"plotly-graph-div\"></div><script type=\"text/javascript\">require([\"plotly\"], function(Plotly) { window.PLOTLYENV=window.PLOTLYENV || {};window.PLOTLYENV.BASE_URL=\"https://plot.ly\";Plotly.newPlot(\"8d1ffa3d-a9ef-41ed-b1bb-0403549ff14f\", [{\"type\": \"bar\", \"x\": [\"Rent and Utilities\", \"Food\", \"Savings\", \"Spending Money\", \"Other\"], \"y\": [2000, 250, 400, 200, 350]}], {\"title\": \"Budget Assuming $3200 in Total Income\"}, {\"showLink\": true, \"linkText\": \"Export to plot.ly\"})});</script>"
      ],
      "text/vnd.plotly.v1+html": [
       "<div id=\"8d1ffa3d-a9ef-41ed-b1bb-0403549ff14f\" style=\"height: 525px; width: 100%;\" class=\"plotly-graph-div\"></div><script type=\"text/javascript\">require([\"plotly\"], function(Plotly) { window.PLOTLYENV=window.PLOTLYENV || {};window.PLOTLYENV.BASE_URL=\"https://plot.ly\";Plotly.newPlot(\"8d1ffa3d-a9ef-41ed-b1bb-0403549ff14f\", [{\"type\": \"bar\", \"x\": [\"Rent and Utilities\", \"Food\", \"Savings\", \"Spending Money\", \"Other\"], \"y\": [2000, 250, 400, 200, 350]}], {\"title\": \"Budget Assuming $3200 in Total Income\"}, {\"showLink\": true, \"linkText\": \"Export to plot.ly\"})});</script>"
      ]
     },
     "metadata": {},
     "output_type": "display_data"
    }
   ],
   "source": [
    "# Run this code to display the graph.\n",
    "\n",
    "import src.chart as sc\n",
    "sc.bar()"
   ]
  },
  {
   "cell_type": "markdown",
   "metadata": {},
   "source": [
    "Notice how in this situation the individual is spending a disproportionate amount of their income on rent. From this we can realize that maybe the individual should consider moving to a cheaper living arrangement. In the US, on average about 30-35% of one's income is spend on housing.\n",
    "\n",
    "Furthermore, here is a budget template that you can print off and use to build your budget:"
   ]
  },
  {
   "cell_type": "code",
   "execution_count": 38,
   "metadata": {},
   "outputs": [
    {
     "data": {
      "text/html": [
       "<iframe src=\"https://www.practicalmoneyskills.ca/downloads/pdfs/PMSFL_Budget_1.pdf\" style=\"border: none;\" width=\"900px\" height=\"550px\"></iframe>"
      ],
      "text/plain": [
       "<IPython.core.display.HTML object>"
      ]
     },
     "execution_count": 38,
     "metadata": {},
     "output_type": "execute_result"
    }
   ],
   "source": [
    "# Run the code below to show the budget template in the form of a PDF.\n",
    "\n",
    "from IPython.display import HTML\n",
    "HTML('<iframe src=\"https://www.practicalmoneyskills.ca/downloads/pdfs/PMSFL_Budget_1.pdf\" style=\"border: none;\" width=\"900px\" height=\"550px\"></iframe>')"
   ]
  },
  {
   "cell_type": "markdown",
   "metadata": {},
   "source": [
    "<h1><a name=\"evaluate\" style=\"text-decoration: none; color: black;\">Evaluating Your Budget</a></h1>\n",
    "\n",
    "Throughout this entire process, it is important to take time to evaluate your progress.\n",
    "\n",
    "- Are you meeting the requirements of your budget?\n",
    "- Are you happy with the sacrifices you have had to make to meet your goal?\n",
    "- Do you wish you did something differently?\n",
    "\n",
    "Remember that this is a continuous process, if you are unhappy with your budget you can change it or decide the goal you set was not worth it and change it instead."
   ]
  },
  {
   "cell_type": "markdown",
   "metadata": {},
   "source": [
    "<h1><a name=\"graph\" style=\"text-decoration: none; color: black;\">Graphing Your Budget</a></h1>\n",
    "\n",
    "Once you have gone through the budgeting process, it may be useful to see how your expenses are distributed, similar to the graphs above. Below you can enter your own data once you've built your budget! Look to see how it is distributed. Please note that any additional categories you have can just be combined into \"Other\", and make sure the percentages total to 1."
   ]
  },
  {
   "cell_type": "code",
   "execution_count": 1,
   "metadata": {},
   "outputs": [
    {
     "data": {
      "text/html": [
       "<script>requirejs.config({paths: { 'plotly': ['https://cdn.plot.ly/plotly-latest.min']},});if(!window.Plotly) {{require(['plotly'],function(plotly) {window.Plotly=plotly;});}}</script>"
      ],
      "text/vnd.plotly.v1+html": [
       "<script>requirejs.config({paths: { 'plotly': ['https://cdn.plot.ly/plotly-latest.min']},});if(!window.Plotly) {{require(['plotly'],function(plotly) {window.Plotly=plotly;});}}</script>"
      ]
     },
     "metadata": {},
     "output_type": "display_data"
    },
    {
     "data": {
      "application/vnd.plotly.v1+json": {
       "data": [
        {
         "labels": [
          "Rent",
          "Utilities",
          "Savings",
          "Food",
          "Spending Money",
          "Clothes",
          "Other"
         ],
         "type": "pie",
         "uid": "13d6a37c-9a71-11e8-8616-28cfe9142f7f",
         "values": [
          0.3,
          0.08,
          0.2,
          0.15,
          0.12,
          0.05,
          0.1
         ]
        }
       ],
       "layout": {
        "title": "Your Budget in Percentages"
       }
      },
      "text/html": [
       "<div id=\"2361becc-ce21-4426-875f-19990d73dcfa\" style=\"height: 525px; width: 100%;\" class=\"plotly-graph-div\"></div><script type=\"text/javascript\">require([\"plotly\"], function(Plotly) { window.PLOTLYENV=window.PLOTLYENV || {};window.PLOTLYENV.BASE_URL=\"https://plot.ly\";\n",
       "        Plotly.plot(\n",
       "            '2361becc-ce21-4426-875f-19990d73dcfa',\n",
       "            [{\"labels\": [\"Rent\", \"Utilities\", \"Savings\", \"Food\", \"Spending Money\", \"Clothes\", \"Other\"], \"values\": [0.3, 0.08, 0.2, 0.15, 0.12, 0.05, 0.1], \"type\": \"pie\", \"uid\": \"13d6a37c-9a71-11e8-8616-28cfe9142f7f\"}],\n",
       "            {\"title\": \"Your Budget in Percentages\"},\n",
       "            {\"showLink\": true, \"linkText\": \"Export to plot.ly\"}\n",
       "        ).then(function () {return Plotly.addFrames('2361becc-ce21-4426-875f-19990d73dcfa',{});}).then(function(){Plotly.animate('2361becc-ce21-4426-875f-19990d73dcfa');})\n",
       "        });</script>"
      ],
      "text/vnd.plotly.v1+html": [
       "<div id=\"2361becc-ce21-4426-875f-19990d73dcfa\" style=\"height: 525px; width: 100%;\" class=\"plotly-graph-div\"></div><script type=\"text/javascript\">require([\"plotly\"], function(Plotly) { window.PLOTLYENV=window.PLOTLYENV || {};window.PLOTLYENV.BASE_URL=\"https://plot.ly\";\n",
       "        Plotly.plot(\n",
       "            '2361becc-ce21-4426-875f-19990d73dcfa',\n",
       "            [{\"labels\": [\"Rent\", \"Utilities\", \"Savings\", \"Food\", \"Spending Money\", \"Clothes\", \"Other\"], \"values\": [0.3, 0.08, 0.2, 0.15, 0.12, 0.05, 0.1], \"type\": \"pie\", \"uid\": \"13d6a37c-9a71-11e8-8616-28cfe9142f7f\"}],\n",
       "            {\"title\": \"Your Budget in Percentages\"},\n",
       "            {\"showLink\": true, \"linkText\": \"Export to plot.ly\"}\n",
       "        ).then(function () {return Plotly.addFrames('2361becc-ce21-4426-875f-19990d73dcfa',{});}).then(function(){Plotly.animate('2361becc-ce21-4426-875f-19990d73dcfa');})\n",
       "        });</script>"
      ]
     },
     "metadata": {},
     "output_type": "display_data"
    },
    {
     "data": {
      "application/vnd.plotly.v1+json": {
       "data": [
        {
         "type": "bar",
         "uid": "13f36c32-9a71-11e8-8616-28cfe9142f7f",
         "x": [
          "Rent",
          "Utilities",
          "Savings",
          "Food",
          "Spending Money",
          "Clothes",
          "Other"
         ],
         "y": [
          1500,
          400,
          1000,
          750,
          600,
          250,
          500
         ]
        }
       ],
       "layout": {
        "title": "Your Budget in Dollars"
       }
      },
      "text/html": [
       "<div id=\"9e7aeff7-0f2d-4f4b-85dc-4384446fd303\" style=\"height: 525px; width: 100%;\" class=\"plotly-graph-div\"></div><script type=\"text/javascript\">require([\"plotly\"], function(Plotly) { window.PLOTLYENV=window.PLOTLYENV || {};window.PLOTLYENV.BASE_URL=\"https://plot.ly\";\n",
       "        Plotly.plot(\n",
       "            '9e7aeff7-0f2d-4f4b-85dc-4384446fd303',\n",
       "            [{\"x\": [\"Rent\", \"Utilities\", \"Savings\", \"Food\", \"Spending Money\", \"Clothes\", \"Other\"], \"y\": [1500.0, 400.0, 1000.0, 750.0, 600.0, 250.0, 500.0], \"type\": \"bar\", \"uid\": \"13f36c32-9a71-11e8-8616-28cfe9142f7f\"}],\n",
       "            {\"title\": \"Your Budget in Dollars\"},\n",
       "            {\"showLink\": true, \"linkText\": \"Export to plot.ly\"}\n",
       "        ).then(function () {return Plotly.addFrames('9e7aeff7-0f2d-4f4b-85dc-4384446fd303',{});}).then(function(){Plotly.animate('9e7aeff7-0f2d-4f4b-85dc-4384446fd303');})\n",
       "        });</script>"
      ],
      "text/vnd.plotly.v1+html": [
       "<div id=\"9e7aeff7-0f2d-4f4b-85dc-4384446fd303\" style=\"height: 525px; width: 100%;\" class=\"plotly-graph-div\"></div><script type=\"text/javascript\">require([\"plotly\"], function(Plotly) { window.PLOTLYENV=window.PLOTLYENV || {};window.PLOTLYENV.BASE_URL=\"https://plot.ly\";\n",
       "        Plotly.plot(\n",
       "            '9e7aeff7-0f2d-4f4b-85dc-4384446fd303',\n",
       "            [{\"x\": [\"Rent\", \"Utilities\", \"Savings\", \"Food\", \"Spending Money\", \"Clothes\", \"Other\"], \"y\": [1500.0, 400.0, 1000.0, 750.0, 600.0, 250.0, 500.0], \"type\": \"bar\", \"uid\": \"13f36c32-9a71-11e8-8616-28cfe9142f7f\"}],\n",
       "            {\"title\": \"Your Budget in Dollars\"},\n",
       "            {\"showLink\": true, \"linkText\": \"Export to plot.ly\"}\n",
       "        ).then(function () {return Plotly.addFrames('9e7aeff7-0f2d-4f4b-85dc-4384446fd303',{});}).then(function(){Plotly.animate('9e7aeff7-0f2d-4f4b-85dc-4384446fd303');})\n",
       "        });</script>"
      ]
     },
     "metadata": {},
     "output_type": "display_data"
    }
   ],
   "source": [
    "# Enter your expenses below as percentages (Decimal form) and your total income to see how they compare to each other.\n",
    "# Run this code block once you change your values to display the graphs.\n",
    "\n",
    "# Total income per month.\n",
    "total_income = 5000\n",
    "\n",
    "# Rent or mortgage.\n",
    "rent = 0.30\n",
    "\n",
    "# Utilities such as internet, water, electricity, etc.\n",
    "utilities = 0.08\n",
    "\n",
    "# Savings.\n",
    "savings = 0.20\n",
    "\n",
    "# Monthly food costs.\n",
    "food = 0.15\n",
    "\n",
    "# Spending money for going out with friends, buying things you want, etc.\n",
    "spending_money = 0.12\n",
    "\n",
    "# Cost for new clothes.\n",
    "clothes = 0.05\n",
    "\n",
    "# Other expenses such as gym memberships, etc.\n",
    "other = 0.10\n",
    "\n",
    "# If you are interested in seeing how the code works, open chart.py in the src folder.\n",
    "# Be careful of making changes! Any changes may break the code. Of course, you can always undo changes.\n",
    "import src.chart as sc\n",
    "sc.graphing(total_income, rent, utilities, savings, food, spending_money, clothes, other)"
   ]
  },
  {
   "cell_type": "markdown",
   "metadata": {},
   "source": [
    "Check if what you end up seeing is what you expected. Are you spending too much on utilties or something else? Maybe not enough on rent for your area? This would be a good time to fine tune your budget."
   ]
  },
  {
   "cell_type": "markdown",
   "metadata": {},
   "source": [
    "<h1><a name=\"conclusion\" style=\"text-decoration: none; color: black;\">Conclusion</a></h1>\n",
    "\n",
    "In this notebook, we introduced budgeting and cover how one could go about implimenting a budget and planning one out."
   ]
  },
  {
   "cell_type": "markdown",
   "metadata": {},
   "source": [
    "<h1><a name=\"references\" style=\"text-decoration: none; color: black;\">References</a></h1>\n",
    "\n",
    "Buell, Stephen. \"Budgeting\". 2007, https://www.lehigh.edu/~sgb2/L3%20Budgeting.pdf. PDF file. Accessed 20 July 2018.\n",
    "\n",
    "\"Budgeting\". practicalmoneyskills.ca, 2018, https://www.practicalmoneyskills.ca/personalfinance/savingspending/budgeting/. Accessed 20 July 2018.\n",
    "\n",
    "\n",
    "All images used are public domain, besides the Callysto, Cybera, and other trademarked logos."
   ]
  },
  {
   "cell_type": "markdown",
   "metadata": {},
   "source": [
    "<img width=\"100%\" src=\"src/callystoBannerBottom.jpg\"/>"
   ]
  }
 ],
 "metadata": {
  "kernelspec": {
   "display_name": "Python 3",
   "language": "python",
   "name": "python3"
  },
  "language_info": {
   "codemirror_mode": {
    "name": "ipython",
    "version": 3
   },
   "file_extension": ".py",
   "mimetype": "text/x-python",
   "name": "python",
   "nbconvert_exporter": "python",
   "pygments_lexer": "ipython3",
   "version": "3.7.0"
  }
 },
 "nbformat": 4,
 "nbformat_minor": 2
}
