{
 "cells": [
  {
   "cell_type": "markdown",
   "metadata": {},
   "source": [
    "# Overview\n",
    "Alberta Curriculum Objective: Assess the effects of substance use and abuse—tobacco, alcohol, drugs—on health. https://education.alberta.ca/media/160199/calm.pdf\n",
    "\n",
    "Disclaimer: The simulation and represented data are meant to demonstrate to students that there is always a risk associated with substance abuse and that there is no level of consumption that is entirely risk-free. Just because a student is able to 'drive' in the 'intoxicated' simulation setting(s), or if a data point reflects a high instance of survival with minimal consumption does NOT mean it is safe to do so in real life. "
   ]
  },
  {
   "cell_type": "markdown",
   "metadata": {},
   "source": [
    "# Introduction\n",
    "Are designated drivers really that important? How many is one too many? \n",
    "\n",
    "The simulation below approximates what it might be like to drive under the influence. Give it a try by clicking anywhere in the frame and using the A, S, W, D keys to move. Stay within the guardrails, avoid debris, and oncoming traffic."
   ]
  },
  {
   "cell_type": "code",
   "execution_count": 10,
   "metadata": {},
   "outputs": [
    {
     "data": {
      "text/html": [
       "<iframe src=\"driving.html\" width=\"400px\" height=\"400px\"></iframe>"
      ],
      "text/plain": [
       "<IPython.core.display.HTML object>"
      ]
     },
     "metadata": {},
     "output_type": "display_data"
    }
   ],
   "source": [
    "%%html\n",
    "<iframe src=\"driving.html\" width=\"400px\" height=\"400px\"></iframe>"
   ]
  },
  {
   "cell_type": "code",
   "execution_count": null,
   "metadata": {},
   "outputs": [],
   "source": []
  },
  {
   "cell_type": "markdown",
   "metadata": {},
   "source": [
    "# Data"
   ]
  },
  {
   "cell_type": "markdown",
   "metadata": {},
   "source": [
    "# Conclusion"
   ]
  }
 ],
 "metadata": {
  "kernelspec": {
   "display_name": "Python 3",
   "language": "python",
   "name": "python3"
  },
  "language_info": {
   "codemirror_mode": {
    "name": "ipython",
    "version": 3
   },
   "file_extension": ".py",
   "mimetype": "text/x-python",
   "name": "python",
   "nbconvert_exporter": "python",
   "pygments_lexer": "ipython3",
   "version": "3.7.0"
  }
 },
 "nbformat": 4,
 "nbformat_minor": 2
}
