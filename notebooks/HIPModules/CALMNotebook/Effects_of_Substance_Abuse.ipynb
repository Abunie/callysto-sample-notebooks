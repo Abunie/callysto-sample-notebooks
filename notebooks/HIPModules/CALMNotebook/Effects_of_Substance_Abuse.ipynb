{
 "cells": [
  {
   "cell_type": "markdown",
   "metadata": {},
   "source": [
    "<img width=\"100%\" src=\"CALMImages/callystoBannerTop.jpg\"/>"
   ]
  },
  {
   "cell_type": "markdown",
   "metadata": {},
   "source": [
    "To run all the code cells now click `Cell` in the menu above and click `Run All`.\n",
    "\n",
    "# Overview\n",
    "Alberta Curriculum Objective: Assess the effects of substance use and abuse—tobacco, alcohol, drugs—on health. https://education.alberta.ca/media/160199/calm.pdf\n",
    "\n",
    "This notebook for the CALM 20 course should take about 80 minutes to complete. We will introduce and explore the affects of substance abuse on various aspects of a person's life and decision-making processes. Students can play a simulation for driving under the influence to get a sense of how both motor and mental skills may be impaired by substance abuse. We will also explore data from various studies looking at the issue from different angles. For example, how alcohol abuse can lead to a higher risk of severe, even fatal, health problems and destructive habits later in life, the correlation between substance abuse and mismanagement of finances, and the negative social impact on relationships and communities. Finally, we will discuss strategies students can implement so as not to become a statistic.\n",
    "\n",
    "## Learning Objectives\n",
    "- Develop an understanding of the various physical and mental health risks associated with substance abuse both on the individual and the larger community\n",
    "- Develop an awareness of strategies one can employ to avoid succumbing to substance abuse and leading a healthy lifestyle\n",
    "\n",
    "**Disclaimer:** The simulation and represented data are meant to demonstrate to students that there is always a risk associated with substance abuse and that there is no level of consumption that is entirely risk-free. Just because a student is able to 'drive' in the 'intoxicated' simulation setting(s), or if a data point reflects minimal impact for minimal consumption does **NOT** mean it is safe or healthy to do so in real life. \n",
    "\n",
    "**Note:** Do not be intimidated by the code! You do not have to touch or edit it, and all you have to do is run the code. But feel free to look through the code in the src folder, and try to figure out what makes it work. If you make a change to the code and it stops working, those changes can be reversed by re-downloading the original notebook."
   ]
  },
  {
   "cell_type": "markdown",
   "metadata": {},
   "source": [
    "# Table of Contents\n",
    "I. <a href = \"#intro\"> Introduction Activity</a> <br>\n",
    "II. <a href = \"#likely\"> How Likely Is It, Really?</a> <br>\n",
    "III. <a href = \"#health\"> So... Just Don't Drive?</a> <br>\n",
    "IV. <a href = \"#smoking\"> One Thing Leads to Another</a> <br>\n",
    "V. <a href = \"#finances\"> The Bottom Line</a> <br>\n",
    "VI. <a href = \"#community\"> Impact on Communities Case Study</a> <br>\n",
    "VII. <a href = \"#prevention\"> What Can You Do?</a> <br>\n",
    "VIII. <a href = \"#concl\"> Conclusion</a> <br>\n",
    "IX. <a href = \"#ref\"> References</a> <br>"
   ]
  },
  {
   "cell_type": "markdown",
   "metadata": {},
   "source": [
    "<h1><a name=\"intro\" style=\"text-decoration: none; color: black;\">Introduction Activity</a></h1> <br>\n",
    "_\"Are designated drivers really that important?\"_ \n",
    "\n",
    "_\"How many is one too many?\"_ \n",
    "\n",
    "_\"I'm sober enough.\"_ \n",
    "\n",
    "### The simulation below approximates what it might be like to drive under the influence. Give it a try by running the code segment below, clicking anywhere in the frame and using the A, S, W, D keys to move. Stay within the guardrails, avoid debris, and oncoming traffic."
   ]
  },
  {
   "cell_type": "code",
   "execution_count": 1,
   "metadata": {},
   "outputs": [],
   "source": [
    "# If you're interested in how this game was made, check out driving.html in the src folder!\n",
    "# Don't worry if you accidently make any changes to the code!\n",
    "# Just re-download the notebook from the server and you'll get the original copy back."
   ]
  },
  {
   "cell_type": "code",
   "execution_count": 1,
   "metadata": {},
   "outputs": [
    {
     "data": {
      "text/html": [
       "<iframe src=\"src/driving.html\" width=\"400px\" height=\"400px\"></iframe>"
      ],
      "text/plain": [
       "<IPython.core.display.HTML object>"
      ]
     },
     "metadata": {},
     "output_type": "display_data"
    }
   ],
   "source": [
    "%%html\n",
    "<iframe src=\"src/driving.html\" width=\"400px\" height=\"400px\"></iframe>"
   ]
  },
  {
   "cell_type": "markdown",
   "metadata": {},
   "source": [
    "<h1><a name=\"likely\" style=\"text-decoration: none; color: black;\">How Likely Is It, Really?</a></h1>\n",
    "\n",
    "<img src=\"CALMImages/car_crash.jpg\" style=\"width:300px; float:right; padding-left: 10px\">\n",
    "\n",
    "Run the code segment below to examine the crash fatality and drug testing data from 2014<sub>[1]</sub> in the bar chart below. Notice how almost if not half the accidents across Canada and in each province or territory involved drug and/or alcohol abuse. \n",
    "\n",
    "_Note values in chart are rounded and that only a limited number of crash victims in NWT and YK were tested for alcohol and/or drugs, therefore their presence has been assumed to be the same as those among drivers of highway vehicles in the rest of Canada dying within 30 days of the crash_."
   ]
  },
  {
   "cell_type": "code",
   "execution_count": 2,
   "metadata": {},
   "outputs": [
    {
     "data": {
      "text/html": [
       "<script>requirejs.config({paths: { 'plotly': ['https://cdn.plot.ly/plotly-latest.min']},});if(!window.Plotly) {{require(['plotly'],function(plotly) {window.Plotly=plotly;});}}</script>"
      ],
      "text/vnd.plotly.v1+html": [
       "<script>requirejs.config({paths: { 'plotly': ['https://cdn.plot.ly/plotly-latest.min']},});if(!window.Plotly) {{require(['plotly'],function(plotly) {window.Plotly=plotly;});}}</script>"
      ]
     },
     "metadata": {},
     "output_type": "display_data"
    },
    {
     "data": {
      "application/vnd.plotly.v1+json": {
       "data": [
        {
         "name": "Accidents w/o Drugs or Alcohol",
         "type": "bar",
         "uid": "921858fe-9b1e-11e8-a2bc-28cfe9142f7f",
         "x": [
          "CAN",
          "AB",
          "BC",
          "MB",
          "NB",
          "NL",
          "NS",
          "ON",
          "PE",
          "QC",
          "SK",
          "NT",
          "NU",
          "YK"
         ],
         "y": [
          1323,
          232,
          246,
          39,
          20,
          23,
          39,
          382,
          4,
          248,
          88,
          3,
          0,
          3
         ]
        },
        {
         "name": "Accidents w/ Drugs and/or Alcohol",
         "type": "bar",
         "uid": "92185d4a-9b1e-11e8-a2bc-28cfe9142f7f",
         "x": [
          "CAN",
          "AB",
          "BC",
          "MB",
          "NB",
          "NL",
          "NS",
          "ON",
          "PE",
          "QC",
          "SK",
          "NT",
          "NU",
          "YK"
         ],
         "y": [
          974,
          182,
          181,
          40,
          41,
          17,
          23,
          296,
          2,
          133,
          51,
          2,
          0,
          2
         ]
        }
       ],
       "layout": {
        "barmode": "stack",
        "title": "Crash Fatalities vs. Drugs and/or Alcohol Consumption"
       }
      },
      "text/html": [
       "<div id=\"9a492b76-c62c-4492-9602-609606dd07ba\" style=\"height: 525px; width: 100%;\" class=\"plotly-graph-div\"></div><script type=\"text/javascript\">require([\"plotly\"], function(Plotly) { window.PLOTLYENV=window.PLOTLYENV || {};window.PLOTLYENV.BASE_URL=\"https://plot.ly\";\n",
       "        Plotly.plot(\n",
       "            '9a492b76-c62c-4492-9602-609606dd07ba',\n",
       "            [{\"name\": \"Accidents w/o Drugs or Alcohol\", \"x\": [\"CAN\", \"AB\", \"BC\", \"MB\", \"NB\", \"NL\", \"NS\", \"ON\", \"PE\", \"QC\", \"SK\", \"NT\", \"NU\", \"YK\"], \"y\": [1323, 232, 246, 39, 20, 23, 39, 382, 4, 248, 88, 3, 0, 3], \"type\": \"bar\", \"uid\": \"921858fe-9b1e-11e8-a2bc-28cfe9142f7f\"}, {\"name\": \"Accidents w/ Drugs and/or Alcohol\", \"x\": [\"CAN\", \"AB\", \"BC\", \"MB\", \"NB\", \"NL\", \"NS\", \"ON\", \"PE\", \"QC\", \"SK\", \"NT\", \"NU\", \"YK\"], \"y\": [974, 182, 181, 40, 41, 17, 23, 296, 2, 133, 51, 2, 0, 2], \"type\": \"bar\", \"uid\": \"92185d4a-9b1e-11e8-a2bc-28cfe9142f7f\"}],\n",
       "            {\"barmode\": \"stack\", \"title\": \"Crash Fatalities vs. Drugs and/or Alcohol Consumption\"},\n",
       "            {\"showLink\": true, \"linkText\": \"Export to plot.ly\"}\n",
       "        ).then(function () {return Plotly.addFrames('9a492b76-c62c-4492-9602-609606dd07ba',{});}).then(function(){Plotly.animate('9a492b76-c62c-4492-9602-609606dd07ba');})\n",
       "        });</script>"
      ],
      "text/vnd.plotly.v1+html": [
       "<div id=\"9a492b76-c62c-4492-9602-609606dd07ba\" style=\"height: 525px; width: 100%;\" class=\"plotly-graph-div\"></div><script type=\"text/javascript\">require([\"plotly\"], function(Plotly) { window.PLOTLYENV=window.PLOTLYENV || {};window.PLOTLYENV.BASE_URL=\"https://plot.ly\";\n",
       "        Plotly.plot(\n",
       "            '9a492b76-c62c-4492-9602-609606dd07ba',\n",
       "            [{\"name\": \"Accidents w/o Drugs or Alcohol\", \"x\": [\"CAN\", \"AB\", \"BC\", \"MB\", \"NB\", \"NL\", \"NS\", \"ON\", \"PE\", \"QC\", \"SK\", \"NT\", \"NU\", \"YK\"], \"y\": [1323, 232, 246, 39, 20, 23, 39, 382, 4, 248, 88, 3, 0, 3], \"type\": \"bar\", \"uid\": \"921858fe-9b1e-11e8-a2bc-28cfe9142f7f\"}, {\"name\": \"Accidents w/ Drugs and/or Alcohol\", \"x\": [\"CAN\", \"AB\", \"BC\", \"MB\", \"NB\", \"NL\", \"NS\", \"ON\", \"PE\", \"QC\", \"SK\", \"NT\", \"NU\", \"YK\"], \"y\": [974, 182, 181, 40, 41, 17, 23, 296, 2, 133, 51, 2, 0, 2], \"type\": \"bar\", \"uid\": \"92185d4a-9b1e-11e8-a2bc-28cfe9142f7f\"}],\n",
       "            {\"barmode\": \"stack\", \"title\": \"Crash Fatalities vs. Drugs and/or Alcohol Consumption\"},\n",
       "            {\"showLink\": true, \"linkText\": \"Export to plot.ly\"}\n",
       "        ).then(function () {return Plotly.addFrames('9a492b76-c62c-4492-9602-609606dd07ba',{});}).then(function(){Plotly.animate('9a492b76-c62c-4492-9602-609606dd07ba');})\n",
       "        });</script>"
      ]
     },
     "metadata": {},
     "output_type": "display_data"
    }
   ],
   "source": [
    "# If you're interested in how this graph was made, check out crash.py in the src folder!\n",
    "# Don't worry if you accidently make any changes to the code!\n",
    "# Just re-download the notebook from the server and you'll get the original copy back.\n",
    "import crash as cr\n",
    "cr.graph()"
   ]
  },
  {
   "cell_type": "markdown",
   "metadata": {},
   "source": [
    "<h1><a name=\"health\" style=\"text-decoration: none; color: black;\">So... Just Don't Drive?</a></h1> <br>\n",
    "Alcohol is made of a chemical called ethanol, which is first processed by our bodies through an enzyme called alcohol dehydrogenase (ADH). Through it, the ethanol is converted into acetaldehyde, which can then be processed by the aldehyde dehydrogenase enzyme (ALDH), converting it into acetic acid<sub>[2]</sub>. If that sounds familiar, that’s because small quantities of this final product are found in vinegar. But concentrated quantities of the chemical is highly corrosive to human skin, eyes, and internal organs when ingested or inhaled<sub>[3]</sub>. \n",
    "\n",
    "<img src=\"CALMImages/liver_disease.jpg\" style=\"width:300px; float:left; padding-right: 10px\"> A Swedish study following young men ages 18-20 for 38 years determined a significant correlation between quantity of alcohol consumption and the risk of liver disease<sub>[4]</sub>. Run the code below to view the activity based on their data. Use the scroll bar to toggle between different levels of alcohol consumption and observe how this affects one's risk of various liver diseases. "
   ]
  },
  {
   "cell_type": "code",
   "execution_count": null,
   "metadata": {},
   "outputs": [],
   "source": [
    "# If you're interested in how this game was made, check out driving.html in the src folder!\n",
    "# Don't worry if you accidently make any changes to the code!\n",
    "# Just re-download the notebook from the server and you'll get the original copy back."
   ]
  },
  {
   "cell_type": "code",
   "execution_count": 3,
   "metadata": {},
   "outputs": [
    {
     "data": {
      "text/html": [
       "<iframe src=\"src/consumption.html\" width=\"600px\" height=\"400px\"></iframe>"
      ],
      "text/plain": [
       "<IPython.core.display.HTML object>"
      ]
     },
     "metadata": {},
     "output_type": "display_data"
    }
   ],
   "source": [
    "%%html\n",
    "<iframe src=\"src/consumption.html\" width=\"600px\" height=\"400px\"></iframe>"
   ]
  },
  {
   "cell_type": "markdown",
   "metadata": {},
   "source": [
    "There is a whole range of negative physical and psychological health outcomes that result from drinking, especially for teens. Exposing a teenage brain to alcohol increases the chance of stunted brain development. Teens who drink are also more likely to drop out of school, commit suicide, and engage in unsafe sex, sex with a stranger, or be a victim or perpetrator of sexual assault. Furthermore, the younger a person is when they start drinking, the more likely one is to develop alcoholism in adulthood.<sub>[5]</sub> "
   ]
  },
  {
   "cell_type": "markdown",
   "metadata": {},
   "source": [
    "<h1><a name=\"smoking\" style=\"text-decoration: none; color: black;\">One Thing Leads to Another</a></h1> <br>\n",
    "Because alcohol induces sleepiness, many drinkers end up craving nicotine to counteract it, a chemical present in tobacco and cirgarettes that stimulates our adrenal glands, which produce adrenaline<sub>[6]</sub>. This stimulating factor is what makes nicotine so addictive. \n",
    "\n",
    "<img src=\"CALMImages/lung_cancer.jpg\" style=\"width:300px; float:right; padding-left: 10px\"> The negative impact of smoking can go even further, because second-hand smoke - smoke one inhales from being around a smoker - is also carcinogenic, meaning exposure increases the risk of developing cancer.\n",
    "\n",
    "Run the code and examine the pie chart below based on data from the World Health Organization<sub>[7]</sub>. Note how the chemicals found in tobacco smoke are either definitely or have a strong possibility of being carcinogenic."
   ]
  },
  {
   "cell_type": "code",
   "execution_count": 3,
   "metadata": {},
   "outputs": [
    {
     "data": {
      "text/html": [
       "<script>requirejs.config({paths: { 'plotly': ['https://cdn.plot.ly/plotly-latest.min']},});if(!window.Plotly) {{require(['plotly'],function(plotly) {window.Plotly=plotly;});}}</script>"
      ],
      "text/vnd.plotly.v1+html": [
       "<script>requirejs.config({paths: { 'plotly': ['https://cdn.plot.ly/plotly-latest.min']},});if(!window.Plotly) {{require(['plotly'],function(plotly) {window.Plotly=plotly;});}}</script>"
      ]
     },
     "metadata": {},
     "output_type": "display_data"
    },
    {
     "data": {
      "application/vnd.plotly.v1+json": {
       "data": [
        {
         "labels": [
          "Carcinogenic to Humans",
          "Probably Cacinogenic to Humans",
          "Possibly Carcinogenic to Humans"
         ],
         "type": "pie",
         "uid": "85ac5148-9b2c-11e8-906a-28cfe9142f7f",
         "values": [
          9,
          1,
          4
         ]
        }
       ],
       "layout": {}
      },
      "text/html": [
       "<div id=\"9abcb784-5eea-4da6-8f6f-b54ee7cf30d0\" style=\"height: 525px; width: 100%;\" class=\"plotly-graph-div\"></div><script type=\"text/javascript\">require([\"plotly\"], function(Plotly) { window.PLOTLYENV=window.PLOTLYENV || {};window.PLOTLYENV.BASE_URL=\"https://plot.ly\";Plotly.newPlot(\"9abcb784-5eea-4da6-8f6f-b54ee7cf30d0\", [{\"labels\": [\"Carcinogenic to Humans\", \"Probably Cacinogenic to Humans\", \"Possibly Carcinogenic to Humans\"], \"values\": [9, 1, 4], \"type\": \"pie\", \"uid\": \"85b700b6-9b2c-11e8-906a-28cfe9142f7f\"}], {}, {\"showLink\": true, \"linkText\": \"Export to plot.ly\"})});</script>"
      ],
      "text/vnd.plotly.v1+html": [
       "<div id=\"9abcb784-5eea-4da6-8f6f-b54ee7cf30d0\" style=\"height: 525px; width: 100%;\" class=\"plotly-graph-div\"></div><script type=\"text/javascript\">require([\"plotly\"], function(Plotly) { window.PLOTLYENV=window.PLOTLYENV || {};window.PLOTLYENV.BASE_URL=\"https://plot.ly\";Plotly.newPlot(\"9abcb784-5eea-4da6-8f6f-b54ee7cf30d0\", [{\"labels\": [\"Carcinogenic to Humans\", \"Probably Cacinogenic to Humans\", \"Possibly Carcinogenic to Humans\"], \"values\": [9, 1, 4], \"type\": \"pie\", \"uid\": \"85b700b6-9b2c-11e8-906a-28cfe9142f7f\"}], {}, {\"showLink\": true, \"linkText\": \"Export to plot.ly\"})});</script>"
      ]
     },
     "metadata": {},
     "output_type": "display_data"
    }
   ],
   "source": [
    "# If you're interested in how this graph was made, check out cancer.py in the src folder!\n",
    "# Don't worry if you accidently make any changes to the code!\n",
    "# Just re-download the notebook from the server and you'll get the original copy back.\n",
    "import src.cancer as ca\n",
    "ca.graph()"
   ]
  },
  {
   "cell_type": "markdown",
   "metadata": {},
   "source": [
    "<h1><a name=\"finances\" style=\"text-decoration: none; color: black;\">The Bottom Line</a></h1> <br>\n",
    "Once a person does make it a habit to smoke or drink, it can make a big dent in one's bank account. Smokers tend to consume an average of 21.3 packs a day at about $6.25 a pack<sub>[8]</sub>.\n",
    "<img src=\"CALMImages/money.jpg\" width=\"300px\">"
   ]
  },
  {
   "cell_type": "markdown",
   "metadata": {},
   "source": [
    "Meanwhile, heavy drinkers can spend over $200 a week on booze<sub>[9]</sub>. When you compare and contrast these two unnecessary and unhealthy expenses with the average cost of rent in Alberta<sub>[10]</sub>, it's easy to see how cutting them from one's lifestyle would be a positive shift. "
   ]
  },
  {
   "cell_type": "code",
   "execution_count": 5,
   "metadata": {},
   "outputs": [
    {
     "data": {
      "application/vnd.plotly.v1+json": {
       "data": [
        {
         "mode": "lines+markers",
         "name": "Cigarettes",
         "type": "scatter",
         "uid": "03f572b2-9b25-11e8-a2bc-28cfe9142f7f",
         "x": [
          1,
          2,
          3,
          4,
          5,
          6,
          7,
          8,
          9,
          10,
          11,
          12
         ],
         "y": [
          133.125,
          266.25,
          399.37500000000006,
          532.5,
          665.625,
          798.7500000000001,
          931.875,
          1065,
          1198.125,
          1331.25,
          1464.375,
          1597.5000000000002
         ]
        },
        {
         "mode": "lines+markers",
         "name": "Rent",
         "type": "scatter",
         "uid": "03f57668-9b25-11e8-a2bc-28cfe9142f7f",
         "x": [
          1,
          2,
          3,
          4,
          5,
          6,
          7,
          8,
          9,
          10,
          11,
          12
         ],
         "y": [
          1190,
          1190,
          1190,
          1190,
          1190,
          1190,
          1190,
          1190,
          1190,
          1190,
          1190,
          1190
         ]
        },
        {
         "mode": "lines+markers",
         "name": "Alcohol",
         "type": "scatter",
         "uid": "03f57956-9b25-11e8-a2bc-28cfe9142f7f",
         "x": [
          1,
          2,
          3,
          4,
          5,
          6,
          7,
          8,
          9,
          10,
          11,
          12
         ],
         "y": [
          800,
          1600,
          2400,
          3200,
          4000,
          4800,
          5600,
          6400,
          7200,
          8000,
          8800,
          9600
         ]
        }
       ],
       "layout": {
        "title": "Cost of Cigarettes Over a Year vs. Cost of Rent Each Month",
        "xaxis": {
         "title": "Months"
        },
        "yaxis": {
         "title": "Cost in Dollars"
        }
       }
      },
      "text/html": [
       "<div id=\"cced4ad9-d452-4e28-9e54-d9fe7a30d562\" style=\"height: 525px; width: 100%;\" class=\"plotly-graph-div\"></div><script type=\"text/javascript\">require([\"plotly\"], function(Plotly) { window.PLOTLYENV=window.PLOTLYENV || {};window.PLOTLYENV.BASE_URL=\"https://plot.ly\";\n",
       "        Plotly.plot(\n",
       "            'cced4ad9-d452-4e28-9e54-d9fe7a30d562',\n",
       "            [{\"mode\": \"lines+markers\", \"name\": \"Cigarettes\", \"x\": [1, 2, 3, 4, 5, 6, 7, 8, 9, 10, 11, 12], \"y\": [133.125, 266.25, 399.37500000000006, 532.5, 665.625, 798.7500000000001, 931.875, 1065.0, 1198.125, 1331.25, 1464.375, 1597.5000000000002], \"type\": \"scatter\", \"uid\": \"03f572b2-9b25-11e8-a2bc-28cfe9142f7f\"}, {\"mode\": \"lines+markers\", \"name\": \"Rent\", \"x\": [1, 2, 3, 4, 5, 6, 7, 8, 9, 10, 11, 12], \"y\": [1190, 1190, 1190, 1190, 1190, 1190, 1190, 1190, 1190, 1190, 1190, 1190], \"type\": \"scatter\", \"uid\": \"03f57668-9b25-11e8-a2bc-28cfe9142f7f\"}, {\"mode\": \"lines+markers\", \"name\": \"Alcohol\", \"x\": [1, 2, 3, 4, 5, 6, 7, 8, 9, 10, 11, 12], \"y\": [800, 1600, 2400, 3200, 4000, 4800, 5600, 6400, 7200, 8000, 8800, 9600], \"type\": \"scatter\", \"uid\": \"03f57956-9b25-11e8-a2bc-28cfe9142f7f\"}],\n",
       "            {\"title\": \"Cost of Cigarettes Over a Year vs. Cost of Rent Each Month\", \"xaxis\": {\"title\": \"Months\"}, \"yaxis\": {\"title\": \"Cost in Dollars\"}},\n",
       "            {\"showLink\": true, \"linkText\": \"Export to plot.ly\"}\n",
       "        ).then(function () {return Plotly.addFrames('cced4ad9-d452-4e28-9e54-d9fe7a30d562',{});}).then(function(){Plotly.animate('cced4ad9-d452-4e28-9e54-d9fe7a30d562');})\n",
       "        });</script>"
      ],
      "text/vnd.plotly.v1+html": [
       "<div id=\"cced4ad9-d452-4e28-9e54-d9fe7a30d562\" style=\"height: 525px; width: 100%;\" class=\"plotly-graph-div\"></div><script type=\"text/javascript\">require([\"plotly\"], function(Plotly) { window.PLOTLYENV=window.PLOTLYENV || {};window.PLOTLYENV.BASE_URL=\"https://plot.ly\";\n",
       "        Plotly.plot(\n",
       "            'cced4ad9-d452-4e28-9e54-d9fe7a30d562',\n",
       "            [{\"mode\": \"lines+markers\", \"name\": \"Cigarettes\", \"x\": [1, 2, 3, 4, 5, 6, 7, 8, 9, 10, 11, 12], \"y\": [133.125, 266.25, 399.37500000000006, 532.5, 665.625, 798.7500000000001, 931.875, 1065.0, 1198.125, 1331.25, 1464.375, 1597.5000000000002], \"type\": \"scatter\", \"uid\": \"03f572b2-9b25-11e8-a2bc-28cfe9142f7f\"}, {\"mode\": \"lines+markers\", \"name\": \"Rent\", \"x\": [1, 2, 3, 4, 5, 6, 7, 8, 9, 10, 11, 12], \"y\": [1190, 1190, 1190, 1190, 1190, 1190, 1190, 1190, 1190, 1190, 1190, 1190], \"type\": \"scatter\", \"uid\": \"03f57668-9b25-11e8-a2bc-28cfe9142f7f\"}, {\"mode\": \"lines+markers\", \"name\": \"Alcohol\", \"x\": [1, 2, 3, 4, 5, 6, 7, 8, 9, 10, 11, 12], \"y\": [800, 1600, 2400, 3200, 4000, 4800, 5600, 6400, 7200, 8000, 8800, 9600], \"type\": \"scatter\", \"uid\": \"03f57956-9b25-11e8-a2bc-28cfe9142f7f\"}],\n",
       "            {\"title\": \"Cost of Cigarettes Over a Year vs. Cost of Rent Each Month\", \"xaxis\": {\"title\": \"Months\"}, \"yaxis\": {\"title\": \"Cost in Dollars\"}},\n",
       "            {\"showLink\": true, \"linkText\": \"Export to plot.ly\"}\n",
       "        ).then(function () {return Plotly.addFrames('cced4ad9-d452-4e28-9e54-d9fe7a30d562',{});}).then(function(){Plotly.animate('cced4ad9-d452-4e28-9e54-d9fe7a30d562');})\n",
       "        });</script>"
      ]
     },
     "metadata": {},
     "output_type": "display_data"
    }
   ],
   "source": [
    "# If you're interested in how this graph was made, check out money.py in the src folder!\n",
    "# Don't worry if you accidently make any changes to the code!\n",
    "# Just re-download the notebook from the server and you'll get the original copy back.\n",
    "import src.money as mo\n",
    "mo.graph()"
   ]
  },
  {
   "cell_type": "markdown",
   "metadata": {},
   "source": [
    "People addicted to alcohol or drugs are more likely to find themselves addicted to gambling, which can be another serious financial drain. Multiple addictions can create a negative feedback loop as we saw with alcohol leading to nicotine cravings. Casinos often actively push for liquor sales in order to 'loosen up' their patrons, and when one experiences a loss in gambling, turning to substance abuse to numb the pain is an option that's all too easily accessible<sub>[11]</sub>.  "
   ]
  },
  {
   "cell_type": "markdown",
   "metadata": {},
   "source": [
    "<h1><a name=\"community\" style=\"text-decoration: none; color: black;\">Impact on Communities Case Study</a></h1> <br>\n",
    "<img src=\"CALMImages/suicide.jpg\" style=\"width:300px; float:left; padding-right: 10px\"> Without proper supports and mitigation, addictions can spread like epidemics and are carried on from one generation to the next. Looking at Aboriginal comminuties as a case study, there is a clear correlation between substance abuse and significant mental health issues such as suicide and depression<sub>[12]</sub>. \n",
    "\n",
    "People who drink or use are more likely to lie, usually to cover up their addiction, and are also more prone to violence. Both these traits push away the people in their lives and hurt their ability to have meaningful relationships<sub>[13]</sub>. Scroll through the infographic below to get a better sense of how substance abuse can negatively impact a community<sub>[14]</sub>."
   ]
  },
  {
   "cell_type": "code",
   "execution_count": 19,
   "metadata": {},
   "outputs": [],
   "source": [
    "# If you're interested in how this infographic was made, check out casestudy.html in the src folder!\n",
    "# Don't worry if you accidently make any changes to the code!\n",
    "# Just re-download the notebook from the server and you'll get the original copy back."
   ]
  },
  {
   "cell_type": "code",
   "execution_count": 6,
   "metadata": {},
   "outputs": [
    {
     "data": {
      "text/html": [
       "<iframe src=\"src/casestudy.html\" width=\"400px\" height=\"400px\"></iframe>"
      ],
      "text/plain": [
       "<IPython.core.display.HTML object>"
      ]
     },
     "metadata": {},
     "output_type": "display_data"
    }
   ],
   "source": [
    "%%html\n",
    "<iframe src=\"src/casestudy.html\" width=\"400px\" height=\"400px\"></iframe>"
   ]
  },
  {
   "cell_type": "markdown",
   "metadata": {},
   "source": [
    "<h1><a name=\"prevention\" style=\"text-decoration: none; color: black;\">What Can You Do?</a></h1> <br>\n",
    "1. It's important to know why you feel like drinking or using. Or what might bring you to feel like it. The main reason teens and some adults start drinking or using is to fit in or because they fear missing out. If your friends or peers pressure you into doing _anything_ you're uncomfortable with, you have every right to refuse them and their so-called friendship.\n",
    "\n",
    "2. When life gets hectic or overwhelming, you may feel the need to relieve the stress. In situations like these, it's important to take the long-term view. Substance abuse will only make your life _more_ stressful as you struggle to cope with addiction and the strain it puts on your health and relationships. There are many other healthy and productive ways to handle stress: read, learn a new skill, volunteer, or exercise. \n",
    "\n",
    "3. Drinking or using is **NOT** a treatment for mental illness. If anything, it will only make it worse because instead of overcoming the condition, substance abuse becomes a crutch for it. Seek out a professional to help cope with any mental illness issues such as depression, anxiety, or PTSD, ideally before it fuels an addiction.\n",
    "\n",
    "4. Educate yourself on the risk factors associated with substance abuse such as those we discussed in this module. If you are forewarned, you are less likely to end up drinking or using. As well, if you are aware of any environmental factors that can lead to substance abuse, such as a family member or friends who drink or use, then you can consciously prevent yourself from being influenced and are less likely to succumb to it. \n",
    "\n",
    "If you have a balanced lifestyle, your priorities in order, and keep the bigger picture in mind in the here and now, you are more likely to make good decisions that have a positive impact on your life<sub>[15]</sub>.\n",
    "\n",
    "Substance Abuse Hotline - https://www.albertahealthservices.ca/info/service.aspx?id=1008399\n",
    "\n",
    "Mental Health Hotline - https://www.albertahealthservices.ca/info/service.aspx?id=6810"
   ]
  },
  {
   "cell_type": "code",
   "execution_count": 7,
   "metadata": {},
   "outputs": [
    {
     "data": {
      "text/html": [
       "\n",
       "        <iframe\n",
       "            width=\"400\"\n",
       "            height=\"300\"\n",
       "            src=\"https://www.youtube.com/embed/RrqBibxgj3s\"\n",
       "            frameborder=\"0\"\n",
       "            allowfullscreen\n",
       "        ></iframe>\n",
       "        "
      ],
      "text/plain": [
       "<IPython.lib.display.YouTubeVideo at 0x10a45bef0>"
      ]
     },
     "metadata": {},
     "output_type": "display_data"
    }
   ],
   "source": [
    "# Here is a youtube video highlighting a real story of recovery from addiction.\n",
    "# Run this code segment to bring the video into this Callysto notebook.\n",
    "\n",
    "from IPython.lib.display import YouTubeVideo\n",
    "display(YouTubeVideo('RrqBibxgj3s'))"
   ]
  },
  {
   "cell_type": "markdown",
   "metadata": {},
   "source": [
    "<h1><a name=\"concl\" style=\"text-decoration: none; color: black;\">Conclusion</a></h1> <br>\n",
    "In this module, we looked at how substance abuse can impair our decision-making processes and negatively affect our lives. "
   ]
  },
  {
   "cell_type": "markdown",
   "metadata": {},
   "source": [
    "<h1><a name=\"ref\" style=\"text-decoration: none; color: black;\">References</a></h1> <br>\n",
    "[1] MADD Canada. (2018). Statistics. [online] Available at: https://madd.ca/pages/impaired-driving/overview/statistics/ [Accessed 23 Jul. 2018]. <br>\n",
    "[2] \"Alcohol And Human Health\". Openlearn, 2018, http://www.open.edu/openlearn/science-maths-technology/science/biology/alcohol-and-human-health/content-section-1.1. Accessed 24 July 2018. <br>\n",
    "[3] \"ACETIC ACID - National Library Of Medicine HSDB Database\". Toxnet.Nlm.Nih.Gov, 2018, https://toxnet.nlm.nih.gov/cgi-bin/sis/search/a?dbs+hsdb:@term+@DOCNO+40. Accessed 24 July 2018. <br>\n",
    "[4] \"Young Men’S Drinking Tied To Later Liver Disease Risk\". U.S., 2018, https://www.reuters.com/article/us-health-teens-alcohol-liver/young-mens-drinking-tied-to-later-liver-disease-risk-idUSKCN1G62KR. Accessed 24 July 2018. <br>\n",
    "[5] Roxanne Dryden-Edwards, MD. \"Alcohol And Teens: Learn The Effects Of Teenage Drinking\". Medicinenet, 2018, https://www.medicinenet.com/alcohol_and_teens/article.htm#what_are_the_dangerous_effects_of_alcohol_use_in_teens. Accessed 24 July 2018. <br>\n",
    "[6]  \"Nicotine | Psychology Today Canada\". Psychology Today, 2018, https://www.psychologytoday.com/ca/conditions/nicotine. Accessed 24 July 2018. <br>\n",
    "[7] Canada, Health. \"Carcinogens In Tobacco Smoke - Canada.Ca\". Canada.Ca, 2018, https://www.canada.ca/en/health-canada/services/publications/healthy-living/carcinogens-tobacco-smoke.html. Accessed 25 July 2018.\n",
    "[8] \"Http://Time.Com\". Money, 2018, http://time.com/money/4075761/habits-that-cost-expensive/. Accessed 25 July 2018.<br>\n",
    "[9] \"Http://Time.Com\". Money, 2018, http://time.com/money/3847146/save-money-alcohol-beer-wine-happy-hour/. Accessed 25 July 2018. <br>\n",
    "[10] Elliott, Tamara. \"Rental Prices In Alberta Continue To Rise\". Global News, 2018, https://globalnews.ca/news/1520299/rental-prices-in-alberta-continue-to-rise/. Accessed 25 July 2018. <br>\n",
    "[11] \"The Connection Between Gambling And Substance Abuse | Narconon - Drug Addiction & Recovery Blog\". Narconon.Org, 2018, https://www.narconon.org/blog/drug-addiction/connection-gambling-substance-abuse/. Accessed 25 July 2018. <br>\n",
    "[12] \"Suicide: One Of Addiction’s Hidden Risks\". Psychology Today, 2018, https://www.psychologytoday.com/us/blog/real-healing/201402/suicide-one-addiction-s-hidden-risks. Accessed 26 July 2018. <br>\n",
    "[13] \"How Drug Addiction Hurts Relationships - Drugabuse.Com\". Drugabuse.Com, 2018, https://drugabuse.com/library/addiction-hurts-relationships/. Accessed 26 July 2018. <br>\n",
    "[14] \"Aboriginal Mental Health: The Statistical Reality | Here To Help\". Heretohelp.Bc.Ca, 2018, http://www.heretohelp.bc.ca/visions/aboriginal-people-vol5/aboriginal-mental-health-the-statistical-reality. Accessed 25 July 2018. <br>\n",
    "[15] Winkel, Bethany. \"Top 5 Ways To Prevent Substance Abuse - Treatment Solutions\". Treatment Solutions, 2018, https://www.treatmentsolutions.com/top-5-ways-to-prevent-substance-abuse/. Accessed 26 July 2018.\n",
    "\n",
    "## Images\n",
    "http://www.londoneligibility.com/wp-content/uploads/2018/04/Liver-Disease-624x261.jpg <br>\n",
    "http://www.cgepmd.com/wp-content/uploads/2014/07/healthy-lungs-vs-unhealthy-lungs.jpg <br>\n",
    "https://i.ytimg.com/vi/6GCmP3o26EA/maxresdefault.jpg"
   ]
  },
  {
   "cell_type": "markdown",
   "metadata": {},
   "source": [
    "<img width=\"100%\" src=\"CALMImages/callystoBannerBottom.jpg\"/>"
   ]
  }
 ],
 "metadata": {
  "kernelspec": {
   "display_name": "Python 3",
   "language": "python",
   "name": "python3"
  },
  "language_info": {
   "codemirror_mode": {
    "name": "ipython",
    "version": 3
   },
   "file_extension": ".py",
   "mimetype": "text/x-python",
   "name": "python",
   "nbconvert_exporter": "python",
   "pygments_lexer": "ipython3",
   "version": "3.7.0"
  }
 },
 "nbformat": 4,
 "nbformat_minor": 2
}
