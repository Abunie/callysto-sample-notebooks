{
 "cells": [
  {
   "cell_type": "markdown",
   "metadata": {},
   "source": [
    "<img width=\"100%\" src=\"callystoBannerTop.jpg\"/>"
   ]
  },
  {
   "cell_type": "markdown",
   "metadata": {},
   "source": [
    "# Overview\n",
    "Alberta Curriculum Objective: Assess the effects of substance use and abuse—tobacco, alcohol, drugs—on health. https://education.alberta.ca/media/160199/calm.pdf\n",
    "\n",
    "Disclaimer: The simulation and represented data are meant to demonstrate to students that there is always a risk associated with substance abuse and that there is no level of consumption that is entirely risk-free. Just because a student is able to 'drive' in the 'intoxicated' simulation setting(s), or if a data point reflects a high instance of survival with minimal consumption does NOT mean it is safe to do so in real life. "
   ]
  },
  {
   "cell_type": "markdown",
   "metadata": {},
   "source": [
    "# Introduction\n",
    "Are designated drivers really that important? How many is one too many? \n",
    "\n",
    "The simulation below approximates what it might be like to drive under the influence. Give it a try by clicking anywhere in the frame and using the A, S, W, D keys to move. Stay within the guardrails, avoid debris, and oncoming traffic."
   ]
  },
  {
   "cell_type": "code",
   "execution_count": 20,
   "metadata": {},
   "outputs": [
    {
     "data": {
      "text/html": [
       "<iframe src=\"driving.html\" width=\"400px\" height=\"400px\"></iframe>"
      ],
      "text/plain": [
       "<IPython.core.display.HTML object>"
      ]
     },
     "metadata": {},
     "output_type": "display_data"
    }
   ],
   "source": [
    "%%html\n",
    "<iframe src=\"driving.html\" width=\"400px\" height=\"400px\"></iframe>"
   ]
  },
  {
   "cell_type": "markdown",
   "metadata": {},
   "source": [
    "The chemicals in substances like cocaine affect the part of the brain called the orbitofrontal cortex, which handles our decision-making processes. This impairs our ability to make quick, sound decisions, such as those needed when driving. "
   ]
  },
  {
   "cell_type": "markdown",
   "metadata": {},
   "source": [
    "# Data\n"
   ]
  },
  {
   "cell_type": "markdown",
   "metadata": {},
   "source": [
    "# Conclusion\n",
    "In this module, we looked at a prime example of a situation wherein substance abuse can impair our decision-making processes and negatively affect our lives. "
   ]
  },
  {
   "cell_type": "markdown",
   "metadata": {},
   "source": [
    "# Reference\n",
    "MADD Canada. (2018). Statistics. [online] Available at: https://madd.ca/pages/impaired-driving/overview/statistics/ [Accessed 23 Jul. 2018]."
   ]
  },
  {
   "cell_type": "markdown",
   "metadata": {},
   "source": [
    "<img width=\"100%\" src=\"callystoBannerBottom.jpg\"/>"
   ]
  }
 ],
 "metadata": {
  "kernelspec": {
   "display_name": "Python 3",
   "language": "python",
   "name": "python3"
  },
  "language_info": {
   "codemirror_mode": {
    "name": "ipython",
    "version": 3
   },
   "file_extension": ".py",
   "mimetype": "text/x-python",
   "name": "python",
   "nbconvert_exporter": "python",
   "pygments_lexer": "ipython3",
   "version": "3.7.0"
  }
 },
 "nbformat": 4,
 "nbformat_minor": 2
}
