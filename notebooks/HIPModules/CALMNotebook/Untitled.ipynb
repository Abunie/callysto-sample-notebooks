{
 "cells": [
  {
   "cell_type": "code",
   "execution_count": null,
   "metadata": {},
   "outputs": [],
   "source": [
    "var temp = random(0, 4);\n",
    "            var left;\n",
    "            var right;\n",
    "            var up;\n",
    "            var down; \n",
    "            if (temp <= 1) {\n",
    "                left = 68;\n",
    "                right = 65;\n",
    "                up = 83;\n",
    "                down = 87;\n",
    "            }\n",
    "            if (temp > 1 && temp <= 2) {\n",
    "                left = 65;\n",
    "                right = 83;\n",
    "                up = 87;\n",
    "                down = 68;\n",
    "            }\n",
    "            if (temp > 2 && temp <= 3) {\n",
    "                left = 83;\n",
    "                right = 87;\n",
    "                up = 68;\n",
    "                down = 65;\n",
    "            }\n",
    "            if (temp > 3 && temp <= 4) {\n",
    "                left = 87;\n",
    "                right = 68;\n",
    "                up = 65;\n",
    "                down = 83;\n",
    "            }"
   ]
  }
 ],
 "metadata": {
  "kernelspec": {
   "display_name": "Python 3",
   "language": "python",
   "name": "python3"
  },
  "language_info": {
   "codemirror_mode": {
    "name": "ipython",
    "version": 3
   },
   "file_extension": ".py",
   "mimetype": "text/x-python",
   "name": "python",
   "nbconvert_exporter": "python",
   "pygments_lexer": "ipython3",
   "version": "3.7.0"
  }
 },
 "nbformat": 4,
 "nbformat_minor": 2
}
