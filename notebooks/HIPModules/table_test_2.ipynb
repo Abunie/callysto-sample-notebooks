{
 "cells": [
  {
   "cell_type": "code",
   "execution_count": 36,
   "metadata": {},
   "outputs": [],
   "source": [
    "import pandas as pd\n",
    "import matplotlib as mpl\n",
    "import matplotlib.pyplot as plt\n",
    "from plotly.offline import init_notebook_mode, iplot\n",
    "import plotly.graph_objs as go\n",
    "from plotly.graph_objs import *\n",
    "import numpy as np\n",
    "import random"
   ]
  },
  {
   "cell_type": "code",
   "execution_count": 57,
   "metadata": {},
   "outputs": [],
   "source": [
    "#STEP 1\n",
    "#set these values ONCE at the beginning of your experiment\n",
    "avePressure = 10 #in kPa\n",
    "standardDeviation = 0.4\n",
    "\n",
    "trials = [] #leave this blank for now - values will be added later!"
   ]
  },
  {
   "cell_type": "code",
   "execution_count": 64,
   "metadata": {},
   "outputs": [],
   "source": [
    "#STEP 2\n",
    "#run this cell to generate values to populate your table, then run the table-generating cell\n",
    "yielded = random.uniform((avePressure-standardDeviation), (avePressure+standardDeviation))\n",
    "pressure = round(yielded, 2)\n",
    "k = 15 #contant for simplicity\n",
    "trials.append((pressure, 10*pressure))"
   ]
  },
  {
   "cell_type": "code",
   "execution_count": 65,
   "metadata": {},
   "outputs": [
    {
     "name": "stdout",
     "output_type": "stream",
     "text": [
      "[(10.2, 102.0), (10.15, 101.5), (9.77, 97.69999999999999)]\n"
     ]
    }
   ],
   "source": [
    "print(trials)"
   ]
  },
  {
   "cell_type": "code",
   "execution_count": 67,
   "metadata": {},
   "outputs": [
    {
     "data": {
      "text/html": [
       "<style  type=\"text/css\" >\n",
       "</style>  \n",
       "<table id=\"T_c84aeef6_8457_11e8_b367_28cfe9142f7f\" > \n",
       "<thead>    <tr> \n",
       "        <th class=\"blank level0\" ></th> \n",
       "        <th class=\"col_heading level0 col0\" >Pressure</th> \n",
       "        <th class=\"col_heading level0 col1\" >Temperature</th> \n",
       "    </tr></thead> \n",
       "<tbody>    <tr> \n",
       "        <th id=\"T_c84aeef6_8457_11e8_b367_28cfe9142f7flevel0_row0\" class=\"row_heading level0 row0\" >0</th> \n",
       "        <td id=\"T_c84aeef6_8457_11e8_b367_28cfe9142f7frow0_col0\" class=\"data row0 col0\" >9.77</td> \n",
       "        <td id=\"T_c84aeef6_8457_11e8_b367_28cfe9142f7frow0_col1\" class=\"data row0 col1\" >97.7</td> \n",
       "    </tr>    <tr> \n",
       "        <th id=\"T_c84aeef6_8457_11e8_b367_28cfe9142f7flevel0_row1\" class=\"row_heading level0 row1\" >1</th> \n",
       "        <td id=\"T_c84aeef6_8457_11e8_b367_28cfe9142f7frow1_col0\" class=\"data row1 col0\" >10.15</td> \n",
       "        <td id=\"T_c84aeef6_8457_11e8_b367_28cfe9142f7frow1_col1\" class=\"data row1 col1\" >101.5</td> \n",
       "    </tr>    <tr> \n",
       "        <th id=\"T_c84aeef6_8457_11e8_b367_28cfe9142f7flevel0_row2\" class=\"row_heading level0 row2\" >2</th> \n",
       "        <td id=\"T_c84aeef6_8457_11e8_b367_28cfe9142f7frow2_col0\" class=\"data row2 col0\" >10.2</td> \n",
       "        <td id=\"T_c84aeef6_8457_11e8_b367_28cfe9142f7frow2_col1\" class=\"data row2 col1\" >102</td> \n",
       "    </tr></tbody> \n",
       "</table> "
      ],
      "text/plain": [
       "<pandas.io.formats.style.Styler at 0x10eb84b00>"
      ]
     },
     "execution_count": 67,
     "metadata": {},
     "output_type": "execute_result"
    }
   ],
   "source": [
    "#STEP 3\n",
    "#table-generating cell - run after generating each new data pair\n",
    "labels = ['Pressure', 'Temperature']\n",
    "trials.sort()\n",
    "df = pd.DataFrame.from_records(trials, columns=labels)\n",
    "df.head\n",
    "df.style\n",
    "#run step 2 then step 3 repeatedly until satisfied with your table of values"
   ]
  },
  {
   "cell_type": "code",
   "execution_count": null,
   "metadata": {},
   "outputs": [],
   "source": []
  }
 ],
 "metadata": {
  "kernelspec": {
   "display_name": "Python 3",
   "language": "python",
   "name": "python3"
  },
  "language_info": {
   "codemirror_mode": {
    "name": "ipython",
    "version": 3
   },
   "file_extension": ".py",
   "mimetype": "text/x-python",
   "name": "python",
   "nbconvert_exporter": "python",
   "pygments_lexer": "ipython3",
   "version": "3.7.0"
  }
 },
 "nbformat": 4,
 "nbformat_minor": 2
}
