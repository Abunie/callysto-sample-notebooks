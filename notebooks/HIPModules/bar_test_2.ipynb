{
 "cells": [
  {
   "cell_type": "code",
   "execution_count": 41,
   "metadata": {},
   "outputs": [],
   "source": [
    "import plotly.offline as py\n",
    "from plotly.offline import init_notebook_mode, iplot\n",
    "import plotly.graph_objs as go\n",
    "import numpy as np\n",
    "import random\n",
    "from ipywidgets import interact, interactive, fixed, interact_manual\n",
    "import ipywidgets as widgets\n",
    "from IPython.display import display"
   ]
  },
  {
   "cell_type": "code",
   "execution_count": 78,
   "metadata": {},
   "outputs": [],
   "source": [
    "aveVolume=10 #in litres\n",
    "standardDeviation=0.4\n",
    "\n",
    "volumes = []\n",
    "temperatures = []"
   ]
  },
  {
   "cell_type": "code",
   "execution_count": 79,
   "metadata": {},
   "outputs": [],
   "source": [
    "yielded = random.uniform((aveVolume-standardDeviation), (aveVolume+standardDeviation))\n",
    "volume = round(yielded, 2)\n",
    "k = 0.56 #constant for simplicity"
   ]
  },
  {
   "cell_type": "code",
   "execution_count": 81,
   "metadata": {},
   "outputs": [
    {
     "data": {
      "text/html": [
       "<script>requirejs.config({paths: { 'plotly': ['https://cdn.plot.ly/plotly-latest.min']},});if(!window.Plotly) {{require(['plotly'],function(plotly) {window.Plotly=plotly;});}}</script>"
      ],
      "text/vnd.plotly.v1+html": [
       "<script>requirejs.config({paths: { 'plotly': ['https://cdn.plot.ly/plotly-latest.min']},});if(!window.Plotly) {{require(['plotly'],function(plotly) {window.Plotly=plotly;});}}</script>"
      ]
     },
     "metadata": {},
     "output_type": "display_data"
    },
    {
     "data": {
      "application/vnd.jupyter.widget-view+json": {
       "model_id": "bfcb7514c4f04233ac3abec9fb9aeabe",
       "version_major": 2,
       "version_minor": 0
      },
      "text/plain": [
       "interactive(children=(IntSlider(value=9, description='Change Volume:', max=10), Output()), _dom_classes=('widg…"
      ]
     },
     "metadata": {},
     "output_type": "display_data"
    },
    {
     "data": {
      "application/vnd.plotly.v1+json": {
       "data": [
        {
         "name": "Volume",
         "type": "bar",
         "x": [
          "Trial 1",
          "Trial 2",
          "Trial 3"
         ],
         "y": [
          9,
          8,
          7,
          6,
          9
         ]
        },
        {
         "name": "Temperature",
         "type": "bar",
         "x": [
          "Trial 1",
          "Trial 2",
          "Trial 3"
         ],
         "y": [
          5.566400000000001,
          5.566400000000001,
          5.566400000000001,
          5.566400000000001,
          5.566400000000001
         ]
        }
       ],
       "layout": {
        "barmode": "group"
       }
      },
      "text/html": [
       "<div id=\"e6ee133d-4491-4863-acfc-5a9c9d7d0a1b\" style=\"height: 525px; width: 100%;\" class=\"plotly-graph-div\"></div><script type=\"text/javascript\">require([\"plotly\"], function(Plotly) { window.PLOTLYENV=window.PLOTLYENV || {};window.PLOTLYENV.BASE_URL=\"https://plot.ly\";Plotly.newPlot(\"e6ee133d-4491-4863-acfc-5a9c9d7d0a1b\", [{\"type\": \"bar\", \"x\": [\"Trial 1\", \"Trial 2\", \"Trial 3\"], \"y\": [9, 8, 7, 6, 9], \"name\": \"Volume\"}, {\"type\": \"bar\", \"x\": [\"Trial 1\", \"Trial 2\", \"Trial 3\"], \"y\": [5.566400000000001, 5.566400000000001, 5.566400000000001, 5.566400000000001, 5.566400000000001], \"name\": \"Temperature\"}], {\"barmode\": \"group\"}, {\"showLink\": true, \"linkText\": \"Export to plot.ly\"})});</script>"
      ],
      "text/vnd.plotly.v1+html": [
       "<div id=\"e6ee133d-4491-4863-acfc-5a9c9d7d0a1b\" style=\"height: 525px; width: 100%;\" class=\"plotly-graph-div\"></div><script type=\"text/javascript\">require([\"plotly\"], function(Plotly) { window.PLOTLYENV=window.PLOTLYENV || {};window.PLOTLYENV.BASE_URL=\"https://plot.ly\";Plotly.newPlot(\"e6ee133d-4491-4863-acfc-5a9c9d7d0a1b\", [{\"type\": \"bar\", \"x\": [\"Trial 1\", \"Trial 2\", \"Trial 3\"], \"y\": [9, 8, 7, 6, 9], \"name\": \"Volume\"}, {\"type\": \"bar\", \"x\": [\"Trial 1\", \"Trial 2\", \"Trial 3\"], \"y\": [5.566400000000001, 5.566400000000001, 5.566400000000001, 5.566400000000001, 5.566400000000001], \"name\": \"Temperature\"}], {\"barmode\": \"group\"}, {\"showLink\": true, \"linkText\": \"Export to plot.ly\"})});</script>"
      ]
     },
     "metadata": {},
     "output_type": "display_data"
    }
   ],
   "source": [
    "init_notebook_mode(connected=True)\n",
    "\n",
    "def f(x):\n",
    "    volumes.append(x)\n",
    "    temperatures.append(k*volume)\n",
    "    return x\n",
    "\n",
    "w = interact(f, x=widgets.IntSlider(\n",
    "        value=volume,\n",
    "        min=0,\n",
    "        max=10,\n",
    "        step=1,\n",
    "        description='Change Volume:',\n",
    "        disabled=False,\n",
    "        continuous_update=True,\n",
    "        orientation='horizontal',\n",
    "        readout=True,\n",
    "        readout_format='d'\n",
    "    )\n",
    ")\n",
    "\n",
    "trace1 = go.Bar(\n",
    "    x=['Trial 1', 'Trial 2', 'Trial 3'],\n",
    "    y=volumes,\n",
    "    name='Volume'\n",
    ")\n",
    "trace2 = go.Bar(\n",
    "    x=['Trial 1', 'Trial 2', 'Trial 3'],\n",
    "    y=temperatures,\n",
    "    name='Temperature'\n",
    ")\n",
    "\n",
    "data = [trace1, trace2]\n",
    "\n",
    "layout = go.Layout(\n",
    "    barmode='group'\n",
    ")\n",
    "\n",
    "fig = go.Figure(data=data, layout=layout)\n",
    "py.iplot(fig, filename='grouped-bar')\n"
   ]
  },
  {
   "cell_type": "code",
   "execution_count": null,
   "metadata": {},
   "outputs": [],
   "source": []
  },
  {
   "cell_type": "code",
   "execution_count": null,
   "metadata": {},
   "outputs": [],
   "source": []
  }
 ],
 "metadata": {
  "kernelspec": {
   "display_name": "Python 3",
   "language": "python",
   "name": "python3"
  },
  "language_info": {
   "codemirror_mode": {
    "name": "ipython",
    "version": 3
   },
   "file_extension": ".py",
   "mimetype": "text/x-python",
   "name": "python",
   "nbconvert_exporter": "python",
   "pygments_lexer": "ipython3",
   "version": "3.6.5"
  }
 },
 "nbformat": 4,
 "nbformat_minor": 2
}
