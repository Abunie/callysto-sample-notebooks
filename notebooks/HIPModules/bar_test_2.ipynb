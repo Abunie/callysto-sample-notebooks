{
 "cells": [
  {
   "cell_type": "code",
   "execution_count": 102,
   "metadata": {},
   "outputs": [],
   "source": [
    "import plotly.offline as py\n",
    "from plotly.offline import init_notebook_mode, iplot\n",
    "import plotly.graph_objs as go\n",
    "import numpy as np\n",
    "import random\n",
    "import ipywidgets as widgets\n",
    "from IPython.display import display"
   ]
  },
  {
   "cell_type": "code",
   "execution_count": 126,
   "metadata": {},
   "outputs": [],
   "source": [
    "aveVolume=10 #in litres\n",
    "standardDeviation=0.4\n",
    "\n",
    "volumes = []\n",
    "temperatures = []"
   ]
  },
  {
   "cell_type": "code",
   "execution_count": 131,
   "metadata": {},
   "outputs": [],
   "source": [
    "yielded = random.uniform((aveVolume-standardDeviation), (aveVolume+standardDeviation))\n",
    "volume = round(yielded, 2)\n",
    "k = 0.56 #constant for simplicity\n",
    "temperatures.append(k*volume)"
   ]
  },
  {
   "cell_type": "code",
   "execution_count": 133,
   "metadata": {},
   "outputs": [
    {
     "data": {
      "text/html": [
       "<script>requirejs.config({paths: { 'plotly': ['https://cdn.plot.ly/plotly-latest.min']},});if(!window.Plotly) {{require(['plotly'],function(plotly) {window.Plotly=plotly;});}}</script>"
      ],
      "text/vnd.plotly.v1+html": [
       "<script>requirejs.config({paths: { 'plotly': ['https://cdn.plot.ly/plotly-latest.min']},});if(!window.Plotly) {{require(['plotly'],function(plotly) {window.Plotly=plotly;});}}</script>"
      ]
     },
     "metadata": {},
     "output_type": "display_data"
    },
    {
     "data": {
      "application/vnd.jupyter.widget-view+json": {
       "model_id": "e05f58999b13473bbf78c13efe045f3e",
       "version_major": 2,
       "version_minor": 0
      },
      "text/plain": [
       "IntSlider(value=10, description='Change Volume:', max=10)"
      ]
     },
     "metadata": {},
     "output_type": "display_data"
    },
    {
     "data": {
      "application/vnd.plotly.v1+json": {
       "data": [
        {
         "name": "Volume",
         "type": "bar",
         "uid": "27d44e18-8533-11e8-ae67-28cfe9142f7f",
         "x": [
          "Trial 1",
          "Trial 2",
          "Trial 3"
         ],
         "y": [
          9,
          9,
          10,
          10
         ]
        },
        {
         "name": "Temperature",
         "type": "bar",
         "uid": "27d45142-8533-11e8-ae67-28cfe9142f7f",
         "x": [
          "Trial 1",
          "Trial 2",
          "Trial 3"
         ],
         "y": [
          5.4824,
          5.437600000000001,
          5.7456000000000005
         ]
        }
       ],
       "layout": {
        "barmode": "group"
       }
      },
      "text/html": [
       "<div id=\"b1c282cb-490f-40c1-8da6-0eb0557cc197\" style=\"height: 525px; width: 100%;\" class=\"plotly-graph-div\"></div><script type=\"text/javascript\">require([\"plotly\"], function(Plotly) { window.PLOTLYENV=window.PLOTLYENV || {};window.PLOTLYENV.BASE_URL=\"https://plot.ly\";\n",
       "        Plotly.plot(\n",
       "            'b1c282cb-490f-40c1-8da6-0eb0557cc197',\n",
       "            [{\"name\": \"Volume\", \"x\": [\"Trial 1\", \"Trial 2\", \"Trial 3\"], \"y\": [9, 9, 10, 10], \"type\": \"bar\", \"uid\": \"27d44e18-8533-11e8-ae67-28cfe9142f7f\"}, {\"name\": \"Temperature\", \"x\": [\"Trial 1\", \"Trial 2\", \"Trial 3\"], \"y\": [5.4824, 5.437600000000001, 5.7456000000000005], \"type\": \"bar\", \"uid\": \"27d45142-8533-11e8-ae67-28cfe9142f7f\"}],\n",
       "            {\"barmode\": \"group\"},\n",
       "            {\"showLink\": true, \"linkText\": \"Export to plot.ly\"}\n",
       "        ).then(function () {return Plotly.addFrames('b1c282cb-490f-40c1-8da6-0eb0557cc197',{});}).then(function(){Plotly.animate('b1c282cb-490f-40c1-8da6-0eb0557cc197');})\n",
       "        });</script>"
      ],
      "text/vnd.plotly.v1+html": [
       "<div id=\"b1c282cb-490f-40c1-8da6-0eb0557cc197\" style=\"height: 525px; width: 100%;\" class=\"plotly-graph-div\"></div><script type=\"text/javascript\">require([\"plotly\"], function(Plotly) { window.PLOTLYENV=window.PLOTLYENV || {};window.PLOTLYENV.BASE_URL=\"https://plot.ly\";\n",
       "        Plotly.plot(\n",
       "            'b1c282cb-490f-40c1-8da6-0eb0557cc197',\n",
       "            [{\"name\": \"Volume\", \"x\": [\"Trial 1\", \"Trial 2\", \"Trial 3\"], \"y\": [9, 9, 10, 10], \"type\": \"bar\", \"uid\": \"27d44e18-8533-11e8-ae67-28cfe9142f7f\"}, {\"name\": \"Temperature\", \"x\": [\"Trial 1\", \"Trial 2\", \"Trial 3\"], \"y\": [5.4824, 5.437600000000001, 5.7456000000000005], \"type\": \"bar\", \"uid\": \"27d45142-8533-11e8-ae67-28cfe9142f7f\"}],\n",
       "            {\"barmode\": \"group\"},\n",
       "            {\"showLink\": true, \"linkText\": \"Export to plot.ly\"}\n",
       "        ).then(function () {return Plotly.addFrames('b1c282cb-490f-40c1-8da6-0eb0557cc197',{});}).then(function(){Plotly.animate('b1c282cb-490f-40c1-8da6-0eb0557cc197');})\n",
       "        });</script>"
      ]
     },
     "metadata": {},
     "output_type": "display_data"
    }
   ],
   "source": [
    "init_notebook_mode(connected=True)\n",
    "\n",
    "w = widgets.IntSlider(\n",
    "    value=volume,\n",
    "    min=0,\n",
    "    max=10,\n",
    "    step=1,\n",
    "    description='Change Volume:',\n",
    "    disabled=False,\n",
    "    continuous_update=True,\n",
    "    orientation='horizontal',\n",
    "    readout=True,\n",
    "    readout_format='d'\n",
    ")\n",
    "display(w)\n",
    "\n",
    "volumes.append(w.value)\n",
    "\n",
    "trace1 = go.Bar(\n",
    "    x=['Trial 1', 'Trial 2', 'Trial 3'],\n",
    "    y=volumes,\n",
    "    name='Volume'\n",
    ")\n",
    "trace2 = go.Bar(\n",
    "    x=['Trial 1', 'Trial 2', 'Trial 3'],\n",
    "    y=temperatures,\n",
    "    name='Temperature'\n",
    ")\n",
    "\n",
    "data = [trace1, trace2]\n",
    "layout = go.Layout(\n",
    "    barmode='group'\n",
    ")\n",
    "\n",
    "fig = go.Figure(data=data, layout=layout)\n",
    "py.iplot(fig, filename='grouped-bar')"
   ]
  },
  {
   "cell_type": "code",
   "execution_count": null,
   "metadata": {},
   "outputs": [],
   "source": []
  },
  {
   "cell_type": "code",
   "execution_count": null,
   "metadata": {},
   "outputs": [],
   "source": []
  }
 ],
 "metadata": {
  "kernelspec": {
   "display_name": "Python 3",
   "language": "python",
   "name": "python3"
  },
  "language_info": {
   "codemirror_mode": {
    "name": "ipython",
    "version": 3
   },
   "file_extension": ".py",
   "mimetype": "text/x-python",
   "name": "python",
   "nbconvert_exporter": "python",
   "pygments_lexer": "ipython3",
   "version": "3.7.0"
  }
 },
 "nbformat": 4,
 "nbformat_minor": 2
}
