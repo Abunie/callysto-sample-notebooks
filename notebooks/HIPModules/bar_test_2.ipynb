{
 "cells": [
  {
   "cell_type": "code",
   "execution_count": 14,
   "metadata": {},
   "outputs": [],
   "source": [
    "import plotly.offline as py\n",
    "from plotly.offline import init_notebook_mode, iplot\n",
    "import plotly.graph_objs as go\n",
    "import numpy as np\n",
    "import random"
   ]
  },
  {
   "cell_type": "code",
   "execution_count": 15,
   "metadata": {},
   "outputs": [],
   "source": [
    "aveVolume=10 #in litres\n",
    "standardDeviation=0.4\n",
    "\n",
    "volumes = []\n",
    "temperatures = []"
   ]
  },
  {
   "cell_type": "code",
   "execution_count": 16,
   "metadata": {},
   "outputs": [],
   "source": [
    "yielded = random.uniform((aveVolume-standardDeviation), (aveVolume+standardDeviation))\n",
    "volume = round(yielded, 2)\n",
    "volumes.append(volume)\n",
    "k = 0.56 #constant for simplicity\n",
    "temperatures.append(k*volume)\n"
   ]
  },
  {
   "cell_type": "code",
   "execution_count": 17,
   "metadata": {},
   "outputs": [
    {
     "data": {
      "text/html": [
       "<script>requirejs.config({paths: { 'plotly': ['https://cdn.plot.ly/plotly-latest.min']},});if(!window.Plotly) {{require(['plotly'],function(plotly) {window.Plotly=plotly;});}}</script>"
      ],
      "text/vnd.plotly.v1+html": [
       "<script>requirejs.config({paths: { 'plotly': ['https://cdn.plot.ly/plotly-latest.min']},});if(!window.Plotly) {{require(['plotly'],function(plotly) {window.Plotly=plotly;});}}</script>"
      ]
     },
     "metadata": {},
     "output_type": "display_data"
    },
    {
     "data": {
      "application/vnd.plotly.v1+json": {
       "data": [
        {
         "name": "Volume",
         "type": "bar",
         "uid": "5639ab28-846a-11e8-b44d-28cfe9142f7f",
         "x": [
          "Trial 1",
          "Trial 2",
          "Trial 3"
         ],
         "y": [
          9.64
         ]
        },
        {
         "name": "Temperature",
         "type": "bar",
         "uid": "5639ae98-846a-11e8-b44d-28cfe9142f7f",
         "x": [
          "Trial 1",
          "Trial 2",
          "Trial 3"
         ],
         "y": [
          5.3984000000000005
         ]
        }
       ],
       "layout": {
        "barmode": "group"
       }
      },
      "text/html": [
       "<div id=\"53849fa3-6d85-42a5-b41d-cdcb4b5e4e94\" style=\"height: 525px; width: 100%;\" class=\"plotly-graph-div\"></div><script type=\"text/javascript\">require([\"plotly\"], function(Plotly) { window.PLOTLYENV=window.PLOTLYENV || {};window.PLOTLYENV.BASE_URL=\"https://plot.ly\";\n",
       "        Plotly.plot(\n",
       "            '53849fa3-6d85-42a5-b41d-cdcb4b5e4e94',\n",
       "            [{\"name\": \"Volume\", \"x\": [\"Trial 1\", \"Trial 2\", \"Trial 3\"], \"y\": [9.64], \"type\": \"bar\", \"uid\": \"5639ab28-846a-11e8-b44d-28cfe9142f7f\"}, {\"name\": \"Temperature\", \"x\": [\"Trial 1\", \"Trial 2\", \"Trial 3\"], \"y\": [5.3984000000000005], \"type\": \"bar\", \"uid\": \"5639ae98-846a-11e8-b44d-28cfe9142f7f\"}],\n",
       "            {\"barmode\": \"group\"},\n",
       "            {\"showLink\": true, \"linkText\": \"Export to plot.ly\"}\n",
       "        ).then(function () {return Plotly.addFrames('53849fa3-6d85-42a5-b41d-cdcb4b5e4e94',{});}).then(function(){Plotly.animate('53849fa3-6d85-42a5-b41d-cdcb4b5e4e94');})\n",
       "        });</script>"
      ],
      "text/vnd.plotly.v1+html": [
       "<div id=\"53849fa3-6d85-42a5-b41d-cdcb4b5e4e94\" style=\"height: 525px; width: 100%;\" class=\"plotly-graph-div\"></div><script type=\"text/javascript\">require([\"plotly\"], function(Plotly) { window.PLOTLYENV=window.PLOTLYENV || {};window.PLOTLYENV.BASE_URL=\"https://plot.ly\";\n",
       "        Plotly.plot(\n",
       "            '53849fa3-6d85-42a5-b41d-cdcb4b5e4e94',\n",
       "            [{\"name\": \"Volume\", \"x\": [\"Trial 1\", \"Trial 2\", \"Trial 3\"], \"y\": [9.64], \"type\": \"bar\", \"uid\": \"5639ab28-846a-11e8-b44d-28cfe9142f7f\"}, {\"name\": \"Temperature\", \"x\": [\"Trial 1\", \"Trial 2\", \"Trial 3\"], \"y\": [5.3984000000000005], \"type\": \"bar\", \"uid\": \"5639ae98-846a-11e8-b44d-28cfe9142f7f\"}],\n",
       "            {\"barmode\": \"group\"},\n",
       "            {\"showLink\": true, \"linkText\": \"Export to plot.ly\"}\n",
       "        ).then(function () {return Plotly.addFrames('53849fa3-6d85-42a5-b41d-cdcb4b5e4e94',{});}).then(function(){Plotly.animate('53849fa3-6d85-42a5-b41d-cdcb4b5e4e94');})\n",
       "        });</script>"
      ]
     },
     "metadata": {},
     "output_type": "display_data"
    }
   ],
   "source": [
    "init_notebook_mode(connected=True)\n",
    "\n",
    "trace1 = go.Bar(\n",
    "    x=['Trial 1', 'Trial 2', 'Trial 3'],\n",
    "    y=volumes,\n",
    "    name='Volume'\n",
    ")\n",
    "trace2 = go.Bar(\n",
    "    x=['Trial 1', 'Trial 2', 'Trial 3'],\n",
    "    y=temperatures,\n",
    "    name='Temperature'\n",
    ")\n",
    "\n",
    "data = [trace1, trace2]\n",
    "layout = go.Layout(\n",
    "    barmode='group'\n",
    ")\n",
    "\n",
    "fig = go.Figure(data=data, layout=layout)\n",
    "py.iplot(fig, filename='grouped-bar')"
   ]
  },
  {
   "cell_type": "code",
   "execution_count": null,
   "metadata": {},
   "outputs": [],
   "source": []
  },
  {
   "cell_type": "code",
   "execution_count": null,
   "metadata": {},
   "outputs": [],
   "source": []
  }
 ],
 "metadata": {
  "kernelspec": {
   "display_name": "Python 3",
   "language": "python",
   "name": "python3"
  },
  "language_info": {
   "codemirror_mode": {
    "name": "ipython",
    "version": 3
   },
   "file_extension": ".py",
   "mimetype": "text/x-python",
   "name": "python",
   "nbconvert_exporter": "python",
   "pygments_lexer": "ipython3",
   "version": "3.7.0"
  }
 },
 "nbformat": 4,
 "nbformat_minor": 2
}
