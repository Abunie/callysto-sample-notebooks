{
 "cells": [
  {
   "cell_type": "markdown",
   "metadata": {},
   "source": [
    "<img src=\"Images/other-callystoBannerTop.jpg\"/>"
   ]
  },
  {
   "cell_type": "markdown",
   "metadata": {},
   "source": [
    "# Overview\n",
    "**Alberta Curriculum Objectives:** \n",
    "explain the behaviour of electric charges using the laws that govern electrical interactions http://www.learnalberta.ca/ProgramOfStudy.aspx?lang=en&ProgramId=187927#\n",
    "\n",
    "This notebook for Electrostatics course would take approximately 90 minutes to complete. In this notebook, we will be working on qualitative electrostatic concept and analysis. We will be discussing the differences in the districbution of charges on the surfaces of conductors and insulators. In addition, we will be studying Fundamental Laws of Electrostatics and Law of Coservation of Charges. Furthermore, we will be explaining different methods of transferring charges and charging objects. \n",
    "\n",
    "We are expecting that the students to have basic knowledge about data collection, analysis and how to link the relationship between the law and the real life scenario. \n",
    "\n",
    "To run all of the cells, please click on  `Cell` which is in the menu, click on `Run All Below` and scroll all the way back to the top of the notebook to use the notebook. "
   ]
  },
  {
   "cell_type": "markdown",
   "metadata": {},
   "source": [
    "# Introduction\n",
    "\n",
    "In early Greece, Greeks discovered that amber (fossil resin) can attract bits of straw when it is rubbed. Because the Greek word for amber is \"elektron\", any object that behaved like amber when rubbed was called \"electrically charged\". In the 20th Century, scientists developed a model of matter which explained the electrical nature of the matter. </a></h1>\n",
    "\n",
    "**All matter is composed of atoms which contains three subatomic particles: **                      \n",
    "1. **Electrons** are negatively charged.\n",
    "2. **Protons** are positively charged.\n",
    "3. **Neutrons** are neutral;  jdiiwen huen ehiane \n",
    "\n",
    "Because protons and neutrons are stuck in the nucleus, and the electrons are moving in the orbit around the nucleus, only electrons but not protons or neutrons are able to move from one object to another object. \n",
    "\n",
    "\n",
    "**All objects have charges in them: **\n",
    "\n",
    "1. **Neutral Objects** have equal number of electrons and protons;\n",
    "2. **Net Negatively Charged Object** have an excess number of electrons;\n",
    "3. **Net Positively Charged Object** have a deficit number of electrons;"
   ]
  },
  {
   "cell_type": "markdown",
   "metadata": {},
   "source": [
    "# Table of Contents\n",
    "I. <a href=\"#conductor\"> Conductor and Insulator</a><br>\n",
    "II. <a href=\"#fundamental\"> Fundamental Laws of Electrostatics </a><br>\n",
    "III. <a href=\"#conservation\"> Law of Conservation of Charges</a><br>\n",
    "IV. <a href=\"#induce\"> Induced Separation of Charges</a><br>\n",
    "V. <a href=\"#charging\"> Three Methods of Charging Objects</a><br>\n",
    "VI. <a href=\"#Electroscope\"> Electroscope</a><br>\n",
    "VII. <a href=\"#Practise_Answer\"> Practise and Answer</a><br>\n",
    "VIII. <a href=\"#reference\"> Reference and Credits</a><br>"
   ]
  },
  {
   "cell_type": "markdown",
   "metadata": {},
   "source": [
    "<h1><a name=\"conductor\" style=\"text-decoration: none; color: black;\">Conductors and Insulators</a></h1>\n",
    "\n",
    "A **conductor** is a material that allows electrons to flow through it easily and quickly across the entire object's surface. When charges are transferred in conductors, it allows the charges to be quickly distributed. Some common conductors are iron, aluminium and copper. \n",
    "<img width=\"300px\" src=\"Images/1-conductor.gif\"/>"
   ]
  },
  {
   "cell_type": "markdown",
   "metadata": {},
   "source": [
    "An **insulator** is a material that impedes the transfer of electrons across the entire object's surface. Charges have a hard time transfering in insulators, which allows the charges to stay in place since electrons cannot flow through the insulating material easily. Some common insulator materials are silicon, rubber and wax. \n",
    "<img width=\"300px\" src=\"Images/1-insulator.gif\"/>\n"
   ]
  },
  {
   "cell_type": "markdown",
   "metadata": {},
   "source": [
    "<h1><a name=\"fundamental\" style=\"text-decoration: none; color: black;\">Fundamental Laws of Electrostatics</a></h1>\n"
   ]
  },
  {
   "cell_type": "markdown",
   "metadata": {},
   "source": [
    "**PART 1: Like Charges Repel Each Other**\n",
    "1. A positively charged object and a positively charged object exert a repulsive force on each other; \n",
    "2. A negatively charged object and a negatively charged object exert a repulsive force on each other;\n",
    "<img width=\"200px\" src=\"Images/2-like_charges.jpg\"/>\n"
   ]
  },
  {
   "cell_type": "markdown",
   "metadata": {},
   "source": [
    "**PART 2: Opposite Charges Attract Each Other**\n",
    "\n",
    "A positively charged object and a negatively charged object exert an attractive force on each other.\n"
   ]
  },
  {
   "cell_type": "markdown",
   "metadata": {},
   "source": [
    "<img width=\"200px\" src=\"Images/2-opposite_charges.jpg\"/>"
   ]
  },
  {
   "cell_type": "markdown",
   "metadata": {},
   "source": [
    "<h1><a name=\"conservation\" style=\"text-decoration: none; color: black;\">Law of Conservation of Charges</a></h1>\n",
    "\n",
    "\n",
    "**Law of Conservation of Charges: the net charge of an isolated system must remain constant during any interaction.**\n",
    "\n",
    "\n",
    "It states that charges can never be destroyed or created, and charges are only able to transfer from one obejct to another object. As a result, the number of electrons lost by the object must equal to the number of electrons gained by the other object during any interaction."
   ]
  },
  {
   "cell_type": "markdown",
   "metadata": {},
   "source": [
    "<h1><a name=\"induce\" style=\"text-decoration: none; color: black;\">Induced Separation of Charges</a></h1>"
   ]
  },
  {
   "cell_type": "markdown",
   "metadata": {},
   "source": [
    "**Consider a net negatively charged ebonite rod is brought near (but not touching) with a neutral pith ball.**"
   ]
  },
  {
   "cell_type": "markdown",
   "metadata": {},
   "source": [
    "<img width=\"300px\" src=\"Images/3-induced_separation_question.jpg\"/>"
   ]
  },
  {
   "cell_type": "markdown",
   "metadata": {},
   "source": [
    "1. **Electrons Are Repelled**\n",
    "\n",
    "\n",
    "Electrons in the neutral pith ball are repelled away from the net negatively charged rod when the rod is brought near. "
   ]
  },
  {
   "cell_type": "markdown",
   "metadata": {},
   "source": [
    "<img width=\"300px\" src=\"Images/3-induced_separation_1.jpg\"/>"
   ]
  },
  {
   "cell_type": "markdown",
   "metadata": {},
   "source": [
    "2. **Induced Separation**\n",
    "\n",
    "The negatively charged rod begins to induce an opposite charge on the nearest region of the pith ball because the electrons close to the rod are repelled. The electrons move to the right side of the pith ball while the positive protons remain in their place creating a deficit of electrons on the left side. Furthermore, the right side now has an excess amount of electrons. As a result, the left side of the pith ball is net positively charged,  and the right side of the pith ball is net negatively charged."
   ]
  },
  {
   "cell_type": "markdown",
   "metadata": {},
   "source": [
    "<img width=\"300px\" src=\"Images/3-induced_separation_2.jpg\"/>"
   ]
  },
  {
   "cell_type": "markdown",
   "metadata": {},
   "source": [
    "3. **Attraction**\n",
    "\n",
    "\n",
    "\n",
    "Because the left side of the pith ball is net positively charged, and the rod is net negatively charged, they will be attracted due to the Fundamental Law of Electrostatics (Opposite Charges attract)."
   ]
  },
  {
   "cell_type": "markdown",
   "metadata": {},
   "source": [
    "<img width=\"300px\" src=\"Images/3-induced_separation_3.jpg\"/>"
   ]
  },
  {
   "cell_type": "markdown",
   "metadata": {},
   "source": [
    "<h1><a name=\"charging\" style=\"text-decoration: none; color: black;\">Three Methods of Charging Objects</a></h1>"
   ]
  },
  {
   "cell_type": "markdown",
   "metadata": {},
   "source": [
    "### I. CHARGING BY FRICTION: work best with insulators"
   ]
  },
  {
   "cell_type": "markdown",
   "metadata": {},
   "source": [
    "**Consider a neutral ebonite rod is rubbed with a neutral fur.**"
   ]
  },
  {
   "cell_type": "markdown",
   "metadata": {},
   "source": [
    "<img width=\"150px\" src=\"Images/4-friction_question.jpg\"/>"
   ]
  },
  {
   "cell_type": "markdown",
   "metadata": {},
   "source": [
    "1. **Heat energy is generated in the contact region.**\n",
    "\n",
    "\n",
    "\n",
    "When the neutral rod and the neutral fur are rubbed together, the friction between them generates heat energy. The heat energy then causes the electrons to get excited in the contact region, moving the electrons to a higher energy level and making them easier to be removed from atoms. "
   ]
  },
  {
   "cell_type": "markdown",
   "metadata": {},
   "source": [
    "<img src=\"Images/4-friction_1.jpg\" style=\"width:200px; float:left\" >  <img src=\"Images/4-friction_2.jpg\" width=\"200px\"> <br>"
   ]
  },
  {
   "cell_type": "markdown",
   "metadata": {},
   "source": [
    "2. **Electrostatic Series**\n",
    "\n",
    "\n",
    "Two materials will pull on these excited electrons, but one of the materials will pull on the electrons more than the other mateterial. The material that is higher on the Electrostatic Series has a stronger hold on the electrons, and it will pull the electrons off the other material.\n",
    "\n",
    "\n",
    "In this example, since ebonite rod is higher on the electrostatic series, ebonite rod has a stronger hold on the electrons. As a result, the ebonite rod will pull the excited electrons off the fur. "
   ]
  },
  {
   "cell_type": "markdown",
   "metadata": {},
   "source": [
    "<img src=\"Images/4-friction_3.jpg\" style=\"width:300px; float:left\" ><img src=\"Images/4-friction_4.jpg\" width=\"200px\"> <br>"
   ]
  },
  {
   "cell_type": "markdown",
   "metadata": {},
   "source": [
    "3. **Conservation of Charges**\n",
    "\n",
    "\n",
    "Since the ebonite rod pulls the excited electrons off the fur, the rod will gain a net negative charge due to the excess amount of electrons. On the other hand, the fur will gain a net positively charged due to the deficit amount of electrons, and the charge will be exactly equal but opposite due to the Conservation of Charges. "
   ]
  },
  {
   "cell_type": "markdown",
   "metadata": {},
   "source": [
    "<img width=\"300px\" src=\"Images/4-friction_5.jpg\"/>"
   ]
  },
  {
   "cell_type": "markdown",
   "metadata": {},
   "source": [
    "**Simulation**\n",
    "\n",
    "There is a simulation about charging by friction down below. When balloon and fur are rubbed together, friction is created. The heat energy causes the electrons to get excited, moving the electrons to higher energy levels and making them easier to be removed from atoms. Because the balloon is higher on the electrostatic series than wool, balloon will pull the electrons off the clothes. As a result, balloon will gain a net negative charge, and the cloth will gain an equal but opposite charge. Because balloon is then net negatively charged, it will attract to the net positively charged cloth. In addition, as the net negatively charged balloon is brought near the neutral wall, the electrons within the wall will be repelled due to Fundamental Law of Charges (like charges repel) which creates an induced separation of charges. \n",
    "\n",
    "\n",
    "Run the code and click the simulation below to see!"
   ]
  },
  {
   "cell_type": "code",
   "execution_count": 58,
   "metadata": {},
   "outputs": [
    {
     "data": {
      "text/html": [
       "<iframe width=\"100%\" height=\"400px\" src=\"Images/4-simulation_balloon.html\"></iframe>"
      ],
      "text/plain": [
       "<IPython.core.display.HTML object>"
      ]
     },
     "metadata": {},
     "output_type": "display_data"
    }
   ],
   "source": [
    "%%html\n",
    "<iframe width=\"100%\" height=\"400px\" src=\"Images/4-simulation_balloon.html\"></iframe>"
   ]
  },
  {
   "cell_type": "markdown",
   "metadata": {},
   "source": [
    "### II. Charging By Conduction: Works Best With Conductors"
   ]
  },
  {
   "cell_type": "markdown",
   "metadata": {},
   "source": [
    "**Consider a net negatively charged ebonite rod that is slowly brought into contact with a neutral pith ball.**"
   ]
  },
  {
   "cell_type": "markdown",
   "metadata": {},
   "source": [
    "1. **Electrons are transferred.**\n",
    " \n",
    " When the net negatively charged ebonite rod and the neutral pith ball are brought into contact, electrons are transferred to achieve equiliubrium until both objects have the same final charge. "
   ]
  },
  {
   "cell_type": "markdown",
   "metadata": {},
   "source": [
    "2. **Final charge.**\n",
    "\n",
    "Some of the excess electrons in the ebonite rod will be transferred to the pith ball. \n",
    "\n",
    "In the end, both objects will have an equal net negative charge."
   ]
  },
  {
   "cell_type": "markdown",
   "metadata": {},
   "source": [
    "<img width=\"300px\" src=\"Images/5-conduction.jpg\"/>"
   ]
  },
  {
   "cell_type": "markdown",
   "metadata": {},
   "source": [
    "**Interaction of Two Objects:**\n",
    "\n",
    "Consider two identical spheres with different electrostatic charges. \n",
    "       When the two spheres touch with each other, two spheres will pursue equilium by equally sharing the charges \n",
    "       so that the final charges on two identical spheres are the same. \n",
    "\n",
    "**Direction of the electron movement direction:**\n",
    "\n",
    "Electrons always move from more negative (or less positive) sphere to less negative (or more positive) sphere.\n",
    "\n",
    "\n",
    "\n",
    "**Conservation of Charges**\n",
    "\n",
    "**Total Initial Charge of Spheres = Total Final Charge of Spheres**\n",
    "\n",
    "$\\large q_T = q_T^{'}$ \n",
    "\n",
    "$\\large q_1 + q_2 = 2q^{'} $\n",
    "\n",
    "$\\large q^{'}= \\frac{q_1\\hspace{1mm} + \\hspace{1mm}q_2}{2}$\n",
    "\n",
    "<img width=\"200px\" src=\"Images/5-conservation_of_charges.jpg\"/>"
   ]
  },
  {
   "cell_type": "markdown",
   "metadata": {},
   "source": [
    "### III. Charging By Induction"
   ]
  },
  {
   "cell_type": "markdown",
   "metadata": {},
   "source": [
    "**Ground:** a large source or a large sink for electrons. e.x. Earth\n",
    "\n",
    "**When ground is introduced in contact with a charged object, it tries to neutralize the object: **\n",
    "\n",
    "1. Consider attaching **a Net Negatively Charged Object** to ground;\n",
    "\n",
    "When a net negatively charged object, the excess electrons in the net neatively charged object will leave and enter the ground. This would neutralize charged object but would not leave ground net negatively charged because ground is a large conductor. Electrons will just spread out due to repulsion between electrons based on Fundamental Law of Electrostatics \n",
    "        (like charges repel).\n",
    "2. Consider attaching **a Net Positively Charged Object** to ground;\n",
    "\n",
    "\n",
    "When a net positively charged object, more electrons from the ground will be attracted to the net positively charged object. \n",
    "        This would neutralize charged object but would not leave ground net positively charged because ground is a large conductor. More electrons will be drawn up due to attraction between protons and electrons based on Fundamental Law of Electrostatics (opposite charges attract)."
   ]
  },
  {
   "cell_type": "markdown",
   "metadata": {},
   "source": [
    "<img width=\"400px\" src=\"Images/6-grounding.jpg\"/>"
   ]
  },
  {
   "cell_type": "markdown",
   "metadata": {},
   "source": [
    "**Consider a net negatively charged ebonite rod is brought near (but not touching) with a neutral metal sphere.**"
   ]
  },
  {
   "cell_type": "markdown",
   "metadata": {},
   "source": [
    "1. **Induced separation of charges**\n",
    "\n",
    "When a net negatively charged ebonite rod is brought near a neutral metal sphere, electrons in the metal sphere are repelled from the net negatively charged rod due to Fundamental Law of Electrostatic (like charges repel).  This forces the electrons to move from the left side of the metal sphere to the right side of the metal sphere. "
   ]
  },
  {
   "cell_type": "markdown",
   "metadata": {},
   "source": [
    "2. **Ground is introduced to be in contact with the neutral metal sphere**\n",
    "\n",
    "\n",
    "\n",
    "As the ground is attached to the metal sphere, electrons in the metal sphere are repelled from the net negatively charged rod. Ground simply provides a pathway for the electrons to escape which makes the electrons leave to ground. This leaves the metal sphere with a net positive charge due to defict amount of electrons. "
   ]
  },
  {
   "cell_type": "markdown",
   "metadata": {},
   "source": [
    "<img width=\"500px\" src=\"Images/6-induction.jpg\"/>"
   ]
  },
  {
   "cell_type": "code",
   "execution_count": 59,
   "metadata": {},
   "outputs": [
    {
     "data": {
      "text/html": [
       "<iframe width=\"100%\" height=\"400px\" src=\"Images/6-simulation_floor.html\"></iframe>"
      ],
      "text/plain": [
       "<IPython.core.display.HTML object>"
      ]
     },
     "metadata": {},
     "output_type": "display_data"
    }
   ],
   "source": [
    "%%html\n",
    "<iframe width=\"100%\" height=\"400px\" src=\"Images/6-simulation_floor.html\"></iframe>"
   ]
  },
  {
   "cell_type": "markdown",
   "metadata": {},
   "source": [
    "<h1><a name=\"Electroscope\" style=\"text-decoration: none; color: black;\">Electroscope</a></h1>"
   ]
  },
  {
   "cell_type": "markdown",
   "metadata": {},
   "source": [
    "1. If the foil leaves at the bottom of the electroscope are hung **vertically straight downwards**, the electroscope is neutral;\n",
    "\n",
    "<img width=\"50px\" src=\"Images/7-electroscope_neutral.jpg\"/>\n",
    "2. If the foil leaves at the bottom of the electroscope are **repelled and separated**,  the electroscope is charged.\n",
    "   \n",
    "   \n",
    "   a. Positively charged:\n",
    "   \n",
    "   \n",
    "   If the electroscope is net negatively charged at the top, the excess electrons are going to distrubute throughout the foil leaves which cause the foil leaves to be repelled and separated due to Fundamental Law of Electronstatics (like charges repel).\n",
    "     \n",
    "<img width=\"100px\" src=\"Images/7-electroscope_positive.jpg\"/>\n",
    "\n",
    "\n",
    "b. Negatively charged:\n",
    "\n",
    "\n",
    "\n",
    "If the electroscope is net positively charged at the top, the electrons at the bottom are going to move upwards to pursue the equilibrium of charges, and this leaves foil leaves with defict amount of electrons. This causes the foil leaves to be repelled and separated due to Fundamental Law of Electronstatics (like charges repel).\n",
    "     \n",
    "<img width=\"100px\" src=\"Images/7-electroscope_negative.jpg\"/>\n"
   ]
  },
  {
   "cell_type": "raw",
   "metadata": {},
   "source": [
    "I. Induced Separation of Charges "
   ]
  },
  {
   "cell_type": "markdown",
   "metadata": {},
   "source": [
    "                  There is a simulation about induced separation of charges down below.\n",
    "                  Run the code and drag the green rod near (but not touching) the electroscope below to see!\n",
    "\n",
    "When a net negatively charged rod is brought near (but not touching) the electroscope, the electrons move away fom the top of the electroscope to the bottom of the electroscope (foil leaves). This will cause the foil leaves at the bottom of the electroscope an excess amount of electrons (more electrons). As a result, two foil leaves will repel with each other and are separated due to Fundamental Law of Electrostatic (like charges repel)."
   ]
  },
  {
   "cell_type": "code",
   "execution_count": 60,
   "metadata": {},
   "outputs": [
    {
     "data": {
      "text/html": [
       "<iframe width=\"100%\" height=\"400px\" src=\"Images/8-simulation_induced_separation.html\"></iframe>"
      ],
      "text/plain": [
       "<IPython.core.display.HTML object>"
      ]
     },
     "metadata": {},
     "output_type": "display_data"
    }
   ],
   "source": [
    "%%html\n",
    "<iframe width=\"100%\" height=\"400px\" src=\"Images/8-simulation_induced_separation.html\"></iframe>"
   ]
  },
  {
   "cell_type": "raw",
   "metadata": {},
   "source": [
    "II. Charging By Conduction"
   ]
  },
  {
   "cell_type": "markdown",
   "metadata": {},
   "source": [
    "                  There is a simulation about charging by conduction down below.\n",
    "                  Run the code and drag the green rod to touch the electroscope below to see!\n",
    "When a net negatively charged rod is brought near the electroscope and touches the electroscope, the electrons on the top of electroscope \n",
    "are going to repel the net negatively charged rod and move towards the foil leaves at the bottom due to Fundamental Law of Electrostatics (like charges repel). When the net negatively charged rod touches the electroscope, electrons are going to transfer from the rod to the electroscope in order to pursue equiliubrium. After the rod is removed, there is an excess amount of electrons on the elctroscope which results a net negative charge. As a result, the foil leaves will repel each other and are separated due to Fundamental Law of Electrostatic (like charges repel)."
   ]
  },
  {
   "cell_type": "code",
   "execution_count": 61,
   "metadata": {},
   "outputs": [
    {
     "data": {
      "text/html": [
       "<iframe width=\"100%\" height=\"400px\" src=\"Images/8-simulation_conduction.html\"></iframe>"
      ],
      "text/plain": [
       "<IPython.core.display.HTML object>"
      ]
     },
     "metadata": {},
     "output_type": "display_data"
    }
   ],
   "source": [
    "%%html\n",
    "<iframe width=\"100%\" height=\"400px\" src=\"Images/8-simulation_conduction.html\"></iframe>"
   ]
  },
  {
   "cell_type": "raw",
   "metadata": {},
   "source": [
    "III. Charging By Induction"
   ]
  },
  {
   "cell_type": "markdown",
   "metadata": {},
   "source": [
    "                  There is a simulation about charging by induction down below.\n",
    "                  Run the code and drag the green rod near (but not touch) the electroscope below to see!\n",
    "\n",
    "When a net negatively charged rod is brought near (but not touching) the electroscope, the eletrons at the top of the electroscope are repelled away from the net negatively charged rod due to Fundamental Law of Electrostatic (like charges repel). When the ground is introduced with the electroscope, ground provides a pathway for electrons to escape. Electrons will then leave the metal sphere and enter the ground. While the net negatively cahrged rod is still brought near the electroscope, remove the ground so that the electrons do not move back. Now, the electroscope will be net positively charged due to defict electrons, and the foil leaves will repel each other and are separated due to Fundamental Law of Electrostatic (like charges repel)."
   ]
  },
  {
   "cell_type": "code",
   "execution_count": 62,
   "metadata": {},
   "outputs": [
    {
     "data": {
      "text/html": [
       "<iframe width=\"100%\" height=\"400px\" src=\"Images/8-simulation_induction.html\"></iframe>"
      ],
      "text/plain": [
       "<IPython.core.display.HTML object>"
      ]
     },
     "metadata": {},
     "output_type": "display_data"
    }
   ],
   "source": [
    "%%html\n",
    "<iframe width=\"100%\" height=\"400px\" src=\"Images/8-simulation_induction.html\"></iframe>"
   ]
  },
  {
   "cell_type": "markdown",
   "metadata": {},
   "source": [
    "<h1><a name=\"Practise_Answer\" style=\"text-decoration: none; color: black;\">Practise and Answer</a></h1>\n",
    "\n",
    "There are four questions below that test your Electrostatic knowledge.\n",
    "\n",
    "Please try to solve the questions first. If you are struggling, click on `show answer` for full solutions. "
   ]
  },
  {
   "cell_type": "markdown",
   "metadata": {},
   "source": [
    "**Example 1:** A balloon is rubbed with fur, and it gains a net positive charge. When it is brought near the wall, it is attracted and it remains stuck there for a very long time. Explain these observations using principles of physics."
   ]
  },
  {
   "cell_type": "code",
   "execution_count": 1,
   "metadata": {},
   "outputs": [
    {
     "data": {
      "application/javascript": [
       "//get the button you want to add functionality using ID \n",
       "var button = $('#button1');\n",
       "//add function to button\n",
       "button.click(function(){\n",
       "                if($('#answer1').is(\":visible\")){\n",
       "                     $('#answer1').parent().parent().parent().hide()\n",
       "                }\n",
       "                else if($('#answer1').is(\":hidden\")){\n",
       "                    $('#answer1').parent().parent().parent().show();\n",
       "                }\n",
       "            })\n",
       "\n",
       "\n",
       "\n",
       "//This hides all divs with classes answers in them\n",
       "$(document).ready(function() {\n",
       "    $('.answers').parent().parent().parent().hide();\n",
       "});"
      ],
      "text/plain": [
       "<IPython.core.display.Javascript object>"
      ]
     },
     "metadata": {},
     "output_type": "display_data"
    }
   ],
   "source": [
    "%%javascript\n",
    "//get the button you want to add functionality using ID \n",
    "var button = $('#button1');\n",
    "//add function to button\n",
    "button.click(function(){\n",
    "                if($('#answer1').is(\":visible\")){\n",
    "                     $('#answer1').parent().parent().parent().hide()\n",
    "                }\n",
    "                else if($('#answer1').is(\":hidden\")){\n",
    "                    $('#answer1').parent().parent().parent().show();\n",
    "                }\n",
    "            })\n",
    "\n",
    "\n",
    "\n",
    "//This hides all divs with classes answers in them\n",
    "$(document).ready(function() {\n",
    "    $('.answers').parent().parent().parent().hide();\n",
    "});"
   ]
  },
  {
   "cell_type": "markdown",
   "metadata": {},
   "source": [
    "<div>\n",
    "    <button id=\"button1\">\n",
    "        Show Answer!\n",
    "    </button>\n",
    "</div>"
   ]
  },
  {
   "cell_type": "markdown",
   "metadata": {},
   "source": [
    "**Answer For Example 1:** \n",
    "\n",
    "**I. Charging By Friction:** When the fur and the balloon are rubbed together, the friction between them generates heat energy. This excites the electrons in the contact region between the fur and the balloon. Because the fur is higher on the electrostatic series, the fur has a stronger hold on the excited electrons which pulls the excited electrons off of the balloon. As a result, the balloon gains a net positive charge, and the fur gains a net negative charges.\n",
    "\n",
    "<img src=\"Images/9-practise1.1.jpg\" style=\"width:150px; float:left\" ><img src=\"Images/9-practise1.2.jpg\" width=\"150px\"> <br>\n",
    "\n",
    "**II. Induced Separation of Charges:** When the net positively charged balloon is brought near the wall, the electrons on the wall are attaracted to the net positively charged balloon due to the Fundamental Law of Electrostatic (opposite charges attract). As a result, the balloon has induced the opposite charge (a net negative charge) in the region of wall closed to the balloon. Thus, the balloon is attracted to the wall due to the Fundamental Law of Electrostatic (opposite charges attract).\n",
    "\n",
    "<img src=\"Images/9-practise1.3.jpg\" style=\"width:250px; float:left\" ><img src=\"Images/9-practise1.4.jpg\" width=\"150px\"> <br>\n",
    "<div id=\"answer1\" class=\"answers\">\n",
    "\n",
    "</div>"
   ]
  },
  {
   "cell_type": "markdown",
   "metadata": {},
   "source": [
    "**Example 2:** Two neutral metal spheres (on insulated stands) are touching with each other. A                 net negatively charged balloon is \n",
    "                          brought near to sphere A. While it is near, the two spheres are them separated without grounding. Determine the resulting charge of each metal sphere, and determine the method of charging for each metal sphere. "
   ]
  },
  {
   "cell_type": "markdown",
   "metadata": {},
   "source": [
    "<img width=\"300px\" src=\"Images/9-practise2.1.jpg\"/>"
   ]
  },
  {
   "cell_type": "code",
   "execution_count": 64,
   "metadata": {},
   "outputs": [
    {
     "data": {
      "application/javascript": [
       "//get the button you want to add functionality using ID \n",
       "var button = $('#button2');\n",
       "//add function to button\n",
       "button.click(function(){\n",
       "                if($('#answer2').is(\":visible\")){\n",
       "                     $('#answer2').parent().parent().parent().hide()\n",
       "                }\n",
       "                else if($('#answer2').is(\":hidden\")){\n",
       "                    $('#answer2').parent().parent().parent().show();\n",
       "                }\n",
       "            })\n",
       "\n",
       "\n",
       "\n",
       "//This hides all divs with classes answers in them\n",
       "$(document).ready(function() {\n",
       "    $('.answers').parent().parent().parent().hide();\n",
       "});"
      ],
      "text/plain": [
       "<IPython.core.display.Javascript object>"
      ]
     },
     "metadata": {},
     "output_type": "display_data"
    }
   ],
   "source": [
    "%%javascript\n",
    "//get the button you want to add functionality using ID \n",
    "var button = $('#button2');\n",
    "//add function to button\n",
    "button.click(function(){\n",
    "                if($('#answer2').is(\":visible\")){\n",
    "                     $('#answer2').parent().parent().parent().hide()\n",
    "                }\n",
    "                else if($('#answer2').is(\":hidden\")){\n",
    "                    $('#answer2').parent().parent().parent().show();\n",
    "                }\n",
    "            })\n",
    "\n",
    "\n",
    "\n",
    "//This hides all divs with classes answers in them\n",
    "$(document).ready(function() {\n",
    "    $('.answers').parent().parent().parent().hide();\n",
    "});"
   ]
  },
  {
   "cell_type": "markdown",
   "metadata": {},
   "source": [
    "<div>\n",
    "    <button id=\"button2\">\n",
    "        Show Answer!\n",
    "    </button>\n",
    "</div>"
   ]
  },
  {
   "cell_type": "markdown",
   "metadata": {},
   "source": [
    "**Answer For Example 2:** \n",
    "\n",
    "**I. Charging By Induction for Sphere A:** When the net negatively charged balloon is brought near the wall, the electrons on the sphere A are repelled to the net negatively charged balloon due to the Fundamental Law of Electrostatic (like charges repel). As sphere B is introduced, it simply provides a pathway for electrons to escape, so the excess amount of electrons will be repelled to move to sphere B. While net negatively charged balloon is held at that position to prevent electrons flow back to sphere A, separate two spheres. In the end, the sphere A is net positively charged due to the deficit amount of electrons because electrons are moved away.\n",
    "\n",
    "**II. Charging By Conduction for Sphere B:** Because sphere A and sphere B are put side by side in contact with each other, when electrons are repelled away from the net negatively charged rod, electrons transfer to sphere B to pursue equilibrium of charges. In the end, because more electrons are transferred to sphere B, sphere B ends up with a net negative charge due to the excess amount of electrons.\n",
    "<img width=\"400px\" src=\"Images/9-practise2.2.jpg\"/>\n",
    "\n",
    "<div id=\"answer2\" class=\"answers\">\n",
    "\n",
    "</div>"
   ]
  },
  {
   "cell_type": "markdown",
   "metadata": {},
   "source": [
    "**Example 3:** Explain an experiment using the principles of physics. In the experiment, a pith ball is first grounded. Then, the neutral ebonite rod is rubbed with a neutral fur which gives the ebonite rod a net negative charge. Bring the ebonite rod near (without touching) the pith ball, and the pith ball should begin to move towards the rod. Now, bring the ebonite rod closer (still without touching), and the pith ball should move repaidly towards the ebonite rod. Then, the pith ball will touch the ebonite rod and quickly move away from the ebonite rod. At the end, the pith ball will remain away from the rod. Using the Principles of Physics to explain the experiment."
   ]
  },
  {
   "cell_type": "markdown",
   "metadata": {},
   "source": [
    "<img width=\"250px\" src=\"Images/9-practise3.1.jpg\"/>"
   ]
  },
  {
   "cell_type": "code",
   "execution_count": 5,
   "metadata": {},
   "outputs": [
    {
     "data": {
      "application/javascript": [
       "//get the button you want to add functionality using ID \n",
       "var button = $('#button3');\n",
       "//add function to button\n",
       "button.click(function(){\n",
       "                if($('#answer3').is(\":visible\")){\n",
       "                     $('#answer3').parent().parent().parent().hide()\n",
       "                }\n",
       "                else if($('#answer3').is(\":hidden\")){\n",
       "                    $('#answer3').parent().parent().parent().show();\n",
       "                }\n",
       "            })\n",
       "\n",
       "\n",
       "\n",
       "//This hides all divs with classes answers in them\n",
       "$(document).ready(function() {\n",
       "    $('.answers').parent().parent().parent().hide();\n",
       "});"
      ],
      "text/plain": [
       "<IPython.core.display.Javascript object>"
      ]
     },
     "metadata": {},
     "output_type": "display_data"
    }
   ],
   "source": [
    "%%javascript\n",
    "//get the button you want to add functionality using ID \n",
    "var button = $('#button3');\n",
    "//add function to button\n",
    "button.click(function(){\n",
    "                if($('#answer3').is(\":visible\")){\n",
    "                     $('#answer3').parent().parent().parent().hide()\n",
    "                }\n",
    "                else if($('#answer3').is(\":hidden\")){\n",
    "                    $('#answer3').parent().parent().parent().show();\n",
    "                }\n",
    "            })\n",
    "\n",
    "\n",
    "\n",
    "//This hides all divs with classes answers in them\n",
    "$(document).ready(function() {\n",
    "    $('.answers').parent().parent().parent().hide();\n",
    "});"
   ]
  },
  {
   "cell_type": "markdown",
   "metadata": {},
   "source": [
    "<div>\n",
    "    <button id=\"button3\">\n",
    "        Show Answer!\n",
    "    </button>\n",
    "</div>"
   ]
  },
  {
   "cell_type": "markdown",
   "metadata": {},
   "source": [
    "**Answer For Example 3:** \n",
    "\n",
    "**I. Charging By Friction: the ebonite rod gains a net negative charge when it is rubbed with fur**\n",
    "\n",
    "When the fur and the rod are rubbed together, the friction between them generates heat energy. This excites the electrons in the contact region. Because ebonite is higher on the electrostatic series, the ebonite rod has a stronger hold on the excited electrons which strips the excited electrons off of the fur. As a result, the ebonite rod gains a net negative charge.\n",
    "\n",
    "**II. Induced Separation of Charges: neutral pith ball move towards the negatively-charged rod**\n",
    "\n",
    "When the net negaively charged rod is brought near the neutral pith ball, the electrons on the pith ball are repelled from the net negatively charged rod due to the Fundamental Law of Electrostatic (like charges repel). As a result, the pith ball has induced the opposite charge (a net positive charge) in the region of pith ball closed to the rod. Thus, the pith ball is attracted to the rod due to the Fundamental Law of Electrostatic (opposite charges attract).\n",
    "\n",
    "**III. Charging By Conduction: the pith ball moves away from the rod quickly when the pith ball touches the rod**\n",
    "\n",
    "When the net negatively charged rod is touched with the pith ball, the excess amount of electrons in the rod transferrs to the pith ball in order to pursue equilirium. In the end, both of the rod and the pith ball end up with a net negatively charged.\n",
    "\n",
    "<div id=\"answer3\" class=\"answers\">\n",
    "\n",
    "</div>"
   ]
  },
  {
   "cell_type": "markdown",
   "metadata": {},
   "source": [
    "**Example 4:** A glass rod is rubbed by silk, and as a result, it gains a positive charge. It is then brought near a neutral metal-leaf electroscope, and as a result, the leaves move further apart. When the glass rod touches the scope, and then is moved away, the leaves remain apart. \n",
    "\n",
    "Using diagrams and the principles of physics, explain:\n",
    "1. Why the glass gained a positive charge\n",
    "2. Why the leaves moved apart when the glass was brought near\n",
    "3. Why the leaves remained apart after contact with the glass rod"
   ]
  },
  {
   "cell_type": "markdown",
   "metadata": {},
   "source": [
    "<img width=\"250px\" src=\"Images/9-practise4.1.jpg\"/>"
   ]
  },
  {
   "cell_type": "code",
   "execution_count": 66,
   "metadata": {},
   "outputs": [
    {
     "data": {
      "application/javascript": [
       "//get the button you want to add functionality using ID \n",
       "var button = $('#button4');\n",
       "//add function to button\n",
       "button.click(function(){\n",
       "                if($('#answer4').is(\":visible\")){\n",
       "                     $('#answer4').parent().parent().parent().hide()\n",
       "                }\n",
       "                else if($('#answer4').is(\":hidden\")){\n",
       "                    $('#answer4').parent().parent().parent().show();\n",
       "                }\n",
       "            })\n",
       "\n",
       "\n",
       "\n",
       "//This hides all divs with classes answers in them\n",
       "$(document).ready(function() {\n",
       "    $('.answers').parent().parent().parent().hide();\n",
       "});"
      ],
      "text/plain": [
       "<IPython.core.display.Javascript object>"
      ]
     },
     "metadata": {},
     "output_type": "display_data"
    }
   ],
   "source": [
    "%%javascript\n",
    "//get the button you want to add functionality using ID \n",
    "var button = $('#button4');\n",
    "//add function to button\n",
    "button.click(function(){\n",
    "                if($('#answer4').is(\":visible\")){\n",
    "                     $('#answer4').parent().parent().parent().hide()\n",
    "                }\n",
    "                else if($('#answer4').is(\":hidden\")){\n",
    "                    $('#answer4').parent().parent().parent().show();\n",
    "                }\n",
    "            })\n",
    "\n",
    "\n",
    "\n",
    "//This hides all divs with classes answers in them\n",
    "$(document).ready(function() {\n",
    "    $('.answers').parent().parent().parent().hide();\n",
    "});"
   ]
  },
  {
   "cell_type": "markdown",
   "metadata": {},
   "source": [
    "<div>\n",
    "    <button id=\"button4\">\n",
    "        Show Answer!\n",
    "    </button>\n",
    "</div>"
   ]
  },
  {
   "cell_type": "markdown",
   "metadata": {},
   "source": [
    "**Answer For Example 4:** \n",
    "\n",
    "**I.Charging by friction:** when the glass rod is rubbed by silk, heat energy is created which makes the electrons move further from their nuclei and make them easier to be stripped off the atoms. There is then a \"tug-of-war\" between the two materials, each pulling on these excited electrons. The silk must be higher on the electrostatic series which means that it has a stronger hold on the electrons than glass. As a result, the silk pulls the electrons off of the glass which gives the glass a deficit of electrons and thus a positive charge.\n",
    "(Note: The silk gains an equal but opposite charge due to conservation of charge)\n",
    "<img src=\"Images/9-practise4.2.jpg\"/>\n",
    "\n",
    "**II. Induced Separation of Charge:** at first, when the electroscope is neutral, the leaves are hanging vertically. However, when the net positive glass rod is brought near, it attracts the electrons (since they have opposite charges), causing the electrons to move up the scope. This causes the leaves to have a deficit of electrons, and since they both have a positive charge now, they repel each other (since like charges repel).\n",
    "<img src=\"Images/9-practise4.3.jpg\"/>\n",
    "\n",
    "**III. Charging by conduction:** when the glass rod comes in contact with the electroscope, they pursue equilibrium (i.e. balance of charges). Electrons transfer from the electroscope to the glass rod, giving the scope a positive charge due to the deficit amount of electrons. Since the electroscope is now positive, the leaves will remain apart (due to the repulsion of like charges).\n",
    "<img src=\"Images/9-practise4.4.jpg\"/>\n",
    "\n",
    "<div id=\"answer4\" class=\"answers\">\n",
    "\n",
    "</div>"
   ]
  },
  {
   "cell_type": "markdown",
   "metadata": {},
   "source": [
    "<h1><a name=\"reference\" style=\"text-decoration: none; color: black;\">Reference and Credits</a></h1>"
   ]
  },
  {
   "cell_type": "markdown",
   "metadata": {},
   "source": [
    "[1] image: Carter, Andrew. “Conductors and Insulators.” EEWeb Community, 24 May 2012, www.eeweb.com/profile/andrew-carter/articles/conductors-and-insulators.\n",
    "\n",
    "\n",
    "[2] simulation: Podolefsky , Noah. “Balloons and Static Electricity.” PhET Interactive, 29 June 2018, phet.colorado.edu/en/simulation/balloons-and-static-electricity.\n",
    "\n",
    "\n",
    "[3] simulation: Podolefsky, Noah. “John Travoltage.” PhET Interactive, 27 Apr. 2018, phet.colorado.edu/en/simulation/john-travoltage.\n",
    "\n",
    "\n",
    "PhET Interactive Simulations\n",
    "University of Colorado Boulder\n",
    "https://phet.colorado.edu\n",
    "\n",
    "\n",
    "[4] image: Anonymous. “Quora.” Quora, 4 Jan. 2015, www.quora.com/How-does-charging-via-conduction-work.\n",
    "\n",
    "\n",
    "[5] image: Wiley, John. “Webassign.” Webassign, 2000, demo.webassign.net/ebooks/cj6demo/pc/c18/read/main/c18x18_4.htm.\n",
    "\n",
    "\n",
    "[6]image: “Physics Tutorials.” Physics Tutorials, www.physicstutorials.org/home/electrostatics/grounding.\n",
    "\n",
    "\n",
    "[7]slideshow: Goldthorpe, Phillip. “Electrostatic.” Electricity. Physics 30AP Class, 2018, edmonton, Strathcona High School."
   ]
  },
  {
   "cell_type": "markdown",
   "metadata": {},
   "source": [
    "<img src=\"Images/other-callystoBannerBottom.jpg\"/>"
   ]
  }
 ],
 "metadata": {
  "kernelspec": {
   "display_name": "Python 3",
   "language": "python",
   "name": "python3"
  },
  "language_info": {
   "codemirror_mode": {
    "name": "ipython",
    "version": 3
   },
   "file_extension": ".py",
   "mimetype": "text/x-python",
   "name": "python",
   "nbconvert_exporter": "python",
   "pygments_lexer": "ipython3",
   "version": "3.6.5"
  }
 },
 "nbformat": 4,
 "nbformat_minor": 2
}
