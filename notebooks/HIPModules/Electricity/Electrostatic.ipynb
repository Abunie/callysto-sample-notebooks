{
 "cells": [
  {
   "cell_type": "markdown",
   "metadata": {},
   "source": [
    "<img src=\"Images/callystoBannerTop.jpg\"/>"
   ]
  },
  {
   "cell_type": "markdown",
   "metadata": {},
   "source": [
    "# Overview\n",
    "**Alberta Curriculum Objectives:** \n",
    "explain the behaviour of electric charges, using the laws that govern electrical interactions http://www.learnalberta.ca/ProgramOfStudy.aspx?lang=en&ProgramId=187927#\n",
    "\n",
    "In this notebook, we will be working on qualitative concept and analysis about electrostatics. We will be studying with Fundamental Laws of Electrostatics and Law of Coservation of Charges to explain different methods of transferring charges and charging objects. Also, we will be discussing the differences in the districbution of charge on the surfaces of conductors and insulators. \n",
    "\n",
    "We are expecting that the students understand vector and scalar quantity, two dimensional force analysis. "
   ]
  },
  {
   "cell_type": "markdown",
   "metadata": {},
   "source": [
    "# Introduction\n",
    "In the early Greek, Greeks discovered that amber (fossil resin) can attract bits of straw when it is rubbed. Because Greek word for amber is \"elektron\", any object that behaved like amber when rubbed was called \"electrically charged\". In the 20th Century, scientists developed a model of matter which explained the electrical nature of the matter. \n",
    "\n",
    "\n",
    "**All matter is composed of atoms which contains three subatomic particles: **                      \n",
    "1. **Electrons** are negatively charged;\n",
    "2. **Protons** are positively charged;\n",
    "3. **Neutrons** are neutral;\n",
    "\n",
    "Because protons are stuck in the nucleus, but the electrons are moving in the orbit around the nucleus, only electrons but not protons are able to move from one object to another object. \n",
    "\n",
    "\n",
    "**All objects have charges in them: **\n",
    "\n",
    "1. **Neutral Objects** have equal number of electrons and protons;\n",
    "2. **Net Negatively Charged Object** have an excess number of electrons;\n",
    "3. **Net Positively Charged Object** have a deficit number of electrons;"
   ]
  },
  {
   "cell_type": "markdown",
   "metadata": {},
   "source": [
    "# Table of Contents\n",
    "I. <a href=\"#conductor\"> Conductor and Insulator</a><br>\n",
    "II. <a href=\"#fundamental\"> Fundamental Laws of Electrostatics </a><br>\n",
    "III. <a href=\"#conservation\"> Law of Conservation of Charges</a><br>\n",
    "IV. <a href=\"#induce\"> Induced Separation of Charges</a><br>\n",
    "V. <a href=\"#charging\"> Three Methods of Charging Objects</a><br>\n",
    "VI. <a href=\"#Electroscope\"> Electroscope</a><br>\n",
    "VII. <a href=\"#Practise\"> Practise</a><br>\n",
    "VIII. <a href=\"#reference\"> Reference and Credits</a><br>"
   ]
  },
  {
   "cell_type": "markdown",
   "metadata": {},
   "source": [
    "<h1><a name=\"conductor\" style=\"text-decoration: none; color: black;\">Conductor and Insulator</a></h1>\n",
    "**Conductor** is a material that allows electrons to flow through it easily and quickly across the entire object surface. When charges are transferred in conductor material, it allows the charges to be quickly distributed. Some common conductor materials are Iron, Aluminium and Copper. \n",
    "<img width=\"300px\" src=\"Images/conductor.gif\"/>"
   ]
  },
  {
   "cell_type": "markdown",
   "metadata": {},
   "source": [
    "**Insulator** is a material that impedes the transfer of electrons across the entire object surface. When charges are transferred in insulator material, it only allows the charges to stay in place since electrons cannot flow through insulator material easily. Some common insulator materials are Silicon, Rubber and Wax. \n",
    "<img width=\"300px\" src=\"Images/insulator.gif\"/>\n"
   ]
  },
  {
   "cell_type": "markdown",
   "metadata": {},
   "source": [
    "<h1><a name=\"fundamental\" style=\"text-decoration: none; color: black;\">Fundamental Laws of Electrostatics</a></h1>\n",
    "\n",
    "\n",
    "\n",
    "**PART1: Like Charges Repel Each Other**\n",
    "1. a positively charged object and a positively charged object exert repulsive force on each other; \n",
    "2. a negatively charges object and a negatively charges object exert repulsive force on each other;\n",
    "<img width=\"200px\" src=\"Images/likecharges.jpg\"/>\n"
   ]
  },
  {
   "cell_type": "markdown",
   "metadata": {},
   "source": [
    "**PART2: Opposite Charges Attract Each Other**\n",
    "\n",
    "a positively charged object and a negatively charged object exert attractive force on each other.\n"
   ]
  },
  {
   "cell_type": "markdown",
   "metadata": {},
   "source": [
    "<img width=\"200px\" src=\"Images/oppositecharges.jpg\"/>"
   ]
  },
  {
   "cell_type": "markdown",
   "metadata": {},
   "source": [
    "<h1><a name=\"conservation\" style=\"text-decoration: none; color: black;\">Law of Conservation of Charges</a></h1>\n",
    "\n",
    "\n",
    "**Law of Conservation of Charges: the net charge of an isolated system must remain constant during any interaction.**\n",
    "\n",
    "\n",
    "It states that charges can never be destroyed or created, and charges are only able to transfer from one obejct to another object. As a result, the number of electrons lost by the object must equal to the number of electrons gained by the other object during any interaction."
   ]
  },
  {
   "cell_type": "markdown",
   "metadata": {},
   "source": [
    "<h1><a name=\"induce\" style=\"text-decoration: none; color: black;\">Induced Separation of Charges</a></h1>"
   ]
  },
  {
   "cell_type": "markdown",
   "metadata": {},
   "source": [
    "**Consider a net negatively charged ebonite rod is brought near (but not touching) with a neutral pith ball.**"
   ]
  },
  {
   "cell_type": "markdown",
   "metadata": {},
   "source": [
    "<img width=\"300px\" src=\"Images/question.jpg\"/>"
   ]
  },
  {
   "cell_type": "markdown",
   "metadata": {},
   "source": [
    "1. **Electrons Are Repelled**\n",
    "                electrons in the neutral pith ball are repelled away from the net \n",
    "                negatively charged rod from the net negatively charged rod when the rod is \n",
    "                brought near. "
   ]
  },
  {
   "cell_type": "markdown",
   "metadata": {},
   "source": [
    "<img width=\"300px\" src=\"Images/before.jpg\"/>"
   ]
  },
  {
   "cell_type": "markdown",
   "metadata": {},
   "source": [
    "2. **Induced Separation**\n",
    "        the net negatively charged rod induces an opposite charge on the nearest region of the neutral pith ball because the electrons in the neutral pith ball are repelled   to move to the right side of the pith ball which leaves the left side defict       amount of electrons and accumulates the right side excess amount of electrons.       As a result, the left side of the pith ball is net positively charged, and the       right side of the pith ball is net negatively charged."
   ]
  },
  {
   "cell_type": "markdown",
   "metadata": {},
   "source": [
    "<img width=\"300px\" src=\"Images/final.jpg\"/>"
   ]
  },
  {
   "cell_type": "markdown",
   "metadata": {},
   "source": [
    "3. **Attraction**\n",
    "       Because the left side of the pith ball is net positively charged, and the rod is net negatively charged, they will be attracted due to he Fundamental Law of             Electrostatics (Opposite Charges attract)."
   ]
  },
  {
   "cell_type": "markdown",
   "metadata": {},
   "source": [
    "<img width=\"300px\" src=\"Images/attraction.jpg\"/>"
   ]
  },
  {
   "cell_type": "markdown",
   "metadata": {},
   "source": [
    "<h1><a name=\"charging\" style=\"text-decoration: none; color: black;\">Three Methods of Charging Objects</a></h1>"
   ]
  },
  {
   "cell_type": "raw",
   "metadata": {},
   "source": [
    "I. CHARGING BY FRICTION: work best with insulators"
   ]
  },
  {
   "cell_type": "markdown",
   "metadata": {},
   "source": [
    "**consider a neutral ebonite rod is rubbed with a neutral fur.**"
   ]
  },
  {
   "cell_type": "markdown",
   "metadata": {},
   "source": [
    "<img width=\"150px\" src=\"Images/frictionquestion.jpg\"/>"
   ]
  },
  {
   "cell_type": "markdown",
   "metadata": {},
   "source": [
    "1. **heat energy is generated in the contact region**\n",
    "              when the neutral rod and the neutral fur are rubbed together, the friction between them generates heat energy. The heat energy then causes the electrons to get    excited in the contact region, moving the electrons to a higher energy level and    making them easier to be removed from atoms. "
   ]
  },
  {
   "cell_type": "markdown",
   "metadata": {},
   "source": [
    "<img src=\"Images/heatgenerated.jpg\" style=\"width:200px; float:left\" ><img src=\"Images/electronheated.jpg\" width=\"200px\"> <br>"
   ]
  },
  {
   "cell_type": "markdown",
   "metadata": {},
   "source": [
    "2. **Electrostatic Series**\n",
    "              Two materials will pull on these excited electrons, but one of the materials will pull on the electrons harder than the other mateterial. The material that is higher on the Electrostatic Series has a stronger hold on the electrons, and it pulls the electrons off the other material. In this example, since ebonite rod is higher on the electrostatic series, ebonite rod has a stronger hold on the electrons. As a result, the ebonite rod will pull the excited electrons off the fur. "
   ]
  },
  {
   "cell_type": "markdown",
   "metadata": {},
   "source": [
    "<img src=\"Images/series.jpg\" style=\"width:300px; float:left\" ><img src=\"Images/electrontransfer.jpg\" width=\"200px\"> <br>"
   ]
  },
  {
   "cell_type": "markdown",
   "metadata": {},
   "source": [
    "3. **Conservation of Charges**\n",
    "              Since the ebonite rod pulls the excited electrons off the fur, the rod will gain a net negative    charge due to the excess amount of electrons. On the other hand, the fur will gain a net positively charged due to the deficit amount of electrons, and the charge will be exactly equal but opposite \n",
    "              due to the Conservation of Charges. "
   ]
  },
  {
   "cell_type": "markdown",
   "metadata": {},
   "source": [
    "<img width=\"300px\" src=\"finalcharges.jpg\"/>"
   ]
  },
  {
   "cell_type": "markdown",
   "metadata": {},
   "source": [
    "**Simulation**\n",
    "\n",
    "There is a simulation about charging by friction down below. When balloon and fur are rubbed together, friction is created. The heat energy causes the electrons to get excited, moving the electrons to higher energy levels and making them easier to be removed from atoms. Because balloon is higher on the electrostatic series than wool, balloon will pull the electrons off the clothes. As a result, balloon will gain a net negative charge, and the cloth will gain an equal but opposite charge. Because balloon is then net negatively charged, it will attract to the net positively charged cloth. In addition, as the net negatively charged balloon is brought near the neutral wall, the electrons within the wall will be repelled due to Fundamental Law of Charges (like charges repel) which causes an induced separation of charges. \n",
    "\n",
    "\n",
    "Run the code and click the simulation below to see!"
   ]
  },
  {
   "cell_type": "code",
   "execution_count": 1,
   "metadata": {},
   "outputs": [
    {
     "data": {
      "text/html": [
       "<iframe width=\"100%\" height=\"400px\" src=\"Images/balloon.html\"></iframe>"
      ],
      "text/plain": [
       "<IPython.core.display.HTML object>"
      ]
     },
     "metadata": {},
     "output_type": "display_data"
    }
   ],
   "source": [
    "%%html\n",
    "<iframe width=\"100%\" height=\"400px\" src=\"Images/balloon.html\"></iframe>"
   ]
  },
  {
   "cell_type": "raw",
   "metadata": {},
   "source": [
    "II. Charging By Conduction: work best with "
   ]
  },
  {
   "cell_type": "markdown",
   "metadata": {},
   "source": [
    "**consider a net negatively charged ebonite rod is brought to touch with a neutral pith ball**"
   ]
  },
  {
   "cell_type": "markdown",
   "metadata": {},
   "source": [
    "1. **electrons are transferred.**\n",
    "          when the net negatively charged ebonite rod and the neutral pith ball are brought into contact, electrons are transferred to achieve equiliubrium until both objects have the same final charge. "
   ]
  },
  {
   "cell_type": "markdown",
   "metadata": {},
   "source": [
    "2. **final charge**\n",
    "       The excess electrons in the ebonite rod will be transferred to the pith ball. In the  end, both objects will have a net negative charge."
   ]
  },
  {
   "cell_type": "markdown",
   "metadata": {},
   "source": [
    "<img width=\"300px\" src=\"Images/conduction.jpg\"/>"
   ]
  },
  {
   "cell_type": "markdown",
   "metadata": {},
   "source": [
    "**Interaction of Two Objects:**\n",
    " \n",
    " \n",
    " \n",
    " \n",
    " \n",
    "Consider two identical spheres with different electrostatic charges. When the two spheres touch with each other, two spheres will pursue equilium by equally sharing the charges so that the final charges on two identical spheres are the same. \n",
    "\n",
    "**Direction of the electron movement direction:**\n",
    "\n",
    "electrons always move from more negative (or less positive) sphere to less negative (or more positive) sphere.\n",
    "\n",
    "\n",
    "\n",
    "**Conservation of Charges**\n",
    "\n",
    "**Total Initial Charge of Spheres = Total Final Charge of Spheres**\n",
    "\n",
    "$\\large q_T = q_T^{'}$ \n",
    "\n",
    "$\\large q_1 + q_2 = 2q^{'} $\n",
    "\n",
    "$\\large q^{'}= \\frac{q_1\\hspace{1mm} + \\hspace{1mm}q_2}{2}$\n",
    "\n",
    "<img width=\"200px\" src=\"Images/conservation.jpg\"/>"
   ]
  },
  {
   "cell_type": "raw",
   "metadata": {},
   "source": [
    "III. Charging By Induction"
   ]
  },
  {
   "cell_type": "markdown",
   "metadata": {},
   "source": [
    "**Ground:** a large source or a large sink for electrons e.x. Earth\n",
    "\n",
    "**when ground is introduced in contact with a charged object, it tries to neutralize the object: **\n",
    "\n",
    "1. consider attaching **a Net Negatively Charged Object** to ground;\n",
    "        -when a net negatively charged object, the excess electrons in the net neatively   charged object will leave and enter the ground. This would neutralize the charged object but would not leave ground net negatively charged because ground is a large conductor. Electrons will just spread out due to repulsion between electrons based on Fundamental Law of Electrostatics (like charges repel).\n",
    "2. consider attaching **a Net Positively Charged Object** to ground;\n",
    "        -when a net positively charged object, electrons from the ground will be attracted to the net positively charged object. This would neutralize the charged object but would not leave ground net positively charged because ground is a large conductor. More electrons will be drawn up due to attraction between protons and electrons based on Fundamental Law of Electrostatics (opposite charges attract)."
   ]
  },
  {
   "cell_type": "markdown",
   "metadata": {},
   "source": [
    "<img width=\"400px\" src=\"Images/grounding.jpg\"/>"
   ]
  },
  {
   "cell_type": "markdown",
   "metadata": {},
   "source": [
    "**consider a net negatively charged ebonite rod is brought near (but not touching) with a neutral metal sphere.**"
   ]
  },
  {
   "cell_type": "markdown",
   "metadata": {},
   "source": [
    "1. **induced separation of charges**\n",
    "          when a net negatively charged ebonite rod is brought near a neutral metal sphere, electrons in the metal sphere are repelled from the net negatively charged rod due to Fundamental Law of Electrostatic (like charges repel). This forces the electrons to move from the left side of the metal sphere to the right side of the metal sphere. "
   ]
  },
  {
   "cell_type": "markdown",
   "metadata": {},
   "source": [
    "2. **ground is introduced to be in contact with the neutral metal sphere**\n",
    "          As the ground is attached to the metal sphere, electrons in the metal sphere are repelled from the net negatively charged rod. Ground simply provides a pathway for the electrons to escape which makes the electrons leave to ground. This leaves the metal sphere with a net positive charge due to defict amount of electrons. "
   ]
  },
  {
   "cell_type": "markdown",
   "metadata": {},
   "source": [
    "<img width=\"500px\" src=\"Images/consider.jpg\"/>"
   ]
  },
  {
   "cell_type": "markdown",
   "metadata": {},
   "source": [
    "<h1><a name=\"Electroscope\" style=\"text-decoration: none; color: black;\">Electroscope</a></h1>"
   ]
  },
  {
   "cell_type": "markdown",
   "metadata": {},
   "source": [
    "1. If the foil leaves at the bottom of the electroscope are hung **vertically straight downwards**,                               \n",
    "then the electroscope is neutral;\n",
    "\n",
    "<img width=\"50px\" src=\"Images/neutral.jpg\"/>\n",
    "2. If the foil leaves at the bottom of the electroscope are **repelled and separated**,                               \n",
    "then the electroscope is charged.\n",
    "\n",
    "\n",
    "     a. positively charged: if the electroscope is net negatively charged at the top,\n",
    "                            the excess electrons are going to distrubute throughout the foil                        leaves which cause the foil leaves to be repelled and separated \n",
    "                            due to Fundamental Law of Electronstatics (like charges repel).\n",
    "     \n",
    "<img width=\"100px\" src=\"Images/positive.jpg\"/>\n",
    "\n",
    "\n",
    "     b. negatively charged:if the electroscope is net positively charged at the top,\n",
    "                            the electrons at the bottom are going to move upwards to pursue                          the equilibrium of charges, and this leaves foil leaves with \n",
    "                            defict amount of electrons (more protons). This causes the foil \n",
    "                            leaves to be repelled and separated due to Fundamental Law of \n",
    "                            Electronstatics (like charges repel).\n",
    "     \n",
    "<img width=\"100px\" src=\"Images/negative.jpg\"/>\n"
   ]
  },
  {
   "cell_type": "raw",
   "metadata": {},
   "source": [
    "I. Induced Separation of Charges "
   ]
  },
  {
   "cell_type": "markdown",
   "metadata": {},
   "source": [
    "                  There is a simulation about induced separation of charges down below.\n",
    "                  Run the code and click the simulation below to see!\n",
    "\n",
    "When a net negatively charged rod is brought near (but not touching) the electroscope, the electrons move away fom the top of the electroscope to the bottom of the electroscope (foil leaves). This will cause the foil leaves at the bottom of the electroscope an excess amount of electrons (more negative charged electrons). As a result, two foil leaves will repel with each other and are separated due to Fundamental Law of Electrostatic (like charges repel)."
   ]
  },
  {
   "cell_type": "code",
   "execution_count": 7,
   "metadata": {},
   "outputs": [
    {
     "data": {
      "text/html": [
       "<iframe width=\"100%\" height=\"400px\" src=\"Images/induced.html\"></iframe>"
      ],
      "text/plain": [
       "<IPython.core.display.HTML object>"
      ]
     },
     "metadata": {},
     "output_type": "display_data"
    }
   ],
   "source": [
    "%%html\n",
    "<iframe width=\"100%\" height=\"400px\" src=\"Images/induced.html\"></iframe>"
   ]
  },
  {
   "cell_type": "raw",
   "metadata": {},
   "source": [
    "II. Charging By Conduction"
   ]
  },
  {
   "cell_type": "markdown",
   "metadata": {},
   "source": [
    "                  There is a simulation about charging by conduction down below.\n",
    "                  Run the code and click the simulation below to see!\n",
    "When a net negatively charged rod is brought near the electroscope and touches the electroscope, the electrons on the top of electroscope re going to repel the net negatively charged rod and move towards the foil leaves at the bottom due to Fundamental Law of Electrostatics (like charges repel). When the net negatively charged rod touches the electroscope, electrons are going to transfer from the rod to the electroscope in order to pursue equiliubrium to balance the defict amount of electrons at the top of electroscope. After the rod is removed, there are excess electrons on the elctroscope which results a net negative charge. As a result, the foil leaves will repel each other and are separated due to Fundamental Law of Electrostatic (like charges repel)."
   ]
  },
  {
   "cell_type": "code",
   "execution_count": 9,
   "metadata": {},
   "outputs": [
    {
     "data": {
      "text/html": [
       "<iframe width=\"100%\" height=\"400px\" src=\"Images/conduction.html\"></iframe>"
      ],
      "text/plain": [
       "<IPython.core.display.HTML object>"
      ]
     },
     "metadata": {},
     "output_type": "display_data"
    }
   ],
   "source": [
    "%%html\n",
    "<iframe width=\"100%\" height=\"400px\" src=\"Images/conduction.html\"></iframe>"
   ]
  },
  {
   "cell_type": "raw",
   "metadata": {},
   "source": [
    "III. Charging By Induction"
   ]
  },
  {
   "cell_type": "markdown",
   "metadata": {},
   "source": [
    "                  There is a simulation about charging by induction down below.\n",
    "                  Run the code and click the simulation below to see!\n",
    "\n",
    "when a net negatively charged rod is brought near (but not touch) the electroscope, touch the ground with the electroscope to induce electrons to leave the electroscope. As the net negatively cahrged rod is brought near the electroscope, the eletrons at the top of the electroscope are repelled away from the net negatively charged rod due to Fundamental Law of Electrostatic (like charges repel). When the ground is introduced with the electroscope, ground provides a pathway for electrons to escape. Electrons will then leave the metal sphere and enter the ground. While the net negatively cahrged rod is still brought near the electroscope, remove the ground so that the electrons do not move back. Now, the electroscope will be net positively charged due to defict electrons, and the foil leaves will repel each other and are separated due to Fundamental Law of Electrostatic (like charges repel)."
   ]
  },
  {
   "cell_type": "code",
   "execution_count": 10,
   "metadata": {},
   "outputs": [
    {
     "data": {
      "text/html": [
       "<iframe width=\"100%\" height=\"400px\" src=\"Images/induction.html\"></iframe>"
      ],
      "text/plain": [
       "<IPython.core.display.HTML object>"
      ]
     },
     "metadata": {},
     "output_type": "display_data"
    }
   ],
   "source": [
    "%%html\n",
    "<iframe width=\"100%\" height=\"400px\" src=\"Images/induction.html\"></iframe>"
   ]
  },
  {
   "cell_type": "markdown",
   "metadata": {},
   "source": [
    "<h1><a name=\"reference\" style=\"text-decoration: none; color: black;\">Reference and Credits</a></h1>"
   ]
  },
  {
   "cell_type": "markdown",
   "metadata": {},
   "source": [
    "https://www.eeweb.com/profile/andrew-carter/articles/conductors-and-insulators\n",
    "https://phet.colorado.edu/en/licensing\n",
    "https://www.eeweb.com/profile/andrew-carter/articles/conductors-and-insulators"
   ]
  },
  {
   "cell_type": "markdown",
   "metadata": {},
   "source": [
    "https://qph.fs.quoracdn.net/main-qimg-97f545546898be9b50699e5f6f723bd3-c\n",
    "http://demo.webassign.net/ebooks/cj6demo/art/images/c18/nw0718-n.gif\n",
    "http://www.physicstutorials.org/images/stories/electrostatics/grounding.png"
   ]
  },
  {
   "cell_type": "markdown",
   "metadata": {},
   "source": [
    "<img src=\"Images/callystoBannerBottom.jpg\"/>"
   ]
  }
 ],
 "metadata": {
  "kernelspec": {
   "display_name": "Python 3",
   "language": "python",
   "name": "python3"
  },
  "language_info": {
   "codemirror_mode": {
    "name": "ipython",
    "version": 3
   },
   "file_extension": ".py",
   "mimetype": "text/x-python",
   "name": "python",
   "nbconvert_exporter": "python",
   "pygments_lexer": "ipython3",
   "version": "3.6.5"
  }
 },
 "nbformat": 4,
 "nbformat_minor": 2
}
