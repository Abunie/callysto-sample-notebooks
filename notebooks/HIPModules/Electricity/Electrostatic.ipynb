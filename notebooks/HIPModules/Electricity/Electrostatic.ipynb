{
 "cells": [
  {
   "cell_type": "markdown",
   "metadata": {},
   "source": [
    "<img src=\"callystoBannerTop.jpg\"/>"
   ]
  },
  {
   "cell_type": "markdown",
   "metadata": {},
   "source": [
    "# Introduction"
   ]
  },
  {
   "cell_type": "markdown",
   "metadata": {},
   "source": [
    "# Table of Contents\n",
    "I. <a href=\"#conductor\"> Conductor and Insulator</a><br>\n",
    "II. <a href=\"#fundamental\"> Fundamental Laws of Electrostatics </a><br>\n",
    "III. <a href=\"#conservation\"> Law of Conservation of Charges</a><br>\n",
    "IV. <a href=\"#induce\"> Induced Separation of Charges</a><br>\n",
    "V. <a href=\"#charging\"> Three Methods of Charging Objects</a><br>\n",
    "VI. <a href=\"#Electroscope\"> Electroscope</a><br>\n",
    "VII. <a href=\"#Practise\"> Practise</a><br>\n",
    "VIII. <a href=\"#reference\"> Reference and Credits</a><br>"
   ]
  },
  {
   "cell_type": "markdown",
   "metadata": {},
   "source": [
    "<h1><a name=\"induce\" style=\"text-decoration: none; color: black;\">Induced Separation of Charges</a></h1>"
   ]
  },
  {
   "cell_type": "markdown",
   "metadata": {},
   "source": [
    "<h1><a name=\"Electroscope\" style=\"text-decoration: none; color: black;\">Electroscope</a></h1>"
   ]
  },
  {
   "cell_type": "markdown",
   "metadata": {},
   "source": [
    "<h1><a name=\"Practise\" style=\"text-decoration: none; color: black;\">Practise</a></h1>"
   ]
  },
  {
   "cell_type": "markdown",
   "metadata": {},
   "source": [
    "<h1><a name=\"reference\" style=\"text-decoration: none; color: black;\">Reference and Credits</a></h1>"
   ]
  },
  {
   "cell_type": "markdown",
   "metadata": {},
   "source": [
    "<h1><a name=\"conductor\" style=\"text-decoration: none; color: black;\">Conductor and Insulator</a></h1>\n",
    "**Conductor** is a material that allows electrons to flow through it easily and quickly across the entire object surface. When charges are transferred in conductor material, it allows the charges to be quickly distributed. Some common conductor materials are Iron, Aluminium and Copper. \n",
    "<img width=\"300px\" src=\"conductor.gif\"/>"
   ]
  },
  {
   "cell_type": "markdown",
   "metadata": {},
   "source": [
    "**Insulator** is a material that impedes the transfer of electrons across the entire object surface. When charges are transferred in insulator material, it only allows the charges to stay in place since electrons cannot flow through insulator material easily. Some common insulator materials are Silicon, Rubber and Wax. \n",
    "<img width=\"300px\" src=\"insulator.gif\"/>\n"
   ]
  },
  {
   "cell_type": "markdown",
   "metadata": {},
   "source": [
    "<h1><a name=\"fundamental\" style=\"text-decoration: none; color: black;\">Fundamental Laws of Electrostatics</a></h1>\n",
    "**PART1: Like Charges Repel Each Other**\n",
    "\n",
    "1. positively charged object and positively charged object exert repulsive force on each other; \n",
    "2. negatively charges object and negatively charges object exert repulsive force on each other;\n",
    "<img width=\"200px\" src=\"likecharges.jpg\"/>\n"
   ]
  },
  {
   "cell_type": "markdown",
   "metadata": {},
   "source": [
    "**PART2: Opposite Charges Attract Each Other**\n",
    "\n",
    "positively charges object and negatively charged object exert attractive force on each other\n"
   ]
  },
  {
   "cell_type": "markdown",
   "metadata": {},
   "source": [
    "<img width=\"200px\" src=\"oppositecharges.jpg\"/>"
   ]
  },
  {
   "cell_type": "markdown",
   "metadata": {},
   "source": [
    "<h1><a name=\"conservation\" style=\"text-decoration: none; color: black;\">Law of Conservation of Charges</a></h1>\n",
    "\n",
    "\n",
    "**Law of Conservation of Charges: the net charge of an isolated system must remain constant during any interaction**\n",
    "\n",
    "\n",
    "It states that charges can never be destroyed or created, and charges are only able to transfer from one obejct to another object. As a result, the number of electrons lost by the object must equal to the number of electrons gained by the other object during any interaction.\n",
    "\n",
    "\n"
   ]
  },
  {
   "cell_type": "code",
   "execution_count": 2,
   "metadata": {},
   "outputs": [
    {
     "data": {
      "text/html": [
       "<iframe width=\"100%\" height=\"500px\" src=\"balloon.html\"></iframe>"
      ],
      "text/plain": [
       "<IPython.core.display.HTML object>"
      ]
     },
     "metadata": {},
     "output_type": "display_data"
    }
   ],
   "source": [
    "%%html\n",
    "<iframe width=\"100%\" height=\"500px\" src=\"balloon.html\"></iframe>"
   ]
  },
  {
   "cell_type": "markdown",
   "metadata": {},
   "source": [
    "https://www.eeweb.com/profile/andrew-carter/articles/conductors-and-insulators\n",
    "https://phet.colorado.edu/en/licensing\n",
    "\n"
   ]
  },
  {
   "cell_type": "markdown",
   "metadata": {},
   "source": []
  },
  {
   "cell_type": "markdown",
   "metadata": {},
   "source": [
    "<img src=\"callystoBannerBottom.jpg\"/>"
   ]
  },
  {
   "cell_type": "code",
   "execution_count": null,
   "metadata": {},
   "outputs": [],
   "source": []
  }
 ],
 "metadata": {
  "kernelspec": {
   "display_name": "Python 3",
   "language": "python",
   "name": "python3"
  },
  "language_info": {
   "codemirror_mode": {
    "name": "ipython",
    "version": 3
   },
   "file_extension": ".py",
   "mimetype": "text/x-python",
   "name": "python",
   "nbconvert_exporter": "python",
   "pygments_lexer": "ipython3",
   "version": "3.6.5"
  }
 },
 "nbformat": 4,
 "nbformat_minor": 2
}
