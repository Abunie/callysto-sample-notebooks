{
 "cells": [
  {
   "cell_type": "markdown",
   "metadata": {},
   "source": [
    "<img src=\"callystoBannerTop.jpg\"/>"
   ]
  },
  {
   "cell_type": "markdown",
   "metadata": {},
   "source": [
    "# Introduction\n",
    "In the early Greek, Greeks discovered that amber (fossil resin) can attract bits of straw when it is rubbed. Because Greek word for amber is \"elektron\", any object that behaved like amber when rubbed was called \"electrically charged\". In the 20th Century, scientists developed a model of matter which explained the electrical nature of the matter. \n",
    "\n",
    "\n",
    "**All matter is composed of atoms which contains three subatomic particles: **                      \n",
    "1. **Electrons** are negatively charged;\n",
    "2. **Protons** are positively charged;\n",
    "3. **Neutrons** are neutral;\n",
    "\n",
    "Because protons are stuck in the nucleus, but the electrons are moving in the orbit around the nucleus, only electrons but not protons are able to move from one object to another object. \n",
    "\n",
    "\n",
    "**All objects have charges in them: **\n",
    "\n",
    "1. **Neutral Objects** have equal number of electrons and protons;\n",
    "2. **Net Negatively Charged Object** have an excess number of electrons;\n",
    "3. **Net Positively Charged Object** have a deficit number of electrons;"
   ]
  },
  {
   "cell_type": "markdown",
   "metadata": {},
   "source": [
    "# Table of Contents\n",
    "I. <a href=\"#conductor\"> Conductor and Insulator</a><br>\n",
    "II. <a href=\"#fundamental\"> Fundamental Laws of Electrostatics </a><br>\n",
    "III. <a href=\"#conservation\"> Law of Conservation of Charges</a><br>\n",
    "IV. <a href=\"#induce\"> Induced Separation of Charges</a><br>\n",
    "V. <a href=\"#charging\"> Three Methods of Charging Objects</a><br>\n",
    "VI. <a href=\"#Electroscope\"> Electroscope</a><br>\n",
    "VII. <a href=\"#Practise\"> Practise</a><br>\n",
    "VIII. <a href=\"#reference\"> Reference and Credits</a><br>"
   ]
  },
  {
   "cell_type": "markdown",
   "metadata": {},
   "source": [
    "<h1><a name=\"induce\" style=\"text-decoration: none; color: black;\">Induced Separation of Charges</a></h1>"
   ]
  },
  {
   "cell_type": "markdown",
   "metadata": {},
   "source": [
    "<h1><a name=\"Electroscope\" style=\"text-decoration: none; color: black;\">Electroscope</a></h1>"
   ]
  },
  {
   "cell_type": "markdown",
   "metadata": {},
   "source": [
    "<h1><a name=\"Practise\" style=\"text-decoration: none; color: black;\">Practise</a></h1>"
   ]
  },
  {
   "cell_type": "markdown",
   "metadata": {},
   "source": [
    "<h1><a name=\"reference\" style=\"text-decoration: none; color: black;\">Reference and Credits</a></h1>"
   ]
  },
  {
   "cell_type": "markdown",
   "metadata": {},
   "source": [
    "<h1><a name=\"conductor\" style=\"text-decoration: none; color: black;\">Conductor and Insulator</a></h1>\n",
    "**Conductor** is a material that allows electrons to flow through it easily and quickly across the entire object surface. When charges are transferred in conductor material, it allows the charges to be quickly distributed. Some common conductor materials are Iron, Aluminium and Copper. \n",
    "<img width=\"300px\" src=\"conductor.gif\"/>"
   ]
  },
  {
   "cell_type": "markdown",
   "metadata": {},
   "source": [
    "**Insulator** is a material that impedes the transfer of electrons across the entire object surface. When charges are transferred in insulator material, it only allows the charges to stay in place since electrons cannot flow through insulator material easily. Some common insulator materials are Silicon, Rubber and Wax. \n",
    "<img width=\"300px\" src=\"insulator.gif\"/>\n"
   ]
  },
  {
   "cell_type": "markdown",
   "metadata": {},
   "source": [
    "<h1><a name=\"fundamental\" style=\"text-decoration: none; color: black;\">Fundamental Laws of Electrostatics</a></h1>\n",
    "\n",
    "\n",
    "\n",
    "**PART1: Like Charges Repel Each Other**\n",
    "1. positively charged object and positively charged object exert repulsive force on each other; \n",
    "2. negatively charges object and negatively charges object exert repulsive force on each other;\n",
    "<img width=\"200px\" src=\"likecharges.jpg\"/>\n"
   ]
  },
  {
   "cell_type": "markdown",
   "metadata": {},
   "source": [
    "**PART2: Opposite Charges Attract Each Other**\n",
    "\n",
    "positively charges object and negatively charged object exert attractive force on each other.\n"
   ]
  },
  {
   "cell_type": "markdown",
   "metadata": {},
   "source": [
    "<img width=\"200px\" src=\"oppositecharges.jpg\"/>"
   ]
  },
  {
   "cell_type": "markdown",
   "metadata": {},
   "source": [
    "<h1><a name=\"conservation\" style=\"text-decoration: none; color: black;\">Law of Conservation of Charges</a></h1>\n",
    "\n",
    "\n",
    "**Law of Conservation of Charges: the net charge of an isolated system must remain constant during any interaction.**\n",
    "\n",
    "\n",
    "It states that charges can never be destroyed or created, and charges are only able to transfer from one obejct to another object. As a result, the number of electrons lost by the object must equal to the number of electrons gained by the other object during any interaction."
   ]
  },
  {
   "cell_type": "markdown",
   "metadata": {},
   "source": [
    "**Interaction of Two Objects:**\n",
    " \n",
    " \n",
    " \n",
    " \n",
    " \n",
    "Consider two identical spheres with different electrostatic charges. When the two spheres touch with each other, two spheres will pursue equilium by equally sharing the charges so that the final charges on two identical spheres are the same. \n",
    "\n",
    "**Direction of the electron movement direction:**\n",
    "\n",
    "electrons always move from more negative (or less positive) sphere to less negative (or more positive) sphere.\n",
    "\n",
    "\n",
    "\n",
    "**Conservation of Charges**\n",
    "\n",
    "**Total Initial Charge of Spheres = Total Final Charge of Spheres**\n",
    "\n",
    "$\\large q_T = q_T^{'}$ \n",
    "\n",
    "$\\large q_1 + q_2 = 2q^{'} $\n",
    "\n",
    "$\\large q^{'}= \\frac{q_1\\hspace{1mm} + \\hspace{1mm}q_2}{2}$"
   ]
  },
  {
   "cell_type": "markdown",
   "metadata": {},
   "source": [
    "<img width=\"200px\" src=\"conservation.jpg\"/>"
   ]
  },
  {
   "cell_type": "markdown",
   "metadata": {},
   "source": [
    "<h1><a name=\"induce\" style=\"text-decoration: none; color: black;\">Induced Separation of Charges</a></h1>"
   ]
  },
  {
   "cell_type": "markdown",
   "metadata": {},
   "source": [
    "**Consider a negatively charged ebonite rod is brought near a neutral pith ball.**"
   ]
  },
  {
   "cell_type": "markdown",
   "metadata": {},
   "source": [
    "<img width=\"300px\" src=\"question.jpg\"/>"
   ]
  },
  {
   "cell_type": "markdown",
   "metadata": {},
   "source": [
    "1. **Electrons Are Repelled**\n",
    "                electrons in the neutral pith ball are repelled \n",
    "                from the negatively charged rod when the rod is brought near. "
   ]
  },
  {
   "cell_type": "markdown",
   "metadata": {},
   "source": [
    "<img width=\"300px\" src=\"before.jpg\"/>"
   ]
  },
  {
   "cell_type": "markdown",
   "metadata": {},
   "source": [
    "2. **Induced Separation**\n",
    "        the net negatively charged rod induces an opposite charge on the nearest region of the neutral pith ball because the electrons in the neutral pith ball are repelled     to move to the right side of the pith ball which leaves the left side defict       amount of electrons and accumulates the right side excess amount of electrons. As a result, the left side of the pith ball is net positively charged, and the right       side of the pith ball is net negatively charged. As a result, the pith ball        will be attracted to the net negatively charged rod due to Fundamental Law of Electrostatics."
   ]
  },
  {
   "cell_type": "markdown",
   "metadata": {},
   "source": [
    "<img width=\"300px\" src=\"final.jpg\"/>"
   ]
  },
  {
   "cell_type": "code",
   "execution_count": 3,
   "metadata": {},
   "outputs": [
    {
     "data": {
      "text/html": [
       "<iframe width=\"100%\" height=\"500px\" src=\"balloon.html\"></iframe>"
      ],
      "text/plain": [
       "<IPython.core.display.HTML object>"
      ]
     },
     "metadata": {},
     "output_type": "display_data"
    }
   ],
   "source": [
    "%%html\n",
    "<iframe width=\"100%\" height=\"500px\" src=\"balloon.html\"></iframe>"
   ]
  },
  {
   "cell_type": "markdown",
   "metadata": {},
   "source": []
  },
  {
   "cell_type": "code",
   "execution_count": null,
   "metadata": {},
   "outputs": [],
   "source": []
  },
  {
   "cell_type": "code",
   "execution_count": null,
   "metadata": {},
   "outputs": [],
   "source": []
  },
  {
   "cell_type": "code",
   "execution_count": null,
   "metadata": {},
   "outputs": [],
   "source": []
  },
  {
   "cell_type": "code",
   "execution_count": null,
   "metadata": {},
   "outputs": [],
   "source": []
  },
  {
   "cell_type": "code",
   "execution_count": null,
   "metadata": {},
   "outputs": [],
   "source": []
  },
  {
   "cell_type": "code",
   "execution_count": null,
   "metadata": {},
   "outputs": [],
   "source": []
  },
  {
   "cell_type": "code",
   "execution_count": null,
   "metadata": {},
   "outputs": [],
   "source": []
  },
  {
   "cell_type": "code",
   "execution_count": 2,
   "metadata": {},
   "outputs": [
    {
     "data": {
      "text/html": [
       "<iframe width=\"100%\" height=\"500px\" src=\"balloon.html\"></iframe>"
      ],
      "text/plain": [
       "<IPython.core.display.HTML object>"
      ]
     },
     "metadata": {},
     "output_type": "display_data"
    }
   ],
   "source": [
    "%%html\n",
    "<iframe width=\"100%\" height=\"500px\" src=\"balloon.html\"></iframe>"
   ]
  },
  {
   "cell_type": "markdown",
   "metadata": {},
   "source": [
    "https://www.eeweb.com/profile/andrew-carter/articles/conductors-and-insulators\n",
    "https://phet.colorado.edu/en/licensing\n",
    "https://www.eeweb.com/profile/andrew-carter/articles/conductors-and-insulators"
   ]
  },
  {
   "cell_type": "markdown",
   "metadata": {},
   "source": []
  },
  {
   "cell_type": "markdown",
   "metadata": {},
   "source": [
    "<img src=\"callystoBannerBottom.jpg\"/>"
   ]
  },
  {
   "cell_type": "code",
   "execution_count": null,
   "metadata": {},
   "outputs": [],
   "source": []
  }
 ],
 "metadata": {
  "kernelspec": {
   "display_name": "Python 3",
   "language": "python",
   "name": "python3"
  },
  "language_info": {
   "codemirror_mode": {
    "name": "ipython",
    "version": 3
   },
   "file_extension": ".py",
   "mimetype": "text/x-python",
   "name": "python",
   "nbconvert_exporter": "python",
   "pygments_lexer": "ipython3",
   "version": "3.6.5"
  }
 },
 "nbformat": 4,
 "nbformat_minor": 2
}
