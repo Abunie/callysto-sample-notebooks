{
 "cells": [
  {
   "cell_type": "markdown",
   "metadata": {},
   "source": [
    "<img src=\"Images/other-callystoBannerTop.jpg\"/>"
   ]
  },
  {
   "cell_type": "markdown",
   "metadata": {},
   "source": [
    "# Table of Contents\n",
    "I. <a href=\"#conductor\"> Conductor and Insulator</a><br>\n",
    "II. <a href=\"#fundamental\"> Fundamental Laws of Electrostatics </a><br>\n",
    "III. <a href=\"#conservation\"> Law of Conservation of Charges</a><br>"
   ]
  },
  {
   "cell_type": "markdown",
   "metadata": {},
   "source": [
    "<h1><a name=\"conductor\" style=\"text-decoration: none; color: black;\">Conductors and Insulators</a></h1>\n",
    "\n",
    "A **conductor** is a material that allows electrons to flow through it easily and quickly across the entire object's surface. When charges are transferred in conductors, it allows the charges to be quickly distributed. Some common conductors are iron, aluminium and copper. \n",
    "<img width=\"300px\" src=\"Images/1-conductor.gif\"/>\n",
    "\n",
    "An **insulator** is a material that impedes the transfer of electrons across the entire object's surface. Charges have a hard time transfering in insulators, which allows the charges to stay in place since electrons cannot flow through the insulating material easily. Some common insulator materials are silicon, rubber and wax. \n",
    "<img width=\"300px\" src=\"Images/1-insulator.gif\"/>"
   ]
  },
  {
   "cell_type": "markdown",
   "metadata": {},
   "source": [
    "<h1><a name=\"fundamental\" style=\"text-decoration: none; color: black;\">Fundamental Laws of Electrostatics</a></h1>\n",
    "**PART 1: Like Charges Repel Each Other**\n",
    "1. A positively charged object and a positively charged object exert a repulsive force on each other; \n",
    "2. A negatively charged object and a negatively charged object exert a repulsive force on each other;\n",
    "<img width=\"200px\" src=\"Images/2-like_charges.jpg\"/>\n",
    "\n",
    "\n",
    "**PART 2: Opposite Charges Attract Each Other**\n",
    "\n",
    "A positively charged object and a negatively charged object exert an attractive force on each other.\n",
    "<img width=\"200px\" src=\"Images/2-opposite_charges.jpg\"/>"
   ]
  },
  {
   "cell_type": "markdown",
   "metadata": {},
   "source": [
    "<h1><a name=\"conservation\" style=\"text-decoration: none; color: black;\">Law of Conservation of Charges</a></h1>\n",
    "\n",
    "\n",
    "**Law of Conservation of Charges: the net charge of an isolated system must remain constant during any interaction.**\n",
    "\n",
    "\n",
    "It states that charges can never be destroyed or created, and charges are only able to transfer from one obejct to another object. As a result, the number of electrons lost by the object must equal to the number of electrons gained by the other object during any interaction."
   ]
  },
  {
   "cell_type": "markdown",
   "metadata": {},
   "source": [
    "<img src=\"Images/other-callystoBannerBottom.jpg\"/>"
   ]
  }
 ],
 "metadata": {
  "kernelspec": {
   "display_name": "Python 3",
   "language": "python",
   "name": "python3"
  },
  "language_info": {
   "codemirror_mode": {
    "name": "ipython",
    "version": 3
   },
   "file_extension": ".py",
   "mimetype": "text/x-python",
   "name": "python",
   "nbconvert_exporter": "python",
   "pygments_lexer": "ipython3",
   "version": "3.6.5"
  }
 },
 "nbformat": 4,
 "nbformat_minor": 2
}
