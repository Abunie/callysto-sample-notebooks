{
 "cells": [
  {
   "cell_type": "markdown",
   "metadata": {},
   "source": [
    "<img src=\"Images/callystoBannerTop.jpg\"/>"
   ]
  },
  {
   "cell_type": "markdown",
   "metadata": {},
   "source": [
    "# Overview\n",
    "**Alberta Curriculum Objectives: explain the behaviour of electric charges, using the laws that govern electrical interactions http://www.learnalberta.ca/ProgramOfStudy.aspx?lang=en&ProgramId=187927#**\n",
    "1. explain electrical interactions in terms of the law of conservation of charge\n",
    "2. explain electrical interactions in terms of the repulsion and attraction of charges \n",
    "3. compare the methods of transferring charge (conduction and induction)\n",
    "4. explain, qualitatively, the distribution of charge on the surfaces of conductors and insulators\n",
    "5. explain, qualitatively, the principles pertinent to Coulomb's torsion balance experiment\n",
    "6. apply Coulomb's law, quantitatively, to analyze the interaction of two point charges\n",
    "7. determine, quantitatively, the magnitude and direction of the electric force on a point charge due to two or more other point charges in a plane \n",
    "8. compare, qualitatively and quantitatively, the inverse square relationship as it is expressed by Coulomb's law and by Newton's universal law of gravitation.\n",
    "\n",
    "In the first section of the notebook, we will be working on qualitative concept and analysis about electrostatics. We will be studying with Fundamental Laws of Electrostatics and Law of Coservation of Charges to explain different methods of transferring charges and charging objects. Also, we will be discussing the differences in the districbution of charge on the surfaces of conductors and insulators. In the second section of the notebook, we will be working on the Coullomb's torsion balance experiment and how to use Coulomb's law to qualitatively and quantitatively analyze the interaction of two point charges.\n",
    "\n",
    "We are expecting that the students understand vector and scalar quantity, two dimensional force analysis. \n",
    "\n"
   ]
  },
  {
   "cell_type": "markdown",
   "metadata": {},
   "source": [
    "# Introduction \n",
    "-\n",
    "Note: Do not be intimidated by the code! You do not have to touch or edit most of it, and all you have to do is run the code. There are some segments where you have the option to edit the code, but they are clearly labeled and relatively simple. Feel free to look through the code however, and pick apart what it is doing. If you make a change to the code and it stops working, those changes are reversable.\n"
   ]
  },
  {
   "cell_type": "markdown",
   "metadata": {},
   "source": [
    "# Table of Contents \n",
    "I. [Electrostatic](Electrostatic.ipynb)\n",
    "   - About 60 minutes to complete\n",
    "   - Simulation for different methods of charging\n",
    "   - Practice questions with answers\n",
    "\n",
    "\n",
    "II. [Coulomb's Law](Coulomb's Law.ipynb)\n",
    "   - About 40 minutes to complete  \n",
    "   - Simulation for Coulomb's torsion balance experiment\n",
    "   - Practice questions with answers\n"
   ]
  },
  {
   "cell_type": "markdown",
   "metadata": {},
   "source": [
    "<img src=\"Images/callystoBannerBottom.jpg\"/>"
   ]
  }
 ],
 "metadata": {
  "kernelspec": {
   "display_name": "Python 3",
   "language": "python",
   "name": "python3"
  },
  "language_info": {
   "codemirror_mode": {
    "name": "ipython",
    "version": 3
   },
   "file_extension": ".py",
   "mimetype": "text/x-python",
   "name": "python",
   "nbconvert_exporter": "python",
   "pygments_lexer": "ipython3",
   "version": "3.6.5"
  }
 },
 "nbformat": 4,
 "nbformat_minor": 2
}
