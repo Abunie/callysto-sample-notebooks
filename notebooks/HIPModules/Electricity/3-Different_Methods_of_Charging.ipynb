{
 "cells": [
  {
   "cell_type": "markdown",
   "metadata": {},
   "source": [
    "<img src=\"Images/other-callystoBannerTop.jpg\"/>"
   ]
  },
  {
   "cell_type": "markdown",
   "metadata": {},
   "source": [
    "# Introduction\n",
    "In this notebook, we will be studying about different methods of charging. In each method, we are introducing an experiment to illustrate and clarify the concept and using fundamental knowledge to explain different experiments. Furthermore, there is simulation for Charging by Friction and Charging by Induction in order to enhance the knowledge and the skills. "
   ]
  },
  {
   "cell_type": "markdown",
   "metadata": {},
   "source": [
    "# Table of Contents\n",
    "I. <a href=\"#induce\"> Induced Separation of Charges</a><br>\n",
    "II. <a href=\"#charging\"> Three Methods of Charging Objects</a><br>\n",
    "   1. <a href=\"#friction\"> Charging by Friction</a><br>\n",
    "   2. <a href=\"#conduction\"> Charging by Conduction</a><br>\n",
    "   3. <a href=\"#induction\"> Charging by Induction</a><br>"
   ]
  },
  {
   "cell_type": "markdown",
   "metadata": {},
   "source": [
    "<h1><a name=\"induce\" style=\"text-decoration: none; color: black;\">Induced Separation of Charges</a></h1>\n",
    "**Consider a net negatively charged ebonite rod is brought near (but not touching) with a neutral pith ball.**\n",
    "<img width=\"300px\" src=\"Images/3-induced_separation_question.jpg\"/>\n",
    "\n",
    "1. **Electrons Are Repelled**\n",
    "\n",
    "\n",
    "Electrons in the neutral pith ball are repelled away from the net negatively charged rod when the rod is brought near. \n",
    "<img width=\"300px\" src=\"Images/3-induced_separation_question.jpg\"/>\n",
    "\n",
    "\n",
    "2. **Induced Separation**\n",
    "\n",
    "The negatively charged rod begins to induce an opposite charge on the nearest region of the pith ball because the electrons close to the rod are repelled. The electrons move to the right side of the pith ball while the positive protons remain in their place creating a deficit of electrons on the left side. Furthermore, the right side now has an excess amount of electrons. As a result, the left side of the pith ball is net positively charged,  and the right side of the pith ball is net negatively charged.\n",
    "\n",
    "<img width=\"300px\" src=\"Images/3-induced_separation_2.jpg\"/>\n",
    "\n",
    "\n",
    "3. **Attraction**\n",
    "\n",
    "\n",
    "\n",
    "Because the left side of the pith ball is net positively charged, and the rod is net negatively charged, they will be attracted due to the Fundamental Law of Electrostatics (Opposite Charges attract).\n",
    "\n",
    "<img width=\"300px\" src=\"Images/3-induced_separation_3.jpg\"/>"
   ]
  },
  {
   "cell_type": "markdown",
   "metadata": {},
   "source": [
    "<h1><a name=\"charging\" style=\"text-decoration: none; color: black;\">Three Methods of Charging Objects</a></h1>"
   ]
  },
  {
   "cell_type": "markdown",
   "metadata": {},
   "source": [
    "<h1><a name=\"friction\" style=\"text-decoration: none; color: black; font-size: 20px\">Charging by Friction: work best with insulators</a></h1>\n",
    "\n",
    "\n",
    "**Consider a neutral ebonite rod is rubbed with a neutral fur.**\n",
    "<img width=\"150px\" src=\"Images/4-friction_question.jpg\"/>\n",
    "\n",
    "1. **Heat energy is generated in the contact region.**\n",
    "\n",
    "\n",
    "\n",
    "When the neutral rod and the neutral fur are rubbed together, the friction between them generates heat energy. The heat energy then causes the electrons to get excited in the contact region, moving the electrons to a higher energy level and making them easier to be removed from atoms. \n",
    "\n",
    "\n",
    "\n",
    "<img src=\"Images/4-friction_1.jpg\" style=\"width:200px; float:left\" >  <img src=\"Images/4-friction_2.jpg\" width=\"200px\"> <br>\n",
    "\n",
    "2. **Electrostatic Series**\n",
    "\n",
    "\n",
    "Two materials will pull on these excited electrons, but one of the materials will pull on the electrons more than the other mateterial. The material that is higher on the Electrostatic Series has a stronger hold on the electrons, and it will pull the electrons off the other material.\n",
    "\n",
    "\n",
    "In this example, since ebonite rod is higher on the electrostatic series, ebonite rod has a stronger hold on the electrons. As a result, the ebonite rod will pull the excited electrons off the fur. \n",
    "\n",
    "\n",
    "<img src=\"Images/4-friction_3.jpg\" style=\"width:300px; float:left\" ><img src=\"Images/4-friction_4.jpg\" width=\"200px\"> <br>\n",
    "\n",
    "\n",
    "3. **Conservation of Charges**\n",
    "\n",
    "\n",
    "Since the ebonite rod pulls the excited electrons off the fur, the rod will gain a net negative charge due to the excess amount of electrons. On the other hand, the fur will gain a net positively charged due to the deficit amount of electrons, and the charge will be exactly equal but opposite due to the Conservation of Charges. \n",
    "\n",
    "\n",
    "<img width=\"300px\" src=\"Images/4-friction_5.jpg\"/>"
   ]
  },
  {
   "cell_type": "markdown",
   "metadata": {},
   "source": [
    "### Simulation\n",
    "\n",
    "There is a simulation about charging by friction down below. When balloon and fur are rubbed together, friction is created. The heat energy causes the electrons to get excited, moving the electrons to higher energy levels and making them easier to be removed from atoms. Because the balloon is higher on the electrostatic series than wool, balloon will pull the electrons off the clothes. As a result, balloon will gain a net negative charge, and the cloth will gain an equal but opposite charge. Because balloon is then net negatively charged, it will attract to the net positively charged cloth. In addition, as the net negatively charged balloon is brought near the neutral wall, the electrons within the wall will be repelled due to Fundamental Law of Charges (like charges repel) which creates an induced separation of charges. \n",
    "\n",
    "\n",
    "Run the code and click the simulation below to see!"
   ]
  },
  {
   "cell_type": "code",
   "execution_count": 1,
   "metadata": {},
   "outputs": [
    {
     "data": {
      "text/html": [
       "<iframe width=\"100%\" height=\"400px\" src=\"Images/4-simulation_balloon.html\"></iframe>"
      ],
      "text/plain": [
       "<IPython.core.display.HTML object>"
      ]
     },
     "metadata": {},
     "output_type": "display_data"
    }
   ],
   "source": [
    "%%html\n",
    "<iframe width=\"100%\" height=\"400px\" src=\"Images/4-simulation_balloon.html\"></iframe>"
   ]
  },
  {
   "cell_type": "markdown",
   "metadata": {},
   "source": [
    "<h1><a name=\"conduction\" style=\"text-decoration: none; color: black; font-size: 20px\">Charging by Conduction: work best with conductors</a></h1>\n",
    "\n",
    "**Consider a net negatively charged ebonite rod that is slowly brought into contact with a neutral pith ball.**\n",
    "\n",
    "1. **Electrons are transferred.**\n",
    " \n",
    " When the net negatively charged ebonite rod and the neutral pith ball are brought into contact, electrons are transferred to achieve equiliubrium until both objects have the same final charge. \n",
    " \n",
    " \n",
    " 2. **Final charge.**\n",
    "\n",
    "   Some of the excess electrons in the ebonite rod will be transferred to the pith ball. \n",
    "   \n",
    "   In the end, both objects will have an equal net negative charge.\n",
    "\n",
    "\n",
    "<img width=\"300px\" src=\"Images/5-conduction.jpg\"/>"
   ]
  },
  {
   "cell_type": "markdown",
   "metadata": {},
   "source": [
    "### Interaction of Two Objects:\n",
    "Consider two identical spheres with different electrostatic charges. \n",
    "       When the two spheres touch with each other, two spheres will pursue equilium by equally sharing the charges \n",
    "       so that the final charges on two identical spheres are the same. \n",
    "\n",
    "**Direction of the electron movement direction:**\n",
    "\n",
    "Electrons always move from more negative (or less positive) sphere to less negative (or more positive) sphere.\n",
    "\n",
    "\n",
    "\n",
    "**Conservation of Charges**\n",
    "\n",
    "**Total Initial Charge of Spheres = Total Final Charge of Spheres**\n",
    "\n",
    "$\\large q_T = q_T^{'}$ \n",
    "\n",
    "$\\large q_1 + q_2 = 2q^{'} $\n",
    "\n",
    "$\\large q^{'}= \\frac{q_1\\hspace{1mm} + \\hspace{1mm}q_2}{2}$\n",
    "\n",
    "<img width=\"200px\" src=\"Images/5-conservation_of_charges.jpg\"/>"
   ]
  },
  {
   "cell_type": "markdown",
   "metadata": {},
   "source": [
    "<h1><a name=\"induction\" style=\"text-decoration: none; color: black; font-size: 20px\">Charging by Induction: work best with conductors</a></h1>\n",
    "\n",
    "\n",
    "### Grounding\n",
    "**Ground:** a large source or a large sink for electrons. e.x. Earth\n",
    "\n",
    "**When ground is introduced in contact with a charged object, it tries to neutralize the object: **\n",
    "\n",
    "1. Consider attaching **a Net Negatively Charged Object** to ground;\n",
    "\n",
    "When a net negatively charged object, the excess electrons in the net neatively charged object will leave and enter the ground. This would neutralize charged object but would not leave ground net negatively charged because ground is a large conductor. Electrons will just spread out due to repulsion between electrons based on Fundamental Law of Electrostatics \n",
    "        (like charges repel).\n",
    "2. Consider attaching **a Net Positively Charged Object** to ground;\n",
    "\n",
    "\n",
    "When a net positively charged object, more electrons from the ground will be attracted to the net positively charged object. \n",
    "        This would neutralize charged object but would not leave ground net positively charged because ground is a large conductor. More electrons will be drawn up due to attraction between protons and electrons based on Fundamental Law of Electrostatics (opposite charges attract).\n",
    "        \n",
    "  <img width=\"400px\" src=\"Images/6-grounding.jpg\"/>"
   ]
  },
  {
   "cell_type": "markdown",
   "metadata": {},
   "source": [
    "### Induction\n",
    "\n",
    "**Consider a net negatively charged ebonite rod is brought near (but not touching) with a neutral metal sphere.**\n",
    "1. **Induced separation of charges**\n",
    "\n",
    "When a net negatively charged ebonite rod is brought near a neutral metal sphere, electrons in the metal sphere are repelled from the net negatively charged rod due to Fundamental Law of Electrostatic (like charges repel).  This forces the electrons to move from the left side of the metal sphere to the right side of the metal sphere. \n",
    "\n",
    "2. **Ground is introduced to be in contact with the neutral metal sphere**\n",
    "\n",
    "\n",
    "As the ground is attached to the metal sphere, electrons in the metal sphere are repelled from the net negatively charged rod. Ground simply provides a pathway for the electrons to escape which makes the electrons leave to ground. This leaves the metal sphere with a net positive charge due to defict amount of electrons. \n",
    "\n",
    "<img width=\"500px\" src=\"Images/6-induction.jpg\"/>"
   ]
  },
  {
   "cell_type": "code",
   "execution_count": 2,
   "metadata": {
    "scrolled": true
   },
   "outputs": [
    {
     "data": {
      "text/html": [
       "<iframe width=\"100%\" height=\"400px\" src=\"Images/6-simulation_floor.html\"></iframe>"
      ],
      "text/plain": [
       "<IPython.core.display.HTML object>"
      ]
     },
     "metadata": {},
     "output_type": "display_data"
    }
   ],
   "source": [
    "%%html\n",
    "<iframe width=\"100%\" height=\"400px\" src=\"Images/6-simulation_floor.html\"></iframe>"
   ]
  },
  {
   "cell_type": "markdown",
   "metadata": {},
   "source": [
    "<img src=\"Images/other-callystoBannerBottom.jpg\"/>"
   ]
  }
 ],
 "metadata": {
  "kernelspec": {
   "display_name": "Python 3",
   "language": "python",
   "name": "python3"
  },
  "language_info": {
   "codemirror_mode": {
    "name": "ipython",
    "version": 3
   },
   "file_extension": ".py",
   "mimetype": "text/x-python",
   "name": "python",
   "nbconvert_exporter": "python",
   "pygments_lexer": "ipython3",
   "version": "3.7.0"
  }
 },
 "nbformat": 4,
 "nbformat_minor": 2
}
