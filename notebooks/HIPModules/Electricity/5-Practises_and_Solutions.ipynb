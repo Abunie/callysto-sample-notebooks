{
 "cells": [
  {
   "cell_type": "markdown",
   "metadata": {},
   "source": [
    "<img src=\"Images/other-callystoBannerTop.jpg\"/>"
   ]
  },
  {
   "cell_type": "markdown",
   "metadata": {},
   "source": [
    "<h1><a name=\"Practise_Answer\" style=\"text-decoration: none; color: black;\">Practise and Answer</a></h1>\n",
    "\n",
    "There are four questions below that test your Electrostatic knowledge.\n",
    "\n",
    "Please try to solve the questions first. If you are struggling, click on `show answer` for full solutions. "
   ]
  },
  {
   "cell_type": "markdown",
   "metadata": {},
   "source": [
    "**Example 1:** A balloon is rubbed with fur, and it gains a net positive charge. When it is brought near the wall, it is attracted and it remains stuck there for a very long time. Explain these observations using principles of physics."
   ]
  },
  {
   "cell_type": "code",
   "execution_count": 12,
   "metadata": {},
   "outputs": [
    {
     "data": {
      "application/javascript": [
       "//get the button you want to add functionality using ID \n",
       "var button = $('#button1');\n",
       "//add function to button\n",
       "button.click(function(){\n",
       "                if($('#answer1').is(\":visible\")){\n",
       "                     $('#answer1').parent().parent().parent().hide()\n",
       "                }\n",
       "                else if($('#answer1').is(\":hidden\")){\n",
       "                    $('#answer1').parent().parent().parent().show();\n",
       "                }\n",
       "            })\n",
       "\n",
       "\n",
       "\n",
       "//This hides all divs with classes answers in them\n",
       "$(document).ready(function() {\n",
       "    $('.answers').parent().parent().parent().hide();\n",
       "});"
      ],
      "text/plain": [
       "<IPython.core.display.Javascript object>"
      ]
     },
     "metadata": {},
     "output_type": "display_data"
    }
   ],
   "source": [
    "%%javascript\n",
    "//get the button you want to add functionality using ID \n",
    "var button = $('#button1');\n",
    "//add function to button\n",
    "button.click(function(){\n",
    "                if($('#answer1').is(\":visible\")){\n",
    "                     $('#answer1').parent().parent().parent().hide()\n",
    "                }\n",
    "                else if($('#answer1').is(\":hidden\")){\n",
    "                    $('#answer1').parent().parent().parent().show();\n",
    "                }\n",
    "            })\n",
    "\n",
    "\n",
    "\n",
    "//This hides all divs with classes answers in them\n",
    "$(document).ready(function() {\n",
    "    $('.answers').parent().parent().parent().hide();\n",
    "});"
   ]
  },
  {
   "cell_type": "markdown",
   "metadata": {},
   "source": [
    "<div>\n",
    "    <button id=\"button1\">\n",
    "        Show Answer!\n",
    "    </button>\n",
    "</div>"
   ]
  },
  {
   "cell_type": "markdown",
   "metadata": {},
   "source": [
    "**Answer For Example 1:** \n",
    "\n",
    "**I. Charging By Friction:** When the fur and the balloon are rubbed together, the friction between them generates heat energy. This excites the electrons in the contact region between the fur and the balloon. Because the fur is higher on the electrostatic series, the fur has a stronger hold on the excited electrons which pulls the excited electrons off of the balloon. As a result, the balloon gains a net positive charge, and the fur gains a net negative charges.\n",
    "\n",
    "<img src=\"Images/9-practise1.1.jpg\" style=\"width:150px; float:left\" ><img src=\"Images/9-practise1.2.jpg\" width=\"150px\"> <br>\n",
    "\n",
    "**II. Induced Separation of Charges:** When the net positively charged balloon is brought near the wall, the electrons on the wall are attaracted to the net positively charged balloon due to the Fundamental Law of Electrostatic (opposite charges attract). As a result, the balloon has induced the opposite charge (a net negative charge) in the region of wall closed to the balloon. Thus, the balloon is attracted to the wall due to the Fundamental Law of Electrostatic (opposite charges attract).\n",
    "\n",
    "<img src=\"Images/9-practise1.3.jpg\" style=\"width:250px; float:left\" ><img src=\"Images/9-practise1.4.jpg\" width=\"150px\"> <br>\n",
    "<div id=\"answer1\" class=\"answers\">\n",
    "\n",
    "</div>"
   ]
  },
  {
   "cell_type": "markdown",
   "metadata": {},
   "source": [
    "**Example 2:** Two neutral metal spheres (on insulated stands) are touching with each other. A                 net negatively charged balloon is \n",
    "                          brought near to sphere A. While it is near, the two spheres are them separated without grounding. Determine the resulting charge of each metal sphere, and determine the method of charging for each metal sphere. \n",
    "                          \n",
    "<img width=\"400px\" src=\"Images/9-practise2.1.jpg\"/>"
   ]
  },
  {
   "cell_type": "code",
   "execution_count": 13,
   "metadata": {},
   "outputs": [
    {
     "data": {
      "application/javascript": [
       "//get the button you want to add functionality using ID \n",
       "var button = $('#button2');\n",
       "//add function to button\n",
       "button.click(function(){\n",
       "                if($('#answer2').is(\":visible\")){\n",
       "                     $('#answer2').parent().parent().parent().hide()\n",
       "                }\n",
       "                else if($('#answer2').is(\":hidden\")){\n",
       "                    $('#answer2').parent().parent().parent().show();\n",
       "                }\n",
       "            })\n",
       "\n",
       "\n",
       "\n",
       "//This hides all divs with classes answers in them\n",
       "$(document).ready(function() {\n",
       "    $('.answers').parent().parent().parent().hide();\n",
       "});"
      ],
      "text/plain": [
       "<IPython.core.display.Javascript object>"
      ]
     },
     "metadata": {},
     "output_type": "display_data"
    }
   ],
   "source": [
    "%%javascript\n",
    "//get the button you want to add functionality using ID \n",
    "var button = $('#button2');\n",
    "//add function to button\n",
    "button.click(function(){\n",
    "                if($('#answer2').is(\":visible\")){\n",
    "                     $('#answer2').parent().parent().parent().hide()\n",
    "                }\n",
    "                else if($('#answer2').is(\":hidden\")){\n",
    "                    $('#answer2').parent().parent().parent().show();\n",
    "                }\n",
    "            })\n",
    "\n",
    "\n",
    "\n",
    "//This hides all divs with classes answers in them\n",
    "$(document).ready(function() {\n",
    "    $('.answers').parent().parent().parent().hide();\n",
    "});"
   ]
  },
  {
   "cell_type": "markdown",
   "metadata": {},
   "source": [
    "<div>\n",
    "    <button id=\"button2\">\n",
    "        Show Answer!\n",
    "    </button>\n",
    "</div>"
   ]
  },
  {
   "cell_type": "markdown",
   "metadata": {},
   "source": [
    "**Answer For Example 2:** \n",
    "\n",
    "**I. Charging By Induction for Sphere A:** When the net negatively charged balloon is brought near the wall, the electrons on the sphere A are repelled to the net negatively charged balloon due to the Fundamental Law of Electrostatic (like charges repel). As sphere B is introduced, it simply provides a pathway for electrons to escape, so the excess amount of electrons will be repelled to move to sphere B. While net negatively charged balloon is held at that position to prevent electrons flow back to sphere A, separate two spheres. In the end, the sphere A is net positively charged due to the deficit amount of electrons because electrons are moved away.\n",
    "\n",
    "**II. Charging By Conduction for Sphere B:** Because sphere A and sphere B are put side by side in contact with each other, when electrons are repelled away from the net negatively charged rod, electrons transfer to sphere B to pursue equilibrium of charges. In the end, because more electrons are transferred to sphere B, sphere B ends up with a net negative charge due to the excess amount of electrons.\n",
    "<img width=\"400px\" src=\"Images/9-practise2.2.jpg\"/>\n",
    "\n",
    "<div id=\"answer2\" class=\"answers\">\n",
    "\n",
    "</div>"
   ]
  },
  {
   "cell_type": "markdown",
   "metadata": {},
   "source": [
    "**Example 3:** Explain an experiment using the principles of physics. In the experiment, a pith ball is first grounded. Then, the neutral ebonite rod is rubbed with a neutral fur which gives the ebonite rod a net negative charge. Bring the ebonite rod near (without touching) the pith ball, and the pith ball should begin to move towards the rod. Now, bring the ebonite rod closer (still without touching), and the pith ball should move repaidly towards the ebonite rod. Then, the pith ball will touch the ebonite rod and quickly move away from the ebonite rod. At the end, the pith ball will remain away from the rod. Using the Principles of Physics to explain the experiment.\n",
    "\n",
    "<img width=\"250px\" src=\"Images/9-practise3.1.jpg\"/>"
   ]
  },
  {
   "cell_type": "code",
   "execution_count": 14,
   "metadata": {},
   "outputs": [
    {
     "data": {
      "application/javascript": [
       "//get the button you want to add functionality using ID \n",
       "var button = $('#button3');\n",
       "//add function to button\n",
       "button.click(function(){\n",
       "                if($('#answer3').is(\":visible\")){\n",
       "                     $('#answer3').parent().parent().parent().hide()\n",
       "                }\n",
       "                else if($('#answer3').is(\":hidden\")){\n",
       "                    $('#answer3').parent().parent().parent().show();\n",
       "                }\n",
       "            })\n",
       "\n",
       "\n",
       "\n",
       "//This hides all divs with classes answers in them\n",
       "$(document).ready(function() {\n",
       "    $('.answers').parent().parent().parent().hide();\n",
       "});"
      ],
      "text/plain": [
       "<IPython.core.display.Javascript object>"
      ]
     },
     "metadata": {},
     "output_type": "display_data"
    }
   ],
   "source": [
    "%%javascript\n",
    "//get the button you want to add functionality using ID \n",
    "var button = $('#button3');\n",
    "//add function to button\n",
    "button.click(function(){\n",
    "                if($('#answer3').is(\":visible\")){\n",
    "                     $('#answer3').parent().parent().parent().hide()\n",
    "                }\n",
    "                else if($('#answer3').is(\":hidden\")){\n",
    "                    $('#answer3').parent().parent().parent().show();\n",
    "                }\n",
    "            })\n",
    "\n",
    "\n",
    "\n",
    "//This hides all divs with classes answers in them\n",
    "$(document).ready(function() {\n",
    "    $('.answers').parent().parent().parent().hide();\n",
    "});"
   ]
  },
  {
   "cell_type": "markdown",
   "metadata": {},
   "source": [
    "<div>\n",
    "    <button id=\"button3\">\n",
    "        Show Answer!\n",
    "    </button>\n",
    "</div>"
   ]
  },
  {
   "cell_type": "markdown",
   "metadata": {},
   "source": [
    "**Answer For Example 3:** \n",
    "\n",
    "**I. Charging By Friction: the ebonite rod gains a net negative charge when it is rubbed with fur**\n",
    "\n",
    "When the fur and the rod are rubbed together, the friction between them generates heat energy. This excites the electrons in the contact region. Because ebonite is higher on the electrostatic series, the ebonite rod has a stronger hold on the excited electrons which strips the excited electrons off of the fur. As a result, the ebonite rod gains a net negative charge.\n",
    "\n",
    "**II. Induced Separation of Charges: neutral pith ball move towards the negatively-charged rod**\n",
    "\n",
    "When the net negaively charged rod is brought near the neutral pith ball, the electrons on the pith ball are repelled from the net negatively charged rod due to the Fundamental Law of Electrostatic (like charges repel). As a result, the pith ball has induced the opposite charge (a net positive charge) in the region of pith ball closed to the rod. Thus, the pith ball is attracted to the rod due to the Fundamental Law of Electrostatic (opposite charges attract).\n",
    "\n",
    "**III. Charging By Conduction: the pith ball moves away from the rod quickly when the pith ball touches the rod**\n",
    "\n",
    "When the net negatively charged rod is touched with the pith ball, the excess amount of electrons in the rod transferrs to the pith ball in order to pursue equilirium. In the end, both of the rod and the pith ball end up with a net negatively charged.\n",
    "\n",
    "<div id=\"answer3\" class=\"answers\">\n",
    "\n",
    "</div>"
   ]
  },
  {
   "cell_type": "markdown",
   "metadata": {},
   "source": [
    "**Example 4:** A glass rod is rubbed by silk, and as a result, it gains a positive charge. It is then brought near a neutral metal-leaf electroscope, and as a result, the leaves move further apart. When the glass rod touches the scope, and then is moved away, the leaves remain apart. \n",
    "\n",
    "Using diagrams and the principles of physics, explain:\n",
    "1. Why the glass gained a positive charge\n",
    "2. Why the leaves moved apart when the glass was brought near\n",
    "3. Why the leaves remained apart after contact with the glass rod\n",
    "\n",
    "<img width=\"250px\" src=\"Images/9-practise4.1.jpg\"/>"
   ]
  },
  {
   "cell_type": "code",
   "execution_count": 16,
   "metadata": {},
   "outputs": [
    {
     "data": {
      "application/javascript": [
       "//get the button you want to add functionality using ID \n",
       "var button = $('#button4');\n",
       "//add function to button\n",
       "button.click(function(){\n",
       "                if($('#answer4').is(\":visible\")){\n",
       "                     $('#answer4').parent().parent().parent().hide()\n",
       "                }\n",
       "                else if($('#answer4').is(\":hidden\")){\n",
       "                    $('#answer4').parent().parent().parent().show();\n",
       "                }\n",
       "            })\n",
       "\n",
       "\n",
       "\n",
       "//This hides all divs with classes answers in them\n",
       "$(document).ready(function() {\n",
       "    $('.answers').parent().parent().parent().hide();\n",
       "});"
      ],
      "text/plain": [
       "<IPython.core.display.Javascript object>"
      ]
     },
     "metadata": {},
     "output_type": "display_data"
    }
   ],
   "source": [
    "%%javascript\n",
    "//get the button you want to add functionality using ID \n",
    "var button = $('#button4');\n",
    "//add function to button\n",
    "button.click(function(){\n",
    "                if($('#answer4').is(\":visible\")){\n",
    "                     $('#answer4').parent().parent().parent().hide()\n",
    "                }\n",
    "                else if($('#answer4').is(\":hidden\")){\n",
    "                    $('#answer4').parent().parent().parent().show();\n",
    "                }\n",
    "            })\n",
    "\n",
    "\n",
    "\n",
    "//This hides all divs with classes answers in them\n",
    "$(document).ready(function() {\n",
    "    $('.answers').parent().parent().parent().hide();\n",
    "});"
   ]
  },
  {
   "cell_type": "markdown",
   "metadata": {},
   "source": [
    "<div>\n",
    "    <button id=\"button4\">\n",
    "        Show Answer!\n",
    "    </button>\n",
    "</div>"
   ]
  },
  {
   "cell_type": "markdown",
   "metadata": {},
   "source": [
    "**Answer For Example 4:** \n",
    "\n",
    "**I.Charging by friction:** when the glass rod is rubbed by silk, heat energy is created which makes the electrons move further from their nuclei and make them easier to be stripped off the atoms. There is then a \"tug-of-war\" between the two materials, each pulling on these excited electrons. The silk must be higher on the electrostatic series which means that it has a stronger hold on the electrons than glass. As a result, the silk pulls the electrons off of the glass which gives the glass a deficit of electrons and thus a positive charge.\n",
    "(Note: The silk gains an equal but opposite charge due to conservation of charge)\n",
    "<img src=\"Images/9-practise4.2.jpg\"/>\n",
    "\n",
    "**II. Induced Separation of Charge:** at first, when the electroscope is neutral, the leaves are hanging vertically. However, when the net positive glass rod is brought near, it attracts the electrons (since they have opposite charges), causing the electrons to move up the scope. This causes the leaves to have a deficit of electrons, and since they both have a positive charge now, they repel each other (since like charges repel).\n",
    "<img src=\"Images/9-practise4.3.jpg\"/>\n",
    "\n",
    "**III. Charging by conduction:** when the glass rod comes in contact with the electroscope, they pursue equilibrium (i.e. balance of charges). Electrons transfer from the electroscope to the glass rod, giving the scope a positive charge due to the deficit amount of electrons. Since the electroscope is now positive, the leaves will remain apart (due to the repulsion of like charges).\n",
    "<img src=\"Images/9-practise4.4.jpg\"/>\n",
    "\n",
    "<div id=\"answer4\" class=\"answers\">\n",
    "\n",
    "</div>"
   ]
  },
  {
   "cell_type": "markdown",
   "metadata": {},
   "source": [
    "<img src=\"Images/other-callystoBannerBottom.jpg\"/>"
   ]
  }
 ],
 "metadata": {
  "kernelspec": {
   "display_name": "Python 3",
   "language": "python",
   "name": "python3"
  },
  "language_info": {
   "codemirror_mode": {
    "name": "ipython",
    "version": 3
   },
   "file_extension": ".py",
   "mimetype": "text/x-python",
   "name": "python",
   "nbconvert_exporter": "python",
   "pygments_lexer": "ipython3",
   "version": "3.6.5"
  }
 },
 "nbformat": 4,
 "nbformat_minor": 2
}
