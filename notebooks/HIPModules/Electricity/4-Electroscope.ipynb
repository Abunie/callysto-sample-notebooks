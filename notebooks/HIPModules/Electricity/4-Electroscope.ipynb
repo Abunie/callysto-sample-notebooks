{
 "cells": [
  {
   "cell_type": "markdown",
   "metadata": {},
   "source": [
    "<img src=\"Images/other-callystoBannerTop.jpg\"/>"
   ]
  },
  {
   "cell_type": "markdown",
   "metadata": {},
   "source": [
    "# Introduction\n",
    "In this notebook, we will be observing how electroscopes are changed when it is charged by induced separation, conduction and induction. In order to understand the concept, you need to make sure to fully absorb the knowledge in the previous lessons. We are going to apply different methods of charging to electroscope and use the principles of physics to explain the theory. "
   ]
  },
  {
   "cell_type": "markdown",
   "metadata": {},
   "source": [
    "# Table of Contents\n",
    "I. <a href=\"#fundamental\"> Fundamentals</a><br>\n",
    "II. <a href=\"#charging\"> Three Methods of Charging</a><br>\n",
    "   1. <a href=\"#induced\"> Induced Separation of Charges</a><br>\n",
    "   2. <a href=\"#conduction\"> Charging by Conduction</a><br>\n",
    "   3. <a href=\"#induction\"> Charging by Induction</a><br>"
   ]
  },
  {
   "cell_type": "markdown",
   "metadata": {},
   "source": [
    "<h1><a name=\"fundamental\" style=\"text-decoration: none; color: black;\">Fundamentals</a></h1>\n",
    "\n",
    "1. If the foil leaves at the bottom of the electroscope are hung **vertically straight downwards**, the electroscope is neutral;\n",
    "\n",
    "<img width=\"50px\" src=\"Images/7-electroscope_neutral.jpg\"/>\n",
    "2. If the foil leaves at the bottom of the electroscope are **repelled and separated**,  the electroscope is charged.\n",
    "   \n",
    "   \n",
    "   **a. Positively charged:**\n",
    "   \n",
    "   \n",
    "   If the electroscope is net negatively charged at the top, the excess electrons are going to distrubute throughout the foil leaves which cause the foil leaves to be repelled and separated due to Fundamental Law of Electronstatics (like charges repel).\n",
    "     \n",
    "<img width=\"100px\" src=\"Images/7-electroscope_positive.jpg\"/>\n",
    "\n",
    "\n",
    "**b. Negatively charged:**\n",
    "\n",
    "\n",
    "\n",
    "If the electroscope is net positively charged at the top, the electrons at the bottom are going to move upwards to pursue the equilibrium of charges, and this leaves foil leaves with defict amount of electrons. This causes the foil leaves to be repelled and separated due to Fundamental Law of Electronstatics (like charges repel).\n",
    "     \n",
    "<img width=\"100px\" src=\"Images/7-electroscope_negative.jpg\"/>"
   ]
  },
  {
   "cell_type": "markdown",
   "metadata": {},
   "source": [
    "<h1><a name=\"fundamental\" style=\"text-decoration: none; color: black;\">Fundamentals</a></h1>\n",
    "<h1><a name=\"induced\" style=\"text-decoration: none; color: black; font-size: 20px\">Induced Separation of Charges</a></h1>\n",
    "              \n",
    "                 There is a simulation about induced separation of charges down below.\n",
    "                  Run the code and drag the green rod near (but not touching) the electroscope below to see!\n",
    "\n",
    "When a net negatively charged rod is brought near (but not touching) the electroscope, the electrons move away fom the top of the electroscope to the bottom of the electroscope (foil leaves). This will cause the foil leaves at the bottom of the electroscope an excess amount of electrons (more electrons). As a result, two foil leaves will repel with each other and are separated due to Fundamental Law of Electrostatic (like charges repel)."
   ]
  },
  {
   "cell_type": "code",
   "execution_count": 5,
   "metadata": {},
   "outputs": [
    {
     "data": {
      "text/html": [
       "<iframe width=\"100%\" height=\"400px\" src=\"Images/8-simulation_induced_separation.html\"></iframe>"
      ],
      "text/plain": [
       "<IPython.core.display.HTML object>"
      ]
     },
     "metadata": {},
     "output_type": "display_data"
    }
   ],
   "source": [
    "%%html\n",
    "<iframe width=\"100%\" height=\"400px\" src=\"Images/8-simulation_induced_separation.html\"></iframe>"
   ]
  },
  {
   "cell_type": "markdown",
   "metadata": {},
   "source": [
    "<h1><a name=\"conduction\" style=\"text-decoration: none; color: black; font-size: 20px\">Charging by Conduction</a></h1>\n",
    "\n",
    "                  There is a simulation about charging by conduction down below.\n",
    "                  Run the code and drag the green rod to touch the electroscope below to see!\n",
    "When a net negatively charged rod is brought near the electroscope and touches the electroscope, the electrons on the top of electroscope \n",
    "are going to repel the net negatively charged rod and move towards the foil leaves at the bottom due to Fundamental Law of Electrostatics (like charges repel). When the net negatively charged rod touches the electroscope, electrons are going to transfer from the rod to the electroscope in order to pursue equiliubrium. After the rod is removed, there is an excess amount of electrons on the elctroscope which results a net negative charge. As a result, the foil leaves will repel each other and are separated due to Fundamental Law of Electrostatic (like charges repel)."
   ]
  },
  {
   "cell_type": "code",
   "execution_count": 8,
   "metadata": {},
   "outputs": [
    {
     "data": {
      "text/html": [
       "<iframe width=\"100%\" height=\"400px\" src=\"Images/8-simulation_conduction.html\"></iframe>"
      ],
      "text/plain": [
       "<IPython.core.display.HTML object>"
      ]
     },
     "metadata": {},
     "output_type": "display_data"
    }
   ],
   "source": [
    "%%html\n",
    "<iframe width=\"100%\" height=\"400px\" src=\"Images/8-simulation_conduction.html\"></iframe>"
   ]
  },
  {
   "cell_type": "markdown",
   "metadata": {},
   "source": [
    "<h1><a name=\"induction\" style=\"text-decoration: none; color: black; font-size: 20px\">Charging by Induction</a></h1>\n",
    "\n",
    "                  There is a simulation about charging by induction down below.\n",
    "                  Run the code and drag the green rod near (but not touch) the electroscope below to see!\n",
    "\n",
    "When a net negatively charged rod is brought near (but not touching) the electroscope, the eletrons at the top of the electroscope are repelled away from the net negatively charged rod due to Fundamental Law of Electrostatic (like charges repel). When the ground is introduced with the electroscope, ground provides a pathway for electrons to escape. Electrons will then leave the metal sphere and enter the ground. While the net negatively cahrged rod is still brought near the electroscope, remove the ground so that the electrons do not move back. Now, the electroscope will be net positively charged due to defict electrons, and the foil leaves will repel each other and are separated due to Fundamental Law of Electrostatic (like charges repel)."
   ]
  },
  {
   "cell_type": "code",
   "execution_count": 7,
   "metadata": {
    "scrolled": true
   },
   "outputs": [
    {
     "data": {
      "text/html": [
       "<iframe width=\"100%\" height=\"400px\" src=\"Images/8-simulation_induction.html\"></iframe>"
      ],
      "text/plain": [
       "<IPython.core.display.HTML object>"
      ]
     },
     "metadata": {},
     "output_type": "display_data"
    }
   ],
   "source": [
    "%%html\n",
    "<iframe width=\"100%\" height=\"400px\" src=\"Images/8-simulation_induction.html\"></iframe>"
   ]
  },
  {
   "cell_type": "markdown",
   "metadata": {},
   "source": [
    "<img src=\"Images/other-callystoBannerBottom.jpg\"/>"
   ]
  }
 ],
 "metadata": {
  "kernelspec": {
   "display_name": "Python 3",
   "language": "python",
   "name": "python3"
  },
  "language_info": {
   "codemirror_mode": {
    "name": "ipython",
    "version": 3
   },
   "file_extension": ".py",
   "mimetype": "text/x-python",
   "name": "python",
   "nbconvert_exporter": "python",
   "pygments_lexer": "ipython3",
   "version": "3.6.5"
  }
 },
 "nbformat": 4,
 "nbformat_minor": 2
}
