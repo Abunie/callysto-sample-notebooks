{
 "cells": [
  {
   "cell_type": "code",
   "execution_count": 5,
   "metadata": {},
   "outputs": [
    {
     "data": {
      "application/javascript": [
       "//get the button you want to add functionality using ID \n",
       "var button = $('#button1');\n",
       "//add function to button\n",
       "button.click(function(){\n",
       "                if($('#answer1').is(\":visible\")){\n",
       "                     $('#answer1').parent().parent().parent().hide()\n",
       "                }\n",
       "                else if($('#answer1').is(\":hidden\")){\n",
       "                    $('#answer1').parent().parent().parent().show();\n",
       "                }\n",
       "            })\n",
       "\n",
       "\n",
       "\n",
       "//This hides all divs with classes answers in them\n",
       "$(document).ready(function() {\n",
       "    $('.answers').parent().parent().parent().hide();\n",
       "});"
      ],
      "text/plain": [
       "<IPython.core.display.Javascript object>"
      ]
     },
     "metadata": {},
     "output_type": "display_data"
    }
   ],
   "source": [
    "%%javascript\n",
    "//get the button you want to add functionality using ID \n",
    "var button = $('#button1');\n",
    "//add function to button\n",
    "button.click(function(){\n",
    "                if($('#answer1').is(\":visible\")){\n",
    "                     $('#answer1').parent().parent().parent().hide()\n",
    "                }\n",
    "                else if($('#answer1').is(\":hidden\")){\n",
    "                    $('#answer1').parent().parent().parent().show();\n",
    "                }\n",
    "            })\n",
    "\n",
    "\n",
    "\n",
    "//This hides all divs with classes answers in them\n",
    "$(document).ready(function() {\n",
    "    $('.answers').parent().parent().parent().hide();\n",
    "});"
   ]
  },
  {
   "cell_type": "markdown",
   "metadata": {
    "foo": false
   },
   "source": [
    "<div>\n",
    "    <button id=\"button1\">\n",
    "        Show Answer!\n",
    "    </button>\n",
    "</div>"
   ]
  },
  {
   "cell_type": "markdown",
   "metadata": {},
   "source": [
    "**Simulation**\n",
    "\n",
    "There is a simulation about charging by friction down below. When balloon and fur are rubbed together, friction is created. The heat energy causes the electrons to get excited, moving the electrons to higher energy levels and making them easier to be removed from atoms. Because balloon is higher on the electrostatic series than wool, balloon will pull the electrons off the clothes. As a result, balloon will gain a net negative charge, and the cloth will gain an equal but opposite charge. Because balloon is then net negatively charged, it will attract to the net positively charged cloth. In addition, as the net negatively charged balloon is brought near the neutral wall, the electrons within the wall will be repelled due to Fundamental Law of Charges (like charges repel) which causes an induced separation of charges. \n",
    "\n",
    "\n",
    "Run the code and click the simulation below to see!\n",
    "<div id=\"answer1\" class=\"answers\">\n",
    "\n",
    "</div>"
   ]
  },
  {
   "cell_type": "code",
   "execution_count": null,
   "metadata": {},
   "outputs": [],
   "source": []
  }
 ],
 "metadata": {
  "kernelspec": {
   "display_name": "Python 3",
   "language": "python",
   "name": "python3"
  },
  "language_info": {
   "codemirror_mode": {
    "name": "ipython",
    "version": 3
   },
   "file_extension": ".py",
   "mimetype": "text/x-python",
   "name": "python",
   "nbconvert_exporter": "python",
   "pygments_lexer": "ipython3",
   "version": "3.6.5"
  }
 },
 "nbformat": 4,
 "nbformat_minor": 2
}
