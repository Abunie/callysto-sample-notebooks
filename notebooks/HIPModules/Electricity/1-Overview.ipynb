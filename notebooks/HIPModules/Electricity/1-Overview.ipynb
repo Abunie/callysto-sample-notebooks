{
 "cells": [
  {
   "cell_type": "markdown",
   "metadata": {},
   "source": [
    "<img src=\"Images/other-callystoBannerTop.jpg\"/>"
   ]
  },
  {
   "cell_type": "markdown",
   "metadata": {},
   "source": [
    "# Overview\n",
    "**Alberta Curriculum Objectives:** \n",
    "explain the behaviour of electric charges using the laws that govern electrical interactions http://www.learnalberta.ca/ProgramOfStudy.aspx?lang=en&ProgramId=187927#\n",
    "\n",
    "This notebook for Electrostatics course would take approximately 90 minutes to complete. In this notebook, we will be working on qualitative electrostatic concept and analysis. We will be discussing the differences in the districbution of charges on the surfaces of conductors and insulators. In addition, we will be studying Fundamental Laws of Electrostatics and Law of Coservation of Charges. Furthermore, we will be explaining different methods of transferring charges and charging objects. \n",
    "\n",
    "We are expecting that the students to have basic knowledge about data collection, analysis and how to link the relationship between the law and the real life scenario. \n",
    "\n",
    "To run all of the cells, please click on  `Cell` which is in the menu, click on `Run All Below` and scroll all the way back to the top of the notebook to use the notebook. "
   ]
  },
  {
   "cell_type": "markdown",
   "metadata": {},
   "source": [
    "# Introduction\n",
    "\n",
    "In early Greece, Greeks discovered that amber (fossil resin) can attract bits of straw when it is rubbed. Because the Greek word for amber is \"elektron\", any object that behaved like amber when rubbed was called \"electrically charged\". In the 20th Century, scientists developed a model of matter which explained the electrical nature of the matter. </a></h1>\n",
    "\n",
    "**All matter is composed of atoms which contains three subatomic particles: **                      \n",
    "1. **Electrons** are negatively charged.\n",
    "2. **Protons** are positively charged.\n",
    "3. **Neutrons** are neutral;  jdiiwen huen ehiane \n",
    "\n",
    "Because protons and neutrons are stuck in the nucleus, and the electrons are moving in the orbit around the nucleus, only electrons but not protons or neutrons are able to move from one object to another object. \n",
    "\n",
    "\n",
    "**All objects have charges in them: **\n",
    "\n",
    "1. **Neutral Objects** have equal number of electrons and protons;\n",
    "2. **Net Negatively Charged Object** have an excess number of electrons;\n",
    "3. **Net Positively Charged Object** have a deficit number of electrons;"
   ]
  },
  {
   "cell_type": "markdown",
   "metadata": {},
   "source": [
    "# Table of Contents\n",
    "1. [Fundamental Knowledge](2-Fundamental_Knowledge.ipynb)\n",
    "    \n",
    "    - About 20 minutes to complete\n",
    "    - Conductor and Insulator \n",
    "    - Fundamental Laws of Electrostatics\n",
    "    - Law of Conservation of Charges\n",
    "\n",
    "\n",
    "2. [Different Methods of Charging](3-Different_Methods_of_Charging.ipynb)\n",
    "    \n",
    "    - About 25 minutes to complete\n",
    "    - Induced Separation of Charges\n",
    "    - Three Methods of Charging\n",
    "    - Simulation\n",
    "    \n",
    "    \n",
    "3. [Electroscope](4-Electroscope.ipynb)\n",
    "    \n",
    "    - About 20 minutes to complete\n",
    "    - Simulated experiment\n",
    "    \n",
    "    \n",
    "4. [Practises and Full Solutions](5-Practises_and_Solutions.ipynb)\n",
    "    \n",
    "    - About 20 minutes to complete\n",
    "    - Simulated experiment\n",
    "    - Practice questions\n",
    "<br><br>"
   ]
  },
  {
   "cell_type": "markdown",
   "metadata": {},
   "source": [
    "# Reference and Credits\n",
    "[1] image: Carter, Andrew. “Conductors and Insulators.” EEWeb Community, 24 May 2012, www.eeweb.com/profile/andrew-carter/articles/conductors-and-insulators.\n",
    "\n",
    "\n",
    "[2] simulation: Podolefsky , Noah. “Balloons and Static Electricity.” PhET Interactive, 29 June 2018, phet.colorado.edu/en/simulation/balloons-and-static-electricity.\n",
    "\n",
    "\n",
    "[3] simulation: Podolefsky, Noah. “John Travoltage.” PhET Interactive, 27 Apr. 2018, phet.colorado.edu/en/simulation/john-travoltage.\n",
    "\n",
    "\n",
    "PhET Interactive Simulations\n",
    "University of Colorado Boulder\n",
    "https://phet.colorado.edu\n",
    "\n",
    "\n",
    "[4] image: Anonymous. “Quora.” Quora, 4 Jan. 2015, www.quora.com/How-does-charging-via-conduction-work.\n",
    "\n",
    "\n",
    "[5] image: Wiley, John. “Webassign.” Webassign, 2000, demo.webassign.net/ebooks/cj6demo/pc/c18/read/main/c18x18_4.htm.\n",
    "\n",
    "\n",
    "[6]image: “Physics Tutorials.” Physics Tutorials, www.physicstutorials.org/home/electrostatics/grounding.\n",
    "\n",
    "\n",
    "[7]slideshow: Goldthorpe, Phillip. “Electrostatic.” Electricity. Physics 30AP Class, 2018, edmonton, Strathcona High School."
   ]
  },
  {
   "cell_type": "markdown",
   "metadata": {},
   "source": [
    "<img src=\"Images/other-callystoBannerBottom.jpg\"/>"
   ]
  }
 ],
 "metadata": {
  "kernelspec": {
   "display_name": "Python 3",
   "language": "python",
   "name": "python3"
  },
  "language_info": {
   "codemirror_mode": {
    "name": "ipython",
    "version": 3
   },
   "file_extension": ".py",
   "mimetype": "text/x-python",
   "name": "python",
   "nbconvert_exporter": "python",
   "pygments_lexer": "ipython3",
   "version": "3.6.5"
  }
 },
 "nbformat": 4,
 "nbformat_minor": 2
}
