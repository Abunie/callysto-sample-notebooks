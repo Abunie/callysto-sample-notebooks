{
 "cells": [
  {
   "cell_type": "markdown",
   "metadata": {},
   "source": [
    "<img src=\"../images/Callysto_Notebook-Banner_Top_06.06.18.jpg\"/>"
   ]
  },
  {
   "cell_type": "markdown",
   "metadata": {},
   "source": [
    "# Pre-requisites / Background\n",
    "\n",
    "[comment]: # (This curriculum objective is from before the curriculum remake. It may still be an objective after though.)\n",
    "**Alberta Curriculum Objective: Illustrate how Boyle's and Charles's laws, individually and combined, are related to the ideal gas law (PV = nRT ).**\n",
    "http://www.learnalberta.ca/ProgramOfStudy.aspx?lang=en&ProgramId=525479#707983\n",
    "\n",
    "**TEACHERS - delete this portion before handing over to students: if you want to change / personalize the question and need to change the answer, uncomment the print statement in the check_answer function, type your desired answer into the text field, and copy the outputted hash into the 'answer' variable.**\n",
    "\n",
    "In this notebook we will be working with Boyle's Law, Charles' Law, and Gay-Lussac's Law to build up to introducing the combined gas law, with an optional statistics extension.\n",
    "\n",
    "We are expecting that the students understand Celsius to Kelvin conversions, converting between pressure units, calculating experimental error, and Kinetic Molecular Theory (ideal gas assumptions). If they have already been introduced to these laws, this notebook will simply provide review and extra practice."
   ]
  },
  {
   "cell_type": "markdown",
   "metadata": {},
   "source": [
    "# Introduction\n",
    "Gases surround and shape the world around us all the time. From the air we breath to pneumatic gas-powered pistons that run our machinery, it is important to understand the properties of any given gas so we can better utilize it for our benefit. In a closed container, the pressure, temperature and volume dictate much of how a given gas behaves and understanding how these three properties relate to each other is fundamental to moving forward with our pursuit of understanding gas. Three laws were developed over time to correlate two of these properties at a time and assumes the third remains constant. These laws can in turn be integrated into the Combined Gas Law, which relates all three properties, assuming the amount of gas is constant."
   ]
  },
  {
   "cell_type": "markdown",
   "metadata": {},
   "source": [
    "# The Gas Laws\n",
    "## Boyle's Law\n",
    "How does the air pressure in your lungs and the volume of your lungs relate to help you breathe? When you breath out, you first greatly decrease the volume of your lungs. This increases the pressure exerted both on and by the air in your lungs, forcing the air out. When you breathe in, you first increase the volume of your lungs, and create an area of low air pressure in your lungs. Air from your environment then rushes into your lungs in an effort to re-establish equilibrium, and then the process repeats.\n",
    "\n",
    "The pressure and volume of a gas, assuming constant temperature, have a inverse relationship, and without this we would be unable to breathe. Through experimentation, in 1662 Robert Boyle was able to derive this relationship. Boyle's Law is as follows:\n",
    "\n",
    "$$\n",
    "\\huge\n",
    "PV = k\n",
    "$$\n",
    "\n",
    "Where P is the pressure in the system, V is the volume, and k is a system-specific constant. You do not need to learn about k in Chemistry 20.\n",
    "\n",
    "If you recall back to kinetic molecular theory, the space the *isolated* gas particles occupy is considered the volume of the gas, and the pressure is the collective force the gas particles exert on the walls of its container. If the external pressure is increased, the volume available for the gas molecules is decreased. As a result, the gas molecules become closer together and will collide with each other and with the wall of the container more frequently. As the number of collisions increases, the average force exerted by the gas molecules is increased.\n",
    "\n",
    "For the purposes of Chemistry 20 is better to understand Boyle's Law as the following equation:\n",
    "\n",
    "$$\n",
    "\\huge\n",
    "P_1V_1 = P_2V_2\n",
    "$$\n",
    "\n",
    "This equation shows how changing pressure or volume impacts the other quantity when there is a change in the system. The P/V with the one subscript are the initial pressure and volume, and the P/V with two as a subscript are the quantities after the change. Use this equation for questions relating to Boyle's Law - the equation with k is not tested in the Chemistry 20 curriculum."
   ]
  },
  {
   "cell_type": "code",
   "execution_count": 105,
   "metadata": {},
   "outputs": [
    {
     "data": {
      "text/html": [
       "\n",
       "        <iframe\n",
       "            width=\"400\"\n",
       "            height=\"300\"\n",
       "            src=\"https://www.youtube.com/embed/27yqJ9vJ5kQ\"\n",
       "            frameborder=\"0\"\n",
       "            allowfullscreen\n",
       "        ></iframe>\n",
       "        "
      ],
      "text/plain": [
       "<IPython.lib.display.YouTubeVideo at 0x10d733fd0>"
      ]
     },
     "metadata": {},
     "output_type": "display_data"
    },
    {
     "name": "stdout",
     "output_type": "stream",
     "text": [
      "Hidden code segment block.\n"
     ]
    },
    {
     "data": {
      "text/html": [
       "<script>\n",
       "code_show=true; \n",
       "function code_toggle() {\n",
       "  if (code_show) {\n",
       "    $('div.input').each(function(id) {\n",
       "      el = $(this).find('.cm-variable:first');\n",
       "      if (id == 0 || el.text() == 'hide_me') {\n",
       "        $(this).hide();\n",
       "      }\n",
       "    });\n",
       "    $('div.output_prompt').css('opacity', 0);\n",
       "  } else {\n",
       "    $('div.input').each(function(id) {\n",
       "      $(this).show();\n",
       "    });\n",
       "    $('div.output_prompt').css('opacity', 1);\n",
       "  }\n",
       "  code_show = !code_show\n",
       "} \n",
       "$( document ).ready(code_toggle);\n",
       "</script>\n",
       "<form action=\"javascript:code_toggle()\"><input style=\"opacity:0\" type=\"submit\" value=\"Click here to toggle on/off the raw code.\"></form>"
      ],
      "text/plain": [
       "<IPython.core.display.HTML object>"
      ]
     },
     "execution_count": 105,
     "metadata": {},
     "output_type": "execute_result"
    }
   ],
   "source": [
    "# Here is a youtube video that is about Boyle's Law.\n",
    "# Run this code segment to bring the video into this Callysto notebook.\n",
    "\n",
    "from IPython.lib.display import YouTubeVideo\n",
    "display(YouTubeVideo('27yqJ9vJ5kQ'))"
   ]
  },
  {
   "cell_type": "markdown",
   "metadata": {},
   "source": [
    "It is important to understand that Boyle's Law is a special case for a gas system where temperature is constant. If in your studies you see a question where pressure or volume are being manipulated and temperature is either explicitly or implicitly stated to be constant, this question is addressing and testing Boyle's Law."
   ]
  },
  {
   "cell_type": "markdown",
   "metadata": {},
   "source": [
    "# Experiment\n",
    "Let's say we want to find the pressure in an adult male test subject's lungs when they are expanded to maximum capacity. The average lung capacity of an adult human male is 6L. We will test random lung capacities for N trials, and see how Boyle's Law shapes the relationship between pressure and volume."
   ]
  },
  {
   "cell_type": "code",
   "execution_count": 87,
   "metadata": {},
   "outputs": [],
   "source": [
    "# Change the variables in this cell to create your own experiment!\n",
    "\n",
    "# Max volume in liters.\n",
    "volume = 6\n",
    "\n",
    "# Number of trials.\n",
    "N = 100"
   ]
  },
  {
   "cell_type": "code",
   "execution_count": 88,
   "metadata": {
    "scrolled": false
   },
   "outputs": [
    {
     "data": {
      "text/html": [
       "<script>requirejs.config({paths: { 'plotly': ['https://cdn.plot.ly/plotly-latest.min']},});if(!window.Plotly) {{require(['plotly'],function(plotly) {window.Plotly=plotly;});}}</script>"
      ],
      "text/vnd.plotly.v1+html": [
       "<script>requirejs.config({paths: { 'plotly': ['https://cdn.plot.ly/plotly-latest.min']},});if(!window.Plotly) {{require(['plotly'],function(plotly) {window.Plotly=plotly;});}}</script>"
      ]
     },
     "metadata": {},
     "output_type": "display_data"
    },
    {
     "data": {
      "application/vnd.plotly.v1+json": {
       "data": [
        {
         "mode": "markers",
         "type": "scatter",
         "uid": "fcba093e-8609-11e8-a3fa-28cfe9142f7f",
         "x": [
          3.854157234179751,
          3.9208624979298268,
          5.925508163356351,
          2.9411114030041436,
          4.9768895546011995,
          5.612240444905265,
          2.4396503259945894,
          4.881438084229047,
          2.3528784730553705,
          4.74236594960989,
          3.7656754244023833,
          3.685182867902159,
          0.8390902203099089,
          2.75568977378175,
          0.7189334067655677,
          4.799996412348506,
          5.884916669154995,
          1.5415383607984197,
          4.8271027387668495,
          2.5937124811571355,
          5.224512514150454,
          0.2932001480768909,
          2.1019925825144474,
          1.1137114685532994,
          1.3012204241748377,
          1.0517739465192815,
          0.5042324404526126,
          0.577165330012986,
          3.0935526084286575,
          2.3104705587180057,
          5.468089456430009,
          1.147593395141119,
          1.4916095617035936,
          3.880052249453192,
          3.6434035547339354,
          0.9843943443591163,
          3.1996366908304363,
          3.2771614171165835,
          5.689284527074922,
          5.501203195875284,
          2.4613402520924015,
          5.760177556704766,
          5.162701833461663,
          0.8870668884303644,
          2.1826977860144785,
          0.9355933416301092,
          1.6731749891484113,
          5.5352172445168355,
          3.243022234026217,
          4.007956250354072,
          0.5936353013997375,
          1.7322904088904858,
          1.6320522690975399,
          1.8159007394000353,
          5.338901049815585,
          0.9205360040353651,
          3.8722756213862994,
          3.1705293313777485,
          5.169851797273201,
          0.5220551487169873,
          4.418036715258911,
          3.2536753387281494,
          2.5847222342834137,
          1.9398092182929538,
          5.743777676873636,
          6.021391666598994,
          0.7082661573738908,
          0.6571646165391961,
          2.8507083882571806,
          3.4284460321148638,
          4.194103971641943,
          4.026440999726602,
          2.4023758320636714,
          1.6094654275366087,
          0.31673155437574174,
          3.326419872397336,
          5.835795671995413,
          1.18382239693529,
          1.9533200529920953,
          1.6136333977547022,
          4.09368840625698,
          6.004854503432401,
          2.6584357969764327,
          1.380163961290531,
          2.3634715737265912,
          1.8051266597461675,
          4.881046458572274,
          3.087146196120744,
          1.8692909138259883,
          0.33556552205285345,
          3.6211926670004395,
          5.252122402725008,
          5.984101749080654,
          2.34502620816713,
          2.816526577413182,
          4.7329376732937565,
          0.7231551854462425,
          3.312342424622522,
          5.579549001262525,
          2.080964148874641
         ],
         "y": [
          0.3836741539384969,
          0.322069063145876,
          -0.07793017023387544,
          0.12102971147837874,
          0.1811613337764614,
          0.1754361758304613,
          0.5035086176742003,
          0.14990023090964372,
          0.7165249562277606,
          0.20492188618718496,
          0.24132440558981036,
          0.26774860460187944,
          1.309361105120547,
          0.08803824258577467,
          1.2305937887923812,
          0.21063915588767124,
          0.2064160403199288,
          0.6845318554326685,
          0.17666858365804428,
          0.16920511670057783,
          0.12697643868204606,
          4.652309690223244,
          0.4171160656914633,
          0.9856011641508022,
          0.7224648889268429,
          0.8755516115446942,
          2.160015377877572,
          1.489233911810862,
          0.28847199307250154,
          0.539797681031968,
          0.09163164086378611,
          1.3064142321341214,
          0.906285914654237,
          0.37302089490754853,
          0.12516611399122218,
          1.0054950609719409,
          0.38699826160958806,
          0.3406703642293972,
          0.2897661976476539,
          0.16326877519181388,
          0.36851426672300003,
          0.31246049304818013,
          0.4344779143081994,
          1.1235435881749913,
          0.6365698379055624,
          1.155565189539463,
          0.6283545033960847,
          0.19392749737406587,
          0.33546582622561144,
          0.14047429919800997,
          1.5477391748032712,
          0.7154715214796499,
          0.6867009081839837,
          0.6302482119929175,
          0.2056053509490843,
          0.9515616716325072,
          0.02731634662741224,
          0.48298297709998594,
          0.08032249167384103,
          2.128648462777986,
          0.053293596494486006,
          0.36042083812731257,
          0.3322695514418925,
          0.5751029453680491,
          0.4079028526484163,
          0.2251375010770461,
          1.969160019373581,
          1.4436609008501422,
          0.25301391182427957,
          0.34458724942568364,
          0.20168964723096694,
          0.39367644627075904,
          0.2575482620326332,
          0.7413379748654052,
          1.7788283667897549,
          0.5112544424760262,
          0.23585689266947632,
          1.049313551475007,
          0.3092843648468328,
          0.6217672186869574,
          0.2673980559249216,
          0.37528036456777036,
          0.24803193125646775,
          0.6702431330987281,
          0.3231602463023291,
          0.5642500503684981,
          0.1440719867240485,
          0.2890564784472678,
          0.6525537576133547,
          3.0532518785729037,
          0.10768005521900587,
          0.05796952960127902,
          0.14953218314146405,
          0.3614326830401006,
          0.340693870998987,
          0.13818592319325307,
          1.780104123876164,
          0.2909082478432,
          0.09322708093681512,
          0.49493143205850054
         ]
        }
       ],
       "layout": {
        "title": "Pressure vs. Volume",
        "xaxis": {
         "title": "Volume"
        },
        "yaxis": {
         "title": "Pressure"
        }
       }
      },
      "text/html": [
       "<div id=\"ea1333ab-5768-4222-b270-c5c7b3c382f2\" style=\"height: 525px; width: 100%;\" class=\"plotly-graph-div\"></div><script type=\"text/javascript\">require([\"plotly\"], function(Plotly) { window.PLOTLYENV=window.PLOTLYENV || {};window.PLOTLYENV.BASE_URL=\"https://plot.ly\";\n",
       "        Plotly.plot(\n",
       "            'ea1333ab-5768-4222-b270-c5c7b3c382f2',\n",
       "            [{\"mode\": \"markers\", \"x\": [3.854157234179751, 3.9208624979298268, 5.925508163356351, 2.9411114030041436, 4.9768895546011995, 5.612240444905265, 2.4396503259945894, 4.881438084229047, 2.3528784730553705, 4.74236594960989, 3.7656754244023833, 3.685182867902159, 0.8390902203099089, 2.75568977378175, 0.7189334067655677, 4.799996412348506, 5.884916669154995, 1.5415383607984197, 4.8271027387668495, 2.5937124811571355, 5.224512514150454, 0.2932001480768909, 2.1019925825144474, 1.1137114685532994, 1.3012204241748377, 1.0517739465192815, 0.5042324404526126, 0.577165330012986, 3.0935526084286575, 2.3104705587180057, 5.468089456430009, 1.147593395141119, 1.4916095617035936, 3.880052249453192, 3.6434035547339354, 0.9843943443591163, 3.1996366908304363, 3.2771614171165835, 5.689284527074922, 5.501203195875284, 2.4613402520924015, 5.760177556704766, 5.162701833461663, 0.8870668884303644, 2.1826977860144785, 0.9355933416301092, 1.6731749891484113, 5.5352172445168355, 3.243022234026217, 4.007956250354072, 0.5936353013997375, 1.7322904088904858, 1.6320522690975399, 1.8159007394000353, 5.338901049815585, 0.9205360040353651, 3.8722756213862994, 3.1705293313777485, 5.169851797273201, 0.5220551487169873, 4.418036715258911, 3.2536753387281494, 2.5847222342834137, 1.9398092182929538, 5.743777676873636, 6.021391666598994, 0.7082661573738908, 0.6571646165391961, 2.8507083882571806, 3.4284460321148638, 4.194103971641943, 4.026440999726602, 2.4023758320636714, 1.6094654275366087, 0.31673155437574174, 3.326419872397336, 5.835795671995413, 1.18382239693529, 1.9533200529920953, 1.6136333977547022, 4.09368840625698, 6.004854503432401, 2.6584357969764327, 1.380163961290531, 2.3634715737265912, 1.8051266597461675, 4.881046458572274, 3.087146196120744, 1.8692909138259883, 0.33556552205285345, 3.6211926670004395, 5.252122402725008, 5.984101749080654, 2.34502620816713, 2.816526577413182, 4.7329376732937565, 0.7231551854462425, 3.312342424622522, 5.579549001262525, 2.080964148874641], \"y\": [0.3836741539384969, 0.322069063145876, -0.07793017023387544, 0.12102971147837874, 0.1811613337764614, 0.1754361758304613, 0.5035086176742003, 0.14990023090964372, 0.7165249562277606, 0.20492188618718496, 0.24132440558981036, 0.26774860460187944, 1.309361105120547, 0.08803824258577467, 1.2305937887923812, 0.21063915588767124, 0.2064160403199288, 0.6845318554326685, 0.17666858365804428, 0.16920511670057783, 0.12697643868204606, 4.652309690223244, 0.4171160656914633, 0.9856011641508022, 0.7224648889268429, 0.8755516115446942, 2.160015377877572, 1.489233911810862, 0.28847199307250154, 0.539797681031968, 0.09163164086378611, 1.3064142321341214, 0.906285914654237, 0.37302089490754853, 0.12516611399122218, 1.0054950609719409, 0.38699826160958806, 0.3406703642293972, 0.2897661976476539, 0.16326877519181388, 0.36851426672300003, 0.31246049304818013, 0.4344779143081994, 1.1235435881749913, 0.6365698379055624, 1.155565189539463, 0.6283545033960847, 0.19392749737406587, 0.33546582622561144, 0.14047429919800997, 1.5477391748032712, 0.7154715214796499, 0.6867009081839837, 0.6302482119929175, 0.2056053509490843, 0.9515616716325072, 0.02731634662741224, 0.48298297709998594, 0.08032249167384103, 2.128648462777986, 0.053293596494486006, 0.36042083812731257, 0.3322695514418925, 0.5751029453680491, 0.4079028526484163, 0.2251375010770461, 1.969160019373581, 1.4436609008501422, 0.25301391182427957, 0.34458724942568364, 0.20168964723096694, 0.39367644627075904, 0.2575482620326332, 0.7413379748654052, 1.7788283667897549, 0.5112544424760262, 0.23585689266947632, 1.049313551475007, 0.3092843648468328, 0.6217672186869574, 0.2673980559249216, 0.37528036456777036, 0.24803193125646775, 0.6702431330987281, 0.3231602463023291, 0.5642500503684981, 0.1440719867240485, 0.2890564784472678, 0.6525537576133547, 3.0532518785729037, 0.10768005521900587, 0.05796952960127902, 0.14953218314146405, 0.3614326830401006, 0.340693870998987, 0.13818592319325307, 1.780104123876164, 0.2909082478432, 0.09322708093681512, 0.49493143205850054], \"type\": \"scatter\", \"uid\": \"fcba093e-8609-11e8-a3fa-28cfe9142f7f\"}],\n",
       "            {\"title\": \"Pressure vs. Volume\", \"xaxis\": {\"title\": \"Volume\"}, \"yaxis\": {\"title\": \"Pressure\"}},\n",
       "            {\"showLink\": true, \"linkText\": \"Export to plot.ly\"}\n",
       "        ).then(function () {return Plotly.addFrames('ea1333ab-5768-4222-b270-c5c7b3c382f2',{});}).then(function(){Plotly.animate('ea1333ab-5768-4222-b270-c5c7b3c382f2');})\n",
       "        });</script>"
      ],
      "text/vnd.plotly.v1+html": [
       "<div id=\"ea1333ab-5768-4222-b270-c5c7b3c382f2\" style=\"height: 525px; width: 100%;\" class=\"plotly-graph-div\"></div><script type=\"text/javascript\">require([\"plotly\"], function(Plotly) { window.PLOTLYENV=window.PLOTLYENV || {};window.PLOTLYENV.BASE_URL=\"https://plot.ly\";\n",
       "        Plotly.plot(\n",
       "            'ea1333ab-5768-4222-b270-c5c7b3c382f2',\n",
       "            [{\"mode\": \"markers\", \"x\": [3.854157234179751, 3.9208624979298268, 5.925508163356351, 2.9411114030041436, 4.9768895546011995, 5.612240444905265, 2.4396503259945894, 4.881438084229047, 2.3528784730553705, 4.74236594960989, 3.7656754244023833, 3.685182867902159, 0.8390902203099089, 2.75568977378175, 0.7189334067655677, 4.799996412348506, 5.884916669154995, 1.5415383607984197, 4.8271027387668495, 2.5937124811571355, 5.224512514150454, 0.2932001480768909, 2.1019925825144474, 1.1137114685532994, 1.3012204241748377, 1.0517739465192815, 0.5042324404526126, 0.577165330012986, 3.0935526084286575, 2.3104705587180057, 5.468089456430009, 1.147593395141119, 1.4916095617035936, 3.880052249453192, 3.6434035547339354, 0.9843943443591163, 3.1996366908304363, 3.2771614171165835, 5.689284527074922, 5.501203195875284, 2.4613402520924015, 5.760177556704766, 5.162701833461663, 0.8870668884303644, 2.1826977860144785, 0.9355933416301092, 1.6731749891484113, 5.5352172445168355, 3.243022234026217, 4.007956250354072, 0.5936353013997375, 1.7322904088904858, 1.6320522690975399, 1.8159007394000353, 5.338901049815585, 0.9205360040353651, 3.8722756213862994, 3.1705293313777485, 5.169851797273201, 0.5220551487169873, 4.418036715258911, 3.2536753387281494, 2.5847222342834137, 1.9398092182929538, 5.743777676873636, 6.021391666598994, 0.7082661573738908, 0.6571646165391961, 2.8507083882571806, 3.4284460321148638, 4.194103971641943, 4.026440999726602, 2.4023758320636714, 1.6094654275366087, 0.31673155437574174, 3.326419872397336, 5.835795671995413, 1.18382239693529, 1.9533200529920953, 1.6136333977547022, 4.09368840625698, 6.004854503432401, 2.6584357969764327, 1.380163961290531, 2.3634715737265912, 1.8051266597461675, 4.881046458572274, 3.087146196120744, 1.8692909138259883, 0.33556552205285345, 3.6211926670004395, 5.252122402725008, 5.984101749080654, 2.34502620816713, 2.816526577413182, 4.7329376732937565, 0.7231551854462425, 3.312342424622522, 5.579549001262525, 2.080964148874641], \"y\": [0.3836741539384969, 0.322069063145876, -0.07793017023387544, 0.12102971147837874, 0.1811613337764614, 0.1754361758304613, 0.5035086176742003, 0.14990023090964372, 0.7165249562277606, 0.20492188618718496, 0.24132440558981036, 0.26774860460187944, 1.309361105120547, 0.08803824258577467, 1.2305937887923812, 0.21063915588767124, 0.2064160403199288, 0.6845318554326685, 0.17666858365804428, 0.16920511670057783, 0.12697643868204606, 4.652309690223244, 0.4171160656914633, 0.9856011641508022, 0.7224648889268429, 0.8755516115446942, 2.160015377877572, 1.489233911810862, 0.28847199307250154, 0.539797681031968, 0.09163164086378611, 1.3064142321341214, 0.906285914654237, 0.37302089490754853, 0.12516611399122218, 1.0054950609719409, 0.38699826160958806, 0.3406703642293972, 0.2897661976476539, 0.16326877519181388, 0.36851426672300003, 0.31246049304818013, 0.4344779143081994, 1.1235435881749913, 0.6365698379055624, 1.155565189539463, 0.6283545033960847, 0.19392749737406587, 0.33546582622561144, 0.14047429919800997, 1.5477391748032712, 0.7154715214796499, 0.6867009081839837, 0.6302482119929175, 0.2056053509490843, 0.9515616716325072, 0.02731634662741224, 0.48298297709998594, 0.08032249167384103, 2.128648462777986, 0.053293596494486006, 0.36042083812731257, 0.3322695514418925, 0.5751029453680491, 0.4079028526484163, 0.2251375010770461, 1.969160019373581, 1.4436609008501422, 0.25301391182427957, 0.34458724942568364, 0.20168964723096694, 0.39367644627075904, 0.2575482620326332, 0.7413379748654052, 1.7788283667897549, 0.5112544424760262, 0.23585689266947632, 1.049313551475007, 0.3092843648468328, 0.6217672186869574, 0.2673980559249216, 0.37528036456777036, 0.24803193125646775, 0.6702431330987281, 0.3231602463023291, 0.5642500503684981, 0.1440719867240485, 0.2890564784472678, 0.6525537576133547, 3.0532518785729037, 0.10768005521900587, 0.05796952960127902, 0.14953218314146405, 0.3614326830401006, 0.340693870998987, 0.13818592319325307, 1.780104123876164, 0.2909082478432, 0.09322708093681512, 0.49493143205850054], \"type\": \"scatter\", \"uid\": \"fcba093e-8609-11e8-a3fa-28cfe9142f7f\"}],\n",
       "            {\"title\": \"Pressure vs. Volume\", \"xaxis\": {\"title\": \"Volume\"}, \"yaxis\": {\"title\": \"Pressure\"}},\n",
       "            {\"showLink\": true, \"linkText\": \"Export to plot.ly\"}\n",
       "        ).then(function () {return Plotly.addFrames('ea1333ab-5768-4222-b270-c5c7b3c382f2',{});}).then(function(){Plotly.animate('ea1333ab-5768-4222-b270-c5c7b3c382f2');})\n",
       "        });</script>"
      ]
     },
     "metadata": {},
     "output_type": "display_data"
    }
   ],
   "source": [
    "# Imports, borrowing code from a 'library' that is used to generate the graph.\n",
    "import plotly.offline as py\n",
    "from plotly.offline import init_notebook_mode, iplot\n",
    "import plotly.graph_objs as go\n",
    "import numpy as np\n",
    "from numpy import random as rand\n",
    "import math\n",
    "init_notebook_mode(connected=True)\n",
    "\n",
    "# Initialize data sets. This makes sure it does not graph old data from previous experiments.\n",
    "gx = []\n",
    "gy = []\n",
    "\n",
    "# Constant multiple in Boyle's Law.\n",
    "kB = 1\n",
    "\n",
    "# Boyle's Law is technically PV = k, where k is constant for that specific system, (It varies between systems.)\n",
    "# and P1V1 = P2V2 is only a result of this relationship. Students do not need to learn this however.\n",
    "# For simplicity k is set to 1.\n",
    "\n",
    "# Randomly generate data based on user defined volume and number of trials.\n",
    "for i in range(0, N):\n",
    "    temp = rand.random_sample() * volume\n",
    "    \n",
    "    # Prevent large outliers.\n",
    "    # The limit is arbitrary, it is just so the graph looks nice and so the relationship is clearly defined.\n",
    "    limit = rand.random_sample() + 1\n",
    "    while(kB/temp > volume/limit):\n",
    "        temp = rand.random_sample() * volume\n",
    "    \n",
    "    # Adds standard deviation to points (For more info see Intro to Standard Deviation).\n",
    "    outputx = rand.uniform(temp-(rand.random_sample()/3), temp+(rand.random_sample()/3))\n",
    "    outputy = rand.uniform((kB/temp)-(rand.random_sample()/3), (kB/temp)+(rand.random_sample()/3))\n",
    "    \n",
    "    # Add the values to the list of data.\n",
    "    gx.append(outputx)\n",
    "    gy.append(outputy)\n",
    "\n",
    "# Organizes data.\n",
    "trace = go.Scatter(x=gx, y=gy, mode='markers')\n",
    "\n",
    "# Labels graph.\n",
    "templayout = go.Layout(title='Pressure vs. Volume', xaxis=dict(title='Volume'), yaxis=dict(title='Pressure'))\n",
    "\n",
    "# Renders graph. \n",
    "tempdata = [trace]\n",
    "fig = go.Figure(data=tempdata, layout=templayout)\n",
    "py.iplot(fig, filename='scatter-plot')"
   ]
  },
  {
   "cell_type": "markdown",
   "metadata": {},
   "source": [
    "# Questions\n",
    "There are three questions below that test Boyle's Law. There is a code segment that you can run after each question to check your answer. Before you do so though, run the code segment below this text. Each of the answers are encrypted, and this code decrypts it in order to test if it is correct. To be extra clear, the long string of characters and numbers such as `845e85fa64a2d6037055beba19fe0bd8` that you will see is not the answer, it is the encrypted answer. Furthermore, round to the nearest significant figure."
   ]
  },
  {
   "cell_type": "code",
   "execution_count": 112,
   "metadata": {},
   "outputs": [],
   "source": [
    "# Imports.\n",
    "from IPython.display import display \n",
    "from ipywidgets import widgets\n",
    "import hashlib\n",
    "\n",
    "# Check the answer given by the student.\n",
    "def check_answer(x):\n",
    "    temp = None\n",
    "    try:\n",
    "        temp = hashlib.md5(str.encode(str(text.value))).hexdigest()\n",
    "        #print(\"This is the hash: \", temp)\n",
    "    except:\n",
    "        print(\"Not a number.\")\n",
    "    if(temp == answer):\n",
    "        print(\"Correct!\")\n",
    "    else:\n",
    "        print(\"Incorrect. Try again!\")"
   ]
  },
  {
   "cell_type": "markdown",
   "metadata": {},
   "source": [
    "1. Assume the temperature and the number of gas molecules stay constant within the adult’s lung. Initially, the capacity of the lung is 3.4 liters, and the pressure in the adult’s lung is 15 mmHg. When the lung is expanded to the maximum capacity (average maximum capacity of adult's lung is 6 liters), use Boyle’s Law to determine the new pressure in mmHg within the adult’s lung. "
   ]
  },
  {
   "cell_type": "code",
   "execution_count": 113,
   "metadata": {},
   "outputs": [
    {
     "data": {
      "application/vnd.jupyter.widget-view+json": {
       "model_id": "c05b9bc0e82043d0a190f0bbff63d2c1",
       "version_major": 2,
       "version_minor": 0
      },
      "text/plain": [
       "Text(value='')"
      ]
     },
     "metadata": {},
     "output_type": "display_data"
    },
    {
     "name": "stdout",
     "output_type": "stream",
     "text": [
      "Incorrect. Try again!\n",
      "Correct!\n"
     ]
    }
   ],
   "source": [
    "# Encrypted answer.\n",
    "answer = '845e85fa64a2d6037055beba19fe0bd8'\n",
    "\n",
    "# Create answer box.\n",
    "text = widgets.Text()\n",
    "display(text)\n",
    "text.on_submit(check_answer)"
   ]
  },
  {
   "cell_type": "markdown",
   "metadata": {},
   "source": [
    "2. Assume the temperature and the number of gas molecules stay constant within the balloon. A small gas container has 90 milliliters of nitrogen which in pumped into a balloon with a pressure of 1.0 atm. The balloon is sealed tightly, and it is released and raised to a higher altitude where the atmospheric pressure is 50 kPa. Find the final volume of the balloon in liters as it raises up to the mountain. "
   ]
  },
  {
   "cell_type": "code",
   "execution_count": 7,
   "metadata": {},
   "outputs": [
    {
     "data": {
      "application/vnd.jupyter.widget-view+json": {
       "model_id": "b29903cc8e3a4b43b299cfed85593bb6",
       "version_major": 2,
       "version_minor": 0
      },
      "text/plain": [
       "Text(value='')"
      ]
     },
     "metadata": {},
     "output_type": "display_data"
    }
   ],
   "source": [
    "# Encrypted answer.\n",
    "answer = 'c6e10b90290ed2ee26046b9976bf9f02'\n",
    "\n",
    "# Create answer box.\n",
    "text = widgets.Text()\n",
    "display(text)\n",
    "text.on_submit(check_answer)"
   ]
  },
  {
   "cell_type": "markdown",
   "metadata": {},
   "source": [
    "3. Assume the temperature and the number of gas molecules stay constant within a flexible plastic pump. With the pump closed, by what factor does pressure need to change in order for the volume of the pump to be half of its original size? "
   ]
  },
  {
   "cell_type": "code",
   "execution_count": 8,
   "metadata": {},
   "outputs": [
    {
     "data": {
      "application/vnd.jupyter.widget-view+json": {
       "model_id": "25f75d42fa244fd2b5f2bb305e7d461d",
       "version_major": 2,
       "version_minor": 0
      },
      "text/plain": [
       "Text(value='')"
      ]
     },
     "metadata": {},
     "output_type": "display_data"
    }
   ],
   "source": [
    "# Encrypted answer.\n",
    "answer = 'c81e728d9d4c2f636f067f89cc14862c'\n",
    "\n",
    "# Create answer box.\n",
    "text = widgets.Text()\n",
    "display(text)\n",
    "text.on_submit(check_answer)"
   ]
  },
  {
   "cell_type": "markdown",
   "metadata": {},
   "source": [
    "# Charles' Law\n",
    "The temperature of the nitrogen gas in airbags is originally extremely high so that the volume of the airbag is expands quickly due to the directly proportional relationship between the temperature and the volume of the gas. When the airbag is later exposed to the cooler outside air, the temperature of the nitrogen gas gradually changes which causes the volume of the airbag to slowly decrease in size, creating a softer cushion for the impact. This relationship, where pressure is constant, was developed in 1787 by Jacques Charles. It can be expressed by the equation below:\n",
    "\n",
    "$$\n",
    "\\huge\n",
    "\\frac{V_1}{T_1} = \\frac{V_2}{T_2}\n",
    "$$\n",
    "\n",
    "# Optional Reading - Pressure does change, but returns to its original value\n",
    "Using the kinetic molecular theory to explain the Charles' Law, imagine that the pressure and the chemical amount of gas are held constant using a piston. When the temperature of the gas molecules increases, the gas molecules will move at a higher speed because temperature and the average kinetic energy of the gas molecules have a direct relationship. As a result, gas molecules will collide with each other and with walls of the container more frequently which exerts a greater force on the wall of container. Because the external pressure on the container is held constant, but the gas pressure inside the container are increased, the piston of the container is pushed up to increase the volume of the container."
   ]
  },
  {
   "cell_type": "markdown",
   "metadata": {},
   "source": [
    "# Experiment\n",
    "Let's say we want to drive a car into a wall but save our crash test dummy with a standard airbag that has an average volume of 70L when inflated. We will run a few simulations to find out what average temperature we need the nitrogen gas to be at to inflate the airbag to the desired volume. "
   ]
  },
  {
   "cell_type": "code",
   "execution_count": 89,
   "metadata": {},
   "outputs": [],
   "source": [
    "# Imports, borrowing code from a 'library' that is used to generate the graph.\n",
    "import plotly.offline as py\n",
    "from plotly.offline import init_notebook_mode, iplot\n",
    "import plotly.graph_objs as go\n",
    "import numpy as np\n",
    "import random"
   ]
  },
  {
   "cell_type": "code",
   "execution_count": 90,
   "metadata": {},
   "outputs": [],
   "source": [
    "# STEP 1.\n",
    "# Set these values ONCE at the beginning of your experiment.\n",
    "\n",
    "# Average volume in litres.\n",
    "ave_volume = 10\n",
    "\n",
    "# Initialize data sets. This makes sure it does not graph old data from previous experiments.\n",
    "volumes = []\n",
    "temps = []\n",
    "trials = []"
   ]
  },
  {
   "cell_type": "code",
   "execution_count": 91,
   "metadata": {},
   "outputs": [],
   "source": [
    "# STEP 2.\n",
    "# Run this cell to generate values to populate your table, then run the graph-generating cell.\n",
    "yielded = random.uniform((ave_volume-(rand.random_sample()*10)), (ave_volume+rand.random_sample()*10))\n",
    "\n",
    "# Rounds value to 2 decimal places before adding it to the list of data.\n",
    "volume = round(yielded, 2)\n",
    "volumes.append(volume)\n",
    "\n",
    "# Constant multiple in Charles' Law.\n",
    "kC = 0.56\n",
    "\n",
    "# Charles' Law is technically V/T = k, where k is constant for that specific system, (It varies between systems.)\n",
    "# and V1/T1 V2/T2 is only a result of this relationship. Students do not need to learn this however.\n",
    "# k is just arbitrarily set.\n",
    "\n",
    "# Adds value to list of data. \n",
    "temps.append(kC*volume)\n",
    "\n",
    "# Labels trials according to how many values are in the list of data\n",
    "if len(volumes) > len(trials):\n",
    "    trials.append('Trial ' + str(len(volumes)))"
   ]
  },
  {
   "cell_type": "code",
   "execution_count": 92,
   "metadata": {},
   "outputs": [
    {
     "data": {
      "text/html": [
       "<script>requirejs.config({paths: { 'plotly': ['https://cdn.plot.ly/plotly-latest.min']},});if(!window.Plotly) {{require(['plotly'],function(plotly) {window.Plotly=plotly;});}}</script>"
      ],
      "text/vnd.plotly.v1+html": [
       "<script>requirejs.config({paths: { 'plotly': ['https://cdn.plot.ly/plotly-latest.min']},});if(!window.Plotly) {{require(['plotly'],function(plotly) {window.Plotly=plotly;});}}</script>"
      ]
     },
     "metadata": {},
     "output_type": "display_data"
    },
    {
     "data": {
      "application/vnd.plotly.v1+json": {
       "data": [
        {
         "name": "Volume",
         "type": "bar",
         "uid": "5eb43ec0-860a-11e8-a3fa-28cfe9142f7f",
         "x": [
          "Trial 1"
         ],
         "y": [
          13.5
         ]
        },
        {
         "name": "Temperature",
         "type": "bar",
         "uid": "5eb441fe-860a-11e8-a3fa-28cfe9142f7f",
         "x": [
          "Trial 1"
         ],
         "y": [
          7.5600000000000005
         ]
        }
       ],
       "layout": {
        "barmode": "group"
       }
      },
      "text/html": [
       "<div id=\"e966f849-5795-4b2b-8836-ca3f39bfb159\" style=\"height: 525px; width: 100%;\" class=\"plotly-graph-div\"></div><script type=\"text/javascript\">require([\"plotly\"], function(Plotly) { window.PLOTLYENV=window.PLOTLYENV || {};window.PLOTLYENV.BASE_URL=\"https://plot.ly\";\n",
       "        Plotly.plot(\n",
       "            'e966f849-5795-4b2b-8836-ca3f39bfb159',\n",
       "            [{\"name\": \"Volume\", \"x\": [\"Trial 1\"], \"y\": [13.5], \"type\": \"bar\", \"uid\": \"5eb43ec0-860a-11e8-a3fa-28cfe9142f7f\"}, {\"name\": \"Temperature\", \"x\": [\"Trial 1\"], \"y\": [7.5600000000000005], \"type\": \"bar\", \"uid\": \"5eb441fe-860a-11e8-a3fa-28cfe9142f7f\"}],\n",
       "            {\"barmode\": \"group\"},\n",
       "            {\"showLink\": true, \"linkText\": \"Export to plot.ly\"}\n",
       "        ).then(function () {return Plotly.addFrames('e966f849-5795-4b2b-8836-ca3f39bfb159',{});}).then(function(){Plotly.animate('e966f849-5795-4b2b-8836-ca3f39bfb159');})\n",
       "        });</script>"
      ],
      "text/vnd.plotly.v1+html": [
       "<div id=\"e966f849-5795-4b2b-8836-ca3f39bfb159\" style=\"height: 525px; width: 100%;\" class=\"plotly-graph-div\"></div><script type=\"text/javascript\">require([\"plotly\"], function(Plotly) { window.PLOTLYENV=window.PLOTLYENV || {};window.PLOTLYENV.BASE_URL=\"https://plot.ly\";\n",
       "        Plotly.plot(\n",
       "            'e966f849-5795-4b2b-8836-ca3f39bfb159',\n",
       "            [{\"name\": \"Volume\", \"x\": [\"Trial 1\"], \"y\": [13.5], \"type\": \"bar\", \"uid\": \"5eb43ec0-860a-11e8-a3fa-28cfe9142f7f\"}, {\"name\": \"Temperature\", \"x\": [\"Trial 1\"], \"y\": [7.5600000000000005], \"type\": \"bar\", \"uid\": \"5eb441fe-860a-11e8-a3fa-28cfe9142f7f\"}],\n",
       "            {\"barmode\": \"group\"},\n",
       "            {\"showLink\": true, \"linkText\": \"Export to plot.ly\"}\n",
       "        ).then(function () {return Plotly.addFrames('e966f849-5795-4b2b-8836-ca3f39bfb159',{});}).then(function(){Plotly.animate('e966f849-5795-4b2b-8836-ca3f39bfb159');})\n",
       "        });</script>"
      ]
     },
     "metadata": {},
     "output_type": "display_data"
    }
   ],
   "source": [
    "# STEP 3.\n",
    "# Graph-generating cell - run after generating each new data pair.\n",
    "init_notebook_mode(connected=True)\n",
    "\n",
    "# Generates volume bars.\n",
    "trace1 = go.Bar(\n",
    "    x=trials,\n",
    "    y=volumes,\n",
    "    name='Volume'\n",
    ")\n",
    "\n",
    "# Generates temperature bars.\n",
    "trace2 = go.Bar(\n",
    "    x=trials,\n",
    "    y=temps,\n",
    "    name='Temperature'\n",
    ")\n",
    "\n",
    "# Gives graph grouped-bars layout.\n",
    "data = [trace1, trace2]\n",
    "layout = go.Layout(\n",
    "    barmode='group'\n",
    ")\n",
    "\n",
    "# Renders graph.\n",
    "fig = go.Figure(data=data, layout=layout)\n",
    "py.iplot(fig, filename='grouped-bar')\n",
    "\n",
    "# Run step 2 then step 3 repeatedly until satisfied with your table of values"
   ]
  },
  {
   "cell_type": "markdown",
   "metadata": {},
   "source": [
    "# Questions\n",
    "There are three questions below that test Boyle's Law. There is a code segment that you can run after each question to check your answer. Before you do so though, run the code segment below this text. Each of the answers are encrypted, and this code decrypts it in order to test if it is correct. To be extra clear, the long string of characters and numbers such as `845e85fa64a2d6037055beba19fe0bd8` that you will see is not the answer, it is the encrypted answer. Furthermore, round to the nearest significant figure."
   ]
  },
  {
   "cell_type": "code",
   "execution_count": 114,
   "metadata": {},
   "outputs": [],
   "source": [
    "# Imports.\n",
    "from IPython.display import display \n",
    "from ipywidgets import widgets\n",
    "import hashlib\n",
    "\n",
    "# Check the answer given by the student.\n",
    "def check_answer(x):\n",
    "    temp = None\n",
    "    try:\n",
    "        temp = hashlib.md5(str.encode(str(text.value))).hexdigest()\n",
    "    except:\n",
    "        print(\"Not a number.\")\n",
    "    if(temp == answer):\n",
    "        print(\"Correct!\")\n",
    "    else:\n",
    "        print(\"Incorrect. Try again!\")"
   ]
  },
  {
   "cell_type": "markdown",
   "metadata": {},
   "source": [
    "1. A specific amount of gas molecules is sealed within a container with a movable piston. The initial volume of the gas within the cylinder is 3.0 liters at 10 degrees C. What will be the final volume of the gas container in liters when the temperature is raised up to 30 degrees C?  "
   ]
  },
  {
   "cell_type": "code",
   "execution_count": 115,
   "metadata": {},
   "outputs": [
    {
     "data": {
      "application/vnd.jupyter.widget-view+json": {
       "model_id": "a50faea406c440eca4d45efba2343cc5",
       "version_major": 2,
       "version_minor": 0
      },
      "text/plain": [
       "Text(value='')"
      ]
     },
     "metadata": {},
     "output_type": "display_data"
    }
   ],
   "source": [
    "# Encrypted answer.\n",
    "answer = 'acff46b161a3b7d6ed01ba79a032acc9'\n",
    "\n",
    "# Create answer box.\n",
    "text = widgets.Text()\n",
    "display(text)\n",
    "text.on_submit(check_answer)"
   ]
  },
  {
   "cell_type": "markdown",
   "metadata": {},
   "source": [
    "2. For a hot balloon that contains helium gas, it initially contains 1000$m^{3}$ at a temperature of 20.00 degrees C. As fire is burning at the bottom of the balloon, what is the minimum temperature in Celsius needed for the hot balloon in order for the volume to increase to 17000 $m^{3}$?\n"
   ]
  },
  {
   "cell_type": "code",
   "execution_count": 15,
   "metadata": {},
   "outputs": [
    {
     "data": {
      "application/vnd.jupyter.widget-view+json": {
       "model_id": "efbea048fb1c403f961ae7caa2cf0a18",
       "version_major": 2,
       "version_minor": 0
      },
      "text/plain": [
       "Text(value='')"
      ]
     },
     "metadata": {},
     "output_type": "display_data"
    }
   ],
   "source": [
    "# Encrypted answer.\n",
    "answer = 'a78e17c964d3593d89cde3fb678f6a14'\n",
    "\n",
    "# Create answer box.\n",
    "text = widgets.Text()\n",
    "display(text)\n",
    "text.on_submit(check_answer)"
   ]
  },
  {
   "cell_type": "markdown",
   "metadata": {},
   "source": [
    "3. When a float pool contains gas at 20 degrees C, and it is heated up an additional 14 degrees C, what is the new volume in liters if it contained 3.2 liters of gas originally?"
   ]
  },
  {
   "cell_type": "code",
   "execution_count": 16,
   "metadata": {},
   "outputs": [
    {
     "data": {
      "application/vnd.jupyter.widget-view+json": {
       "model_id": "c22d005b448e4ad38511b524ff0cf05b",
       "version_major": 2,
       "version_minor": 0
      },
      "text/plain": [
       "Text(value='')"
      ]
     },
     "metadata": {},
     "output_type": "display_data"
    }
   ],
   "source": [
    "# Encrypted answer.\n",
    "answer = '31053ad0506e935470ca21b43cae98cf'\n",
    "\n",
    "# Create answer box.\n",
    "text = widgets.Text()\n",
    "display(text)\n",
    "text.on_submit(check_answer)"
   ]
  },
  {
   "cell_type": "markdown",
   "metadata": {},
   "source": [
    "# Gay-Lussac's Law\n",
    "If you watched a gun fire, you would see a plume of smoke as the gunpowder burns and the bullet whizzes out. The increase in temperature caused an increase in the pressure, which forced the bullet out of the barrel. \n",
    "\n",
    "In technical terms, the average kinetic energy of the molecule is referred to as the temperature, and the density of the particles is referred to as the pressure. The relationship between the two variables at a constant volume is a direct relationship was defined by Joseph Louis Gay-Lussac in 1809. It can be expressed by the equation below:\n",
    "\n",
    "$$\n",
    "\\huge\n",
    "\\frac{P_1}{T_1} = \\frac{P_2}{T_2}\n",
    "$$\n",
    "\n",
    "Using the kinetic molecular theory to explain the Gay-Lussac's Law, the volume and the chemical amount of gas are held constant. When the temperature of the gas molecules are increased, the gas molecules will move at a higher speed because temperature and the average kinetic energy of the gas molecules have a direct relationship. As a result, gas molecules will collide with each other and with the wall of the container more frequently which exerts a greater force on the wall of container which increases the pressure of the gas. "
   ]
  },
  {
   "cell_type": "markdown",
   "metadata": {},
   "source": [
    "# Experiment\n",
    "The chamber pressure in a gun is roughly 344737.86 kPa at least. We can predict the approximate temperature the gunpowder would need to burn at because the two are directly proportional."
   ]
  },
  {
   "cell_type": "code",
   "execution_count": 93,
   "metadata": {},
   "outputs": [],
   "source": [
    "# Imports, borrowing code from a 'library' that is used to generate the table.\n",
    "import pandas as pd\n",
    "import matplotlib as mpl\n",
    "import numpy as np\n",
    "import random"
   ]
  },
  {
   "cell_type": "code",
   "execution_count": 94,
   "metadata": {},
   "outputs": [],
   "source": [
    "# STEP 1. \n",
    "# Set these values ONCE at the beginning of your experiment.\n",
    "\n",
    "# Average pressure in kPa.\n",
    "ave_pressure = 100\n",
    "\n",
    "# Initialize data sets. This makes sure it does not graph old data from previous experiments.\n",
    "trials = []"
   ]
  },
  {
   "cell_type": "code",
   "execution_count": 95,
   "metadata": {},
   "outputs": [],
   "source": [
    "# STEP 2.\n",
    "\n",
    "# Run this cell to generate values to populate your table, then run the table-generating cell.\n",
    "yielded = random.uniform((ave_pressure-(rand.random_sample()*10)), (ave_pressure-(rand.random_sample()*10)))\n",
    "\n",
    "pressure = round(yielded, 2)\n",
    "\n",
    "# Constant multiple in Gay-Lussac's Law.\n",
    "kGL = 2\n",
    "\n",
    "# Gay-Lussac's Law is technically P/T = k, where k is constant for that specific system, (It varies between systems.)\n",
    "# and P1/T1=P1/T1 is only a result of this relationship. Students do not need to learn this however.\n",
    "# For simplicity and to create a difference between values, k is set to 2.\n",
    "\n",
    "trials.append((pressure, kGL*pressure))"
   ]
  },
  {
   "cell_type": "code",
   "execution_count": 96,
   "metadata": {},
   "outputs": [
    {
     "data": {
      "text/html": [
       "<style  type=\"text/css\" >\n",
       "</style>  \n",
       "<table id=\"T_6871605a_860a_11e8_a3fa_28cfe9142f7f\" > \n",
       "<thead>    <tr> \n",
       "        <th class=\"blank level0\" ></th> \n",
       "        <th class=\"col_heading level0 col0\" >Pressure</th> \n",
       "        <th class=\"col_heading level0 col1\" >Temperature</th> \n",
       "    </tr></thead> \n",
       "<tbody>    <tr> \n",
       "        <th id=\"T_6871605a_860a_11e8_a3fa_28cfe9142f7flevel0_row0\" class=\"row_heading level0 row0\" >0</th> \n",
       "        <td id=\"T_6871605a_860a_11e8_a3fa_28cfe9142f7frow0_col0\" class=\"data row0 col0\" >91.61</td> \n",
       "        <td id=\"T_6871605a_860a_11e8_a3fa_28cfe9142f7frow0_col1\" class=\"data row0 col1\" >183.22</td> \n",
       "    </tr></tbody> \n",
       "</table> "
      ],
      "text/plain": [
       "<pandas.io.formats.style.Styler at 0x10e492358>"
      ]
     },
     "execution_count": 96,
     "metadata": {},
     "output_type": "execute_result"
    }
   ],
   "source": [
    "# STEP 3.\n",
    "# Table-generating cell - run after generating each new data pair.\n",
    "labels = ['Pressure', 'Temperature']\n",
    "trials.sort()\n",
    "df = pd.DataFrame.from_records(trials, columns=labels)\n",
    "df.head\n",
    "df.style\n",
    "# Run step 2 then step 3 repeatedly until satisfied with your table of values"
   ]
  },
  {
   "cell_type": "markdown",
   "metadata": {},
   "source": [
    "# Questions\n",
    "There are three questions below that test Boyle's Law. There is a code segment that you can run after each question to check your answer. Before you do so though, run the code segment below this text. Each of the answers are encrypted, and this code decrypts it in order to test if it is correct. To be extra clear, the long string of characters and numbers such as `845e85fa64a2d6037055beba19fe0bd8` that you will see is not the answer, it is the encrypted answer. Furthermore, round to the nearest significant figure."
   ]
  },
  {
   "cell_type": "code",
   "execution_count": 116,
   "metadata": {},
   "outputs": [],
   "source": [
    "# Imports.\n",
    "from IPython.display import display \n",
    "from ipywidgets import widgets\n",
    "import hashlib\n",
    "\n",
    "# Check the answer given by the student.\n",
    "def check_answer(x):\n",
    "    temp = None\n",
    "    try:\n",
    "        temp = hashlib.md5(str.encode(str(text.value))).hexdigest()\n",
    "    except:\n",
    "        print(\"Not a number.\")\n",
    "    if(temp == answer):\n",
    "        print(\"Correct!\")\n",
    "    else:\n",
    "        print(\"Incorrect. Try again!\")"
   ]
  },
  {
   "cell_type": "markdown",
   "metadata": {},
   "source": [
    "1. The gas particles are in a sealed container at 200 mmHg under the 15.0 degrees C room temperature. When the pressure on the gas particles is increased to 560 mmHg, what is the new temperature of the gas molecules in Celsius?"
   ]
  },
  {
   "cell_type": "code",
   "execution_count": 22,
   "metadata": {},
   "outputs": [
    {
     "data": {
      "application/vnd.jupyter.widget-view+json": {
       "model_id": "726ddeccbd7942e39f62d14caeea5b74",
       "version_major": 2,
       "version_minor": 0
      },
      "text/plain": [
       "Text(value='')"
      ]
     },
     "metadata": {},
     "output_type": "display_data"
    }
   ],
   "source": [
    "# Encrypted answer.\n",
    "answer = 'c399862d3b9d6b76c8436e924a68c45b'\n",
    "\n",
    "# Create answer box.\n",
    "text = widgets.Text()\n",
    "display(text)\n",
    "text.on_submit(check_answer)"
   ]
  },
  {
   "cell_type": "markdown",
   "metadata": {},
   "source": [
    "2. A cylinder container has a constant fixed volume at a temperature of 30.0 degrees C and a pressure of 101 kPa. As the pressure on the container is increased to 200 kPa, how much percentage of the temperature are increased?\n"
   ]
  },
  {
   "cell_type": "code",
   "execution_count": 23,
   "metadata": {},
   "outputs": [
    {
     "data": {
      "application/vnd.jupyter.widget-view+json": {
       "model_id": "447c973ede9f4f619b334d1002e97033",
       "version_major": 2,
       "version_minor": 0
      },
      "text/plain": [
       "Text(value='')"
      ]
     },
     "metadata": {},
     "output_type": "display_data"
    }
   ],
   "source": [
    "# Encrypted answer.\n",
    "answer = '4fac9ba115140ac4f1c22da82aa0bc7f'\n",
    "\n",
    "# Create answer box.\n",
    "text = widgets.Text()\n",
    "display(text)\n",
    "text.on_submit(check_answer)"
   ]
  },
  {
   "cell_type": "markdown",
   "metadata": {},
   "source": [
    "3. If a gun needs 351867.04 kPa to shoot out a bullet, and the gun initially exerts a pressure of 1000.00kPa on the bullet at a temperature of 20.0000 Celsius. How much would the temperature need to be increased in Celsius in order for the bullet to be shot? "
   ]
  },
  {
   "cell_type": "code",
   "execution_count": 24,
   "metadata": {},
   "outputs": [
    {
     "data": {
      "application/vnd.jupyter.widget-view+json": {
       "model_id": "f2e30550124040babeda2e40991a440b",
       "version_major": 2,
       "version_minor": 0
      },
      "text/plain": [
       "Text(value='')"
      ]
     },
     "metadata": {},
     "output_type": "display_data"
    }
   ],
   "source": [
    "# Encrypted answer.\n",
    "answer = 'cea6e0b18604bc926d0fba9701e40359'\n",
    "\n",
    "# Create answer box.\n",
    "text = widgets.Text()\n",
    "display(text)\n",
    "text.on_submit(check_answer)"
   ]
  },
  {
   "cell_type": "markdown",
   "metadata": {},
   "source": [
    "# Combined Gas Law\n",
    "The Combined Gas Law takes Boyle’s, Gay-Lussac’s, and Charles’ Laws into one equation where the amount of gas is constant. The inverse relationship between pressure and volume is maintained as well as the directly proportional relationship between pressure and temperature, and volume and temperature. It can be expressed by the equation below:\n",
    "\n",
    "$$\n",
    "\\huge\n",
    "\\frac{P_1V_1}{T_1} = \\frac{P_2V_2}{T_2}\n",
    "$$"
   ]
  },
  {
   "cell_type": "markdown",
   "metadata": {},
   "source": [
    "# Questions\n",
    "There are three questions below that test Boyle's Law. There is a code segment that you can run after each question to check your answer. Before you do so though, run the code segment below this text. Each of the answers are encrypted, and this code decrypts it in order to test if it is correct. To be extra clear, the long string of characters and numbers such as `845e85fa64a2d6037055beba19fe0bd8` that you will see is not the answer, it is the encrypted answer. Furthermore, round to the nearest significant figure."
   ]
  },
  {
   "cell_type": "code",
   "execution_count": 117,
   "metadata": {},
   "outputs": [],
   "source": [
    "# Imports.\n",
    "from IPython.display import display \n",
    "from ipywidgets import widgets\n",
    "import hashlib\n",
    "\n",
    "# Check the answer given by the student.\n",
    "def check_answer(x):\n",
    "    temp = None\n",
    "    try:\n",
    "        temp = hashlib.md5(str.encode(str(text.value))).hexdigest()\n",
    "    except:\n",
    "        print(\"Not a number.\")\n",
    "    if(temp == answer):\n",
    "        print(\"Correct!\")\n",
    "    else:\n",
    "        print(\"Incorrect. Try again!\")"
   ]
  },
  {
   "cell_type": "markdown",
   "metadata": {},
   "source": [
    "1. A balloon that contains 10L of helium gas at an atmospheric pressure of 101 kPa and at a temperature of 25 degrees C is released to rise into the upper atmosphere where the temperature is -10 degrees C and the atmospheric air pressure is 15 kPa. During the experiment, the measured volume of the balloon after it rises to a higher altitude is 60 L. Assume gas cannot escape and calculate the experimental error as a percentage."
   ]
  },
  {
   "cell_type": "code",
   "execution_count": 26,
   "metadata": {},
   "outputs": [
    {
     "data": {
      "application/vnd.jupyter.widget-view+json": {
       "model_id": "aa7c9d59458e4d0a99032afa9515553a",
       "version_major": 2,
       "version_minor": 0
      },
      "text/plain": [
       "Text(value='')"
      ]
     },
     "metadata": {},
     "output_type": "display_data"
    }
   ],
   "source": [
    "# Encrypted answer.\n",
    "answer = 'e93bb0ef149f78aeae0eab58c5a28758'\n",
    "\n",
    "# Create answer box.\n",
    "text = widgets.Text()\n",
    "display(text)\n",
    "text.on_submit(check_answer)"
   ]
  },
  {
   "cell_type": "markdown",
   "metadata": {},
   "source": [
    "2. A balloon that contains hydrogen gas has 5.0 liters when it is measured on a mountain where the air atmospheric pressure is only 30 kPa, and the temperature is only -30 degrees C. What is the new volume of the balloon if the balloon occupies at SATP? (SATP conditions: 25 degrees C and 100 kPa)"
   ]
  },
  {
   "cell_type": "code",
   "execution_count": 27,
   "metadata": {},
   "outputs": [
    {
     "data": {
      "application/vnd.jupyter.widget-view+json": {
       "model_id": "7d11590a58af4bc0979c058e75cbb27f",
       "version_major": 2,
       "version_minor": 0
      },
      "text/plain": [
       "Text(value='')"
      ]
     },
     "metadata": {},
     "output_type": "display_data"
    }
   ],
   "source": [
    "# Encrypted answer.\n",
    "answer = 'f932bed2d12442d21507b51d22b88dd7'\n",
    "\n",
    "# Create answer box.\n",
    "text = widgets.Text()\n",
    "display(text)\n",
    "text.on_submit(check_answer)"
   ]
  },
  {
   "cell_type": "markdown",
   "metadata": {},
   "source": [
    "3. A gas is measured to have a volume of 20.0 liters at a temperature of 20.0 degrees C and at an atmospheric pressure of 1.00 atm. As the gas is raised up to a higher air pressure, what is the new air pressure in atm if the final volume measured is 10.0 liters and the temperature is 5.00 degrees C."
   ]
  },
  {
   "cell_type": "code",
   "execution_count": 28,
   "metadata": {},
   "outputs": [
    {
     "data": {
      "application/vnd.jupyter.widget-view+json": {
       "model_id": "370ffa02dd5e4b03a85e9d0d1a130241",
       "version_major": 2,
       "version_minor": 0
      },
      "text/plain": [
       "Text(value='')"
      ]
     },
     "metadata": {},
     "output_type": "display_data"
    }
   ],
   "source": [
    "# Encrypted answer.\n",
    "answer = 'c3cce38563b9d2b2ac15c5b15ffc8c05'\n",
    "\n",
    "# Create answer box.\n",
    "text = widgets.Text()\n",
    "display(text)\n",
    "text.on_submit(check_answer)"
   ]
  },
  {
   "cell_type": "markdown",
   "metadata": {},
   "source": [
    "# Summary\n",
    "When performing these equations, it is important to ask yourself the questions below:\n",
    "1. Which of the quantities do you know?\n",
    "2. What quantity is constant? (Pressure, volume, or temperature?)\n",
    "3. Are the values in correct units?\n",
    "4. Is the question asking for the values in certain units or for the magnitude by which a value needs to be increased or decreased?\n",
    "5. After doing the algebra, does the unit analysis make sense? (Do the right units cancel out and leave you with the right units for your answer?)\n",
    "\n",
    "# Conclusion\n",
    "In this section, we introduced the different relationships between pressure, volume, and temperature, and the three different laws associated with them. These are Boyle's Law for pressure and volume where temperature is constant, Charles' Law for volume and temperature where pressure is constant, and Gay-Lussac's Law for pressure and temperature where volume is constant. Finally, we brought all three laws together into the combined gas law. "
   ]
  },
  {
   "cell_type": "code",
   "execution_count": null,
   "metadata": {},
   "outputs": [],
   "source": []
  }
 ],
 "metadata": {
  "kernelspec": {
   "display_name": "Python 3",
   "language": "python",
   "name": "python3"
  },
  "language_info": {
   "codemirror_mode": {
    "name": "ipython",
    "version": 3
   },
   "file_extension": ".py",
   "mimetype": "text/x-python",
   "name": "python",
   "nbconvert_exporter": "python",
   "pygments_lexer": "ipython3",
   "version": "3.7.0"
  }
 },
 "nbformat": 4,
 "nbformat_minor": 2
}
