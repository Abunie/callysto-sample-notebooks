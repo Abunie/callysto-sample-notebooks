{
 "cells": [
  {
   "cell_type": "markdown",
   "metadata": {},
   "source": [
    "<img src=\"../images/Callysto_Notebook-Banner_Top_06.06.18.jpg\"/>"
   ]
  },
  {
   "cell_type": "markdown",
   "metadata": {},
   "source": [
    "# Pre-requisites / Background\n",
    "\n",
    "We are expecting that the students understand Celsius to Kelvin conversions, converting between pressure units, Kinetic Molecular Theory (ideal gas assumptions).\n",
    "\n",
    "In this section we will cover Boyle’s Law, Gay-Lussac’s Law, and Charles’ Law before putting them together in the Combined Gas Law. \n",
    "\n",
    "Alberta Curriculum Objective: illustrate how Boyle's and Charles's laws, individually and combined, are related to the ideal gas law (PV = nRT )."
   ]
  },
  {
   "cell_type": "markdown",
   "metadata": {},
   "source": [
    "# Introduction\n",
    "What do your lungs, guns, and airbags all have in common? They all use the gas laws to function. \n",
    "\n",
    "The gas laws resulted from 17th century studies into the physical properties of gases - pressure, volume, and temperature."
   ]
  },
  {
   "cell_type": "markdown",
   "metadata": {},
   "source": [
    "# The Gas Laws\n",
    "## Boyle's Law\n",
    "Picture this: your lungs expand, so the gas particles inside it are much less compared to the space they occupy, whereas outside your lungs, the gas particles are much more dense. We know that particles move from an area of high density to an area of low density, so air rushes into your lungs, enabling you to breathe.\n",
    "\n",
    "In technical terms, the space the gas occupies is considered its volume, and the density of particles refers to its pressure. This relationship between the two is called Boyle’s Law, the idea that pressure and volume are inversely proportional at a constant temperature. It can be expressed by the equation below: ![P1V1=P2V2](Images/boyles.png)."
   ]
  },
  {
   "cell_type": "code",
   "execution_count": 1,
   "metadata": {},
   "outputs": [
    {
     "data": {
      "text/html": [
       "\n",
       "        <iframe\n",
       "            width=\"400\"\n",
       "            height=\"300\"\n",
       "            src=\"https://www.youtube.com/embed/27yqJ9vJ5kQ\"\n",
       "            frameborder=\"0\"\n",
       "            allowfullscreen\n",
       "        ></iframe>\n",
       "        "
      ],
      "text/plain": [
       "<IPython.lib.display.YouTubeVideo at 0x10975df28>"
      ]
     },
     "metadata": {},
     "output_type": "display_data"
    }
   ],
   "source": [
    "from IPython.lib.display import YouTubeVideo\n",
    "display(YouTubeVideo('27yqJ9vJ5kQ'))"
   ]
  },
  {
   "cell_type": "markdown",
   "metadata": {},
   "source": [
    "# Experiment\n",
    "Let's say we want to find the pressure in an adult male test subject's lungs when they are expanded to maximum capacity. The average lung capacity of an adult human male is 6L. We will test random lung capacities for N trials, and see how Boyle's Law shapes the relationship between pressure and volume."
   ]
  },
  {
   "cell_type": "code",
   "execution_count": 2,
   "metadata": {},
   "outputs": [],
   "source": [
    "# Change the variables in this cell to create your own experiment!\n",
    "\n",
    "# Max volume in liters.\n",
    "volume = 6\n",
    "\n",
    "# Number of trials.\n",
    "N = 100"
   ]
  },
  {
   "cell_type": "code",
   "execution_count": 3,
   "metadata": {
    "scrolled": false
   },
   "outputs": [
    {
     "data": {
      "text/html": [
       "<script>requirejs.config({paths: { 'plotly': ['https://cdn.plot.ly/plotly-latest.min']},});if(!window.Plotly) {{require(['plotly'],function(plotly) {window.Plotly=plotly;});}}</script>"
      ],
      "text/vnd.plotly.v1+html": [
       "<script>requirejs.config({paths: { 'plotly': ['https://cdn.plot.ly/plotly-latest.min']},});if(!window.Plotly) {{require(['plotly'],function(plotly) {window.Plotly=plotly;});}}</script>"
      ]
     },
     "metadata": {},
     "output_type": "display_data"
    },
    {
     "data": {
      "application/vnd.plotly.v1+json": {
       "data": [
        {
         "mode": "markers",
         "type": "scatter",
         "uid": "c50259d6-845d-11e8-9b91-28cfe9142f7f",
         "x": [
          2.8349078094553364,
          5.35179536329925,
          2.478231823675332,
          0.7097167003415844,
          0.35445301572782045,
          1.3040870866602632,
          5.660583067822824,
          1.4843418419981405,
          4.567363228776459,
          4.670136011841061,
          0.12718036627097346,
          0.648860053234914,
          4.368858179661242,
          4.770308121111982,
          2.5536282627118245,
          0.466307460354781,
          0.28677603443762667,
          2.177914639688855,
          5.798540903407454,
          5.827429325379663,
          3.7543403216194533,
          1.111078546700477,
          3.167350836543681,
          4.033833953248467,
          5.019565858829822,
          4.025067935193664,
          1.915851699928045,
          2.590175658675038,
          5.474645080419847,
          0.5486304024781731,
          0.749862156833019,
          0.8118240934238699,
          4.649033118076718,
          3.1032183415468326,
          5.736723882157737,
          2.507362286370749,
          2.6037423031613534,
          1.0022739820492783,
          2.801525991956674,
          3.520312729871448,
          1.030823110108293,
          0.2789470770888147,
          0.5549401987958302,
          2.0255225368935683,
          4.217016665356989,
          4.505366345575225,
          5.587328192115499,
          4.797756228855025,
          5.648130611558191,
          5.5056554373385795,
          1.3769927441446028,
          1.8388986835513847,
          5.613779078638931,
          3.1388306387399276,
          1.9347046406477773,
          2.742040594400591,
          1.5483175133117477,
          3.231250499826553,
          4.837773675583453,
          3.483263304381117,
          2.6279826103638197,
          2.948055401860264,
          2.509267670598985,
          2.4511698939504427,
          1.4498977005821554,
          2.280021214650509,
          0.7651598890566784,
          3.3574353986499714,
          1.389097448404343,
          3.3832149857656715,
          3.1415550584693905,
          4.6458828086836235,
          2.252931158173529,
          5.491483386028023,
          2.5604596440674063,
          5.83176130056369,
          0.7877826553628555,
          2.380629000092473,
          5.590074836724038,
          0.38868653917751966,
          0.7140039389293007,
          5.60178752814869,
          3.986511332030756,
          3.186739785180328,
          1.9546375729004546,
          2.400318627975373,
          5.062098525493738,
          2.2462234715563305,
          1.1235724018598503,
          2.891890023036771,
          3.0524176672376253,
          0.9634826089097452,
          5.454779713204625,
          0.7863453217809451,
          3.837642379187278,
          4.99509972218866,
          4.079741390862471,
          2.700763589068847,
          5.891998752473178,
          5.273587145663927
         ],
         "y": [
          0.37078514802184276,
          0.26704775922424256,
          0.2736472164375594,
          1.57513539469449,
          2.425544813280176,
          0.7564064373804215,
          0.13759527826608356,
          0.7200047359382633,
          0.12632442261215504,
          0.07264663113656437,
          4.16978523306797,
          1.9848824657009796,
          0.10545821931352772,
          0.07685946156902142,
          0.3318337501272474,
          2.7083459840878144,
          2.8811051672370316,
          0.5059061446256546,
          0.0901053085340174,
          0.11768543902148318,
          0.18369878149987487,
          0.6686269253270937,
          0.46323412954952026,
          0.1688194781303396,
          0.11446995785291911,
          0.368897157127133,
          0.5201035033076703,
          0.45937923222025623,
          0.16671279117276774,
          1.7287630025512826,
          1.7387919334042006,
          1.3169776678406946,
          0.0905247326043123,
          0.23574119193202217,
          0.1858815912788783,
          0.47431370836699427,
          0.3931410271548852,
          1.0830180534504878,
          0.2994032308984512,
          0.41758507573678416,
          1.1004757031539618,
          3.731542272262757,
          1.7815083453225085,
          0.48994735843595405,
          0.17449714966266036,
          0.3322699113774958,
          0.3276028306675567,
          0.1825139414999545,
          0.3177812624168739,
          0.07576971577079089,
          0.672162115819081,
          0.5178035525653166,
          0.09654143455125873,
          0.3953500016078486,
          0.5933243847963262,
          0.3366571934783903,
          0.6324511432326723,
          0.43034582180755765,
          0.07377341802914901,
          0.3242905851262604,
          0.3486583575055967,
          0.2449454533682694,
          0.4784378697491076,
          0.26283593473243216,
          0.6746525133234502,
          0.41619340770983543,
          1.3137977458303194,
          0.3742685076918401,
          0.7996390205329154,
          0.1953177356435512,
          0.2677493665934008,
          0.09112856618472714,
          0.4577030613790093,
          0.18489981784649032,
          0.5111858084121599,
          0.23700606506544294,
          1.190331211010114,
          0.31344776324415463,
          0.1424570367426637,
          2.077297936111131,
          1.5519792881318142,
          0.10715279362614305,
          0.2966382761994264,
          0.3686953729892264,
          0.36525221578752987,
          0.5138229595893898,
          0.3027643210323991,
          0.5829464344350337,
          0.8752945785508669,
          0.47010040732970404,
          0.21236589628550265,
          0.9743483734631666,
          0.14827004341169037,
          1.375602627511069,
          0.37648475470392506,
          0.2114646739436567,
          0.13073821928364868,
          0.446911567666312,
          0.18460978462156974,
          0.2761261175345413
         ]
        }
       ],
       "layout": {
        "title": "Pressure vs. Volume",
        "xaxis": {
         "title": "Volume"
        },
        "yaxis": {
         "title": "Pressure"
        }
       }
      },
      "text/html": [
       "<div id=\"29fb096f-3d00-4e87-a53e-fe005881b13b\" style=\"height: 525px; width: 100%;\" class=\"plotly-graph-div\"></div><script type=\"text/javascript\">require([\"plotly\"], function(Plotly) { window.PLOTLYENV=window.PLOTLYENV || {};window.PLOTLYENV.BASE_URL=\"https://plot.ly\";\n",
       "        Plotly.plot(\n",
       "            '29fb096f-3d00-4e87-a53e-fe005881b13b',\n",
       "            [{\"mode\": \"markers\", \"x\": [2.8349078094553364, 5.35179536329925, 2.478231823675332, 0.7097167003415844, 0.35445301572782045, 1.3040870866602632, 5.660583067822824, 1.4843418419981405, 4.567363228776459, 4.670136011841061, 0.12718036627097346, 0.648860053234914, 4.368858179661242, 4.770308121111982, 2.5536282627118245, 0.466307460354781, 0.28677603443762667, 2.177914639688855, 5.798540903407454, 5.827429325379663, 3.7543403216194533, 1.111078546700477, 3.167350836543681, 4.033833953248467, 5.019565858829822, 4.025067935193664, 1.915851699928045, 2.590175658675038, 5.474645080419847, 0.5486304024781731, 0.749862156833019, 0.8118240934238699, 4.649033118076718, 3.1032183415468326, 5.736723882157737, 2.507362286370749, 2.6037423031613534, 1.0022739820492783, 2.801525991956674, 3.520312729871448, 1.030823110108293, 0.2789470770888147, 0.5549401987958302, 2.0255225368935683, 4.217016665356989, 4.505366345575225, 5.587328192115499, 4.797756228855025, 5.648130611558191, 5.5056554373385795, 1.3769927441446028, 1.8388986835513847, 5.613779078638931, 3.1388306387399276, 1.9347046406477773, 2.742040594400591, 1.5483175133117477, 3.231250499826553, 4.837773675583453, 3.483263304381117, 2.6279826103638197, 2.948055401860264, 2.509267670598985, 2.4511698939504427, 1.4498977005821554, 2.280021214650509, 0.7651598890566784, 3.3574353986499714, 1.389097448404343, 3.3832149857656715, 3.1415550584693905, 4.6458828086836235, 2.252931158173529, 5.491483386028023, 2.5604596440674063, 5.83176130056369, 0.7877826553628555, 2.380629000092473, 5.590074836724038, 0.38868653917751966, 0.7140039389293007, 5.60178752814869, 3.986511332030756, 3.186739785180328, 1.9546375729004546, 2.400318627975373, 5.062098525493738, 2.2462234715563305, 1.1235724018598503, 2.891890023036771, 3.0524176672376253, 0.9634826089097452, 5.454779713204625, 0.7863453217809451, 3.837642379187278, 4.99509972218866, 4.079741390862471, 2.700763589068847, 5.891998752473178, 5.273587145663927], \"y\": [0.37078514802184276, 0.26704775922424256, 0.2736472164375594, 1.57513539469449, 2.425544813280176, 0.7564064373804215, 0.13759527826608356, 0.7200047359382633, 0.12632442261215504, 0.07264663113656437, 4.16978523306797, 1.9848824657009796, 0.10545821931352772, 0.07685946156902142, 0.3318337501272474, 2.7083459840878144, 2.8811051672370316, 0.5059061446256546, 0.0901053085340174, 0.11768543902148318, 0.18369878149987487, 0.6686269253270937, 0.46323412954952026, 0.1688194781303396, 0.11446995785291911, 0.368897157127133, 0.5201035033076703, 0.45937923222025623, 0.16671279117276774, 1.7287630025512826, 1.7387919334042006, 1.3169776678406946, 0.0905247326043123, 0.23574119193202217, 0.1858815912788783, 0.47431370836699427, 0.3931410271548852, 1.0830180534504878, 0.2994032308984512, 0.41758507573678416, 1.1004757031539618, 3.731542272262757, 1.7815083453225085, 0.48994735843595405, 0.17449714966266036, 0.3322699113774958, 0.3276028306675567, 0.1825139414999545, 0.3177812624168739, 0.07576971577079089, 0.672162115819081, 0.5178035525653166, 0.09654143455125873, 0.3953500016078486, 0.5933243847963262, 0.3366571934783903, 0.6324511432326723, 0.43034582180755765, 0.07377341802914901, 0.3242905851262604, 0.3486583575055967, 0.2449454533682694, 0.4784378697491076, 0.26283593473243216, 0.6746525133234502, 0.41619340770983543, 1.3137977458303194, 0.3742685076918401, 0.7996390205329154, 0.1953177356435512, 0.2677493665934008, 0.09112856618472714, 0.4577030613790093, 0.18489981784649032, 0.5111858084121599, 0.23700606506544294, 1.190331211010114, 0.31344776324415463, 0.1424570367426637, 2.077297936111131, 1.5519792881318142, 0.10715279362614305, 0.2966382761994264, 0.3686953729892264, 0.36525221578752987, 0.5138229595893898, 0.3027643210323991, 0.5829464344350337, 0.8752945785508669, 0.47010040732970404, 0.21236589628550265, 0.9743483734631666, 0.14827004341169037, 1.375602627511069, 0.37648475470392506, 0.2114646739436567, 0.13073821928364868, 0.446911567666312, 0.18460978462156974, 0.2761261175345413], \"type\": \"scatter\", \"uid\": \"c50259d6-845d-11e8-9b91-28cfe9142f7f\"}],\n",
       "            {\"title\": \"Pressure vs. Volume\", \"xaxis\": {\"title\": \"Volume\"}, \"yaxis\": {\"title\": \"Pressure\"}},\n",
       "            {\"showLink\": true, \"linkText\": \"Export to plot.ly\"}\n",
       "        ).then(function () {return Plotly.addFrames('29fb096f-3d00-4e87-a53e-fe005881b13b',{});}).then(function(){Plotly.animate('29fb096f-3d00-4e87-a53e-fe005881b13b');})\n",
       "        });</script>"
      ],
      "text/vnd.plotly.v1+html": [
       "<div id=\"29fb096f-3d00-4e87-a53e-fe005881b13b\" style=\"height: 525px; width: 100%;\" class=\"plotly-graph-div\"></div><script type=\"text/javascript\">require([\"plotly\"], function(Plotly) { window.PLOTLYENV=window.PLOTLYENV || {};window.PLOTLYENV.BASE_URL=\"https://plot.ly\";\n",
       "        Plotly.plot(\n",
       "            '29fb096f-3d00-4e87-a53e-fe005881b13b',\n",
       "            [{\"mode\": \"markers\", \"x\": [2.8349078094553364, 5.35179536329925, 2.478231823675332, 0.7097167003415844, 0.35445301572782045, 1.3040870866602632, 5.660583067822824, 1.4843418419981405, 4.567363228776459, 4.670136011841061, 0.12718036627097346, 0.648860053234914, 4.368858179661242, 4.770308121111982, 2.5536282627118245, 0.466307460354781, 0.28677603443762667, 2.177914639688855, 5.798540903407454, 5.827429325379663, 3.7543403216194533, 1.111078546700477, 3.167350836543681, 4.033833953248467, 5.019565858829822, 4.025067935193664, 1.915851699928045, 2.590175658675038, 5.474645080419847, 0.5486304024781731, 0.749862156833019, 0.8118240934238699, 4.649033118076718, 3.1032183415468326, 5.736723882157737, 2.507362286370749, 2.6037423031613534, 1.0022739820492783, 2.801525991956674, 3.520312729871448, 1.030823110108293, 0.2789470770888147, 0.5549401987958302, 2.0255225368935683, 4.217016665356989, 4.505366345575225, 5.587328192115499, 4.797756228855025, 5.648130611558191, 5.5056554373385795, 1.3769927441446028, 1.8388986835513847, 5.613779078638931, 3.1388306387399276, 1.9347046406477773, 2.742040594400591, 1.5483175133117477, 3.231250499826553, 4.837773675583453, 3.483263304381117, 2.6279826103638197, 2.948055401860264, 2.509267670598985, 2.4511698939504427, 1.4498977005821554, 2.280021214650509, 0.7651598890566784, 3.3574353986499714, 1.389097448404343, 3.3832149857656715, 3.1415550584693905, 4.6458828086836235, 2.252931158173529, 5.491483386028023, 2.5604596440674063, 5.83176130056369, 0.7877826553628555, 2.380629000092473, 5.590074836724038, 0.38868653917751966, 0.7140039389293007, 5.60178752814869, 3.986511332030756, 3.186739785180328, 1.9546375729004546, 2.400318627975373, 5.062098525493738, 2.2462234715563305, 1.1235724018598503, 2.891890023036771, 3.0524176672376253, 0.9634826089097452, 5.454779713204625, 0.7863453217809451, 3.837642379187278, 4.99509972218866, 4.079741390862471, 2.700763589068847, 5.891998752473178, 5.273587145663927], \"y\": [0.37078514802184276, 0.26704775922424256, 0.2736472164375594, 1.57513539469449, 2.425544813280176, 0.7564064373804215, 0.13759527826608356, 0.7200047359382633, 0.12632442261215504, 0.07264663113656437, 4.16978523306797, 1.9848824657009796, 0.10545821931352772, 0.07685946156902142, 0.3318337501272474, 2.7083459840878144, 2.8811051672370316, 0.5059061446256546, 0.0901053085340174, 0.11768543902148318, 0.18369878149987487, 0.6686269253270937, 0.46323412954952026, 0.1688194781303396, 0.11446995785291911, 0.368897157127133, 0.5201035033076703, 0.45937923222025623, 0.16671279117276774, 1.7287630025512826, 1.7387919334042006, 1.3169776678406946, 0.0905247326043123, 0.23574119193202217, 0.1858815912788783, 0.47431370836699427, 0.3931410271548852, 1.0830180534504878, 0.2994032308984512, 0.41758507573678416, 1.1004757031539618, 3.731542272262757, 1.7815083453225085, 0.48994735843595405, 0.17449714966266036, 0.3322699113774958, 0.3276028306675567, 0.1825139414999545, 0.3177812624168739, 0.07576971577079089, 0.672162115819081, 0.5178035525653166, 0.09654143455125873, 0.3953500016078486, 0.5933243847963262, 0.3366571934783903, 0.6324511432326723, 0.43034582180755765, 0.07377341802914901, 0.3242905851262604, 0.3486583575055967, 0.2449454533682694, 0.4784378697491076, 0.26283593473243216, 0.6746525133234502, 0.41619340770983543, 1.3137977458303194, 0.3742685076918401, 0.7996390205329154, 0.1953177356435512, 0.2677493665934008, 0.09112856618472714, 0.4577030613790093, 0.18489981784649032, 0.5111858084121599, 0.23700606506544294, 1.190331211010114, 0.31344776324415463, 0.1424570367426637, 2.077297936111131, 1.5519792881318142, 0.10715279362614305, 0.2966382761994264, 0.3686953729892264, 0.36525221578752987, 0.5138229595893898, 0.3027643210323991, 0.5829464344350337, 0.8752945785508669, 0.47010040732970404, 0.21236589628550265, 0.9743483734631666, 0.14827004341169037, 1.375602627511069, 0.37648475470392506, 0.2114646739436567, 0.13073821928364868, 0.446911567666312, 0.18460978462156974, 0.2761261175345413], \"type\": \"scatter\", \"uid\": \"c50259d6-845d-11e8-9b91-28cfe9142f7f\"}],\n",
       "            {\"title\": \"Pressure vs. Volume\", \"xaxis\": {\"title\": \"Volume\"}, \"yaxis\": {\"title\": \"Pressure\"}},\n",
       "            {\"showLink\": true, \"linkText\": \"Export to plot.ly\"}\n",
       "        ).then(function () {return Plotly.addFrames('29fb096f-3d00-4e87-a53e-fe005881b13b',{});}).then(function(){Plotly.animate('29fb096f-3d00-4e87-a53e-fe005881b13b');})\n",
       "        });</script>"
      ]
     },
     "metadata": {},
     "output_type": "display_data"
    }
   ],
   "source": [
    "# Imports.\n",
    "import plotly.offline as py\n",
    "from plotly.offline import init_notebook_mode, iplot\n",
    "import plotly.graph_objs as go\n",
    "import numpy as np\n",
    "\n",
    "# Initialize plotly for Jupyter notebooks.\n",
    "init_notebook_mode(connected=True)\n",
    "\n",
    "# Initialize data sets.\n",
    "gx = []\n",
    "gy = []\n",
    "\n",
    "# Constant multiple in Boyle's Law.\n",
    "k = 1\n",
    "\n",
    "# Boyle's Law is technically PV = k, where k is constant for that specific system, (It varies between systems.)\n",
    "# and P1V1 = P2V2 is only a result of this relationship. Students do not learn this however.\n",
    "# For simplicity k is set to 1.\n",
    "\n",
    "# Standard deviation. Arbitrary value.\n",
    "sd = 0.15\n",
    "\n",
    "# Randomly generate data based on user defined volume and number of trials.\n",
    "for i in range(0, N):\n",
    "    temp = np.random.random_sample() * volume\n",
    "    \n",
    "    # Prevent large outliers. The limit is arbitrary, it is just so the graph looks nice.\n",
    "    limit = np.random.random_sample() + 1\n",
    "    while(k/temp > volume/limit):\n",
    "        temp = np.random.random_sample() * volume\n",
    "    \n",
    "    outputx = np.random.uniform(temp-sd, temp+sd)\n",
    "    outputy = np.random.uniform((k/temp)-sd, (k/temp)+sd)\n",
    "    \n",
    "    gx.append(outputx)\n",
    "    gy.append(outputy)\n",
    "    \n",
    "\n",
    "# Create a trace.\n",
    "trace = go.Scatter(\n",
    "    x = gx,\n",
    "    y = gy,\n",
    "    mode = 'markers'\n",
    ")\n",
    "\n",
    "# Label the graph.\n",
    "templayout = go.Layout(\n",
    "    title = 'Pressure vs. Volume',\n",
    "    xaxis = dict(title='Volume'),\n",
    "    yaxis = dict(title='Pressure')\n",
    ")\n",
    "\n",
    "# Plot graph\n",
    "tempdata = [trace]\n",
    "fig = go.Figure(data = tempdata, layout = templayout)\n",
    "py.iplot(fig, filename='basic-scatter')"
   ]
  },
  {
   "cell_type": "markdown",
   "metadata": {},
   "source": [
    "# Charles' Law\n",
    "In airbags, the temperature is originally extremely high due to the nitrogen gas inflates it. As a result, the volume of the airbag is quickly expanded due to the directly proportional relationship between the temperature and the volume of the gas. When the airbag is later exposed to the outside air, the temperature decreases significantly which causes the volume of the airbag to decrease to a smaller size, creating a softer cushion for the impact.\n",
    "\n",
    "This relationship between the two variables of volume and temperature is a direct relationship which is defined by the Charle's Law, the idea that the temperature and the volume have an direcly proportional relationship at a constant pressure. It can be expressed by the equation below: ![P1/T1=P2/T2](Images/charles-law.png)\n",
    "\n"
   ]
  },
  {
   "cell_type": "markdown",
   "metadata": {},
   "source": [
    "# Gay-Lussac's Law\n",
    "In bullet guns, you will see a plume of smoke as the gunpowder burns and the bullet whizzes out. The increase in temperature will cause an increase in the pressure which forces the bullet out of the barrel. \n",
    "\n",
    "In technical terms, the average kinetic energy of the molecule is referred as the temperature, and the density of the particles is referred as the pressure. The relationship between the two variables is a direct relationship which is defined by the Gay-Lussac's Law, the idea that the temperature and the pressure have an directly proportional relationship at a constant volume. It can be expressed by the euqation below: ![P1/T1=P2/T2](Images/Gay-Lussacs-Law.png)\n"
   ]
  },
  {
   "cell_type": "code",
   "execution_count": null,
   "metadata": {},
   "outputs": [],
   "source": []
  }
 ],
 "metadata": {
  "kernelspec": {
   "display_name": "Python 3",
   "language": "python",
   "name": "python3"
  },
  "language_info": {
   "codemirror_mode": {
    "name": "ipython",
    "version": 3
   },
   "file_extension": ".py",
   "mimetype": "text/x-python",
   "name": "python",
   "nbconvert_exporter": "python",
   "pygments_lexer": "ipython3",
   "version": "3.7.0"
  }
 },
 "nbformat": 4,
 "nbformat_minor": 2
}
