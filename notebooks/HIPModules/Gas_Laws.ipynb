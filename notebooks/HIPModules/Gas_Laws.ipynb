{
 "cells": [
  {
   "cell_type": "markdown",
   "metadata": {},
   "source": [
    "<img src=\"../images/Callysto_Notebook-Banner_Top_06.06.18.jpg\"/>"
   ]
  },
  {
   "cell_type": "code",
   "execution_count": 1,
   "metadata": {},
   "outputs": [
    {
     "name": "stdout",
     "output_type": "stream",
     "text": [
      "Hidden code segment block.\n"
     ]
    },
    {
     "data": {
      "text/html": [
       "<script>\n",
       "code_show=true; \n",
       "function code_toggle() {\n",
       "  if (code_show) {\n",
       "    $('div.input').each(function(id) {\n",
       "      el = $(this).find('.cm-variable:first');\n",
       "      if (id == 0 || el.text() == 'hide_me') {\n",
       "        $(this).hide();\n",
       "      }\n",
       "    });\n",
       "    $('div.output_prompt').css('opacity', 0);\n",
       "  } else {\n",
       "    $('div.input').each(function(id) {\n",
       "      $(this).show();\n",
       "    });\n",
       "    $('div.output_prompt').css('opacity', 1);\n",
       "  }\n",
       "  code_show = !code_show\n",
       "} \n",
       "$( document ).ready(code_toggle);\n",
       "</script>\n",
       "<form action=\"javascript:code_toggle()\"><input style=\"opacity:0\" type=\"submit\" value=\"Click here to toggle on/off the raw code.\"></form>"
      ],
      "text/plain": [
       "<IPython.core.display.HTML object>"
      ]
     },
     "execution_count": 1,
     "metadata": {},
     "output_type": "execute_result"
    }
   ],
   "source": [
    "# Temperary code placement to store code for hiding cells.\n",
    "\n",
    "from IPython.display import HTML\n",
    "\n",
    "hide_me = HTML('''<script>\n",
    "code_show=true; \n",
    "function code_toggle() {\n",
    "  if (code_show) {\n",
    "    $('div.input').each(function(id) {\n",
    "      el = $(this).find('.cm-variable:first');\n",
    "      if (id == 0 || el.text() == 'hide_me') {\n",
    "        $(this).hide();\n",
    "      }\n",
    "    });\n",
    "    $('div.output_prompt').css('opacity', 0);\n",
    "  } else {\n",
    "    $('div.input').each(function(id) {\n",
    "      $(this).show();\n",
    "    });\n",
    "    $('div.output_prompt').css('opacity', 1);\n",
    "  }\n",
    "  code_show = !code_show\n",
    "} \n",
    "$( document ).ready(code_toggle);\n",
    "</script>\n",
    "<form action=\"javascript:code_toggle()\"><input style=\"opacity:0\" type=\"submit\" value=\"Click here to toggle on/off the raw code.\"></form>''')\n",
    "\n",
    "print(\"Hidden code segment block.\")\n",
    "\n",
    "hide_me"
   ]
  },
  {
   "cell_type": "markdown",
   "metadata": {},
   "source": [
    "# Pre-requisites / Background\n",
    "\n",
    "[comment]: # (This curriculum objective is from before the curriculum remake. It may still be an objective after though.)\n",
    "**Alberta Curriculum Objective: Illustrate how Boyle's and Charles's laws, individually and combined, are related to the ideal gas law (PV = nRT ).**\n",
    "http://www.learnalberta.ca/ProgramOfStudy.aspx?lang=en&ProgramId=525479#707983\n",
    "\n",
    "In this notebook we will be working with Boyle's Law, Charles' Law, and Gay-Lussac's Law to build up to introducing the combined gas law, with a statistics extension.\n",
    "\n",
    "We are expecting that the students understand Celsius to Kelvin conversions, converting between pressure units, calculating experimental error, and Kinetic Molecular Theory (ideal gas assumptions). If they have already been introduced to these laws, this notebook will simply provide review and extra practice."
   ]
  },
  {
   "cell_type": "markdown",
   "metadata": {},
   "source": [
    "# Introduction\n",
    "Gases surround and shape the world around us all the time. From the air you breath to pneumatic gas-powered pistons that run our machinery, it is important to understand the properties of any given gas so we can better utilize it for our benefit. In a closed container, the pressure, temperature and volume dictate much of how a given gas behaves and understanding how these three properties relate to each other is fundamental to moving forward with our pursuit of understanding gas. Three laws were developed over time to correlate two of these properties at a time and assumes the third remains constant. These laws can in turn be integrated into the Combined Gas Law, which relates all three properties, assuming the amount of gas is constant."
   ]
  },
  {
   "cell_type": "markdown",
   "metadata": {},
   "source": [
    "# The Gas Laws\n",
    "## Boyle's Law\n",
    "How does the air pressure in your lungs and the volume of your lungs relate to help you breathe? When you breath out, you first greatly decrease the volume of your lungs. This increases the pressure exerted both on and by the air in your lungs, forcing the air out. When you breathe in, you first increase the volume of your lungs, and create an area of low air pressure in your lungs. Air from your environment then rushes into your lungs in an effort to re-establish equilibrium, and then the process repeats.\n",
    "\n",
    "The pressure and volume of a gas, assuming constant temperature, have a inverse relationship, and without this we would be unable to breathe. Through experimentation, in 1662 Robert Boyle was able to derive this relationship. Boyle's Law is as follows:\n",
    "## PV = k\n",
    "\n",
    "Where P is the pressure in the system, V is the volume, and k is a system-specific constant. You do not need to learn about k in Chemistry 20.\n",
    "\n",
    "If you recall back to kinetic molecular theory, the space the *isolated* gas particles occupy is considered the volume of the gas, and the pressure is the collective force the gas particles exert on the walls of its container. If the external pressure is increased, the volume available for the gas molecules is decreased. As a result, the gas molecules become closer together and will collide with each other and with the wall of the container more frequently. As the number of collisions increases, the average force exerted by the gas molecules is increased.\n",
    "\n",
    "For the purposes of Chemistry 20 is better to understand Boyle's Law as the following equation:\n",
    "## P<sub>1</sub>V<sub>1</sub> = P<sub>2</sub>V<sub>2</sub>\n",
    "This equation shows how changing pressure or volume impacts the other quantity when there is a change in the system. The P/V with the one subscript are the initial pressure and volume, and the P/V with two as a subscript are the quantities after the change. Use this equation for questions relating to Boyle's Law - the equation with k is not tested in the Chemistry 20 curriculum."
   ]
  },
  {
   "cell_type": "code",
   "execution_count": 128,
   "metadata": {},
   "outputs": [
    {
     "data": {
      "image/jpeg": "[encoded data removed]",
      "text/html": [
       "\n",
       "        <iframe\n",
       "            width=\"400\"\n",
       "            height=\"300\"\n",
       "            src=\"https://www.youtube.com/embed/27yqJ9vJ5kQ\"\n",
       "            frameborder=\"0\"\n",
       "            allowfullscreen\n",
       "        ></iframe>\n",
       "        "
      ],
      "text/plain": [
       "<IPython.lib.display.YouTubeVideo at 0x7f56830c5240>"
      ]
     },
     "metadata": {},
     "output_type": "display_data"
    }
   ],
   "source": [
    "# Here is a youtube video that is about Boyle's Law.\n",
    "# Run this code segment to bring the video into this Callysto notebook.\n",
    "\n",
    "from IPython.lib.display import YouTubeVideo\n",
    "display(YouTubeVideo('27yqJ9vJ5kQ'))"
   ]
  },
  {
   "cell_type": "markdown",
   "metadata": {},
   "source": [
    "It is important to understand that Boyle's Law is a special case for a gas system where temperature is constant. If in your studies you see a question where pressure or volume are being manipulated and temperature is either explicitly or implicitly stated to be constant, this question is addressing and testing Boyle's Law."
   ]
  },
  {
   "cell_type": "markdown",
   "metadata": {},
   "source": [
    "# Experiment\n",
    "Let's say we want to find the pressure in an adult male test subject's lungs when they are expanded to maximum capacity. The average lung capacity of an adult human male is 6L. We will test random lung capacities for N trials, and see how Boyle's Law shapes the relationship between pressure and volume."
   ]
  },
  {
   "cell_type": "code",
   "execution_count": 129,
   "metadata": {},
   "outputs": [],
   "source": [
    "# Change the variables in this cell to create your own experiment!\n",
    "\n",
    "# Max volume in liters.\n",
    "volume = 6\n",
    "\n",
    "# Number of trials.\n",
    "N = 100"
   ]
  },
  {
   "cell_type": "code",
   "execution_count": 131,
   "metadata": {
    "scrolled": false
   },
   "outputs": [
    {
     "data": {
      "text/html": [
       "<script>requirejs.config({paths: { 'plotly': ['https://cdn.plot.ly/plotly-latest.min']},});if(!window.Plotly) {{require(['plotly'],function(plotly) {window.Plotly=plotly;});}}</script>"
      ],
      "text/vnd.plotly.v1+html": [
       "<script>requirejs.config({paths: { 'plotly': ['https://cdn.plot.ly/plotly-latest.min']},});if(!window.Plotly) {{require(['plotly'],function(plotly) {window.Plotly=plotly;});}}</script>"
      ]
     },
     "metadata": {},
     "output_type": "display_data"
    },
    {
     "data": {
      "application/vnd.plotly.v1+json": {
       "data": [
        {
         "mode": "markers",
         "type": "scatter",
         "x": [
          4.501868572722083,
          1.4422174098667557,
          1.1736381005434096,
          1.451452745339429,
          3.552870725013212,
          0.786195297099495,
          4.819370039275442,
          5.555505473440979,
          1.778985666621703,
          4.652237252159575,
          0.42339978848052273,
          3.2858451669236812,
          0.9083258619777955,
          3.564475178522048,
          4.3830698450949175,
          1.7515061119749058,
          0.679211910146964,
          4.637146587294225,
          3.9264086026914296,
          5.683879465545711,
          1.3413084258071888,
          4.149728372155806,
          1.433272605942208,
          6.133903560988574,
          0.986907383541895,
          3.312213852787338,
          4.599752022149188,
          2.640980239140711,
          4.497945485820431,
          6.021264169571491,
          0.5861239098076662,
          3.3123636621517853,
          4.021340020497488,
          0.2854678448522159,
          2.5576227236063893,
          0.98838458773298,
          5.01173836335269,
          2.1795765487191523,
          3.9304260407924545,
          5.378803727521408,
          3.3775768039665195,
          3.802701493250116,
          4.9486284171605295,
          3.252246967309501,
          3.8605953341677157,
          2.31640098741427,
          1.0843163546895964,
          2.9526270237675867,
          0.7380006791272381,
          4.533524221503468,
          1.674406689414697,
          1.003282843258987,
          3.6928049488119696,
          1.4686821476559595,
          5.867247459751459,
          3.484923068415611,
          5.620983021521531,
          5.486621019918955,
          3.468883232975433,
          2.794660582324447,
          0.6258723387964966,
          2.2667463130507413,
          3.4737668948754883,
          2.647396634443773,
          4.543953506810099,
          3.7629384378401967,
          0.22735731944950655,
          4.822578326580374,
          1.6015399222565554,
          2.086996666987751,
          3.087150919926997,
          3.6547882023387217,
          0.7897094026699268,
          1.6887565046598334,
          1.7522258938974011,
          2.5892035083391045,
          2.763321327977142,
          1.0726882580469699,
          3.13057938802082,
          0.5817552741724423,
          3.738320198549715,
          2.074188159071778,
          5.884609618331757,
          4.337176480316464,
          0.33473791322674407,
          3.500011865986461,
          4.7338806888645495,
          2.2394148442737802,
          4.80522159310726,
          3.8532748959748107,
          2.7598279304977487,
          1.8664870868004555,
          5.498960169855895,
          4.262299489029312,
          5.809543347015731,
          1.3727422581087605,
          3.6559548503985675,
          2.274633940496178,
          0.9895910381811677,
          0.852389625162586
         ],
         "y": [
          0.2572774374074423,
          0.7334037078419244,
          0.5875116912187898,
          0.7053712739503457,
          0.31012745066889946,
          1.6038963428475637,
          0.492405878731487,
          0.3614657784310947,
          0.6112972902811284,
          0.228737542668085,
          3.367037143402855,
          0.23484519467472245,
          0.7430400920916429,
          0.1851760110053583,
          0.08509439958504345,
          0.5492628012945895,
          1.590867191117174,
          -0.021357754535132542,
          0.4653981414942043,
          0.1716866102945327,
          0.8579356665968686,
          0.18774143367211796,
          0.26346717907423534,
          0.29440897527822013,
          1.2213938131324107,
          0.08003973084828428,
          0.1803404562416422,
          0.19498142580943117,
          0.2974296891577574,
          0.2099030187722219,
          2.0276101614107427,
          0.5045982448953413,
          0.31096369855026285,
          3.0517411299849275,
          0.4415999369940532,
          0.8544424145847143,
          0.20578551492372724,
          0.5274149441644367,
          0.07049142879466214,
          0.6208450835544543,
          0.3546509278629485,
          0.6461636428711304,
          0.28931544080280197,
          0.1921848448938877,
          0.15559672434496996,
          0.24052887104352483,
          0.9643263759627341,
          0.5255619425295223,
          1.4150691126774873,
          0.3830405473823396,
          0.5799738242246366,
          0.9239479987258274,
          0.3440439063732159,
          0.44375741398879104,
          0.32691596433946435,
          0.3690348213688795,
          0.15563966293163564,
          0.1799333348262327,
          -0.14738735939666336,
          0.36289082698147135,
          1.2551271551218646,
          0.15496513286103208,
          0.13663865091713345,
          0.26682646124834786,
          0.24791216757233242,
          0.6341635084030478,
          1.9786702459269367,
          0.3041279168974751,
          0.7444661477595633,
          0.4263337986799347,
          0.2813933256836181,
          0.37575052340663373,
          1.2968847617368773,
          0.746954672262785,
          0.3984117102779161,
          0.6342964260074262,
          0.44295463539820507,
          1.2555833097578708,
          0.14332199482974475,
          1.5497031199957294,
          0.2126156995262664,
          0.5464302857948831,
          0.3894827354876886,
          0.38588087219658673,
          2.7403386266301344,
          0.3352582066278844,
          0.01195153184952738,
          0.5125578977000749,
          0.3543092847576832,
          0.16288158595131935,
          0.2258766450462094,
          0.3397829277945997,
          0.45658352186096796,
          0.231684193716856,
          -0.12080662880668451,
          0.8446252057244511,
          0.2738407813971432,
          0.503092097723415,
          0.9530814619674359,
          1.8167280633745984
         ]
        }
       ],
       "layout": {
        "title": "Pressure vs. Volume",
        "xaxis": {
         "title": "Volume"
        },
        "yaxis": {
         "title": "Pressure"
        }
       }
      },
      "text/html": [
       "<div id=\"c1a77e09-4270-4d0a-a38d-0bffa58fd85c\" style=\"height: 525px; width: 100%;\" class=\"plotly-graph-div\"></div><script type=\"text/javascript\">require([\"plotly\"], function(Plotly) { window.PLOTLYENV=window.PLOTLYENV || {};window.PLOTLYENV.BASE_URL=\"https://plot.ly\";Plotly.newPlot(\"c1a77e09-4270-4d0a-a38d-0bffa58fd85c\", [{\"type\": \"scatter\", \"x\": [4.501868572722083, 1.4422174098667557, 1.1736381005434096, 1.451452745339429, 3.552870725013212, 0.786195297099495, 4.819370039275442, 5.555505473440979, 1.778985666621703, 4.652237252159575, 0.42339978848052273, 3.2858451669236812, 0.9083258619777955, 3.564475178522048, 4.3830698450949175, 1.7515061119749058, 0.679211910146964, 4.637146587294225, 3.9264086026914296, 5.683879465545711, 1.3413084258071888, 4.149728372155806, 1.433272605942208, 6.133903560988574, 0.986907383541895, 3.312213852787338, 4.599752022149188, 2.640980239140711, 4.497945485820431, 6.021264169571491, 0.5861239098076662, 3.3123636621517853, 4.021340020497488, 0.2854678448522159, 2.5576227236063893, 0.98838458773298, 5.01173836335269, 2.1795765487191523, 3.9304260407924545, 5.378803727521408, 3.3775768039665195, 3.802701493250116, 4.9486284171605295, 3.252246967309501, 3.8605953341677157, 2.31640098741427, 1.0843163546895964, 2.9526270237675867, 0.7380006791272381, 4.533524221503468, 1.674406689414697, 1.003282843258987, 3.6928049488119696, 1.4686821476559595, 5.867247459751459, 3.484923068415611, 5.620983021521531, 5.486621019918955, 3.468883232975433, 2.794660582324447, 0.6258723387964966, 2.2667463130507413, 3.4737668948754883, 2.647396634443773, 4.543953506810099, 3.7629384378401967, 0.22735731944950655, 4.822578326580374, 1.6015399222565554, 2.086996666987751, 3.087150919926997, 3.6547882023387217, 0.7897094026699268, 1.6887565046598334, 1.7522258938974011, 2.5892035083391045, 2.763321327977142, 1.0726882580469699, 3.13057938802082, 0.5817552741724423, 3.738320198549715, 2.074188159071778, 5.884609618331757, 4.337176480316464, 0.33473791322674407, 3.500011865986461, 4.7338806888645495, 2.2394148442737802, 4.80522159310726, 3.8532748959748107, 2.7598279304977487, 1.8664870868004555, 5.498960169855895, 4.262299489029312, 5.809543347015731, 1.3727422581087605, 3.6559548503985675, 2.274633940496178, 0.9895910381811677, 0.852389625162586], \"y\": [0.2572774374074423, 0.7334037078419244, 0.5875116912187898, 0.7053712739503457, 0.31012745066889946, 1.6038963428475637, 0.492405878731487, 0.3614657784310947, 0.6112972902811284, 0.228737542668085, 3.367037143402855, 0.23484519467472245, 0.7430400920916429, 0.1851760110053583, 0.08509439958504345, 0.5492628012945895, 1.590867191117174, -0.021357754535132542, 0.4653981414942043, 0.1716866102945327, 0.8579356665968686, 0.18774143367211796, 0.26346717907423534, 0.29440897527822013, 1.2213938131324107, 0.08003973084828428, 0.1803404562416422, 0.19498142580943117, 0.2974296891577574, 0.2099030187722219, 2.0276101614107427, 0.5045982448953413, 0.31096369855026285, 3.0517411299849275, 0.4415999369940532, 0.8544424145847143, 0.20578551492372724, 0.5274149441644367, 0.07049142879466214, 0.6208450835544543, 0.3546509278629485, 0.6461636428711304, 0.28931544080280197, 0.1921848448938877, 0.15559672434496996, 0.24052887104352483, 0.9643263759627341, 0.5255619425295223, 1.4150691126774873, 0.3830405473823396, 0.5799738242246366, 0.9239479987258274, 0.3440439063732159, 0.44375741398879104, 0.32691596433946435, 0.3690348213688795, 0.15563966293163564, 0.1799333348262327, -0.14738735939666336, 0.36289082698147135, 1.2551271551218646, 0.15496513286103208, 0.13663865091713345, 0.26682646124834786, 0.24791216757233242, 0.6341635084030478, 1.9786702459269367, 0.3041279168974751, 0.7444661477595633, 0.4263337986799347, 0.2813933256836181, 0.37575052340663373, 1.2968847617368773, 0.746954672262785, 0.3984117102779161, 0.6342964260074262, 0.44295463539820507, 1.2555833097578708, 0.14332199482974475, 1.5497031199957294, 0.2126156995262664, 0.5464302857948831, 0.3894827354876886, 0.38588087219658673, 2.7403386266301344, 0.3352582066278844, 0.01195153184952738, 0.5125578977000749, 0.3543092847576832, 0.16288158595131935, 0.2258766450462094, 0.3397829277945997, 0.45658352186096796, 0.231684193716856, -0.12080662880668451, 0.8446252057244511, 0.2738407813971432, 0.503092097723415, 0.9530814619674359, 1.8167280633745984], \"mode\": \"markers\"}], {\"title\": \"Pressure vs. Volume\", \"xaxis\": {\"title\": \"Volume\"}, \"yaxis\": {\"title\": \"Pressure\"}}, {\"showLink\": true, \"linkText\": \"Export to plot.ly\"})});</script>"
      ],
      "text/vnd.plotly.v1+html": [
       "<div id=\"c1a77e09-4270-4d0a-a38d-0bffa58fd85c\" style=\"height: 525px; width: 100%;\" class=\"plotly-graph-div\"></div><script type=\"text/javascript\">require([\"plotly\"], function(Plotly) { window.PLOTLYENV=window.PLOTLYENV || {};window.PLOTLYENV.BASE_URL=\"https://plot.ly\";Plotly.newPlot(\"c1a77e09-4270-4d0a-a38d-0bffa58fd85c\", [{\"type\": \"scatter\", \"x\": [4.501868572722083, 1.4422174098667557, 1.1736381005434096, 1.451452745339429, 3.552870725013212, 0.786195297099495, 4.819370039275442, 5.555505473440979, 1.778985666621703, 4.652237252159575, 0.42339978848052273, 3.2858451669236812, 0.9083258619777955, 3.564475178522048, 4.3830698450949175, 1.7515061119749058, 0.679211910146964, 4.637146587294225, 3.9264086026914296, 5.683879465545711, 1.3413084258071888, 4.149728372155806, 1.433272605942208, 6.133903560988574, 0.986907383541895, 3.312213852787338, 4.599752022149188, 2.640980239140711, 4.497945485820431, 6.021264169571491, 0.5861239098076662, 3.3123636621517853, 4.021340020497488, 0.2854678448522159, 2.5576227236063893, 0.98838458773298, 5.01173836335269, 2.1795765487191523, 3.9304260407924545, 5.378803727521408, 3.3775768039665195, 3.802701493250116, 4.9486284171605295, 3.252246967309501, 3.8605953341677157, 2.31640098741427, 1.0843163546895964, 2.9526270237675867, 0.7380006791272381, 4.533524221503468, 1.674406689414697, 1.003282843258987, 3.6928049488119696, 1.4686821476559595, 5.867247459751459, 3.484923068415611, 5.620983021521531, 5.486621019918955, 3.468883232975433, 2.794660582324447, 0.6258723387964966, 2.2667463130507413, 3.4737668948754883, 2.647396634443773, 4.543953506810099, 3.7629384378401967, 0.22735731944950655, 4.822578326580374, 1.6015399222565554, 2.086996666987751, 3.087150919926997, 3.6547882023387217, 0.7897094026699268, 1.6887565046598334, 1.7522258938974011, 2.5892035083391045, 2.763321327977142, 1.0726882580469699, 3.13057938802082, 0.5817552741724423, 3.738320198549715, 2.074188159071778, 5.884609618331757, 4.337176480316464, 0.33473791322674407, 3.500011865986461, 4.7338806888645495, 2.2394148442737802, 4.80522159310726, 3.8532748959748107, 2.7598279304977487, 1.8664870868004555, 5.498960169855895, 4.262299489029312, 5.809543347015731, 1.3727422581087605, 3.6559548503985675, 2.274633940496178, 0.9895910381811677, 0.852389625162586], \"y\": [0.2572774374074423, 0.7334037078419244, 0.5875116912187898, 0.7053712739503457, 0.31012745066889946, 1.6038963428475637, 0.492405878731487, 0.3614657784310947, 0.6112972902811284, 0.228737542668085, 3.367037143402855, 0.23484519467472245, 0.7430400920916429, 0.1851760110053583, 0.08509439958504345, 0.5492628012945895, 1.590867191117174, -0.021357754535132542, 0.4653981414942043, 0.1716866102945327, 0.8579356665968686, 0.18774143367211796, 0.26346717907423534, 0.29440897527822013, 1.2213938131324107, 0.08003973084828428, 0.1803404562416422, 0.19498142580943117, 0.2974296891577574, 0.2099030187722219, 2.0276101614107427, 0.5045982448953413, 0.31096369855026285, 3.0517411299849275, 0.4415999369940532, 0.8544424145847143, 0.20578551492372724, 0.5274149441644367, 0.07049142879466214, 0.6208450835544543, 0.3546509278629485, 0.6461636428711304, 0.28931544080280197, 0.1921848448938877, 0.15559672434496996, 0.24052887104352483, 0.9643263759627341, 0.5255619425295223, 1.4150691126774873, 0.3830405473823396, 0.5799738242246366, 0.9239479987258274, 0.3440439063732159, 0.44375741398879104, 0.32691596433946435, 0.3690348213688795, 0.15563966293163564, 0.1799333348262327, -0.14738735939666336, 0.36289082698147135, 1.2551271551218646, 0.15496513286103208, 0.13663865091713345, 0.26682646124834786, 0.24791216757233242, 0.6341635084030478, 1.9786702459269367, 0.3041279168974751, 0.7444661477595633, 0.4263337986799347, 0.2813933256836181, 0.37575052340663373, 1.2968847617368773, 0.746954672262785, 0.3984117102779161, 0.6342964260074262, 0.44295463539820507, 1.2555833097578708, 0.14332199482974475, 1.5497031199957294, 0.2126156995262664, 0.5464302857948831, 0.3894827354876886, 0.38588087219658673, 2.7403386266301344, 0.3352582066278844, 0.01195153184952738, 0.5125578977000749, 0.3543092847576832, 0.16288158595131935, 0.2258766450462094, 0.3397829277945997, 0.45658352186096796, 0.231684193716856, -0.12080662880668451, 0.8446252057244511, 0.2738407813971432, 0.503092097723415, 0.9530814619674359, 1.8167280633745984], \"mode\": \"markers\"}], {\"title\": \"Pressure vs. Volume\", \"xaxis\": {\"title\": \"Volume\"}, \"yaxis\": {\"title\": \"Pressure\"}}, {\"showLink\": true, \"linkText\": \"Export to plot.ly\"})});</script>"
      ]
     },
     "metadata": {},
     "output_type": "display_data"
    }
   ],
   "source": [
    "# Imports, special lines of code to help generate the graph.\n",
    "import plotly.offline as py\n",
    "from plotly.offline import init_notebook_mode, iplot\n",
    "import plotly.graph_objs as go\n",
    "import numpy as np\n",
    "import math\n",
    "init_notebook_mode(connected=True)\n",
    "\n",
    "# Initialize data sets. This makes sure it does not graph old data from previous experiments.\n",
    "gx = []\n",
    "gy = []\n",
    "\n",
    "# Constant multiple in Boyle's Law.\n",
    "k = 1\n",
    "\n",
    "# Boyle's Law is technically PV = k, where k is constant for that specific system, (It varies between systems.)\n",
    "# and P1V1 = P2V2 is only a result of this relationship. Students do not need to learn this however.\n",
    "# For simplicity k is set to 1.\n",
    "\n",
    "# Randomly generate data based on user defined volume and number of trials.\n",
    "for i in range(0, N):\n",
    "    temp = np.random.random_sample() * volume\n",
    "    \n",
    "    # Prevent large outliers.\n",
    "    # The limit is arbitrary, it is just so the graph looks nice and so the relationship looks nice.\n",
    "    limit = np.random.random_sample() + 1\n",
    "    while(k/temp > volume/limit):\n",
    "        temp = np.random.random_sample() * volume\n",
    "    \n",
    "    # Add the values to the list of data.\n",
    "    outputx = np.random.uniform(temp-(np.random.random_sample()/2), temp+(np.random.random_sample()/2))\n",
    "    outputy = np.random.uniform((k/temp)-(np.random.random_sample()/2), (k/temp)+(np.random.random_sample()/2))\n",
    "    gx.append(outputx)\n",
    "    gy.append(outputy)\n",
    "\n",
    "# Plot graph.\n",
    "trace = go.Scatter(x=gx, y=gy, mode='markers')\n",
    "templayout = go.Layout( title='Pressure vs. Volume', xaxis=dict(title='Volume'), yaxis=dict(title='Pressure') )\n",
    "tempdata = [trace]\n",
    "fig = go.Figure(data=tempdata, layout=templayout)\n",
    "py.iplot(fig, filename='scatter-plot')"
   ]
  },
  {
   "cell_type": "markdown",
   "metadata": {},
   "source": [
    "# Questions\n",
    "There are three questions below that test Boyle's Law. There is a code segment that you can run after each question to check your answer. Before you do so though, run the code segment below this text. Each of the answers are encrypted, and this code decrypts it in order to test if it is correct. To be extra clear, the long string of characters and numbers such as `845e85fa64a2d6037055beba19fe0bd8` that you will see is not the answer, it is the encrypted answer. Furthermore, round to the nearest significant figure."
   ]
  },
  {
   "cell_type": "code",
   "execution_count": 126,
   "metadata": {},
   "outputs": [],
   "source": [
    "# Imports.\n",
    "from IPython.display import display \n",
    "from ipywidgets import widgets\n",
    "import hashlib\n",
    "\n",
    "# Check the answer given by the student.\n",
    "def check_answer(x):\n",
    "    temp = -10000\n",
    "    try:\n",
    "        temp = hashlib.md5(str.encode(str(text.value))).hexdigest()\n",
    "    except:\n",
    "        print(\"Not a number.\")\n",
    "    if(temp == answer and temp != -10000):\n",
    "        print(\"Correct!\")\n",
    "    else:\n",
    "        print(\"Incorrect. Try again!\")"
   ]
  },
  {
   "cell_type": "markdown",
   "metadata": {},
   "source": [
    "1. Assume the temperature and the number of gas molecules stay constant within the adult’s lung. Initially, the capacity of the lung is 3.4 liters, and the pressure in the adult’s lung is 15 mmHg. When the lung is expanded to the maximum capacity (average maximum capacity of adult's lung is 6 liters), use Boyle’s Law to determine the new pressure in mmHg within the adult’s lung. "
   ]
  },
  {
   "cell_type": "code",
   "execution_count": 127,
   "metadata": {},
   "outputs": [
    {
     "data": {
      "application/vnd.jupyter.widget-view+json": {
       "model_id": "d836f60c2e424adbb1153a7367ba1503",
       "version_major": 2,
       "version_minor": 0
      },
      "text/plain": [
       "Text(value='')"
      ]
     },
     "metadata": {},
     "output_type": "display_data"
    },
    {
     "name": "stdout",
     "output_type": "stream",
     "text": [
      "Correct!\n",
      "Correct!\n",
      "Incorrect. Try again!\n",
      "Incorrect. Try again!\n",
      "Incorrect. Try again!\n",
      "Incorrect. Try again!\n",
      "Incorrect. Try again!\n",
      "Incorrect. Try again!\n",
      "Incorrect. Try again!\n"
     ]
    }
   ],
   "source": [
    "# Encrypted answer.\n",
    "answer = '845e85fa64a2d6037055beba19fe0bd8'\n",
    "\n",
    "# Create answer box.\n",
    "text = widgets.Text()\n",
    "display(text)\n",
    "text.on_submit(check_answer)"
   ]
  },
  {
   "cell_type": "markdown",
   "metadata": {},
   "source": [
    "2. Assume the temperature and the number of gas molecules stay constant within the balloon. A small gas container has 90 milliliters of nitrogen which in pumped into a balloon with a pressure of 1.0 atm. The balloon is sealed tightly, and it is released and raised to a higher altitude where the atmospheric pressure is 50 kPa. Find the final volume of the balloon in liters as it raises up to the mountain. "
   ]
  },
  {
   "cell_type": "code",
   "execution_count": 96,
   "metadata": {},
   "outputs": [
    {
     "data": {
      "application/vnd.jupyter.widget-view+json": {
       "model_id": "1df91246decc49c3b47faa532f8f6e49",
       "version_major": 2,
       "version_minor": 0
      },
      "text/plain": [
       "Text(value='')"
      ]
     },
     "metadata": {},
     "output_type": "display_data"
    },
    {
     "name": "stdout",
     "output_type": "stream",
     "text": [
      "c6e10b90290ed2ee26046b9976bf9f02\n",
      "Correct!\n"
     ]
    }
   ],
   "source": [
    "# Encrypted answer.\n",
    "answer = 'c6e10b90290ed2ee26046b9976bf9f02'\n",
    "\n",
    "# Create answer box.\n",
    "text = widgets.Text()\n",
    "display(text)\n",
    "text.on_submit(check_answer)"
   ]
  },
  {
   "cell_type": "markdown",
   "metadata": {},
   "source": [
    "3. Assume the temperature and the number of gas molecules stay constant within a flexible plastic pump. With the pump closed, by what factor does pressure need to change in order for the volume of the pump to be half of its original size? "
   ]
  },
  {
   "cell_type": "code",
   "execution_count": 100,
   "metadata": {},
   "outputs": [
    {
     "data": {
      "application/vnd.jupyter.widget-view+json": {
       "model_id": "17548919f6fe4965bab42f0fbc8b2130",
       "version_major": 2,
       "version_minor": 0
      },
      "text/plain": [
       "Text(value='')"
      ]
     },
     "metadata": {},
     "output_type": "display_data"
    },
    {
     "name": "stdout",
     "output_type": "stream",
     "text": [
      "c81e728d9d4c2f636f067f89cc14862c\n",
      "Correct!\n"
     ]
    }
   ],
   "source": [
    "# Encrypted answer.\n",
    "answer = 'c81e728d9d4c2f636f067f89cc14862c'\n",
    "\n",
    "# Create answer box.\n",
    "text = widgets.Text()\n",
    "display(text)\n",
    "text.on_submit(check_answer)"
   ]
  },
  {
   "cell_type": "markdown",
   "metadata": {},
   "source": [
    "# Charles' Law\n",
    "The temperature of the nitrogen gas in airbags is originally extremely high so that the volume of the airbag is expands quickly due to the directly proportional relationship between the temperature and the volume of the gas. When the airbag is later exposed to the cooler outside air, the temperature of the nitrogen gas gradually changes which causes the volume of the airbag to slowly decrease in size, creating a softer cushion for the impact. This relationship, where pressure is constant, was developed in 1787 by Jacques Charles. It can be expressed by the equation below: ![V1/T1=V2/T2](Images/charles-law.png)\n",
    "\n",
    "# Optional Reading - Pressure does change, but returns to its original value\n",
    "Using the kinetic molecular theory to explain the Charles' Law, imagine that the pressure and the chemical amount of gas are held constant using a piston. When the temperature of the gas molecules increases, the gas molecules will move at a higher speed because temperature and the average kinetic energy of the gas molecules have a direct relationship. As a result, gas molecules will collide with each other and with walls of the container more frequently which exerts a greater force on the wall of container. Because the external pressure on the container is held constant, but the gas pressure inside the container are increased, the piston of the container is pushed up to increase the volume of the container."
   ]
  },
  {
   "cell_type": "markdown",
   "metadata": {},
   "source": [
    "# Experiment\n",
    "Let's say we want to drive a car into a wall but save our crash test dummy with a standard airbag that has an average volume of 70L when inflated. We will run a few simulations to find out what average temperature we need the nitrogen gas to be at to inflate the airbag to the desired volume. "
   ]
  },
  {
   "cell_type": "code",
   "execution_count": 16,
   "metadata": {},
   "outputs": [],
   "source": [
    "# Imports, information to help generate graph.\n",
    "import plotly.offline as py\n",
    "from plotly.offline import init_notebook_mode, iplot\n",
    "import plotly.graph_objs as go\n",
    "import numpy as np\n",
    "import random"
   ]
  },
  {
   "cell_type": "code",
   "execution_count": 84,
   "metadata": {},
   "outputs": [],
   "source": [
    "#STEP 1\n",
    "#set these values ONCE at the beginning of your experiment\n",
    "\n",
    "ave_volume=10 #in litres\n",
    "sd=10 # Standard deviation of the data. More information: Intro to Standard Deviation Notebook\n",
    "\n",
    "volumes = []\n",
    "temps = []\n",
    "trials = []"
   ]
  },
  {
   "cell_type": "code",
   "execution_count": 87,
   "metadata": {},
   "outputs": [],
   "source": [
    "#STEP 2\n",
    "#run this cell to generate values to populate your table, then run the table-generating cell\n",
    "yielded = random.uniform((ave_volume-sd), (ave_volume+sd))\n",
    "\n",
    "volume = round(yielded, 2)\n",
    "volumes.append(volume)\n",
    "\n",
    "k = 0.56 #constant for simplicity\n",
    "temps.append(k*volume)\n",
    "\n",
    "if len(volumes) > len(trials):\n",
    "    trials.append('Trial ' + str(len(volumes)))"
   ]
  },
  {
   "cell_type": "code",
   "execution_count": 88,
   "metadata": {},
   "outputs": [
    {
     "data": {
      "text/html": [
       "<script>requirejs.config({paths: { 'plotly': ['https://cdn.plot.ly/plotly-latest.min']},});if(!window.Plotly) {{require(['plotly'],function(plotly) {window.Plotly=plotly;});}}</script>"
      ],
      "text/vnd.plotly.v1+html": [
       "<script>requirejs.config({paths: { 'plotly': ['https://cdn.plot.ly/plotly-latest.min']},});if(!window.Plotly) {{require(['plotly'],function(plotly) {window.Plotly=plotly;});}}</script>"
      ]
     },
     "metadata": {},
     "output_type": "display_data"
    },
    {
     "data": {
      "application/vnd.plotly.v1+json": {
       "data": [
        {
         "name": "Volume",
         "type": "bar",
         "uid": "be36f614-853b-11e8-a48f-28cfe9142f7f",
         "x": [
          "Trial 1",
          "Trial 2"
         ],
         "y": [
          63.19,
          77.23
         ]
        },
        {
         "name": "Temperature",
         "type": "bar",
         "uid": "be36f948-853b-11e8-a48f-28cfe9142f7f",
         "x": [
          "Trial 1",
          "Trial 2"
         ],
         "y": [
          35.3864,
          43.2488
         ]
        }
       ],
       "layout": {
        "barmode": "group"
       }
      },
      "text/html": [
       "<div id=\"2a98488c-ba03-4d27-a4a6-f85811eddc55\" style=\"height: 525px; width: 100%;\" class=\"plotly-graph-div\"></div><script type=\"text/javascript\">require([\"plotly\"], function(Plotly) { window.PLOTLYENV=window.PLOTLYENV || {};window.PLOTLYENV.BASE_URL=\"https://plot.ly\";\n",
       "        Plotly.plot(\n",
       "            '2a98488c-ba03-4d27-a4a6-f85811eddc55',\n",
       "            [{\"name\": \"Volume\", \"x\": [\"Trial 1\", \"Trial 2\"], \"y\": [63.19, 77.23], \"type\": \"bar\", \"uid\": \"be36f614-853b-11e8-a48f-28cfe9142f7f\"}, {\"name\": \"Temperature\", \"x\": [\"Trial 1\", \"Trial 2\"], \"y\": [35.3864, 43.2488], \"type\": \"bar\", \"uid\": \"be36f948-853b-11e8-a48f-28cfe9142f7f\"}],\n",
       "            {\"barmode\": \"group\"},\n",
       "            {\"showLink\": true, \"linkText\": \"Export to plot.ly\"}\n",
       "        ).then(function () {return Plotly.addFrames('2a98488c-ba03-4d27-a4a6-f85811eddc55',{});}).then(function(){Plotly.animate('2a98488c-ba03-4d27-a4a6-f85811eddc55');})\n",
       "        });</script>"
      ],
      "text/vnd.plotly.v1+html": [
       "<div id=\"2a98488c-ba03-4d27-a4a6-f85811eddc55\" style=\"height: 525px; width: 100%;\" class=\"plotly-graph-div\"></div><script type=\"text/javascript\">require([\"plotly\"], function(Plotly) { window.PLOTLYENV=window.PLOTLYENV || {};window.PLOTLYENV.BASE_URL=\"https://plot.ly\";\n",
       "        Plotly.plot(\n",
       "            '2a98488c-ba03-4d27-a4a6-f85811eddc55',\n",
       "            [{\"name\": \"Volume\", \"x\": [\"Trial 1\", \"Trial 2\"], \"y\": [63.19, 77.23], \"type\": \"bar\", \"uid\": \"be36f614-853b-11e8-a48f-28cfe9142f7f\"}, {\"name\": \"Temperature\", \"x\": [\"Trial 1\", \"Trial 2\"], \"y\": [35.3864, 43.2488], \"type\": \"bar\", \"uid\": \"be36f948-853b-11e8-a48f-28cfe9142f7f\"}],\n",
       "            {\"barmode\": \"group\"},\n",
       "            {\"showLink\": true, \"linkText\": \"Export to plot.ly\"}\n",
       "        ).then(function () {return Plotly.addFrames('2a98488c-ba03-4d27-a4a6-f85811eddc55',{});}).then(function(){Plotly.animate('2a98488c-ba03-4d27-a4a6-f85811eddc55');})\n",
       "        });</script>"
      ]
     },
     "metadata": {},
     "output_type": "display_data"
    }
   ],
   "source": [
    "#STEP 3\n",
    "#graph-generating cell - run after generating each new data pair\n",
    "\n",
    "init_notebook_mode(connected=True)\n",
    "\n",
    "#generates volume bars\n",
    "trace1 = go.Bar(\n",
    "    x=trials,\n",
    "    y=volumes,\n",
    "    name='Volume'\n",
    ")\n",
    "\n",
    "#generates temperature bars\n",
    "trace2 = go.Bar(\n",
    "    x=trials,\n",
    "    y=temps,\n",
    "    name='Temperature'\n",
    ")\n",
    "\n",
    "#gives graph grouped-bars layout\n",
    "data = [trace1, trace2]\n",
    "layout = go.Layout(\n",
    "    barmode='group'\n",
    ")\n",
    "\n",
    "#generates graph\n",
    "fig = go.Figure(data=data, layout=layout)\n",
    "py.iplot(fig, filename='grouped-bar')"
   ]
  },
  {
   "cell_type": "markdown",
   "metadata": {},
   "source": [
    "# Questions\n",
    "There are three questions below that test Charles' Law. There is a code segment that you can run after each question to check your answer. Before you do so though, run the code segment below this text. Each of the answers are encrypted, and this code decrypts it in order to test if it is correct. To be extra clear, the long string of characters and numbers such as `845e85fa64a2d6037055beba19fe0bd8` that you will see is not the answer, it is the encrypted answer. Furthermore, round to the nearest significant figure."
   ]
  },
  {
   "cell_type": "code",
   "execution_count": null,
   "metadata": {},
   "outputs": [],
   "source": [
    "# Imports.\n",
    "from IPython.display import display \n",
    "from ipywidgets import widgets\n",
    "import hashlib\n",
    "\n",
    "# Check the answer given by the student.\n",
    "def check_answer(x):\n",
    "    temp = -10000\n",
    "    try:\n",
    "        temp = hashlib.md5(str.encode(str(text.value))).hexdigest()\n",
    "    except:\n",
    "        print(\"Not a number.\")\n",
    "    if(temp == answer and temp != -10000):\n",
    "        print(\"Correct!\")\n",
    "    else:\n",
    "        print(\"Incorrect. Try again!\")"
   ]
  },
  {
   "cell_type": "markdown",
   "metadata": {},
   "source": [
    "1. A specific amount of gas molecules is sealed within a container with a movable piston. The initial volume of the gas within the cylinder is 3.0 liters at 10 degrees C. What will be the final volume of the gas container in liters when the temperature is raised up to 30 degrees C?  "
   ]
  },
  {
   "cell_type": "code",
   "execution_count": 102,
   "metadata": {},
   "outputs": [
    {
     "data": {
      "application/vnd.jupyter.widget-view+json": {
       "model_id": "db616941203846298597aaae6c5427bb",
       "version_major": 2,
       "version_minor": 0
      },
      "text/plain": [
       "Text(value='')"
      ]
     },
     "metadata": {},
     "output_type": "display_data"
    },
    {
     "name": "stdout",
     "output_type": "stream",
     "text": [
      "acff46b161a3b7d6ed01ba79a032acc9\n",
      "Correct!\n"
     ]
    }
   ],
   "source": [
    "# Encrypted answer.\n",
    "answer = 'acff46b161a3b7d6ed01ba79a032acc9'\n",
    "\n",
    "# Create answer box.\n",
    "text = widgets.Text()\n",
    "display(text)\n",
    "text.on_submit(check_answer)"
   ]
  },
  {
   "cell_type": "markdown",
   "metadata": {},
   "source": [
    "2. For a hot balloon that contains helium gas, it initially contains 1000$m^{3}$ at a temperature of 20.00 degrees C. As fire is burning at the bottom of the balloon, what is the minimum temperature in Celsius needed for the hot balloon in order for the volume to increase to 17000 $m^{3}$?\n"
   ]
  },
  {
   "cell_type": "code",
   "execution_count": 104,
   "metadata": {},
   "outputs": [
    {
     "data": {
      "application/vnd.jupyter.widget-view+json": {
       "model_id": "2224399d61dd4e4fae2d80ab0716d406",
       "version_major": 2,
       "version_minor": 0
      },
      "text/plain": [
       "Text(value='')"
      ]
     },
     "metadata": {},
     "output_type": "display_data"
    },
    {
     "name": "stdout",
     "output_type": "stream",
     "text": [
      "a78e17c964d3593d89cde3fb678f6a14\n",
      "Correct!\n"
     ]
    }
   ],
   "source": [
    "# Encrypted answer.\n",
    "answer = 'a78e17c964d3593d89cde3fb678f6a14'\n",
    "\n",
    "# Create answer box.\n",
    "text = widgets.Text()\n",
    "display(text)\n",
    "text.on_submit(check_answer)"
   ]
  },
  {
   "cell_type": "markdown",
   "metadata": {},
   "source": [
    "3. When a float pool contains gas at 20 degrees C, and it is heated up an additional 14 degrees C, what is the new volume in liters if it contained 3.2 liters of gas originally?"
   ]
  },
  {
   "cell_type": "code",
   "execution_count": 107,
   "metadata": {},
   "outputs": [
    {
     "data": {
      "application/vnd.jupyter.widget-view+json": {
       "model_id": "b1aacc18dac64d0eb66b2e3a5bcfb6c7",
       "version_major": 2,
       "version_minor": 0
      },
      "text/plain": [
       "Text(value='')"
      ]
     },
     "metadata": {},
     "output_type": "display_data"
    },
    {
     "name": "stdout",
     "output_type": "stream",
     "text": [
      "31053ad0506e935470ca21b43cae98cf\n",
      "Correct!\n"
     ]
    }
   ],
   "source": [
    "# Encrypted answer.\n",
    "answer = '31053ad0506e935470ca21b43cae98cf'\n",
    "\n",
    "# Create answer box.\n",
    "text = widgets.Text()\n",
    "display(text)\n",
    "text.on_submit(check_answer)"
   ]
  },
  {
   "cell_type": "markdown",
   "metadata": {},
   "source": [
    "# Gay-Lussac's Law\n",
    "If you watched a gun fire, you would see a plume of smoke as the gunpowder burns and the bullet whizzes out. The increase in temperature caused an increase in the pressure, which forced the bullet out of the barrel. \n",
    "\n",
    "In technical terms, the average kinetic energy of the molecule is referred to as the temperature, and the density of the particles is referred to as the pressure. The relationship between the two variables at a constant volume is a direct relationship was defined by Joseph Louis Gay-Lussac in 1809. It can be expressed by the equation below: ![P1/T1=P2/T2](Images/Gay-Lussacs-Law.png)\n",
    "\n",
    "Using the kinetic molecular theory to explain the Gay-Lussac's Law, the volume and the chemical amount of gas are held constant. When the temperature of the gas molecules are increased, the gas molecules will move at a higher speed because temperature and the average kinetic energy of the gas molecules have a direct relationship. As a result, gas molecules will collide with each other and with the wall of the container more frequently which exerts a greater force on the wall of container which increases the pressure of the gas. "
   ]
  },
  {
   "cell_type": "markdown",
   "metadata": {},
   "source": [
    "# Experiment\n",
    "The chamber pressure in a gun is roughly 344737.86 kPa at least. We can predict the approximate temperature the gunpowder would need to burn at because the two are directly proportional."
   ]
  },
  {
   "cell_type": "code",
   "execution_count": 2,
   "metadata": {},
   "outputs": [],
   "source": [
    "#imports, information to help generate table\n",
    "import pandas as pd\n",
    "import matplotlib as mpl\n",
    "import numpy as np\n",
    "import random"
   ]
  },
  {
   "cell_type": "code",
   "execution_count": 3,
   "metadata": {},
   "outputs": [],
   "source": [
    "#STEP 1\n",
    "#set these values ONCE at the beginning of your experiment\n",
    "\n",
    "ave_pressure = 100 #in kPa\n",
    "sd = 4 # Standard deviation of the data. More information: Intro to Standard Deviation Notebook\n",
    "\n",
    "trials = [] #leave this blank for now - values will be added later!"
   ]
  },
  {
   "cell_type": "code",
   "execution_count": 4,
   "metadata": {},
   "outputs": [],
   "source": [
    "#STEP 2\n",
    "#run this cell to generate values to populate your table, then run the table-generating cell\n",
    "yielded = random.uniform((ave_pressure-sd), (ave_pressure+sd))\n",
    "\n",
    "pressure = round(yielded, 2)\n",
    "\n",
    "k = 2 #contant for simplicity\n",
    "\n",
    "trials.append((pressure, k*pressure))"
   ]
  },
  {
   "cell_type": "code",
   "execution_count": 5,
   "metadata": {},
   "outputs": [
    {
     "data": {
      "text/html": [
       "<style  type=\"text/css\" >\n",
       "</style>  \n",
       "<table id=\"T_761792c2_85e4_11e8_b465_28cfe9142f7f\" > \n",
       "<thead>    <tr> \n",
       "        <th class=\"blank level0\" ></th> \n",
       "        <th class=\"col_heading level0 col0\" >Pressure</th> \n",
       "        <th class=\"col_heading level0 col1\" >Temperature</th> \n",
       "    </tr></thead> \n",
       "<tbody>    <tr> \n",
       "        <th id=\"T_761792c2_85e4_11e8_b465_28cfe9142f7flevel0_row0\" class=\"row_heading level0 row0\" >0</th> \n",
       "        <td id=\"T_761792c2_85e4_11e8_b465_28cfe9142f7frow0_col0\" class=\"data row0 col0\" >96.9</td> \n",
       "        <td id=\"T_761792c2_85e4_11e8_b465_28cfe9142f7frow0_col1\" class=\"data row0 col1\" >193.8</td> \n",
       "    </tr></tbody> \n",
       "</table> "
      ],
      "text/plain": [
       "<pandas.io.formats.style.Styler at 0x1083a6320>"
      ]
     },
     "execution_count": 5,
     "metadata": {},
     "output_type": "execute_result"
    }
   ],
   "source": [
    "#STEP 3\n",
    "#table-generating cell - run after generating each new data pair\n",
    "labels = ['Pressure', 'Temperature']\n",
    "trials.sort()\n",
    "df = pd.DataFrame.from_records(trials, columns=labels)\n",
    "df.head\n",
    "df.style\n",
    "#run step 2 then step 3 repeatedly until satisfied with your table of values"
   ]
  },
  {
   "cell_type": "markdown",
   "metadata": {},
   "source": [
    "# Questions\n",
    "There are three questions below that test Gay-Lussac's Law. There is a code segment that you can run after each question to check your answer. Before you do so though, run the code segment below this text. Each of the answers are encrypted, and this code decrypts it in order to test if it is correct. To be extra clear, the long string of characters and numbers such as `845e85fa64a2d6037055beba19fe0bd8` that you will see is not the answer, it is the encrypted answer. Furthermore, round to the nearest significant figure."
   ]
  },
  {
   "cell_type": "code",
   "execution_count": 108,
   "metadata": {},
   "outputs": [],
   "source": [
    "# Imports.\n",
    "from IPython.display import display \n",
    "from ipywidgets import widgets\n",
    "import hashlib\n",
    "\n",
    "# Check the answer given by the student.\n",
    "def check_answer(x):\n",
    "    temp = -10000\n",
    "    try:\n",
    "        temp = hashlib.md5(str.encode(str(text.value))).hexdigest()\n",
    "    except:\n",
    "        print(\"Not a number.\")\n",
    "    if(temp == answer and temp != -10000):\n",
    "        print(\"Correct!\")\n",
    "    else:\n",
    "        print(\"Incorrect. Try again!\")"
   ]
  },
  {
   "cell_type": "markdown",
   "metadata": {},
   "source": [
    "1. The gas particles are in a sealed container at 200 mmHg under the 15.0 degrees C room temperature. When the pressure on the gas particles is increased to 560 mmHg, what is the new temperature of the gas molecules in Celsius?"
   ]
  },
  {
   "cell_type": "code",
   "execution_count": 111,
   "metadata": {},
   "outputs": [
    {
     "data": {
      "application/vnd.jupyter.widget-view+json": {
       "model_id": "3727eb75b4ef407e89b1f9a58913b90b",
       "version_major": 2,
       "version_minor": 0
      },
      "text/plain": [
       "Text(value='')"
      ]
     },
     "metadata": {},
     "output_type": "display_data"
    }
   ],
   "source": [
    "# Encrypted answer.\n",
    "answer = 'c399862d3b9d6b76c8436e924a68c45b'\n",
    "\n",
    "# Create answer box.\n",
    "text = widgets.Text()\n",
    "display(text)\n",
    "text.on_submit(check_answer)"
   ]
  },
  {
   "cell_type": "markdown",
   "metadata": {},
   "source": [
    "2. A cylinder container has a constant fixed volume at a temperature of 30.0 degrees C and a pressure of 101 kPa. As the pressure on the container is increased to 200 kPa, how much percentage of the temperature are increased?\n"
   ]
  },
  {
   "cell_type": "code",
   "execution_count": 113,
   "metadata": {},
   "outputs": [
    {
     "data": {
      "application/vnd.jupyter.widget-view+json": {
       "model_id": "a9702d5ee46c4d9bbcaa2cd485e2dbd9",
       "version_major": 2,
       "version_minor": 0
      },
      "text/plain": [
       "Text(value='')"
      ]
     },
     "metadata": {},
     "output_type": "display_data"
    },
    {
     "name": "stdout",
     "output_type": "stream",
     "text": [
      "4fac9ba115140ac4f1c22da82aa0bc7f\n",
      "Correct!\n"
     ]
    }
   ],
   "source": [
    "# Encrypted answer.\n",
    "answer = '4fac9ba115140ac4f1c22da82aa0bc7f'\n",
    "\n",
    "# Create answer box.\n",
    "text = widgets.Text()\n",
    "display(text)\n",
    "text.on_submit(check_answer)"
   ]
  },
  {
   "cell_type": "markdown",
   "metadata": {},
   "source": [
    "3. If a gun needs 351867.04 kPa to shoot out a bullet, and the gun initially exerts a pressure of 1000.00kPa on the bullet at a temperature of 20.0000 Celsius. How much would the temperature need to be increased in Celsius in order for the bullet to be shot? "
   ]
  },
  {
   "cell_type": "code",
   "execution_count": 116,
   "metadata": {},
   "outputs": [
    {
     "data": {
      "application/vnd.jupyter.widget-view+json": {
       "model_id": "d106adfa7b9740a7ac11cb7619bf02de",
       "version_major": 2,
       "version_minor": 0
      },
      "text/plain": [
       "Text(value='')"
      ]
     },
     "metadata": {},
     "output_type": "display_data"
    }
   ],
   "source": [
    "# Encrypted answer.\n",
    "answer = 'cea6e0b18604bc926d0fba9701e40359'\n",
    "\n",
    "# Create answer box.\n",
    "text = widgets.Text()\n",
    "display(text)\n",
    "text.on_submit(check_answer)"
   ]
  },
  {
   "cell_type": "markdown",
   "metadata": {},
   "source": [
    "# Combined Gas Law\n",
    "The Combined Gas Law takes Boyle’s, Gay-Lussac’s, and Charles’ Laws into one equation where the amount of gas is constant. The inverse relationship between pressure and volume is maintained as well as the directly proportional relationship between pressure and temperature, and volume and temperature. It can be expressed by the equation below: ![P1V1/T1=P2V2/T2](Images/combined-gas-law.png)"
   ]
  },
  {
   "cell_type": "markdown",
   "metadata": {},
   "source": [
    "# Questions\n",
    "There are three questions below that test the Combined Gas Law. There is a code segment that you can run after each question to check your answer. Before you do so though, run the code segment below this text. Each of the answers are encrypted, and this code decrypts it in order to test if it is correct. To be extra clear, the long string of characters and numbers such as `845e85fa64a2d6037055beba19fe0bd8` that you will see is not the answer, it is the encrypted answer. Furthermore, round to the nearest significant figure."
   ]
  },
  {
   "cell_type": "code",
   "execution_count": 125,
   "metadata": {},
   "outputs": [],
   "source": [
    "# Imports.\n",
    "from IPython.display import display \n",
    "from ipywidgets import widgets\n",
    "import hashlib\n",
    "\n",
    "# Check the answer given by the student.\n",
    "def check_answer(x):\n",
    "    temp = -10000\n",
    "    try:\n",
    "        temp = hashlib.md5(str.encode(str(text.value))).hexdigest()\n",
    "    except:\n",
    "        print(\"Not a number.\")\n",
    "    if(temp == answer and temp != -10000):\n",
    "        print(\"Correct!\")\n",
    "    else:\n",
    "        print(\"Incorrect. Try again!\")"
   ]
  },
  {
   "cell_type": "markdown",
   "metadata": {},
   "source": [
    "1. A balloon that contains 10L of helium gas at an atmospheric pressure of 101 kPa and at a temperature of 25 degrees C is released to rise into the upper atmosphere where the temperature is -10 degrees C and the atmospheric air pressure is 15 kPa. During the experiment, the measured volume of the balloon after it rises to a higher altitude is 60 L. Assume gas cannot escape and calculate the experimental error as a percentage."
   ]
  },
  {
   "cell_type": "code",
   "execution_count": 119,
   "metadata": {},
   "outputs": [
    {
     "data": {
      "application/vnd.jupyter.widget-view+json": {
       "model_id": "453445047c8b44389d919437a2b6f76e",
       "version_major": 2,
       "version_minor": 0
      },
      "text/plain": [
       "Text(value='')"
      ]
     },
     "metadata": {},
     "output_type": "display_data"
    },
    {
     "name": "stdout",
     "output_type": "stream",
     "text": [
      "e93bb0ef149f78aeae0eab58c5a28758\n",
      "Correct!\n"
     ]
    }
   ],
   "source": [
    "# Encrypted answer.\n",
    "answer = 'e93bb0ef149f78aeae0eab58c5a28758'\n",
    "\n",
    "# Create answer box.\n",
    "text = widgets.Text()\n",
    "display(text)\n",
    "text.on_submit(check_answer)"
   ]
  },
  {
   "cell_type": "markdown",
   "metadata": {},
   "source": [
    "2. A balloon that contains hydrogen gas has 5.0 liters when it is measured on a mountain where the air atmospheric pressure is only 30 kPa, and the temperature is only -30 degrees C. What is the new volume of the balloon if the balloon occupies at SATP? (SATP conditions: 25 degrees C and 100 kPa)"
   ]
  },
  {
   "cell_type": "code",
   "execution_count": 121,
   "metadata": {},
   "outputs": [
    {
     "data": {
      "application/vnd.jupyter.widget-view+json": {
       "model_id": "649bc6c2b1e142058a2e7531c1076777",
       "version_major": 2,
       "version_minor": 0
      },
      "text/plain": [
       "Text(value='')"
      ]
     },
     "metadata": {},
     "output_type": "display_data"
    },
    {
     "name": "stdout",
     "output_type": "stream",
     "text": [
      "f932bed2d12442d21507b51d22b88dd7\n",
      "Correct!\n"
     ]
    }
   ],
   "source": [
    "# Encrypted answer.\n",
    "answer = 'f932bed2d12442d21507b51d22b88dd7'\n",
    "\n",
    "# Create answer box.\n",
    "text = widgets.Text()\n",
    "display(text)\n",
    "text.on_submit(check_answer)"
   ]
  },
  {
   "cell_type": "markdown",
   "metadata": {},
   "source": [
    "3. A gas is measured to have a volume of 20.0 liters at a temperature of 20.0 degrees C and at an atmospheric pressure of 1.00 atm. As the gas is raised up to a higher air pressure, what is the new air pressure in atm if the final volume measured is 10.0 liters and the temperature is 5.00 degrees C."
   ]
  },
  {
   "cell_type": "code",
   "execution_count": 124,
   "metadata": {},
   "outputs": [
    {
     "data": {
      "application/vnd.jupyter.widget-view+json": {
       "model_id": "a722bd814afd4a18836501c0d9dc66a9",
       "version_major": 2,
       "version_minor": 0
      },
      "text/plain": [
       "Text(value='')"
      ]
     },
     "metadata": {},
     "output_type": "display_data"
    },
    {
     "name": "stdout",
     "output_type": "stream",
     "text": [
      "c3cce38563b9d2b2ac15c5b15ffc8c05\n",
      "Correct!\n"
     ]
    }
   ],
   "source": [
    "# Encrypted answer.\n",
    "answer = 'c3cce38563b9d2b2ac15c5b15ffc8c05'\n",
    "\n",
    "# Create answer box.\n",
    "text = widgets.Text()\n",
    "display(text)\n",
    "text.on_submit(check_answer)"
   ]
  },
  {
   "cell_type": "markdown",
   "metadata": {},
   "source": [
    "# Summary\n",
    "When performing these equations, it is important to ask yourself the questions below:\n",
    "1. Which of the quantities do you know?\n",
    "2. What quantity is constant? (Pressure, volume, or temperature?)\n",
    "3. Are the values in correct units?\n",
    "4. Is the question asking for the values in certain units or for the magnitude by which a value needs to be increased or decreased?\n",
    "5. After doing the algebra, does the unit analysis make sense?\n",
    "\n",
    "# Conclusion\n",
    "In this section, we introduced the different relationships between pressure, volume, and temperature, and the three different laws associated with them. These are Boyle's Law for pressure and volume where temperature is constant, Charles' Law for volume and temperature where pressure is constant, and Gay-Lussac's Law for pressure and temperature where volume is constant. Finally, we brought all three laws together into the combined gas law. "
   ]
  }
 ],
 "metadata": {
  "kernelspec": {
   "display_name": "Python 3",
   "language": "python",
   "name": "python3"
  },
  "language_info": {
   "codemirror_mode": {
    "name": "ipython",
    "version": 3
   },
   "file_extension": ".py",
   "mimetype": "text/x-python",
   "name": "python",
   "nbconvert_exporter": "python",
   "pygments_lexer": "ipython3",
   "version": "3.6.5"
  }
 },
 "nbformat": 4,
 "nbformat_minor": 2
}
