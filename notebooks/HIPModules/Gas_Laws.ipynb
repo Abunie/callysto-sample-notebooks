{
 "cells": [
  {
   "cell_type": "markdown",
   "metadata": {},
   "source": [
    "<img src=\"../images/Callysto_Notebook-Banner_Top_06.06.18.jpg\"/>"
   ]
  },
  {
   "cell_type": "code",
   "execution_count": 1,
   "metadata": {},
   "outputs": [
    {
     "name": "stdout",
     "output_type": "stream",
     "text": [
      "Hidden code segment block.\n"
     ]
    },
    {
     "data": {
      "text/html": [
       "<script>\n",
       "code_show=true; \n",
       "function code_toggle() {\n",
       "  if (code_show) {\n",
       "    $('div.input').each(function(id) {\n",
       "      el = $(this).find('.cm-variable:first');\n",
       "      if (id == 0 || el.text() == 'hide_me') {\n",
       "        $(this).hide();\n",
       "      }\n",
       "    });\n",
       "    $('div.output_prompt').css('opacity', 0);\n",
       "  } else {\n",
       "    $('div.input').each(function(id) {\n",
       "      $(this).show();\n",
       "    });\n",
       "    $('div.output_prompt').css('opacity', 1);\n",
       "  }\n",
       "  code_show = !code_show\n",
       "} \n",
       "$( document ).ready(code_toggle);\n",
       "</script>\n",
       "<form action=\"javascript:code_toggle()\"><input style=\"opacity:0\" type=\"submit\" value=\"Click here to toggle on/off the raw code.\"></form>"
      ],
      "text/plain": [
       "<IPython.core.display.HTML object>"
      ]
     },
     "execution_count": 1,
     "metadata": {},
     "output_type": "execute_result"
    }
   ],
   "source": [
    "# Temperary code placement to store code for hiding cells.\n",
    "\n",
    "from IPython.display import HTML\n",
    "\n",
    "hide_me = HTML('''<script>\n",
    "code_show=true; \n",
    "function code_toggle() {\n",
    "  if (code_show) {\n",
    "    $('div.input').each(function(id) {\n",
    "      el = $(this).find('.cm-variable:first');\n",
    "      if (id == 0 || el.text() == 'hide_me') {\n",
    "        $(this).hide();\n",
    "      }\n",
    "    });\n",
    "    $('div.output_prompt').css('opacity', 0);\n",
    "  } else {\n",
    "    $('div.input').each(function(id) {\n",
    "      $(this).show();\n",
    "    });\n",
    "    $('div.output_prompt').css('opacity', 1);\n",
    "  }\n",
    "  code_show = !code_show\n",
    "} \n",
    "$( document ).ready(code_toggle);\n",
    "</script>\n",
    "<form action=\"javascript:code_toggle()\"><input style=\"opacity:0\" type=\"submit\" value=\"Click here to toggle on/off the raw code.\"></form>''')\n",
    "\n",
    "print(\"Hidden code segment block.\")\n",
    "\n",
    "hide_me"
   ]
  },
  {
   "cell_type": "markdown",
   "metadata": {},
   "source": [
    "In 1662 Robert Boyle understood the importance of this and discovered the relationship between pressure and volume, assuming a constant temperature. Similarly, in 1787 Jacques Charles found the relationship between volume and temperature, assuming a constant pressure. Furthermore, in 1809 Joseph Louis Gay-Lussac found the relationship between pressure and temperature, assuming a constant volume of the gas container. These three laws can be combined to produce the Combined Gas Law, which relates all three quantities."
   ]
  },
  {
   "cell_type": "markdown",
   "metadata": {},
   "source": [
    "# Pre-requisites / Background\n",
    "\n",
    "[comment]: # (This curriculum objective is from before the curriculum remake. It may still be an objective after though.)\n",
    "**Alberta Curriculum Objective: Illustrate how Boyle's and Charles's laws, individually and combined, are related to the ideal gas law (PV = nRT ).**\n",
    "http://www.learnalberta.ca/ProgramOfStudy.aspx?lang=en&ProgramId=525479#707983\n",
    "\n",
    "In this notebook we will be working with Boyle's Law, Charles' Law, and Gay-Lussac's Law to build up to introducing the combined gas law, with a statistics extension.\n",
    "\n",
    "We are expecting that the students understand Celsius to Kelvin conversions, converting between pressure units, and Kinetic Molecular Theory (ideal gas assumptions). If they have already been introduced to these laws, this notebook will simply provide review and extra practice."
   ]
  },
  {
   "cell_type": "markdown",
   "metadata": {},
   "source": [
    "# Introduction\n",
    "Gases surround and shape the world around us all the time. From the air you breath to pneumatic gas-powered pistons that run our machinery, it is important to understand the properties of any given gas so we can better utilize it for our benefit. In a closed container, the pressure, temperature and volume dictate much of how a given gas behaves and understanding how these three properties relate to each other is fundamental to moving forward with our pursuit of understanding gas. Three laws were developed over time to correlate two of these properties at a time and assumes the third remains constant. These laws can in turn be integrated into the Combined Gas Law, which relates all three properties, assuming the amount of gas is constant."
   ]
  },
  {
   "cell_type": "markdown",
   "metadata": {},
   "source": [
    "# The Gas Laws\n",
    "## Boyle's Law\n",
    "How does the air pressure in your lungs and the volume of your lungs relate to help you breathe? When you breath out, you first greatly decrease the volume of your lungs. This increases the pressure exerted both on and by the air in your lungs, forcing the air out. When you breathe in, you first increase the volume of your lungs, and create an area of low air pressure in your lungs. Air from your environment then rushes into your lungs in an effort to re-establish equilibrium, and then the process repeats.\n",
    "\n",
    "The pressure and volume of a gas, assuming constant temperature, have a inverse relationship, and without this we would be unable to breathe. Through experimentation, in 1662 Robert Boyle was able to derive this relationship. Boyle's Law is as follows:\n",
    "## PV = k\n",
    "\n",
    "where P is the pressure in the system, V is the volume, and k is a system-specific constant. You do not need to learn about k in Chemistry 20.\n",
    "\n",
    "If you recall back to kinetic molecular theory, the space the *isolated* gas particles occupy is considered the volume of the gas, and the pressure is the collective force the gas particles exert on the walls of its container. If the external pressure is increased, the volume available for the gas molecules is decreased. As a result, the gas molecules become closer together and will collide with each other and with the wall of the container more frequently. As the number of collisions increases, the average force exerted by the gas molecules is increased.\n",
    "\n",
    "For the purposes of Chemistry 20 is better to understand Boyle's Law as the following equation:\n",
    "## P<sub>1</sub>V<sub>1</sub> = P<sub>2</sub>V<sub>2</sub>\n",
    "This equation shows how changing pressure or volume impacts the other quantity when there is a change in the system. The P/V with the one subscript are the initial pressure and volume, and the P/V with two as a subscript are the quantities after the change. Use this equation for questions relating to Boyle's Law - the equation with k is not tested in the Chemistry 20 curriculum."
   ]
  },
  {
   "cell_type": "code",
   "execution_count": 3,
   "metadata": {},
   "outputs": [
    {
     "data": {
      "text/html": [
       "\n",
       "        <iframe\n",
       "            width=\"400\"\n",
       "            height=\"300\"\n",
       "            src=\"https://www.youtube.com/embed/27yqJ9vJ5kQ\"\n",
       "            frameborder=\"0\"\n",
       "            allowfullscreen\n",
       "        ></iframe>\n",
       "        "
      ],
      "text/plain": [
       "<IPython.lib.display.YouTubeVideo at 0x1099e70b8>"
      ]
     },
     "metadata": {},
     "output_type": "display_data"
    }
   ],
   "source": [
    "# Here is a youtube video that shows the effects of Boyle's Law.\n",
    "# Run this code segment to bring the video into this Callysto notebook.\n",
    "\n",
    "from IPython.lib.display import YouTubeVideo\n",
    "display(YouTubeVideo('27yqJ9vJ5kQ'))"
   ]
  },
  {
   "cell_type": "markdown",
   "metadata": {},
   "source": [
    "It is important to understand that Boyle's Law is a special case for a gas system where temperature is constant. If in your studies you see a question where pressure or volume are being manipulated and temperature is either explicitly or implicitly stated to be constant, this question is addressing and testing Boyle's Law."
   ]
  },
  {
   "cell_type": "markdown",
   "metadata": {},
   "source": [
    "# Experiment\n",
    "Let's say we want to find the pressure in an adult male test subject's lungs when they are expanded to maximum capacity. The average lung capacity of an adult human male is 6L. We will test random lung capacities for N trials, and see how Boyle's Law shapes the relationship between pressure and volume."
   ]
  },
  {
   "cell_type": "code",
   "execution_count": 4,
   "metadata": {},
   "outputs": [],
   "source": [
    "# Change the variables in this cell to create your own experiment!\n",
    "\n",
    "# Max volume in liters.\n",
    "volume = 6\n",
    "\n",
    "# Number of trials.\n",
    "N = 100"
   ]
  },
  {
   "cell_type": "code",
   "execution_count": 5,
   "metadata": {
    "scrolled": false
   },
   "outputs": [
    {
     "data": {
      "text/html": [
       "<script>requirejs.config({paths: { 'plotly': ['https://cdn.plot.ly/plotly-latest.min']},});if(!window.Plotly) {{require(['plotly'],function(plotly) {window.Plotly=plotly;});}}</script>"
      ],
      "text/vnd.plotly.v1+html": [
       "<script>requirejs.config({paths: { 'plotly': ['https://cdn.plot.ly/plotly-latest.min']},});if(!window.Plotly) {{require(['plotly'],function(plotly) {window.Plotly=plotly;});}}</script>"
      ]
     },
     "metadata": {},
     "output_type": "display_data"
    },
    {
     "data": {
      "application/vnd.plotly.v1+json": {
       "data": [
        {
         "mode": "markers",
         "type": "scatter",
         "uid": "3b02fc6c-8535-11e8-a48f-28cfe9142f7f",
         "x": [
          3.1377293876827546,
          1.705830531920125,
          4.631249973065064,
          1.8120105671332662,
          1.6494474821375533,
          0.9632889480620943,
          3.226697138586815,
          4.110624732290939,
          2.694635299093295,
          5.546532141236051,
          0.8475712053854982,
          5.060775920350391,
          5.920196751977564,
          3.1002960347948214,
          0.6673592594289273,
          2.0147508935816263,
          5.027008717927702,
          0.5538355494611609,
          5.871104610898407,
          5.36310375156882,
          2.128703817284562,
          1.2699698002541755,
          5.603484996284811,
          0.36392384662023897,
          5.183446019077278,
          2.337261939748125,
          1.9994124180133852,
          6.009765649255978,
          5.667795156197191,
          2.4550062392802334,
          2.8539747633646586,
          1.047490072443021,
          0.4797210293554818,
          0.4173911191579547,
          4.678910876540591,
          2.582732200213749,
          4.536894333891184,
          0.23772051493852053,
          1.034422510533173,
          0.7092450251023943,
          0.8702540262403993,
          2.856752951425912,
          2.67060691122511,
          5.919015006731529,
          3.373776070792883,
          1.6944857092496497,
          4.933613106753596,
          0.19762588732475164,
          3.605924653280183,
          1.8859286669377926,
          3.4595064576299404,
          0.3058396332173319,
          3.4193758861576047,
          1.326802360339568,
          3.876082625546502,
          1.7121691871777842,
          2.2141550197529343,
          3.9222770475493705,
          0.24154129795363205,
          1.1743095130391863,
          3.0533652370414104,
          1.7835761717146135,
          5.8467133287933875,
          5.915028399835021,
          4.107589892727204,
          0.92866165756362,
          5.512864998257757,
          5.024461480371295,
          3.627906604038409,
          0.9832279656810172,
          5.882112484166041,
          0.8792449689357653,
          2.587568877123064,
          3.8077949649271305,
          5.325912971648714,
          3.0841765926195093,
          2.8541371673711247,
          3.5857694309847523,
          1.6790003729280496,
          2.1385107633238767,
          5.043356022353392,
          4.197243705204249,
          2.2754547878389864,
          5.403771407836158,
          0.7025179124820121,
          0.1879525696144787,
          5.231095257029692,
          0.9396916536115001,
          2.787434032855873,
          0.7527971039810064,
          4.9725189384235975,
          0.6650569133687856,
          1.2166097050521867,
          0.3210455803741874,
          2.1673588447602117,
          2.9038763330336375,
          3.3681260624625544,
          5.265199413951183,
          4.188939287369699,
          2.002265161039825
         ],
         "y": [
          0.183395325754067,
          0.6873493745941179,
          0.2803662228233019,
          0.6467496745588228,
          0.4953732282622024,
          0.9473330163173472,
          0.36926917668255343,
          0.20373686866988203,
          0.2946668445282208,
          0.0573977684604461,
          1.2571914753214244,
          0.20102957471394023,
          0.3049219902390032,
          0.2796363852318641,
          1.5813667379234264,
          0.6033560291424853,
          0.14825026652025675,
          2.227193868800262,
          0.1076766934358508,
          0.13296614054565992,
          0.49650813079222555,
          0.7341470787009623,
          0.08723367530277232,
          3.462669792632135,
          0.1542794471149865,
          0.2876664898707147,
          0.6303807683286429,
          0.266982457769932,
          0.3218135620644313,
          0.29396607200757835,
          0.3981500753605515,
          0.9747015197696973,
          2.112150054415052,
          2.2384188981952557,
          0.2539194614472069,
          0.5113338169703728,
          0.16362381639948725,
          3.101670413214788,
          1.0403012105915137,
          1.444188646559978,
          1.270795025934379,
          0.23134053974223925,
          0.4387019044705922,
          0.10722101410439996,
          0.3153159639104413,
          0.48850430735484696,
          0.24203653283800378,
          3.5683539365889625,
          0.24182221245809776,
          0.4621427185081398,
          0.14578746051949582,
          3.8122670347436136,
          0.1916197103956711,
          0.7926245980984921,
          0.1651714549358987,
          0.5283386782918632,
          0.4398410273071398,
          0.2195913080144611,
          2.472477375117225,
          0.9541648459535832,
          0.18159931094554307,
          0.5629229891443086,
          0.059700934057677034,
          0.12878841519021278,
          0.32673188564544337,
          1.0908318325388764,
          0.28420926968113447,
          0.08757579564246903,
          0.26974690595453293,
          1.1384834169501115,
          0.23173928418984804,
          1.127712811364016,
          0.2528886860479165,
          0.38050089119646135,
          0.21828815062598245,
          0.41088488803052164,
          0.20436899401752723,
          0.3521324277214052,
          0.7092227640540225,
          0.4162125101616096,
          0.2703425339854989,
          0.09654150452862946,
          0.5830622048437368,
          0.15104779912526373,
          1.6516254814754736,
          3.2352156329886994,
          0.07292768817373817,
          1.1717990085725485,
          0.3916398005710276,
          1.3714805283010527,
          0.1684825237798089,
          1.8130472956210784,
          0.942637929516581,
          2.8770989176653523,
          0.5585309884579163,
          0.19275056266867957,
          0.215095654837729,
          0.24330712221580217,
          0.17747225170418068,
          0.43841221644372164
         ]
        }
       ],
       "layout": {
        "title": "Pressure vs. Volume",
        "xaxis": {
         "title": "Volume"
        },
        "yaxis": {
         "title": "Pressure"
        }
       }
      },
      "text/html": [
       "<div id=\"2be77a78-a195-4541-94a2-e58741dc007b\" style=\"height: 525px; width: 100%;\" class=\"plotly-graph-div\"></div><script type=\"text/javascript\">require([\"plotly\"], function(Plotly) { window.PLOTLYENV=window.PLOTLYENV || {};window.PLOTLYENV.BASE_URL=\"https://plot.ly\";\n",
       "        Plotly.plot(\n",
       "            '2be77a78-a195-4541-94a2-e58741dc007b',\n",
       "            [{\"mode\": \"markers\", \"x\": [3.1377293876827546, 1.705830531920125, 4.631249973065064, 1.8120105671332662, 1.6494474821375533, 0.9632889480620943, 3.226697138586815, 4.110624732290939, 2.694635299093295, 5.546532141236051, 0.8475712053854982, 5.060775920350391, 5.920196751977564, 3.1002960347948214, 0.6673592594289273, 2.0147508935816263, 5.027008717927702, 0.5538355494611609, 5.871104610898407, 5.36310375156882, 2.128703817284562, 1.2699698002541755, 5.603484996284811, 0.36392384662023897, 5.183446019077278, 2.337261939748125, 1.9994124180133852, 6.009765649255978, 5.667795156197191, 2.4550062392802334, 2.8539747633646586, 1.047490072443021, 0.4797210293554818, 0.4173911191579547, 4.678910876540591, 2.582732200213749, 4.536894333891184, 0.23772051493852053, 1.034422510533173, 0.7092450251023943, 0.8702540262403993, 2.856752951425912, 2.67060691122511, 5.919015006731529, 3.373776070792883, 1.6944857092496497, 4.933613106753596, 0.19762588732475164, 3.605924653280183, 1.8859286669377926, 3.4595064576299404, 0.3058396332173319, 3.4193758861576047, 1.326802360339568, 3.876082625546502, 1.7121691871777842, 2.2141550197529343, 3.9222770475493705, 0.24154129795363205, 1.1743095130391863, 3.0533652370414104, 1.7835761717146135, 5.8467133287933875, 5.915028399835021, 4.107589892727204, 0.92866165756362, 5.512864998257757, 5.024461480371295, 3.627906604038409, 0.9832279656810172, 5.882112484166041, 0.8792449689357653, 2.587568877123064, 3.8077949649271305, 5.325912971648714, 3.0841765926195093, 2.8541371673711247, 3.5857694309847523, 1.6790003729280496, 2.1385107633238767, 5.043356022353392, 4.197243705204249, 2.2754547878389864, 5.403771407836158, 0.7025179124820121, 0.1879525696144787, 5.231095257029692, 0.9396916536115001, 2.787434032855873, 0.7527971039810064, 4.9725189384235975, 0.6650569133687856, 1.2166097050521867, 0.3210455803741874, 2.1673588447602117, 2.9038763330336375, 3.3681260624625544, 5.265199413951183, 4.188939287369699, 2.002265161039825], \"y\": [0.183395325754067, 0.6873493745941179, 0.2803662228233019, 0.6467496745588228, 0.4953732282622024, 0.9473330163173472, 0.36926917668255343, 0.20373686866988203, 0.2946668445282208, 0.0573977684604461, 1.2571914753214244, 0.20102957471394023, 0.3049219902390032, 0.2796363852318641, 1.5813667379234264, 0.6033560291424853, 0.14825026652025675, 2.227193868800262, 0.1076766934358508, 0.13296614054565992, 0.49650813079222555, 0.7341470787009623, 0.08723367530277232, 3.462669792632135, 0.1542794471149865, 0.2876664898707147, 0.6303807683286429, 0.266982457769932, 0.3218135620644313, 0.29396607200757835, 0.3981500753605515, 0.9747015197696973, 2.112150054415052, 2.2384188981952557, 0.2539194614472069, 0.5113338169703728, 0.16362381639948725, 3.101670413214788, 1.0403012105915137, 1.444188646559978, 1.270795025934379, 0.23134053974223925, 0.4387019044705922, 0.10722101410439996, 0.3153159639104413, 0.48850430735484696, 0.24203653283800378, 3.5683539365889625, 0.24182221245809776, 0.4621427185081398, 0.14578746051949582, 3.8122670347436136, 0.1916197103956711, 0.7926245980984921, 0.1651714549358987, 0.5283386782918632, 0.4398410273071398, 0.2195913080144611, 2.472477375117225, 0.9541648459535832, 0.18159931094554307, 0.5629229891443086, 0.059700934057677034, 0.12878841519021278, 0.32673188564544337, 1.0908318325388764, 0.28420926968113447, 0.08757579564246903, 0.26974690595453293, 1.1384834169501115, 0.23173928418984804, 1.127712811364016, 0.2528886860479165, 0.38050089119646135, 0.21828815062598245, 0.41088488803052164, 0.20436899401752723, 0.3521324277214052, 0.7092227640540225, 0.4162125101616096, 0.2703425339854989, 0.09654150452862946, 0.5830622048437368, 0.15104779912526373, 1.6516254814754736, 3.2352156329886994, 0.07292768817373817, 1.1717990085725485, 0.3916398005710276, 1.3714805283010527, 0.1684825237798089, 1.8130472956210784, 0.942637929516581, 2.8770989176653523, 0.5585309884579163, 0.19275056266867957, 0.215095654837729, 0.24330712221580217, 0.17747225170418068, 0.43841221644372164], \"type\": \"scatter\", \"uid\": \"3b02fc6c-8535-11e8-a48f-28cfe9142f7f\"}],\n",
       "            {\"title\": \"Pressure vs. Volume\", \"xaxis\": {\"title\": \"Volume\"}, \"yaxis\": {\"title\": \"Pressure\"}},\n",
       "            {\"showLink\": true, \"linkText\": \"Export to plot.ly\"}\n",
       "        ).then(function () {return Plotly.addFrames('2be77a78-a195-4541-94a2-e58741dc007b',{});}).then(function(){Plotly.animate('2be77a78-a195-4541-94a2-e58741dc007b');})\n",
       "        });</script>"
      ],
      "text/vnd.plotly.v1+html": [
       "<div id=\"2be77a78-a195-4541-94a2-e58741dc007b\" style=\"height: 525px; width: 100%;\" class=\"plotly-graph-div\"></div><script type=\"text/javascript\">require([\"plotly\"], function(Plotly) { window.PLOTLYENV=window.PLOTLYENV || {};window.PLOTLYENV.BASE_URL=\"https://plot.ly\";\n",
       "        Plotly.plot(\n",
       "            '2be77a78-a195-4541-94a2-e58741dc007b',\n",
       "            [{\"mode\": \"markers\", \"x\": [3.1377293876827546, 1.705830531920125, 4.631249973065064, 1.8120105671332662, 1.6494474821375533, 0.9632889480620943, 3.226697138586815, 4.110624732290939, 2.694635299093295, 5.546532141236051, 0.8475712053854982, 5.060775920350391, 5.920196751977564, 3.1002960347948214, 0.6673592594289273, 2.0147508935816263, 5.027008717927702, 0.5538355494611609, 5.871104610898407, 5.36310375156882, 2.128703817284562, 1.2699698002541755, 5.603484996284811, 0.36392384662023897, 5.183446019077278, 2.337261939748125, 1.9994124180133852, 6.009765649255978, 5.667795156197191, 2.4550062392802334, 2.8539747633646586, 1.047490072443021, 0.4797210293554818, 0.4173911191579547, 4.678910876540591, 2.582732200213749, 4.536894333891184, 0.23772051493852053, 1.034422510533173, 0.7092450251023943, 0.8702540262403993, 2.856752951425912, 2.67060691122511, 5.919015006731529, 3.373776070792883, 1.6944857092496497, 4.933613106753596, 0.19762588732475164, 3.605924653280183, 1.8859286669377926, 3.4595064576299404, 0.3058396332173319, 3.4193758861576047, 1.326802360339568, 3.876082625546502, 1.7121691871777842, 2.2141550197529343, 3.9222770475493705, 0.24154129795363205, 1.1743095130391863, 3.0533652370414104, 1.7835761717146135, 5.8467133287933875, 5.915028399835021, 4.107589892727204, 0.92866165756362, 5.512864998257757, 5.024461480371295, 3.627906604038409, 0.9832279656810172, 5.882112484166041, 0.8792449689357653, 2.587568877123064, 3.8077949649271305, 5.325912971648714, 3.0841765926195093, 2.8541371673711247, 3.5857694309847523, 1.6790003729280496, 2.1385107633238767, 5.043356022353392, 4.197243705204249, 2.2754547878389864, 5.403771407836158, 0.7025179124820121, 0.1879525696144787, 5.231095257029692, 0.9396916536115001, 2.787434032855873, 0.7527971039810064, 4.9725189384235975, 0.6650569133687856, 1.2166097050521867, 0.3210455803741874, 2.1673588447602117, 2.9038763330336375, 3.3681260624625544, 5.265199413951183, 4.188939287369699, 2.002265161039825], \"y\": [0.183395325754067, 0.6873493745941179, 0.2803662228233019, 0.6467496745588228, 0.4953732282622024, 0.9473330163173472, 0.36926917668255343, 0.20373686866988203, 0.2946668445282208, 0.0573977684604461, 1.2571914753214244, 0.20102957471394023, 0.3049219902390032, 0.2796363852318641, 1.5813667379234264, 0.6033560291424853, 0.14825026652025675, 2.227193868800262, 0.1076766934358508, 0.13296614054565992, 0.49650813079222555, 0.7341470787009623, 0.08723367530277232, 3.462669792632135, 0.1542794471149865, 0.2876664898707147, 0.6303807683286429, 0.266982457769932, 0.3218135620644313, 0.29396607200757835, 0.3981500753605515, 0.9747015197696973, 2.112150054415052, 2.2384188981952557, 0.2539194614472069, 0.5113338169703728, 0.16362381639948725, 3.101670413214788, 1.0403012105915137, 1.444188646559978, 1.270795025934379, 0.23134053974223925, 0.4387019044705922, 0.10722101410439996, 0.3153159639104413, 0.48850430735484696, 0.24203653283800378, 3.5683539365889625, 0.24182221245809776, 0.4621427185081398, 0.14578746051949582, 3.8122670347436136, 0.1916197103956711, 0.7926245980984921, 0.1651714549358987, 0.5283386782918632, 0.4398410273071398, 0.2195913080144611, 2.472477375117225, 0.9541648459535832, 0.18159931094554307, 0.5629229891443086, 0.059700934057677034, 0.12878841519021278, 0.32673188564544337, 1.0908318325388764, 0.28420926968113447, 0.08757579564246903, 0.26974690595453293, 1.1384834169501115, 0.23173928418984804, 1.127712811364016, 0.2528886860479165, 0.38050089119646135, 0.21828815062598245, 0.41088488803052164, 0.20436899401752723, 0.3521324277214052, 0.7092227640540225, 0.4162125101616096, 0.2703425339854989, 0.09654150452862946, 0.5830622048437368, 0.15104779912526373, 1.6516254814754736, 3.2352156329886994, 0.07292768817373817, 1.1717990085725485, 0.3916398005710276, 1.3714805283010527, 0.1684825237798089, 1.8130472956210784, 0.942637929516581, 2.8770989176653523, 0.5585309884579163, 0.19275056266867957, 0.215095654837729, 0.24330712221580217, 0.17747225170418068, 0.43841221644372164], \"type\": \"scatter\", \"uid\": \"3b02fc6c-8535-11e8-a48f-28cfe9142f7f\"}],\n",
       "            {\"title\": \"Pressure vs. Volume\", \"xaxis\": {\"title\": \"Volume\"}, \"yaxis\": {\"title\": \"Pressure\"}},\n",
       "            {\"showLink\": true, \"linkText\": \"Export to plot.ly\"}\n",
       "        ).then(function () {return Plotly.addFrames('2be77a78-a195-4541-94a2-e58741dc007b',{});}).then(function(){Plotly.animate('2be77a78-a195-4541-94a2-e58741dc007b');})\n",
       "        });</script>"
      ]
     },
     "metadata": {},
     "output_type": "display_data"
    }
   ],
   "source": [
    "# Imports.\n",
    "import plotly.offline as py\n",
    "from plotly.offline import init_notebook_mode, iplot\n",
    "import plotly.graph_objs as go\n",
    "import numpy as np\n",
    "\n",
    "import math\n",
    "\n",
    "# Initialize plotly for Jupyter notebooks.\n",
    "init_notebook_mode(connected=True)\n",
    "\n",
    "# Initialize data sets.\n",
    "gx = []\n",
    "gy = []\n",
    "\n",
    "# Constant multiple in Boyle's Law.\n",
    "k = 1\n",
    "\n",
    "# Boyle's Law is technically PV = k, where k is constant for that specific system, (It varies between systems.)\n",
    "# and P1V1 = P2V2 is only a result of this relationship. Students do not learn this however.\n",
    "# For simplicity k is set to 1.\n",
    "\n",
    "# Standard deviation.\n",
    "sd = 0.15\n",
    "\n",
    "# Randomly generate data based on user defined volume and number of trials.\n",
    "for i in range(0, N):\n",
    "    temp = np.random.random_sample() * volume\n",
    "    \n",
    "    # Prevent large outliers. The limit is arbitrary, it is just so the graph looks nice.\n",
    "    limit = np.random.random_sample() + 1\n",
    "    while(k/temp > volume/limit):\n",
    "        temp = np.random.random_sample() * volume\n",
    "    \n",
    "    outputx = np.random.uniform(temp-sd, temp+sd)\n",
    "    outputy = np.random.uniform((k/temp)-sd, (k/temp)+sd)\n",
    "    \n",
    "    gx.append(outputx)\n",
    "    gy.append(outputy)\n",
    "\n",
    "# Create a trace.\n",
    "trace = go.Scatter(\n",
    "    x = gx,\n",
    "    y = gy,\n",
    "    mode = 'markers'\n",
    ")\n",
    "\n",
    "# Plot graph\n",
    "templayout = go.Layout( title = 'Pressure vs. Volume', xaxis = dict(title='Volume'), yaxis = dict(title='Pressure') )\n",
    "tempdata = [trace]\n",
    "fig = go.Figure(data = tempdata, layout = templayout)\n",
    "py.iplot(fig, filename='basic-scatter')"
   ]
  },
  {
   "cell_type": "markdown",
   "metadata": {},
   "source": [
    "# Questions\n",
    "1. Assume the temperature and the number of gas molecules stay constant within the adult’s lung. Initially, the capacity of the lung is 3.4 liters, and the pressure in the adult’s lung is 15 mmHg. When the lung is expanded to the maximum capacity, use Boyle’s Law to determine the new pressure in the adult’s lung. "
   ]
  },
  {
   "cell_type": "code",
   "execution_count": 6,
   "metadata": {},
   "outputs": [
    {
     "data": {
      "application/vnd.jupyter.widget-view+json": {
       "model_id": "92e3299721c54db6a80322767c500282",
       "version_major": 2,
       "version_minor": 0
      },
      "text/plain": [
       "Text(value='')"
      ]
     },
     "metadata": {},
     "output_type": "display_data"
    },
    {
     "name": "stdout",
     "output_type": "stream",
     "text": [
      "1.1\n",
      "Yay!\n",
      "1.1\n",
      "Yay!\n"
     ]
    }
   ],
   "source": [
    "answer = 1.1\n",
    "\n",
    "from IPython.display import display \n",
    "from ipywidgets import widgets\n",
    "\n",
    "def f(x):\n",
    "    temp = -10000\n",
    "    \n",
    "    print(text.value)\n",
    "    try:\n",
    "        temp = float(text.value)\n",
    "    except:\n",
    "        print(\"Not a number\")\n",
    "    \n",
    "    if(temp == answer):\n",
    "        print(\"Yay!\")\n",
    "    else:\n",
    "        print(\"Whoops! Try again!\")\n",
    "\n",
    "text = widgets.Text()\n",
    "display(text)\n",
    "\n",
    "text.on_submit(f)"
   ]
  },
  {
   "cell_type": "markdown",
   "metadata": {},
   "source": [
    "2. Assume the temperature and the number of gas molecules stay constant within the balloon. A small gas container has 90 milliliters of nitrogen which in pumped into a balloon with a pressure of 1.0 atm. The balloon is sealed tightly, and it is released and raised to a higher altitude where the atmospheric pressure is 50 kPa. Find the final volume of the balloon as it raises up to the mountain. "
   ]
  },
  {
   "cell_type": "code",
   "execution_count": 7,
   "metadata": {},
   "outputs": [
    {
     "data": {
      "application/vnd.jupyter.widget-view+json": {
       "model_id": "6d04c892ca604818b7f8bc9831971fad",
       "version_major": 2,
       "version_minor": 0
      },
      "text/plain": [
       "Text(value='')"
      ]
     },
     "metadata": {},
     "output_type": "display_data"
    }
   ],
   "source": [
    "answer = 0.18\n",
    "\n",
    "from IPython.display import display \n",
    "from ipywidgets import widgets\n",
    "\n",
    "def f(x):\n",
    "    temp = -10000\n",
    "    \n",
    "    print(text.value)\n",
    "    try:\n",
    "        temp = float(text.value)\n",
    "    except:\n",
    "        print(\"Not a number\")\n",
    "    \n",
    "    if(temp == answer):\n",
    "        print(\"Yay!\")\n",
    "    else:\n",
    "        print(\"Whoops! Try again!\")\n",
    "\n",
    "text = widgets.Text()\n",
    "display(text)\n",
    "\n",
    "text.on_submit(f)"
   ]
  },
  {
   "cell_type": "markdown",
   "metadata": {},
   "source": [
    "3. Assume the temperature and the number of gas molecules stay constant within a flexible plastic pump. With the pump closed, by what factor does pressure need to change in order for the volume of the pump to be half of its original size? "
   ]
  },
  {
   "cell_type": "code",
   "execution_count": 8,
   "metadata": {},
   "outputs": [
    {
     "data": {
      "application/vnd.jupyter.widget-view+json": {
       "model_id": "41bd394227ef4a2983ee73c8ec15c952",
       "version_major": 2,
       "version_minor": 0
      },
      "text/plain": [
       "Text(value='')"
      ]
     },
     "metadata": {},
     "output_type": "display_data"
    }
   ],
   "source": [
    "answer = 2\n",
    "\n",
    "from IPython.display import display \n",
    "from ipywidgets import widgets\n",
    "\n",
    "def f(x):\n",
    "    temp = -10000\n",
    "    \n",
    "    print(text.value)\n",
    "    try:\n",
    "        temp = int(text.value)\n",
    "    except:\n",
    "        print(\"Not a number\")\n",
    "    \n",
    "    if(temp == answer):\n",
    "        print(\"Yay!\")\n",
    "    else:\n",
    "        print(\"Whoops! Try again!\")\n",
    "\n",
    "text = widgets.Text()\n",
    "display(text)\n",
    "\n",
    "text.on_submit(f)"
   ]
  },
  {
   "cell_type": "markdown",
   "metadata": {},
   "source": [
    "# Charles' Law\n",
    "In airbags, the temperature is originally extremely high due to the nitrogen gas that inflates it. As a result, the volume of the airbag is quickly expanded due to the directly proportional relationship between the temperature and the volume of the gas. When the airbag is later exposed to the outside air, the temperature decreases significantly which causes the volume of the airbag to decrease to a smaller size, creating a softer cushion for the impact.\n",
    "\n",
    "This relationship between the two variables of volume and temperature is a direct relationship which is defined by the Charle's Law, the idea that the temperature and the volume have an directly proportional relationship at a constant pressure. \n",
    "\n",
    "Using the kinetic molecular theory to explain the Charles' Law, the pressure and the chemical amount of gas are held constant using a piston. When the temperature of the gas molecules increases, the gas molecules will move at a higher speed because temperature and the average kinetic energy of the gas molecules have a direct relationship. As a result, gas molecules will collide with each other and with walls of the container more frequently which exerts a greater force on the wall of container. Because the external pressure on the container are held constant, but the gas pressure inside the container are increased which will push the piston of the container to increase the volume of the container.\n",
    "\n",
    "It can be expressed by the equation below: ![V1/T1=V2/T2](Images/charles-law.png)\n"
   ]
  },
  {
   "cell_type": "markdown",
   "metadata": {},
   "source": [
    "# Questions\n",
    "\n",
    "1. a specific amount of gas molecules is sealed within a container with a movable piston. The initial volume of the gas within the cylinder is 3.0 liters at 10 degrees. What will be the final volume of the gas container when the temperature is raised up to 30 degrees?  "
   ]
  },
  {
   "cell_type": "code",
   "execution_count": 6,
   "metadata": {},
   "outputs": [
    {
     "data": {
      "application/vnd.jupyter.widget-view+json": {
       "model_id": "b98f5093f9d3474c86351b7af4cd1392",
       "version_major": 2,
       "version_minor": 0
      },
      "text/plain": [
       "Text(value='')"
      ]
     },
     "metadata": {},
     "output_type": "display_data"
    },
    {
     "name": "stdout",
     "output_type": "stream",
     "text": [
      "807\n",
      "Yay!\n"
     ]
    }
   ],
   "source": [
    "answer = 0.0032\n",
    "\n",
    "from IPython.display import display \n",
    "from ipywidgets import widgets\n",
    "\n",
    "def f(x):\n",
    "    temp = -10000\n",
    "    \n",
    "    print(text.value)\n",
    "    try:\n",
    "        temp = float(text.value)\n",
    "    except:\n",
    "        print(\"Not a number\")\n",
    "    \n",
    "    if(temp == answer):\n",
    "        print(\"Yay!\")\n",
    "    else:\n",
    "        print(\"Whoops! Try again!\")\n",
    "\n",
    "text = widgets.Text()\n",
    "display(text)\n",
    "\n",
    "text.on_submit(f)"
   ]
  },
  {
   "cell_type": "markdown",
   "metadata": {},
   "source": [
    "2. for a hot balloon that contains helium gas, it initially contains 1000$m^{3}$ at a temperature of 20.00 degrees. As fire is burning at the bottom of the balloon, what is the minimum temperature needed for the hot balloon in order for the volume to increase to 17000 $m^{3}$?\n"
   ]
  },
  {
   "cell_type": "code",
   "execution_count": 14,
   "metadata": {},
   "outputs": [
    {
     "data": {
      "application/vnd.jupyter.widget-view+json": {
       "model_id": "bb9506dadde648e7a5b1395bb112c1a8",
       "version_major": 2,
       "version_minor": 0
      },
      "text/plain": [
       "Text(value='')"
      ]
     },
     "metadata": {},
     "output_type": "display_data"
    },
    {
     "name": "stdout",
     "output_type": "stream",
     "text": [
      "4710\n",
      "Yay!\n"
     ]
    }
   ],
   "source": [
    "answer = 4710\n",
    "\n",
    "from IPython.display import display \n",
    "from ipywidgets import widgets\n",
    "\n",
    "def f(x):\n",
    "    temp = -10000\n",
    "    \n",
    "    print(text.value)\n",
    "    try:\n",
    "        temp = float(text.value)\n",
    "    except:\n",
    "        print(\"Not a number\")\n",
    "    \n",
    "    if(temp == answer):\n",
    "        print(\"Yay!\")\n",
    "    else:\n",
    "        print(\"Whoops! Try again!\")\n",
    "\n",
    "text = widgets.Text()\n",
    "display(text)\n",
    "\n",
    "text.on_submit(f)\n"
   ]
  },
  {
   "cell_type": "markdown",
   "metadata": {},
   "source": [
    "3. when a float pool contains gas at 20 degrees, and it is heated up an additional 14 degrees. What is the new volume if it contained 3.2 liters of gas originally?"
   ]
  },
  {
   "cell_type": "code",
   "execution_count": 16,
   "metadata": {},
   "outputs": [
    {
     "data": {
      "application/vnd.jupyter.widget-view+json": {
       "model_id": "94ca81cd54be4b4a9bbff93f4e963315",
       "version_major": 2,
       "version_minor": 0
      },
      "text/plain": [
       "Text(value='')"
      ]
     },
     "metadata": {},
     "output_type": "display_data"
    },
    {
     "name": "stdout",
     "output_type": "stream",
     "text": [
      "4710\n",
      "Yay!\n"
     ]
    }
   ],
   "source": [
    "answer = 4710\n",
    "\n",
    "from IPython.display import display \n",
    "from ipywidgets import widgets\n",
    "\n",
    "def f(x):\n",
    "    temp = -10000\n",
    "    \n",
    "    print(text.value)\n",
    "    try:\n",
    "        temp = float(text.value)\n",
    "    except:\n",
    "        print(\"Not a number\")\n",
    "    \n",
    "    if(temp == answer):\n",
    "        print(\"Yay!\")\n",
    "    else:\n",
    "        print(\"Whoops! Try again!\")\n",
    "\n",
    "text = widgets.Text()\n",
    "display(text)\n",
    "\n",
    "text.on_submit(f)\n"
   ]
  },
  {
   "cell_type": "code",
   "execution_count": 38,
   "metadata": {},
   "outputs": [],
   "source": [
    "#imports, information to help generate graph\n",
    "import plotly.offline as py\n",
    "from plotly.offline import init_notebook_mode, iplot\n",
    "import plotly.graph_objs as go\n",
    "import numpy as np\n",
    "import random"
   ]
  },
  {
   "cell_type": "code",
   "execution_count": 62,
   "metadata": {},
   "outputs": [],
   "source": [
    "#STEP 1\n",
    "#set these values ONCE at the beginning of your experiment\n",
    "\n",
    "ave_volume=10 #in litres\n",
    "sd=4 # Standard deviation of the data. More information: Intro to Standard Deviation Notebook\n",
    "\n",
    "volumes = []\n",
    "temps = []\n",
    "trials = []"
   ]
  },
  {
   "cell_type": "code",
   "execution_count": 66,
   "metadata": {},
   "outputs": [],
   "source": [
    "#STEP 2\n",
    "#run this cell to generate values to populate your table, then run the table-generating cell\n",
    "yielded = random.uniform((ave_volume-sd), (ave_volume+sd))\n",
    "\n",
    "volume = round(yielded, 2)\n",
    "volumes.append(volume)\n",
    "\n",
    "k = 0.56 #constant for simplicity\n",
    "temps.append(k*volume)\n",
    "\n",
    "if len(volumes) > len(trials):\n",
    "    trials.append('Trial ' + str(len(volumes)))"
   ]
  },
  {
   "cell_type": "code",
   "execution_count": 67,
   "metadata": {},
   "outputs": [
    {
     "data": {
      "text/html": [
       "<script>requirejs.config({paths: { 'plotly': ['https://cdn.plot.ly/plotly-latest.min']},});if(!window.Plotly) {{require(['plotly'],function(plotly) {window.Plotly=plotly;});}}</script>"
      ],
      "text/vnd.plotly.v1+html": [
       "<script>requirejs.config({paths: { 'plotly': ['https://cdn.plot.ly/plotly-latest.min']},});if(!window.Plotly) {{require(['plotly'],function(plotly) {window.Plotly=plotly;});}}</script>"
      ]
     },
     "metadata": {},
     "output_type": "display_data"
    },
    {
     "data": {
      "application/vnd.plotly.v1+json": {
       "data": [
        {
         "name": "Volume",
         "type": "bar",
         "x": [
          "Trial 1",
          "Trial 2",
          "Trial 3"
         ],
         "y": [
          6.81,
          9.8,
          13.01
         ]
        },
        {
         "name": "Temperature",
         "type": "bar",
         "x": [
          "Trial 1",
          "Trial 2",
          "Trial 3"
         ],
         "y": [
          3.8136,
          5.488000000000001,
          7.2856000000000005
         ]
        }
       ],
       "layout": {
        "barmode": "group"
       }
      },
      "text/html": [
       "<div id=\"619b22e7-931f-4f21-96c9-bd556e4edec0\" style=\"height: 525px; width: 100%;\" class=\"plotly-graph-div\"></div><script type=\"text/javascript\">require([\"plotly\"], function(Plotly) { window.PLOTLYENV=window.PLOTLYENV || {};window.PLOTLYENV.BASE_URL=\"https://plot.ly\";Plotly.newPlot(\"619b22e7-931f-4f21-96c9-bd556e4edec0\", [{\"type\": \"bar\", \"x\": [\"Trial 1\", \"Trial 2\", \"Trial 3\"], \"y\": [6.81, 9.8, 13.01], \"name\": \"Volume\"}, {\"type\": \"bar\", \"x\": [\"Trial 1\", \"Trial 2\", \"Trial 3\"], \"y\": [3.8136, 5.488000000000001, 7.2856000000000005], \"name\": \"Temperature\"}], {\"barmode\": \"group\"}, {\"showLink\": true, \"linkText\": \"Export to plot.ly\"})});</script>"
      ],
      "text/vnd.plotly.v1+html": [
       "<div id=\"619b22e7-931f-4f21-96c9-bd556e4edec0\" style=\"height: 525px; width: 100%;\" class=\"plotly-graph-div\"></div><script type=\"text/javascript\">require([\"plotly\"], function(Plotly) { window.PLOTLYENV=window.PLOTLYENV || {};window.PLOTLYENV.BASE_URL=\"https://plot.ly\";Plotly.newPlot(\"619b22e7-931f-4f21-96c9-bd556e4edec0\", [{\"type\": \"bar\", \"x\": [\"Trial 1\", \"Trial 2\", \"Trial 3\"], \"y\": [6.81, 9.8, 13.01], \"name\": \"Volume\"}, {\"type\": \"bar\", \"x\": [\"Trial 1\", \"Trial 2\", \"Trial 3\"], \"y\": [3.8136, 5.488000000000001, 7.2856000000000005], \"name\": \"Temperature\"}], {\"barmode\": \"group\"}, {\"showLink\": true, \"linkText\": \"Export to plot.ly\"})});</script>"
      ]
     },
     "metadata": {},
     "output_type": "display_data"
    }
   ],
   "source": [
    "#STEP 3\n",
    "#graph-generating cell - run after generating each new data pair\n",
    "\n",
    "init_notebook_mode(connected=True)\n",
    "\n",
    "#generates volume bars\n",
    "trace1 = go.Bar(\n",
    "    x=trials,\n",
    "    y=volumes,\n",
    "    name='Volume'\n",
    ")\n",
    "\n",
    "#generates temperature bars\n",
    "trace2 = go.Bar(\n",
    "    x=trials,\n",
    "    y=temps,\n",
    "    name='Temperature'\n",
    ")\n",
    "\n",
    "#gives graph grouped-bars layout\n",
    "data = [trace1, trace2]\n",
    "layout = go.Layout(\n",
    "    barmode='group'\n",
    ")\n",
    "\n",
    "#generates graph\n",
    "fig = go.Figure(data=data, layout=layout)\n",
    "py.iplot(fig, filename='grouped-bar')"
   ]
  },
  {
   "cell_type": "markdown",
   "metadata": {},
   "source": [
    "# Gay-Lussac's Law\n",
    "In bullet guns, you will see a plume of smoke as the gunpowder burns and the bullet whizzes out. The increase in temperature will cause an increase in the pressure which forces the bullet out of the barrel. \n",
    "\n",
    "In technical terms, the average kinetic energy of the molecule is referred as the temperature, and the density of the particles is referred as the pressure. The relationship between the two variables is a direct relationship which is defined by the Gay-Lussac's Law, the idea that the temperature and the pressure have an directly proportional relationship at a constant volume.\n",
    "\n",
    "Using the kinetic molecular theory to explain the Gay-Lussac's law,  the volume and the chemical amount of gas are held constant. When the temperature of the gas molecules are increased, the gas molecules will move at a higher speed because temperature and the average kinetic energy of the gas molecules have a direct relationship. As a result, gas molecules will collide with each other and with the wall of the container more frequently which exerts a greater force on the wall of container which increases the pressure of the gas. \n",
    "\n",
    "It can be expressed by the equation below: ![P1/T1=P2/T2](Images/Gay-Lussacs-Law.png)\n"
   ]
  },
  {
   "cell_type": "markdown",
   "metadata": {},
   "source": [
    "# Questions\n",
    "\n",
    "1. The gas particles are sealed into a gas container at 200 mmHg under the 15.0 degrees room temperature. As the pressure on the gas particles are increased to 560 mmHg, what is the new temperature of the gas molecules?"
   ]
  },
  {
   "cell_type": "code",
   "execution_count": 13,
   "metadata": {},
   "outputs": [
    {
     "data": {
      "application/vnd.jupyter.widget-view+json": {
       "model_id": "fcf411a6ae944cff91c9afb6ffe12dbb",
       "version_major": 2,
       "version_minor": 0
      },
      "text/plain": [
       "Text(value='')"
      ]
     },
     "metadata": {},
     "output_type": "display_data"
    },
    {
     "name": "stdout",
     "output_type": "stream",
     "text": [
      "807\n",
      "Yay!\n"
     ]
    }
   ],
   "source": [
    "answer = 807\n",
    "\n",
    "from IPython.display import display \n",
    "from ipywidgets import widgets\n",
    "\n",
    "def f(x):\n",
    "    temp = -10000\n",
    "    \n",
    "    print(text.value)\n",
    "    try:\n",
    "        temp = int(text.value)\n",
    "    except:\n",
    "        print(\"Not a number\")\n",
    "    \n",
    "    if(temp == answer):\n",
    "        print(\"Yay!\")\n",
    "    else:\n",
    "        print(\"Whoops! Try again!\")\n",
    "\n",
    "text = widgets.Text()\n",
    "display(text)\n",
    "\n",
    "text.on_submit(f)\n"
   ]
  },
  {
   "cell_type": "markdown",
   "metadata": {},
   "source": [
    "2. A cylinder container has a constant fixed volume at a temperature of 30.0 degrees and a pressure of 101 kPa. As the pressure on the container is increased to 200 kPa, how much percentage of the temperature will be increased?\n"
   ]
  },
  {
   "cell_type": "code",
   "execution_count": 12,
   "metadata": {},
   "outputs": [
    {
     "data": {
      "application/vnd.jupyter.widget-view+json": {
       "model_id": "b67b5e20cf494323880dde75018c1dd0",
       "version_major": 2,
       "version_minor": 0
      },
      "text/plain": [
       "Text(value='')"
      ]
     },
     "metadata": {},
     "output_type": "display_data"
    },
    {
     "name": "stdout",
     "output_type": "stream",
     "text": [
      "706\n",
      "Yay!\n"
     ]
    }
   ],
   "source": [
    "answer = 706\n",
    "\n",
    "from IPython.display import display \n",
    "from ipywidgets import widgets\n",
    "\n",
    "def f(x):\n",
    "    temp = -10000\n",
    "    \n",
    "    print(text.value)\n",
    "    try:\n",
    "        temp = int(text.value)\n",
    "    except:\n",
    "        print(\"Not a number\")\n",
    "    \n",
    "    if(temp == answer):\n",
    "        print(\"Yay!\")\n",
    "    else:\n",
    "        print(\"Whoops! Try again!\")\n",
    "\n",
    "text = widgets.Text()\n",
    "display(text)\n",
    "\n",
    "text.on_submit(f)\n"
   ]
  },
  {
   "cell_type": "markdown",
   "metadata": {},
   "source": [
    "3. If a gun needs 124105.63 kPa to shoot out a bullet, the gun initially exerts a pressure of 1000.0kPa on the bullet at a temperature of 20.000 degrees. How much temperature is increased in order for the bullet to be shot? "
   ]
  },
  {
   "cell_type": "code",
   "execution_count": 7,
   "metadata": {},
   "outputs": [
    {
     "data": {
      "application/vnd.jupyter.widget-view+json": {
       "model_id": "ea6365bdfccb42c0908dc79f657b4bd7",
       "version_major": 2,
       "version_minor": 0
      },
      "text/plain": [
       "Text(value='')"
      ]
     },
     "metadata": {},
     "output_type": "display_data"
    },
    {
     "name": "stdout",
     "output_type": "stream",
     "text": [
      "36088\n",
      "Yay!\n"
     ]
    }
   ],
   "source": [
    "answer = 36088\n",
    "\n",
    "from IPython.display import display \n",
    "from ipywidgets import widgets\n",
    "\n",
    "def f(x):\n",
    "    temp = -10000\n",
    "    \n",
    "    print(text.value)\n",
    "    try:\n",
    "        temp = int(text.value)\n",
    "    except:\n",
    "        print(\"Not a number\")\n",
    "    \n",
    "    if(temp == answer):\n",
    "        print(\"Yay!\")\n",
    "    else:\n",
    "        print(\"Whoops! Try again!\")\n",
    "\n",
    "text = widgets.Text()\n",
    "display(text)\n",
    "\n",
    "text.on_submit(f) "
   ]
  },
  {
   "cell_type": "code",
   "execution_count": 53,
   "metadata": {},
   "outputs": [],
   "source": [
    "#imports, information to help generate table\n",
    "import pandas as pd\n",
    "import matplotlib as mpl\n",
    "import numpy as np\n",
    "import random"
   ]
  },
  {
   "cell_type": "code",
   "execution_count": 68,
   "metadata": {},
   "outputs": [],
   "source": [
    "#STEP 1\n",
    "#set these values ONCE at the beginning of your experiment\n",
    "\n",
    "ave_pressure = 10 #in kPa\n",
    "sd = 1 # Standard deviation of the data. More information: Intro to Standard Deviation Notebook\n",
    "\n",
    "trials = [] #leave this blank for now - values will be added later!"
   ]
  },
  {
   "cell_type": "code",
   "execution_count": 73,
   "metadata": {},
   "outputs": [],
   "source": [
    "#STEP 2\n",
    "#run this cell to generate values to populate your table, then run the table-generating cell\n",
    "yielded = random.uniform((ave_pressure-sd), (ave_pressure+sd))\n",
    "\n",
    "pressure = round(yielded, 2)\n",
    "\n",
    "k = 15 #contant for simplicity\n",
    "\n",
    "trials.append((pressure, 10*pressure))"
   ]
  },
  {
   "cell_type": "code",
   "execution_count": 74,
   "metadata": {},
   "outputs": [
    {
     "data": {
      "text/html": [
       "<style  type=\"text/css\" >\n",
       "</style>  \n",
       "<table id=\"T_a12083b6_8526_11e8_ac12_0242ac110002\" > \n",
       "<thead>    <tr> \n",
       "        <th class=\"blank level0\" ></th> \n",
       "        <th class=\"col_heading level0 col0\" >Pressure</th> \n",
       "        <th class=\"col_heading level0 col1\" >Temperature</th> \n",
       "    </tr></thead> \n",
       "<tbody>    <tr> \n",
       "        <th id=\"T_a12083b6_8526_11e8_ac12_0242ac110002level0_row0\" class=\"row_heading level0 row0\" >0</th> \n",
       "        <td id=\"T_a12083b6_8526_11e8_ac12_0242ac110002row0_col0\" class=\"data row0 col0\" >9.27</td> \n",
       "        <td id=\"T_a12083b6_8526_11e8_ac12_0242ac110002row0_col1\" class=\"data row0 col1\" >92.7</td> \n",
       "    </tr>    <tr> \n",
       "        <th id=\"T_a12083b6_8526_11e8_ac12_0242ac110002level0_row1\" class=\"row_heading level0 row1\" >1</th> \n",
       "        <td id=\"T_a12083b6_8526_11e8_ac12_0242ac110002row1_col0\" class=\"data row1 col0\" >9.45</td> \n",
       "        <td id=\"T_a12083b6_8526_11e8_ac12_0242ac110002row1_col1\" class=\"data row1 col1\" >94.5</td> \n",
       "    </tr>    <tr> \n",
       "        <th id=\"T_a12083b6_8526_11e8_ac12_0242ac110002level0_row2\" class=\"row_heading level0 row2\" >2</th> \n",
       "        <td id=\"T_a12083b6_8526_11e8_ac12_0242ac110002row2_col0\" class=\"data row2 col0\" >9.76</td> \n",
       "        <td id=\"T_a12083b6_8526_11e8_ac12_0242ac110002row2_col1\" class=\"data row2 col1\" >97.6</td> \n",
       "    </tr>    <tr> \n",
       "        <th id=\"T_a12083b6_8526_11e8_ac12_0242ac110002level0_row3\" class=\"row_heading level0 row3\" >3</th> \n",
       "        <td id=\"T_a12083b6_8526_11e8_ac12_0242ac110002row3_col0\" class=\"data row3 col0\" >10.74</td> \n",
       "        <td id=\"T_a12083b6_8526_11e8_ac12_0242ac110002row3_col1\" class=\"data row3 col1\" >107.4</td> \n",
       "    </tr></tbody> \n",
       "</table> "
      ],
      "text/plain": [
       "<pandas.io.formats.style.Styler at 0x7f568317d748>"
      ]
     },
     "execution_count": 74,
     "metadata": {},
     "output_type": "execute_result"
    }
   ],
   "source": [
    "#STEP 3\n",
    "#table-generating cell - run after generating each new data pair\n",
    "labels = ['Pressure', 'Temperature']\n",
    "trials.sort()\n",
    "df = pd.DataFrame.from_records(trials, columns=labels)\n",
    "df.head\n",
    "df.style\n",
    "#run step 2 then step 3 repeatedly until satisfied with your table of values"
   ]
  },
  {
   "cell_type": "markdown",
   "metadata": {},
   "source": [
    "# Combined Gas Law\n",
    "The Combined Gas Law takes Boyle’s, Gay-Lussac’s, and Charles’ Laws into one equation where the amount of gas is constant. The inverse relationship between pressure and volume is maintained as well as the directly proportional relationship between pressure and temperature, and volume and temperature. It can be expressed by the equation below: ![P1V1/T1=P2V2/T2](Images/combined-gas-law.png)"
   ]
  },
  {
   "cell_type": "markdown",
   "metadata": {},
   "source": [
    "# Questions\n",
    "\n",
    "A balloon that contains 10 liters of helium gas at an atmospheric pressure of 101 kPa and at a temperature of 25 degrees is released to rise into the upper atmosphere where the temperature is -10 degrees and the atmospheric air pressure is 15 kPa. During the experiment, the measured volume of the balloon after it rises to a higher altitude is 60 L Assume gas cannot escape. Calculate the experimental error?"
   ]
  },
  {
   "cell_type": "code",
   "execution_count": null,
   "metadata": {},
   "outputs": [],
   "source": [
    "answer = 0.96%\n",
    "\n",
    "from IPython.display import display \n",
    "from ipywidgets import widgets\n",
    "\n",
    "def f(x):\n",
    "    temp = -10000\n",
    "    \n",
    "    print(text.value)\n",
    "    try:\n",
    "        temp = int(text.value)\n",
    "    except:\n",
    "        print(\"Not a number\")\n",
    "    \n",
    "    if(temp == answer):\n",
    "        print(\"Yay!\")\n",
    "    else:\n",
    "        print(\"Whoops! Try again!\")\n",
    "\n",
    "text = widgets.Text()\n",
    "display(text)\n",
    "\n",
    "text.on_submit(f)"
   ]
  },
  {
   "cell_type": "raw",
   "metadata": {},
   "source": [
    "Example: A balloon that contains hydrogen gas has 5.0 liters when it is measured on a mountain where the air atmospheric pressure is only 30 kPa, and the temperature is only -30 degrees. What is the new volume of the balloon if the balloon occupies at SATP?\n",
    " (SATP condition: 25 degrees and 100 kPa)"
   ]
  },
  {
   "cell_type": "code",
   "execution_count": null,
   "metadata": {},
   "outputs": [],
   "source": [
    "answer = 0.0018\n",
    "\n",
    "from IPython.display import display \n",
    "from ipywidgets import widgets\n",
    "\n",
    "def f(x):\n",
    "    temp = -10000\n",
    "    \n",
    "    print(text.value)\n",
    "    try:\n",
    "        temp = int(text.value)\n",
    "    except:\n",
    "        print(\"Not a number\")\n",
    "    \n",
    "    if(temp == answer):\n",
    "        print(\"Yay!\")\n",
    "    else:\n",
    "        print(\"Whoops! Try again!\")\n",
    "\n",
    "text = widgets.Text()\n",
    "display(text)\n",
    "\n",
    "text.on_submit(f)"
   ]
  },
  {
   "cell_type": "raw",
   "metadata": {},
   "source": [
    "Example: A gas is measured to have a volume of 20.0 liters at a temperature of 20.0 degrees and at an atmospheric pressure of 1.00 atm. As the gas is raised up to a higher air pressure, what is the new air pressure if the final volume measured is 10.0 liters and the temperature is 5.00 degrees."
   ]
  },
  {
   "cell_type": "code",
   "execution_count": null,
   "metadata": {},
   "outputs": [],
   "source": [
    "answer = 192\n",
    "\n",
    "from IPython.display import display \n",
    "from ipywidgets import widgets\n",
    "\n",
    "def f(x):\n",
    "    temp = -10000\n",
    "    \n",
    "    print(text.value)\n",
    "    try:\n",
    "        temp = int(text.value)\n",
    "    except:\n",
    "        print(\"Not a number\")\n",
    "    \n",
    "    if(temp == answer):\n",
    "        print(\"Yay!\")\n",
    "    else:\n",
    "        print(\"Whoops! Try again!\")\n",
    "\n",
    "text = widgets.Text()\n",
    "display(text)\n",
    "\n",
    "text.on_submit(f)"
   ]
  },
  {
   "cell_type": "code",
   "execution_count": null,
   "metadata": {},
   "outputs": [],
   "source": []
  }
 ],
 "metadata": {
  "kernelspec": {
   "display_name": "Python 3",
   "language": "python",
   "name": "python3"
  },
  "language_info": {
   "codemirror_mode": {
    "name": "ipython",
    "version": 3
   },
   "file_extension": ".py",
   "mimetype": "text/x-python",
   "name": "python",
   "nbconvert_exporter": "python",
   "pygments_lexer": "ipython3",
   "version": "3.6.5"
  }
 },
 "nbformat": 4,
 "nbformat_minor": 2
}
