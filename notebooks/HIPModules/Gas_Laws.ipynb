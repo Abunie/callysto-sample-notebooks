{
 "cells": [
  {
   "cell_type": "markdown",
   "metadata": {},
   "source": [
    "<img src=\"../images/Callysto_Notebook-Banner_Top_06.06.18.jpg\"/>"
   ]
  },
  {
   "cell_type": "code",
   "execution_count": 26,
   "metadata": {},
   "outputs": [
    {
     "name": "stdout",
     "output_type": "stream",
     "text": [
      "Hidden code segment block.\n"
     ]
    },
    {
     "data": {
      "text/html": [
       "<script>\n",
       "code_show=true; \n",
       "function code_toggle() {\n",
       "  if (code_show) {\n",
       "    $('div.input').each(function(id) {\n",
       "      el = $(this).find('.cm-variable:first');\n",
       "      if (id == 0 || el.text() == 'hide_me') {\n",
       "        $(this).hide();\n",
       "      }\n",
       "    });\n",
       "    $('div.output_prompt').css('opacity', 0);\n",
       "  } else {\n",
       "    $('div.input').each(function(id) {\n",
       "      $(this).show();\n",
       "    });\n",
       "    $('div.output_prompt').css('opacity', 1);\n",
       "  }\n",
       "  code_show = !code_show\n",
       "} \n",
       "$( document ).ready(code_toggle);\n",
       "</script>\n",
       "<form action=\"javascript:code_toggle()\"><input style=\"opacity:0\" type=\"submit\" value=\"Click here to toggle on/off the raw code.\"></form>"
      ],
      "text/plain": [
       "<IPython.core.display.HTML object>"
      ]
     },
     "execution_count": 26,
     "metadata": {},
     "output_type": "execute_result"
    }
   ],
   "source": [
    "# Temperary code placement to store code for hiding cells.\n",
    "\n",
    "from IPython.display import HTML\n",
    "\n",
    "hide_me = HTML('''<script>\n",
    "code_show=true; \n",
    "function code_toggle() {\n",
    "  if (code_show) {\n",
    "    $('div.input').each(function(id) {\n",
    "      el = $(this).find('.cm-variable:first');\n",
    "      if (id == 0 || el.text() == 'hide_me') {\n",
    "        $(this).hide();\n",
    "      }\n",
    "    });\n",
    "    $('div.output_prompt').css('opacity', 0);\n",
    "  } else {\n",
    "    $('div.input').each(function(id) {\n",
    "      $(this).show();\n",
    "    });\n",
    "    $('div.output_prompt').css('opacity', 1);\n",
    "  }\n",
    "  code_show = !code_show\n",
    "} \n",
    "$( document ).ready(code_toggle);\n",
    "</script>\n",
    "<form action=\"javascript:code_toggle()\"><input style=\"opacity:0\" type=\"submit\" value=\"Click here to toggle on/off the raw code.\"></form>''')\n",
    "\n",
    "print(\"Hidden code segment block.\")\n",
    "\n",
    "hide_me"
   ]
  },
  {
   "cell_type": "markdown",
   "metadata": {},
   "source": [
    "In 1662 Robert Boyle understood the importance of this and discovered the relationship between pressure and volume, assuming a constant temperature. Similarly, in 1787 Jacques Charles found the relationship between volume and temperature, assuming a constant pressure. Furthermore, in 1809 Joseph Louis Gay-Lussac found the relationship between pressure and temperature, assuming a constant volume of the gas container. These three laws can be combined to produce the Combined Gas Law, which relates all three quantities."
   ]
  },
  {
   "cell_type": "markdown",
   "metadata": {},
   "source": [
    "# Pre-requisites / Background\n",
    "\n",
    "[comment]: # (This curriculum objective is from before the curriculum remake. It may still be an objective after though.)\n",
    "**Alberta Curriculum Objective: Illustrate how Boyle's and Charles's laws, individually and combined, are related to the ideal gas law (PV = nRT ).**\n",
    "http://www.learnalberta.ca/ProgramOfStudy.aspx?lang=en&ProgramId=525479#707983\n",
    "\n",
    "In this notebook we will be working with Boyle's Law, Charles' Law, and Gay-Lussac's Law to build up to introducing the combined gas law, with a statistics extension.\n",
    "\n",
    "We are expecting that the students understand Celsius to Kelvin conversions, converting between pressure units, and Kinetic Molecular Theory (ideal gas assumptions). If they have already been introduced to these laws, this notebook will simply provide review and extra practice."
   ]
  },
  {
   "cell_type": "markdown",
   "metadata": {},
   "source": [
    "# Introduction\n",
    "Gases surround and shape the world around us all the time. From the air you breath to pneumatic gas-powered pistons that run our machinery, it is important to understand the properties of any given gas so we can better utilize it for our benefit. In a closed container, the pressure, temperature and volume dictate much of how a given gas behaves and understanding how these three properties relate to each other is fundamental to moving forward with our pursuit of understanding gas. Three laws were developed over time to correlate two of the values at a time and assumes the third property remains constant. These laws develop into a Combined Gas Law that correlates all three properties of a given gas."
   ]
  },
  {
   "cell_type": "markdown",
   "metadata": {},
   "source": [
    "# The Gas Laws\n",
    "## Boyle's Law\n",
    "When you breath, how does the air pressure in your lungs and the volume of your lungs relate? When you breath out, you first greatly decrease the volume of your lungs. This increases the pressure exerted on and by the air in your lungs, and the air is forced out. When you breath back in your first increase the volume of your lungs, and create an area of low air pressure in your lungs. Air from your environment then rushes into your lungs, and then the process repeats.\n",
    "\n",
    "The pressure and volume of a gas assuming constant temperature have a inverse relationship, and without this we would be unable to breathe. Through experimentation, in 1662 Robert Boyle was able to derive this relationship. Boyle's Law is as follows:\n",
    "## PV = k\n",
    "\n",
    "where P is the pressure in the system, V is the volume, and k is a system-specific constant. You do not need to learn about k in Chemistry 20.\n",
    "\n",
    "If you recall back to kinetic molecular theory, the space the *isolated* gas particles occupy is considered the volume of the gas, and the pressure is the collective force the gas particles exert on the walls of its container. If the external pressure is increased, the volume available for the gas molecules is decreased. As a result, the gas molecules become closer together and will collide with each other and with the wall of the container more frequently. As the number of collisions increases, the average force exerted by the gas molecules are increased.\n",
    "\n",
    "For the purposes of Chemistry 20 is better to understand Boyle's Law as the following equation:\n",
    "## P<sub>1</sub>V<sub>1</sub> = P<sub>2</sub>V<sub>2</sub>\n",
    "This equation shows how changing pressure or volume impacts the other quantity when there is a change in the system. The P/V with the one subscript are the initial pressure and volume, and the P/V with two as a subscript are the quantities after the change. Use this equation for questions relating to Boyle's Law, the equation with k is not tested in the Chemistry 20 curriculum."
   ]
  },
  {
   "cell_type": "code",
   "execution_count": 28,
   "metadata": {},
   "outputs": [
    {
     "data": {
      "image/jpeg": "[encoded data removed]",
      "text/html": [
       "\n",
       "        <iframe\n",
       "            width=\"400\"\n",
       "            height=\"300\"\n",
       "            src=\"https://www.youtube.com/embed/27yqJ9vJ5kQ\"\n",
       "            frameborder=\"0\"\n",
       "            allowfullscreen\n",
       "        ></iframe>\n",
       "        "
      ],
      "text/plain": [
       "<IPython.lib.display.YouTubeVideo at 0x7f568321f3c8>"
      ]
     },
     "metadata": {},
     "output_type": "display_data"
    }
   ],
   "source": [
    "# Here is a youtube video that also explains Boyle's Law.\n",
    "# Run this code segment to bring the video into this Callysto notebook.\n",
    "\n",
    "from IPython.lib.display import YouTubeVideo\n",
    "display(YouTubeVideo('27yqJ9vJ5kQ'))"
   ]
  },
  {
   "cell_type": "markdown",
   "metadata": {},
   "source": [
    "It is important to understand that Boyle's Law is a special case for a gas system where temperature is constant. If in your studies you see a question where pressure or volume are being manipulate and temperature is either explicitly or implicitly stated to be constant, this question is addressing and testing Boyle's Law."
   ]
  },
  {
   "cell_type": "markdown",
   "metadata": {},
   "source": [
    "# Experiment\n",
    "Let's say we want to find the pressure in an adult male test subject's lungs when they are expanded to maximum capacity. The average lung capacity of an adult human male is 6L. We will test random lung capacities for N trials, and see how Boyle's Law shapes the relationship between pressure and volume."
   ]
  },
  {
   "cell_type": "code",
   "execution_count": 29,
   "metadata": {},
   "outputs": [],
   "source": [
    "# Change the variables in this cell to create your own experiment!\n",
    "\n",
    "# Max volume in liters.\n",
    "volume = 6\n",
    "\n",
    "# Number of trials.\n",
    "N = 100"
   ]
  },
  {
   "cell_type": "code",
   "execution_count": 36,
   "metadata": {
    "scrolled": false
   },
   "outputs": [
    {
     "data": {
      "text/html": [
       "<script>requirejs.config({paths: { 'plotly': ['https://cdn.plot.ly/plotly-latest.min']},});if(!window.Plotly) {{require(['plotly'],function(plotly) {window.Plotly=plotly;});}}</script>"
      ],
      "text/vnd.plotly.v1+html": [
       "<script>requirejs.config({paths: { 'plotly': ['https://cdn.plot.ly/plotly-latest.min']},});if(!window.Plotly) {{require(['plotly'],function(plotly) {window.Plotly=plotly;});}}</script>"
      ]
     },
     "metadata": {},
     "output_type": "display_data"
    },
    {
     "data": {
      "application/vnd.plotly.v1+json": {
       "data": [
        {
         "mode": "markers",
         "type": "scatter",
         "x": [
          4.747390776802359,
          2.8508442588184306,
          3.4082161826342823,
          4.6713193017186105,
          1.954103385636005,
          4.4453297746541045,
          3.129944517951351,
          4.169547500037524,
          4.937255873570526,
          3.0320809736652583,
          2.6965267462269753,
          1.3780901302714514,
          4.159178209234989,
          0.6005738717850757,
          2.761564082674127,
          2.9782437971006703,
          5.507838874455642,
          5.037093322970421,
          2.4918190532496,
          3.8802605860762314,
          4.5454156183183345,
          5.83111177407284,
          4.578602996674492,
          0.6759056943608737,
          2.397457053948924,
          1.2968484754857847,
          5.256616798466104,
          4.580632957265476,
          3.133802958528785,
          0.7052053512500412,
          1.7142198658778658,
          2.63458431744107,
          5.756014651610859,
          4.761736250013849,
          5.674410672416378,
          0.38425145942786065,
          4.105632982044709,
          3.7975068137811867,
          2.8322698431736915,
          1.2268868455684456,
          4.699946363650128,
          0.746161968847424,
          4.435054278872085,
          1.7147265155767146,
          0.9989309054483781,
          3.175128491346685,
          3.700665580995592,
          3.680375489891518,
          2.747624121758802,
          5.1585247064296205,
          3.2094414066587253,
          5.138190390979683,
          1.224818124680182,
          2.9392377891429535,
          5.592564649455347,
          0.6642470509085447,
          0.5470209496748223,
          4.519072441620806,
          4.282861733582495,
          3.593341147892767,
          2.8405001939050036,
          4.88761994957185,
          5.519480288133794,
          0.8785509359804303,
          5.452723293027122,
          3.504068739117163,
          3.696888176617797,
          3.238214892082412,
          3.968178890185448,
          0.8874484055350048,
          0.7052312004612218,
          4.5204285816577725,
          2.6475593118253506,
          1.3979366526777652,
          3.8151872336188712,
          1.701253769649975,
          0.3729029359737133,
          5.704110785795503,
          0.979979302334113,
          5.543179744498925,
          4.370995597172148,
          2.348836052361822,
          2.7813926346690185,
          2.7653116080111513,
          3.535621410018046,
          2.9592574437882146,
          5.453044730148208,
          4.235593119284833,
          5.273613766466902,
          0.540994077555456,
          3.4299405231173923,
          4.557168042560485,
          0.32359158691253,
          2.62909771261175,
          5.725883357369568,
          4.853733960678838,
          2.7790322761399127,
          5.603164873738334,
          4.721513247500017,
          5.502330294191001
         ],
         "y": [
          0.3531467756699928,
          0.25803940878414594,
          0.23032162327712216,
          0.18657957724052784,
          0.6128820296368265,
          0.1689477462850506,
          0.20566008504755673,
          0.321690043726953,
          0.3496208799527499,
          0.2688370085845976,
          0.3353631462878526,
          0.8257536862238276,
          0.11639381722703392,
          1.9282275050708975,
          0.484738890695368,
          0.4552631450420004,
          0.0895608517655206,
          0.23849363455502645,
          0.4249027940580259,
          0.3758528487180427,
          0.2932157636384166,
          0.15731973777832894,
          0.2310033445149386,
          1.745806871393276,
          0.3173319664766001,
          0.8904136480350627,
          0.31635354499593554,
          0.11550548716982761,
          0.4113127670968163,
          1.3443612862931023,
          0.691486050302068,
          0.48401451130820305,
          0.1871779957706386,
          0.19668759285830623,
          0.2820175633049824,
          2.860275080546128,
          0.23999766183150667,
          0.23716945615403556,
          0.40840902644572485,
          0.9700781959912891,
          0.2575707834247584,
          1.0709130065663353,
          0.18748432059698272,
          0.4807015333684132,
          0.910642068350848,
          0.3203266885448485,
          0.3524044087330297,
          0.28775064961006025,
          0.3190554048986302,
          0.24836725865565704,
          0.265988147391069,
          0.12813112766480755,
          0.8330365928939549,
          0.3419886395171233,
          0.2344216181160112,
          1.4895720636792424,
          1.9295068740846915,
          0.276257867894636,
          0.2262031466683934,
          0.1739000231231339,
          0.44185294508437034,
          0.19019931720797004,
          0.06316823953252323,
          1.1816029698765758,
          0.16901821677131157,
          0.4060629101143095,
          0.20322759493529888,
          0.4169746664609757,
          0.1948819876581097,
          1.1311160053870664,
          1.8024555678771286,
          0.09047265259274723,
          0.5018178775755655,
          0.5315848848869011,
          0.2337690300005331,
          0.6944008467942302,
          2.7538707882217963,
          0.12111787104566496,
          0.9289000925830417,
          0.18913623675669047,
          0.2208475335100942,
          0.4205937641457919,
          0.376022322916606,
          0.21267399435351952,
          0.19029536737555736,
          0.3424647364524812,
          0.04475623613235964,
          0.1461722318079438,
          0.10426292116653578,
          1.739850769370453,
          0.33803607775545275,
          0.26646865281135607,
          3.5209590653185354,
          0.3467485188101454,
          0.27758890996306673,
          0.10558198027374585,
          0.46583550978126875,
          0.2662867565559284,
          0.23846619316125886,
          0.10530126020481764
         ]
        }
       ],
       "layout": {
        "title": "Pressure vs. Volume",
        "xaxis": {
         "title": "Volume"
        },
        "yaxis": {
         "title": "Pressure"
        }
       }
      },
      "text/html": [
       "<div id=\"d17fc1c6-3a58-4908-b484-cfe4189bbc25\" style=\"height: 525px; width: 100%;\" class=\"plotly-graph-div\"></div><script type=\"text/javascript\">require([\"plotly\"], function(Plotly) { window.PLOTLYENV=window.PLOTLYENV || {};window.PLOTLYENV.BASE_URL=\"https://plot.ly\";Plotly.newPlot(\"d17fc1c6-3a58-4908-b484-cfe4189bbc25\", [{\"type\": \"scatter\", \"x\": [4.747390776802359, 2.8508442588184306, 3.4082161826342823, 4.6713193017186105, 1.954103385636005, 4.4453297746541045, 3.129944517951351, 4.169547500037524, 4.937255873570526, 3.0320809736652583, 2.6965267462269753, 1.3780901302714514, 4.159178209234989, 0.6005738717850757, 2.761564082674127, 2.9782437971006703, 5.507838874455642, 5.037093322970421, 2.4918190532496, 3.8802605860762314, 4.5454156183183345, 5.83111177407284, 4.578602996674492, 0.6759056943608737, 2.397457053948924, 1.2968484754857847, 5.256616798466104, 4.580632957265476, 3.133802958528785, 0.7052053512500412, 1.7142198658778658, 2.63458431744107, 5.756014651610859, 4.761736250013849, 5.674410672416378, 0.38425145942786065, 4.105632982044709, 3.7975068137811867, 2.8322698431736915, 1.2268868455684456, 4.699946363650128, 0.746161968847424, 4.435054278872085, 1.7147265155767146, 0.9989309054483781, 3.175128491346685, 3.700665580995592, 3.680375489891518, 2.747624121758802, 5.1585247064296205, 3.2094414066587253, 5.138190390979683, 1.224818124680182, 2.9392377891429535, 5.592564649455347, 0.6642470509085447, 0.5470209496748223, 4.519072441620806, 4.282861733582495, 3.593341147892767, 2.8405001939050036, 4.88761994957185, 5.519480288133794, 0.8785509359804303, 5.452723293027122, 3.504068739117163, 3.696888176617797, 3.238214892082412, 3.968178890185448, 0.8874484055350048, 0.7052312004612218, 4.5204285816577725, 2.6475593118253506, 1.3979366526777652, 3.8151872336188712, 1.701253769649975, 0.3729029359737133, 5.704110785795503, 0.979979302334113, 5.543179744498925, 4.370995597172148, 2.348836052361822, 2.7813926346690185, 2.7653116080111513, 3.535621410018046, 2.9592574437882146, 5.453044730148208, 4.235593119284833, 5.273613766466902, 0.540994077555456, 3.4299405231173923, 4.557168042560485, 0.32359158691253, 2.62909771261175, 5.725883357369568, 4.853733960678838, 2.7790322761399127, 5.603164873738334, 4.721513247500017, 5.502330294191001], \"y\": [0.3531467756699928, 0.25803940878414594, 0.23032162327712216, 0.18657957724052784, 0.6128820296368265, 0.1689477462850506, 0.20566008504755673, 0.321690043726953, 0.3496208799527499, 0.2688370085845976, 0.3353631462878526, 0.8257536862238276, 0.11639381722703392, 1.9282275050708975, 0.484738890695368, 0.4552631450420004, 0.0895608517655206, 0.23849363455502645, 0.4249027940580259, 0.3758528487180427, 0.2932157636384166, 0.15731973777832894, 0.2310033445149386, 1.745806871393276, 0.3173319664766001, 0.8904136480350627, 0.31635354499593554, 0.11550548716982761, 0.4113127670968163, 1.3443612862931023, 0.691486050302068, 0.48401451130820305, 0.1871779957706386, 0.19668759285830623, 0.2820175633049824, 2.860275080546128, 0.23999766183150667, 0.23716945615403556, 0.40840902644572485, 0.9700781959912891, 0.2575707834247584, 1.0709130065663353, 0.18748432059698272, 0.4807015333684132, 0.910642068350848, 0.3203266885448485, 0.3524044087330297, 0.28775064961006025, 0.3190554048986302, 0.24836725865565704, 0.265988147391069, 0.12813112766480755, 0.8330365928939549, 0.3419886395171233, 0.2344216181160112, 1.4895720636792424, 1.9295068740846915, 0.276257867894636, 0.2262031466683934, 0.1739000231231339, 0.44185294508437034, 0.19019931720797004, 0.06316823953252323, 1.1816029698765758, 0.16901821677131157, 0.4060629101143095, 0.20322759493529888, 0.4169746664609757, 0.1948819876581097, 1.1311160053870664, 1.8024555678771286, 0.09047265259274723, 0.5018178775755655, 0.5315848848869011, 0.2337690300005331, 0.6944008467942302, 2.7538707882217963, 0.12111787104566496, 0.9289000925830417, 0.18913623675669047, 0.2208475335100942, 0.4205937641457919, 0.376022322916606, 0.21267399435351952, 0.19029536737555736, 0.3424647364524812, 0.04475623613235964, 0.1461722318079438, 0.10426292116653578, 1.739850769370453, 0.33803607775545275, 0.26646865281135607, 3.5209590653185354, 0.3467485188101454, 0.27758890996306673, 0.10558198027374585, 0.46583550978126875, 0.2662867565559284, 0.23846619316125886, 0.10530126020481764], \"mode\": \"markers\"}], {\"title\": \"Pressure vs. Volume\", \"xaxis\": {\"title\": \"Volume\"}, \"yaxis\": {\"title\": \"Pressure\"}}, {\"showLink\": true, \"linkText\": \"Export to plot.ly\"})});</script>"
      ],
      "text/vnd.plotly.v1+html": [
       "<div id=\"d17fc1c6-3a58-4908-b484-cfe4189bbc25\" style=\"height: 525px; width: 100%;\" class=\"plotly-graph-div\"></div><script type=\"text/javascript\">require([\"plotly\"], function(Plotly) { window.PLOTLYENV=window.PLOTLYENV || {};window.PLOTLYENV.BASE_URL=\"https://plot.ly\";Plotly.newPlot(\"d17fc1c6-3a58-4908-b484-cfe4189bbc25\", [{\"type\": \"scatter\", \"x\": [4.747390776802359, 2.8508442588184306, 3.4082161826342823, 4.6713193017186105, 1.954103385636005, 4.4453297746541045, 3.129944517951351, 4.169547500037524, 4.937255873570526, 3.0320809736652583, 2.6965267462269753, 1.3780901302714514, 4.159178209234989, 0.6005738717850757, 2.761564082674127, 2.9782437971006703, 5.507838874455642, 5.037093322970421, 2.4918190532496, 3.8802605860762314, 4.5454156183183345, 5.83111177407284, 4.578602996674492, 0.6759056943608737, 2.397457053948924, 1.2968484754857847, 5.256616798466104, 4.580632957265476, 3.133802958528785, 0.7052053512500412, 1.7142198658778658, 2.63458431744107, 5.756014651610859, 4.761736250013849, 5.674410672416378, 0.38425145942786065, 4.105632982044709, 3.7975068137811867, 2.8322698431736915, 1.2268868455684456, 4.699946363650128, 0.746161968847424, 4.435054278872085, 1.7147265155767146, 0.9989309054483781, 3.175128491346685, 3.700665580995592, 3.680375489891518, 2.747624121758802, 5.1585247064296205, 3.2094414066587253, 5.138190390979683, 1.224818124680182, 2.9392377891429535, 5.592564649455347, 0.6642470509085447, 0.5470209496748223, 4.519072441620806, 4.282861733582495, 3.593341147892767, 2.8405001939050036, 4.88761994957185, 5.519480288133794, 0.8785509359804303, 5.452723293027122, 3.504068739117163, 3.696888176617797, 3.238214892082412, 3.968178890185448, 0.8874484055350048, 0.7052312004612218, 4.5204285816577725, 2.6475593118253506, 1.3979366526777652, 3.8151872336188712, 1.701253769649975, 0.3729029359737133, 5.704110785795503, 0.979979302334113, 5.543179744498925, 4.370995597172148, 2.348836052361822, 2.7813926346690185, 2.7653116080111513, 3.535621410018046, 2.9592574437882146, 5.453044730148208, 4.235593119284833, 5.273613766466902, 0.540994077555456, 3.4299405231173923, 4.557168042560485, 0.32359158691253, 2.62909771261175, 5.725883357369568, 4.853733960678838, 2.7790322761399127, 5.603164873738334, 4.721513247500017, 5.502330294191001], \"y\": [0.3531467756699928, 0.25803940878414594, 0.23032162327712216, 0.18657957724052784, 0.6128820296368265, 0.1689477462850506, 0.20566008504755673, 0.321690043726953, 0.3496208799527499, 0.2688370085845976, 0.3353631462878526, 0.8257536862238276, 0.11639381722703392, 1.9282275050708975, 0.484738890695368, 0.4552631450420004, 0.0895608517655206, 0.23849363455502645, 0.4249027940580259, 0.3758528487180427, 0.2932157636384166, 0.15731973777832894, 0.2310033445149386, 1.745806871393276, 0.3173319664766001, 0.8904136480350627, 0.31635354499593554, 0.11550548716982761, 0.4113127670968163, 1.3443612862931023, 0.691486050302068, 0.48401451130820305, 0.1871779957706386, 0.19668759285830623, 0.2820175633049824, 2.860275080546128, 0.23999766183150667, 0.23716945615403556, 0.40840902644572485, 0.9700781959912891, 0.2575707834247584, 1.0709130065663353, 0.18748432059698272, 0.4807015333684132, 0.910642068350848, 0.3203266885448485, 0.3524044087330297, 0.28775064961006025, 0.3190554048986302, 0.24836725865565704, 0.265988147391069, 0.12813112766480755, 0.8330365928939549, 0.3419886395171233, 0.2344216181160112, 1.4895720636792424, 1.9295068740846915, 0.276257867894636, 0.2262031466683934, 0.1739000231231339, 0.44185294508437034, 0.19019931720797004, 0.06316823953252323, 1.1816029698765758, 0.16901821677131157, 0.4060629101143095, 0.20322759493529888, 0.4169746664609757, 0.1948819876581097, 1.1311160053870664, 1.8024555678771286, 0.09047265259274723, 0.5018178775755655, 0.5315848848869011, 0.2337690300005331, 0.6944008467942302, 2.7538707882217963, 0.12111787104566496, 0.9289000925830417, 0.18913623675669047, 0.2208475335100942, 0.4205937641457919, 0.376022322916606, 0.21267399435351952, 0.19029536737555736, 0.3424647364524812, 0.04475623613235964, 0.1461722318079438, 0.10426292116653578, 1.739850769370453, 0.33803607775545275, 0.26646865281135607, 3.5209590653185354, 0.3467485188101454, 0.27758890996306673, 0.10558198027374585, 0.46583550978126875, 0.2662867565559284, 0.23846619316125886, 0.10530126020481764], \"mode\": \"markers\"}], {\"title\": \"Pressure vs. Volume\", \"xaxis\": {\"title\": \"Volume\"}, \"yaxis\": {\"title\": \"Pressure\"}}, {\"showLink\": true, \"linkText\": \"Export to plot.ly\"})});</script>"
      ]
     },
     "metadata": {},
     "output_type": "display_data"
    },
    {
     "data": {
      "text/html": [
       "<script>\n",
       "code_show=true; \n",
       "function code_toggle() {\n",
       "  if (code_show) {\n",
       "    $('div.input').each(function(id) {\n",
       "      el = $(this).find('.cm-variable:first');\n",
       "      if (id == 0 || el.text() == 'hide_me') {\n",
       "        $(this).hide();\n",
       "      }\n",
       "    });\n",
       "    $('div.output_prompt').css('opacity', 0);\n",
       "  } else {\n",
       "    $('div.input').each(function(id) {\n",
       "      $(this).show();\n",
       "    });\n",
       "    $('div.output_prompt').css('opacity', 1);\n",
       "  }\n",
       "  code_show = !code_show\n",
       "} \n",
       "$( document ).ready(code_toggle);\n",
       "</script>\n",
       "<form action=\"javascript:code_toggle()\"><input style=\"opacity:0\" type=\"submit\" value=\"Click here to toggle on/off the raw code.\"></form>"
      ],
      "text/plain": [
       "<IPython.core.display.HTML object>"
      ]
     },
     "execution_count": 36,
     "metadata": {},
     "output_type": "execute_result"
    }
   ],
   "source": [
    "# Imports.\n",
    "import plotly.offline as py\n",
    "from plotly.offline import init_notebook_mode, iplot\n",
    "import plotly.graph_objs as go\n",
    "import numpy as np\n",
    "\n",
    "import math\n",
    "\n",
    "# Initialize plotly for Jupyter notebooks.\n",
    "init_notebook_mode(connected=True)\n",
    "\n",
    "# Initialize data sets.\n",
    "gx = []\n",
    "gy = []\n",
    "\n",
    "# Constant multiple in Boyle's Law.\n",
    "k = 1\n",
    "\n",
    "# Boyle's Law is technically PV = k, where k is constant for that specific system, (It varies between systems.)\n",
    "# and P1V1 = P2V2 is only a result of this relationship. Students do not learn this however.\n",
    "# For simplicity k is set to 1.\n",
    "\n",
    "# Standard deviation.\n",
    "sd = 0.15\n",
    "\n",
    "# Randomly generate data based on user defined volume and number of trials.\n",
    "for i in range(0, N):\n",
    "    temp = np.random.random_sample() * volume\n",
    "    \n",
    "    # Prevent large outliers. The limit is arbitrary, it is just so the graph looks nice.\n",
    "    limit = np.random.random_sample() + 1\n",
    "    while(k/temp > volume/limit):\n",
    "        temp = np.random.random_sample() * volume\n",
    "    \n",
    "    outputx = np.random.uniform(temp-sd, temp+sd)\n",
    "    outputy = np.random.uniform((k/temp)-sd, (k/temp)+sd)\n",
    "    \n",
    "    gx.append(outputx)\n",
    "    gy.append(outputy)\n",
    "\n",
    "# Create a trace.\n",
    "trace = go.Scatter(\n",
    "    x = gx,\n",
    "    y = gy,\n",
    "    mode = 'markers'\n",
    ")\n",
    "\n",
    "# Plot graph\n",
    "templayout = go.Layout( title = 'Pressure vs. Volume', xaxis = dict(title='Volume'), yaxis = dict(title='Pressure') )\n",
    "tempdata = [trace]\n",
    "fig = go.Figure(data = tempdata, layout = templayout)\n",
    "py.iplot(fig, filename='basic-scatter')"
   ]
  },
  {
   "cell_type": "markdown",
   "metadata": {},
   "source": [
    "# Questions\n",
    "1. Assume the temperature and the number of gas molecules stay constant within the adult’s lung. Initially, the capacity of the lung is 3.4 liters, and the pressure in the adult’s lung is 15 mmHg. When the lung is expanded to the maximum capacity, use Boyle’s Law to determine the new pressure in the adult’s lung. "
   ]
  },
  {
   "cell_type": "code",
   "execution_count": 37,
   "metadata": {},
   "outputs": [
    {
     "data": {
      "application/vnd.jupyter.widget-view+json": {
       "model_id": "8d4aa2b0b2434dac9156617d1bcdddbc",
       "version_major": 2,
       "version_minor": 0
      },
      "text/plain": [
       "Text(value='')"
      ]
     },
     "metadata": {},
     "output_type": "display_data"
    },
    {
     "name": "stdout",
     "output_type": "stream",
     "text": [
      "3434\n",
      "Whoops! Try again!\n",
      "ssg\n",
      "Not a number\n",
      "Whoops! Try again!\n",
      "1.1\n",
      "Yay!\n"
     ]
    }
   ],
   "source": [
    "answer = 1.1\n",
    "\n",
    "from IPython.display import display \n",
    "from ipywidgets import widgets\n",
    "\n",
    "def f(x):\n",
    "    temp = -10000\n",
    "    \n",
    "    print(text.value)\n",
    "    try:\n",
    "        temp = float(text.value)\n",
    "    except:\n",
    "        print(\"Not a number\")\n",
    "    \n",
    "    if(temp == answer):\n",
    "        print(\"Yay!\")\n",
    "    else:\n",
    "        print(\"Whoops! Try again!\")\n",
    "\n",
    "text = widgets.Text()\n",
    "display(text)\n",
    "\n",
    "text.on_submit(f)"
   ]
  },
  {
   "cell_type": "markdown",
   "metadata": {},
   "source": [
    "2. Assume the temperature and the number of gas molecules stay constant within the balloon. A small gas container has 90 milliliters of nitrogen which in pumped into a balloon with a pressure of 1.0 atm. The balloon is sealed tightly, and it is released and raised to a higher altitude where the atmospheric pressure is 50 kPa. Find the final volume of the balloon as it raises up to the mountain. "
   ]
  },
  {
   "cell_type": "code",
   "execution_count": 17,
   "metadata": {},
   "outputs": [
    {
     "data": {
      "application/vnd.jupyter.widget-view+json": {
       "model_id": "205fc38509244cad80f9f2208c66e2df",
       "version_major": 2,
       "version_minor": 0
      },
      "text/plain": [
       "Text(value='')"
      ]
     },
     "metadata": {},
     "output_type": "display_data"
    }
   ],
   "source": [
    "answer = 0.18\n",
    "\n",
    "from IPython.display import display \n",
    "from ipywidgets import widgets\n",
    "\n",
    "def f(x):\n",
    "    temp = -10000\n",
    "    \n",
    "    print(text.value)\n",
    "    try:\n",
    "        temp = float(text.value)\n",
    "    except:\n",
    "        print(\"Not a number\")\n",
    "    \n",
    "    if(temp == answer):\n",
    "        print(\"Yay!\")\n",
    "    else:\n",
    "        print(\"Whoops! Try again!\")\n",
    "\n",
    "text = widgets.Text()\n",
    "display(text)\n",
    "\n",
    "text.on_submit(f)"
   ]
  },
  {
   "cell_type": "markdown",
   "metadata": {},
   "source": [
    "3. Assume the temperature and the number of gas molecules stay constant within a flexible plastic pump. With the pump closed, by what factor does pressure need to change in order for the volume of the pump to be half of its original size? "
   ]
  },
  {
   "cell_type": "code",
   "execution_count": 18,
   "metadata": {},
   "outputs": [
    {
     "data": {
      "application/vnd.jupyter.widget-view+json": {
       "model_id": "d6a81deb19b14536b8ddfc06c3ec253e",
       "version_major": 2,
       "version_minor": 0
      },
      "text/plain": [
       "Text(value='')"
      ]
     },
     "metadata": {},
     "output_type": "display_data"
    }
   ],
   "source": [
    "answer = 2\n",
    "\n",
    "from IPython.display import display \n",
    "from ipywidgets import widgets\n",
    "\n",
    "def f(x):\n",
    "    temp = -10000\n",
    "    \n",
    "    print(text.value)\n",
    "    try:\n",
    "        temp = int(text.value)\n",
    "    except:\n",
    "        print(\"Not a number\")\n",
    "    \n",
    "    if(temp == answer):\n",
    "        print(\"Yay!\")\n",
    "    else:\n",
    "        print(\"Whoops! Try again!\")\n",
    "\n",
    "text = widgets.Text()\n",
    "display(text)\n",
    "\n",
    "text.on_submit(f)"
   ]
  },
  {
   "cell_type": "markdown",
   "metadata": {},
   "source": [
    "# Charles' Law\n",
    "In airbags, the temperature is originally extremely high due to the nitrogen gas inflates it. As a result, the volume of the airbag is quickly expanded due to the directly proportional relationship between the temperature and the volume of the gas. When the airbag is later exposed to the outside air, the temperature decreases significantly which causes the volume of the airbag to decrease to a smaller size, creating a softer cushion for the impact.\n",
    "\n",
    "This relationship between the two variables of volume and temperature is a direct relationship which is defined by the Charle's Law, the idea that the temperature and the volume have an directly proportional relationship at a constant pressure. \n",
    "\n",
    "Using the kinetic molecular theory to explain the Charles' Law, the pressure and the chemical amount of gas are held constant using a piston. When the temperature of the gas molecules increases, the gas molecules will move at a higher speed because temperature and the average kinetic energy of the gas molecules have a direct relationship. As a result, gas molecules will collide with each other and with walls of the container more frequently which exerts a greater force on the wall of container. Because the external pressure on the container are held constant, but the gas pressure inside the container are increased which will push the piston of the container to increase the volume of the container.\n",
    "\n",
    "It can be expressed by the equation below: ![V1/T1=V2/T2](Images/charles-law.png)\n"
   ]
  },
  {
   "cell_type": "markdown",
   "metadata": {},
   "source": [
    "# Questions\n",
    "\n",
    "1. a specific amount of gas molecules is sealed within a container with a movable piston. The initial volume of the gas within the cylinder is 3.0 liters at 10 degrees. What will be the final volume of the gas container when the temperature is raised up to 30 degrees?  "
   ]
  },
  {
   "cell_type": "code",
   "execution_count": 6,
   "metadata": {},
   "outputs": [
    {
     "data": {
      "application/vnd.jupyter.widget-view+json": {
       "model_id": "b98f5093f9d3474c86351b7af4cd1392",
       "version_major": 2,
       "version_minor": 0
      },
      "text/plain": [
       "Text(value='')"
      ]
     },
     "metadata": {},
     "output_type": "display_data"
    },
    {
     "name": "stdout",
     "output_type": "stream",
     "text": [
      "807\n",
      "Yay!\n"
     ]
    }
   ],
   "source": [
    "answer = 0.0032\n",
    "\n",
    "from IPython.display import display \n",
    "from ipywidgets import widgets\n",
    "\n",
    "def f(x):\n",
    "    temp = -10000\n",
    "    \n",
    "    print(text.value)\n",
    "    try:\n",
    "        temp = float(text.value)\n",
    "    except:\n",
    "        print(\"Not a number\")\n",
    "    \n",
    "    if(temp == answer):\n",
    "        print(\"Yay!\")\n",
    "    else:\n",
    "        print(\"Whoops! Try again!\")\n",
    "\n",
    "text = widgets.Text()\n",
    "display(text)\n",
    "\n",
    "text.on_submit(f)"
   ]
  },
  {
   "cell_type": "markdown",
   "metadata": {},
   "source": [
    "2. for a hot balloon that contains helium gas, it initially contains 1000$m^{3}$ at a temperature of 20.00 degrees. As fire is burning at the bottom of the balloon, what is the minimum temperature needed for the hot balloon in order for the volume to increase to 17000 $m^{3}$?\n"
   ]
  },
  {
   "cell_type": "code",
   "execution_count": 14,
   "metadata": {},
   "outputs": [
    {
     "data": {
      "application/vnd.jupyter.widget-view+json": {
       "model_id": "bb9506dadde648e7a5b1395bb112c1a8",
       "version_major": 2,
       "version_minor": 0
      },
      "text/plain": [
       "Text(value='')"
      ]
     },
     "metadata": {},
     "output_type": "display_data"
    },
    {
     "name": "stdout",
     "output_type": "stream",
     "text": [
      "4710\n",
      "Yay!\n"
     ]
    }
   ],
   "source": [
    "answer = 4710\n",
    "\n",
    "from IPython.display import display \n",
    "from ipywidgets import widgets\n",
    "\n",
    "def f(x):\n",
    "    temp = -10000\n",
    "    \n",
    "    print(text.value)\n",
    "    try:\n",
    "        temp = float(text.value)\n",
    "    except:\n",
    "        print(\"Not a number\")\n",
    "    \n",
    "    if(temp == answer):\n",
    "        print(\"Yay!\")\n",
    "    else:\n",
    "        print(\"Whoops! Try again!\")\n",
    "\n",
    "text = widgets.Text()\n",
    "display(text)\n",
    "\n",
    "text.on_submit(f)\n"
   ]
  },
  {
   "cell_type": "markdown",
   "metadata": {},
   "source": [
    "3. when a float pool contains gas at 20 degrees, and it is heated up an additional 14 degrees. What is the new volume if it contained 3.2 liters of gas originally?"
   ]
  },
  {
   "cell_type": "code",
   "execution_count": 16,
   "metadata": {},
   "outputs": [
    {
     "data": {
      "application/vnd.jupyter.widget-view+json": {
       "model_id": "94ca81cd54be4b4a9bbff93f4e963315",
       "version_major": 2,
       "version_minor": 0
      },
      "text/plain": [
       "Text(value='')"
      ]
     },
     "metadata": {},
     "output_type": "display_data"
    },
    {
     "name": "stdout",
     "output_type": "stream",
     "text": [
      "4710\n",
      "Yay!\n"
     ]
    }
   ],
   "source": [
    "answer = 4710\n",
    "\n",
    "from IPython.display import display \n",
    "from ipywidgets import widgets\n",
    "\n",
    "def f(x):\n",
    "    temp = -10000\n",
    "    \n",
    "    print(text.value)\n",
    "    try:\n",
    "        temp = float(text.value)\n",
    "    except:\n",
    "        print(\"Not a number\")\n",
    "    \n",
    "    if(temp == answer):\n",
    "        print(\"Yay!\")\n",
    "    else:\n",
    "        print(\"Whoops! Try again!\")\n",
    "\n",
    "text = widgets.Text()\n",
    "display(text)\n",
    "\n",
    "text.on_submit(f)\n"
   ]
  },
  {
   "cell_type": "code",
   "execution_count": 38,
   "metadata": {},
   "outputs": [],
   "source": [
    "#imports, information to help generate graph\n",
    "import plotly.offline as py\n",
    "from plotly.offline import init_notebook_mode, iplot\n",
    "import plotly.graph_objs as go\n",
    "import numpy as np\n",
    "import random"
   ]
  },
  {
   "cell_type": "code",
   "execution_count": 62,
   "metadata": {},
   "outputs": [],
   "source": [
    "#STEP 1\n",
    "#set these values ONCE at the beginning of your experiment\n",
    "\n",
    "ave_volume=10 #in litres\n",
    "sd=4 # Standard deviation of the data. More information: Intro to Standard Deviation Notebook\n",
    "\n",
    "volumes = []\n",
    "temps = []\n",
    "trials = []"
   ]
  },
  {
   "cell_type": "code",
   "execution_count": 66,
   "metadata": {},
   "outputs": [],
   "source": [
    "#STEP 2\n",
    "#run this cell to generate values to populate your table, then run the table-generating cell\n",
    "yielded = random.uniform((ave_volume-sd), (ave_volume+sd))\n",
    "\n",
    "volume = round(yielded, 2)\n",
    "volumes.append(volume)\n",
    "\n",
    "k = 0.56 #constant for simplicity\n",
    "temps.append(k*volume)\n",
    "\n",
    "if len(volumes) > len(trials):\n",
    "    trials.append('Trial ' + str(len(volumes)))"
   ]
  },
  {
   "cell_type": "code",
   "execution_count": 67,
   "metadata": {},
   "outputs": [
    {
     "data": {
      "text/html": [
       "<script>requirejs.config({paths: { 'plotly': ['https://cdn.plot.ly/plotly-latest.min']},});if(!window.Plotly) {{require(['plotly'],function(plotly) {window.Plotly=plotly;});}}</script>"
      ],
      "text/vnd.plotly.v1+html": [
       "<script>requirejs.config({paths: { 'plotly': ['https://cdn.plot.ly/plotly-latest.min']},});if(!window.Plotly) {{require(['plotly'],function(plotly) {window.Plotly=plotly;});}}</script>"
      ]
     },
     "metadata": {},
     "output_type": "display_data"
    },
    {
     "data": {
      "application/vnd.plotly.v1+json": {
       "data": [
        {
         "name": "Volume",
         "type": "bar",
         "x": [
          "Trial 1",
          "Trial 2",
          "Trial 3"
         ],
         "y": [
          6.81,
          9.8,
          13.01
         ]
        },
        {
         "name": "Temperature",
         "type": "bar",
         "x": [
          "Trial 1",
          "Trial 2",
          "Trial 3"
         ],
         "y": [
          3.8136,
          5.488000000000001,
          7.2856000000000005
         ]
        }
       ],
       "layout": {
        "barmode": "group"
       }
      },
      "text/html": [
       "<div id=\"619b22e7-931f-4f21-96c9-bd556e4edec0\" style=\"height: 525px; width: 100%;\" class=\"plotly-graph-div\"></div><script type=\"text/javascript\">require([\"plotly\"], function(Plotly) { window.PLOTLYENV=window.PLOTLYENV || {};window.PLOTLYENV.BASE_URL=\"https://plot.ly\";Plotly.newPlot(\"619b22e7-931f-4f21-96c9-bd556e4edec0\", [{\"type\": \"bar\", \"x\": [\"Trial 1\", \"Trial 2\", \"Trial 3\"], \"y\": [6.81, 9.8, 13.01], \"name\": \"Volume\"}, {\"type\": \"bar\", \"x\": [\"Trial 1\", \"Trial 2\", \"Trial 3\"], \"y\": [3.8136, 5.488000000000001, 7.2856000000000005], \"name\": \"Temperature\"}], {\"barmode\": \"group\"}, {\"showLink\": true, \"linkText\": \"Export to plot.ly\"})});</script>"
      ],
      "text/vnd.plotly.v1+html": [
       "<div id=\"619b22e7-931f-4f21-96c9-bd556e4edec0\" style=\"height: 525px; width: 100%;\" class=\"plotly-graph-div\"></div><script type=\"text/javascript\">require([\"plotly\"], function(Plotly) { window.PLOTLYENV=window.PLOTLYENV || {};window.PLOTLYENV.BASE_URL=\"https://plot.ly\";Plotly.newPlot(\"619b22e7-931f-4f21-96c9-bd556e4edec0\", [{\"type\": \"bar\", \"x\": [\"Trial 1\", \"Trial 2\", \"Trial 3\"], \"y\": [6.81, 9.8, 13.01], \"name\": \"Volume\"}, {\"type\": \"bar\", \"x\": [\"Trial 1\", \"Trial 2\", \"Trial 3\"], \"y\": [3.8136, 5.488000000000001, 7.2856000000000005], \"name\": \"Temperature\"}], {\"barmode\": \"group\"}, {\"showLink\": true, \"linkText\": \"Export to plot.ly\"})});</script>"
      ]
     },
     "metadata": {},
     "output_type": "display_data"
    }
   ],
   "source": [
    "#STEP 3\n",
    "#graph-generating cell - run after generating each new data pair\n",
    "\n",
    "init_notebook_mode(connected=True)\n",
    "\n",
    "#generates volume bars\n",
    "trace1 = go.Bar(\n",
    "    x=trials,\n",
    "    y=volumes,\n",
    "    name='Volume'\n",
    ")\n",
    "\n",
    "#generates temperature bars\n",
    "trace2 = go.Bar(\n",
    "    x=trials,\n",
    "    y=temps,\n",
    "    name='Temperature'\n",
    ")\n",
    "\n",
    "#gives graph grouped-bars layout\n",
    "data = [trace1, trace2]\n",
    "layout = go.Layout(\n",
    "    barmode='group'\n",
    ")\n",
    "\n",
    "#generates graph\n",
    "fig = go.Figure(data=data, layout=layout)\n",
    "py.iplot(fig, filename='grouped-bar')"
   ]
  },
  {
   "cell_type": "markdown",
   "metadata": {},
   "source": [
    "# Gay-Lussac's Law\n",
    "In bullet guns, you will see a plume of smoke as the gunpowder burns and the bullet whizzes out. The increase in temperature will cause an increase in the pressure which forces the bullet out of the barrel. \n",
    "\n",
    "In technical terms, the average kinetic energy of the molecule is referred as the temperature, and the density of the particles is referred as the pressure. The relationship between the two variables is a direct relationship which is defined by the Gay-Lussac's Law, the idea that the temperature and the pressure have an directly proportional relationship at a constant volume.\n",
    "\n",
    "Using the kinetic molecular theory to explain the Gay-Lussac's law,  the volume and the chemical amount of gas are held constant. When the temperature of the gas molecules are increased, the gas molecules will move at a higher speed because temperature and the average kinetic energy of the gas molecules have a direct relationship. As a result, gas molecules will collide with each other and with the wall of the container more frequently which exerts a greater force on the wall of container which increases the pressure of the gas. \n",
    "\n",
    "It can be expressed by the equation below: ![P1/T1=P2/T2](Images/Gay-Lussacs-Law.png)\n"
   ]
  },
  {
   "cell_type": "markdown",
   "metadata": {},
   "source": [
    "# Questions\n",
    "\n",
    "1. The gas particles are sealed into a gas container at 200 mmHg under the 15.0 degrees room temperature. As the pressure on the gas particles are increased to 560 mmHg, what is the new temperature of the gas molecules?"
   ]
  },
  {
   "cell_type": "code",
   "execution_count": 13,
   "metadata": {},
   "outputs": [
    {
     "data": {
      "application/vnd.jupyter.widget-view+json": {
       "model_id": "fcf411a6ae944cff91c9afb6ffe12dbb",
       "version_major": 2,
       "version_minor": 0
      },
      "text/plain": [
       "Text(value='')"
      ]
     },
     "metadata": {},
     "output_type": "display_data"
    },
    {
     "name": "stdout",
     "output_type": "stream",
     "text": [
      "807\n",
      "Yay!\n"
     ]
    }
   ],
   "source": [
    "answer = 807\n",
    "\n",
    "from IPython.display import display \n",
    "from ipywidgets import widgets\n",
    "\n",
    "def f(x):\n",
    "    temp = -10000\n",
    "    \n",
    "    print(text.value)\n",
    "    try:\n",
    "        temp = int(text.value)\n",
    "    except:\n",
    "        print(\"Not a number\")\n",
    "    \n",
    "    if(temp == answer):\n",
    "        print(\"Yay!\")\n",
    "    else:\n",
    "        print(\"Whoops! Try again!\")\n",
    "\n",
    "text = widgets.Text()\n",
    "display(text)\n",
    "\n",
    "text.on_submit(f)\n"
   ]
  },
  {
   "cell_type": "markdown",
   "metadata": {},
   "source": [
    "2. A cylinder container has a constant fixed volume at a temperature of 30.0 degrees and a pressure of 101 kPa. As the pressure on the container is increased to 200 kPa, how much percentage of the temperature will be increased?\n"
   ]
  },
  {
   "cell_type": "code",
   "execution_count": 12,
   "metadata": {},
   "outputs": [
    {
     "data": {
      "application/vnd.jupyter.widget-view+json": {
       "model_id": "b67b5e20cf494323880dde75018c1dd0",
       "version_major": 2,
       "version_minor": 0
      },
      "text/plain": [
       "Text(value='')"
      ]
     },
     "metadata": {},
     "output_type": "display_data"
    },
    {
     "name": "stdout",
     "output_type": "stream",
     "text": [
      "706\n",
      "Yay!\n"
     ]
    }
   ],
   "source": [
    "answer = 706\n",
    "\n",
    "from IPython.display import display \n",
    "from ipywidgets import widgets\n",
    "\n",
    "def f(x):\n",
    "    temp = -10000\n",
    "    \n",
    "    print(text.value)\n",
    "    try:\n",
    "        temp = int(text.value)\n",
    "    except:\n",
    "        print(\"Not a number\")\n",
    "    \n",
    "    if(temp == answer):\n",
    "        print(\"Yay!\")\n",
    "    else:\n",
    "        print(\"Whoops! Try again!\")\n",
    "\n",
    "text = widgets.Text()\n",
    "display(text)\n",
    "\n",
    "text.on_submit(f)\n"
   ]
  },
  {
   "cell_type": "markdown",
   "metadata": {},
   "source": [
    "3. If a gun needs 124105.63 kPa to shoot out a bullet, the gun initially exerts a pressure of 1000.0kPa on the bullet at a temperature of 20.000 degrees. How much temperature is increased in order for the bullet to be shot? "
   ]
  },
  {
   "cell_type": "code",
   "execution_count": 7,
   "metadata": {},
   "outputs": [
    {
     "data": {
      "application/vnd.jupyter.widget-view+json": {
       "model_id": "ea6365bdfccb42c0908dc79f657b4bd7",
       "version_major": 2,
       "version_minor": 0
      },
      "text/plain": [
       "Text(value='')"
      ]
     },
     "metadata": {},
     "output_type": "display_data"
    },
    {
     "name": "stdout",
     "output_type": "stream",
     "text": [
      "36088\n",
      "Yay!\n"
     ]
    }
   ],
   "source": [
    "answer = 36088\n",
    "\n",
    "from IPython.display import display \n",
    "from ipywidgets import widgets\n",
    "\n",
    "def f(x):\n",
    "    temp = -10000\n",
    "    \n",
    "    print(text.value)\n",
    "    try:\n",
    "        temp = int(text.value)\n",
    "    except:\n",
    "        print(\"Not a number\")\n",
    "    \n",
    "    if(temp == answer):\n",
    "        print(\"Yay!\")\n",
    "    else:\n",
    "        print(\"Whoops! Try again!\")\n",
    "\n",
    "text = widgets.Text()\n",
    "display(text)\n",
    "\n",
    "text.on_submit(f) "
   ]
  },
  {
   "cell_type": "code",
   "execution_count": 53,
   "metadata": {},
   "outputs": [],
   "source": [
    "#imports, information to help generate table\n",
    "import pandas as pd\n",
    "import matplotlib as mpl\n",
    "import numpy as np\n",
    "import random"
   ]
  },
  {
   "cell_type": "code",
   "execution_count": 68,
   "metadata": {},
   "outputs": [],
   "source": [
    "#STEP 1\n",
    "#set these values ONCE at the beginning of your experiment\n",
    "\n",
    "ave_pressure = 10 #in kPa\n",
    "sd = 1 # Standard deviation of the data. More information: Intro to Standard Deviation Notebook\n",
    "\n",
    "trials = [] #leave this blank for now - values will be added later!"
   ]
  },
  {
   "cell_type": "code",
   "execution_count": 73,
   "metadata": {},
   "outputs": [],
   "source": [
    "#STEP 2\n",
    "#run this cell to generate values to populate your table, then run the table-generating cell\n",
    "yielded = random.uniform((ave_pressure-sd), (ave_pressure+sd))\n",
    "\n",
    "pressure = round(yielded, 2)\n",
    "\n",
    "k = 15 #contant for simplicity\n",
    "\n",
    "trials.append((pressure, 10*pressure))"
   ]
  },
  {
   "cell_type": "code",
   "execution_count": 74,
   "metadata": {},
   "outputs": [
    {
     "data": {
      "text/html": [
       "<style  type=\"text/css\" >\n",
       "</style>  \n",
       "<table id=\"T_a12083b6_8526_11e8_ac12_0242ac110002\" > \n",
       "<thead>    <tr> \n",
       "        <th class=\"blank level0\" ></th> \n",
       "        <th class=\"col_heading level0 col0\" >Pressure</th> \n",
       "        <th class=\"col_heading level0 col1\" >Temperature</th> \n",
       "    </tr></thead> \n",
       "<tbody>    <tr> \n",
       "        <th id=\"T_a12083b6_8526_11e8_ac12_0242ac110002level0_row0\" class=\"row_heading level0 row0\" >0</th> \n",
       "        <td id=\"T_a12083b6_8526_11e8_ac12_0242ac110002row0_col0\" class=\"data row0 col0\" >9.27</td> \n",
       "        <td id=\"T_a12083b6_8526_11e8_ac12_0242ac110002row0_col1\" class=\"data row0 col1\" >92.7</td> \n",
       "    </tr>    <tr> \n",
       "        <th id=\"T_a12083b6_8526_11e8_ac12_0242ac110002level0_row1\" class=\"row_heading level0 row1\" >1</th> \n",
       "        <td id=\"T_a12083b6_8526_11e8_ac12_0242ac110002row1_col0\" class=\"data row1 col0\" >9.45</td> \n",
       "        <td id=\"T_a12083b6_8526_11e8_ac12_0242ac110002row1_col1\" class=\"data row1 col1\" >94.5</td> \n",
       "    </tr>    <tr> \n",
       "        <th id=\"T_a12083b6_8526_11e8_ac12_0242ac110002level0_row2\" class=\"row_heading level0 row2\" >2</th> \n",
       "        <td id=\"T_a12083b6_8526_11e8_ac12_0242ac110002row2_col0\" class=\"data row2 col0\" >9.76</td> \n",
       "        <td id=\"T_a12083b6_8526_11e8_ac12_0242ac110002row2_col1\" class=\"data row2 col1\" >97.6</td> \n",
       "    </tr>    <tr> \n",
       "        <th id=\"T_a12083b6_8526_11e8_ac12_0242ac110002level0_row3\" class=\"row_heading level0 row3\" >3</th> \n",
       "        <td id=\"T_a12083b6_8526_11e8_ac12_0242ac110002row3_col0\" class=\"data row3 col0\" >10.74</td> \n",
       "        <td id=\"T_a12083b6_8526_11e8_ac12_0242ac110002row3_col1\" class=\"data row3 col1\" >107.4</td> \n",
       "    </tr></tbody> \n",
       "</table> "
      ],
      "text/plain": [
       "<pandas.io.formats.style.Styler at 0x7f568317d748>"
      ]
     },
     "execution_count": 74,
     "metadata": {},
     "output_type": "execute_result"
    }
   ],
   "source": [
    "#STEP 3\n",
    "#table-generating cell - run after generating each new data pair\n",
    "labels = ['Pressure', 'Temperature']\n",
    "trials.sort()\n",
    "df = pd.DataFrame.from_records(trials, columns=labels)\n",
    "df.head\n",
    "df.style\n",
    "#run step 2 then step 3 repeatedly until satisfied with your table of values"
   ]
  },
  {
   "cell_type": "markdown",
   "metadata": {},
   "source": [
    "# Combined Gas Law\n",
    "The Combined Gas Law takes Boyle’s, Gay-Lussac’s, and Charles’ Laws into one equation where the amount of gas is constant. The inverse relationship between pressure and volume is maintained as well as the directly proportional relationship between pressure and temperature, and volume and temperature. It can be expressed by the equation below: ![P1V1/T1=P2V2/T2](Images/combined-gas-law.png)"
   ]
  },
  {
   "cell_type": "markdown",
   "metadata": {},
   "source": [
    "# Questions\n",
    "\n",
    "A balloon that contains 10 liters of helium gas at an atmospheric pressure of 101 kPa and at a temperature of 25 degrees is released to rise into the upper atmosphere where the temperature is -10 degrees and the atmospheric air pressure is 15 kPa. During the experiment, the measured volume of the balloon after it rises to a higher altitude is 60 L Assume gas cannot escape. Calculate the experimental error?"
   ]
  },
  {
   "cell_type": "code",
   "execution_count": null,
   "metadata": {},
   "outputs": [],
   "source": [
    "answer = 0.96%\n",
    "\n",
    "from IPython.display import display \n",
    "from ipywidgets import widgets\n",
    "\n",
    "def f(x):\n",
    "    temp = -10000\n",
    "    \n",
    "    print(text.value)\n",
    "    try:\n",
    "        temp = int(text.value)\n",
    "    except:\n",
    "        print(\"Not a number\")\n",
    "    \n",
    "    if(temp == answer):\n",
    "        print(\"Yay!\")\n",
    "    else:\n",
    "        print(\"Whoops! Try again!\")\n",
    "\n",
    "text = widgets.Text()\n",
    "display(text)\n",
    "\n",
    "text.on_submit(f)"
   ]
  },
  {
   "cell_type": "raw",
   "metadata": {},
   "source": [
    "Example: A balloon that contains hydrogen gas has 5.0 liters when it is measured on a mountain where the air atmospheric pressure is only 30 kPa, and the temperature is only -30 degrees. What is the new volume of the balloon if the balloon occupies at SATP?\n",
    " (SATP condition: 25 degrees and 100 kPa)"
   ]
  },
  {
   "cell_type": "code",
   "execution_count": null,
   "metadata": {},
   "outputs": [],
   "source": [
    "answer = 0.0018\n",
    "\n",
    "from IPython.display import display \n",
    "from ipywidgets import widgets\n",
    "\n",
    "def f(x):\n",
    "    temp = -10000\n",
    "    \n",
    "    print(text.value)\n",
    "    try:\n",
    "        temp = int(text.value)\n",
    "    except:\n",
    "        print(\"Not a number\")\n",
    "    \n",
    "    if(temp == answer):\n",
    "        print(\"Yay!\")\n",
    "    else:\n",
    "        print(\"Whoops! Try again!\")\n",
    "\n",
    "text = widgets.Text()\n",
    "display(text)\n",
    "\n",
    "text.on_submit(f)"
   ]
  },
  {
   "cell_type": "raw",
   "metadata": {},
   "source": [
    "Example: A gas is measured to have a volume of 20.0 liters at a temperature of 20.0 degrees and at an atmospheric pressure of 1.00 atm. As the gas is raised up to a higher air pressure, what is the new air pressure if the final volume measured is 10.0 liters and the temperature is 5.00 degrees."
   ]
  },
  {
   "cell_type": "code",
   "execution_count": null,
   "metadata": {},
   "outputs": [],
   "source": [
    "answer = 192\n",
    "\n",
    "from IPython.display import display \n",
    "from ipywidgets import widgets\n",
    "\n",
    "def f(x):\n",
    "    temp = -10000\n",
    "    \n",
    "    print(text.value)\n",
    "    try:\n",
    "        temp = int(text.value)\n",
    "    except:\n",
    "        print(\"Not a number\")\n",
    "    \n",
    "    if(temp == answer):\n",
    "        print(\"Yay!\")\n",
    "    else:\n",
    "        print(\"Whoops! Try again!\")\n",
    "\n",
    "text = widgets.Text()\n",
    "display(text)\n",
    "\n",
    "text.on_submit(f)"
   ]
  },
  {
   "cell_type": "code",
   "execution_count": null,
   "metadata": {},
   "outputs": [],
   "source": []
  }
 ],
 "metadata": {
  "kernelspec": {
   "display_name": "Python 3",
   "language": "python",
   "name": "python3"
  },
  "language_info": {
   "codemirror_mode": {
    "name": "ipython",
    "version": 3
   },
   "file_extension": ".py",
   "mimetype": "text/x-python",
   "name": "python",
   "nbconvert_exporter": "python",
   "pygments_lexer": "ipython3",
   "version": "3.6.5"
  }
 },
 "nbformat": 4,
 "nbformat_minor": 2
}
