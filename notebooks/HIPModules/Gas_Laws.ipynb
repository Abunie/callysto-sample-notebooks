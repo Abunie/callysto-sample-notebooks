{
 "cells": [
  {
   "cell_type": "markdown",
   "metadata": {},
   "source": [
    "<img src=\"../images/Callysto_Notebook-Banner_Top_06.06.18.jpg\"/>"
   ]
  },
  {
   "cell_type": "markdown",
   "metadata": {},
   "source": [
    "# Pre-requisites / Background\n",
    "\n",
    "We are expecting that the students understand Celsius to Kelvin conversions, converting between pressure units, Kinetic Molecular Theory (ideal gas assumptions).\n",
    "\n",
    "In this section we will cover Boyle’s Law, Gay-Lussac’s Law, and Charles’ Law before putting them together in the Combined Gas Law. \n",
    "\n",
    "Alberta Curriculum Objective: illustrate how Boyle's and Charles's laws, individually and combined, are related to the ideal gas law (PV = nRT )."
   ]
  },
  {
   "cell_type": "markdown",
   "metadata": {},
   "source": [
    "# Introduction\n",
    "What do your lungs, guns, and airbags all have in common? They all use the gas laws to function. \n",
    "\n",
    "The gas laws resulted from 17th century studies into the physical properties of gases - pressure, volume, and temperature."
   ]
  },
  {
   "cell_type": "markdown",
   "metadata": {},
   "source": [
    "# The Gas Laws\n",
    "## Boyle's Law\n",
    "Picture this: your lungs expand, so the gas particles inside it are much less compared to the space they occupy, whereas outside your lungs, the gas particles are much more dense. We know that particles move from an area of high density to an area of low density, so air rushes into your lungs, enabling you to breathe.\n",
    "\n",
    "In technical terms, the space the gas occupies is considered its volume, and the density of particles refers to its pressure. This relationship between the two is called Boyle’s Law, the idea that pressure and volume are inversely proportional at a constant temperature. It can be expressed by the equation below: ![P1V1=P2V2](Images/boyles.png)."
   ]
  },
  {
   "cell_type": "code",
   "execution_count": 1,
   "metadata": {},
   "outputs": [
    {
     "data": {
      "text/html": [
       "<iframe width=\"560\" height=\"315\" src=\"https://www.youtube.com/embed/27yqJ9vJ5kQ\" frameborder=\"0\" allowfullscreen></iframe>"
      ],
      "text/plain": [
       "<IPython.core.display.HTML object>"
      ]
     },
     "execution_count": 1,
     "metadata": {},
     "output_type": "execute_result"
    }
   ],
   "source": [
    "from IPython.display import HTML\n",
    "HTML('<iframe width=\"560\" height=\"315\" src=\"https://www.youtube.com/embed/27yqJ9vJ5kQ\" frameborder=\"0\" allowfullscreen></iframe>')"
   ]
  },
  {
   "cell_type": "markdown",
   "metadata": {},
   "source": [
    "# Charle's Law\n",
    "In airbags, the temperature is originally extremely high due to the nitrogen gas that fills the airbag. As a result, the volume of the airbag is quickly expanded due to the inverse proportional relationship between the temperature and the volume of the gas. When the airbag is later exposed to the outside air, the temperature decreases significantly which causes the volume of the airbag to shrink to a smaller size that creates the softer cushion for the impact.\n",
    "\n",
    "In technical terms, the space of the gas occupied in the air bag is considered as its volume, and the average kinetic energy of the molecules is referred as its temperature. This relationship between the two variables is called the Charle's Law, the idea that the temperature and the volume have an inversely proportional relationship at a constant pressure. It can be expressed by the equation below: ![P1/T1=P2/T2](Images/charles-law.png)\n",
    "\n"
   ]
  },
  {
   "cell_type": "code",
   "execution_count": null,
   "metadata": {},
   "outputs": [],
   "source": []
  }
 ],
 "metadata": {
  "kernelspec": {
   "display_name": "Python 3",
   "language": "python",
   "name": "python3"
  },
  "language_info": {
   "codemirror_mode": {
    "name": "ipython",
    "version": 3
   },
   "file_extension": ".py",
   "mimetype": "text/x-python",
   "name": "python",
   "nbconvert_exporter": "python",
   "pygments_lexer": "ipython3",
   "version": "3.6.5"
  }
 },
 "nbformat": 4,
 "nbformat_minor": 2
}
