{
 "cells": [
  {
   "cell_type": "markdown",
   "metadata": {},
   "source": [
    "<img src=\"../images/Callysto_Notebook-Banner_Top_06.06.18.jpg\"/>"
   ]
  },
  {
   "cell_type": "code",
   "execution_count": 1,
   "metadata": {},
   "outputs": [
    {
     "name": "stdout",
     "output_type": "stream",
     "text": [
      "Hidden code segment block.\n"
     ]
    },
    {
     "data": {
      "text/html": [
       "<script>\n",
       "code_show=true; \n",
       "function code_toggle() {\n",
       "  if (code_show) {\n",
       "    $('div.input').each(function(id) {\n",
       "      el = $(this).find('.cm-variable:first');\n",
       "      if (id == 0 || el.text() == 'hide_me') {\n",
       "        $(this).hide();\n",
       "      }\n",
       "    });\n",
       "    $('div.output_prompt').css('opacity', 0);\n",
       "  } else {\n",
       "    $('div.input').each(function(id) {\n",
       "      $(this).show();\n",
       "    });\n",
       "    $('div.output_prompt').css('opacity', 1);\n",
       "  }\n",
       "  code_show = !code_show\n",
       "} \n",
       "$( document ).ready(code_toggle);\n",
       "</script>\n",
       "<form action=\"javascript:code_toggle()\"><input style=\"opacity:0\" type=\"submit\" value=\"Click here to toggle on/off the raw code.\"></form>"
      ],
      "text/plain": [
       "<IPython.core.display.HTML object>"
      ]
     },
     "execution_count": 1,
     "metadata": {},
     "output_type": "execute_result"
    }
   ],
   "source": [
    "# Temperary code placement to store code for hiding cells.\n",
    "\n",
    "from IPython.display import HTML\n",
    "\n",
    "hide_me = HTML('''<script>\n",
    "code_show=true; \n",
    "function code_toggle() {\n",
    "  if (code_show) {\n",
    "    $('div.input').each(function(id) {\n",
    "      el = $(this).find('.cm-variable:first');\n",
    "      if (id == 0 || el.text() == 'hide_me') {\n",
    "        $(this).hide();\n",
    "      }\n",
    "    });\n",
    "    $('div.output_prompt').css('opacity', 0);\n",
    "  } else {\n",
    "    $('div.input').each(function(id) {\n",
    "      $(this).show();\n",
    "    });\n",
    "    $('div.output_prompt').css('opacity', 1);\n",
    "  }\n",
    "  code_show = !code_show\n",
    "} \n",
    "$( document ).ready(code_toggle);\n",
    "</script>\n",
    "<form action=\"javascript:code_toggle()\"><input style=\"opacity:0\" type=\"submit\" value=\"Click here to toggle on/off the raw code.\"></form>''')\n",
    "\n",
    "print(\"Hidden code segment block.\")\n",
    "\n",
    "hide_me"
   ]
  },
  {
   "cell_type": "markdown",
   "metadata": {},
   "source": [
    "# Pre-requisites / Background\n",
    "\n",
    "[comment]: # (This curriculum objective is from before the curriculum remake. It may still be an objective after though.)\n",
    "**Alberta Curriculum Objective: Illustrate how Boyle's and Charles's laws, individually and combined, are related to the ideal gas law (PV = nRT ).**\n",
    "http://www.learnalberta.ca/ProgramOfStudy.aspx?lang=en&ProgramId=525479#707983\n",
    "\n",
    "In this notebook we will be working with Boyle's Law, Charles' Law, and Gay-Lussac's Law to build up to introducing the combined gas law, with a statistics extension.\n",
    "\n",
    "We are expecting that the students understand Celsius to Kelvin conversions, converting between pressure units, calculating experimental error, and Kinetic Molecular Theory (ideal gas assumptions). If they have already been introduced to these laws, this notebook will simply provide review and extra practice."
   ]
  },
  {
   "cell_type": "markdown",
   "metadata": {},
   "source": [
    "# Introduction\n",
    "Gases surround and shape the world around us all the time. From the air you breath to pneumatic gas-powered pistons that run our machinery, it is important to understand the properties of any given gas so we can better utilize it for our benefit. In a closed container, the pressure, temperature and volume dictate much of how a given gas behaves and understanding how these three properties relate to each other is fundamental to moving forward with our pursuit of understanding gas. Three laws were developed over time to correlate two of these properties at a time and assumes the third remains constant. These laws can in turn be integrated into the Combined Gas Law, which relates all three properties, assuming the amount of gas is constant."
   ]
  },
  {
   "cell_type": "markdown",
   "metadata": {},
   "source": [
    "# The Gas Laws\n",
    "## Boyle's Law\n",
    "How does the air pressure in your lungs and the volume of your lungs relate to help you breathe? When you breath out, you first greatly decrease the volume of your lungs. This increases the pressure exerted both on and by the air in your lungs, forcing the air out. When you breathe in, you first increase the volume of your lungs, and create an area of low air pressure in your lungs. Air from your environment then rushes into your lungs in an effort to re-establish equilibrium, and then the process repeats.\n",
    "\n",
    "The pressure and volume of a gas, assuming constant temperature, have a inverse relationship, and without this we would be unable to breathe. Through experimentation, in 1662 Robert Boyle was able to derive this relationship. Boyle's Law is as follows:\n",
    "## PV = k\n",
    "\n",
    "Where P is the pressure in the system, V is the volume, and k is a system-specific constant. You do not need to learn about k in Chemistry 20.\n",
    "\n",
    "If you recall back to kinetic molecular theory, the space the *isolated* gas particles occupy is considered the volume of the gas, and the pressure is the collective force the gas particles exert on the walls of its container. If the external pressure is increased, the volume available for the gas molecules is decreased. As a result, the gas molecules become closer together and will collide with each other and with the wall of the container more frequently. As the number of collisions increases, the average force exerted by the gas molecules is increased.\n",
    "\n",
    "For the purposes of Chemistry 20 is better to understand Boyle's Law as the following equation:\n",
    "## P<sub>1</sub>V<sub>1</sub> = P<sub>2</sub>V<sub>2</sub>\n",
    "This equation shows how changing pressure or volume impacts the other quantity when there is a change in the system. The P/V with the one subscript are the initial pressure and volume, and the P/V with two as a subscript are the quantities after the change. Use this equation for questions relating to Boyle's Law - the equation with k is not tested in the Chemistry 20 curriculum."
   ]
  },
  {
   "cell_type": "code",
   "execution_count": 2,
   "metadata": {},
   "outputs": [
    {
     "data": {
      "image/jpeg": "[encoded data removed]",
      "text/html": [
       "\n",
       "        <iframe\n",
       "            width=\"400\"\n",
       "            height=\"300\"\n",
       "            src=\"https://www.youtube.com/embed/27yqJ9vJ5kQ\"\n",
       "            frameborder=\"0\"\n",
       "            allowfullscreen\n",
       "        ></iframe>\n",
       "        "
      ],
      "text/plain": [
       "<IPython.lib.display.YouTubeVideo at 0x7f291c5a9828>"
      ]
     },
     "metadata": {},
     "output_type": "display_data"
    }
   ],
   "source": [
    "# Here is a youtube video that is about Boyle's Law.\n",
    "# Run this code segment to bring the video into this Callysto notebook.\n",
    "\n",
    "from IPython.lib.display import YouTubeVideo\n",
    "display(YouTubeVideo('27yqJ9vJ5kQ'))"
   ]
  },
  {
   "cell_type": "markdown",
   "metadata": {},
   "source": [
    "It is important to understand that Boyle's Law is a special case for a gas system where temperature is constant. If in your studies you see a question where pressure or volume are being manipulated and temperature is either explicitly or implicitly stated to be constant, this question is addressing and testing Boyle's Law."
   ]
  },
  {
   "cell_type": "markdown",
   "metadata": {},
   "source": [
    "# Experiment\n",
    "Let's say we want to find the pressure in an adult male test subject's lungs when they are expanded to maximum capacity. The average lung capacity of an adult human male is 6L. We will test random lung capacities for N trials, and see how Boyle's Law shapes the relationship between pressure and volume."
   ]
  },
  {
   "cell_type": "code",
   "execution_count": 1,
   "metadata": {},
   "outputs": [],
   "source": [
    "# Change the variables in this cell to create your own experiment!\n",
    "\n",
    "# Max volume in liters.\n",
    "volume = 6\n",
    "\n",
    "# Number of trials.\n",
    "N = 100"
   ]
  },
  {
   "cell_type": "code",
   "execution_count": 2,
   "metadata": {
    "scrolled": false
   },
   "outputs": [
    {
     "data": {
      "text/html": [
       "<script>requirejs.config({paths: { 'plotly': ['https://cdn.plot.ly/plotly-latest.min']},});if(!window.Plotly) {{require(['plotly'],function(plotly) {window.Plotly=plotly;});}}</script>"
      ],
      "text/vnd.plotly.v1+html": [
       "<script>requirejs.config({paths: { 'plotly': ['https://cdn.plot.ly/plotly-latest.min']},});if(!window.Plotly) {{require(['plotly'],function(plotly) {window.Plotly=plotly;});}}</script>"
      ]
     },
     "metadata": {},
     "output_type": "display_data"
    },
    {
     "data": {
      "application/vnd.plotly.v1+json": {
       "data": [
        {
         "mode": "markers",
         "type": "scatter",
         "uid": "ba2adf20-85f6-11e8-a3fa-28cfe9142f7f",
         "x": [
          4.426742144941063,
          1.3298426217826227,
          1.8248485990178371,
          4.500483517958985,
          2.686038377650094,
          3.6698102884106394,
          2.6955865185599976,
          5.06872238318151,
          5.920541154402767,
          3.3072620807300206,
          1.8720010703910694,
          2.8424448519169343,
          5.93903110467167,
          1.158575087610417,
          4.100542235577912,
          2.891555657089377,
          3.5382591307436844,
          2.9522054772485298,
          4.828359135903511,
          3.937682659780723,
          2.1769660514336695,
          0.8136796167381571,
          2.61344515415655,
          4.993868968123087,
          2.6575446580161994,
          0.15188465070978946,
          3.0184554794683116,
          5.958073183124422,
          5.450215778015812,
          4.589885403171627,
          0.6501309642738075,
          0.37547856331325474,
          1.135854309131154,
          4.529114048774103,
          5.129050865900586,
          0.8407570564277513,
          0.9923798047021153,
          2.5327308706354223,
          0.8366049598478971,
          3.762355122522518,
          1.940523287009574,
          3.4281874665142857,
          0.6098386376742749,
          2.578386068954831,
          1.3494945056549101,
          0.5584485693248066,
          4.512575786235766,
          3.266183035212255,
          5.613748130469469,
          1.2412010386732448,
          1.6701707906264676,
          2.12758739380453,
          4.666925471975851,
          0.3224133835841786,
          2.423182446835697,
          4.729349023971422,
          2.1583305074046955,
          3.1250767037332245,
          5.358893998608415,
          4.117309726816959,
          5.913641586508376,
          2.6696621709164714,
          1.7904707848285386,
          0.3512324435118861,
          4.319483985359911,
          1.335930864621933,
          0.340379487526547,
          1.1033870560065513,
          0.44762089590223664,
          3.7147182476073315,
          5.3574118582238714,
          5.344089814916925,
          2.819723010138941,
          1.257174101270623,
          2.1987342499705855,
          4.754464441391589,
          5.563477749509156,
          1.575768389076337,
          5.705342279721709,
          5.6322043593268525,
          2.7747900112659356,
          3.9382721964163148,
          3.193701357600625,
          4.493053856508649,
          5.278647716000132,
          3.5359995554992674,
          2.5634593963754586,
          1.844778633306927,
          4.495536873440107,
          0.4886299387262596,
          4.2749504210737985,
          0.2792353489113365,
          3.1369501141610012,
          1.8349046945354577,
          5.584959704950011,
          1.5115815392339538,
          5.5768723382388785,
          0.47280231552734053,
          5.816871711713485,
          0.5603635952341426
         ],
         "y": [
          0.12907186938806875,
          0.7388437025728337,
          0.5617189324495574,
          0.03743378884183623,
          0.46780301809145963,
          0.2586402122481515,
          0.22513504152266461,
          0.25739232874231116,
          0.16867793753833876,
          0.3551843218820996,
          0.5642854711472891,
          0.43755751775840135,
          0.17052079736223355,
          0.6826657764198125,
          0.23038682245398795,
          0.564484423903249,
          0.3995016375820578,
          0.34355245108515386,
          -0.028063843949339674,
          0.3610137173229465,
          0.3889888622809452,
          1.3660357679957023,
          0.29690250702871673,
          0.0850510523779523,
          0.2962641937850346,
          3.1796494135488502,
          0.30043958781138913,
          0.15176497236402894,
          0.2483079006007692,
          0.024568403919937733,
          1.4795919883997928,
          1.7530503114150116,
          0.6611136745212945,
          0.20999110105102983,
          0.32081909745307774,
          1.3836053684672178,
          0.7311112772324354,
          0.29900878034438005,
          1.6943430296996613,
          0.3275378188471018,
          0.7701315201559817,
          0.268489458912068,
          1.2962597918551986,
          0.45431413502936424,
          1.0576227736929944,
          2.2925203464865906,
          0.029219846856548284,
          0.19918017165500387,
          0.36956844876583184,
          0.548806769018449,
          0.5690910021836061,
          0.5187422791732246,
          0.3236741725371489,
          3.176608681153696,
          0.21577996000399596,
          -0.003517826751816229,
          0.4705893267148254,
          0.2976162197972897,
          0.33901385001440093,
          0.1822555271588639,
          -0.031432870378561725,
          0.3053389984550065,
          0.6094629906484648,
          2.06570555241445,
          0.4974938586983344,
          0.7482926868784007,
          2.6484974950364446,
          1.2720453766823587,
          1.3662314458691616,
          0.3934596291045208,
          0.17449917390254985,
          0.020891809919215354,
          0.5034670714577452,
          0.8291447517560313,
          0.5619990399034898,
          0.10336590312053215,
          0.15773974007324765,
          0.701313138971838,
          -0.03138906970137484,
          0.1073149484133208,
          0.11891319722907173,
          0.13250271386631907,
          0.2327909940300101,
          0.18377012669406956,
          0.45667910332014033,
          0.1413606319650456,
          0.3191094364551309,
          0.54828896495829,
          0.1903875986604568,
          2.4462547176272933,
          0.22704740283020622,
          2.3697199946094396,
          0.25420055766263516,
          0.522199024730687,
          0.2770559557110111,
          0.5853482353565859,
          0.08057813369977132,
          2.4153452198862704,
          0.2555880394728577,
          1.8904473511571183
         ]
        }
       ],
       "layout": {
        "title": "Pressure vs. Volume",
        "xaxis": {
         "title": "Volume"
        },
        "yaxis": {
         "title": "Pressure"
        }
       }
      },
      "text/html": [
       "<div id=\"5fb3b378-7f2d-4e55-a7f5-c4080ccfc85c\" style=\"height: 525px; width: 100%;\" class=\"plotly-graph-div\"></div><script type=\"text/javascript\">require([\"plotly\"], function(Plotly) { window.PLOTLYENV=window.PLOTLYENV || {};window.PLOTLYENV.BASE_URL=\"https://plot.ly\";\n",
       "        Plotly.plot(\n",
       "            '5fb3b378-7f2d-4e55-a7f5-c4080ccfc85c',\n",
       "            [{\"mode\": \"markers\", \"x\": [4.426742144941063, 1.3298426217826227, 1.8248485990178371, 4.500483517958985, 2.686038377650094, 3.6698102884106394, 2.6955865185599976, 5.06872238318151, 5.920541154402767, 3.3072620807300206, 1.8720010703910694, 2.8424448519169343, 5.93903110467167, 1.158575087610417, 4.100542235577912, 2.891555657089377, 3.5382591307436844, 2.9522054772485298, 4.828359135903511, 3.937682659780723, 2.1769660514336695, 0.8136796167381571, 2.61344515415655, 4.993868968123087, 2.6575446580161994, 0.15188465070978946, 3.0184554794683116, 5.958073183124422, 5.450215778015812, 4.589885403171627, 0.6501309642738075, 0.37547856331325474, 1.135854309131154, 4.529114048774103, 5.129050865900586, 0.8407570564277513, 0.9923798047021153, 2.5327308706354223, 0.8366049598478971, 3.762355122522518, 1.940523287009574, 3.4281874665142857, 0.6098386376742749, 2.578386068954831, 1.3494945056549101, 0.5584485693248066, 4.512575786235766, 3.266183035212255, 5.613748130469469, 1.2412010386732448, 1.6701707906264676, 2.12758739380453, 4.666925471975851, 0.3224133835841786, 2.423182446835697, 4.729349023971422, 2.1583305074046955, 3.1250767037332245, 5.358893998608415, 4.117309726816959, 5.913641586508376, 2.6696621709164714, 1.7904707848285386, 0.3512324435118861, 4.319483985359911, 1.335930864621933, 0.340379487526547, 1.1033870560065513, 0.44762089590223664, 3.7147182476073315, 5.3574118582238714, 5.344089814916925, 2.819723010138941, 1.257174101270623, 2.1987342499705855, 4.754464441391589, 5.563477749509156, 1.575768389076337, 5.705342279721709, 5.6322043593268525, 2.7747900112659356, 3.9382721964163148, 3.193701357600625, 4.493053856508649, 5.278647716000132, 3.5359995554992674, 2.5634593963754586, 1.844778633306927, 4.495536873440107, 0.4886299387262596, 4.2749504210737985, 0.2792353489113365, 3.1369501141610012, 1.8349046945354577, 5.584959704950011, 1.5115815392339538, 5.5768723382388785, 0.47280231552734053, 5.816871711713485, 0.5603635952341426], \"y\": [0.12907186938806875, 0.7388437025728337, 0.5617189324495574, 0.03743378884183623, 0.46780301809145963, 0.2586402122481515, 0.22513504152266461, 0.25739232874231116, 0.16867793753833876, 0.3551843218820996, 0.5642854711472891, 0.43755751775840135, 0.17052079736223355, 0.6826657764198125, 0.23038682245398795, 0.564484423903249, 0.3995016375820578, 0.34355245108515386, -0.028063843949339674, 0.3610137173229465, 0.3889888622809452, 1.3660357679957023, 0.29690250702871673, 0.0850510523779523, 0.2962641937850346, 3.1796494135488502, 0.30043958781138913, 0.15176497236402894, 0.2483079006007692, 0.024568403919937733, 1.4795919883997928, 1.7530503114150116, 0.6611136745212945, 0.20999110105102983, 0.32081909745307774, 1.3836053684672178, 0.7311112772324354, 0.29900878034438005, 1.6943430296996613, 0.3275378188471018, 0.7701315201559817, 0.268489458912068, 1.2962597918551986, 0.45431413502936424, 1.0576227736929944, 2.2925203464865906, 0.029219846856548284, 0.19918017165500387, 0.36956844876583184, 0.548806769018449, 0.5690910021836061, 0.5187422791732246, 0.3236741725371489, 3.176608681153696, 0.21577996000399596, -0.003517826751816229, 0.4705893267148254, 0.2976162197972897, 0.33901385001440093, 0.1822555271588639, -0.031432870378561725, 0.3053389984550065, 0.6094629906484648, 2.06570555241445, 0.4974938586983344, 0.7482926868784007, 2.6484974950364446, 1.2720453766823587, 1.3662314458691616, 0.3934596291045208, 0.17449917390254985, 0.020891809919215354, 0.5034670714577452, 0.8291447517560313, 0.5619990399034898, 0.10336590312053215, 0.15773974007324765, 0.701313138971838, -0.03138906970137484, 0.1073149484133208, 0.11891319722907173, 0.13250271386631907, 0.2327909940300101, 0.18377012669406956, 0.45667910332014033, 0.1413606319650456, 0.3191094364551309, 0.54828896495829, 0.1903875986604568, 2.4462547176272933, 0.22704740283020622, 2.3697199946094396, 0.25420055766263516, 0.522199024730687, 0.2770559557110111, 0.5853482353565859, 0.08057813369977132, 2.4153452198862704, 0.2555880394728577, 1.8904473511571183], \"type\": \"scatter\", \"uid\": \"ba2adf20-85f6-11e8-a3fa-28cfe9142f7f\"}],\n",
       "            {\"title\": \"Pressure vs. Volume\", \"xaxis\": {\"title\": \"Volume\"}, \"yaxis\": {\"title\": \"Pressure\"}},\n",
       "            {\"showLink\": true, \"linkText\": \"Export to plot.ly\"}\n",
       "        ).then(function () {return Plotly.addFrames('5fb3b378-7f2d-4e55-a7f5-c4080ccfc85c',{});}).then(function(){Plotly.animate('5fb3b378-7f2d-4e55-a7f5-c4080ccfc85c');})\n",
       "        });</script>"
      ],
      "text/vnd.plotly.v1+html": [
       "<div id=\"5fb3b378-7f2d-4e55-a7f5-c4080ccfc85c\" style=\"height: 525px; width: 100%;\" class=\"plotly-graph-div\"></div><script type=\"text/javascript\">require([\"plotly\"], function(Plotly) { window.PLOTLYENV=window.PLOTLYENV || {};window.PLOTLYENV.BASE_URL=\"https://plot.ly\";\n",
       "        Plotly.plot(\n",
       "            '5fb3b378-7f2d-4e55-a7f5-c4080ccfc85c',\n",
       "            [{\"mode\": \"markers\", \"x\": [4.426742144941063, 1.3298426217826227, 1.8248485990178371, 4.500483517958985, 2.686038377650094, 3.6698102884106394, 2.6955865185599976, 5.06872238318151, 5.920541154402767, 3.3072620807300206, 1.8720010703910694, 2.8424448519169343, 5.93903110467167, 1.158575087610417, 4.100542235577912, 2.891555657089377, 3.5382591307436844, 2.9522054772485298, 4.828359135903511, 3.937682659780723, 2.1769660514336695, 0.8136796167381571, 2.61344515415655, 4.993868968123087, 2.6575446580161994, 0.15188465070978946, 3.0184554794683116, 5.958073183124422, 5.450215778015812, 4.589885403171627, 0.6501309642738075, 0.37547856331325474, 1.135854309131154, 4.529114048774103, 5.129050865900586, 0.8407570564277513, 0.9923798047021153, 2.5327308706354223, 0.8366049598478971, 3.762355122522518, 1.940523287009574, 3.4281874665142857, 0.6098386376742749, 2.578386068954831, 1.3494945056549101, 0.5584485693248066, 4.512575786235766, 3.266183035212255, 5.613748130469469, 1.2412010386732448, 1.6701707906264676, 2.12758739380453, 4.666925471975851, 0.3224133835841786, 2.423182446835697, 4.729349023971422, 2.1583305074046955, 3.1250767037332245, 5.358893998608415, 4.117309726816959, 5.913641586508376, 2.6696621709164714, 1.7904707848285386, 0.3512324435118861, 4.319483985359911, 1.335930864621933, 0.340379487526547, 1.1033870560065513, 0.44762089590223664, 3.7147182476073315, 5.3574118582238714, 5.344089814916925, 2.819723010138941, 1.257174101270623, 2.1987342499705855, 4.754464441391589, 5.563477749509156, 1.575768389076337, 5.705342279721709, 5.6322043593268525, 2.7747900112659356, 3.9382721964163148, 3.193701357600625, 4.493053856508649, 5.278647716000132, 3.5359995554992674, 2.5634593963754586, 1.844778633306927, 4.495536873440107, 0.4886299387262596, 4.2749504210737985, 0.2792353489113365, 3.1369501141610012, 1.8349046945354577, 5.584959704950011, 1.5115815392339538, 5.5768723382388785, 0.47280231552734053, 5.816871711713485, 0.5603635952341426], \"y\": [0.12907186938806875, 0.7388437025728337, 0.5617189324495574, 0.03743378884183623, 0.46780301809145963, 0.2586402122481515, 0.22513504152266461, 0.25739232874231116, 0.16867793753833876, 0.3551843218820996, 0.5642854711472891, 0.43755751775840135, 0.17052079736223355, 0.6826657764198125, 0.23038682245398795, 0.564484423903249, 0.3995016375820578, 0.34355245108515386, -0.028063843949339674, 0.3610137173229465, 0.3889888622809452, 1.3660357679957023, 0.29690250702871673, 0.0850510523779523, 0.2962641937850346, 3.1796494135488502, 0.30043958781138913, 0.15176497236402894, 0.2483079006007692, 0.024568403919937733, 1.4795919883997928, 1.7530503114150116, 0.6611136745212945, 0.20999110105102983, 0.32081909745307774, 1.3836053684672178, 0.7311112772324354, 0.29900878034438005, 1.6943430296996613, 0.3275378188471018, 0.7701315201559817, 0.268489458912068, 1.2962597918551986, 0.45431413502936424, 1.0576227736929944, 2.2925203464865906, 0.029219846856548284, 0.19918017165500387, 0.36956844876583184, 0.548806769018449, 0.5690910021836061, 0.5187422791732246, 0.3236741725371489, 3.176608681153696, 0.21577996000399596, -0.003517826751816229, 0.4705893267148254, 0.2976162197972897, 0.33901385001440093, 0.1822555271588639, -0.031432870378561725, 0.3053389984550065, 0.6094629906484648, 2.06570555241445, 0.4974938586983344, 0.7482926868784007, 2.6484974950364446, 1.2720453766823587, 1.3662314458691616, 0.3934596291045208, 0.17449917390254985, 0.020891809919215354, 0.5034670714577452, 0.8291447517560313, 0.5619990399034898, 0.10336590312053215, 0.15773974007324765, 0.701313138971838, -0.03138906970137484, 0.1073149484133208, 0.11891319722907173, 0.13250271386631907, 0.2327909940300101, 0.18377012669406956, 0.45667910332014033, 0.1413606319650456, 0.3191094364551309, 0.54828896495829, 0.1903875986604568, 2.4462547176272933, 0.22704740283020622, 2.3697199946094396, 0.25420055766263516, 0.522199024730687, 0.2770559557110111, 0.5853482353565859, 0.08057813369977132, 2.4153452198862704, 0.2555880394728577, 1.8904473511571183], \"type\": \"scatter\", \"uid\": \"ba2adf20-85f6-11e8-a3fa-28cfe9142f7f\"}],\n",
       "            {\"title\": \"Pressure vs. Volume\", \"xaxis\": {\"title\": \"Volume\"}, \"yaxis\": {\"title\": \"Pressure\"}},\n",
       "            {\"showLink\": true, \"linkText\": \"Export to plot.ly\"}\n",
       "        ).then(function () {return Plotly.addFrames('5fb3b378-7f2d-4e55-a7f5-c4080ccfc85c',{});}).then(function(){Plotly.animate('5fb3b378-7f2d-4e55-a7f5-c4080ccfc85c');})\n",
       "        });</script>"
      ]
     },
     "metadata": {},
     "output_type": "display_data"
    }
   ],
   "source": [
    "# Imports, special lines of code to help generate the graph.\n",
    "import plotly.offline as py\n",
    "from plotly.offline import init_notebook_mode, iplot\n",
    "import plotly.graph_objs as go\n",
    "import numpy as np\n",
    "from numpy import random as rand\n",
    "import math\n",
    "init_notebook_mode(connected=True)\n",
    "\n",
    "# Initialize data sets. This makes sure it does not graph old data from previous experiments.\n",
    "gx = []\n",
    "gy = []\n",
    "\n",
    "# Constant multiple in Boyle's Law.\n",
    "k = 1\n",
    "\n",
    "# Boyle's Law is technically PV = k, where k is constant for that specific system, (It varies between systems.)\n",
    "# and P1V1 = P2V2 is only a result of this relationship. Students do not need to learn this however.\n",
    "# For simplicity k is set to 1.\n",
    "\n",
    "# Randomly generate data based on user defined volume and number of trials.\n",
    "for i in range(0, N):\n",
    "    temp = np.random.random_sample() * volume\n",
    "    \n",
    "    # Prevent large outliers.\n",
    "    # The limit is arbitrary, it is just so the graph looks nice and so the relationship is clearly defined.\n",
    "    limit = np.random.random_sample() + 1\n",
    "    while(k/temp > volume/limit):\n",
    "        temp = np.random.random_sample() * volume\n",
    "    \n",
    "    # Adds standard deviation to points (For more info see Intro to Standard Deviation).\n",
    "    outputx = rand.uniform(temp-(rand.random_sample()/3), temp+(rand.random_sample()/3))\n",
    "    outputy = np.random.uniform((k/temp)-(np.random.random_sample()/3), (k/temp)+(np.random.random_sample()/3))\n",
    "    \n",
    "    # Add the values to the list of data.\n",
    "    gx.append(outputx)\n",
    "    gy.append(outputy)\n",
    "\n",
    "# Organizes data.\n",
    "trace = go.Scatter(x=gx, y=gy, mode='markers')\n",
    "\n",
    "# Labels graph.\n",
    "templayout = go.Layout(title='Pressure vs. Volume', xaxis=dict(title='Volume'), yaxis=dict(title='Pressure'))\n",
    "\n",
    "# Renders graph. \n",
    "tempdata = [trace]\n",
    "fig = go.Figure(data=tempdata, layout=templayout)\n",
    "py.iplot(fig, filename='scatter-plot')"
   ]
  },
  {
   "cell_type": "markdown",
   "metadata": {},
   "source": [
    "# Questions\n",
    "There are three questions below that test Boyle's Law. There is a code segment that you can run after each question to check your answer. Before you do so though, run the code segment below this text. Each of the answers are encrypted, and this code decrypts it in order to test if it is correct. To be extra clear, the long string of characters and numbers such as `845e85fa64a2d6037055beba19fe0bd8` that you will see is not the answer, it is the encrypted answer. Furthermore, round to the nearest significant figure."
   ]
  },
  {
   "cell_type": "code",
   "execution_count": 5,
   "metadata": {},
   "outputs": [],
   "source": [
    "# Imports.\n",
    "from IPython.display import display \n",
    "from ipywidgets import widgets\n",
    "import hashlib\n",
    "\n",
    "# Check the answer given by the student.\n",
    "def check_answer(x):\n",
    "    temp = -10000\n",
    "    try:\n",
    "        temp = hashlib.md5(str.encode(str(text.value))).hexdigest()\n",
    "    except:\n",
    "        print(\"Not a number.\")\n",
    "    if(temp == answer and temp != -10000):\n",
    "        print(\"Correct!\")\n",
    "    else:\n",
    "        print(\"Incorrect. Try again!\")"
   ]
  },
  {
   "cell_type": "markdown",
   "metadata": {},
   "source": [
    "1. Assume the temperature and the number of gas molecules stay constant within the adult’s lung. Initially, the capacity of the lung is 3.4 liters, and the pressure in the adult’s lung is 15 mmHg. When the lung is expanded to the maximum capacity (average maximum capacity of adult's lung is 6 liters), use Boyle’s Law to determine the new pressure in mmHg within the adult’s lung. "
   ]
  },
  {
   "cell_type": "code",
   "execution_count": 6,
   "metadata": {},
   "outputs": [
    {
     "data": {
      "application/vnd.jupyter.widget-view+json": {
       "model_id": "220c8812535745908a3f9d7f76e16dd0",
       "version_major": 2,
       "version_minor": 0
      },
      "text/plain": [
       "Text(value='')"
      ]
     },
     "metadata": {},
     "output_type": "display_data"
    }
   ],
   "source": [
    "# Encrypted answer.\n",
    "answer = '845e85fa64a2d6037055beba19fe0bd8'\n",
    "\n",
    "# Create answer box.\n",
    "text = widgets.Text()\n",
    "display(text)\n",
    "text.on_submit(check_answer)"
   ]
  },
  {
   "cell_type": "markdown",
   "metadata": {},
   "source": [
    "2. Assume the temperature and the number of gas molecules stay constant within the balloon. A small gas container has 90 milliliters of nitrogen which in pumped into a balloon with a pressure of 1.0 atm. The balloon is sealed tightly, and it is released and raised to a higher altitude where the atmospheric pressure is 50 kPa. Find the final volume of the balloon in liters as it raises up to the mountain. "
   ]
  },
  {
   "cell_type": "code",
   "execution_count": 7,
   "metadata": {},
   "outputs": [
    {
     "data": {
      "application/vnd.jupyter.widget-view+json": {
       "model_id": "b29903cc8e3a4b43b299cfed85593bb6",
       "version_major": 2,
       "version_minor": 0
      },
      "text/plain": [
       "Text(value='')"
      ]
     },
     "metadata": {},
     "output_type": "display_data"
    }
   ],
   "source": [
    "# Encrypted answer.\n",
    "answer = 'c6e10b90290ed2ee26046b9976bf9f02'\n",
    "\n",
    "# Create answer box.\n",
    "text = widgets.Text()\n",
    "display(text)\n",
    "text.on_submit(check_answer)"
   ]
  },
  {
   "cell_type": "markdown",
   "metadata": {},
   "source": [
    "3. Assume the temperature and the number of gas molecules stay constant within a flexible plastic pump. With the pump closed, by what factor does pressure need to change in order for the volume of the pump to be half of its original size? "
   ]
  },
  {
   "cell_type": "code",
   "execution_count": 8,
   "metadata": {},
   "outputs": [
    {
     "data": {
      "application/vnd.jupyter.widget-view+json": {
       "model_id": "25f75d42fa244fd2b5f2bb305e7d461d",
       "version_major": 2,
       "version_minor": 0
      },
      "text/plain": [
       "Text(value='')"
      ]
     },
     "metadata": {},
     "output_type": "display_data"
    }
   ],
   "source": [
    "# Encrypted answer.\n",
    "answer = 'c81e728d9d4c2f636f067f89cc14862c'\n",
    "\n",
    "# Create answer box.\n",
    "text = widgets.Text()\n",
    "display(text)\n",
    "text.on_submit(check_answer)"
   ]
  },
  {
   "cell_type": "markdown",
   "metadata": {},
   "source": [
    "# Charles' Law\n",
    "The temperature of the nitrogen gas in airbags is originally extremely high so that the volume of the airbag is expands quickly due to the directly proportional relationship between the temperature and the volume of the gas. When the airbag is later exposed to the cooler outside air, the temperature of the nitrogen gas gradually changes which causes the volume of the airbag to slowly decrease in size, creating a softer cushion for the impact. This relationship, where pressure is constant, was developed in 1787 by Jacques Charles. It can be expressed by the equation below: ![V1/T1=V2/T2](Images/charles-law.png)\n",
    "\n",
    "# Optional Reading - Pressure does change, but returns to its original value\n",
    "Using the kinetic molecular theory to explain the Charles' Law, imagine that the pressure and the chemical amount of gas are held constant using a piston. When the temperature of the gas molecules increases, the gas molecules will move at a higher speed because temperature and the average kinetic energy of the gas molecules have a direct relationship. As a result, gas molecules will collide with each other and with walls of the container more frequently which exerts a greater force on the wall of container. Because the external pressure on the container is held constant, but the gas pressure inside the container are increased, the piston of the container is pushed up to increase the volume of the container."
   ]
  },
  {
   "cell_type": "markdown",
   "metadata": {},
   "source": [
    "# Experiment\n",
    "Let's say we want to drive a car into a wall but save our crash test dummy with a standard airbag that has an average volume of 70L when inflated. We will run a few simulations to find out what average temperature we need the nitrogen gas to be at to inflate the airbag to the desired volume. "
   ]
  },
  {
   "cell_type": "code",
   "execution_count": 9,
   "metadata": {},
   "outputs": [],
   "source": [
    "# Imports, information to help generate graph.\n",
    "import plotly.offline as py\n",
    "from plotly.offline import init_notebook_mode, iplot\n",
    "import plotly.graph_objs as go\n",
    "import numpy as np\n",
    "import random"
   ]
  },
  {
   "cell_type": "code",
   "execution_count": 10,
   "metadata": {},
   "outputs": [],
   "source": [
    "#STEP 1\n",
    "#set these values ONCE at the beginning of your experiment\n",
    "\n",
    "ave_volume=10 #in litres\n",
    "sd=10 # Standard deviation of the data. More information: Intro to Standard Deviation Notebook\n",
    "\n",
    "volumes = []\n",
    "temps = []\n",
    "trials = []"
   ]
  },
  {
   "cell_type": "code",
   "execution_count": 11,
   "metadata": {},
   "outputs": [],
   "source": [
    "#STEP 2\n",
    "#run this cell to generate values to populate your table, then run the table-generating cell\n",
    "yielded = random.uniform((ave_volume-sd), (ave_volume+sd))\n",
    "\n",
    "volume = round(yielded, 2)\n",
    "volumes.append(volume)\n",
    "\n",
    "k = 0.56 #constant for simplicity\n",
    "temps.append(k*volume)\n",
    "\n",
    "if len(volumes) > len(trials):\n",
    "    trials.append('Trial ' + str(len(volumes)))"
   ]
  },
  {
   "cell_type": "code",
   "execution_count": 12,
   "metadata": {},
   "outputs": [
    {
     "data": {
      "text/html": [
       "<script>requirejs.config({paths: { 'plotly': ['https://cdn.plot.ly/plotly-latest.min']},});if(!window.Plotly) {{require(['plotly'],function(plotly) {window.Plotly=plotly;});}}</script>"
      ],
      "text/vnd.plotly.v1+html": [
       "<script>requirejs.config({paths: { 'plotly': ['https://cdn.plot.ly/plotly-latest.min']},});if(!window.Plotly) {{require(['plotly'],function(plotly) {window.Plotly=plotly;});}}</script>"
      ]
     },
     "metadata": {},
     "output_type": "display_data"
    },
    {
     "data": {
      "application/vnd.plotly.v1+json": {
       "data": [
        {
         "name": "Volume",
         "type": "bar",
         "x": [
          "Trial 1"
         ],
         "y": [
          19.61
         ]
        },
        {
         "name": "Temperature",
         "type": "bar",
         "x": [
          "Trial 1"
         ],
         "y": [
          10.9816
         ]
        }
       ],
       "layout": {
        "barmode": "group"
       }
      },
      "text/html": [
       "<div id=\"08e17414-19da-4df9-934b-5ef605267b6f\" style=\"height: 525px; width: 100%;\" class=\"plotly-graph-div\"></div><script type=\"text/javascript\">require([\"plotly\"], function(Plotly) { window.PLOTLYENV=window.PLOTLYENV || {};window.PLOTLYENV.BASE_URL=\"https://plot.ly\";Plotly.newPlot(\"08e17414-19da-4df9-934b-5ef605267b6f\", [{\"type\": \"bar\", \"x\": [\"Trial 1\"], \"y\": [19.61], \"name\": \"Volume\"}, {\"type\": \"bar\", \"x\": [\"Trial 1\"], \"y\": [10.9816], \"name\": \"Temperature\"}], {\"barmode\": \"group\"}, {\"showLink\": true, \"linkText\": \"Export to plot.ly\"})});</script>"
      ],
      "text/vnd.plotly.v1+html": [
       "<div id=\"08e17414-19da-4df9-934b-5ef605267b6f\" style=\"height: 525px; width: 100%;\" class=\"plotly-graph-div\"></div><script type=\"text/javascript\">require([\"plotly\"], function(Plotly) { window.PLOTLYENV=window.PLOTLYENV || {};window.PLOTLYENV.BASE_URL=\"https://plot.ly\";Plotly.newPlot(\"08e17414-19da-4df9-934b-5ef605267b6f\", [{\"type\": \"bar\", \"x\": [\"Trial 1\"], \"y\": [19.61], \"name\": \"Volume\"}, {\"type\": \"bar\", \"x\": [\"Trial 1\"], \"y\": [10.9816], \"name\": \"Temperature\"}], {\"barmode\": \"group\"}, {\"showLink\": true, \"linkText\": \"Export to plot.ly\"})});</script>"
      ]
     },
     "metadata": {},
     "output_type": "display_data"
    }
   ],
   "source": [
    "#STEP 3\n",
    "#graph-generating cell - run after generating each new data pair\n",
    "\n",
    "init_notebook_mode(connected=True)\n",
    "\n",
    "#generates volume bars\n",
    "trace1 = go.Bar(\n",
    "    x=trials,\n",
    "    y=volumes,\n",
    "    name='Volume'\n",
    ")\n",
    "\n",
    "#generates temperature bars\n",
    "trace2 = go.Bar(\n",
    "    x=trials,\n",
    "    y=temps,\n",
    "    name='Temperature'\n",
    ")\n",
    "\n",
    "#gives graph grouped-bars layout\n",
    "data = [trace1, trace2]\n",
    "layout = go.Layout(\n",
    "    barmode='group'\n",
    ")\n",
    "\n",
    "#generates graph\n",
    "fig = go.Figure(data=data, layout=layout)\n",
    "py.iplot(fig, filename='grouped-bar')"
   ]
  },
  {
   "cell_type": "markdown",
   "metadata": {},
   "source": [
    "# Questions\n",
    "There are three questions below that test Charles' Law. There is a code segment that you can run after each question to check your answer. Before you do so though, run the code segment below this text. Each of the answers are encrypted, and this code decrypts it in order to test if it is correct. To be extra clear, the long string of characters and numbers such as `845e85fa64a2d6037055beba19fe0bd8` that you will see is not the answer, it is the encrypted answer. Furthermore, round to the nearest significant figure."
   ]
  },
  {
   "cell_type": "code",
   "execution_count": 13,
   "metadata": {},
   "outputs": [],
   "source": [
    "# Imports.\n",
    "from IPython.display import display \n",
    "from ipywidgets import widgets\n",
    "import hashlib\n",
    "\n",
    "# Check the answer given by the student.\n",
    "def check_answer(x):\n",
    "    temp = -10000\n",
    "    try:\n",
    "        temp = hashlib.md5(str.encode(str(text.value))).hexdigest()\n",
    "    except:\n",
    "        print(\"Not a number.\")\n",
    "    if(temp == answer and temp != -10000):\n",
    "        print(\"Correct!\")\n",
    "    else:\n",
    "        print(\"Incorrect. Try again!\")"
   ]
  },
  {
   "cell_type": "markdown",
   "metadata": {},
   "source": [
    "1. A specific amount of gas molecules is sealed within a container with a movable piston. The initial volume of the gas within the cylinder is 3.0 liters at 10 degrees C. What will be the final volume of the gas container in liters when the temperature is raised up to 30 degrees C?  "
   ]
  },
  {
   "cell_type": "code",
   "execution_count": 14,
   "metadata": {},
   "outputs": [
    {
     "data": {
      "application/vnd.jupyter.widget-view+json": {
       "model_id": "c0e87f4cd8d24cb894b9091c3bb0dbcb",
       "version_major": 2,
       "version_minor": 0
      },
      "text/plain": [
       "Text(value='')"
      ]
     },
     "metadata": {},
     "output_type": "display_data"
    }
   ],
   "source": [
    "# Encrypted answer.\n",
    "answer = 'acff46b161a3b7d6ed01ba79a032acc9'\n",
    "\n",
    "# Create answer box.\n",
    "text = widgets.Text()\n",
    "display(text)\n",
    "text.on_submit(check_answer)"
   ]
  },
  {
   "cell_type": "markdown",
   "metadata": {},
   "source": [
    "2. For a hot balloon that contains helium gas, it initially contains 1000$m^{3}$ at a temperature of 20.00 degrees C. As fire is burning at the bottom of the balloon, what is the minimum temperature in Celsius needed for the hot balloon in order for the volume to increase to 17000 $m^{3}$?\n"
   ]
  },
  {
   "cell_type": "code",
   "execution_count": 15,
   "metadata": {},
   "outputs": [
    {
     "data": {
      "application/vnd.jupyter.widget-view+json": {
       "model_id": "efbea048fb1c403f961ae7caa2cf0a18",
       "version_major": 2,
       "version_minor": 0
      },
      "text/plain": [
       "Text(value='')"
      ]
     },
     "metadata": {},
     "output_type": "display_data"
    }
   ],
   "source": [
    "# Encrypted answer.\n",
    "answer = 'a78e17c964d3593d89cde3fb678f6a14'\n",
    "\n",
    "# Create answer box.\n",
    "text = widgets.Text()\n",
    "display(text)\n",
    "text.on_submit(check_answer)"
   ]
  },
  {
   "cell_type": "markdown",
   "metadata": {},
   "source": [
    "3. When a float pool contains gas at 20 degrees C, and it is heated up an additional 14 degrees C, what is the new volume in liters if it contained 3.2 liters of gas originally?"
   ]
  },
  {
   "cell_type": "code",
   "execution_count": 16,
   "metadata": {},
   "outputs": [
    {
     "data": {
      "application/vnd.jupyter.widget-view+json": {
       "model_id": "c22d005b448e4ad38511b524ff0cf05b",
       "version_major": 2,
       "version_minor": 0
      },
      "text/plain": [
       "Text(value='')"
      ]
     },
     "metadata": {},
     "output_type": "display_data"
    }
   ],
   "source": [
    "# Encrypted answer.\n",
    "answer = '31053ad0506e935470ca21b43cae98cf'\n",
    "\n",
    "# Create answer box.\n",
    "text = widgets.Text()\n",
    "display(text)\n",
    "text.on_submit(check_answer)"
   ]
  },
  {
   "cell_type": "markdown",
   "metadata": {},
   "source": [
    "# Gay-Lussac's Law\n",
    "If you watched a gun fire, you would see a plume of smoke as the gunpowder burns and the bullet whizzes out. The increase in temperature caused an increase in the pressure, which forced the bullet out of the barrel. \n",
    "\n",
    "In technical terms, the average kinetic energy of the molecule is referred to as the temperature, and the density of the particles is referred to as the pressure. The relationship between the two variables at a constant volume is a direct relationship was defined by Joseph Louis Gay-Lussac in 1809. It can be expressed by the equation below: ![P1/T1=P2/T2](Images/Gay-Lussacs-Law.png)\n",
    "\n",
    "Using the kinetic molecular theory to explain the Gay-Lussac's Law, the volume and the chemical amount of gas are held constant. When the temperature of the gas molecules are increased, the gas molecules will move at a higher speed because temperature and the average kinetic energy of the gas molecules have a direct relationship. As a result, gas molecules will collide with each other and with the wall of the container more frequently which exerts a greater force on the wall of container which increases the pressure of the gas. "
   ]
  },
  {
   "cell_type": "markdown",
   "metadata": {},
   "source": [
    "# Experiment\n",
    "The chamber pressure in a gun is roughly 344737.86 kPa at least. We can predict the approximate temperature the gunpowder would need to burn at because the two are directly proportional."
   ]
  },
  {
   "cell_type": "code",
   "execution_count": 17,
   "metadata": {},
   "outputs": [],
   "source": [
    "#imports, information to help generate table\n",
    "import pandas as pd\n",
    "import matplotlib as mpl\n",
    "import numpy as np\n",
    "import random"
   ]
  },
  {
   "cell_type": "code",
   "execution_count": 18,
   "metadata": {},
   "outputs": [],
   "source": [
    "#STEP 1\n",
    "#set these values ONCE at the beginning of your experiment\n",
    "\n",
    "ave_pressure = 100 #in kPa\n",
    "sd = 4 # Standard deviation of the data. More information: Intro to Standard Deviation Notebook\n",
    "\n",
    "trials = [] #leave this blank for now - values will be added later!"
   ]
  },
  {
   "cell_type": "code",
   "execution_count": 19,
   "metadata": {},
   "outputs": [],
   "source": [
    "#STEP 2\n",
    "#run this cell to generate values to populate your table, then run the table-generating cell\n",
    "yielded = random.uniform((ave_pressure-sd), (ave_pressure+sd))\n",
    "\n",
    "pressure = round(yielded, 2)\n",
    "\n",
    "k = 2 #contant for simplicity\n",
    "\n",
    "trials.append((pressure, k*pressure))"
   ]
  },
  {
   "cell_type": "code",
   "execution_count": 20,
   "metadata": {},
   "outputs": [
    {
     "data": {
      "text/html": [
       "<style  type=\"text/css\" >\n",
       "</style>  \n",
       "<table id=\"T_aa3a1bc8_85f4_11e8_9d93_0242ac110002\" > \n",
       "<thead>    <tr> \n",
       "        <th class=\"blank level0\" ></th> \n",
       "        <th class=\"col_heading level0 col0\" >Pressure</th> \n",
       "        <th class=\"col_heading level0 col1\" >Temperature</th> \n",
       "    </tr></thead> \n",
       "<tbody>    <tr> \n",
       "        <th id=\"T_aa3a1bc8_85f4_11e8_9d93_0242ac110002level0_row0\" class=\"row_heading level0 row0\" >0</th> \n",
       "        <td id=\"T_aa3a1bc8_85f4_11e8_9d93_0242ac110002row0_col0\" class=\"data row0 col0\" >99.18</td> \n",
       "        <td id=\"T_aa3a1bc8_85f4_11e8_9d93_0242ac110002row0_col1\" class=\"data row0 col1\" >198.36</td> \n",
       "    </tr></tbody> \n",
       "</table> "
      ],
      "text/plain": [
       "<pandas.io.formats.style.Styler at 0x7f28ef6f1588>"
      ]
     },
     "execution_count": 20,
     "metadata": {},
     "output_type": "execute_result"
    }
   ],
   "source": [
    "#STEP 3\n",
    "#table-generating cell - run after generating each new data pair\n",
    "labels = ['Pressure', 'Temperature']\n",
    "trials.sort()\n",
    "df = pd.DataFrame.from_records(trials, columns=labels)\n",
    "df.head\n",
    "df.style\n",
    "#run step 2 then step 3 repeatedly until satisfied with your table of values"
   ]
  },
  {
   "cell_type": "markdown",
   "metadata": {},
   "source": [
    "# Questions\n",
    "There are three questions below that test Gay-Lussac's Law. There is a code segment that you can run after each question to check your answer. Before you do so though, run the code segment below this text. Each of the answers are encrypted, and this code decrypts it in order to test if it is correct. To be extra clear, the long string of characters and numbers such as `845e85fa64a2d6037055beba19fe0bd8` that you will see is not the answer, it is the encrypted answer. Furthermore, round to the nearest significant figure."
   ]
  },
  {
   "cell_type": "code",
   "execution_count": 21,
   "metadata": {},
   "outputs": [],
   "source": [
    "# Imports.\n",
    "from IPython.display import display \n",
    "from ipywidgets import widgets\n",
    "import hashlib\n",
    "\n",
    "# Check the answer given by the student.\n",
    "def check_answer(x):\n",
    "    temp = -10000\n",
    "    try:\n",
    "        temp = hashlib.md5(str.encode(str(text.value))).hexdigest()\n",
    "    except:\n",
    "        print(\"Not a number.\")\n",
    "    if(temp == answer and temp != -10000):\n",
    "        print(\"Correct!\")\n",
    "    else:\n",
    "        print(\"Incorrect. Try again!\")"
   ]
  },
  {
   "cell_type": "markdown",
   "metadata": {},
   "source": [
    "1. The gas particles are in a sealed container at 200 mmHg under the 15.0 degrees C room temperature. When the pressure on the gas particles is increased to 560 mmHg, what is the new temperature of the gas molecules in Celsius?"
   ]
  },
  {
   "cell_type": "code",
   "execution_count": 22,
   "metadata": {},
   "outputs": [
    {
     "data": {
      "application/vnd.jupyter.widget-view+json": {
       "model_id": "726ddeccbd7942e39f62d14caeea5b74",
       "version_major": 2,
       "version_minor": 0
      },
      "text/plain": [
       "Text(value='')"
      ]
     },
     "metadata": {},
     "output_type": "display_data"
    }
   ],
   "source": [
    "# Encrypted answer.\n",
    "answer = 'c399862d3b9d6b76c8436e924a68c45b'\n",
    "\n",
    "# Create answer box.\n",
    "text = widgets.Text()\n",
    "display(text)\n",
    "text.on_submit(check_answer)"
   ]
  },
  {
   "cell_type": "markdown",
   "metadata": {},
   "source": [
    "2. A cylinder container has a constant fixed volume at a temperature of 30.0 degrees C and a pressure of 101 kPa. As the pressure on the container is increased to 200 kPa, how much percentage of the temperature are increased?\n"
   ]
  },
  {
   "cell_type": "code",
   "execution_count": 23,
   "metadata": {},
   "outputs": [
    {
     "data": {
      "application/vnd.jupyter.widget-view+json": {
       "model_id": "447c973ede9f4f619b334d1002e97033",
       "version_major": 2,
       "version_minor": 0
      },
      "text/plain": [
       "Text(value='')"
      ]
     },
     "metadata": {},
     "output_type": "display_data"
    }
   ],
   "source": [
    "# Encrypted answer.\n",
    "answer = '4fac9ba115140ac4f1c22da82aa0bc7f'\n",
    "\n",
    "# Create answer box.\n",
    "text = widgets.Text()\n",
    "display(text)\n",
    "text.on_submit(check_answer)"
   ]
  },
  {
   "cell_type": "markdown",
   "metadata": {},
   "source": [
    "3. If a gun needs 351867.04 kPa to shoot out a bullet, and the gun initially exerts a pressure of 1000.00kPa on the bullet at a temperature of 20.0000 Celsius. How much would the temperature need to be increased in Celsius in order for the bullet to be shot? "
   ]
  },
  {
   "cell_type": "code",
   "execution_count": 24,
   "metadata": {},
   "outputs": [
    {
     "data": {
      "application/vnd.jupyter.widget-view+json": {
       "model_id": "f2e30550124040babeda2e40991a440b",
       "version_major": 2,
       "version_minor": 0
      },
      "text/plain": [
       "Text(value='')"
      ]
     },
     "metadata": {},
     "output_type": "display_data"
    }
   ],
   "source": [
    "# Encrypted answer.\n",
    "answer = 'cea6e0b18604bc926d0fba9701e40359'\n",
    "\n",
    "# Create answer box.\n",
    "text = widgets.Text()\n",
    "display(text)\n",
    "text.on_submit(check_answer)"
   ]
  },
  {
   "cell_type": "markdown",
   "metadata": {},
   "source": [
    "# Combined Gas Law\n",
    "The Combined Gas Law takes Boyle’s, Gay-Lussac’s, and Charles’ Laws into one equation where the amount of gas is constant. The inverse relationship between pressure and volume is maintained as well as the directly proportional relationship between pressure and temperature, and volume and temperature. It can be expressed by the equation below: ![P1V1/T1=P2V2/T2](Images/combined-gas-law.png)"
   ]
  },
  {
   "cell_type": "markdown",
   "metadata": {},
   "source": [
    "# Questions\n",
    "There are three questions below that test the Combined Gas Law. There is a code segment that you can run after each question to check your answer. Before you do so though, run the code segment below this text. Each of the answers are encrypted, and this code decrypts it in order to test if it is correct. To be extra clear, the long string of characters and numbers such as `845e85fa64a2d6037055beba19fe0bd8` that you will see is not the answer, it is the encrypted answer. Furthermore, round to the nearest significant figure."
   ]
  },
  {
   "cell_type": "code",
   "execution_count": 25,
   "metadata": {},
   "outputs": [],
   "source": [
    "# Imports.\n",
    "from IPython.display import display \n",
    "from ipywidgets import widgets\n",
    "import hashlib\n",
    "\n",
    "# Check the answer given by the student.\n",
    "def check_answer(x):\n",
    "    temp = -10000\n",
    "    try:\n",
    "        temp = hashlib.md5(str.encode(str(text.value))).hexdigest()\n",
    "    except:\n",
    "        print(\"Not a number.\")\n",
    "    if(temp == answer and temp != -10000):\n",
    "        print(\"Correct!\")\n",
    "    else:\n",
    "        print(\"Incorrect. Try again!\")"
   ]
  },
  {
   "cell_type": "markdown",
   "metadata": {},
   "source": [
    "1. A balloon that contains 10L of helium gas at an atmospheric pressure of 101 kPa and at a temperature of 25 degrees C is released to rise into the upper atmosphere where the temperature is -10 degrees C and the atmospheric air pressure is 15 kPa. During the experiment, the measured volume of the balloon after it rises to a higher altitude is 60 L. Assume gas cannot escape and calculate the experimental error as a percentage."
   ]
  },
  {
   "cell_type": "code",
   "execution_count": 26,
   "metadata": {},
   "outputs": [
    {
     "data": {
      "application/vnd.jupyter.widget-view+json": {
       "model_id": "aa7c9d59458e4d0a99032afa9515553a",
       "version_major": 2,
       "version_minor": 0
      },
      "text/plain": [
       "Text(value='')"
      ]
     },
     "metadata": {},
     "output_type": "display_data"
    }
   ],
   "source": [
    "# Encrypted answer.\n",
    "answer = 'e93bb0ef149f78aeae0eab58c5a28758'\n",
    "\n",
    "# Create answer box.\n",
    "text = widgets.Text()\n",
    "display(text)\n",
    "text.on_submit(check_answer)"
   ]
  },
  {
   "cell_type": "markdown",
   "metadata": {},
   "source": [
    "2. A balloon that contains hydrogen gas has 5.0 liters when it is measured on a mountain where the air atmospheric pressure is only 30 kPa, and the temperature is only -30 degrees C. What is the new volume of the balloon if the balloon occupies at SATP? (SATP conditions: 25 degrees C and 100 kPa)"
   ]
  },
  {
   "cell_type": "code",
   "execution_count": 27,
   "metadata": {},
   "outputs": [
    {
     "data": {
      "application/vnd.jupyter.widget-view+json": {
       "model_id": "7d11590a58af4bc0979c058e75cbb27f",
       "version_major": 2,
       "version_minor": 0
      },
      "text/plain": [
       "Text(value='')"
      ]
     },
     "metadata": {},
     "output_type": "display_data"
    }
   ],
   "source": [
    "# Encrypted answer.\n",
    "answer = 'f932bed2d12442d21507b51d22b88dd7'\n",
    "\n",
    "# Create answer box.\n",
    "text = widgets.Text()\n",
    "display(text)\n",
    "text.on_submit(check_answer)"
   ]
  },
  {
   "cell_type": "markdown",
   "metadata": {},
   "source": [
    "3. A gas is measured to have a volume of 20.0 liters at a temperature of 20.0 degrees C and at an atmospheric pressure of 1.00 atm. As the gas is raised up to a higher air pressure, what is the new air pressure in atm if the final volume measured is 10.0 liters and the temperature is 5.00 degrees C."
   ]
  },
  {
   "cell_type": "code",
   "execution_count": 28,
   "metadata": {},
   "outputs": [
    {
     "data": {
      "application/vnd.jupyter.widget-view+json": {
       "model_id": "370ffa02dd5e4b03a85e9d0d1a130241",
       "version_major": 2,
       "version_minor": 0
      },
      "text/plain": [
       "Text(value='')"
      ]
     },
     "metadata": {},
     "output_type": "display_data"
    }
   ],
   "source": [
    "# Encrypted answer.\n",
    "answer = 'c3cce38563b9d2b2ac15c5b15ffc8c05'\n",
    "\n",
    "# Create answer box.\n",
    "text = widgets.Text()\n",
    "display(text)\n",
    "text.on_submit(check_answer)"
   ]
  },
  {
   "cell_type": "markdown",
   "metadata": {},
   "source": [
    "# Summary\n",
    "When performing these equations, it is important to ask yourself the questions below:\n",
    "1. Which of the quantities do you know?\n",
    "2. What quantity is constant? (Pressure, volume, or temperature?)\n",
    "3. Are the values in correct units?\n",
    "4. Is the question asking for the values in certain units or for the magnitude by which a value needs to be increased or decreased?\n",
    "5. After doing the algebra, does the unit analysis make sense?\n",
    "\n",
    "# Conclusion\n",
    "In this section, we introduced the different relationships between pressure, volume, and temperature, and the three different laws associated with them. These are Boyle's Law for pressure and volume where temperature is constant, Charles' Law for volume and temperature where pressure is constant, and Gay-Lussac's Law for pressure and temperature where volume is constant. Finally, we brought all three laws together into the combined gas law. "
   ]
  }
 ],
 "metadata": {
  "kernelspec": {
   "display_name": "Python 3",
   "language": "python",
   "name": "python3"
  },
  "language_info": {
   "codemirror_mode": {
    "name": "ipython",
    "version": 3
   },
   "file_extension": ".py",
   "mimetype": "text/x-python",
   "name": "python",
   "nbconvert_exporter": "python",
   "pygments_lexer": "ipython3",
   "version": "3.7.0"
  }
 },
 "nbformat": 4,
 "nbformat_minor": 2
}
