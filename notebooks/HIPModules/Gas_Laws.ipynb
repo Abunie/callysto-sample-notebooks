{
 "cells": [
  {
   "cell_type": "markdown",
   "metadata": {},
   "source": [
    "<img src=\"../images/Callysto_Notebook-Banner_Top_06.06.18.jpg\"/>"
   ]
  },
  {
   "cell_type": "code",
   "execution_count": 9,
   "metadata": {},
   "outputs": [
    {
     "data": {
      "text/html": [
       "\n",
       "<script>\n",
       "  function code_toggle() {\n",
       "    if (code_shown){\n",
       "      $('div.input').hide('500');\n",
       "      $('#toggleButton').val('Show Code')\n",
       "    } else {\n",
       "      $('div.input').show('500');\n",
       "      $('#toggleButton').val('Hide Code')\n",
       "    }\n",
       "    code_shown = !code_shown\n",
       "  }\n",
       "\n",
       "  $( document ).ready(function(){\n",
       "    code_shown=false;\n",
       "    $('div.input').hide()\n",
       "  });\n",
       "</script>\n",
       "<form action=\"javascript:code_toggle()\"><input type=\"submit\" id=\"toggleButton\" value=\"Show Code\"></form>"
      ],
      "text/plain": [
       "<IPython.core.display.HTML object>"
      ]
     },
     "metadata": {},
     "output_type": "display_data"
    }
   ],
   "source": [
    "%%html\n",
    "\n",
    "<script>\n",
    "  function code_toggle() {\n",
    "    if (code_shown){\n",
    "      $('div.input').hide('500');\n",
    "      $('#toggleButton').val('Show Code')\n",
    "    } else {\n",
    "      $('div.input').show('500');\n",
    "      $('#toggleButton').val('Hide Code')\n",
    "    }\n",
    "    code_shown = !code_shown\n",
    "  }\n",
    "\n",
    "  $( document ).ready(function(){\n",
    "    code_shown=false;\n",
    "    $('div.input').hide()\n",
    "  });\n",
    "</script>\n",
    "<form action=\"javascript:code_toggle()\"><input type=\"submit\" id=\"toggleButton\" value=\"Show Code\"></form>"
   ]
  },
  {
   "cell_type": "markdown",
   "metadata": {},
   "source": [
    "# Pre-requisites / Background\n",
    "\n",
    "We are expecting that the students understand Celsius to Kelvin conversions, converting between pressure units, Kinetic Molecular Theory (ideal gas assumptions).\n",
    "\n",
    "In this section we will cover Boyle’s Law, Gay-Lussac’s Law, and Charles’ Law before putting them together in the Combined Gas Law. \n",
    "\n",
    "Alberta Curriculum Objective: illustrate how Boyle's and Charles's laws, individually and combined, are related to the ideal gas law (PV = nRT )."
   ]
  },
  {
   "cell_type": "markdown",
   "metadata": {},
   "source": [
    "# Introduction\n",
    "What do your lungs, guns, and airbags all have in common? They all use the gas laws to function. \n",
    "\n",
    "The gas laws resulted from 17th century studies into the physical properties of gases - pressure, volume, and temperature."
   ]
  },
  {
   "cell_type": "markdown",
   "metadata": {},
   "source": [
    "# The Gas Laws\n",
    "## Boyle's Law\n",
    "Picture this: your lungs expand, so the gas particles inside it are much less compared to the space they occupy, whereas outside your lungs, the gas particles are much more dense. We know that particles move from an area of high density to an area of low density, so air rushes into your lungs, enabling you to breathe.\n",
    "\n",
    "In technical terms, the space the gas occupies is considered its volume, and the density of particles refers to its pressure. This relationship between the two is called Boyle’s Law, the idea that pressure and volume are inversely proportional at a constant temperature. \n",
    "\n",
    "Using the kinetic molecular theory to explain Boyle's Law, while the temperature and the chemical amount of gas are held constant. If the external pressure is increased, the volume available for the gas moelcules is decreased. As a reuslt, the gas molecules become closer together and will collide with each other and with the wall of the container more frequently. As the number of collisions increases, the average force extered by the gas molecules are increased. \n",
    "\n",
    "It can be expressed by the equation below: ![P1V1=P2V2](Images/boyles.png)."
   ]
  },
  {
   "cell_type": "code",
   "execution_count": 10,
   "metadata": {},
   "outputs": [
    {
     "data": {
      "text/html": [
       "\n",
       "        <iframe\n",
       "            width=\"400\"\n",
       "            height=\"300\"\n",
       "            src=\"https://www.youtube.com/embed/27yqJ9vJ5kQ\"\n",
       "            frameborder=\"0\"\n",
       "            allowfullscreen\n",
       "        ></iframe>\n",
       "        "
      ],
      "text/plain": [
       "<IPython.lib.display.YouTubeVideo at 0x108a8c160>"
      ]
     },
     "metadata": {},
     "output_type": "display_data"
    }
   ],
   "source": [
    "from IPython.lib.display import YouTubeVideo\n",
    "display(YouTubeVideo('27yqJ9vJ5kQ'))"
   ]
  },
  {
   "cell_type": "markdown",
   "metadata": {},
   "source": [
    "# Experiment\n",
    "Let's say we want to find the pressure in an adult male test subject's lungs when they are expanded to maximum capacity. The average lung capacity of an adult human male is 6L. We will test random lung capacities for N trials, and see how Boyle's Law shapes the relationship between pressure and volume."
   ]
  },
  {
   "cell_type": "code",
   "execution_count": 11,
   "metadata": {},
   "outputs": [],
   "source": [
    "# Change the variables in this cell to create your own experiment!\n",
    "\n",
    "# Max volume in liters.\n",
    "volume = 6\n",
    "\n",
    "# Number of trials.\n",
    "N = 100"
   ]
  },
  {
   "cell_type": "code",
   "execution_count": 12,
   "metadata": {
    "scrolled": false
   },
   "outputs": [
    {
     "data": {
      "text/html": [
       "<script>requirejs.config({paths: { 'plotly': ['https://cdn.plot.ly/plotly-latest.min']},});if(!window.Plotly) {{require(['plotly'],function(plotly) {window.Plotly=plotly;});}}</script>"
      ],
      "text/vnd.plotly.v1+html": [
       "<script>requirejs.config({paths: { 'plotly': ['https://cdn.plot.ly/plotly-latest.min']},});if(!window.Plotly) {{require(['plotly'],function(plotly) {window.Plotly=plotly;});}}</script>"
      ]
     },
     "metadata": {},
     "output_type": "display_data"
    },
    {
     "data": {
      "application/vnd.plotly.v1+json": {
       "data": [
        {
         "mode": "markers",
         "type": "scatter",
         "uid": "77585630-846d-11e8-ac8b-28cfe9142f7f",
         "x": [
          1.9393316267681213,
          5.398380647595178,
          5.3887809336762595,
          5.602412067315119,
          1.1777982608324509,
          4.802008823465962,
          3.9524050021508126,
          4.985362478159494,
          2.657386045681991,
          5.086898923709117,
          2.7075816848997047,
          3.415011368344442,
          1.6004897558598674,
          1.0470982695275481,
          3.531933561144975,
          0.9920211435325538,
          5.374243038922228,
          1.0136959500107037,
          4.9052238183704375,
          5.186474173449881,
          5.322564196033404,
          5.94475506563628,
          4.1791206147845275,
          4.7348937212209545,
          2.6978109040470093,
          3.754792880915582,
          0.3385556165995793,
          4.382074711981543,
          1.0550368185526329,
          2.5108390132696754,
          3.3664249437365306,
          5.61218642023141,
          5.0939677064816395,
          4.22824688949565,
          5.8270830328480585,
          1.4151892609807928,
          3.9052368113571223,
          5.862671016619322,
          4.105418445979372,
          0.8485480155684333,
          2.756815569748271,
          1.4270669259975237,
          4.1479923120092606,
          2.327059233151633,
          1.9879998589417234,
          1.3822806253586597,
          5.253240673223391,
          0.27258610318327303,
          3.507787187927977,
          5.743596382020981,
          3.7376028512110344,
          2.8389486907323693,
          4.050025072788785,
          2.756226203434765,
          2.3164672820926193,
          0.3030269160821768,
          1.972367046657178,
          2.6568480423950334,
          2.607903283006779,
          2.9155587665701646,
          3.1101145587797854,
          1.6458018194607946,
          2.735465464617156,
          2.2097539979637926,
          3.277101425878358,
          4.942466276030348,
          4.759591505640119,
          2.2920548029364283,
          2.1208095940136746,
          4.564481145010361,
          5.249729148166956,
          3.2734715858250754,
          2.7455534024466104,
          0.4340540030230383,
          2.1681566561422843,
          0.7881801137728452,
          3.530613109835308,
          0.6732223885964401,
          4.230677136932493,
          5.671633677405731,
          1.1958694612858403,
          1.2744415163435776,
          3.926386414407665,
          1.6415945981362046,
          0.18492372143941915,
          1.3258229819058092,
          4.1735090400332595,
          5.651981626110357,
          1.3278445325134782,
          0.9068373223372226,
          0.48134417467771234,
          3.471008245694638,
          3.8161246387909618,
          4.416332629433043,
          2.7559403538362752,
          3.0404558739814376,
          2.0145687645972026,
          1.017518702650568,
          1.3816176094354635,
          4.100607457911615
         ],
         "y": [
          0.5787888487124042,
          0.3039939267800953,
          0.19770459387094666,
          0.2522255421218218,
          0.8799439083873375,
          0.28031771785391213,
          0.2280882230998518,
          0.1923503786809262,
          0.4360001133254938,
          0.29050003538534763,
          0.2964054350669039,
          0.2309829499773587,
          0.5659029589048727,
          1.0252784535699213,
          0.4202617087917553,
          0.827831952257203,
          0.2030358071288532,
          0.9581344111230887,
          0.1556890880265288,
          0.14692625217132466,
          0.11816581742229208,
          0.27352088370885663,
          0.26903226130396474,
          0.167561096000588,
          0.5285771495028517,
          0.3550466980191589,
          2.403157999746734,
          0.2620221542707921,
          0.9239906313165693,
          0.29581158245329475,
          0.40321370029699377,
          0.21997392263524695,
          0.22421732813644177,
          0.10757998168813278,
          0.19332870923831186,
          0.7420621752970088,
          0.3640703990175981,
          0.20013530655496892,
          0.2197513798937195,
          1.0760458928042311,
          0.3651686330560673,
          0.8049155469393253,
          0.2309294784023366,
          0.5295853684104548,
          0.6022546703597567,
          0.7481222641170728,
          0.20124017165994496,
          3.403304756459902,
          0.3817775047808196,
          0.30072773615774795,
          0.17429731736531692,
          0.4336399378410264,
          0.317816676823388,
          0.2051710624723179,
          0.3786000694520476,
          3.8120210960655827,
          0.47879080277891095,
          0.34359239865356284,
          0.35409075774361953,
          0.18857593461587493,
          0.27821051498630855,
          0.5779800361580876,
          0.4409877192532392,
          0.44157646357431546,
          0.21821586521370942,
          0.18085458535000165,
          0.1394830836071207,
          0.5137969992804394,
          0.4682250529319997,
          0.2862212266632336,
          0.10767681559149404,
          0.33876692956434074,
          0.24154722744330748,
          2.514765538860291,
          0.4697679742373996,
          1.3345769002859753,
          0.19220813195560893,
          1.6414744641695758,
          0.12225902417600482,
          0.24862053729449254,
          1.065508745236995,
          0.8327368683341382,
          0.11950069413918872,
          0.5847085095097672,
          3.142147491347074,
          0.816011837332945,
          0.3592958481354653,
          0.10289269793026476,
          0.8771131189532333,
          1.375222803258005,
          2.0420880259313456,
          0.2773781259690329,
          0.38160136390265087,
          0.3490330551594353,
          0.23832135474098826,
          0.20525793473164144,
          0.46051758838221807,
          0.8657831795564794,
          0.654849865638139,
          0.1339532250415138
         ]
        }
       ],
       "layout": {
        "title": "Pressure vs. Volume",
        "xaxis": {
         "title": "Volume"
        },
        "yaxis": {
         "title": "Pressure"
        }
       }
      },
      "text/html": [
       "<div id=\"26dec679-6b00-4535-b02f-1ecdbf6ff718\" style=\"height: 525px; width: 100%;\" class=\"plotly-graph-div\"></div><script type=\"text/javascript\">require([\"plotly\"], function(Plotly) { window.PLOTLYENV=window.PLOTLYENV || {};window.PLOTLYENV.BASE_URL=\"https://plot.ly\";\n",
       "        Plotly.plot(\n",
       "            '26dec679-6b00-4535-b02f-1ecdbf6ff718',\n",
       "            [{\"mode\": \"markers\", \"x\": [1.9393316267681213, 5.398380647595178, 5.3887809336762595, 5.602412067315119, 1.1777982608324509, 4.802008823465962, 3.9524050021508126, 4.985362478159494, 2.657386045681991, 5.086898923709117, 2.7075816848997047, 3.415011368344442, 1.6004897558598674, 1.0470982695275481, 3.531933561144975, 0.9920211435325538, 5.374243038922228, 1.0136959500107037, 4.9052238183704375, 5.186474173449881, 5.322564196033404, 5.94475506563628, 4.1791206147845275, 4.7348937212209545, 2.6978109040470093, 3.754792880915582, 0.3385556165995793, 4.382074711981543, 1.0550368185526329, 2.5108390132696754, 3.3664249437365306, 5.61218642023141, 5.0939677064816395, 4.22824688949565, 5.8270830328480585, 1.4151892609807928, 3.9052368113571223, 5.862671016619322, 4.105418445979372, 0.8485480155684333, 2.756815569748271, 1.4270669259975237, 4.1479923120092606, 2.327059233151633, 1.9879998589417234, 1.3822806253586597, 5.253240673223391, 0.27258610318327303, 3.507787187927977, 5.743596382020981, 3.7376028512110344, 2.8389486907323693, 4.050025072788785, 2.756226203434765, 2.3164672820926193, 0.3030269160821768, 1.972367046657178, 2.6568480423950334, 2.607903283006779, 2.9155587665701646, 3.1101145587797854, 1.6458018194607946, 2.735465464617156, 2.2097539979637926, 3.277101425878358, 4.942466276030348, 4.759591505640119, 2.2920548029364283, 2.1208095940136746, 4.564481145010361, 5.249729148166956, 3.2734715858250754, 2.7455534024466104, 0.4340540030230383, 2.1681566561422843, 0.7881801137728452, 3.530613109835308, 0.6732223885964401, 4.230677136932493, 5.671633677405731, 1.1958694612858403, 1.2744415163435776, 3.926386414407665, 1.6415945981362046, 0.18492372143941915, 1.3258229819058092, 4.1735090400332595, 5.651981626110357, 1.3278445325134782, 0.9068373223372226, 0.48134417467771234, 3.471008245694638, 3.8161246387909618, 4.416332629433043, 2.7559403538362752, 3.0404558739814376, 2.0145687645972026, 1.017518702650568, 1.3816176094354635, 4.100607457911615], \"y\": [0.5787888487124042, 0.3039939267800953, 0.19770459387094666, 0.2522255421218218, 0.8799439083873375, 0.28031771785391213, 0.2280882230998518, 0.1923503786809262, 0.4360001133254938, 0.29050003538534763, 0.2964054350669039, 0.2309829499773587, 0.5659029589048727, 1.0252784535699213, 0.4202617087917553, 0.827831952257203, 0.2030358071288532, 0.9581344111230887, 0.1556890880265288, 0.14692625217132466, 0.11816581742229208, 0.27352088370885663, 0.26903226130396474, 0.167561096000588, 0.5285771495028517, 0.3550466980191589, 2.403157999746734, 0.2620221542707921, 0.9239906313165693, 0.29581158245329475, 0.40321370029699377, 0.21997392263524695, 0.22421732813644177, 0.10757998168813278, 0.19332870923831186, 0.7420621752970088, 0.3640703990175981, 0.20013530655496892, 0.2197513798937195, 1.0760458928042311, 0.3651686330560673, 0.8049155469393253, 0.2309294784023366, 0.5295853684104548, 0.6022546703597567, 0.7481222641170728, 0.20124017165994496, 3.403304756459902, 0.3817775047808196, 0.30072773615774795, 0.17429731736531692, 0.4336399378410264, 0.317816676823388, 0.2051710624723179, 0.3786000694520476, 3.8120210960655827, 0.47879080277891095, 0.34359239865356284, 0.35409075774361953, 0.18857593461587493, 0.27821051498630855, 0.5779800361580876, 0.4409877192532392, 0.44157646357431546, 0.21821586521370942, 0.18085458535000165, 0.1394830836071207, 0.5137969992804394, 0.4682250529319997, 0.2862212266632336, 0.10767681559149404, 0.33876692956434074, 0.24154722744330748, 2.514765538860291, 0.4697679742373996, 1.3345769002859753, 0.19220813195560893, 1.6414744641695758, 0.12225902417600482, 0.24862053729449254, 1.065508745236995, 0.8327368683341382, 0.11950069413918872, 0.5847085095097672, 3.142147491347074, 0.816011837332945, 0.3592958481354653, 0.10289269793026476, 0.8771131189532333, 1.375222803258005, 2.0420880259313456, 0.2773781259690329, 0.38160136390265087, 0.3490330551594353, 0.23832135474098826, 0.20525793473164144, 0.46051758838221807, 0.8657831795564794, 0.654849865638139, 0.1339532250415138], \"type\": \"scatter\", \"uid\": \"77585630-846d-11e8-ac8b-28cfe9142f7f\"}],\n",
       "            {\"title\": \"Pressure vs. Volume\", \"xaxis\": {\"title\": \"Volume\"}, \"yaxis\": {\"title\": \"Pressure\"}},\n",
       "            {\"showLink\": true, \"linkText\": \"Export to plot.ly\"}\n",
       "        ).then(function () {return Plotly.addFrames('26dec679-6b00-4535-b02f-1ecdbf6ff718',{});}).then(function(){Plotly.animate('26dec679-6b00-4535-b02f-1ecdbf6ff718');})\n",
       "        });</script>"
      ],
      "text/vnd.plotly.v1+html": [
       "<div id=\"26dec679-6b00-4535-b02f-1ecdbf6ff718\" style=\"height: 525px; width: 100%;\" class=\"plotly-graph-div\"></div><script type=\"text/javascript\">require([\"plotly\"], function(Plotly) { window.PLOTLYENV=window.PLOTLYENV || {};window.PLOTLYENV.BASE_URL=\"https://plot.ly\";\n",
       "        Plotly.plot(\n",
       "            '26dec679-6b00-4535-b02f-1ecdbf6ff718',\n",
       "            [{\"mode\": \"markers\", \"x\": [1.9393316267681213, 5.398380647595178, 5.3887809336762595, 5.602412067315119, 1.1777982608324509, 4.802008823465962, 3.9524050021508126, 4.985362478159494, 2.657386045681991, 5.086898923709117, 2.7075816848997047, 3.415011368344442, 1.6004897558598674, 1.0470982695275481, 3.531933561144975, 0.9920211435325538, 5.374243038922228, 1.0136959500107037, 4.9052238183704375, 5.186474173449881, 5.322564196033404, 5.94475506563628, 4.1791206147845275, 4.7348937212209545, 2.6978109040470093, 3.754792880915582, 0.3385556165995793, 4.382074711981543, 1.0550368185526329, 2.5108390132696754, 3.3664249437365306, 5.61218642023141, 5.0939677064816395, 4.22824688949565, 5.8270830328480585, 1.4151892609807928, 3.9052368113571223, 5.862671016619322, 4.105418445979372, 0.8485480155684333, 2.756815569748271, 1.4270669259975237, 4.1479923120092606, 2.327059233151633, 1.9879998589417234, 1.3822806253586597, 5.253240673223391, 0.27258610318327303, 3.507787187927977, 5.743596382020981, 3.7376028512110344, 2.8389486907323693, 4.050025072788785, 2.756226203434765, 2.3164672820926193, 0.3030269160821768, 1.972367046657178, 2.6568480423950334, 2.607903283006779, 2.9155587665701646, 3.1101145587797854, 1.6458018194607946, 2.735465464617156, 2.2097539979637926, 3.277101425878358, 4.942466276030348, 4.759591505640119, 2.2920548029364283, 2.1208095940136746, 4.564481145010361, 5.249729148166956, 3.2734715858250754, 2.7455534024466104, 0.4340540030230383, 2.1681566561422843, 0.7881801137728452, 3.530613109835308, 0.6732223885964401, 4.230677136932493, 5.671633677405731, 1.1958694612858403, 1.2744415163435776, 3.926386414407665, 1.6415945981362046, 0.18492372143941915, 1.3258229819058092, 4.1735090400332595, 5.651981626110357, 1.3278445325134782, 0.9068373223372226, 0.48134417467771234, 3.471008245694638, 3.8161246387909618, 4.416332629433043, 2.7559403538362752, 3.0404558739814376, 2.0145687645972026, 1.017518702650568, 1.3816176094354635, 4.100607457911615], \"y\": [0.5787888487124042, 0.3039939267800953, 0.19770459387094666, 0.2522255421218218, 0.8799439083873375, 0.28031771785391213, 0.2280882230998518, 0.1923503786809262, 0.4360001133254938, 0.29050003538534763, 0.2964054350669039, 0.2309829499773587, 0.5659029589048727, 1.0252784535699213, 0.4202617087917553, 0.827831952257203, 0.2030358071288532, 0.9581344111230887, 0.1556890880265288, 0.14692625217132466, 0.11816581742229208, 0.27352088370885663, 0.26903226130396474, 0.167561096000588, 0.5285771495028517, 0.3550466980191589, 2.403157999746734, 0.2620221542707921, 0.9239906313165693, 0.29581158245329475, 0.40321370029699377, 0.21997392263524695, 0.22421732813644177, 0.10757998168813278, 0.19332870923831186, 0.7420621752970088, 0.3640703990175981, 0.20013530655496892, 0.2197513798937195, 1.0760458928042311, 0.3651686330560673, 0.8049155469393253, 0.2309294784023366, 0.5295853684104548, 0.6022546703597567, 0.7481222641170728, 0.20124017165994496, 3.403304756459902, 0.3817775047808196, 0.30072773615774795, 0.17429731736531692, 0.4336399378410264, 0.317816676823388, 0.2051710624723179, 0.3786000694520476, 3.8120210960655827, 0.47879080277891095, 0.34359239865356284, 0.35409075774361953, 0.18857593461587493, 0.27821051498630855, 0.5779800361580876, 0.4409877192532392, 0.44157646357431546, 0.21821586521370942, 0.18085458535000165, 0.1394830836071207, 0.5137969992804394, 0.4682250529319997, 0.2862212266632336, 0.10767681559149404, 0.33876692956434074, 0.24154722744330748, 2.514765538860291, 0.4697679742373996, 1.3345769002859753, 0.19220813195560893, 1.6414744641695758, 0.12225902417600482, 0.24862053729449254, 1.065508745236995, 0.8327368683341382, 0.11950069413918872, 0.5847085095097672, 3.142147491347074, 0.816011837332945, 0.3592958481354653, 0.10289269793026476, 0.8771131189532333, 1.375222803258005, 2.0420880259313456, 0.2773781259690329, 0.38160136390265087, 0.3490330551594353, 0.23832135474098826, 0.20525793473164144, 0.46051758838221807, 0.8657831795564794, 0.654849865638139, 0.1339532250415138], \"type\": \"scatter\", \"uid\": \"77585630-846d-11e8-ac8b-28cfe9142f7f\"}],\n",
       "            {\"title\": \"Pressure vs. Volume\", \"xaxis\": {\"title\": \"Volume\"}, \"yaxis\": {\"title\": \"Pressure\"}},\n",
       "            {\"showLink\": true, \"linkText\": \"Export to plot.ly\"}\n",
       "        ).then(function () {return Plotly.addFrames('26dec679-6b00-4535-b02f-1ecdbf6ff718',{});}).then(function(){Plotly.animate('26dec679-6b00-4535-b02f-1ecdbf6ff718');})\n",
       "        });</script>"
      ]
     },
     "metadata": {},
     "output_type": "display_data"
    }
   ],
   "source": [
    "# Imports.\n",
    "import plotly.offline as py\n",
    "from plotly.offline import init_notebook_mode, iplot\n",
    "import plotly.graph_objs as go\n",
    "import numpy as np\n",
    "\n",
    "import math\n",
    "\n",
    "# Initialize plotly for Jupyter notebooks.\n",
    "init_notebook_mode(connected=True)\n",
    "\n",
    "# Initialize data sets.\n",
    "gx = []\n",
    "gy = []\n",
    "\n",
    "# Constant multiple in Boyle's Law.\n",
    "k = 1\n",
    "\n",
    "# Boyle's Law is technically PV = k, where k is constant for that specific system, (It varies between systems.)\n",
    "# and P1V1 = P2V2 is only a result of this relationship. Students do not learn this however.\n",
    "# For simplicity k is set to 1.\n",
    "\n",
    "# Standard deviation.\n",
    "sd = 0.15\n",
    "\n",
    "# Randomly generate data based on user defined volume and number of trials.\n",
    "for i in range(0, N):\n",
    "    temp = np.random.random_sample() * volume\n",
    "    \n",
    "    # Prevent large outliers. The limit is arbitrary, it is just so the graph looks nice.\n",
    "    limit = np.random.random_sample() + 1\n",
    "    while(k/temp > volume/limit):\n",
    "        temp = np.random.random_sample() * volume\n",
    "    \n",
    "    outputx = np.random.uniform(temp-sd, temp+sd)\n",
    "    outputy = np.random.uniform((k/temp)-sd, (k/temp)+sd)\n",
    "    \n",
    "    gx.append(outputx)\n",
    "    gy.append(outputy)\n",
    "\n",
    "# Create a trace.\n",
    "trace = go.Scatter(\n",
    "    x = gx,\n",
    "    y = gy,\n",
    "    mode = 'markers'\n",
    ")\n",
    "\n",
    "# Label the graph.\n",
    "templayout = go.Layout(\n",
    "    title = 'Pressure vs. Volume',\n",
    "    xaxis = dict(title='Volume'),\n",
    "    yaxis = dict(title='Pressure')\n",
    ")\n",
    "\n",
    "# Plot graph\n",
    "tempdata = [trace]\n",
    "fig = go.Figure(data = tempdata, layout = templayout)\n",
    "py.iplot(fig, filename='basic-scatter')"
   ]
  },
  {
   "cell_type": "markdown",
   "metadata": {},
   "source": [
    "# Charles' Law\n",
    "In airbags, the temperature is originally extremely high due to the nitrogen gas inflates it. As a result, the volume of the airbag is quickly expanded due to the directly proportional relationship between the temperature and the volume of the gas. When the airbag is later exposed to the outside air, the temperature decreases significantly which causes the volume of the airbag to decrease to a smaller size, creating a softer cushion for the impact.\n",
    "\n",
    "This relationship between the two variables of volume and temperature is a direct relationship which is defined by the Charle's Law, the idea that the temperature and the volume have an direcly proportional relationship at a constant pressure. \n",
    "\n",
    "Using the kinetic molecular theory to explain the Charles' Law, the pressure and the chemical amount of gas are held constant using a piston. When the teperature of the gas molecules increases, the gas molecules will move at a higher speed because temperature and the average kinetic energy of the gas molecules have a direct relationship. As a result, gas molecules will collide with each other and with walls of the container more frequently which exterts a greater force on the wall of container. Because the external pressure on the container are held constant, but the gas pressure inside the container are increased which will push the piston of the container to increase the volume of the container.\n",
    "\n",
    "It can be expressed by the equation below: ![V1/T1=V2/T2](Images/charles-law.png)\n"
   ]
  },
  {
   "cell_type": "code",
   "execution_count": 13,
   "metadata": {},
   "outputs": [],
   "source": [
    "#imports, information to help generate graph\n",
    "import plotly.offline as py\n",
    "from plotly.offline import init_notebook_mode, iplot\n",
    "import plotly.graph_objs as go\n",
    "import numpy as np\n",
    "import random"
   ]
  },
  {
   "cell_type": "code",
   "execution_count": 14,
   "metadata": {},
   "outputs": [],
   "source": [
    "#STEP 1\n",
    "#set these values ONCE at the beginning of your experiment\n",
    "\n",
    "aveVolume=10 #in litres\n",
    "standardDeviation=0.4\n",
    "\n",
    "volumes = []\n",
    "temperatures = []\n",
    "trials = []"
   ]
  },
  {
   "cell_type": "code",
   "execution_count": 15,
   "metadata": {},
   "outputs": [],
   "source": [
    "#STEP 2\n",
    "#run this cell to generate values to populate your table, then run the table-generating cell\n",
    "yielded = random.uniform((aveVolume-standardDeviation), (aveVolume+standardDeviation))\n",
    "volume = round(yielded, 2)\n",
    "volumes.append(volume)\n",
    "k = 0.56 #constant for simplicity\n",
    "temperatures.append(k*volume)\n",
    "\n",
    "if len(volumes) > len(trials):\n",
    "    trials.append('Trial ' + str(len(volumes)))"
   ]
  },
  {
   "cell_type": "code",
   "execution_count": 16,
   "metadata": {},
   "outputs": [
    {
     "data": {
      "text/html": [
       "<script>requirejs.config({paths: { 'plotly': ['https://cdn.plot.ly/plotly-latest.min']},});if(!window.Plotly) {{require(['plotly'],function(plotly) {window.Plotly=plotly;});}}</script>"
      ],
      "text/vnd.plotly.v1+html": [
       "<script>requirejs.config({paths: { 'plotly': ['https://cdn.plot.ly/plotly-latest.min']},});if(!window.Plotly) {{require(['plotly'],function(plotly) {window.Plotly=plotly;});}}</script>"
      ]
     },
     "metadata": {},
     "output_type": "display_data"
    },
    {
     "data": {
      "application/vnd.plotly.v1+json": {
       "data": [
        {
         "name": "Volume",
         "type": "bar",
         "uid": "7cb21904-846d-11e8-ac8b-28cfe9142f7f",
         "x": [
          "Trial 1"
         ],
         "y": [
          9.63
         ]
        },
        {
         "name": "Temperature",
         "type": "bar",
         "uid": "7cb21c88-846d-11e8-ac8b-28cfe9142f7f",
         "x": [
          "Trial 1"
         ],
         "y": [
          5.392800000000001
         ]
        }
       ],
       "layout": {
        "barmode": "group"
       }
      },
      "text/html": [
       "<div id=\"74e901f1-878a-403e-a89b-68c41e230e93\" style=\"height: 525px; width: 100%;\" class=\"plotly-graph-div\"></div><script type=\"text/javascript\">require([\"plotly\"], function(Plotly) { window.PLOTLYENV=window.PLOTLYENV || {};window.PLOTLYENV.BASE_URL=\"https://plot.ly\";\n",
       "        Plotly.plot(\n",
       "            '74e901f1-878a-403e-a89b-68c41e230e93',\n",
       "            [{\"name\": \"Volume\", \"x\": [\"Trial 1\"], \"y\": [9.63], \"type\": \"bar\", \"uid\": \"7cb21904-846d-11e8-ac8b-28cfe9142f7f\"}, {\"name\": \"Temperature\", \"x\": [\"Trial 1\"], \"y\": [5.392800000000001], \"type\": \"bar\", \"uid\": \"7cb21c88-846d-11e8-ac8b-28cfe9142f7f\"}],\n",
       "            {\"barmode\": \"group\"},\n",
       "            {\"showLink\": true, \"linkText\": \"Export to plot.ly\"}\n",
       "        ).then(function () {return Plotly.addFrames('74e901f1-878a-403e-a89b-68c41e230e93',{});}).then(function(){Plotly.animate('74e901f1-878a-403e-a89b-68c41e230e93');})\n",
       "        });</script>"
      ],
      "text/vnd.plotly.v1+html": [
       "<div id=\"74e901f1-878a-403e-a89b-68c41e230e93\" style=\"height: 525px; width: 100%;\" class=\"plotly-graph-div\"></div><script type=\"text/javascript\">require([\"plotly\"], function(Plotly) { window.PLOTLYENV=window.PLOTLYENV || {};window.PLOTLYENV.BASE_URL=\"https://plot.ly\";\n",
       "        Plotly.plot(\n",
       "            '74e901f1-878a-403e-a89b-68c41e230e93',\n",
       "            [{\"name\": \"Volume\", \"x\": [\"Trial 1\"], \"y\": [9.63], \"type\": \"bar\", \"uid\": \"7cb21904-846d-11e8-ac8b-28cfe9142f7f\"}, {\"name\": \"Temperature\", \"x\": [\"Trial 1\"], \"y\": [5.392800000000001], \"type\": \"bar\", \"uid\": \"7cb21c88-846d-11e8-ac8b-28cfe9142f7f\"}],\n",
       "            {\"barmode\": \"group\"},\n",
       "            {\"showLink\": true, \"linkText\": \"Export to plot.ly\"}\n",
       "        ).then(function () {return Plotly.addFrames('74e901f1-878a-403e-a89b-68c41e230e93',{});}).then(function(){Plotly.animate('74e901f1-878a-403e-a89b-68c41e230e93');})\n",
       "        });</script>"
      ]
     },
     "metadata": {},
     "output_type": "display_data"
    }
   ],
   "source": [
    "#STEP 3\n",
    "#graph-generating cell - run after generating each new data pair\n",
    "\n",
    "init_notebook_mode(connected=True)\n",
    "\n",
    "#generates volume bars\n",
    "trace1 = go.Bar(\n",
    "    x=trials,\n",
    "    y=volumes,\n",
    "    name='Volume'\n",
    ")\n",
    "\n",
    "#generates temperature bars\n",
    "trace2 = go.Bar(\n",
    "    x=trials,\n",
    "    y=temperatures,\n",
    "    name='Temperature'\n",
    ")\n",
    "\n",
    "#gives graph grouped-bars layout\n",
    "data = [trace1, trace2]\n",
    "layout = go.Layout(\n",
    "    barmode='group'\n",
    ")\n",
    "\n",
    "#generates graph\n",
    "fig = go.Figure(data=data, layout=layout)\n",
    "py.iplot(fig, filename='grouped-bar')"
   ]
  },
  {
   "cell_type": "markdown",
   "metadata": {},
   "source": [
    "# Gay-Lussac's Law\n",
    "In bullet guns, you will see a plume of smoke as the gunpowder burns and the bullet whizzes out. The increase in temperature will cause an increase in the pressure which forces the bullet out of the barrel. \n",
    "\n",
    "In technical terms, the average kinetic energy of the molecule is referred as the temperature, and the density of the particles is referred as the pressure. The relationship between the two variables is a direct relationship which is defined by the Gay-Lussac's Law, the idea that the temperature and the pressure have an directly proportional relationship at a constant volume.\n",
    "\n",
    "Using the kinetic molecular theory to explain the Gay-Lussac's law,  the volume and the chemical amount of gas are helf constant. When the temperature of the gas molecules are increased, the gas molecules will move at a higher speed because temperature and the average kinetic energy of the gas molecules have a direct relationship. As a result, gas molecules will collide with each other and with the wall of the container more frequently which exerts a greater force on the wall of container which increases the pressure of the gas. \n",
    "\n",
    "It can be expressed by the euqation below: ![P1/T1=P2/T2](Images/Gay-Lussacs-Law.png)\n",
    "\n"
   ]
  },
  {
   "cell_type": "code",
   "execution_count": 17,
   "metadata": {},
   "outputs": [],
   "source": [
    "#imports, information to help generate table\n",
    "import pandas as pd\n",
    "import matplotlib as mpl\n",
    "import numpy as np\n",
    "import random"
   ]
  },
  {
   "cell_type": "code",
   "execution_count": 18,
   "metadata": {},
   "outputs": [],
   "source": [
    "#STEP 1\n",
    "#set these values ONCE at the beginning of your experiment\n",
    "\n",
    "avePressure = 10 #in kPa\n",
    "standardDeviation = 0.4\n",
    "\n",
    "trials = [] #leave this blank for now - values will be added later!"
   ]
  },
  {
   "cell_type": "code",
   "execution_count": 19,
   "metadata": {},
   "outputs": [],
   "source": [
    "#STEP 2\n",
    "#run this cell to generate values to populate your table, then run the table-generating cell\n",
    "yielded = random.uniform((avePressure-standardDeviation), (avePressure+standardDeviation))\n",
    "pressure = round(yielded, 2)\n",
    "k = 15 #contant for simplicity\n",
    "trials.append((pressure, 10*pressure))"
   ]
  },
  {
   "cell_type": "code",
   "execution_count": 20,
   "metadata": {},
   "outputs": [
    {
     "data": {
      "text/html": [
       "<style  type=\"text/css\" >\n",
       "</style>  \n",
       "<table id=\"T_7e46fb54_846d_11e8_ac8b_28cfe9142f7f\" > \n",
       "<thead>    <tr> \n",
       "        <th class=\"blank level0\" ></th> \n",
       "        <th class=\"col_heading level0 col0\" >Pressure</th> \n",
       "        <th class=\"col_heading level0 col1\" >Temperature</th> \n",
       "    </tr></thead> \n",
       "<tbody>    <tr> \n",
       "        <th id=\"T_7e46fb54_846d_11e8_ac8b_28cfe9142f7flevel0_row0\" class=\"row_heading level0 row0\" >0</th> \n",
       "        <td id=\"T_7e46fb54_846d_11e8_ac8b_28cfe9142f7frow0_col0\" class=\"data row0 col0\" >10.22</td> \n",
       "        <td id=\"T_7e46fb54_846d_11e8_ac8b_28cfe9142f7frow0_col1\" class=\"data row0 col1\" >102.2</td> \n",
       "    </tr></tbody> \n",
       "</table> "
      ],
      "text/plain": [
       "<pandas.io.formats.style.Styler at 0x109199588>"
      ]
     },
     "execution_count": 20,
     "metadata": {},
     "output_type": "execute_result"
    }
   ],
   "source": [
    "#STEP 3\n",
    "#table-generating cell - run after generating each new data pair\n",
    "labels = ['Pressure', 'Temperature']\n",
    "trials.sort()\n",
    "df = pd.DataFrame.from_records(trials, columns=labels)\n",
    "df.head\n",
    "df.style\n",
    "#run step 2 then step 3 repeatedly until satisfied with your table of values"
   ]
  },
  {
   "cell_type": "code",
   "execution_count": null,
   "metadata": {},
   "outputs": [],
   "source": []
  }
 ],
 "metadata": {
  "kernelspec": {
   "display_name": "Python 3",
   "language": "python",
   "name": "python3"
  },
  "language_info": {
   "codemirror_mode": {
    "name": "ipython",
    "version": 3
   },
   "file_extension": ".py",
   "mimetype": "text/x-python",
   "name": "python",
   "nbconvert_exporter": "python",
   "pygments_lexer": "ipython3",
   "version": "3.7.0"
  }
 },
 "nbformat": 4,
 "nbformat_minor": 2
}
