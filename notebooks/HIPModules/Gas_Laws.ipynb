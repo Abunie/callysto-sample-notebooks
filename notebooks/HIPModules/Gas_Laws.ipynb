{
 "cells": [
  {
   "cell_type": "markdown",
   "metadata": {},
   "source": [
    "<img src=\"../images/Callysto_Notebook-Banner_Top_06.06.18.jpg\"/>"
   ]
  },
  {
   "cell_type": "code",
   "execution_count": 1,
   "metadata": {},
   "outputs": [
    {
     "name": "stdout",
     "output_type": "stream",
     "text": [
      "Hidden code segment block.\n"
     ]
    },
    {
     "data": {
      "text/html": [
       "<script>\n",
       "code_show=true; \n",
       "function code_toggle() {\n",
       "  if (code_show) {\n",
       "    $('div.input').each(function(id) {\n",
       "      el = $(this).find('.cm-variable:first');\n",
       "      if (id == 0 || el.text() == 'hide_me') {\n",
       "        $(this).hide();\n",
       "      }\n",
       "    });\n",
       "    $('div.output_prompt').css('opacity', 0);\n",
       "  } else {\n",
       "    $('div.input').each(function(id) {\n",
       "      $(this).show();\n",
       "    });\n",
       "    $('div.output_prompt').css('opacity', 1);\n",
       "  }\n",
       "  code_show = !code_show\n",
       "} \n",
       "$( document ).ready(code_toggle);\n",
       "</script>\n",
       "<form action=\"javascript:code_toggle()\"><input style=\"opacity:0\" type=\"submit\" value=\"Click here to toggle on/off the raw code.\"></form>"
      ],
      "text/plain": [
       "<IPython.core.display.HTML object>"
      ]
     },
     "execution_count": 1,
     "metadata": {},
     "output_type": "execute_result"
    }
   ],
   "source": [
    "# Temperary code placement to store code for hiding cells.\n",
    "\n",
    "from IPython.display import HTML\n",
    "\n",
    "hide_me = HTML('''<script>\n",
    "code_show=true; \n",
    "function code_toggle() {\n",
    "  if (code_show) {\n",
    "    $('div.input').each(function(id) {\n",
    "      el = $(this).find('.cm-variable:first');\n",
    "      if (id == 0 || el.text() == 'hide_me') {\n",
    "        $(this).hide();\n",
    "      }\n",
    "    });\n",
    "    $('div.output_prompt').css('opacity', 0);\n",
    "  } else {\n",
    "    $('div.input').each(function(id) {\n",
    "      $(this).show();\n",
    "    });\n",
    "    $('div.output_prompt').css('opacity', 1);\n",
    "  }\n",
    "  code_show = !code_show\n",
    "} \n",
    "$( document ).ready(code_toggle);\n",
    "</script>\n",
    "<form action=\"javascript:code_toggle()\"><input style=\"opacity:0\" type=\"submit\" value=\"Click here to toggle on/off the raw code.\"></form>''')\n",
    "\n",
    "print(\"Hidden code segment block.\")\n",
    "\n",
    "hide_me"
   ]
  },
  {
   "cell_type": "markdown",
   "metadata": {},
   "source": [
    "# Pre-requisites / Background\n",
    "\n",
    "[comment]: # (This curriculum objective is from before the curriculum remake. It may still be an objective after though.)\n",
    "**Alberta Curriculum Objective: Illustrate how Boyle's and Charles's laws, individually and combined, are related to the ideal gas law (PV = nRT ).**\n",
    "http://www.learnalberta.ca/ProgramOfStudy.aspx?lang=en&ProgramId=525479#707983\n",
    "\n",
    "In this notebook we will be working with Boyle's Law, Charles' Law, and Gay-Lussac's Law to build up to introducing the combined gas law, with a statistics extension.\n",
    "\n",
    "We are expecting that the students understand Celsius to Kelvin conversions, converting between pressure units, calculating experimental error, and Kinetic Molecular Theory (ideal gas assumptions). If they have already been introduced to these laws, this notebook will simply provide review and extra practice."
   ]
  },
  {
   "cell_type": "markdown",
   "metadata": {},
   "source": [
    "# Introduction\n",
    "Gases surround and shape the world around us all the time. From the air you breath to pneumatic gas-powered pistons that run our machinery, it is important to understand the properties of any given gas so we can better utilize it for our benefit. In a closed container, the pressure, temperature and volume dictate much of how a given gas behaves and understanding how these three properties relate to each other is fundamental to moving forward with our pursuit of understanding gas. Three laws were developed over time to correlate two of these properties at a time and assumes the third remains constant. These laws can in turn be integrated into the Combined Gas Law, which relates all three properties, assuming the amount of gas is constant."
   ]
  },
  {
   "cell_type": "markdown",
   "metadata": {},
   "source": [
    "# The Gas Laws\n",
    "## Boyle's Law\n",
    "How does the air pressure in your lungs and the volume of your lungs relate to help you breathe? When you breath out, you first greatly decrease the volume of your lungs. This increases the pressure exerted both on and by the air in your lungs, forcing the air out. When you breathe in, you first increase the volume of your lungs, and create an area of low air pressure in your lungs. Air from your environment then rushes into your lungs in an effort to re-establish equilibrium, and then the process repeats.\n",
    "\n",
    "The pressure and volume of a gas, assuming constant temperature, have a inverse relationship, and without this we would be unable to breathe. Through experimentation, in 1662 Robert Boyle was able to derive this relationship. Boyle's Law is as follows:\n",
    "\n",
    "$$\n",
    "\\huge\n",
    "PV = k\n",
    "$$\n",
    "\n",
    "Where P is the pressure in the system, V is the volume, and k is a system-specific constant. You do not need to learn about k in Chemistry 20.\n",
    "\n",
    "If you recall back to kinetic molecular theory, the space the *isolated* gas particles occupy is considered the volume of the gas, and the pressure is the collective force the gas particles exert on the walls of its container. If the external pressure is increased, the volume available for the gas molecules is decreased. As a result, the gas molecules become closer together and will collide with each other and with the wall of the container more frequently. As the number of collisions increases, the average force exerted by the gas molecules is increased.\n",
    "\n",
    "For the purposes of Chemistry 20 is better to understand Boyle's Law as the following equation:\n",
    "\n",
    "$$\n",
    "\\huge\n",
    "P_1V_1 = P_2V_2\n",
    "$$\n",
    "\n",
    "This equation shows how changing pressure or volume impacts the other quantity when there is a change in the system. The P/V with the one subscript are the initial pressure and volume, and the P/V with two as a subscript are the quantities after the change. Use this equation for questions relating to Boyle's Law - the equation with k is not tested in the Chemistry 20 curriculum."
   ]
  },
  {
   "cell_type": "code",
   "execution_count": 2,
   "metadata": {},
   "outputs": [
    {
     "data": {
      "image/jpeg": "[encoded data removed]",
      "text/html": [
       "\n",
       "        <iframe\n",
       "            width=\"400\"\n",
       "            height=\"300\"\n",
       "            src=\"https://www.youtube.com/embed/27yqJ9vJ5kQ\"\n",
       "            frameborder=\"0\"\n",
       "            allowfullscreen\n",
       "        ></iframe>\n",
       "        "
      ],
      "text/plain": [
       "<IPython.lib.display.YouTubeVideo at 0x7f291c5a9828>"
      ]
     },
     "metadata": {},
     "output_type": "display_data"
    }
   ],
   "source": [
    "# Here is a youtube video that is about Boyle's Law.\n",
    "# Run this code segment to bring the video into this Callysto notebook.\n",
    "\n",
    "from IPython.lib.display import YouTubeVideo\n",
    "display(YouTubeVideo('27yqJ9vJ5kQ'))"
   ]
  },
  {
   "cell_type": "markdown",
   "metadata": {},
   "source": [
    "It is important to understand that Boyle's Law is a special case for a gas system where temperature is constant. If in your studies you see a question where pressure or volume are being manipulated and temperature is either explicitly or implicitly stated to be constant, this question is addressing and testing Boyle's Law."
   ]
  },
  {
   "cell_type": "markdown",
   "metadata": {},
   "source": [
    "# Experiment\n",
    "Let's say we want to find the pressure in an adult male test subject's lungs when they are expanded to maximum capacity. The average lung capacity of an adult human male is 6L. We will test random lung capacities for N trials, and see how Boyle's Law shapes the relationship between pressure and volume."
   ]
  },
  {
   "cell_type": "code",
   "execution_count": 1,
   "metadata": {},
   "outputs": [],
   "source": [
    "# Change the variables in this cell to create your own experiment!\n",
    "\n",
    "# Max volume in liters.\n",
    "volume = 6\n",
    "\n",
    "# Number of trials.\n",
    "N = 100"
   ]
  },
  {
   "cell_type": "code",
   "execution_count": 4,
   "metadata": {
    "scrolled": false
   },
   "outputs": [
    {
     "data": {
      "text/html": [
       "<script>requirejs.config({paths: { 'plotly': ['https://cdn.plot.ly/plotly-latest.min']},});if(!window.Plotly) {{require(['plotly'],function(plotly) {window.Plotly=plotly;});}}</script>"
      ],
      "text/vnd.plotly.v1+html": [
       "<script>requirejs.config({paths: { 'plotly': ['https://cdn.plot.ly/plotly-latest.min']},});if(!window.Plotly) {{require(['plotly'],function(plotly) {window.Plotly=plotly;});}}</script>"
      ]
     },
     "metadata": {},
     "output_type": "display_data"
    },
    {
     "data": {
      "application/vnd.plotly.v1+json": {
       "data": [
        {
         "mode": "markers",
         "type": "scatter",
         "uid": "04abd52e-85fa-11e8-a3fa-28cfe9142f7f",
         "x": [
          3.281990198813729,
          1.03436069174955,
          2.8583410676210304,
          2.1003702273164513,
          2.628299265847182,
          4.317441456850768,
          4.859203102534286,
          3.3568288298259064,
          5.859252245438088,
          2.951994769890936,
          4.465362846029629,
          6.059843623006123,
          6.10926990088345,
          4.7108220447962985,
          5.899621784550359,
          1.1068618747411532,
          4.297222887864207,
          4.305147596329829,
          0.430116066851447,
          3.417999085769589,
          3.8101830938332544,
          4.469439721517777,
          1.1882964901640891,
          4.155909674794407,
          1.0440384091254622,
          1.2404676560855892,
          5.482434673559383,
          3.243243520189511,
          4.794582748695598,
          5.791084402685071,
          0.6542609782519672,
          3.185753696196878,
          2.01472708397982,
          5.898960613266681,
          2.834418800683618,
          1.8521479144961095,
          5.454493713486731,
          1.540541464344642,
          4.14377387373887,
          2.147745996440537,
          0.22219298568658635,
          4.438902485865097,
          1.650006973375026,
          1.51206267220274,
          1.4523137262085333,
          0.7539001334238344,
          3.7160353232478416,
          2.8733671049133194,
          2.6600262724235177,
          2.191711138456231,
          1.6493014313149716,
          5.851024940697443,
          4.384493132336812,
          3.424171235832039,
          1.8507819690872835,
          0.6944613757949418,
          4.8590003810775135,
          5.188101425665739,
          2.3113538805764073,
          2.307850199166771,
          4.770162814948295,
          2.9285693844867335,
          2.4008868085208133,
          0.4894157922905623,
          4.025136922990333,
          4.737093849530528,
          2.379724201812617,
          5.861661704257417,
          3.9514511724718133,
          0.6227076593638278,
          4.872871003424392,
          2.10812281474034,
          3.228168500072165,
          4.720957919112588,
          5.883033650378941,
          1.7105101446758857,
          3.080170920595997,
          4.448463086821709,
          1.0068094440530873,
          2.2764042286679076,
          4.80262786313929,
          5.1360716630815455,
          1.7721600961093578,
          5.867658324741059,
          2.6273620620180567,
          0.5618372350334788,
          2.687091999747562,
          4.9385175972377215,
          4.020324956148109,
          3.0818507971040834,
          2.6107639581856428,
          2.5210467225094386,
          3.5811284031610335,
          5.691547430896435,
          0.38660565891551574,
          3.6349419978234616,
          5.574539187457049,
          3.0451953330851063,
          4.251484898289231,
          3.466914225960084
         ],
         "y": [
          0.443192612037938,
          0.6797569516255262,
          0.13623243066865864,
          0.5539757964320762,
          0.2558188062016671,
          0.2937727014277096,
          0.22652421758065955,
          0.6217098296855973,
          0.28105052482007553,
          0.43542588511064517,
          0.25772861551006065,
          0.14037837041801443,
          0.2087409695163578,
          0.10869317063325004,
          0.16306858698802487,
          0.7592142279258494,
          0.10409345317405061,
          0.27153838063078045,
          1.728958717993748,
          0.2833774613847082,
          0.30165447899277864,
          0.172834203494762,
          0.9571959253075166,
          0.14469836279593107,
          0.8101985582496603,
          0.7119084802565936,
          0.46467166568170576,
          0.17110907565680353,
          0.3822601824066223,
          0.16493647505027936,
          1.411419875408477,
          0.3028827047737658,
          0.5794300663161367,
          0.16947674791959474,
          0.09645850059287159,
          0.37924403045394744,
          0.17662628334086872,
          0.8150693751073617,
          0.23351328815095806,
          0.4505046223113179,
          4.694068615867535,
          0.37379896430676207,
          0.7925439312106731,
          0.6625594537976318,
          0.6247425571830592,
          1.070108760185839,
          0.2507297291811755,
          0.527270793441249,
          0.31886691080257645,
          0.47877389101832313,
          0.7181960918308405,
          0.23649021884093024,
          0.2169722270487936,
          0.13168454390926226,
          0.4787487539216294,
          1.726739096016047,
          0.16027720254081743,
          0.22610748879632112,
          0.4086945079289648,
          0.5393504614475884,
          0.1888766902828848,
          0.2837612157281338,
          0.32120107571245843,
          1.8544985741241269,
          0.2384342621531847,
          0.33205154732367176,
          0.17884666760380857,
          0.21161548685778409,
          0.33308813192993714,
          1.329064530288878,
          0.28089921702978826,
          0.6619750927228487,
          0.5189092198480982,
          0.4525508541533847,
          0.1899628687730513,
          0.6738315106263426,
          0.3179275670563787,
          0.42737265342536984,
          1.033966147891817,
          0.7374288573797222,
          0.21823666078093323,
          0.10249130039472959,
          0.6068091078260227,
          0.345973722065567,
          0.22498493832039498,
          1.8350869592592922,
          0.27476463911122045,
          0.15500780080350182,
          0.08410323737502388,
          0.5733087901632246,
          0.6731084770040254,
          0.3479584537937735,
          0.27215268240619117,
          0.191303299531705,
          3.816637518069683,
          0.24170772923901512,
          -0.05985350540699723,
          0.4510894173684393,
          0.21951616279564734,
          0.32992887678977706
         ]
        }
       ],
       "layout": {
        "title": "Pressure vs. Volume",
        "xaxis": {
         "title": "Volume"
        },
        "yaxis": {
         "title": "Pressure"
        }
       }
      },
      "text/html": [
       "<div id=\"66751c08-75a7-4409-bf43-55a994671d94\" style=\"height: 525px; width: 100%;\" class=\"plotly-graph-div\"></div><script type=\"text/javascript\">require([\"plotly\"], function(Plotly) { window.PLOTLYENV=window.PLOTLYENV || {};window.PLOTLYENV.BASE_URL=\"https://plot.ly\";\n",
       "        Plotly.plot(\n",
       "            '66751c08-75a7-4409-bf43-55a994671d94',\n",
       "            [{\"mode\": \"markers\", \"x\": [3.281990198813729, 1.03436069174955, 2.8583410676210304, 2.1003702273164513, 2.628299265847182, 4.317441456850768, 4.859203102534286, 3.3568288298259064, 5.859252245438088, 2.951994769890936, 4.465362846029629, 6.059843623006123, 6.10926990088345, 4.7108220447962985, 5.899621784550359, 1.1068618747411532, 4.297222887864207, 4.305147596329829, 0.430116066851447, 3.417999085769589, 3.8101830938332544, 4.469439721517777, 1.1882964901640891, 4.155909674794407, 1.0440384091254622, 1.2404676560855892, 5.482434673559383, 3.243243520189511, 4.794582748695598, 5.791084402685071, 0.6542609782519672, 3.185753696196878, 2.01472708397982, 5.898960613266681, 2.834418800683618, 1.8521479144961095, 5.454493713486731, 1.540541464344642, 4.14377387373887, 2.147745996440537, 0.22219298568658635, 4.438902485865097, 1.650006973375026, 1.51206267220274, 1.4523137262085333, 0.7539001334238344, 3.7160353232478416, 2.8733671049133194, 2.6600262724235177, 2.191711138456231, 1.6493014313149716, 5.851024940697443, 4.384493132336812, 3.424171235832039, 1.8507819690872835, 0.6944613757949418, 4.8590003810775135, 5.188101425665739, 2.3113538805764073, 2.307850199166771, 4.770162814948295, 2.9285693844867335, 2.4008868085208133, 0.4894157922905623, 4.025136922990333, 4.737093849530528, 2.379724201812617, 5.861661704257417, 3.9514511724718133, 0.6227076593638278, 4.872871003424392, 2.10812281474034, 3.228168500072165, 4.720957919112588, 5.883033650378941, 1.7105101446758857, 3.080170920595997, 4.448463086821709, 1.0068094440530873, 2.2764042286679076, 4.80262786313929, 5.1360716630815455, 1.7721600961093578, 5.867658324741059, 2.6273620620180567, 0.5618372350334788, 2.687091999747562, 4.9385175972377215, 4.020324956148109, 3.0818507971040834, 2.6107639581856428, 2.5210467225094386, 3.5811284031610335, 5.691547430896435, 0.38660565891551574, 3.6349419978234616, 5.574539187457049, 3.0451953330851063, 4.251484898289231, 3.466914225960084], \"y\": [0.443192612037938, 0.6797569516255262, 0.13623243066865864, 0.5539757964320762, 0.2558188062016671, 0.2937727014277096, 0.22652421758065955, 0.6217098296855973, 0.28105052482007553, 0.43542588511064517, 0.25772861551006065, 0.14037837041801443, 0.2087409695163578, 0.10869317063325004, 0.16306858698802487, 0.7592142279258494, 0.10409345317405061, 0.27153838063078045, 1.728958717993748, 0.2833774613847082, 0.30165447899277864, 0.172834203494762, 0.9571959253075166, 0.14469836279593107, 0.8101985582496603, 0.7119084802565936, 0.46467166568170576, 0.17110907565680353, 0.3822601824066223, 0.16493647505027936, 1.411419875408477, 0.3028827047737658, 0.5794300663161367, 0.16947674791959474, 0.09645850059287159, 0.37924403045394744, 0.17662628334086872, 0.8150693751073617, 0.23351328815095806, 0.4505046223113179, 4.694068615867535, 0.37379896430676207, 0.7925439312106731, 0.6625594537976318, 0.6247425571830592, 1.070108760185839, 0.2507297291811755, 0.527270793441249, 0.31886691080257645, 0.47877389101832313, 0.7181960918308405, 0.23649021884093024, 0.2169722270487936, 0.13168454390926226, 0.4787487539216294, 1.726739096016047, 0.16027720254081743, 0.22610748879632112, 0.4086945079289648, 0.5393504614475884, 0.1888766902828848, 0.2837612157281338, 0.32120107571245843, 1.8544985741241269, 0.2384342621531847, 0.33205154732367176, 0.17884666760380857, 0.21161548685778409, 0.33308813192993714, 1.329064530288878, 0.28089921702978826, 0.6619750927228487, 0.5189092198480982, 0.4525508541533847, 0.1899628687730513, 0.6738315106263426, 0.3179275670563787, 0.42737265342536984, 1.033966147891817, 0.7374288573797222, 0.21823666078093323, 0.10249130039472959, 0.6068091078260227, 0.345973722065567, 0.22498493832039498, 1.8350869592592922, 0.27476463911122045, 0.15500780080350182, 0.08410323737502388, 0.5733087901632246, 0.6731084770040254, 0.3479584537937735, 0.27215268240619117, 0.191303299531705, 3.816637518069683, 0.24170772923901512, -0.05985350540699723, 0.4510894173684393, 0.21951616279564734, 0.32992887678977706], \"type\": \"scatter\", \"uid\": \"04abd52e-85fa-11e8-a3fa-28cfe9142f7f\"}],\n",
       "            {\"title\": \"Pressure vs. Volume\", \"xaxis\": {\"title\": \"Volume\"}, \"yaxis\": {\"title\": \"Pressure\"}},\n",
       "            {\"showLink\": true, \"linkText\": \"Export to plot.ly\"}\n",
       "        ).then(function () {return Plotly.addFrames('66751c08-75a7-4409-bf43-55a994671d94',{});}).then(function(){Plotly.animate('66751c08-75a7-4409-bf43-55a994671d94');})\n",
       "        });</script>"
      ],
      "text/vnd.plotly.v1+html": [
       "<div id=\"66751c08-75a7-4409-bf43-55a994671d94\" style=\"height: 525px; width: 100%;\" class=\"plotly-graph-div\"></div><script type=\"text/javascript\">require([\"plotly\"], function(Plotly) { window.PLOTLYENV=window.PLOTLYENV || {};window.PLOTLYENV.BASE_URL=\"https://plot.ly\";\n",
       "        Plotly.plot(\n",
       "            '66751c08-75a7-4409-bf43-55a994671d94',\n",
       "            [{\"mode\": \"markers\", \"x\": [3.281990198813729, 1.03436069174955, 2.8583410676210304, 2.1003702273164513, 2.628299265847182, 4.317441456850768, 4.859203102534286, 3.3568288298259064, 5.859252245438088, 2.951994769890936, 4.465362846029629, 6.059843623006123, 6.10926990088345, 4.7108220447962985, 5.899621784550359, 1.1068618747411532, 4.297222887864207, 4.305147596329829, 0.430116066851447, 3.417999085769589, 3.8101830938332544, 4.469439721517777, 1.1882964901640891, 4.155909674794407, 1.0440384091254622, 1.2404676560855892, 5.482434673559383, 3.243243520189511, 4.794582748695598, 5.791084402685071, 0.6542609782519672, 3.185753696196878, 2.01472708397982, 5.898960613266681, 2.834418800683618, 1.8521479144961095, 5.454493713486731, 1.540541464344642, 4.14377387373887, 2.147745996440537, 0.22219298568658635, 4.438902485865097, 1.650006973375026, 1.51206267220274, 1.4523137262085333, 0.7539001334238344, 3.7160353232478416, 2.8733671049133194, 2.6600262724235177, 2.191711138456231, 1.6493014313149716, 5.851024940697443, 4.384493132336812, 3.424171235832039, 1.8507819690872835, 0.6944613757949418, 4.8590003810775135, 5.188101425665739, 2.3113538805764073, 2.307850199166771, 4.770162814948295, 2.9285693844867335, 2.4008868085208133, 0.4894157922905623, 4.025136922990333, 4.737093849530528, 2.379724201812617, 5.861661704257417, 3.9514511724718133, 0.6227076593638278, 4.872871003424392, 2.10812281474034, 3.228168500072165, 4.720957919112588, 5.883033650378941, 1.7105101446758857, 3.080170920595997, 4.448463086821709, 1.0068094440530873, 2.2764042286679076, 4.80262786313929, 5.1360716630815455, 1.7721600961093578, 5.867658324741059, 2.6273620620180567, 0.5618372350334788, 2.687091999747562, 4.9385175972377215, 4.020324956148109, 3.0818507971040834, 2.6107639581856428, 2.5210467225094386, 3.5811284031610335, 5.691547430896435, 0.38660565891551574, 3.6349419978234616, 5.574539187457049, 3.0451953330851063, 4.251484898289231, 3.466914225960084], \"y\": [0.443192612037938, 0.6797569516255262, 0.13623243066865864, 0.5539757964320762, 0.2558188062016671, 0.2937727014277096, 0.22652421758065955, 0.6217098296855973, 0.28105052482007553, 0.43542588511064517, 0.25772861551006065, 0.14037837041801443, 0.2087409695163578, 0.10869317063325004, 0.16306858698802487, 0.7592142279258494, 0.10409345317405061, 0.27153838063078045, 1.728958717993748, 0.2833774613847082, 0.30165447899277864, 0.172834203494762, 0.9571959253075166, 0.14469836279593107, 0.8101985582496603, 0.7119084802565936, 0.46467166568170576, 0.17110907565680353, 0.3822601824066223, 0.16493647505027936, 1.411419875408477, 0.3028827047737658, 0.5794300663161367, 0.16947674791959474, 0.09645850059287159, 0.37924403045394744, 0.17662628334086872, 0.8150693751073617, 0.23351328815095806, 0.4505046223113179, 4.694068615867535, 0.37379896430676207, 0.7925439312106731, 0.6625594537976318, 0.6247425571830592, 1.070108760185839, 0.2507297291811755, 0.527270793441249, 0.31886691080257645, 0.47877389101832313, 0.7181960918308405, 0.23649021884093024, 0.2169722270487936, 0.13168454390926226, 0.4787487539216294, 1.726739096016047, 0.16027720254081743, 0.22610748879632112, 0.4086945079289648, 0.5393504614475884, 0.1888766902828848, 0.2837612157281338, 0.32120107571245843, 1.8544985741241269, 0.2384342621531847, 0.33205154732367176, 0.17884666760380857, 0.21161548685778409, 0.33308813192993714, 1.329064530288878, 0.28089921702978826, 0.6619750927228487, 0.5189092198480982, 0.4525508541533847, 0.1899628687730513, 0.6738315106263426, 0.3179275670563787, 0.42737265342536984, 1.033966147891817, 0.7374288573797222, 0.21823666078093323, 0.10249130039472959, 0.6068091078260227, 0.345973722065567, 0.22498493832039498, 1.8350869592592922, 0.27476463911122045, 0.15500780080350182, 0.08410323737502388, 0.5733087901632246, 0.6731084770040254, 0.3479584537937735, 0.27215268240619117, 0.191303299531705, 3.816637518069683, 0.24170772923901512, -0.05985350540699723, 0.4510894173684393, 0.21951616279564734, 0.32992887678977706], \"type\": \"scatter\", \"uid\": \"04abd52e-85fa-11e8-a3fa-28cfe9142f7f\"}],\n",
       "            {\"title\": \"Pressure vs. Volume\", \"xaxis\": {\"title\": \"Volume\"}, \"yaxis\": {\"title\": \"Pressure\"}},\n",
       "            {\"showLink\": true, \"linkText\": \"Export to plot.ly\"}\n",
       "        ).then(function () {return Plotly.addFrames('66751c08-75a7-4409-bf43-55a994671d94',{});}).then(function(){Plotly.animate('66751c08-75a7-4409-bf43-55a994671d94');})\n",
       "        });</script>"
      ]
     },
     "metadata": {},
     "output_type": "display_data"
    }
   ],
   "source": [
    "# Imports, borrowing code from a 'library' that is used to generate the graph.\n",
    "import plotly.offline as py\n",
    "from plotly.offline import init_notebook_mode, iplot\n",
    "import plotly.graph_objs as go\n",
    "import numpy as np\n",
    "from numpy import random as rand\n",
    "import math\n",
    "init_notebook_mode(connected=True)\n",
    "\n",
    "# Initialize data sets. This makes sure it does not graph old data from previous experiments.\n",
    "gx = []\n",
    "gy = []\n",
    "\n",
    "# Constant multiple in Boyle's Law.\n",
    "kB = 1\n",
    "\n",
    "# Boyle's Law is technically PV = k, where k is constant for that specific system, (It varies between systems.)\n",
    "# and P1V1 = P2V2 is only a result of this relationship. Students do not need to learn this however.\n",
    "# For simplicity k is set to 1.\n",
    "\n",
    "# Randomly generate data based on user defined volume and number of trials.\n",
    "for i in range(0, N):\n",
    "    temp = rand.random_sample() * volume\n",
    "    \n",
    "    # Prevent large outliers.\n",
    "    # The limit is arbitrary, it is just so the graph looks nice and so the relationship is clearly defined.\n",
    "    limit = rand.random_sample() + 1\n",
    "    while(k/temp > volume/limit):\n",
    "        temp = rand.random_sample() * volume\n",
    "    \n",
    "    # Adds standard deviation to points (For more info see Intro to Standard Deviation).\n",
    "    outputx = rand.uniform(temp-(rand.random_sample()/3), temp+(rand.random_sample()/3))\n",
    "    outputy = rand.uniform((k/temp)-(rand.random_sample()/3), (k/temp)+(rand.random_sample()/3))\n",
    "    \n",
    "    # Add the values to the list of data.\n",
    "    gx.append(outputx)\n",
    "    gy.append(outputy)\n",
    "\n",
    "# Organizes data.\n",
    "trace = go.Scatter(x=gx, y=gy, mode='markers')\n",
    "\n",
    "# Labels graph.\n",
    "templayout = go.Layout(title='Pressure vs. Volume', xaxis=dict(title='Volume'), yaxis=dict(title='Pressure'))\n",
    "\n",
    "# Renders graph. \n",
    "tempdata = [trace]\n",
    "fig = go.Figure(data=tempdata, layout=templayout)\n",
    "py.iplot(fig, filename='scatter-plot')"
   ]
  },
  {
   "cell_type": "markdown",
   "metadata": {},
   "source": [
    "# Questions\n",
    "There are three questions below that test Boyle's Law. There is a code segment that you can run after each question to check your answer. Before you do so though, run the code segment below this text. Each of the answers are encrypted, and this code decrypts it in order to test if it is correct. To be extra clear, the long string of characters and numbers such as `845e85fa64a2d6037055beba19fe0bd8` that you will see is not the answer, it is the encrypted answer. Furthermore, round to the nearest significant figure."
   ]
  },
  {
   "cell_type": "code",
   "execution_count": 5,
   "metadata": {},
   "outputs": [],
   "source": [
    "# Imports.\n",
    "from IPython.display import display \n",
    "from ipywidgets import widgets\n",
    "import hashlib\n",
    "\n",
    "# Check the answer given by the student.\n",
    "def check_answer(x):\n",
    "    temp = -10000\n",
    "    try:\n",
    "        temp = hashlib.md5(str.encode(str(text.value))).hexdigest()\n",
    "    except:\n",
    "        print(\"Not a number.\")\n",
    "    if(temp == answer and temp != -10000):\n",
    "        print(\"Correct!\")\n",
    "    else:\n",
    "        print(\"Incorrect. Try again!\")"
   ]
  },
  {
   "cell_type": "markdown",
   "metadata": {},
   "source": [
    "1. Assume the temperature and the number of gas molecules stay constant within the adult’s lung. Initially, the capacity of the lung is 3.4 liters, and the pressure in the adult’s lung is 15 mmHg. When the lung is expanded to the maximum capacity (average maximum capacity of adult's lung is 6 liters), use Boyle’s Law to determine the new pressure in mmHg within the adult’s lung. "
   ]
  },
  {
   "cell_type": "code",
   "execution_count": 6,
   "metadata": {},
   "outputs": [
    {
     "data": {
      "application/vnd.jupyter.widget-view+json": {
       "model_id": "220c8812535745908a3f9d7f76e16dd0",
       "version_major": 2,
       "version_minor": 0
      },
      "text/plain": [
       "Text(value='')"
      ]
     },
     "metadata": {},
     "output_type": "display_data"
    }
   ],
   "source": [
    "# Encrypted answer.\n",
    "answer = '845e85fa64a2d6037055beba19fe0bd8'\n",
    "\n",
    "# Create answer box.\n",
    "text = widgets.Text()\n",
    "display(text)\n",
    "text.on_submit(check_answer)"
   ]
  },
  {
   "cell_type": "markdown",
   "metadata": {},
   "source": [
    "2. Assume the temperature and the number of gas molecules stay constant within the balloon. A small gas container has 90 milliliters of nitrogen which in pumped into a balloon with a pressure of 1.0 atm. The balloon is sealed tightly, and it is released and raised to a higher altitude where the atmospheric pressure is 50 kPa. Find the final volume of the balloon in liters as it raises up to the mountain. "
   ]
  },
  {
   "cell_type": "code",
   "execution_count": 7,
   "metadata": {},
   "outputs": [
    {
     "data": {
      "application/vnd.jupyter.widget-view+json": {
       "model_id": "b29903cc8e3a4b43b299cfed85593bb6",
       "version_major": 2,
       "version_minor": 0
      },
      "text/plain": [
       "Text(value='')"
      ]
     },
     "metadata": {},
     "output_type": "display_data"
    }
   ],
   "source": [
    "# Encrypted answer.\n",
    "answer = 'c6e10b90290ed2ee26046b9976bf9f02'\n",
    "\n",
    "# Create answer box.\n",
    "text = widgets.Text()\n",
    "display(text)\n",
    "text.on_submit(check_answer)"
   ]
  },
  {
   "cell_type": "markdown",
   "metadata": {},
   "source": [
    "3. Assume the temperature and the number of gas molecules stay constant within a flexible plastic pump. With the pump closed, by what factor does pressure need to change in order for the volume of the pump to be half of its original size? "
   ]
  },
  {
   "cell_type": "code",
   "execution_count": 8,
   "metadata": {},
   "outputs": [
    {
     "data": {
      "application/vnd.jupyter.widget-view+json": {
       "model_id": "25f75d42fa244fd2b5f2bb305e7d461d",
       "version_major": 2,
       "version_minor": 0
      },
      "text/plain": [
       "Text(value='')"
      ]
     },
     "metadata": {},
     "output_type": "display_data"
    }
   ],
   "source": [
    "# Encrypted answer.\n",
    "answer = 'c81e728d9d4c2f636f067f89cc14862c'\n",
    "\n",
    "# Create answer box.\n",
    "text = widgets.Text()\n",
    "display(text)\n",
    "text.on_submit(check_answer)"
   ]
  },
  {
   "cell_type": "markdown",
   "metadata": {},
   "source": [
    "# Charles' Law\n",
    "The temperature of the nitrogen gas in airbags is originally extremely high so that the volume of the airbag is expands quickly due to the directly proportional relationship between the temperature and the volume of the gas. When the airbag is later exposed to the cooler outside air, the temperature of the nitrogen gas gradually changes which causes the volume of the airbag to slowly decrease in size, creating a softer cushion for the impact. This relationship, where pressure is constant, was developed in 1787 by Jacques Charles. It can be expressed by the equation below:\n",
    "\n",
    "$$\n",
    "\\huge\n",
    "\\frac{V_1}{T_1} = \\frac{V_2}{T_2}\n",
    "$$\n",
    "\n",
    "# Optional Reading - Pressure does change, but returns to its original value\n",
    "Using the kinetic molecular theory to explain the Charles' Law, imagine that the pressure and the chemical amount of gas are held constant using a piston. When the temperature of the gas molecules increases, the gas molecules will move at a higher speed because temperature and the average kinetic energy of the gas molecules have a direct relationship. As a result, gas molecules will collide with each other and with walls of the container more frequently which exerts a greater force on the wall of container. Because the external pressure on the container is held constant, but the gas pressure inside the container are increased, the piston of the container is pushed up to increase the volume of the container."
   ]
  },
  {
   "cell_type": "markdown",
   "metadata": {},
   "source": [
    "# Experiment\n",
    "Let's say we want to drive a car into a wall but save our crash test dummy with a standard airbag that has an average volume of 70L when inflated. We will run a few simulations to find out what average temperature we need the nitrogen gas to be at to inflate the airbag to the desired volume. "
   ]
  },
  {
   "cell_type": "code",
   "execution_count": 42,
   "metadata": {},
   "outputs": [],
   "source": [
    "# Imports, borrowing code from a 'library' that is used to generate the graph.\n",
    "import plotly.offline as py\n",
    "from plotly.offline import init_notebook_mode, iplot\n",
    "import plotly.graph_objs as go\n",
    "import numpy as np\n",
    "import random"
   ]
  },
  {
   "cell_type": "code",
   "execution_count": 50,
   "metadata": {},
   "outputs": [],
   "source": [
    "# STEP 1.\n",
    "# Set these values ONCE at the beginning of your experiment.\n",
    "\n",
    "# Average volume in litres.\n",
    "ave_volume = 10\n",
    "\n",
    "# Initialize data sets. This makes sure it does not graph old data from previous experiments.\n",
    "volumes = []\n",
    "temps = []\n",
    "trials = []"
   ]
  },
  {
   "cell_type": "code",
   "execution_count": 85,
   "metadata": {},
   "outputs": [],
   "source": [
    "# STEP 2.\n",
    "# Run this cell to generate values to populate your table, then run the graph-generating cell.\n",
    "yielded = random.uniform((ave_volume-(rand.random_sample()*10)), (ave_volume+rand.random_sample()*10))\n",
    "\n",
    "# Rounds value to 2 decimal places before adding it to the list of data.\n",
    "volume = round(yielded, 2)\n",
    "volumes.append(volume)\n",
    "\n",
    "# Constant multiple in Charles' Law.\n",
    "kC = 0.56\n",
    "\n",
    "# Charles' Law is technically V/T = k, where k is constant for that specific system, (It varies between systems.)\n",
    "# and V1/T1 V2/T2 is only a result of this relationship. Students do not need to learn this however.\n",
    "# k is just arbitrarily set.\n",
    "\n",
    "# Adds value to list of data. \n",
    "temps.append(k*volume)\n",
    "\n",
    "# Labels trials according to how many values are in the list of data\n",
    "if len(volumes) > len(trials):\n",
    "    trials.append('Trial ' + str(len(volumes)))"
   ]
  },
  {
   "cell_type": "code",
   "execution_count": 62,
   "metadata": {},
   "outputs": [
    {
     "data": {
      "text/html": [
       "<script>requirejs.config({paths: { 'plotly': ['https://cdn.plot.ly/plotly-latest.min']},});if(!window.Plotly) {{require(['plotly'],function(plotly) {window.Plotly=plotly;});}}</script>"
      ],
      "text/vnd.plotly.v1+html": [
       "<script>requirejs.config({paths: { 'plotly': ['https://cdn.plot.ly/plotly-latest.min']},});if(!window.Plotly) {{require(['plotly'],function(plotly) {window.Plotly=plotly;});}}</script>"
      ]
     },
     "metadata": {},
     "output_type": "display_data"
    },
    {
     "data": {
      "application/vnd.plotly.v1+json": {
       "data": [
        {
         "name": "Volume",
         "type": "bar",
         "uid": "b4283d08-85fa-11e8-a3fa-28cfe9142f7f",
         "x": [
          "Trial 1",
          "Trial 2",
          "Trial 3",
          "Trial 4",
          "Trial 5",
          "Trial 6"
         ],
         "y": [
          4.94,
          11.98,
          10.76,
          2.84,
          9.11,
          7.6
         ]
        },
        {
         "name": "Temperature",
         "type": "bar",
         "uid": "b428403c-85fa-11e8-a3fa-28cfe9142f7f",
         "x": [
          "Trial 1",
          "Trial 2",
          "Trial 3",
          "Trial 4",
          "Trial 5",
          "Trial 6"
         ],
         "y": [
          2.7664000000000004,
          6.708800000000001,
          6.025600000000001,
          1.5904,
          5.1016,
          4.256
         ]
        }
       ],
       "layout": {
        "barmode": "group"
       }
      },
      "text/html": [
       "<div id=\"bb02298e-6da8-49ab-a4cf-ae47ff9b2245\" style=\"height: 525px; width: 100%;\" class=\"plotly-graph-div\"></div><script type=\"text/javascript\">require([\"plotly\"], function(Plotly) { window.PLOTLYENV=window.PLOTLYENV || {};window.PLOTLYENV.BASE_URL=\"https://plot.ly\";\n",
       "        Plotly.plot(\n",
       "            'bb02298e-6da8-49ab-a4cf-ae47ff9b2245',\n",
       "            [{\"name\": \"Volume\", \"x\": [\"Trial 1\", \"Trial 2\", \"Trial 3\", \"Trial 4\", \"Trial 5\", \"Trial 6\"], \"y\": [4.94, 11.98, 10.76, 2.84, 9.11, 7.6], \"type\": \"bar\", \"uid\": \"b4283d08-85fa-11e8-a3fa-28cfe9142f7f\"}, {\"name\": \"Temperature\", \"x\": [\"Trial 1\", \"Trial 2\", \"Trial 3\", \"Trial 4\", \"Trial 5\", \"Trial 6\"], \"y\": [2.7664000000000004, 6.708800000000001, 6.025600000000001, 1.5904, 5.1016, 4.256], \"type\": \"bar\", \"uid\": \"b428403c-85fa-11e8-a3fa-28cfe9142f7f\"}],\n",
       "            {\"barmode\": \"group\"},\n",
       "            {\"showLink\": true, \"linkText\": \"Export to plot.ly\"}\n",
       "        ).then(function () {return Plotly.addFrames('bb02298e-6da8-49ab-a4cf-ae47ff9b2245',{});}).then(function(){Plotly.animate('bb02298e-6da8-49ab-a4cf-ae47ff9b2245');})\n",
       "        });</script>"
      ],
      "text/vnd.plotly.v1+html": [
       "<div id=\"bb02298e-6da8-49ab-a4cf-ae47ff9b2245\" style=\"height: 525px; width: 100%;\" class=\"plotly-graph-div\"></div><script type=\"text/javascript\">require([\"plotly\"], function(Plotly) { window.PLOTLYENV=window.PLOTLYENV || {};window.PLOTLYENV.BASE_URL=\"https://plot.ly\";\n",
       "        Plotly.plot(\n",
       "            'bb02298e-6da8-49ab-a4cf-ae47ff9b2245',\n",
       "            [{\"name\": \"Volume\", \"x\": [\"Trial 1\", \"Trial 2\", \"Trial 3\", \"Trial 4\", \"Trial 5\", \"Trial 6\"], \"y\": [4.94, 11.98, 10.76, 2.84, 9.11, 7.6], \"type\": \"bar\", \"uid\": \"b4283d08-85fa-11e8-a3fa-28cfe9142f7f\"}, {\"name\": \"Temperature\", \"x\": [\"Trial 1\", \"Trial 2\", \"Trial 3\", \"Trial 4\", \"Trial 5\", \"Trial 6\"], \"y\": [2.7664000000000004, 6.708800000000001, 6.025600000000001, 1.5904, 5.1016, 4.256], \"type\": \"bar\", \"uid\": \"b428403c-85fa-11e8-a3fa-28cfe9142f7f\"}],\n",
       "            {\"barmode\": \"group\"},\n",
       "            {\"showLink\": true, \"linkText\": \"Export to plot.ly\"}\n",
       "        ).then(function () {return Plotly.addFrames('bb02298e-6da8-49ab-a4cf-ae47ff9b2245',{});}).then(function(){Plotly.animate('bb02298e-6da8-49ab-a4cf-ae47ff9b2245');})\n",
       "        });</script>"
      ]
     },
     "metadata": {},
     "output_type": "display_data"
    }
   ],
   "source": [
    "# STEP 3.\n",
    "# Graph-generating cell - run after generating each new data pair.\n",
    "init_notebook_mode(connected=True)\n",
    "\n",
    "# Generates volume bars.\n",
    "trace1 = go.Bar(\n",
    "    x=trials,\n",
    "    y=volumes,\n",
    "    name='Volume'\n",
    ")\n",
    "\n",
    "# Generates temperature bars.\n",
    "trace2 = go.Bar(\n",
    "    x=trials,\n",
    "    y=temps,\n",
    "    name='Temperature'\n",
    ")\n",
    "\n",
    "# Gives graph grouped-bars layout.\n",
    "data = [trace1, trace2]\n",
    "layout = go.Layout(\n",
    "    barmode='group'\n",
    ")\n",
    "\n",
    "# Renders graph.\n",
    "fig = go.Figure(data=data, layout=layout)\n",
    "py.iplot(fig, filename='grouped-bar')\n",
    "\n",
    "# Run step 2 then step 3 repeatedly until satisfied with your table of values"
   ]
  },
  {
   "cell_type": "markdown",
   "metadata": {},
   "source": [
    "# Questions\n",
    "There are three questions below that test Charles' Law. There is a code segment that you can run after each question to check your answer. Before you do so though, run the code segment below this text. Each of the answers are encrypted, and this code decrypts it in order to test if it is correct. To be extra clear, the long string of characters and numbers such as `845e85fa64a2d6037055beba19fe0bd8` that you will see is not the answer, it is the encrypted answer. Furthermore, round to the nearest significant figure."
   ]
  },
  {
   "cell_type": "code",
   "execution_count": 13,
   "metadata": {},
   "outputs": [],
   "source": [
    "# Imports.\n",
    "from IPython.display import display \n",
    "from ipywidgets import widgets\n",
    "import hashlib\n",
    "\n",
    "# Check the answer given by the student.\n",
    "def check_answer(x):\n",
    "    temp = -10000\n",
    "    try:\n",
    "        temp = hashlib.md5(str.encode(str(text.value))).hexdigest()\n",
    "    except:\n",
    "        print(\"Not a number.\")\n",
    "    if(temp == answer and temp != -10000):\n",
    "        print(\"Correct!\")\n",
    "    else:\n",
    "        print(\"Incorrect. Try again!\")"
   ]
  },
  {
   "cell_type": "markdown",
   "metadata": {},
   "source": [
    "1. A specific amount of gas molecules is sealed within a container with a movable piston. The initial volume of the gas within the cylinder is 3.0 liters at 10 degrees C. What will be the final volume of the gas container in liters when the temperature is raised up to 30 degrees C?  "
   ]
  },
  {
   "cell_type": "code",
   "execution_count": 14,
   "metadata": {},
   "outputs": [
    {
     "data": {
      "application/vnd.jupyter.widget-view+json": {
       "model_id": "c0e87f4cd8d24cb894b9091c3bb0dbcb",
       "version_major": 2,
       "version_minor": 0
      },
      "text/plain": [
       "Text(value='')"
      ]
     },
     "metadata": {},
     "output_type": "display_data"
    }
   ],
   "source": [
    "# Encrypted answer.\n",
    "answer = 'acff46b161a3b7d6ed01ba79a032acc9'\n",
    "\n",
    "# Create answer box.\n",
    "text = widgets.Text()\n",
    "display(text)\n",
    "text.on_submit(check_answer)"
   ]
  },
  {
   "cell_type": "markdown",
   "metadata": {},
   "source": [
    "2. For a hot balloon that contains helium gas, it initially contains 1000$m^{3}$ at a temperature of 20.00 degrees C. As fire is burning at the bottom of the balloon, what is the minimum temperature in Celsius needed for the hot balloon in order for the volume to increase to 17000 $m^{3}$?\n"
   ]
  },
  {
   "cell_type": "code",
   "execution_count": 15,
   "metadata": {},
   "outputs": [
    {
     "data": {
      "application/vnd.jupyter.widget-view+json": {
       "model_id": "efbea048fb1c403f961ae7caa2cf0a18",
       "version_major": 2,
       "version_minor": 0
      },
      "text/plain": [
       "Text(value='')"
      ]
     },
     "metadata": {},
     "output_type": "display_data"
    }
   ],
   "source": [
    "# Encrypted answer.\n",
    "answer = 'a78e17c964d3593d89cde3fb678f6a14'\n",
    "\n",
    "# Create answer box.\n",
    "text = widgets.Text()\n",
    "display(text)\n",
    "text.on_submit(check_answer)"
   ]
  },
  {
   "cell_type": "markdown",
   "metadata": {},
   "source": [
    "3. When a float pool contains gas at 20 degrees C, and it is heated up an additional 14 degrees C, what is the new volume in liters if it contained 3.2 liters of gas originally?"
   ]
  },
  {
   "cell_type": "code",
   "execution_count": 16,
   "metadata": {},
   "outputs": [
    {
     "data": {
      "application/vnd.jupyter.widget-view+json": {
       "model_id": "c22d005b448e4ad38511b524ff0cf05b",
       "version_major": 2,
       "version_minor": 0
      },
      "text/plain": [
       "Text(value='')"
      ]
     },
     "metadata": {},
     "output_type": "display_data"
    }
   ],
   "source": [
    "# Encrypted answer.\n",
    "answer = '31053ad0506e935470ca21b43cae98cf'\n",
    "\n",
    "# Create answer box.\n",
    "text = widgets.Text()\n",
    "display(text)\n",
    "text.on_submit(check_answer)"
   ]
  },
  {
   "cell_type": "markdown",
   "metadata": {},
   "source": [
    "# Gay-Lussac's Law\n",
    "If you watched a gun fire, you would see a plume of smoke as the gunpowder burns and the bullet whizzes out. The increase in temperature caused an increase in the pressure, which forced the bullet out of the barrel. \n",
    "\n",
    "In technical terms, the average kinetic energy of the molecule is referred to as the temperature, and the density of the particles is referred to as the pressure. The relationship between the two variables at a constant volume is a direct relationship was defined by Joseph Louis Gay-Lussac in 1809. It can be expressed by the equation below:\n",
    "\n",
    "$$\n",
    "\\huge\n",
    "\\frac{P_1}{T_1} = \\frac{P_2}{T_2}\n",
    "$$\n",
    "\n",
    "Using the kinetic molecular theory to explain the Gay-Lussac's Law, the volume and the chemical amount of gas are held constant. When the temperature of the gas molecules are increased, the gas molecules will move at a higher speed because temperature and the average kinetic energy of the gas molecules have a direct relationship. As a result, gas molecules will collide with each other and with the wall of the container more frequently which exerts a greater force on the wall of container which increases the pressure of the gas. "
   ]
  },
  {
   "cell_type": "markdown",
   "metadata": {},
   "source": [
    "# Experiment\n",
    "The chamber pressure in a gun is roughly 344737.86 kPa at least. We can predict the approximate temperature the gunpowder would need to burn at because the two are directly proportional."
   ]
  },
  {
   "cell_type": "code",
   "execution_count": 77,
   "metadata": {},
   "outputs": [],
   "source": [
    "# Imports, borrowing code from a 'library' that is used to generate the table.\n",
    "import pandas as pd\n",
    "import matplotlib as mpl\n",
    "import numpy as np\n",
    "import random"
   ]
  },
  {
   "cell_type": "code",
   "execution_count": 78,
   "metadata": {},
   "outputs": [],
   "source": [
    "# STEP 1. \n",
    "# Set these values ONCE at the beginning of your experiment.\n",
    "\n",
    "# Average pressure in kPa.\n",
    "ave_pressure = 100\n",
    "\n",
    "# Initialize data sets. This makes sure it does not graph old data from previous experiments.\n",
    "trials = []"
   ]
  },
  {
   "cell_type": "code",
   "execution_count": 83,
   "metadata": {},
   "outputs": [],
   "source": [
    "# STEP 2.\n",
    "\n",
    "# Run this cell to generate values to populate your table, then run the table-generating cell.\n",
    "yielded = random.uniform((ave_pressure-(rand.random_sample()*10)), (ave_pressure-(rand.random_sample()*10)))\n",
    "\n",
    "pressure = round(yielded, 2)\n",
    "\n",
    "# Constant multiple in Gay-Lussac's Law.\n",
    "kGL = 2\n",
    "\n",
    "# Gay-Lussac's Law is technically P/T = k, where k is constant for that specific system, (It varies between systems.)\n",
    "# and P1/T1=P1/T1 is only a result of this relationship. Students do not need to learn this however.\n",
    "# For simplicity and to create a difference between values, k is set to 2.\n",
    "\n",
    "trials.append((pressure, k*pressure))"
   ]
  },
  {
   "cell_type": "code",
   "execution_count": 84,
   "metadata": {},
   "outputs": [
    {
     "data": {
      "text/html": [
       "<style  type=\"text/css\" >\n",
       "</style>  \n",
       "<table id=\"T_071c2376_85fb_11e8_a3fa_28cfe9142f7f\" > \n",
       "<thead>    <tr> \n",
       "        <th class=\"blank level0\" ></th> \n",
       "        <th class=\"col_heading level0 col0\" >Pressure</th> \n",
       "        <th class=\"col_heading level0 col1\" >Temperature</th> \n",
       "    </tr></thead> \n",
       "<tbody>    <tr> \n",
       "        <th id=\"T_071c2376_85fb_11e8_a3fa_28cfe9142f7flevel0_row0\" class=\"row_heading level0 row0\" >0</th> \n",
       "        <td id=\"T_071c2376_85fb_11e8_a3fa_28cfe9142f7frow0_col0\" class=\"data row0 col0\" >93.03</td> \n",
       "        <td id=\"T_071c2376_85fb_11e8_a3fa_28cfe9142f7frow0_col1\" class=\"data row0 col1\" >186.06</td> \n",
       "    </tr>    <tr> \n",
       "        <th id=\"T_071c2376_85fb_11e8_a3fa_28cfe9142f7flevel0_row1\" class=\"row_heading level0 row1\" >1</th> \n",
       "        <td id=\"T_071c2376_85fb_11e8_a3fa_28cfe9142f7frow1_col0\" class=\"data row1 col0\" >96.71</td> \n",
       "        <td id=\"T_071c2376_85fb_11e8_a3fa_28cfe9142f7frow1_col1\" class=\"data row1 col1\" >193.42</td> \n",
       "    </tr>    <tr> \n",
       "        <th id=\"T_071c2376_85fb_11e8_a3fa_28cfe9142f7flevel0_row2\" class=\"row_heading level0 row2\" >2</th> \n",
       "        <td id=\"T_071c2376_85fb_11e8_a3fa_28cfe9142f7frow2_col0\" class=\"data row2 col0\" >97.86</td> \n",
       "        <td id=\"T_071c2376_85fb_11e8_a3fa_28cfe9142f7frow2_col1\" class=\"data row2 col1\" >195.72</td> \n",
       "    </tr></tbody> \n",
       "</table> "
      ],
      "text/plain": [
       "<pandas.io.formats.style.Styler at 0x10e47b390>"
      ]
     },
     "execution_count": 84,
     "metadata": {},
     "output_type": "execute_result"
    }
   ],
   "source": [
    "# STEP 3.\n",
    "# Table-generating cell - run after generating each new data pair.\n",
    "labels = ['Pressure', 'Temperature']\n",
    "trials.sort()\n",
    "df = pd.DataFrame.from_records(trials, columns=labels)\n",
    "df.head\n",
    "df.style\n",
    "# Run step 2 then step 3 repeatedly until satisfied with your table of values"
   ]
  },
  {
   "cell_type": "markdown",
   "metadata": {},
   "source": [
    "# Questions\n",
    "There are three questions below that test Gay-Lussac's Law. There is a code segment that you can run after each question to check your answer. Before you do so though, run the code segment below this text. Each of the answers are encrypted, and this code decrypts it in order to test if it is correct. To be extra clear, the long string of characters and numbers such as `845e85fa64a2d6037055beba19fe0bd8` that you will see is not the answer, it is the encrypted answer. Furthermore, round to the nearest significant figure."
   ]
  },
  {
   "cell_type": "code",
   "execution_count": 21,
   "metadata": {},
   "outputs": [],
   "source": [
    "# Imports.\n",
    "from IPython.display import display \n",
    "from ipywidgets import widgets\n",
    "import hashlib\n",
    "\n",
    "# Check the answer given by the student.\n",
    "def check_answer(x):\n",
    "    temp = -10000\n",
    "    try:\n",
    "        temp = hashlib.md5(str.encode(str(text.value))).hexdigest()\n",
    "    except:\n",
    "        print(\"Not a number.\")\n",
    "    if(temp == answer and temp != -10000):\n",
    "        print(\"Correct!\")\n",
    "    else:\n",
    "        print(\"Incorrect. Try again!\")"
   ]
  },
  {
   "cell_type": "markdown",
   "metadata": {},
   "source": [
    "1. The gas particles are in a sealed container at 200 mmHg under the 15.0 degrees C room temperature. When the pressure on the gas particles is increased to 560 mmHg, what is the new temperature of the gas molecules in Celsius?"
   ]
  },
  {
   "cell_type": "code",
   "execution_count": 22,
   "metadata": {},
   "outputs": [
    {
     "data": {
      "application/vnd.jupyter.widget-view+json": {
       "model_id": "726ddeccbd7942e39f62d14caeea5b74",
       "version_major": 2,
       "version_minor": 0
      },
      "text/plain": [
       "Text(value='')"
      ]
     },
     "metadata": {},
     "output_type": "display_data"
    }
   ],
   "source": [
    "# Encrypted answer.\n",
    "answer = 'c399862d3b9d6b76c8436e924a68c45b'\n",
    "\n",
    "# Create answer box.\n",
    "text = widgets.Text()\n",
    "display(text)\n",
    "text.on_submit(check_answer)"
   ]
  },
  {
   "cell_type": "markdown",
   "metadata": {},
   "source": [
    "2. A cylinder container has a constant fixed volume at a temperature of 30.0 degrees C and a pressure of 101 kPa. As the pressure on the container is increased to 200 kPa, how much percentage of the temperature are increased?\n"
   ]
  },
  {
   "cell_type": "code",
   "execution_count": 23,
   "metadata": {},
   "outputs": [
    {
     "data": {
      "application/vnd.jupyter.widget-view+json": {
       "model_id": "447c973ede9f4f619b334d1002e97033",
       "version_major": 2,
       "version_minor": 0
      },
      "text/plain": [
       "Text(value='')"
      ]
     },
     "metadata": {},
     "output_type": "display_data"
    }
   ],
   "source": [
    "# Encrypted answer.\n",
    "answer = '4fac9ba115140ac4f1c22da82aa0bc7f'\n",
    "\n",
    "# Create answer box.\n",
    "text = widgets.Text()\n",
    "display(text)\n",
    "text.on_submit(check_answer)"
   ]
  },
  {
   "cell_type": "markdown",
   "metadata": {},
   "source": [
    "3. If a gun needs 351867.04 kPa to shoot out a bullet, and the gun initially exerts a pressure of 1000.00kPa on the bullet at a temperature of 20.0000 Celsius. How much would the temperature need to be increased in Celsius in order for the bullet to be shot? "
   ]
  },
  {
   "cell_type": "code",
   "execution_count": 24,
   "metadata": {},
   "outputs": [
    {
     "data": {
      "application/vnd.jupyter.widget-view+json": {
       "model_id": "f2e30550124040babeda2e40991a440b",
       "version_major": 2,
       "version_minor": 0
      },
      "text/plain": [
       "Text(value='')"
      ]
     },
     "metadata": {},
     "output_type": "display_data"
    }
   ],
   "source": [
    "# Encrypted answer.\n",
    "answer = 'cea6e0b18604bc926d0fba9701e40359'\n",
    "\n",
    "# Create answer box.\n",
    "text = widgets.Text()\n",
    "display(text)\n",
    "text.on_submit(check_answer)"
   ]
  },
  {
   "cell_type": "markdown",
   "metadata": {},
   "source": [
    "# Combined Gas Law\n",
    "The Combined Gas Law takes Boyle’s, Gay-Lussac’s, and Charles’ Laws into one equation where the amount of gas is constant. The inverse relationship between pressure and volume is maintained as well as the directly proportional relationship between pressure and temperature, and volume and temperature. It can be expressed by the equation below:\n",
    "\n",
    "$$\n",
    "\\huge\n",
    "\\frac{P_1V_1}{T_1} = \\frac{P_2V_2}{T_2}\n",
    "$$"
   ]
  },
  {
   "cell_type": "markdown",
   "metadata": {},
   "source": [
    "# Questions\n",
    "There are three questions below that test the Combined Gas Law. There is a code segment that you can run after each question to check your answer. Before you do so though, run the code segment below this text. Each of the answers are encrypted, and this code decrypts it in order to test if it is correct. To be extra clear, the long string of characters and numbers such as `845e85fa64a2d6037055beba19fe0bd8` that you will see is not the answer, it is the encrypted answer. Furthermore, round to the nearest significant figure."
   ]
  },
  {
   "cell_type": "code",
   "execution_count": 25,
   "metadata": {},
   "outputs": [],
   "source": [
    "# Imports.\n",
    "from IPython.display import display \n",
    "from ipywidgets import widgets\n",
    "import hashlib\n",
    "\n",
    "# Check the answer given by the student.\n",
    "def check_answer(x):\n",
    "    temp = -10000\n",
    "    try:\n",
    "        temp = hashlib.md5(str.encode(str(text.value))).hexdigest()\n",
    "    except:\n",
    "        print(\"Not a number.\")\n",
    "    if(temp == answer and temp != -10000):\n",
    "        print(\"Correct!\")\n",
    "    else:\n",
    "        print(\"Incorrect. Try again!\")"
   ]
  },
  {
   "cell_type": "markdown",
   "metadata": {},
   "source": [
    "1. A balloon that contains 10L of helium gas at an atmospheric pressure of 101 kPa and at a temperature of 25 degrees C is released to rise into the upper atmosphere where the temperature is -10 degrees C and the atmospheric air pressure is 15 kPa. During the experiment, the measured volume of the balloon after it rises to a higher altitude is 60 L. Assume gas cannot escape and calculate the experimental error as a percentage."
   ]
  },
  {
   "cell_type": "code",
   "execution_count": 26,
   "metadata": {},
   "outputs": [
    {
     "data": {
      "application/vnd.jupyter.widget-view+json": {
       "model_id": "aa7c9d59458e4d0a99032afa9515553a",
       "version_major": 2,
       "version_minor": 0
      },
      "text/plain": [
       "Text(value='')"
      ]
     },
     "metadata": {},
     "output_type": "display_data"
    }
   ],
   "source": [
    "# Encrypted answer.\n",
    "answer = 'e93bb0ef149f78aeae0eab58c5a28758'\n",
    "\n",
    "# Create answer box.\n",
    "text = widgets.Text()\n",
    "display(text)\n",
    "text.on_submit(check_answer)"
   ]
  },
  {
   "cell_type": "markdown",
   "metadata": {},
   "source": [
    "2. A balloon that contains hydrogen gas has 5.0 liters when it is measured on a mountain where the air atmospheric pressure is only 30 kPa, and the temperature is only -30 degrees C. What is the new volume of the balloon if the balloon occupies at SATP? (SATP conditions: 25 degrees C and 100 kPa)"
   ]
  },
  {
   "cell_type": "code",
   "execution_count": 27,
   "metadata": {},
   "outputs": [
    {
     "data": {
      "application/vnd.jupyter.widget-view+json": {
       "model_id": "7d11590a58af4bc0979c058e75cbb27f",
       "version_major": 2,
       "version_minor": 0
      },
      "text/plain": [
       "Text(value='')"
      ]
     },
     "metadata": {},
     "output_type": "display_data"
    }
   ],
   "source": [
    "# Encrypted answer.\n",
    "answer = 'f932bed2d12442d21507b51d22b88dd7'\n",
    "\n",
    "# Create answer box.\n",
    "text = widgets.Text()\n",
    "display(text)\n",
    "text.on_submit(check_answer)"
   ]
  },
  {
   "cell_type": "markdown",
   "metadata": {},
   "source": [
    "3. A gas is measured to have a volume of 20.0 liters at a temperature of 20.0 degrees C and at an atmospheric pressure of 1.00 atm. As the gas is raised up to a higher air pressure, what is the new air pressure in atm if the final volume measured is 10.0 liters and the temperature is 5.00 degrees C."
   ]
  },
  {
   "cell_type": "code",
   "execution_count": 28,
   "metadata": {},
   "outputs": [
    {
     "data": {
      "application/vnd.jupyter.widget-view+json": {
       "model_id": "370ffa02dd5e4b03a85e9d0d1a130241",
       "version_major": 2,
       "version_minor": 0
      },
      "text/plain": [
       "Text(value='')"
      ]
     },
     "metadata": {},
     "output_type": "display_data"
    }
   ],
   "source": [
    "# Encrypted answer.\n",
    "answer = 'c3cce38563b9d2b2ac15c5b15ffc8c05'\n",
    "\n",
    "# Create answer box.\n",
    "text = widgets.Text()\n",
    "display(text)\n",
    "text.on_submit(check_answer)"
   ]
  },
  {
   "cell_type": "markdown",
   "metadata": {},
   "source": [
    "# Summary\n",
    "When performing these equations, it is important to ask yourself the questions below:\n",
    "1. Which of the quantities do you know?\n",
    "2. What quantity is constant? (Pressure, volume, or temperature?)\n",
    "3. Are the values in correct units?\n",
    "4. Is the question asking for the values in certain units or for the magnitude by which a value needs to be increased or decreased?\n",
    "5. After doing the algebra, does the unit analysis make sense? (Do the right units cancel out and leave you with the right units for your answer?)\n",
    "\n",
    "# Conclusion\n",
    "In this section, we introduced the different relationships between pressure, volume, and temperature, and the three different laws associated with them. These are Boyle's Law for pressure and volume where temperature is constant, Charles' Law for volume and temperature where pressure is constant, and Gay-Lussac's Law for pressure and temperature where volume is constant. Finally, we brought all three laws together into the combined gas law. "
   ]
  },
  {
   "cell_type": "code",
   "execution_count": null,
   "metadata": {},
   "outputs": [],
   "source": []
  }
 ],
 "metadata": {
  "kernelspec": {
   "display_name": "Python 3",
   "language": "python",
   "name": "python3"
  },
  "language_info": {
   "codemirror_mode": {
    "name": "ipython",
    "version": 3
   },
   "file_extension": ".py",
   "mimetype": "text/x-python",
   "name": "python",
   "nbconvert_exporter": "python",
   "pygments_lexer": "ipython3",
   "version": "3.7.0"
  }
 },
 "nbformat": 4,
 "nbformat_minor": 2
}
