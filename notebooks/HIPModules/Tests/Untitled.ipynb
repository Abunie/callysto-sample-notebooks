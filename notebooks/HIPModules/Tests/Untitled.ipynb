{
 "cells": [
  {
   "cell_type": "markdown",
   "metadata": {},
   "source": [
    "1. Assume the temperature and the number of gas molecules stay constant within the adult’s lung. Initially, the capacity of the lung is 3.4 liters, and the pressure in the adult’s lung is 15 mmHg. When the lung is expanded to the maximum capacity (average maximum capacity of adult's lung is 6\n",
    "liters), use Boyle’s Law to determine the new pressure in mmHg within the adult’s lung. "
   ]
  },
  {
   "cell_type": "markdown",
   "metadata": {},
   "source": [
    "-expanation: identify the changing and constant variable\n",
    "(the amount of gas molecules is constant during the experiment, there is no mention about changing in temperature,\n",
    " so number of gas molecules and temperature of the gas are constant)\n",
    "(as a result, this question dicusses about Boyle's law \n",
    " because the only pressure and volume of gas molecules are changing during the experiemnt.\n",
    " in this question, the volume is originally smaller, and as the volume is expanded to a larger size, the                 pressure within the adult's lung will decrease due to their inverse relationship.\n",
    "             \n",
    "-steps: 1.identify the constant variables               temperature and number of gas molecules\n",
    "        2.identify the known and unknown variables      V1= 3.4L       P1= 15mmHg\n",
    "                                                        V2= 6L         P2= ?\n",
    "        3.check the units and the significant digits    units ✓        significant digit: 2\n",
    "        4.use the law to calculate the unknown variable P1V1=P2V2\n",
    "                                                        (3.4L)(15mmHg) = (6L)(P2)\n",
    "                                                         $\n",
    "                                                         P_2=\\frac {(15mmHg)(3.4L)}{(6L)}\n",
    "                                                         $\n",
    "                                                         P2= 8.5mmHg\n",
    "        5.check whether the units are cancelled and check units and significant digits again"
   ]
  },
  {
   "cell_type": "code",
   "execution_count": null,
   "metadata": {},
   "outputs": [],
   "source": []
  },
  {
   "cell_type": "code",
   "execution_count": null,
   "metadata": {},
   "outputs": [],
   "source": []
  }
 ],
 "metadata": {
  "kernelspec": {
   "display_name": "Python 3",
   "language": "python",
   "name": "python3"
  },
  "language_info": {
   "codemirror_mode": {
    "name": "ipython",
    "version": 3
   },
   "file_extension": ".py",
   "mimetype": "text/x-python",
   "name": "python",
   "nbconvert_exporter": "python",
   "pygments_lexer": "ipython3",
   "version": "3.6.5"
  }
 },
 "nbformat": 4,
 "nbformat_minor": 2
}
