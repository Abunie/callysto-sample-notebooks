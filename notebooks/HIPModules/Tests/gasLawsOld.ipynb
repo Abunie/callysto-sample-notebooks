{
 "cells": [
  {
   "cell_type": "markdown",
   "metadata": {},
   "source": [
    "<img src=\"/images/Callysto_Notebook-Banner_Top_06.06.18.jpg\"/>"
   ]
  },
  {
   "cell_type": "markdown",
   "metadata": {},
   "source": [
    "# Pre-requisites / Background\n",
    "\n",
    "[comment]: # (This curriculum objective is from before the curriculum remake. It may still be an objective after though.)\n",
    "**Alberta Curriculum Objective: Illustrate how Boyle's and Charles's laws, individually and combined, are related to the ideal gas law (PV = nRT ).**\n",
    "http://www.learnalberta.ca/ProgramOfStudy.aspx?lang=en&ProgramId=525479#707983\n",
    "\n",
    "**TEACHERS - delete this portion before handing over to students: if you want to change / personalize one of the practice questions and need to change the answer, uncomment the print statement in the check_answer function in any of the \"# ANSWER HANDLING.\" cells, type your desired answer into the text field, and copy the outputted hash into the 'answer' variable.**\n",
    "\n",
    "In this notebook we will be working with Boyle's Law, Charles' Law, and Gay-Lussac's Law to build up to introducing the combined gas law, with an optional statistics extension.\n",
    "\n",
    "We are expecting that the students understand Celsius to Kelvin conversions, converting between pressure units, calculating experimental error, and Kinetic Molecular Theory (ideal gas assumptions). If they have already been introduced to these laws, this notebook will simply provide review and extra practice."
   ]
  },
  {
   "cell_type": "markdown",
   "metadata": {},
   "source": [
    "# Introduction\n",
    "Gases surround and shape the world around us all the time. From the air we breath to pneumatic gas-powered pistons that run our machinery, it is important to understand the properties of any given gas so we can better utilize it for our benefit. In a closed container, the pressure, temperature and volume dictate much of how a given gas behaves and understanding how these three properties relate to each other is fundamental to moving forward with our pursuit of understanding gas. Three laws were developed over time to correlate two of these properties at a time and assumes the third remains constant. These laws can in turn be integrated into the Combined Gas Law, which relates all three properties, assuming the amount of gas is constant."
   ]
  },
  {
   "cell_type": "markdown",
   "metadata": {},
   "source": [
    "# The Gas Laws\n",
    "## Boyle's Law\n",
    "How does the air pressure in your lungs and the volume of your lungs relate to help you breathe? When you breath out, you first greatly decrease the volume of your lungs. This increases the pressure exerted both on and by the air in your lungs, forcing the air out. When you breathe in, you first increase the volume of your lungs, and create an area of low air pressure in your lungs. Air from your environment then rushes into your lungs in an effort to re-establish equilibrium, and then the process repeats.\n",
    "\n",
    "The pressure and volume of a gas, assuming constant temperature, have a inverse relationship, and without this we would be unable to breathe. Through experimentation, in 1662 Robert Boyle was able to derive this relationship. Boyle's Law is as follows:\n",
    "\n",
    "$$\n",
    "\\huge\n",
    "PV = k\n",
    "$$\n",
    "\n",
    "Where P is the pressure in the system, V is the volume, and k is a system-specific constant. You do not need to learn about k in Chemistry 20.\n",
    "\n",
    "If you recall back to kinetic molecular theory, the space the *isolated* gas particles occupy is considered the volume of the gas, and the pressure is the collective force the gas particles exert on the walls of its container. If the external pressure is increased, the volume available for the gas molecules is decreased. As a result, the gas molecules become closer together and will collide with each other and with the wall of the container more frequently. As the number of collisions increases, the average force exerted by the gas molecules is increased.\n",
    "\n",
    "For the purposes of Chemistry 20 is better to understand Boyle's Law as the following equation:\n",
    "\n",
    "$$\n",
    "\\huge\n",
    "P_1V_1 = P_2V_2\n",
    "$$\n",
    "\n",
    "This equation shows how changing pressure or volume impacts the other quantity when there is a change in the system. The P/V with the one subscript are the initial pressure and volume, and the P/V with two as a subscript are the quantities after the change. Use this equation for questions relating to Boyle's Law - the equation with k is not tested in the Chemistry 20 curriculum."
   ]
  },
  {
   "cell_type": "code",
   "execution_count": 105,
   "metadata": {},
   "outputs": [
    {
     "data": {
      "text/html": [
       "\n",
       "        <iframe\n",
       "            width=\"400\"\n",
       "            height=\"300\"\n",
       "            src=\"https://www.youtube.com/embed/27yqJ9vJ5kQ\"\n",
       "            frameborder=\"0\"\n",
       "            allowfullscreen\n",
       "        ></iframe>\n",
       "        "
      ],
      "text/plain": [
       "<IPython.lib.display.YouTubeVideo at 0x10d733fd0>"
      ]
     },
     "metadata": {},
     "output_type": "display_data"
    },
    {
     "name": "stdout",
     "output_type": "stream",
     "text": [
      "Hidden code segment block.\n"
     ]
    },
    {
     "data": {
      "text/html": [
       "<script>\n",
       "code_show=true; \n",
       "function code_toggle() {\n",
       "  if (code_show) {\n",
       "    $('div.input').each(function(id) {\n",
       "      el = $(this).find('.cm-variable:first');\n",
       "      if (id == 0 || el.text() == 'hide_me') {\n",
       "        $(this).hide();\n",
       "      }\n",
       "    });\n",
       "    $('div.output_prompt').css('opacity', 0);\n",
       "  } else {\n",
       "    $('div.input').each(function(id) {\n",
       "      $(this).show();\n",
       "    });\n",
       "    $('div.output_prompt').css('opacity', 1);\n",
       "  }\n",
       "  code_show = !code_show\n",
       "} \n",
       "$( document ).ready(code_toggle);\n",
       "</script>\n",
       "<form action=\"javascript:code_toggle()\"><input style=\"opacity:0\" type=\"submit\" value=\"Click here to toggle on/off the raw code.\"></form>"
      ],
      "text/plain": [
       "<IPython.core.display.HTML object>"
      ]
     },
     "execution_count": 105,
     "metadata": {},
     "output_type": "execute_result"
    }
   ],
   "source": [
    "# Here is a youtube video that is about Boyle's Law.\n",
    "# Run this code segment to bring the video into this Callysto notebook.\n",
    "\n",
    "from IPython.lib.display import YouTubeVideo\n",
    "display(YouTubeVideo('27yqJ9vJ5kQ'))"
   ]
  },
  {
   "cell_type": "markdown",
   "metadata": {},
   "source": [
    "It is important to understand that Boyle's Law is a special case for a gas system where temperature is constant. If in your studies you see a question where pressure or volume are being manipulated and temperature is either explicitly or implicitly stated to be constant, this question is addressing and testing Boyle's Law."
   ]
  },
  {
   "cell_type": "markdown",
   "metadata": {},
   "source": [
    "# Experiment\n",
    "Let's say we want to find the pressure in an adult male test subject's lungs when they are expanded to maximum capacity. The average lung capacity of an adult human male is 6L. We will test random lung capacities for N trials, and see how Boyle's Law shapes the relationship between pressure and volume."
   ]
  },
  {
   "cell_type": "code",
   "execution_count": 7,
   "metadata": {},
   "outputs": [],
   "source": [
    "# Change the variables in this cell to create your own experiment!\n",
    "\n",
    "# Max volume in liters.\n",
    "volume = 6\n",
    "\n",
    "# Number of trials.\n",
    "N = 100"
   ]
  },
  {
   "cell_type": "code",
   "execution_count": 8,
   "metadata": {
    "scrolled": false
   },
   "outputs": [
    {
     "data": {
      "text/html": [
       "<script>requirejs.config({paths: { 'plotly': ['https://cdn.plot.ly/plotly-latest.min']},});if(!window.Plotly) {{require(['plotly'],function(plotly) {window.Plotly=plotly;});}}</script>"
      ],
      "text/vnd.plotly.v1+html": [
       "<script>requirejs.config({paths: { 'plotly': ['https://cdn.plot.ly/plotly-latest.min']},});if(!window.Plotly) {{require(['plotly'],function(plotly) {window.Plotly=plotly;});}}</script>"
      ]
     },
     "metadata": {},
     "output_type": "display_data"
    },
    {
     "data": {
      "application/vnd.plotly.v1+json": {
       "data": [
        {
         "mode": "markers",
         "type": "scatter",
         "uid": "9af35dd2-86da-11e8-aafc-28cfe9142f7f",
         "x": [
          5.489254022118706,
          2.43134331158459,
          1.3961197679301596,
          0.7848380238085992,
          0.6929323885144525,
          0.28292149348137124,
          4.911309132812826,
          2.2337245328047004,
          1.947104925425284,
          5.5780141918815245,
          5.765594882713716,
          4.866500123383919,
          0.5794329101241747,
          0.1545149701278408,
          0.8907353816723769,
          3.3586248467913706,
          2.880089406451398,
          2.4840029588813626,
          5.281292694043566,
          0.8470704377571998,
          0.5991530130647947,
          4.979773227810934,
          3.7522531323881685,
          2.7152225250219466,
          0.13564663239953206,
          1.4340816944614354,
          5.140355894246845,
          1.0088958495131335,
          3.4452097244452493,
          3.3566642213242432,
          3.1279028656354555,
          2.8615698029544827,
          4.734026563559511,
          2.4248743149411647,
          3.043067961363816,
          2.405837480436941,
          4.31907314392718,
          4.017306150946191,
          2.0749274865255276,
          5.993037464149448,
          5.261191351515686,
          2.6137184965697386,
          5.9981112956105775,
          1.4538139545887734,
          0.6535916842173269,
          2.23748060242084,
          1.125246480570811,
          3.277468491439663,
          5.225645889586545,
          4.6658269712916285,
          5.216874061313367,
          5.679214384368232,
          0.8320480104115155,
          0.5763463639354441,
          1.905529922085322,
          3.0876486017766114,
          2.1778922609008897,
          2.61314935989336,
          5.34816773500537,
          1.5993675699609848,
          5.302242717182848,
          2.778672890867501,
          3.6371332960518306,
          1.2500170320328277,
          2.6848740093996355,
          5.193313638312714,
          0.28281781793887006,
          3.9850434875192864,
          2.244083360346575,
          4.502580188367654,
          0.7459753706869734,
          0.8653450027982968,
          2.957670085662206,
          4.717471073609941,
          5.373043355644139,
          4.988407415281494,
          0.5636894961464745,
          5.4733511345416925,
          2.809366479277895,
          0.840913396358394,
          4.571583103565484,
          0.8473400225480896,
          5.196345474964959,
          4.488724915603326,
          5.291980659231436,
          3.1709899001037747,
          1.2956057725674528,
          0.9426920393106344,
          1.1258254196247508,
          5.28921203957862,
          0.4414964267490603,
          1.2195958156632822,
          0.4905229649969544,
          0.8476474188530312,
          1.8855599529304035,
          0.33589694920200786,
          5.820848947139649,
          4.795785464685888,
          2.279210534787537,
          0.6993743628282844
         ],
         "y": [
          0.36225473439677847,
          0.6463619140646891,
          0.6632000229057422,
          1.5828377743721833,
          1.497118622815932,
          3.09301133983456,
          0.05450670736041183,
          0.515219115808981,
          0.41565749566236243,
          -0.056463926692381025,
          -0.07069362875847687,
          0.2536169296150398,
          1.210627848672559,
          3.1628306007620655,
          1.5783589987685178,
          0.21001073559477101,
          0.2126476064413328,
          0.3814614203835426,
          0.1983450058621408,
          1.3387885072686374,
          2.5946113507328072,
          0.3952942200688813,
          0.2925985361815154,
          0.4062587050514234,
          4.158964369604147,
          0.6458285673674781,
          0.1141019332568844,
          1.3730075916162743,
          0.5773050459945075,
          0.2958470076820685,
          0.2253705251117762,
          0.14841655246000446,
          0.04159841994907132,
          0.4745553214092758,
          0.4022569378008939,
          0.44782324261390727,
          0.26083047005756366,
          0.4972236420809399,
          0.37149420562479785,
          -0.01580361553763361,
          0.18575400031407974,
          0.2576286583896086,
          0.3629938921569218,
          0.5401179782815444,
          1.451758030155656,
          0.5921824189277258,
          0.9850246842023325,
          0.39863105471468097,
          0.32930178613598216,
          0.1387113711528029,
          0.20657648189033567,
          -0.03637281189318982,
          1.141816095999681,
          1.5209499189736384,
          0.5843880956132025,
          0.15904417973276896,
          0.5240915352843413,
          0.3713068754862851,
          0.1425592012354348,
          0.45184208389705594,
          0.2941912754637249,
          0.35599320783280597,
          0.23504484128934927,
          1.1082856477400784,
          0.5175827574771029,
          0.053326879080704215,
          3.0773261217941483,
          0.4005226178719543,
          0.3217049034349277,
          0.048850047018623825,
          1.346520593394137,
          0.7271637624999502,
          0.1213702387183011,
          0.27471847251249604,
          0.022564185855128246,
          0.060649742134151384,
          1.0650317066501431,
          0.030676010770921122,
          0.11523264256646124,
          1.049531286531566,
          0.3571783122814802,
          1.480099488227433,
          0.16606411079661348,
          0.24425356600826703,
          0.2524463976021827,
          0.31735911212885964,
          0.5543721039635517,
          1.3687472949439061,
          1.2784433624564235,
          0.22083609619714256,
          1.5921100185246697,
          1.2335889040077264,
          1.3597511407855858,
          1.168016186484102,
          0.8087278001963131,
          2.068524793864456,
          0.1747750313975009,
          0.22133671568921454,
          0.41157850628534876,
          1.4211898955667832
         ]
        }
       ],
       "layout": {
        "title": "Pressure vs. Volume",
        "xaxis": {
         "title": "Volume"
        },
        "yaxis": {
         "title": "Pressure"
        }
       }
      },
      "text/html": [
       "<div id=\"ece91c99-ac4d-40dc-a625-f4eb402a23cd\" style=\"height: 525px; width: 100%;\" class=\"plotly-graph-div\"></div><script type=\"text/javascript\">require([\"plotly\"], function(Plotly) { window.PLOTLYENV=window.PLOTLYENV || {};window.PLOTLYENV.BASE_URL=\"https://plot.ly\";\n",
       "        Plotly.plot(\n",
       "            'ece91c99-ac4d-40dc-a625-f4eb402a23cd',\n",
       "            [{\"mode\": \"markers\", \"x\": [5.489254022118706, 2.43134331158459, 1.3961197679301596, 0.7848380238085992, 0.6929323885144525, 0.28292149348137124, 4.911309132812826, 2.2337245328047004, 1.947104925425284, 5.5780141918815245, 5.765594882713716, 4.866500123383919, 0.5794329101241747, 0.1545149701278408, 0.8907353816723769, 3.3586248467913706, 2.880089406451398, 2.4840029588813626, 5.281292694043566, 0.8470704377571998, 0.5991530130647947, 4.979773227810934, 3.7522531323881685, 2.7152225250219466, 0.13564663239953206, 1.4340816944614354, 5.140355894246845, 1.0088958495131335, 3.4452097244452493, 3.3566642213242432, 3.1279028656354555, 2.8615698029544827, 4.734026563559511, 2.4248743149411647, 3.043067961363816, 2.405837480436941, 4.31907314392718, 4.017306150946191, 2.0749274865255276, 5.993037464149448, 5.261191351515686, 2.6137184965697386, 5.9981112956105775, 1.4538139545887734, 0.6535916842173269, 2.23748060242084, 1.125246480570811, 3.277468491439663, 5.225645889586545, 4.6658269712916285, 5.216874061313367, 5.679214384368232, 0.8320480104115155, 0.5763463639354441, 1.905529922085322, 3.0876486017766114, 2.1778922609008897, 2.61314935989336, 5.34816773500537, 1.5993675699609848, 5.302242717182848, 2.778672890867501, 3.6371332960518306, 1.2500170320328277, 2.6848740093996355, 5.193313638312714, 0.28281781793887006, 3.9850434875192864, 2.244083360346575, 4.502580188367654, 0.7459753706869734, 0.8653450027982968, 2.957670085662206, 4.717471073609941, 5.373043355644139, 4.988407415281494, 0.5636894961464745, 5.4733511345416925, 2.809366479277895, 0.840913396358394, 4.571583103565484, 0.8473400225480896, 5.196345474964959, 4.488724915603326, 5.291980659231436, 3.1709899001037747, 1.2956057725674528, 0.9426920393106344, 1.1258254196247508, 5.28921203957862, 0.4414964267490603, 1.2195958156632822, 0.4905229649969544, 0.8476474188530312, 1.8855599529304035, 0.33589694920200786, 5.820848947139649, 4.795785464685888, 2.279210534787537, 0.6993743628282844], \"y\": [0.36225473439677847, 0.6463619140646891, 0.6632000229057422, 1.5828377743721833, 1.497118622815932, 3.09301133983456, 0.05450670736041183, 0.515219115808981, 0.41565749566236243, -0.056463926692381025, -0.07069362875847687, 0.2536169296150398, 1.210627848672559, 3.1628306007620655, 1.5783589987685178, 0.21001073559477101, 0.2126476064413328, 0.3814614203835426, 0.1983450058621408, 1.3387885072686374, 2.5946113507328072, 0.3952942200688813, 0.2925985361815154, 0.4062587050514234, 4.158964369604147, 0.6458285673674781, 0.1141019332568844, 1.3730075916162743, 0.5773050459945075, 0.2958470076820685, 0.2253705251117762, 0.14841655246000446, 0.04159841994907132, 0.4745553214092758, 0.4022569378008939, 0.44782324261390727, 0.26083047005756366, 0.4972236420809399, 0.37149420562479785, -0.01580361553763361, 0.18575400031407974, 0.2576286583896086, 0.3629938921569218, 0.5401179782815444, 1.451758030155656, 0.5921824189277258, 0.9850246842023325, 0.39863105471468097, 0.32930178613598216, 0.1387113711528029, 0.20657648189033567, -0.03637281189318982, 1.141816095999681, 1.5209499189736384, 0.5843880956132025, 0.15904417973276896, 0.5240915352843413, 0.3713068754862851, 0.1425592012354348, 0.45184208389705594, 0.2941912754637249, 0.35599320783280597, 0.23504484128934927, 1.1082856477400784, 0.5175827574771029, 0.053326879080704215, 3.0773261217941483, 0.4005226178719543, 0.3217049034349277, 0.048850047018623825, 1.346520593394137, 0.7271637624999502, 0.1213702387183011, 0.27471847251249604, 0.022564185855128246, 0.060649742134151384, 1.0650317066501431, 0.030676010770921122, 0.11523264256646124, 1.049531286531566, 0.3571783122814802, 1.480099488227433, 0.16606411079661348, 0.24425356600826703, 0.2524463976021827, 0.31735911212885964, 0.5543721039635517, 1.3687472949439061, 1.2784433624564235, 0.22083609619714256, 1.5921100185246697, 1.2335889040077264, 1.3597511407855858, 1.168016186484102, 0.8087278001963131, 2.068524793864456, 0.1747750313975009, 0.22133671568921454, 0.41157850628534876, 1.4211898955667832], \"type\": \"scatter\", \"uid\": \"9af35dd2-86da-11e8-aafc-28cfe9142f7f\"}],\n",
       "            {\"title\": \"Pressure vs. Volume\", \"xaxis\": {\"title\": \"Volume\"}, \"yaxis\": {\"title\": \"Pressure\"}},\n",
       "            {\"showLink\": true, \"linkText\": \"Export to plot.ly\"}\n",
       "        ).then(function () {return Plotly.addFrames('ece91c99-ac4d-40dc-a625-f4eb402a23cd',{});}).then(function(){Plotly.animate('ece91c99-ac4d-40dc-a625-f4eb402a23cd');})\n",
       "        });</script>"
      ],
      "text/vnd.plotly.v1+html": [
       "<div id=\"ece91c99-ac4d-40dc-a625-f4eb402a23cd\" style=\"height: 525px; width: 100%;\" class=\"plotly-graph-div\"></div><script type=\"text/javascript\">require([\"plotly\"], function(Plotly) { window.PLOTLYENV=window.PLOTLYENV || {};window.PLOTLYENV.BASE_URL=\"https://plot.ly\";\n",
       "        Plotly.plot(\n",
       "            'ece91c99-ac4d-40dc-a625-f4eb402a23cd',\n",
       "            [{\"mode\": \"markers\", \"x\": [5.489254022118706, 2.43134331158459, 1.3961197679301596, 0.7848380238085992, 0.6929323885144525, 0.28292149348137124, 4.911309132812826, 2.2337245328047004, 1.947104925425284, 5.5780141918815245, 5.765594882713716, 4.866500123383919, 0.5794329101241747, 0.1545149701278408, 0.8907353816723769, 3.3586248467913706, 2.880089406451398, 2.4840029588813626, 5.281292694043566, 0.8470704377571998, 0.5991530130647947, 4.979773227810934, 3.7522531323881685, 2.7152225250219466, 0.13564663239953206, 1.4340816944614354, 5.140355894246845, 1.0088958495131335, 3.4452097244452493, 3.3566642213242432, 3.1279028656354555, 2.8615698029544827, 4.734026563559511, 2.4248743149411647, 3.043067961363816, 2.405837480436941, 4.31907314392718, 4.017306150946191, 2.0749274865255276, 5.993037464149448, 5.261191351515686, 2.6137184965697386, 5.9981112956105775, 1.4538139545887734, 0.6535916842173269, 2.23748060242084, 1.125246480570811, 3.277468491439663, 5.225645889586545, 4.6658269712916285, 5.216874061313367, 5.679214384368232, 0.8320480104115155, 0.5763463639354441, 1.905529922085322, 3.0876486017766114, 2.1778922609008897, 2.61314935989336, 5.34816773500537, 1.5993675699609848, 5.302242717182848, 2.778672890867501, 3.6371332960518306, 1.2500170320328277, 2.6848740093996355, 5.193313638312714, 0.28281781793887006, 3.9850434875192864, 2.244083360346575, 4.502580188367654, 0.7459753706869734, 0.8653450027982968, 2.957670085662206, 4.717471073609941, 5.373043355644139, 4.988407415281494, 0.5636894961464745, 5.4733511345416925, 2.809366479277895, 0.840913396358394, 4.571583103565484, 0.8473400225480896, 5.196345474964959, 4.488724915603326, 5.291980659231436, 3.1709899001037747, 1.2956057725674528, 0.9426920393106344, 1.1258254196247508, 5.28921203957862, 0.4414964267490603, 1.2195958156632822, 0.4905229649969544, 0.8476474188530312, 1.8855599529304035, 0.33589694920200786, 5.820848947139649, 4.795785464685888, 2.279210534787537, 0.6993743628282844], \"y\": [0.36225473439677847, 0.6463619140646891, 0.6632000229057422, 1.5828377743721833, 1.497118622815932, 3.09301133983456, 0.05450670736041183, 0.515219115808981, 0.41565749566236243, -0.056463926692381025, -0.07069362875847687, 0.2536169296150398, 1.210627848672559, 3.1628306007620655, 1.5783589987685178, 0.21001073559477101, 0.2126476064413328, 0.3814614203835426, 0.1983450058621408, 1.3387885072686374, 2.5946113507328072, 0.3952942200688813, 0.2925985361815154, 0.4062587050514234, 4.158964369604147, 0.6458285673674781, 0.1141019332568844, 1.3730075916162743, 0.5773050459945075, 0.2958470076820685, 0.2253705251117762, 0.14841655246000446, 0.04159841994907132, 0.4745553214092758, 0.4022569378008939, 0.44782324261390727, 0.26083047005756366, 0.4972236420809399, 0.37149420562479785, -0.01580361553763361, 0.18575400031407974, 0.2576286583896086, 0.3629938921569218, 0.5401179782815444, 1.451758030155656, 0.5921824189277258, 0.9850246842023325, 0.39863105471468097, 0.32930178613598216, 0.1387113711528029, 0.20657648189033567, -0.03637281189318982, 1.141816095999681, 1.5209499189736384, 0.5843880956132025, 0.15904417973276896, 0.5240915352843413, 0.3713068754862851, 0.1425592012354348, 0.45184208389705594, 0.2941912754637249, 0.35599320783280597, 0.23504484128934927, 1.1082856477400784, 0.5175827574771029, 0.053326879080704215, 3.0773261217941483, 0.4005226178719543, 0.3217049034349277, 0.048850047018623825, 1.346520593394137, 0.7271637624999502, 0.1213702387183011, 0.27471847251249604, 0.022564185855128246, 0.060649742134151384, 1.0650317066501431, 0.030676010770921122, 0.11523264256646124, 1.049531286531566, 0.3571783122814802, 1.480099488227433, 0.16606411079661348, 0.24425356600826703, 0.2524463976021827, 0.31735911212885964, 0.5543721039635517, 1.3687472949439061, 1.2784433624564235, 0.22083609619714256, 1.5921100185246697, 1.2335889040077264, 1.3597511407855858, 1.168016186484102, 0.8087278001963131, 2.068524793864456, 0.1747750313975009, 0.22133671568921454, 0.41157850628534876, 1.4211898955667832], \"type\": \"scatter\", \"uid\": \"9af35dd2-86da-11e8-aafc-28cfe9142f7f\"}],\n",
       "            {\"title\": \"Pressure vs. Volume\", \"xaxis\": {\"title\": \"Volume\"}, \"yaxis\": {\"title\": \"Pressure\"}},\n",
       "            {\"showLink\": true, \"linkText\": \"Export to plot.ly\"}\n",
       "        ).then(function () {return Plotly.addFrames('ece91c99-ac4d-40dc-a625-f4eb402a23cd',{});}).then(function(){Plotly.animate('ece91c99-ac4d-40dc-a625-f4eb402a23cd');})\n",
       "        });</script>"
      ]
     },
     "metadata": {},
     "output_type": "display_data"
    }
   ],
   "source": [
    "# Imports, borrowing code from a 'library' that is used to generate the graph.\n",
    "import plotly.offline as py\n",
    "from plotly.offline import init_notebook_mode, iplot\n",
    "import plotly.graph_objs as go\n",
    "import numpy as np\n",
    "from numpy import random as rand\n",
    "import math\n",
    "init_notebook_mode(connected=True)\n",
    "\n",
    "# Initialize data sets. This makes sure it does not graph old data from previous experiments.\n",
    "gx = []\n",
    "gy = []\n",
    "\n",
    "# Constant multiple in Boyle's Law.\n",
    "kB = 1\n",
    "\n",
    "# Boyle's Law is technically PV = k, where k is constant for that specific system, (It varies between systems.)\n",
    "# and P1V1 = P2V2 is only a result of this relationship. Students do not need to learn this however.\n",
    "# For simplicity k is set to 1.\n",
    "\n",
    "# Randomly generate data based on user defined volume and number of trials.\n",
    "for i in range(0, N):\n",
    "    temp = rand.random_sample() * volume\n",
    "    \n",
    "    # Prevent large outliers.\n",
    "    # The limit is arbitrary, it is just so the graph looks nice and so the relationship is clearly defined.\n",
    "    limit = rand.random_sample() + 1\n",
    "    while(kB/temp > volume/limit):\n",
    "        temp = rand.random_sample() * volume\n",
    "    \n",
    "    # Adds standard deviation to points (For more info see Intro to Standard Deviation).\n",
    "    outputx = rand.uniform(temp-(rand.random_sample()/3), temp+(rand.random_sample()/3))\n",
    "    outputy = rand.uniform((kB/temp)-(rand.random_sample()/3), (kB/temp)+(rand.random_sample()/3))\n",
    "    \n",
    "    # Add the values to the list of data.\n",
    "    gx.append(outputx)\n",
    "    gy.append(outputy)\n",
    "\n",
    "# Organizes data.\n",
    "trace = go.Scatter(x=gx, y=gy, mode='markers')\n",
    "\n",
    "# Labels graph.\n",
    "templayout = go.Layout(title='Pressure vs. Volume', xaxis=dict(title='Volume'), yaxis=dict(title='Pressure'))\n",
    "\n",
    "# Renders graph. \n",
    "tempdata = [trace]\n",
    "fig = go.Figure(data=tempdata, layout=templayout)\n",
    "py.iplot(fig, filename='scatter-plot')"
   ]
  },
  {
   "cell_type": "markdown",
   "metadata": {},
   "source": [
    "# Questions\n",
    "There are three questions below that test Boyle's Law. There is a code segment that you can run after each question to check your answer. Before you do so though, run the code segment below this text. Each of the answers are encrypted, and this code decrypts it in order to test if it is correct. To be extra clear, the long string of characters and numbers such as `845e85fa64a2d6037055beba19fe0bd8` that you will see is not the answer, it is the encrypted answer. Furthermore, round to the nearest significant figure."
   ]
  },
  {
   "cell_type": "code",
   "execution_count": 21,
   "metadata": {},
   "outputs": [],
   "source": [
    "# ANSWER HANDLING.\n",
    "\n",
    "# Imports.\n",
    "from IPython.display import display \n",
    "from ipywidgets import widgets\n",
    "import hashlib\n",
    "\n",
    "# Check the answer given by the student.\n",
    "def check_answer(x):\n",
    "    temp = None\n",
    "    try:\n",
    "        temp = hashlib.md5(str.encode(str(text.value))).hexdigest()\n",
    "        #print(\"This is the hash: \", temp)\n",
    "    except:\n",
    "        print(\"Not a number.\")\n",
    "    if(temp == answer):\n",
    "        print(\"Correct!\")\n",
    "    else:\n",
    "        print(\"Incorrect. Try again!\")"
   ]
  },
  {
   "cell_type": "markdown",
   "metadata": {},
   "source": [
    "1. Assume the temperature and the number of gas molecules stay constant within the adult’s lung. Initially, the capacity of the lung is 3.4 liters, and the pressure in the adult’s lung is 15 mmHg. When the lung is expanded to the maximum capacity (average maximum capacity of adult's lung is 6.0 liters), use Boyle’s Law to determine the new pressure in mmHg within the adult’s lung. "
   ]
  },
  {
   "cell_type": "code",
   "execution_count": 22,
   "metadata": {},
   "outputs": [
    {
     "data": {
      "application/vnd.jupyter.widget-view+json": {
       "model_id": "e8cb94ec07114b51ac3b4f67d3d64750",
       "version_major": 2,
       "version_minor": 0
      },
      "text/plain": [
       "Text(value='')"
      ]
     },
     "metadata": {},
     "output_type": "display_data"
    },
    {
     "name": "stdout",
     "output_type": "stream",
     "text": [
      "Incorrect. Try again!\n",
      "Correct!\n"
     ]
    }
   ],
   "source": [
    "# Encrypted answer.\n",
    "answer = '845e85fa64a2d6037055beba19fe0bd8'\n",
    "\n",
    "# Create answer box.\n",
    "text = widgets.Text()\n",
    "display(text)\n",
    "text.on_submit(check_answer)"
   ]
  },
  {
   "cell_type": "markdown",
   "metadata": {},
   "source": [
    "2. Assume the temperature and the number of gas molecules stay constant within the balloon. A small gas container has 90 milliliters of nitrogen which in pumped into a balloon with a pressure of 1.0 atm. The balloon is sealed tightly, and it is released and raised to a higher altitude where the atmospheric pressure is 50 kPa. Find the final volume of the balloon in liters as it raises up to the mountain. "
   ]
  },
  {
   "cell_type": "code",
   "execution_count": 7,
   "metadata": {},
   "outputs": [
    {
     "data": {
      "application/vnd.jupyter.widget-view+json": {
       "model_id": "b29903cc8e3a4b43b299cfed85593bb6",
       "version_major": 2,
       "version_minor": 0
      },
      "text/plain": [
       "Text(value='')"
      ]
     },
     "metadata": {},
     "output_type": "display_data"
    }
   ],
   "source": [
    "# Encrypted answer.\n",
    "answer = 'c6e10b90290ed2ee26046b9976bf9f02'\n",
    "\n",
    "# Create answer box.\n",
    "text = widgets.Text()\n",
    "display(text)\n",
    "text.on_submit(check_answer)"
   ]
  },
  {
   "cell_type": "markdown",
   "metadata": {},
   "source": [
    "3. Assume the temperature and the number of gas molecules stay constant within a flexible plastic pump. With the pump closed, by what factor does pressure need to change in order for the volume of the pump to be half of its original size? "
   ]
  },
  {
   "cell_type": "code",
   "execution_count": 8,
   "metadata": {},
   "outputs": [
    {
     "data": {
      "application/vnd.jupyter.widget-view+json": {
       "model_id": "25f75d42fa244fd2b5f2bb305e7d461d",
       "version_major": 2,
       "version_minor": 0
      },
      "text/plain": [
       "Text(value='')"
      ]
     },
     "metadata": {},
     "output_type": "display_data"
    }
   ],
   "source": [
    "# Encrypted answer.\n",
    "answer = 'c81e728d9d4c2f636f067f89cc14862c'\n",
    "\n",
    "# Create answer box.\n",
    "text = widgets.Text()\n",
    "display(text)\n",
    "text.on_submit(check_answer)"
   ]
  },
  {
   "cell_type": "markdown",
   "metadata": {},
   "source": [
    "# Charles' Law\n",
    "The temperature of the nitrogen gas in airbags is originally extremely high so that the volume of the airbag is expands quickly due to the directly proportional relationship between the temperature and the volume of the gas. When the airbag is later exposed to the cooler outside air, the temperature of the nitrogen gas gradually changes which causes the volume of the airbag to slowly decrease in size, creating a softer cushion for the impact. This relationship, where pressure is constant, was developed in 1787 by Jacques Charles. It can be expressed by the equation below:\n",
    "\n",
    "$$\n",
    "\\huge\n",
    "\\frac{V_1}{T_1} = \\frac{V_2}{T_2}\n",
    "$$\n",
    "\n",
    "# Optional Reading - Pressure does change, but returns to its original value\n",
    "Using the kinetic molecular theory to explain the Charles' Law, imagine that the pressure and the chemical amount of gas are held constant using a piston. When the temperature of the gas molecules increases, the gas molecules will move at a higher speed because temperature and the average kinetic energy of the gas molecules have a direct relationship. As a result, gas molecules will collide with each other and with walls of the container more frequently which exerts a greater force on the wall of container. Because the external pressure on the container is held constant, but the gas pressure inside the container are increased, the piston of the container is pushed up to increase the volume of the container."
   ]
  },
  {
   "cell_type": "markdown",
   "metadata": {},
   "source": [
    "# Experiment\n",
    "Let's say we want to drive a car into a wall but save our crash test dummy with a standard airbag that has an average volume of 70L when inflated. We will run a few simulations to find out what average temperature we need the nitrogen gas to be at to inflate the airbag to the desired volume. "
   ]
  },
  {
   "cell_type": "code",
   "execution_count": 9,
   "metadata": {},
   "outputs": [],
   "source": [
    "# Imports, borrowing code from a 'library' that is used to generate the graph.\n",
    "import plotly.offline as py\n",
    "from plotly.offline import init_notebook_mode, iplot\n",
    "import plotly.graph_objs as go\n",
    "import numpy as np\n",
    "import random\n",
    "from numpy import random as rand"
   ]
  },
  {
   "cell_type": "code",
   "execution_count": 10,
   "metadata": {},
   "outputs": [],
   "source": [
    "# STEP 1.\n",
    "# Set these values ONCE at the beginning of your experiment.\n",
    "\n",
    "# Average volume in litres.\n",
    "ave_volume = 10\n",
    "\n",
    "# Initialize data sets. This makes sure it does not graph old data from previous experiments.\n",
    "volumes = []\n",
    "temps = []\n",
    "trials = []"
   ]
  },
  {
   "cell_type": "code",
   "execution_count": 11,
   "metadata": {},
   "outputs": [],
   "source": [
    "for i in range(10):\n",
    "    # STEP 2.\n",
    "    # Run this cell to generate values to populate your table, then run the graph-generating cell.\n",
    "    yielded = random.uniform((ave_volume-(rand.random_sample()*10)), (ave_volume+rand.random_sample()*10))\n",
    "\n",
    "    # Rounds value to 2 decimal places before adding it to the list of data.\n",
    "    volume = round(yielded, 2)\n",
    "    volumes.append(volume)\n",
    "\n",
    "    # Constant multiple in Charles' Law.\n",
    "    kC = 0.56\n",
    "\n",
    "    # Charles' Law is technically V/T = k, where k is constant for that specific system, (It varies between systems.)\n",
    "    # and V1/T1 V2/T2 is only a result of this relationship. Students do not need to learn this however.\n",
    "    # k is just arbitrarily set.\n",
    "\n",
    "    # Adds value to list of data. \n",
    "    temps.append(kC*volume)\n",
    "\n",
    "    # Labels trials according to how many values are in the list of data\n",
    "    if len(volumes) > len(trials):\n",
    "        trials.append('Trial ' + str(len(volumes)))"
   ]
  },
  {
   "cell_type": "code",
   "execution_count": 12,
   "metadata": {},
   "outputs": [
    {
     "data": {
      "text/html": [
       "<script>requirejs.config({paths: { 'plotly': ['https://cdn.plot.ly/plotly-latest.min']},});if(!window.Plotly) {{require(['plotly'],function(plotly) {window.Plotly=plotly;});}}</script>"
      ],
      "text/vnd.plotly.v1+html": [
       "<script>requirejs.config({paths: { 'plotly': ['https://cdn.plot.ly/plotly-latest.min']},});if(!window.Plotly) {{require(['plotly'],function(plotly) {window.Plotly=plotly;});}}</script>"
      ]
     },
     "metadata": {},
     "output_type": "display_data"
    },
    {
     "data": {
      "application/vnd.plotly.v1+json": {
       "data": [
        {
         "name": "Volume",
         "type": "bar",
         "uid": "9e740150-86da-11e8-aafc-28cfe9142f7f",
         "x": [
          "Trial 1",
          "Trial 2",
          "Trial 3",
          "Trial 4",
          "Trial 5",
          "Trial 6",
          "Trial 7",
          "Trial 8",
          "Trial 9",
          "Trial 10"
         ],
         "y": [
          8.59,
          4.79,
          10.41,
          12.13,
          10.68,
          7.95,
          3.7,
          5.56,
          14.95,
          4.84
         ]
        },
        {
         "name": "Temperature",
         "type": "bar",
         "uid": "9e7404a2-86da-11e8-aafc-28cfe9142f7f",
         "x": [
          "Trial 1",
          "Trial 2",
          "Trial 3",
          "Trial 4",
          "Trial 5",
          "Trial 6",
          "Trial 7",
          "Trial 8",
          "Trial 9",
          "Trial 10"
         ],
         "y": [
          4.8104000000000005,
          2.6824000000000003,
          5.829600000000001,
          6.7928000000000015,
          5.9808,
          4.452000000000001,
          2.0720000000000005,
          3.1136,
          8.372,
          2.7104000000000004
         ]
        }
       ],
       "layout": {
        "barmode": "group"
       }
      },
      "text/html": [
       "<div id=\"5886fd29-1b5d-4d1c-86ca-2474b653d74a\" style=\"height: 525px; width: 100%;\" class=\"plotly-graph-div\"></div><script type=\"text/javascript\">require([\"plotly\"], function(Plotly) { window.PLOTLYENV=window.PLOTLYENV || {};window.PLOTLYENV.BASE_URL=\"https://plot.ly\";\n",
       "        Plotly.plot(\n",
       "            '5886fd29-1b5d-4d1c-86ca-2474b653d74a',\n",
       "            [{\"name\": \"Volume\", \"x\": [\"Trial 1\", \"Trial 2\", \"Trial 3\", \"Trial 4\", \"Trial 5\", \"Trial 6\", \"Trial 7\", \"Trial 8\", \"Trial 9\", \"Trial 10\"], \"y\": [8.59, 4.79, 10.41, 12.13, 10.68, 7.95, 3.7, 5.56, 14.95, 4.84], \"type\": \"bar\", \"uid\": \"9e740150-86da-11e8-aafc-28cfe9142f7f\"}, {\"name\": \"Temperature\", \"x\": [\"Trial 1\", \"Trial 2\", \"Trial 3\", \"Trial 4\", \"Trial 5\", \"Trial 6\", \"Trial 7\", \"Trial 8\", \"Trial 9\", \"Trial 10\"], \"y\": [4.8104000000000005, 2.6824000000000003, 5.829600000000001, 6.7928000000000015, 5.9808, 4.452000000000001, 2.0720000000000005, 3.1136, 8.372, 2.7104000000000004], \"type\": \"bar\", \"uid\": \"9e7404a2-86da-11e8-aafc-28cfe9142f7f\"}],\n",
       "            {\"barmode\": \"group\"},\n",
       "            {\"showLink\": true, \"linkText\": \"Export to plot.ly\"}\n",
       "        ).then(function () {return Plotly.addFrames('5886fd29-1b5d-4d1c-86ca-2474b653d74a',{});}).then(function(){Plotly.animate('5886fd29-1b5d-4d1c-86ca-2474b653d74a');})\n",
       "        });</script>"
      ],
      "text/vnd.plotly.v1+html": [
       "<div id=\"5886fd29-1b5d-4d1c-86ca-2474b653d74a\" style=\"height: 525px; width: 100%;\" class=\"plotly-graph-div\"></div><script type=\"text/javascript\">require([\"plotly\"], function(Plotly) { window.PLOTLYENV=window.PLOTLYENV || {};window.PLOTLYENV.BASE_URL=\"https://plot.ly\";\n",
       "        Plotly.plot(\n",
       "            '5886fd29-1b5d-4d1c-86ca-2474b653d74a',\n",
       "            [{\"name\": \"Volume\", \"x\": [\"Trial 1\", \"Trial 2\", \"Trial 3\", \"Trial 4\", \"Trial 5\", \"Trial 6\", \"Trial 7\", \"Trial 8\", \"Trial 9\", \"Trial 10\"], \"y\": [8.59, 4.79, 10.41, 12.13, 10.68, 7.95, 3.7, 5.56, 14.95, 4.84], \"type\": \"bar\", \"uid\": \"9e740150-86da-11e8-aafc-28cfe9142f7f\"}, {\"name\": \"Temperature\", \"x\": [\"Trial 1\", \"Trial 2\", \"Trial 3\", \"Trial 4\", \"Trial 5\", \"Trial 6\", \"Trial 7\", \"Trial 8\", \"Trial 9\", \"Trial 10\"], \"y\": [4.8104000000000005, 2.6824000000000003, 5.829600000000001, 6.7928000000000015, 5.9808, 4.452000000000001, 2.0720000000000005, 3.1136, 8.372, 2.7104000000000004], \"type\": \"bar\", \"uid\": \"9e7404a2-86da-11e8-aafc-28cfe9142f7f\"}],\n",
       "            {\"barmode\": \"group\"},\n",
       "            {\"showLink\": true, \"linkText\": \"Export to plot.ly\"}\n",
       "        ).then(function () {return Plotly.addFrames('5886fd29-1b5d-4d1c-86ca-2474b653d74a',{});}).then(function(){Plotly.animate('5886fd29-1b5d-4d1c-86ca-2474b653d74a');})\n",
       "        });</script>"
      ]
     },
     "metadata": {},
     "output_type": "display_data"
    }
   ],
   "source": [
    "# STEP 3.\n",
    "# Graph-generating cell - run after generating each new data pair.\n",
    "init_notebook_mode(connected=True)\n",
    "\n",
    "# Generates volume bars.\n",
    "trace1 = go.Bar(\n",
    "    x=trials,\n",
    "    y=volumes,\n",
    "    name='Volume'\n",
    ")\n",
    "\n",
    "# Generates temperature bars.\n",
    "trace2 = go.Bar(\n",
    "    x=trials,\n",
    "    y=temps,\n",
    "    name='Temperature'\n",
    ")\n",
    "\n",
    "# Gives graph grouped-bars layout.\n",
    "data = [trace1, trace2]\n",
    "layout = go.Layout(\n",
    "    barmode='group'\n",
    ")\n",
    "\n",
    "# Renders graph.\n",
    "fig = go.Figure(data=data, layout=layout)\n",
    "py.iplot(fig, filename='grouped-bar')\n",
    "\n",
    "# Run step 2 then step 3 repeatedly until satisfied with your table of values"
   ]
  },
  {
   "cell_type": "markdown",
   "metadata": {},
   "source": [
    "# Questions\n",
    "There are three questions below that test Boyle's Law. There is a code segment that you can run after each question to check your answer. Before you do so though, run the code segment below this text. Each of the answers are encrypted, and this code decrypts it in order to test if it is correct. To be extra clear, the long string of characters and numbers such as `845e85fa64a2d6037055beba19fe0bd8` that you will see is not the answer, it is the encrypted answer. Furthermore, round to the nearest significant figure."
   ]
  },
  {
   "cell_type": "code",
   "execution_count": 114,
   "metadata": {},
   "outputs": [],
   "source": [
    "# ANSWER HANDLING.\n",
    "\n",
    "# Imports.\n",
    "from IPython.display import display \n",
    "from ipywidgets import widgets\n",
    "import hashlib\n",
    "\n",
    "# Check the answer given by the student.\n",
    "def check_answer(x):\n",
    "    temp = None\n",
    "    try:\n",
    "        temp = hashlib.md5(str.encode(str(text.value))).hexdigest()\n",
    "        #print(\"This is the hash: \", temp)\n",
    "    except:\n",
    "        print(\"Not a number.\")\n",
    "    if(temp == answer):\n",
    "        print(\"Correct!\")\n",
    "    else:\n",
    "        print(\"Incorrect. Try again!\")"
   ]
  },
  {
   "cell_type": "markdown",
   "metadata": {},
   "source": [
    "1. A specific amount of gas molecules is sealed within a container with a movable piston. The initial volume of the gas within the cylinder is 3.0 liters at 10 degrees C. What will be the final volume of the gas container in liters when the temperature is raised up to 30 degrees C?  "
   ]
  },
  {
   "cell_type": "code",
   "execution_count": 115,
   "metadata": {},
   "outputs": [
    {
     "data": {
      "application/vnd.jupyter.widget-view+json": {
       "model_id": "a50faea406c440eca4d45efba2343cc5",
       "version_major": 2,
       "version_minor": 0
      },
      "text/plain": [
       "Text(value='')"
      ]
     },
     "metadata": {},
     "output_type": "display_data"
    }
   ],
   "source": [
    "# Encrypted answer.\n",
    "answer = 'acff46b161a3b7d6ed01ba79a032acc9'\n",
    "\n",
    "# Create answer box.\n",
    "text = widgets.Text()\n",
    "display(text)\n",
    "text.on_submit(check_answer)"
   ]
  },
  {
   "cell_type": "markdown",
   "metadata": {},
   "source": [
    "2. For a hot balloon that contains helium gas, it initially contains 1000$m^{3}$ at a temperature of 20.00 degrees C. As fire is burning at the bottom of the balloon, what is the minimum temperature in Celsius needed for the hot balloon in order for the volume to increase to 17000 $m^{3}$?\n"
   ]
  },
  {
   "cell_type": "code",
   "execution_count": 15,
   "metadata": {},
   "outputs": [
    {
     "data": {
      "application/vnd.jupyter.widget-view+json": {
       "model_id": "efbea048fb1c403f961ae7caa2cf0a18",
       "version_major": 2,
       "version_minor": 0
      },
      "text/plain": [
       "Text(value='')"
      ]
     },
     "metadata": {},
     "output_type": "display_data"
    }
   ],
   "source": [
    "# Encrypted answer.\n",
    "answer = 'a78e17c964d3593d89cde3fb678f6a14'\n",
    "\n",
    "# Create answer box.\n",
    "text = widgets.Text()\n",
    "display(text)\n",
    "text.on_submit(check_answer)"
   ]
  },
  {
   "cell_type": "markdown",
   "metadata": {},
   "source": [
    "3. When a float pool contains gas at 20 degrees C, and it is heated up an additional 14 degrees C, what is the new volume in liters if it contained 3.2 liters of gas originally?"
   ]
  },
  {
   "cell_type": "code",
   "execution_count": 16,
   "metadata": {},
   "outputs": [
    {
     "data": {
      "application/vnd.jupyter.widget-view+json": {
       "model_id": "c22d005b448e4ad38511b524ff0cf05b",
       "version_major": 2,
       "version_minor": 0
      },
      "text/plain": [
       "Text(value='')"
      ]
     },
     "metadata": {},
     "output_type": "display_data"
    }
   ],
   "source": [
    "# Encrypted answer.\n",
    "answer = '31053ad0506e935470ca21b43cae98cf'\n",
    "\n",
    "# Create answer box.\n",
    "text = widgets.Text()\n",
    "display(text)\n",
    "text.on_submit(check_answer)"
   ]
  },
  {
   "cell_type": "markdown",
   "metadata": {},
   "source": [
    "# Gay-Lussac's Law\n",
    "If you watched a gun fire, you would see a plume of smoke as the gunpowder burns and the bullet whizzes out. The increase in temperature caused an increase in the pressure, which forced the bullet out of the barrel. \n",
    "\n",
    "In technical terms, the average kinetic energy of the molecule is referred to as the temperature, and the density of the particles is referred to as the pressure. The relationship between the two variables at a constant volume is a direct relationship was defined by Joseph Louis Gay-Lussac in 1809. It can be expressed by the equation below:\n",
    "\n",
    "$$\n",
    "\\huge\n",
    "\\frac{P_1}{T_1} = \\frac{P_2}{T_2}\n",
    "$$\n",
    "\n",
    "Using the kinetic molecular theory to explain the Gay-Lussac's Law, the volume and the chemical amount of gas are held constant. When the temperature of the gas molecules are increased, the gas molecules will move at a higher speed because temperature and the average kinetic energy of the gas molecules have a direct relationship. As a result, gas molecules will collide with each other and with the wall of the container more frequently which exerts a greater force on the wall of container which increases the pressure of the gas. "
   ]
  },
  {
   "cell_type": "markdown",
   "metadata": {},
   "source": [
    "# Experiment\n",
    "The chamber pressure in a gun is roughly 344737.86 kPa at least. We can predict the approximate temperature the gunpowder would need to burn at because the two are directly proportional."
   ]
  },
  {
   "cell_type": "code",
   "execution_count": 13,
   "metadata": {},
   "outputs": [],
   "source": [
    "# Imports, borrowing code from a 'library' that is used to generate the table.\n",
    "import pandas as pd\n",
    "import matplotlib as mpl\n",
    "import numpy as np\n",
    "import random"
   ]
  },
  {
   "cell_type": "code",
   "execution_count": 14,
   "metadata": {},
   "outputs": [],
   "source": [
    "# STEP 1. \n",
    "# Set these values ONCE at the beginning of your experiment.\n",
    "\n",
    "# Average pressure in kPa.\n",
    "ave_pressure = 344737.86\n",
    "\n",
    "# Initialize data sets. This makes sure it does not graph old data from previous experiments.\n",
    "trials = []"
   ]
  },
  {
   "cell_type": "code",
   "execution_count": 15,
   "metadata": {},
   "outputs": [],
   "source": [
    "# STEP 2.\n",
    "\n",
    "# Run this cell to generate values to populate your table, then run the table-generating cell.\n",
    "yielded = random.uniform((ave_pressure-(rand.random_sample()*10)), (ave_pressure-(rand.random_sample()*10)))\n",
    "\n",
    "pressure = round(yielded, 2)\n",
    "\n",
    "# Constant multiple in Gay-Lussac's Law.\n",
    "kGL = 2\n",
    "\n",
    "# Gay-Lussac's Law is technically P/T = k, where k is constant for that specific system, (It varies between systems.)\n",
    "# and P1/T1=P1/T1 is only a result of this relationship. Students do not need to learn this however.\n",
    "# For simplicity and to create a difference between values, k is set to 2.\n",
    "\n",
    "trials.append((pressure, kGL*pressure))"
   ]
  },
  {
   "cell_type": "code",
   "execution_count": 16,
   "metadata": {},
   "outputs": [
    {
     "data": {
      "text/html": [
       "<style  type=\"text/css\" >\n",
       "</style>  \n",
       "<table id=\"T_a3877f50_86da_11e8_aafc_28cfe9142f7f\" > \n",
       "<thead>    <tr> \n",
       "        <th class=\"blank level0\" ></th> \n",
       "        <th class=\"col_heading level0 col0\" >Pressure</th> \n",
       "        <th class=\"col_heading level0 col1\" >Temperature</th> \n",
       "    </tr></thead> \n",
       "<tbody>    <tr> \n",
       "        <th id=\"T_a3877f50_86da_11e8_aafc_28cfe9142f7flevel0_row0\" class=\"row_heading level0 row0\" >0</th> \n",
       "        <td id=\"T_a3877f50_86da_11e8_aafc_28cfe9142f7frow0_col0\" class=\"data row0 col0\" >344732</td> \n",
       "        <td id=\"T_a3877f50_86da_11e8_aafc_28cfe9142f7frow0_col1\" class=\"data row0 col1\" >689464</td> \n",
       "    </tr></tbody> \n",
       "</table> "
      ],
      "text/plain": [
       "<pandas.io.formats.style.Styler at 0x1126bf748>"
      ]
     },
     "execution_count": 16,
     "metadata": {},
     "output_type": "execute_result"
    }
   ],
   "source": [
    "# STEP 3.\n",
    "# Table-generating cell - run after generating each new data pair.\n",
    "labels = ['Pressure', 'Temperature']\n",
    "trials.sort()\n",
    "df = pd.DataFrame.from_records(trials, columns=labels)\n",
    "df.head\n",
    "df.style\n",
    "# Run step 2 then step 3 repeatedly until satisfied with your table of values"
   ]
  },
  {
   "cell_type": "markdown",
   "metadata": {},
   "source": [
    "# Questions\n",
    "There are three questions below that test Boyle's Law. There is a code segment that you can run after each question to check your answer. Before you do so though, run the code segment below this text. Each of the answers are encrypted, and this code decrypts it in order to test if it is correct. To be extra clear, the long string of characters and numbers such as `845e85fa64a2d6037055beba19fe0bd8` that you will see is not the answer, it is the encrypted answer. Furthermore, round to the nearest significant figure."
   ]
  },
  {
   "cell_type": "code",
   "execution_count": 116,
   "metadata": {},
   "outputs": [],
   "source": [
    "# ANSWER HANDLING.\n",
    "\n",
    "# Imports.\n",
    "from IPython.display import display \n",
    "from ipywidgets import widgets\n",
    "import hashlib\n",
    "\n",
    "# Check the answer given by the student.\n",
    "def check_answer(x):\n",
    "    temp = None\n",
    "    try:\n",
    "        temp = hashlib.md5(str.encode(str(text.value))).hexdigest()\n",
    "        #print(\"This is the hash: \", temp)\n",
    "    except:\n",
    "        print(\"Not a number.\")\n",
    "    if(temp == answer):\n",
    "        print(\"Correct!\")\n",
    "    else:\n",
    "        print(\"Incorrect. Try again!\")"
   ]
  },
  {
   "cell_type": "markdown",
   "metadata": {},
   "source": [
    "1. The gas particles are in a sealed container at 200 mmHg under the 15.0 degrees C room temperature. When the pressure on the gas particles is increased to 560 mmHg, what is the new temperature of the gas molecules in Celsius?"
   ]
  },
  {
   "cell_type": "code",
   "execution_count": 22,
   "metadata": {},
   "outputs": [
    {
     "data": {
      "application/vnd.jupyter.widget-view+json": {
       "model_id": "726ddeccbd7942e39f62d14caeea5b74",
       "version_major": 2,
       "version_minor": 0
      },
      "text/plain": [
       "Text(value='')"
      ]
     },
     "metadata": {},
     "output_type": "display_data"
    }
   ],
   "source": [
    "# Encrypted answer.\n",
    "answer = 'c399862d3b9d6b76c8436e924a68c45b'\n",
    "\n",
    "# Create answer box.\n",
    "text = widgets.Text()\n",
    "display(text)\n",
    "text.on_submit(check_answer)"
   ]
  },
  {
   "cell_type": "markdown",
   "metadata": {},
   "source": [
    "2. A cylinder container has a constant fixed volume at a temperature of 30.0 degrees C and a pressure of 101 kPa. As the pressure on the container is increased to 200 kPa, how much percentage of the temperature are increased?\n"
   ]
  },
  {
   "cell_type": "code",
   "execution_count": 23,
   "metadata": {},
   "outputs": [
    {
     "data": {
      "application/vnd.jupyter.widget-view+json": {
       "model_id": "447c973ede9f4f619b334d1002e97033",
       "version_major": 2,
       "version_minor": 0
      },
      "text/plain": [
       "Text(value='')"
      ]
     },
     "metadata": {},
     "output_type": "display_data"
    }
   ],
   "source": [
    "# Encrypted answer.\n",
    "answer = '4fac9ba115140ac4f1c22da82aa0bc7f'\n",
    "\n",
    "# Create answer box.\n",
    "text = widgets.Text()\n",
    "display(text)\n",
    "text.on_submit(check_answer)"
   ]
  },
  {
   "cell_type": "markdown",
   "metadata": {},
   "source": [
    "3. If a gun needs 351867.04 kPa to shoot out a bullet, and the gun initially exerts a pressure of 1000.00kPa on the bullet at a temperature of 20.0000 Celsius. How much would the temperature need to be increased in Celsius in order for the bullet to be shot? "
   ]
  },
  {
   "cell_type": "code",
   "execution_count": 24,
   "metadata": {},
   "outputs": [
    {
     "data": {
      "application/vnd.jupyter.widget-view+json": {
       "model_id": "f2e30550124040babeda2e40991a440b",
       "version_major": 2,
       "version_minor": 0
      },
      "text/plain": [
       "Text(value='')"
      ]
     },
     "metadata": {},
     "output_type": "display_data"
    }
   ],
   "source": [
    "# Encrypted answer.\n",
    "answer = 'cea6e0b18604bc926d0fba9701e40359'\n",
    "\n",
    "# Create answer box.\n",
    "text = widgets.Text()\n",
    "display(text)\n",
    "text.on_submit(check_answer)"
   ]
  },
  {
   "cell_type": "markdown",
   "metadata": {},
   "source": [
    "# Combined Gas Law\n",
    "The Combined Gas Law takes Boyle’s, Gay-Lussac’s, and Charles’ Laws into one equation where the amount of gas is constant. The inverse relationship between pressure and volume is maintained as well as the directly proportional relationship between pressure and temperature, and volume and temperature. It can be expressed by the equation below:\n",
    "\n",
    "$$\n",
    "\\huge\n",
    "\\frac{P_1V_1}{T_1} = \\frac{P_2V_2}{T_2}\n",
    "$$"
   ]
  },
  {
   "cell_type": "markdown",
   "metadata": {},
   "source": [
    "# Questions\n",
    "There are three questions below that test Boyle's Law. There is a code segment that you can run after each question to check your answer. Before you do so though, run the code segment below this text. Each of the answers are encrypted, and this code decrypts it in order to test if it is correct. To be extra clear, the long string of characters and numbers such as `845e85fa64a2d6037055beba19fe0bd8` that you will see is not the answer, it is the encrypted answer. Furthermore, round to the nearest significant figure."
   ]
  },
  {
   "cell_type": "code",
   "execution_count": 117,
   "metadata": {},
   "outputs": [],
   "source": [
    "# Imports.\n",
    "from IPython.display import display \n",
    "from ipywidgets import widgets\n",
    "import hashlib\n",
    "\n",
    "# Check the answer given by the student.\n",
    "def check_answer(x):\n",
    "    temp = None\n",
    "    try:\n",
    "        temp = hashlib.md5(str.encode(str(text.value))).hexdigest()\n",
    "    except:\n",
    "        print(\"Not a number.\")\n",
    "    if(temp == answer):\n",
    "        print(\"Correct!\")\n",
    "    else:\n",
    "        print(\"Incorrect. Try again!\")"
   ]
  },
  {
   "cell_type": "markdown",
   "metadata": {},
   "source": [
    "1. A balloon that contains 10L of helium gas at an atmospheric pressure of 101 kPa and at a temperature of 25 degrees C is released to rise into the upper atmosphere where the temperature is -10 degrees C and the atmospheric air pressure is 15 kPa. During the experiment, the measured volume of the balloon after it rises to a higher altitude is 60 L. Assume gas cannot escape and calculate the experimental error as a percentage."
   ]
  },
  {
   "cell_type": "code",
   "execution_count": 26,
   "metadata": {},
   "outputs": [
    {
     "data": {
      "application/vnd.jupyter.widget-view+json": {
       "model_id": "aa7c9d59458e4d0a99032afa9515553a",
       "version_major": 2,
       "version_minor": 0
      },
      "text/plain": [
       "Text(value='')"
      ]
     },
     "metadata": {},
     "output_type": "display_data"
    }
   ],
   "source": [
    "# Encrypted answer.\n",
    "answer = 'e93bb0ef149f78aeae0eab58c5a28758'\n",
    "\n",
    "# Create answer box.\n",
    "text = widgets.Text()\n",
    "display(text)\n",
    "text.on_submit(check_answer)"
   ]
  },
  {
   "cell_type": "markdown",
   "metadata": {},
   "source": [
    "2. A balloon that contains hydrogen gas has 5.0 liters when it is measured on a mountain where the air atmospheric pressure is only 30 kPa, and the temperature is only -30 degrees C. What is the new volume of the balloon if the balloon occupies at SATP? (SATP conditions: 25 degrees C and 100 kPa)"
   ]
  },
  {
   "cell_type": "code",
   "execution_count": 27,
   "metadata": {},
   "outputs": [
    {
     "data": {
      "application/vnd.jupyter.widget-view+json": {
       "model_id": "7d11590a58af4bc0979c058e75cbb27f",
       "version_major": 2,
       "version_minor": 0
      },
      "text/plain": [
       "Text(value='')"
      ]
     },
     "metadata": {},
     "output_type": "display_data"
    }
   ],
   "source": [
    "# Encrypted answer.\n",
    "answer = 'f932bed2d12442d21507b51d22b88dd7'\n",
    "\n",
    "# Create answer box.\n",
    "text = widgets.Text()\n",
    "display(text)\n",
    "text.on_submit(check_answer)"
   ]
  },
  {
   "cell_type": "markdown",
   "metadata": {},
   "source": [
    "3. A gas is measured to have a volume of 20.0 liters at a temperature of 20.0 degrees C and at an atmospheric pressure of 1.00 atm. As the gas is raised up to a higher air pressure, what is the new air pressure in atm if the final volume measured is 10.0 liters and the temperature is 5.00 degrees C."
   ]
  },
  {
   "cell_type": "code",
   "execution_count": 28,
   "metadata": {},
   "outputs": [
    {
     "data": {
      "application/vnd.jupyter.widget-view+json": {
       "model_id": "370ffa02dd5e4b03a85e9d0d1a130241",
       "version_major": 2,
       "version_minor": 0
      },
      "text/plain": [
       "Text(value='')"
      ]
     },
     "metadata": {},
     "output_type": "display_data"
    }
   ],
   "source": [
    "# Encrypted answer.\n",
    "answer = 'c3cce38563b9d2b2ac15c5b15ffc8c05'\n",
    "\n",
    "# Create answer box.\n",
    "text = widgets.Text()\n",
    "display(text)\n",
    "text.on_submit(check_answer)"
   ]
  },
  {
   "cell_type": "markdown",
   "metadata": {},
   "source": [
    "# Summary\n",
    "When performing these equations, it is important to ask yourself the questions below:\n",
    "1. Which of the quantities do you know?\n",
    "2. What quantity is constant? (Pressure, volume, or temperature?)\n",
    "3. Are the values in correct units?\n",
    "4. Is the question asking for the values in certain units or for the magnitude by which a value needs to be increased or decreased?\n",
    "5. After doing the algebra, does the unit analysis make sense? (Do the right units cancel out and leave you with the right units for your answer?)\n",
    "\n",
    "# Conclusion\n",
    "In this section, we introduced the different relationships between pressure, volume, and temperature, and the three different laws associated with them. These are Boyle's Law for pressure and volume where temperature is constant, Charles' Law for volume and temperature where pressure is constant, and Gay-Lussac's Law for pressure and temperature where volume is constant. Finally, we brought all three laws together into the combined gas law. "
   ]
  },
  {
   "cell_type": "code",
   "execution_count": null,
   "metadata": {},
   "outputs": [],
   "source": []
  }
 ],
 "metadata": {
  "kernelspec": {
   "display_name": "Python 3",
   "language": "python",
   "name": "python3"
  },
  "language_info": {
   "codemirror_mode": {
    "name": "ipython",
    "version": 3
   },
   "file_extension": ".py",
   "mimetype": "text/x-python",
   "name": "python",
   "nbconvert_exporter": "python",
   "pygments_lexer": "ipython3",
   "version": "3.7.0"
  }
 },
 "nbformat": 4,
 "nbformat_minor": 2
}
