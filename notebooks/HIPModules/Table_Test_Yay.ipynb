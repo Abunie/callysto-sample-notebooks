{
 "cells": [
  {
   "cell_type": "code",
   "execution_count": 1,
   "metadata": {},
   "outputs": [
    {
     "data": {
      "text/html": [
       "\n",
       "<script>\n",
       "  function code_toggle() {\n",
       "    if (code_shown){\n",
       "      $('div.input').hide('500');\n",
       "      $('#toggleButton').val('Show Code')\n",
       "    } else {\n",
       "      $('div.input').show('500');\n",
       "      $('#toggleButton').val('Hide Code')\n",
       "    }\n",
       "    code_shown = !code_shown\n",
       "  }\n",
       "\n",
       "  $( document ).ready(function(){\n",
       "    code_shown=false;\n",
       "    $('div.input').hide()\n",
       "  });\n",
       "</script>\n",
       "<form action=\"javascript:code_toggle()\"><input type=\"submit\" id=\"toggleButton\" value=\"Show Code\"></form>"
      ],
      "text/plain": [
       "<IPython.core.display.HTML object>"
      ]
     },
     "metadata": {},
     "output_type": "display_data"
    }
   ],
   "source": [
    "%%html\n",
    "\n",
    "<script>\n",
    "  function code_toggle() {\n",
    "    if (code_shown){\n",
    "      $('div.input').hide('500');\n",
    "      $('#toggleButton').val('Show Code')\n",
    "    } else {\n",
    "      $('div.input').show('500');\n",
    "      $('#toggleButton').val('Hide Code')\n",
    "    }\n",
    "    code_shown = !code_shown\n",
    "  }\n",
    "\n",
    "  $( document ).ready(function(){\n",
    "    code_shown=false;\n",
    "    $('div.input').hide()\n",
    "  });\n",
    "</script>\n",
    "<form action=\"javascript:code_toggle()\"><input type=\"submit\" id=\"toggleButton\" value=\"Show Code\"></form>"
   ]
  },
  {
   "cell_type": "code",
   "execution_count": 2,
   "metadata": {},
   "outputs": [],
   "source": [
    "import pandas as pd\n",
    "import matplotlib as mpl\n",
    "import matplotlib.pyplot as plt\n",
    "from plotly.offline import init_notebook_mode, iplot\n",
    "import plotly.graph_objs as go\n",
    "from plotly.graph_objs import *\n",
    "import numpy as np"
   ]
  },
  {
   "cell_type": "code",
   "execution_count": 3,
   "metadata": {},
   "outputs": [],
   "source": [
    "np.random.seed(10)\n",
    "df = pd.DataFrame({'A': np.linspace(1, 10, 10)}) #value range, number of rows\n",
    "df = pd.concat([df, pd.DataFrame(np.random.randn(9, 6), #which cells to fill\n",
    "                                 columns=list('BCDEFG'))], #column names\n",
    "               axis=1)\n",
    "df.iloc[1:4, 6] = np.nan #sets some values to nan (e.g. slices out rows 2, 3, 4, and column 6)"
   ]
  },
  {
   "cell_type": "code",
   "execution_count": 4,
   "metadata": {},
   "outputs": [
    {
     "data": {
      "text/html": [
       "<style  type=\"text/css\" >\n",
       "</style>  \n",
       "<table id=\"T_dbcc2e3c_813b_11e8_82c3_0242ac110002\" > \n",
       "<thead>    <tr> \n",
       "        <th class=\"blank level0\" ></th> \n",
       "        <th class=\"col_heading level0 col0\" >A</th> \n",
       "        <th class=\"col_heading level0 col1\" >B</th> \n",
       "        <th class=\"col_heading level0 col2\" >C</th> \n",
       "        <th class=\"col_heading level0 col3\" >D</th> \n",
       "        <th class=\"col_heading level0 col4\" >E</th> \n",
       "        <th class=\"col_heading level0 col5\" >F</th> \n",
       "        <th class=\"col_heading level0 col6\" >G</th> \n",
       "    </tr></thead> \n",
       "<tbody>    <tr> \n",
       "        <th id=\"T_dbcc2e3c_813b_11e8_82c3_0242ac110002level0_row0\" class=\"row_heading level0 row0\" >0</th> \n",
       "        <td id=\"T_dbcc2e3c_813b_11e8_82c3_0242ac110002row0_col0\" class=\"data row0 col0\" >1</td> \n",
       "        <td id=\"T_dbcc2e3c_813b_11e8_82c3_0242ac110002row0_col1\" class=\"data row0 col1\" >1.33159</td> \n",
       "        <td id=\"T_dbcc2e3c_813b_11e8_82c3_0242ac110002row0_col2\" class=\"data row0 col2\" >0.715279</td> \n",
       "        <td id=\"T_dbcc2e3c_813b_11e8_82c3_0242ac110002row0_col3\" class=\"data row0 col3\" >-1.5454</td> \n",
       "        <td id=\"T_dbcc2e3c_813b_11e8_82c3_0242ac110002row0_col4\" class=\"data row0 col4\" >-0.00838385</td> \n",
       "        <td id=\"T_dbcc2e3c_813b_11e8_82c3_0242ac110002row0_col5\" class=\"data row0 col5\" >0.621336</td> \n",
       "        <td id=\"T_dbcc2e3c_813b_11e8_82c3_0242ac110002row0_col6\" class=\"data row0 col6\" >-0.720086</td> \n",
       "    </tr>    <tr> \n",
       "        <th id=\"T_dbcc2e3c_813b_11e8_82c3_0242ac110002level0_row1\" class=\"row_heading level0 row1\" >1</th> \n",
       "        <td id=\"T_dbcc2e3c_813b_11e8_82c3_0242ac110002row1_col0\" class=\"data row1 col0\" >2</td> \n",
       "        <td id=\"T_dbcc2e3c_813b_11e8_82c3_0242ac110002row1_col1\" class=\"data row1 col1\" >0.265512</td> \n",
       "        <td id=\"T_dbcc2e3c_813b_11e8_82c3_0242ac110002row1_col2\" class=\"data row1 col2\" >0.108549</td> \n",
       "        <td id=\"T_dbcc2e3c_813b_11e8_82c3_0242ac110002row1_col3\" class=\"data row1 col3\" >0.00429143</td> \n",
       "        <td id=\"T_dbcc2e3c_813b_11e8_82c3_0242ac110002row1_col4\" class=\"data row1 col4\" >-0.1746</td> \n",
       "        <td id=\"T_dbcc2e3c_813b_11e8_82c3_0242ac110002row1_col5\" class=\"data row1 col5\" >0.433026</td> \n",
       "        <td id=\"T_dbcc2e3c_813b_11e8_82c3_0242ac110002row1_col6\" class=\"data row1 col6\" >nan</td> \n",
       "    </tr>    <tr> \n",
       "        <th id=\"T_dbcc2e3c_813b_11e8_82c3_0242ac110002level0_row2\" class=\"row_heading level0 row2\" >2</th> \n",
       "        <td id=\"T_dbcc2e3c_813b_11e8_82c3_0242ac110002row2_col0\" class=\"data row2 col0\" >3</td> \n",
       "        <td id=\"T_dbcc2e3c_813b_11e8_82c3_0242ac110002row2_col1\" class=\"data row2 col1\" >-0.965066</td> \n",
       "        <td id=\"T_dbcc2e3c_813b_11e8_82c3_0242ac110002row2_col2\" class=\"data row2 col2\" >1.02827</td> \n",
       "        <td id=\"T_dbcc2e3c_813b_11e8_82c3_0242ac110002row2_col3\" class=\"data row2 col3\" >0.22863</td> \n",
       "        <td id=\"T_dbcc2e3c_813b_11e8_82c3_0242ac110002row2_col4\" class=\"data row2 col4\" >0.445138</td> \n",
       "        <td id=\"T_dbcc2e3c_813b_11e8_82c3_0242ac110002row2_col5\" class=\"data row2 col5\" >-1.1366</td> \n",
       "        <td id=\"T_dbcc2e3c_813b_11e8_82c3_0242ac110002row2_col6\" class=\"data row2 col6\" >nan</td> \n",
       "    </tr>    <tr> \n",
       "        <th id=\"T_dbcc2e3c_813b_11e8_82c3_0242ac110002level0_row3\" class=\"row_heading level0 row3\" >3</th> \n",
       "        <td id=\"T_dbcc2e3c_813b_11e8_82c3_0242ac110002row3_col0\" class=\"data row3 col0\" >4</td> \n",
       "        <td id=\"T_dbcc2e3c_813b_11e8_82c3_0242ac110002row3_col1\" class=\"data row3 col1\" >1.48454</td> \n",
       "        <td id=\"T_dbcc2e3c_813b_11e8_82c3_0242ac110002row3_col2\" class=\"data row3 col2\" >-1.0798</td> \n",
       "        <td id=\"T_dbcc2e3c_813b_11e8_82c3_0242ac110002row3_col3\" class=\"data row3 col3\" >-1.97773</td> \n",
       "        <td id=\"T_dbcc2e3c_813b_11e8_82c3_0242ac110002row3_col4\" class=\"data row3 col4\" >-1.74337</td> \n",
       "        <td id=\"T_dbcc2e3c_813b_11e8_82c3_0242ac110002row3_col5\" class=\"data row3 col5\" >0.26607</td> \n",
       "        <td id=\"T_dbcc2e3c_813b_11e8_82c3_0242ac110002row3_col6\" class=\"data row3 col6\" >nan</td> \n",
       "    </tr>    <tr> \n",
       "        <th id=\"T_dbcc2e3c_813b_11e8_82c3_0242ac110002level0_row4\" class=\"row_heading level0 row4\" >4</th> \n",
       "        <td id=\"T_dbcc2e3c_813b_11e8_82c3_0242ac110002row4_col0\" class=\"data row4 col0\" >5</td> \n",
       "        <td id=\"T_dbcc2e3c_813b_11e8_82c3_0242ac110002row4_col1\" class=\"data row4 col1\" >1.12369</td> \n",
       "        <td id=\"T_dbcc2e3c_813b_11e8_82c3_0242ac110002row4_col2\" class=\"data row4 col2\" >1.67262</td> \n",
       "        <td id=\"T_dbcc2e3c_813b_11e8_82c3_0242ac110002row4_col3\" class=\"data row4 col3\" >0.0991492</td> \n",
       "        <td id=\"T_dbcc2e3c_813b_11e8_82c3_0242ac110002row4_col4\" class=\"data row4 col4\" >1.398</td> \n",
       "        <td id=\"T_dbcc2e3c_813b_11e8_82c3_0242ac110002row4_col5\" class=\"data row4 col5\" >-0.271248</td> \n",
       "        <td id=\"T_dbcc2e3c_813b_11e8_82c3_0242ac110002row4_col6\" class=\"data row4 col6\" >0.613204</td> \n",
       "    </tr>    <tr> \n",
       "        <th id=\"T_dbcc2e3c_813b_11e8_82c3_0242ac110002level0_row5\" class=\"row_heading level0 row5\" >5</th> \n",
       "        <td id=\"T_dbcc2e3c_813b_11e8_82c3_0242ac110002row5_col0\" class=\"data row5 col0\" >6</td> \n",
       "        <td id=\"T_dbcc2e3c_813b_11e8_82c3_0242ac110002row5_col1\" class=\"data row5 col1\" >-0.267317</td> \n",
       "        <td id=\"T_dbcc2e3c_813b_11e8_82c3_0242ac110002row5_col2\" class=\"data row5 col2\" >-0.549309</td> \n",
       "        <td id=\"T_dbcc2e3c_813b_11e8_82c3_0242ac110002row5_col3\" class=\"data row5 col3\" >0.132708</td> \n",
       "        <td id=\"T_dbcc2e3c_813b_11e8_82c3_0242ac110002row5_col4\" class=\"data row5 col4\" >-0.476142</td> \n",
       "        <td id=\"T_dbcc2e3c_813b_11e8_82c3_0242ac110002row5_col5\" class=\"data row5 col5\" >1.30847</td> \n",
       "        <td id=\"T_dbcc2e3c_813b_11e8_82c3_0242ac110002row5_col6\" class=\"data row5 col6\" >0.195013</td> \n",
       "    </tr>    <tr> \n",
       "        <th id=\"T_dbcc2e3c_813b_11e8_82c3_0242ac110002level0_row6\" class=\"row_heading level0 row6\" >6</th> \n",
       "        <td id=\"T_dbcc2e3c_813b_11e8_82c3_0242ac110002row6_col0\" class=\"data row6 col0\" >7</td> \n",
       "        <td id=\"T_dbcc2e3c_813b_11e8_82c3_0242ac110002row6_col1\" class=\"data row6 col1\" >0.40021</td> \n",
       "        <td id=\"T_dbcc2e3c_813b_11e8_82c3_0242ac110002row6_col2\" class=\"data row6 col2\" >-0.337632</td> \n",
       "        <td id=\"T_dbcc2e3c_813b_11e8_82c3_0242ac110002row6_col3\" class=\"data row6 col3\" >1.25647</td> \n",
       "        <td id=\"T_dbcc2e3c_813b_11e8_82c3_0242ac110002row6_col4\" class=\"data row6 col4\" >-0.73197</td> \n",
       "        <td id=\"T_dbcc2e3c_813b_11e8_82c3_0242ac110002row6_col5\" class=\"data row6 col5\" >0.660232</td> \n",
       "        <td id=\"T_dbcc2e3c_813b_11e8_82c3_0242ac110002row6_col6\" class=\"data row6 col6\" >-0.350872</td> \n",
       "    </tr>    <tr> \n",
       "        <th id=\"T_dbcc2e3c_813b_11e8_82c3_0242ac110002level0_row7\" class=\"row_heading level0 row7\" >7</th> \n",
       "        <td id=\"T_dbcc2e3c_813b_11e8_82c3_0242ac110002row7_col0\" class=\"data row7 col0\" >8</td> \n",
       "        <td id=\"T_dbcc2e3c_813b_11e8_82c3_0242ac110002row7_col1\" class=\"data row7 col1\" >-0.939433</td> \n",
       "        <td id=\"T_dbcc2e3c_813b_11e8_82c3_0242ac110002row7_col2\" class=\"data row7 col2\" >-0.489337</td> \n",
       "        <td id=\"T_dbcc2e3c_813b_11e8_82c3_0242ac110002row7_col3\" class=\"data row7 col3\" >-0.804591</td> \n",
       "        <td id=\"T_dbcc2e3c_813b_11e8_82c3_0242ac110002row7_col4\" class=\"data row7 col4\" >-0.212698</td> \n",
       "        <td id=\"T_dbcc2e3c_813b_11e8_82c3_0242ac110002row7_col5\" class=\"data row7 col5\" >-0.33914</td> \n",
       "        <td id=\"T_dbcc2e3c_813b_11e8_82c3_0242ac110002row7_col6\" class=\"data row7 col6\" >0.31217</td> \n",
       "    </tr>    <tr> \n",
       "        <th id=\"T_dbcc2e3c_813b_11e8_82c3_0242ac110002level0_row8\" class=\"row_heading level0 row8\" >8</th> \n",
       "        <td id=\"T_dbcc2e3c_813b_11e8_82c3_0242ac110002row8_col0\" class=\"data row8 col0\" >9</td> \n",
       "        <td id=\"T_dbcc2e3c_813b_11e8_82c3_0242ac110002row8_col1\" class=\"data row8 col1\" >0.565153</td> \n",
       "        <td id=\"T_dbcc2e3c_813b_11e8_82c3_0242ac110002row8_col2\" class=\"data row8 col2\" >-0.14742</td> \n",
       "        <td id=\"T_dbcc2e3c_813b_11e8_82c3_0242ac110002row8_col3\" class=\"data row8 col3\" >-0.0259053</td> \n",
       "        <td id=\"T_dbcc2e3c_813b_11e8_82c3_0242ac110002row8_col4\" class=\"data row8 col4\" >0.289094</td> \n",
       "        <td id=\"T_dbcc2e3c_813b_11e8_82c3_0242ac110002row8_col5\" class=\"data row8 col5\" >-0.539879</td> \n",
       "        <td id=\"T_dbcc2e3c_813b_11e8_82c3_0242ac110002row8_col6\" class=\"data row8 col6\" >0.70816</td> \n",
       "    </tr>    <tr> \n",
       "        <th id=\"T_dbcc2e3c_813b_11e8_82c3_0242ac110002level0_row9\" class=\"row_heading level0 row9\" >9</th> \n",
       "        <td id=\"T_dbcc2e3c_813b_11e8_82c3_0242ac110002row9_col0\" class=\"data row9 col0\" >10</td> \n",
       "        <td id=\"T_dbcc2e3c_813b_11e8_82c3_0242ac110002row9_col1\" class=\"data row9 col1\" >nan</td> \n",
       "        <td id=\"T_dbcc2e3c_813b_11e8_82c3_0242ac110002row9_col2\" class=\"data row9 col2\" >nan</td> \n",
       "        <td id=\"T_dbcc2e3c_813b_11e8_82c3_0242ac110002row9_col3\" class=\"data row9 col3\" >nan</td> \n",
       "        <td id=\"T_dbcc2e3c_813b_11e8_82c3_0242ac110002row9_col4\" class=\"data row9 col4\" >nan</td> \n",
       "        <td id=\"T_dbcc2e3c_813b_11e8_82c3_0242ac110002row9_col5\" class=\"data row9 col5\" >nan</td> \n",
       "        <td id=\"T_dbcc2e3c_813b_11e8_82c3_0242ac110002row9_col6\" class=\"data row9 col6\" >nan</td> \n",
       "    </tr></tbody> \n",
       "</table> "
      ],
      "text/plain": [
       "<pandas.io.formats.style.Styler at 0x7f340f052780>"
      ]
     },
     "execution_count": 4,
     "metadata": {},
     "output_type": "execute_result"
    }
   ],
   "source": [
    "df.head()\n",
    "\n",
    "df.style"
   ]
  },
  {
   "cell_type": "code",
   "execution_count": 108,
   "metadata": {},
   "outputs": [],
   "source": [
    "url = 'testChart.csv' #ask leah why commas show?\n",
    "\n",
    "df = pd.read_table(url, sep='\\s+', header=None, names=['First', 'Second', 'Third']) \n",
    "\n",
    "#use \\t instead if only want to separate first column\n",
    "#header=0 to get rid of first line"
   ]
  },
  {
   "cell_type": "code",
   "execution_count": 109,
   "metadata": {},
   "outputs": [
    {
     "data": {
      "text/html": [
       "<style  type=\"text/css\" >\n",
       "</style>  \n",
       "<table id=\"T_c8db76a8_813a_11e8_9ec6_0242ac110002\" > \n",
       "<thead>    <tr> \n",
       "        <th class=\"blank level0\" ></th> \n",
       "        <th class=\"col_heading level0 col0\" >First</th> \n",
       "        <th class=\"col_heading level0 col1\" >Second</th> \n",
       "        <th class=\"col_heading level0 col2\" >Third</th> \n",
       "    </tr></thead> \n",
       "<tbody>    <tr> \n",
       "        <th id=\"T_c8db76a8_813a_11e8_9ec6_0242ac110002level0_row0\" class=\"row_heading level0 row0\" >0</th> \n",
       "        <td id=\"T_c8db76a8_813a_11e8_9ec6_0242ac110002row0_col0\" class=\"data row0 col0\" >1,</td> \n",
       "        <td id=\"T_c8db76a8_813a_11e8_9ec6_0242ac110002row0_col1\" class=\"data row0 col1\" >2,</td> \n",
       "        <td id=\"T_c8db76a8_813a_11e8_9ec6_0242ac110002row0_col2\" class=\"data row0 col2\" >3</td> \n",
       "    </tr>    <tr> \n",
       "        <th id=\"T_c8db76a8_813a_11e8_9ec6_0242ac110002level0_row1\" class=\"row_heading level0 row1\" >1</th> \n",
       "        <td id=\"T_c8db76a8_813a_11e8_9ec6_0242ac110002row1_col0\" class=\"data row1 col0\" >A,</td> \n",
       "        <td id=\"T_c8db76a8_813a_11e8_9ec6_0242ac110002row1_col1\" class=\"data row1 col1\" >B,</td> \n",
       "        <td id=\"T_c8db76a8_813a_11e8_9ec6_0242ac110002row1_col2\" class=\"data row1 col2\" >C</td> \n",
       "    </tr>    <tr> \n",
       "        <th id=\"T_c8db76a8_813a_11e8_9ec6_0242ac110002level0_row2\" class=\"row_heading level0 row2\" >2</th> \n",
       "        <td id=\"T_c8db76a8_813a_11e8_9ec6_0242ac110002row2_col0\" class=\"data row2 col0\" >X,</td> \n",
       "        <td id=\"T_c8db76a8_813a_11e8_9ec6_0242ac110002row2_col1\" class=\"data row2 col1\" >Y,</td> \n",
       "        <td id=\"T_c8db76a8_813a_11e8_9ec6_0242ac110002row2_col2\" class=\"data row2 col2\" >Z</td> \n",
       "    </tr></tbody> \n",
       "</table> "
      ],
      "text/plain": [
       "<pandas.io.formats.style.Styler at 0x7fe29fbe9320>"
      ]
     },
     "execution_count": 109,
     "metadata": {},
     "output_type": "execute_result"
    }
   ],
   "source": [
    "df.head()\n",
    "\n",
    "df.style"
   ]
  },
  {
   "cell_type": "code",
   "execution_count": null,
   "metadata": {},
   "outputs": [],
   "source": []
  }
 ],
 "metadata": {
  "kernelspec": {
   "display_name": "Python 3",
   "language": "python",
   "name": "python3"
  },
  "language_info": {
   "codemirror_mode": {
    "name": "ipython",
    "version": 3
   },
   "file_extension": ".py",
   "mimetype": "text/x-python",
   "name": "python",
   "nbconvert_exporter": "python",
   "pygments_lexer": "ipython3",
   "version": "3.6.5"
  }
 },
 "nbformat": 4,
 "nbformat_minor": 2
}
