{
 "cells": [
  {
   "cell_type": "code",
   "execution_count": 3,
   "metadata": {},
   "outputs": [
    {
     "data": {
      "text/html": [
       "\n",
       "<script>\n",
       "  function code_toggle() {\n",
       "    if (code_shown){\n",
       "      $('div.input').hide('500');\n",
       "      $('#toggleButton').val('Show Code')\n",
       "    } else {\n",
       "      $('div.input').show('500');\n",
       "      $('#toggleButton').val('Hide Code')\n",
       "    }\n",
       "    code_shown = !code_shown\n",
       "  }\n",
       "\n",
       "  $( document ).ready(function(){\n",
       "    code_shown=false;\n",
       "    $('div.input').hide()\n",
       "  });\n",
       "</script>\n",
       "<form action=\"javascript:code_toggle()\"><input type=\"submit\" id=\"toggleButton\" value=\"Show Code\"></form>"
      ],
      "text/plain": [
       "<IPython.core.display.HTML object>"
      ]
     },
     "metadata": {},
     "output_type": "display_data"
    }
   ],
   "source": [
    "%%html\n",
    "\n",
    "<script>\n",
    "  function code_toggle() {\n",
    "    if (code_shown){\n",
    "      $('div.input').hide('500');\n",
    "      $('#toggleButton').val('Show Code')\n",
    "    } else {\n",
    "      $('div.input').show('500');\n",
    "      $('#toggleButton').val('Hide Code')\n",
    "    }\n",
    "    code_shown = !code_shown\n",
    "  }\n",
    "\n",
    "  $( document ).ready(function(){\n",
    "    code_shown=false;\n",
    "    $('div.input').hide()\n",
    "  });\n",
    "</script>\n",
    "<form action=\"javascript:code_toggle()\"><input type=\"submit\" id=\"toggleButton\" value=\"Show Code\"></form>"
   ]
  },
  {
   "cell_type": "code",
   "execution_count": 1,
   "metadata": {},
   "outputs": [],
   "source": [
    "import pandas as pd\n",
    "import matplotlib as mpl\n",
    "import matplotlib.pyplot as plt\n",
    "from plotly.offline import init_notebook_mode, iplot\n",
    "import plotly.graph_objs as go\n",
    "from plotly.graph_objs import *\n",
    "import numpy as np"
   ]
  },
  {
   "cell_type": "code",
   "execution_count": 2,
   "metadata": {},
   "outputs": [],
   "source": [
    "np.random.seed(10)\n",
    "df = pd.DataFrame({'A': np.linspace(1, 10, 10)}) #value range, number of rows\n",
    "df = pd.concat([df, pd.DataFrame(np.random.randn(9, 6), #which cells to fill\n",
    "                                 columns=list('BCDEFG'))], #column names\n",
    "               axis=1)\n",
    "df.iloc[1:4, 6] = np.nan #sets some values to nan (e.g. slices out rows 2, 3, 4, and column 6)"
   ]
  },
  {
   "cell_type": "code",
   "execution_count": 3,
   "metadata": {},
   "outputs": [
    {
     "data": {
      "text/html": [
       "<style  type=\"text/css\" >\n",
       "</style>  \n",
       "<table id=\"T_d35be704_83a9_11e8_95cd_28cfe9142f7f\" > \n",
       "<thead>    <tr> \n",
       "        <th class=\"blank level0\" ></th> \n",
       "        <th class=\"col_heading level0 col0\" >A</th> \n",
       "        <th class=\"col_heading level0 col1\" >B</th> \n",
       "        <th class=\"col_heading level0 col2\" >C</th> \n",
       "        <th class=\"col_heading level0 col3\" >D</th> \n",
       "        <th class=\"col_heading level0 col4\" >E</th> \n",
       "        <th class=\"col_heading level0 col5\" >F</th> \n",
       "        <th class=\"col_heading level0 col6\" >G</th> \n",
       "    </tr></thead> \n",
       "<tbody>    <tr> \n",
       "        <th id=\"T_d35be704_83a9_11e8_95cd_28cfe9142f7flevel0_row0\" class=\"row_heading level0 row0\" >0</th> \n",
       "        <td id=\"T_d35be704_83a9_11e8_95cd_28cfe9142f7frow0_col0\" class=\"data row0 col0\" >1</td> \n",
       "        <td id=\"T_d35be704_83a9_11e8_95cd_28cfe9142f7frow0_col1\" class=\"data row0 col1\" >1.33159</td> \n",
       "        <td id=\"T_d35be704_83a9_11e8_95cd_28cfe9142f7frow0_col2\" class=\"data row0 col2\" >0.715279</td> \n",
       "        <td id=\"T_d35be704_83a9_11e8_95cd_28cfe9142f7frow0_col3\" class=\"data row0 col3\" >-1.5454</td> \n",
       "        <td id=\"T_d35be704_83a9_11e8_95cd_28cfe9142f7frow0_col4\" class=\"data row0 col4\" >-0.00838385</td> \n",
       "        <td id=\"T_d35be704_83a9_11e8_95cd_28cfe9142f7frow0_col5\" class=\"data row0 col5\" >0.621336</td> \n",
       "        <td id=\"T_d35be704_83a9_11e8_95cd_28cfe9142f7frow0_col6\" class=\"data row0 col6\" >-0.720086</td> \n",
       "    </tr>    <tr> \n",
       "        <th id=\"T_d35be704_83a9_11e8_95cd_28cfe9142f7flevel0_row1\" class=\"row_heading level0 row1\" >1</th> \n",
       "        <td id=\"T_d35be704_83a9_11e8_95cd_28cfe9142f7frow1_col0\" class=\"data row1 col0\" >2</td> \n",
       "        <td id=\"T_d35be704_83a9_11e8_95cd_28cfe9142f7frow1_col1\" class=\"data row1 col1\" >0.265512</td> \n",
       "        <td id=\"T_d35be704_83a9_11e8_95cd_28cfe9142f7frow1_col2\" class=\"data row1 col2\" >0.108549</td> \n",
       "        <td id=\"T_d35be704_83a9_11e8_95cd_28cfe9142f7frow1_col3\" class=\"data row1 col3\" >0.00429143</td> \n",
       "        <td id=\"T_d35be704_83a9_11e8_95cd_28cfe9142f7frow1_col4\" class=\"data row1 col4\" >-0.1746</td> \n",
       "        <td id=\"T_d35be704_83a9_11e8_95cd_28cfe9142f7frow1_col5\" class=\"data row1 col5\" >0.433026</td> \n",
       "        <td id=\"T_d35be704_83a9_11e8_95cd_28cfe9142f7frow1_col6\" class=\"data row1 col6\" >nan</td> \n",
       "    </tr>    <tr> \n",
       "        <th id=\"T_d35be704_83a9_11e8_95cd_28cfe9142f7flevel0_row2\" class=\"row_heading level0 row2\" >2</th> \n",
       "        <td id=\"T_d35be704_83a9_11e8_95cd_28cfe9142f7frow2_col0\" class=\"data row2 col0\" >3</td> \n",
       "        <td id=\"T_d35be704_83a9_11e8_95cd_28cfe9142f7frow2_col1\" class=\"data row2 col1\" >-0.965066</td> \n",
       "        <td id=\"T_d35be704_83a9_11e8_95cd_28cfe9142f7frow2_col2\" class=\"data row2 col2\" >1.02827</td> \n",
       "        <td id=\"T_d35be704_83a9_11e8_95cd_28cfe9142f7frow2_col3\" class=\"data row2 col3\" >0.22863</td> \n",
       "        <td id=\"T_d35be704_83a9_11e8_95cd_28cfe9142f7frow2_col4\" class=\"data row2 col4\" >0.445138</td> \n",
       "        <td id=\"T_d35be704_83a9_11e8_95cd_28cfe9142f7frow2_col5\" class=\"data row2 col5\" >-1.1366</td> \n",
       "        <td id=\"T_d35be704_83a9_11e8_95cd_28cfe9142f7frow2_col6\" class=\"data row2 col6\" >nan</td> \n",
       "    </tr>    <tr> \n",
       "        <th id=\"T_d35be704_83a9_11e8_95cd_28cfe9142f7flevel0_row3\" class=\"row_heading level0 row3\" >3</th> \n",
       "        <td id=\"T_d35be704_83a9_11e8_95cd_28cfe9142f7frow3_col0\" class=\"data row3 col0\" >4</td> \n",
       "        <td id=\"T_d35be704_83a9_11e8_95cd_28cfe9142f7frow3_col1\" class=\"data row3 col1\" >1.48454</td> \n",
       "        <td id=\"T_d35be704_83a9_11e8_95cd_28cfe9142f7frow3_col2\" class=\"data row3 col2\" >-1.0798</td> \n",
       "        <td id=\"T_d35be704_83a9_11e8_95cd_28cfe9142f7frow3_col3\" class=\"data row3 col3\" >-1.97773</td> \n",
       "        <td id=\"T_d35be704_83a9_11e8_95cd_28cfe9142f7frow3_col4\" class=\"data row3 col4\" >-1.74337</td> \n",
       "        <td id=\"T_d35be704_83a9_11e8_95cd_28cfe9142f7frow3_col5\" class=\"data row3 col5\" >0.26607</td> \n",
       "        <td id=\"T_d35be704_83a9_11e8_95cd_28cfe9142f7frow3_col6\" class=\"data row3 col6\" >nan</td> \n",
       "    </tr>    <tr> \n",
       "        <th id=\"T_d35be704_83a9_11e8_95cd_28cfe9142f7flevel0_row4\" class=\"row_heading level0 row4\" >4</th> \n",
       "        <td id=\"T_d35be704_83a9_11e8_95cd_28cfe9142f7frow4_col0\" class=\"data row4 col0\" >5</td> \n",
       "        <td id=\"T_d35be704_83a9_11e8_95cd_28cfe9142f7frow4_col1\" class=\"data row4 col1\" >1.12369</td> \n",
       "        <td id=\"T_d35be704_83a9_11e8_95cd_28cfe9142f7frow4_col2\" class=\"data row4 col2\" >1.67262</td> \n",
       "        <td id=\"T_d35be704_83a9_11e8_95cd_28cfe9142f7frow4_col3\" class=\"data row4 col3\" >0.0991492</td> \n",
       "        <td id=\"T_d35be704_83a9_11e8_95cd_28cfe9142f7frow4_col4\" class=\"data row4 col4\" >1.398</td> \n",
       "        <td id=\"T_d35be704_83a9_11e8_95cd_28cfe9142f7frow4_col5\" class=\"data row4 col5\" >-0.271248</td> \n",
       "        <td id=\"T_d35be704_83a9_11e8_95cd_28cfe9142f7frow4_col6\" class=\"data row4 col6\" >0.613204</td> \n",
       "    </tr>    <tr> \n",
       "        <th id=\"T_d35be704_83a9_11e8_95cd_28cfe9142f7flevel0_row5\" class=\"row_heading level0 row5\" >5</th> \n",
       "        <td id=\"T_d35be704_83a9_11e8_95cd_28cfe9142f7frow5_col0\" class=\"data row5 col0\" >6</td> \n",
       "        <td id=\"T_d35be704_83a9_11e8_95cd_28cfe9142f7frow5_col1\" class=\"data row5 col1\" >-0.267317</td> \n",
       "        <td id=\"T_d35be704_83a9_11e8_95cd_28cfe9142f7frow5_col2\" class=\"data row5 col2\" >-0.549309</td> \n",
       "        <td id=\"T_d35be704_83a9_11e8_95cd_28cfe9142f7frow5_col3\" class=\"data row5 col3\" >0.132708</td> \n",
       "        <td id=\"T_d35be704_83a9_11e8_95cd_28cfe9142f7frow5_col4\" class=\"data row5 col4\" >-0.476142</td> \n",
       "        <td id=\"T_d35be704_83a9_11e8_95cd_28cfe9142f7frow5_col5\" class=\"data row5 col5\" >1.30847</td> \n",
       "        <td id=\"T_d35be704_83a9_11e8_95cd_28cfe9142f7frow5_col6\" class=\"data row5 col6\" >0.195013</td> \n",
       "    </tr>    <tr> \n",
       "        <th id=\"T_d35be704_83a9_11e8_95cd_28cfe9142f7flevel0_row6\" class=\"row_heading level0 row6\" >6</th> \n",
       "        <td id=\"T_d35be704_83a9_11e8_95cd_28cfe9142f7frow6_col0\" class=\"data row6 col0\" >7</td> \n",
       "        <td id=\"T_d35be704_83a9_11e8_95cd_28cfe9142f7frow6_col1\" class=\"data row6 col1\" >0.40021</td> \n",
       "        <td id=\"T_d35be704_83a9_11e8_95cd_28cfe9142f7frow6_col2\" class=\"data row6 col2\" >-0.337632</td> \n",
       "        <td id=\"T_d35be704_83a9_11e8_95cd_28cfe9142f7frow6_col3\" class=\"data row6 col3\" >1.25647</td> \n",
       "        <td id=\"T_d35be704_83a9_11e8_95cd_28cfe9142f7frow6_col4\" class=\"data row6 col4\" >-0.73197</td> \n",
       "        <td id=\"T_d35be704_83a9_11e8_95cd_28cfe9142f7frow6_col5\" class=\"data row6 col5\" >0.660232</td> \n",
       "        <td id=\"T_d35be704_83a9_11e8_95cd_28cfe9142f7frow6_col6\" class=\"data row6 col6\" >-0.350872</td> \n",
       "    </tr>    <tr> \n",
       "        <th id=\"T_d35be704_83a9_11e8_95cd_28cfe9142f7flevel0_row7\" class=\"row_heading level0 row7\" >7</th> \n",
       "        <td id=\"T_d35be704_83a9_11e8_95cd_28cfe9142f7frow7_col0\" class=\"data row7 col0\" >8</td> \n",
       "        <td id=\"T_d35be704_83a9_11e8_95cd_28cfe9142f7frow7_col1\" class=\"data row7 col1\" >-0.939433</td> \n",
       "        <td id=\"T_d35be704_83a9_11e8_95cd_28cfe9142f7frow7_col2\" class=\"data row7 col2\" >-0.489337</td> \n",
       "        <td id=\"T_d35be704_83a9_11e8_95cd_28cfe9142f7frow7_col3\" class=\"data row7 col3\" >-0.804591</td> \n",
       "        <td id=\"T_d35be704_83a9_11e8_95cd_28cfe9142f7frow7_col4\" class=\"data row7 col4\" >-0.212698</td> \n",
       "        <td id=\"T_d35be704_83a9_11e8_95cd_28cfe9142f7frow7_col5\" class=\"data row7 col5\" >-0.33914</td> \n",
       "        <td id=\"T_d35be704_83a9_11e8_95cd_28cfe9142f7frow7_col6\" class=\"data row7 col6\" >0.31217</td> \n",
       "    </tr>    <tr> \n",
       "        <th id=\"T_d35be704_83a9_11e8_95cd_28cfe9142f7flevel0_row8\" class=\"row_heading level0 row8\" >8</th> \n",
       "        <td id=\"T_d35be704_83a9_11e8_95cd_28cfe9142f7frow8_col0\" class=\"data row8 col0\" >9</td> \n",
       "        <td id=\"T_d35be704_83a9_11e8_95cd_28cfe9142f7frow8_col1\" class=\"data row8 col1\" >0.565153</td> \n",
       "        <td id=\"T_d35be704_83a9_11e8_95cd_28cfe9142f7frow8_col2\" class=\"data row8 col2\" >-0.14742</td> \n",
       "        <td id=\"T_d35be704_83a9_11e8_95cd_28cfe9142f7frow8_col3\" class=\"data row8 col3\" >-0.0259053</td> \n",
       "        <td id=\"T_d35be704_83a9_11e8_95cd_28cfe9142f7frow8_col4\" class=\"data row8 col4\" >0.289094</td> \n",
       "        <td id=\"T_d35be704_83a9_11e8_95cd_28cfe9142f7frow8_col5\" class=\"data row8 col5\" >-0.539879</td> \n",
       "        <td id=\"T_d35be704_83a9_11e8_95cd_28cfe9142f7frow8_col6\" class=\"data row8 col6\" >0.70816</td> \n",
       "    </tr>    <tr> \n",
       "        <th id=\"T_d35be704_83a9_11e8_95cd_28cfe9142f7flevel0_row9\" class=\"row_heading level0 row9\" >9</th> \n",
       "        <td id=\"T_d35be704_83a9_11e8_95cd_28cfe9142f7frow9_col0\" class=\"data row9 col0\" >10</td> \n",
       "        <td id=\"T_d35be704_83a9_11e8_95cd_28cfe9142f7frow9_col1\" class=\"data row9 col1\" >nan</td> \n",
       "        <td id=\"T_d35be704_83a9_11e8_95cd_28cfe9142f7frow9_col2\" class=\"data row9 col2\" >nan</td> \n",
       "        <td id=\"T_d35be704_83a9_11e8_95cd_28cfe9142f7frow9_col3\" class=\"data row9 col3\" >nan</td> \n",
       "        <td id=\"T_d35be704_83a9_11e8_95cd_28cfe9142f7frow9_col4\" class=\"data row9 col4\" >nan</td> \n",
       "        <td id=\"T_d35be704_83a9_11e8_95cd_28cfe9142f7frow9_col5\" class=\"data row9 col5\" >nan</td> \n",
       "        <td id=\"T_d35be704_83a9_11e8_95cd_28cfe9142f7frow9_col6\" class=\"data row9 col6\" >nan</td> \n",
       "    </tr></tbody> \n",
       "</table> "
      ],
      "text/plain": [
       "<pandas.io.formats.style.Styler at 0x10d4d4940>"
      ]
     },
     "execution_count": 3,
     "metadata": {},
     "output_type": "execute_result"
    }
   ],
   "source": [
    "df.head()\n",
    "\n",
    "df.style"
   ]
  },
  {
   "cell_type": "code",
   "execution_count": 4,
   "metadata": {},
   "outputs": [],
   "source": [
    "url = 'testChart.csv' #ask leah why commas show?\n",
    "\n",
    "df = pd.read_table(url, sep='\\s+', header=None, names=['First', 'Second', 'Third']) \n",
    "\n",
    "#use \\t instead if only want to separate first column\n",
    "#header=0 to get rid of first line"
   ]
  },
  {
   "cell_type": "code",
   "execution_count": 5,
   "metadata": {},
   "outputs": [
    {
     "data": {
      "text/html": [
       "<style  type=\"text/css\" >\n",
       "</style>  \n",
       "<table id=\"T_d3e569c0_83a9_11e8_95cd_28cfe9142f7f\" > \n",
       "<thead>    <tr> \n",
       "        <th class=\"blank level0\" ></th> \n",
       "        <th class=\"col_heading level0 col0\" >First</th> \n",
       "        <th class=\"col_heading level0 col1\" >Second</th> \n",
       "        <th class=\"col_heading level0 col2\" >Third</th> \n",
       "    </tr></thead> \n",
       "<tbody>    <tr> \n",
       "        <th id=\"T_d3e569c0_83a9_11e8_95cd_28cfe9142f7flevel0_row0\" class=\"row_heading level0 row0\" >0</th> \n",
       "        <td id=\"T_d3e569c0_83a9_11e8_95cd_28cfe9142f7frow0_col0\" class=\"data row0 col0\" >1,</td> \n",
       "        <td id=\"T_d3e569c0_83a9_11e8_95cd_28cfe9142f7frow0_col1\" class=\"data row0 col1\" >2,</td> \n",
       "        <td id=\"T_d3e569c0_83a9_11e8_95cd_28cfe9142f7frow0_col2\" class=\"data row0 col2\" >3</td> \n",
       "    </tr>    <tr> \n",
       "        <th id=\"T_d3e569c0_83a9_11e8_95cd_28cfe9142f7flevel0_row1\" class=\"row_heading level0 row1\" >1</th> \n",
       "        <td id=\"T_d3e569c0_83a9_11e8_95cd_28cfe9142f7frow1_col0\" class=\"data row1 col0\" >A,</td> \n",
       "        <td id=\"T_d3e569c0_83a9_11e8_95cd_28cfe9142f7frow1_col1\" class=\"data row1 col1\" >B,</td> \n",
       "        <td id=\"T_d3e569c0_83a9_11e8_95cd_28cfe9142f7frow1_col2\" class=\"data row1 col2\" >C</td> \n",
       "    </tr>    <tr> \n",
       "        <th id=\"T_d3e569c0_83a9_11e8_95cd_28cfe9142f7flevel0_row2\" class=\"row_heading level0 row2\" >2</th> \n",
       "        <td id=\"T_d3e569c0_83a9_11e8_95cd_28cfe9142f7frow2_col0\" class=\"data row2 col0\" >X,</td> \n",
       "        <td id=\"T_d3e569c0_83a9_11e8_95cd_28cfe9142f7frow2_col1\" class=\"data row2 col1\" >Y,</td> \n",
       "        <td id=\"T_d3e569c0_83a9_11e8_95cd_28cfe9142f7frow2_col2\" class=\"data row2 col2\" >Z</td> \n",
       "    </tr></tbody> \n",
       "</table> "
      ],
      "text/plain": [
       "<pandas.io.formats.style.Styler at 0x10d68c940>"
      ]
     },
     "execution_count": 5,
     "metadata": {},
     "output_type": "execute_result"
    }
   ],
   "source": [
    "df.head()\n",
    "\n",
    "df.style"
   ]
  },
  {
   "cell_type": "code",
   "execution_count": 6,
   "metadata": {},
   "outputs": [
    {
     "data": {
      "text/html": [
       "<style  type=\"text/css\" >\n",
       "</style>  \n",
       "<table id=\"T_d4332fca_83a9_11e8_95cd_28cfe9142f7f\" > \n",
       "<thead>    <tr> \n",
       "        <th class=\"blank level0\" ></th> \n",
       "        <th class=\"col_heading level0 col0\" >Jan</th> \n",
       "        <th class=\"col_heading level0 col1\" >Feb</th> \n",
       "        <th class=\"col_heading level0 col2\" >Mar</th> \n",
       "    </tr></thead> \n",
       "<tbody>    <tr> \n",
       "        <th id=\"T_d4332fca_83a9_11e8_95cd_28cfe9142f7flevel0_row0\" class=\"row_heading level0 row0\" >0</th> \n",
       "        <td id=\"T_d4332fca_83a9_11e8_95cd_28cfe9142f7frow0_col0\" class=\"data row0 col0\" >150</td> \n",
       "        <td id=\"T_d4332fca_83a9_11e8_95cd_28cfe9142f7frow0_col1\" class=\"data row0 col1\" >200</td> \n",
       "        <td id=\"T_d4332fca_83a9_11e8_95cd_28cfe9142f7frow0_col2\" class=\"data row0 col2\" >50</td> \n",
       "    </tr>    <tr> \n",
       "        <th id=\"T_d4332fca_83a9_11e8_95cd_28cfe9142f7flevel0_row1\" class=\"row_heading level0 row1\" >1</th> \n",
       "        <td id=\"T_d4332fca_83a9_11e8_95cd_28cfe9142f7frow1_col0\" class=\"data row1 col0\" >nan</td> \n",
       "        <td id=\"T_d4332fca_83a9_11e8_95cd_28cfe9142f7frow1_col1\" class=\"data row1 col1\" >nan</td> \n",
       "        <td id=\"T_d4332fca_83a9_11e8_95cd_28cfe9142f7frow1_col2\" class=\"data row1 col2\" >nan</td> \n",
       "    </tr>    <tr> \n",
       "        <th id=\"T_d4332fca_83a9_11e8_95cd_28cfe9142f7flevel0_row2\" class=\"row_heading level0 row2\" >2</th> \n",
       "        <td id=\"T_d4332fca_83a9_11e8_95cd_28cfe9142f7frow2_col0\" class=\"data row2 col0\" >140</td> \n",
       "        <td id=\"T_d4332fca_83a9_11e8_95cd_28cfe9142f7frow2_col1\" class=\"data row2 col1\" >215</td> \n",
       "        <td id=\"T_d4332fca_83a9_11e8_95cd_28cfe9142f7frow2_col2\" class=\"data row2 col2\" >95</td> \n",
       "    </tr>    <tr> \n",
       "        <th id=\"T_d4332fca_83a9_11e8_95cd_28cfe9142f7flevel0_row3\" class=\"row_heading level0 row3\" >3</th> \n",
       "        <td id=\"T_d4332fca_83a9_11e8_95cd_28cfe9142f7frow3_col0\" class=\"data row3 col0\" >123</td> \n",
       "        <td id=\"T_d4332fca_83a9_11e8_95cd_28cfe9142f7frow3_col1\" class=\"data row3 col1\" >345</td> \n",
       "        <td id=\"T_d4332fca_83a9_11e8_95cd_28cfe9142f7frow3_col2\" class=\"data row3 col2\" >567</td> \n",
       "    </tr></tbody> \n",
       "</table> "
      ],
      "text/plain": [
       "<pandas.io.formats.style.Styler at 0x10d695748>"
      ]
     },
     "execution_count": 6,
     "metadata": {},
     "output_type": "execute_result"
    }
   ],
   "source": [
    "#http://pbpython.com/pandas-list-dict.html\n",
    "sales = [(150, 200, 50),\n",
    "         (200, 210, 90),\n",
    "         (140, 215, 95)]\n",
    "labels = ['Jan', 'Feb', 'Mar']\n",
    "\n",
    "sales.append((123, 345, 567))\n",
    "\n",
    "df = pd.DataFrame.from_records(sales, columns=labels)\n",
    "\n",
    "df.iloc[1] = np.nan\n",
    "\n",
    "df.head\n",
    "df.style"
   ]
  },
  {
   "cell_type": "code",
   "execution_count": 7,
   "metadata": {},
   "outputs": [],
   "source": [
    "import plotly.graph_objs as go\n",
    "import plotly.offline as py\n",
    "from plotly.offline import init_notebook_mode, iplot\n",
    "import plotly.tools as tls\n",
    "from matplotlib.backends.backend_agg import FigureCanvasAgg as FigureCanvas\n",
    "from IPython.display import HTML\n",
    "import random\n",
    "%matplotlib inline\n",
    "import matplotlib as mpl\n",
    "import numpy as np\n",
    "import matplotlib.pyplot as plt \n",
    "import IPython\n",
    "from IPython import display \n",
    "from ipywidgets import widgets\n",
    "from ipywidgets import interactive\n",
    "import warnings\n",
    "warnings.filterwarnings(\"ignore\")"
   ]
  },
  {
   "cell_type": "code",
   "execution_count": 8,
   "metadata": {},
   "outputs": [
    {
     "ename": "ValueError",
     "evalue": "arrays must all be same length",
     "output_type": "error",
     "traceback": [
      "\u001b[0;31m---------------------------------------------------------------------------\u001b[0m",
      "\u001b[0;31mValueError\u001b[0m                                Traceback (most recent call last)",
      "\u001b[0;32m<ipython-input-8-8c9557f8ba61>\u001b[0m in \u001b[0;36m<module>\u001b[0;34m()\u001b[0m\n\u001b[0;32m----> 1\u001b[0;31m \u001b[0mdf\u001b[0m \u001b[0;34m=\u001b[0m \u001b[0mpd\u001b[0m\u001b[0;34m.\u001b[0m\u001b[0mDataFrame\u001b[0m\u001b[0;34m(\u001b[0m\u001b[0;34m{\u001b[0m\u001b[0;34m'sales'\u001b[0m\u001b[0;34m:\u001b[0m \u001b[0msales\u001b[0m\u001b[0;34m,\u001b[0m \u001b[0;34m'labels'\u001b[0m\u001b[0;34m:\u001b[0m \u001b[0mlabels\u001b[0m\u001b[0;34m}\u001b[0m\u001b[0;34m)\u001b[0m\u001b[0;34m\u001b[0m\u001b[0m\n\u001b[0m\u001b[1;32m      2\u001b[0m \u001b[0;34m\u001b[0m\u001b[0m\n\u001b[1;32m      3\u001b[0m data = [\n\u001b[1;32m      4\u001b[0m     go.Scatter(\n\u001b[1;32m      5\u001b[0m         \u001b[0mx\u001b[0m\u001b[0;34m=\u001b[0m\u001b[0mdf\u001b[0m\u001b[0;34m[\u001b[0m\u001b[0;34m'labels'\u001b[0m\u001b[0;34m]\u001b[0m\u001b[0;34m,\u001b[0m \u001b[0;31m# assign x as the dataframe column 'x'\u001b[0m\u001b[0;34m\u001b[0m\u001b[0m\n",
      "\u001b[0;32m/Library/Frameworks/Python.framework/Versions/3.7/lib/python3.7/site-packages/pandas/core/frame.py\u001b[0m in \u001b[0;36m__init__\u001b[0;34m(self, data, index, columns, dtype, copy)\u001b[0m\n\u001b[1;32m    346\u001b[0m                                  dtype=dtype, copy=copy)\n\u001b[1;32m    347\u001b[0m         \u001b[0;32melif\u001b[0m \u001b[0misinstance\u001b[0m\u001b[0;34m(\u001b[0m\u001b[0mdata\u001b[0m\u001b[0;34m,\u001b[0m \u001b[0mdict\u001b[0m\u001b[0;34m)\u001b[0m\u001b[0;34m:\u001b[0m\u001b[0;34m\u001b[0m\u001b[0m\n\u001b[0;32m--> 348\u001b[0;31m             \u001b[0mmgr\u001b[0m \u001b[0;34m=\u001b[0m \u001b[0mself\u001b[0m\u001b[0;34m.\u001b[0m\u001b[0m_init_dict\u001b[0m\u001b[0;34m(\u001b[0m\u001b[0mdata\u001b[0m\u001b[0;34m,\u001b[0m \u001b[0mindex\u001b[0m\u001b[0;34m,\u001b[0m \u001b[0mcolumns\u001b[0m\u001b[0;34m,\u001b[0m \u001b[0mdtype\u001b[0m\u001b[0;34m=\u001b[0m\u001b[0mdtype\u001b[0m\u001b[0;34m)\u001b[0m\u001b[0;34m\u001b[0m\u001b[0m\n\u001b[0m\u001b[1;32m    349\u001b[0m         \u001b[0;32melif\u001b[0m \u001b[0misinstance\u001b[0m\u001b[0;34m(\u001b[0m\u001b[0mdata\u001b[0m\u001b[0;34m,\u001b[0m \u001b[0mma\u001b[0m\u001b[0;34m.\u001b[0m\u001b[0mMaskedArray\u001b[0m\u001b[0;34m)\u001b[0m\u001b[0;34m:\u001b[0m\u001b[0;34m\u001b[0m\u001b[0m\n\u001b[1;32m    350\u001b[0m             \u001b[0;32mimport\u001b[0m \u001b[0mnumpy\u001b[0m\u001b[0;34m.\u001b[0m\u001b[0mma\u001b[0m\u001b[0;34m.\u001b[0m\u001b[0mmrecords\u001b[0m \u001b[0;32mas\u001b[0m \u001b[0mmrecords\u001b[0m\u001b[0;34m\u001b[0m\u001b[0m\n",
      "\u001b[0;32m/Library/Frameworks/Python.framework/Versions/3.7/lib/python3.7/site-packages/pandas/core/frame.py\u001b[0m in \u001b[0;36m_init_dict\u001b[0;34m(self, data, index, columns, dtype)\u001b[0m\n\u001b[1;32m    457\u001b[0m             \u001b[0marrays\u001b[0m \u001b[0;34m=\u001b[0m \u001b[0;34m[\u001b[0m\u001b[0mdata\u001b[0m\u001b[0;34m[\u001b[0m\u001b[0mk\u001b[0m\u001b[0;34m]\u001b[0m \u001b[0;32mfor\u001b[0m \u001b[0mk\u001b[0m \u001b[0;32min\u001b[0m \u001b[0mkeys\u001b[0m\u001b[0;34m]\u001b[0m\u001b[0;34m\u001b[0m\u001b[0m\n\u001b[1;32m    458\u001b[0m \u001b[0;34m\u001b[0m\u001b[0m\n\u001b[0;32m--> 459\u001b[0;31m         \u001b[0;32mreturn\u001b[0m \u001b[0m_arrays_to_mgr\u001b[0m\u001b[0;34m(\u001b[0m\u001b[0marrays\u001b[0m\u001b[0;34m,\u001b[0m \u001b[0mdata_names\u001b[0m\u001b[0;34m,\u001b[0m \u001b[0mindex\u001b[0m\u001b[0;34m,\u001b[0m \u001b[0mcolumns\u001b[0m\u001b[0;34m,\u001b[0m \u001b[0mdtype\u001b[0m\u001b[0;34m=\u001b[0m\u001b[0mdtype\u001b[0m\u001b[0;34m)\u001b[0m\u001b[0;34m\u001b[0m\u001b[0m\n\u001b[0m\u001b[1;32m    460\u001b[0m \u001b[0;34m\u001b[0m\u001b[0m\n\u001b[1;32m    461\u001b[0m     \u001b[0;32mdef\u001b[0m \u001b[0m_init_ndarray\u001b[0m\u001b[0;34m(\u001b[0m\u001b[0mself\u001b[0m\u001b[0;34m,\u001b[0m \u001b[0mvalues\u001b[0m\u001b[0;34m,\u001b[0m \u001b[0mindex\u001b[0m\u001b[0;34m,\u001b[0m \u001b[0mcolumns\u001b[0m\u001b[0;34m,\u001b[0m \u001b[0mdtype\u001b[0m\u001b[0;34m=\u001b[0m\u001b[0;32mNone\u001b[0m\u001b[0;34m,\u001b[0m \u001b[0mcopy\u001b[0m\u001b[0;34m=\u001b[0m\u001b[0;32mFalse\u001b[0m\u001b[0;34m)\u001b[0m\u001b[0;34m:\u001b[0m\u001b[0;34m\u001b[0m\u001b[0m\n",
      "\u001b[0;32m/Library/Frameworks/Python.framework/Versions/3.7/lib/python3.7/site-packages/pandas/core/frame.py\u001b[0m in \u001b[0;36m_arrays_to_mgr\u001b[0;34m(arrays, arr_names, index, columns, dtype)\u001b[0m\n\u001b[1;32m   7354\u001b[0m     \u001b[0;31m# figure out the index, if necessary\u001b[0m\u001b[0;34m\u001b[0m\u001b[0;34m\u001b[0m\u001b[0m\n\u001b[1;32m   7355\u001b[0m     \u001b[0;32mif\u001b[0m \u001b[0mindex\u001b[0m \u001b[0;32mis\u001b[0m \u001b[0;32mNone\u001b[0m\u001b[0;34m:\u001b[0m\u001b[0;34m\u001b[0m\u001b[0m\n\u001b[0;32m-> 7356\u001b[0;31m         \u001b[0mindex\u001b[0m \u001b[0;34m=\u001b[0m \u001b[0mextract_index\u001b[0m\u001b[0;34m(\u001b[0m\u001b[0marrays\u001b[0m\u001b[0;34m)\u001b[0m\u001b[0;34m\u001b[0m\u001b[0m\n\u001b[0m\u001b[1;32m   7357\u001b[0m \u001b[0;34m\u001b[0m\u001b[0m\n\u001b[1;32m   7358\u001b[0m     \u001b[0;31m# don't force copy because getting jammed in an ndarray anyway\u001b[0m\u001b[0;34m\u001b[0m\u001b[0;34m\u001b[0m\u001b[0m\n",
      "\u001b[0;32m/Library/Frameworks/Python.framework/Versions/3.7/lib/python3.7/site-packages/pandas/core/frame.py\u001b[0m in \u001b[0;36mextract_index\u001b[0;34m(data)\u001b[0m\n\u001b[1;32m   7400\u001b[0m             \u001b[0mlengths\u001b[0m \u001b[0;34m=\u001b[0m \u001b[0mlist\u001b[0m\u001b[0;34m(\u001b[0m\u001b[0mset\u001b[0m\u001b[0;34m(\u001b[0m\u001b[0mraw_lengths\u001b[0m\u001b[0;34m)\u001b[0m\u001b[0;34m)\u001b[0m\u001b[0;34m\u001b[0m\u001b[0m\n\u001b[1;32m   7401\u001b[0m             \u001b[0;32mif\u001b[0m \u001b[0mlen\u001b[0m\u001b[0;34m(\u001b[0m\u001b[0mlengths\u001b[0m\u001b[0;34m)\u001b[0m \u001b[0;34m>\u001b[0m \u001b[0;36m1\u001b[0m\u001b[0;34m:\u001b[0m\u001b[0;34m\u001b[0m\u001b[0m\n\u001b[0;32m-> 7402\u001b[0;31m                 \u001b[0;32mraise\u001b[0m \u001b[0mValueError\u001b[0m\u001b[0;34m(\u001b[0m\u001b[0;34m'arrays must all be same length'\u001b[0m\u001b[0;34m)\u001b[0m\u001b[0;34m\u001b[0m\u001b[0m\n\u001b[0m\u001b[1;32m   7403\u001b[0m \u001b[0;34m\u001b[0m\u001b[0m\n\u001b[1;32m   7404\u001b[0m             \u001b[0;32mif\u001b[0m \u001b[0mhave_dicts\u001b[0m\u001b[0;34m:\u001b[0m\u001b[0;34m\u001b[0m\u001b[0m\n",
      "\u001b[0;31mValueError\u001b[0m: arrays must all be same length"
     ]
    }
   ],
   "source": [
    "df = pd.DataFrame({'sales': sales, 'labels': labels})\n",
    "\n",
    "data = [\n",
    "    go.Scatter(\n",
    "        x=df['labels'], # assign x as the dataframe column 'x'\n",
    "        y=df['sales']\n",
    "    )\n",
    "]\n",
    "# IPython notebook\n",
    "# py.iplot(data, filename='pandas/basic-line-plot')\n",
    "\n",
    "url = py.plot(data, filename='pandas/basic-line-plot')"
   ]
  },
  {
   "cell_type": "code",
   "execution_count": null,
   "metadata": {},
   "outputs": [],
   "source": []
  }
 ],
 "metadata": {
  "kernelspec": {
   "display_name": "Python 3",
   "language": "python",
   "name": "python3"
  },
  "language_info": {
   "codemirror_mode": {
    "name": "ipython",
    "version": 3
   },
   "file_extension": ".py",
   "mimetype": "text/x-python",
   "name": "python",
   "nbconvert_exporter": "python",
   "pygments_lexer": "ipython3",
   "version": "3.7.0"
  }
 },
 "nbformat": 4,
 "nbformat_minor": 2
}
